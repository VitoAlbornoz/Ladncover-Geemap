{
 "cells": [
  {
   "cell_type": "markdown",
   "id": "880edeb3",
   "metadata": {
    "tags": []
   },
   "source": [
    "# Mosaico 2021 C2"
   ]
  },
  {
   "cell_type": "markdown",
   "id": "6f9b998a",
   "metadata": {},
   "source": [
    "Script trabajado por Francisco Albornoz/ \n",
    "Objetivo:   - Mejorar la temporalidad de los mosaicos.\n",
    "            - Usar la colección corregida.\n",
    "            "
   ]
  },
  {
   "cell_type": "markdown",
   "id": "f8f94a76",
   "metadata": {},
   "source": [
    "2022-03-31"
   ]
  },
  {
   "cell_type": "markdown",
   "id": "4a95b5bb",
   "metadata": {},
   "source": [
    "## Librerías"
   ]
  },
  {
   "cell_type": "code",
   "execution_count": 1,
   "id": "ce6c4698",
   "metadata": {
    "ExecuteTime": {
     "end_time": "2022-08-30T19:53:05.972710Z",
     "start_time": "2022-08-30T19:53:04.351958Z"
    }
   },
   "outputs": [],
   "source": [
    "import ee \n",
    "import geemap\n",
    "import geemap.chart as chart\n",
    "import os\n",
    "import folium\n",
    "# import xarray_leaflet\n",
    "import rasterio \n",
    "from rasterio import plot\n",
    "import matplotlib.pyplot as plt\n",
    "import numpy as np\n",
    "import pandas as pd\n",
    "import seaborn as sns\n",
    "from scipy import stats\n",
    "from scipy.stats import pearsonr\n",
    "%matplotlib inline"
   ]
  },
  {
   "cell_type": "code",
   "execution_count": 2,
   "id": "8a191949",
   "metadata": {
    "ExecuteTime": {
     "end_time": "2022-08-30T19:53:15.386049Z",
     "start_time": "2022-08-30T19:53:05.974469Z"
    }
   },
   "outputs": [],
   "source": [
    "Map = geemap.Map(center = [-45, -70], zoom = 4)\n",
    "Map1 = geemap.Map(center = [-45, -70], zoom = 4)\n",
    "Map2 = geemap.Map(center = [-45, -70], zoom = 4)\n",
    "Map3 = geemap.Map(center = [-45, -70], zoom = 4)\n",
    "Map4 = geemap.Map(center = [-45, -70], zoom = 4)\n",
    "Map5 = geemap.Map(center = [-45, -70], zoom = 4)\n",
    "Map6 = geemap.Map(center = [-45, -70], zoom = 4)\n",
    "Map7 = geemap.Map(center = [-45, -70], zoom = 4)\n",
    "Map8 = geemap.Map(center = [-45, -70], zoom = 4)\n",
    "Map9 = geemap.Map(center = [-45, -70], zoom = 4)\n",
    "Map10 = geemap.Map(center = [-45, -70], zoom = 4)"
   ]
  },
  {
   "cell_type": "markdown",
   "id": "804e19a0",
   "metadata": {},
   "source": [
    "## Área de Estudio"
   ]
  },
  {
   "cell_type": "code",
   "execution_count": 3,
   "id": "d29d73bf",
   "metadata": {
    "ExecuteTime": {
     "end_time": "2022-08-30T19:53:15.614904Z",
     "start_time": "2022-08-30T19:53:15.387227Z"
    }
   },
   "outputs": [],
   "source": [
    "work_dir = os.path.expanduser('../Data/')\n",
    "patagonia = os.path.join(work_dir, 'patagonia_geo.shp')\n",
    "patagonia_grande = geemap.shp_to_ee(patagonia)"
   ]
  },
  {
   "cell_type": "markdown",
   "id": "7906a05e",
   "metadata": {},
   "source": [
    "## Funciones"
   ]
  },
  {
   "cell_type": "markdown",
   "id": "d279e816",
   "metadata": {},
   "source": [
    "### Visualizaciones"
   ]
  },
  {
   "cell_type": "code",
   "execution_count": 4,
   "id": "44a13bcf",
   "metadata": {
    "ExecuteTime": {
     "end_time": "2022-08-30T19:53:16.552961Z",
     "start_time": "2022-08-30T19:53:15.616515Z"
    }
   },
   "outputs": [],
   "source": [
    "import geemap.colormaps as cm"
   ]
  },
  {
   "cell_type": "code",
   "execution_count": 5,
   "id": "767439f1",
   "metadata": {
    "ExecuteTime": {
     "end_time": "2022-08-30T19:53:16.556979Z",
     "start_time": "2022-08-30T19:53:16.554267Z"
    }
   },
   "outputs": [],
   "source": [
    "color_ndvi = cm.palettes.ndvi\n",
    "color_ndwi = cm.palettes.ndwi\n",
    "color_terrain = cm.palettes.terrain\n",
    "color_glaciar = cm.palettes.PuBuGn_r\n",
    "color_nubes = cm.palettes.inferno"
   ]
  },
  {
   "cell_type": "code",
   "execution_count": 6,
   "id": "40d7a38c",
   "metadata": {
    "ExecuteTime": {
     "end_time": "2022-08-30T19:53:16.560989Z",
     "start_time": "2022-08-30T19:53:16.558094Z"
    }
   },
   "outputs": [],
   "source": [
    "vizParams = {\n",
    "  'bands': ['B5', 'B4', 'B3'],\n",
    "  'min': 0,\n",
    "  'max': 0.5,\n",
    "  'gamma': [0.95, 1.1, 1]\n",
    "}"
   ]
  },
  {
   "cell_type": "code",
   "execution_count": 7,
   "id": "bba4e83e",
   "metadata": {
    "ExecuteTime": {
     "end_time": "2022-08-30T19:53:16.563924Z",
     "start_time": "2022-08-30T19:53:16.562102Z"
    }
   },
   "outputs": [],
   "source": [
    "vizParams_m = {\n",
    "  'bands': ['B5', 'B4', 'B3'],\n",
    "  'min': 0,\n",
    "  'max': 0.6,\n",
    "  'gamma': [1, 1, 1]\n",
    "}"
   ]
  },
  {
   "cell_type": "code",
   "execution_count": 8,
   "id": "425e9acb",
   "metadata": {
    "ExecuteTime": {
     "end_time": "2022-08-30T19:53:16.567723Z",
     "start_time": "2022-08-30T19:53:16.565166Z"
    }
   },
   "outputs": [],
   "source": [
    "vis_nieve = {\n",
    "  'bands': ['B6', 'B4', 'B3'],\n",
    "  'min': 0,\n",
    "  'max': 0.5,\n",
    "  'gamma': [0.95, 1.1, 1]\n",
    "}"
   ]
  },
  {
   "cell_type": "markdown",
   "id": "280c0953",
   "metadata": {},
   "source": [
    "### Factores"
   ]
  },
  {
   "cell_type": "code",
   "execution_count": 9,
   "id": "deafb70d",
   "metadata": {
    "ExecuteTime": {
     "end_time": "2022-08-30T19:53:16.571140Z",
     "start_time": "2022-08-30T19:53:16.568925Z"
    }
   },
   "outputs": [],
   "source": [
    "def addDate(image):\n",
    "    img_date = ee.Date(image.date())\n",
    "    img_date = ee.Number.parse(img_date.format('YYYYMM'))\n",
    "    return image.addBands(ee.Image(img_date).rename('date').toInt())"
   ]
  },
  {
   "cell_type": "code",
   "execution_count": 10,
   "id": "2b58f0e6",
   "metadata": {
    "ExecuteTime": {
     "end_time": "2022-08-30T19:53:16.575902Z",
     "start_time": "2022-08-30T19:53:16.573844Z"
    }
   },
   "outputs": [],
   "source": [
    "def ScaleFactors(image):\n",
    "    opticalBands = image.select('SR_B.').multiply(0.0000275).add(-0.2)\n",
    "    return image.addBands(opticalBands, None, True)"
   ]
  },
  {
   "cell_type": "code",
   "execution_count": 11,
   "id": "840b2004",
   "metadata": {
    "ExecuteTime": {
     "end_time": "2022-08-30T19:53:16.579918Z",
     "start_time": "2022-08-30T19:53:16.577242Z"
    }
   },
   "outputs": [],
   "source": [
    "def add_ee_layer(self, ee_image_object, vis_params, name):\n",
    "  map_id_dict = ee.Image(ee_image_object).getMapId(vis_params)\n",
    "  folium.raster_layers.TileLayer(\n",
    "      tiles=map_id_dict['tile_fetcher'].url_format,\n",
    "      attr='Map Data &copy; <a href=\"https://earthengine.google.com/\">Google Earth Engine</a>',\n",
    "      name=name,\n",
    "      overlay=True,\n",
    "      control=True\n",
    "  ).add_to(self)\n",
    "\n",
    "folium.Map.add_ee_layer = add_ee_layer"
   ]
  },
  {
   "cell_type": "code",
   "execution_count": 12,
   "id": "2d57872a",
   "metadata": {
    "ExecuteTime": {
     "end_time": "2022-08-30T19:53:16.583106Z",
     "start_time": "2022-08-30T19:53:16.581043Z"
    }
   },
   "outputs": [],
   "source": [
    "def rename(image):\n",
    "    bandas = (['B1', 'B2', 'B3', 'B4', \n",
    "                           'B5', 'B6', 'B7', 'SR_QA_AEROSOL', \n",
    "                           'B10', 'ST_ATRAN', 'ST_CDIST', 'ST_DRAD', \n",
    "                           'ST_EMIS', 'ST_EMSD', 'ST_QA', 'ST_TRAD', \n",
    "                           'ST_URAD', 'QA_PIXEL', 'QA_RADSAT'])\n",
    "    return image.rename(bandas)"
   ]
  },
  {
   "cell_type": "markdown",
   "id": "0a697690",
   "metadata": {},
   "source": [
    "### Índices"
   ]
  },
  {
   "cell_type": "markdown",
   "id": "55d23709",
   "metadata": {},
   "source": [
    "<<<< 1) Normalized vegetation Index >>>> \n",
    "\n",
    "\n",
    "NDVI = (NIR - RED)/(NIR + RED) | Rouse et al."
   ]
  },
  {
   "cell_type": "code",
   "execution_count": 13,
   "id": "efd47bb1",
   "metadata": {
    "ExecuteTime": {
     "end_time": "2022-08-30T19:53:16.586378Z",
     "start_time": "2022-08-30T19:53:16.584561Z"
    }
   },
   "outputs": [],
   "source": [
    "def addNDVI(image): \n",
    "    ndvi = image.normalizedDifference(['B5', 'B4']).rename('NDVI')\n",
    "    return image.addBands(ndvi)"
   ]
  },
  {
   "cell_type": "markdown",
   "id": "168e05c7",
   "metadata": {},
   "source": [
    "<<<< 2) Enhanced Vegetation Index >>>>\n",
    "\n",
    "\n",
    "EVI = 2,5 * ((NIR - RED)/(NIR + 6 * RED - 7,5 * BLUE + 1))   |               Liu & Huete "
   ]
  },
  {
   "cell_type": "code",
   "execution_count": 14,
   "id": "6ba4f3ae",
   "metadata": {
    "ExecuteTime": {
     "end_time": "2022-08-30T19:53:16.589907Z",
     "start_time": "2022-08-30T19:53:16.587616Z"
    }
   },
   "outputs": [],
   "source": [
    "def addEVI(image):\n",
    "    evi = image.expression(\n",
    "        '2.5*((b5 - b4)/(b5 + 6*b4 - 7.5*b2 + 1))', {\n",
    "            'b2':image.select('B2'),\n",
    "            'b4':image.select('B4'),\n",
    "            'b5':image.select('B5')\n",
    "        }) \n",
    "    evi = evi.rename('EVI')\n",
    "    return image.addBands(evi)"
   ]
  },
  {
   "cell_type": "markdown",
   "id": "c26aea67",
   "metadata": {},
   "source": [
    "<<<< 3) Soil adjusted vegetation Index >>>>\n",
    "\n",
    "SAVI = ((NIR - RED)/(NIR + RED + 0,5 )) * (1,5)    |   Huete"
   ]
  },
  {
   "cell_type": "code",
   "execution_count": 15,
   "id": "2417d9dd",
   "metadata": {
    "ExecuteTime": {
     "end_time": "2022-08-30T19:53:16.593021Z",
     "start_time": "2022-08-30T19:53:16.591023Z"
    }
   },
   "outputs": [],
   "source": [
    "def addSAVI(image):\n",
    "    savi = image.expression(\n",
    "        '((b5 - b4)/(b5 + b4 + 0.5))*1.5', {\n",
    "            'b4':image.select('B4'),\n",
    "            'b5':image.select('B5')\n",
    "        }) \n",
    "    savi= savi.rename('SAVI')\n",
    "    return image.addBands(savi)"
   ]
  },
  {
   "cell_type": "markdown",
   "id": "e00f3f0c",
   "metadata": {},
   "source": [
    "<<<< 4) Modified Soil adjusted vegetation Index >>>>\n",
    "\n",
    "\n",
    "MSAVI2 = (2 * NIR + 1 - SQRT((2 * NIR +1)^2 - 8 * (NIR - RED)))/2   | Qi et al"
   ]
  },
  {
   "cell_type": "code",
   "execution_count": 16,
   "id": "62f34866",
   "metadata": {
    "ExecuteTime": {
     "end_time": "2022-08-30T19:53:16.596398Z",
     "start_time": "2022-08-30T19:53:16.594518Z"
    }
   },
   "outputs": [],
   "source": [
    "def addMSAVI2(image):\n",
    "    msavi = image.expression(\n",
    "        '(2*b5 + 1 - (sqrt((2*b5 + 1)**2 - (8*(b5-b4)))))', {\n",
    "            'b4':image.select('B4'),\n",
    "            'b5':image.select('B5')\n",
    "        })\n",
    "    msavi= msavi.rename('MSAVI2')\n",
    "    return image.addBands(msavi)"
   ]
  },
  {
   "cell_type": "markdown",
   "id": "94e7c03e",
   "metadata": {},
   "source": [
    "<<<< 5) Normalized water Index >>>>\n",
    "\n",
    "\n",
    "NDWI = (NIR - SWIR) / (NIR + SWIR)  | Gao"
   ]
  },
  {
   "cell_type": "code",
   "execution_count": 17,
   "id": "9c9241b4",
   "metadata": {
    "ExecuteTime": {
     "end_time": "2022-08-30T19:53:16.599936Z",
     "start_time": "2022-08-30T19:53:16.597609Z"
    }
   },
   "outputs": [],
   "source": [
    "def addNDWI(image):\n",
    "    ndwi = image.normalizedDifference(['B5','B6']).rename('NDWI')\n",
    "    return image.addBands(ndwi)"
   ]
  },
  {
   "cell_type": "markdown",
   "id": "7d93ada3",
   "metadata": {},
   "source": [
    "<<<< 6) Modified Normalized water Index >>>>\n",
    "\n",
    "\n",
    "mNDWI = (GREEN - SWIR) / (GREEN + SWIR)  | Xu"
   ]
  },
  {
   "cell_type": "code",
   "execution_count": 18,
   "id": "45e2a03d",
   "metadata": {
    "ExecuteTime": {
     "end_time": "2022-08-30T19:53:16.602785Z",
     "start_time": "2022-08-30T19:53:16.601012Z"
    }
   },
   "outputs": [],
   "source": [
    "def addmNDWI(image):\n",
    "    mndwi = image.normalizedDifference(['B3','B6']).rename('mNDWI')\n",
    "    return image.addBands(mndwi)"
   ]
  },
  {
   "cell_type": "markdown",
   "id": "1a8d1aa2",
   "metadata": {},
   "source": [
    "<<<< 7) Normalized water B Index >>>>\n",
    "\n",
    "\n",
    "NDWBI = (GREEN - NIR) / (GREEN + NIR)  | McFeeters"
   ]
  },
  {
   "cell_type": "code",
   "execution_count": 19,
   "id": "db293602",
   "metadata": {
    "ExecuteTime": {
     "end_time": "2022-08-30T19:53:16.605644Z",
     "start_time": "2022-08-30T19:53:16.603868Z"
    }
   },
   "outputs": [],
   "source": [
    "def addNDWBI(image):\n",
    "    ndwbi = image.normalizedDifference(['B3','B5']).rename('NDWBI')\n",
    "    return image.addBands(ndwbi)"
   ]
  },
  {
   "cell_type": "markdown",
   "id": "7c6d1c2d",
   "metadata": {},
   "source": [
    "<<<< 8) Normalized Built Index >>>>\n",
    "\n",
    "\n",
    "NDBI = (SWIR - NIR) / (SWIR + NIR)  | Zha et al."
   ]
  },
  {
   "cell_type": "code",
   "execution_count": 20,
   "id": "db2601f4",
   "metadata": {
    "ExecuteTime": {
     "end_time": "2022-08-30T19:53:16.609661Z",
     "start_time": "2022-08-30T19:53:16.607029Z"
    }
   },
   "outputs": [],
   "source": [
    "def addNDBI(image):\n",
    "    ndbi = image.normalizedDifference(['B6','B5']).rename('NDBI')\n",
    "    return image.addBands(ndbi)"
   ]
  },
  {
   "cell_type": "markdown",
   "id": "44994fc1",
   "metadata": {},
   "source": [
    "<<<< 9) Normalized Snow Index >>>>\n",
    "\n",
    "\n",
    "NDSI = (GREEN - SWIR) / (GREEN + SWIR)  | "
   ]
  },
  {
   "cell_type": "code",
   "execution_count": 21,
   "id": "bd421032",
   "metadata": {
    "ExecuteTime": {
     "end_time": "2022-08-30T19:53:16.612567Z",
     "start_time": "2022-08-30T19:53:16.610672Z"
    }
   },
   "outputs": [],
   "source": [
    "def addNDSI(image):\n",
    "    ndsi = image.normalizedDifference(['B3','B6']).rename('NDSI')\n",
    "    return image.addBands(ndsi)"
   ]
  },
  {
   "cell_type": "markdown",
   "id": "5693a69e",
   "metadata": {},
   "source": [
    "<<<< 10) Normalized Glaciar Index >>>>\n",
    "\n",
    "\n",
    "NDGI = (GREEN - RED) / (GREEN + RED)  | "
   ]
  },
  {
   "cell_type": "code",
   "execution_count": 22,
   "id": "981f5ac3",
   "metadata": {
    "ExecuteTime": {
     "end_time": "2022-08-30T19:53:16.615641Z",
     "start_time": "2022-08-30T19:53:16.613801Z"
    }
   },
   "outputs": [],
   "source": [
    "def addNDGI(image):\n",
    "    ndgi = image.normalizedDifference(['B3','B4']).rename('NDGI')\n",
    "    return image.addBands(ndgi)"
   ]
  },
  {
   "cell_type": "markdown",
   "id": "c7201788",
   "metadata": {},
   "source": [
    "<<<< 11) Normalized Burn ratio Index >>>>\n",
    "\n",
    "\n",
    "NBRI = (NIR - SWIR2) / (NIR + SWIR2)  |"
   ]
  },
  {
   "cell_type": "code",
   "execution_count": 23,
   "id": "13969780",
   "metadata": {
    "ExecuteTime": {
     "end_time": "2022-08-30T19:53:16.618662Z",
     "start_time": "2022-08-30T19:53:16.616740Z"
    }
   },
   "outputs": [],
   "source": [
    "def addNDBrI(image):\n",
    "    ndbri = image.normalizedDifference(['B5','B7']).rename('NDBrI')\n",
    "    return image.addBands(ndbri)"
   ]
  },
  {
   "cell_type": "markdown",
   "id": "da666665",
   "metadata": {},
   "source": [
    "<<<< 12) Green Normalized vegetation Index >>>>\n",
    "\n",
    "\n",
    "GNDVI = (NIR - GREEN) / (NIR + GREEN)  |"
   ]
  },
  {
   "cell_type": "code",
   "execution_count": 24,
   "id": "fc3f4bd5",
   "metadata": {
    "ExecuteTime": {
     "end_time": "2022-08-30T19:53:16.622091Z",
     "start_time": "2022-08-30T19:53:16.619916Z"
    }
   },
   "outputs": [],
   "source": [
    "def addGNDVI(image):\n",
    "    gndvi = image.normalizedDifference(['B5','B3']).rename('GNDVI')\n",
    "    return image.addBands(gndvi)"
   ]
  },
  {
   "cell_type": "markdown",
   "id": "bc4f1987",
   "metadata": {},
   "source": [
    "### Clouds "
   ]
  },
  {
   "cell_type": "code",
   "execution_count": 25,
   "id": "836afe44",
   "metadata": {
    "ExecuteTime": {
     "end_time": "2022-08-30T19:53:16.624886Z",
     "start_time": "2022-08-30T19:53:16.623086Z"
    }
   },
   "outputs": [],
   "source": [
    "def addCloud(image):\n",
    "    nube = ee.Algorithms.Landsat.simpleCloudScore(image)\n",
    "    return image.addBands(ee.Image(nube.select(['cloud'])).rename('nube'))"
   ]
  },
  {
   "cell_type": "code",
   "execution_count": 26,
   "id": "758aa42e",
   "metadata": {
    "ExecuteTime": {
     "end_time": "2022-08-30T19:53:16.627949Z",
     "start_time": "2022-08-30T19:53:16.626105Z"
    }
   },
   "outputs": [],
   "source": [
    "def Cloud10(image):\n",
    "    scored = ee.Algorithms.Landsat.simpleCloudScore(image)\n",
    "    return image.updateMask(scored.select(['cloud']).lt(10))"
   ]
  },
  {
   "cell_type": "code",
   "execution_count": 27,
   "id": "2d1de1be",
   "metadata": {
    "ExecuteTime": {
     "end_time": "2022-08-30T19:53:16.630971Z",
     "start_time": "2022-08-30T19:53:16.629139Z"
    }
   },
   "outputs": [],
   "source": [
    "def Cloud20(image):\n",
    "    scored = ee.Algorithms.Landsat.simpleCloudScore(image)\n",
    "    return image.updateMask(scored.select(['cloud']).lt(20)) "
   ]
  },
  {
   "cell_type": "code",
   "execution_count": 28,
   "id": "6c0f20ba",
   "metadata": {
    "ExecuteTime": {
     "end_time": "2022-08-30T19:53:16.636930Z",
     "start_time": "2022-08-30T19:53:16.635025Z"
    }
   },
   "outputs": [],
   "source": [
    "def Cloud30(image):\n",
    "    scored = ee.Algorithms.Landsat.simpleCloudScore(image)\n",
    "    return image.updateMask(scored.select(['cloud']).lt(30)) "
   ]
  },
  {
   "cell_type": "code",
   "execution_count": 29,
   "id": "efa430cd",
   "metadata": {
    "ExecuteTime": {
     "end_time": "2022-08-30T19:53:16.640778Z",
     "start_time": "2022-08-30T19:53:16.638198Z"
    }
   },
   "outputs": [],
   "source": [
    "def Cloud40(image):\n",
    "    scored = ee.Algorithms.Landsat.simpleCloudScore(image)\n",
    "    return image.updateMask(scored.select(['cloud']).lt(40)) "
   ]
  },
  {
   "cell_type": "markdown",
   "id": "099b5a70",
   "metadata": {},
   "source": [
    "# Image Collections"
   ]
  },
  {
   "cell_type": "markdown",
   "id": "6cc62aa8",
   "metadata": {},
   "source": [
    "## Mosaico"
   ]
  },
  {
   "cell_type": "markdown",
   "id": "b99b959a",
   "metadata": {},
   "source": [
    "Verano 2022"
   ]
  },
  {
   "cell_type": "code",
   "execution_count": 30,
   "id": "580b0071",
   "metadata": {
    "ExecuteTime": {
     "end_time": "2022-08-30T19:53:16.643783Z",
     "start_time": "2022-08-30T19:53:16.641822Z"
    }
   },
   "outputs": [],
   "source": [
    "start_date = '2021-11-01'\n",
    "end_date = '2022-03-31'\n",
    "\n",
    "l8_2021_2022_summercolection = ee.ImageCollection('LANDSAT/LC08/C02/T1_TOA') \\\n",
    "    .filterBounds(patagonia_grande) \\\n",
    "    .filterDate(start_date, end_date)  "
   ]
  },
  {
   "cell_type": "code",
   "execution_count": 31,
   "id": "d2fa05ea",
   "metadata": {
    "ExecuteTime": {
     "end_time": "2022-08-30T19:53:16.651616Z",
     "start_time": "2022-08-30T19:53:16.644935Z"
    }
   },
   "outputs": [],
   "source": [
    "l8_2021_2022_summercolection = l8_2021_2022_summercolection \\\n",
    "    .map(addNDVI) \\\n",
    "    .map(addNDWI) \\\n",
    "    .map(addmNDWI) \\\n",
    "    .map(addNDWBI) \\\n",
    "    .map(addNDGI) \\\n",
    "    .map(addSAVI) \\\n",
    "    .map(addMSAVI2) \\\n",
    "    .map(addNDSI) \\\n",
    "    .map(addNDBI) \\\n",
    "    .map(addEVI) \\\n",
    "    .map(addNDBrI) \\\n",
    "    .map(addGNDVI) \\\n",
    "    .map(addDate) \\\n",
    "    .map(addCloud)"
   ]
  },
  {
   "cell_type": "code",
   "execution_count": 32,
   "id": "12acf8c4",
   "metadata": {
    "ExecuteTime": {
     "end_time": "2022-08-30T19:53:16.655108Z",
     "start_time": "2022-08-30T19:53:16.652843Z"
    }
   },
   "outputs": [],
   "source": [
    "c2022_sn = l8_2021_2022_summercolection.map(Cloud10)\n",
    "QM_NDVI_2022_sn = c2022_sn.qualityMosaic('NDVI')\n",
    "QM_NDVI_2022 = l8_2021_2022_summercolection.qualityMosaic('NDVI')\n",
    "QM_CLOUD_2022 = l8_2021_2022_summercolection.qualityMosaic('nube')\n",
    "Med_NDVI_2022_sn = c2022_sn.median()"
   ]
  },
  {
   "cell_type": "code",
   "execution_count": 33,
   "id": "c82cadba",
   "metadata": {
    "ExecuteTime": {
     "end_time": "2022-08-30T19:53:16.657836Z",
     "start_time": "2022-08-30T19:53:16.656343Z"
    }
   },
   "outputs": [],
   "source": [
    "# QM_NDVI_2022_sn.bandNames().getInfo()"
   ]
  },
  {
   "cell_type": "code",
   "execution_count": 34,
   "id": "48f3ff68",
   "metadata": {
    "ExecuteTime": {
     "end_time": "2022-08-30T19:53:22.834404Z",
     "start_time": "2022-08-30T19:53:16.658911Z"
    }
   },
   "outputs": [
    {
     "data": {
      "application/vnd.jupyter.widget-view+json": {
       "model_id": "96f4f40cbe52494482c1b66e94e27cc8",
       "version_major": 2,
       "version_minor": 0
      },
      "text/plain": [
       "Map(center=[-45, -70], controls=(WidgetControl(options=['position', 'transparent_bg'], widget=HBox(children=(T…"
      ]
     },
     "metadata": {},
     "output_type": "display_data"
    }
   ],
   "source": [
    "Map.addLayer(QM_NDVI_2022_sn, vizParams, 'QMsn de NDVI 2021-2022')\n",
    "Map.addLayer(QM_NDVI_2022, vizParams, 'QM con nubes de NDVI 2021-2022')\n",
    "Map.addLayer(QM_CLOUD_2022, vizParams, 'QM de nubes 2021-2022')\n",
    "Map.addLayer(Med_NDVI_2022_sn, vizParams, 'Mediana sn 2021-2022')\n",
    "Map"
   ]
  },
  {
   "cell_type": "code",
   "execution_count": 35,
   "id": "52a3364d-af57-480d-a1d8-7c4cad890a21",
   "metadata": {
    "ExecuteTime": {
     "end_time": "2022-08-30T19:53:22.854004Z",
     "start_time": "2022-08-30T19:53:22.835595Z"
    }
   },
   "outputs": [],
   "source": [
    "image1 = geemap.image_count(\n",
    "    c2022_sn, patagonia_grande, start_date='2021-11-01', end_date='2022-03-31', clip=True\n",
    ")"
   ]
  },
  {
   "cell_type": "code",
   "execution_count": 36,
   "id": "db715700-b1a1-435d-8e89-62141df93fb5",
   "metadata": {
    "ExecuteTime": {
     "end_time": "2022-08-30T19:53:22.857077Z",
     "start_time": "2022-08-30T19:53:22.855499Z"
    }
   },
   "outputs": [],
   "source": [
    "# Map.addLayer(image1, vizParams, 'Mediana sn 2021-2022')\n",
    "# Map"
   ]
  },
  {
   "cell_type": "markdown",
   "id": "bb92f0c6",
   "metadata": {},
   "source": [
    "Verano 2021"
   ]
  },
  {
   "cell_type": "code",
   "execution_count": 37,
   "id": "d086591d",
   "metadata": {
    "ExecuteTime": {
     "end_time": "2022-08-30T19:53:22.861478Z",
     "start_time": "2022-08-30T19:53:22.858534Z"
    }
   },
   "outputs": [],
   "source": [
    "start_date = '2020-11-01'\n",
    "end_date = '2021-03-31'\n",
    "\n",
    "l8_2020_2021_summercolection = ee.ImageCollection('LANDSAT/LC08/C02/T1_TOA') \\\n",
    "    .filterBounds(patagonia_grande) \\\n",
    "    .filterDate(start_date, end_date)  "
   ]
  },
  {
   "cell_type": "code",
   "execution_count": 38,
   "id": "adfda438",
   "metadata": {
    "ExecuteTime": {
     "end_time": "2022-08-30T19:53:22.868943Z",
     "start_time": "2022-08-30T19:53:22.862748Z"
    }
   },
   "outputs": [],
   "source": [
    "l8_2020_2021_summercolection = l8_2020_2021_summercolection \\\n",
    "    .map(addNDVI) \\\n",
    "    .map(addNDWI) \\\n",
    "    .map(addmNDWI) \\\n",
    "    .map(addNDWBI) \\\n",
    "    .map(addNDGI) \\\n",
    "    .map(addSAVI) \\\n",
    "    .map(addMSAVI2) \\\n",
    "    .map(addNDSI) \\\n",
    "    .map(addNDBI) \\\n",
    "    .map(addEVI) \\\n",
    "    .map(addNDBrI) \\\n",
    "    .map(addGNDVI) \\\n",
    "    .map(addDate) \\\n",
    "    .map(addCloud)"
   ]
  },
  {
   "cell_type": "markdown",
   "id": "1417b733",
   "metadata": {},
   "source": [
    "Verano 2020"
   ]
  },
  {
   "cell_type": "code",
   "execution_count": 39,
   "id": "badce615",
   "metadata": {
    "ExecuteTime": {
     "end_time": "2022-08-30T19:53:22.872303Z",
     "start_time": "2022-08-30T19:53:22.870239Z"
    }
   },
   "outputs": [],
   "source": [
    "start_date = '2019-11-01'\n",
    "end_date = '2020-03-31'\n",
    "\n",
    "l8_2019_2020_summercolection = ee.ImageCollection('LANDSAT/LC08/C02/T1_TOA') \\\n",
    "    .filterBounds(patagonia_grande) \\\n",
    "    .filterDate(start_date, end_date)  "
   ]
  },
  {
   "cell_type": "code",
   "execution_count": 40,
   "id": "e14d48ce",
   "metadata": {
    "ExecuteTime": {
     "end_time": "2022-08-30T19:53:22.880309Z",
     "start_time": "2022-08-30T19:53:22.873747Z"
    }
   },
   "outputs": [],
   "source": [
    "l8_2019_2020_summercolection = l8_2019_2020_summercolection \\\n",
    "    .map(addNDVI) \\\n",
    "    .map(addNDWI) \\\n",
    "    .map(addmNDWI) \\\n",
    "    .map(addNDWBI) \\\n",
    "    .map(addNDGI) \\\n",
    "    .map(addSAVI) \\\n",
    "    .map(addMSAVI2) \\\n",
    "    .map(addNDSI) \\\n",
    "    .map(addNDBI) \\\n",
    "    .map(addEVI) \\\n",
    "    .map(addNDBrI) \\\n",
    "    .map(addGNDVI) \\\n",
    "    .map(addDate) \\\n",
    "    .map(addCloud)"
   ]
  },
  {
   "cell_type": "markdown",
   "id": "757d1e9f",
   "metadata": {},
   "source": [
    "Verano 2019"
   ]
  },
  {
   "cell_type": "code",
   "execution_count": 41,
   "id": "bf24ae2f",
   "metadata": {
    "ExecuteTime": {
     "end_time": "2022-08-30T19:53:22.884279Z",
     "start_time": "2022-08-30T19:53:22.881638Z"
    }
   },
   "outputs": [],
   "source": [
    "start_date = '2018-11-01'\n",
    "end_date = '2019-03-31'\n",
    "\n",
    "l8_2018_2019_summercolection = ee.ImageCollection('LANDSAT/LC08/C02/T1_TOA') \\\n",
    "    .filterBounds(patagonia_grande) \\\n",
    "    .filterDate(start_date, end_date) "
   ]
  },
  {
   "cell_type": "code",
   "execution_count": 42,
   "id": "bce4dc2a",
   "metadata": {
    "ExecuteTime": {
     "end_time": "2022-08-30T19:53:22.891281Z",
     "start_time": "2022-08-30T19:53:22.885319Z"
    }
   },
   "outputs": [],
   "source": [
    "l8_2018_2019_summercolection = l8_2018_2019_summercolection \\\n",
    "    .map(addNDVI) \\\n",
    "    .map(addNDWI) \\\n",
    "    .map(addmNDWI) \\\n",
    "    .map(addNDWBI) \\\n",
    "    .map(addNDGI) \\\n",
    "    .map(addSAVI) \\\n",
    "    .map(addMSAVI2) \\\n",
    "    .map(addNDSI) \\\n",
    "    .map(addNDBI) \\\n",
    "    .map(addEVI) \\\n",
    "    .map(addNDBrI) \\\n",
    "    .map(addGNDVI) \\\n",
    "    .map(addDate) \\\n",
    "    .map(addCloud)"
   ]
  },
  {
   "cell_type": "markdown",
   "id": "52bd442b",
   "metadata": {},
   "source": [
    "## Colección completa"
   ]
  },
  {
   "cell_type": "markdown",
   "id": "f8e32764",
   "metadata": {},
   "source": [
    "2 primeros años"
   ]
  },
  {
   "cell_type": "code",
   "execution_count": 43,
   "id": "d7225479",
   "metadata": {
    "ExecuteTime": {
     "end_time": "2022-08-30T19:53:22.894654Z",
     "start_time": "2022-08-30T19:53:22.892454Z"
    }
   },
   "outputs": [],
   "source": [
    "filtersummer1 = ee.Filter.Or(\n",
    "    ee.Filter.date('2021-11-01','2022-03-01'),\n",
    "    ee.Filter.date('2020-11-01','2021-03-31'))"
   ]
  },
  {
   "cell_type": "code",
   "execution_count": 44,
   "id": "b2448777",
   "metadata": {
    "ExecuteTime": {
     "end_time": "2022-08-30T19:53:22.898316Z",
     "start_time": "2022-08-30T19:53:22.896133Z"
    }
   },
   "outputs": [],
   "source": [
    "coleccion2022_2020 = ee.ImageCollection('LANDSAT/LC08/C02/T1_TOA') \\\n",
    "    .filterDate('2020-11-01', '2022-03-31') \\\n",
    "    .filter(filtersummer1) \\\n",
    "    .filterBounds(patagonia_grande)"
   ]
  },
  {
   "cell_type": "code",
   "execution_count": 45,
   "id": "a8613b34",
   "metadata": {
    "ExecuteTime": {
     "end_time": "2022-08-30T19:53:22.905823Z",
     "start_time": "2022-08-30T19:53:22.899658Z"
    }
   },
   "outputs": [],
   "source": [
    "l8_summer1= coleccion2022_2020 \\\n",
    "    .map(addNDVI) \\\n",
    "    .map(addNDWI) \\\n",
    "    .map(addmNDWI) \\\n",
    "    .map(addNDWBI) \\\n",
    "    .map(addNDGI) \\\n",
    "    .map(addSAVI) \\\n",
    "    .map(addMSAVI2) \\\n",
    "    .map(addNDSI) \\\n",
    "    .map(addNDBI) \\\n",
    "    .map(addEVI) \\\n",
    "    .map(addNDBrI) \\\n",
    "    .map(addGNDVI) \\\n",
    "    .map(addDate) \\\n",
    "    .map(addCloud)"
   ]
  },
  {
   "cell_type": "code",
   "execution_count": 46,
   "id": "9816f2a5",
   "metadata": {
    "ExecuteTime": {
     "end_time": "2022-08-30T19:53:22.909117Z",
     "start_time": "2022-08-30T19:53:22.906992Z"
    }
   },
   "outputs": [],
   "source": [
    "l8_summer1_sn = l8_summer1.map(Cloud10)\n",
    "QM_NDVI_summer1 = l8_summer1.qualityMosaic('NDVI')\n",
    "QM_NDWI_summer1 = l8_summer1.qualityMosaic('NDWI')"
   ]
  },
  {
   "cell_type": "markdown",
   "id": "7b070689",
   "metadata": {},
   "source": [
    "3 años"
   ]
  },
  {
   "cell_type": "code",
   "execution_count": 47,
   "id": "b6176fe9",
   "metadata": {
    "ExecuteTime": {
     "end_time": "2022-08-30T19:53:22.912771Z",
     "start_time": "2022-08-30T19:53:22.910451Z"
    }
   },
   "outputs": [],
   "source": [
    "filtersummer2 = ee.Filter.Or(\n",
    "    ee.Filter.date('2021-11-01','2022-03-01'),\n",
    "    ee.Filter.date('2020-11-01','2021-03-31'),\n",
    "    ee.Filter.date('2019-11-01','2020-03-31')\n",
    ")"
   ]
  },
  {
   "cell_type": "code",
   "execution_count": 48,
   "id": "c76e7f6a",
   "metadata": {
    "ExecuteTime": {
     "end_time": "2022-08-30T19:53:22.916156Z",
     "start_time": "2022-08-30T19:53:22.913959Z"
    }
   },
   "outputs": [],
   "source": [
    "coleccion2022_2019 = ee.ImageCollection('LANDSAT/LC08/C02/T1_TOA') \\\n",
    "    .filterDate('2019-11-01', '2022-03-31') \\\n",
    "    .filter(filtersummer2) \\\n",
    "    .filterBounds(patagonia_grande)"
   ]
  },
  {
   "cell_type": "code",
   "execution_count": 49,
   "id": "c3a3cfa7",
   "metadata": {
    "ExecuteTime": {
     "end_time": "2022-08-30T19:53:22.924180Z",
     "start_time": "2022-08-30T19:53:22.917443Z"
    }
   },
   "outputs": [],
   "source": [
    "l8_summer2= coleccion2022_2019 \\\n",
    "    .map(addNDVI) \\\n",
    "    .map(addNDWI) \\\n",
    "    .map(addmNDWI) \\\n",
    "    .map(addNDWBI) \\\n",
    "    .map(addNDGI) \\\n",
    "    .map(addSAVI) \\\n",
    "    .map(addMSAVI2) \\\n",
    "    .map(addNDSI) \\\n",
    "    .map(addNDBI) \\\n",
    "    .map(addEVI) \\\n",
    "    .map(addNDBrI) \\\n",
    "    .map(addGNDVI) \\\n",
    "    .map(addDate) \\\n",
    "    .map(addCloud)"
   ]
  },
  {
   "cell_type": "code",
   "execution_count": 50,
   "id": "56eee6ce-2e12-40a8-b519-dc9aa3676e53",
   "metadata": {
    "ExecuteTime": {
     "end_time": "2022-08-30T19:53:22.927483Z",
     "start_time": "2022-08-30T19:53:22.925201Z"
    }
   },
   "outputs": [],
   "source": [
    "l8_summer2_sn = l8_summer2.map(Cloud10)\n",
    "QM_NDVI_summer2 = l8_summer2.qualityMosaic('NDVI')\n",
    "QM_NDWI_summer2 = l8_summer2.qualityMosaic('NDWI')"
   ]
  },
  {
   "cell_type": "markdown",
   "id": "959674bb",
   "metadata": {},
   "source": [
    "4 años"
   ]
  },
  {
   "cell_type": "code",
   "execution_count": 51,
   "id": "8cdc702e",
   "metadata": {
    "ExecuteTime": {
     "end_time": "2022-08-30T19:53:22.931082Z",
     "start_time": "2022-08-30T19:53:22.928764Z"
    }
   },
   "outputs": [],
   "source": [
    "filtersummer4 = ee.Filter.Or(\n",
    "    ee.Filter.date('2021-11-01','2022-03-01'),\n",
    "    ee.Filter.date('2020-11-01','2021-03-31'),\n",
    "    ee.Filter.date('2019-11-01','2020-03-31'),\n",
    "    ee.Filter.date('2018-11-01','2019-03-31')\n",
    ")"
   ]
  },
  {
   "cell_type": "code",
   "execution_count": 52,
   "id": "3c810ef0",
   "metadata": {
    "ExecuteTime": {
     "end_time": "2022-08-30T19:53:22.934206Z",
     "start_time": "2022-08-30T19:53:22.932225Z"
    }
   },
   "outputs": [],
   "source": [
    "coleccion2022_2018 = ee.ImageCollection('LANDSAT/LC08/C02/T1_TOA') \\\n",
    "    .filterDate('2018-11-01', '2022-03-31') \\\n",
    "    .filter(filtersummer4) \\\n",
    "    .filterBounds(patagonia_grande)"
   ]
  },
  {
   "cell_type": "code",
   "execution_count": 53,
   "id": "0db2d5fb",
   "metadata": {
    "ExecuteTime": {
     "end_time": "2022-08-30T19:53:22.941448Z",
     "start_time": "2022-08-30T19:53:22.935416Z"
    }
   },
   "outputs": [],
   "source": [
    "l8_summer4= coleccion2022_2018 \\\n",
    "    .map(addNDVI) \\\n",
    "    .map(addNDWI) \\\n",
    "    .map(addmNDWI) \\\n",
    "    .map(addNDWBI) \\\n",
    "    .map(addNDGI) \\\n",
    "    .map(addSAVI) \\\n",
    "    .map(addMSAVI2) \\\n",
    "    .map(addNDSI) \\\n",
    "    .map(addNDBI) \\\n",
    "    .map(addEVI) \\\n",
    "    .map(addNDBrI) \\\n",
    "    .map(addGNDVI) \\\n",
    "    .map(addDate) \\\n",
    "    .map(addCloud)"
   ]
  },
  {
   "cell_type": "code",
   "execution_count": 54,
   "id": "fa2d7b83",
   "metadata": {
    "ExecuteTime": {
     "end_time": "2022-08-30T19:53:22.945889Z",
     "start_time": "2022-08-30T19:53:22.942830Z"
    }
   },
   "outputs": [],
   "source": [
    "cloudest = l8_summer4.qualityMosaic('nube')\n",
    "l8_summer_sn = l8_summer4.map(Cloud10)\n",
    "QM_NDWI_summer_sn = l8_summer_sn.qualityMosaic('NDWI')\n",
    "QM_NDVI_summer4 = l8_summer4.qualityMosaic('NDVI')"
   ]
  },
  {
   "cell_type": "markdown",
   "id": "a383db31",
   "metadata": {},
   "source": [
    "5 Años"
   ]
  },
  {
   "cell_type": "code",
   "execution_count": 55,
   "id": "3be40ceb",
   "metadata": {
    "ExecuteTime": {
     "end_time": "2022-08-30T19:53:22.949028Z",
     "start_time": "2022-08-30T19:53:22.946929Z"
    }
   },
   "outputs": [],
   "source": [
    "filtersummer5 = ee.Filter.Or(\n",
    "    ee.Filter.date('2021-11-01','2022-03-01'),\n",
    "    ee.Filter.date('2020-11-01','2021-03-31'),\n",
    "    ee.Filter.date('2019-11-01','2020-03-31'),\n",
    "    ee.Filter.date('2018-11-01','2019-03-31'),\n",
    "    ee.Filter.date('2017-11-01','2018-03-31')\n",
    ")"
   ]
  },
  {
   "cell_type": "code",
   "execution_count": 56,
   "id": "006f5fb7",
   "metadata": {
    "ExecuteTime": {
     "end_time": "2022-08-30T19:53:22.952293Z",
     "start_time": "2022-08-30T19:53:22.950226Z"
    }
   },
   "outputs": [],
   "source": [
    "coleccion2022_2017_t = ee.ImageCollection('LANDSAT/LC08/C02/T1_TOA') \\\n",
    "    .filterDate('2019-11-01', '2022-03-31') \\\n",
    "    .filterBounds(patagonia_grande)"
   ]
  },
  {
   "cell_type": "code",
   "execution_count": 57,
   "id": "a2d089a6",
   "metadata": {
    "ExecuteTime": {
     "end_time": "2022-08-30T19:53:22.955812Z",
     "start_time": "2022-08-30T19:53:22.953693Z"
    }
   },
   "outputs": [],
   "source": [
    "coleccion2022_2017 = ee.ImageCollection('LANDSAT/LC08/C02/T1_TOA') \\\n",
    "    .filterDate('2017-11-01', '2022-03-31') \\\n",
    "    .filter(filtersummer5) \\\n",
    "    .filterBounds(patagonia_grande)"
   ]
  },
  {
   "cell_type": "code",
   "execution_count": 58,
   "id": "f4de982f",
   "metadata": {
    "ExecuteTime": {
     "end_time": "2022-08-30T19:53:22.963505Z",
     "start_time": "2022-08-30T19:53:22.957141Z"
    }
   },
   "outputs": [],
   "source": [
    "l8_summer5_t= coleccion2022_2017_t \\\n",
    "    .map(addNDVI) \\\n",
    "    .map(addNDWI) \\\n",
    "    .map(addmNDWI) \\\n",
    "    .map(addNDWBI) \\\n",
    "    .map(addNDGI) \\\n",
    "    .map(addSAVI) \\\n",
    "    .map(addMSAVI2) \\\n",
    "    .map(addNDSI) \\\n",
    "    .map(addNDBI) \\\n",
    "    .map(addEVI) \\\n",
    "    .map(addNDBrI) \\\n",
    "    .map(addGNDVI) \\\n",
    "    .map(addDate) \\\n",
    "    .map(addCloud)"
   ]
  },
  {
   "cell_type": "code",
   "execution_count": 59,
   "id": "61b7caec",
   "metadata": {
    "ExecuteTime": {
     "end_time": "2022-08-30T19:53:22.971593Z",
     "start_time": "2022-08-30T19:53:22.965110Z"
    }
   },
   "outputs": [],
   "source": [
    "l8_summer5= coleccion2022_2017 \\\n",
    "    .map(addNDVI) \\\n",
    "    .map(addNDWI) \\\n",
    "    .map(addmNDWI) \\\n",
    "    .map(addNDWBI) \\\n",
    "    .map(addNDGI) \\\n",
    "    .map(addSAVI) \\\n",
    "    .map(addMSAVI2) \\\n",
    "    .map(addNDSI) \\\n",
    "    .map(addNDBI) \\\n",
    "    .map(addEVI) \\\n",
    "    .map(addNDBrI) \\\n",
    "    .map(addGNDVI) \\\n",
    "    .map(addDate) \\\n",
    "    .map(addCloud)"
   ]
  },
  {
   "cell_type": "code",
   "execution_count": 60,
   "id": "eadcdc8f",
   "metadata": {
    "ExecuteTime": {
     "end_time": "2022-08-30T19:53:22.975814Z",
     "start_time": "2022-08-30T19:53:22.973062Z"
    }
   },
   "outputs": [],
   "source": [
    "l8_summer5_sn = l8_summer5.map(Cloud10)\n",
    "l8_summer5_snt = l8_summer5_t.map(Cloud10)\n"
   ]
  },
  {
   "cell_type": "markdown",
   "id": "7b88d666",
   "metadata": {},
   "source": [
    "3 Años verano más largo para llenar pixeles"
   ]
  },
  {
   "cell_type": "code",
   "execution_count": 61,
   "id": "6e3377d5",
   "metadata": {
    "ExecuteTime": {
     "end_time": "2022-08-30T19:53:22.979156Z",
     "start_time": "2022-08-30T19:53:22.977034Z"
    }
   },
   "outputs": [],
   "source": [
    "filtersummer6 = ee.Filter.Or(\n",
    "    ee.Filter.date('2021-09-01','2022-03-31'),\n",
    "    ee.Filter.date('2020-09-01','2021-04-30'),\n",
    "    ee.Filter.date('2019-09-01','2020-04-30'),\n",
    ")"
   ]
  },
  {
   "cell_type": "code",
   "execution_count": 62,
   "id": "96f98736",
   "metadata": {
    "ExecuteTime": {
     "end_time": "2022-08-30T19:53:22.982322Z",
     "start_time": "2022-08-30T19:53:22.980565Z"
    }
   },
   "outputs": [],
   "source": [
    "coleccion2022_2019_b = ee.ImageCollection('LANDSAT/LC08/C02/T1_TOA') \\\n",
    "    .filterDate('2019-09-01', '2022-03-31') \\\n",
    "    .filter(filtersummer6) \\\n",
    "    .filterBounds(patagonia_grande)"
   ]
  },
  {
   "cell_type": "code",
   "execution_count": 63,
   "id": "a60e1d09",
   "metadata": {
    "ExecuteTime": {
     "end_time": "2022-08-30T19:53:22.991658Z",
     "start_time": "2022-08-30T19:53:22.983900Z"
    }
   },
   "outputs": [],
   "source": [
    "l8_summer6= coleccion2022_2019_b \\\n",
    "    .map(addNDVI) \\\n",
    "    .map(addNDWI) \\\n",
    "    .map(addmNDWI) \\\n",
    "    .map(addNDWBI) \\\n",
    "    .map(addNDGI) \\\n",
    "    .map(addSAVI) \\\n",
    "    .map(addMSAVI2) \\\n",
    "    .map(addNDSI) \\\n",
    "    .map(addNDBI) \\\n",
    "    .map(addEVI) \\\n",
    "    .map(addNDBrI) \\\n",
    "    .map(addGNDVI) \\\n",
    "    .map(addDate) \\\n",
    "    .map(addCloud)"
   ]
  },
  {
   "cell_type": "code",
   "execution_count": 64,
   "id": "85e52f88-9c75-4369-a120-ae1b021d3e3d",
   "metadata": {
    "ExecuteTime": {
     "end_time": "2022-08-30T19:53:22.995615Z",
     "start_time": "2022-08-30T19:53:22.993107Z"
    }
   },
   "outputs": [],
   "source": [
    "QM_NDVI_summer6 = l8_summer6.qualityMosaic('NDVI')"
   ]
  },
  {
   "cell_type": "markdown",
   "id": "f011ad18",
   "metadata": {},
   "source": [
    "## Generación Mosaico QM"
   ]
  },
  {
   "cell_type": "markdown",
   "id": "3cf506a8",
   "metadata": {},
   "source": [
    "Tier 1"
   ]
  },
  {
   "cell_type": "code",
   "execution_count": 65,
   "id": "1f9257c8",
   "metadata": {
    "ExecuteTime": {
     "end_time": "2022-08-30T19:53:23.001317Z",
     "start_time": "2022-08-30T19:53:22.997188Z"
    }
   },
   "outputs": [],
   "source": [
    "c2022_sn = l8_2021_2022_summercolection.map(Cloud10)\n",
    "c2021_sn = l8_2020_2021_summercolection.map(Cloud10)\n",
    "c2020_sn = l8_2019_2020_summercolection.map(Cloud10)\n",
    "c2019_sn = l8_2018_2019_summercolection.map(Cloud10)"
   ]
  },
  {
   "cell_type": "code",
   "execution_count": 66,
   "id": "444ced49",
   "metadata": {
    "ExecuteTime": {
     "end_time": "2022-08-30T19:53:23.005338Z",
     "start_time": "2022-08-30T19:53:23.003044Z"
    }
   },
   "outputs": [],
   "source": [
    "QM_NDVI_2022 = l8_2021_2022_summercolection.qualityMosaic('NDVI')\n",
    "QM_NDVI_2021 = l8_2020_2021_summercolection.qualityMosaic('NDVI')\n",
    "QM_NDVI_2020 = l8_2019_2020_summercolection.qualityMosaic('NDVI')\n",
    "QM_NDVI_2019 = l8_2018_2019_summercolection.qualityMosaic('NDVI')"
   ]
  },
  {
   "cell_type": "code",
   "execution_count": 67,
   "id": "c55017b6",
   "metadata": {
    "ExecuteTime": {
     "end_time": "2022-08-30T19:53:23.009088Z",
     "start_time": "2022-08-30T19:53:23.006863Z"
    }
   },
   "outputs": [],
   "source": [
    "QM_NDVI_2022_sn = c2022_sn.qualityMosaic('NDVI')\n",
    "QM_NDVI_2021_sn = c2021_sn.qualityMosaic('NDVI')\n",
    "QM_NDVI_2020_sn = c2020_sn.qualityMosaic('NDVI')\n",
    "QM_NDVI_2019_sn = c2019_sn.qualityMosaic('NDVI')"
   ]
  },
  {
   "cell_type": "code",
   "execution_count": 68,
   "id": "d3be3d65-9fff-41b0-8d7c-c3be5d98abe0",
   "metadata": {
    "ExecuteTime": {
     "end_time": "2022-08-30T19:53:30.002121Z",
     "start_time": "2022-08-30T19:53:23.010704Z"
    }
   },
   "outputs": [
    {
     "data": {
      "application/vnd.jupyter.widget-view+json": {
       "model_id": "40d4c16e494a46f1961eb3c20b238427",
       "version_major": 2,
       "version_minor": 0
      },
      "text/plain": [
       "Map(center=[-45, -70], controls=(WidgetControl(options=['position', 'transparent_bg'], widget=HBox(children=(T…"
      ]
     },
     "metadata": {},
     "output_type": "display_data"
    }
   ],
   "source": [
    "Map6.addLayer(QM_NDVI_2022_sn, vizParams, 'QMsn de NDVI 2021-2022')\n",
    "Map6.addLayer(QM_NDVI_2022, vizParams, 'QM con nubes de NDVI 2021-2022')\n",
    "Map6.addLayer(QM_NDVI_summer1, vizParams, 'QM de nubes 2021-2022')\n",
    "Map6.addLayer(QM_NDVI_summer2, vizParams, 'QM de nubes 2020-2022')\n",
    "Map6.addLayer(QM_NDVI_summer4, vizParams, 'QM de nubes 2017-2022')\n",
    "Map6"
   ]
  },
  {
   "cell_type": "markdown",
   "id": "05e53db6",
   "metadata": {},
   "source": [
    "### Llenado de píxeles con nubes"
   ]
  },
  {
   "cell_type": "code",
   "execution_count": 69,
   "id": "4544c0e4",
   "metadata": {
    "ExecuteTime": {
     "end_time": "2022-08-30T19:53:30.005637Z",
     "start_time": "2022-08-30T19:53:30.003289Z"
    }
   },
   "outputs": [],
   "source": [
    "cloudest_landsat = cloudest.set('SENSOR_ID', 'OLI_TIRS')\n",
    "cloud_max = ee.Algorithms.Landsat.simpleCloudScore(cloudest_landsat)\n",
    "cloud_max  = cloud_max .select('cloud')\n",
    "palette_nubes = ['#1a9850', '#d73027']"
   ]
  },
  {
   "cell_type": "code",
   "execution_count": 70,
   "id": "08f742f6",
   "metadata": {
    "ExecuteTime": {
     "end_time": "2022-08-30T19:53:30.009048Z",
     "start_time": "2022-08-30T19:53:30.007154Z"
    }
   },
   "outputs": [],
   "source": [
    "resultados= [cloud_max , cloudest]\n",
    "vis_params2=  [\n",
    "    {'palette':palette_nubes}, \n",
    "    vizParams]\n",
    "labels = [\n",
    "    'Nubes 2021',\n",
    "    'QM NDVI 2021']"
   ]
  },
  {
   "cell_type": "code",
   "execution_count": 71,
   "id": "4d156557",
   "metadata": {
    "ExecuteTime": {
     "end_time": "2022-08-30T19:53:33.184398Z",
     "start_time": "2022-08-30T19:53:30.010800Z"
    }
   },
   "outputs": [
    {
     "data": {
      "application/vnd.jupyter.widget-view+json": {
       "model_id": "6ee32c920d5947a482d1cba18ef84a86",
       "version_major": 2,
       "version_minor": 0
      },
      "text/plain": [
       "GridspecLayout(children=(Output(layout=Layout(grid_area='widget001')), Output(layout=Layout(grid_area='widget0…"
      ]
     },
     "metadata": {},
     "output_type": "display_data"
    }
   ],
   "source": [
    "geemap.linked_maps(rows=1, cols=2, height=\"400px\", center=[-45, -75], zoom=4, \n",
    "                    ee_objects=resultados, vis_params=vis_params2, labels=labels, label_position=\"topright\")"
   ]
  },
  {
   "cell_type": "code",
   "execution_count": 72,
   "id": "9811448b",
   "metadata": {
    "ExecuteTime": {
     "end_time": "2022-08-30T19:53:33.187776Z",
     "start_time": "2022-08-30T19:53:33.185568Z"
    }
   },
   "outputs": [],
   "source": [
    "def llenado(image):\n",
    "    return image.where(cloud_max.gt(10),QM_NDVI_summer4)"
   ]
  },
  {
   "cell_type": "code",
   "execution_count": 73,
   "id": "8c813bbb",
   "metadata": {
    "ExecuteTime": {
     "end_time": "2022-08-30T19:53:33.191603Z",
     "start_time": "2022-08-30T19:53:33.188850Z"
    }
   },
   "outputs": [],
   "source": [
    "img1 = llenado(cloudest)"
   ]
  },
  {
   "cell_type": "code",
   "execution_count": 74,
   "id": "a26e5ede",
   "metadata": {
    "ExecuteTime": {
     "end_time": "2022-08-30T19:53:33.195026Z",
     "start_time": "2022-08-30T19:53:33.193003Z"
    }
   },
   "outputs": [],
   "source": [
    "img1_landsat = img1.set('SENSOR_ID', 'OLI_TIRS')\n",
    "cloud_img1 = ee.Algorithms.Landsat.simpleCloudScore(img1_landsat)\n",
    "cloud_img1 = cloud_img1.select('cloud')"
   ]
  },
  {
   "cell_type": "code",
   "execution_count": 75,
   "id": "b081ac10",
   "metadata": {
    "ExecuteTime": {
     "end_time": "2022-08-30T19:53:33.199080Z",
     "start_time": "2022-08-30T19:53:33.196332Z"
    }
   },
   "outputs": [],
   "source": [
    "resultados= [cloud_img1, img1]\n",
    "vis_params2=  [\n",
    "    {'palette':palette_nubes}, \n",
    "    vizParams]\n",
    "labels = [\n",
    "    'Nubes Mosaico 1',\n",
    "    'Mosaico 1']"
   ]
  },
  {
   "cell_type": "code",
   "execution_count": 76,
   "id": "4aaf34e9",
   "metadata": {
    "ExecuteTime": {
     "end_time": "2022-08-30T19:53:36.358706Z",
     "start_time": "2022-08-30T19:53:33.200118Z"
    }
   },
   "outputs": [
    {
     "data": {
      "application/vnd.jupyter.widget-view+json": {
       "model_id": "58354974546e49218d4e7e1ab8415d65",
       "version_major": 2,
       "version_minor": 0
      },
      "text/plain": [
       "GridspecLayout(children=(Output(layout=Layout(grid_area='widget001')), Output(layout=Layout(grid_area='widget0…"
      ]
     },
     "metadata": {},
     "output_type": "display_data"
    }
   ],
   "source": [
    "geemap.linked_maps(rows=1, cols=2, height=\"400px\", center=[-45, -75], zoom=4, \n",
    "                   ee_objects=resultados, vis_params=vis_params2, labels=labels, label_position=\"topright\")"
   ]
  },
  {
   "cell_type": "code",
   "execution_count": 77,
   "id": "1c6c4122",
   "metadata": {
    "ExecuteTime": {
     "end_time": "2022-08-30T19:53:36.362345Z",
     "start_time": "2022-08-30T19:53:36.360216Z"
    }
   },
   "outputs": [],
   "source": [
    "def llenado2(image):\n",
    "    return image.where(cloud_img1.gt(10), QM_NDVI_2021)"
   ]
  },
  {
   "cell_type": "code",
   "execution_count": 78,
   "id": "e24aea87",
   "metadata": {
    "ExecuteTime": {
     "end_time": "2022-08-30T19:53:36.365488Z",
     "start_time": "2022-08-30T19:53:36.363552Z"
    }
   },
   "outputs": [],
   "source": [
    "img2 = llenado2(img1)"
   ]
  },
  {
   "cell_type": "code",
   "execution_count": 79,
   "id": "33c3e7f7",
   "metadata": {
    "ExecuteTime": {
     "end_time": "2022-08-30T19:53:36.368780Z",
     "start_time": "2022-08-30T19:53:36.366880Z"
    }
   },
   "outputs": [],
   "source": [
    "img2_landsat = img2.set('SENSOR_ID', 'OLI_TIRS')\n",
    "cloud_img2 = ee.Algorithms.Landsat.simpleCloudScore(img2_landsat)\n",
    "cloud_img2 = cloud_img2.select('cloud')"
   ]
  },
  {
   "cell_type": "code",
   "execution_count": 80,
   "id": "34f6eba1",
   "metadata": {
    "ExecuteTime": {
     "end_time": "2022-08-30T19:53:36.372292Z",
     "start_time": "2022-08-30T19:53:36.370136Z"
    }
   },
   "outputs": [],
   "source": [
    "resultados= [cloud_img2, img2_landsat]\n",
    "vis_params2=  [\n",
    "    {'palette':palette_nubes}, \n",
    "    vizParams]\n",
    "labels = [\n",
    "    'Nubes Mosaico 2',\n",
    "    'Mosaico 2']"
   ]
  },
  {
   "cell_type": "code",
   "execution_count": 81,
   "id": "abdf7a9c",
   "metadata": {
    "ExecuteTime": {
     "end_time": "2022-08-30T19:53:40.486632Z",
     "start_time": "2022-08-30T19:53:36.373356Z"
    }
   },
   "outputs": [
    {
     "data": {
      "application/vnd.jupyter.widget-view+json": {
       "model_id": "3889d093e77f4a6b8ab70390b5c6ac50",
       "version_major": 2,
       "version_minor": 0
      },
      "text/plain": [
       "GridspecLayout(children=(Output(layout=Layout(grid_area='widget001')), Output(layout=Layout(grid_area='widget0…"
      ]
     },
     "metadata": {},
     "output_type": "display_data"
    }
   ],
   "source": [
    "geemap.linked_maps(rows=1, cols=2, height=\"400px\", center=[-45, -75], zoom=4, \n",
    "                   ee_objects=resultados, vis_params=vis_params2, labels=labels, label_position=\"topright\")"
   ]
  },
  {
   "cell_type": "code",
   "execution_count": 82,
   "id": "586c9de2",
   "metadata": {
    "ExecuteTime": {
     "end_time": "2022-08-30T19:53:40.498643Z",
     "start_time": "2022-08-30T19:53:40.496488Z"
    }
   },
   "outputs": [],
   "source": [
    "def llenado3(image):\n",
    "    return image.where(cloud_img2.gt(10), QM_NDVI_2020)"
   ]
  },
  {
   "cell_type": "code",
   "execution_count": 83,
   "id": "66556f9f",
   "metadata": {
    "ExecuteTime": {
     "end_time": "2022-08-30T19:53:40.502249Z",
     "start_time": "2022-08-30T19:53:40.499803Z"
    }
   },
   "outputs": [],
   "source": [
    "img3 = llenado3(img2)"
   ]
  },
  {
   "cell_type": "code",
   "execution_count": 84,
   "id": "6bf5a11f",
   "metadata": {
    "ExecuteTime": {
     "end_time": "2022-08-30T19:53:40.506254Z",
     "start_time": "2022-08-30T19:53:40.503666Z"
    }
   },
   "outputs": [],
   "source": [
    "img3_landsat = img3.set('SENSOR_ID', 'OLI_TIRS')\n",
    "cloud_img3 = ee.Algorithms.Landsat.simpleCloudScore(img3_landsat)\n",
    "cloud_img3 = cloud_img3.select('cloud')"
   ]
  },
  {
   "cell_type": "code",
   "execution_count": 85,
   "id": "3594064f",
   "metadata": {
    "ExecuteTime": {
     "end_time": "2022-08-30T19:53:40.509258Z",
     "start_time": "2022-08-30T19:53:40.507289Z"
    }
   },
   "outputs": [],
   "source": [
    "resultados= [cloud_img3, img3_landsat]\n",
    "vis_params2=  [\n",
    "    {'palette':palette_nubes}, \n",
    "    vizParams]\n",
    "labels = [\n",
    "    'Nubes Mosaico 3',\n",
    "    'Mosaico 3']"
   ]
  },
  {
   "cell_type": "code",
   "execution_count": 86,
   "id": "b0b431e7",
   "metadata": {
    "ExecuteTime": {
     "end_time": "2022-08-30T19:53:46.027297Z",
     "start_time": "2022-08-30T19:53:40.510371Z"
    }
   },
   "outputs": [
    {
     "data": {
      "application/vnd.jupyter.widget-view+json": {
       "model_id": "e07cbc832cf44c54be60c59aa6f4927e",
       "version_major": 2,
       "version_minor": 0
      },
      "text/plain": [
       "GridspecLayout(children=(Output(layout=Layout(grid_area='widget001')), Output(layout=Layout(grid_area='widget0…"
      ]
     },
     "metadata": {},
     "output_type": "display_data"
    }
   ],
   "source": [
    "geemap.linked_maps(rows=1, cols=2, height=\"400px\", center=[-45, -75], zoom=4, \n",
    "                  ee_objects=resultados, vis_params=vis_params2, labels=labels, label_position=\"topright\")"
   ]
  },
  {
   "cell_type": "code",
   "execution_count": 87,
   "id": "34d23a94",
   "metadata": {
    "ExecuteTime": {
     "end_time": "2022-08-30T19:53:46.031652Z",
     "start_time": "2022-08-30T19:53:46.028631Z"
    }
   },
   "outputs": [],
   "source": [
    "def llenado4(image):\n",
    "    return image.where(cloud_img3.gt(10), QM_NDVI_2019)"
   ]
  },
  {
   "cell_type": "code",
   "execution_count": 88,
   "id": "ff7871a7",
   "metadata": {
    "ExecuteTime": {
     "end_time": "2022-08-30T19:53:46.035394Z",
     "start_time": "2022-08-30T19:53:46.033248Z"
    }
   },
   "outputs": [],
   "source": [
    "img4 = llenado4(img3)"
   ]
  },
  {
   "cell_type": "code",
   "execution_count": 89,
   "id": "960e5c07",
   "metadata": {
    "ExecuteTime": {
     "end_time": "2022-08-30T19:53:46.038315Z",
     "start_time": "2022-08-30T19:53:46.036463Z"
    }
   },
   "outputs": [],
   "source": [
    "img4_landsat = img4.set('SENSOR_ID', 'OLI_TIRS')\n",
    "cloud_img4 = ee.Algorithms.Landsat.simpleCloudScore(img4_landsat)\n",
    "cloud_img4 = cloud_img4.select('cloud')"
   ]
  },
  {
   "cell_type": "code",
   "execution_count": 90,
   "id": "e799a2b5",
   "metadata": {
    "ExecuteTime": {
     "end_time": "2022-08-30T19:53:46.041472Z",
     "start_time": "2022-08-30T19:53:46.039633Z"
    }
   },
   "outputs": [],
   "source": [
    "resultados= [cloud_img4, img4_landsat]\n",
    "vis_params2=  [\n",
    "    {'palette':palette_nubes}, \n",
    "    vizParams]\n",
    "labels = [\n",
    "    'Nubes Mosaico 4',\n",
    "    'Mosaico 4']"
   ]
  },
  {
   "cell_type": "code",
   "execution_count": 91,
   "id": "74b1cd77",
   "metadata": {
    "ExecuteTime": {
     "end_time": "2022-08-30T19:53:52.392273Z",
     "start_time": "2022-08-30T19:53:46.042684Z"
    }
   },
   "outputs": [
    {
     "data": {
      "application/vnd.jupyter.widget-view+json": {
       "model_id": "e29540dd7d414ebc91b79ecf19d20e1a",
       "version_major": 2,
       "version_minor": 0
      },
      "text/plain": [
       "GridspecLayout(children=(Output(layout=Layout(grid_area='widget001')), Output(layout=Layout(grid_area='widget0…"
      ]
     },
     "metadata": {},
     "output_type": "display_data"
    }
   ],
   "source": [
    "geemap.linked_maps(rows=1, cols=2, height=\"400px\", center=[-45, -75], zoom=4, \n",
    "                  ee_objects=resultados, vis_params=vis_params2, labels=labels, label_position=\"topright\")"
   ]
  },
  {
   "cell_type": "code",
   "execution_count": 92,
   "id": "f2c58601",
   "metadata": {
    "ExecuteTime": {
     "end_time": "2022-08-30T19:53:52.395024Z",
     "start_time": "2022-08-30T19:53:52.393377Z"
    }
   },
   "outputs": [],
   "source": [
    "# hansenImage = ee.Image('UMD/hansen/global_forest_change_2020_v1_8')\n",
    "# datamask = hansenImage.select('datamask')"
   ]
  },
  {
   "cell_type": "code",
   "execution_count": 93,
   "id": "d41556cd",
   "metadata": {
    "ExecuteTime": {
     "end_time": "2022-08-30T19:53:52.397970Z",
     "start_time": "2022-08-30T19:53:52.396039Z"
    }
   },
   "outputs": [],
   "source": [
    "# def llenado5(image):\n",
    "#     return image.where(datamask.eq(2), QM_NDWI_summer_sn)"
   ]
  },
  {
   "cell_type": "code",
   "execution_count": 94,
   "id": "870cf5f2",
   "metadata": {
    "ExecuteTime": {
     "end_time": "2022-08-30T19:53:52.401529Z",
     "start_time": "2022-08-30T19:53:52.399254Z"
    }
   },
   "outputs": [],
   "source": [
    "def llenado5(image):\n",
    "    return image.where(cloud_img4.gt(10), l8_summer5_sn.median())"
   ]
  },
  {
   "cell_type": "code",
   "execution_count": 95,
   "id": "03e97cef",
   "metadata": {
    "ExecuteTime": {
     "end_time": "2022-08-30T19:53:52.404359Z",
     "start_time": "2022-08-30T19:53:52.402551Z"
    }
   },
   "outputs": [],
   "source": [
    "img5 = llenado5(img4)"
   ]
  },
  {
   "cell_type": "code",
   "execution_count": 96,
   "id": "95dc3e89",
   "metadata": {
    "ExecuteTime": {
     "end_time": "2022-08-30T19:53:52.407574Z",
     "start_time": "2022-08-30T19:53:52.405560Z"
    }
   },
   "outputs": [],
   "source": [
    "img5_landsat = img5.set('SENSOR_ID', 'OLI_TIRS')\n",
    "cloud_img5 = ee.Algorithms.Landsat.simpleCloudScore(img5_landsat)\n",
    "cloud_img5 = cloud_img5.select('cloud')"
   ]
  },
  {
   "cell_type": "code",
   "execution_count": 97,
   "id": "cefb8a8f",
   "metadata": {
    "ExecuteTime": {
     "end_time": "2022-08-30T19:53:52.411438Z",
     "start_time": "2022-08-30T19:53:52.408733Z"
    }
   },
   "outputs": [],
   "source": [
    "resultados= [img4, img5]\n",
    "labels = [\n",
    "    'Mosaico 4',\n",
    "    'Mosaico 5']\n",
    "vis_params3=  [\n",
    "     vizParams, \n",
    "    vizParams]"
   ]
  },
  {
   "cell_type": "code",
   "execution_count": 98,
   "id": "966cfb40",
   "metadata": {
    "ExecuteTime": {
     "end_time": "2022-08-30T19:53:58.849260Z",
     "start_time": "2022-08-30T19:53:52.412665Z"
    }
   },
   "outputs": [
    {
     "data": {
      "application/vnd.jupyter.widget-view+json": {
       "model_id": "c8d2b7a62d7a46459d2e8eaee08a78dd",
       "version_major": 2,
       "version_minor": 0
      },
      "text/plain": [
       "GridspecLayout(children=(Output(layout=Layout(grid_area='widget001')), Output(layout=Layout(grid_area='widget0…"
      ]
     },
     "metadata": {},
     "output_type": "display_data"
    }
   ],
   "source": [
    "geemap.linked_maps(rows=1, cols=2, height=\"400px\", center=[-45, -75], zoom=4, \n",
    "                   ee_objects=resultados, vis_params=vis_params3, labels=labels, label_position=\"topright\")"
   ]
  },
  {
   "cell_type": "code",
   "execution_count": 99,
   "id": "22fe832e",
   "metadata": {
    "ExecuteTime": {
     "end_time": "2022-08-30T19:53:58.852379Z",
     "start_time": "2022-08-30T19:53:58.850441Z"
    }
   },
   "outputs": [],
   "source": [
    "resultados= [cloud_img5, img5]\n",
    "labels = [\n",
    "    'Nubes',\n",
    "    'Mosaico 5']\n",
    "vis_params3=  [\n",
    "     {'palette':palette_nubes}, \n",
    "    vizParams]"
   ]
  },
  {
   "cell_type": "code",
   "execution_count": 100,
   "id": "4f012564",
   "metadata": {
    "ExecuteTime": {
     "end_time": "2022-08-30T19:54:05.388210Z",
     "start_time": "2022-08-30T19:53:58.853420Z"
    }
   },
   "outputs": [
    {
     "data": {
      "application/vnd.jupyter.widget-view+json": {
       "model_id": "bcd75fbfe7f6451d837ead3e9c59b9f2",
       "version_major": 2,
       "version_minor": 0
      },
      "text/plain": [
       "GridspecLayout(children=(Output(layout=Layout(grid_area='widget001')), Output(layout=Layout(grid_area='widget0…"
      ]
     },
     "metadata": {},
     "output_type": "display_data"
    }
   ],
   "source": [
    "geemap.linked_maps(rows=1, cols=2, height=\"400px\", center=[-45, -75], zoom=4, \n",
    "                   ee_objects=resultados, vis_params=vis_params3, labels=labels, label_position=\"topright\")"
   ]
  },
  {
   "cell_type": "code",
   "execution_count": 101,
   "id": "816e20f5",
   "metadata": {
    "ExecuteTime": {
     "end_time": "2022-08-30T19:54:05.391300Z",
     "start_time": "2022-08-30T19:54:05.389363Z"
    }
   },
   "outputs": [],
   "source": [
    "def llenado6(image):\n",
    "    return image.where(cloud_img5.gt(10),l8_summer5.qualityMosaic('NDVI'))"
   ]
  },
  {
   "cell_type": "code",
   "execution_count": 102,
   "id": "4ea42282",
   "metadata": {
    "ExecuteTime": {
     "end_time": "2022-08-30T19:54:05.394589Z",
     "start_time": "2022-08-30T19:54:05.392766Z"
    }
   },
   "outputs": [],
   "source": [
    "img6 = llenado6(img5)"
   ]
  },
  {
   "cell_type": "code",
   "execution_count": 103,
   "id": "b510be19",
   "metadata": {
    "ExecuteTime": {
     "end_time": "2022-08-30T19:54:05.398260Z",
     "start_time": "2022-08-30T19:54:05.395867Z"
    }
   },
   "outputs": [],
   "source": [
    "img6_landsat = img6.set('SENSOR_ID', 'OLI_TIRS')\n",
    "cloud_img6 = ee.Algorithms.Landsat.simpleCloudScore(img6_landsat)\n",
    "cloud_img6 = cloud_img6.select('cloud')"
   ]
  },
  {
   "cell_type": "code",
   "execution_count": 104,
   "id": "bc0c68bc",
   "metadata": {
    "ExecuteTime": {
     "end_time": "2022-08-30T19:54:05.401132Z",
     "start_time": "2022-08-30T19:54:05.399324Z"
    }
   },
   "outputs": [],
   "source": [
    "resultados= [img5, img6]\n",
    "labels = [\n",
    "    'Mosaico 5',\n",
    "    'Mosaico 6']\n",
    "vis_params3=  [\n",
    "     vizParams, \n",
    "    vizParams]"
   ]
  },
  {
   "cell_type": "code",
   "execution_count": 105,
   "id": "19ee8ace",
   "metadata": {
    "ExecuteTime": {
     "end_time": "2022-08-30T19:54:13.032624Z",
     "start_time": "2022-08-30T19:54:05.402314Z"
    }
   },
   "outputs": [
    {
     "data": {
      "application/vnd.jupyter.widget-view+json": {
       "model_id": "079213780c6f44e5875659995f6fa24d",
       "version_major": 2,
       "version_minor": 0
      },
      "text/plain": [
       "GridspecLayout(children=(Output(layout=Layout(grid_area='widget001')), Output(layout=Layout(grid_area='widget0…"
      ]
     },
     "metadata": {},
     "output_type": "display_data"
    }
   ],
   "source": [
    "geemap.linked_maps(rows=1, cols=2, height=\"400px\", center=[-45, -75], zoom=4, \n",
    "                   ee_objects=resultados, vis_params=vis_params3, labels=labels, label_position=\"topright\")"
   ]
  },
  {
   "cell_type": "code",
   "execution_count": 106,
   "id": "2042ec0c",
   "metadata": {
    "ExecuteTime": {
     "end_time": "2022-08-30T19:54:13.036153Z",
     "start_time": "2022-08-30T19:54:13.034000Z"
    }
   },
   "outputs": [],
   "source": [
    "resultados= [cloud_img6, img6]\n",
    "labels = [\n",
    "    'Nubes 6',\n",
    "    'Mosaico 6']\n",
    "vis_params3=  [\n",
    "     {'palette':palette_nubes}, \n",
    "    vizParams]"
   ]
  },
  {
   "cell_type": "code",
   "execution_count": 107,
   "id": "2b448abf",
   "metadata": {
    "ExecuteTime": {
     "end_time": "2022-08-30T19:54:19.478590Z",
     "start_time": "2022-08-30T19:54:13.037266Z"
    }
   },
   "outputs": [
    {
     "data": {
      "application/vnd.jupyter.widget-view+json": {
       "model_id": "20ac0966e358406bb36a9d305c0476d6",
       "version_major": 2,
       "version_minor": 0
      },
      "text/plain": [
       "GridspecLayout(children=(Output(layout=Layout(grid_area='widget001')), Output(layout=Layout(grid_area='widget0…"
      ]
     },
     "metadata": {},
     "output_type": "display_data"
    }
   ],
   "source": [
    "geemap.linked_maps(rows=1, cols=2, height=\"400px\", center=[-45, -75], zoom=4, \n",
    "                   ee_objects=resultados, vis_params=vis_params3, labels=labels, label_position=\"topright\")"
   ]
  },
  {
   "cell_type": "code",
   "execution_count": 108,
   "id": "9e2e7562",
   "metadata": {
    "ExecuteTime": {
     "end_time": "2022-08-30T19:54:19.481626Z",
     "start_time": "2022-08-30T19:54:19.479805Z"
    }
   },
   "outputs": [],
   "source": [
    "hansenImage = ee.Image('UMD/hansen/global_forest_change_2015')\n",
    "datamask = hansenImage.select('datamask')"
   ]
  },
  {
   "cell_type": "code",
   "execution_count": 109,
   "id": "2ceede78",
   "metadata": {
    "ExecuteTime": {
     "end_time": "2022-08-30T19:54:19.484764Z",
     "start_time": "2022-08-30T19:54:19.482832Z"
    }
   },
   "outputs": [],
   "source": [
    "def llenado7(image):\n",
    "    return image.where(datamask.eq(2),l8_summer5_sn.median())"
   ]
  },
  {
   "cell_type": "code",
   "execution_count": 110,
   "id": "9aca5e96",
   "metadata": {
    "ExecuteTime": {
     "end_time": "2022-08-30T19:54:19.487845Z",
     "start_time": "2022-08-30T19:54:19.486060Z"
    }
   },
   "outputs": [],
   "source": [
    "img7 = llenado7(img6)"
   ]
  },
  {
   "cell_type": "code",
   "execution_count": 111,
   "id": "4b6e7672",
   "metadata": {
    "ExecuteTime": {
     "end_time": "2022-08-30T19:54:19.491651Z",
     "start_time": "2022-08-30T19:54:19.489043Z"
    }
   },
   "outputs": [],
   "source": [
    "resultados= [img6, img7]\n",
    "labels = [\n",
    "    'Mosaico 6',\n",
    "    'Mosaico 7']\n",
    "vis_params3=  [\n",
    "     vizParams, \n",
    "    vizParams]"
   ]
  },
  {
   "cell_type": "code",
   "execution_count": 112,
   "id": "37e695c0",
   "metadata": {
    "ExecuteTime": {
     "end_time": "2022-08-30T19:54:26.641940Z",
     "start_time": "2022-08-30T19:54:19.492667Z"
    }
   },
   "outputs": [
    {
     "data": {
      "application/vnd.jupyter.widget-view+json": {
       "model_id": "4ea9dda04155400cae259b7595435ccb",
       "version_major": 2,
       "version_minor": 0
      },
      "text/plain": [
       "GridspecLayout(children=(Output(layout=Layout(grid_area='widget001')), Output(layout=Layout(grid_area='widget0…"
      ]
     },
     "metadata": {},
     "output_type": "display_data"
    }
   ],
   "source": [
    "geemap.linked_maps(rows=1, cols=2, height=\"400px\", center=[-45, -75], zoom=4, \n",
    "                   ee_objects=resultados, vis_params=vis_params3, labels=labels, label_position=\"topright\")"
   ]
  },
  {
   "cell_type": "code",
   "execution_count": 113,
   "id": "e8378a00",
   "metadata": {
    "ExecuteTime": {
     "end_time": "2022-08-30T19:54:26.645342Z",
     "start_time": "2022-08-30T19:54:26.643159Z"
    }
   },
   "outputs": [],
   "source": [
    "img7_landsat = img7.set('SENSOR_ID', 'OLI_TIRS')\n",
    "cloud_img7 = ee.Algorithms.Landsat.simpleCloudScore(img7_landsat)\n",
    "cloud_img7 = cloud_img7.select('cloud')"
   ]
  },
  {
   "cell_type": "code",
   "execution_count": 114,
   "id": "ad55ba55",
   "metadata": {
    "ExecuteTime": {
     "end_time": "2022-08-30T19:54:26.648326Z",
     "start_time": "2022-08-30T19:54:26.646527Z"
    }
   },
   "outputs": [],
   "source": [
    "# def llenado8(image):\n",
    "#     return image.where(cloud_img7.gt(10),l8_summer5_sn.median())"
   ]
  },
  {
   "cell_type": "code",
   "execution_count": 115,
   "id": "6fda5e1b",
   "metadata": {
    "ExecuteTime": {
     "end_time": "2022-08-30T19:54:26.651262Z",
     "start_time": "2022-08-30T19:54:26.649690Z"
    }
   },
   "outputs": [],
   "source": [
    "# img8 = llenado8(img7)"
   ]
  },
  {
   "cell_type": "code",
   "execution_count": 116,
   "id": "13743162",
   "metadata": {
    "ExecuteTime": {
     "end_time": "2022-08-30T19:54:26.654318Z",
     "start_time": "2022-08-30T19:54:26.652548Z"
    }
   },
   "outputs": [],
   "source": [
    "resultados= [img6, img7]\n",
    "labels = [\n",
    "    'Mosaico 6',\n",
    "    'Mosaico 7']\n",
    "vis_params3=  [\n",
    "     vizParams, \n",
    "    vizParams]"
   ]
  },
  {
   "cell_type": "code",
   "execution_count": 117,
   "id": "415c0dfa",
   "metadata": {
    "ExecuteTime": {
     "end_time": "2022-08-30T19:54:34.442632Z",
     "start_time": "2022-08-30T19:54:26.655569Z"
    }
   },
   "outputs": [
    {
     "data": {
      "application/vnd.jupyter.widget-view+json": {
       "model_id": "ff43f16426c54f7d8a6722305d1886ad",
       "version_major": 2,
       "version_minor": 0
      },
      "text/plain": [
       "GridspecLayout(children=(Output(layout=Layout(grid_area='widget001')), Output(layout=Layout(grid_area='widget0…"
      ]
     },
     "metadata": {},
     "output_type": "display_data"
    }
   ],
   "source": [
    "geemap.linked_maps(rows=1, cols=2, height=\"400px\", center=[-45, -75], zoom=4, \n",
    "                   ee_objects=resultados, vis_params=vis_params3, labels=labels, label_position=\"topright\")"
   ]
  },
  {
   "cell_type": "code",
   "execution_count": 118,
   "id": "16158ea3",
   "metadata": {
    "ExecuteTime": {
     "end_time": "2022-08-30T19:54:42.094748Z",
     "start_time": "2022-08-30T19:54:34.443799Z"
    },
    "tags": []
   },
   "outputs": [
    {
     "data": {
      "application/vnd.jupyter.widget-view+json": {
       "model_id": "136c89ebaad94732aa5981b0a242f49e",
       "version_major": 2,
       "version_minor": 0
      },
      "text/plain": [
       "Map(center=[-45, -70], controls=(WidgetControl(options=['position', 'transparent_bg'], widget=HBox(children=(T…"
      ]
     },
     "metadata": {},
     "output_type": "display_data"
    }
   ],
   "source": [
    "Map2.addLayer(cloud_img5,{'palette':palette_nubes},'Nubes 6')\n",
    "Map2.addLayer(l8_summer6.qualityMosaic('NDVI'), vizParams, 'QM NDVI CLC')\n",
    "Map2.addLayer(img7, vizParams, 'Mosaico Final')\n",
    "Map2"
   ]
  },
  {
   "cell_type": "markdown",
   "id": "13d14efe",
   "metadata": {
    "tags": []
   },
   "source": [
    "### Descarga Mosaico"
   ]
  },
  {
   "cell_type": "code",
   "execution_count": 119,
   "id": "44fe4e9b",
   "metadata": {
    "ExecuteTime": {
     "end_time": "2022-08-30T19:54:42.103753Z",
     "start_time": "2022-08-30T19:54:42.095954Z"
    },
    "jupyter": {
     "source_hidden": true
    },
    "tags": []
   },
   "outputs": [],
   "source": [
    "geometry_exp = ee.Geometry.Polygon(\n",
    "        [[[-72.56281773604495, -33.81999514196144],\n",
    "          [-72.96381871260745, -35.294382843203024],\n",
    "          [-73.27692906416995, -35.25850698608905],\n",
    "          [-74.15583531416995, -38.13757615203617],\n",
    "          [-73.96357457198245, -38.16349478321529],\n",
    "          [-74.41603250978783, -39.59214901926122],\n",
    "          [-73.71840067385033, -39.70212049569608],\n",
    "          [-74.48057965994737, -41.961233926702086],\n",
    "          [-76.23199334221133, -46.599308425949715],\n",
    "          [-75.71838250236758, -46.6705186900265],\n",
    "          [-76.31583416780423, -48.08335993023956],\n",
    "          [-75.6739504332226, -48.17601084778724],\n",
    "          [-76.1812028986966, -49.3089458997328],\n",
    "          [-75.8516130549466, -49.35190435466257],\n",
    "          [-75.88182545729035, -49.42252520588146],\n",
    "          [-75.62776661939972, -49.4593908439046],\n",
    "          [-75.87838309772656, -50.0286830263256],\n",
    "          [-75.4746355391328, -50.08951678614621],\n",
    "          [-75.54325576346766, -50.23909657453096],\n",
    "          [-75.77780697097086, -50.76007049594944],\n",
    "          [-75.16119930495523, -50.84458853545005],\n",
    "          [-75.38504574050211, -51.344039508567974],\n",
    "          [-75.5541538866841, -51.71140521484993],\n",
    "          [-75.18336531246536, -51.75648162278235],\n",
    "          [-75.47788882049618, -52.3659753295982],\n",
    "          [-74.75894718310815, -52.46884703800526],\n",
    "          [-75.08565455837835, -53.06208069103826],\n",
    "          [-74.55801479059262, -53.126414996444055],\n",
    "          [-74.81690883977036, -53.6371915734125],\n",
    "          [-73.44408000172288, -53.83741753537409],\n",
    "          [-73.50862467945726, -53.95798563315933],\n",
    "          [-73.45231974781663, -53.967680681913386],\n",
    "          [-73.53197062672288, -54.11766576333605],\n",
    "          [-73.77219189508037, -54.57485104154676],\n",
    "          [-72.34049166499341, -54.77775087176573],\n",
    "          [-72.47759402717024, -55.03231503944354],\n",
    "          [-71.05285526571967, -55.24340674895388],\n",
    "          [-71.08306766806342, -55.29113504937561],\n",
    "          [-69.81960741798575, -55.47109132991434],\n",
    "          [-69.85119311134513, -55.51932330880519],\n",
    "          [-69.68227831642325, -55.544194128455445],\n",
    "          [-69.79214159767325, -55.75341614311607],\n",
    "          [-66.85410518726452, -56.21137383375629],\n",
    "          [-66.30968752348785, -55.25322454720416],\n",
    "          [-65.44176760161285, -55.378260612328376],\n",
    "          [-65.29222191220039, -55.084940556988364],\n",
    "          [-63.8145607793879, -55.29503930747886],\n",
    "          [-63.4410256231379, -54.559610949790994],\n",
    "          [-66.01731956845039, -54.18844646199444],\n",
    "          [-65.92942894345039, -53.97576673331468],\n",
    "          [-67.35765159970039, -53.77173637481835],\n",
    "          [-66.83490788218774, -52.56216102836118],\n",
    "          [-68.29059635875024, -52.351280557744616],\n",
    "          [-67.13664467133525, -49.5665018755825],\n",
    "          [-65.6891959408665, -49.77447361491692],\n",
    "          [-64.6040407061826, -46.886773053508534],\n",
    "          [-66.07346209290135, -46.670468623465915],\n",
    "          [-65.60651222417681, -45.29237148760689],\n",
    "          [-64.13159767339556, -45.51413819831776],\n",
    "          [-63.11762183127383, -42.44210625114028],\n",
    "          [-61.64820044455508, -42.65254570178212],\n",
    "          [-60.691700635610566, -39.58656313087865],\n",
    "          [-60.612049756704316, -39.597145764356114],\n",
    "          [-60.214053037778356, -38.26345264755797],\n",
    "          [-62.338430585556544, -37.86345563921212],\n",
    "          [-62.431814374619044, -38.13616213643378],\n",
    "          [-63.880475463562526, -37.8656239671591],\n",
    "          [-63.965619506531276, -38.12752037872568],\n",
    "          [-65.43863114657343, -37.86678770192114],\n",
    "          [-65.52652177157343, -38.12867996539086],\n",
    "          [-66.31753739657343, -37.98811028708228],\n",
    "          [-65.98609312949165, -36.82548737245019],\n",
    "          [-68.06866521074468, -36.43149799324939],\n",
    "          [-68.16204899980718, -36.70723234878123],\n",
    "          [-69.00250310136968, -36.55294237984414],\n",
    "          [-68.66838285254276, -35.38834808765389],\n",
    "          [-70.73190167990279, -35.008946233837705],\n",
    "          [-70.82528546896529, -35.29190694633577],\n",
    "          [-71.68771222677779, -35.11685679848462],\n",
    "          [-71.37460187521529, -33.95679291780399],\n",
    "          [-72.53365949240279, -33.733238932504804]]])"
   ]
  },
  {
   "cell_type": "code",
   "execution_count": 120,
   "id": "838a2f5f",
   "metadata": {
    "ExecuteTime": {
     "end_time": "2022-08-30T19:54:42.107223Z",
     "start_time": "2022-08-30T19:54:42.105264Z"
    }
   },
   "outputs": [],
   "source": [
    "mosaico_final= img7.select('B1','B2','B3','B4','B5','B6','B7')\n"
   ]
  },
  {
   "cell_type": "code",
   "execution_count": 121,
   "id": "ba8d17a2",
   "metadata": {
    "ExecuteTime": {
     "end_time": "2022-08-30T19:54:42.111203Z",
     "start_time": "2022-08-30T19:54:42.108677Z"
    }
   },
   "outputs": [],
   "source": [
    "B1 = img7.select('B1')\n",
    "B2 = img7.select('B2')\n",
    "B3 = img7.select('B3')\n",
    "B4 = img7.select('B4')\n",
    "B5 = img7.select('B5')\n",
    "B6 = img7.select('B6')\n",
    "B7 = img7.select('B7')"
   ]
  },
  {
   "cell_type": "code",
   "execution_count": 122,
   "id": "f6ac7669",
   "metadata": {
    "ExecuteTime": {
     "end_time": "2022-08-30T19:54:42.117795Z",
     "start_time": "2022-08-30T19:54:42.112240Z"
    }
   },
   "outputs": [],
   "source": [
    "task_mosaico_B1 = ee.batch.Export.image.toDrive(**{\n",
    "    'image': B1,\n",
    "    'description':'B1',\n",
    "    'folder':'Earth Engine',\n",
    "    'region': geometry_exp.bounds(),\n",
    "    'scale':30,\n",
    "    'crsTransform':[30, 0, 214185, 0, -30, -4825185], \n",
    "    'crs':'EPSG:32719',\n",
    "    'maxPixels':1e13\n",
    "})\n",
    "task_mosaico_B2 = ee.batch.Export.image.toDrive(**{\n",
    "    'image': B2,\n",
    "    'description':'B2',\n",
    "    'folder':'Earth Engine',\n",
    "    'region': geometry_exp.bounds(),\n",
    "    'scale':30,\n",
    "    'crsTransform':[30, 0, 214185, 0, -30, -4825185], \n",
    "    'crs':'EPSG:32719',\n",
    "    'maxPixels':1e13\n",
    "})\n",
    "task_mosaico_B3 = ee.batch.Export.image.toDrive(**{\n",
    "    'image': B3,\n",
    "    'description':'B3',\n",
    "    'folder':'Earth Engine',\n",
    "    'region': geometry_exp.bounds(),\n",
    "    'scale':30,\n",
    "    'crsTransform':[30, 0, 214185, 0, -30, -4825185], \n",
    "    'crs':'EPSG:32719',\n",
    "    'maxPixels':1e13\n",
    "})\n",
    "task_mosaico_B4 = ee.batch.Export.image.toDrive(**{\n",
    "    'image': B4,\n",
    "    'description':'B4',\n",
    "    'folder':'Earth Engine',\n",
    "    'region': geometry_exp.bounds(),\n",
    "    'scale':30,\n",
    "    'crsTransform':[30, 0, 214185, 0, -30, -4825185], \n",
    "    'crs':'EPSG:32719',\n",
    "    'maxPixels':1e13\n",
    "})\n",
    "task_mosaico_B5 = ee.batch.Export.image.toDrive(**{\n",
    "    'image': B5,\n",
    "    'description':'B5',\n",
    "    'folder':'Earth Engine',\n",
    "    'region': geometry_exp.bounds(),\n",
    "    'scale':30,\n",
    "    'crsTransform':[30, 0, 214185, 0, -30, -4825185], \n",
    "    'crs':'EPSG:32719',\n",
    "    'maxPixels':1e13\n",
    "})\n",
    "task_mosaico_B6 = ee.batch.Export.image.toDrive(**{\n",
    "    'image': B6,\n",
    "    'description':'B6',\n",
    "    'folder':'Earth Engine',\n",
    "    'region': geometry_exp.bounds(),\n",
    "    'scale':30,\n",
    "    'crsTransform':[30, 0, 214185, 0, -30, -4825185], \n",
    "    'crs':'EPSG:32719',\n",
    "    'maxPixels':1e13\n",
    "})\n",
    "task_mosaico_B7 = ee.batch.Export.image.toDrive(**{\n",
    "    'image': B7,\n",
    "    'description':'B7',\n",
    "    'folder':'Earth Engine',\n",
    "    'region': geometry_exp.bounds(),\n",
    "    'scale':30,\n",
    "    'crsTransform':[30, 0, 214185, 0, -30, -4825185], \n",
    "    'crs':'EPSG:32719',\n",
    "    'maxPixels':1e13\n",
    "})"
   ]
  },
  {
   "cell_type": "code",
   "execution_count": 123,
   "id": "40353a77",
   "metadata": {
    "ExecuteTime": {
     "end_time": "2022-08-30T19:54:42.120799Z",
     "start_time": "2022-08-30T19:54:42.118932Z"
    }
   },
   "outputs": [],
   "source": [
    "# task_mosaico_B1.start()\n",
    "# task_mosaico_B2.start()\n",
    "# task_mosaico_B3.start()\n",
    "# task_mosaico_B4.start()\n",
    "# task_mosaico_B5.start()\n",
    "# task_mosaico_B6.start()\n",
    "# task_mosaico_B7.start()\n"
   ]
  },
  {
   "cell_type": "markdown",
   "id": "bb6585e7",
   "metadata": {},
   "source": [
    "## Taseeled cap"
   ]
  },
  {
   "cell_type": "code",
   "execution_count": 124,
   "id": "9f44feaf",
   "metadata": {
    "ExecuteTime": {
     "end_time": "2022-08-30T19:54:42.123703Z",
     "start_time": "2022-08-30T19:54:42.121853Z"
    }
   },
   "outputs": [],
   "source": [
    "tasse_img7 = img7.select(['B2', 'B3', 'B4', 'B5', 'B6', 'B7'])\n",
    "arrayimage1dm = tasse_img7.toArray()\n",
    "arrayimage2dm = arrayimage1dm.toArray(1)"
   ]
  },
  {
   "cell_type": "code",
   "execution_count": 125,
   "id": "083de568",
   "metadata": {
    "ExecuteTime": {
     "end_time": "2022-08-30T19:54:42.127835Z",
     "start_time": "2022-08-30T19:54:42.125101Z"
    }
   },
   "outputs": [],
   "source": [
    "coef = ee.Array([\n",
    "    [0.3029, 0.2786, 0.4733, 0.5599, 0.508, 0.1872], \n",
    "    [-0.2941, -0.243, -0.5424, 0.7276, 0.0713, -0.1608],\n",
    "    [0.1511, 0.1973, 0.3283, 0.3407, -0.7117, -0.4559],\n",
    "    [-0.8239, 0.0849, 0.4396, -0.058, 0.2013, -0.2773],\n",
    "    [-0.3294, 0.0557, 0.1056, 0.1855, -0.4349, 0.8085],\n",
    "    [0.1079, -0.9023, 0.4119, 0.0575, -0.0259, 0.0252]\n",
    "])"
   ]
  },
  {
   "cell_type": "code",
   "execution_count": 126,
   "id": "e029d2af",
   "metadata": {
    "ExecuteTime": {
     "end_time": "2022-08-30T19:54:42.131580Z",
     "start_time": "2022-08-30T19:54:42.128936Z"
    }
   },
   "outputs": [],
   "source": [
    "componentes = ee.Image(coef)\\\n",
    "                .matrixMultiply(arrayimage2dm) \\\n",
    "                .arrayProject([0])\\\n",
    "                .arrayFlatten(\n",
    "                [['brightness','greenness','wetness','fourth','fifth','sixth']])"
   ]
  },
  {
   "cell_type": "code",
   "execution_count": 127,
   "id": "ef5610d0",
   "metadata": {
    "ExecuteTime": {
     "end_time": "2022-08-30T19:54:42.134369Z",
     "start_time": "2022-08-30T19:54:42.132564Z"
    }
   },
   "outputs": [],
   "source": [
    "vizParamstess = {\n",
    "  'bands': ['brightness', 'greenness', 'wetness'],\n",
    "    'min': -0.1,\n",
    "    'max': [0.6, 0.2, 0.2]\n",
    "}"
   ]
  },
  {
   "cell_type": "code",
   "execution_count": 128,
   "id": "d4251cc2",
   "metadata": {
    "ExecuteTime": {
     "end_time": "2022-08-30T19:54:44.818577Z",
     "start_time": "2022-08-30T19:54:42.135628Z"
    }
   },
   "outputs": [
    {
     "data": {
      "application/vnd.jupyter.widget-view+json": {
       "model_id": "3b26a57decea4d27a169a3551a0a021c",
       "version_major": 2,
       "version_minor": 0
      },
      "text/plain": [
       "Map(center=[-45, -70], controls=(WidgetControl(options=['position', 'transparent_bg'], widget=HBox(children=(T…"
      ]
     },
     "metadata": {},
     "output_type": "display_data"
    }
   ],
   "source": [
    "Map3.addLayer(componentes,vizParamstess, 'Tesseled cap')\n",
    "Map3"
   ]
  },
  {
   "cell_type": "code",
   "execution_count": 129,
   "id": "517754c9",
   "metadata": {
    "ExecuteTime": {
     "end_time": "2022-08-30T19:54:44.821775Z",
     "start_time": "2022-08-30T19:54:44.819881Z"
    }
   },
   "outputs": [],
   "source": [
    "tasseled = componentes.select('brightness','greenness','wetness')"
   ]
  },
  {
   "cell_type": "code",
   "execution_count": 130,
   "id": "fe6ec557-e10a-4888-a95d-3cfd4175eac5",
   "metadata": {
    "ExecuteTime": {
     "end_time": "2022-08-30T19:54:44.825127Z",
     "start_time": "2022-08-30T19:54:44.823264Z"
    }
   },
   "outputs": [],
   "source": [
    "brightness = tasseled.select('brightness')\n",
    "greenness = tasseled.select('greenness')\n",
    "wetness = tasseled.select('wetness')"
   ]
  },
  {
   "cell_type": "code",
   "execution_count": 131,
   "id": "b0ea543b-0bd0-47de-9f2a-06f55ea1f2d9",
   "metadata": {
    "ExecuteTime": {
     "end_time": "2022-08-30T19:54:44.829643Z",
     "start_time": "2022-08-30T19:54:44.826334Z"
    }
   },
   "outputs": [],
   "source": [
    "task_brightness = ee.batch.Export.image.toDrive(**{\n",
    "    'image': brightness,\n",
    "    'description':'brightness',\n",
    "    'folder':'Earth Engine',\n",
    "    'region': geometry_exp.bounds(),\n",
    "    'scale':30,\n",
    "    'crsTransform':[30, 0, 214185, 0, -30, -4825185], \n",
    "    'crs':'EPSG:32719',\n",
    "    'maxPixels':1e13\n",
    "})\n",
    "task_greenness = ee.batch.Export.image.toDrive(**{\n",
    "    'image': greenness,\n",
    "    'description':'greenness',\n",
    "    'folder':'Earth Engine',\n",
    "    'region': geometry_exp.bounds(),\n",
    "    'scale':30,\n",
    "    'crsTransform':[30, 0, 214185, 0, -30, -4825185], \n",
    "    'crs':'EPSG:32719',\n",
    "    'maxPixels':1e13\n",
    "})\n",
    "task_wetness = ee.batch.Export.image.toDrive(**{\n",
    "    'image': wetness,\n",
    "    'description':'wetness',\n",
    "    'folder':'Earth Engine',\n",
    "    'region': geometry_exp.bounds(),\n",
    "    'scale':30,\n",
    "    'crsTransform':[30, 0, 214185, 0, -30, -4825185], \n",
    "    'crs':'EPSG:32719',\n",
    "    'maxPixels':1e13\n",
    "})"
   ]
  },
  {
   "cell_type": "code",
   "execution_count": 132,
   "id": "1fd3cda3-860a-4321-b597-b030430fdd22",
   "metadata": {
    "ExecuteTime": {
     "end_time": "2022-08-30T19:54:44.832542Z",
     "start_time": "2022-08-30T19:54:44.831046Z"
    }
   },
   "outputs": [],
   "source": [
    "# task_brightness.start()\n",
    "# task_greenness.start()\n",
    "# task_wetness.start()"
   ]
  },
  {
   "cell_type": "markdown",
   "id": "4fd1e42b",
   "metadata": {},
   "source": [
    "## Texturas"
   ]
  },
  {
   "cell_type": "markdown",
   "id": "3696dd4f",
   "metadata": {},
   "source": [
    "TM"
   ]
  },
  {
   "cell_type": "code",
   "execution_count": 133,
   "id": "4fe835da",
   "metadata": {
    "ExecuteTime": {
     "end_time": "2022-08-30T19:54:44.835837Z",
     "start_time": "2022-08-30T19:54:44.833855Z"
    }
   },
   "outputs": [],
   "source": [
    "text_qm = img7.select('B1','B2','B3','B4','B5','B6','B7')\n",
    "text_qm_array = text_qm.toArray()\n",
    "text_qm_array = text_qm_array.toArray(1)"
   ]
  },
  {
   "cell_type": "code",
   "execution_count": 134,
   "id": "b6b25cb8",
   "metadata": {
    "ExecuteTime": {
     "end_time": "2022-08-30T19:54:44.839266Z",
     "start_time": "2022-08-30T19:54:44.837016Z"
    }
   },
   "outputs": [],
   "source": [
    "coef100 = ee.Array([\n",
    "    [100,0,0,0,0,0,0],\n",
    "    [0,100,0,0,0,0,0],\n",
    "    [0,0,100,0,0,0,0],\n",
    "    [0,0,0,100,0,0,0],\n",
    "    [0,0,0,0,100,0,0],\n",
    "    [0,0,0,0,0,100,0],\n",
    "    [0,0,0,0,0,0,100],\n",
    "    ])"
   ]
  },
  {
   "cell_type": "code",
   "execution_count": 135,
   "id": "9fe3eda4",
   "metadata": {
    "ExecuteTime": {
     "end_time": "2022-08-30T19:54:44.842638Z",
     "start_time": "2022-08-30T19:54:44.840553Z"
    }
   },
   "outputs": [],
   "source": [
    "factor_qm = ee.Image(coef100)\\\n",
    "                .matrixMultiply(text_qm_array) \\\n",
    "                .arrayProject([0])\\\n",
    "                .arrayFlatten(\n",
    "                [['B1','B2','B3','B4','B5','B6','B7']])"
   ]
  },
  {
   "cell_type": "code",
   "execution_count": 136,
   "id": "5e637b0a",
   "metadata": {
    "ExecuteTime": {
     "end_time": "2022-08-30T19:54:44.845454Z",
     "start_time": "2022-08-30T19:54:44.843840Z"
    }
   },
   "outputs": [],
   "source": [
    "testint_txt_qm = factor_qm.int()"
   ]
  },
  {
   "cell_type": "code",
   "execution_count": 137,
   "id": "0e6e846c",
   "metadata": {
    "ExecuteTime": {
     "end_time": "2022-08-30T19:54:44.848532Z",
     "start_time": "2022-08-30T19:54:44.846670Z"
    }
   },
   "outputs": [],
   "source": [
    "txt_qm = testint_txt_qm.glcmTexture(3)"
   ]
  },
  {
   "cell_type": "markdown",
   "id": "2c7c7ef7-db0a-4819-a31d-e555ad0d7c1d",
   "metadata": {},
   "source": [
    "Banda 5 NIR"
   ]
  },
  {
   "cell_type": "code",
   "execution_count": 138,
   "id": "7f1b16d8-0e1b-4325-a8c2-fb1c2f6fa3b8",
   "metadata": {
    "ExecuteTime": {
     "end_time": "2022-08-30T19:54:44.851482Z",
     "start_time": "2022-08-30T19:54:44.849593Z"
    }
   },
   "outputs": [],
   "source": [
    "txt_b5 = img7.select('B5')\n",
    "text_b5_array = txt_b5.toArray()\n",
    "text_b5_array = text_b5_array.toArray(1)"
   ]
  },
  {
   "cell_type": "code",
   "execution_count": 139,
   "id": "f44cb36a-a755-488f-ad8a-3adf6ee4f84d",
   "metadata": {
    "ExecuteTime": {
     "end_time": "2022-08-30T19:54:44.854731Z",
     "start_time": "2022-08-30T19:54:44.852858Z"
    }
   },
   "outputs": [],
   "source": [
    "coef2 = ee.Array([[100]])"
   ]
  },
  {
   "cell_type": "code",
   "execution_count": 140,
   "id": "92528f6c-850e-4bd3-acbe-e29a54916edd",
   "metadata": {
    "ExecuteTime": {
     "end_time": "2022-08-30T19:54:44.857859Z",
     "start_time": "2022-08-30T19:54:44.855931Z"
    }
   },
   "outputs": [],
   "source": [
    "factor_b5 = ee.Image(coef2)\\\n",
    "                .matrixMultiply(text_b5_array) \\\n",
    "                .arrayProject([0])\\\n",
    "                .arrayFlatten(\n",
    "                [['B5']])"
   ]
  },
  {
   "cell_type": "code",
   "execution_count": 141,
   "id": "4a3ef7b4-c487-413e-b132-3f0592cb763a",
   "metadata": {
    "ExecuteTime": {
     "end_time": "2022-08-30T19:54:44.861329Z",
     "start_time": "2022-08-30T19:54:44.859257Z"
    }
   },
   "outputs": [],
   "source": [
    "b5_txt = factor_b5.int()"
   ]
  },
  {
   "cell_type": "code",
   "execution_count": 142,
   "id": "daa8cd94-e265-4e87-bd86-06f037445a83",
   "metadata": {
    "ExecuteTime": {
     "end_time": "2022-08-30T19:54:44.864462Z",
     "start_time": "2022-08-30T19:54:44.862663Z"
    }
   },
   "outputs": [],
   "source": [
    "b5_texturas = b5_txt.glcmTexture(3)"
   ]
  },
  {
   "cell_type": "code",
   "execution_count": 143,
   "id": "c6362497-043a-4b0b-ab3c-4f938f891ec1",
   "metadata": {
    "ExecuteTime": {
     "end_time": "2022-08-30T19:54:44.868009Z",
     "start_time": "2022-08-30T19:54:44.865719Z"
    }
   },
   "outputs": [],
   "source": [
    "texturas_b5 = b5_texturas\n",
    "texturas_b5 = texturas_b5.toArray()\n",
    "texturas_b5 = texturas_b5.toArray(1)"
   ]
  },
  {
   "cell_type": "code",
   "execution_count": 144,
   "id": "5bc15c96-891e-4748-9cff-d188e939211c",
   "metadata": {
    "ExecuteTime": {
     "end_time": "2022-08-30T19:54:44.874663Z",
     "start_time": "2022-08-30T19:54:44.869042Z"
    }
   },
   "outputs": [],
   "source": [
    "coef3 = ee.Array([\n",
    "    [1,0,0,0,0,0,0,0,0,0,0,0,0,0,0,0,0,0],\n",
    "    [0,0.01,0,0,0,0,0,0,0,0,0,0,0,0,0,0,0,0],\n",
    "    [0,0,1,0,0,0,0,0,0,0,0,0,0,0,0,0,0,0],\n",
    "    [0,0,0,1,0,0,0,0,0,0,0,0,0,0,0,0,0,0],\n",
    "    [0,0,0,0,1,0,0,0,0,0,0,0,0,0,0,0,0,0],\n",
    "    [0,0,0,0,0,0.01,0,0,0,0,0,0,0,0,0,0,0,0],\n",
    "    [0,0,0,0,0,0,1,0,0,0,0,0,0,0,0,0,0,0],\n",
    "    [0,0,0,0,0,0,0,1,0,0,0,0,0,0,0,0,0,0],\n",
    "    [0,0,0,0,0,0,0,0,1,0,0,0,0,0,0,0,0,0],\n",
    "    [0,0,0,0,0,0,0,0,0,1,0,0,0,0,0,0,0,0],\n",
    "    [0,0,0,0,0,0,0,0,0,0,1,0,0,0,0,0,0,0],\n",
    "    [0,0,0,0,0,0,0,0,0,0,0,1,0,0,0,0,0,0],\n",
    "    [0,0,0,0,0,0,0,0,0,0,0,0,1,0,0,0,0,0],\n",
    "    [0,0,0,0,0,0,0,0,0,0,0,0,0,1,0,0,0,0],\n",
    "    [0,0,0,0,0,0,0,0,0,0,0,0,0,0,1,0,0,0],\n",
    "    [0,0,0,0,0,0,0,0,0,0,0,0,0,0,0,1,0,0],\n",
    "    [0,0,0,0,0,0,0,0,0,0,0,0,0,0,0,0,1,0],\n",
    "    [0,0,0,0,0,0,0,0,0,0,0,0,0,0,0,0,0,1],\n",
    "    ])"
   ]
  },
  {
   "cell_type": "code",
   "execution_count": 145,
   "id": "88d91eb5-f028-454e-b748-6a47f159ad2b",
   "metadata": {
    "ExecuteTime": {
     "end_time": "2022-08-30T19:54:44.878217Z",
     "start_time": "2022-08-30T19:54:44.875837Z"
    }
   },
   "outputs": [],
   "source": [
    "factorb5 = ee.Image(coef3)\\\n",
    "                .matrixMultiply(texturas_b5) \\\n",
    "                .arrayProject([0])\\\n",
    "                .arrayFlatten(\n",
    "                [['B5_asm',\n",
    " 'B5_contrast',\n",
    " 'B5_corr',\n",
    " 'B5_var',\n",
    " 'B5_idm',\n",
    " 'B5_savg',\n",
    " 'B5_svar',\n",
    " 'B5_sent',\n",
    " 'B5_ent',\n",
    " 'B5_dvar',\n",
    " 'B5_dent',\n",
    " 'B5_imcorr1',\n",
    " 'B5_imcorr2',\n",
    " 'B5_maxcorr',\n",
    " 'B5_diss',\n",
    " 'B5_inertia',\n",
    " 'B5_shade',\n",
    " 'B5_prom']])"
   ]
  },
  {
   "cell_type": "markdown",
   "id": "c6c6c50c",
   "metadata": {},
   "source": [
    "NDVI"
   ]
  },
  {
   "cell_type": "code",
   "execution_count": 146,
   "id": "c4094fe0",
   "metadata": {
    "ExecuteTime": {
     "end_time": "2022-08-30T19:54:44.881445Z",
     "start_time": "2022-08-30T19:54:44.879532Z"
    }
   },
   "outputs": [],
   "source": [
    "ndvi_txt_array = img6.select('NDVI')\n",
    "ndvi_txt_array = ndvi_txt_array.toArray()\n",
    "ndvi_txt_array = ndvi_txt_array.toArray(1)"
   ]
  },
  {
   "cell_type": "code",
   "execution_count": 147,
   "id": "59048bf6",
   "metadata": {
    "ExecuteTime": {
     "end_time": "2022-08-30T19:54:44.884460Z",
     "start_time": "2022-08-30T19:54:44.882697Z"
    }
   },
   "outputs": [],
   "source": [
    "coef2 = ee.Array([[100]])"
   ]
  },
  {
   "cell_type": "code",
   "execution_count": 148,
   "id": "2f72ae6e",
   "metadata": {
    "ExecuteTime": {
     "end_time": "2022-08-30T19:54:44.887680Z",
     "start_time": "2022-08-30T19:54:44.885822Z"
    }
   },
   "outputs": [],
   "source": [
    "factor_ndvi = ee.Image(coef2)\\\n",
    "                .matrixMultiply(ndvi_txt_array) \\\n",
    "                .arrayProject([0])\\\n",
    "                .arrayFlatten(\n",
    "                [['NDVI']])"
   ]
  },
  {
   "cell_type": "code",
   "execution_count": 149,
   "id": "fecf4a33",
   "metadata": {
    "ExecuteTime": {
     "end_time": "2022-08-30T19:54:44.891287Z",
     "start_time": "2022-08-30T19:54:44.889024Z"
    }
   },
   "outputs": [],
   "source": [
    "ndvi_txt = factor_ndvi.int()"
   ]
  },
  {
   "cell_type": "code",
   "execution_count": 150,
   "id": "1ec09783",
   "metadata": {
    "ExecuteTime": {
     "end_time": "2022-08-30T19:54:44.894108Z",
     "start_time": "2022-08-30T19:54:44.892362Z"
    }
   },
   "outputs": [],
   "source": [
    "nvdi_texturas = ndvi_txt.glcmTexture(3)"
   ]
  },
  {
   "cell_type": "code",
   "execution_count": 151,
   "id": "5d3876f7",
   "metadata": {
    "ExecuteTime": {
     "end_time": "2022-08-30T19:54:44.897008Z",
     "start_time": "2022-08-30T19:54:44.895202Z"
    }
   },
   "outputs": [],
   "source": [
    "texturas_ndvi = nvdi_texturas\n",
    "texturas_ndvi = texturas_ndvi.toArray()\n",
    "texturas_ndvi = texturas_ndvi.toArray(1)"
   ]
  },
  {
   "cell_type": "code",
   "execution_count": 152,
   "id": "4456df6f",
   "metadata": {
    "ExecuteTime": {
     "end_time": "2022-08-30T19:54:44.903756Z",
     "start_time": "2022-08-30T19:54:44.898055Z"
    }
   },
   "outputs": [],
   "source": [
    "coef3 = ee.Array([\n",
    "    [1,0,0,0,0,0,0,0,0,0,0,0,0,0,0,0,0,0],\n",
    "    [0,0.01,0,0,0,0,0,0,0,0,0,0,0,0,0,0,0,0],\n",
    "    [0,0,1,0,0,0,0,0,0,0,0,0,0,0,0,0,0,0],\n",
    "    [0,0,0,1,0,0,0,0,0,0,0,0,0,0,0,0,0,0],\n",
    "    [0,0,0,0,1,0,0,0,0,0,0,0,0,0,0,0,0,0],\n",
    "    [0,0,0,0,0,0.01,0,0,0,0,0,0,0,0,0,0,0,0],\n",
    "    [0,0,0,0,0,0,1,0,0,0,0,0,0,0,0,0,0,0],\n",
    "    [0,0,0,0,0,0,0,1,0,0,0,0,0,0,0,0,0,0],\n",
    "    [0,0,0,0,0,0,0,0,1,0,0,0,0,0,0,0,0,0],\n",
    "    [0,0,0,0,0,0,0,0,0,1,0,0,0,0,0,0,0,0],\n",
    "    [0,0,0,0,0,0,0,0,0,0,1,0,0,0,0,0,0,0],\n",
    "    [0,0,0,0,0,0,0,0,0,0,0,1,0,0,0,0,0,0],\n",
    "    [0,0,0,0,0,0,0,0,0,0,0,0,1,0,0,0,0,0],\n",
    "    [0,0,0,0,0,0,0,0,0,0,0,0,0,1,0,0,0,0],\n",
    "    [0,0,0,0,0,0,0,0,0,0,0,0,0,0,1,0,0,0],\n",
    "    [0,0,0,0,0,0,0,0,0,0,0,0,0,0,0,1,0,0],\n",
    "    [0,0,0,0,0,0,0,0,0,0,0,0,0,0,0,0,1,0],\n",
    "    [0,0,0,0,0,0,0,0,0,0,0,0,0,0,0,0,0,1],\n",
    "    ])"
   ]
  },
  {
   "cell_type": "code",
   "execution_count": 153,
   "id": "db37a7f9",
   "metadata": {
    "ExecuteTime": {
     "end_time": "2022-08-30T19:54:44.907186Z",
     "start_time": "2022-08-30T19:54:44.904958Z"
    }
   },
   "outputs": [],
   "source": [
    "factor2 = ee.Image(coef3)\\\n",
    "                .matrixMultiply(texturas_ndvi) \\\n",
    "                .arrayProject([0])\\\n",
    "                .arrayFlatten(\n",
    "                [['NDVI_asm',\n",
    " 'NDVI_contrast',\n",
    " 'NDVI_corr',\n",
    " 'NDVI_var',\n",
    " 'NDVI_idm',\n",
    " 'NDVI_savg',\n",
    " 'NDVI_svar',\n",
    " 'NDVI_sent',\n",
    " 'NDVI_ent',\n",
    " 'NDVI_dvar',\n",
    " 'NDVI_dent',\n",
    " 'NDVI_imcorr1',\n",
    " 'NDVI_imcorr2',\n",
    " 'NDVI_maxcorr',\n",
    " 'NDVI_diss',\n",
    " 'NDVI_inertia',\n",
    " 'NDVI_shade',\n",
    " 'NDVI_prom']])"
   ]
  },
  {
   "cell_type": "markdown",
   "id": "c8c53d28",
   "metadata": {},
   "source": [
    "EVI"
   ]
  },
  {
   "cell_type": "code",
   "execution_count": 154,
   "id": "23fefa68",
   "metadata": {
    "ExecuteTime": {
     "end_time": "2022-08-30T19:54:44.910188Z",
     "start_time": "2022-08-30T19:54:44.908416Z"
    }
   },
   "outputs": [],
   "source": [
    "EVI_txt_array = img6.select('EVI')\n",
    "EVI_txt_array = ndvi_txt_array.toArray()\n",
    "EVI_txt_array = ndvi_txt_array.toArray(1)"
   ]
  },
  {
   "cell_type": "code",
   "execution_count": 155,
   "id": "535ef27a",
   "metadata": {
    "ExecuteTime": {
     "end_time": "2022-08-30T19:54:44.912988Z",
     "start_time": "2022-08-30T19:54:44.911341Z"
    }
   },
   "outputs": [],
   "source": [
    "coef2 = ee.Array([[100]])"
   ]
  },
  {
   "cell_type": "code",
   "execution_count": 156,
   "id": "75e8f9ee",
   "metadata": {
    "ExecuteTime": {
     "end_time": "2022-08-30T19:54:44.915881Z",
     "start_time": "2022-08-30T19:54:44.914113Z"
    }
   },
   "outputs": [],
   "source": [
    "factor_evi = ee.Image(coef2)\\\n",
    "                .matrixMultiply(EVI_txt_array) \\\n",
    "                .arrayProject([0])\\\n",
    "                .arrayFlatten(\n",
    "                [['EVI']])"
   ]
  },
  {
   "cell_type": "code",
   "execution_count": 157,
   "id": "4b97d612",
   "metadata": {
    "ExecuteTime": {
     "end_time": "2022-08-30T19:54:44.918819Z",
     "start_time": "2022-08-30T19:54:44.917208Z"
    }
   },
   "outputs": [],
   "source": [
    "factor_evi_txt = factor_evi.int()"
   ]
  },
  {
   "cell_type": "code",
   "execution_count": 158,
   "id": "a130dd61",
   "metadata": {
    "ExecuteTime": {
     "end_time": "2022-08-30T19:54:44.921555Z",
     "start_time": "2022-08-30T19:54:44.919852Z"
    }
   },
   "outputs": [],
   "source": [
    "txt_evi = factor_evi_txt.glcmTexture(3)"
   ]
  },
  {
   "cell_type": "code",
   "execution_count": 159,
   "id": "e3c5cc68",
   "metadata": {
    "ExecuteTime": {
     "end_time": "2022-08-30T19:54:44.924687Z",
     "start_time": "2022-08-30T19:54:44.922774Z"
    }
   },
   "outputs": [],
   "source": [
    "texturas_evi = txt_evi\n",
    "texturas_evi = texturas_evi.toArray()\n",
    "texturas_evi = texturas_evi.toArray(1)"
   ]
  },
  {
   "cell_type": "code",
   "execution_count": 160,
   "id": "16b13dde",
   "metadata": {
    "ExecuteTime": {
     "end_time": "2022-08-30T19:54:44.931563Z",
     "start_time": "2022-08-30T19:54:44.926168Z"
    }
   },
   "outputs": [],
   "source": [
    "coef3 = ee.Array([\n",
    "    [1,0,0,0,0,0,0,0,0,0,0,0,0,0,0,0,0,0],\n",
    "    [0,0.01,0,0,0,0,0,0,0,0,0,0,0,0,0,0,0,0],\n",
    "    [0,0,1,0,0,0,0,0,0,0,0,0,0,0,0,0,0,0],\n",
    "    [0,0,0,1,0,0,0,0,0,0,0,0,0,0,0,0,0,0],\n",
    "    [0,0,0,0,1,0,0,0,0,0,0,0,0,0,0,0,0,0],\n",
    "    [0,0,0,0,0,0.01,0,0,0,0,0,0,0,0,0,0,0,0],\n",
    "    [0,0,0,0,0,0,1,0,0,0,0,0,0,0,0,0,0,0],\n",
    "    [0,0,0,0,0,0,0,1,0,0,0,0,0,0,0,0,0,0],\n",
    "    [0,0,0,0,0,0,0,0,1,0,0,0,0,0,0,0,0,0],\n",
    "    [0,0,0,0,0,0,0,0,0,1,0,0,0,0,0,0,0,0],\n",
    "    [0,0,0,0,0,0,0,0,0,0,1,0,0,0,0,0,0,0],\n",
    "    [0,0,0,0,0,0,0,0,0,0,0,1,0,0,0,0,0,0],\n",
    "    [0,0,0,0,0,0,0,0,0,0,0,0,1,0,0,0,0,0],\n",
    "    [0,0,0,0,0,0,0,0,0,0,0,0,0,1,0,0,0,0],\n",
    "    [0,0,0,0,0,0,0,0,0,0,0,0,0,0,1,0,0,0],\n",
    "    [0,0,0,0,0,0,0,0,0,0,0,0,0,0,0,1,0,0],\n",
    "    [0,0,0,0,0,0,0,0,0,0,0,0,0,0,0,0,1,0],\n",
    "    [0,0,0,0,0,0,0,0,0,0,0,0,0,0,0,0,0,1]\n",
    "    ])"
   ]
  },
  {
   "cell_type": "code",
   "execution_count": 161,
   "id": "b4ef24d2",
   "metadata": {
    "ExecuteTime": {
     "end_time": "2022-08-30T19:54:44.934946Z",
     "start_time": "2022-08-30T19:54:44.932801Z"
    }
   },
   "outputs": [],
   "source": [
    "factor3 = ee.Image(coef3)\\\n",
    "                .matrixMultiply(texturas_evi) \\\n",
    "                .arrayProject([0])\\\n",
    "                .arrayFlatten(\n",
    "                [['EVI_asm',\n",
    " 'EVI_contrast',\n",
    " 'EVI_corr',\n",
    " 'EVI_var',\n",
    " 'EVI_idm',\n",
    " 'EVI_savg',\n",
    " 'EVI_svar',\n",
    " 'EVI_sent',\n",
    " 'EVI_ent',\n",
    " 'EVI_dvar',\n",
    " 'EVI_dent',\n",
    " 'EVI_imcorr1',\n",
    " 'EVI_imcorr2',\n",
    " 'EVI_maxcorr',\n",
    " 'EVI_diss',\n",
    " 'EVI_inertia',\n",
    " 'EVI_shade',\n",
    " 'EVI_prom']])"
   ]
  },
  {
   "cell_type": "markdown",
   "id": "ac119b23",
   "metadata": {},
   "source": [
    "## DEM"
   ]
  },
  {
   "cell_type": "code",
   "execution_count": 162,
   "id": "b86ca735",
   "metadata": {
    "ExecuteTime": {
     "end_time": "2022-08-30T19:54:44.938299Z",
     "start_time": "2022-08-30T19:54:44.936459Z"
    }
   },
   "outputs": [],
   "source": [
    "dem = ee.Image('USGS/SRTMGL1_003').clip(patagonia_grande)"
   ]
  },
  {
   "cell_type": "code",
   "execution_count": 163,
   "id": "10737120",
   "metadata": {
    "ExecuteTime": {
     "end_time": "2022-08-30T19:54:44.941393Z",
     "start_time": "2022-08-30T19:54:44.939791Z"
    }
   },
   "outputs": [],
   "source": [
    "elevation = dem.select('elevation')"
   ]
  },
  {
   "cell_type": "code",
   "execution_count": 164,
   "id": "104f176a",
   "metadata": {
    "ExecuteTime": {
     "end_time": "2022-08-30T19:54:44.944471Z",
     "start_time": "2022-08-30T19:54:44.942717Z"
    }
   },
   "outputs": [],
   "source": [
    "slope = ee.Terrain.slope(elevation)"
   ]
  },
  {
   "cell_type": "code",
   "execution_count": 165,
   "id": "58b7f2ce",
   "metadata": {
    "ExecuteTime": {
     "end_time": "2022-08-30T19:54:44.947293Z",
     "start_time": "2022-08-30T19:54:44.945613Z"
    }
   },
   "outputs": [],
   "source": [
    "aspect = ee.Terrain.aspect(dem)"
   ]
  },
  {
   "cell_type": "code",
   "execution_count": 166,
   "id": "e370ab88",
   "metadata": {
    "ExecuteTime": {
     "end_time": "2022-08-30T19:54:44.950296Z",
     "start_time": "2022-08-30T19:54:44.948507Z"
    }
   },
   "outputs": [],
   "source": [
    "dem_data = elevation.addBands([slope,aspect])"
   ]
  },
  {
   "cell_type": "markdown",
   "id": "a80a2029",
   "metadata": {},
   "source": [
    "## NDVI Index series"
   ]
  },
  {
   "cell_type": "markdown",
   "id": "76ba37a6",
   "metadata": {},
   "source": [
    "Primavera"
   ]
  },
  {
   "cell_type": "code",
   "execution_count": 167,
   "id": "38d49302",
   "metadata": {
    "ExecuteTime": {
     "end_time": "2022-08-30T19:54:44.953761Z",
     "start_time": "2022-08-30T19:54:44.951658Z"
    }
   },
   "outputs": [],
   "source": [
    "filterspring = ee.Filter.Or(\n",
    "    ee.Filter.date('2021-09-15','2021-10-31'),\n",
    "    ee.Filter.date('2020-09-15','2020-10-31'),\n",
    "    ee.Filter.date('2019-09-15','2019-10-31'),\n",
    "    ee.Filter.date('2018-09-15','2018-10-31')\n",
    ")"
   ]
  },
  {
   "cell_type": "code",
   "execution_count": 168,
   "id": "d9056890",
   "metadata": {
    "ExecuteTime": {
     "end_time": "2022-08-30T19:54:44.956959Z",
     "start_time": "2022-08-30T19:54:44.955037Z"
    }
   },
   "outputs": [],
   "source": [
    "start_date = '2018-09-15'\n",
    "end_date = '2021-10-31'\n",
    "\n",
    "l8_spring = ee.ImageCollection('LANDSAT/LC08/C02/T1_TOA') \\\n",
    "    .filterBounds(patagonia_grande) \\\n",
    "    .filter(filterspring) \\\n",
    "    .filterDate(start_date, end_date)"
   ]
  },
  {
   "cell_type": "code",
   "execution_count": 169,
   "id": "face0a03",
   "metadata": {
    "ExecuteTime": {
     "end_time": "2022-08-30T19:54:44.960961Z",
     "start_time": "2022-08-30T19:54:44.958199Z"
    }
   },
   "outputs": [],
   "source": [
    "NDVI_spring = l8_spring.map(addNDVI)\n",
    "NDVI_spring = NDVI_spring.median()\n",
    "NDVI_spring = NDVI_spring.select('NDVI').rename('NDVI_spring')"
   ]
  },
  {
   "cell_type": "markdown",
   "id": "785ec5f7",
   "metadata": {},
   "source": [
    "Invierno"
   ]
  },
  {
   "cell_type": "code",
   "execution_count": 170,
   "id": "6fc24332",
   "metadata": {
    "ExecuteTime": {
     "end_time": "2022-08-30T19:54:44.964070Z",
     "start_time": "2022-08-30T19:54:44.961987Z"
    }
   },
   "outputs": [],
   "source": [
    "filterwinter = ee.Filter.Or(\n",
    "    ee.Filter.date('2021-07-01','2021-09-14'),\n",
    "    ee.Filter.date('2020-07-01','2020-09-14'),\n",
    "    ee.Filter.date('2019-07-01','2019-09-14'),\n",
    "    ee.Filter.date('2018-07-01','2018-09-14')\n",
    ")"
   ]
  },
  {
   "cell_type": "code",
   "execution_count": 171,
   "id": "b6d1bccb",
   "metadata": {
    "ExecuteTime": {
     "end_time": "2022-08-30T19:54:44.968077Z",
     "start_time": "2022-08-30T19:54:44.965358Z"
    }
   },
   "outputs": [],
   "source": [
    "start_date = '2018-07-01'\n",
    "end_date = '2021-09-14'\n",
    "\n",
    "l8_winter = ee.ImageCollection('LANDSAT/LC08/C02/T1_TOA') \\\n",
    "    .filterBounds(patagonia_grande) \\\n",
    "    .filter(filterwinter) \\\n",
    "    .filterDate(start_date, end_date)"
   ]
  },
  {
   "cell_type": "code",
   "execution_count": 172,
   "id": "3a641f3b",
   "metadata": {
    "ExecuteTime": {
     "end_time": "2022-08-30T19:54:44.971706Z",
     "start_time": "2022-08-30T19:54:44.969114Z"
    }
   },
   "outputs": [],
   "source": [
    "NDVI_winter = l8_winter.map(addNDVI)\n",
    "NDVI_winter = NDVI_winter.median()\n",
    "NDVI_winter = NDVI_winter.select('NDVI').rename('NDVI_winter')"
   ]
  },
  {
   "cell_type": "markdown",
   "id": "cf5d3b72",
   "metadata": {},
   "source": [
    "Otoño"
   ]
  },
  {
   "cell_type": "code",
   "execution_count": 173,
   "id": "f006e987",
   "metadata": {
    "ExecuteTime": {
     "end_time": "2022-08-30T19:54:44.974804Z",
     "start_time": "2022-08-30T19:54:44.972725Z"
    }
   },
   "outputs": [],
   "source": [
    "filterautumn = ee.Filter.Or(\n",
    "    ee.Filter.date('2021-04-01','2021-06-30'),\n",
    "    ee.Filter.date('2020-04-01','2020-06-30'),\n",
    "    ee.Filter.date('2019-04-01','2019-06-30'),\n",
    "    ee.Filter.date('2018-04-01','2018-06-30')\n",
    ")"
   ]
  },
  {
   "cell_type": "code",
   "execution_count": 174,
   "id": "439e506d",
   "metadata": {
    "ExecuteTime": {
     "end_time": "2022-08-30T19:54:44.977816Z",
     "start_time": "2022-08-30T19:54:44.975912Z"
    }
   },
   "outputs": [],
   "source": [
    "start_date = '2018-04-01'\n",
    "end_date = '2021-06-30'\n",
    "\n",
    "l8_autumn = ee.ImageCollection('LANDSAT/LC08/C02/T1_TOA') \\\n",
    "    .filterBounds(patagonia_grande) \\\n",
    "    .filter(filterautumn) \\\n",
    "    .filterDate(start_date, end_date)"
   ]
  },
  {
   "cell_type": "code",
   "execution_count": 175,
   "id": "dfb47ae4",
   "metadata": {
    "ExecuteTime": {
     "end_time": "2022-08-30T19:54:44.982148Z",
     "start_time": "2022-08-30T19:54:44.979239Z"
    }
   },
   "outputs": [],
   "source": [
    "NDVI_autumn = l8_autumn.map(addNDVI)\n",
    "NDVI_autumn = NDVI_autumn.median()\n",
    "NDVI_autumn = NDVI_autumn.select('NDVI').rename('NDVI_autumn')"
   ]
  },
  {
   "cell_type": "markdown",
   "id": "dc0a7cf6",
   "metadata": {},
   "source": [
    "## Long/Lat"
   ]
  },
  {
   "cell_type": "code",
   "execution_count": 176,
   "id": "c9c7d5f5",
   "metadata": {
    "ExecuteTime": {
     "end_time": "2022-08-30T19:54:44.984746Z",
     "start_time": "2022-08-30T19:54:44.983130Z"
    }
   },
   "outputs": [],
   "source": [
    "long_lat = img7.pixelLonLat()"
   ]
  },
  {
   "cell_type": "code",
   "execution_count": 177,
   "id": "6cd0bb94",
   "metadata": {
    "ExecuteTime": {
     "end_time": "2022-08-30T19:54:45.216374Z",
     "start_time": "2022-08-30T19:54:44.985847Z"
    }
   },
   "outputs": [
    {
     "data": {
      "text/plain": [
       "['longitude', 'latitude']"
      ]
     },
     "execution_count": 177,
     "metadata": {},
     "output_type": "execute_result"
    }
   ],
   "source": [
    "long_lat.bandNames().getInfo()"
   ]
  },
  {
   "cell_type": "code",
   "execution_count": 178,
   "id": "ceb3dd69",
   "metadata": {
    "ExecuteTime": {
     "end_time": "2022-08-30T19:54:45.219164Z",
     "start_time": "2022-08-30T19:54:45.217586Z"
    }
   },
   "outputs": [],
   "source": [
    "# utm = (long_lat.select('longitude')).add(180).divide(6).int()"
   ]
  },
  {
   "cell_type": "code",
   "execution_count": 179,
   "id": "56366f8c",
   "metadata": {
    "ExecuteTime": {
     "end_time": "2022-08-30T19:54:45.221917Z",
     "start_time": "2022-08-30T19:54:45.220183Z"
    }
   },
   "outputs": [],
   "source": [
    "# Map4.addLayer(long_lat.select('longitude'),{},'longitude')\n",
    "# Map4.addLayer(utm,{min:0, max: 60},'longitud')\n",
    "# Map4"
   ]
  },
  {
   "cell_type": "markdown",
   "id": "84820382",
   "metadata": {},
   "source": [
    "# Clasificación"
   ]
  },
  {
   "cell_type": "code",
   "execution_count": 180,
   "id": "a5014b99",
   "metadata": {
    "ExecuteTime": {
     "end_time": "2022-08-30T19:54:48.480390Z",
     "start_time": "2022-08-30T19:54:45.223182Z"
    }
   },
   "outputs": [
    {
     "data": {
      "text/plain": [
       "['B1',\n",
       " 'B2',\n",
       " 'B3',\n",
       " 'B4',\n",
       " 'B5',\n",
       " 'B6',\n",
       " 'B7',\n",
       " 'B8',\n",
       " 'B9',\n",
       " 'B10',\n",
       " 'B11',\n",
       " 'QA_PIXEL',\n",
       " 'QA_RADSAT',\n",
       " 'SAA',\n",
       " 'SZA',\n",
       " 'VAA',\n",
       " 'VZA',\n",
       " 'NDVI',\n",
       " 'NDWI',\n",
       " 'mNDWI',\n",
       " 'NDWBI',\n",
       " 'NDGI',\n",
       " 'SAVI',\n",
       " 'MSAVI2',\n",
       " 'NDSI',\n",
       " 'NDBI',\n",
       " 'EVI',\n",
       " 'NDBrI',\n",
       " 'GNDVI',\n",
       " 'date',\n",
       " 'nube']"
      ]
     },
     "execution_count": 180,
     "metadata": {},
     "output_type": "execute_result"
    }
   ],
   "source": [
    "img7.bandNames().getInfo()"
   ]
  },
  {
   "cell_type": "code",
   "execution_count": 181,
   "id": "cb78c078",
   "metadata": {
    "ExecuteTime": {
     "end_time": "2022-08-30T19:54:48.484166Z",
     "start_time": "2022-08-30T19:54:48.481586Z"
    }
   },
   "outputs": [],
   "source": [
    "img_final = img7.select('B1','B2','B3','B4','B5','B6','B7','NDVI','NDWI','mNDWI','NDWBI','NDGI','SAVI','MSAVI2','NDSI','NDBI','EVI','NDBrI','GNDVI')\n",
    "img_final = img_final.addBands(tasseled).addBands(dem_data).addBands(NDVI_spring).addBands(NDVI_winter).addBands(NDVI_autumn).addBands(factor2).addBands(factor3).addBands(factorb5) "
   ]
  },
  {
   "cell_type": "code",
   "execution_count": 182,
   "id": "a4213c8a",
   "metadata": {
    "ExecuteTime": {
     "end_time": "2022-08-30T19:54:54.985532Z",
     "start_time": "2022-08-30T19:54:48.485663Z"
    }
   },
   "outputs": [
    {
     "data": {
      "text/plain": [
       "['B1',\n",
       " 'B2',\n",
       " 'B3',\n",
       " 'B4',\n",
       " 'B5',\n",
       " 'B6',\n",
       " 'B7',\n",
       " 'NDVI',\n",
       " 'NDWI',\n",
       " 'mNDWI',\n",
       " 'NDWBI',\n",
       " 'NDGI',\n",
       " 'SAVI',\n",
       " 'MSAVI2',\n",
       " 'NDSI',\n",
       " 'NDBI',\n",
       " 'EVI',\n",
       " 'NDBrI',\n",
       " 'GNDVI',\n",
       " 'brightness',\n",
       " 'greenness',\n",
       " 'wetness',\n",
       " 'elevation',\n",
       " 'slope',\n",
       " 'aspect',\n",
       " 'NDVI_spring',\n",
       " 'NDVI_winter',\n",
       " 'NDVI_autumn',\n",
       " 'NDVI_asm',\n",
       " 'NDVI_contrast',\n",
       " 'NDVI_corr',\n",
       " 'NDVI_var',\n",
       " 'NDVI_idm',\n",
       " 'NDVI_savg',\n",
       " 'NDVI_svar',\n",
       " 'NDVI_sent',\n",
       " 'NDVI_ent',\n",
       " 'NDVI_dvar',\n",
       " 'NDVI_dent',\n",
       " 'NDVI_imcorr1',\n",
       " 'NDVI_imcorr2',\n",
       " 'NDVI_maxcorr',\n",
       " 'NDVI_diss',\n",
       " 'NDVI_inertia',\n",
       " 'NDVI_shade',\n",
       " 'NDVI_prom',\n",
       " 'EVI_asm',\n",
       " 'EVI_contrast',\n",
       " 'EVI_corr',\n",
       " 'EVI_var',\n",
       " 'EVI_idm',\n",
       " 'EVI_savg',\n",
       " 'EVI_svar',\n",
       " 'EVI_sent',\n",
       " 'EVI_ent',\n",
       " 'EVI_dvar',\n",
       " 'EVI_dent',\n",
       " 'EVI_imcorr1',\n",
       " 'EVI_imcorr2',\n",
       " 'EVI_maxcorr',\n",
       " 'EVI_diss',\n",
       " 'EVI_inertia',\n",
       " 'EVI_shade',\n",
       " 'EVI_prom',\n",
       " 'B5_asm',\n",
       " 'B5_contrast',\n",
       " 'B5_corr',\n",
       " 'B5_var',\n",
       " 'B5_idm',\n",
       " 'B5_savg',\n",
       " 'B5_svar',\n",
       " 'B5_sent',\n",
       " 'B5_ent',\n",
       " 'B5_dvar',\n",
       " 'B5_dent',\n",
       " 'B5_imcorr1',\n",
       " 'B5_imcorr2',\n",
       " 'B5_maxcorr',\n",
       " 'B5_diss',\n",
       " 'B5_inertia',\n",
       " 'B5_shade',\n",
       " 'B5_prom']"
      ]
     },
     "execution_count": 182,
     "metadata": {},
     "output_type": "execute_result"
    }
   ],
   "source": [
    "img_final.bandNames().getInfo()"
   ]
  },
  {
   "cell_type": "markdown",
   "id": "a1798e3d",
   "metadata": {},
   "source": [
    "## Descarga Bandas"
   ]
  },
  {
   "cell_type": "code",
   "execution_count": 183,
   "id": "0ca64a09",
   "metadata": {
    "ExecuteTime": {
     "end_time": "2022-08-30T19:54:54.989590Z",
     "start_time": "2022-08-30T19:54:54.986739Z"
    }
   },
   "outputs": [],
   "source": [
    "img_NDVI= img_final.select('NDVI')\n",
    "img_NDWI= img_final.select('NDWI')\n",
    "img_mNDWI= img_final.select('mNDWI')\n",
    "img_NDWBI= img_final.select('NDWBI')\n",
    "img_NDGI= img_final.select('NDGI')\n",
    "img_SAVI= img_final.select('SAVI')\n",
    "img_MSAVI2= img_final.select('MSAVI2')\n",
    "img_NDSI= img_final.select('NDSI')\n",
    "img_NDBI= img_final.select('NDBI')\n",
    "img_NDBrI= img_final.select('NDBrI')\n",
    "img_GNDVI= img_final.select('GNDVI')"
   ]
  },
  {
   "cell_type": "code",
   "execution_count": 184,
   "id": "e6d84697",
   "metadata": {
    "ExecuteTime": {
     "end_time": "2022-08-30T19:54:54.999435Z",
     "start_time": "2022-08-30T19:54:54.991323Z"
    }
   },
   "outputs": [],
   "source": [
    "task_mosaico_NDVI = ee.batch.Export.image.toDrive(**{\n",
    "    'image': img_NDVI,\n",
    "    'description':'NDVI',\n",
    "    'folder':'Earth Engine',\n",
    "    'region': geometry_exp.bounds(),\n",
    "    'scale':30,\n",
    "    'crsTransform':[30, 0, 214185, 0, -30, -4825185], \n",
    "    'crs':'EPSG:32719',\n",
    "    'maxPixels':1e13\n",
    "})\n",
    "task_mosaico_NDWI = ee.batch.Export.image.toDrive(**{\n",
    "    'image': img_NDWI,\n",
    "    'description':'NDWI',\n",
    "    'folder':'Earth Engine',\n",
    "    'region': geometry_exp.bounds(),\n",
    "    'scale':30,\n",
    "    'crsTransform':[30, 0, 214185, 0, -30, -4825185], \n",
    "    'crs':'EPSG:32719',\n",
    "    'maxPixels':1e13\n",
    "})\n",
    "task_mosaico_mNDWI = ee.batch.Export.image.toDrive(**{\n",
    "    'image': img_mNDWI,\n",
    "    'description':'mNDWI',\n",
    "    'folder':'Earth Engine',\n",
    "    'region': geometry_exp.bounds(),\n",
    "    'scale':30,\n",
    "    'crsTransform':[30, 0, 214185, 0, -30, -4825185], \n",
    "    'crs':'EPSG:32719',\n",
    "    'maxPixels':1e13\n",
    "})\n",
    "task_mosaico_NDWBI = ee.batch.Export.image.toDrive(**{\n",
    "    'image': img_NDWBI,\n",
    "    'description':'NDWBI',\n",
    "    'folder':'Earth Engine',\n",
    "    'region': geometry_exp.bounds(),\n",
    "    'scale':30,\n",
    "    'crsTransform':[30, 0, 214185, 0, -30, -4825185], \n",
    "    'crs':'EPSG:32719',\n",
    "    'maxPixels':1e13\n",
    "})\n",
    "task_mosaico_NDGI = ee.batch.Export.image.toDrive(**{\n",
    "    'image': img_NDGI,\n",
    "    'description':'NDGI',\n",
    "    'folder':'Earth Engine',\n",
    "    'region': geometry_exp.bounds(),\n",
    "    'scale':30,\n",
    "    'crsTransform':[30, 0, 214185, 0, -30, -4825185], \n",
    "    'crs':'EPSG:32719',\n",
    "    'maxPixels':1e13\n",
    "})\n",
    "task_mosaico_MSAVI2 = ee.batch.Export.image.toDrive(**{\n",
    "    'image': img_MSAVI2,\n",
    "    'description':'MSAVI2',\n",
    "    'folder':'Earth Engine',\n",
    "    'region': geometry_exp.bounds(),\n",
    "    'scale':30,\n",
    "    'crsTransform':[30, 0, 214185, 0, -30, -4825185], \n",
    "    'crs':'EPSG:32719',\n",
    "    'maxPixels':1e13\n",
    "})\n",
    "task_mosaico_NDSI = ee.batch.Export.image.toDrive(**{\n",
    "    'image': img_NDSI,\n",
    "    'description':'NDSI',\n",
    "    'folder':'Earth Engine',\n",
    "    'region': geometry_exp.bounds(),\n",
    "    'scale':30,\n",
    "    'crsTransform':[30, 0, 214185, 0, -30, -4825185], \n",
    "    'crs':'EPSG:32719',\n",
    "    'maxPixels':1e13\n",
    "})\n",
    "task_mosaico_NDBI = ee.batch.Export.image.toDrive(**{\n",
    "    'image': img_NDBI,\n",
    "    'description':'NDBI',\n",
    "    'folder':'Earth Engine',\n",
    "    'region': geometry_exp.bounds(),\n",
    "    'scale':30,\n",
    "    'crsTransform':[30, 0, 214185, 0, -30, -4825185], \n",
    "    'crs':'EPSG:32719',\n",
    "    'maxPixels':1e13\n",
    "})\n",
    "task_mosaico_NDBrI = ee.batch.Export.image.toDrive(**{\n",
    "    'image': img_NDBrI,\n",
    "    'description':'NDBrI',\n",
    "    'folder':'Earth Engine',\n",
    "    'region': geometry_exp.bounds(),\n",
    "    'scale':30,\n",
    "    'crsTransform':[30, 0, 214185, 0, -30, -4825185], \n",
    "    'crs':'EPSG:32719',\n",
    "    'maxPixels':1e13\n",
    "})\n",
    "task_mosaico_GNDVI = ee.batch.Export.image.toDrive(**{\n",
    "    'image': img_GNDVI,\n",
    "    'description':'GNDVI',\n",
    "    'folder':'Earth Engine',\n",
    "    'region': geometry_exp.bounds(),\n",
    "    'scale':30,\n",
    "    'crsTransform':[30, 0, 214185, 0, -30, -4825185], \n",
    "    'crs':'EPSG:32719',\n",
    "    'maxPixels':1e13\n",
    "})"
   ]
  },
  {
   "cell_type": "code",
   "execution_count": 185,
   "id": "50625a24",
   "metadata": {
    "ExecuteTime": {
     "end_time": "2022-08-30T19:54:55.002376Z",
     "start_time": "2022-08-30T19:54:55.000764Z"
    }
   },
   "outputs": [],
   "source": [
    "# task_mosaico_NDVI.start()\n",
    "# task_mosaico_NDWI.start()\n",
    "# task_mosaico_mNDWI.start()\n",
    "# task_mosaico_NDWBI.start()\n",
    "# task_mosaico_NDGI.start()\n",
    "# task_mosaico_MSAVI2.start()\n",
    "# task_mosaico_NDSI.start()\n",
    "# task_mosaico_NDBI.start()\n",
    "# task_mosaico_NDBrI.start()\n",
    "# task_mosaico_GNDVI.start()"
   ]
  },
  {
   "cell_type": "code",
   "execution_count": 186,
   "id": "f156b6dd",
   "metadata": {
    "ExecuteTime": {
     "end_time": "2022-08-30T19:54:55.006581Z",
     "start_time": "2022-08-30T19:54:55.003543Z"
    }
   },
   "outputs": [],
   "source": [
    "bands = ['B1',\n",
    " 'B2',\n",
    " 'B3',\n",
    " 'B4',\n",
    " 'B5',\n",
    " 'B6',\n",
    " 'B7',\n",
    " 'NDVI',\n",
    " 'NDWI',\n",
    " 'mNDWI',\n",
    " 'NDWBI',\n",
    " 'NDGI',\n",
    " 'SAVI',\n",
    " 'MSAVI2',\n",
    " 'NDSI',\n",
    " 'NDBI',\n",
    " 'EVI',\n",
    " 'NDBrI',\n",
    " 'GNDVI',\n",
    " 'brightness',\n",
    " 'greenness',\n",
    " 'wetness',\n",
    " 'elevation',\n",
    " 'slope',\n",
    " 'aspect',\n",
    " 'B5_asm',\n",
    " 'B5_contrast',\n",
    " 'B5_corr',\n",
    " 'B5_var',\n",
    " 'B5_idm',\n",
    " 'B5_savg',\n",
    " 'B5_svar',\n",
    " 'B5_sent',\n",
    " 'B5_ent',\n",
    " 'B5_dvar',\n",
    " 'B5_dent',\n",
    " 'B5_imcorr1',\n",
    " 'B5_imcorr2',\n",
    " 'B5_maxcorr',\n",
    " 'B5_diss',\n",
    " 'B5_inertia',\n",
    " 'B5_shade',\n",
    " 'B5_prom',\n",
    " 'NDVI_spring',\n",
    " 'NDVI_winter',\n",
    " 'NDVI_autumn',\n",
    " 'NDVI_asm',\n",
    " 'NDVI_contrast',\n",
    " 'NDVI_corr',\n",
    " 'NDVI_var',\n",
    " 'NDVI_idm',\n",
    " 'NDVI_savg',\n",
    " 'NDVI_svar',\n",
    " 'NDVI_sent',\n",
    " 'NDVI_ent',\n",
    " 'NDVI_dvar',\n",
    " 'NDVI_dent',\n",
    " 'NDVI_imcorr1',\n",
    " 'NDVI_imcorr2',\n",
    " 'NDVI_maxcorr',\n",
    " 'NDVI_diss',\n",
    " 'NDVI_inertia',\n",
    " 'NDVI_shade',\n",
    " 'NDVI_prom',\n",
    " 'EVI_asm',\n",
    " 'EVI_contrast',\n",
    " 'EVI_corr',\n",
    " 'EVI_var',\n",
    " 'EVI_idm',\n",
    " 'EVI_savg',\n",
    " 'EVI_svar',\n",
    " 'EVI_sent',\n",
    " 'EVI_ent',\n",
    " 'EVI_dvar',\n",
    " 'EVI_dent',\n",
    " 'EVI_imcorr1',\n",
    " 'EVI_imcorr2',\n",
    " 'EVI_maxcorr',\n",
    " 'EVI_diss',\n",
    " 'EVI_inertia',\n",
    " 'EVI_shade',\n",
    " 'EVI_prom']"
   ]
  },
  {
   "cell_type": "code",
   "execution_count": 187,
   "id": "bf6ca360",
   "metadata": {
    "ExecuteTime": {
     "end_time": "2022-08-30T19:54:56.648688Z",
     "start_time": "2022-08-30T19:54:55.008114Z"
    }
   },
   "outputs": [],
   "source": [
    "test1 = os.path.join(work_dir,'training_v2.shp')\n",
    "test1 = geemap.shp_to_ee(test1)\n",
    "val2 = os.path.join(work_dir,'validacion_v3.shp')\n",
    "val2 = geemap.shp_to_ee(val2)"
   ]
  },
  {
   "cell_type": "code",
   "execution_count": 188,
   "id": "dcc36d45",
   "metadata": {
    "ExecuteTime": {
     "end_time": "2022-08-30T19:54:56.652300Z",
     "start_time": "2022-08-30T19:54:56.650303Z"
    }
   },
   "outputs": [],
   "source": [
    "# random = os.path.join(work_dir,'random_points.shp')\n",
    "# random = geemap.shp_to_ee(random)"
   ]
  },
  {
   "cell_type": "code",
   "execution_count": 189,
   "id": "689c067f",
   "metadata": {
    "ExecuteTime": {
     "end_time": "2022-08-30T19:54:56.655825Z",
     "start_time": "2022-08-30T19:54:56.653531Z"
    }
   },
   "outputs": [],
   "source": [
    "# points= img_final.sampleRegions(**{\n",
    "#     'collection': random,\n",
    "#     'properties': ['ID'],\n",
    "#     'scale': 10,\n",
    "#     'tileScale': 3,\n",
    "# })"
   ]
  },
  {
   "cell_type": "code",
   "execution_count": 190,
   "id": "304d08ee",
   "metadata": {
    "ExecuteTime": {
     "end_time": "2022-08-30T19:54:56.658771Z",
     "start_time": "2022-08-30T19:54:56.657229Z"
    }
   },
   "outputs": [],
   "source": [
    "# Map6.addLayer(points, {},'muestras')\n",
    "# Map6"
   ]
  },
  {
   "cell_type": "code",
   "execution_count": 191,
   "id": "865357a3",
   "metadata": {
    "ExecuteTime": {
     "end_time": "2022-08-30T19:54:56.661692Z",
     "start_time": "2022-08-30T19:54:56.660098Z"
    }
   },
   "outputs": [],
   "source": [
    "# tablas_final = ee.batch.Export.table.toDrive(**{\n",
    "#   'collection': points,\n",
    "#   'description': 'datos',\n",
    "#   'fileFormat': 'CSV'\n",
    "# })"
   ]
  },
  {
   "cell_type": "code",
   "execution_count": 192,
   "id": "6acebb19",
   "metadata": {
    "ExecuteTime": {
     "end_time": "2022-08-30T19:54:56.664620Z",
     "start_time": "2022-08-30T19:54:56.662914Z"
    }
   },
   "outputs": [],
   "source": [
    "# tablas_final.start()"
   ]
  },
  {
   "cell_type": "code",
   "execution_count": 193,
   "id": "b9bd7169",
   "metadata": {
    "ExecuteTime": {
     "end_time": "2022-08-30T19:54:56.667801Z",
     "start_time": "2022-08-30T19:54:56.665757Z"
    }
   },
   "outputs": [],
   "source": [
    "data_QM = img_final.sampleRegions(**{\n",
    "    'collection': test1,\n",
    "    'properties': ['C_ID'],\n",
    "    'scale': 30,\n",
    "    'tileScale': 2,\n",
    "})"
   ]
  },
  {
   "cell_type": "code",
   "execution_count": 194,
   "id": "69ff9842-f919-4893-adac-7bf34a114dd3",
   "metadata": {
    "ExecuteTime": {
     "end_time": "2022-08-30T19:54:56.671770Z",
     "start_time": "2022-08-30T19:54:56.669057Z"
    }
   },
   "outputs": [],
   "source": [
    "data_Val = img_final.sampleRegions(**{\n",
    "    'collection': val2,\n",
    "    'properties': ['C_ID'],\n",
    "    'scale': 30,\n",
    "    'tileScale': 2,\n",
    "})"
   ]
  },
  {
   "cell_type": "code",
   "execution_count": 195,
   "id": "17504e7c",
   "metadata": {
    "ExecuteTime": {
     "end_time": "2022-08-30T19:54:56.675125Z",
     "start_time": "2022-08-30T19:54:56.672863Z"
    }
   },
   "outputs": [],
   "source": [
    "tablas_qm = ee.batch.Export.table.toDrive(**{\n",
    "  'collection': data_QM,\n",
    "  'description': 'TM_summer_QM',\n",
    "  'fileFormat': 'CSV'\n",
    "})"
   ]
  },
  {
   "cell_type": "code",
   "execution_count": 196,
   "id": "793a78e2",
   "metadata": {
    "ExecuteTime": {
     "end_time": "2022-08-30T19:54:56.678188Z",
     "start_time": "2022-08-30T19:54:56.676426Z"
    }
   },
   "outputs": [],
   "source": [
    "# tablas_qm.start()"
   ]
  },
  {
   "cell_type": "markdown",
   "id": "69930743",
   "metadata": {},
   "source": [
    "## Muestra y validación"
   ]
  },
  {
   "cell_type": "code",
   "execution_count": 197,
   "id": "156ea73b",
   "metadata": {
    "ExecuteTime": {
     "end_time": "2022-08-30T19:54:56.681189Z",
     "start_time": "2022-08-30T19:54:56.679494Z"
    }
   },
   "outputs": [],
   "source": [
    "sample1 = data_QM.randomColumn()\n",
    "split = 0.7"
   ]
  },
  {
   "cell_type": "code",
   "execution_count": 198,
   "id": "3d911ce7",
   "metadata": {
    "ExecuteTime": {
     "end_time": "2022-08-30T19:54:56.685069Z",
     "start_time": "2022-08-30T19:54:56.682299Z"
    }
   },
   "outputs": [],
   "source": [
    "training1 = sample1.filter(ee.Filter.lt('random', split))\n",
    "validation1= sample1.filter(ee.Filter.gte('random', split))"
   ]
  },
  {
   "cell_type": "code",
   "execution_count": 199,
   "id": "186bbd22",
   "metadata": {
    "ExecuteTime": {
     "end_time": "2022-08-30T19:54:56.688003Z",
     "start_time": "2022-08-30T19:54:56.686195Z"
    }
   },
   "outputs": [],
   "source": [
    "label = 'IDH'\n",
    "label1 = 'ID'\n",
    "label_train ='C_ID'"
   ]
  },
  {
   "cell_type": "code",
   "execution_count": 200,
   "id": "5c38fa8c",
   "metadata": {
    "ExecuteTime": {
     "end_time": "2022-08-30T19:54:56.691010Z",
     "start_time": "2022-08-30T19:54:56.689142Z"
    }
   },
   "outputs": [],
   "source": [
    "classifier_QM = ee.Classifier.smileRandomForest(100).train(data_QM,label_train,bands)"
   ]
  },
  {
   "cell_type": "code",
   "execution_count": 201,
   "id": "dde0b461",
   "metadata": {
    "ExecuteTime": {
     "end_time": "2022-08-30T19:54:56.694606Z",
     "start_time": "2022-08-30T19:54:56.692539Z"
    }
   },
   "outputs": [],
   "source": [
    "result_QM = img_final.select(bands).classify(classifier_QM)"
   ]
  },
  {
   "cell_type": "code",
   "execution_count": 202,
   "id": "b9fc12f1",
   "metadata": {
    "ExecuteTime": {
     "end_time": "2022-08-30T19:54:56.697568Z",
     "start_time": "2022-08-30T19:54:56.695722Z"
    }
   },
   "outputs": [],
   "source": [
    "explained_QM = ee.Classifier.explain(classifier_QM)"
   ]
  },
  {
   "cell_type": "code",
   "execution_count": 203,
   "id": "4bf299e3",
   "metadata": {
    "ExecuteTime": {
     "end_time": "2022-08-30T19:54:56.700597Z",
     "start_time": "2022-08-30T19:54:56.698654Z"
    },
    "scrolled": true
   },
   "outputs": [],
   "source": [
    "# explained_QM.getInfo()"
   ]
  },
  {
   "cell_type": "markdown",
   "id": "282ffbec",
   "metadata": {},
   "source": [
    "### Categorizando"
   ]
  },
  {
   "cell_type": "code",
   "execution_count": 204,
   "id": "8ab3c9b6",
   "metadata": {
    "ExecuteTime": {
     "end_time": "2022-08-30T19:54:56.704921Z",
     "start_time": "2022-08-30T19:54:56.701760Z"
    }
   },
   "outputs": [],
   "source": [
    "class_values2 = [1,2,3,4,5,6,7,8,9,10,12,13,15,16,20,23,30,31,32,33,34,35,36,39,40,47,48,49,60]\n",
    "\n",
    "class_palette2 = ['d1fbff', # 1 Hielo\n",
    " 'bfdadd', #2 lengua glaciar\n",
    " 'b9bfbf', #3 glaciar cubierto\n",
    " 'fe40fe', #4 nieve\n",
    " '8ac1ff', #5 fiordo glaciar\n",
    " '0c407b', #6 mar\n",
    " '2e8da0', #7 lago continental\n",
    " '16b2d1', #8 lago glaciar\n",
    " '27e1d8', #9 río\n",
    " 'eeb514', #10 suelo desnudo\n",
    "#  '927012', #11 cárcavas erosión \n",
    " 'e98c0f', #12 suelo río\n",
    " 'f7e8bd', #13 suelo duna/arenal\n",
    "#  '5b5b5b', #14 caminos\n",
    " 'e57104', #15 suelo desnudo / poca vegetación\n",
    " '5d1412', #16 tuberas / musgos\n",
    "#  '5d1412', #17 mallín                 \n",
    "# '161163', #19 áreas inundables\n",
    " 'fff300', #20 plantación adulto\n",
    " 'ff0000', #23 ciudad urbano\n",
    " 'dee842', #30 praderas pastoreo             \n",
    " 'ced118', #31 estepa abierta\n",
    " '7a7c0f', #32 estepa cerrada\n",
    " 'c39700', #33 palizales\n",
    " 'a1ff8a', #34 praderas\n",
    " '138665', #35 matorrales densos\n",
    " '1bbd8e', #36 matorrales abiertos\n",
    " '195a09', #39 primario adulto\n",
    " '27c41d', #40 secundario adulto\n",
    "#  'b2ff00', #43 renoval inicial\n",
    "#  'f36605', #45 degradado\n",
    " '7729db', #47 Primario adulto caduco\n",
    " '9e60ec', #48 Secundario adulto caduco\n",
    " 'f36605', #49 achaparrados caduco\n",
    "#  '7000ff', #57 Mixto Primario\n",
    "#  'c598ff', #58 Mixto secundario\n",
    " '00ff87', #60 Coníferas nativas\n",
    "]"
   ]
  },
  {
   "cell_type": "code",
   "execution_count": 205,
   "id": "b088b7fc",
   "metadata": {
    "ExecuteTime": {
     "end_time": "2022-08-30T19:54:56.708038Z",
     "start_time": "2022-08-30T19:54:56.706079Z"
    }
   },
   "outputs": [],
   "source": [
    "landcover_QM = result_QM.set('classification_class_values', class_values2)\n",
    "landcover_QM = landcover_QM.set('classification_class_palette',class_palette2)"
   ]
  },
  {
   "cell_type": "code",
   "execution_count": 206,
   "id": "00cb1606",
   "metadata": {
    "ExecuteTime": {
     "end_time": "2022-08-30T19:55:39.842856Z",
     "start_time": "2022-08-30T19:54:56.709289Z"
    }
   },
   "outputs": [
    {
     "data": {
      "application/vnd.jupyter.widget-view+json": {
       "model_id": "7ebb6ecbc0f84d6e99f6c9a7d527a4a4",
       "version_major": 2,
       "version_minor": 0
      },
      "text/plain": [
       "Map(center=[-45, -70], controls=(WidgetControl(options=['position', 'transparent_bg'], widget=HBox(children=(T…"
      ]
     },
     "metadata": {},
     "output_type": "display_data"
    }
   ],
   "source": [
    "Map5.addLayer(landcover_QM,{}, 'Land cover RF-QM' )\n",
    "Map5"
   ]
  },
  {
   "cell_type": "markdown",
   "id": "fea9cb66",
   "metadata": {},
   "source": [
    "# Comparación de Metología"
   ]
  },
  {
   "cell_type": "markdown",
   "id": "20624824",
   "metadata": {
    "heading_collapsed": true,
    "jp-MarkdownHeadingCollapsed": true,
    "tags": []
   },
   "source": [
    "## Met. Andrés"
   ]
  },
  {
   "cell_type": "code",
   "execution_count": 207,
   "id": "cad320fa",
   "metadata": {
    "ExecuteTime": {
     "end_time": "2022-08-30T19:55:39.846064Z",
     "start_time": "2022-08-30T19:55:39.844227Z"
    },
    "hidden": true
   },
   "outputs": [],
   "source": [
    "# img_ba= img_final.select('B4','B5','EVI','EVI_corr','EVI_imcorr1','NDVI_diss','NDVI_spring','NDWI','elevation','mNDWI','slope','EVI_ent').addBands(long_lat)"
   ]
  },
  {
   "cell_type": "code",
   "execution_count": 208,
   "id": "ce945cf5",
   "metadata": {
    "ExecuteTime": {
     "end_time": "2022-08-30T19:55:39.849478Z",
     "start_time": "2022-08-30T19:55:39.847265Z"
    },
    "hidden": true
   },
   "outputs": [],
   "source": [
    "# img_ba.bandNames().getInfo()"
   ]
  },
  {
   "cell_type": "code",
   "execution_count": 209,
   "id": "b4b8de55",
   "metadata": {
    "ExecuteTime": {
     "end_time": "2022-08-30T19:55:39.852676Z",
     "start_time": "2022-08-30T19:55:39.850974Z"
    },
    "hidden": true
   },
   "outputs": [],
   "source": [
    "# data_ba = img_ba.sampleRegions(**{\n",
    "#     'collection': test1,\n",
    "#     'properties': ['C_ID'],\n",
    "#     'scale': 30,\n",
    "#     'tileScale': 2,\n",
    "# })"
   ]
  },
  {
   "cell_type": "code",
   "execution_count": 210,
   "id": "4ae73faa",
   "metadata": {
    "ExecuteTime": {
     "end_time": "2022-08-30T19:55:39.855372Z",
     "start_time": "2022-08-30T19:55:39.853846Z"
    },
    "hidden": true
   },
   "outputs": [],
   "source": [
    "# sample2 = data_ba.randomColumn()\n",
    "# split = 0.7"
   ]
  },
  {
   "cell_type": "code",
   "execution_count": 211,
   "id": "1520fb24",
   "metadata": {
    "ExecuteTime": {
     "end_time": "2022-08-30T19:55:39.858042Z",
     "start_time": "2022-08-30T19:55:39.856486Z"
    },
    "hidden": true
   },
   "outputs": [],
   "source": [
    "# training2 = sample2.filter(ee.Filter.lt('random', split))\n",
    "# validation2= sample2.filter(ee.Filter.gte('random', split))"
   ]
  },
  {
   "cell_type": "code",
   "execution_count": 212,
   "id": "d8ccd7e9",
   "metadata": {
    "ExecuteTime": {
     "end_time": "2022-08-30T19:55:39.861047Z",
     "start_time": "2022-08-30T19:55:39.859146Z"
    },
    "hidden": true
   },
   "outputs": [],
   "source": [
    "# bands_ba = ['B4','B5','EVI','EVI_corr','EVI_imcorr1','NDVI_diss','NDVI_spring','NDWI','elevation','mNDWI','slope','EVI_ent','longitude', 'latitude']"
   ]
  },
  {
   "cell_type": "code",
   "execution_count": 213,
   "id": "4df64814",
   "metadata": {
    "ExecuteTime": {
     "end_time": "2022-08-30T19:55:39.863742Z",
     "start_time": "2022-08-30T19:55:39.862228Z"
    },
    "hidden": true
   },
   "outputs": [],
   "source": [
    "# classifier_ba = ee.Classifier.smileRandomForest(100).train(training2,label_train,bands_ba)"
   ]
  },
  {
   "cell_type": "code",
   "execution_count": 214,
   "id": "120bd851",
   "metadata": {
    "ExecuteTime": {
     "end_time": "2022-08-30T19:55:39.866347Z",
     "start_time": "2022-08-30T19:55:39.864817Z"
    },
    "hidden": true
   },
   "outputs": [],
   "source": [
    "# result_ba = img_ba.select(bands_ba).classify(classifier_ba)"
   ]
  },
  {
   "cell_type": "code",
   "execution_count": 215,
   "id": "3ab6e317",
   "metadata": {
    "ExecuteTime": {
     "end_time": "2022-08-30T19:55:39.869121Z",
     "start_time": "2022-08-30T19:55:39.867567Z"
    },
    "hidden": true
   },
   "outputs": [],
   "source": [
    "# explained_ba = ee.Classifier.explain(classifier_ba)"
   ]
  },
  {
   "cell_type": "code",
   "execution_count": 216,
   "id": "8402b662",
   "metadata": {
    "ExecuteTime": {
     "end_time": "2022-08-30T19:55:39.871807Z",
     "start_time": "2022-08-30T19:55:39.870300Z"
    },
    "hidden": true,
    "scrolled": true
   },
   "outputs": [],
   "source": [
    "# explained_ba.getInfo()"
   ]
  },
  {
   "cell_type": "code",
   "execution_count": 217,
   "id": "d680af07",
   "metadata": {
    "ExecuteTime": {
     "end_time": "2022-08-30T19:55:39.875041Z",
     "start_time": "2022-08-30T19:55:39.873074Z"
    },
    "hidden": true
   },
   "outputs": [],
   "source": [
    "# class_values2 = [1,2,3,4,5,6,7,8,9,10,11,12,13,14,15,16,17,19,20,23,30,31,32,33,34,35,36,39,40,43,45,47,48,57,58,60]\n",
    "\n",
    "# class_palette2 = ['d1fbff', # 1 Hielo\n",
    "#  'bfdadd', #2 lengua glaciar\n",
    "#  'b9bfbf', #3 glaciar cubierto\n",
    "#  'fe40fe', #4 nieve\n",
    "#  '8ac1ff', #5 fiordo glaciar\n",
    "#  '0c407b', #6 mar\n",
    "#  '2e8da0', #7 lago continental\n",
    "#  '16b2d1', #8 lago glaciar\n",
    "#  '27e1d8', #9 río\n",
    "#  'eeb514', #10 suelo desnudo\n",
    "#  '927012', #11 cárcavas erosión \n",
    "#  'e98c0f', #12 suelo río\n",
    "#  'f7e8bd', #13 suelo duna/arenal\n",
    "#  '5b5b5b', #14 caminos\n",
    "#  'e57104', #15 suelo desnudo / poca vegetación\n",
    "#  '5d1412', #16 tuberas / musgos\n",
    "#  '5d1412', #17 mallín                 \n",
    "#  '161163', #19 áreas inundables\n",
    "#  'fff300', #20 plantación adulto\n",
    "#  'ff0000', #23 ciudad urbano\n",
    "#  'dee842', #30 praderas pastoreo             \n",
    "#  'ced118', #31 estepa abierta\n",
    "#  '7a7c0f', #32 estepa cerrada\n",
    "#  'c39700', #33 palizales\n",
    "#  'a1ff8a', #34 preaderas\n",
    "#  '138665', #35 matorrales densos\n",
    "#  '1bbd8e', #36 matorrales abiertos\n",
    "#  '195a09', #39 primario adulto\n",
    "#  '27c41d', #40 secundario adulto\n",
    "#  'b2ff00', #43 renoval inicial\n",
    "#  'f36605', #45 degradado\n",
    "#  '7729db', #47 Primario adulto caduco\n",
    "#  '9e60ec', #48 Secundario adulto caduco\n",
    "#  '7000ff', #57 Mixto Primario\n",
    "#  'c598ff', #58 Mixto secundario\n",
    "#  '00ff87', #60 Coníferas nativas\n",
    "# ]"
   ]
  },
  {
   "cell_type": "code",
   "execution_count": 218,
   "id": "678da8ab",
   "metadata": {
    "ExecuteTime": {
     "end_time": "2022-08-30T19:55:39.877870Z",
     "start_time": "2022-08-30T19:55:39.876498Z"
    },
    "hidden": true
   },
   "outputs": [],
   "source": [
    "# landcover_ba = result_ba.set('classification_class_values', class_values2)\n",
    "# landcover_ba = landcover_ba.set('classification_class_palette',class_palette2)"
   ]
  },
  {
   "cell_type": "code",
   "execution_count": 219,
   "id": "16873727",
   "metadata": {
    "ExecuteTime": {
     "end_time": "2022-08-30T19:55:39.880877Z",
     "start_time": "2022-08-30T19:55:39.879045Z"
    },
    "hidden": true
   },
   "outputs": [],
   "source": [
    "# Map7.addLayer(landcover_ba,{}, 'Land cover Ba' )\n",
    "# Map7"
   ]
  },
  {
   "cell_type": "markdown",
   "id": "c06e40b6",
   "metadata": {
    "jp-MarkdownHeadingCollapsed": true,
    "tags": []
   },
   "source": [
    "## Met. RFE"
   ]
  },
  {
   "cell_type": "markdown",
   "id": "15c6c9c8",
   "metadata": {},
   "source": [
    "### Primer"
   ]
  },
  {
   "cell_type": "code",
   "execution_count": 220,
   "id": "73c8707c",
   "metadata": {
    "ExecuteTime": {
     "end_time": "2022-08-30T19:55:39.883958Z",
     "start_time": "2022-08-30T19:55:39.881918Z"
    }
   },
   "outputs": [],
   "source": [
    "img_rfe = img_final.select('elevation','NDVI_spring','NDVI_winter','NDVI_autumn','B1','NDGI','EVI_savg','B2','NDVI_savg','mNDWI','B4','B3','brightness',\n",
    "                           'NDSI','slope','NDBI','NDWI','wetness','B7','NDBrI','greenness','B5','EVI','B6','NDWBI','GNDVI','NDVI','MSAVI2','SAVI','B5_savg')"
   ]
  },
  {
   "cell_type": "code",
   "execution_count": 221,
   "id": "fce0dbe0",
   "metadata": {
    "ExecuteTime": {
     "end_time": "2022-08-30T19:55:45.408554Z",
     "start_time": "2022-08-30T19:55:39.885113Z"
    }
   },
   "outputs": [
    {
     "data": {
      "text/plain": [
       "['elevation',\n",
       " 'NDVI_spring',\n",
       " 'NDVI_winter',\n",
       " 'NDVI_autumn',\n",
       " 'B1',\n",
       " 'NDGI',\n",
       " 'EVI_savg',\n",
       " 'B2',\n",
       " 'NDVI_savg',\n",
       " 'mNDWI',\n",
       " 'B4',\n",
       " 'B3',\n",
       " 'brightness',\n",
       " 'NDSI',\n",
       " 'slope',\n",
       " 'NDBI',\n",
       " 'NDWI',\n",
       " 'wetness',\n",
       " 'B7',\n",
       " 'NDBrI',\n",
       " 'greenness',\n",
       " 'B5',\n",
       " 'EVI',\n",
       " 'B6',\n",
       " 'NDWBI',\n",
       " 'GNDVI',\n",
       " 'NDVI',\n",
       " 'MSAVI2',\n",
       " 'SAVI',\n",
       " 'B5_savg']"
      ]
     },
     "execution_count": 221,
     "metadata": {},
     "output_type": "execute_result"
    }
   ],
   "source": [
    "img_rfe.bandNames().getInfo()"
   ]
  },
  {
   "cell_type": "code",
   "execution_count": 222,
   "id": "6cb5a40c",
   "metadata": {
    "ExecuteTime": {
     "end_time": "2022-08-30T19:55:45.411941Z",
     "start_time": "2022-08-30T19:55:45.409739Z"
    }
   },
   "outputs": [],
   "source": [
    "data_rfe = img_rfe.sampleRegions(**{\n",
    "    'collection': test1,\n",
    "    'properties': ['C_ID'],\n",
    "    'scale': 30,\n",
    "    'tileScale': 2,\n",
    "})"
   ]
  },
  {
   "cell_type": "code",
   "execution_count": 223,
   "id": "f0eb31e6",
   "metadata": {
    "ExecuteTime": {
     "end_time": "2022-08-30T19:55:45.414983Z",
     "start_time": "2022-08-30T19:55:45.413050Z"
    }
   },
   "outputs": [],
   "source": [
    "sample3 = data_rfe.randomColumn()\n",
    "split = 0.7"
   ]
  },
  {
   "cell_type": "code",
   "execution_count": 224,
   "id": "d56480de",
   "metadata": {
    "ExecuteTime": {
     "end_time": "2022-08-30T19:55:45.418167Z",
     "start_time": "2022-08-30T19:55:45.416279Z"
    }
   },
   "outputs": [],
   "source": [
    "training3 = sample3.filter(ee.Filter.lt('random', split))\n",
    "validation3= sample3.filter(ee.Filter.gte('random', split))"
   ]
  },
  {
   "cell_type": "code",
   "execution_count": 225,
   "id": "2b3002d1",
   "metadata": {
    "ExecuteTime": {
     "end_time": "2022-08-30T19:55:45.421957Z",
     "start_time": "2022-08-30T19:55:45.419697Z"
    }
   },
   "outputs": [],
   "source": [
    "bands_rfe = ['elevation','NDVI_spring','NDVI_winter','NDVI_autumn','B1','NDGI','EVI_savg','B2','NDVI_savg','mNDWI','B4','B3','brightness',\n",
    "                           'NDSI','slope','NDBI','NDWI','wetness','B7','NDBrI','greenness','B5','EVI','B6','NDWBI','GNDVI','NDVI','MSAVI2','SAVI','B5_savg']"
   ]
  },
  {
   "cell_type": "code",
   "execution_count": 226,
   "id": "9a44ebcc",
   "metadata": {
    "ExecuteTime": {
     "end_time": "2022-08-30T19:55:45.424927Z",
     "start_time": "2022-08-30T19:55:45.423070Z"
    }
   },
   "outputs": [],
   "source": [
    "classifier_rfe = ee.Classifier.smileRandomForest(100).train(data_rfe,label_train,bands_rfe)"
   ]
  },
  {
   "cell_type": "code",
   "execution_count": 227,
   "id": "b60dea00",
   "metadata": {
    "ExecuteTime": {
     "end_time": "2022-08-30T19:55:45.427846Z",
     "start_time": "2022-08-30T19:55:45.426126Z"
    }
   },
   "outputs": [],
   "source": [
    "result_rfe = img_rfe.select(bands_rfe).classify(classifier_rfe)"
   ]
  },
  {
   "cell_type": "code",
   "execution_count": 228,
   "id": "5a9eae91",
   "metadata": {
    "ExecuteTime": {
     "end_time": "2022-08-30T19:55:45.430850Z",
     "start_time": "2022-08-30T19:55:45.429097Z"
    }
   },
   "outputs": [],
   "source": [
    "explained_rfe = ee.Classifier.explain(classifier_rfe)"
   ]
  },
  {
   "cell_type": "code",
   "execution_count": 229,
   "id": "6dd4c3e4",
   "metadata": {
    "ExecuteTime": {
     "end_time": "2022-08-30T19:55:45.433504Z",
     "start_time": "2022-08-30T19:55:45.431994Z"
    },
    "scrolled": true,
    "tags": []
   },
   "outputs": [],
   "source": [
    "#explained_rfe.getInfo()"
   ]
  },
  {
   "cell_type": "code",
   "execution_count": 230,
   "id": "2e4ecf3a",
   "metadata": {
    "ExecuteTime": {
     "end_time": "2022-08-30T19:55:45.436446Z",
     "start_time": "2022-08-30T19:55:45.434571Z"
    }
   },
   "outputs": [],
   "source": [
    "landcover_rfe = result_rfe.set('classification_class_values', class_values2)\n",
    "landcover_rfe = landcover_rfe.set('classification_class_palette',class_palette2)"
   ]
  },
  {
   "cell_type": "code",
   "execution_count": 231,
   "id": "36a777ed",
   "metadata": {
    "ExecuteTime": {
     "end_time": "2022-08-30T19:58:41.766948Z",
     "start_time": "2022-08-30T19:55:45.437601Z"
    },
    "tags": []
   },
   "outputs": [
    {
     "data": {
      "application/vnd.jupyter.widget-view+json": {
       "model_id": "acfb6783289f481e9f9a6d4294a47560",
       "version_major": 2,
       "version_minor": 0
      },
      "text/plain": [
       "Map(center=[-45, -70], controls=(WidgetControl(options=['position', 'transparent_bg'], widget=HBox(children=(T…"
      ]
     },
     "metadata": {},
     "output_type": "display_data"
    }
   ],
   "source": [
    "Map8.addLayer(landcover_rfe,{}, 'Land cover rfe' )\n",
    "Map8"
   ]
  },
  {
   "cell_type": "code",
   "execution_count": 232,
   "id": "bc06383d-811f-4a15-a735-caf9e46d6915",
   "metadata": {
    "ExecuteTime": {
     "end_time": "2022-08-30T19:58:41.770600Z",
     "start_time": "2022-08-30T19:58:41.768157Z"
    }
   },
   "outputs": [],
   "source": [
    "task_landcover = ee.batch.Export.image.toDrive(**{\n",
    "    'image': landcover_rfe,\n",
    "    'description':'landcover_rfe_02',\n",
    "    'folder':'Earth Engine',\n",
    "    'region': geometry_exp.bounds(),\n",
    "    'scale':30,\n",
    "    'crsTransform':[30, 0, 214185, 0, -30, -4825185], \n",
    "    'crs':'EPSG:32719',\n",
    "    'maxPixels':1e13\n",
    "})"
   ]
  },
  {
   "cell_type": "code",
   "execution_count": 233,
   "id": "9299a444-a17f-4af9-a266-24fa8de7c856",
   "metadata": {
    "ExecuteTime": {
     "end_time": "2022-08-30T19:58:41.775750Z",
     "start_time": "2022-08-30T19:58:41.771661Z"
    }
   },
   "outputs": [],
   "source": [
    "# task_landcover.start()"
   ]
  },
  {
   "cell_type": "markdown",
   "id": "b79ccfe6",
   "metadata": {
    "tags": []
   },
   "source": [
    "### Segundo"
   ]
  },
  {
   "cell_type": "code",
   "execution_count": 234,
   "id": "f83dc08c",
   "metadata": {
    "ExecuteTime": {
     "end_time": "2022-08-30T19:58:41.779144Z",
     "start_time": "2022-08-30T19:58:41.777135Z"
    }
   },
   "outputs": [],
   "source": [
    "img_rfe2 = img_final.select('elevation','NDVI_spring','NDVI_winter','NDVI_autumn','B1','NDGI','EVI_savg','B2','NDVI_savg','mNDWI','B4','B3','brightness',\n",
    "                           'NDSI','slope','NDBI','NDWI','wetness','B7','NDBrI','greenness','B5','EVI','B5_savg')"
   ]
  },
  {
   "cell_type": "code",
   "execution_count": 235,
   "id": "4eac431c",
   "metadata": {
    "ExecuteTime": {
     "end_time": "2022-08-30T19:58:46.576892Z",
     "start_time": "2022-08-30T19:58:41.780381Z"
    }
   },
   "outputs": [
    {
     "data": {
      "text/plain": [
       "['elevation',\n",
       " 'NDVI_spring',\n",
       " 'NDVI_winter',\n",
       " 'NDVI_autumn',\n",
       " 'B1',\n",
       " 'NDGI',\n",
       " 'EVI_savg',\n",
       " 'B2',\n",
       " 'NDVI_savg',\n",
       " 'mNDWI',\n",
       " 'B4',\n",
       " 'B3',\n",
       " 'brightness',\n",
       " 'NDSI',\n",
       " 'slope',\n",
       " 'NDBI',\n",
       " 'NDWI',\n",
       " 'wetness',\n",
       " 'B7',\n",
       " 'NDBrI',\n",
       " 'greenness',\n",
       " 'B5',\n",
       " 'EVI',\n",
       " 'B5_savg']"
      ]
     },
     "execution_count": 235,
     "metadata": {},
     "output_type": "execute_result"
    }
   ],
   "source": [
    "img_rfe2.bandNames().getInfo()"
   ]
  },
  {
   "cell_type": "code",
   "execution_count": 236,
   "id": "8767af17",
   "metadata": {
    "ExecuteTime": {
     "end_time": "2022-08-30T19:58:46.580275Z",
     "start_time": "2022-08-30T19:58:46.578166Z"
    }
   },
   "outputs": [],
   "source": [
    "data_rfe2 = img_rfe2.sampleRegions(**{\n",
    "    'collection': test1,\n",
    "    'properties': ['C_ID'],\n",
    "    'scale': 30,\n",
    "    'tileScale': 2,\n",
    "})"
   ]
  },
  {
   "cell_type": "code",
   "execution_count": 237,
   "id": "041fe9c7",
   "metadata": {
    "ExecuteTime": {
     "end_time": "2022-08-30T19:58:46.583740Z",
     "start_time": "2022-08-30T19:58:46.581980Z"
    }
   },
   "outputs": [],
   "source": [
    "sample4 = data_rfe2.randomColumn()\n",
    "split = 0.7"
   ]
  },
  {
   "cell_type": "code",
   "execution_count": 238,
   "id": "67d0f42a",
   "metadata": {
    "ExecuteTime": {
     "end_time": "2022-08-30T19:58:46.587160Z",
     "start_time": "2022-08-30T19:58:46.585155Z"
    }
   },
   "outputs": [],
   "source": [
    "training4 = sample4.filter(ee.Filter.lt('random', split))\n",
    "validation4= sample4.filter(ee.Filter.gte('random', split))"
   ]
  },
  {
   "cell_type": "code",
   "execution_count": 239,
   "id": "feacf205",
   "metadata": {
    "ExecuteTime": {
     "end_time": "2022-08-30T19:58:46.590602Z",
     "start_time": "2022-08-30T19:58:46.588509Z"
    }
   },
   "outputs": [],
   "source": [
    "bands_rfe2 = ['elevation','NDVI_spring','NDVI_winter','NDVI_autumn','B1','NDGI','EVI_savg','B2','NDVI_savg','mNDWI','B4','B3','brightness',\n",
    "                           'NDSI','slope','NDBI','NDWI','wetness','B7','NDBrI','greenness','B5','EVI','B5_savg']"
   ]
  },
  {
   "cell_type": "code",
   "execution_count": 240,
   "id": "069519c7",
   "metadata": {
    "ExecuteTime": {
     "end_time": "2022-08-30T19:58:46.593832Z",
     "start_time": "2022-08-30T19:58:46.591878Z"
    }
   },
   "outputs": [],
   "source": [
    "classifier_rfe2 = ee.Classifier.smileRandomForest(100).train(data_rfe2,label_train,bands_rfe2)"
   ]
  },
  {
   "cell_type": "code",
   "execution_count": 241,
   "id": "28b9712b",
   "metadata": {
    "ExecuteTime": {
     "end_time": "2022-08-30T19:58:46.596848Z",
     "start_time": "2022-08-30T19:58:46.594988Z"
    }
   },
   "outputs": [],
   "source": [
    "result_rfe2 = img_rfe.select(bands_rfe2).classify(classifier_rfe2)"
   ]
  },
  {
   "cell_type": "code",
   "execution_count": 242,
   "id": "0f7c6a93",
   "metadata": {
    "ExecuteTime": {
     "end_time": "2022-08-30T19:58:46.599721Z",
     "start_time": "2022-08-30T19:58:46.598003Z"
    }
   },
   "outputs": [],
   "source": [
    "explained_rfe2 = ee.Classifier.explain(classifier_rfe2)"
   ]
  },
  {
   "cell_type": "code",
   "execution_count": 243,
   "id": "8b9ec07b",
   "metadata": {
    "ExecuteTime": {
     "end_time": "2022-08-30T19:58:46.602690Z",
     "start_time": "2022-08-30T19:58:46.601112Z"
    }
   },
   "outputs": [],
   "source": [
    "#explained_rfe2.getInfo()"
   ]
  },
  {
   "cell_type": "code",
   "execution_count": 244,
   "id": "8de9ac2b",
   "metadata": {
    "ExecuteTime": {
     "end_time": "2022-08-30T19:58:46.630090Z",
     "start_time": "2022-08-30T19:58:46.628045Z"
    }
   },
   "outputs": [],
   "source": [
    "landcover_rfe2 = result_rfe2.set('classification_class_values', class_values2)\n",
    "landcover_rfe2 = landcover_rfe2.set('classification_class_palette',class_palette2)"
   ]
  },
  {
   "cell_type": "code",
   "execution_count": 245,
   "id": "e4bb7091",
   "metadata": {
    "ExecuteTime": {
     "end_time": "2022-08-30T20:01:25.526675Z",
     "start_time": "2022-08-30T19:58:46.631538Z"
    }
   },
   "outputs": [
    {
     "data": {
      "application/vnd.jupyter.widget-view+json": {
       "model_id": "3244596c474046c0818917fd8c044cc7",
       "version_major": 2,
       "version_minor": 0
      },
      "text/plain": [
       "Map(center=[-45, -70], controls=(WidgetControl(options=['position', 'transparent_bg'], widget=HBox(children=(T…"
      ]
     },
     "metadata": {},
     "output_type": "display_data"
    }
   ],
   "source": [
    "Map9.addLayer(landcover_rfe2,{}, 'Land cover rfe2' )\n",
    "Map9"
   ]
  },
  {
   "cell_type": "markdown",
   "id": "80760681",
   "metadata": {},
   "source": [
    "# Matrices de Confusión"
   ]
  },
  {
   "cell_type": "markdown",
   "id": "07276083",
   "metadata": {},
   "source": [
    "Primer mosaico Bruto"
   ]
  },
  {
   "cell_type": "code",
   "execution_count": 246,
   "id": "816e243a",
   "metadata": {
    "ExecuteTime": {
     "end_time": "2022-08-30T20:01:25.529895Z",
     "start_time": "2022-08-30T20:01:25.528003Z"
    }
   },
   "outputs": [],
   "source": [
    "train_accuracy = classifier_QM.confusionMatrix()"
   ]
  },
  {
   "cell_type": "code",
   "execution_count": 247,
   "id": "f080ae8a",
   "metadata": {
    "ExecuteTime": {
     "end_time": "2022-08-30T20:01:25.533042Z",
     "start_time": "2022-08-30T20:01:25.531072Z"
    },
    "scrolled": true,
    "tags": []
   },
   "outputs": [],
   "source": [
    "# train_accuracy.getInfo()"
   ]
  },
  {
   "cell_type": "code",
   "execution_count": 248,
   "id": "e4aedfda",
   "metadata": {
    "ExecuteTime": {
     "end_time": "2022-08-30T20:01:42.580000Z",
     "start_time": "2022-08-30T20:01:25.534382Z"
    }
   },
   "outputs": [
    {
     "data": {
      "text/plain": [
       "1"
      ]
     },
     "execution_count": 248,
     "metadata": {},
     "output_type": "execute_result"
    }
   ],
   "source": [
    "train_accuracy.accuracy().getInfo()"
   ]
  },
  {
   "cell_type": "code",
   "execution_count": 249,
   "id": "80f232e4",
   "metadata": {
    "ExecuteTime": {
     "end_time": "2022-08-30T20:01:53.911018Z",
     "start_time": "2022-08-30T20:01:42.581192Z"
    },
    "tags": []
   },
   "outputs": [
    {
     "data": {
      "text/plain": [
       "1"
      ]
     },
     "execution_count": 249,
     "metadata": {},
     "output_type": "execute_result"
    }
   ],
   "source": [
    "train_accuracy.kappa().getInfo()"
   ]
  },
  {
   "cell_type": "code",
   "execution_count": 250,
   "id": "aa1cb040",
   "metadata": {
    "ExecuteTime": {
     "end_time": "2022-08-30T20:01:53.914105Z",
     "start_time": "2022-08-30T20:01:53.912399Z"
    },
    "tags": []
   },
   "outputs": [],
   "source": [
    "#train_accuracy.producersAccuracy().getInfo()"
   ]
  },
  {
   "cell_type": "code",
   "execution_count": 251,
   "id": "e39435bd",
   "metadata": {
    "ExecuteTime": {
     "end_time": "2022-08-30T20:01:53.917440Z",
     "start_time": "2022-08-30T20:01:53.915878Z"
    },
    "tags": []
   },
   "outputs": [],
   "source": [
    "#train_accuracy.consumersAccuracy().getInfo()"
   ]
  },
  {
   "cell_type": "code",
   "execution_count": 252,
   "id": "49453477",
   "metadata": {
    "ExecuteTime": {
     "end_time": "2022-08-30T20:01:53.920519Z",
     "start_time": "2022-08-30T20:01:53.918816Z"
    }
   },
   "outputs": [],
   "source": [
    "validated = data_Val.classify(classifier_QM)"
   ]
  },
  {
   "cell_type": "code",
   "execution_count": 253,
   "id": "742278ad",
   "metadata": {
    "ExecuteTime": {
     "end_time": "2022-08-30T20:04:14.620688Z",
     "start_time": "2022-08-30T20:01:53.921738Z"
    },
    "scrolled": true
   },
   "outputs": [
    {
     "data": {
      "text/plain": [
       "{'type': 'Feature',\n",
       " 'geometry': None,\n",
       " 'id': '662_0',\n",
       " 'properties': {'B1': 0.11938653886318207,\n",
       "  'B2': 0.0943283885717392,\n",
       "  'B3': 0.07894424349069595,\n",
       "  'B4': 0.05480083078145981,\n",
       "  'B5': 0.28703218698501587,\n",
       "  'B5_asm': 0.0308445137314185,\n",
       "  'B5_contrast': 0.1056845238095238,\n",
       "  'B5_corr': 0.42878911344867743,\n",
       "  'B5_dent': 1.8303978585261802,\n",
       "  'B5_diss': 2.4136904761904754,\n",
       "  'B5_dvar': 4.3770589254220225,\n",
       "  'B5_ent': 3.7173923138311853,\n",
       "  'B5_idm': 0.37600055334729743,\n",
       "  'B5_imcorr1': -0.4098561331636401,\n",
       "  'B5_imcorr2': 0.9206296863497878,\n",
       "  'B5_inertia': 10.56845238095238,\n",
       "  'B5_maxcorr': 0,\n",
       "  'B5_prom': 3001.71935001945,\n",
       "  'B5_savg': 0.5983035714285713,\n",
       "  'B5_sent': 2.6457464049731274,\n",
       "  'B5_shade': 141.61767340864893,\n",
       "  'B5_svar': 26.353706065761912,\n",
       "  'B5_var': 9.230539611677813,\n",
       "  'B6': 0.0871768444776535,\n",
       "  'B7': 0.043574560433626175,\n",
       "  'C_ID': 40,\n",
       "  'EVI': 0.6391400744664149,\n",
       "  'EVI_asm': 0.03937350403124217,\n",
       "  'EVI_contrast': 0.24434523809523803,\n",
       "  'EVI_corr': 0.38521108138274085,\n",
       "  'EVI_dent': 2.056961982710238,\n",
       "  'EVI_diss': 3.23015873015873,\n",
       "  'EVI_dvar': 13.21297083648274,\n",
       "  'EVI_ent': 3.6421226520145584,\n",
       "  'EVI_idm': 0.4049339991369813,\n",
       "  'EVI_imcorr1': -0.44377544173470346,\n",
       "  'EVI_imcorr2': 0.932575547456645,\n",
       "  'EVI_inertia': 24.434523809523803,\n",
       "  'EVI_maxcorr': 0,\n",
       "  'EVI_prom': 10519.694393694685,\n",
       "  'EVI_savg': 1.4920238095238103,\n",
       "  'EVI_sent': 2.8535773211445505,\n",
       "  'EVI_shade': -337.6684410205878,\n",
       "  'EVI_svar': 54.57156242124802,\n",
       "  'EVI_var': 19.751521557698197,\n",
       "  'GNDVI': 0.5685828924179077,\n",
       "  'MSAVI2': 0.7867729388754923,\n",
       "  'NDBI': -0.534074068069458,\n",
       "  'NDBrI': 0.7363964319229126,\n",
       "  'NDGI': 0.18051815032958984,\n",
       "  'NDSI': -0.04955783113837242,\n",
       "  'NDVI': 0.6793707609176636,\n",
       "  'NDVI_asm': 0.03937350403124217,\n",
       "  'NDVI_autumn': 0.076229028403759,\n",
       "  'NDVI_contrast': 0.24434523809523803,\n",
       "  'NDVI_corr': 0.38521108138274085,\n",
       "  'NDVI_dent': 2.056961982710238,\n",
       "  'NDVI_diss': 3.23015873015873,\n",
       "  'NDVI_dvar': 13.21297083648274,\n",
       "  'NDVI_ent': 3.6421226520145584,\n",
       "  'NDVI_idm': 0.4049339991369813,\n",
       "  'NDVI_imcorr1': -0.44377544173470346,\n",
       "  'NDVI_imcorr2': 0.932575547456645,\n",
       "  'NDVI_inertia': 24.434523809523803,\n",
       "  'NDVI_maxcorr': 0,\n",
       "  'NDVI_prom': 10519.694393694685,\n",
       "  'NDVI_savg': 1.4920238095238103,\n",
       "  'NDVI_sent': 2.8535773211445505,\n",
       "  'NDVI_shade': -337.6684410205878,\n",
       "  'NDVI_spring': 0.0902286022901535,\n",
       "  'NDVI_svar': 54.57156242124802,\n",
       "  'NDVI_var': 19.751521557698197,\n",
       "  'NDVI_winter': 0.0868639126420021,\n",
       "  'NDWBI': -0.5685828924179077,\n",
       "  'NDWI': 0.534074068069458,\n",
       "  'SAVI': 0.41379587988786337,\n",
       "  'aspect': 0,\n",
       "  'brightness': 0.2896554845444858,\n",
       "  'classification': 39,\n",
       "  'elevation': 11,\n",
       "  'greenness': 0.13140413808077575,\n",
       "  'mNDWI': -0.04955783113837242,\n",
       "  'slope': 1.8543341159820557,\n",
       "  'wetness': 0.0637022952888161}}"
      ]
     },
     "execution_count": 253,
     "metadata": {},
     "output_type": "execute_result"
    }
   ],
   "source": [
    "validated.first().getInfo()"
   ]
  },
  {
   "cell_type": "code",
   "execution_count": 254,
   "id": "5fcdd895",
   "metadata": {
    "ExecuteTime": {
     "end_time": "2022-08-30T20:04:14.624008Z",
     "start_time": "2022-08-30T20:04:14.622054Z"
    }
   },
   "outputs": [],
   "source": [
    "test_accuracy = validated.errorMatrix('C_ID', 'classification')"
   ]
  },
  {
   "cell_type": "code",
   "execution_count": 255,
   "id": "cb216b8c",
   "metadata": {
    "ExecuteTime": {
     "end_time": "2022-08-30T20:04:14.627149Z",
     "start_time": "2022-08-30T20:04:14.625502Z"
    },
    "tags": []
   },
   "outputs": [],
   "source": [
    "# test_accuracy.getInfo()"
   ]
  },
  {
   "cell_type": "code",
   "execution_count": 256,
   "id": "0420f12a",
   "metadata": {
    "ExecuteTime": {
     "end_time": "2022-08-30T20:04:32.661210Z",
     "start_time": "2022-08-30T20:04:14.628497Z"
    },
    "scrolled": false
   },
   "outputs": [
    {
     "data": {
      "text/plain": [
       "0"
      ]
     },
     "execution_count": 256,
     "metadata": {},
     "output_type": "execute_result"
    }
   ],
   "source": [
    "test_accuracy.accuracy().getInfo()"
   ]
  },
  {
   "cell_type": "code",
   "execution_count": 257,
   "id": "3ce130b9",
   "metadata": {
    "ExecuteTime": {
     "end_time": "2022-08-30T20:04:51.697988Z",
     "start_time": "2022-08-30T20:04:32.662549Z"
    }
   },
   "outputs": [
    {
     "data": {
      "text/plain": [
       "0"
      ]
     },
     "execution_count": 257,
     "metadata": {},
     "output_type": "execute_result"
    }
   ],
   "source": [
    "test_accuracy.kappa().getInfo()"
   ]
  },
  {
   "cell_type": "code",
   "execution_count": 258,
   "id": "4c0ccc58",
   "metadata": {
    "ExecuteTime": {
     "end_time": "2022-08-30T20:05:13.645678Z",
     "start_time": "2022-08-30T20:04:51.699330Z"
    },
    "tags": []
   },
   "outputs": [
    {
     "data": {
      "text/plain": [
       "[[0],\n",
       " [0],\n",
       " [0],\n",
       " [0],\n",
       " [0],\n",
       " [0],\n",
       " [0],\n",
       " [0],\n",
       " [0],\n",
       " [0],\n",
       " [0],\n",
       " [0],\n",
       " [0],\n",
       " [0],\n",
       " [0],\n",
       " [0],\n",
       " [0],\n",
       " [0],\n",
       " [0],\n",
       " [0],\n",
       " [0],\n",
       " [0],\n",
       " [0],\n",
       " [0],\n",
       " [0],\n",
       " [0],\n",
       " [0],\n",
       " [0],\n",
       " [0],\n",
       " [0],\n",
       " [0],\n",
       " [0],\n",
       " [0],\n",
       " [0],\n",
       " [0],\n",
       " [0],\n",
       " [0],\n",
       " [0],\n",
       " [0],\n",
       " [0],\n",
       " [0]]"
      ]
     },
     "execution_count": 258,
     "metadata": {},
     "output_type": "execute_result"
    }
   ],
   "source": [
    "test_accuracy.producersAccuracy().getInfo()"
   ]
  },
  {
   "cell_type": "code",
   "execution_count": 259,
   "id": "ed9904b9",
   "metadata": {
    "ExecuteTime": {
     "end_time": "2022-08-30T20:05:32.193230Z",
     "start_time": "2022-08-30T20:05:13.646966Z"
    },
    "tags": []
   },
   "outputs": [
    {
     "data": {
      "text/plain": [
       "[[0,\n",
       "  0,\n",
       "  0,\n",
       "  0,\n",
       "  0,\n",
       "  0,\n",
       "  0,\n",
       "  0,\n",
       "  0,\n",
       "  0,\n",
       "  0,\n",
       "  0,\n",
       "  0,\n",
       "  0,\n",
       "  0,\n",
       "  0,\n",
       "  0,\n",
       "  0,\n",
       "  0,\n",
       "  0,\n",
       "  0,\n",
       "  0,\n",
       "  0,\n",
       "  0,\n",
       "  0,\n",
       "  0,\n",
       "  0,\n",
       "  0,\n",
       "  0,\n",
       "  0,\n",
       "  0,\n",
       "  0,\n",
       "  0,\n",
       "  0,\n",
       "  0,\n",
       "  0,\n",
       "  0,\n",
       "  0,\n",
       "  0,\n",
       "  0,\n",
       "  0]]"
      ]
     },
     "execution_count": 259,
     "metadata": {},
     "output_type": "execute_result"
    }
   ],
   "source": [
    "test_accuracy.consumersAccuracy().getInfo()"
   ]
  },
  {
   "cell_type": "markdown",
   "id": "33747b41",
   "metadata": {},
   "source": [
    "Met Ba"
   ]
  },
  {
   "cell_type": "code",
   "execution_count": 260,
   "id": "19b18b02",
   "metadata": {
    "ExecuteTime": {
     "end_time": "2022-08-30T20:05:32.196125Z",
     "start_time": "2022-08-30T20:05:32.194427Z"
    }
   },
   "outputs": [],
   "source": [
    "#train_accuracy = classifier_ba.confusionMatrix()"
   ]
  },
  {
   "cell_type": "code",
   "execution_count": 261,
   "id": "4ebd2827",
   "metadata": {
    "ExecuteTime": {
     "end_time": "2022-08-30T20:05:32.199139Z",
     "start_time": "2022-08-30T20:05:32.197249Z"
    }
   },
   "outputs": [],
   "source": [
    "# train_accuracy.getInfo()"
   ]
  },
  {
   "cell_type": "code",
   "execution_count": 262,
   "id": "f0e88c8a",
   "metadata": {
    "ExecuteTime": {
     "end_time": "2022-08-30T20:05:32.202144Z",
     "start_time": "2022-08-30T20:05:32.200489Z"
    }
   },
   "outputs": [],
   "source": [
    "# train_accuracy.accuracy().getInfo()"
   ]
  },
  {
   "cell_type": "code",
   "execution_count": 263,
   "id": "6efdfca9",
   "metadata": {
    "ExecuteTime": {
     "end_time": "2022-08-30T20:05:32.205254Z",
     "start_time": "2022-08-30T20:05:32.203513Z"
    }
   },
   "outputs": [],
   "source": [
    "# train_accuracy.kappa().getInfo()"
   ]
  },
  {
   "cell_type": "code",
   "execution_count": 264,
   "id": "a14f5ecb",
   "metadata": {
    "ExecuteTime": {
     "end_time": "2022-08-30T20:05:32.208090Z",
     "start_time": "2022-08-30T20:05:32.206549Z"
    }
   },
   "outputs": [],
   "source": [
    "# train_accuracy.producersAccuracy().getInfo()"
   ]
  },
  {
   "cell_type": "code",
   "execution_count": 265,
   "id": "2b7b8be1",
   "metadata": {
    "ExecuteTime": {
     "end_time": "2022-08-30T20:05:32.210887Z",
     "start_time": "2022-08-30T20:05:32.209270Z"
    }
   },
   "outputs": [],
   "source": [
    "# train_accuracy.consumersAccuracy().getInfo()"
   ]
  },
  {
   "cell_type": "code",
   "execution_count": 266,
   "id": "c0fd37b3",
   "metadata": {
    "ExecuteTime": {
     "end_time": "2022-08-30T20:05:32.213891Z",
     "start_time": "2022-08-30T20:05:32.212029Z"
    }
   },
   "outputs": [],
   "source": [
    "# validated = data_Val.classify(classifier_ba)"
   ]
  },
  {
   "cell_type": "code",
   "execution_count": 267,
   "id": "c2c1546f",
   "metadata": {
    "ExecuteTime": {
     "end_time": "2022-08-30T20:05:32.216547Z",
     "start_time": "2022-08-30T20:05:32.214958Z"
    }
   },
   "outputs": [],
   "source": [
    "# validated.first().getInfo()"
   ]
  },
  {
   "cell_type": "code",
   "execution_count": 268,
   "id": "bde2a1f6",
   "metadata": {
    "ExecuteTime": {
     "end_time": "2022-08-30T20:05:32.219290Z",
     "start_time": "2022-08-30T20:05:32.217713Z"
    }
   },
   "outputs": [],
   "source": [
    "# test_accuracy = validated.errorMatrix('C_ID', 'classification')"
   ]
  },
  {
   "cell_type": "code",
   "execution_count": 269,
   "id": "0c4b3448",
   "metadata": {
    "ExecuteTime": {
     "end_time": "2022-08-30T20:05:32.221952Z",
     "start_time": "2022-08-30T20:05:32.220399Z"
    }
   },
   "outputs": [],
   "source": [
    "# test_accuracy.getInfo()"
   ]
  },
  {
   "cell_type": "code",
   "execution_count": 270,
   "id": "30095e1b",
   "metadata": {
    "ExecuteTime": {
     "end_time": "2022-08-30T20:05:32.224501Z",
     "start_time": "2022-08-30T20:05:32.223041Z"
    }
   },
   "outputs": [],
   "source": [
    "# test_accuracy.accuracy().getInfo()"
   ]
  },
  {
   "cell_type": "code",
   "execution_count": 271,
   "id": "98f12907",
   "metadata": {
    "ExecuteTime": {
     "end_time": "2022-08-30T20:05:32.227501Z",
     "start_time": "2022-08-30T20:05:32.225892Z"
    }
   },
   "outputs": [],
   "source": [
    "# test_accuracy.kappa().getInfo()"
   ]
  },
  {
   "cell_type": "code",
   "execution_count": 272,
   "id": "65cc2392",
   "metadata": {
    "ExecuteTime": {
     "end_time": "2022-08-30T20:05:32.230516Z",
     "start_time": "2022-08-30T20:05:32.228753Z"
    }
   },
   "outputs": [],
   "source": [
    "# test_accuracy.producersAccuracy().getInfo()"
   ]
  },
  {
   "cell_type": "code",
   "execution_count": 273,
   "id": "87c98074",
   "metadata": {
    "ExecuteTime": {
     "end_time": "2022-08-30T20:05:32.233069Z",
     "start_time": "2022-08-30T20:05:32.231534Z"
    }
   },
   "outputs": [],
   "source": [
    "# test_accuracy.consumersAccuracy().getInfo()"
   ]
  },
  {
   "cell_type": "markdown",
   "id": "151648c4",
   "metadata": {},
   "source": [
    "<!-- Met. RFE1 -->"
   ]
  },
  {
   "cell_type": "code",
   "execution_count": 274,
   "id": "582969a2",
   "metadata": {
    "ExecuteTime": {
     "end_time": "2022-08-30T20:05:32.235780Z",
     "start_time": "2022-08-30T20:05:32.234164Z"
    }
   },
   "outputs": [],
   "source": [
    "# train_accuracy = classifier_rfe.confusionMatrix()"
   ]
  },
  {
   "cell_type": "code",
   "execution_count": 275,
   "id": "ba4e5165",
   "metadata": {
    "ExecuteTime": {
     "end_time": "2022-08-30T20:05:32.238558Z",
     "start_time": "2022-08-30T20:05:32.237038Z"
    },
    "tags": []
   },
   "outputs": [],
   "source": [
    "# train_accuracy.getInfo()"
   ]
  },
  {
   "cell_type": "code",
   "execution_count": 276,
   "id": "f7fe1b32",
   "metadata": {
    "ExecuteTime": {
     "end_time": "2022-08-30T20:05:32.241202Z",
     "start_time": "2022-08-30T20:05:32.239677Z"
    }
   },
   "outputs": [],
   "source": [
    "# train_accuracy.accuracy().getInfo()"
   ]
  },
  {
   "cell_type": "code",
   "execution_count": 277,
   "id": "190cfb11",
   "metadata": {
    "ExecuteTime": {
     "end_time": "2022-08-30T20:05:32.244063Z",
     "start_time": "2022-08-30T20:05:32.242412Z"
    }
   },
   "outputs": [],
   "source": [
    "# train_accuracy.kappa().getInfo()"
   ]
  },
  {
   "cell_type": "code",
   "execution_count": 278,
   "id": "89cac4c6",
   "metadata": {
    "ExecuteTime": {
     "end_time": "2022-08-30T20:05:32.246766Z",
     "start_time": "2022-08-30T20:05:32.245261Z"
    },
    "tags": []
   },
   "outputs": [],
   "source": [
    "# train_accuracy.producersAccuracy().getInfo()"
   ]
  },
  {
   "cell_type": "code",
   "execution_count": 279,
   "id": "d8024ff9",
   "metadata": {
    "ExecuteTime": {
     "end_time": "2022-08-30T20:05:32.249378Z",
     "start_time": "2022-08-30T20:05:32.247833Z"
    },
    "tags": []
   },
   "outputs": [],
   "source": [
    "# train_accuracy.consumersAccuracy().getInfo()"
   ]
  },
  {
   "cell_type": "code",
   "execution_count": 280,
   "id": "4581b1b1",
   "metadata": {
    "ExecuteTime": {
     "end_time": "2022-08-30T20:05:32.252113Z",
     "start_time": "2022-08-30T20:05:32.250507Z"
    }
   },
   "outputs": [],
   "source": [
    "# validated = data_Val.classify(classifier_rfe)"
   ]
  },
  {
   "cell_type": "code",
   "execution_count": 281,
   "id": "6fbe9d6d",
   "metadata": {
    "ExecuteTime": {
     "end_time": "2022-08-30T20:05:32.254761Z",
     "start_time": "2022-08-30T20:05:32.253253Z"
    }
   },
   "outputs": [],
   "source": [
    "# validated.first().getInfo()"
   ]
  },
  {
   "cell_type": "code",
   "execution_count": 282,
   "id": "01783837",
   "metadata": {
    "ExecuteTime": {
     "end_time": "2022-08-30T20:05:32.257535Z",
     "start_time": "2022-08-30T20:05:32.256003Z"
    }
   },
   "outputs": [],
   "source": [
    "# test_accuracy = validated.errorMatrix('C_ID', 'classification')"
   ]
  },
  {
   "cell_type": "code",
   "execution_count": 283,
   "id": "10c50612",
   "metadata": {
    "ExecuteTime": {
     "end_time": "2022-08-30T20:05:32.260346Z",
     "start_time": "2022-08-30T20:05:32.258785Z"
    },
    "tags": []
   },
   "outputs": [],
   "source": [
    "# test_accuracy.getInfo()"
   ]
  },
  {
   "cell_type": "code",
   "execution_count": 284,
   "id": "ffa320db",
   "metadata": {
    "ExecuteTime": {
     "end_time": "2022-08-30T20:05:32.262932Z",
     "start_time": "2022-08-30T20:05:32.261438Z"
    }
   },
   "outputs": [],
   "source": [
    "# test_accuracy.accuracy().getInfo()"
   ]
  },
  {
   "cell_type": "code",
   "execution_count": 285,
   "id": "98248e32",
   "metadata": {
    "ExecuteTime": {
     "end_time": "2022-08-30T20:05:32.265646Z",
     "start_time": "2022-08-30T20:05:32.264050Z"
    }
   },
   "outputs": [],
   "source": [
    "# test_accuracy.kappa().getInfo()"
   ]
  },
  {
   "cell_type": "code",
   "execution_count": 286,
   "id": "8854bfd4",
   "metadata": {
    "ExecuteTime": {
     "end_time": "2022-08-30T20:05:32.268760Z",
     "start_time": "2022-08-30T20:05:32.266964Z"
    },
    "tags": []
   },
   "outputs": [],
   "source": [
    "# test_accuracy.producersAccuracy().getInfo()"
   ]
  },
  {
   "cell_type": "code",
   "execution_count": 287,
   "id": "2b6eff4f",
   "metadata": {
    "ExecuteTime": {
     "end_time": "2022-08-30T20:05:32.271695Z",
     "start_time": "2022-08-30T20:05:32.270114Z"
    },
    "tags": []
   },
   "outputs": [],
   "source": [
    "# test_accuracy.consumersAccuracy().getInfo()"
   ]
  },
  {
   "cell_type": "markdown",
   "id": "feeedf5f",
   "metadata": {},
   "source": [
    "<!-- Met. RFE2 -->"
   ]
  },
  {
   "cell_type": "code",
   "execution_count": 288,
   "id": "02c22694",
   "metadata": {
    "ExecuteTime": {
     "end_time": "2022-08-30T20:05:32.274412Z",
     "start_time": "2022-08-30T20:05:32.272840Z"
    }
   },
   "outputs": [],
   "source": [
    "# train_accuracy = classifier_rfe2.confusionMatrix()"
   ]
  },
  {
   "cell_type": "code",
   "execution_count": 289,
   "id": "0ddbf7a5",
   "metadata": {
    "ExecuteTime": {
     "end_time": "2022-08-30T20:05:32.277161Z",
     "start_time": "2022-08-30T20:05:32.275536Z"
    },
    "tags": []
   },
   "outputs": [],
   "source": [
    "# train_accuracy.getInfo()"
   ]
  },
  {
   "cell_type": "code",
   "execution_count": 290,
   "id": "7b5cdd2b",
   "metadata": {
    "ExecuteTime": {
     "end_time": "2022-08-30T20:05:32.279980Z",
     "start_time": "2022-08-30T20:05:32.278422Z"
    }
   },
   "outputs": [],
   "source": [
    "# train_accuracy.accuracy().getInfo()"
   ]
  },
  {
   "cell_type": "code",
   "execution_count": 291,
   "id": "d9ed32ae",
   "metadata": {
    "ExecuteTime": {
     "end_time": "2022-08-30T20:05:32.282983Z",
     "start_time": "2022-08-30T20:05:32.281259Z"
    }
   },
   "outputs": [],
   "source": [
    "# train_accuracy.kappa().getInfo()"
   ]
  },
  {
   "cell_type": "code",
   "execution_count": 292,
   "id": "4e9a57cc",
   "metadata": {
    "ExecuteTime": {
     "end_time": "2022-08-30T20:05:32.285821Z",
     "start_time": "2022-08-30T20:05:32.284218Z"
    },
    "tags": []
   },
   "outputs": [],
   "source": [
    "# train_accuracy.producersAccuracy().getInfo()"
   ]
  },
  {
   "cell_type": "code",
   "execution_count": 293,
   "id": "477c99f0",
   "metadata": {
    "ExecuteTime": {
     "end_time": "2022-08-30T20:05:32.288623Z",
     "start_time": "2022-08-30T20:05:32.286990Z"
    },
    "tags": []
   },
   "outputs": [],
   "source": [
    "# train_accuracy.consumersAccuracy().getInfo()"
   ]
  },
  {
   "cell_type": "code",
   "execution_count": 294,
   "id": "b2532485",
   "metadata": {
    "ExecuteTime": {
     "end_time": "2022-08-30T20:05:32.291285Z",
     "start_time": "2022-08-30T20:05:32.289755Z"
    }
   },
   "outputs": [],
   "source": [
    "# validated = data_Val.classify(classifier_rfe2)"
   ]
  },
  {
   "cell_type": "code",
   "execution_count": 295,
   "id": "948b0d25",
   "metadata": {
    "ExecuteTime": {
     "end_time": "2022-08-30T20:05:32.293898Z",
     "start_time": "2022-08-30T20:05:32.292398Z"
    }
   },
   "outputs": [],
   "source": [
    "# validated.first().getInfo()"
   ]
  },
  {
   "cell_type": "code",
   "execution_count": 296,
   "id": "cdd4567e",
   "metadata": {
    "ExecuteTime": {
     "end_time": "2022-08-30T20:05:32.296520Z",
     "start_time": "2022-08-30T20:05:32.294981Z"
    }
   },
   "outputs": [],
   "source": [
    "# test_accuracy = validated.errorMatrix('C_ID', 'classification')"
   ]
  },
  {
   "cell_type": "code",
   "execution_count": 297,
   "id": "5da106f4",
   "metadata": {
    "ExecuteTime": {
     "end_time": "2022-08-30T20:05:32.299195Z",
     "start_time": "2022-08-30T20:05:32.297729Z"
    },
    "tags": []
   },
   "outputs": [],
   "source": [
    "# test_accuracy.getInfo()"
   ]
  },
  {
   "cell_type": "code",
   "execution_count": 298,
   "id": "220e034c",
   "metadata": {
    "ExecuteTime": {
     "end_time": "2022-08-30T20:05:32.302097Z",
     "start_time": "2022-08-30T20:05:32.300496Z"
    }
   },
   "outputs": [],
   "source": [
    "# test_accuracy.accuracy().getInfo()"
   ]
  },
  {
   "cell_type": "code",
   "execution_count": 299,
   "id": "a3873d3d",
   "metadata": {
    "ExecuteTime": {
     "end_time": "2022-08-30T20:05:32.304924Z",
     "start_time": "2022-08-30T20:05:32.303327Z"
    }
   },
   "outputs": [],
   "source": [
    "# test_accuracy.kappa().getInfo()"
   ]
  },
  {
   "cell_type": "code",
   "execution_count": 300,
   "id": "b2dcd91d",
   "metadata": {
    "ExecuteTime": {
     "end_time": "2022-08-30T20:05:32.307621Z",
     "start_time": "2022-08-30T20:05:32.306058Z"
    },
    "tags": []
   },
   "outputs": [],
   "source": [
    "# test_accuracy.producersAccuracy().getInfo()"
   ]
  },
  {
   "cell_type": "code",
   "execution_count": 301,
   "id": "2d364239",
   "metadata": {
    "ExecuteTime": {
     "end_time": "2022-08-30T20:05:32.310399Z",
     "start_time": "2022-08-30T20:05:32.308790Z"
    },
    "tags": []
   },
   "outputs": [],
   "source": [
    "# test_accuracy.consumersAccuracy().getInfo()"
   ]
  }
 ],
 "metadata": {
  "kernelspec": {
   "display_name": "Python 3 (ipykernel)",
   "language": "python",
   "name": "python3"
  },
  "language_info": {
   "codemirror_mode": {
    "name": "ipython",
    "version": 3
   },
   "file_extension": ".py",
   "mimetype": "text/x-python",
   "name": "python",
   "nbconvert_exporter": "python",
   "pygments_lexer": "ipython3",
   "version": "3.8.13"
  },
  "toc": {
   "base_numbering": 1,
   "nav_menu": {},
   "number_sections": true,
   "sideBar": true,
   "skip_h1_title": false,
   "title_cell": "Table of Contents",
   "title_sidebar": "Contents",
   "toc_cell": false,
   "toc_position": {
    "height": "calc(100% - 180px)",
    "left": "10px",
    "top": "150px",
    "width": "384px"
   },
   "toc_section_display": true,
   "toc_window_display": true
  },
  "varInspector": {
   "cols": {
    "lenName": 16,
    "lenType": 16,
    "lenVar": 40
   },
   "kernels_config": {
    "python": {
     "delete_cmd_postfix": "",
     "delete_cmd_prefix": "del ",
     "library": "var_list.py",
     "varRefreshCmd": "print(var_dic_list())"
    },
    "r": {
     "delete_cmd_postfix": ") ",
     "delete_cmd_prefix": "rm(",
     "library": "var_list.r",
     "varRefreshCmd": "cat(var_dic_list()) "
    }
   },
   "types_to_exclude": [
    "module",
    "function",
    "builtin_function_or_method",
    "instance",
    "_Feature"
   ],
   "window_display": false
  }
 },
 "nbformat": 4,
 "nbformat_minor": 5
}
