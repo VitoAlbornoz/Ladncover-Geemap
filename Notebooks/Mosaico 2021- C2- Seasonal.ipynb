{
 "cells": [
  {
   "cell_type": "markdown",
   "id": "880edeb3",
   "metadata": {
    "tags": []
   },
   "source": [
    "# Mosaico 2021 C2"
   ]
  },
  {
   "cell_type": "markdown",
   "id": "6f9b998a",
   "metadata": {},
   "source": [
    "Script trabajado por Francisco Albornoz/ \n",
    "Objetivo:   - Mejorar la temporalidad de los mosaicos.\n",
    "            - Usar la colección corregida.\n",
    "            "
   ]
  },
  {
   "cell_type": "markdown",
   "id": "f8f94a76",
   "metadata": {},
   "source": [
    "2022-03-31"
   ]
  },
  {
   "cell_type": "markdown",
   "id": "4a95b5bb",
   "metadata": {},
   "source": [
    "## Librerías"
   ]
  },
  {
   "cell_type": "code",
   "execution_count": 1,
   "id": "ce6c4698",
   "metadata": {
    "ExecuteTime": {
     "end_time": "2022-04-21T14:38:14.543561Z",
     "start_time": "2022-04-21T14:38:13.193233Z"
    }
   },
   "outputs": [],
   "source": [
    "import ee \n",
    "import geemap\n",
    "import geemap.chart as chart\n",
    "import os\n",
    "import folium\n",
    "import xarray_leaflet\n",
    "import rasterio \n",
    "from rasterio import plot\n",
    "import matplotlib.pyplot as plt\n",
    "import numpy as np\n",
    "import pandas as pd\n",
    "import seaborn as sns\n",
    "from scipy import stats\n",
    "from scipy.stats import pearsonr\n",
    "%matplotlib inline"
   ]
  },
  {
   "cell_type": "code",
   "execution_count": 2,
   "id": "8a191949",
   "metadata": {
    "ExecuteTime": {
     "end_time": "2022-04-21T14:38:24.387628Z",
     "start_time": "2022-04-21T14:38:14.544912Z"
    }
   },
   "outputs": [],
   "source": [
    "Map = geemap.Map(center = [-45, -70], zoom = 4)\n",
    "Map1 = geemap.Map(center = [-45, -70], zoom = 4)\n",
    "Map2 = geemap.Map(center = [-45, -70], zoom = 4)\n",
    "Map3 = geemap.Map(center = [-45, -70], zoom = 4)\n",
    "Map4 = geemap.Map(center = [-45, -70], zoom = 4)\n",
    "Map5 = geemap.Map(center = [-45, -70], zoom = 4)\n",
    "Map6 = geemap.Map(center = [-45, -70], zoom = 4)\n",
    "Map7 = geemap.Map(center = [-45, -70], zoom = 4)\n",
    "Map8 = geemap.Map(center = [-45, -70], zoom = 4)\n",
    "Map9 = geemap.Map(center = [-45, -70], zoom = 4)\n",
    "Map10 = geemap.Map(center = [-45, -70], zoom = 4)"
   ]
  },
  {
   "cell_type": "markdown",
   "id": "804e19a0",
   "metadata": {},
   "source": [
    "## Área de Estudio"
   ]
  },
  {
   "cell_type": "code",
   "execution_count": 3,
   "id": "d29d73bf",
   "metadata": {
    "ExecuteTime": {
     "end_time": "2022-04-21T14:38:24.649938Z",
     "start_time": "2022-04-21T14:38:24.388665Z"
    }
   },
   "outputs": [],
   "source": [
    "work_dir = os.path.expanduser('../Data/')\n",
    "patagonia = os.path.join(work_dir, 'patagonia_geo.shp')\n",
    "patagonia_grande = geemap.shp_to_ee(patagonia)"
   ]
  },
  {
   "cell_type": "markdown",
   "id": "7906a05e",
   "metadata": {},
   "source": [
    "## Funciones"
   ]
  },
  {
   "cell_type": "markdown",
   "id": "d279e816",
   "metadata": {},
   "source": [
    "### Visualizaciones"
   ]
  },
  {
   "cell_type": "code",
   "execution_count": 4,
   "id": "44a13bcf",
   "metadata": {
    "ExecuteTime": {
     "end_time": "2022-04-21T14:38:25.685303Z",
     "start_time": "2022-04-21T14:38:24.651324Z"
    }
   },
   "outputs": [],
   "source": [
    "import geemap.colormaps as cm"
   ]
  },
  {
   "cell_type": "code",
   "execution_count": 5,
   "id": "767439f1",
   "metadata": {
    "ExecuteTime": {
     "end_time": "2022-04-21T14:38:25.688561Z",
     "start_time": "2022-04-21T14:38:25.686389Z"
    }
   },
   "outputs": [],
   "source": [
    "color_ndvi = cm.palettes.ndvi\n",
    "color_ndwi = cm.palettes.ndwi\n",
    "color_terrain = cm.palettes.terrain\n",
    "color_glaciar = cm.palettes.PuBuGn_r\n",
    "color_nubes = cm.palettes.inferno"
   ]
  },
  {
   "cell_type": "code",
   "execution_count": 6,
   "id": "40d7a38c",
   "metadata": {
    "ExecuteTime": {
     "end_time": "2022-04-21T14:38:25.695336Z",
     "start_time": "2022-04-21T14:38:25.689473Z"
    }
   },
   "outputs": [],
   "source": [
    "vizParams = {\n",
    "  'bands': ['B5', 'B4', 'B3'],\n",
    "  'min': 0,\n",
    "  'max': 0.5,\n",
    "  'gamma': [0.95, 1.1, 1]\n",
    "}"
   ]
  },
  {
   "cell_type": "code",
   "execution_count": 7,
   "id": "bba4e83e",
   "metadata": {
    "ExecuteTime": {
     "end_time": "2022-04-21T14:38:25.701657Z",
     "start_time": "2022-04-21T14:38:25.696410Z"
    }
   },
   "outputs": [],
   "source": [
    "vizParams_m = {\n",
    "  'bands': ['B5', 'B4', 'B3'],\n",
    "  'min': 0,\n",
    "  'max': 0.6,\n",
    "  'gamma': [1, 1, 1]\n",
    "}"
   ]
  },
  {
   "cell_type": "code",
   "execution_count": 8,
   "id": "425e9acb",
   "metadata": {
    "ExecuteTime": {
     "end_time": "2022-04-21T14:38:25.704949Z",
     "start_time": "2022-04-21T14:38:25.702890Z"
    }
   },
   "outputs": [],
   "source": [
    "vis_nieve = {\n",
    "  'bands': ['B6', 'B4', 'B3'],\n",
    "  'min': 0,\n",
    "  'max': 0.5,\n",
    "  'gamma': [0.95, 1.1, 1]\n",
    "}"
   ]
  },
  {
   "cell_type": "markdown",
   "id": "280c0953",
   "metadata": {},
   "source": [
    "### Factores"
   ]
  },
  {
   "cell_type": "code",
   "execution_count": 9,
   "id": "deafb70d",
   "metadata": {
    "ExecuteTime": {
     "end_time": "2022-04-21T14:38:25.711390Z",
     "start_time": "2022-04-21T14:38:25.706067Z"
    }
   },
   "outputs": [],
   "source": [
    "def addDate(image):\n",
    "    img_date = ee.Date(image.date())\n",
    "    img_date = ee.Number.parse(img_date.format('YYYYMM'))\n",
    "    return image.addBands(ee.Image(img_date).rename('date').toInt())"
   ]
  },
  {
   "cell_type": "code",
   "execution_count": 10,
   "id": "2b58f0e6",
   "metadata": {
    "ExecuteTime": {
     "end_time": "2022-04-21T14:38:25.775144Z",
     "start_time": "2022-04-21T14:38:25.773032Z"
    }
   },
   "outputs": [],
   "source": [
    "def ScaleFactors(image):\n",
    "    opticalBands = image.select('SR_B.').multiply(0.0000275).add(-0.2)\n",
    "    return image.addBands(opticalBands, None, True)"
   ]
  },
  {
   "cell_type": "code",
   "execution_count": 11,
   "id": "840b2004",
   "metadata": {
    "ExecuteTime": {
     "end_time": "2022-04-21T14:38:25.778722Z",
     "start_time": "2022-04-21T14:38:25.776417Z"
    }
   },
   "outputs": [],
   "source": [
    "def add_ee_layer(self, ee_image_object, vis_params, name):\n",
    "  map_id_dict = ee.Image(ee_image_object).getMapId(vis_params)\n",
    "  folium.raster_layers.TileLayer(\n",
    "      tiles=map_id_dict['tile_fetcher'].url_format,\n",
    "      attr='Map Data &copy; <a href=\"https://earthengine.google.com/\">Google Earth Engine</a>',\n",
    "      name=name,\n",
    "      overlay=True,\n",
    "      control=True\n",
    "  ).add_to(self)\n",
    "\n",
    "folium.Map.add_ee_layer = add_ee_layer"
   ]
  },
  {
   "cell_type": "code",
   "execution_count": 12,
   "id": "2d57872a",
   "metadata": {
    "ExecuteTime": {
     "end_time": "2022-04-21T14:38:25.782011Z",
     "start_time": "2022-04-21T14:38:25.779888Z"
    }
   },
   "outputs": [],
   "source": [
    "def rename(image):\n",
    "    bandas = (['B1', 'B2', 'B3', 'B4', \n",
    "                           'B5', 'B6', 'B7', 'SR_QA_AEROSOL', \n",
    "                           'B10', 'ST_ATRAN', 'ST_CDIST', 'ST_DRAD', \n",
    "                           'ST_EMIS', 'ST_EMSD', 'ST_QA', 'ST_TRAD', \n",
    "                           'ST_URAD', 'QA_PIXEL', 'QA_RADSAT'])\n",
    "    return image.rename(bandas)"
   ]
  },
  {
   "cell_type": "markdown",
   "id": "0a697690",
   "metadata": {},
   "source": [
    "### Índices"
   ]
  },
  {
   "cell_type": "markdown",
   "id": "55d23709",
   "metadata": {},
   "source": [
    "<<<< 1) Normalized vegetation Index >>>> \n",
    "\n",
    "\n",
    "NDVI = (NIR - RED)/(NIR + RED) | Rouse et al."
   ]
  },
  {
   "cell_type": "code",
   "execution_count": 13,
   "id": "efd47bb1",
   "metadata": {
    "ExecuteTime": {
     "end_time": "2022-04-21T14:38:25.784878Z",
     "start_time": "2022-04-21T14:38:25.783085Z"
    }
   },
   "outputs": [],
   "source": [
    "def addNDVI(image): \n",
    "    ndvi = image.normalizedDifference(['B5', 'B4']).rename('NDVI')\n",
    "    return image.addBands(ndvi)"
   ]
  },
  {
   "cell_type": "markdown",
   "id": "168e05c7",
   "metadata": {},
   "source": [
    "<<<< 2) Enhanced Vegetation Index >>>>\n",
    "\n",
    "\n",
    "EVI = 2,5 * ((NIR - RED)/(NIR + 6 * RED - 7,5 * BLUE + 1))   |               Liu & Huete "
   ]
  },
  {
   "cell_type": "code",
   "execution_count": 14,
   "id": "6ba4f3ae",
   "metadata": {
    "ExecuteTime": {
     "end_time": "2022-04-21T14:38:25.790785Z",
     "start_time": "2022-04-21T14:38:25.786015Z"
    }
   },
   "outputs": [],
   "source": [
    "def addEVI(image):\n",
    "    evi = image.expression(\n",
    "        '2.5*((b5 - b4)/(b5 + 6*b4 - 7.5*b2 + 1))', {\n",
    "            'b2':image.select('B2'),\n",
    "            'b4':image.select('B4'),\n",
    "            'b5':image.select('B5')\n",
    "        }) \n",
    "    evi = evi.rename('EVI')\n",
    "    return image.addBands(evi)"
   ]
  },
  {
   "cell_type": "markdown",
   "id": "c26aea67",
   "metadata": {},
   "source": [
    "<<<< 3) Soil adjusted vegetation Index >>>>\n",
    "\n",
    "SAVI = ((NIR - RED)/(NIR + RED + 0,5 )) * (1,5)    |   Huete"
   ]
  },
  {
   "cell_type": "code",
   "execution_count": 15,
   "id": "2417d9dd",
   "metadata": {
    "ExecuteTime": {
     "end_time": "2022-04-21T14:38:25.797136Z",
     "start_time": "2022-04-21T14:38:25.791995Z"
    }
   },
   "outputs": [],
   "source": [
    "def addSAVI(image):\n",
    "    savi = image.expression(\n",
    "        '((b5 - b4)/(b5 + b4 + 0.5))*1.5', {\n",
    "            'b4':image.select('B4'),\n",
    "            'b5':image.select('B5')\n",
    "        }) \n",
    "    savi= savi.rename('SAVI')\n",
    "    return image.addBands(savi)"
   ]
  },
  {
   "cell_type": "markdown",
   "id": "e00f3f0c",
   "metadata": {},
   "source": [
    "<<<< 4) Modified Soil adjusted vegetation Index >>>>\n",
    "\n",
    "\n",
    "MSAVI2 = (2 * NIR + 1 - SQRT((2 * NIR +1)^2 - 8 * (NIR - RED)))/2   | Qi et al"
   ]
  },
  {
   "cell_type": "code",
   "execution_count": 16,
   "id": "62f34866",
   "metadata": {
    "ExecuteTime": {
     "end_time": "2022-04-21T14:38:25.800220Z",
     "start_time": "2022-04-21T14:38:25.798353Z"
    }
   },
   "outputs": [],
   "source": [
    "def addMSAVI2(image):\n",
    "    msavi = image.expression(\n",
    "        '(2*b5 + 1 - (sqrt((2*b5 + 1)**2 - (8*(b5-b4)))))', {\n",
    "            'b4':image.select('B4'),\n",
    "            'b5':image.select('B5')\n",
    "        })\n",
    "    msavi= msavi.rename('MSAVI2')\n",
    "    return image.addBands(msavi)"
   ]
  },
  {
   "cell_type": "markdown",
   "id": "94e7c03e",
   "metadata": {},
   "source": [
    "<<<< 5) Normalized water Index >>>>\n",
    "\n",
    "\n",
    "NDWI = (NIR - SWIR) / (NIR + SWIR)  | Gao"
   ]
  },
  {
   "cell_type": "code",
   "execution_count": 17,
   "id": "9c9241b4",
   "metadata": {
    "ExecuteTime": {
     "end_time": "2022-04-21T14:38:25.806057Z",
     "start_time": "2022-04-21T14:38:25.801365Z"
    }
   },
   "outputs": [],
   "source": [
    "def addNDWI(image):\n",
    "    ndwi = image.normalizedDifference(['B5','B6']).rename('NDWI')\n",
    "    return image.addBands(ndwi)"
   ]
  },
  {
   "cell_type": "markdown",
   "id": "7d93ada3",
   "metadata": {},
   "source": [
    "<<<< 6) Modified Normalized water Index >>>>\n",
    "\n",
    "\n",
    "mNDWI = (GREEN - SWIR) / (GREEN + SWIR)  | Xu"
   ]
  },
  {
   "cell_type": "code",
   "execution_count": 18,
   "id": "45e2a03d",
   "metadata": {
    "ExecuteTime": {
     "end_time": "2022-04-21T14:38:25.809088Z",
     "start_time": "2022-04-21T14:38:25.807295Z"
    }
   },
   "outputs": [],
   "source": [
    "def addmNDWI(image):\n",
    "    mndwi = image.normalizedDifference(['B3','B6']).rename('mNDWI')\n",
    "    return image.addBands(mndwi)"
   ]
  },
  {
   "cell_type": "markdown",
   "id": "1a8d1aa2",
   "metadata": {},
   "source": [
    "<<<< 7) Normalized water B Index >>>>\n",
    "\n",
    "\n",
    "NDWBI = (GREEN - NIR) / (GREEN + NIR)  | McFeeters"
   ]
  },
  {
   "cell_type": "code",
   "execution_count": 19,
   "id": "db293602",
   "metadata": {
    "ExecuteTime": {
     "end_time": "2022-04-21T14:38:25.811956Z",
     "start_time": "2022-04-21T14:38:25.810243Z"
    }
   },
   "outputs": [],
   "source": [
    "def addNDWBI(image):\n",
    "    ndwbi = image.normalizedDifference(['B3','B5']).rename('NDWBI')\n",
    "    return image.addBands(ndwbi)"
   ]
  },
  {
   "cell_type": "markdown",
   "id": "7c6d1c2d",
   "metadata": {},
   "source": [
    "<<<< 8) Normalized Built Index >>>>\n",
    "\n",
    "\n",
    "NDBI = (SWIR - NIR) / (SWIR + NIR)  | Zha et al."
   ]
  },
  {
   "cell_type": "code",
   "execution_count": 20,
   "id": "db2601f4",
   "metadata": {
    "ExecuteTime": {
     "end_time": "2022-04-21T14:38:25.814892Z",
     "start_time": "2022-04-21T14:38:25.813085Z"
    }
   },
   "outputs": [],
   "source": [
    "def addNDBI(image):\n",
    "    ndbi = image.normalizedDifference(['B6','B5']).rename('NDBI')\n",
    "    return image.addBands(ndbi)"
   ]
  },
  {
   "cell_type": "markdown",
   "id": "44994fc1",
   "metadata": {},
   "source": [
    "<<<< 9) Normalized Snow Index >>>>\n",
    "\n",
    "\n",
    "NDSI = (GREEN - SWIR) / (GREEN + SWIR)  | "
   ]
  },
  {
   "cell_type": "code",
   "execution_count": 21,
   "id": "bd421032",
   "metadata": {
    "ExecuteTime": {
     "end_time": "2022-04-21T14:38:25.817814Z",
     "start_time": "2022-04-21T14:38:25.816025Z"
    }
   },
   "outputs": [],
   "source": [
    "def addNDSI(image):\n",
    "    ndsi = image.normalizedDifference(['B3','B6']).rename('NDSI')\n",
    "    return image.addBands(ndsi)"
   ]
  },
  {
   "cell_type": "markdown",
   "id": "5693a69e",
   "metadata": {},
   "source": [
    "<<<< 10) Normalized Glaciar Index >>>>\n",
    "\n",
    "\n",
    "NDGI = (GREEN - RED) / (GREEN + RED)  | "
   ]
  },
  {
   "cell_type": "code",
   "execution_count": 22,
   "id": "981f5ac3",
   "metadata": {
    "ExecuteTime": {
     "end_time": "2022-04-21T14:38:25.820773Z",
     "start_time": "2022-04-21T14:38:25.819135Z"
    }
   },
   "outputs": [],
   "source": [
    "def addNDGI(image):\n",
    "    ndgi = image.normalizedDifference(['B3','B4']).rename('NDGI')\n",
    "    return image.addBands(ndgi)"
   ]
  },
  {
   "cell_type": "markdown",
   "id": "c7201788",
   "metadata": {},
   "source": [
    "<<<< 11) Normalized Burn ratio Index >>>>\n",
    "\n",
    "\n",
    "NBRI = (NIR - SWIR2) / (NIR + SWIR2)  |"
   ]
  },
  {
   "cell_type": "code",
   "execution_count": 23,
   "id": "13969780",
   "metadata": {
    "ExecuteTime": {
     "end_time": "2022-04-21T14:38:25.823837Z",
     "start_time": "2022-04-21T14:38:25.822122Z"
    }
   },
   "outputs": [],
   "source": [
    "def addNDBrI(image):\n",
    "    ndbri = image.normalizedDifference(['B5','B7']).rename('NDBrI')\n",
    "    return image.addBands(ndbri)"
   ]
  },
  {
   "cell_type": "markdown",
   "id": "da666665",
   "metadata": {},
   "source": [
    "<<<< 12) Green Normalized vegetation Index >>>>\n",
    "\n",
    "\n",
    "GNDVI = (NIR - GREEN) / (NIR + GREEN)  |"
   ]
  },
  {
   "cell_type": "code",
   "execution_count": 24,
   "id": "fc3f4bd5",
   "metadata": {
    "ExecuteTime": {
     "end_time": "2022-04-21T14:38:25.826683Z",
     "start_time": "2022-04-21T14:38:25.824965Z"
    }
   },
   "outputs": [],
   "source": [
    "def addGNDVI(image):\n",
    "    gndvi = image.normalizedDifference(['B5','B3']).rename('GNDVI')\n",
    "    return image.addBands(gndvi)"
   ]
  },
  {
   "cell_type": "markdown",
   "id": "bc4f1987",
   "metadata": {},
   "source": [
    "### Clouds "
   ]
  },
  {
   "cell_type": "code",
   "execution_count": 25,
   "id": "836afe44",
   "metadata": {
    "ExecuteTime": {
     "end_time": "2022-04-21T14:38:25.829636Z",
     "start_time": "2022-04-21T14:38:25.827828Z"
    }
   },
   "outputs": [],
   "source": [
    "def addCloud(image):\n",
    "    nube = ee.Algorithms.Landsat.simpleCloudScore(image)\n",
    "    return image.addBands(ee.Image(nube.select(['cloud'])).rename('nube'))"
   ]
  },
  {
   "cell_type": "code",
   "execution_count": 26,
   "id": "758aa42e",
   "metadata": {
    "ExecuteTime": {
     "end_time": "2022-04-21T14:38:25.832493Z",
     "start_time": "2022-04-21T14:38:25.830770Z"
    }
   },
   "outputs": [],
   "source": [
    "def Cloud10(image):\n",
    "    scored = ee.Algorithms.Landsat.simpleCloudScore(image)\n",
    "    return image.updateMask(scored.select(['cloud']).lt(10))"
   ]
  },
  {
   "cell_type": "code",
   "execution_count": 27,
   "id": "2d1de1be",
   "metadata": {
    "ExecuteTime": {
     "end_time": "2022-04-21T14:38:25.835482Z",
     "start_time": "2022-04-21T14:38:25.833730Z"
    }
   },
   "outputs": [],
   "source": [
    "def Cloud20(image):\n",
    "    scored = ee.Algorithms.Landsat.simpleCloudScore(image)\n",
    "    return image.updateMask(scored.select(['cloud']).lt(20)) "
   ]
  },
  {
   "cell_type": "code",
   "execution_count": 28,
   "id": "6c0f20ba",
   "metadata": {
    "ExecuteTime": {
     "end_time": "2022-04-21T14:38:25.840352Z",
     "start_time": "2022-04-21T14:38:25.838576Z"
    }
   },
   "outputs": [],
   "source": [
    "def Cloud30(image):\n",
    "    scored = ee.Algorithms.Landsat.simpleCloudScore(image)\n",
    "    return image.updateMask(scored.select(['cloud']).lt(30)) "
   ]
  },
  {
   "cell_type": "code",
   "execution_count": 29,
   "id": "efa430cd",
   "metadata": {
    "ExecuteTime": {
     "end_time": "2022-04-21T14:38:25.843090Z",
     "start_time": "2022-04-21T14:38:25.841290Z"
    }
   },
   "outputs": [],
   "source": [
    "def Cloud40(image):\n",
    "    scored = ee.Algorithms.Landsat.simpleCloudScore(image)\n",
    "    return image.updateMask(scored.select(['cloud']).lt(40)) "
   ]
  },
  {
   "cell_type": "markdown",
   "id": "099b5a70",
   "metadata": {},
   "source": [
    "# Image Collections"
   ]
  },
  {
   "cell_type": "markdown",
   "id": "6cc62aa8",
   "metadata": {},
   "source": [
    "## Mosaico"
   ]
  },
  {
   "cell_type": "markdown",
   "id": "b99b959a",
   "metadata": {},
   "source": [
    "Verano 2022"
   ]
  },
  {
   "cell_type": "code",
   "execution_count": 30,
   "id": "580b0071",
   "metadata": {
    "ExecuteTime": {
     "end_time": "2022-04-21T14:38:25.845968Z",
     "start_time": "2022-04-21T14:38:25.844049Z"
    }
   },
   "outputs": [],
   "source": [
    "start_date = '2021-11-01'\n",
    "end_date = '2022-03-31'\n",
    "\n",
    "l8_2021_2022_summercolection = ee.ImageCollection('LANDSAT/LC08/C02/T1_TOA') \\\n",
    "    .filterBounds(patagonia_grande) \\\n",
    "    .filterDate(start_date, end_date)  "
   ]
  },
  {
   "cell_type": "code",
   "execution_count": 31,
   "id": "d2fa05ea",
   "metadata": {
    "ExecuteTime": {
     "end_time": "2022-04-21T14:38:25.854182Z",
     "start_time": "2022-04-21T14:38:25.847157Z"
    }
   },
   "outputs": [],
   "source": [
    "l8_2021_2022_summercolection = l8_2021_2022_summercolection \\\n",
    "    .map(addNDVI) \\\n",
    "    .map(addNDWI) \\\n",
    "    .map(addmNDWI) \\\n",
    "    .map(addNDWBI) \\\n",
    "    .map(addNDGI) \\\n",
    "    .map(addSAVI) \\\n",
    "    .map(addMSAVI2) \\\n",
    "    .map(addNDSI) \\\n",
    "    .map(addNDBI) \\\n",
    "    .map(addEVI) \\\n",
    "    .map(addNDBrI) \\\n",
    "    .map(addGNDVI) \\\n",
    "    .map(addDate) \\\n",
    "    .map(addCloud)"
   ]
  },
  {
   "cell_type": "code",
   "execution_count": 32,
   "id": "12acf8c4",
   "metadata": {
    "ExecuteTime": {
     "end_time": "2022-04-21T14:38:25.857669Z",
     "start_time": "2022-04-21T14:38:25.855402Z"
    }
   },
   "outputs": [],
   "source": [
    "c2022_sn = l8_2021_2022_summercolection.map(Cloud10)\n",
    "QM_NDVI_2022_sn = c2022_sn.qualityMosaic('NDVI')\n",
    "QM_NDVI_2022 = l8_2021_2022_summercolection.qualityMosaic('NDVI')\n",
    "QM_CLOUD_2022 = l8_2021_2022_summercolection.qualityMosaic('nube')\n",
    "Med_NDVI_2022_sn = c2022_sn.median()"
   ]
  },
  {
   "cell_type": "code",
   "execution_count": 33,
   "id": "c82cadba",
   "metadata": {
    "ExecuteTime": {
     "end_time": "2022-04-21T14:38:25.860299Z",
     "start_time": "2022-04-21T14:38:25.858808Z"
    }
   },
   "outputs": [],
   "source": [
    "# QM_NDVI_2022_sn.bandNames().getInfo()"
   ]
  },
  {
   "cell_type": "code",
   "execution_count": 34,
   "id": "48f3ff68",
   "metadata": {
    "ExecuteTime": {
     "end_time": "2022-04-21T14:38:30.901352Z",
     "start_time": "2022-04-21T14:38:25.861430Z"
    }
   },
   "outputs": [
    {
     "data": {
      "application/vnd.jupyter.widget-view+json": {
       "model_id": "317cacab336049a0b2883ade052f4775",
       "version_major": 2,
       "version_minor": 0
      },
      "text/plain": [
       "Map(center=[-45, -70], controls=(WidgetControl(options=['position', 'transparent_bg'], widget=HBox(children=(T…"
      ]
     },
     "metadata": {},
     "output_type": "display_data"
    }
   ],
   "source": [
    "Map.addLayer(QM_NDVI_2022_sn, vizParams, 'QMsn de NDVI 2021-2022')\n",
    "Map.addLayer(QM_NDVI_2022, vizParams, 'QM con nubes de NDVI 2021-2022')\n",
    "Map.addLayer(QM_CLOUD_2022, vizParams, 'QM de nubes 2021-2022')\n",
    "Map.addLayer(Med_NDVI_2022_sn, vizParams, 'Mediana sn 2021-2022')\n",
    "Map"
   ]
  },
  {
   "cell_type": "code",
   "execution_count": 35,
   "id": "52a3364d-af57-480d-a1d8-7c4cad890a21",
   "metadata": {},
   "outputs": [],
   "source": [
    "# image1 = geemap.image_count(\n",
    "#     collection, region, start_date='2021-11-01', end_date='2022-03-31', clip=False\n",
    "# )"
   ]
  },
  {
   "cell_type": "markdown",
   "id": "bb92f0c6",
   "metadata": {},
   "source": [
    "Verano 2021"
   ]
  },
  {
   "cell_type": "code",
   "execution_count": 36,
   "id": "d086591d",
   "metadata": {
    "ExecuteTime": {
     "end_time": "2022-04-21T14:38:30.904402Z",
     "start_time": "2022-04-21T14:38:30.902370Z"
    }
   },
   "outputs": [],
   "source": [
    "start_date = '2020-11-01'\n",
    "end_date = '2021-03-31'\n",
    "\n",
    "l8_2020_2021_summercolection = ee.ImageCollection('LANDSAT/LC08/C02/T1_TOA') \\\n",
    "    .filterBounds(patagonia_grande) \\\n",
    "    .filterDate(start_date, end_date)  "
   ]
  },
  {
   "cell_type": "code",
   "execution_count": 37,
   "id": "adfda438",
   "metadata": {
    "ExecuteTime": {
     "end_time": "2022-04-21T14:38:30.912049Z",
     "start_time": "2022-04-21T14:38:30.905282Z"
    }
   },
   "outputs": [],
   "source": [
    "l8_2020_2021_summercolection = l8_2020_2021_summercolection \\\n",
    "    .map(addNDVI) \\\n",
    "    .map(addNDWI) \\\n",
    "    .map(addmNDWI) \\\n",
    "    .map(addNDWBI) \\\n",
    "    .map(addNDGI) \\\n",
    "    .map(addSAVI) \\\n",
    "    .map(addMSAVI2) \\\n",
    "    .map(addNDSI) \\\n",
    "    .map(addNDBI) \\\n",
    "    .map(addEVI) \\\n",
    "    .map(addNDBrI) \\\n",
    "    .map(addGNDVI) \\\n",
    "    .map(addDate) \\\n",
    "    .map(addCloud)"
   ]
  },
  {
   "cell_type": "markdown",
   "id": "1417b733",
   "metadata": {},
   "source": [
    "Verano 2020"
   ]
  },
  {
   "cell_type": "code",
   "execution_count": 38,
   "id": "badce615",
   "metadata": {
    "ExecuteTime": {
     "end_time": "2022-04-21T14:38:30.915321Z",
     "start_time": "2022-04-21T14:38:30.913334Z"
    }
   },
   "outputs": [],
   "source": [
    "start_date = '2019-11-01'\n",
    "end_date = '2020-03-31'\n",
    "\n",
    "l8_2019_2020_summercolection = ee.ImageCollection('LANDSAT/LC08/C02/T1_TOA') \\\n",
    "    .filterBounds(patagonia_grande) \\\n",
    "    .filterDate(start_date, end_date)  "
   ]
  },
  {
   "cell_type": "code",
   "execution_count": 39,
   "id": "e14d48ce",
   "metadata": {
    "ExecuteTime": {
     "end_time": "2022-04-21T14:38:30.922860Z",
     "start_time": "2022-04-21T14:38:30.916615Z"
    }
   },
   "outputs": [],
   "source": [
    "l8_2019_2020_summercolection = l8_2019_2020_summercolection \\\n",
    "    .map(addNDVI) \\\n",
    "    .map(addNDWI) \\\n",
    "    .map(addmNDWI) \\\n",
    "    .map(addNDWBI) \\\n",
    "    .map(addNDGI) \\\n",
    "    .map(addSAVI) \\\n",
    "    .map(addMSAVI2) \\\n",
    "    .map(addNDSI) \\\n",
    "    .map(addNDBI) \\\n",
    "    .map(addEVI) \\\n",
    "    .map(addNDBrI) \\\n",
    "    .map(addGNDVI) \\\n",
    "    .map(addDate) \\\n",
    "    .map(addCloud)"
   ]
  },
  {
   "cell_type": "markdown",
   "id": "757d1e9f",
   "metadata": {},
   "source": [
    "Verano 2019"
   ]
  },
  {
   "cell_type": "code",
   "execution_count": 40,
   "id": "bf24ae2f",
   "metadata": {
    "ExecuteTime": {
     "end_time": "2022-04-21T14:38:30.925935Z",
     "start_time": "2022-04-21T14:38:30.923974Z"
    }
   },
   "outputs": [],
   "source": [
    "start_date = '2018-11-01'\n",
    "end_date = '2019-03-31'\n",
    "\n",
    "l8_2018_2019_summercolection = ee.ImageCollection('LANDSAT/LC08/C02/T1_TOA') \\\n",
    "    .filterBounds(patagonia_grande) \\\n",
    "    .filterDate(start_date, end_date) "
   ]
  },
  {
   "cell_type": "code",
   "execution_count": 41,
   "id": "bce4dc2a",
   "metadata": {
    "ExecuteTime": {
     "end_time": "2022-04-21T14:38:30.933164Z",
     "start_time": "2022-04-21T14:38:30.927088Z"
    }
   },
   "outputs": [],
   "source": [
    "l8_2018_2019_summercolection = l8_2018_2019_summercolection \\\n",
    "    .map(addNDVI) \\\n",
    "    .map(addNDWI) \\\n",
    "    .map(addmNDWI) \\\n",
    "    .map(addNDWBI) \\\n",
    "    .map(addNDGI) \\\n",
    "    .map(addSAVI) \\\n",
    "    .map(addMSAVI2) \\\n",
    "    .map(addNDSI) \\\n",
    "    .map(addNDBI) \\\n",
    "    .map(addEVI) \\\n",
    "    .map(addNDBrI) \\\n",
    "    .map(addGNDVI) \\\n",
    "    .map(addDate) \\\n",
    "    .map(addCloud)"
   ]
  },
  {
   "cell_type": "markdown",
   "id": "52bd442b",
   "metadata": {},
   "source": [
    "## Colección completa"
   ]
  },
  {
   "cell_type": "markdown",
   "id": "f8e32764",
   "metadata": {},
   "source": [
    "2 primeros años"
   ]
  },
  {
   "cell_type": "code",
   "execution_count": 42,
   "id": "d7225479",
   "metadata": {
    "ExecuteTime": {
     "end_time": "2022-04-21T14:38:30.936138Z",
     "start_time": "2022-04-21T14:38:30.934404Z"
    }
   },
   "outputs": [],
   "source": [
    "filtersummer1 = ee.Filter.Or(\n",
    "    ee.Filter.date('2021-11-01','2022-03-01'),\n",
    "    ee.Filter.date('2020-11-01','2021-03-31'))"
   ]
  },
  {
   "cell_type": "code",
   "execution_count": 43,
   "id": "b2448777",
   "metadata": {
    "ExecuteTime": {
     "end_time": "2022-04-21T14:38:30.939128Z",
     "start_time": "2022-04-21T14:38:30.937237Z"
    }
   },
   "outputs": [],
   "source": [
    "coleccion2022_2020 = ee.ImageCollection('LANDSAT/LC08/C02/T1_TOA') \\\n",
    "    .filterDate('2020-11-01', '2022-03-31') \\\n",
    "    .filter(filtersummer1) \\\n",
    "    .filterBounds(patagonia_grande)"
   ]
  },
  {
   "cell_type": "code",
   "execution_count": 44,
   "id": "a8613b34",
   "metadata": {
    "ExecuteTime": {
     "end_time": "2022-04-21T14:38:30.946766Z",
     "start_time": "2022-04-21T14:38:30.940250Z"
    }
   },
   "outputs": [],
   "source": [
    "l8_summer1= coleccion2022_2020 \\\n",
    "    .map(addNDVI) \\\n",
    "    .map(addNDWI) \\\n",
    "    .map(addmNDWI) \\\n",
    "    .map(addNDWBI) \\\n",
    "    .map(addNDGI) \\\n",
    "    .map(addSAVI) \\\n",
    "    .map(addMSAVI2) \\\n",
    "    .map(addNDSI) \\\n",
    "    .map(addNDBI) \\\n",
    "    .map(addEVI) \\\n",
    "    .map(addNDBrI) \\\n",
    "    .map(addGNDVI) \\\n",
    "    .map(addDate) \\\n",
    "    .map(addCloud)"
   ]
  },
  {
   "cell_type": "code",
   "execution_count": 45,
   "id": "9816f2a5",
   "metadata": {
    "ExecuteTime": {
     "end_time": "2022-04-21T14:38:30.949841Z",
     "start_time": "2022-04-21T14:38:30.947728Z"
    }
   },
   "outputs": [],
   "source": [
    "l8_summer1_sn = l8_summer1.map(Cloud10)\n",
    "QM_NDVI_summer1 = l8_summer1.qualityMosaic('NDVI')\n",
    "QM_NDWI_summer1 = l8_summer1.qualityMosaic('NDWI')"
   ]
  },
  {
   "cell_type": "markdown",
   "id": "7b070689",
   "metadata": {},
   "source": [
    "3 años"
   ]
  },
  {
   "cell_type": "code",
   "execution_count": 46,
   "id": "b6176fe9",
   "metadata": {
    "ExecuteTime": {
     "end_time": "2022-04-21T14:38:30.953012Z",
     "start_time": "2022-04-21T14:38:30.951084Z"
    }
   },
   "outputs": [],
   "source": [
    "filtersummer2 = ee.Filter.Or(\n",
    "    ee.Filter.date('2021-11-01','2022-03-01'),\n",
    "    ee.Filter.date('2020-11-01','2021-03-31'),\n",
    "    ee.Filter.date('2019-11-01','2020-03-31')\n",
    ")"
   ]
  },
  {
   "cell_type": "code",
   "execution_count": 47,
   "id": "c76e7f6a",
   "metadata": {
    "ExecuteTime": {
     "end_time": "2022-04-21T14:38:30.955956Z",
     "start_time": "2022-04-21T14:38:30.954070Z"
    }
   },
   "outputs": [],
   "source": [
    "coleccion2022_2019 = ee.ImageCollection('LANDSAT/LC08/C02/T1_TOA') \\\n",
    "    .filterDate('2019-11-01', '2022-03-31') \\\n",
    "    .filter(filtersummer2) \\\n",
    "    .filterBounds(patagonia_grande)"
   ]
  },
  {
   "cell_type": "code",
   "execution_count": 48,
   "id": "c3a3cfa7",
   "metadata": {
    "ExecuteTime": {
     "end_time": "2022-04-21T14:38:30.963228Z",
     "start_time": "2022-04-21T14:38:30.957057Z"
    }
   },
   "outputs": [],
   "source": [
    "l8_summer2= coleccion2022_2019 \\\n",
    "    .map(addNDVI) \\\n",
    "    .map(addNDWI) \\\n",
    "    .map(addmNDWI) \\\n",
    "    .map(addNDWBI) \\\n",
    "    .map(addNDGI) \\\n",
    "    .map(addSAVI) \\\n",
    "    .map(addMSAVI2) \\\n",
    "    .map(addNDSI) \\\n",
    "    .map(addNDBI) \\\n",
    "    .map(addEVI) \\\n",
    "    .map(addNDBrI) \\\n",
    "    .map(addGNDVI) \\\n",
    "    .map(addDate) \\\n",
    "    .map(addCloud)"
   ]
  },
  {
   "cell_type": "code",
   "execution_count": 49,
   "id": "56eee6ce-2e12-40a8-b519-dc9aa3676e53",
   "metadata": {},
   "outputs": [],
   "source": [
    "l8_summer2_sn = l8_summer2.map(Cloud10)\n",
    "QM_NDVI_summer2 = l8_summer2.qualityMosaic('NDVI')\n",
    "QM_NDWI_summer2 = l8_summer2.qualityMosaic('NDWI')"
   ]
  },
  {
   "cell_type": "markdown",
   "id": "959674bb",
   "metadata": {},
   "source": [
    "4 años"
   ]
  },
  {
   "cell_type": "code",
   "execution_count": 50,
   "id": "8cdc702e",
   "metadata": {
    "ExecuteTime": {
     "end_time": "2022-04-21T14:38:30.966368Z",
     "start_time": "2022-04-21T14:38:30.964402Z"
    }
   },
   "outputs": [],
   "source": [
    "filtersummer4 = ee.Filter.Or(\n",
    "    ee.Filter.date('2021-11-01','2022-03-01'),\n",
    "    ee.Filter.date('2020-11-01','2021-03-31'),\n",
    "    ee.Filter.date('2019-11-01','2020-03-31'),\n",
    "    ee.Filter.date('2018-11-01','2019-03-31')\n",
    ")"
   ]
  },
  {
   "cell_type": "code",
   "execution_count": 51,
   "id": "3c810ef0",
   "metadata": {
    "ExecuteTime": {
     "end_time": "2022-04-21T14:38:30.969210Z",
     "start_time": "2022-04-21T14:38:30.967450Z"
    }
   },
   "outputs": [],
   "source": [
    "coleccion2022_2018 = ee.ImageCollection('LANDSAT/LC08/C02/T1_TOA') \\\n",
    "    .filterDate('2018-11-01', '2022-03-31') \\\n",
    "    .filter(filtersummer4) \\\n",
    "    .filterBounds(patagonia_grande)"
   ]
  },
  {
   "cell_type": "code",
   "execution_count": 52,
   "id": "0db2d5fb",
   "metadata": {
    "ExecuteTime": {
     "end_time": "2022-04-21T14:38:30.976495Z",
     "start_time": "2022-04-21T14:38:30.970341Z"
    }
   },
   "outputs": [],
   "source": [
    "l8_summer4= coleccion2022_2018 \\\n",
    "    .map(addNDVI) \\\n",
    "    .map(addNDWI) \\\n",
    "    .map(addmNDWI) \\\n",
    "    .map(addNDWBI) \\\n",
    "    .map(addNDGI) \\\n",
    "    .map(addSAVI) \\\n",
    "    .map(addMSAVI2) \\\n",
    "    .map(addNDSI) \\\n",
    "    .map(addNDBI) \\\n",
    "    .map(addEVI) \\\n",
    "    .map(addNDBrI) \\\n",
    "    .map(addGNDVI) \\\n",
    "    .map(addDate) \\\n",
    "    .map(addCloud)"
   ]
  },
  {
   "cell_type": "code",
   "execution_count": 53,
   "id": "fa2d7b83",
   "metadata": {
    "ExecuteTime": {
     "end_time": "2022-04-21T14:38:30.979907Z",
     "start_time": "2022-04-21T14:38:30.977687Z"
    }
   },
   "outputs": [],
   "source": [
    "cloudest = l8_summer4.qualityMosaic('nube')\n",
    "l8_summer_sn = l8_summer4.map(Cloud10)\n",
    "QM_NDWI_summer_sn = l8_summer_sn.qualityMosaic('NDWI')\n",
    "QM_NDVI_summer4 = l8_summer4.qualityMosaic('NDVI')"
   ]
  },
  {
   "cell_type": "markdown",
   "id": "a383db31",
   "metadata": {},
   "source": [
    "5 Años"
   ]
  },
  {
   "cell_type": "code",
   "execution_count": 54,
   "id": "3be40ceb",
   "metadata": {
    "ExecuteTime": {
     "end_time": "2022-04-21T14:38:30.983158Z",
     "start_time": "2022-04-21T14:38:30.981069Z"
    }
   },
   "outputs": [],
   "source": [
    "filtersummer5 = ee.Filter.Or(\n",
    "    ee.Filter.date('2021-11-01','2022-03-01'),\n",
    "    ee.Filter.date('2020-11-01','2021-03-31'),\n",
    "    ee.Filter.date('2019-11-01','2020-03-31'),\n",
    "    ee.Filter.date('2018-11-01','2019-03-31'),\n",
    "    ee.Filter.date('2017-11-01','2018-03-31')\n",
    ")"
   ]
  },
  {
   "cell_type": "code",
   "execution_count": 55,
   "id": "006f5fb7",
   "metadata": {
    "ExecuteTime": {
     "end_time": "2022-04-21T14:38:30.986010Z",
     "start_time": "2022-04-21T14:38:30.984313Z"
    }
   },
   "outputs": [],
   "source": [
    "coleccion2022_2017_t = ee.ImageCollection('LANDSAT/LC08/C02/T1_TOA') \\\n",
    "    .filterDate('2019-11-01', '2022-03-31') \\\n",
    "    .filterBounds(patagonia_grande)"
   ]
  },
  {
   "cell_type": "code",
   "execution_count": 56,
   "id": "a2d089a6",
   "metadata": {
    "ExecuteTime": {
     "end_time": "2022-04-21T14:38:30.989077Z",
     "start_time": "2022-04-21T14:38:30.987238Z"
    }
   },
   "outputs": [],
   "source": [
    "coleccion2022_2017 = ee.ImageCollection('LANDSAT/LC08/C02/T1_TOA') \\\n",
    "    .filterDate('2017-11-01', '2022-03-31') \\\n",
    "    .filter(filtersummer5) \\\n",
    "    .filterBounds(patagonia_grande)"
   ]
  },
  {
   "cell_type": "code",
   "execution_count": 57,
   "id": "f4de982f",
   "metadata": {
    "ExecuteTime": {
     "end_time": "2022-04-21T14:38:30.996335Z",
     "start_time": "2022-04-21T14:38:30.990178Z"
    }
   },
   "outputs": [],
   "source": [
    "l8_summer5_t= coleccion2022_2017_t \\\n",
    "    .map(addNDVI) \\\n",
    "    .map(addNDWI) \\\n",
    "    .map(addmNDWI) \\\n",
    "    .map(addNDWBI) \\\n",
    "    .map(addNDGI) \\\n",
    "    .map(addSAVI) \\\n",
    "    .map(addMSAVI2) \\\n",
    "    .map(addNDSI) \\\n",
    "    .map(addNDBI) \\\n",
    "    .map(addEVI) \\\n",
    "    .map(addNDBrI) \\\n",
    "    .map(addGNDVI) \\\n",
    "    .map(addDate) \\\n",
    "    .map(addCloud)"
   ]
  },
  {
   "cell_type": "code",
   "execution_count": 58,
   "id": "61b7caec",
   "metadata": {
    "ExecuteTime": {
     "end_time": "2022-04-21T14:38:31.003683Z",
     "start_time": "2022-04-21T14:38:30.997508Z"
    }
   },
   "outputs": [],
   "source": [
    "l8_summer5= coleccion2022_2017 \\\n",
    "    .map(addNDVI) \\\n",
    "    .map(addNDWI) \\\n",
    "    .map(addmNDWI) \\\n",
    "    .map(addNDWBI) \\\n",
    "    .map(addNDGI) \\\n",
    "    .map(addSAVI) \\\n",
    "    .map(addMSAVI2) \\\n",
    "    .map(addNDSI) \\\n",
    "    .map(addNDBI) \\\n",
    "    .map(addEVI) \\\n",
    "    .map(addNDBrI) \\\n",
    "    .map(addGNDVI) \\\n",
    "    .map(addDate) \\\n",
    "    .map(addCloud)"
   ]
  },
  {
   "cell_type": "code",
   "execution_count": 59,
   "id": "eadcdc8f",
   "metadata": {
    "ExecuteTime": {
     "end_time": "2022-04-21T14:38:31.007076Z",
     "start_time": "2022-04-21T14:38:31.004821Z"
    }
   },
   "outputs": [],
   "source": [
    "l8_summer5_sn = l8_summer5.map(Cloud10)\n",
    "l8_summer5_snt = l8_summer5_t.map(Cloud10)\n"
   ]
  },
  {
   "cell_type": "markdown",
   "id": "7b88d666",
   "metadata": {},
   "source": [
    "3 Años verano más largo para llenar pixeles"
   ]
  },
  {
   "cell_type": "code",
   "execution_count": 60,
   "id": "6e3377d5",
   "metadata": {
    "ExecuteTime": {
     "end_time": "2022-04-21T14:38:31.010264Z",
     "start_time": "2022-04-21T14:38:31.008297Z"
    }
   },
   "outputs": [],
   "source": [
    "filtersummer6 = ee.Filter.Or(\n",
    "    ee.Filter.date('2021-09-01','2022-03-31'),\n",
    "    ee.Filter.date('2020-09-01','2021-04-30'),\n",
    "    ee.Filter.date('2019-09-01','2020-04-30'),\n",
    ")"
   ]
  },
  {
   "cell_type": "code",
   "execution_count": 61,
   "id": "96f98736",
   "metadata": {
    "ExecuteTime": {
     "end_time": "2022-04-21T14:38:31.013216Z",
     "start_time": "2022-04-21T14:38:31.011418Z"
    }
   },
   "outputs": [],
   "source": [
    "coleccion2022_2019_b = ee.ImageCollection('LANDSAT/LC08/C02/T1_TOA') \\\n",
    "    .filterDate('2019-09-01', '2022-03-31') \\\n",
    "    .filter(filtersummer6) \\\n",
    "    .filterBounds(patagonia_grande)"
   ]
  },
  {
   "cell_type": "code",
   "execution_count": 62,
   "id": "a60e1d09",
   "metadata": {
    "ExecuteTime": {
     "end_time": "2022-04-21T14:38:31.020613Z",
     "start_time": "2022-04-21T14:38:31.014360Z"
    }
   },
   "outputs": [],
   "source": [
    "l8_summer6= coleccion2022_2019_b \\\n",
    "    .map(addNDVI) \\\n",
    "    .map(addNDWI) \\\n",
    "    .map(addmNDWI) \\\n",
    "    .map(addNDWBI) \\\n",
    "    .map(addNDGI) \\\n",
    "    .map(addSAVI) \\\n",
    "    .map(addMSAVI2) \\\n",
    "    .map(addNDSI) \\\n",
    "    .map(addNDBI) \\\n",
    "    .map(addEVI) \\\n",
    "    .map(addNDBrI) \\\n",
    "    .map(addGNDVI) \\\n",
    "    .map(addDate) \\\n",
    "    .map(addCloud)"
   ]
  },
  {
   "cell_type": "code",
   "execution_count": 63,
   "id": "85e52f88-9c75-4369-a120-ae1b021d3e3d",
   "metadata": {},
   "outputs": [],
   "source": [
    "QM_NDVI_summer6 = l8_summer6.qualityMosaic('NDVI')"
   ]
  },
  {
   "cell_type": "markdown",
   "id": "f011ad18",
   "metadata": {},
   "source": [
    "## Generación Mosaico QM"
   ]
  },
  {
   "cell_type": "markdown",
   "id": "3cf506a8",
   "metadata": {},
   "source": [
    "Tier 1"
   ]
  },
  {
   "cell_type": "code",
   "execution_count": 64,
   "id": "1f9257c8",
   "metadata": {
    "ExecuteTime": {
     "end_time": "2022-04-21T14:38:31.024823Z",
     "start_time": "2022-04-21T14:38:31.021758Z"
    }
   },
   "outputs": [],
   "source": [
    "c2022_sn = l8_2021_2022_summercolection.map(Cloud10)\n",
    "c2021_sn = l8_2020_2021_summercolection.map(Cloud10)\n",
    "c2020_sn = l8_2019_2020_summercolection.map(Cloud10)\n",
    "c2019_sn = l8_2018_2019_summercolection.map(Cloud10)"
   ]
  },
  {
   "cell_type": "code",
   "execution_count": 65,
   "id": "444ced49",
   "metadata": {
    "ExecuteTime": {
     "end_time": "2022-04-21T14:38:31.027674Z",
     "start_time": "2022-04-21T14:38:31.025706Z"
    }
   },
   "outputs": [],
   "source": [
    "QM_NDVI_2022 = l8_2021_2022_summercolection.qualityMosaic('NDVI')\n",
    "QM_NDVI_2021 = l8_2020_2021_summercolection.qualityMosaic('NDVI')\n",
    "QM_NDVI_2020 = l8_2019_2020_summercolection.qualityMosaic('NDVI')\n",
    "QM_NDVI_2019 = l8_2018_2019_summercolection.qualityMosaic('NDVI')"
   ]
  },
  {
   "cell_type": "code",
   "execution_count": 66,
   "id": "c55017b6",
   "metadata": {
    "ExecuteTime": {
     "end_time": "2022-04-21T14:38:31.030704Z",
     "start_time": "2022-04-21T14:38:31.028878Z"
    }
   },
   "outputs": [],
   "source": [
    "QM_NDVI_2022_sn = c2022_sn.qualityMosaic('NDVI')\n",
    "QM_NDVI_2021_sn = c2021_sn.qualityMosaic('NDVI')\n",
    "QM_NDVI_2020_sn = c2020_sn.qualityMosaic('NDVI')\n",
    "QM_NDVI_2019_sn = c2019_sn.qualityMosaic('NDVI')"
   ]
  },
  {
   "cell_type": "code",
   "execution_count": 67,
   "id": "d3be3d65-9fff-41b0-8d7c-c3be5d98abe0",
   "metadata": {},
   "outputs": [
    {
     "data": {
      "application/vnd.jupyter.widget-view+json": {
       "model_id": "955e25c146f44eb7807d2267d30d40a5",
       "version_major": 2,
       "version_minor": 0
      },
      "text/plain": [
       "Map(center=[-45, -70], controls=(WidgetControl(options=['position', 'transparent_bg'], widget=HBox(children=(T…"
      ]
     },
     "metadata": {},
     "output_type": "display_data"
    }
   ],
   "source": [
    "Map6.addLayer(QM_NDVI_2022_sn, vizParams, 'QMsn de NDVI 2021-2022')\n",
    "Map6.addLayer(QM_NDVI_2022, vizParams, 'QM con nubes de NDVI 2021-2022')\n",
    "Map6.addLayer(QM_NDVI_summer1, vizParams, 'QM de nubes 2021-2022')\n",
    "Map6.addLayer(QM_NDVI_summer2, vizParams, 'QM de nubes 2020-2022')\n",
    "Map6.addLayer(QM_NDVI_summer4, vizParams, 'QM de nubes 2017-2022')\n",
    "Map6"
   ]
  },
  {
   "cell_type": "markdown",
   "id": "05e53db6",
   "metadata": {},
   "source": [
    "### Llenado de píxeles con nubes"
   ]
  },
  {
   "cell_type": "code",
   "execution_count": 68,
   "id": "4544c0e4",
   "metadata": {
    "ExecuteTime": {
     "end_time": "2022-04-21T14:38:31.033717Z",
     "start_time": "2022-04-21T14:38:31.031833Z"
    }
   },
   "outputs": [],
   "source": [
    "cloudest_landsat = cloudest.set('SENSOR_ID', 'OLI_TIRS')\n",
    "cloud_max = ee.Algorithms.Landsat.simpleCloudScore(cloudest_landsat)\n",
    "cloud_max  = cloud_max .select('cloud')\n",
    "palette_nubes = ['#1a9850', '#d73027']"
   ]
  },
  {
   "cell_type": "code",
   "execution_count": 69,
   "id": "08f742f6",
   "metadata": {
    "ExecuteTime": {
     "end_time": "2022-04-21T14:38:31.036643Z",
     "start_time": "2022-04-21T14:38:31.034903Z"
    }
   },
   "outputs": [],
   "source": [
    "resultados= [cloud_max , cloudest]\n",
    "vis_params2=  [\n",
    "    {'palette':palette_nubes}, \n",
    "    vizParams]\n",
    "labels = [\n",
    "    'Nubes 2021',\n",
    "    'QM NDVI 2021']"
   ]
  },
  {
   "cell_type": "code",
   "execution_count": 70,
   "id": "4d156557",
   "metadata": {
    "ExecuteTime": {
     "end_time": "2022-04-21T14:38:31.039326Z",
     "start_time": "2022-04-21T14:38:31.037815Z"
    }
   },
   "outputs": [
    {
     "data": {
      "application/vnd.jupyter.widget-view+json": {
       "model_id": "e26250caaef04ca29e667c16a99620d6",
       "version_major": 2,
       "version_minor": 0
      },
      "text/plain": [
       "GridspecLayout(children=(Output(layout=Layout(grid_area='widget001')), Output(layout=Layout(grid_area='widget0…"
      ]
     },
     "metadata": {},
     "output_type": "display_data"
    }
   ],
   "source": [
    "geemap.linked_maps(rows=1, cols=2, height=\"400px\", center=[-45, -75], zoom=4, \n",
    "                    ee_objects=resultados, vis_params=vis_params2, labels=labels, label_position=\"topright\")"
   ]
  },
  {
   "cell_type": "code",
   "execution_count": 71,
   "id": "9811448b",
   "metadata": {
    "ExecuteTime": {
     "end_time": "2022-04-21T14:38:31.042344Z",
     "start_time": "2022-04-21T14:38:31.040426Z"
    }
   },
   "outputs": [],
   "source": [
    "def llenado(image):\n",
    "    return image.where(cloud_max.gt(10),QM_NDVI_summer4)"
   ]
  },
  {
   "cell_type": "code",
   "execution_count": 72,
   "id": "8c813bbb",
   "metadata": {
    "ExecuteTime": {
     "end_time": "2022-04-21T14:38:31.044964Z",
     "start_time": "2022-04-21T14:38:31.043371Z"
    }
   },
   "outputs": [],
   "source": [
    "img1 = llenado(cloudest)"
   ]
  },
  {
   "cell_type": "code",
   "execution_count": 73,
   "id": "a26e5ede",
   "metadata": {
    "ExecuteTime": {
     "end_time": "2022-04-21T14:38:31.048057Z",
     "start_time": "2022-04-21T14:38:31.046259Z"
    }
   },
   "outputs": [],
   "source": [
    "img1_landsat = img1.set('SENSOR_ID', 'OLI_TIRS')\n",
    "cloud_img1 = ee.Algorithms.Landsat.simpleCloudScore(img1_landsat)\n",
    "cloud_img1 = cloud_img1.select('cloud')"
   ]
  },
  {
   "cell_type": "code",
   "execution_count": 74,
   "id": "b081ac10",
   "metadata": {
    "ExecuteTime": {
     "end_time": "2022-04-21T14:38:31.050902Z",
     "start_time": "2022-04-21T14:38:31.049152Z"
    }
   },
   "outputs": [],
   "source": [
    "resultados= [cloud_img1, img1]\n",
    "vis_params2=  [\n",
    "    {'palette':palette_nubes}, \n",
    "    vizParams]\n",
    "labels = [\n",
    "    'Nubes Mosaico 1',\n",
    "    'Mosaico 1']"
   ]
  },
  {
   "cell_type": "code",
   "execution_count": 75,
   "id": "4aaf34e9",
   "metadata": {
    "ExecuteTime": {
     "end_time": "2022-04-21T14:38:31.053411Z",
     "start_time": "2022-04-21T14:38:31.052015Z"
    }
   },
   "outputs": [
    {
     "data": {
      "application/vnd.jupyter.widget-view+json": {
       "model_id": "fb9fdbcec8eb48948f1c969477de5b0b",
       "version_major": 2,
       "version_minor": 0
      },
      "text/plain": [
       "GridspecLayout(children=(Output(layout=Layout(grid_area='widget001')), Output(layout=Layout(grid_area='widget0…"
      ]
     },
     "metadata": {},
     "output_type": "display_data"
    }
   ],
   "source": [
    "geemap.linked_maps(rows=1, cols=2, height=\"400px\", center=[-45, -75], zoom=4, \n",
    "                   ee_objects=resultados, vis_params=vis_params2, labels=labels, label_position=\"topright\")"
   ]
  },
  {
   "cell_type": "code",
   "execution_count": 76,
   "id": "1c6c4122",
   "metadata": {
    "ExecuteTime": {
     "end_time": "2022-04-21T14:38:31.056117Z",
     "start_time": "2022-04-21T14:38:31.054455Z"
    }
   },
   "outputs": [],
   "source": [
    "def llenado2(image):\n",
    "    return image.where(cloud_img1.gt(10), QM_NDVI_2021)"
   ]
  },
  {
   "cell_type": "code",
   "execution_count": 77,
   "id": "e24aea87",
   "metadata": {
    "ExecuteTime": {
     "end_time": "2022-04-21T14:38:31.058982Z",
     "start_time": "2022-04-21T14:38:31.057277Z"
    }
   },
   "outputs": [],
   "source": [
    "img2 = llenado2(img1)"
   ]
  },
  {
   "cell_type": "code",
   "execution_count": 78,
   "id": "33c3e7f7",
   "metadata": {
    "ExecuteTime": {
     "end_time": "2022-04-21T14:38:31.062085Z",
     "start_time": "2022-04-21T14:38:31.060143Z"
    }
   },
   "outputs": [],
   "source": [
    "img2_landsat = img2.set('SENSOR_ID', 'OLI_TIRS')\n",
    "cloud_img2 = ee.Algorithms.Landsat.simpleCloudScore(img2_landsat)\n",
    "cloud_img2 = cloud_img2.select('cloud')"
   ]
  },
  {
   "cell_type": "code",
   "execution_count": 79,
   "id": "34f6eba1",
   "metadata": {
    "ExecuteTime": {
     "end_time": "2022-04-21T14:38:31.065158Z",
     "start_time": "2022-04-21T14:38:31.063174Z"
    }
   },
   "outputs": [],
   "source": [
    "resultados= [cloud_img2, img2_landsat]\n",
    "vis_params2=  [\n",
    "    {'palette':palette_nubes}, \n",
    "    vizParams]\n",
    "labels = [\n",
    "    'Nubes Mosaico 2',\n",
    "    'Mosaico 2']"
   ]
  },
  {
   "cell_type": "code",
   "execution_count": 80,
   "id": "abdf7a9c",
   "metadata": {
    "ExecuteTime": {
     "end_time": "2022-04-21T14:38:31.067809Z",
     "start_time": "2022-04-21T14:38:31.066344Z"
    }
   },
   "outputs": [
    {
     "data": {
      "application/vnd.jupyter.widget-view+json": {
       "model_id": "85a29c26b1e54412baf3dda41768042e",
       "version_major": 2,
       "version_minor": 0
      },
      "text/plain": [
       "GridspecLayout(children=(Output(layout=Layout(grid_area='widget001')), Output(layout=Layout(grid_area='widget0…"
      ]
     },
     "metadata": {},
     "output_type": "display_data"
    }
   ],
   "source": [
    "geemap.linked_maps(rows=1, cols=2, height=\"400px\", center=[-45, -75], zoom=4, \n",
    "                   ee_objects=resultados, vis_params=vis_params2, labels=labels, label_position=\"topright\")"
   ]
  },
  {
   "cell_type": "code",
   "execution_count": 81,
   "id": "586c9de2",
   "metadata": {
    "ExecuteTime": {
     "end_time": "2022-04-21T14:38:31.070474Z",
     "start_time": "2022-04-21T14:38:31.068825Z"
    }
   },
   "outputs": [],
   "source": [
    "def llenado3(image):\n",
    "    return image.where(cloud_img2.gt(10), QM_NDVI_2020)"
   ]
  },
  {
   "cell_type": "code",
   "execution_count": 82,
   "id": "66556f9f",
   "metadata": {
    "ExecuteTime": {
     "end_time": "2022-04-21T14:38:31.073310Z",
     "start_time": "2022-04-21T14:38:31.071633Z"
    }
   },
   "outputs": [],
   "source": [
    "img3 = llenado3(img2)"
   ]
  },
  {
   "cell_type": "code",
   "execution_count": 83,
   "id": "6bf5a11f",
   "metadata": {
    "ExecuteTime": {
     "end_time": "2022-04-21T14:38:31.076353Z",
     "start_time": "2022-04-21T14:38:31.074455Z"
    }
   },
   "outputs": [],
   "source": [
    "img3_landsat = img3.set('SENSOR_ID', 'OLI_TIRS')\n",
    "cloud_img3 = ee.Algorithms.Landsat.simpleCloudScore(img3_landsat)\n",
    "cloud_img3 = cloud_img3.select('cloud')"
   ]
  },
  {
   "cell_type": "code",
   "execution_count": 84,
   "id": "3594064f",
   "metadata": {
    "ExecuteTime": {
     "end_time": "2022-04-21T14:38:31.079199Z",
     "start_time": "2022-04-21T14:38:31.077562Z"
    }
   },
   "outputs": [],
   "source": [
    "resultados= [cloud_img3, img3_landsat]\n",
    "vis_params2=  [\n",
    "    {'palette':palette_nubes}, \n",
    "    vizParams]\n",
    "labels = [\n",
    "    'Nubes Mosaico 3',\n",
    "    'Mosaico 3']"
   ]
  },
  {
   "cell_type": "code",
   "execution_count": 85,
   "id": "b0b431e7",
   "metadata": {
    "ExecuteTime": {
     "end_time": "2022-04-21T14:38:31.081868Z",
     "start_time": "2022-04-21T14:38:31.080389Z"
    }
   },
   "outputs": [
    {
     "data": {
      "application/vnd.jupyter.widget-view+json": {
       "model_id": "ea894bc8531f4c72add2c784dc336608",
       "version_major": 2,
       "version_minor": 0
      },
      "text/plain": [
       "GridspecLayout(children=(Output(layout=Layout(grid_area='widget001')), Output(layout=Layout(grid_area='widget0…"
      ]
     },
     "metadata": {},
     "output_type": "display_data"
    }
   ],
   "source": [
    "geemap.linked_maps(rows=1, cols=2, height=\"400px\", center=[-45, -75], zoom=4, \n",
    "                  ee_objects=resultados, vis_params=vis_params2, labels=labels, label_position=\"topright\")"
   ]
  },
  {
   "cell_type": "code",
   "execution_count": 86,
   "id": "34d23a94",
   "metadata": {
    "ExecuteTime": {
     "end_time": "2022-04-21T14:38:31.089874Z",
     "start_time": "2022-04-21T14:38:31.088258Z"
    }
   },
   "outputs": [],
   "source": [
    "def llenado4(image):\n",
    "    return image.where(cloud_img3.gt(10), QM_NDVI_2019)"
   ]
  },
  {
   "cell_type": "code",
   "execution_count": 87,
   "id": "ff7871a7",
   "metadata": {
    "ExecuteTime": {
     "end_time": "2022-04-21T14:38:31.092460Z",
     "start_time": "2022-04-21T14:38:31.090929Z"
    }
   },
   "outputs": [],
   "source": [
    "img4 = llenado4(img3)"
   ]
  },
  {
   "cell_type": "code",
   "execution_count": 88,
   "id": "960e5c07",
   "metadata": {
    "ExecuteTime": {
     "end_time": "2022-04-21T14:38:31.095532Z",
     "start_time": "2022-04-21T14:38:31.093645Z"
    }
   },
   "outputs": [],
   "source": [
    "img4_landsat = img4.set('SENSOR_ID', 'OLI_TIRS')\n",
    "cloud_img4 = ee.Algorithms.Landsat.simpleCloudScore(img4_landsat)\n",
    "cloud_img4 = cloud_img4.select('cloud')"
   ]
  },
  {
   "cell_type": "code",
   "execution_count": 89,
   "id": "e799a2b5",
   "metadata": {
    "ExecuteTime": {
     "end_time": "2022-04-21T14:38:31.098360Z",
     "start_time": "2022-04-21T14:38:31.096703Z"
    }
   },
   "outputs": [],
   "source": [
    "resultados= [cloud_img4, img4_landsat]\n",
    "vis_params2=  [\n",
    "    {'palette':palette_nubes}, \n",
    "    vizParams]\n",
    "labels = [\n",
    "    'Nubes Mosaico 4',\n",
    "    'Mosaico 4']"
   ]
  },
  {
   "cell_type": "code",
   "execution_count": 90,
   "id": "74b1cd77",
   "metadata": {
    "ExecuteTime": {
     "end_time": "2022-04-21T14:38:31.100864Z",
     "start_time": "2022-04-21T14:38:31.099466Z"
    }
   },
   "outputs": [
    {
     "data": {
      "application/vnd.jupyter.widget-view+json": {
       "model_id": "278ae4a6001a457b973123be5156554d",
       "version_major": 2,
       "version_minor": 0
      },
      "text/plain": [
       "GridspecLayout(children=(Output(layout=Layout(grid_area='widget001')), Output(layout=Layout(grid_area='widget0…"
      ]
     },
     "metadata": {},
     "output_type": "display_data"
    }
   ],
   "source": [
    "geemap.linked_maps(rows=1, cols=2, height=\"400px\", center=[-45, -75], zoom=4, \n",
    "                  ee_objects=resultados, vis_params=vis_params2, labels=labels, label_position=\"topright\")"
   ]
  },
  {
   "cell_type": "code",
   "execution_count": 91,
   "id": "f2c58601",
   "metadata": {
    "ExecuteTime": {
     "end_time": "2022-04-21T14:38:31.103471Z",
     "start_time": "2022-04-21T14:38:31.101976Z"
    }
   },
   "outputs": [],
   "source": [
    "# hansenImage = ee.Image('UMD/hansen/global_forest_change_2020_v1_8')\n",
    "# datamask = hansenImage.select('datamask')"
   ]
  },
  {
   "cell_type": "code",
   "execution_count": 92,
   "id": "d41556cd",
   "metadata": {
    "ExecuteTime": {
     "end_time": "2022-04-21T14:38:31.105840Z",
     "start_time": "2022-04-21T14:38:31.104449Z"
    }
   },
   "outputs": [],
   "source": [
    "# def llenado5(image):\n",
    "#     return image.where(datamask.eq(2), QM_NDWI_summer_sn)"
   ]
  },
  {
   "cell_type": "code",
   "execution_count": 93,
   "id": "870cf5f2",
   "metadata": {
    "ExecuteTime": {
     "end_time": "2022-04-21T14:38:31.108823Z",
     "start_time": "2022-04-21T14:38:31.107069Z"
    }
   },
   "outputs": [],
   "source": [
    "def llenado5(image):\n",
    "    return image.where(cloud_img4.gt(10), l8_summer5_sn.median())"
   ]
  },
  {
   "cell_type": "code",
   "execution_count": 94,
   "id": "03e97cef",
   "metadata": {
    "ExecuteTime": {
     "end_time": "2022-04-21T14:38:31.111524Z",
     "start_time": "2022-04-21T14:38:31.109867Z"
    }
   },
   "outputs": [],
   "source": [
    "img5 = llenado5(img4)"
   ]
  },
  {
   "cell_type": "code",
   "execution_count": 95,
   "id": "95dc3e89",
   "metadata": {
    "ExecuteTime": {
     "end_time": "2022-04-21T14:38:31.115954Z",
     "start_time": "2022-04-21T14:38:31.112719Z"
    }
   },
   "outputs": [],
   "source": [
    "img5_landsat = img5.set('SENSOR_ID', 'OLI_TIRS')\n",
    "cloud_img5 = ee.Algorithms.Landsat.simpleCloudScore(img5_landsat)\n",
    "cloud_img5 = cloud_img5.select('cloud')"
   ]
  },
  {
   "cell_type": "code",
   "execution_count": 96,
   "id": "cefb8a8f",
   "metadata": {
    "ExecuteTime": {
     "end_time": "2022-04-21T14:38:31.118837Z",
     "start_time": "2022-04-21T14:38:31.117200Z"
    }
   },
   "outputs": [],
   "source": [
    "resultados= [img4, img5]\n",
    "labels = [\n",
    "    'Mosaico 4',\n",
    "    'Mosaico 5']\n",
    "vis_params3=  [\n",
    "     vizParams, \n",
    "    vizParams]"
   ]
  },
  {
   "cell_type": "code",
   "execution_count": 97,
   "id": "966cfb40",
   "metadata": {
    "ExecuteTime": {
     "end_time": "2022-04-21T14:38:40.856677Z",
     "start_time": "2022-04-21T14:38:31.120050Z"
    }
   },
   "outputs": [
    {
     "data": {
      "application/vnd.jupyter.widget-view+json": {
       "model_id": "71c249183d8f436b8893006221b10378",
       "version_major": 2,
       "version_minor": 0
      },
      "text/plain": [
       "GridspecLayout(children=(Output(layout=Layout(grid_area='widget001')), Output(layout=Layout(grid_area='widget0…"
      ]
     },
     "metadata": {},
     "output_type": "display_data"
    }
   ],
   "source": [
    "geemap.linked_maps(rows=1, cols=2, height=\"400px\", center=[-45, -75], zoom=4, \n",
    "                   ee_objects=resultados, vis_params=vis_params3, labels=labels, label_position=\"topright\")"
   ]
  },
  {
   "cell_type": "code",
   "execution_count": 98,
   "id": "22fe832e",
   "metadata": {
    "ExecuteTime": {
     "end_time": "2022-04-21T14:38:40.859773Z",
     "start_time": "2022-04-21T14:38:40.857736Z"
    }
   },
   "outputs": [],
   "source": [
    "resultados= [cloud_img5, img5]\n",
    "labels = [\n",
    "    'Nubes',\n",
    "    'Mosaico 5']\n",
    "vis_params3=  [\n",
    "     {'palette':palette_nubes}, \n",
    "    vizParams]"
   ]
  },
  {
   "cell_type": "code",
   "execution_count": 99,
   "id": "4f012564",
   "metadata": {
    "ExecuteTime": {
     "end_time": "2022-04-21T14:38:40.862504Z",
     "start_time": "2022-04-21T14:38:40.861203Z"
    }
   },
   "outputs": [
    {
     "data": {
      "application/vnd.jupyter.widget-view+json": {
       "model_id": "560468f1b8ab494488930d3b1381bc54",
       "version_major": 2,
       "version_minor": 0
      },
      "text/plain": [
       "GridspecLayout(children=(Output(layout=Layout(grid_area='widget001')), Output(layout=Layout(grid_area='widget0…"
      ]
     },
     "metadata": {},
     "output_type": "display_data"
    }
   ],
   "source": [
    "geemap.linked_maps(rows=1, cols=2, height=\"400px\", center=[-45, -75], zoom=4, \n",
    "                   ee_objects=resultados, vis_params=vis_params3, labels=labels, label_position=\"topright\")"
   ]
  },
  {
   "cell_type": "code",
   "execution_count": 100,
   "id": "816e20f5",
   "metadata": {
    "ExecuteTime": {
     "end_time": "2022-04-21T14:38:40.865451Z",
     "start_time": "2022-04-21T14:38:40.863737Z"
    }
   },
   "outputs": [],
   "source": [
    "def llenado6(image):\n",
    "    return image.where(cloud_img5.gt(10),l8_summer5.qualityMosaic('NDVI'))"
   ]
  },
  {
   "cell_type": "code",
   "execution_count": 101,
   "id": "4ea42282",
   "metadata": {
    "ExecuteTime": {
     "end_time": "2022-04-21T14:38:40.868381Z",
     "start_time": "2022-04-21T14:38:40.866641Z"
    }
   },
   "outputs": [],
   "source": [
    "img6 = llenado6(img5)"
   ]
  },
  {
   "cell_type": "code",
   "execution_count": 102,
   "id": "b510be19",
   "metadata": {
    "ExecuteTime": {
     "end_time": "2022-04-21T14:38:40.871562Z",
     "start_time": "2022-04-21T14:38:40.869564Z"
    }
   },
   "outputs": [],
   "source": [
    "img6_landsat = img6.set('SENSOR_ID', 'OLI_TIRS')\n",
    "cloud_img6 = ee.Algorithms.Landsat.simpleCloudScore(img6_landsat)\n",
    "cloud_img6 = cloud_img6.select('cloud')"
   ]
  },
  {
   "cell_type": "code",
   "execution_count": 103,
   "id": "bc0c68bc",
   "metadata": {
    "ExecuteTime": {
     "end_time": "2022-04-21T14:38:40.874573Z",
     "start_time": "2022-04-21T14:38:40.872771Z"
    }
   },
   "outputs": [],
   "source": [
    "resultados= [img5, img6]\n",
    "labels = [\n",
    "    'Mosaico 5',\n",
    "    'Mosaico 6']\n",
    "vis_params3=  [\n",
    "     vizParams, \n",
    "    vizParams]"
   ]
  },
  {
   "cell_type": "code",
   "execution_count": 104,
   "id": "19ee8ace",
   "metadata": {
    "ExecuteTime": {
     "end_time": "2022-04-21T14:38:48.144851Z",
     "start_time": "2022-04-21T14:38:40.875793Z"
    }
   },
   "outputs": [
    {
     "data": {
      "application/vnd.jupyter.widget-view+json": {
       "model_id": "ef4586118c53449da4548ba019b134c1",
       "version_major": 2,
       "version_minor": 0
      },
      "text/plain": [
       "GridspecLayout(children=(Output(layout=Layout(grid_area='widget001')), Output(layout=Layout(grid_area='widget0…"
      ]
     },
     "metadata": {},
     "output_type": "display_data"
    }
   ],
   "source": [
    "geemap.linked_maps(rows=1, cols=2, height=\"400px\", center=[-45, -75], zoom=4, \n",
    "                   ee_objects=resultados, vis_params=vis_params3, labels=labels, label_position=\"topright\")"
   ]
  },
  {
   "cell_type": "code",
   "execution_count": 105,
   "id": "2042ec0c",
   "metadata": {
    "ExecuteTime": {
     "end_time": "2022-04-21T14:38:48.147871Z",
     "start_time": "2022-04-21T14:38:48.145845Z"
    }
   },
   "outputs": [],
   "source": [
    "resultados= [cloud_img6, img6]\n",
    "labels = [\n",
    "    'Nubes 6',\n",
    "    'Mosaico 6']\n",
    "vis_params3=  [\n",
    "     {'palette':palette_nubes}, \n",
    "    vizParams]"
   ]
  },
  {
   "cell_type": "code",
   "execution_count": 106,
   "id": "2b448abf",
   "metadata": {
    "ExecuteTime": {
     "end_time": "2022-04-21T14:38:57.336182Z",
     "start_time": "2022-04-21T14:38:48.148716Z"
    }
   },
   "outputs": [
    {
     "data": {
      "application/vnd.jupyter.widget-view+json": {
       "model_id": "4110adb3d147497d8fb21f39ff38bd5c",
       "version_major": 2,
       "version_minor": 0
      },
      "text/plain": [
       "GridspecLayout(children=(Output(layout=Layout(grid_area='widget001')), Output(layout=Layout(grid_area='widget0…"
      ]
     },
     "metadata": {},
     "output_type": "display_data"
    }
   ],
   "source": [
    "geemap.linked_maps(rows=1, cols=2, height=\"400px\", center=[-45, -75], zoom=4, \n",
    "                   ee_objects=resultados, vis_params=vis_params3, labels=labels, label_position=\"topright\")"
   ]
  },
  {
   "cell_type": "code",
   "execution_count": 107,
   "id": "9e2e7562",
   "metadata": {
    "ExecuteTime": {
     "end_time": "2022-04-21T14:38:57.339153Z",
     "start_time": "2022-04-21T14:38:57.337214Z"
    }
   },
   "outputs": [],
   "source": [
    "hansenImage = ee.Image('UMD/hansen/global_forest_change_2015')\n",
    "datamask = hansenImage.select('datamask')"
   ]
  },
  {
   "cell_type": "code",
   "execution_count": 108,
   "id": "2ceede78",
   "metadata": {
    "ExecuteTime": {
     "end_time": "2022-04-21T14:38:57.342318Z",
     "start_time": "2022-04-21T14:38:57.340121Z"
    }
   },
   "outputs": [],
   "source": [
    "def llenado7(image):\n",
    "    return image.where(datamask.eq(2),l8_summer5_sn.median())"
   ]
  },
  {
   "cell_type": "code",
   "execution_count": 109,
   "id": "9aca5e96",
   "metadata": {
    "ExecuteTime": {
     "end_time": "2022-04-21T14:38:57.345178Z",
     "start_time": "2022-04-21T14:38:57.343278Z"
    }
   },
   "outputs": [],
   "source": [
    "img7 = llenado7(img6)"
   ]
  },
  {
   "cell_type": "code",
   "execution_count": 110,
   "id": "4b6e7672",
   "metadata": {
    "ExecuteTime": {
     "end_time": "2022-04-21T14:38:57.348125Z",
     "start_time": "2022-04-21T14:38:57.346431Z"
    }
   },
   "outputs": [],
   "source": [
    "resultados= [img6, img7]\n",
    "labels = [\n",
    "    'Mosaico 6',\n",
    "    'Mosaico 7']\n",
    "vis_params3=  [\n",
    "     vizParams, \n",
    "    vizParams]"
   ]
  },
  {
   "cell_type": "code",
   "execution_count": 111,
   "id": "37e695c0",
   "metadata": {
    "ExecuteTime": {
     "end_time": "2022-04-21T14:39:06.505278Z",
     "start_time": "2022-04-21T14:38:57.349208Z"
    }
   },
   "outputs": [
    {
     "data": {
      "application/vnd.jupyter.widget-view+json": {
       "model_id": "6ecafefe8c75442b987cf731be97f92b",
       "version_major": 2,
       "version_minor": 0
      },
      "text/plain": [
       "GridspecLayout(children=(Output(layout=Layout(grid_area='widget001')), Output(layout=Layout(grid_area='widget0…"
      ]
     },
     "metadata": {},
     "output_type": "display_data"
    }
   ],
   "source": [
    "geemap.linked_maps(rows=1, cols=2, height=\"400px\", center=[-45, -75], zoom=4, \n",
    "                   ee_objects=resultados, vis_params=vis_params3, labels=labels, label_position=\"topright\")"
   ]
  },
  {
   "cell_type": "code",
   "execution_count": 112,
   "id": "e8378a00",
   "metadata": {
    "ExecuteTime": {
     "end_time": "2022-04-21T14:39:06.508268Z",
     "start_time": "2022-04-21T14:39:06.506182Z"
    }
   },
   "outputs": [],
   "source": [
    "img7_landsat = img7.set('SENSOR_ID', 'OLI_TIRS')\n",
    "cloud_img7 = ee.Algorithms.Landsat.simpleCloudScore(img7_landsat)\n",
    "cloud_img7 = cloud_img7.select('cloud')"
   ]
  },
  {
   "cell_type": "code",
   "execution_count": 113,
   "id": "ad55ba55",
   "metadata": {
    "ExecuteTime": {
     "end_time": "2022-04-21T14:39:06.513599Z",
     "start_time": "2022-04-21T14:39:06.509195Z"
    }
   },
   "outputs": [],
   "source": [
    "# def llenado8(image):\n",
    "#     return image.where(cloud_img7.gt(10),l8_summer5_sn.median())"
   ]
  },
  {
   "cell_type": "code",
   "execution_count": 114,
   "id": "6fda5e1b",
   "metadata": {
    "ExecuteTime": {
     "end_time": "2022-04-21T14:39:06.516401Z",
     "start_time": "2022-04-21T14:39:06.514801Z"
    }
   },
   "outputs": [],
   "source": [
    "# img8 = llenado8(img7)"
   ]
  },
  {
   "cell_type": "code",
   "execution_count": 115,
   "id": "13743162",
   "metadata": {
    "ExecuteTime": {
     "end_time": "2022-04-21T14:39:06.519367Z",
     "start_time": "2022-04-21T14:39:06.517633Z"
    }
   },
   "outputs": [],
   "source": [
    "resultados= [img6, img7]\n",
    "labels = [\n",
    "    'Mosaico 6',\n",
    "    'Mosaico 7']\n",
    "vis_params3=  [\n",
    "     vizParams, \n",
    "    vizParams]"
   ]
  },
  {
   "cell_type": "code",
   "execution_count": 116,
   "id": "415c0dfa",
   "metadata": {
    "ExecuteTime": {
     "end_time": "2022-04-21T14:39:17.331366Z",
     "start_time": "2022-04-21T14:39:06.520334Z"
    }
   },
   "outputs": [
    {
     "data": {
      "application/vnd.jupyter.widget-view+json": {
       "model_id": "27c5031091f64c89af3885cdc902f565",
       "version_major": 2,
       "version_minor": 0
      },
      "text/plain": [
       "GridspecLayout(children=(Output(layout=Layout(grid_area='widget001')), Output(layout=Layout(grid_area='widget0…"
      ]
     },
     "metadata": {},
     "output_type": "display_data"
    }
   ],
   "source": [
    "geemap.linked_maps(rows=1, cols=2, height=\"400px\", center=[-45, -75], zoom=4, \n",
    "                   ee_objects=resultados, vis_params=vis_params3, labels=labels, label_position=\"topright\")"
   ]
  },
  {
   "cell_type": "code",
   "execution_count": 117,
   "id": "16158ea3",
   "metadata": {
    "ExecuteTime": {
     "end_time": "2022-04-21T14:39:27.764279Z",
     "start_time": "2022-04-21T14:39:17.332233Z"
    },
    "tags": []
   },
   "outputs": [
    {
     "data": {
      "application/vnd.jupyter.widget-view+json": {
       "model_id": "afa37fca842d4dbcb38a84def6d4523c",
       "version_major": 2,
       "version_minor": 0
      },
      "text/plain": [
       "Map(center=[-45, -70], controls=(WidgetControl(options=['position', 'transparent_bg'], widget=HBox(children=(T…"
      ]
     },
     "metadata": {},
     "output_type": "display_data"
    }
   ],
   "source": [
    "Map2.addLayer(cloud_img5,{'palette':palette_nubes},'Nubes 6')\n",
    "Map2.addLayer(l8_summer6.qualityMosaic('NDVI'), vizParams, 'QM NDVI CLC')\n",
    "Map2.addLayer(img7, vizParams, 'Mosaico Final')\n",
    "Map2"
   ]
  },
  {
   "cell_type": "markdown",
   "id": "13d14efe",
   "metadata": {
    "tags": []
   },
   "source": [
    "### Descarga Mosaico"
   ]
  },
  {
   "cell_type": "code",
   "execution_count": 118,
   "id": "44fe4e9b",
   "metadata": {
    "ExecuteTime": {
     "end_time": "2022-04-21T14:39:27.773288Z",
     "start_time": "2022-04-21T14:39:27.765312Z"
    },
    "jupyter": {
     "source_hidden": true
    },
    "tags": []
   },
   "outputs": [],
   "source": [
    "geometry_exp = ee.Geometry.Polygon(\n",
    "        [[[-72.56281773604495, -33.81999514196144],\n",
    "          [-72.96381871260745, -35.294382843203024],\n",
    "          [-73.27692906416995, -35.25850698608905],\n",
    "          [-74.15583531416995, -38.13757615203617],\n",
    "          [-73.96357457198245, -38.16349478321529],\n",
    "          [-74.41603250978783, -39.59214901926122],\n",
    "          [-73.71840067385033, -39.70212049569608],\n",
    "          [-74.48057965994737, -41.961233926702086],\n",
    "          [-76.23199334221133, -46.599308425949715],\n",
    "          [-75.71838250236758, -46.6705186900265],\n",
    "          [-76.31583416780423, -48.08335993023956],\n",
    "          [-75.6739504332226, -48.17601084778724],\n",
    "          [-76.1812028986966, -49.3089458997328],\n",
    "          [-75.8516130549466, -49.35190435466257],\n",
    "          [-75.88182545729035, -49.42252520588146],\n",
    "          [-75.62776661939972, -49.4593908439046],\n",
    "          [-75.87838309772656, -50.0286830263256],\n",
    "          [-75.4746355391328, -50.08951678614621],\n",
    "          [-75.54325576346766, -50.23909657453096],\n",
    "          [-75.77780697097086, -50.76007049594944],\n",
    "          [-75.16119930495523, -50.84458853545005],\n",
    "          [-75.38504574050211, -51.344039508567974],\n",
    "          [-75.5541538866841, -51.71140521484993],\n",
    "          [-75.18336531246536, -51.75648162278235],\n",
    "          [-75.47788882049618, -52.3659753295982],\n",
    "          [-74.75894718310815, -52.46884703800526],\n",
    "          [-75.08565455837835, -53.06208069103826],\n",
    "          [-74.55801479059262, -53.126414996444055],\n",
    "          [-74.81690883977036, -53.6371915734125],\n",
    "          [-73.44408000172288, -53.83741753537409],\n",
    "          [-73.50862467945726, -53.95798563315933],\n",
    "          [-73.45231974781663, -53.967680681913386],\n",
    "          [-73.53197062672288, -54.11766576333605],\n",
    "          [-73.77219189508037, -54.57485104154676],\n",
    "          [-72.34049166499341, -54.77775087176573],\n",
    "          [-72.47759402717024, -55.03231503944354],\n",
    "          [-71.05285526571967, -55.24340674895388],\n",
    "          [-71.08306766806342, -55.29113504937561],\n",
    "          [-69.81960741798575, -55.47109132991434],\n",
    "          [-69.85119311134513, -55.51932330880519],\n",
    "          [-69.68227831642325, -55.544194128455445],\n",
    "          [-69.79214159767325, -55.75341614311607],\n",
    "          [-66.85410518726452, -56.21137383375629],\n",
    "          [-66.30968752348785, -55.25322454720416],\n",
    "          [-65.44176760161285, -55.378260612328376],\n",
    "          [-65.29222191220039, -55.084940556988364],\n",
    "          [-63.8145607793879, -55.29503930747886],\n",
    "          [-63.4410256231379, -54.559610949790994],\n",
    "          [-66.01731956845039, -54.18844646199444],\n",
    "          [-65.92942894345039, -53.97576673331468],\n",
    "          [-67.35765159970039, -53.77173637481835],\n",
    "          [-66.83490788218774, -52.56216102836118],\n",
    "          [-68.29059635875024, -52.351280557744616],\n",
    "          [-67.13664467133525, -49.5665018755825],\n",
    "          [-65.6891959408665, -49.77447361491692],\n",
    "          [-64.6040407061826, -46.886773053508534],\n",
    "          [-66.07346209290135, -46.670468623465915],\n",
    "          [-65.60651222417681, -45.29237148760689],\n",
    "          [-64.13159767339556, -45.51413819831776],\n",
    "          [-63.11762183127383, -42.44210625114028],\n",
    "          [-61.64820044455508, -42.65254570178212],\n",
    "          [-60.691700635610566, -39.58656313087865],\n",
    "          [-60.612049756704316, -39.597145764356114],\n",
    "          [-60.214053037778356, -38.26345264755797],\n",
    "          [-62.338430585556544, -37.86345563921212],\n",
    "          [-62.431814374619044, -38.13616213643378],\n",
    "          [-63.880475463562526, -37.8656239671591],\n",
    "          [-63.965619506531276, -38.12752037872568],\n",
    "          [-65.43863114657343, -37.86678770192114],\n",
    "          [-65.52652177157343, -38.12867996539086],\n",
    "          [-66.31753739657343, -37.98811028708228],\n",
    "          [-65.98609312949165, -36.82548737245019],\n",
    "          [-68.06866521074468, -36.43149799324939],\n",
    "          [-68.16204899980718, -36.70723234878123],\n",
    "          [-69.00250310136968, -36.55294237984414],\n",
    "          [-68.66838285254276, -35.38834808765389],\n",
    "          [-70.73190167990279, -35.008946233837705],\n",
    "          [-70.82528546896529, -35.29190694633577],\n",
    "          [-71.68771222677779, -35.11685679848462],\n",
    "          [-71.37460187521529, -33.95679291780399],\n",
    "          [-72.53365949240279, -33.733238932504804]]])"
   ]
  },
  {
   "cell_type": "code",
   "execution_count": 119,
   "id": "838a2f5f",
   "metadata": {
    "ExecuteTime": {
     "end_time": "2022-04-21T14:39:27.776728Z",
     "start_time": "2022-04-21T14:39:27.774836Z"
    }
   },
   "outputs": [],
   "source": [
    "mosaico_final= img7.select('B1','B2','B3','B4','B5','B6','B7')\n"
   ]
  },
  {
   "cell_type": "code",
   "execution_count": 120,
   "id": "ba8d17a2",
   "metadata": {
    "ExecuteTime": {
     "end_time": "2022-04-21T14:39:27.780283Z",
     "start_time": "2022-04-21T14:39:27.778042Z"
    }
   },
   "outputs": [],
   "source": [
    "B1 = img7.select('B1')\n",
    "B2 = img7.select('B2')\n",
    "B3 = img7.select('B3')\n",
    "B4 = img7.select('B4')\n",
    "B5 = img7.select('B5')\n",
    "B6 = img7.select('B6')\n",
    "B7 = img7.select('B7')"
   ]
  },
  {
   "cell_type": "code",
   "execution_count": 121,
   "id": "f6ac7669",
   "metadata": {
    "ExecuteTime": {
     "end_time": "2022-04-21T14:39:27.787331Z",
     "start_time": "2022-04-21T14:39:27.781540Z"
    }
   },
   "outputs": [],
   "source": [
    "task_mosaico_B1 = ee.batch.Export.image.toDrive(**{\n",
    "    'image': B1,\n",
    "    'description':'B1',\n",
    "    'folder':'Earth Engine',\n",
    "    'region': geometry_exp.bounds(),\n",
    "    'scale':30,\n",
    "    'crsTransform':[30, 0, 214185, 0, -30, -4825185], \n",
    "    'crs':'EPSG:32719',\n",
    "    'maxPixels':1e13\n",
    "})\n",
    "task_mosaico_B2 = ee.batch.Export.image.toDrive(**{\n",
    "    'image': B2,\n",
    "    'description':'B2',\n",
    "    'folder':'Earth Engine',\n",
    "    'region': geometry_exp.bounds(),\n",
    "    'scale':30,\n",
    "    'crsTransform':[30, 0, 214185, 0, -30, -4825185], \n",
    "    'crs':'EPSG:32719',\n",
    "    'maxPixels':1e13\n",
    "})\n",
    "task_mosaico_B3 = ee.batch.Export.image.toDrive(**{\n",
    "    'image': B3,\n",
    "    'description':'B3',\n",
    "    'folder':'Earth Engine',\n",
    "    'region': geometry_exp.bounds(),\n",
    "    'scale':30,\n",
    "    'crsTransform':[30, 0, 214185, 0, -30, -4825185], \n",
    "    'crs':'EPSG:32719',\n",
    "    'maxPixels':1e13\n",
    "})\n",
    "task_mosaico_B4 = ee.batch.Export.image.toDrive(**{\n",
    "    'image': B4,\n",
    "    'description':'B4',\n",
    "    'folder':'Earth Engine',\n",
    "    'region': geometry_exp.bounds(),\n",
    "    'scale':30,\n",
    "    'crsTransform':[30, 0, 214185, 0, -30, -4825185], \n",
    "    'crs':'EPSG:32719',\n",
    "    'maxPixels':1e13\n",
    "})\n",
    "task_mosaico_B5 = ee.batch.Export.image.toDrive(**{\n",
    "    'image': B5,\n",
    "    'description':'B5',\n",
    "    'folder':'Earth Engine',\n",
    "    'region': geometry_exp.bounds(),\n",
    "    'scale':30,\n",
    "    'crsTransform':[30, 0, 214185, 0, -30, -4825185], \n",
    "    'crs':'EPSG:32719',\n",
    "    'maxPixels':1e13\n",
    "})\n",
    "task_mosaico_B6 = ee.batch.Export.image.toDrive(**{\n",
    "    'image': B6,\n",
    "    'description':'B6',\n",
    "    'folder':'Earth Engine',\n",
    "    'region': geometry_exp.bounds(),\n",
    "    'scale':30,\n",
    "    'crsTransform':[30, 0, 214185, 0, -30, -4825185], \n",
    "    'crs':'EPSG:32719',\n",
    "    'maxPixels':1e13\n",
    "})\n",
    "task_mosaico_B7 = ee.batch.Export.image.toDrive(**{\n",
    "    'image': B7,\n",
    "    'description':'B7',\n",
    "    'folder':'Earth Engine',\n",
    "    'region': geometry_exp.bounds(),\n",
    "    'scale':30,\n",
    "    'crsTransform':[30, 0, 214185, 0, -30, -4825185], \n",
    "    'crs':'EPSG:32719',\n",
    "    'maxPixels':1e13\n",
    "})"
   ]
  },
  {
   "cell_type": "code",
   "execution_count": 122,
   "id": "40353a77",
   "metadata": {
    "ExecuteTime": {
     "end_time": "2022-04-21T14:39:27.790243Z",
     "start_time": "2022-04-21T14:39:27.788556Z"
    }
   },
   "outputs": [],
   "source": [
    "# task_mosaico_B1.start()\n",
    "# task_mosaico_B2.start()\n",
    "# task_mosaico_B3.start()\n",
    "# task_mosaico_B4.start()\n",
    "# task_mosaico_B5.start()\n",
    "# task_mosaico_B6.start()\n",
    "# task_mosaico_B7.start()\n"
   ]
  },
  {
   "cell_type": "markdown",
   "id": "bb6585e7",
   "metadata": {},
   "source": [
    "## Taseeled cap"
   ]
  },
  {
   "cell_type": "code",
   "execution_count": 123,
   "id": "9f44feaf",
   "metadata": {
    "ExecuteTime": {
     "end_time": "2022-04-21T14:39:27.793432Z",
     "start_time": "2022-04-21T14:39:27.791556Z"
    }
   },
   "outputs": [],
   "source": [
    "tasse_img7 = img7.select(['B2', 'B3', 'B4', 'B5', 'B6', 'B7'])\n",
    "arrayimage1dm = tasse_img7.toArray()\n",
    "arrayimage2dm = arrayimage1dm.toArray(1)"
   ]
  },
  {
   "cell_type": "code",
   "execution_count": 124,
   "id": "083de568",
   "metadata": {
    "ExecuteTime": {
     "end_time": "2022-04-21T14:39:27.797251Z",
     "start_time": "2022-04-21T14:39:27.794716Z"
    }
   },
   "outputs": [],
   "source": [
    "coef = ee.Array([\n",
    "    [0.3029, 0.2786, 0.4733, 0.5599, 0.508, 0.1872], \n",
    "    [-0.2941, -0.243, -0.5424, 0.7276, 0.0713, -0.1608],\n",
    "    [0.1511, 0.1973, 0.3283, 0.3407, -0.7117, -0.4559],\n",
    "    [-0.8239, 0.0849, 0.4396, -0.058, 0.2013, -0.2773],\n",
    "    [-0.3294, 0.0557, 0.1056, 0.1855, -0.4349, 0.8085],\n",
    "    [0.1079, -0.9023, 0.4119, 0.0575, -0.0259, 0.0252]\n",
    "])"
   ]
  },
  {
   "cell_type": "code",
   "execution_count": 125,
   "id": "e029d2af",
   "metadata": {
    "ExecuteTime": {
     "end_time": "2022-04-21T14:39:27.800236Z",
     "start_time": "2022-04-21T14:39:27.798475Z"
    }
   },
   "outputs": [],
   "source": [
    "componentes = ee.Image(coef)\\\n",
    "                .matrixMultiply(arrayimage2dm) \\\n",
    "                .arrayProject([0])\\\n",
    "                .arrayFlatten(\n",
    "                [['brightness','greenness','wetness','fourth','fifth','sixth']])"
   ]
  },
  {
   "cell_type": "code",
   "execution_count": 126,
   "id": "ef5610d0",
   "metadata": {
    "ExecuteTime": {
     "end_time": "2022-04-21T14:39:27.803326Z",
     "start_time": "2022-04-21T14:39:27.801521Z"
    }
   },
   "outputs": [],
   "source": [
    "vizParamstess = {\n",
    "  'bands': ['brightness', 'greenness', 'wetness'],\n",
    "    'min': -0.1,\n",
    "    'max': [0.6, 0.2, 0.2]\n",
    "}"
   ]
  },
  {
   "cell_type": "code",
   "execution_count": 127,
   "id": "d4251cc2",
   "metadata": {
    "ExecuteTime": {
     "end_time": "2022-04-21T14:39:33.001317Z",
     "start_time": "2022-04-21T14:39:27.804638Z"
    }
   },
   "outputs": [
    {
     "data": {
      "application/vnd.jupyter.widget-view+json": {
       "model_id": "1078572e8a554c5492487e058d0ac060",
       "version_major": 2,
       "version_minor": 0
      },
      "text/plain": [
       "Map(center=[-45, -70], controls=(WidgetControl(options=['position', 'transparent_bg'], widget=HBox(children=(T…"
      ]
     },
     "metadata": {},
     "output_type": "display_data"
    }
   ],
   "source": [
    "Map3.addLayer(componentes,vizParamstess, 'Tesseled cap')\n",
    "Map3"
   ]
  },
  {
   "cell_type": "code",
   "execution_count": 128,
   "id": "517754c9",
   "metadata": {
    "ExecuteTime": {
     "end_time": "2022-04-21T14:39:33.004307Z",
     "start_time": "2022-04-21T14:39:33.002429Z"
    }
   },
   "outputs": [],
   "source": [
    "tasseled = componentes.select('brightness','greenness','wetness')"
   ]
  },
  {
   "cell_type": "code",
   "execution_count": 295,
   "id": "fe6ec557-e10a-4888-a95d-3cfd4175eac5",
   "metadata": {},
   "outputs": [],
   "source": [
    "brightness = tasseled.select('brightness')\n",
    "greenness = tasseled.select('greenness')\n",
    "wetness = tasseled.select('wetness')"
   ]
  },
  {
   "cell_type": "code",
   "execution_count": 296,
   "id": "b0ea543b-0bd0-47de-9f2a-06f55ea1f2d9",
   "metadata": {},
   "outputs": [],
   "source": [
    "task_brightness = ee.batch.Export.image.toDrive(**{\n",
    "    'image': brightness,\n",
    "    'description':'brightness',\n",
    "    'folder':'Earth Engine',\n",
    "    'region': geometry_exp.bounds(),\n",
    "    'scale':30,\n",
    "    'crsTransform':[30, 0, 214185, 0, -30, -4825185], \n",
    "    'crs':'EPSG:32719',\n",
    "    'maxPixels':1e13\n",
    "})\n",
    "task_greenness = ee.batch.Export.image.toDrive(**{\n",
    "    'image': greenness,\n",
    "    'description':'greenness',\n",
    "    'folder':'Earth Engine',\n",
    "    'region': geometry_exp.bounds(),\n",
    "    'scale':30,\n",
    "    'crsTransform':[30, 0, 214185, 0, -30, -4825185], \n",
    "    'crs':'EPSG:32719',\n",
    "    'maxPixels':1e13\n",
    "})\n",
    "task_wetness = ee.batch.Export.image.toDrive(**{\n",
    "    'image': wetness,\n",
    "    'description':'wetness',\n",
    "    'folder':'Earth Engine',\n",
    "    'region': geometry_exp.bounds(),\n",
    "    'scale':30,\n",
    "    'crsTransform':[30, 0, 214185, 0, -30, -4825185], \n",
    "    'crs':'EPSG:32719',\n",
    "    'maxPixels':1e13\n",
    "})"
   ]
  },
  {
   "cell_type": "code",
   "execution_count": 297,
   "id": "1fd3cda3-860a-4321-b597-b030430fdd22",
   "metadata": {},
   "outputs": [],
   "source": [
    "task_brightness.start()\n",
    "task_greenness.start()\n",
    "task_wetness.start()"
   ]
  },
  {
   "cell_type": "markdown",
   "id": "4fd1e42b",
   "metadata": {},
   "source": [
    "## Texturas"
   ]
  },
  {
   "cell_type": "markdown",
   "id": "3696dd4f",
   "metadata": {},
   "source": [
    "TM"
   ]
  },
  {
   "cell_type": "code",
   "execution_count": 129,
   "id": "4fe835da",
   "metadata": {
    "ExecuteTime": {
     "end_time": "2022-04-21T14:39:33.008364Z",
     "start_time": "2022-04-21T14:39:33.005253Z"
    }
   },
   "outputs": [],
   "source": [
    "text_qm = img7.select('B1','B2','B3','B4','B5','B6','B7')\n",
    "text_qm_array = text_qm.toArray()\n",
    "text_qm_array = text_qm_array.toArray(1)"
   ]
  },
  {
   "cell_type": "code",
   "execution_count": 130,
   "id": "b6b25cb8",
   "metadata": {
    "ExecuteTime": {
     "end_time": "2022-04-21T14:39:33.011833Z",
     "start_time": "2022-04-21T14:39:33.009326Z"
    }
   },
   "outputs": [],
   "source": [
    "coef100 = ee.Array([\n",
    "    [100,0,0,0,0,0,0],\n",
    "    [0,100,0,0,0,0,0],\n",
    "    [0,0,100,0,0,0,0],\n",
    "    [0,0,0,100,0,0,0],\n",
    "    [0,0,0,0,100,0,0],\n",
    "    [0,0,0,0,0,100,0],\n",
    "    [0,0,0,0,0,0,100],\n",
    "    ])"
   ]
  },
  {
   "cell_type": "code",
   "execution_count": 131,
   "id": "9fe3eda4",
   "metadata": {
    "ExecuteTime": {
     "end_time": "2022-04-21T14:39:33.014708Z",
     "start_time": "2022-04-21T14:39:33.012781Z"
    }
   },
   "outputs": [],
   "source": [
    "factor_qm = ee.Image(coef100)\\\n",
    "                .matrixMultiply(text_qm_array) \\\n",
    "                .arrayProject([0])\\\n",
    "                .arrayFlatten(\n",
    "                [['B1','B2','B3','B4','B5','B6','B7']])"
   ]
  },
  {
   "cell_type": "code",
   "execution_count": 132,
   "id": "5e637b0a",
   "metadata": {
    "ExecuteTime": {
     "end_time": "2022-04-21T14:39:33.017311Z",
     "start_time": "2022-04-21T14:39:33.015765Z"
    }
   },
   "outputs": [],
   "source": [
    "testint_txt_qm = factor_qm.int()"
   ]
  },
  {
   "cell_type": "code",
   "execution_count": 133,
   "id": "0e6e846c",
   "metadata": {
    "ExecuteTime": {
     "end_time": "2022-04-21T14:39:33.019942Z",
     "start_time": "2022-04-21T14:39:33.018318Z"
    }
   },
   "outputs": [],
   "source": [
    "txt_qm = testint_txt_qm.glcmTexture(3)"
   ]
  },
  {
   "cell_type": "markdown",
   "id": "2c7c7ef7-db0a-4819-a31d-e555ad0d7c1d",
   "metadata": {},
   "source": [
    "Banda 5 NIR"
   ]
  },
  {
   "cell_type": "code",
   "execution_count": 134,
   "id": "7f1b16d8-0e1b-4325-a8c2-fb1c2f6fa3b8",
   "metadata": {},
   "outputs": [],
   "source": [
    "txt_b5 = img7.select('B5')\n",
    "text_b5_array = txt_b5.toArray()\n",
    "text_b5_array = text_b5_array.toArray(1)"
   ]
  },
  {
   "cell_type": "code",
   "execution_count": 135,
   "id": "f44cb36a-a755-488f-ad8a-3adf6ee4f84d",
   "metadata": {},
   "outputs": [],
   "source": [
    "coef2 = ee.Array([[100]])"
   ]
  },
  {
   "cell_type": "code",
   "execution_count": 136,
   "id": "92528f6c-850e-4bd3-acbe-e29a54916edd",
   "metadata": {},
   "outputs": [],
   "source": [
    "factor_b5 = ee.Image(coef2)\\\n",
    "                .matrixMultiply(text_b5_array) \\\n",
    "                .arrayProject([0])\\\n",
    "                .arrayFlatten(\n",
    "                [['B5']])"
   ]
  },
  {
   "cell_type": "code",
   "execution_count": 137,
   "id": "4a3ef7b4-c487-413e-b132-3f0592cb763a",
   "metadata": {},
   "outputs": [],
   "source": [
    "b5_txt = factor_b5.int()"
   ]
  },
  {
   "cell_type": "code",
   "execution_count": 138,
   "id": "daa8cd94-e265-4e87-bd86-06f037445a83",
   "metadata": {},
   "outputs": [],
   "source": [
    "b5_texturas = b5_txt.glcmTexture(3)"
   ]
  },
  {
   "cell_type": "code",
   "execution_count": 139,
   "id": "c6362497-043a-4b0b-ab3c-4f938f891ec1",
   "metadata": {},
   "outputs": [],
   "source": [
    "texturas_b5 = b5_texturas\n",
    "texturas_b5 = texturas_b5.toArray()\n",
    "texturas_b5 = texturas_b5.toArray(1)"
   ]
  },
  {
   "cell_type": "code",
   "execution_count": 140,
   "id": "5bc15c96-891e-4748-9cff-d188e939211c",
   "metadata": {},
   "outputs": [],
   "source": [
    "coef3 = ee.Array([\n",
    "    [1,0,0,0,0,0,0,0,0,0,0,0,0,0,0,0,0,0],\n",
    "    [0,0.01,0,0,0,0,0,0,0,0,0,0,0,0,0,0,0,0],\n",
    "    [0,0,1,0,0,0,0,0,0,0,0,0,0,0,0,0,0,0],\n",
    "    [0,0,0,1,0,0,0,0,0,0,0,0,0,0,0,0,0,0],\n",
    "    [0,0,0,0,1,0,0,0,0,0,0,0,0,0,0,0,0,0],\n",
    "    [0,0,0,0,0,0.01,0,0,0,0,0,0,0,0,0,0,0,0],\n",
    "    [0,0,0,0,0,0,1,0,0,0,0,0,0,0,0,0,0,0],\n",
    "    [0,0,0,0,0,0,0,1,0,0,0,0,0,0,0,0,0,0],\n",
    "    [0,0,0,0,0,0,0,0,1,0,0,0,0,0,0,0,0,0],\n",
    "    [0,0,0,0,0,0,0,0,0,1,0,0,0,0,0,0,0,0],\n",
    "    [0,0,0,0,0,0,0,0,0,0,1,0,0,0,0,0,0,0],\n",
    "    [0,0,0,0,0,0,0,0,0,0,0,1,0,0,0,0,0,0],\n",
    "    [0,0,0,0,0,0,0,0,0,0,0,0,1,0,0,0,0,0],\n",
    "    [0,0,0,0,0,0,0,0,0,0,0,0,0,1,0,0,0,0],\n",
    "    [0,0,0,0,0,0,0,0,0,0,0,0,0,0,1,0,0,0],\n",
    "    [0,0,0,0,0,0,0,0,0,0,0,0,0,0,0,1,0,0],\n",
    "    [0,0,0,0,0,0,0,0,0,0,0,0,0,0,0,0,1,0],\n",
    "    [0,0,0,0,0,0,0,0,0,0,0,0,0,0,0,0,0,1],\n",
    "    ])"
   ]
  },
  {
   "cell_type": "code",
   "execution_count": 141,
   "id": "88d91eb5-f028-454e-b748-6a47f159ad2b",
   "metadata": {},
   "outputs": [],
   "source": [
    "factorb5 = ee.Image(coef3)\\\n",
    "                .matrixMultiply(texturas_b5) \\\n",
    "                .arrayProject([0])\\\n",
    "                .arrayFlatten(\n",
    "                [['B5_asm',\n",
    " 'B5_contrast',\n",
    " 'B5_corr',\n",
    " 'B5_var',\n",
    " 'B5_idm',\n",
    " 'B5_savg',\n",
    " 'B5_svar',\n",
    " 'B5_sent',\n",
    " 'B5_ent',\n",
    " 'B5_dvar',\n",
    " 'B5_dent',\n",
    " 'B5_imcorr1',\n",
    " 'B5_imcorr2',\n",
    " 'B5_maxcorr',\n",
    " 'B5_diss',\n",
    " 'B5_inertia',\n",
    " 'B5_shade',\n",
    " 'B5_prom']])"
   ]
  },
  {
   "cell_type": "markdown",
   "id": "c6c6c50c",
   "metadata": {},
   "source": [
    "NDVI"
   ]
  },
  {
   "cell_type": "code",
   "execution_count": 142,
   "id": "c4094fe0",
   "metadata": {
    "ExecuteTime": {
     "end_time": "2022-04-21T14:39:33.022724Z",
     "start_time": "2022-04-21T14:39:33.020959Z"
    }
   },
   "outputs": [],
   "source": [
    "ndvi_txt_array = img6.select('NDVI')\n",
    "ndvi_txt_array = ndvi_txt_array.toArray()\n",
    "ndvi_txt_array = ndvi_txt_array.toArray(1)"
   ]
  },
  {
   "cell_type": "code",
   "execution_count": 143,
   "id": "59048bf6",
   "metadata": {
    "ExecuteTime": {
     "end_time": "2022-04-21T14:39:33.025758Z",
     "start_time": "2022-04-21T14:39:33.023956Z"
    }
   },
   "outputs": [],
   "source": [
    "coef2 = ee.Array([[100]])"
   ]
  },
  {
   "cell_type": "code",
   "execution_count": 144,
   "id": "2f72ae6e",
   "metadata": {
    "ExecuteTime": {
     "end_time": "2022-04-21T14:39:33.028747Z",
     "start_time": "2022-04-21T14:39:33.026857Z"
    }
   },
   "outputs": [],
   "source": [
    "factor_ndvi = ee.Image(coef2)\\\n",
    "                .matrixMultiply(ndvi_txt_array) \\\n",
    "                .arrayProject([0])\\\n",
    "                .arrayFlatten(\n",
    "                [['NDVI']])"
   ]
  },
  {
   "cell_type": "code",
   "execution_count": 145,
   "id": "fecf4a33",
   "metadata": {
    "ExecuteTime": {
     "end_time": "2022-04-21T14:39:33.031317Z",
     "start_time": "2022-04-21T14:39:33.029801Z"
    }
   },
   "outputs": [],
   "source": [
    "ndvi_txt = factor_ndvi.int()"
   ]
  },
  {
   "cell_type": "code",
   "execution_count": 146,
   "id": "1ec09783",
   "metadata": {
    "ExecuteTime": {
     "end_time": "2022-04-21T14:39:33.034303Z",
     "start_time": "2022-04-21T14:39:33.032550Z"
    }
   },
   "outputs": [],
   "source": [
    "nvdi_texturas = ndvi_txt.glcmTexture(3)"
   ]
  },
  {
   "cell_type": "code",
   "execution_count": 147,
   "id": "5d3876f7",
   "metadata": {
    "ExecuteTime": {
     "end_time": "2022-04-21T14:39:33.037200Z",
     "start_time": "2022-04-21T14:39:33.035500Z"
    }
   },
   "outputs": [],
   "source": [
    "texturas_ndvi = nvdi_texturas\n",
    "texturas_ndvi = texturas_ndvi.toArray()\n",
    "texturas_ndvi = texturas_ndvi.toArray(1)"
   ]
  },
  {
   "cell_type": "code",
   "execution_count": 148,
   "id": "4456df6f",
   "metadata": {
    "ExecuteTime": {
     "end_time": "2022-04-21T14:39:33.044098Z",
     "start_time": "2022-04-21T14:39:33.038374Z"
    }
   },
   "outputs": [],
   "source": [
    "coef3 = ee.Array([\n",
    "    [1,0,0,0,0,0,0,0,0,0,0,0,0,0,0,0,0,0],\n",
    "    [0,0.01,0,0,0,0,0,0,0,0,0,0,0,0,0,0,0,0],\n",
    "    [0,0,1,0,0,0,0,0,0,0,0,0,0,0,0,0,0,0],\n",
    "    [0,0,0,1,0,0,0,0,0,0,0,0,0,0,0,0,0,0],\n",
    "    [0,0,0,0,1,0,0,0,0,0,0,0,0,0,0,0,0,0],\n",
    "    [0,0,0,0,0,0.01,0,0,0,0,0,0,0,0,0,0,0,0],\n",
    "    [0,0,0,0,0,0,1,0,0,0,0,0,0,0,0,0,0,0],\n",
    "    [0,0,0,0,0,0,0,1,0,0,0,0,0,0,0,0,0,0],\n",
    "    [0,0,0,0,0,0,0,0,1,0,0,0,0,0,0,0,0,0],\n",
    "    [0,0,0,0,0,0,0,0,0,1,0,0,0,0,0,0,0,0],\n",
    "    [0,0,0,0,0,0,0,0,0,0,1,0,0,0,0,0,0,0],\n",
    "    [0,0,0,0,0,0,0,0,0,0,0,1,0,0,0,0,0,0],\n",
    "    [0,0,0,0,0,0,0,0,0,0,0,0,1,0,0,0,0,0],\n",
    "    [0,0,0,0,0,0,0,0,0,0,0,0,0,1,0,0,0,0],\n",
    "    [0,0,0,0,0,0,0,0,0,0,0,0,0,0,1,0,0,0],\n",
    "    [0,0,0,0,0,0,0,0,0,0,0,0,0,0,0,1,0,0],\n",
    "    [0,0,0,0,0,0,0,0,0,0,0,0,0,0,0,0,1,0],\n",
    "    [0,0,0,0,0,0,0,0,0,0,0,0,0,0,0,0,0,1],\n",
    "    ])"
   ]
  },
  {
   "cell_type": "code",
   "execution_count": 149,
   "id": "db37a7f9",
   "metadata": {
    "ExecuteTime": {
     "end_time": "2022-04-21T14:39:33.047726Z",
     "start_time": "2022-04-21T14:39:33.045425Z"
    }
   },
   "outputs": [],
   "source": [
    "factor2 = ee.Image(coef3)\\\n",
    "                .matrixMultiply(texturas_ndvi) \\\n",
    "                .arrayProject([0])\\\n",
    "                .arrayFlatten(\n",
    "                [['NDVI_asm',\n",
    " 'NDVI_contrast',\n",
    " 'NDVI_corr',\n",
    " 'NDVI_var',\n",
    " 'NDVI_idm',\n",
    " 'NDVI_savg',\n",
    " 'NDVI_svar',\n",
    " 'NDVI_sent',\n",
    " 'NDVI_ent',\n",
    " 'NDVI_dvar',\n",
    " 'NDVI_dent',\n",
    " 'NDVI_imcorr1',\n",
    " 'NDVI_imcorr2',\n",
    " 'NDVI_maxcorr',\n",
    " 'NDVI_diss',\n",
    " 'NDVI_inertia',\n",
    " 'NDVI_shade',\n",
    " 'NDVI_prom']])"
   ]
  },
  {
   "cell_type": "markdown",
   "id": "c8c53d28",
   "metadata": {},
   "source": [
    "EVI"
   ]
  },
  {
   "cell_type": "code",
   "execution_count": 150,
   "id": "23fefa68",
   "metadata": {
    "ExecuteTime": {
     "end_time": "2022-04-21T14:39:33.050734Z",
     "start_time": "2022-04-21T14:39:33.048952Z"
    }
   },
   "outputs": [],
   "source": [
    "EVI_txt_array = img6.select('EVI')\n",
    "EVI_txt_array = ndvi_txt_array.toArray()\n",
    "EVI_txt_array = ndvi_txt_array.toArray(1)"
   ]
  },
  {
   "cell_type": "code",
   "execution_count": 151,
   "id": "535ef27a",
   "metadata": {
    "ExecuteTime": {
     "end_time": "2022-04-21T14:39:33.053463Z",
     "start_time": "2022-04-21T14:39:33.051739Z"
    }
   },
   "outputs": [],
   "source": [
    "coef2 = ee.Array([[100]])"
   ]
  },
  {
   "cell_type": "code",
   "execution_count": 152,
   "id": "75e8f9ee",
   "metadata": {
    "ExecuteTime": {
     "end_time": "2022-04-21T14:39:33.056430Z",
     "start_time": "2022-04-21T14:39:33.054401Z"
    }
   },
   "outputs": [],
   "source": [
    "factor_evi = ee.Image(coef2)\\\n",
    "                .matrixMultiply(EVI_txt_array) \\\n",
    "                .arrayProject([0])\\\n",
    "                .arrayFlatten(\n",
    "                [['EVI']])"
   ]
  },
  {
   "cell_type": "code",
   "execution_count": 153,
   "id": "4b97d612",
   "metadata": {
    "ExecuteTime": {
     "end_time": "2022-04-21T14:39:33.059172Z",
     "start_time": "2022-04-21T14:39:33.057533Z"
    }
   },
   "outputs": [],
   "source": [
    "factor_evi_txt = factor_evi.int()"
   ]
  },
  {
   "cell_type": "code",
   "execution_count": 154,
   "id": "a130dd61",
   "metadata": {
    "ExecuteTime": {
     "end_time": "2022-04-21T14:39:33.061948Z",
     "start_time": "2022-04-21T14:39:33.060349Z"
    }
   },
   "outputs": [],
   "source": [
    "txt_evi = factor_evi_txt.glcmTexture(3)"
   ]
  },
  {
   "cell_type": "code",
   "execution_count": 155,
   "id": "e3c5cc68",
   "metadata": {
    "ExecuteTime": {
     "end_time": "2022-04-21T14:39:33.064711Z",
     "start_time": "2022-04-21T14:39:33.063023Z"
    }
   },
   "outputs": [],
   "source": [
    "texturas_evi = txt_evi\n",
    "texturas_evi = texturas_evi.toArray()\n",
    "texturas_evi = texturas_evi.toArray(1)"
   ]
  },
  {
   "cell_type": "code",
   "execution_count": 156,
   "id": "16b13dde",
   "metadata": {
    "ExecuteTime": {
     "end_time": "2022-04-21T14:39:33.071579Z",
     "start_time": "2022-04-21T14:39:33.065876Z"
    }
   },
   "outputs": [],
   "source": [
    "coef3 = ee.Array([\n",
    "    [1,0,0,0,0,0,0,0,0,0,0,0,0,0,0,0,0,0],\n",
    "    [0,0.01,0,0,0,0,0,0,0,0,0,0,0,0,0,0,0,0],\n",
    "    [0,0,1,0,0,0,0,0,0,0,0,0,0,0,0,0,0,0],\n",
    "    [0,0,0,1,0,0,0,0,0,0,0,0,0,0,0,0,0,0],\n",
    "    [0,0,0,0,1,0,0,0,0,0,0,0,0,0,0,0,0,0],\n",
    "    [0,0,0,0,0,0.01,0,0,0,0,0,0,0,0,0,0,0,0],\n",
    "    [0,0,0,0,0,0,1,0,0,0,0,0,0,0,0,0,0,0],\n",
    "    [0,0,0,0,0,0,0,1,0,0,0,0,0,0,0,0,0,0],\n",
    "    [0,0,0,0,0,0,0,0,1,0,0,0,0,0,0,0,0,0],\n",
    "    [0,0,0,0,0,0,0,0,0,1,0,0,0,0,0,0,0,0],\n",
    "    [0,0,0,0,0,0,0,0,0,0,1,0,0,0,0,0,0,0],\n",
    "    [0,0,0,0,0,0,0,0,0,0,0,1,0,0,0,0,0,0],\n",
    "    [0,0,0,0,0,0,0,0,0,0,0,0,1,0,0,0,0,0],\n",
    "    [0,0,0,0,0,0,0,0,0,0,0,0,0,1,0,0,0,0],\n",
    "    [0,0,0,0,0,0,0,0,0,0,0,0,0,0,1,0,0,0],\n",
    "    [0,0,0,0,0,0,0,0,0,0,0,0,0,0,0,1,0,0],\n",
    "    [0,0,0,0,0,0,0,0,0,0,0,0,0,0,0,0,1,0],\n",
    "    [0,0,0,0,0,0,0,0,0,0,0,0,0,0,0,0,0,1]\n",
    "    ])"
   ]
  },
  {
   "cell_type": "code",
   "execution_count": 157,
   "id": "b4ef24d2",
   "metadata": {
    "ExecuteTime": {
     "end_time": "2022-04-21T14:39:33.075830Z",
     "start_time": "2022-04-21T14:39:33.072859Z"
    }
   },
   "outputs": [],
   "source": [
    "factor3 = ee.Image(coef3)\\\n",
    "                .matrixMultiply(texturas_evi) \\\n",
    "                .arrayProject([0])\\\n",
    "                .arrayFlatten(\n",
    "                [['EVI_asm',\n",
    " 'EVI_contrast',\n",
    " 'EVI_corr',\n",
    " 'EVI_var',\n",
    " 'EVI_idm',\n",
    " 'EVI_savg',\n",
    " 'EVI_svar',\n",
    " 'EVI_sent',\n",
    " 'EVI_ent',\n",
    " 'EVI_dvar',\n",
    " 'EVI_dent',\n",
    " 'EVI_imcorr1',\n",
    " 'EVI_imcorr2',\n",
    " 'EVI_maxcorr',\n",
    " 'EVI_diss',\n",
    " 'EVI_inertia',\n",
    " 'EVI_shade',\n",
    " 'EVI_prom']])"
   ]
  },
  {
   "cell_type": "markdown",
   "id": "ac119b23",
   "metadata": {},
   "source": [
    "## DEM"
   ]
  },
  {
   "cell_type": "code",
   "execution_count": 158,
   "id": "b86ca735",
   "metadata": {
    "ExecuteTime": {
     "end_time": "2022-04-21T14:39:33.078626Z",
     "start_time": "2022-04-21T14:39:33.076873Z"
    }
   },
   "outputs": [],
   "source": [
    "dem = ee.Image('USGS/SRTMGL1_003').clip(patagonia_grande)"
   ]
  },
  {
   "cell_type": "code",
   "execution_count": 159,
   "id": "10737120",
   "metadata": {
    "ExecuteTime": {
     "end_time": "2022-04-21T14:39:33.081378Z",
     "start_time": "2022-04-21T14:39:33.079749Z"
    }
   },
   "outputs": [],
   "source": [
    "elevation = dem.select('elevation')"
   ]
  },
  {
   "cell_type": "code",
   "execution_count": 160,
   "id": "104f176a",
   "metadata": {
    "ExecuteTime": {
     "end_time": "2022-04-21T14:39:33.084337Z",
     "start_time": "2022-04-21T14:39:33.082585Z"
    }
   },
   "outputs": [],
   "source": [
    "slope = ee.Terrain.slope(elevation)"
   ]
  },
  {
   "cell_type": "code",
   "execution_count": 161,
   "id": "58b7f2ce",
   "metadata": {
    "ExecuteTime": {
     "end_time": "2022-04-21T14:39:33.087049Z",
     "start_time": "2022-04-21T14:39:33.085393Z"
    }
   },
   "outputs": [],
   "source": [
    "aspect = ee.Terrain.aspect(dem)"
   ]
  },
  {
   "cell_type": "code",
   "execution_count": 162,
   "id": "e370ab88",
   "metadata": {
    "ExecuteTime": {
     "end_time": "2022-04-21T14:39:33.089867Z",
     "start_time": "2022-04-21T14:39:33.088152Z"
    }
   },
   "outputs": [],
   "source": [
    "dem_data = elevation.addBands([slope,aspect])"
   ]
  },
  {
   "cell_type": "markdown",
   "id": "a80a2029",
   "metadata": {},
   "source": [
    "## NDVI Index series"
   ]
  },
  {
   "cell_type": "markdown",
   "id": "76ba37a6",
   "metadata": {},
   "source": [
    "Primavera"
   ]
  },
  {
   "cell_type": "code",
   "execution_count": 163,
   "id": "38d49302",
   "metadata": {
    "ExecuteTime": {
     "end_time": "2022-04-21T14:39:33.093429Z",
     "start_time": "2022-04-21T14:39:33.091056Z"
    }
   },
   "outputs": [],
   "source": [
    "filterspring = ee.Filter.Or(\n",
    "    ee.Filter.date('2021-09-15','2021-10-31'),\n",
    "    ee.Filter.date('2020-09-15','2020-10-31'),\n",
    "    ee.Filter.date('2019-09-15','2019-10-31'),\n",
    "    ee.Filter.date('2018-09-15','2018-10-31')\n",
    ")"
   ]
  },
  {
   "cell_type": "code",
   "execution_count": 164,
   "id": "d9056890",
   "metadata": {
    "ExecuteTime": {
     "end_time": "2022-04-21T14:39:33.096587Z",
     "start_time": "2022-04-21T14:39:33.094652Z"
    }
   },
   "outputs": [],
   "source": [
    "start_date = '2018-09-15'\n",
    "end_date = '2021-10-31'\n",
    "\n",
    "l8_spring = ee.ImageCollection('LANDSAT/LC08/C02/T1_TOA') \\\n",
    "    .filterBounds(patagonia_grande) \\\n",
    "    .filter(filterspring) \\\n",
    "    .filterDate(start_date, end_date)"
   ]
  },
  {
   "cell_type": "code",
   "execution_count": 165,
   "id": "face0a03",
   "metadata": {
    "ExecuteTime": {
     "end_time": "2022-04-21T14:39:33.099913Z",
     "start_time": "2022-04-21T14:39:33.097669Z"
    }
   },
   "outputs": [],
   "source": [
    "NDVI_spring = l8_spring.map(addNDVI)\n",
    "NDVI_spring = NDVI_spring.median()\n",
    "NDVI_spring = NDVI_spring.select('NDVI').rename('NDVI_spring')"
   ]
  },
  {
   "cell_type": "markdown",
   "id": "785ec5f7",
   "metadata": {},
   "source": [
    "Invierno"
   ]
  },
  {
   "cell_type": "code",
   "execution_count": 166,
   "id": "6fc24332",
   "metadata": {
    "ExecuteTime": {
     "end_time": "2022-04-21T14:39:33.103041Z",
     "start_time": "2022-04-21T14:39:33.101055Z"
    }
   },
   "outputs": [],
   "source": [
    "filterwinter = ee.Filter.Or(\n",
    "    ee.Filter.date('2021-07-01','2021-09-14'),\n",
    "    ee.Filter.date('2020-07-01','2020-09-14'),\n",
    "    ee.Filter.date('2019-07-01','2019-09-14'),\n",
    "    ee.Filter.date('2018-07-01','2018-09-14')\n",
    ")"
   ]
  },
  {
   "cell_type": "code",
   "execution_count": 167,
   "id": "b6d1bccb",
   "metadata": {
    "ExecuteTime": {
     "end_time": "2022-04-21T14:39:33.106021Z",
     "start_time": "2022-04-21T14:39:33.104139Z"
    }
   },
   "outputs": [],
   "source": [
    "start_date = '2018-07-01'\n",
    "end_date = '2021-09-14'\n",
    "\n",
    "l8_winter = ee.ImageCollection('LANDSAT/LC08/C02/T1_TOA') \\\n",
    "    .filterBounds(patagonia_grande) \\\n",
    "    .filter(filterwinter) \\\n",
    "    .filterDate(start_date, end_date)"
   ]
  },
  {
   "cell_type": "code",
   "execution_count": 168,
   "id": "3a641f3b",
   "metadata": {
    "ExecuteTime": {
     "end_time": "2022-04-21T14:39:33.109799Z",
     "start_time": "2022-04-21T14:39:33.107241Z"
    }
   },
   "outputs": [],
   "source": [
    "NDVI_winter = l8_winter.map(addNDVI)\n",
    "NDVI_winter = NDVI_winter.median()\n",
    "NDVI_winter = NDVI_winter.select('NDVI').rename('NDVI_winter')"
   ]
  },
  {
   "cell_type": "markdown",
   "id": "cf5d3b72",
   "metadata": {},
   "source": [
    "Otoño"
   ]
  },
  {
   "cell_type": "code",
   "execution_count": 169,
   "id": "f006e987",
   "metadata": {
    "ExecuteTime": {
     "end_time": "2022-04-21T14:39:33.112773Z",
     "start_time": "2022-04-21T14:39:33.110838Z"
    }
   },
   "outputs": [],
   "source": [
    "filterautumn = ee.Filter.Or(\n",
    "    ee.Filter.date('2021-04-01','2021-06-30'),\n",
    "    ee.Filter.date('2020-04-01','2020-06-30'),\n",
    "    ee.Filter.date('2019-04-01','2019-06-30'),\n",
    "    ee.Filter.date('2018-04-01','2018-06-30')\n",
    ")"
   ]
  },
  {
   "cell_type": "code",
   "execution_count": 170,
   "id": "439e506d",
   "metadata": {
    "ExecuteTime": {
     "end_time": "2022-04-21T14:39:33.115905Z",
     "start_time": "2022-04-21T14:39:33.113861Z"
    }
   },
   "outputs": [],
   "source": [
    "start_date = '2018-04-01'\n",
    "end_date = '2021-06-30'\n",
    "\n",
    "l8_autumn = ee.ImageCollection('LANDSAT/LC08/C02/T1_TOA') \\\n",
    "    .filterBounds(patagonia_grande) \\\n",
    "    .filter(filterautumn) \\\n",
    "    .filterDate(start_date, end_date)"
   ]
  },
  {
   "cell_type": "code",
   "execution_count": 171,
   "id": "dfb47ae4",
   "metadata": {
    "ExecuteTime": {
     "end_time": "2022-04-21T14:39:33.119069Z",
     "start_time": "2022-04-21T14:39:33.116934Z"
    }
   },
   "outputs": [],
   "source": [
    "NDVI_autumn = l8_autumn.map(addNDVI)\n",
    "NDVI_autumn = NDVI_autumn.median()\n",
    "NDVI_autumn = NDVI_autumn.select('NDVI').rename('NDVI_autumn')"
   ]
  },
  {
   "cell_type": "markdown",
   "id": "dc0a7cf6",
   "metadata": {},
   "source": [
    "## Long/Lat"
   ]
  },
  {
   "cell_type": "code",
   "execution_count": 172,
   "id": "c9c7d5f5",
   "metadata": {
    "ExecuteTime": {
     "end_time": "2022-04-21T14:39:33.121958Z",
     "start_time": "2022-04-21T14:39:33.120378Z"
    }
   },
   "outputs": [],
   "source": [
    "long_lat = img7.pixelLonLat()"
   ]
  },
  {
   "cell_type": "code",
   "execution_count": 173,
   "id": "6cd0bb94",
   "metadata": {
    "ExecuteTime": {
     "end_time": "2022-04-21T14:39:33.316813Z",
     "start_time": "2022-04-21T14:39:33.123151Z"
    }
   },
   "outputs": [
    {
     "data": {
      "text/plain": [
       "['longitude', 'latitude']"
      ]
     },
     "execution_count": 173,
     "metadata": {},
     "output_type": "execute_result"
    }
   ],
   "source": [
    "long_lat.bandNames().getInfo()"
   ]
  },
  {
   "cell_type": "code",
   "execution_count": 174,
   "id": "ceb3dd69",
   "metadata": {
    "ExecuteTime": {
     "end_time": "2022-04-21T14:39:33.319405Z",
     "start_time": "2022-04-21T14:39:33.317624Z"
    }
   },
   "outputs": [],
   "source": [
    "# utm = (long_lat.select('longitude')).add(180).divide(6).int()"
   ]
  },
  {
   "cell_type": "code",
   "execution_count": 175,
   "id": "56366f8c",
   "metadata": {
    "ExecuteTime": {
     "end_time": "2022-04-21T14:39:33.322065Z",
     "start_time": "2022-04-21T14:39:33.320470Z"
    }
   },
   "outputs": [],
   "source": [
    "# Map4.addLayer(long_lat.select('longitude'),{},'longituda')\n",
    "# Map4.addLayer(utm,{min:0, max: 60},'longitud')\n",
    "# Map4"
   ]
  },
  {
   "cell_type": "markdown",
   "id": "84820382",
   "metadata": {},
   "source": [
    "# Clasificación"
   ]
  },
  {
   "cell_type": "code",
   "execution_count": 176,
   "id": "a5014b99",
   "metadata": {
    "ExecuteTime": {
     "end_time": "2022-04-21T14:39:39.174545Z",
     "start_time": "2022-04-21T14:39:33.323239Z"
    }
   },
   "outputs": [
    {
     "data": {
      "text/plain": [
       "['B1',\n",
       " 'B2',\n",
       " 'B3',\n",
       " 'B4',\n",
       " 'B5',\n",
       " 'B6',\n",
       " 'B7',\n",
       " 'B8',\n",
       " 'B9',\n",
       " 'B10',\n",
       " 'B11',\n",
       " 'QA_PIXEL',\n",
       " 'QA_RADSAT',\n",
       " 'SAA',\n",
       " 'SZA',\n",
       " 'VAA',\n",
       " 'VZA',\n",
       " 'NDVI',\n",
       " 'NDWI',\n",
       " 'mNDWI',\n",
       " 'NDWBI',\n",
       " 'NDGI',\n",
       " 'SAVI',\n",
       " 'MSAVI2',\n",
       " 'NDSI',\n",
       " 'NDBI',\n",
       " 'EVI',\n",
       " 'NDBrI',\n",
       " 'GNDVI',\n",
       " 'date',\n",
       " 'nube']"
      ]
     },
     "execution_count": 176,
     "metadata": {},
     "output_type": "execute_result"
    }
   ],
   "source": [
    "img7.bandNames().getInfo()"
   ]
  },
  {
   "cell_type": "code",
   "execution_count": 177,
   "id": "cb78c078",
   "metadata": {
    "ExecuteTime": {
     "end_time": "2022-04-21T14:39:39.178164Z",
     "start_time": "2022-04-21T14:39:39.175696Z"
    }
   },
   "outputs": [],
   "source": [
    "img_final = img7.select('B1','B2','B3','B4','B5','B6','B7','NDVI','NDWI','mNDWI','NDWBI','NDGI','SAVI','MSAVI2','NDSI','NDBI','EVI','NDBrI','GNDVI')\n",
    "img_final = img_final.addBands(tasseled).addBands(dem_data).addBands(NDVI_spring).addBands(NDVI_winter).addBands(NDVI_autumn).addBands(factor2).addBands(factor3).addBands(factorb5) "
   ]
  },
  {
   "cell_type": "code",
   "execution_count": 178,
   "id": "a4213c8a",
   "metadata": {
    "ExecuteTime": {
     "end_time": "2022-04-21T14:39:45.376303Z",
     "start_time": "2022-04-21T14:39:39.179051Z"
    }
   },
   "outputs": [
    {
     "data": {
      "text/plain": [
       "['B1',\n",
       " 'B2',\n",
       " 'B3',\n",
       " 'B4',\n",
       " 'B5',\n",
       " 'B6',\n",
       " 'B7',\n",
       " 'NDVI',\n",
       " 'NDWI',\n",
       " 'mNDWI',\n",
       " 'NDWBI',\n",
       " 'NDGI',\n",
       " 'SAVI',\n",
       " 'MSAVI2',\n",
       " 'NDSI',\n",
       " 'NDBI',\n",
       " 'EVI',\n",
       " 'NDBrI',\n",
       " 'GNDVI',\n",
       " 'brightness',\n",
       " 'greenness',\n",
       " 'wetness',\n",
       " 'elevation',\n",
       " 'slope',\n",
       " 'aspect',\n",
       " 'NDVI_spring',\n",
       " 'NDVI_winter',\n",
       " 'NDVI_autumn',\n",
       " 'NDVI_asm',\n",
       " 'NDVI_contrast',\n",
       " 'NDVI_corr',\n",
       " 'NDVI_var',\n",
       " 'NDVI_idm',\n",
       " 'NDVI_savg',\n",
       " 'NDVI_svar',\n",
       " 'NDVI_sent',\n",
       " 'NDVI_ent',\n",
       " 'NDVI_dvar',\n",
       " 'NDVI_dent',\n",
       " 'NDVI_imcorr1',\n",
       " 'NDVI_imcorr2',\n",
       " 'NDVI_maxcorr',\n",
       " 'NDVI_diss',\n",
       " 'NDVI_inertia',\n",
       " 'NDVI_shade',\n",
       " 'NDVI_prom',\n",
       " 'EVI_asm',\n",
       " 'EVI_contrast',\n",
       " 'EVI_corr',\n",
       " 'EVI_var',\n",
       " 'EVI_idm',\n",
       " 'EVI_savg',\n",
       " 'EVI_svar',\n",
       " 'EVI_sent',\n",
       " 'EVI_ent',\n",
       " 'EVI_dvar',\n",
       " 'EVI_dent',\n",
       " 'EVI_imcorr1',\n",
       " 'EVI_imcorr2',\n",
       " 'EVI_maxcorr',\n",
       " 'EVI_diss',\n",
       " 'EVI_inertia',\n",
       " 'EVI_shade',\n",
       " 'EVI_prom',\n",
       " 'B5_asm',\n",
       " 'B5_contrast',\n",
       " 'B5_corr',\n",
       " 'B5_var',\n",
       " 'B5_idm',\n",
       " 'B5_savg',\n",
       " 'B5_svar',\n",
       " 'B5_sent',\n",
       " 'B5_ent',\n",
       " 'B5_dvar',\n",
       " 'B5_dent',\n",
       " 'B5_imcorr1',\n",
       " 'B5_imcorr2',\n",
       " 'B5_maxcorr',\n",
       " 'B5_diss',\n",
       " 'B5_inertia',\n",
       " 'B5_shade',\n",
       " 'B5_prom']"
      ]
     },
     "execution_count": 178,
     "metadata": {},
     "output_type": "execute_result"
    }
   ],
   "source": [
    "img_final.bandNames().getInfo()"
   ]
  },
  {
   "cell_type": "code",
   "execution_count": 179,
   "id": "f156b6dd",
   "metadata": {
    "ExecuteTime": {
     "end_time": "2022-04-21T14:39:45.379949Z",
     "start_time": "2022-04-21T14:39:45.377230Z"
    }
   },
   "outputs": [],
   "source": [
    "bands = ['B1',\n",
    " 'B2',\n",
    " 'B3',\n",
    " 'B4',\n",
    " 'B5',\n",
    " 'B6',\n",
    " 'B7',\n",
    " 'NDVI',\n",
    " 'NDWI',\n",
    " 'mNDWI',\n",
    " 'NDWBI',\n",
    " 'NDGI',\n",
    " 'SAVI',\n",
    " 'MSAVI2',\n",
    " 'NDSI',\n",
    " 'NDBI',\n",
    " 'EVI',\n",
    " 'NDBrI',\n",
    " 'GNDVI',\n",
    " 'brightness',\n",
    " 'greenness',\n",
    " 'wetness',\n",
    " 'elevation',\n",
    " 'slope',\n",
    " 'aspect',\n",
    " 'B5_asm',\n",
    " 'B5_contrast',\n",
    " 'B5_corr',\n",
    " 'B5_var',\n",
    " 'B5_idm',\n",
    " 'B5_savg',\n",
    " 'B5_svar',\n",
    " 'B5_sent',\n",
    " 'B5_ent',\n",
    " 'B5_dvar',\n",
    " 'B5_dent',\n",
    " 'B5_imcorr1',\n",
    " 'B5_imcorr2',\n",
    " 'B5_maxcorr',\n",
    " 'B5_diss',\n",
    " 'B5_inertia',\n",
    " 'B5_shade',\n",
    " 'B5_prom',\n",
    " 'NDVI_spring',\n",
    " 'NDVI_winter',\n",
    " 'NDVI_autumn',\n",
    " 'NDVI_asm',\n",
    " 'NDVI_contrast',\n",
    " 'NDVI_corr',\n",
    " 'NDVI_var',\n",
    " 'NDVI_idm',\n",
    " 'NDVI_savg',\n",
    " 'NDVI_svar',\n",
    " 'NDVI_sent',\n",
    " 'NDVI_ent',\n",
    " 'NDVI_dvar',\n",
    " 'NDVI_dent',\n",
    " 'NDVI_imcorr1',\n",
    " 'NDVI_imcorr2',\n",
    " 'NDVI_maxcorr',\n",
    " 'NDVI_diss',\n",
    " 'NDVI_inertia',\n",
    " 'NDVI_shade',\n",
    " 'NDVI_prom',\n",
    " 'EVI_asm',\n",
    " 'EVI_contrast',\n",
    " 'EVI_corr',\n",
    " 'EVI_var',\n",
    " 'EVI_idm',\n",
    " 'EVI_savg',\n",
    " 'EVI_svar',\n",
    " 'EVI_sent',\n",
    " 'EVI_ent',\n",
    " 'EVI_dvar',\n",
    " 'EVI_dent',\n",
    " 'EVI_imcorr1',\n",
    " 'EVI_imcorr2',\n",
    " 'EVI_maxcorr',\n",
    " 'EVI_diss',\n",
    " 'EVI_inertia',\n",
    " 'EVI_shade',\n",
    " 'EVI_prom']"
   ]
  },
  {
   "cell_type": "code",
   "execution_count": 180,
   "id": "bf6ca360",
   "metadata": {
    "ExecuteTime": {
     "end_time": "2022-04-21T14:49:35.435760Z",
     "start_time": "2022-04-21T14:49:34.802587Z"
    }
   },
   "outputs": [
    {
     "name": "stderr",
     "output_type": "stream",
     "text": [
      "/home/paysen/anaconda3/envs/gee/lib/python3.8/site-packages/geopandas/io/file.py:299: FutureWarning: pandas.Int64Index is deprecated and will be removed from pandas in a future version. Use pandas.Index with the appropriate dtype instead.\n",
      "  pd.Int64Index,\n",
      "/home/paysen/anaconda3/envs/gee/lib/python3.8/site-packages/geopandas/io/file.py:299: FutureWarning: pandas.Int64Index is deprecated and will be removed from pandas in a future version. Use pandas.Index with the appropriate dtype instead.\n",
      "  pd.Int64Index,\n"
     ]
    }
   ],
   "source": [
    "test1 = os.path.join(work_dir,'training_class.shp')\n",
    "test1 = geemap.shp_to_ee(test1)\n",
    "val2 = os.path.join(work_dir,'validacion_v3.shp')\n",
    "val2 = geemap.shp_to_ee(val2)"
   ]
  },
  {
   "cell_type": "code",
   "execution_count": 181,
   "id": "dcc36d45",
   "metadata": {
    "ExecuteTime": {
     "end_time": "2022-04-21T14:49:35.439590Z",
     "start_time": "2022-04-21T14:49:35.437114Z"
    }
   },
   "outputs": [],
   "source": [
    "# random = os.path.join(work_dir,'random_points.shp')\n",
    "# random = geemap.shp_to_ee(random)"
   ]
  },
  {
   "cell_type": "code",
   "execution_count": 182,
   "id": "689c067f",
   "metadata": {
    "ExecuteTime": {
     "end_time": "2022-04-21T14:49:35.442080Z",
     "start_time": "2022-04-21T14:49:35.440686Z"
    }
   },
   "outputs": [],
   "source": [
    "# points= img_final.sampleRegions(**{\n",
    "#     'collection': random,\n",
    "#     'properties': ['ID'],\n",
    "#     'scale': 10,\n",
    "#     'tileScale': 3,\n",
    "# })"
   ]
  },
  {
   "cell_type": "code",
   "execution_count": 183,
   "id": "304d08ee",
   "metadata": {
    "ExecuteTime": {
     "end_time": "2022-04-21T14:49:35.445135Z",
     "start_time": "2022-04-21T14:49:35.443596Z"
    }
   },
   "outputs": [],
   "source": [
    "# Map6.addLayer(points, {},'muestras')\n",
    "# Map6"
   ]
  },
  {
   "cell_type": "code",
   "execution_count": 184,
   "id": "865357a3",
   "metadata": {
    "ExecuteTime": {
     "end_time": "2022-04-21T14:49:35.447855Z",
     "start_time": "2022-04-21T14:49:35.446324Z"
    }
   },
   "outputs": [],
   "source": [
    "# tablas_final = ee.batch.Export.table.toDrive(**{\n",
    "#   'collection': points,\n",
    "#   'description': 'datos',\n",
    "#   'fileFormat': 'CSV'\n",
    "# })"
   ]
  },
  {
   "cell_type": "code",
   "execution_count": 185,
   "id": "6acebb19",
   "metadata": {
    "ExecuteTime": {
     "end_time": "2022-04-21T14:49:35.450589Z",
     "start_time": "2022-04-21T14:49:35.449117Z"
    }
   },
   "outputs": [],
   "source": [
    "# tablas_final.start()"
   ]
  },
  {
   "cell_type": "code",
   "execution_count": 186,
   "id": "b9bd7169",
   "metadata": {
    "ExecuteTime": {
     "end_time": "2022-04-21T14:49:35.453482Z",
     "start_time": "2022-04-21T14:49:35.451654Z"
    }
   },
   "outputs": [],
   "source": [
    "data_QM = img_final.sampleRegions(**{\n",
    "    'collection': test1,\n",
    "    'properties': ['C_ID'],\n",
    "    'scale': 30,\n",
    "    'tileScale': 2,\n",
    "})"
   ]
  },
  {
   "cell_type": "code",
   "execution_count": 187,
   "id": "69ff9842-f919-4893-adac-7bf34a114dd3",
   "metadata": {},
   "outputs": [],
   "source": [
    "data_Val = img_final.sampleRegions(**{\n",
    "    'collection': val2,\n",
    "    'properties': ['C_ID'],\n",
    "    'scale': 30,\n",
    "    'tileScale': 2,\n",
    "})"
   ]
  },
  {
   "cell_type": "code",
   "execution_count": 188,
   "id": "17504e7c",
   "metadata": {
    "ExecuteTime": {
     "end_time": "2022-04-21T14:49:35.456419Z",
     "start_time": "2022-04-21T14:49:35.454551Z"
    }
   },
   "outputs": [],
   "source": [
    "tablas = ee.batch.Export.table.toDrive(**{\n",
    "  'collection': data_QM,\n",
    "  'description': 'TM_summer_QM',\n",
    "  'fileFormat': 'CSV'\n",
    "})"
   ]
  },
  {
   "cell_type": "code",
   "execution_count": 189,
   "id": "793a78e2",
   "metadata": {
    "ExecuteTime": {
     "end_time": "2022-04-21T14:49:35.459174Z",
     "start_time": "2022-04-21T14:49:35.457639Z"
    }
   },
   "outputs": [],
   "source": [
    "# tablas.start()"
   ]
  },
  {
   "cell_type": "markdown",
   "id": "69930743",
   "metadata": {},
   "source": [
    "## Muestra y validación"
   ]
  },
  {
   "cell_type": "code",
   "execution_count": 190,
   "id": "156ea73b",
   "metadata": {
    "ExecuteTime": {
     "end_time": "2022-04-21T14:49:35.462813Z",
     "start_time": "2022-04-21T14:49:35.461112Z"
    }
   },
   "outputs": [],
   "source": [
    "sample1 = data_QM.randomColumn()\n",
    "split = 0.7"
   ]
  },
  {
   "cell_type": "code",
   "execution_count": 191,
   "id": "3d911ce7",
   "metadata": {
    "ExecuteTime": {
     "end_time": "2022-04-21T14:49:35.465715Z",
     "start_time": "2022-04-21T14:49:35.463905Z"
    }
   },
   "outputs": [],
   "source": [
    "training1 = sample1.filter(ee.Filter.lt('random', split))\n",
    "validation1= sample1.filter(ee.Filter.gte('random', split))"
   ]
  },
  {
   "cell_type": "code",
   "execution_count": 192,
   "id": "186bbd22",
   "metadata": {
    "ExecuteTime": {
     "end_time": "2022-04-21T14:49:35.468572Z",
     "start_time": "2022-04-21T14:49:35.466935Z"
    }
   },
   "outputs": [],
   "source": [
    "label = 'IDH'\n",
    "label1 = 'ID'\n",
    "label_train ='C_ID'"
   ]
  },
  {
   "cell_type": "code",
   "execution_count": 193,
   "id": "5c38fa8c",
   "metadata": {
    "ExecuteTime": {
     "end_time": "2022-04-21T14:49:35.471279Z",
     "start_time": "2022-04-21T14:49:35.469550Z"
    }
   },
   "outputs": [],
   "source": [
    "classifier_QM = ee.Classifier.smileRandomForest(100).train(data_QM,label_train,bands)"
   ]
  },
  {
   "cell_type": "code",
   "execution_count": 194,
   "id": "dde0b461",
   "metadata": {
    "ExecuteTime": {
     "end_time": "2022-04-21T14:49:35.474289Z",
     "start_time": "2022-04-21T14:49:35.472387Z"
    }
   },
   "outputs": [],
   "source": [
    "result_QM = img_final.select(bands).classify(classifier_QM)"
   ]
  },
  {
   "cell_type": "code",
   "execution_count": 195,
   "id": "b9fc12f1",
   "metadata": {
    "ExecuteTime": {
     "end_time": "2022-04-21T14:49:35.477282Z",
     "start_time": "2022-04-21T14:49:35.475544Z"
    }
   },
   "outputs": [],
   "source": [
    "explained_QM = ee.Classifier.explain(classifier_QM)"
   ]
  },
  {
   "cell_type": "code",
   "execution_count": 196,
   "id": "4bf299e3",
   "metadata": {
    "ExecuteTime": {
     "end_time": "2022-04-21T14:53:03.197233Z",
     "start_time": "2022-04-21T14:49:35.478217Z"
    },
    "scrolled": true
   },
   "outputs": [],
   "source": [
    "# explained_QM.getInfo()"
   ]
  },
  {
   "cell_type": "markdown",
   "id": "282ffbec",
   "metadata": {},
   "source": [
    "### Categorizando"
   ]
  },
  {
   "cell_type": "code",
   "execution_count": 197,
   "id": "8ab3c9b6",
   "metadata": {
    "ExecuteTime": {
     "end_time": "2022-04-21T14:53:03.201659Z",
     "start_time": "2022-04-21T14:53:03.198260Z"
    }
   },
   "outputs": [],
   "source": [
    "class_values2 = [1,2,3,4,5,6,7,8,9,10,12,13,15,16,20,23,30,31,32,33,34,35,36,39,40,47,48,49,60]\n",
    "\n",
    "class_palette2 = ['d1fbff', # 1 Hielo\n",
    " 'bfdadd', #2 lengua glaciar\n",
    " 'b9bfbf', #3 glaciar cubierto\n",
    " 'fe40fe', #4 nieve\n",
    " '8ac1ff', #5 fiordo glaciar\n",
    " '0c407b', #6 mar\n",
    " '2e8da0', #7 lago continental\n",
    " '16b2d1', #8 lago glaciar\n",
    " '27e1d8', #9 río\n",
    " 'eeb514', #10 suelo desnudo\n",
    "#  '927012', #11 cárcavas erosión \n",
    " 'e98c0f', #12 suelo río\n",
    " 'f7e8bd', #13 suelo duna/arenal\n",
    "#  '5b5b5b', #14 caminos\n",
    " 'e57104', #15 suelo desnudo / poca vegetación\n",
    " '5d1412', #16 tuberas / musgos\n",
    "#  '5d1412', #17 mallín                 \n",
    "# '161163', #19 áreas inundables\n",
    " 'fff300', #20 plantación adulto\n",
    " 'ff0000', #23 ciudad urbano\n",
    " 'dee842', #30 praderas pastoreo             \n",
    " 'ced118', #31 estepa abierta\n",
    " '7a7c0f', #32 estepa cerrada\n",
    " 'c39700', #33 palizales\n",
    " 'a1ff8a', #34 praderas\n",
    " '138665', #35 matorrales densos\n",
    " '1bbd8e', #36 matorrales abiertos\n",
    " '195a09', #39 primario adulto\n",
    " '27c41d', #40 secundario adulto\n",
    "#  'b2ff00', #43 renoval inicial\n",
    "#  'f36605', #45 degradado\n",
    " '7729db', #47 Primario adulto caduco\n",
    " '9e60ec', #48 Secundario adulto caduco\n",
    " 'f36605', #49 achaparrados caduco\n",
    "#  '7000ff', #57 Mixto Primario\n",
    "#  'c598ff', #58 Mixto secundario\n",
    " '00ff87', #60 Coníferas nativas\n",
    "]"
   ]
  },
  {
   "cell_type": "code",
   "execution_count": 198,
   "id": "b088b7fc",
   "metadata": {
    "ExecuteTime": {
     "end_time": "2022-04-21T14:53:03.208180Z",
     "start_time": "2022-04-21T14:53:03.202546Z"
    }
   },
   "outputs": [],
   "source": [
    "landcover_QM = result_QM.set('classification_class_values', class_values2)\n",
    "landcover_QM = landcover_QM.set('classification_class_palette',class_palette2)"
   ]
  },
  {
   "cell_type": "code",
   "execution_count": 199,
   "id": "00cb1606",
   "metadata": {
    "ExecuteTime": {
     "end_time": "2022-04-21T14:53:14.819021Z",
     "start_time": "2022-04-21T14:53:03.209420Z"
    }
   },
   "outputs": [
    {
     "data": {
      "application/vnd.jupyter.widget-view+json": {
       "model_id": "9f387f24205d4b0a980994f33bb55c5e",
       "version_major": 2,
       "version_minor": 0
      },
      "text/plain": [
       "Map(center=[-45, -70], controls=(WidgetControl(options=['position', 'transparent_bg'], widget=HBox(children=(T…"
      ]
     },
     "metadata": {},
     "output_type": "display_data"
    }
   ],
   "source": [
    "Map5.addLayer(landcover_QM,{}, 'Land cover RF-QM' )\n",
    "Map5"
   ]
  },
  {
   "cell_type": "markdown",
   "id": "fea9cb66",
   "metadata": {},
   "source": [
    "# Comparación de Metología"
   ]
  },
  {
   "cell_type": "markdown",
   "id": "20624824",
   "metadata": {},
   "source": [
    "## Met. Andrés"
   ]
  },
  {
   "cell_type": "code",
   "execution_count": 200,
   "id": "cad320fa",
   "metadata": {
    "ExecuteTime": {
     "end_time": "2022-04-21T14:53:14.821705Z",
     "start_time": "2022-04-21T14:53:14.820055Z"
    }
   },
   "outputs": [],
   "source": [
    "# img_ba= img_final.select('B4','B5','EVI','EVI_corr','EVI_imcorr1','NDVI_diss','NDVI_spring','NDWI','elevation','mNDWI','slope','EVI_ent').addBands(long_lat)"
   ]
  },
  {
   "cell_type": "code",
   "execution_count": 201,
   "id": "ce945cf5",
   "metadata": {
    "ExecuteTime": {
     "end_time": "2022-04-21T14:53:14.824688Z",
     "start_time": "2022-04-21T14:53:14.823137Z"
    }
   },
   "outputs": [],
   "source": [
    "# img_ba.bandNames().getInfo()"
   ]
  },
  {
   "cell_type": "code",
   "execution_count": 202,
   "id": "b4b8de55",
   "metadata": {
    "ExecuteTime": {
     "end_time": "2022-04-21T14:53:14.827385Z",
     "start_time": "2022-04-21T14:53:14.825853Z"
    }
   },
   "outputs": [],
   "source": [
    "# data_ba = img_ba.sampleRegions(**{\n",
    "#     'collection': test1,\n",
    "#     'properties': ['C_ID'],\n",
    "#     'scale': 30,\n",
    "#     'tileScale': 2,\n",
    "# })"
   ]
  },
  {
   "cell_type": "code",
   "execution_count": 203,
   "id": "4ae73faa",
   "metadata": {
    "ExecuteTime": {
     "end_time": "2022-04-21T14:53:14.830031Z",
     "start_time": "2022-04-21T14:53:14.828222Z"
    }
   },
   "outputs": [],
   "source": [
    "# sample2 = data_ba.randomColumn()\n",
    "# split = 0.7"
   ]
  },
  {
   "cell_type": "code",
   "execution_count": 204,
   "id": "1520fb24",
   "metadata": {
    "ExecuteTime": {
     "end_time": "2022-04-21T14:53:14.832547Z",
     "start_time": "2022-04-21T14:53:14.830849Z"
    }
   },
   "outputs": [],
   "source": [
    "# training2 = sample2.filter(ee.Filter.lt('random', split))\n",
    "# validation2= sample2.filter(ee.Filter.gte('random', split))"
   ]
  },
  {
   "cell_type": "code",
   "execution_count": 205,
   "id": "d8ccd7e9",
   "metadata": {
    "ExecuteTime": {
     "end_time": "2022-04-21T14:53:14.834831Z",
     "start_time": "2022-04-21T14:53:14.833328Z"
    }
   },
   "outputs": [],
   "source": [
    "# bands_ba = ['B4','B5','EVI','EVI_corr','EVI_imcorr1','NDVI_diss','NDVI_spring','NDWI','elevation','mNDWI','slope','EVI_ent','longitude', 'latitude']"
   ]
  },
  {
   "cell_type": "code",
   "execution_count": 206,
   "id": "4df64814",
   "metadata": {
    "ExecuteTime": {
     "end_time": "2022-04-21T14:53:14.837725Z",
     "start_time": "2022-04-21T14:53:14.836149Z"
    }
   },
   "outputs": [],
   "source": [
    "# classifier_ba = ee.Classifier.smileRandomForest(100).train(training2,label_train,bands_ba)"
   ]
  },
  {
   "cell_type": "code",
   "execution_count": 207,
   "id": "120bd851",
   "metadata": {
    "ExecuteTime": {
     "end_time": "2022-04-21T14:53:14.840262Z",
     "start_time": "2022-04-21T14:53:14.838779Z"
    }
   },
   "outputs": [],
   "source": [
    "# result_ba = img_ba.select(bands_ba).classify(classifier_ba)"
   ]
  },
  {
   "cell_type": "code",
   "execution_count": 208,
   "id": "3ab6e317",
   "metadata": {
    "ExecuteTime": {
     "end_time": "2022-04-21T14:53:14.845270Z",
     "start_time": "2022-04-21T14:53:14.843611Z"
    }
   },
   "outputs": [],
   "source": [
    "# explained_ba = ee.Classifier.explain(classifier_ba)"
   ]
  },
  {
   "cell_type": "code",
   "execution_count": 209,
   "id": "8402b662",
   "metadata": {
    "ExecuteTime": {
     "end_time": "2022-04-21T14:53:14.848478Z",
     "start_time": "2022-04-21T14:53:14.846326Z"
    },
    "scrolled": true
   },
   "outputs": [],
   "source": [
    "# explained_ba.getInfo()"
   ]
  },
  {
   "cell_type": "code",
   "execution_count": 210,
   "id": "d680af07",
   "metadata": {
    "ExecuteTime": {
     "end_time": "2022-04-21T14:53:14.851427Z",
     "start_time": "2022-04-21T14:53:14.849421Z"
    }
   },
   "outputs": [],
   "source": [
    "# class_values2 = [1,2,3,4,5,6,7,8,9,10,11,12,13,14,15,16,17,19,20,23,30,31,32,33,34,35,36,39,40,43,45,47,48,57,58,60]\n",
    "\n",
    "# class_palette2 = ['d1fbff', # 1 Hielo\n",
    "#  'bfdadd', #2 lengua glaciar\n",
    "#  'b9bfbf', #3 glaciar cubierto\n",
    "#  'fe40fe', #4 nieve\n",
    "#  '8ac1ff', #5 fiordo glaciar\n",
    "#  '0c407b', #6 mar\n",
    "#  '2e8da0', #7 lago continental\n",
    "#  '16b2d1', #8 lago glaciar\n",
    "#  '27e1d8', #9 río\n",
    "#  'eeb514', #10 suelo desnudo\n",
    "#  '927012', #11 cárcavas erosión \n",
    "#  'e98c0f', #12 suelo río\n",
    "#  'f7e8bd', #13 suelo duna/arenal\n",
    "#  '5b5b5b', #14 caminos\n",
    "#  'e57104', #15 suelo desnudo / poca vegetación\n",
    "#  '5d1412', #16 tuberas / musgos\n",
    "#  '5d1412', #17 mallín                 \n",
    "#  '161163', #19 áreas inundables\n",
    "#  'fff300', #20 plantación adulto\n",
    "#  'ff0000', #23 ciudad urbano\n",
    "#  'dee842', #30 praderas pastoreo             \n",
    "#  'ced118', #31 estepa abierta\n",
    "#  '7a7c0f', #32 estepa cerrada\n",
    "#  'c39700', #33 palizales\n",
    "#  'a1ff8a', #34 preaderas\n",
    "#  '138665', #35 matorrales densos\n",
    "#  '1bbd8e', #36 matorrales abiertos\n",
    "#  '195a09', #39 primario adulto\n",
    "#  '27c41d', #40 secundario adulto\n",
    "#  'b2ff00', #43 renoval inicial\n",
    "#  'f36605', #45 degradado\n",
    "#  '7729db', #47 Primario adulto caduco\n",
    "#  '9e60ec', #48 Secundario adulto caduco\n",
    "#  '7000ff', #57 Mixto Primario\n",
    "#  'c598ff', #58 Mixto secundario\n",
    "#  '00ff87', #60 Coníferas nativas\n",
    "# ]"
   ]
  },
  {
   "cell_type": "code",
   "execution_count": 211,
   "id": "678da8ab",
   "metadata": {
    "ExecuteTime": {
     "end_time": "2022-04-21T14:53:14.854037Z",
     "start_time": "2022-04-21T14:53:14.852593Z"
    }
   },
   "outputs": [],
   "source": [
    "# landcover_ba = result_ba.set('classification_class_values', class_values2)\n",
    "# landcover_ba = landcover_ba.set('classification_class_palette',class_palette2)"
   ]
  },
  {
   "cell_type": "code",
   "execution_count": 212,
   "id": "16873727",
   "metadata": {
    "ExecuteTime": {
     "end_time": "2022-04-21T14:53:14.856676Z",
     "start_time": "2022-04-21T14:53:14.855231Z"
    }
   },
   "outputs": [],
   "source": [
    "# Map7.addLayer(landcover_ba,{}, 'Land cover Ba' )\n",
    "# Map7"
   ]
  },
  {
   "cell_type": "markdown",
   "id": "c06e40b6",
   "metadata": {},
   "source": [
    "## Met. RFE"
   ]
  },
  {
   "cell_type": "markdown",
   "id": "15c6c9c8",
   "metadata": {},
   "source": [
    "### Primer"
   ]
  },
  {
   "cell_type": "code",
   "execution_count": 213,
   "id": "73c8707c",
   "metadata": {
    "ExecuteTime": {
     "end_time": "2022-04-21T14:53:14.860112Z",
     "start_time": "2022-04-21T14:53:14.857805Z"
    }
   },
   "outputs": [],
   "source": [
    "img_rfe = img_final.select('elevation','NDVI_spring','NDVI_winter','NDVI_autumn','B1','NDGI','EVI_savg','B2','NDVI_savg','mNDWI','B4','B3','brightness',\n",
    "                           'NDSI','slope','NDBI','NDWI','wetness','B7','NDBrI','greenness','B5','EVI','B6','NDWBI','GNDVI','NDVI','MSAVI2','SAVI','B5_savg')"
   ]
  },
  {
   "cell_type": "code",
   "execution_count": 214,
   "id": "fce0dbe0",
   "metadata": {
    "ExecuteTime": {
     "end_time": "2022-04-21T14:53:20.223583Z",
     "start_time": "2022-04-21T14:53:14.861365Z"
    }
   },
   "outputs": [
    {
     "data": {
      "text/plain": [
       "['elevation',\n",
       " 'NDVI_spring',\n",
       " 'NDVI_winter',\n",
       " 'NDVI_autumn',\n",
       " 'B1',\n",
       " 'NDGI',\n",
       " 'EVI_savg',\n",
       " 'B2',\n",
       " 'NDVI_savg',\n",
       " 'mNDWI',\n",
       " 'B4',\n",
       " 'B3',\n",
       " 'brightness',\n",
       " 'NDSI',\n",
       " 'slope',\n",
       " 'NDBI',\n",
       " 'NDWI',\n",
       " 'wetness',\n",
       " 'B7',\n",
       " 'NDBrI',\n",
       " 'greenness',\n",
       " 'B5',\n",
       " 'EVI',\n",
       " 'B6',\n",
       " 'NDWBI',\n",
       " 'GNDVI',\n",
       " 'NDVI',\n",
       " 'MSAVI2',\n",
       " 'SAVI',\n",
       " 'B5_savg']"
      ]
     },
     "execution_count": 214,
     "metadata": {},
     "output_type": "execute_result"
    }
   ],
   "source": [
    "img_rfe.bandNames().getInfo()"
   ]
  },
  {
   "cell_type": "code",
   "execution_count": 215,
   "id": "6cb5a40c",
   "metadata": {
    "ExecuteTime": {
     "end_time": "2022-04-21T14:53:20.226670Z",
     "start_time": "2022-04-21T14:53:20.224541Z"
    }
   },
   "outputs": [],
   "source": [
    "data_rfe = img_rfe.sampleRegions(**{\n",
    "    'collection': test1,\n",
    "    'properties': ['C_ID'],\n",
    "    'scale': 30,\n",
    "    'tileScale': 2,\n",
    "})"
   ]
  },
  {
   "cell_type": "code",
   "execution_count": 216,
   "id": "f0eb31e6",
   "metadata": {
    "ExecuteTime": {
     "end_time": "2022-04-21T14:53:20.229790Z",
     "start_time": "2022-04-21T14:53:20.227627Z"
    }
   },
   "outputs": [],
   "source": [
    "sample3 = data_rfe.randomColumn()\n",
    "split = 0.7"
   ]
  },
  {
   "cell_type": "code",
   "execution_count": 217,
   "id": "d56480de",
   "metadata": {
    "ExecuteTime": {
     "end_time": "2022-04-21T14:53:20.232756Z",
     "start_time": "2022-04-21T14:53:20.230838Z"
    }
   },
   "outputs": [],
   "source": [
    "training3 = sample3.filter(ee.Filter.lt('random', split))\n",
    "validation3= sample3.filter(ee.Filter.gte('random', split))"
   ]
  },
  {
   "cell_type": "code",
   "execution_count": 218,
   "id": "2b3002d1",
   "metadata": {
    "ExecuteTime": {
     "end_time": "2022-04-21T14:53:20.235788Z",
     "start_time": "2022-04-21T14:53:20.233794Z"
    }
   },
   "outputs": [],
   "source": [
    "bands_rfe = ['elevation','NDVI_spring','NDVI_winter','NDVI_autumn','B1','NDGI','EVI_savg','B2','NDVI_savg','mNDWI','B4','B3','brightness',\n",
    "                           'NDSI','slope','NDBI','NDWI','wetness','B7','NDBrI','greenness','B5','EVI','B6','NDWBI','GNDVI','NDVI','MSAVI2','SAVI','B5_savg']"
   ]
  },
  {
   "cell_type": "code",
   "execution_count": 219,
   "id": "9a44ebcc",
   "metadata": {
    "ExecuteTime": {
     "end_time": "2022-04-21T14:53:20.238833Z",
     "start_time": "2022-04-21T14:53:20.237076Z"
    }
   },
   "outputs": [],
   "source": [
    "classifier_rfe = ee.Classifier.smileRandomForest(100).train(data_rfe,label_train,bands_rfe)"
   ]
  },
  {
   "cell_type": "code",
   "execution_count": 220,
   "id": "b60dea00",
   "metadata": {
    "ExecuteTime": {
     "end_time": "2022-04-21T14:53:20.241907Z",
     "start_time": "2022-04-21T14:53:20.240026Z"
    }
   },
   "outputs": [],
   "source": [
    "result_rfe = img_rfe.select(bands_rfe).classify(classifier_rfe)"
   ]
  },
  {
   "cell_type": "code",
   "execution_count": 221,
   "id": "5a9eae91",
   "metadata": {
    "ExecuteTime": {
     "end_time": "2022-04-21T14:53:20.245468Z",
     "start_time": "2022-04-21T14:53:20.243359Z"
    }
   },
   "outputs": [],
   "source": [
    "explained_rfe = ee.Classifier.explain(classifier_rfe)"
   ]
  },
  {
   "cell_type": "code",
   "execution_count": 222,
   "id": "6dd4c3e4",
   "metadata": {
    "ExecuteTime": {
     "end_time": "2022-04-21T14:56:39.157019Z",
     "start_time": "2022-04-21T14:53:20.246439Z"
    },
    "scrolled": true,
    "tags": []
   },
   "outputs": [],
   "source": [
    "#explained_rfe.getInfo()"
   ]
  },
  {
   "cell_type": "code",
   "execution_count": 223,
   "id": "2e4ecf3a",
   "metadata": {
    "ExecuteTime": {
     "end_time": "2022-04-21T14:56:39.161013Z",
     "start_time": "2022-04-21T14:56:39.158414Z"
    }
   },
   "outputs": [],
   "source": [
    "landcover_rfe = result_rfe.set('classification_class_values', class_values2)\n",
    "landcover_rfe = landcover_rfe.set('classification_class_palette',class_palette2)"
   ]
  },
  {
   "cell_type": "code",
   "execution_count": 224,
   "id": "36a777ed",
   "metadata": {
    "ExecuteTime": {
     "end_time": "2022-04-21T14:56:52.611526Z",
     "start_time": "2022-04-21T14:56:39.161957Z"
    },
    "tags": []
   },
   "outputs": [
    {
     "data": {
      "application/vnd.jupyter.widget-view+json": {
       "model_id": "1c1305c563514bd79666891f7fbc95bc",
       "version_major": 2,
       "version_minor": 0
      },
      "text/plain": [
       "Map(center=[-45, -70], controls=(WidgetControl(options=['position', 'transparent_bg'], widget=HBox(children=(T…"
      ]
     },
     "metadata": {},
     "output_type": "display_data"
    }
   ],
   "source": [
    "Map8.addLayer(landcover_rfe,{}, 'Land cover rfe' )\n",
    "Map8"
   ]
  },
  {
   "cell_type": "code",
   "execution_count": 225,
   "id": "bc06383d-811f-4a15-a735-caf9e46d6915",
   "metadata": {},
   "outputs": [],
   "source": [
    "task_landcover = ee.batch.Export.image.toDrive(**{\n",
    "    'image': landcover_rfe,\n",
    "    'description':'landcover_rfe_02',\n",
    "    'folder':'Earth Engine',\n",
    "    'region': geometry_exp.bounds(),\n",
    "    'scale':30,\n",
    "    'crsTransform':[30, 0, 214185, 0, -30, -4825185], \n",
    "    'crs':'EPSG:32719',\n",
    "    'maxPixels':1e13\n",
    "})"
   ]
  },
  {
   "cell_type": "code",
   "execution_count": 226,
   "id": "9299a444-a17f-4af9-a266-24fa8de7c856",
   "metadata": {},
   "outputs": [],
   "source": [
    "task_landcover.start()"
   ]
  },
  {
   "cell_type": "markdown",
   "id": "b79ccfe6",
   "metadata": {
    "tags": []
   },
   "source": [
    "### Segundo"
   ]
  },
  {
   "cell_type": "code",
   "execution_count": 227,
   "id": "f83dc08c",
   "metadata": {
    "ExecuteTime": {
     "end_time": "2022-04-21T14:56:52.614719Z",
     "start_time": "2022-04-21T14:56:52.612590Z"
    }
   },
   "outputs": [],
   "source": [
    "img_rfe2 = img_final.select('elevation','NDVI_spring','NDVI_winter','NDVI_autumn','B1','NDGI','EVI_savg','B2','NDVI_savg','mNDWI','B4','B3','brightness',\n",
    "                           'NDSI','slope','NDBI','NDWI','wetness','B7','NDBrI','greenness','B5','EVI','B5_savg')"
   ]
  },
  {
   "cell_type": "code",
   "execution_count": 228,
   "id": "4eac431c",
   "metadata": {
    "ExecuteTime": {
     "end_time": "2022-04-21T14:57:02.244667Z",
     "start_time": "2022-04-21T14:56:52.615701Z"
    }
   },
   "outputs": [
    {
     "data": {
      "text/plain": [
       "['elevation',\n",
       " 'NDVI_spring',\n",
       " 'NDVI_winter',\n",
       " 'NDVI_autumn',\n",
       " 'B1',\n",
       " 'NDGI',\n",
       " 'EVI_savg',\n",
       " 'B2',\n",
       " 'NDVI_savg',\n",
       " 'mNDWI',\n",
       " 'B4',\n",
       " 'B3',\n",
       " 'brightness',\n",
       " 'NDSI',\n",
       " 'slope',\n",
       " 'NDBI',\n",
       " 'NDWI',\n",
       " 'wetness',\n",
       " 'B7',\n",
       " 'NDBrI',\n",
       " 'greenness',\n",
       " 'B5',\n",
       " 'EVI',\n",
       " 'B5_savg']"
      ]
     },
     "execution_count": 228,
     "metadata": {},
     "output_type": "execute_result"
    }
   ],
   "source": [
    "img_rfe2.bandNames().getInfo()"
   ]
  },
  {
   "cell_type": "code",
   "execution_count": 229,
   "id": "8767af17",
   "metadata": {
    "ExecuteTime": {
     "end_time": "2022-04-21T14:57:02.247903Z",
     "start_time": "2022-04-21T14:57:02.245755Z"
    }
   },
   "outputs": [],
   "source": [
    "data_rfe2 = img_rfe2.sampleRegions(**{\n",
    "    'collection': test1,\n",
    "    'properties': ['C_ID'],\n",
    "    'scale': 30,\n",
    "    'tileScale': 2,\n",
    "})"
   ]
  },
  {
   "cell_type": "code",
   "execution_count": 230,
   "id": "041fe9c7",
   "metadata": {
    "ExecuteTime": {
     "end_time": "2022-04-21T14:57:02.251423Z",
     "start_time": "2022-04-21T14:57:02.248809Z"
    }
   },
   "outputs": [],
   "source": [
    "sample4 = data_rfe2.randomColumn()\n",
    "split = 0.7"
   ]
  },
  {
   "cell_type": "code",
   "execution_count": 231,
   "id": "67d0f42a",
   "metadata": {
    "ExecuteTime": {
     "end_time": "2022-04-21T14:57:02.254549Z",
     "start_time": "2022-04-21T14:57:02.252629Z"
    }
   },
   "outputs": [],
   "source": [
    "training4 = sample4.filter(ee.Filter.lt('random', split))\n",
    "validation4= sample4.filter(ee.Filter.gte('random', split))"
   ]
  },
  {
   "cell_type": "code",
   "execution_count": 232,
   "id": "feacf205",
   "metadata": {
    "ExecuteTime": {
     "end_time": "2022-04-21T14:57:02.258057Z",
     "start_time": "2022-04-21T14:57:02.255818Z"
    }
   },
   "outputs": [],
   "source": [
    "bands_rfe2 = ['elevation','NDVI_spring','NDVI_winter','NDVI_autumn','B1','NDGI','EVI_savg','B2','NDVI_savg','mNDWI','B4','B3','brightness',\n",
    "                           'NDSI','slope','NDBI','NDWI','wetness','B7','NDBrI','greenness','B5','EVI','B5_savg']"
   ]
  },
  {
   "cell_type": "code",
   "execution_count": 233,
   "id": "069519c7",
   "metadata": {
    "ExecuteTime": {
     "end_time": "2022-04-21T14:57:02.261000Z",
     "start_time": "2022-04-21T14:57:02.259162Z"
    }
   },
   "outputs": [],
   "source": [
    "classifier_rfe2 = ee.Classifier.smileRandomForest(100).train(data_rfe2,label_train,bands_rfe2)"
   ]
  },
  {
   "cell_type": "code",
   "execution_count": 234,
   "id": "28b9712b",
   "metadata": {
    "ExecuteTime": {
     "end_time": "2022-04-21T14:57:02.263926Z",
     "start_time": "2022-04-21T14:57:02.262202Z"
    }
   },
   "outputs": [],
   "source": [
    "result_rfe2 = img_rfe.select(bands_rfe2).classify(classifier_rfe2)"
   ]
  },
  {
   "cell_type": "code",
   "execution_count": 235,
   "id": "0f7c6a93",
   "metadata": {
    "ExecuteTime": {
     "end_time": "2022-04-21T14:57:02.266581Z",
     "start_time": "2022-04-21T14:57:02.264973Z"
    }
   },
   "outputs": [],
   "source": [
    "explained_rfe2 = ee.Classifier.explain(classifier_rfe2)"
   ]
  },
  {
   "cell_type": "code",
   "execution_count": 236,
   "id": "8b9ec07b",
   "metadata": {
    "ExecuteTime": {
     "end_time": "2022-04-21T15:00:00.676300Z",
     "start_time": "2022-04-21T14:57:02.267758Z"
    }
   },
   "outputs": [],
   "source": [
    "#explained_rfe2.getInfo()"
   ]
  },
  {
   "cell_type": "code",
   "execution_count": 237,
   "id": "8de9ac2b",
   "metadata": {
    "ExecuteTime": {
     "end_time": "2022-04-21T15:00:00.679339Z",
     "start_time": "2022-04-21T15:00:00.677261Z"
    }
   },
   "outputs": [],
   "source": [
    "landcover_rfe2 = result_rfe2.set('classification_class_values', class_values2)\n",
    "landcover_rfe2 = landcover_rfe2.set('classification_class_palette',class_palette2)"
   ]
  },
  {
   "cell_type": "code",
   "execution_count": 238,
   "id": "e4bb7091",
   "metadata": {
    "ExecuteTime": {
     "end_time": "2022-04-21T15:00:13.104456Z",
     "start_time": "2022-04-21T15:00:00.680142Z"
    }
   },
   "outputs": [
    {
     "data": {
      "application/vnd.jupyter.widget-view+json": {
       "model_id": "140822b84fbb496fb71dde951d76047c",
       "version_major": 2,
       "version_minor": 0
      },
      "text/plain": [
       "Map(center=[-45, -70], controls=(WidgetControl(options=['position', 'transparent_bg'], widget=HBox(children=(T…"
      ]
     },
     "metadata": {},
     "output_type": "display_data"
    }
   ],
   "source": [
    "Map9.addLayer(landcover_rfe2,{}, 'Land cover rfe2' )\n",
    "Map9"
   ]
  },
  {
   "cell_type": "markdown",
   "id": "80760681",
   "metadata": {},
   "source": [
    "# Matrices de Confusión"
   ]
  },
  {
   "cell_type": "markdown",
   "id": "07276083",
   "metadata": {},
   "source": [
    "Primer mosaico Bruto"
   ]
  },
  {
   "cell_type": "code",
   "execution_count": 239,
   "id": "816e243a",
   "metadata": {
    "ExecuteTime": {
     "end_time": "2022-04-21T15:00:13.107464Z",
     "start_time": "2022-04-21T15:00:13.105509Z"
    }
   },
   "outputs": [],
   "source": [
    "#train_accuracy = classifier_QM.confusionMatrix()"
   ]
  },
  {
   "cell_type": "code",
   "execution_count": 240,
   "id": "f080ae8a",
   "metadata": {
    "ExecuteTime": {
     "end_time": "2022-04-21T15:00:23.742358Z",
     "start_time": "2022-04-21T15:00:13.108530Z"
    },
    "tags": []
   },
   "outputs": [],
   "source": [
    "#train_accuracy.getInfo()"
   ]
  },
  {
   "cell_type": "code",
   "execution_count": 241,
   "id": "e4aedfda",
   "metadata": {
    "ExecuteTime": {
     "end_time": "2022-04-21T15:00:23.939254Z",
     "start_time": "2022-04-21T15:00:23.939242Z"
    }
   },
   "outputs": [],
   "source": [
    "#train_accuracy.accuracy().getInfo()"
   ]
  },
  {
   "cell_type": "code",
   "execution_count": 242,
   "id": "80f232e4",
   "metadata": {
    "ExecuteTime": {
     "end_time": "2022-04-21T15:00:23.940236Z",
     "start_time": "2022-04-21T15:00:23.940226Z"
    },
    "tags": []
   },
   "outputs": [],
   "source": [
    "#train_accuracy.kappa().getInfo()"
   ]
  },
  {
   "cell_type": "code",
   "execution_count": 243,
   "id": "aa1cb040",
   "metadata": {
    "ExecuteTime": {
     "end_time": "2022-04-21T15:00:23.941080Z",
     "start_time": "2022-04-21T15:00:23.941069Z"
    },
    "tags": []
   },
   "outputs": [],
   "source": [
    "#train_accuracy.producersAccuracy().getInfo()"
   ]
  },
  {
   "cell_type": "code",
   "execution_count": 244,
   "id": "e39435bd",
   "metadata": {
    "ExecuteTime": {
     "end_time": "2022-04-21T15:00:23.941905Z",
     "start_time": "2022-04-21T15:00:23.941895Z"
    },
    "tags": []
   },
   "outputs": [],
   "source": [
    "#train_accuracy.consumersAccuracy().getInfo()"
   ]
  },
  {
   "cell_type": "code",
   "execution_count": 245,
   "id": "49453477",
   "metadata": {
    "ExecuteTime": {
     "end_time": "2022-04-21T15:00:23.943089Z",
     "start_time": "2022-04-21T15:00:23.943076Z"
    }
   },
   "outputs": [],
   "source": [
    "#validated = data_Val.classify(classifier_QM)"
   ]
  },
  {
   "cell_type": "code",
   "execution_count": 246,
   "id": "742278ad",
   "metadata": {
    "ExecuteTime": {
     "end_time": "2022-04-21T15:00:23.943707Z",
     "start_time": "2022-04-21T15:00:23.943692Z"
    }
   },
   "outputs": [],
   "source": [
    "# validated.first().getInfo()"
   ]
  },
  {
   "cell_type": "code",
   "execution_count": 247,
   "id": "5fcdd895",
   "metadata": {
    "ExecuteTime": {
     "end_time": "2022-04-21T15:00:23.944516Z",
     "start_time": "2022-04-21T15:00:23.944504Z"
    }
   },
   "outputs": [],
   "source": [
    "#test_accuracy = validated.errorMatrix('C_ID', 'classification')"
   ]
  },
  {
   "cell_type": "code",
   "execution_count": 248,
   "id": "cb216b8c",
   "metadata": {
    "ExecuteTime": {
     "end_time": "2022-04-21T15:00:23.945333Z",
     "start_time": "2022-04-21T15:00:23.945319Z"
    },
    "tags": []
   },
   "outputs": [],
   "source": [
    "#test_accuracy.getInfo()"
   ]
  },
  {
   "cell_type": "code",
   "execution_count": 249,
   "id": "0420f12a",
   "metadata": {
    "ExecuteTime": {
     "end_time": "2022-04-21T15:00:23.946291Z",
     "start_time": "2022-04-21T15:00:23.946280Z"
    }
   },
   "outputs": [],
   "source": [
    "#test_accuracy.accuracy().getInfo()"
   ]
  },
  {
   "cell_type": "code",
   "execution_count": 250,
   "id": "3ce130b9",
   "metadata": {
    "ExecuteTime": {
     "end_time": "2022-04-21T15:00:23.947103Z",
     "start_time": "2022-04-21T15:00:23.947093Z"
    }
   },
   "outputs": [],
   "source": [
    "#test_accuracy.kappa().getInfo()"
   ]
  },
  {
   "cell_type": "code",
   "execution_count": 251,
   "id": "4c0ccc58",
   "metadata": {
    "ExecuteTime": {
     "end_time": "2022-04-21T15:00:23.947950Z",
     "start_time": "2022-04-21T15:00:23.947940Z"
    },
    "tags": []
   },
   "outputs": [],
   "source": [
    "#test_accuracy.producersAccuracy().getInfo()"
   ]
  },
  {
   "cell_type": "code",
   "execution_count": 252,
   "id": "ed9904b9",
   "metadata": {
    "ExecuteTime": {
     "end_time": "2022-04-21T15:00:23.948870Z",
     "start_time": "2022-04-21T15:00:23.948859Z"
    },
    "tags": []
   },
   "outputs": [],
   "source": [
    "#test_accuracy.consumersAccuracy().getInfo()"
   ]
  },
  {
   "cell_type": "markdown",
   "id": "33747b41",
   "metadata": {},
   "source": [
    "Met Ba"
   ]
  },
  {
   "cell_type": "code",
   "execution_count": 253,
   "id": "19b18b02",
   "metadata": {
    "ExecuteTime": {
     "end_time": "2022-04-21T15:00:23.949662Z",
     "start_time": "2022-04-21T15:00:23.949649Z"
    }
   },
   "outputs": [],
   "source": [
    "#train_accuracy = classifier_ba.confusionMatrix()"
   ]
  },
  {
   "cell_type": "code",
   "execution_count": 254,
   "id": "4ebd2827",
   "metadata": {
    "ExecuteTime": {
     "end_time": "2022-04-21T15:00:23.950459Z",
     "start_time": "2022-04-21T15:00:23.950448Z"
    }
   },
   "outputs": [],
   "source": [
    "# train_accuracy.getInfo()"
   ]
  },
  {
   "cell_type": "code",
   "execution_count": 255,
   "id": "f0e88c8a",
   "metadata": {
    "ExecuteTime": {
     "end_time": "2022-04-21T15:00:23.951370Z",
     "start_time": "2022-04-21T15:00:23.951360Z"
    }
   },
   "outputs": [],
   "source": [
    "# train_accuracy.accuracy().getInfo()"
   ]
  },
  {
   "cell_type": "code",
   "execution_count": 256,
   "id": "6efdfca9",
   "metadata": {
    "ExecuteTime": {
     "end_time": "2022-04-21T15:00:23.952237Z",
     "start_time": "2022-04-21T15:00:23.952228Z"
    }
   },
   "outputs": [],
   "source": [
    "# train_accuracy.kappa().getInfo()"
   ]
  },
  {
   "cell_type": "code",
   "execution_count": 257,
   "id": "a14f5ecb",
   "metadata": {
    "ExecuteTime": {
     "end_time": "2022-04-21T15:00:23.953091Z",
     "start_time": "2022-04-21T15:00:23.953075Z"
    }
   },
   "outputs": [],
   "source": [
    "# train_accuracy.producersAccuracy().getInfo()"
   ]
  },
  {
   "cell_type": "code",
   "execution_count": 258,
   "id": "2b7b8be1",
   "metadata": {
    "ExecuteTime": {
     "end_time": "2022-04-21T15:00:23.953872Z",
     "start_time": "2022-04-21T15:00:23.953861Z"
    }
   },
   "outputs": [],
   "source": [
    "# train_accuracy.consumersAccuracy().getInfo()"
   ]
  },
  {
   "cell_type": "code",
   "execution_count": 259,
   "id": "c0fd37b3",
   "metadata": {
    "ExecuteTime": {
     "end_time": "2022-04-21T15:00:23.954697Z",
     "start_time": "2022-04-21T15:00:23.954686Z"
    }
   },
   "outputs": [],
   "source": [
    "# validated = data_Val.classify(classifier_ba)"
   ]
  },
  {
   "cell_type": "code",
   "execution_count": 260,
   "id": "c2c1546f",
   "metadata": {
    "ExecuteTime": {
     "end_time": "2022-04-21T15:00:23.955671Z",
     "start_time": "2022-04-21T15:00:23.955657Z"
    }
   },
   "outputs": [],
   "source": [
    "# validated.first().getInfo()"
   ]
  },
  {
   "cell_type": "code",
   "execution_count": 261,
   "id": "bde2a1f6",
   "metadata": {
    "ExecuteTime": {
     "end_time": "2022-04-21T15:00:23.956469Z",
     "start_time": "2022-04-21T15:00:23.956456Z"
    }
   },
   "outputs": [],
   "source": [
    "# test_accuracy = validated.errorMatrix('C_ID', 'classification')"
   ]
  },
  {
   "cell_type": "code",
   "execution_count": 262,
   "id": "0c4b3448",
   "metadata": {
    "ExecuteTime": {
     "end_time": "2022-04-21T15:00:23.957374Z",
     "start_time": "2022-04-21T15:00:23.957359Z"
    }
   },
   "outputs": [],
   "source": [
    "# test_accuracy.getInfo()"
   ]
  },
  {
   "cell_type": "code",
   "execution_count": 263,
   "id": "30095e1b",
   "metadata": {
    "ExecuteTime": {
     "end_time": "2022-04-21T15:00:23.958113Z",
     "start_time": "2022-04-21T15:00:23.958101Z"
    }
   },
   "outputs": [],
   "source": [
    "# test_accuracy.accuracy().getInfo()"
   ]
  },
  {
   "cell_type": "code",
   "execution_count": 264,
   "id": "98f12907",
   "metadata": {
    "ExecuteTime": {
     "end_time": "2022-04-21T15:00:23.958904Z",
     "start_time": "2022-04-21T15:00:23.958892Z"
    }
   },
   "outputs": [],
   "source": [
    "# test_accuracy.kappa().getInfo()"
   ]
  },
  {
   "cell_type": "code",
   "execution_count": 265,
   "id": "65cc2392",
   "metadata": {
    "ExecuteTime": {
     "end_time": "2022-04-21T15:00:23.959737Z",
     "start_time": "2022-04-21T15:00:23.959725Z"
    }
   },
   "outputs": [],
   "source": [
    "# test_accuracy.producersAccuracy().getInfo()"
   ]
  },
  {
   "cell_type": "code",
   "execution_count": 266,
   "id": "87c98074",
   "metadata": {
    "ExecuteTime": {
     "end_time": "2022-04-21T15:00:23.960479Z",
     "start_time": "2022-04-21T15:00:23.960469Z"
    }
   },
   "outputs": [],
   "source": [
    "# test_accuracy.consumersAccuracy().getInfo()"
   ]
  },
  {
   "cell_type": "markdown",
   "id": "151648c4",
   "metadata": {},
   "source": [
    "<!-- Met. RFE1 -->"
   ]
  },
  {
   "cell_type": "code",
   "execution_count": 267,
   "id": "582969a2",
   "metadata": {
    "ExecuteTime": {
     "end_time": "2022-04-21T15:00:23.961254Z",
     "start_time": "2022-04-21T15:00:23.961238Z"
    }
   },
   "outputs": [],
   "source": [
    "# train_accuracy = classifier_rfe.confusionMatrix()"
   ]
  },
  {
   "cell_type": "code",
   "execution_count": 268,
   "id": "ba4e5165",
   "metadata": {
    "ExecuteTime": {
     "end_time": "2022-04-21T15:00:23.962076Z",
     "start_time": "2022-04-21T15:00:23.962060Z"
    },
    "tags": []
   },
   "outputs": [],
   "source": [
    "# train_accuracy.getInfo()"
   ]
  },
  {
   "cell_type": "code",
   "execution_count": 269,
   "id": "f7fe1b32",
   "metadata": {
    "ExecuteTime": {
     "end_time": "2022-04-21T15:00:23.962978Z",
     "start_time": "2022-04-21T15:00:23.962967Z"
    }
   },
   "outputs": [],
   "source": [
    "# train_accuracy.accuracy().getInfo()"
   ]
  },
  {
   "cell_type": "code",
   "execution_count": 270,
   "id": "190cfb11",
   "metadata": {
    "ExecuteTime": {
     "end_time": "2022-04-21T15:00:23.963912Z",
     "start_time": "2022-04-21T15:00:23.963898Z"
    }
   },
   "outputs": [],
   "source": [
    "# train_accuracy.kappa().getInfo()"
   ]
  },
  {
   "cell_type": "code",
   "execution_count": 271,
   "id": "89cac4c6",
   "metadata": {
    "ExecuteTime": {
     "end_time": "2022-04-21T15:00:23.964462Z",
     "start_time": "2022-04-21T15:00:23.964454Z"
    },
    "tags": []
   },
   "outputs": [],
   "source": [
    "# train_accuracy.producersAccuracy().getInfo()"
   ]
  },
  {
   "cell_type": "code",
   "execution_count": 272,
   "id": "d8024ff9",
   "metadata": {
    "ExecuteTime": {
     "end_time": "2022-04-21T15:00:23.965493Z",
     "start_time": "2022-04-21T15:00:23.965479Z"
    },
    "tags": []
   },
   "outputs": [],
   "source": [
    "# train_accuracy.consumersAccuracy().getInfo()"
   ]
  },
  {
   "cell_type": "code",
   "execution_count": 273,
   "id": "4581b1b1",
   "metadata": {
    "ExecuteTime": {
     "end_time": "2022-04-21T15:00:23.966538Z",
     "start_time": "2022-04-21T15:00:23.966524Z"
    }
   },
   "outputs": [],
   "source": [
    "# validated = data_Val.classify(classifier_rfe)"
   ]
  },
  {
   "cell_type": "code",
   "execution_count": 274,
   "id": "6fbe9d6d",
   "metadata": {
    "ExecuteTime": {
     "end_time": "2022-04-21T15:00:23.967317Z",
     "start_time": "2022-04-21T15:00:23.967307Z"
    }
   },
   "outputs": [],
   "source": [
    "# validated.first().getInfo()"
   ]
  },
  {
   "cell_type": "code",
   "execution_count": 275,
   "id": "01783837",
   "metadata": {
    "ExecuteTime": {
     "end_time": "2022-04-21T15:00:23.968084Z",
     "start_time": "2022-04-21T15:00:23.968068Z"
    }
   },
   "outputs": [],
   "source": [
    "# test_accuracy = validated.errorMatrix('C_ID', 'classification')"
   ]
  },
  {
   "cell_type": "code",
   "execution_count": 276,
   "id": "10c50612",
   "metadata": {
    "ExecuteTime": {
     "end_time": "2022-04-21T15:00:23.968718Z",
     "start_time": "2022-04-21T15:00:23.968711Z"
    },
    "tags": []
   },
   "outputs": [],
   "source": [
    "# test_accuracy.getInfo()"
   ]
  },
  {
   "cell_type": "code",
   "execution_count": 277,
   "id": "ffa320db",
   "metadata": {
    "ExecuteTime": {
     "end_time": "2022-04-21T15:00:23.969381Z",
     "start_time": "2022-04-21T15:00:23.969374Z"
    }
   },
   "outputs": [],
   "source": [
    "# test_accuracy.accuracy().getInfo()"
   ]
  },
  {
   "cell_type": "code",
   "execution_count": 278,
   "id": "98248e32",
   "metadata": {
    "ExecuteTime": {
     "end_time": "2022-04-21T15:00:23.970005Z",
     "start_time": "2022-04-21T15:00:23.969995Z"
    }
   },
   "outputs": [],
   "source": [
    "# test_accuracy.kappa().getInfo()"
   ]
  },
  {
   "cell_type": "code",
   "execution_count": 279,
   "id": "8854bfd4",
   "metadata": {
    "ExecuteTime": {
     "end_time": "2022-04-21T15:00:23.971158Z",
     "start_time": "2022-04-21T15:00:23.971144Z"
    },
    "tags": []
   },
   "outputs": [],
   "source": [
    "# test_accuracy.producersAccuracy().getInfo()"
   ]
  },
  {
   "cell_type": "code",
   "execution_count": 280,
   "id": "2b6eff4f",
   "metadata": {
    "ExecuteTime": {
     "end_time": "2022-04-21T15:00:23.971761Z",
     "start_time": "2022-04-21T15:00:23.971754Z"
    },
    "tags": []
   },
   "outputs": [],
   "source": [
    "# test_accuracy.consumersAccuracy().getInfo()"
   ]
  },
  {
   "cell_type": "markdown",
   "id": "feeedf5f",
   "metadata": {},
   "source": [
    "<!-- Met. RFE2 -->"
   ]
  },
  {
   "cell_type": "code",
   "execution_count": 281,
   "id": "02c22694",
   "metadata": {
    "ExecuteTime": {
     "end_time": "2022-04-21T15:00:23.972571Z",
     "start_time": "2022-04-21T15:00:23.972564Z"
    }
   },
   "outputs": [],
   "source": [
    "# train_accuracy = classifier_rfe2.confusionMatrix()"
   ]
  },
  {
   "cell_type": "code",
   "execution_count": 282,
   "id": "0ddbf7a5",
   "metadata": {
    "ExecuteTime": {
     "end_time": "2022-04-21T15:00:23.973622Z",
     "start_time": "2022-04-21T15:00:23.973611Z"
    },
    "tags": []
   },
   "outputs": [],
   "source": [
    "# train_accuracy.getInfo()"
   ]
  },
  {
   "cell_type": "code",
   "execution_count": 283,
   "id": "7b5cdd2b",
   "metadata": {
    "ExecuteTime": {
     "end_time": "2022-04-21T15:00:23.974545Z",
     "start_time": "2022-04-21T15:00:23.974532Z"
    }
   },
   "outputs": [],
   "source": [
    "# train_accuracy.accuracy().getInfo()"
   ]
  },
  {
   "cell_type": "code",
   "execution_count": 284,
   "id": "d9ed32ae",
   "metadata": {
    "ExecuteTime": {
     "end_time": "2022-04-21T15:00:23.975236Z",
     "start_time": "2022-04-21T15:00:23.975226Z"
    }
   },
   "outputs": [],
   "source": [
    "# train_accuracy.kappa().getInfo()"
   ]
  },
  {
   "cell_type": "code",
   "execution_count": 285,
   "id": "4e9a57cc",
   "metadata": {
    "ExecuteTime": {
     "end_time": "2022-04-21T15:00:23.976027Z",
     "start_time": "2022-04-21T15:00:23.976017Z"
    },
    "tags": []
   },
   "outputs": [],
   "source": [
    "# train_accuracy.producersAccuracy().getInfo()"
   ]
  },
  {
   "cell_type": "code",
   "execution_count": 286,
   "id": "477c99f0",
   "metadata": {
    "ExecuteTime": {
     "end_time": "2022-04-21T15:00:23.976797Z",
     "start_time": "2022-04-21T15:00:23.976786Z"
    },
    "tags": []
   },
   "outputs": [],
   "source": [
    "# train_accuracy.consumersAccuracy().getInfo()"
   ]
  },
  {
   "cell_type": "code",
   "execution_count": 287,
   "id": "b2532485",
   "metadata": {
    "ExecuteTime": {
     "end_time": "2022-04-21T15:00:23.977326Z",
     "start_time": "2022-04-21T15:00:23.977319Z"
    }
   },
   "outputs": [],
   "source": [
    "# validated = data_Val.classify(classifier_rfe2)"
   ]
  },
  {
   "cell_type": "code",
   "execution_count": 288,
   "id": "948b0d25",
   "metadata": {
    "ExecuteTime": {
     "end_time": "2022-04-21T15:00:23.978008Z",
     "start_time": "2022-04-21T15:00:23.978001Z"
    }
   },
   "outputs": [],
   "source": [
    "# validated.first().getInfo()"
   ]
  },
  {
   "cell_type": "code",
   "execution_count": 289,
   "id": "cdd4567e",
   "metadata": {
    "ExecuteTime": {
     "end_time": "2022-04-21T15:00:23.978870Z",
     "start_time": "2022-04-21T15:00:23.978860Z"
    }
   },
   "outputs": [],
   "source": [
    "# test_accuracy = validated.errorMatrix('C_ID', 'classification')"
   ]
  },
  {
   "cell_type": "code",
   "execution_count": 290,
   "id": "5da106f4",
   "metadata": {
    "ExecuteTime": {
     "end_time": "2022-04-21T15:00:23.979449Z",
     "start_time": "2022-04-21T15:00:23.979441Z"
    },
    "tags": []
   },
   "outputs": [],
   "source": [
    "# test_accuracy.getInfo()"
   ]
  },
  {
   "cell_type": "code",
   "execution_count": 291,
   "id": "220e034c",
   "metadata": {
    "ExecuteTime": {
     "end_time": "2022-04-21T15:00:23.980219Z",
     "start_time": "2022-04-21T15:00:23.980212Z"
    }
   },
   "outputs": [],
   "source": [
    "# test_accuracy.accuracy().getInfo()"
   ]
  },
  {
   "cell_type": "code",
   "execution_count": 292,
   "id": "a3873d3d",
   "metadata": {
    "ExecuteTime": {
     "end_time": "2022-04-21T15:00:23.980868Z",
     "start_time": "2022-04-21T15:00:23.980861Z"
    }
   },
   "outputs": [],
   "source": [
    "# test_accuracy.kappa().getInfo()"
   ]
  },
  {
   "cell_type": "code",
   "execution_count": 293,
   "id": "b2dcd91d",
   "metadata": {
    "ExecuteTime": {
     "end_time": "2022-04-21T15:00:23.981703Z",
     "start_time": "2022-04-21T15:00:23.981687Z"
    },
    "tags": []
   },
   "outputs": [],
   "source": [
    "# test_accuracy.producersAccuracy().getInfo()"
   ]
  },
  {
   "cell_type": "code",
   "execution_count": 294,
   "id": "2d364239",
   "metadata": {
    "ExecuteTime": {
     "end_time": "2022-04-21T15:00:23.982465Z",
     "start_time": "2022-04-21T15:00:23.982455Z"
    },
    "tags": []
   },
   "outputs": [],
   "source": [
    "# test_accuracy.consumersAccuracy().getInfo()"
   ]
  }
 ],
 "metadata": {
  "kernelspec": {
   "display_name": "Python 3 (ipykernel)",
   "language": "python",
   "name": "python3"
  },
  "language_info": {
   "codemirror_mode": {
    "name": "ipython",
    "version": 3
   },
   "file_extension": ".py",
   "mimetype": "text/x-python",
   "name": "python",
   "nbconvert_exporter": "python",
   "pygments_lexer": "ipython3",
   "version": "3.8.12"
  },
  "toc": {
   "base_numbering": 1,
   "nav_menu": {},
   "number_sections": true,
   "sideBar": true,
   "skip_h1_title": false,
   "title_cell": "Table of Contents",
   "title_sidebar": "Contents",
   "toc_cell": false,
   "toc_position": {
    "height": "calc(100% - 180px)",
    "left": "10px",
    "top": "150px",
    "width": "384px"
   },
   "toc_section_display": true,
   "toc_window_display": true
  },
  "varInspector": {
   "cols": {
    "lenName": 16,
    "lenType": 16,
    "lenVar": 40
   },
   "kernels_config": {
    "python": {
     "delete_cmd_postfix": "",
     "delete_cmd_prefix": "del ",
     "library": "var_list.py",
     "varRefreshCmd": "print(var_dic_list())"
    },
    "r": {
     "delete_cmd_postfix": ") ",
     "delete_cmd_prefix": "rm(",
     "library": "var_list.r",
     "varRefreshCmd": "cat(var_dic_list()) "
    }
   },
   "types_to_exclude": [
    "module",
    "function",
    "builtin_function_or_method",
    "instance",
    "_Feature"
   ],
   "window_display": false
  }
 },
 "nbformat": 4,
 "nbformat_minor": 5
}
