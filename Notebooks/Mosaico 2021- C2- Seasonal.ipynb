{
 "cells": [
  {
   "cell_type": "markdown",
   "id": "880edeb3",
   "metadata": {
    "tags": []
   },
   "source": [
    "# Mosaico 2021 C2"
   ]
  },
  {
   "cell_type": "markdown",
   "id": "6f9b998a",
   "metadata": {},
   "source": [
    "Script trabajado por Francisco Albornoz/ \n",
    "Objetivo:   - Mejorar la temporalidad de los mosaicos.\n",
    "            - Usar la colección corregida.\n",
    "            "
   ]
  },
  {
   "cell_type": "markdown",
   "id": "f8f94a76",
   "metadata": {},
   "source": [
    "2022-03-31"
   ]
  },
  {
   "cell_type": "markdown",
   "id": "4a95b5bb",
   "metadata": {},
   "source": [
    "## Librerías"
   ]
  },
  {
   "cell_type": "code",
   "execution_count": 1,
   "id": "ce6c4698",
   "metadata": {
    "ExecuteTime": {
     "end_time": "2022-08-31T18:22:47.099482Z",
     "start_time": "2022-08-31T18:22:45.449561Z"
    }
   },
   "outputs": [
    {
     "name": "stderr",
     "output_type": "stream",
     "text": [
      "C:\\Users\\USUARIO\\anaconda3\\envs\\gee\\lib\\site-packages\\scipy\\__init__.py:146: UserWarning: A NumPy version >=1.16.5 and <1.23.0 is required for this version of SciPy (detected version 1.23.1\n",
      "  warnings.warn(f\"A NumPy version >={np_minversion} and <{np_maxversion}\"\n"
     ]
    }
   ],
   "source": [
    "import ee \n",
    "import geemap\n",
    "import geemap.chart as chart\n",
    "import os\n",
    "import folium\n",
    "# import xarray_leaflet\n",
    "import rasterio \n",
    "from rasterio import plot\n",
    "import matplotlib.pyplot as plt\n",
    "import numpy as np\n",
    "import pandas as pd\n",
    "import seaborn as sns\n",
    "from scipy import stats\n",
    "from scipy.stats import pearsonr\n",
    "%matplotlib inline"
   ]
  },
  {
   "cell_type": "code",
   "execution_count": 2,
   "id": "8a191949",
   "metadata": {
    "ExecuteTime": {
     "end_time": "2022-08-31T18:22:56.483453Z",
     "start_time": "2022-08-31T18:22:47.101379Z"
    }
   },
   "outputs": [],
   "source": [
    "Map = geemap.Map(center = [-45, -70], zoom = 4)\n",
    "Map1 = geemap.Map(center = [-45, -70], zoom = 4)\n",
    "Map2 = geemap.Map(center = [-45, -70], zoom = 4)\n",
    "Map3 = geemap.Map(center = [-45, -70], zoom = 4)\n",
    "Map4 = geemap.Map(center = [-45, -70], zoom = 4)\n",
    "Map5 = geemap.Map(center = [-45, -70], zoom = 4)\n",
    "Map6 = geemap.Map(center = [-45, -70], zoom = 4)\n",
    "Map7 = geemap.Map(center = [-45, -70], zoom = 4)\n",
    "Map8 = geemap.Map(center = [-45, -70], zoom = 4)\n",
    "Map9 = geemap.Map(center = [-45, -70], zoom = 4)\n",
    "Map10 = geemap.Map(center = [-45, -70], zoom = 4)"
   ]
  },
  {
   "cell_type": "markdown",
   "id": "804e19a0",
   "metadata": {},
   "source": [
    "## Área de Estudio"
   ]
  },
  {
   "cell_type": "code",
   "execution_count": 3,
   "id": "d29d73bf",
   "metadata": {
    "ExecuteTime": {
     "end_time": "2022-08-31T18:22:56.701432Z",
     "start_time": "2022-08-31T18:22:56.486499Z"
    }
   },
   "outputs": [],
   "source": [
    "work_dir = os.path.expanduser('../Data/')\n",
    "patagonia = os.path.join(work_dir, 'patagonia_geo.shp')\n",
    "patagonia_grande = geemap.shp_to_ee(patagonia)"
   ]
  },
  {
   "cell_type": "code",
   "execution_count": 4,
   "id": "44fe4e9b",
   "metadata": {
    "ExecuteTime": {
     "end_time": "2022-08-31T18:24:23.453639Z",
     "start_time": "2022-08-31T18:24:23.445594Z"
    },
    "tags": []
   },
   "outputs": [],
   "source": [
    "geometry_exp = ee.Geometry.Polygon(\n",
    "        [[[-72.56281773604495, -33.81999514196144],\n",
    "          [-72.96381871260745, -35.294382843203024],\n",
    "          [-73.27692906416995, -35.25850698608905],\n",
    "          [-74.15583531416995, -38.13757615203617],\n",
    "          [-73.96357457198245, -38.16349478321529],\n",
    "          [-74.41603250978783, -39.59214901926122],\n",
    "          [-73.71840067385033, -39.70212049569608],\n",
    "          [-74.48057965994737, -41.961233926702086],\n",
    "          [-76.23199334221133, -46.599308425949715],\n",
    "          [-75.71838250236758, -46.6705186900265],\n",
    "          [-76.31583416780423, -48.08335993023956],\n",
    "          [-75.6739504332226, -48.17601084778724],\n",
    "          [-76.1812028986966, -49.3089458997328],\n",
    "          [-75.8516130549466, -49.35190435466257],\n",
    "          [-75.88182545729035, -49.42252520588146],\n",
    "          [-75.62776661939972, -49.4593908439046],\n",
    "          [-75.87838309772656, -50.0286830263256],\n",
    "          [-75.4746355391328, -50.08951678614621],\n",
    "          [-75.54325576346766, -50.23909657453096],\n",
    "          [-75.77780697097086, -50.76007049594944],\n",
    "          [-75.16119930495523, -50.84458853545005],\n",
    "          [-75.38504574050211, -51.344039508567974],\n",
    "          [-75.5541538866841, -51.71140521484993],\n",
    "          [-75.18336531246536, -51.75648162278235],\n",
    "          [-75.47788882049618, -52.3659753295982],\n",
    "          [-74.75894718310815, -52.46884703800526],\n",
    "          [-75.08565455837835, -53.06208069103826],\n",
    "          [-74.55801479059262, -53.126414996444055],\n",
    "          [-74.81690883977036, -53.6371915734125],\n",
    "          [-73.44408000172288, -53.83741753537409],\n",
    "          [-73.50862467945726, -53.95798563315933],\n",
    "          [-73.45231974781663, -53.967680681913386],\n",
    "          [-73.53197062672288, -54.11766576333605],\n",
    "          [-73.77219189508037, -54.57485104154676],\n",
    "          [-72.34049166499341, -54.77775087176573],\n",
    "          [-72.47759402717024, -55.03231503944354],\n",
    "          [-71.05285526571967, -55.24340674895388],\n",
    "          [-71.08306766806342, -55.29113504937561],\n",
    "          [-69.81960741798575, -55.47109132991434],\n",
    "          [-69.85119311134513, -55.51932330880519],\n",
    "          [-69.68227831642325, -55.544194128455445],\n",
    "          [-69.79214159767325, -55.75341614311607],\n",
    "          [-66.85410518726452, -56.21137383375629],\n",
    "          [-66.30968752348785, -55.25322454720416],\n",
    "          [-65.44176760161285, -55.378260612328376],\n",
    "          [-65.29222191220039, -55.084940556988364],\n",
    "          [-63.8145607793879, -55.29503930747886],\n",
    "          [-63.4410256231379, -54.559610949790994],\n",
    "          [-66.01731956845039, -54.18844646199444],\n",
    "          [-65.92942894345039, -53.97576673331468],\n",
    "          [-67.35765159970039, -53.77173637481835],\n",
    "          [-66.83490788218774, -52.56216102836118],\n",
    "          [-68.29059635875024, -52.351280557744616],\n",
    "          [-67.13664467133525, -49.5665018755825],\n",
    "          [-65.6891959408665, -49.77447361491692],\n",
    "          [-64.6040407061826, -46.886773053508534],\n",
    "          [-66.07346209290135, -46.670468623465915],\n",
    "          [-65.60651222417681, -45.29237148760689],\n",
    "          [-64.13159767339556, -45.51413819831776],\n",
    "          [-63.11762183127383, -42.44210625114028],\n",
    "          [-61.64820044455508, -42.65254570178212],\n",
    "          [-60.691700635610566, -39.58656313087865],\n",
    "          [-60.612049756704316, -39.597145764356114],\n",
    "          [-60.214053037778356, -38.26345264755797],\n",
    "          [-62.338430585556544, -37.86345563921212],\n",
    "          [-62.431814374619044, -38.13616213643378],\n",
    "          [-63.880475463562526, -37.8656239671591],\n",
    "          [-63.965619506531276, -38.12752037872568],\n",
    "          [-65.43863114657343, -37.86678770192114],\n",
    "          [-65.52652177157343, -38.12867996539086],\n",
    "          [-66.31753739657343, -37.98811028708228],\n",
    "          [-65.98609312949165, -36.82548737245019],\n",
    "          [-68.06866521074468, -36.43149799324939],\n",
    "          [-68.16204899980718, -36.70723234878123],\n",
    "          [-69.00250310136968, -36.55294237984414],\n",
    "          [-68.66838285254276, -35.38834808765389],\n",
    "          [-70.73190167990279, -35.008946233837705],\n",
    "          [-70.82528546896529, -35.29190694633577],\n",
    "          [-71.68771222677779, -35.11685679848462],\n",
    "          [-71.37460187521529, -33.95679291780399],\n",
    "          [-72.53365949240279, -33.733238932504804]]])"
   ]
  },
  {
   "cell_type": "markdown",
   "id": "7906a05e",
   "metadata": {},
   "source": [
    "## Funciones"
   ]
  },
  {
   "cell_type": "markdown",
   "id": "d279e816",
   "metadata": {},
   "source": [
    "### Visualizaciones"
   ]
  },
  {
   "cell_type": "code",
   "execution_count": 5,
   "id": "44a13bcf",
   "metadata": {
    "ExecuteTime": {
     "end_time": "2022-08-31T18:22:57.633779Z",
     "start_time": "2022-08-31T18:22:56.704327Z"
    }
   },
   "outputs": [],
   "source": [
    "import geemap.colormaps as cm"
   ]
  },
  {
   "cell_type": "code",
   "execution_count": 6,
   "id": "767439f1",
   "metadata": {
    "ExecuteTime": {
     "end_time": "2022-08-31T18:22:57.639774Z",
     "start_time": "2022-08-31T18:22:57.636984Z"
    }
   },
   "outputs": [],
   "source": [
    "color_ndvi = cm.palettes.ndvi\n",
    "color_ndwi = cm.palettes.ndwi\n",
    "color_terrain = cm.palettes.terrain\n",
    "color_glaciar = cm.palettes.PuBuGn_r\n",
    "color_nubes = cm.palettes.inferno"
   ]
  },
  {
   "cell_type": "code",
   "execution_count": 7,
   "id": "40d7a38c",
   "metadata": {
    "ExecuteTime": {
     "end_time": "2022-08-31T18:22:57.643450Z",
     "start_time": "2022-08-31T18:22:57.641277Z"
    }
   },
   "outputs": [],
   "source": [
    "vizParams = {\n",
    "  'bands': ['B5', 'B4', 'B3'],\n",
    "  'min': 0,\n",
    "  'max': 0.5,\n",
    "  'gamma': [0.95, 1.1, 1]\n",
    "}"
   ]
  },
  {
   "cell_type": "code",
   "execution_count": 8,
   "id": "bba4e83e",
   "metadata": {
    "ExecuteTime": {
     "end_time": "2022-08-31T18:22:57.649461Z",
     "start_time": "2022-08-31T18:22:57.646254Z"
    }
   },
   "outputs": [],
   "source": [
    "vizParams_m = {\n",
    "  'bands': ['B5', 'B4', 'B3'],\n",
    "  'min': 0,\n",
    "  'max': 0.6,\n",
    "  'gamma': [1, 1, 1]\n",
    "}"
   ]
  },
  {
   "cell_type": "code",
   "execution_count": 9,
   "id": "425e9acb",
   "metadata": {
    "ExecuteTime": {
     "end_time": "2022-08-31T18:22:57.652688Z",
     "start_time": "2022-08-31T18:22:57.650718Z"
    }
   },
   "outputs": [],
   "source": [
    "vis_nieve = {\n",
    "  'bands': ['B6', 'B4', 'B3'],\n",
    "  'min': 0,\n",
    "  'max': 0.5,\n",
    "  'gamma': [0.95, 1.1, 1]\n",
    "}"
   ]
  },
  {
   "cell_type": "markdown",
   "id": "280c0953",
   "metadata": {},
   "source": [
    "### Factores"
   ]
  },
  {
   "cell_type": "code",
   "execution_count": 10,
   "id": "deafb70d",
   "metadata": {
    "ExecuteTime": {
     "end_time": "2022-08-31T18:22:57.656361Z",
     "start_time": "2022-08-31T18:22:57.654140Z"
    }
   },
   "outputs": [],
   "source": [
    "def addDate(image):\n",
    "    img_date = ee.Date(image.date())\n",
    "    img_date = ee.Number.parse(img_date.format('YYYYMM'))\n",
    "    return image.addBands(ee.Image(img_date).rename('date').toInt())"
   ]
  },
  {
   "cell_type": "code",
   "execution_count": 11,
   "id": "a8141139-e76c-4470-bf66-624ff6e0e4a0",
   "metadata": {},
   "outputs": [],
   "source": [
    "def addYear(image):\n",
    "    img_year = ee.Date(image.date())\n",
    "    img_year = ee.Number.parse(img_year.format('YYYY'))\n",
    "    return image.addBands(ee.Image(img_year).rename('year').toInt())"
   ]
  },
  {
   "cell_type": "code",
   "execution_count": 35,
   "id": "749f5520-7348-4559-ad7b-1bf37006bef5",
   "metadata": {},
   "outputs": [],
   "source": [
    "def addMonth(image):\n",
    "    img_month = ee.Date(image.date())\n",
    "    img_month = ee.Number.parse(img_month.format('M'))\n",
    "    return image.addBands(ee.Image(img_month).rename('month').toInt())"
   ]
  },
  {
   "cell_type": "code",
   "execution_count": 13,
   "id": "2b58f0e6",
   "metadata": {
    "ExecuteTime": {
     "end_time": "2022-08-31T18:22:57.660379Z",
     "start_time": "2022-08-31T18:22:57.657758Z"
    }
   },
   "outputs": [],
   "source": [
    "def ScaleFactors(image):\n",
    "    opticalBands = image.select('SR_B.').multiply(0.0000275).add(-0.2)\n",
    "    return image.addBands(opticalBands, None, True)"
   ]
  },
  {
   "cell_type": "code",
   "execution_count": 14,
   "id": "840b2004",
   "metadata": {
    "ExecuteTime": {
     "end_time": "2022-08-31T18:22:57.664038Z",
     "start_time": "2022-08-31T18:22:57.661628Z"
    }
   },
   "outputs": [],
   "source": [
    "def add_ee_layer(self, ee_image_object, vis_params, name):\n",
    "  map_id_dict = ee.Image(ee_image_object).getMapId(vis_params)\n",
    "  folium.raster_layers.TileLayer(\n",
    "      tiles=map_id_dict['tile_fetcher'].url_format,\n",
    "      attr='Map Data &copy; <a href=\"https://earthengine.google.com/\">Google Earth Engine</a>',\n",
    "      name=name,\n",
    "      overlay=True,\n",
    "      control=True\n",
    "  ).add_to(self)\n",
    "\n",
    "folium.Map.add_ee_layer = add_ee_layer"
   ]
  },
  {
   "cell_type": "code",
   "execution_count": 15,
   "id": "2d57872a",
   "metadata": {
    "ExecuteTime": {
     "end_time": "2022-08-31T18:22:57.667412Z",
     "start_time": "2022-08-31T18:22:57.665277Z"
    }
   },
   "outputs": [],
   "source": [
    "def rename(image):\n",
    "    bandas = (['B1', 'B2', 'B3', 'B4', \n",
    "                           'B5', 'B6', 'B7', 'SR_QA_AEROSOL', \n",
    "                           'B10', 'ST_ATRAN', 'ST_CDIST', 'ST_DRAD', \n",
    "                           'ST_EMIS', 'ST_EMSD', 'ST_QA', 'ST_TRAD', \n",
    "                           'ST_URAD', 'QA_PIXEL', 'QA_RADSAT'])\n",
    "    return image.rename(bandas)"
   ]
  },
  {
   "cell_type": "markdown",
   "id": "0a697690",
   "metadata": {},
   "source": [
    "### Índices"
   ]
  },
  {
   "cell_type": "markdown",
   "id": "38e79a1e",
   "metadata": {},
   "source": [
    "**1) Normalized vegetation Index**\n",
    "\\begin{equation}NDVI = (NIR - RED)/(NIR + RED) | Rouse et al.\n",
    "\\end{equation}"
   ]
  },
  {
   "cell_type": "code",
   "execution_count": 16,
   "id": "efd47bb1",
   "metadata": {
    "ExecuteTime": {
     "end_time": "2022-08-31T18:22:57.670932Z",
     "start_time": "2022-08-31T18:22:57.668879Z"
    }
   },
   "outputs": [],
   "source": [
    "def addNDVI(image): \n",
    "    ndvi = image.normalizedDifference(['B5', 'B4']).rename('NDVI')\n",
    "    return image.addBands(ndvi)"
   ]
  },
  {
   "cell_type": "markdown",
   "id": "168e05c7",
   "metadata": {},
   "source": [
    "**2) Enhanced Vegetation Index** \n",
    "\\begin{equation} EVI= 2,5((NIR - RED)/(NIR + 6 RED - 7,5 BLUE + 1)) | Liu , Huete. \\end{equation}"
   ]
  },
  {
   "cell_type": "code",
   "execution_count": 17,
   "id": "6ba4f3ae",
   "metadata": {
    "ExecuteTime": {
     "end_time": "2022-08-31T18:22:57.674793Z",
     "start_time": "2022-08-31T18:22:57.672441Z"
    }
   },
   "outputs": [],
   "source": [
    "def addEVI(image):\n",
    "    evi = image.expression(\n",
    "        '2.5*((b5 - b4)/(b5 + 6*b4 - 7.5*b2 + 1))', {\n",
    "            'b2':image.select('B2'),\n",
    "            'b4':image.select('B4'),\n",
    "            'b5':image.select('B5')\n",
    "        }) \n",
    "    evi = evi.rename('EVI')\n",
    "    return image.addBands(evi)"
   ]
  },
  {
   "cell_type": "markdown",
   "id": "c26aea67",
   "metadata": {},
   "source": [
    "**3) Soil adjusted vegetation Index**\n",
    "\\begin{equation}\n",
    "SAVI = ((NIR - RED)/(NIR + RED + 0,5 )) * (1,5)    |   Huete\n",
    "\\end{equation}"
   ]
  },
  {
   "cell_type": "code",
   "execution_count": 18,
   "id": "2417d9dd",
   "metadata": {
    "ExecuteTime": {
     "end_time": "2022-08-31T18:22:57.678290Z",
     "start_time": "2022-08-31T18:22:57.676189Z"
    }
   },
   "outputs": [],
   "source": [
    "def addSAVI(image):\n",
    "    savi = image.expression(\n",
    "        '((b5 - b4)/(b5 + b4 + 0.5))*1.5', {\n",
    "            'b4':image.select('B4'),\n",
    "            'b5':image.select('B5')\n",
    "        }) \n",
    "    savi= savi.rename('SAVI')\n",
    "    return image.addBands(savi)"
   ]
  },
  {
   "cell_type": "markdown",
   "id": "e00f3f0c",
   "metadata": {},
   "source": [
    "**4) Modified Soil adjusted vegetation Index **\n",
    "\n",
    "\n",
    "\\begin{equation} MSAVI2 = (2NIR + 1) - SQRT((2NIR +1))^2 - 8(NIR - RED)))/2   \n",
    "| Qi et al. \\end{equation} "
   ]
  },
  {
   "cell_type": "code",
   "execution_count": 19,
   "id": "62f34866",
   "metadata": {
    "ExecuteTime": {
     "end_time": "2022-08-31T18:22:57.681775Z",
     "start_time": "2022-08-31T18:22:57.679741Z"
    }
   },
   "outputs": [],
   "source": [
    "def addMSAVI2(image):\n",
    "    msavi = image.expression(\n",
    "        '(2*b5 + 1 - (sqrt((2*b5 + 1)**2 - (8*(b5-b4)))))', {\n",
    "            'b4':image.select('B4'),\n",
    "            'b5':image.select('B5')\n",
    "        })\n",
    "    msavi= msavi.rename('MSAVI2')\n",
    "    return image.addBands(msavi)"
   ]
  },
  {
   "cell_type": "markdown",
   "id": "94e7c03e",
   "metadata": {},
   "source": [
    "**5) Normalized water Index**\n",
    "\n",
    "\\begin{equation} NDWI = (NIR - SWIR) / (NIR + SWIR)  | Gao \\end{equation}"
   ]
  },
  {
   "cell_type": "code",
   "execution_count": 20,
   "id": "9c9241b4",
   "metadata": {
    "ExecuteTime": {
     "end_time": "2022-08-31T18:22:57.685186Z",
     "start_time": "2022-08-31T18:22:57.683262Z"
    }
   },
   "outputs": [],
   "source": [
    "def addNDWI(image):\n",
    "    ndwi = image.normalizedDifference(['B5','B6']).rename('NDWI')\n",
    "    return image.addBands(ndwi)"
   ]
  },
  {
   "cell_type": "markdown",
   "id": "7d93ada3",
   "metadata": {},
   "source": [
    "**6) Modified Normalized water Index**\n",
    "\\begin{equation} mNDWI = (GREEN - SWIR) / (GREEN + SWIR)  | Xu \\end{equation}"
   ]
  },
  {
   "cell_type": "code",
   "execution_count": 21,
   "id": "45e2a03d",
   "metadata": {
    "ExecuteTime": {
     "end_time": "2022-08-31T18:22:57.688700Z",
     "start_time": "2022-08-31T18:22:57.686514Z"
    }
   },
   "outputs": [],
   "source": [
    "def addmNDWI(image):\n",
    "    mndwi = image.normalizedDifference(['B3','B6']).rename('mNDWI')\n",
    "    return image.addBands(mndwi)"
   ]
  },
  {
   "cell_type": "markdown",
   "id": "1a8d1aa2",
   "metadata": {},
   "source": [
    "**7) Normalized water B Index**\n",
    "\n",
    "\\begin{equation} NDWBI = (GREEN - NIR) / (GREEN + NIR)  | McFeeters \\end{equation}"
   ]
  },
  {
   "cell_type": "code",
   "execution_count": 22,
   "id": "db293602",
   "metadata": {
    "ExecuteTime": {
     "end_time": "2022-08-31T18:22:57.691867Z",
     "start_time": "2022-08-31T18:22:57.689895Z"
    }
   },
   "outputs": [],
   "source": [
    "def addNDWBI(image):\n",
    "    ndwbi = image.normalizedDifference(['B3','B5']).rename('NDWBI')\n",
    "    return image.addBands(ndwbi)"
   ]
  },
  {
   "cell_type": "markdown",
   "id": "7c6d1c2d",
   "metadata": {},
   "source": [
    "**8) Normalized Built Index**\n",
    "\n",
    "\n",
    "\\begin{equation} NDBI = (SWIR - NIR) / (SWIR + NIR)  | Zha et al. \\end{equation}"
   ]
  },
  {
   "cell_type": "code",
   "execution_count": 23,
   "id": "db2601f4",
   "metadata": {
    "ExecuteTime": {
     "end_time": "2022-08-31T18:22:57.695312Z",
     "start_time": "2022-08-31T18:22:57.693380Z"
    }
   },
   "outputs": [],
   "source": [
    "def addNDBI(image):\n",
    "    ndbi = image.normalizedDifference(['B6','B5']).rename('NDBI')\n",
    "    return image.addBands(ndbi)"
   ]
  },
  {
   "cell_type": "markdown",
   "id": "44994fc1",
   "metadata": {},
   "source": [
    "**9) Normalized Snow Index**\n",
    "\n",
    "\n",
    "\\begin{equation} NDSI = (GREEN - SWIR) / (GREEN + SWIR)    \\end{equation}"
   ]
  },
  {
   "cell_type": "code",
   "execution_count": 24,
   "id": "bd421032",
   "metadata": {
    "ExecuteTime": {
     "end_time": "2022-08-31T18:22:57.699323Z",
     "start_time": "2022-08-31T18:22:57.696655Z"
    }
   },
   "outputs": [],
   "source": [
    "def addNDSI(image):\n",
    "    ndsi = image.normalizedDifference(['B3','B6']).rename('NDSI')\n",
    "    return image.addBands(ndsi)"
   ]
  },
  {
   "cell_type": "markdown",
   "id": "5693a69e",
   "metadata": {},
   "source": [
    "**10) Normalized Glaciar Index**\n",
    "\n",
    "\\begin{equation} NDGI = (GREEN - RED) / (GREEN + RED)   \\end{equation}"
   ]
  },
  {
   "cell_type": "code",
   "execution_count": 25,
   "id": "981f5ac3",
   "metadata": {
    "ExecuteTime": {
     "end_time": "2022-08-31T18:22:57.702517Z",
     "start_time": "2022-08-31T18:22:57.700529Z"
    }
   },
   "outputs": [],
   "source": [
    "def addNDGI(image):\n",
    "    ndgi = image.normalizedDifference(['B3','B4']).rename('NDGI')\n",
    "    return image.addBands(ndgi)"
   ]
  },
  {
   "cell_type": "markdown",
   "id": "c7201788",
   "metadata": {},
   "source": [
    "**11) Normalized Burn ratio Index**\n",
    "\n",
    "\\begin{equation} NBRI = (NIR - SWIR2) / (NIR + SWIR2)   \\end{equation}"
   ]
  },
  {
   "cell_type": "code",
   "execution_count": 26,
   "id": "13969780",
   "metadata": {
    "ExecuteTime": {
     "end_time": "2022-08-31T18:22:57.705756Z",
     "start_time": "2022-08-31T18:22:57.703696Z"
    }
   },
   "outputs": [],
   "source": [
    "def addNDBrI(image):\n",
    "    ndbri = image.normalizedDifference(['B5','B7']).rename('NDBrI')\n",
    "    return image.addBands(ndbri)"
   ]
  },
  {
   "cell_type": "markdown",
   "id": "da666665",
   "metadata": {},
   "source": [
    "**12) Green Normalized vegetation Index**\n",
    "\n",
    "\\begin{equation} GNDVI = (NIR - GREEN) / (NIR + GREEN)  \\end{equation}"
   ]
  },
  {
   "cell_type": "code",
   "execution_count": 27,
   "id": "fc3f4bd5",
   "metadata": {
    "ExecuteTime": {
     "end_time": "2022-08-31T18:22:57.709762Z",
     "start_time": "2022-08-31T18:22:57.707127Z"
    }
   },
   "outputs": [],
   "source": [
    "def addGNDVI(image):\n",
    "    gndvi = image.normalizedDifference(['B5','B3']).rename('GNDVI')\n",
    "    return image.addBands(gndvi)"
   ]
  },
  {
   "cell_type": "markdown",
   "id": "bc4f1987",
   "metadata": {},
   "source": [
    "### Clouds "
   ]
  },
  {
   "cell_type": "code",
   "execution_count": 28,
   "id": "836afe44",
   "metadata": {
    "ExecuteTime": {
     "end_time": "2022-08-31T18:22:57.715889Z",
     "start_time": "2022-08-31T18:22:57.713903Z"
    }
   },
   "outputs": [],
   "source": [
    "def addCloud(image):\n",
    "    nube = ee.Algorithms.Landsat.simpleCloudScore(image)\n",
    "    return image.addBands(ee.Image(nube.select(['cloud'])).rename('nube'))"
   ]
  },
  {
   "cell_type": "code",
   "execution_count": 29,
   "id": "758aa42e",
   "metadata": {
    "ExecuteTime": {
     "end_time": "2022-08-31T18:22:57.719525Z",
     "start_time": "2022-08-31T18:22:57.717308Z"
    }
   },
   "outputs": [],
   "source": [
    "def Cloud10(image):\n",
    "    scored = ee.Algorithms.Landsat.simpleCloudScore(image)\n",
    "    return image.updateMask(scored.select(['cloud']).lt(10))"
   ]
  },
  {
   "cell_type": "code",
   "execution_count": 30,
   "id": "2d1de1be",
   "metadata": {
    "ExecuteTime": {
     "end_time": "2022-08-31T18:22:57.723172Z",
     "start_time": "2022-08-31T18:22:57.721027Z"
    }
   },
   "outputs": [],
   "source": [
    "def Cloud20(image):\n",
    "    scored = ee.Algorithms.Landsat.simpleCloudScore(image)\n",
    "    return image.updateMask(scored.select(['cloud']).lt(20)) "
   ]
  },
  {
   "cell_type": "code",
   "execution_count": 31,
   "id": "6c0f20ba",
   "metadata": {
    "ExecuteTime": {
     "end_time": "2022-08-31T18:22:57.726500Z",
     "start_time": "2022-08-31T18:22:57.724618Z"
    }
   },
   "outputs": [],
   "source": [
    "def Cloud30(image):\n",
    "    scored = ee.Algorithms.Landsat.simpleCloudScore(image)\n",
    "    return image.updateMask(scored.select(['cloud']).lt(30)) "
   ]
  },
  {
   "cell_type": "code",
   "execution_count": 32,
   "id": "efa430cd",
   "metadata": {
    "ExecuteTime": {
     "end_time": "2022-08-31T18:22:57.729808Z",
     "start_time": "2022-08-31T18:22:57.727920Z"
    }
   },
   "outputs": [],
   "source": [
    "def Cloud40(image):\n",
    "    scored = ee.Algorithms.Landsat.simpleCloudScore(image)\n",
    "    return image.updateMask(scored.select(['cloud']).lt(40)) "
   ]
  },
  {
   "cell_type": "markdown",
   "id": "099b5a70",
   "metadata": {},
   "source": [
    "# Image Collections"
   ]
  },
  {
   "cell_type": "markdown",
   "id": "6cc62aa8",
   "metadata": {},
   "source": [
    "## Mosaico"
   ]
  },
  {
   "cell_type": "markdown",
   "id": "b99b959a",
   "metadata": {},
   "source": [
    "Verano 2022"
   ]
  },
  {
   "cell_type": "code",
   "execution_count": 33,
   "id": "580b0071",
   "metadata": {
    "ExecuteTime": {
     "end_time": "2022-08-31T18:22:57.733436Z",
     "start_time": "2022-08-31T18:22:57.731148Z"
    }
   },
   "outputs": [],
   "source": [
    "start_date = '2021-11-01'\n",
    "end_date = '2022-03-31'\n",
    "\n",
    "l8_2021_2022_summercolection = ee.ImageCollection('LANDSAT/LC08/C02/T1_TOA') \\\n",
    "    .filterBounds(patagonia_grande) \\\n",
    "    .filterDate(start_date, end_date)  "
   ]
  },
  {
   "cell_type": "code",
   "execution_count": 36,
   "id": "d2fa05ea",
   "metadata": {
    "ExecuteTime": {
     "end_time": "2022-08-31T18:22:57.741934Z",
     "start_time": "2022-08-31T18:22:57.734916Z"
    }
   },
   "outputs": [],
   "source": [
    "l8_2021_2022_summercolection = l8_2021_2022_summercolection \\\n",
    "    .map(addNDVI) \\\n",
    "    .map(addNDWI) \\\n",
    "    .map(addmNDWI) \\\n",
    "    .map(addNDWBI) \\\n",
    "    .map(addNDGI) \\\n",
    "    .map(addSAVI) \\\n",
    "    .map(addMSAVI2) \\\n",
    "    .map(addNDSI) \\\n",
    "    .map(addNDBI) \\\n",
    "    .map(addEVI) \\\n",
    "    .map(addNDBrI) \\\n",
    "    .map(addGNDVI) \\\n",
    "    .map(addDate) \\\n",
    "    .map(addYear) \\\n",
    "    .map(addMonth)\\\n",
    "    .map(addCloud)"
   ]
  },
  {
   "cell_type": "code",
   "execution_count": 37,
   "id": "12acf8c4",
   "metadata": {
    "ExecuteTime": {
     "end_time": "2022-08-31T18:22:57.745873Z",
     "start_time": "2022-08-31T18:22:57.743336Z"
    }
   },
   "outputs": [],
   "source": [
    "c2022_sn = l8_2021_2022_summercolection.map(Cloud10)\n",
    "QM_NDVI_2022_sn = c2022_sn.qualityMosaic('NDVI')\n",
    "QM_NDVI_2022 = l8_2021_2022_summercolection.qualityMosaic('NDVI')\n",
    "QM_CLOUD_2022 = l8_2021_2022_summercolection.qualityMosaic('nube')\n",
    "Med_NDVI_2022_sn = c2022_sn.median()"
   ]
  },
  {
   "cell_type": "code",
   "execution_count": 38,
   "id": "c82cadba",
   "metadata": {
    "ExecuteTime": {
     "end_time": "2022-08-31T18:22:57.749881Z",
     "start_time": "2022-08-31T18:22:57.747329Z"
    }
   },
   "outputs": [],
   "source": [
    "# QM_NDVI_2022_sn.bandNames().getInfo()"
   ]
  },
  {
   "cell_type": "code",
   "execution_count": 39,
   "id": "48f3ff68",
   "metadata": {
    "ExecuteTime": {
     "end_time": "2022-08-31T18:23:04.662582Z",
     "start_time": "2022-08-31T18:22:57.751081Z"
    }
   },
   "outputs": [
    {
     "data": {
      "application/vnd.jupyter.widget-view+json": {
       "model_id": "aa7de43f817d4b2cb7e60403e9c06be9",
       "version_major": 2,
       "version_minor": 0
      },
      "text/plain": [
       "Map(center=[-45, -70], controls=(WidgetControl(options=['position', 'transparent_bg'], widget=HBox(children=(T…"
      ]
     },
     "metadata": {},
     "output_type": "display_data"
    }
   ],
   "source": [
    "Map.addLayer(QM_NDVI_2022_sn, vizParams, 'QMsn de NDVI 2021-2022')\n",
    "Map.addLayer(QM_NDVI_2022, vizParams, 'QM con nubes de NDVI 2021-2022')\n",
    "Map.addLayer(QM_CLOUD_2022, vizParams, 'QM de nubes 2021-2022')\n",
    "Map.addLayer(Med_NDVI_2022_sn, vizParams, 'Mediana sn 2021-2022')\n",
    "Map"
   ]
  },
  {
   "cell_type": "code",
   "execution_count": 40,
   "id": "52a3364d-af57-480d-a1d8-7c4cad890a21",
   "metadata": {
    "ExecuteTime": {
     "end_time": "2022-08-31T18:23:04.681400Z",
     "start_time": "2022-08-31T18:23:04.663909Z"
    }
   },
   "outputs": [],
   "source": [
    "image1 = geemap.image_count(\n",
    "    c2022_sn, patagonia_grande, start_date='2021-11-01', end_date='2022-03-31', clip=True\n",
    ")"
   ]
  },
  {
   "cell_type": "code",
   "execution_count": 41,
   "id": "db715700-b1a1-435d-8e89-62141df93fb5",
   "metadata": {
    "ExecuteTime": {
     "end_time": "2022-08-31T18:23:04.684618Z",
     "start_time": "2022-08-31T18:23:04.683095Z"
    }
   },
   "outputs": [],
   "source": [
    "# Map.addLayer(image1, vizParams, 'Mediana sn 2021-2022')\n",
    "# Map"
   ]
  },
  {
   "cell_type": "markdown",
   "id": "bb92f0c6",
   "metadata": {},
   "source": [
    "Verano 2021"
   ]
  },
  {
   "cell_type": "code",
   "execution_count": 42,
   "id": "d086591d",
   "metadata": {
    "ExecuteTime": {
     "end_time": "2022-08-31T18:23:04.688683Z",
     "start_time": "2022-08-31T18:23:04.686104Z"
    }
   },
   "outputs": [],
   "source": [
    "start_date = '2020-11-01'\n",
    "end_date = '2021-03-31'\n",
    "\n",
    "l8_2020_2021_summercolection = ee.ImageCollection('LANDSAT/LC08/C02/T1_TOA') \\\n",
    "    .filterBounds(patagonia_grande) \\\n",
    "    .filterDate(start_date, end_date)  "
   ]
  },
  {
   "cell_type": "code",
   "execution_count": 43,
   "id": "adfda438",
   "metadata": {
    "ExecuteTime": {
     "end_time": "2022-08-31T18:23:04.696010Z",
     "start_time": "2022-08-31T18:23:04.689877Z"
    }
   },
   "outputs": [],
   "source": [
    "l8_2020_2021_summercolection = l8_2020_2021_summercolection \\\n",
    "    .map(addNDVI) \\\n",
    "    .map(addNDWI) \\\n",
    "    .map(addmNDWI) \\\n",
    "    .map(addNDWBI) \\\n",
    "    .map(addNDGI) \\\n",
    "    .map(addSAVI) \\\n",
    "    .map(addMSAVI2) \\\n",
    "    .map(addNDSI) \\\n",
    "    .map(addNDBI) \\\n",
    "    .map(addEVI) \\\n",
    "    .map(addNDBrI) \\\n",
    "    .map(addGNDVI) \\\n",
    "    .map(addDate) \\\n",
    "    .map(addYear) \\\n",
    "    .map(addMonth)\\\n",
    "    .map(addCloud)"
   ]
  },
  {
   "cell_type": "markdown",
   "id": "1417b733",
   "metadata": {},
   "source": [
    "Verano 2020"
   ]
  },
  {
   "cell_type": "code",
   "execution_count": 44,
   "id": "badce615",
   "metadata": {
    "ExecuteTime": {
     "end_time": "2022-08-31T18:23:04.700028Z",
     "start_time": "2022-08-31T18:23:04.697524Z"
    }
   },
   "outputs": [],
   "source": [
    "start_date = '2019-11-01'\n",
    "end_date = '2020-03-31'\n",
    "\n",
    "l8_2019_2020_summercolection = ee.ImageCollection('LANDSAT/LC08/C02/T1_TOA') \\\n",
    "    .filterBounds(patagonia_grande) \\\n",
    "    .filterDate(start_date, end_date)  "
   ]
  },
  {
   "cell_type": "code",
   "execution_count": 45,
   "id": "e14d48ce",
   "metadata": {
    "ExecuteTime": {
     "end_time": "2022-08-31T18:23:04.707564Z",
     "start_time": "2022-08-31T18:23:04.701279Z"
    }
   },
   "outputs": [],
   "source": [
    "l8_2019_2020_summercolection = l8_2019_2020_summercolection \\\n",
    "    .map(addNDVI) \\\n",
    "    .map(addNDWI) \\\n",
    "    .map(addmNDWI) \\\n",
    "    .map(addNDWBI) \\\n",
    "    .map(addNDGI) \\\n",
    "    .map(addSAVI) \\\n",
    "    .map(addMSAVI2) \\\n",
    "    .map(addNDSI) \\\n",
    "    .map(addNDBI) \\\n",
    "    .map(addEVI) \\\n",
    "    .map(addNDBrI) \\\n",
    "    .map(addGNDVI) \\\n",
    "    .map(addDate) \\\n",
    "    .map(addYear) \\\n",
    "    .map(addMonth)\\\n",
    "    .map(addCloud)"
   ]
  },
  {
   "cell_type": "markdown",
   "id": "757d1e9f",
   "metadata": {},
   "source": [
    "Verano 2019"
   ]
  },
  {
   "cell_type": "code",
   "execution_count": 46,
   "id": "bf24ae2f",
   "metadata": {
    "ExecuteTime": {
     "end_time": "2022-08-31T18:23:04.710926Z",
     "start_time": "2022-08-31T18:23:04.708932Z"
    }
   },
   "outputs": [],
   "source": [
    "start_date = '2018-11-01'\n",
    "end_date = '2019-03-31'\n",
    "\n",
    "l8_2018_2019_summercolection = ee.ImageCollection('LANDSAT/LC08/C02/T1_TOA') \\\n",
    "    .filterBounds(patagonia_grande) \\\n",
    "    .filterDate(start_date, end_date) "
   ]
  },
  {
   "cell_type": "code",
   "execution_count": 47,
   "id": "bce4dc2a",
   "metadata": {
    "ExecuteTime": {
     "end_time": "2022-08-31T18:23:04.718927Z",
     "start_time": "2022-08-31T18:23:04.712324Z"
    }
   },
   "outputs": [],
   "source": [
    "l8_2018_2019_summercolection = l8_2018_2019_summercolection \\\n",
    "    .map(addNDVI) \\\n",
    "    .map(addNDWI) \\\n",
    "    .map(addmNDWI) \\\n",
    "    .map(addNDWBI) \\\n",
    "    .map(addNDGI) \\\n",
    "    .map(addSAVI) \\\n",
    "    .map(addMSAVI2) \\\n",
    "    .map(addNDSI) \\\n",
    "    .map(addNDBI) \\\n",
    "    .map(addEVI) \\\n",
    "    .map(addNDBrI) \\\n",
    "    .map(addGNDVI) \\\n",
    "    .map(addDate) \\\n",
    "    .map(addYear) \\\n",
    "    .map(addMonth)\\\n",
    "    .map(addCloud)"
   ]
  },
  {
   "cell_type": "markdown",
   "id": "52bd442b",
   "metadata": {},
   "source": [
    "## Colección completa"
   ]
  },
  {
   "cell_type": "markdown",
   "id": "f8e32764",
   "metadata": {},
   "source": [
    "2 primeros años"
   ]
  },
  {
   "cell_type": "code",
   "execution_count": 48,
   "id": "d7225479",
   "metadata": {
    "ExecuteTime": {
     "end_time": "2022-08-31T18:23:04.722330Z",
     "start_time": "2022-08-31T18:23:04.720375Z"
    }
   },
   "outputs": [],
   "source": [
    "filtersummer1 = ee.Filter.Or(\n",
    "    ee.Filter.date('2021-11-01','2022-03-01'),\n",
    "    ee.Filter.date('2020-11-01','2021-03-31'))"
   ]
  },
  {
   "cell_type": "code",
   "execution_count": 49,
   "id": "b2448777",
   "metadata": {
    "ExecuteTime": {
     "end_time": "2022-08-31T18:23:04.725644Z",
     "start_time": "2022-08-31T18:23:04.723737Z"
    }
   },
   "outputs": [],
   "source": [
    "coleccion2022_2020 = ee.ImageCollection('LANDSAT/LC08/C02/T1_TOA') \\\n",
    "    .filterDate('2020-11-01', '2022-03-31') \\\n",
    "    .filter(filtersummer1) \\\n",
    "    .filterBounds(patagonia_grande)"
   ]
  },
  {
   "cell_type": "code",
   "execution_count": 50,
   "id": "a8613b34",
   "metadata": {
    "ExecuteTime": {
     "end_time": "2022-08-31T18:23:04.733444Z",
     "start_time": "2022-08-31T18:23:04.727155Z"
    }
   },
   "outputs": [],
   "source": [
    "l8_summer1= coleccion2022_2020 \\\n",
    "    .map(addNDVI) \\\n",
    "    .map(addNDWI) \\\n",
    "    .map(addmNDWI) \\\n",
    "    .map(addNDWBI) \\\n",
    "    .map(addNDGI) \\\n",
    "    .map(addSAVI) \\\n",
    "    .map(addMSAVI2) \\\n",
    "    .map(addNDSI) \\\n",
    "    .map(addNDBI) \\\n",
    "    .map(addEVI) \\\n",
    "    .map(addNDBrI) \\\n",
    "    .map(addGNDVI) \\\n",
    "    .map(addDate) \\\n",
    "    .map(addYear) \\\n",
    "    .map(addMonth)\\\n",
    "    .map(addCloud)"
   ]
  },
  {
   "cell_type": "code",
   "execution_count": 51,
   "id": "9816f2a5",
   "metadata": {
    "ExecuteTime": {
     "end_time": "2022-08-31T18:23:04.737099Z",
     "start_time": "2022-08-31T18:23:04.734766Z"
    }
   },
   "outputs": [],
   "source": [
    "l8_summer1_sn = l8_summer1.map(Cloud10)\n",
    "QM_NDVI_summer1 = l8_summer1.qualityMosaic('NDVI')\n",
    "QM_NDWI_summer1 = l8_summer1.qualityMosaic('NDWI')"
   ]
  },
  {
   "cell_type": "markdown",
   "id": "7b070689",
   "metadata": {},
   "source": [
    "3 años"
   ]
  },
  {
   "cell_type": "code",
   "execution_count": 52,
   "id": "b6176fe9",
   "metadata": {
    "ExecuteTime": {
     "end_time": "2022-08-31T18:23:04.740612Z",
     "start_time": "2022-08-31T18:23:04.738512Z"
    }
   },
   "outputs": [],
   "source": [
    "filtersummer2 = ee.Filter.Or(\n",
    "    ee.Filter.date('2021-11-01','2022-03-01'),\n",
    "    ee.Filter.date('2020-11-01','2021-03-31'),\n",
    "    ee.Filter.date('2019-11-01','2020-03-31')\n",
    ")"
   ]
  },
  {
   "cell_type": "code",
   "execution_count": 53,
   "id": "c76e7f6a",
   "metadata": {
    "ExecuteTime": {
     "end_time": "2022-08-31T18:23:04.743807Z",
     "start_time": "2022-08-31T18:23:04.741991Z"
    }
   },
   "outputs": [],
   "source": [
    "coleccion2022_2019 = ee.ImageCollection('LANDSAT/LC08/C02/T1_TOA') \\\n",
    "    .filterDate('2019-11-01', '2022-03-31') \\\n",
    "    .filter(filtersummer2) \\\n",
    "    .filterBounds(patagonia_grande)"
   ]
  },
  {
   "cell_type": "code",
   "execution_count": 54,
   "id": "c3a3cfa7",
   "metadata": {
    "ExecuteTime": {
     "end_time": "2022-08-31T18:23:04.751189Z",
     "start_time": "2022-08-31T18:23:04.745195Z"
    }
   },
   "outputs": [],
   "source": [
    "l8_summer2= coleccion2022_2019 \\\n",
    "    .map(addNDVI) \\\n",
    "    .map(addNDWI) \\\n",
    "    .map(addmNDWI) \\\n",
    "    .map(addNDWBI) \\\n",
    "    .map(addNDGI) \\\n",
    "    .map(addSAVI) \\\n",
    "    .map(addMSAVI2) \\\n",
    "    .map(addNDSI) \\\n",
    "    .map(addNDBI) \\\n",
    "    .map(addEVI) \\\n",
    "    .map(addNDBrI) \\\n",
    "    .map(addGNDVI) \\\n",
    "    .map(addDate) \\\n",
    "    .map(addYear) \\\n",
    "    .map(addMonth)\\\n",
    "    .map(addCloud)"
   ]
  },
  {
   "cell_type": "code",
   "execution_count": 55,
   "id": "56eee6ce-2e12-40a8-b519-dc9aa3676e53",
   "metadata": {
    "ExecuteTime": {
     "end_time": "2022-08-31T18:23:04.754772Z",
     "start_time": "2022-08-31T18:23:04.752605Z"
    }
   },
   "outputs": [],
   "source": [
    "l8_summer2_sn = l8_summer2.map(Cloud10)\n",
    "QM_NDVI_summer2 = l8_summer2.qualityMosaic('NDVI')\n",
    "QM_NDWI_summer2 = l8_summer2.qualityMosaic('NDWI')"
   ]
  },
  {
   "cell_type": "markdown",
   "id": "959674bb",
   "metadata": {},
   "source": [
    "4 años"
   ]
  },
  {
   "cell_type": "code",
   "execution_count": 56,
   "id": "8cdc702e",
   "metadata": {
    "ExecuteTime": {
     "end_time": "2022-08-31T18:23:04.758285Z",
     "start_time": "2022-08-31T18:23:04.756161Z"
    }
   },
   "outputs": [],
   "source": [
    "filtersummer4 = ee.Filter.Or(\n",
    "    ee.Filter.date('2021-11-01','2022-03-01'),\n",
    "    ee.Filter.date('2020-11-01','2021-03-31'),\n",
    "    ee.Filter.date('2019-11-01','2020-03-31'),\n",
    "    ee.Filter.date('2018-11-01','2019-03-31')\n",
    ")"
   ]
  },
  {
   "cell_type": "code",
   "execution_count": 57,
   "id": "3c810ef0",
   "metadata": {
    "ExecuteTime": {
     "end_time": "2022-08-31T18:23:04.761801Z",
     "start_time": "2022-08-31T18:23:04.759532Z"
    }
   },
   "outputs": [],
   "source": [
    "coleccion2022_2018 = ee.ImageCollection('LANDSAT/LC08/C02/T1_TOA') \\\n",
    "    .filterDate('2018-11-01', '2022-03-31') \\\n",
    "    .filter(filtersummer4) \\\n",
    "    .filterBounds(patagonia_grande)"
   ]
  },
  {
   "cell_type": "code",
   "execution_count": 58,
   "id": "0db2d5fb",
   "metadata": {
    "ExecuteTime": {
     "end_time": "2022-08-31T18:23:04.770296Z",
     "start_time": "2022-08-31T18:23:04.763042Z"
    }
   },
   "outputs": [],
   "source": [
    "l8_summer4= coleccion2022_2018 \\\n",
    "    .map(addNDVI) \\\n",
    "    .map(addNDWI) \\\n",
    "    .map(addmNDWI) \\\n",
    "    .map(addNDWBI) \\\n",
    "    .map(addNDGI) \\\n",
    "    .map(addSAVI) \\\n",
    "    .map(addMSAVI2) \\\n",
    "    .map(addNDSI) \\\n",
    "    .map(addNDBI) \\\n",
    "    .map(addEVI) \\\n",
    "    .map(addNDBrI) \\\n",
    "    .map(addGNDVI) \\\n",
    "    .map(addDate) \\\n",
    "    .map(addYear) \\\n",
    "    .map(addMonth)\\\n",
    "    .map(addCloud)"
   ]
  },
  {
   "cell_type": "code",
   "execution_count": 59,
   "id": "fa2d7b83",
   "metadata": {
    "ExecuteTime": {
     "end_time": "2022-08-31T18:23:04.773920Z",
     "start_time": "2022-08-31T18:23:04.771637Z"
    }
   },
   "outputs": [],
   "source": [
    "cloudest = l8_summer4.qualityMosaic('nube')\n",
    "l8_summer_sn = l8_summer4.map(Cloud10)\n",
    "QM_NDWI_summer_sn = l8_summer_sn.qualityMosaic('NDWI')\n",
    "QM_NDVI_summer4 = l8_summer4.qualityMosaic('NDVI')"
   ]
  },
  {
   "cell_type": "markdown",
   "id": "a383db31",
   "metadata": {},
   "source": [
    "5 Años"
   ]
  },
  {
   "cell_type": "code",
   "execution_count": 60,
   "id": "3be40ceb",
   "metadata": {
    "ExecuteTime": {
     "end_time": "2022-08-31T18:23:04.777461Z",
     "start_time": "2022-08-31T18:23:04.775240Z"
    }
   },
   "outputs": [],
   "source": [
    "filtersummer5 = ee.Filter.Or(\n",
    "    ee.Filter.date('2021-11-01','2022-03-01'),\n",
    "    ee.Filter.date('2020-11-01','2021-03-31'),\n",
    "    ee.Filter.date('2019-11-01','2020-03-31'),\n",
    "    ee.Filter.date('2018-11-01','2019-03-31'),\n",
    "    ee.Filter.date('2017-11-01','2018-03-31')\n",
    ")"
   ]
  },
  {
   "cell_type": "code",
   "execution_count": 61,
   "id": "006f5fb7",
   "metadata": {
    "ExecuteTime": {
     "end_time": "2022-08-31T18:23:04.780981Z",
     "start_time": "2022-08-31T18:23:04.778767Z"
    }
   },
   "outputs": [],
   "source": [
    "coleccion2022_2017_t = ee.ImageCollection('LANDSAT/LC08/C02/T1_TOA') \\\n",
    "    .filterDate('2019-11-01', '2022-03-31') \\\n",
    "    .filterBounds(patagonia_grande)"
   ]
  },
  {
   "cell_type": "code",
   "execution_count": 62,
   "id": "a2d089a6",
   "metadata": {
    "ExecuteTime": {
     "end_time": "2022-08-31T18:23:04.784385Z",
     "start_time": "2022-08-31T18:23:04.782280Z"
    }
   },
   "outputs": [],
   "source": [
    "coleccion2022_2017 = ee.ImageCollection('LANDSAT/LC08/C02/T1_TOA') \\\n",
    "    .filterDate('2017-11-01', '2022-03-31') \\\n",
    "    .filter(filtersummer5) \\\n",
    "    .filterBounds(patagonia_grande)"
   ]
  },
  {
   "cell_type": "code",
   "execution_count": 63,
   "id": "f4de982f",
   "metadata": {
    "ExecuteTime": {
     "end_time": "2022-08-31T18:23:04.791868Z",
     "start_time": "2022-08-31T18:23:04.785749Z"
    }
   },
   "outputs": [],
   "source": [
    "l8_summer5_t= coleccion2022_2017_t \\\n",
    "    .map(addNDVI) \\\n",
    "    .map(addNDWI) \\\n",
    "    .map(addmNDWI) \\\n",
    "    .map(addNDWBI) \\\n",
    "    .map(addNDGI) \\\n",
    "    .map(addSAVI) \\\n",
    "    .map(addMSAVI2) \\\n",
    "    .map(addNDSI) \\\n",
    "    .map(addNDBI) \\\n",
    "    .map(addEVI) \\\n",
    "    .map(addNDBrI) \\\n",
    "    .map(addGNDVI) \\\n",
    "    .map(addDate) \\\n",
    "    .map(addYear) \\\n",
    "    .map(addMonth)\\\n",
    "    .map(addCloud)"
   ]
  },
  {
   "cell_type": "code",
   "execution_count": 64,
   "id": "61b7caec",
   "metadata": {
    "ExecuteTime": {
     "end_time": "2022-08-31T18:23:04.800206Z",
     "start_time": "2022-08-31T18:23:04.793195Z"
    }
   },
   "outputs": [],
   "source": [
    "l8_summer5= coleccion2022_2017 \\\n",
    "    .map(addNDVI) \\\n",
    "    .map(addNDWI) \\\n",
    "    .map(addmNDWI) \\\n",
    "    .map(addNDWBI) \\\n",
    "    .map(addNDGI) \\\n",
    "    .map(addSAVI) \\\n",
    "    .map(addMSAVI2) \\\n",
    "    .map(addNDSI) \\\n",
    "    .map(addNDBI) \\\n",
    "    .map(addEVI) \\\n",
    "    .map(addNDBrI) \\\n",
    "    .map(addGNDVI) \\\n",
    "    .map(addDate) \\\n",
    "    .map(addYear) \\\n",
    "    .map(addMonth)\\\n",
    "    .map(addCloud)"
   ]
  },
  {
   "cell_type": "code",
   "execution_count": 65,
   "id": "eadcdc8f",
   "metadata": {
    "ExecuteTime": {
     "end_time": "2022-08-31T18:23:04.803949Z",
     "start_time": "2022-08-31T18:23:04.801481Z"
    }
   },
   "outputs": [],
   "source": [
    "l8_summer5_sn = l8_summer5.map(Cloud10)\n",
    "l8_summer5_snt = l8_summer5_t.map(Cloud10)\n"
   ]
  },
  {
   "cell_type": "markdown",
   "id": "7b88d666",
   "metadata": {},
   "source": [
    "3 Años verano más largo para llenar pixeles"
   ]
  },
  {
   "cell_type": "code",
   "execution_count": 66,
   "id": "6e3377d5",
   "metadata": {
    "ExecuteTime": {
     "end_time": "2022-08-31T18:23:04.807440Z",
     "start_time": "2022-08-31T18:23:04.805360Z"
    }
   },
   "outputs": [],
   "source": [
    "filtersummer6 = ee.Filter.Or(\n",
    "    ee.Filter.date('2021-09-01','2022-03-31'),\n",
    "    ee.Filter.date('2020-09-01','2021-04-30'),\n",
    "    ee.Filter.date('2019-09-01','2020-04-30'),\n",
    ")"
   ]
  },
  {
   "cell_type": "code",
   "execution_count": 67,
   "id": "96f98736",
   "metadata": {
    "ExecuteTime": {
     "end_time": "2022-08-31T18:23:04.810921Z",
     "start_time": "2022-08-31T18:23:04.808919Z"
    }
   },
   "outputs": [],
   "source": [
    "coleccion2022_2019_b = ee.ImageCollection('LANDSAT/LC08/C02/T1_TOA') \\\n",
    "    .filterDate('2019-09-01', '2022-03-31') \\\n",
    "    .filter(filtersummer6) \\\n",
    "    .filterBounds(patagonia_grande)"
   ]
  },
  {
   "cell_type": "code",
   "execution_count": 68,
   "id": "a60e1d09",
   "metadata": {
    "ExecuteTime": {
     "end_time": "2022-08-31T18:23:04.818929Z",
     "start_time": "2022-08-31T18:23:04.812386Z"
    }
   },
   "outputs": [],
   "source": [
    "l8_summer6= coleccion2022_2019_b \\\n",
    "    .map(addNDVI) \\\n",
    "    .map(addNDWI) \\\n",
    "    .map(addmNDWI) \\\n",
    "    .map(addNDWBI) \\\n",
    "    .map(addNDGI) \\\n",
    "    .map(addSAVI) \\\n",
    "    .map(addMSAVI2) \\\n",
    "    .map(addNDSI) \\\n",
    "    .map(addNDBI) \\\n",
    "    .map(addEVI) \\\n",
    "    .map(addNDBrI) \\\n",
    "    .map(addGNDVI) \\\n",
    "    .map(addDate) \\\n",
    "    .map(addYear) \\\n",
    "    .map(addMonth)\\\n",
    "    .map(addCloud)"
   ]
  },
  {
   "cell_type": "code",
   "execution_count": 69,
   "id": "85e52f88-9c75-4369-a120-ae1b021d3e3d",
   "metadata": {
    "ExecuteTime": {
     "end_time": "2022-08-31T18:23:04.821971Z",
     "start_time": "2022-08-31T18:23:04.820117Z"
    }
   },
   "outputs": [],
   "source": [
    "QM_NDVI_summer6 = l8_summer6.qualityMosaic('NDVI')"
   ]
  },
  {
   "cell_type": "markdown",
   "id": "f011ad18",
   "metadata": {},
   "source": [
    "## Generación Mosaico QM"
   ]
  },
  {
   "cell_type": "markdown",
   "id": "3cf506a8",
   "metadata": {},
   "source": [
    "Tier 1"
   ]
  },
  {
   "cell_type": "code",
   "execution_count": 70,
   "id": "1f9257c8",
   "metadata": {
    "ExecuteTime": {
     "end_time": "2022-08-31T18:23:04.826405Z",
     "start_time": "2022-08-31T18:23:04.823282Z"
    }
   },
   "outputs": [],
   "source": [
    "c2022_sn = l8_2021_2022_summercolection.map(Cloud10)\n",
    "c2021_sn = l8_2020_2021_summercolection.map(Cloud10)\n",
    "c2020_sn = l8_2019_2020_summercolection.map(Cloud10)\n",
    "c2019_sn = l8_2018_2019_summercolection.map(Cloud10)"
   ]
  },
  {
   "cell_type": "code",
   "execution_count": 71,
   "id": "444ced49",
   "metadata": {
    "ExecuteTime": {
     "end_time": "2022-08-31T18:23:04.830410Z",
     "start_time": "2022-08-31T18:23:04.827796Z"
    }
   },
   "outputs": [],
   "source": [
    "QM_NDVI_2022 = l8_2021_2022_summercolection.qualityMosaic('NDVI')\n",
    "QM_NDVI_2021 = l8_2020_2021_summercolection.qualityMosaic('NDVI')\n",
    "QM_NDVI_2020 = l8_2019_2020_summercolection.qualityMosaic('NDVI')\n",
    "QM_NDVI_2019 = l8_2018_2019_summercolection.qualityMosaic('NDVI')"
   ]
  },
  {
   "cell_type": "code",
   "execution_count": 72,
   "id": "c55017b6",
   "metadata": {
    "ExecuteTime": {
     "end_time": "2022-08-31T18:23:04.833669Z",
     "start_time": "2022-08-31T18:23:04.831661Z"
    }
   },
   "outputs": [],
   "source": [
    "QM_NDVI_2022_sn = c2022_sn.qualityMosaic('NDVI')\n",
    "QM_NDVI_2021_sn = c2021_sn.qualityMosaic('NDVI')\n",
    "QM_NDVI_2020_sn = c2020_sn.qualityMosaic('NDVI')\n",
    "QM_NDVI_2019_sn = c2019_sn.qualityMosaic('NDVI')"
   ]
  },
  {
   "cell_type": "code",
   "execution_count": 73,
   "id": "d3be3d65-9fff-41b0-8d7c-c3be5d98abe0",
   "metadata": {
    "ExecuteTime": {
     "end_time": "2022-08-31T18:23:11.469680Z",
     "start_time": "2022-08-31T18:23:04.834939Z"
    }
   },
   "outputs": [
    {
     "data": {
      "application/vnd.jupyter.widget-view+json": {
       "model_id": "b78d86d9d37c4913909dc17823775108",
       "version_major": 2,
       "version_minor": 0
      },
      "text/plain": [
       "Map(center=[-45, -70], controls=(WidgetControl(options=['position', 'transparent_bg'], widget=HBox(children=(T…"
      ]
     },
     "metadata": {},
     "output_type": "display_data"
    }
   ],
   "source": [
    "Map6.addLayer(QM_NDVI_2022_sn, vizParams, 'QMsn de NDVI 2021-2022')\n",
    "Map6.addLayer(QM_NDVI_2022, vizParams, 'QM con nubes de NDVI 2021-2022')\n",
    "Map6.addLayer(QM_NDVI_summer1, vizParams, 'QM de nubes 2021-2022')\n",
    "Map6.addLayer(QM_NDVI_summer2, vizParams, 'QM de nubes 2020-2022')\n",
    "Map6.addLayer(QM_NDVI_summer4, vizParams, 'QM de nubes 2017-2022')\n",
    "Map6"
   ]
  },
  {
   "cell_type": "markdown",
   "id": "05e53db6",
   "metadata": {},
   "source": [
    "### Llenado de píxeles con nubes"
   ]
  },
  {
   "cell_type": "code",
   "execution_count": 74,
   "id": "4544c0e4",
   "metadata": {
    "ExecuteTime": {
     "end_time": "2022-08-31T18:23:11.473679Z",
     "start_time": "2022-08-31T18:23:11.471128Z"
    }
   },
   "outputs": [],
   "source": [
    "cloudest_landsat = cloudest.set('SENSOR_ID', 'OLI_TIRS')\n",
    "cloud_max = ee.Algorithms.Landsat.simpleCloudScore(cloudest_landsat)\n",
    "cloud_max  = cloud_max .select('cloud')\n",
    "palette_nubes = ['#1a9850', '#d73027']"
   ]
  },
  {
   "cell_type": "code",
   "execution_count": 75,
   "id": "08f742f6",
   "metadata": {
    "ExecuteTime": {
     "end_time": "2022-08-31T18:23:11.477053Z",
     "start_time": "2022-08-31T18:23:11.474900Z"
    }
   },
   "outputs": [],
   "source": [
    "resultados= [cloud_max , cloudest]\n",
    "vis_params2=  [\n",
    "    {'palette':palette_nubes}, \n",
    "    vizParams]\n",
    "labels = [\n",
    "    'Nubes 2021',\n",
    "    'QM NDVI 2021']"
   ]
  },
  {
   "cell_type": "code",
   "execution_count": 76,
   "id": "4d156557",
   "metadata": {
    "ExecuteTime": {
     "end_time": "2022-08-31T18:23:14.454159Z",
     "start_time": "2022-08-31T18:23:11.478623Z"
    }
   },
   "outputs": [
    {
     "data": {
      "application/vnd.jupyter.widget-view+json": {
       "model_id": "3f4f7816737c436cb49ca41785657198",
       "version_major": 2,
       "version_minor": 0
      },
      "text/plain": [
       "GridspecLayout(children=(Output(layout=Layout(grid_area='widget001')), Output(layout=Layout(grid_area='widget0…"
      ]
     },
     "metadata": {},
     "output_type": "display_data"
    }
   ],
   "source": [
    "geemap.linked_maps(rows=1, cols=2, height=\"400px\", center=[-45, -75], zoom=4, \n",
    "                    ee_objects=resultados, vis_params=vis_params2, labels=labels, label_position=\"topright\")"
   ]
  },
  {
   "cell_type": "code",
   "execution_count": 77,
   "id": "9811448b",
   "metadata": {
    "ExecuteTime": {
     "end_time": "2022-08-31T18:23:14.457464Z",
     "start_time": "2022-08-31T18:23:14.455442Z"
    }
   },
   "outputs": [],
   "source": [
    "def llenado(image):\n",
    "    return image.where(cloud_max.gt(10),QM_NDVI_summer4)"
   ]
  },
  {
   "cell_type": "code",
   "execution_count": 78,
   "id": "8c813bbb",
   "metadata": {
    "ExecuteTime": {
     "end_time": "2022-08-31T18:23:14.461023Z",
     "start_time": "2022-08-31T18:23:14.459216Z"
    }
   },
   "outputs": [],
   "source": [
    "img1 = llenado(cloudest)"
   ]
  },
  {
   "cell_type": "code",
   "execution_count": 79,
   "id": "a26e5ede",
   "metadata": {
    "ExecuteTime": {
     "end_time": "2022-08-31T18:23:14.464527Z",
     "start_time": "2022-08-31T18:23:14.462499Z"
    }
   },
   "outputs": [],
   "source": [
    "img1_landsat = img1.set('SENSOR_ID', 'OLI_TIRS')\n",
    "cloud_img1 = ee.Algorithms.Landsat.simpleCloudScore(img1_landsat)\n",
    "cloud_img1 = cloud_img1.select('cloud')"
   ]
  },
  {
   "cell_type": "code",
   "execution_count": 80,
   "id": "b081ac10",
   "metadata": {
    "ExecuteTime": {
     "end_time": "2022-08-31T18:23:14.468605Z",
     "start_time": "2022-08-31T18:23:14.466146Z"
    }
   },
   "outputs": [],
   "source": [
    "resultados= [cloud_img1, img1]\n",
    "vis_params2=  [\n",
    "    {'palette':palette_nubes}, \n",
    "    vizParams]\n",
    "labels = [\n",
    "    'Nubes Mosaico 1',\n",
    "    'Mosaico 1']"
   ]
  },
  {
   "cell_type": "code",
   "execution_count": 81,
   "id": "4aaf34e9",
   "metadata": {
    "ExecuteTime": {
     "end_time": "2022-08-31T18:23:17.640378Z",
     "start_time": "2022-08-31T18:23:14.469852Z"
    }
   },
   "outputs": [
    {
     "data": {
      "application/vnd.jupyter.widget-view+json": {
       "model_id": "3b83f507ea4940f088b2ce6ce0a17e65",
       "version_major": 2,
       "version_minor": 0
      },
      "text/plain": [
       "GridspecLayout(children=(Output(layout=Layout(grid_area='widget001')), Output(layout=Layout(grid_area='widget0…"
      ]
     },
     "metadata": {},
     "output_type": "display_data"
    }
   ],
   "source": [
    "geemap.linked_maps(rows=1, cols=2, height=\"400px\", center=[-45, -75], zoom=4, \n",
    "                   ee_objects=resultados, vis_params=vis_params2, labels=labels, label_position=\"topright\")"
   ]
  },
  {
   "cell_type": "code",
   "execution_count": 82,
   "id": "1c6c4122",
   "metadata": {
    "ExecuteTime": {
     "end_time": "2022-08-31T18:23:17.643535Z",
     "start_time": "2022-08-31T18:23:17.641577Z"
    }
   },
   "outputs": [],
   "source": [
    "def llenado2(image):\n",
    "    return image.where(cloud_img1.gt(10), QM_NDVI_2021)"
   ]
  },
  {
   "cell_type": "code",
   "execution_count": 83,
   "id": "e24aea87",
   "metadata": {
    "ExecuteTime": {
     "end_time": "2022-08-31T18:23:17.646672Z",
     "start_time": "2022-08-31T18:23:17.644556Z"
    }
   },
   "outputs": [],
   "source": [
    "img2 = llenado2(img1)"
   ]
  },
  {
   "cell_type": "code",
   "execution_count": 84,
   "id": "33c3e7f7",
   "metadata": {
    "ExecuteTime": {
     "end_time": "2022-08-31T18:23:17.659680Z",
     "start_time": "2022-08-31T18:23:17.656994Z"
    }
   },
   "outputs": [],
   "source": [
    "img2_landsat = img2.set('SENSOR_ID', 'OLI_TIRS')\n",
    "cloud_img2 = ee.Algorithms.Landsat.simpleCloudScore(img2_landsat)\n",
    "cloud_img2 = cloud_img2.select('cloud')"
   ]
  },
  {
   "cell_type": "code",
   "execution_count": 85,
   "id": "34f6eba1",
   "metadata": {
    "ExecuteTime": {
     "end_time": "2022-08-31T18:23:17.662927Z",
     "start_time": "2022-08-31T18:23:17.660931Z"
    }
   },
   "outputs": [],
   "source": [
    "resultados= [cloud_img2, img2_landsat]\n",
    "vis_params2=  [\n",
    "    {'palette':palette_nubes}, \n",
    "    vizParams]\n",
    "labels = [\n",
    "    'Nubes Mosaico 2',\n",
    "    'Mosaico 2']"
   ]
  },
  {
   "cell_type": "code",
   "execution_count": 86,
   "id": "abdf7a9c",
   "metadata": {
    "ExecuteTime": {
     "end_time": "2022-08-31T18:23:22.155704Z",
     "start_time": "2022-08-31T18:23:17.664485Z"
    }
   },
   "outputs": [
    {
     "data": {
      "application/vnd.jupyter.widget-view+json": {
       "model_id": "f4889da41efd474280c862b61ed4ae70",
       "version_major": 2,
       "version_minor": 0
      },
      "text/plain": [
       "GridspecLayout(children=(Output(layout=Layout(grid_area='widget001')), Output(layout=Layout(grid_area='widget0…"
      ]
     },
     "metadata": {},
     "output_type": "display_data"
    }
   ],
   "source": [
    "geemap.linked_maps(rows=1, cols=2, height=\"400px\", center=[-45, -75], zoom=4, \n",
    "                   ee_objects=resultados, vis_params=vis_params2, labels=labels, label_position=\"topright\")"
   ]
  },
  {
   "cell_type": "code",
   "execution_count": 87,
   "id": "586c9de2",
   "metadata": {
    "ExecuteTime": {
     "end_time": "2022-08-31T18:23:22.159717Z",
     "start_time": "2022-08-31T18:23:22.156896Z"
    }
   },
   "outputs": [],
   "source": [
    "def llenado3(image):\n",
    "    return image.where(cloud_img2.gt(10), QM_NDVI_2020)"
   ]
  },
  {
   "cell_type": "code",
   "execution_count": 88,
   "id": "66556f9f",
   "metadata": {
    "ExecuteTime": {
     "end_time": "2022-08-31T18:23:22.162904Z",
     "start_time": "2022-08-31T18:23:22.160896Z"
    }
   },
   "outputs": [],
   "source": [
    "img3 = llenado3(img2)"
   ]
  },
  {
   "cell_type": "code",
   "execution_count": 89,
   "id": "6bf5a11f",
   "metadata": {
    "ExecuteTime": {
     "end_time": "2022-08-31T18:23:22.166552Z",
     "start_time": "2022-08-31T18:23:22.164411Z"
    }
   },
   "outputs": [],
   "source": [
    "img3_landsat = img3.set('SENSOR_ID', 'OLI_TIRS')\n",
    "cloud_img3 = ee.Algorithms.Landsat.simpleCloudScore(img3_landsat)\n",
    "cloud_img3 = cloud_img3.select('cloud')"
   ]
  },
  {
   "cell_type": "code",
   "execution_count": 90,
   "id": "3594064f",
   "metadata": {
    "ExecuteTime": {
     "end_time": "2022-08-31T18:23:22.170084Z",
     "start_time": "2022-08-31T18:23:22.168002Z"
    }
   },
   "outputs": [],
   "source": [
    "resultados= [cloud_img3, img3_landsat]\n",
    "vis_params2=  [\n",
    "    {'palette':palette_nubes}, \n",
    "    vizParams]\n",
    "labels = [\n",
    "    'Nubes Mosaico 3',\n",
    "    'Mosaico 3']"
   ]
  },
  {
   "cell_type": "code",
   "execution_count": 91,
   "id": "b0b431e7",
   "metadata": {
    "ExecuteTime": {
     "end_time": "2022-08-31T18:23:27.569955Z",
     "start_time": "2022-08-31T18:23:22.171618Z"
    }
   },
   "outputs": [
    {
     "data": {
      "application/vnd.jupyter.widget-view+json": {
       "model_id": "a316994737b24cbfad1246be225a299d",
       "version_major": 2,
       "version_minor": 0
      },
      "text/plain": [
       "GridspecLayout(children=(Output(layout=Layout(grid_area='widget001')), Output(layout=Layout(grid_area='widget0…"
      ]
     },
     "metadata": {},
     "output_type": "display_data"
    }
   ],
   "source": [
    "geemap.linked_maps(rows=1, cols=2, height=\"400px\", center=[-45, -75], zoom=4, \n",
    "                  ee_objects=resultados, vis_params=vis_params2, labels=labels, label_position=\"topright\")"
   ]
  },
  {
   "cell_type": "code",
   "execution_count": 92,
   "id": "34d23a94",
   "metadata": {
    "ExecuteTime": {
     "end_time": "2022-08-31T18:23:27.573091Z",
     "start_time": "2022-08-31T18:23:27.571197Z"
    }
   },
   "outputs": [],
   "source": [
    "def llenado4(image):\n",
    "    return image.where(cloud_img3.gt(10), QM_NDVI_2019)"
   ]
  },
  {
   "cell_type": "code",
   "execution_count": 93,
   "id": "ff7871a7",
   "metadata": {
    "ExecuteTime": {
     "end_time": "2022-08-31T18:23:27.576240Z",
     "start_time": "2022-08-31T18:23:27.574115Z"
    }
   },
   "outputs": [],
   "source": [
    "img4 = llenado4(img3)"
   ]
  },
  {
   "cell_type": "code",
   "execution_count": 94,
   "id": "960e5c07",
   "metadata": {
    "ExecuteTime": {
     "end_time": "2022-08-31T18:23:27.579990Z",
     "start_time": "2022-08-31T18:23:27.577822Z"
    }
   },
   "outputs": [],
   "source": [
    "img4_landsat = img4.set('SENSOR_ID', 'OLI_TIRS')\n",
    "cloud_img4 = ee.Algorithms.Landsat.simpleCloudScore(img4_landsat)\n",
    "cloud_img4 = cloud_img4.select('cloud')"
   ]
  },
  {
   "cell_type": "code",
   "execution_count": 95,
   "id": "e799a2b5",
   "metadata": {
    "ExecuteTime": {
     "end_time": "2022-08-31T18:23:27.583530Z",
     "start_time": "2022-08-31T18:23:27.581598Z"
    }
   },
   "outputs": [],
   "source": [
    "resultados= [cloud_img4, img4_landsat]\n",
    "vis_params2=  [\n",
    "    {'palette':palette_nubes}, \n",
    "    vizParams]\n",
    "labels = [\n",
    "    'Nubes Mosaico 4',\n",
    "    'Mosaico 4']"
   ]
  },
  {
   "cell_type": "code",
   "execution_count": 96,
   "id": "74b1cd77",
   "metadata": {
    "ExecuteTime": {
     "end_time": "2022-08-31T18:23:33.737421Z",
     "start_time": "2022-08-31T18:23:27.585045Z"
    }
   },
   "outputs": [
    {
     "data": {
      "application/vnd.jupyter.widget-view+json": {
       "model_id": "9aad74c3cadf443d961674a48fec570a",
       "version_major": 2,
       "version_minor": 0
      },
      "text/plain": [
       "GridspecLayout(children=(Output(layout=Layout(grid_area='widget001')), Output(layout=Layout(grid_area='widget0…"
      ]
     },
     "metadata": {},
     "output_type": "display_data"
    }
   ],
   "source": [
    "geemap.linked_maps(rows=1, cols=2, height=\"400px\", center=[-45, -75], zoom=4, \n",
    "                  ee_objects=resultados, vis_params=vis_params2, labels=labels, label_position=\"topright\")"
   ]
  },
  {
   "cell_type": "code",
   "execution_count": 97,
   "id": "f2c58601",
   "metadata": {
    "ExecuteTime": {
     "end_time": "2022-08-31T18:23:33.740333Z",
     "start_time": "2022-08-31T18:23:33.738554Z"
    }
   },
   "outputs": [],
   "source": [
    "# hansenImage = ee.Image('UMD/hansen/global_forest_change_2020_v1_8')\n",
    "# datamask = hansenImage.select('datamask')"
   ]
  },
  {
   "cell_type": "code",
   "execution_count": 98,
   "id": "d41556cd",
   "metadata": {
    "ExecuteTime": {
     "end_time": "2022-08-31T18:23:33.743308Z",
     "start_time": "2022-08-31T18:23:33.741513Z"
    }
   },
   "outputs": [],
   "source": [
    "# def llenado5(image):\n",
    "#     return image.where(datamask.eq(2), QM_NDWI_summer_sn)"
   ]
  },
  {
   "cell_type": "code",
   "execution_count": 99,
   "id": "870cf5f2",
   "metadata": {
    "ExecuteTime": {
     "end_time": "2022-08-31T18:23:33.746683Z",
     "start_time": "2022-08-31T18:23:33.744785Z"
    }
   },
   "outputs": [],
   "source": [
    "def llenado5(image):\n",
    "    return image.where(cloud_img4.gt(10), l8_summer5_sn.median())"
   ]
  },
  {
   "cell_type": "code",
   "execution_count": 100,
   "id": "03e97cef",
   "metadata": {
    "ExecuteTime": {
     "end_time": "2022-08-31T18:23:33.750205Z",
     "start_time": "2022-08-31T18:23:33.747947Z"
    }
   },
   "outputs": [],
   "source": [
    "img5 = llenado5(img4)"
   ]
  },
  {
   "cell_type": "code",
   "execution_count": 101,
   "id": "95dc3e89",
   "metadata": {
    "ExecuteTime": {
     "end_time": "2022-08-31T18:23:33.753566Z",
     "start_time": "2022-08-31T18:23:33.751436Z"
    }
   },
   "outputs": [],
   "source": [
    "img5_landsat = img5.set('SENSOR_ID', 'OLI_TIRS')\n",
    "cloud_img5 = ee.Algorithms.Landsat.simpleCloudScore(img5_landsat)\n",
    "cloud_img5 = cloud_img5.select('cloud')"
   ]
  },
  {
   "cell_type": "code",
   "execution_count": 102,
   "id": "cefb8a8f",
   "metadata": {
    "ExecuteTime": {
     "end_time": "2022-08-31T18:23:33.756907Z",
     "start_time": "2022-08-31T18:23:33.754979Z"
    }
   },
   "outputs": [],
   "source": [
    "resultados= [img4, img5]\n",
    "labels = [\n",
    "    'Mosaico 4',\n",
    "    'Mosaico 5']\n",
    "vis_params3=  [\n",
    "     vizParams, \n",
    "    vizParams]"
   ]
  },
  {
   "cell_type": "code",
   "execution_count": 103,
   "id": "966cfb40",
   "metadata": {
    "ExecuteTime": {
     "end_time": "2022-08-31T18:23:40.369663Z",
     "start_time": "2022-08-31T18:23:33.758325Z"
    }
   },
   "outputs": [
    {
     "data": {
      "application/vnd.jupyter.widget-view+json": {
       "model_id": "145f57747ba0406ca4ce0381ae2b500a",
       "version_major": 2,
       "version_minor": 0
      },
      "text/plain": [
       "GridspecLayout(children=(Output(layout=Layout(grid_area='widget001')), Output(layout=Layout(grid_area='widget0…"
      ]
     },
     "metadata": {},
     "output_type": "display_data"
    }
   ],
   "source": [
    "geemap.linked_maps(rows=1, cols=2, height=\"400px\", center=[-45, -75], zoom=4, \n",
    "                   ee_objects=resultados, vis_params=vis_params3, labels=labels, label_position=\"topright\")"
   ]
  },
  {
   "cell_type": "code",
   "execution_count": 104,
   "id": "22fe832e",
   "metadata": {
    "ExecuteTime": {
     "end_time": "2022-08-31T18:23:40.373136Z",
     "start_time": "2022-08-31T18:23:40.370956Z"
    }
   },
   "outputs": [],
   "source": [
    "resultados= [cloud_img5, img5]\n",
    "labels = [\n",
    "    'Nubes',\n",
    "    'Mosaico 5']\n",
    "vis_params3=  [\n",
    "     {'palette':palette_nubes}, \n",
    "    vizParams]"
   ]
  },
  {
   "cell_type": "code",
   "execution_count": 105,
   "id": "4f012564",
   "metadata": {
    "ExecuteTime": {
     "end_time": "2022-08-31T18:23:47.234452Z",
     "start_time": "2022-08-31T18:23:40.374794Z"
    }
   },
   "outputs": [
    {
     "data": {
      "application/vnd.jupyter.widget-view+json": {
       "model_id": "93c5ce6d55b04c87b3ace93307912020",
       "version_major": 2,
       "version_minor": 0
      },
      "text/plain": [
       "GridspecLayout(children=(Output(layout=Layout(grid_area='widget001')), Output(layout=Layout(grid_area='widget0…"
      ]
     },
     "metadata": {},
     "output_type": "display_data"
    }
   ],
   "source": [
    "geemap.linked_maps(rows=1, cols=2, height=\"400px\", center=[-45, -75], zoom=4, \n",
    "                   ee_objects=resultados, vis_params=vis_params3, labels=labels, label_position=\"topright\")"
   ]
  },
  {
   "cell_type": "code",
   "execution_count": 106,
   "id": "816e20f5",
   "metadata": {
    "ExecuteTime": {
     "end_time": "2022-08-31T18:23:47.237878Z",
     "start_time": "2022-08-31T18:23:47.235666Z"
    }
   },
   "outputs": [],
   "source": [
    "def llenado6(image):\n",
    "    return image.where(cloud_img5.gt(10),l8_summer5.qualityMosaic('NDVI'))"
   ]
  },
  {
   "cell_type": "code",
   "execution_count": 107,
   "id": "4ea42282",
   "metadata": {
    "ExecuteTime": {
     "end_time": "2022-08-31T18:23:47.241034Z",
     "start_time": "2022-08-31T18:23:47.238920Z"
    }
   },
   "outputs": [],
   "source": [
    "img6 = llenado6(img5)"
   ]
  },
  {
   "cell_type": "code",
   "execution_count": 108,
   "id": "b510be19",
   "metadata": {
    "ExecuteTime": {
     "end_time": "2022-08-31T18:23:47.244814Z",
     "start_time": "2022-08-31T18:23:47.242585Z"
    }
   },
   "outputs": [],
   "source": [
    "img6_landsat = img6.set('SENSOR_ID', 'OLI_TIRS')\n",
    "cloud_img6 = ee.Algorithms.Landsat.simpleCloudScore(img6_landsat)\n",
    "cloud_img6 = cloud_img6.select('cloud')"
   ]
  },
  {
   "cell_type": "code",
   "execution_count": 109,
   "id": "bc0c68bc",
   "metadata": {
    "ExecuteTime": {
     "end_time": "2022-08-31T18:23:47.248222Z",
     "start_time": "2022-08-31T18:23:47.246107Z"
    }
   },
   "outputs": [],
   "source": [
    "resultados= [img5, img6]\n",
    "labels = [\n",
    "    'Mosaico 5',\n",
    "    'Mosaico 6']\n",
    "vis_params3=  [\n",
    "     vizParams, \n",
    "    vizParams]"
   ]
  },
  {
   "cell_type": "code",
   "execution_count": 110,
   "id": "19ee8ace",
   "metadata": {
    "ExecuteTime": {
     "end_time": "2022-08-31T18:23:54.277887Z",
     "start_time": "2022-08-31T18:23:47.249604Z"
    }
   },
   "outputs": [
    {
     "data": {
      "application/vnd.jupyter.widget-view+json": {
       "model_id": "0afcaa85183b43f0b021db88937eb8aa",
       "version_major": 2,
       "version_minor": 0
      },
      "text/plain": [
       "GridspecLayout(children=(Output(layout=Layout(grid_area='widget001')), Output(layout=Layout(grid_area='widget0…"
      ]
     },
     "metadata": {},
     "output_type": "display_data"
    }
   ],
   "source": [
    "geemap.linked_maps(rows=1, cols=2, height=\"400px\", center=[-45, -75], zoom=4, \n",
    "                   ee_objects=resultados, vis_params=vis_params3, labels=labels, label_position=\"topright\")"
   ]
  },
  {
   "cell_type": "code",
   "execution_count": 111,
   "id": "2042ec0c",
   "metadata": {
    "ExecuteTime": {
     "end_time": "2022-08-31T18:23:54.281171Z",
     "start_time": "2022-08-31T18:23:54.279202Z"
    }
   },
   "outputs": [],
   "source": [
    "resultados= [cloud_img6, img6]\n",
    "labels = [\n",
    "    'Nubes 6',\n",
    "    'Mosaico 6']\n",
    "vis_params3=  [\n",
    "     {'palette':palette_nubes}, \n",
    "    vizParams]"
   ]
  },
  {
   "cell_type": "code",
   "execution_count": 112,
   "id": "2b448abf",
   "metadata": {
    "ExecuteTime": {
     "end_time": "2022-08-31T18:24:01.117716Z",
     "start_time": "2022-08-31T18:23:54.282221Z"
    }
   },
   "outputs": [
    {
     "data": {
      "application/vnd.jupyter.widget-view+json": {
       "model_id": "9a72b7f8dec640f9892aec321ceb843f",
       "version_major": 2,
       "version_minor": 0
      },
      "text/plain": [
       "GridspecLayout(children=(Output(layout=Layout(grid_area='widget001')), Output(layout=Layout(grid_area='widget0…"
      ]
     },
     "metadata": {},
     "output_type": "display_data"
    }
   ],
   "source": [
    "geemap.linked_maps(rows=1, cols=2, height=\"400px\", center=[-45, -75], zoom=4, \n",
    "                   ee_objects=resultados, vis_params=vis_params3, labels=labels, label_position=\"topright\")"
   ]
  },
  {
   "cell_type": "code",
   "execution_count": 113,
   "id": "9e2e7562",
   "metadata": {
    "ExecuteTime": {
     "end_time": "2022-08-31T18:24:01.120864Z",
     "start_time": "2022-08-31T18:24:01.118878Z"
    }
   },
   "outputs": [],
   "source": [
    "hansenImage = ee.Image('UMD/hansen/global_forest_change_2015')\n",
    "datamask = hansenImage.select('datamask')"
   ]
  },
  {
   "cell_type": "code",
   "execution_count": 114,
   "id": "2ceede78",
   "metadata": {
    "ExecuteTime": {
     "end_time": "2022-08-31T18:24:01.124137Z",
     "start_time": "2022-08-31T18:24:01.121877Z"
    }
   },
   "outputs": [],
   "source": [
    "def llenado7(image):\n",
    "    return image.where(datamask.eq(2),l8_summer5_sn.median())"
   ]
  },
  {
   "cell_type": "code",
   "execution_count": 115,
   "id": "9aca5e96",
   "metadata": {
    "ExecuteTime": {
     "end_time": "2022-08-31T18:24:01.127510Z",
     "start_time": "2022-08-31T18:24:01.125687Z"
    }
   },
   "outputs": [],
   "source": [
    "img7 = llenado7(img6)"
   ]
  },
  {
   "cell_type": "code",
   "execution_count": 116,
   "id": "4b6e7672",
   "metadata": {
    "ExecuteTime": {
     "end_time": "2022-08-31T18:24:01.130972Z",
     "start_time": "2022-08-31T18:24:01.129180Z"
    }
   },
   "outputs": [],
   "source": [
    "resultados= [img6, img7]\n",
    "labels = [\n",
    "    'Mosaico 6',\n",
    "    'Mosaico 7']\n",
    "vis_params3=  [\n",
    "     vizParams, \n",
    "    vizParams]"
   ]
  },
  {
   "cell_type": "code",
   "execution_count": 117,
   "id": "37e695c0",
   "metadata": {
    "ExecuteTime": {
     "end_time": "2022-08-31T18:24:08.150575Z",
     "start_time": "2022-08-31T18:24:01.132405Z"
    }
   },
   "outputs": [
    {
     "data": {
      "application/vnd.jupyter.widget-view+json": {
       "model_id": "31b0caebc6064d79884b367fd4e38789",
       "version_major": 2,
       "version_minor": 0
      },
      "text/plain": [
       "GridspecLayout(children=(Output(layout=Layout(grid_area='widget001')), Output(layout=Layout(grid_area='widget0…"
      ]
     },
     "metadata": {},
     "output_type": "display_data"
    }
   ],
   "source": [
    "geemap.linked_maps(rows=1, cols=2, height=\"400px\", center=[-45, -75], zoom=4, \n",
    "                   ee_objects=resultados, vis_params=vis_params3, labels=labels, label_position=\"topright\")"
   ]
  },
  {
   "cell_type": "code",
   "execution_count": 118,
   "id": "e8378a00",
   "metadata": {
    "ExecuteTime": {
     "end_time": "2022-08-31T18:24:08.154048Z",
     "start_time": "2022-08-31T18:24:08.151901Z"
    }
   },
   "outputs": [],
   "source": [
    "img7_landsat = img7.set('SENSOR_ID', 'OLI_TIRS')\n",
    "cloud_img7 = ee.Algorithms.Landsat.simpleCloudScore(img7_landsat)\n",
    "cloud_img7 = cloud_img7.select('cloud')"
   ]
  },
  {
   "cell_type": "code",
   "execution_count": 119,
   "id": "ad55ba55",
   "metadata": {
    "ExecuteTime": {
     "end_time": "2022-08-31T18:24:08.157142Z",
     "start_time": "2022-08-31T18:24:08.155125Z"
    }
   },
   "outputs": [],
   "source": [
    "# def llenado8(image):\n",
    "#     return image.where(cloud_img7.gt(10),l8_summer5_sn.median())"
   ]
  },
  {
   "cell_type": "code",
   "execution_count": 120,
   "id": "6fda5e1b",
   "metadata": {
    "ExecuteTime": {
     "end_time": "2022-08-31T18:24:08.160244Z",
     "start_time": "2022-08-31T18:24:08.158667Z"
    }
   },
   "outputs": [],
   "source": [
    "# img8 = llenado8(img7)"
   ]
  },
  {
   "cell_type": "code",
   "execution_count": 121,
   "id": "13743162",
   "metadata": {
    "ExecuteTime": {
     "end_time": "2022-08-31T18:24:08.163668Z",
     "start_time": "2022-08-31T18:24:08.161703Z"
    }
   },
   "outputs": [],
   "source": [
    "resultados= [img6, img7]\n",
    "labels = [\n",
    "    'Mosaico 6',\n",
    "    'Mosaico 7']\n",
    "vis_params3=  [\n",
    "     vizParams, \n",
    "    vizParams]"
   ]
  },
  {
   "cell_type": "code",
   "execution_count": 122,
   "id": "415c0dfa",
   "metadata": {
    "ExecuteTime": {
     "end_time": "2022-08-31T18:24:14.847735Z",
     "start_time": "2022-08-31T18:24:08.165090Z"
    }
   },
   "outputs": [
    {
     "data": {
      "application/vnd.jupyter.widget-view+json": {
       "model_id": "23d0a021fcaa41eebe8c78e360d6ff52",
       "version_major": 2,
       "version_minor": 0
      },
      "text/plain": [
       "GridspecLayout(children=(Output(layout=Layout(grid_area='widget001')), Output(layout=Layout(grid_area='widget0…"
      ]
     },
     "metadata": {},
     "output_type": "display_data"
    }
   ],
   "source": [
    "geemap.linked_maps(rows=1, cols=2, height=\"400px\", center=[-45, -75], zoom=4, \n",
    "                   ee_objects=resultados, vis_params=vis_params3, labels=labels, label_position=\"topright\")"
   ]
  },
  {
   "cell_type": "code",
   "execution_count": 123,
   "id": "16158ea3",
   "metadata": {
    "ExecuteTime": {
     "end_time": "2022-08-31T18:24:23.444084Z",
     "start_time": "2022-08-31T18:24:14.848993Z"
    },
    "tags": []
   },
   "outputs": [
    {
     "data": {
      "application/vnd.jupyter.widget-view+json": {
       "model_id": "c5588372892945d08eda649dfdb57eca",
       "version_major": 2,
       "version_minor": 0
      },
      "text/plain": [
       "Map(center=[-45, -70], controls=(WidgetControl(options=['position', 'transparent_bg'], widget=HBox(children=(T…"
      ]
     },
     "metadata": {},
     "output_type": "display_data"
    }
   ],
   "source": [
    "Map2.addLayer(cloud_img5,{'palette':palette_nubes},'Nubes 6')\n",
    "Map2.addLayer(l8_summer6.qualityMosaic('NDVI'), vizParams, 'QM NDVI CLC')\n",
    "Map2.addLayer(img7, vizParams, 'Mosaico Final')\n",
    "Map2"
   ]
  },
  {
   "cell_type": "markdown",
   "id": "822fd576",
   "metadata": {},
   "source": [
    "## Fechas Mosaico"
   ]
  },
  {
   "cell_type": "code",
   "execution_count": 179,
   "id": "d5ce1015-82bd-4d28-abc3-775a49e6876a",
   "metadata": {},
   "outputs": [
    {
     "name": "stdout",
     "output_type": "stream",
     "text": [
      "'utf-8' codec can't decode byte 0xf3 in position 4: invalid continuation byte\n"
     ]
    }
   ],
   "source": [
    "work_dir = os.path.expanduser('../Data/')\n",
    "aysen = os.path.join(work_dir, 'aysen2.shp')\n",
    "aysen_region = geemap.shp_to_ee(aysen)"
   ]
  },
  {
   "cell_type": "code",
   "execution_count": 178,
   "id": "96f4ffee-fd4e-4038-b720-f3b38418f22b",
   "metadata": {},
   "outputs": [
    {
     "name": "stdout",
     "output_type": "stream",
     "text": [
      "'utf-8' codec can't decode byte 0xf3 in position 4: invalid continuation byte\n"
     ]
    }
   ],
   "source": [
    "magallanes = os.path.join(work_dir, 'region_magallanes.shp')\n",
    "magallanes = geemap.shp_to_ee(magallanes)"
   ]
  },
  {
   "cell_type": "code",
   "execution_count": null,
   "id": "2bef2c0b-2bab-4c9c-bf83-5071d0d30f07",
   "metadata": {},
   "outputs": [],
   "source": [
    "aysen = img7.clip("
   ]
  },
  {
   "cell_type": "code",
   "execution_count": null,
   "id": "0240b9c0-4c0a-4dd8-ac55-59c8064ca789",
   "metadata": {},
   "outputs": [],
   "source": []
  },
  {
   "cell_type": "code",
   "execution_count": null,
   "id": "684f9da8-a479-4518-abd4-b4c19ae1f2c2",
   "metadata": {},
   "outputs": [],
   "source": []
  },
  {
   "cell_type": "code",
   "execution_count": 124,
   "id": "1721ad43",
   "metadata": {},
   "outputs": [
    {
     "data": {
      "text/plain": [
       "['B1',\n",
       " 'B2',\n",
       " 'B3',\n",
       " 'B4',\n",
       " 'B5',\n",
       " 'B6',\n",
       " 'B7',\n",
       " 'B8',\n",
       " 'B9',\n",
       " 'B10',\n",
       " 'B11',\n",
       " 'QA_PIXEL',\n",
       " 'QA_RADSAT',\n",
       " 'SAA',\n",
       " 'SZA',\n",
       " 'VAA',\n",
       " 'VZA',\n",
       " 'NDVI',\n",
       " 'NDWI',\n",
       " 'mNDWI',\n",
       " 'NDWBI',\n",
       " 'NDGI',\n",
       " 'SAVI',\n",
       " 'MSAVI2',\n",
       " 'NDSI',\n",
       " 'NDBI',\n",
       " 'EVI',\n",
       " 'NDBrI',\n",
       " 'GNDVI',\n",
       " 'date',\n",
       " 'year',\n",
       " 'month',\n",
       " 'nube']"
      ]
     },
     "execution_count": 124,
     "metadata": {},
     "output_type": "execute_result"
    }
   ],
   "source": [
    "img7.bandNames().getInfo()"
   ]
  },
  {
   "cell_type": "code",
   "execution_count": 125,
   "id": "d0391f6c-98b6-4537-ac35-a39bf335d3a0",
   "metadata": {},
   "outputs": [],
   "source": [
    "mes = img7.select('month')\n",
    "years = img7.select('year')\n",
    "\n",
    "vizParams_mes = {'palette': ['red', 'blue'], 'min': 1, 'max': 12}\n",
    "vizParams_year= {'palette': ['brown', 'green'], 'min': 2018, 'max': 2022}"
   ]
  },
  {
   "cell_type": "code",
   "execution_count": 126,
   "id": "d56d93ab-159a-4092-98fc-9dc1f5d055ae",
   "metadata": {},
   "outputs": [],
   "source": [
    "resultados= [mes, years]\n",
    "labels = [\n",
    "    'Meses 1-12',\n",
    "    'Años']\n",
    "vis_params4=  [\n",
    "     vizParams_mes, \n",
    "    vizParams_year]"
   ]
  },
  {
   "cell_type": "code",
   "execution_count": 127,
   "id": "921af933-05c2-47eb-8c66-9ed18b41edda",
   "metadata": {},
   "outputs": [
    {
     "data": {
      "application/vnd.jupyter.widget-view+json": {
       "model_id": "ea49428f72e3489c86364c3a91151457",
       "version_major": 2,
       "version_minor": 0
      },
      "text/plain": [
       "GridspecLayout(children=(Output(layout=Layout(grid_area='widget001')), Output(layout=Layout(grid_area='widget0…"
      ]
     },
     "metadata": {},
     "output_type": "display_data"
    }
   ],
   "source": [
    "geemap.linked_maps(rows=1, cols=2, height=\"400px\", center=[-45, -75], zoom=4, \n",
    "                   ee_objects=resultados, vis_params=vis_params4, labels=labels, label_position=\"topright\")"
   ]
  },
  {
   "cell_type": "code",
   "execution_count": 153,
   "id": "6935c698-0af2-454c-9b84-9cb0a88c8dd2",
   "metadata": {},
   "outputs": [
    {
     "data": {
      "text/plain": [
       "{'type': 'Projection', 'crs': 'EPSG:4326', 'transform': [1, 0, 0, 0, 1, 0]}"
      ]
     },
     "execution_count": 153,
     "metadata": {},
     "output_type": "execute_result"
    }
   ],
   "source": [
    "img7.projection().getInfo()"
   ]
  },
  {
   "cell_type": "code",
   "execution_count": 164,
   "id": "cdb51503-1727-4d8b-a765-0ff01ec80333",
   "metadata": {},
   "outputs": [],
   "source": [
    "sample_fechas= img7.sample(\n",
    "    region= geometry_exp,\n",
    "    scale=30,\n",
    "    projection= 'EPSG:4326',\n",
    "    numPixels=2000,\n",
    "    tileScale=4,\n",
    ")\n",
    "property = 'year'"
   ]
  },
  {
   "cell_type": "code",
   "execution_count": 165,
   "id": "f948c869-2b79-458d-9ed6-7d5f97a5c921",
   "metadata": {},
   "outputs": [],
   "source": [
    "options = {\n",
    "    \"title\": 'Fechas Mosaico',\n",
    "    \"xlabel\": 'Dates',\n",
    "    \"ylabel\": 'Pixel count',\n",
    "    \"colors\": ['#1d6b99'],\n",
    "}"
   ]
  },
  {
   "cell_type": "code",
   "execution_count": 166,
   "id": "a0134e2a-4b22-4f1e-9ffc-3697631d536d",
   "metadata": {},
   "outputs": [
    {
     "data": {
      "application/vnd.jupyter.widget-view+json": {
       "model_id": "2ab2c751ff164aafbc2a0433336162ac",
       "version_major": 2,
       "version_minor": 0
      },
      "text/plain": [
       "VBox(children=(Figure(axes=[Axis(label='Pixel count', orientation='vertical', scale=LinearScale()), Axis(label…"
      ]
     },
     "metadata": {},
     "output_type": "display_data"
    }
   ],
   "source": [
    "chart.feature_histogram(sample_fechas, property, **options)"
   ]
  },
  {
   "cell_type": "markdown",
   "id": "13d14efe",
   "metadata": {
    "tags": []
   },
   "source": [
    "### Descarga Mosaico"
   ]
  },
  {
   "cell_type": "code",
   "execution_count": null,
   "id": "838a2f5f",
   "metadata": {
    "ExecuteTime": {
     "end_time": "2022-08-31T18:24:23.457213Z",
     "start_time": "2022-08-31T18:24:23.454792Z"
    }
   },
   "outputs": [],
   "source": [
    "mosaico_final= img7.select('B1','B2','B3','B4','B5','B6','B7')\n"
   ]
  },
  {
   "cell_type": "code",
   "execution_count": null,
   "id": "ba8d17a2",
   "metadata": {
    "ExecuteTime": {
     "end_time": "2022-08-31T18:24:23.460929Z",
     "start_time": "2022-08-31T18:24:23.458706Z"
    }
   },
   "outputs": [],
   "source": [
    "B1 = img7.select('B1')\n",
    "B2 = img7.select('B2')\n",
    "B3 = img7.select('B3')\n",
    "B4 = img7.select('B4')\n",
    "B5 = img7.select('B5')\n",
    "B6 = img7.select('B6')\n",
    "B7 = img7.select('B7')"
   ]
  },
  {
   "cell_type": "code",
   "execution_count": null,
   "id": "f6ac7669",
   "metadata": {
    "ExecuteTime": {
     "end_time": "2022-08-31T18:24:23.468944Z",
     "start_time": "2022-08-31T18:24:23.462352Z"
    }
   },
   "outputs": [],
   "source": [
    "task_mosaico_B1 = ee.batch.Export.image.toDrive(**{\n",
    "    'image': B1,\n",
    "    'description':'B1',\n",
    "    'folder':'Earth Engine',\n",
    "    'region': geometry_exp.bounds(),\n",
    "    'scale':30,\n",
    "    'crsTransform':[30, 0, 214185, 0, -30, -4825185], \n",
    "    'crs':'EPSG:32719',\n",
    "    'maxPixels':1e13\n",
    "})\n",
    "task_mosaico_B2 = ee.batch.Export.image.toDrive(**{\n",
    "    'image': B2,\n",
    "    'description':'B2',\n",
    "    'folder':'Earth Engine',\n",
    "    'region': geometry_exp.bounds(),\n",
    "    'scale':30,\n",
    "    'crsTransform':[30, 0, 214185, 0, -30, -4825185], \n",
    "    'crs':'EPSG:32719',\n",
    "    'maxPixels':1e13\n",
    "})\n",
    "task_mosaico_B3 = ee.batch.Export.image.toDrive(**{\n",
    "    'image': B3,\n",
    "    'description':'B3',\n",
    "    'folder':'Earth Engine',\n",
    "    'region': geometry_exp.bounds(),\n",
    "    'scale':30,\n",
    "    'crsTransform':[30, 0, 214185, 0, -30, -4825185], \n",
    "    'crs':'EPSG:32719',\n",
    "    'maxPixels':1e13\n",
    "})\n",
    "task_mosaico_B4 = ee.batch.Export.image.toDrive(**{\n",
    "    'image': B4,\n",
    "    'description':'B4',\n",
    "    'folder':'Earth Engine',\n",
    "    'region': geometry_exp.bounds(),\n",
    "    'scale':30,\n",
    "    'crsTransform':[30, 0, 214185, 0, -30, -4825185], \n",
    "    'crs':'EPSG:32719',\n",
    "    'maxPixels':1e13\n",
    "})\n",
    "task_mosaico_B5 = ee.batch.Export.image.toDrive(**{\n",
    "    'image': B5,\n",
    "    'description':'B5',\n",
    "    'folder':'Earth Engine',\n",
    "    'region': geometry_exp.bounds(),\n",
    "    'scale':30,\n",
    "    'crsTransform':[30, 0, 214185, 0, -30, -4825185], \n",
    "    'crs':'EPSG:32719',\n",
    "    'maxPixels':1e13\n",
    "})\n",
    "task_mosaico_B6 = ee.batch.Export.image.toDrive(**{\n",
    "    'image': B6,\n",
    "    'description':'B6',\n",
    "    'folder':'Earth Engine',\n",
    "    'region': geometry_exp.bounds(),\n",
    "    'scale':30,\n",
    "    'crsTransform':[30, 0, 214185, 0, -30, -4825185], \n",
    "    'crs':'EPSG:32719',\n",
    "    'maxPixels':1e13\n",
    "})\n",
    "task_mosaico_B7 = ee.batch.Export.image.toDrive(**{\n",
    "    'image': B7,\n",
    "    'description':'B7',\n",
    "    'folder':'Earth Engine',\n",
    "    'region': geometry_exp.bounds(),\n",
    "    'scale':30,\n",
    "    'crsTransform':[30, 0, 214185, 0, -30, -4825185], \n",
    "    'crs':'EPSG:32719',\n",
    "    'maxPixels':1e13\n",
    "})"
   ]
  },
  {
   "cell_type": "code",
   "execution_count": null,
   "id": "40353a77",
   "metadata": {
    "ExecuteTime": {
     "end_time": "2022-08-31T18:24:23.471889Z",
     "start_time": "2022-08-31T18:24:23.470163Z"
    }
   },
   "outputs": [],
   "source": [
    "# task_mosaico_B1.start()\n",
    "# task_mosaico_B2.start()\n",
    "# task_mosaico_B3.start()\n",
    "# task_mosaico_B4.start()\n",
    "# task_mosaico_B5.start()\n",
    "# task_mosaico_B6.start()\n",
    "# task_mosaico_B7.start()\n"
   ]
  },
  {
   "cell_type": "markdown",
   "id": "bb6585e7",
   "metadata": {},
   "source": [
    "## Taseeled cap"
   ]
  },
  {
   "cell_type": "code",
   "execution_count": null,
   "id": "9f44feaf",
   "metadata": {
    "ExecuteTime": {
     "end_time": "2022-08-31T18:24:23.475515Z",
     "start_time": "2022-08-31T18:24:23.473264Z"
    }
   },
   "outputs": [],
   "source": [
    "tasse_img7 = img7.select(['B2', 'B3', 'B4', 'B5', 'B6', 'B7'])\n",
    "arrayimage1dm = tasse_img7.toArray()\n",
    "arrayimage2dm = arrayimage1dm.toArray(1)"
   ]
  },
  {
   "cell_type": "code",
   "execution_count": null,
   "id": "083de568",
   "metadata": {
    "ExecuteTime": {
     "end_time": "2022-08-31T18:24:23.480117Z",
     "start_time": "2022-08-31T18:24:23.477065Z"
    }
   },
   "outputs": [],
   "source": [
    "coef = ee.Array([\n",
    "    [0.3029, 0.2786, 0.4733, 0.5599, 0.508, 0.1872], \n",
    "    [-0.2941, -0.243, -0.5424, 0.7276, 0.0713, -0.1608],\n",
    "    [0.1511, 0.1973, 0.3283, 0.3407, -0.7117, -0.4559],\n",
    "    [-0.8239, 0.0849, 0.4396, -0.058, 0.2013, -0.2773],\n",
    "    [-0.3294, 0.0557, 0.1056, 0.1855, -0.4349, 0.8085],\n",
    "    [0.1079, -0.9023, 0.4119, 0.0575, -0.0259, 0.0252]\n",
    "])"
   ]
  },
  {
   "cell_type": "code",
   "execution_count": null,
   "id": "e029d2af",
   "metadata": {
    "ExecuteTime": {
     "end_time": "2022-08-31T18:24:23.483458Z",
     "start_time": "2022-08-31T18:24:23.481367Z"
    }
   },
   "outputs": [],
   "source": [
    "componentes = ee.Image(coef)\\\n",
    "                .matrixMultiply(arrayimage2dm) \\\n",
    "                .arrayProject([0])\\\n",
    "                .arrayFlatten(\n",
    "                [['brightness','greenness','wetness','fourth','fifth','sixth']])"
   ]
  },
  {
   "cell_type": "code",
   "execution_count": null,
   "id": "ef5610d0",
   "metadata": {
    "ExecuteTime": {
     "end_time": "2022-08-31T18:24:23.486881Z",
     "start_time": "2022-08-31T18:24:23.484911Z"
    }
   },
   "outputs": [],
   "source": [
    "vizParamstess = {\n",
    "  'bands': ['brightness', 'greenness', 'wetness'],\n",
    "    'min': -0.1,\n",
    "    'max': [0.6, 0.2, 0.2]\n",
    "}"
   ]
  },
  {
   "cell_type": "code",
   "execution_count": null,
   "id": "d4251cc2",
   "metadata": {
    "ExecuteTime": {
     "end_time": "2022-08-31T18:24:31.443809Z",
     "start_time": "2022-08-31T18:24:23.488326Z"
    }
   },
   "outputs": [],
   "source": [
    "Map3.addLayer(componentes,vizParamstess, 'Tesseled cap')\n",
    "Map3"
   ]
  },
  {
   "cell_type": "code",
   "execution_count": null,
   "id": "517754c9",
   "metadata": {
    "ExecuteTime": {
     "end_time": "2022-08-31T18:24:31.447249Z",
     "start_time": "2022-08-31T18:24:31.445123Z"
    }
   },
   "outputs": [],
   "source": [
    "tasseled = componentes.select('brightness','greenness','wetness')"
   ]
  },
  {
   "cell_type": "code",
   "execution_count": null,
   "id": "fe6ec557-e10a-4888-a95d-3cfd4175eac5",
   "metadata": {
    "ExecuteTime": {
     "end_time": "2022-08-31T18:24:31.450591Z",
     "start_time": "2022-08-31T18:24:31.448348Z"
    }
   },
   "outputs": [],
   "source": [
    "brightness = tasseled.select('brightness')\n",
    "greenness = tasseled.select('greenness')\n",
    "wetness = tasseled.select('wetness')"
   ]
  },
  {
   "cell_type": "code",
   "execution_count": null,
   "id": "b0ea543b-0bd0-47de-9f2a-06f55ea1f2d9",
   "metadata": {
    "ExecuteTime": {
     "end_time": "2022-08-31T18:24:31.455759Z",
     "start_time": "2022-08-31T18:24:31.452202Z"
    }
   },
   "outputs": [],
   "source": [
    "task_brightness = ee.batch.Export.image.toDrive(**{\n",
    "    'image': brightness,\n",
    "    'description':'brightness',\n",
    "    'folder':'Earth Engine',\n",
    "    'region': geometry_exp.bounds(),\n",
    "    'scale':30,\n",
    "    'crsTransform':[30, 0, 214185, 0, -30, -4825185], \n",
    "    'crs':'EPSG:32719',\n",
    "    'maxPixels':1e13\n",
    "})\n",
    "task_greenness = ee.batch.Export.image.toDrive(**{\n",
    "    'image': greenness,\n",
    "    'description':'greenness',\n",
    "    'folder':'Earth Engine',\n",
    "    'region': geometry_exp.bounds(),\n",
    "    'scale':30,\n",
    "    'crsTransform':[30, 0, 214185, 0, -30, -4825185], \n",
    "    'crs':'EPSG:32719',\n",
    "    'maxPixels':1e13\n",
    "})\n",
    "task_wetness = ee.batch.Export.image.toDrive(**{\n",
    "    'image': wetness,\n",
    "    'description':'wetness',\n",
    "    'folder':'Earth Engine',\n",
    "    'region': geometry_exp.bounds(),\n",
    "    'scale':30,\n",
    "    'crsTransform':[30, 0, 214185, 0, -30, -4825185], \n",
    "    'crs':'EPSG:32719',\n",
    "    'maxPixels':1e13\n",
    "})"
   ]
  },
  {
   "cell_type": "code",
   "execution_count": null,
   "id": "1fd3cda3-860a-4321-b597-b030430fdd22",
   "metadata": {
    "ExecuteTime": {
     "end_time": "2022-08-31T18:24:31.459759Z",
     "start_time": "2022-08-31T18:24:31.457284Z"
    }
   },
   "outputs": [],
   "source": [
    "# task_brightness.start()\n",
    "# task_greenness.start()\n",
    "# task_wetness.start()"
   ]
  },
  {
   "cell_type": "markdown",
   "id": "4fd1e42b",
   "metadata": {},
   "source": [
    "## Texturas"
   ]
  },
  {
   "cell_type": "markdown",
   "id": "3696dd4f",
   "metadata": {},
   "source": [
    "TM"
   ]
  },
  {
   "cell_type": "code",
   "execution_count": null,
   "id": "4fe835da",
   "metadata": {
    "ExecuteTime": {
     "end_time": "2022-08-31T18:24:31.463064Z",
     "start_time": "2022-08-31T18:24:31.460960Z"
    }
   },
   "outputs": [],
   "source": [
    "text_qm = img7.select('B1','B2','B3','B4','B5','B6','B7')\n",
    "text_qm_array = text_qm.toArray()\n",
    "text_qm_array = text_qm_array.toArray(1)"
   ]
  },
  {
   "cell_type": "code",
   "execution_count": null,
   "id": "b6b25cb8",
   "metadata": {
    "ExecuteTime": {
     "end_time": "2022-08-31T18:24:31.466820Z",
     "start_time": "2022-08-31T18:24:31.464446Z"
    }
   },
   "outputs": [],
   "source": [
    "coef100 = ee.Array([\n",
    "    [100,0,0,0,0,0,0],\n",
    "    [0,100,0,0,0,0,0],\n",
    "    [0,0,100,0,0,0,0],\n",
    "    [0,0,0,100,0,0,0],\n",
    "    [0,0,0,0,100,0,0],\n",
    "    [0,0,0,0,0,100,0],\n",
    "    [0,0,0,0,0,0,100],\n",
    "    ])"
   ]
  },
  {
   "cell_type": "code",
   "execution_count": null,
   "id": "9fe3eda4",
   "metadata": {
    "ExecuteTime": {
     "end_time": "2022-08-31T18:24:31.470352Z",
     "start_time": "2022-08-31T18:24:31.468248Z"
    }
   },
   "outputs": [],
   "source": [
    "factor_qm = ee.Image(coef100)\\\n",
    "                .matrixMultiply(text_qm_array) \\\n",
    "                .arrayProject([0])\\\n",
    "                .arrayFlatten(\n",
    "                [['B1','B2','B3','B4','B5','B6','B7']])"
   ]
  },
  {
   "cell_type": "code",
   "execution_count": null,
   "id": "5e637b0a",
   "metadata": {
    "ExecuteTime": {
     "end_time": "2022-08-31T18:24:31.473567Z",
     "start_time": "2022-08-31T18:24:31.471754Z"
    }
   },
   "outputs": [],
   "source": [
    "testint_txt_qm = factor_qm.int()"
   ]
  },
  {
   "cell_type": "code",
   "execution_count": null,
   "id": "0e6e846c",
   "metadata": {
    "ExecuteTime": {
     "end_time": "2022-08-31T18:24:31.476531Z",
     "start_time": "2022-08-31T18:24:31.474796Z"
    }
   },
   "outputs": [],
   "source": [
    "txt_qm = testint_txt_qm.glcmTexture(3)"
   ]
  },
  {
   "cell_type": "markdown",
   "id": "2c7c7ef7-db0a-4819-a31d-e555ad0d7c1d",
   "metadata": {},
   "source": [
    "Banda 5 NIR"
   ]
  },
  {
   "cell_type": "code",
   "execution_count": null,
   "id": "7f1b16d8-0e1b-4325-a8c2-fb1c2f6fa3b8",
   "metadata": {
    "ExecuteTime": {
     "end_time": "2022-08-31T18:24:31.480082Z",
     "start_time": "2022-08-31T18:24:31.478014Z"
    }
   },
   "outputs": [],
   "source": [
    "txt_b5 = img7.select('B5')\n",
    "text_b5_array = txt_b5.toArray()\n",
    "text_b5_array = text_b5_array.toArray(1)"
   ]
  },
  {
   "cell_type": "code",
   "execution_count": null,
   "id": "f44cb36a-a755-488f-ad8a-3adf6ee4f84d",
   "metadata": {
    "ExecuteTime": {
     "end_time": "2022-08-31T18:24:31.483127Z",
     "start_time": "2022-08-31T18:24:31.481269Z"
    }
   },
   "outputs": [],
   "source": [
    "coef2 = ee.Array([[100]])"
   ]
  },
  {
   "cell_type": "code",
   "execution_count": null,
   "id": "92528f6c-850e-4bd3-acbe-e29a54916edd",
   "metadata": {
    "ExecuteTime": {
     "end_time": "2022-08-31T18:24:31.486458Z",
     "start_time": "2022-08-31T18:24:31.484464Z"
    }
   },
   "outputs": [],
   "source": [
    "factor_b5 = ee.Image(coef2)\\\n",
    "                .matrixMultiply(text_b5_array) \\\n",
    "                .arrayProject([0])\\\n",
    "                .arrayFlatten(\n",
    "                [['B5']])"
   ]
  },
  {
   "cell_type": "code",
   "execution_count": null,
   "id": "4a3ef7b4-c487-413e-b132-3f0592cb763a",
   "metadata": {
    "ExecuteTime": {
     "end_time": "2022-08-31T18:24:31.490230Z",
     "start_time": "2022-08-31T18:24:31.487758Z"
    }
   },
   "outputs": [],
   "source": [
    "b5_txt = factor_b5.int()"
   ]
  },
  {
   "cell_type": "code",
   "execution_count": null,
   "id": "daa8cd94-e265-4e87-bd86-06f037445a83",
   "metadata": {
    "ExecuteTime": {
     "end_time": "2022-08-31T18:24:31.493165Z",
     "start_time": "2022-08-31T18:24:31.491391Z"
    }
   },
   "outputs": [],
   "source": [
    "b5_texturas = b5_txt.glcmTexture(3)"
   ]
  },
  {
   "cell_type": "code",
   "execution_count": null,
   "id": "c6362497-043a-4b0b-ab3c-4f938f891ec1",
   "metadata": {
    "ExecuteTime": {
     "end_time": "2022-08-31T18:24:31.496371Z",
     "start_time": "2022-08-31T18:24:31.494615Z"
    }
   },
   "outputs": [],
   "source": [
    "texturas_b5 = b5_texturas\n",
    "texturas_b5 = texturas_b5.toArray()\n",
    "texturas_b5 = texturas_b5.toArray(1)"
   ]
  },
  {
   "cell_type": "code",
   "execution_count": null,
   "id": "5bc15c96-891e-4748-9cff-d188e939211c",
   "metadata": {
    "ExecuteTime": {
     "end_time": "2022-08-31T18:24:31.504022Z",
     "start_time": "2022-08-31T18:24:31.497787Z"
    }
   },
   "outputs": [],
   "source": [
    "coef3 = ee.Array([\n",
    "    [1,0,0,0,0,0,0,0,0,0,0,0,0,0,0,0,0,0],\n",
    "    [0,0.01,0,0,0,0,0,0,0,0,0,0,0,0,0,0,0,0],\n",
    "    [0,0,1,0,0,0,0,0,0,0,0,0,0,0,0,0,0,0],\n",
    "    [0,0,0,1,0,0,0,0,0,0,0,0,0,0,0,0,0,0],\n",
    "    [0,0,0,0,1,0,0,0,0,0,0,0,0,0,0,0,0,0],\n",
    "    [0,0,0,0,0,0.01,0,0,0,0,0,0,0,0,0,0,0,0],\n",
    "    [0,0,0,0,0,0,1,0,0,0,0,0,0,0,0,0,0,0],\n",
    "    [0,0,0,0,0,0,0,1,0,0,0,0,0,0,0,0,0,0],\n",
    "    [0,0,0,0,0,0,0,0,1,0,0,0,0,0,0,0,0,0],\n",
    "    [0,0,0,0,0,0,0,0,0,1,0,0,0,0,0,0,0,0],\n",
    "    [0,0,0,0,0,0,0,0,0,0,1,0,0,0,0,0,0,0],\n",
    "    [0,0,0,0,0,0,0,0,0,0,0,1,0,0,0,0,0,0],\n",
    "    [0,0,0,0,0,0,0,0,0,0,0,0,1,0,0,0,0,0],\n",
    "    [0,0,0,0,0,0,0,0,0,0,0,0,0,1,0,0,0,0],\n",
    "    [0,0,0,0,0,0,0,0,0,0,0,0,0,0,1,0,0,0],\n",
    "    [0,0,0,0,0,0,0,0,0,0,0,0,0,0,0,1,0,0],\n",
    "    [0,0,0,0,0,0,0,0,0,0,0,0,0,0,0,0,1,0],\n",
    "    [0,0,0,0,0,0,0,0,0,0,0,0,0,0,0,0,0,1],\n",
    "    ])"
   ]
  },
  {
   "cell_type": "code",
   "execution_count": null,
   "id": "88d91eb5-f028-454e-b748-6a47f159ad2b",
   "metadata": {
    "ExecuteTime": {
     "end_time": "2022-08-31T18:24:31.507692Z",
     "start_time": "2022-08-31T18:24:31.505392Z"
    }
   },
   "outputs": [],
   "source": [
    "factorb5 = ee.Image(coef3)\\\n",
    "                .matrixMultiply(texturas_b5) \\\n",
    "                .arrayProject([0])\\\n",
    "                .arrayFlatten(\n",
    "                [['B5_asm',\n",
    " 'B5_contrast',\n",
    " 'B5_corr',\n",
    " 'B5_var',\n",
    " 'B5_idm',\n",
    " 'B5_savg',\n",
    " 'B5_svar',\n",
    " 'B5_sent',\n",
    " 'B5_ent',\n",
    " 'B5_dvar',\n",
    " 'B5_dent',\n",
    " 'B5_imcorr1',\n",
    " 'B5_imcorr2',\n",
    " 'B5_maxcorr',\n",
    " 'B5_diss',\n",
    " 'B5_inertia',\n",
    " 'B5_shade',\n",
    " 'B5_prom']])"
   ]
  },
  {
   "cell_type": "markdown",
   "id": "c6c6c50c",
   "metadata": {},
   "source": [
    "NDVI"
   ]
  },
  {
   "cell_type": "code",
   "execution_count": null,
   "id": "c4094fe0",
   "metadata": {
    "ExecuteTime": {
     "end_time": "2022-08-31T18:24:31.510882Z",
     "start_time": "2022-08-31T18:24:31.509034Z"
    }
   },
   "outputs": [],
   "source": [
    "ndvi_txt_array = img6.select('NDVI')\n",
    "ndvi_txt_array = ndvi_txt_array.toArray()\n",
    "ndvi_txt_array = ndvi_txt_array.toArray(1)"
   ]
  },
  {
   "cell_type": "code",
   "execution_count": null,
   "id": "59048bf6",
   "metadata": {
    "ExecuteTime": {
     "end_time": "2022-08-31T18:24:31.514066Z",
     "start_time": "2022-08-31T18:24:31.512307Z"
    }
   },
   "outputs": [],
   "source": [
    "coef2 = ee.Array([[100]])"
   ]
  },
  {
   "cell_type": "code",
   "execution_count": null,
   "id": "2f72ae6e",
   "metadata": {
    "ExecuteTime": {
     "end_time": "2022-08-31T18:24:31.517376Z",
     "start_time": "2022-08-31T18:24:31.515475Z"
    }
   },
   "outputs": [],
   "source": [
    "factor_ndvi = ee.Image(coef2)\\\n",
    "                .matrixMultiply(ndvi_txt_array) \\\n",
    "                .arrayProject([0])\\\n",
    "                .arrayFlatten(\n",
    "                [['NDVI']])"
   ]
  },
  {
   "cell_type": "code",
   "execution_count": null,
   "id": "fecf4a33",
   "metadata": {
    "ExecuteTime": {
     "end_time": "2022-08-31T18:24:31.520612Z",
     "start_time": "2022-08-31T18:24:31.518812Z"
    }
   },
   "outputs": [],
   "source": [
    "ndvi_txt = factor_ndvi.int()"
   ]
  },
  {
   "cell_type": "code",
   "execution_count": null,
   "id": "1ec09783",
   "metadata": {
    "ExecuteTime": {
     "end_time": "2022-08-31T18:24:31.523783Z",
     "start_time": "2022-08-31T18:24:31.521943Z"
    }
   },
   "outputs": [],
   "source": [
    "nvdi_texturas = ndvi_txt.glcmTexture(3)"
   ]
  },
  {
   "cell_type": "code",
   "execution_count": null,
   "id": "5d3876f7",
   "metadata": {
    "ExecuteTime": {
     "end_time": "2022-08-31T18:24:31.526951Z",
     "start_time": "2022-08-31T18:24:31.525101Z"
    }
   },
   "outputs": [],
   "source": [
    "texturas_ndvi = nvdi_texturas\n",
    "texturas_ndvi = texturas_ndvi.toArray()\n",
    "texturas_ndvi = texturas_ndvi.toArray(1)"
   ]
  },
  {
   "cell_type": "code",
   "execution_count": null,
   "id": "4456df6f",
   "metadata": {
    "ExecuteTime": {
     "end_time": "2022-08-31T18:24:31.534042Z",
     "start_time": "2022-08-31T18:24:31.528206Z"
    }
   },
   "outputs": [],
   "source": [
    "coef3 = ee.Array([\n",
    "    [1,0,0,0,0,0,0,0,0,0,0,0,0,0,0,0,0,0],\n",
    "    [0,0.01,0,0,0,0,0,0,0,0,0,0,0,0,0,0,0,0],\n",
    "    [0,0,1,0,0,0,0,0,0,0,0,0,0,0,0,0,0,0],\n",
    "    [0,0,0,1,0,0,0,0,0,0,0,0,0,0,0,0,0,0],\n",
    "    [0,0,0,0,1,0,0,0,0,0,0,0,0,0,0,0,0,0],\n",
    "    [0,0,0,0,0,0.01,0,0,0,0,0,0,0,0,0,0,0,0],\n",
    "    [0,0,0,0,0,0,1,0,0,0,0,0,0,0,0,0,0,0],\n",
    "    [0,0,0,0,0,0,0,1,0,0,0,0,0,0,0,0,0,0],\n",
    "    [0,0,0,0,0,0,0,0,1,0,0,0,0,0,0,0,0,0],\n",
    "    [0,0,0,0,0,0,0,0,0,1,0,0,0,0,0,0,0,0],\n",
    "    [0,0,0,0,0,0,0,0,0,0,1,0,0,0,0,0,0,0],\n",
    "    [0,0,0,0,0,0,0,0,0,0,0,1,0,0,0,0,0,0],\n",
    "    [0,0,0,0,0,0,0,0,0,0,0,0,1,0,0,0,0,0],\n",
    "    [0,0,0,0,0,0,0,0,0,0,0,0,0,1,0,0,0,0],\n",
    "    [0,0,0,0,0,0,0,0,0,0,0,0,0,0,1,0,0,0],\n",
    "    [0,0,0,0,0,0,0,0,0,0,0,0,0,0,0,1,0,0],\n",
    "    [0,0,0,0,0,0,0,0,0,0,0,0,0,0,0,0,1,0],\n",
    "    [0,0,0,0,0,0,0,0,0,0,0,0,0,0,0,0,0,1],\n",
    "    ])"
   ]
  },
  {
   "cell_type": "code",
   "execution_count": null,
   "id": "db37a7f9",
   "metadata": {
    "ExecuteTime": {
     "end_time": "2022-08-31T18:24:31.537737Z",
     "start_time": "2022-08-31T18:24:31.535410Z"
    }
   },
   "outputs": [],
   "source": [
    "factor2 = ee.Image(coef3)\\\n",
    "                .matrixMultiply(texturas_ndvi) \\\n",
    "                .arrayProject([0])\\\n",
    "                .arrayFlatten(\n",
    "                [['NDVI_asm',\n",
    " 'NDVI_contrast',\n",
    " 'NDVI_corr',\n",
    " 'NDVI_var',\n",
    " 'NDVI_idm',\n",
    " 'NDVI_savg',\n",
    " 'NDVI_svar',\n",
    " 'NDVI_sent',\n",
    " 'NDVI_ent',\n",
    " 'NDVI_dvar',\n",
    " 'NDVI_dent',\n",
    " 'NDVI_imcorr1',\n",
    " 'NDVI_imcorr2',\n",
    " 'NDVI_maxcorr',\n",
    " 'NDVI_diss',\n",
    " 'NDVI_inertia',\n",
    " 'NDVI_shade',\n",
    " 'NDVI_prom']])"
   ]
  },
  {
   "cell_type": "markdown",
   "id": "c8c53d28",
   "metadata": {},
   "source": [
    "EVI"
   ]
  },
  {
   "cell_type": "code",
   "execution_count": null,
   "id": "23fefa68",
   "metadata": {
    "ExecuteTime": {
     "end_time": "2022-08-31T18:24:31.541196Z",
     "start_time": "2022-08-31T18:24:31.539227Z"
    }
   },
   "outputs": [],
   "source": [
    "EVI_txt_array = img6.select('EVI')\n",
    "EVI_txt_array = ndvi_txt_array.toArray()\n",
    "EVI_txt_array = ndvi_txt_array.toArray(1)"
   ]
  },
  {
   "cell_type": "code",
   "execution_count": null,
   "id": "535ef27a",
   "metadata": {
    "ExecuteTime": {
     "end_time": "2022-08-31T18:24:31.544439Z",
     "start_time": "2022-08-31T18:24:31.542518Z"
    }
   },
   "outputs": [],
   "source": [
    "coef2 = ee.Array([[100]])"
   ]
  },
  {
   "cell_type": "code",
   "execution_count": null,
   "id": "75e8f9ee",
   "metadata": {
    "ExecuteTime": {
     "end_time": "2022-08-31T18:24:31.547825Z",
     "start_time": "2022-08-31T18:24:31.545792Z"
    }
   },
   "outputs": [],
   "source": [
    "factor_evi = ee.Image(coef2)\\\n",
    "                .matrixMultiply(EVI_txt_array) \\\n",
    "                .arrayProject([0])\\\n",
    "                .arrayFlatten(\n",
    "                [['EVI']])"
   ]
  },
  {
   "cell_type": "code",
   "execution_count": null,
   "id": "4b97d612",
   "metadata": {
    "ExecuteTime": {
     "end_time": "2022-08-31T18:24:31.551208Z",
     "start_time": "2022-08-31T18:24:31.549271Z"
    }
   },
   "outputs": [],
   "source": [
    "factor_evi_txt = factor_evi.int()"
   ]
  },
  {
   "cell_type": "code",
   "execution_count": null,
   "id": "a130dd61",
   "metadata": {
    "ExecuteTime": {
     "end_time": "2022-08-31T18:24:31.554454Z",
     "start_time": "2022-08-31T18:24:31.552649Z"
    }
   },
   "outputs": [],
   "source": [
    "txt_evi = factor_evi_txt.glcmTexture(3)"
   ]
  },
  {
   "cell_type": "code",
   "execution_count": null,
   "id": "e3c5cc68",
   "metadata": {
    "ExecuteTime": {
     "end_time": "2022-08-31T18:24:31.557678Z",
     "start_time": "2022-08-31T18:24:31.555877Z"
    }
   },
   "outputs": [],
   "source": [
    "texturas_evi = txt_evi\n",
    "texturas_evi = texturas_evi.toArray()\n",
    "texturas_evi = texturas_evi.toArray(1)"
   ]
  },
  {
   "cell_type": "code",
   "execution_count": null,
   "id": "16b13dde",
   "metadata": {
    "ExecuteTime": {
     "end_time": "2022-08-31T18:24:31.564685Z",
     "start_time": "2022-08-31T18:24:31.558992Z"
    }
   },
   "outputs": [],
   "source": [
    "coef3 = ee.Array([\n",
    "    [1,0,0,0,0,0,0,0,0,0,0,0,0,0,0,0,0,0],\n",
    "    [0,0.01,0,0,0,0,0,0,0,0,0,0,0,0,0,0,0,0],\n",
    "    [0,0,1,0,0,0,0,0,0,0,0,0,0,0,0,0,0,0],\n",
    "    [0,0,0,1,0,0,0,0,0,0,0,0,0,0,0,0,0,0],\n",
    "    [0,0,0,0,1,0,0,0,0,0,0,0,0,0,0,0,0,0],\n",
    "    [0,0,0,0,0,0.01,0,0,0,0,0,0,0,0,0,0,0,0],\n",
    "    [0,0,0,0,0,0,1,0,0,0,0,0,0,0,0,0,0,0],\n",
    "    [0,0,0,0,0,0,0,1,0,0,0,0,0,0,0,0,0,0],\n",
    "    [0,0,0,0,0,0,0,0,1,0,0,0,0,0,0,0,0,0],\n",
    "    [0,0,0,0,0,0,0,0,0,1,0,0,0,0,0,0,0,0],\n",
    "    [0,0,0,0,0,0,0,0,0,0,1,0,0,0,0,0,0,0],\n",
    "    [0,0,0,0,0,0,0,0,0,0,0,1,0,0,0,0,0,0],\n",
    "    [0,0,0,0,0,0,0,0,0,0,0,0,1,0,0,0,0,0],\n",
    "    [0,0,0,0,0,0,0,0,0,0,0,0,0,1,0,0,0,0],\n",
    "    [0,0,0,0,0,0,0,0,0,0,0,0,0,0,1,0,0,0],\n",
    "    [0,0,0,0,0,0,0,0,0,0,0,0,0,0,0,1,0,0],\n",
    "    [0,0,0,0,0,0,0,0,0,0,0,0,0,0,0,0,1,0],\n",
    "    [0,0,0,0,0,0,0,0,0,0,0,0,0,0,0,0,0,1]\n",
    "    ])"
   ]
  },
  {
   "cell_type": "code",
   "execution_count": null,
   "id": "b4ef24d2",
   "metadata": {
    "ExecuteTime": {
     "end_time": "2022-08-31T18:24:31.568523Z",
     "start_time": "2022-08-31T18:24:31.566188Z"
    }
   },
   "outputs": [],
   "source": [
    "factor3 = ee.Image(coef3)\\\n",
    "                .matrixMultiply(texturas_evi) \\\n",
    "                .arrayProject([0])\\\n",
    "                .arrayFlatten(\n",
    "                [['EVI_asm',\n",
    " 'EVI_contrast',\n",
    " 'EVI_corr',\n",
    " 'EVI_var',\n",
    " 'EVI_idm',\n",
    " 'EVI_savg',\n",
    " 'EVI_svar',\n",
    " 'EVI_sent',\n",
    " 'EVI_ent',\n",
    " 'EVI_dvar',\n",
    " 'EVI_dent',\n",
    " 'EVI_imcorr1',\n",
    " 'EVI_imcorr2',\n",
    " 'EVI_maxcorr',\n",
    " 'EVI_diss',\n",
    " 'EVI_inertia',\n",
    " 'EVI_shade',\n",
    " 'EVI_prom']])"
   ]
  },
  {
   "cell_type": "markdown",
   "id": "ac119b23",
   "metadata": {},
   "source": [
    "## DEM"
   ]
  },
  {
   "cell_type": "code",
   "execution_count": null,
   "id": "b86ca735",
   "metadata": {
    "ExecuteTime": {
     "end_time": "2022-08-31T18:24:31.571638Z",
     "start_time": "2022-08-31T18:24:31.569798Z"
    }
   },
   "outputs": [],
   "source": [
    "dem = ee.Image('USGS/SRTMGL1_003').clip(patagonia_grande)"
   ]
  },
  {
   "cell_type": "code",
   "execution_count": null,
   "id": "10737120",
   "metadata": {
    "ExecuteTime": {
     "end_time": "2022-08-31T18:24:31.575013Z",
     "start_time": "2022-08-31T18:24:31.573211Z"
    }
   },
   "outputs": [],
   "source": [
    "elevation = dem.select('elevation')"
   ]
  },
  {
   "cell_type": "code",
   "execution_count": null,
   "id": "104f176a",
   "metadata": {
    "ExecuteTime": {
     "end_time": "2022-08-31T18:24:31.578099Z",
     "start_time": "2022-08-31T18:24:31.576407Z"
    }
   },
   "outputs": [],
   "source": [
    "slope = ee.Terrain.slope(elevation)"
   ]
  },
  {
   "cell_type": "code",
   "execution_count": null,
   "id": "58b7f2ce",
   "metadata": {
    "ExecuteTime": {
     "end_time": "2022-08-31T18:24:31.581146Z",
     "start_time": "2022-08-31T18:24:31.579428Z"
    }
   },
   "outputs": [],
   "source": [
    "aspect = ee.Terrain.aspect(dem)"
   ]
  },
  {
   "cell_type": "code",
   "execution_count": null,
   "id": "e370ab88",
   "metadata": {
    "ExecuteTime": {
     "end_time": "2022-08-31T18:24:31.584483Z",
     "start_time": "2022-08-31T18:24:31.582538Z"
    }
   },
   "outputs": [],
   "source": [
    "dem_data = elevation.addBands([slope,aspect])"
   ]
  },
  {
   "cell_type": "markdown",
   "id": "a80a2029",
   "metadata": {},
   "source": [
    "## NDVI Index series"
   ]
  },
  {
   "cell_type": "markdown",
   "id": "76ba37a6",
   "metadata": {},
   "source": [
    "Primavera"
   ]
  },
  {
   "cell_type": "code",
   "execution_count": null,
   "id": "38d49302",
   "metadata": {
    "ExecuteTime": {
     "end_time": "2022-08-31T18:24:31.587916Z",
     "start_time": "2022-08-31T18:24:31.585888Z"
    }
   },
   "outputs": [],
   "source": [
    "filterspring = ee.Filter.Or(\n",
    "    ee.Filter.date('2021-09-15','2021-10-31'),\n",
    "    ee.Filter.date('2020-09-15','2020-10-31'),\n",
    "    ee.Filter.date('2019-09-15','2019-10-31'),\n",
    "    ee.Filter.date('2018-09-15','2018-10-31')\n",
    ")"
   ]
  },
  {
   "cell_type": "code",
   "execution_count": null,
   "id": "d9056890",
   "metadata": {
    "ExecuteTime": {
     "end_time": "2022-08-31T18:24:31.591397Z",
     "start_time": "2022-08-31T18:24:31.589232Z"
    }
   },
   "outputs": [],
   "source": [
    "start_date = '2018-09-15'\n",
    "end_date = '2021-10-31'\n",
    "\n",
    "l8_spring = ee.ImageCollection('LANDSAT/LC08/C02/T1_TOA') \\\n",
    "    .filterBounds(patagonia_grande) \\\n",
    "    .filter(filterspring) \\\n",
    "    .filterDate(start_date, end_date)"
   ]
  },
  {
   "cell_type": "code",
   "execution_count": null,
   "id": "face0a03",
   "metadata": {
    "ExecuteTime": {
     "end_time": "2022-08-31T18:24:31.595129Z",
     "start_time": "2022-08-31T18:24:31.592821Z"
    }
   },
   "outputs": [],
   "source": [
    "NDVI_spring = l8_spring.map(addNDVI)\n",
    "NDVI_spring = NDVI_spring.median()\n",
    "NDVI_spring = NDVI_spring.select('NDVI').rename('NDVI_spring')"
   ]
  },
  {
   "cell_type": "markdown",
   "id": "785ec5f7",
   "metadata": {},
   "source": [
    "Invierno"
   ]
  },
  {
   "cell_type": "code",
   "execution_count": null,
   "id": "6fc24332",
   "metadata": {
    "ExecuteTime": {
     "end_time": "2022-08-31T18:24:31.599012Z",
     "start_time": "2022-08-31T18:24:31.596521Z"
    }
   },
   "outputs": [],
   "source": [
    "filterwinter = ee.Filter.Or(\n",
    "    ee.Filter.date('2021-07-01','2021-09-14'),\n",
    "    ee.Filter.date('2020-07-01','2020-09-14'),\n",
    "    ee.Filter.date('2019-07-01','2019-09-14'),\n",
    "    ee.Filter.date('2018-07-01','2018-09-14')\n",
    ")"
   ]
  },
  {
   "cell_type": "code",
   "execution_count": null,
   "id": "b6d1bccb",
   "metadata": {
    "ExecuteTime": {
     "end_time": "2022-08-31T18:24:31.602391Z",
     "start_time": "2022-08-31T18:24:31.600349Z"
    }
   },
   "outputs": [],
   "source": [
    "start_date = '2018-07-01'\n",
    "end_date = '2021-09-14'\n",
    "\n",
    "l8_winter = ee.ImageCollection('LANDSAT/LC08/C02/T1_TOA') \\\n",
    "    .filterBounds(patagonia_grande) \\\n",
    "    .filter(filterwinter) \\\n",
    "    .filterDate(start_date, end_date)"
   ]
  },
  {
   "cell_type": "code",
   "execution_count": null,
   "id": "3a641f3b",
   "metadata": {
    "ExecuteTime": {
     "end_time": "2022-08-31T18:24:31.606072Z",
     "start_time": "2022-08-31T18:24:31.603714Z"
    }
   },
   "outputs": [],
   "source": [
    "NDVI_winter = l8_winter.map(addNDVI)\n",
    "NDVI_winter = NDVI_winter.median()\n",
    "NDVI_winter = NDVI_winter.select('NDVI').rename('NDVI_winter')"
   ]
  },
  {
   "cell_type": "markdown",
   "id": "cf5d3b72",
   "metadata": {},
   "source": [
    "Otoño"
   ]
  },
  {
   "cell_type": "code",
   "execution_count": null,
   "id": "f006e987",
   "metadata": {
    "ExecuteTime": {
     "end_time": "2022-08-31T18:24:31.609779Z",
     "start_time": "2022-08-31T18:24:31.607484Z"
    }
   },
   "outputs": [],
   "source": [
    "filterautumn = ee.Filter.Or(\n",
    "    ee.Filter.date('2021-04-01','2021-06-30'),\n",
    "    ee.Filter.date('2020-04-01','2020-06-30'),\n",
    "    ee.Filter.date('2019-04-01','2019-06-30'),\n",
    "    ee.Filter.date('2018-04-01','2018-06-30')\n",
    ")"
   ]
  },
  {
   "cell_type": "code",
   "execution_count": null,
   "id": "439e506d",
   "metadata": {
    "ExecuteTime": {
     "end_time": "2022-08-31T18:24:31.613254Z",
     "start_time": "2022-08-31T18:24:31.611127Z"
    }
   },
   "outputs": [],
   "source": [
    "start_date = '2018-04-01'\n",
    "end_date = '2021-06-30'\n",
    "\n",
    "l8_autumn = ee.ImageCollection('LANDSAT/LC08/C02/T1_TOA') \\\n",
    "    .filterBounds(patagonia_grande) \\\n",
    "    .filter(filterautumn) \\\n",
    "    .filterDate(start_date, end_date)"
   ]
  },
  {
   "cell_type": "code",
   "execution_count": null,
   "id": "dfb47ae4",
   "metadata": {
    "ExecuteTime": {
     "end_time": "2022-08-31T18:24:31.616831Z",
     "start_time": "2022-08-31T18:24:31.614524Z"
    }
   },
   "outputs": [],
   "source": [
    "NDVI_autumn = l8_autumn.map(addNDVI)\n",
    "NDVI_autumn = NDVI_autumn.median()\n",
    "NDVI_autumn = NDVI_autumn.select('NDVI').rename('NDVI_autumn')"
   ]
  },
  {
   "cell_type": "markdown",
   "id": "dc0a7cf6",
   "metadata": {},
   "source": [
    "## Long/Lat"
   ]
  },
  {
   "cell_type": "code",
   "execution_count": null,
   "id": "c9c7d5f5",
   "metadata": {
    "ExecuteTime": {
     "end_time": "2022-08-31T18:24:31.619895Z",
     "start_time": "2022-08-31T18:24:31.618084Z"
    }
   },
   "outputs": [],
   "source": [
    "long_lat = img7.pixelLonLat()"
   ]
  },
  {
   "cell_type": "code",
   "execution_count": null,
   "id": "6cd0bb94",
   "metadata": {
    "ExecuteTime": {
     "end_time": "2022-08-31T18:24:31.922052Z",
     "start_time": "2022-08-31T18:24:31.621315Z"
    }
   },
   "outputs": [],
   "source": [
    "long_lat.bandNames().getInfo()"
   ]
  },
  {
   "cell_type": "code",
   "execution_count": null,
   "id": "ceb3dd69",
   "metadata": {
    "ExecuteTime": {
     "end_time": "2022-08-31T18:24:31.925167Z",
     "start_time": "2022-08-31T18:24:31.923462Z"
    }
   },
   "outputs": [],
   "source": [
    "# utm = (long_lat.select('longitude')).add(180).divide(6).int()"
   ]
  },
  {
   "cell_type": "code",
   "execution_count": null,
   "id": "56366f8c",
   "metadata": {
    "ExecuteTime": {
     "end_time": "2022-08-31T18:24:31.928672Z",
     "start_time": "2022-08-31T18:24:31.926724Z"
    }
   },
   "outputs": [],
   "source": [
    "# Map4.addLayer(long_lat.select('longitude'),{},'longitude')\n",
    "# Map4.addLayer(utm,{min:0, max: 60},'longitud')\n",
    "# Map4"
   ]
  },
  {
   "cell_type": "markdown",
   "id": "84820382",
   "metadata": {},
   "source": [
    "# Clasificación"
   ]
  },
  {
   "cell_type": "code",
   "execution_count": null,
   "id": "a5014b99",
   "metadata": {
    "ExecuteTime": {
     "end_time": "2022-08-31T18:24:35.788014Z",
     "start_time": "2022-08-31T18:24:31.930099Z"
    }
   },
   "outputs": [],
   "source": [
    "img7.bandNames().getInfo()"
   ]
  },
  {
   "cell_type": "code",
   "execution_count": null,
   "id": "cb78c078",
   "metadata": {
    "ExecuteTime": {
     "end_time": "2022-08-31T18:24:35.792008Z",
     "start_time": "2022-08-31T18:24:35.789413Z"
    }
   },
   "outputs": [],
   "source": [
    "img_final = img7.select('B1','B2','B3','B4','B5','B6','B7','NDVI','NDWI','mNDWI','NDWBI','NDGI','SAVI','MSAVI2','NDSI','NDBI','EVI','NDBrI','GNDVI')\n",
    "img_final = img_final.addBands(tasseled).addBands(dem_data).addBands(NDVI_spring).addBands(NDVI_winter).addBands(NDVI_autumn).addBands(factor2).addBands(factor3).addBands(factorb5) "
   ]
  },
  {
   "cell_type": "code",
   "execution_count": null,
   "id": "a4213c8a",
   "metadata": {
    "ExecuteTime": {
     "end_time": "2022-08-31T18:24:40.373378Z",
     "start_time": "2022-08-31T18:24:35.793605Z"
    }
   },
   "outputs": [],
   "source": [
    "img_final.bandNames().getInfo()"
   ]
  },
  {
   "cell_type": "markdown",
   "id": "a1798e3d",
   "metadata": {},
   "source": [
    "## Descarga Bandas"
   ]
  },
  {
   "cell_type": "code",
   "execution_count": null,
   "id": "0ca64a09",
   "metadata": {
    "ExecuteTime": {
     "end_time": "2022-08-31T18:24:40.377564Z",
     "start_time": "2022-08-31T18:24:40.374794Z"
    }
   },
   "outputs": [],
   "source": [
    "img_NDVI= img_final.select('NDVI')\n",
    "img_NDWI= img_final.select('NDWI')\n",
    "img_mNDWI= img_final.select('mNDWI')\n",
    "img_NDWBI= img_final.select('NDWBI')\n",
    "img_NDGI= img_final.select('NDGI')\n",
    "img_SAVI= img_final.select('SAVI')\n",
    "img_MSAVI2= img_final.select('MSAVI2')\n",
    "img_NDSI= img_final.select('NDSI')\n",
    "img_NDBI= img_final.select('NDBI')\n",
    "img_NDBrI= img_final.select('NDBrI')\n",
    "img_GNDVI= img_final.select('GNDVI')"
   ]
  },
  {
   "cell_type": "code",
   "execution_count": null,
   "id": "e6d84697",
   "metadata": {
    "ExecuteTime": {
     "end_time": "2022-08-31T18:24:40.386794Z",
     "start_time": "2022-08-31T18:24:40.378727Z"
    }
   },
   "outputs": [],
   "source": [
    "task_mosaico_NDVI = ee.batch.Export.image.toDrive(**{\n",
    "    'image': img_NDVI,\n",
    "    'description':'NDVI',\n",
    "    'folder':'Earth Engine',\n",
    "    'region': geometry_exp.bounds(),\n",
    "    'scale':30,\n",
    "    'crsTransform':[30, 0, 214185, 0, -30, -4825185], \n",
    "    'crs':'EPSG:32719',\n",
    "    'maxPixels':1e13\n",
    "})\n",
    "task_mosaico_NDWI = ee.batch.Export.image.toDrive(**{\n",
    "    'image': img_NDWI,\n",
    "    'description':'NDWI',\n",
    "    'folder':'Earth Engine',\n",
    "    'region': geometry_exp.bounds(),\n",
    "    'scale':30,\n",
    "    'crsTransform':[30, 0, 214185, 0, -30, -4825185], \n",
    "    'crs':'EPSG:32719',\n",
    "    'maxPixels':1e13\n",
    "})\n",
    "task_mosaico_mNDWI = ee.batch.Export.image.toDrive(**{\n",
    "    'image': img_mNDWI,\n",
    "    'description':'mNDWI',\n",
    "    'folder':'Earth Engine',\n",
    "    'region': geometry_exp.bounds(),\n",
    "    'scale':30,\n",
    "    'crsTransform':[30, 0, 214185, 0, -30, -4825185], \n",
    "    'crs':'EPSG:32719',\n",
    "    'maxPixels':1e13\n",
    "})\n",
    "task_mosaico_NDWBI = ee.batch.Export.image.toDrive(**{\n",
    "    'image': img_NDWBI,\n",
    "    'description':'NDWBI',\n",
    "    'folder':'Earth Engine',\n",
    "    'region': geometry_exp.bounds(),\n",
    "    'scale':30,\n",
    "    'crsTransform':[30, 0, 214185, 0, -30, -4825185], \n",
    "    'crs':'EPSG:32719',\n",
    "    'maxPixels':1e13\n",
    "})\n",
    "task_mosaico_NDGI = ee.batch.Export.image.toDrive(**{\n",
    "    'image': img_NDGI,\n",
    "    'description':'NDGI',\n",
    "    'folder':'Earth Engine',\n",
    "    'region': geometry_exp.bounds(),\n",
    "    'scale':30,\n",
    "    'crsTransform':[30, 0, 214185, 0, -30, -4825185], \n",
    "    'crs':'EPSG:32719',\n",
    "    'maxPixels':1e13\n",
    "})\n",
    "task_mosaico_MSAVI2 = ee.batch.Export.image.toDrive(**{\n",
    "    'image': img_MSAVI2,\n",
    "    'description':'MSAVI2',\n",
    "    'folder':'Earth Engine',\n",
    "    'region': geometry_exp.bounds(),\n",
    "    'scale':30,\n",
    "    'crsTransform':[30, 0, 214185, 0, -30, -4825185], \n",
    "    'crs':'EPSG:32719',\n",
    "    'maxPixels':1e13\n",
    "})\n",
    "task_mosaico_NDSI = ee.batch.Export.image.toDrive(**{\n",
    "    'image': img_NDSI,\n",
    "    'description':'NDSI',\n",
    "    'folder':'Earth Engine',\n",
    "    'region': geometry_exp.bounds(),\n",
    "    'scale':30,\n",
    "    'crsTransform':[30, 0, 214185, 0, -30, -4825185], \n",
    "    'crs':'EPSG:32719',\n",
    "    'maxPixels':1e13\n",
    "})\n",
    "task_mosaico_NDBI = ee.batch.Export.image.toDrive(**{\n",
    "    'image': img_NDBI,\n",
    "    'description':'NDBI',\n",
    "    'folder':'Earth Engine',\n",
    "    'region': geometry_exp.bounds(),\n",
    "    'scale':30,\n",
    "    'crsTransform':[30, 0, 214185, 0, -30, -4825185], \n",
    "    'crs':'EPSG:32719',\n",
    "    'maxPixels':1e13\n",
    "})\n",
    "task_mosaico_NDBrI = ee.batch.Export.image.toDrive(**{\n",
    "    'image': img_NDBrI,\n",
    "    'description':'NDBrI',\n",
    "    'folder':'Earth Engine',\n",
    "    'region': geometry_exp.bounds(),\n",
    "    'scale':30,\n",
    "    'crsTransform':[30, 0, 214185, 0, -30, -4825185], \n",
    "    'crs':'EPSG:32719',\n",
    "    'maxPixels':1e13\n",
    "})\n",
    "task_mosaico_GNDVI = ee.batch.Export.image.toDrive(**{\n",
    "    'image': img_GNDVI,\n",
    "    'description':'GNDVI',\n",
    "    'folder':'Earth Engine',\n",
    "    'region': geometry_exp.bounds(),\n",
    "    'scale':30,\n",
    "    'crsTransform':[30, 0, 214185, 0, -30, -4825185], \n",
    "    'crs':'EPSG:32719',\n",
    "    'maxPixels':1e13\n",
    "})"
   ]
  },
  {
   "cell_type": "code",
   "execution_count": null,
   "id": "50625a24",
   "metadata": {
    "ExecuteTime": {
     "end_time": "2022-08-31T18:24:40.390598Z",
     "start_time": "2022-08-31T18:24:40.388423Z"
    }
   },
   "outputs": [],
   "source": [
    "# task_mosaico_NDVI.start()\n",
    "# task_mosaico_NDWI.start()\n",
    "# task_mosaico_mNDWI.start()\n",
    "# task_mosaico_NDWBI.start()\n",
    "# task_mosaico_NDGI.start()\n",
    "# task_mosaico_MSAVI2.start()\n",
    "# task_mosaico_NDSI.start()\n",
    "# task_mosaico_NDBI.start()\n",
    "# task_mosaico_NDBrI.start()\n",
    "# task_mosaico_GNDVI.start()"
   ]
  },
  {
   "cell_type": "code",
   "execution_count": null,
   "id": "f156b6dd",
   "metadata": {
    "ExecuteTime": {
     "end_time": "2022-08-31T18:24:40.395079Z",
     "start_time": "2022-08-31T18:24:40.391979Z"
    }
   },
   "outputs": [],
   "source": [
    "bands = ['B1',\n",
    " 'B2',\n",
    " 'B3',\n",
    " 'B4',\n",
    " 'B5',\n",
    " 'B6',\n",
    " 'B7',\n",
    " 'NDVI',\n",
    " 'NDWI',\n",
    " 'mNDWI',\n",
    " 'NDWBI',\n",
    " 'NDGI',\n",
    " 'SAVI',\n",
    " 'MSAVI2',\n",
    " 'NDSI',\n",
    " 'NDBI',\n",
    " 'EVI',\n",
    " 'NDBrI',\n",
    " 'GNDVI',\n",
    " 'brightness',\n",
    " 'greenness',\n",
    " 'wetness',\n",
    " 'elevation',\n",
    " 'slope',\n",
    " 'aspect',\n",
    " 'B5_asm',\n",
    " 'B5_contrast',\n",
    " 'B5_corr',\n",
    " 'B5_var',\n",
    " 'B5_idm',\n",
    " 'B5_savg',\n",
    " 'B5_svar',\n",
    " 'B5_sent',\n",
    " 'B5_ent',\n",
    " 'B5_dvar',\n",
    " 'B5_dent',\n",
    " 'B5_imcorr1',\n",
    " 'B5_imcorr2',\n",
    " 'B5_maxcorr',\n",
    " 'B5_diss',\n",
    " 'B5_inertia',\n",
    " 'B5_shade',\n",
    " 'B5_prom',\n",
    " 'NDVI_spring',\n",
    " 'NDVI_winter',\n",
    " 'NDVI_autumn',\n",
    " 'NDVI_asm',\n",
    " 'NDVI_contrast',\n",
    " 'NDVI_corr',\n",
    " 'NDVI_var',\n",
    " 'NDVI_idm',\n",
    " 'NDVI_savg',\n",
    " 'NDVI_svar',\n",
    " 'NDVI_sent',\n",
    " 'NDVI_ent',\n",
    " 'NDVI_dvar',\n",
    " 'NDVI_dent',\n",
    " 'NDVI_imcorr1',\n",
    " 'NDVI_imcorr2',\n",
    " 'NDVI_maxcorr',\n",
    " 'NDVI_diss',\n",
    " 'NDVI_inertia',\n",
    " 'NDVI_shade',\n",
    " 'NDVI_prom',\n",
    " 'EVI_asm',\n",
    " 'EVI_contrast',\n",
    " 'EVI_corr',\n",
    " 'EVI_var',\n",
    " 'EVI_idm',\n",
    " 'EVI_savg',\n",
    " 'EVI_svar',\n",
    " 'EVI_sent',\n",
    " 'EVI_ent',\n",
    " 'EVI_dvar',\n",
    " 'EVI_dent',\n",
    " 'EVI_imcorr1',\n",
    " 'EVI_imcorr2',\n",
    " 'EVI_maxcorr',\n",
    " 'EVI_diss',\n",
    " 'EVI_inertia',\n",
    " 'EVI_shade',\n",
    " 'EVI_prom']"
   ]
  },
  {
   "cell_type": "code",
   "execution_count": null,
   "id": "bf6ca360",
   "metadata": {
    "ExecuteTime": {
     "end_time": "2022-08-31T18:24:41.766916Z",
     "start_time": "2022-08-31T18:24:40.396372Z"
    }
   },
   "outputs": [],
   "source": [
    "test1 = os.path.join(work_dir,'training_v2.shp')\n",
    "test1 = geemap.shp_to_ee(test1)\n",
    "val2 = os.path.join(work_dir,'validacion_v3.shp')\n",
    "val2 = geemap.shp_to_ee(val2)"
   ]
  },
  {
   "cell_type": "code",
   "execution_count": null,
   "id": "dcc36d45",
   "metadata": {
    "ExecuteTime": {
     "end_time": "2022-08-31T18:24:41.771006Z",
     "start_time": "2022-08-31T18:24:41.768833Z"
    }
   },
   "outputs": [],
   "source": [
    "# random = os.path.join(work_dir,'random_points.shp')\n",
    "# random = geemap.shp_to_ee(random)"
   ]
  },
  {
   "cell_type": "code",
   "execution_count": null,
   "id": "689c067f",
   "metadata": {
    "ExecuteTime": {
     "end_time": "2022-08-31T18:24:41.774619Z",
     "start_time": "2022-08-31T18:24:41.772805Z"
    }
   },
   "outputs": [],
   "source": [
    "# points= img_final.sampleRegions(**{\n",
    "#     'collection': random,\n",
    "#     'properties': ['ID'],\n",
    "#     'scale': 10,\n",
    "#     'tileScale': 3,\n",
    "# })"
   ]
  },
  {
   "cell_type": "code",
   "execution_count": null,
   "id": "304d08ee",
   "metadata": {
    "ExecuteTime": {
     "end_time": "2022-08-31T18:24:41.777579Z",
     "start_time": "2022-08-31T18:24:41.776005Z"
    }
   },
   "outputs": [],
   "source": [
    "# Map6.addLayer(points, {},'muestras')\n",
    "# Map6"
   ]
  },
  {
   "cell_type": "code",
   "execution_count": null,
   "id": "865357a3",
   "metadata": {
    "ExecuteTime": {
     "end_time": "2022-08-31T18:24:41.780506Z",
     "start_time": "2022-08-31T18:24:41.778990Z"
    }
   },
   "outputs": [],
   "source": [
    "# tablas_final = ee.batch.Export.table.toDrive(**{\n",
    "#   'collection': points,\n",
    "#   'description': 'datos',\n",
    "#   'fileFormat': 'CSV'\n",
    "# })"
   ]
  },
  {
   "cell_type": "code",
   "execution_count": null,
   "id": "6acebb19",
   "metadata": {
    "ExecuteTime": {
     "end_time": "2022-08-31T18:24:41.783704Z",
     "start_time": "2022-08-31T18:24:41.781905Z"
    }
   },
   "outputs": [],
   "source": [
    "# tablas_final.start()"
   ]
  },
  {
   "cell_type": "code",
   "execution_count": null,
   "id": "b9bd7169",
   "metadata": {
    "ExecuteTime": {
     "end_time": "2022-08-31T18:24:41.787358Z",
     "start_time": "2022-08-31T18:24:41.785143Z"
    }
   },
   "outputs": [],
   "source": [
    "data_QM = img_final.sampleRegions(**{\n",
    "    'collection': test1,\n",
    "    'properties': ['C_ID'],\n",
    "    'scale': 30,\n",
    "    'tileScale': 2,\n",
    "})"
   ]
  },
  {
   "cell_type": "code",
   "execution_count": null,
   "id": "69ff9842-f919-4893-adac-7bf34a114dd3",
   "metadata": {
    "ExecuteTime": {
     "end_time": "2022-08-31T18:24:41.790889Z",
     "start_time": "2022-08-31T18:24:41.788818Z"
    }
   },
   "outputs": [],
   "source": [
    "data_Val = img_final.sampleRegions(**{\n",
    "    'collection': val2,\n",
    "    'properties': ['C_ID'],\n",
    "    'scale': 30,\n",
    "    'tileScale': 2,\n",
    "})"
   ]
  },
  {
   "cell_type": "code",
   "execution_count": null,
   "id": "17504e7c",
   "metadata": {
    "ExecuteTime": {
     "end_time": "2022-08-31T18:24:41.794297Z",
     "start_time": "2022-08-31T18:24:41.792275Z"
    }
   },
   "outputs": [],
   "source": [
    "tablas_qm = ee.batch.Export.table.toDrive(**{\n",
    "  'collection': data_QM,\n",
    "  'description': 'TM_summer_QM',\n",
    "  'fileFormat': 'CSV'\n",
    "})"
   ]
  },
  {
   "cell_type": "code",
   "execution_count": null,
   "id": "793a78e2",
   "metadata": {
    "ExecuteTime": {
     "end_time": "2022-08-31T18:24:41.797404Z",
     "start_time": "2022-08-31T18:24:41.795779Z"
    }
   },
   "outputs": [],
   "source": [
    "# tablas_qm.start()"
   ]
  },
  {
   "cell_type": "markdown",
   "id": "69930743",
   "metadata": {},
   "source": [
    "## Muestra y validación"
   ]
  },
  {
   "cell_type": "code",
   "execution_count": null,
   "id": "156ea73b",
   "metadata": {
    "ExecuteTime": {
     "end_time": "2022-08-31T18:24:41.800455Z",
     "start_time": "2022-08-31T18:24:41.798650Z"
    }
   },
   "outputs": [],
   "source": [
    "sample1 = data_QM.randomColumn()\n",
    "split = 0.7"
   ]
  },
  {
   "cell_type": "code",
   "execution_count": null,
   "id": "3d911ce7",
   "metadata": {
    "ExecuteTime": {
     "end_time": "2022-08-31T18:24:41.804305Z",
     "start_time": "2022-08-31T18:24:41.801930Z"
    }
   },
   "outputs": [],
   "source": [
    "training1 = sample1.filter(ee.Filter.lt('random', split))\n",
    "validation1= sample1.filter(ee.Filter.gte('random', split))"
   ]
  },
  {
   "cell_type": "code",
   "execution_count": null,
   "id": "186bbd22",
   "metadata": {
    "ExecuteTime": {
     "end_time": "2022-08-31T18:24:41.807546Z",
     "start_time": "2022-08-31T18:24:41.805680Z"
    }
   },
   "outputs": [],
   "source": [
    "label = 'IDH'\n",
    "label1 = 'ID'\n",
    "label_train ='C_ID'"
   ]
  },
  {
   "cell_type": "code",
   "execution_count": null,
   "id": "5c38fa8c",
   "metadata": {
    "ExecuteTime": {
     "end_time": "2022-08-31T18:24:41.810895Z",
     "start_time": "2022-08-31T18:24:41.808867Z"
    }
   },
   "outputs": [],
   "source": [
    "classifier_QM = ee.Classifier.smileRandomForest(100).train(data_QM,label_train,bands)"
   ]
  },
  {
   "cell_type": "code",
   "execution_count": null,
   "id": "dde0b461",
   "metadata": {
    "ExecuteTime": {
     "end_time": "2022-08-31T18:24:41.814103Z",
     "start_time": "2022-08-31T18:24:41.812176Z"
    }
   },
   "outputs": [],
   "source": [
    "result_QM = img_final.select(bands).classify(classifier_QM)"
   ]
  },
  {
   "cell_type": "code",
   "execution_count": null,
   "id": "b9fc12f1",
   "metadata": {
    "ExecuteTime": {
     "end_time": "2022-08-31T18:24:41.817367Z",
     "start_time": "2022-08-31T18:24:41.815458Z"
    }
   },
   "outputs": [],
   "source": [
    "explained_QM = ee.Classifier.explain(classifier_QM)"
   ]
  },
  {
   "cell_type": "code",
   "execution_count": null,
   "id": "4bf299e3",
   "metadata": {
    "ExecuteTime": {
     "end_time": "2022-08-31T18:24:59.442188Z",
     "start_time": "2022-08-31T18:24:41.818866Z"
    },
    "scrolled": true
   },
   "outputs": [],
   "source": [
    "explained_QM.getInfo()"
   ]
  },
  {
   "cell_type": "markdown",
   "id": "282ffbec",
   "metadata": {},
   "source": [
    "### Categorizando"
   ]
  },
  {
   "cell_type": "code",
   "execution_count": null,
   "id": "8ab3c9b6",
   "metadata": {
    "ExecuteTime": {
     "end_time": "2022-08-31T18:24:59.447223Z",
     "start_time": "2022-08-31T18:24:59.443706Z"
    }
   },
   "outputs": [],
   "source": [
    "class_values2 = [1,2,3,4,5,6,7,8,9,10,12,13,15,16,20,23,30,31,32,33,34,35,36,39,40,47,48,49,60]\n",
    "\n",
    "class_palette2 = ['d1fbff', # 1 Hielo\n",
    " 'bfdadd', #2 lengua glaciar\n",
    " 'b9bfbf', #3 glaciar cubierto\n",
    " 'fe40fe', #4 nieve\n",
    " '8ac1ff', #5 fiordo glaciar\n",
    " '0c407b', #6 mar\n",
    " '2e8da0', #7 lago continental\n",
    " '16b2d1', #8 lago glaciar\n",
    " '27e1d8', #9 río\n",
    " 'eeb514', #10 suelo desnudo\n",
    "#  '927012', #11 cárcavas erosión \n",
    " 'e98c0f', #12 suelo río\n",
    " 'f7e8bd', #13 suelo duna/arenal\n",
    "#  '5b5b5b', #14 caminos\n",
    " 'e57104', #15 suelo desnudo / poca vegetación\n",
    " '5d1412', #16 tuberas / musgos\n",
    "#  '5d1412', #17 mallín                 \n",
    "# '161163', #19 áreas inundables\n",
    " 'fff300', #20 plantación adulto\n",
    " 'ff0000', #23 ciudad urbano\n",
    " 'dee842', #30 praderas pastoreo             \n",
    " 'ced118', #31 estepa abierta\n",
    " '7a7c0f', #32 estepa cerrada\n",
    " 'c39700', #33 palizales\n",
    " 'a1ff8a', #34 praderas\n",
    " '138665', #35 matorrales densos\n",
    " '1bbd8e', #36 matorrales abiertos\n",
    " '195a09', #39 primario adulto\n",
    " '27c41d', #40 secundario adulto\n",
    "#  'b2ff00', #43 renoval inicial\n",
    "#  'f36605', #45 degradado\n",
    " '7729db', #47 Primario adulto caduco\n",
    " '9e60ec', #48 Secundario adulto caduco\n",
    " 'f36605', #49 achaparrados caduco\n",
    "#  '7000ff', #57 Mixto Primario\n",
    "#  'c598ff', #58 Mixto secundario\n",
    " '00ff87', #60 Coníferas nativas\n",
    "]"
   ]
  },
  {
   "cell_type": "code",
   "execution_count": null,
   "id": "b088b7fc",
   "metadata": {
    "ExecuteTime": {
     "end_time": "2022-08-31T18:24:59.451288Z",
     "start_time": "2022-08-31T18:24:59.449141Z"
    }
   },
   "outputs": [],
   "source": [
    "landcover_QM = result_QM.set('classification_class_values', class_values2)\n",
    "landcover_QM = landcover_QM.set('classification_class_palette',class_palette2)"
   ]
  },
  {
   "cell_type": "code",
   "execution_count": null,
   "id": "00cb1606",
   "metadata": {
    "ExecuteTime": {
     "end_time": "2022-08-31T18:25:11.775630Z",
     "start_time": "2022-08-31T18:24:59.452808Z"
    }
   },
   "outputs": [],
   "source": [
    "Map5.addLayer(landcover_QM,{}, 'Land cover RF-QM' )\n",
    "Map5"
   ]
  },
  {
   "cell_type": "markdown",
   "id": "fea9cb66",
   "metadata": {},
   "source": [
    "# Comparación de Metología"
   ]
  },
  {
   "cell_type": "markdown",
   "id": "20624824",
   "metadata": {
    "heading_collapsed": true,
    "jp-MarkdownHeadingCollapsed": true,
    "tags": []
   },
   "source": [
    "## Met. Andrés"
   ]
  },
  {
   "cell_type": "code",
   "execution_count": null,
   "id": "cad320fa",
   "metadata": {
    "ExecuteTime": {
     "end_time": "2022-08-31T18:25:11.779641Z",
     "start_time": "2022-08-31T18:25:11.777121Z"
    },
    "hidden": true
   },
   "outputs": [],
   "source": [
    "# img_ba= img_final.select('B4','B5','EVI','EVI_corr','EVI_imcorr1','NDVI_diss','NDVI_spring','NDWI','elevation','mNDWI','slope','EVI_ent').addBands(long_lat)"
   ]
  },
  {
   "cell_type": "code",
   "execution_count": null,
   "id": "ce945cf5",
   "metadata": {
    "ExecuteTime": {
     "end_time": "2022-08-31T18:25:11.782966Z",
     "start_time": "2022-08-31T18:25:11.781219Z"
    },
    "hidden": true
   },
   "outputs": [],
   "source": [
    "# img_ba.bandNames().getInfo()"
   ]
  },
  {
   "cell_type": "code",
   "execution_count": null,
   "id": "b4b8de55",
   "metadata": {
    "ExecuteTime": {
     "end_time": "2022-08-31T18:25:11.785976Z",
     "start_time": "2022-08-31T18:25:11.784331Z"
    },
    "hidden": true
   },
   "outputs": [],
   "source": [
    "# data_ba = img_ba.sampleRegions(**{\n",
    "#     'collection': test1,\n",
    "#     'properties': ['C_ID'],\n",
    "#     'scale': 30,\n",
    "#     'tileScale': 2,\n",
    "# })"
   ]
  },
  {
   "cell_type": "code",
   "execution_count": null,
   "id": "4ae73faa",
   "metadata": {
    "ExecuteTime": {
     "end_time": "2022-08-31T18:25:11.788977Z",
     "start_time": "2022-08-31T18:25:11.787292Z"
    },
    "hidden": true
   },
   "outputs": [],
   "source": [
    "# sample2 = data_ba.randomColumn()\n",
    "# split = 0.7"
   ]
  },
  {
   "cell_type": "code",
   "execution_count": null,
   "id": "1520fb24",
   "metadata": {
    "ExecuteTime": {
     "end_time": "2022-08-31T18:25:11.791809Z",
     "start_time": "2022-08-31T18:25:11.790196Z"
    },
    "hidden": true
   },
   "outputs": [],
   "source": [
    "# training2 = sample2.filter(ee.Filter.lt('random', split))\n",
    "# validation2= sample2.filter(ee.Filter.gte('random', split))"
   ]
  },
  {
   "cell_type": "code",
   "execution_count": null,
   "id": "d8ccd7e9",
   "metadata": {
    "ExecuteTime": {
     "end_time": "2022-08-31T18:25:11.794860Z",
     "start_time": "2022-08-31T18:25:11.793174Z"
    },
    "hidden": true
   },
   "outputs": [],
   "source": [
    "# bands_ba = ['B4','B5','EVI','EVI_corr','EVI_imcorr1','NDVI_diss','NDVI_spring','NDWI','elevation','mNDWI','slope','EVI_ent','longitude', 'latitude']"
   ]
  },
  {
   "cell_type": "code",
   "execution_count": null,
   "id": "4df64814",
   "metadata": {
    "ExecuteTime": {
     "end_time": "2022-08-31T18:25:11.797522Z",
     "start_time": "2022-08-31T18:25:11.795981Z"
    },
    "hidden": true
   },
   "outputs": [],
   "source": [
    "# classifier_ba = ee.Classifier.smileRandomForest(100).train(training2,label_train,bands_ba)"
   ]
  },
  {
   "cell_type": "code",
   "execution_count": null,
   "id": "120bd851",
   "metadata": {
    "ExecuteTime": {
     "end_time": "2022-08-31T18:25:11.800603Z",
     "start_time": "2022-08-31T18:25:11.798567Z"
    },
    "hidden": true
   },
   "outputs": [],
   "source": [
    "# result_ba = img_ba.select(bands_ba).classify(classifier_ba)"
   ]
  },
  {
   "cell_type": "code",
   "execution_count": null,
   "id": "3ab6e317",
   "metadata": {
    "ExecuteTime": {
     "end_time": "2022-08-31T18:25:11.803614Z",
     "start_time": "2022-08-31T18:25:11.801931Z"
    },
    "hidden": true
   },
   "outputs": [],
   "source": [
    "# explained_ba = ee.Classifier.explain(classifier_ba)"
   ]
  },
  {
   "cell_type": "code",
   "execution_count": null,
   "id": "8402b662",
   "metadata": {
    "ExecuteTime": {
     "end_time": "2022-08-31T18:25:11.806644Z",
     "start_time": "2022-08-31T18:25:11.804959Z"
    },
    "hidden": true,
    "scrolled": true
   },
   "outputs": [],
   "source": [
    "# explained_ba.getInfo()"
   ]
  },
  {
   "cell_type": "code",
   "execution_count": null,
   "id": "d680af07",
   "metadata": {
    "ExecuteTime": {
     "end_time": "2022-08-31T18:25:11.810799Z",
     "start_time": "2022-08-31T18:25:11.807974Z"
    },
    "hidden": true
   },
   "outputs": [],
   "source": [
    "# class_values2 = [1,2,3,4,5,6,7,8,9,10,11,12,13,14,15,16,17,19,20,23,30,31,32,33,34,35,36,39,40,43,45,47,48,57,58,60]\n",
    "\n",
    "# class_palette2 = ['d1fbff', # 1 Hielo\n",
    "#  'bfdadd', #2 lengua glaciar\n",
    "#  'b9bfbf', #3 glaciar cubierto\n",
    "#  'fe40fe', #4 nieve\n",
    "#  '8ac1ff', #5 fiordo glaciar\n",
    "#  '0c407b', #6 mar\n",
    "#  '2e8da0', #7 lago continental\n",
    "#  '16b2d1', #8 lago glaciar\n",
    "#  '27e1d8', #9 río\n",
    "#  'eeb514', #10 suelo desnudo\n",
    "#  '927012', #11 cárcavas erosión \n",
    "#  'e98c0f', #12 suelo río\n",
    "#  'f7e8bd', #13 suelo duna/arenal\n",
    "#  '5b5b5b', #14 caminos\n",
    "#  'e57104', #15 suelo desnudo / poca vegetación\n",
    "#  '5d1412', #16 tuberas / musgos\n",
    "#  '5d1412', #17 mallín                 \n",
    "#  '161163', #19 áreas inundables\n",
    "#  'fff300', #20 plantación adulto\n",
    "#  'ff0000', #23 ciudad urbano\n",
    "#  'dee842', #30 praderas pastoreo             \n",
    "#  'ced118', #31 estepa abierta\n",
    "#  '7a7c0f', #32 estepa cerrada\n",
    "#  'c39700', #33 palizales\n",
    "#  'a1ff8a', #34 preaderas\n",
    "#  '138665', #35 matorrales densos\n",
    "#  '1bbd8e', #36 matorrales abiertos\n",
    "#  '195a09', #39 primario adulto\n",
    "#  '27c41d', #40 secundario adulto\n",
    "#  'b2ff00', #43 renoval inicial\n",
    "#  'f36605', #45 degradado\n",
    "#  '7729db', #47 Primario adulto caduco\n",
    "#  '9e60ec', #48 Secundario adulto caduco\n",
    "#  '7000ff', #57 Mixto Primario\n",
    "#  'c598ff', #58 Mixto secundario\n",
    "#  '00ff87', #60 Coníferas nativas\n",
    "# ]"
   ]
  },
  {
   "cell_type": "code",
   "execution_count": null,
   "id": "678da8ab",
   "metadata": {
    "ExecuteTime": {
     "end_time": "2022-08-31T18:25:11.813531Z",
     "start_time": "2022-08-31T18:25:11.811968Z"
    },
    "hidden": true
   },
   "outputs": [],
   "source": [
    "# landcover_ba = result_ba.set('classification_class_values', class_values2)\n",
    "# landcover_ba = landcover_ba.set('classification_class_palette',class_palette2)"
   ]
  },
  {
   "cell_type": "code",
   "execution_count": null,
   "id": "16873727",
   "metadata": {
    "ExecuteTime": {
     "end_time": "2022-08-31T18:25:11.816540Z",
     "start_time": "2022-08-31T18:25:11.814880Z"
    },
    "hidden": true
   },
   "outputs": [],
   "source": [
    "# Map7.addLayer(landcover_ba,{}, 'Land cover Ba' )\n",
    "# Map7"
   ]
  },
  {
   "cell_type": "markdown",
   "id": "c06e40b6",
   "metadata": {
    "jp-MarkdownHeadingCollapsed": true,
    "tags": []
   },
   "source": [
    "## Met. RFE"
   ]
  },
  {
   "cell_type": "markdown",
   "id": "15c6c9c8",
   "metadata": {},
   "source": [
    "### Primer"
   ]
  },
  {
   "cell_type": "code",
   "execution_count": null,
   "id": "73c8707c",
   "metadata": {
    "ExecuteTime": {
     "end_time": "2022-08-31T18:25:11.820806Z",
     "start_time": "2022-08-31T18:25:11.817772Z"
    }
   },
   "outputs": [],
   "source": [
    "img_rfe = img_final.select('elevation','NDVI_spring','NDVI_winter','NDVI_autumn','B1','NDGI','EVI_savg','B2','NDVI_savg','mNDWI','B4','B3','brightness',\n",
    "                           'NDSI','slope','NDBI','NDWI','wetness','B7','NDBrI','greenness','B5','EVI','B6','NDWBI','GNDVI','NDVI','MSAVI2','SAVI','B5_savg')"
   ]
  },
  {
   "cell_type": "code",
   "execution_count": null,
   "id": "fce0dbe0",
   "metadata": {
    "ExecuteTime": {
     "end_time": "2022-08-31T18:25:23.970741Z",
     "start_time": "2022-08-31T18:25:11.822006Z"
    }
   },
   "outputs": [],
   "source": [
    "img_rfe.bandNames().getInfo()"
   ]
  },
  {
   "cell_type": "code",
   "execution_count": null,
   "id": "6cb5a40c",
   "metadata": {
    "ExecuteTime": {
     "end_time": "2022-08-31T18:25:23.974329Z",
     "start_time": "2022-08-31T18:25:23.972111Z"
    }
   },
   "outputs": [],
   "source": [
    "data_rfe = img_rfe.sampleRegions(**{\n",
    "    'collection': test1,\n",
    "    'properties': ['C_ID'],\n",
    "    'scale': 30,\n",
    "    'tileScale': 2,\n",
    "})"
   ]
  },
  {
   "cell_type": "code",
   "execution_count": null,
   "id": "f0eb31e6",
   "metadata": {
    "ExecuteTime": {
     "end_time": "2022-08-31T18:25:23.978120Z",
     "start_time": "2022-08-31T18:25:23.976019Z"
    }
   },
   "outputs": [],
   "source": [
    "sample3 = data_rfe.randomColumn()\n",
    "split = 0.7"
   ]
  },
  {
   "cell_type": "code",
   "execution_count": null,
   "id": "d56480de",
   "metadata": {
    "ExecuteTime": {
     "end_time": "2022-08-31T18:25:23.982215Z",
     "start_time": "2022-08-31T18:25:23.979693Z"
    }
   },
   "outputs": [],
   "source": [
    "training3 = sample3.filter(ee.Filter.lt('random', split))\n",
    "validation3= sample3.filter(ee.Filter.gte('random', split))"
   ]
  },
  {
   "cell_type": "code",
   "execution_count": null,
   "id": "2b3002d1",
   "metadata": {
    "ExecuteTime": {
     "end_time": "2022-08-31T18:25:23.985992Z",
     "start_time": "2022-08-31T18:25:23.983585Z"
    }
   },
   "outputs": [],
   "source": [
    "bands_rfe = ['elevation','NDVI_spring','NDVI_winter','NDVI_autumn','B1','NDGI','EVI_savg','B2','NDVI_savg','mNDWI','B4','B3','brightness',\n",
    "                           'NDSI','slope','NDBI','NDWI','wetness','B7','NDBrI','greenness','B5','EVI','B6','NDWBI','GNDVI','NDVI','MSAVI2','SAVI','B5_savg']"
   ]
  },
  {
   "cell_type": "code",
   "execution_count": null,
   "id": "9a44ebcc",
   "metadata": {
    "ExecuteTime": {
     "end_time": "2022-08-31T18:25:23.989924Z",
     "start_time": "2022-08-31T18:25:23.987416Z"
    }
   },
   "outputs": [],
   "source": [
    "classifier_rfe = ee.Classifier.smileRandomForest(100).train(data_rfe,label_train,bands_rfe)"
   ]
  },
  {
   "cell_type": "code",
   "execution_count": null,
   "id": "b60dea00",
   "metadata": {
    "ExecuteTime": {
     "end_time": "2022-08-31T18:25:23.993073Z",
     "start_time": "2022-08-31T18:25:23.991161Z"
    }
   },
   "outputs": [],
   "source": [
    "result_rfe = img_rfe.select(bands_rfe).classify(classifier_rfe)"
   ]
  },
  {
   "cell_type": "code",
   "execution_count": null,
   "id": "5a9eae91",
   "metadata": {
    "ExecuteTime": {
     "end_time": "2022-08-31T18:25:23.996382Z",
     "start_time": "2022-08-31T18:25:23.994612Z"
    }
   },
   "outputs": [],
   "source": [
    "explained_rfe = ee.Classifier.explain(classifier_rfe)"
   ]
  },
  {
   "cell_type": "code",
   "execution_count": null,
   "id": "6dd4c3e4",
   "metadata": {
    "ExecuteTime": {
     "end_time": "2022-08-31T18:25:24.000401Z",
     "start_time": "2022-08-31T18:25:23.997762Z"
    },
    "scrolled": true,
    "tags": []
   },
   "outputs": [],
   "source": [
    "#explained_rfe.getInfo()"
   ]
  },
  {
   "cell_type": "code",
   "execution_count": null,
   "id": "2e4ecf3a",
   "metadata": {
    "ExecuteTime": {
     "end_time": "2022-08-31T18:25:24.003524Z",
     "start_time": "2022-08-31T18:25:24.001601Z"
    }
   },
   "outputs": [],
   "source": [
    "landcover_rfe = result_rfe.set('classification_class_values', class_values2)\n",
    "landcover_rfe = landcover_rfe.set('classification_class_palette',class_palette2)"
   ]
  },
  {
   "cell_type": "code",
   "execution_count": null,
   "id": "36a777ed",
   "metadata": {
    "ExecuteTime": {
     "end_time": "2022-08-31T18:25:37.258594Z",
     "start_time": "2022-08-31T18:25:24.004930Z"
    },
    "tags": []
   },
   "outputs": [],
   "source": [
    "Map8.addLayer(landcover_rfe,{}, 'Land cover rfe' )\n",
    "Map8"
   ]
  },
  {
   "cell_type": "code",
   "execution_count": null,
   "id": "bc06383d-811f-4a15-a735-caf9e46d6915",
   "metadata": {
    "ExecuteTime": {
     "end_time": "2022-08-31T18:25:37.262626Z",
     "start_time": "2022-08-31T18:25:37.259950Z"
    }
   },
   "outputs": [],
   "source": [
    "task_landcover = ee.batch.Export.image.toDrive(**{\n",
    "    'image': landcover_rfe,\n",
    "    'description':'landcover_rfe_02',\n",
    "    'folder':'Earth Engine',\n",
    "    'region': geometry_exp.bounds(),\n",
    "    'scale':30,\n",
    "    'crsTransform':[30, 0, 214185, 0, -30, -4825185], \n",
    "    'crs':'EPSG:32719',\n",
    "    'maxPixels':1e13\n",
    "})"
   ]
  },
  {
   "cell_type": "code",
   "execution_count": null,
   "id": "9299a444-a17f-4af9-a266-24fa8de7c856",
   "metadata": {
    "ExecuteTime": {
     "end_time": "2022-08-31T18:25:37.266056Z",
     "start_time": "2022-08-31T18:25:37.264222Z"
    }
   },
   "outputs": [],
   "source": [
    "# task_landcover.start()"
   ]
  },
  {
   "cell_type": "markdown",
   "id": "b79ccfe6",
   "metadata": {
    "tags": []
   },
   "source": [
    "### Segundo"
   ]
  },
  {
   "cell_type": "code",
   "execution_count": null,
   "id": "f83dc08c",
   "metadata": {
    "ExecuteTime": {
     "end_time": "2022-08-31T18:25:37.269862Z",
     "start_time": "2022-08-31T18:25:37.267601Z"
    }
   },
   "outputs": [],
   "source": [
    "img_rfe2 = img_final.select('elevation','NDVI_spring','NDVI_winter','NDVI_autumn','B1','NDGI','EVI_savg','B2','NDVI_savg','mNDWI','B4','B3','brightness',\n",
    "                           'NDSI','slope','NDBI','NDWI','wetness','B7','NDBrI','greenness','B5','EVI','B5_savg')"
   ]
  },
  {
   "cell_type": "code",
   "execution_count": null,
   "id": "4eac431c",
   "metadata": {
    "ExecuteTime": {
     "end_time": "2022-08-31T18:25:41.096762Z",
     "start_time": "2022-08-31T18:25:37.271441Z"
    }
   },
   "outputs": [],
   "source": [
    "img_rfe2.bandNames().getInfo()"
   ]
  },
  {
   "cell_type": "code",
   "execution_count": null,
   "id": "8767af17",
   "metadata": {
    "ExecuteTime": {
     "end_time": "2022-08-31T18:25:41.100763Z",
     "start_time": "2022-08-31T18:25:41.098382Z"
    }
   },
   "outputs": [],
   "source": [
    "data_rfe2 = img_rfe2.sampleRegions(**{\n",
    "    'collection': test1,\n",
    "    'properties': ['C_ID'],\n",
    "    'scale': 30,\n",
    "    'tileScale': 2,\n",
    "})"
   ]
  },
  {
   "cell_type": "code",
   "execution_count": null,
   "id": "041fe9c7",
   "metadata": {
    "ExecuteTime": {
     "end_time": "2022-08-31T18:25:41.104301Z",
     "start_time": "2022-08-31T18:25:41.102271Z"
    }
   },
   "outputs": [],
   "source": [
    "sample4 = data_rfe2.randomColumn()\n",
    "split = 0.7"
   ]
  },
  {
   "cell_type": "code",
   "execution_count": null,
   "id": "67d0f42a",
   "metadata": {
    "ExecuteTime": {
     "end_time": "2022-08-31T18:25:41.107418Z",
     "start_time": "2022-08-31T18:25:41.105416Z"
    }
   },
   "outputs": [],
   "source": [
    "training4 = sample4.filter(ee.Filter.lt('random', split))\n",
    "validation4= sample4.filter(ee.Filter.gte('random', split))"
   ]
  },
  {
   "cell_type": "code",
   "execution_count": null,
   "id": "feacf205",
   "metadata": {
    "ExecuteTime": {
     "end_time": "2022-08-31T18:25:41.111082Z",
     "start_time": "2022-08-31T18:25:41.108957Z"
    }
   },
   "outputs": [],
   "source": [
    "bands_rfe2 = ['elevation','NDVI_spring','NDVI_winter','NDVI_autumn','B1','NDGI','EVI_savg','B2','NDVI_savg','mNDWI','B4','B3','brightness',\n",
    "                           'NDSI','slope','NDBI','NDWI','wetness','B7','NDBrI','greenness','B5','EVI','B5_savg']"
   ]
  },
  {
   "cell_type": "code",
   "execution_count": null,
   "id": "069519c7",
   "metadata": {
    "ExecuteTime": {
     "end_time": "2022-08-31T18:25:41.115067Z",
     "start_time": "2022-08-31T18:25:41.112771Z"
    }
   },
   "outputs": [],
   "source": [
    "classifier_rfe2 = ee.Classifier.smileRandomForest(100).train(data_rfe2,label_train,bands_rfe2)"
   ]
  },
  {
   "cell_type": "code",
   "execution_count": null,
   "id": "28b9712b",
   "metadata": {
    "ExecuteTime": {
     "end_time": "2022-08-31T18:25:41.143259Z",
     "start_time": "2022-08-31T18:25:41.141201Z"
    }
   },
   "outputs": [],
   "source": [
    "result_rfe2 = img_rfe.select(bands_rfe2).classify(classifier_rfe2)"
   ]
  },
  {
   "cell_type": "code",
   "execution_count": null,
   "id": "0f7c6a93",
   "metadata": {
    "ExecuteTime": {
     "end_time": "2022-08-31T18:25:41.147118Z",
     "start_time": "2022-08-31T18:25:41.145023Z"
    }
   },
   "outputs": [],
   "source": [
    "explained_rfe2 = ee.Classifier.explain(classifier_rfe2)"
   ]
  },
  {
   "cell_type": "code",
   "execution_count": null,
   "id": "8b9ec07b",
   "metadata": {
    "ExecuteTime": {
     "end_time": "2022-08-31T18:25:41.150501Z",
     "start_time": "2022-08-31T18:25:41.148674Z"
    }
   },
   "outputs": [],
   "source": [
    "#explained_rfe2.getInfo()"
   ]
  },
  {
   "cell_type": "code",
   "execution_count": null,
   "id": "8de9ac2b",
   "metadata": {
    "ExecuteTime": {
     "end_time": "2022-08-31T18:25:41.154257Z",
     "start_time": "2022-08-31T18:25:41.152137Z"
    }
   },
   "outputs": [],
   "source": [
    "landcover_rfe2 = result_rfe2.set('classification_class_values', class_values2)\n",
    "landcover_rfe2 = landcover_rfe2.set('classification_class_palette',class_palette2)"
   ]
  },
  {
   "cell_type": "code",
   "execution_count": null,
   "id": "e4bb7091",
   "metadata": {
    "ExecuteTime": {
     "end_time": "2022-08-31T18:25:53.941788Z",
     "start_time": "2022-08-31T18:25:41.155653Z"
    }
   },
   "outputs": [],
   "source": [
    "Map9.addLayer(landcover_rfe2,{}, 'Land cover rfe2' )\n",
    "Map9"
   ]
  },
  {
   "cell_type": "markdown",
   "id": "80760681",
   "metadata": {
    "tags": []
   },
   "source": [
    "# Matrices de Confusión"
   ]
  },
  {
   "cell_type": "markdown",
   "id": "07276083",
   "metadata": {},
   "source": [
    "Primer mosaico Bruto"
   ]
  },
  {
   "cell_type": "code",
   "execution_count": null,
   "id": "816e243a",
   "metadata": {
    "ExecuteTime": {
     "end_time": "2022-08-31T18:25:53.945129Z",
     "start_time": "2022-08-31T18:25:53.943113Z"
    }
   },
   "outputs": [],
   "source": [
    "train_accuracy = classifier_QM.confusionMatrix()"
   ]
  },
  {
   "cell_type": "code",
   "execution_count": null,
   "id": "f080ae8a",
   "metadata": {
    "ExecuteTime": {
     "end_time": "2022-08-31T18:25:53.948463Z",
     "start_time": "2022-08-31T18:25:53.946760Z"
    },
    "scrolled": true,
    "tags": []
   },
   "outputs": [],
   "source": [
    "# train_accuracy.getInfo()"
   ]
  },
  {
   "cell_type": "code",
   "execution_count": null,
   "id": "e4aedfda",
   "metadata": {
    "ExecuteTime": {
     "end_time": "2022-08-31T18:26:04.029653Z",
     "start_time": "2022-08-31T18:25:53.950119Z"
    }
   },
   "outputs": [],
   "source": [
    "train_accuracy.accuracy().getInfo()"
   ]
  },
  {
   "cell_type": "code",
   "execution_count": null,
   "id": "80f232e4",
   "metadata": {
    "ExecuteTime": {
     "end_time": "2022-08-31T18:26:17.662127Z",
     "start_time": "2022-08-31T18:26:04.031028Z"
    },
    "tags": []
   },
   "outputs": [],
   "source": [
    "train_accuracy.kappa().getInfo()"
   ]
  },
  {
   "cell_type": "code",
   "execution_count": null,
   "id": "aa1cb040",
   "metadata": {
    "ExecuteTime": {
     "end_time": "2022-08-31T18:26:17.665483Z",
     "start_time": "2022-08-31T18:26:17.663682Z"
    },
    "tags": []
   },
   "outputs": [],
   "source": [
    "#train_accuracy.producersAccuracy().getInfo()"
   ]
  },
  {
   "cell_type": "code",
   "execution_count": null,
   "id": "e39435bd",
   "metadata": {
    "ExecuteTime": {
     "end_time": "2022-08-31T18:26:17.669609Z",
     "start_time": "2022-08-31T18:26:17.666604Z"
    },
    "tags": []
   },
   "outputs": [],
   "source": [
    "#train_accuracy.consumersAccuracy().getInfo()"
   ]
  },
  {
   "cell_type": "code",
   "execution_count": null,
   "id": "49453477",
   "metadata": {
    "ExecuteTime": {
     "end_time": "2022-08-31T18:26:17.673631Z",
     "start_time": "2022-08-31T18:26:17.671557Z"
    }
   },
   "outputs": [],
   "source": [
    "validated = data_Val.classify(classifier_QM)"
   ]
  },
  {
   "cell_type": "code",
   "execution_count": null,
   "id": "742278ad",
   "metadata": {
    "ExecuteTime": {
     "end_time": "2022-08-31T18:26:39.710914Z",
     "start_time": "2022-08-31T18:26:17.675268Z"
    },
    "scrolled": true
   },
   "outputs": [],
   "source": [
    "validated.first().getInfo()"
   ]
  },
  {
   "cell_type": "code",
   "execution_count": null,
   "id": "5fcdd895",
   "metadata": {
    "ExecuteTime": {
     "end_time": "2022-08-31T18:26:39.714590Z",
     "start_time": "2022-08-31T18:26:39.712390Z"
    }
   },
   "outputs": [],
   "source": [
    "test_accuracy = validated.errorMatrix('C_ID', 'classification')"
   ]
  },
  {
   "cell_type": "code",
   "execution_count": null,
   "id": "cb216b8c",
   "metadata": {
    "ExecuteTime": {
     "end_time": "2022-08-31T18:26:39.718105Z",
     "start_time": "2022-08-31T18:26:39.715959Z"
    },
    "tags": []
   },
   "outputs": [],
   "source": [
    "# test_accuracy.getInfo()"
   ]
  },
  {
   "cell_type": "code",
   "execution_count": null,
   "id": "0420f12a",
   "metadata": {
    "ExecuteTime": {
     "end_time": "2022-08-31T18:27:02.569832Z",
     "start_time": "2022-08-31T18:26:39.719856Z"
    }
   },
   "outputs": [],
   "source": [
    "test_accuracy.accuracy().getInfo()"
   ]
  },
  {
   "cell_type": "code",
   "execution_count": null,
   "id": "3ce130b9",
   "metadata": {
    "ExecuteTime": {
     "end_time": "2022-08-31T18:27:23.685131Z",
     "start_time": "2022-08-31T18:27:02.571342Z"
    }
   },
   "outputs": [],
   "source": [
    "test_accuracy.kappa().getInfo()"
   ]
  },
  {
   "cell_type": "code",
   "execution_count": null,
   "id": "4c0ccc58",
   "metadata": {
    "ExecuteTime": {
     "end_time": "2022-08-31T18:27:42.710781Z",
     "start_time": "2022-08-31T18:27:23.686645Z"
    },
    "tags": []
   },
   "outputs": [],
   "source": [
    "test_accuracy.producersAccuracy().getInfo()"
   ]
  },
  {
   "cell_type": "code",
   "execution_count": null,
   "id": "ed9904b9",
   "metadata": {
    "ExecuteTime": {
     "end_time": "2022-08-31T18:28:03.284832Z",
     "start_time": "2022-08-31T18:27:42.712277Z"
    },
    "tags": []
   },
   "outputs": [],
   "source": [
    "test_accuracy.consumersAccuracy().getInfo()"
   ]
  },
  {
   "cell_type": "markdown",
   "id": "33747b41",
   "metadata": {},
   "source": [
    "Met Ba"
   ]
  },
  {
   "cell_type": "code",
   "execution_count": null,
   "id": "19b18b02",
   "metadata": {
    "ExecuteTime": {
     "end_time": "2022-08-31T18:28:03.287754Z",
     "start_time": "2022-08-31T18:28:03.286064Z"
    }
   },
   "outputs": [],
   "source": [
    "#train_accuracy = classifier_ba.confusionMatrix()"
   ]
  },
  {
   "cell_type": "code",
   "execution_count": null,
   "id": "4ebd2827",
   "metadata": {
    "ExecuteTime": {
     "end_time": "2022-08-31T18:28:03.291139Z",
     "start_time": "2022-08-31T18:28:03.289174Z"
    }
   },
   "outputs": [],
   "source": [
    "# train_accuracy.getInfo()"
   ]
  },
  {
   "cell_type": "code",
   "execution_count": null,
   "id": "f0e88c8a",
   "metadata": {
    "ExecuteTime": {
     "end_time": "2022-08-31T18:28:03.294230Z",
     "start_time": "2022-08-31T18:28:03.292506Z"
    }
   },
   "outputs": [],
   "source": [
    "# train_accuracy.accuracy().getInfo()"
   ]
  },
  {
   "cell_type": "code",
   "execution_count": null,
   "id": "6efdfca9",
   "metadata": {
    "ExecuteTime": {
     "end_time": "2022-08-31T18:28:03.297569Z",
     "start_time": "2022-08-31T18:28:03.295749Z"
    }
   },
   "outputs": [],
   "source": [
    "# train_accuracy.kappa().getInfo()"
   ]
  },
  {
   "cell_type": "code",
   "execution_count": null,
   "id": "a14f5ecb",
   "metadata": {
    "ExecuteTime": {
     "end_time": "2022-08-31T18:28:03.301596Z",
     "start_time": "2022-08-31T18:28:03.298947Z"
    }
   },
   "outputs": [],
   "source": [
    "# train_accuracy.producersAccuracy().getInfo()"
   ]
  },
  {
   "cell_type": "code",
   "execution_count": null,
   "id": "2b7b8be1",
   "metadata": {
    "ExecuteTime": {
     "end_time": "2022-08-31T18:28:03.305020Z",
     "start_time": "2022-08-31T18:28:03.302903Z"
    }
   },
   "outputs": [],
   "source": [
    "# train_accuracy.consumersAccuracy().getInfo()"
   ]
  },
  {
   "cell_type": "code",
   "execution_count": null,
   "id": "c0fd37b3",
   "metadata": {
    "ExecuteTime": {
     "end_time": "2022-08-31T18:28:03.307876Z",
     "start_time": "2022-08-31T18:28:03.306203Z"
    }
   },
   "outputs": [],
   "source": [
    "# validated = data_Val.classify(classifier_ba)"
   ]
  },
  {
   "cell_type": "code",
   "execution_count": null,
   "id": "c2c1546f",
   "metadata": {
    "ExecuteTime": {
     "end_time": "2022-08-31T18:28:03.311209Z",
     "start_time": "2022-08-31T18:28:03.309509Z"
    }
   },
   "outputs": [],
   "source": [
    "# validated.first().getInfo()"
   ]
  },
  {
   "cell_type": "code",
   "execution_count": null,
   "id": "bde2a1f6",
   "metadata": {
    "ExecuteTime": {
     "end_time": "2022-08-31T18:28:03.314757Z",
     "start_time": "2022-08-31T18:28:03.312642Z"
    }
   },
   "outputs": [],
   "source": [
    "# test_accuracy = validated.errorMatrix('C_ID', 'classification')"
   ]
  },
  {
   "cell_type": "code",
   "execution_count": null,
   "id": "0c4b3448",
   "metadata": {
    "ExecuteTime": {
     "end_time": "2022-08-31T18:28:03.317768Z",
     "start_time": "2022-08-31T18:28:03.316039Z"
    }
   },
   "outputs": [],
   "source": [
    "# test_accuracy.getInfo()"
   ]
  },
  {
   "cell_type": "code",
   "execution_count": null,
   "id": "30095e1b",
   "metadata": {
    "ExecuteTime": {
     "end_time": "2022-08-31T18:28:03.321292Z",
     "start_time": "2022-08-31T18:28:03.319234Z"
    }
   },
   "outputs": [],
   "source": [
    "# test_accuracy.accuracy().getInfo()"
   ]
  },
  {
   "cell_type": "code",
   "execution_count": null,
   "id": "98f12907",
   "metadata": {
    "ExecuteTime": {
     "end_time": "2022-08-31T18:28:03.324295Z",
     "start_time": "2022-08-31T18:28:03.322621Z"
    }
   },
   "outputs": [],
   "source": [
    "# test_accuracy.kappa().getInfo()"
   ]
  },
  {
   "cell_type": "code",
   "execution_count": null,
   "id": "65cc2392",
   "metadata": {
    "ExecuteTime": {
     "end_time": "2022-08-31T18:28:03.327459Z",
     "start_time": "2022-08-31T18:28:03.325716Z"
    }
   },
   "outputs": [],
   "source": [
    "# test_accuracy.producersAccuracy().getInfo()"
   ]
  },
  {
   "cell_type": "code",
   "execution_count": null,
   "id": "87c98074",
   "metadata": {
    "ExecuteTime": {
     "end_time": "2022-08-31T18:28:03.331105Z",
     "start_time": "2022-08-31T18:28:03.328819Z"
    }
   },
   "outputs": [],
   "source": [
    "# test_accuracy.consumersAccuracy().getInfo()"
   ]
  },
  {
   "cell_type": "markdown",
   "id": "151648c4",
   "metadata": {},
   "source": [
    "<!-- Met. RFE1 -->"
   ]
  },
  {
   "cell_type": "code",
   "execution_count": null,
   "id": "582969a2",
   "metadata": {
    "ExecuteTime": {
     "end_time": "2022-08-31T18:28:03.334072Z",
     "start_time": "2022-08-31T18:28:03.332382Z"
    }
   },
   "outputs": [],
   "source": [
    "# train_accuracy = classifier_rfe.confusionMatrix()"
   ]
  },
  {
   "cell_type": "code",
   "execution_count": null,
   "id": "ba4e5165",
   "metadata": {
    "ExecuteTime": {
     "end_time": "2022-08-31T18:28:03.337207Z",
     "start_time": "2022-08-31T18:28:03.335537Z"
    },
    "tags": []
   },
   "outputs": [],
   "source": [
    "# train_accuracy.getInfo()"
   ]
  },
  {
   "cell_type": "code",
   "execution_count": null,
   "id": "f7fe1b32",
   "metadata": {
    "ExecuteTime": {
     "end_time": "2022-08-31T18:28:03.341001Z",
     "start_time": "2022-08-31T18:28:03.338574Z"
    }
   },
   "outputs": [],
   "source": [
    "# train_accuracy.accuracy().getInfo()"
   ]
  },
  {
   "cell_type": "code",
   "execution_count": null,
   "id": "190cfb11",
   "metadata": {
    "ExecuteTime": {
     "end_time": "2022-08-31T18:28:03.343903Z",
     "start_time": "2022-08-31T18:28:03.342228Z"
    }
   },
   "outputs": [],
   "source": [
    "# train_accuracy.kappa().getInfo()"
   ]
  },
  {
   "cell_type": "code",
   "execution_count": null,
   "id": "89cac4c6",
   "metadata": {
    "ExecuteTime": {
     "end_time": "2022-08-31T18:28:03.346949Z",
     "start_time": "2022-08-31T18:28:03.345288Z"
    },
    "tags": []
   },
   "outputs": [],
   "source": [
    "# train_accuracy.producersAccuracy().getInfo()"
   ]
  },
  {
   "cell_type": "code",
   "execution_count": null,
   "id": "d8024ff9",
   "metadata": {
    "ExecuteTime": {
     "end_time": "2022-08-31T18:28:03.350953Z",
     "start_time": "2022-08-31T18:28:03.348469Z"
    },
    "tags": []
   },
   "outputs": [],
   "source": [
    "# train_accuracy.consumersAccuracy().getInfo()"
   ]
  },
  {
   "cell_type": "code",
   "execution_count": null,
   "id": "4581b1b1",
   "metadata": {
    "ExecuteTime": {
     "end_time": "2022-08-31T18:28:03.353957Z",
     "start_time": "2022-08-31T18:28:03.352182Z"
    }
   },
   "outputs": [],
   "source": [
    "# validated = data_Val.classify(classifier_rfe)"
   ]
  },
  {
   "cell_type": "code",
   "execution_count": null,
   "id": "6fbe9d6d",
   "metadata": {
    "ExecuteTime": {
     "end_time": "2022-08-31T18:28:03.357479Z",
     "start_time": "2022-08-31T18:28:03.355403Z"
    }
   },
   "outputs": [],
   "source": [
    "# validated.first().getInfo()"
   ]
  },
  {
   "cell_type": "code",
   "execution_count": null,
   "id": "01783837",
   "metadata": {
    "ExecuteTime": {
     "end_time": "2022-08-31T18:28:03.360663Z",
     "start_time": "2022-08-31T18:28:03.358676Z"
    }
   },
   "outputs": [],
   "source": [
    "# test_accuracy = validated.errorMatrix('C_ID', 'classification')"
   ]
  },
  {
   "cell_type": "code",
   "execution_count": null,
   "id": "10c50612",
   "metadata": {
    "ExecuteTime": {
     "end_time": "2022-08-31T18:28:03.364173Z",
     "start_time": "2022-08-31T18:28:03.361957Z"
    },
    "tags": []
   },
   "outputs": [],
   "source": [
    "# test_accuracy.getInfo()"
   ]
  },
  {
   "cell_type": "code",
   "execution_count": null,
   "id": "ffa320db",
   "metadata": {
    "ExecuteTime": {
     "end_time": "2022-08-31T18:28:03.367776Z",
     "start_time": "2022-08-31T18:28:03.365461Z"
    }
   },
   "outputs": [],
   "source": [
    "# test_accuracy.accuracy().getInfo()"
   ]
  },
  {
   "cell_type": "code",
   "execution_count": null,
   "id": "98248e32",
   "metadata": {
    "ExecuteTime": {
     "end_time": "2022-08-31T18:28:03.371144Z",
     "start_time": "2022-08-31T18:28:03.368960Z"
    }
   },
   "outputs": [],
   "source": [
    "# test_accuracy.kappa().getInfo()"
   ]
  },
  {
   "cell_type": "code",
   "execution_count": null,
   "id": "8854bfd4",
   "metadata": {
    "ExecuteTime": {
     "end_time": "2022-08-31T18:28:03.374262Z",
     "start_time": "2022-08-31T18:28:03.372382Z"
    },
    "tags": []
   },
   "outputs": [],
   "source": [
    "# test_accuracy.producersAccuracy().getInfo()"
   ]
  },
  {
   "cell_type": "code",
   "execution_count": null,
   "id": "2b6eff4f",
   "metadata": {
    "ExecuteTime": {
     "end_time": "2022-08-31T18:28:03.377651Z",
     "start_time": "2022-08-31T18:28:03.375600Z"
    },
    "tags": []
   },
   "outputs": [],
   "source": [
    "# test_accuracy.consumersAccuracy().getInfo()"
   ]
  },
  {
   "cell_type": "markdown",
   "id": "feeedf5f",
   "metadata": {},
   "source": [
    "<!-- Met. RFE2 -->"
   ]
  },
  {
   "cell_type": "code",
   "execution_count": null,
   "id": "02c22694",
   "metadata": {
    "ExecuteTime": {
     "end_time": "2022-08-31T18:28:03.380864Z",
     "start_time": "2022-08-31T18:28:03.378899Z"
    }
   },
   "outputs": [],
   "source": [
    "# train_accuracy = classifier_rfe2.confusionMatrix()"
   ]
  },
  {
   "cell_type": "code",
   "execution_count": null,
   "id": "0ddbf7a5",
   "metadata": {
    "ExecuteTime": {
     "end_time": "2022-08-31T18:28:03.383781Z",
     "start_time": "2022-08-31T18:28:03.382158Z"
    },
    "tags": []
   },
   "outputs": [],
   "source": [
    "# train_accuracy.getInfo()"
   ]
  },
  {
   "cell_type": "code",
   "execution_count": null,
   "id": "7b5cdd2b",
   "metadata": {
    "ExecuteTime": {
     "end_time": "2022-08-31T18:28:03.386876Z",
     "start_time": "2022-08-31T18:28:03.385207Z"
    }
   },
   "outputs": [],
   "source": [
    "# train_accuracy.accuracy().getInfo()"
   ]
  },
  {
   "cell_type": "code",
   "execution_count": null,
   "id": "d9ed32ae",
   "metadata": {
    "ExecuteTime": {
     "end_time": "2022-08-31T18:28:03.390741Z",
     "start_time": "2022-08-31T18:28:03.388295Z"
    }
   },
   "outputs": [],
   "source": [
    "# train_accuracy.kappa().getInfo()"
   ]
  },
  {
   "cell_type": "code",
   "execution_count": null,
   "id": "4e9a57cc",
   "metadata": {
    "ExecuteTime": {
     "end_time": "2022-08-31T18:28:03.393531Z",
     "start_time": "2022-08-31T18:28:03.391910Z"
    },
    "tags": []
   },
   "outputs": [],
   "source": [
    "# train_accuracy.producersAccuracy().getInfo()"
   ]
  },
  {
   "cell_type": "code",
   "execution_count": null,
   "id": "477c99f0",
   "metadata": {
    "ExecuteTime": {
     "end_time": "2022-08-31T18:28:03.396495Z",
     "start_time": "2022-08-31T18:28:03.394933Z"
    },
    "tags": []
   },
   "outputs": [],
   "source": [
    "# train_accuracy.consumersAccuracy().getInfo()"
   ]
  },
  {
   "cell_type": "code",
   "execution_count": null,
   "id": "b2532485",
   "metadata": {
    "ExecuteTime": {
     "end_time": "2022-08-31T18:28:03.400505Z",
     "start_time": "2022-08-31T18:28:03.397909Z"
    }
   },
   "outputs": [],
   "source": [
    "# validated = data_Val.classify(classifier_rfe2)"
   ]
  },
  {
   "cell_type": "code",
   "execution_count": null,
   "id": "948b0d25",
   "metadata": {
    "ExecuteTime": {
     "end_time": "2022-08-31T18:28:03.403298Z",
     "start_time": "2022-08-31T18:28:03.401779Z"
    }
   },
   "outputs": [],
   "source": [
    "# validated.first().getInfo()"
   ]
  },
  {
   "cell_type": "code",
   "execution_count": null,
   "id": "cdd4567e",
   "metadata": {
    "ExecuteTime": {
     "end_time": "2022-08-31T18:28:03.406320Z",
     "start_time": "2022-08-31T18:28:03.404684Z"
    }
   },
   "outputs": [],
   "source": [
    "# test_accuracy = validated.errorMatrix('C_ID', 'classification')"
   ]
  },
  {
   "cell_type": "code",
   "execution_count": null,
   "id": "5da106f4",
   "metadata": {
    "ExecuteTime": {
     "end_time": "2022-08-31T18:28:03.409334Z",
     "start_time": "2022-08-31T18:28:03.407672Z"
    },
    "tags": []
   },
   "outputs": [],
   "source": [
    "# test_accuracy.getInfo()"
   ]
  },
  {
   "cell_type": "code",
   "execution_count": null,
   "id": "220e034c",
   "metadata": {
    "ExecuteTime": {
     "end_time": "2022-08-31T18:28:03.412090Z",
     "start_time": "2022-08-31T18:28:03.410505Z"
    }
   },
   "outputs": [],
   "source": [
    "# test_accuracy.accuracy().getInfo()"
   ]
  },
  {
   "cell_type": "code",
   "execution_count": null,
   "id": "a3873d3d",
   "metadata": {
    "ExecuteTime": {
     "end_time": "2022-08-31T18:28:03.414799Z",
     "start_time": "2022-08-31T18:28:03.413233Z"
    }
   },
   "outputs": [],
   "source": [
    "# test_accuracy.kappa().getInfo()"
   ]
  },
  {
   "cell_type": "code",
   "execution_count": null,
   "id": "b2dcd91d",
   "metadata": {
    "ExecuteTime": {
     "end_time": "2022-08-31T18:28:03.417807Z",
     "start_time": "2022-08-31T18:28:03.416043Z"
    },
    "tags": []
   },
   "outputs": [],
   "source": [
    "# test_accuracy.producersAccuracy().getInfo()"
   ]
  },
  {
   "cell_type": "code",
   "execution_count": null,
   "id": "2d364239",
   "metadata": {
    "ExecuteTime": {
     "end_time": "2022-08-31T18:28:03.421351Z",
     "start_time": "2022-08-31T18:28:03.419273Z"
    },
    "tags": []
   },
   "outputs": [],
   "source": [
    "# test_accuracy.consumersAccuracy().getInfo()"
   ]
  }
 ],
 "metadata": {
  "kernelspec": {
   "display_name": "Python 3 (ipykernel)",
   "language": "python",
   "name": "python3"
  },
  "language_info": {
   "codemirror_mode": {
    "name": "ipython",
    "version": 3
   },
   "file_extension": ".py",
   "mimetype": "text/x-python",
   "name": "python",
   "nbconvert_exporter": "python",
   "pygments_lexer": "ipython3",
   "version": "3.9.13"
  },
  "toc": {
   "base_numbering": 1,
   "nav_menu": {},
   "number_sections": true,
   "sideBar": true,
   "skip_h1_title": false,
   "title_cell": "Table of Contents",
   "title_sidebar": "Contents",
   "toc_cell": false,
   "toc_position": {
    "height": "calc(100% - 180px)",
    "left": "10px",
    "top": "150px",
    "width": "384px"
   },
   "toc_section_display": true,
   "toc_window_display": true
  },
  "varInspector": {
   "cols": {
    "lenName": 16,
    "lenType": 16,
    "lenVar": 40
   },
   "kernels_config": {
    "python": {
     "delete_cmd_postfix": "",
     "delete_cmd_prefix": "del ",
     "library": "var_list.py",
     "varRefreshCmd": "print(var_dic_list())"
    },
    "r": {
     "delete_cmd_postfix": ") ",
     "delete_cmd_prefix": "rm(",
     "library": "var_list.r",
     "varRefreshCmd": "cat(var_dic_list()) "
    }
   },
   "types_to_exclude": [
    "module",
    "function",
    "builtin_function_or_method",
    "instance",
    "_Feature"
   ],
   "window_display": false
  }
 },
 "nbformat": 4,
 "nbformat_minor": 5
}
