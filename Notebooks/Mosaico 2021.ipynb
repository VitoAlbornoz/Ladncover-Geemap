{
 "cells": [
  {
   "cell_type": "markdown",
   "id": "c8ee7fef",
   "metadata": {},
   "source": [
    "# Mosaico 2021"
   ]
  },
  {
   "cell_type": "markdown",
   "id": "203f76ca",
   "metadata": {},
   "source": [
    "Script trabajado por Francisco Albornoz (2022-02-01) / Última modificación / Mosaicos Patagonia"
   ]
  },
  {
   "cell_type": "markdown",
   "id": "2fb5cdeb",
   "metadata": {},
   "source": [
    "2022-02-01 13:20:38 "
   ]
  },
  {
   "cell_type": "code",
   "execution_count": null,
   "id": "3057c761",
   "metadata": {
    "ExecuteTime": {
     "end_time": "2022-02-03T12:47:48.241350Z",
     "start_time": "2022-02-03T12:47:46.180108Z"
    }
   },
   "outputs": [],
   "source": [
    "import ee \n",
    "import geemap\n",
    "import geemap.chart as chart\n",
    "import os\n",
    "import folium\n",
    "import xarray_leaflet\n",
    "import rasterio \n",
    "from rasterio import plot\n",
    "import matplotlib.pyplot as plt\n",
    "import numpy as np\n",
    "%matplotlib inline"
   ]
  },
  {
   "cell_type": "markdown",
   "id": "1997eeb4",
   "metadata": {},
   "source": [
    "<img src=https://www.ecopaysen.cl/wp-content/uploads/2019/12/ecopaysen_marca_web.png>"
   ]
  },
  {
   "cell_type": "code",
   "execution_count": null,
   "id": "fca49a56",
   "metadata": {
    "ExecuteTime": {
     "end_time": "2022-02-03T12:47:59.520389Z",
     "start_time": "2022-02-03T12:47:48.242454Z"
    }
   },
   "outputs": [],
   "source": [
    "Map = geemap.Map(center = [-45, -70], zoom = 4)\n",
    "Map1 = geemap.Map(center = [-45, -70], zoom = 4)\n",
    "Map2 = geemap.Map(center = [-45, -70], zoom = 4)\n",
    "Map3 = geemap.Map(center = [-45, -70], zoom = 4)\n",
    "Map4 = geemap.Map(center = [-45, -70], zoom = 4)\n",
    "Map5 = geemap.Map(center = [-45, -70], zoom = 4)\n",
    "Map6 = geemap.Map(center = [-45, -70], zoom = 4)\n",
    "Map7 = geemap.Map(center = [-45, -70], zoom = 4)\n",
    "Map8 = geemap.Map(center = [-45, -70], zoom = 4)\n",
    "Map9 = geemap.Map(center = [-45, -70], zoom = 4)\n",
    "Map10 = geemap.Map(center = [-45, -70], zoom = 4)\n",
    "Map11 = geemap.Map(center = [-45, -70], zoom = 4)\n",
    "Map12 = geemap.Map(center = [-45, -70], zoom = 4)\n",
    "Map13 = geemap.Map(center = [-45, -70], zoom = 4)\n",
    "Map14 = geemap.Map(center = [-45, -70], zoom = 4)\n",
    "Map15 = geemap.Map(center = [-45, -70], zoom = 4)\n",
    "Map16 = geemap.Map(center = [-45, -70], zoom = 4)"
   ]
  },
  {
   "cell_type": "markdown",
   "id": "f26fe1a2",
   "metadata": {},
   "source": [
    "## Área de Estudio"
   ]
  },
  {
   "cell_type": "code",
   "execution_count": null,
   "id": "2aae613d",
   "metadata": {
    "ExecuteTime": {
     "end_time": "2022-02-03T12:48:02.038307Z",
     "start_time": "2022-02-03T12:47:59.521095Z"
    }
   },
   "outputs": [],
   "source": [
    "work_dir = os.path.expanduser('../Data/')\n",
    "patagonia = os.path.join(work_dir, 'patagonia_geo.shp')\n",
    "patagonia_grande = geemap.shp_to_ee(patagonia)\n",
    "tierra_fuego =os.path.join(work_dir, 'tierra_fuego.shp')\n",
    "tierra_fuego = geemap.shp_to_ee(tierra_fuego)"
   ]
  },
  {
   "cell_type": "code",
   "execution_count": null,
   "id": "4dbbceda",
   "metadata": {
    "ExecuteTime": {
     "end_time": "2022-02-03T12:48:02.048255Z",
     "start_time": "2022-02-03T12:48:02.039986Z"
    }
   },
   "outputs": [],
   "source": [
    "geometry_exp = ee.Geometry.Polygon(\n",
    "        [[[-72.56281773604495, -33.81999514196144],\n",
    "          [-72.96381871260745, -35.294382843203024],\n",
    "          [-73.27692906416995, -35.25850698608905],\n",
    "          [-74.15583531416995, -38.13757615203617],\n",
    "          [-73.96357457198245, -38.16349478321529],\n",
    "          [-74.41603250978783, -39.59214901926122],\n",
    "          [-73.71840067385033, -39.70212049569608],\n",
    "          [-74.48057965994737, -41.961233926702086],\n",
    "          [-76.23199334221133, -46.599308425949715],\n",
    "          [-75.71838250236758, -46.6705186900265],\n",
    "          [-76.31583416780423, -48.08335993023956],\n",
    "          [-75.6739504332226, -48.17601084778724],\n",
    "          [-76.1812028986966, -49.3089458997328],\n",
    "          [-75.8516130549466, -49.35190435466257],\n",
    "          [-75.88182545729035, -49.42252520588146],\n",
    "          [-75.62776661939972, -49.4593908439046],\n",
    "          [-75.87838309772656, -50.0286830263256],\n",
    "          [-75.4746355391328, -50.08951678614621],\n",
    "          [-75.54325576346766, -50.23909657453096],\n",
    "          [-75.77780697097086, -50.76007049594944],\n",
    "          [-75.16119930495523, -50.84458853545005],\n",
    "          [-75.38504574050211, -51.344039508567974],\n",
    "          [-75.5541538866841, -51.71140521484993],\n",
    "          [-75.18336531246536, -51.75648162278235],\n",
    "          [-75.47788882049618, -52.3659753295982],\n",
    "          [-74.75894718310815, -52.46884703800526],\n",
    "          [-75.08565455837835, -53.06208069103826],\n",
    "          [-74.55801479059262, -53.126414996444055],\n",
    "          [-74.81690883977036, -53.6371915734125],\n",
    "          [-73.44408000172288, -53.83741753537409],\n",
    "          [-73.50862467945726, -53.95798563315933],\n",
    "          [-73.45231974781663, -53.967680681913386],\n",
    "          [-73.53197062672288, -54.11766576333605],\n",
    "          [-73.77219189508037, -54.57485104154676],\n",
    "          [-72.34049166499341, -54.77775087176573],\n",
    "          [-72.47759402717024, -55.03231503944354],\n",
    "          [-71.05285526571967, -55.24340674895388],\n",
    "          [-71.08306766806342, -55.29113504937561],\n",
    "          [-69.81960741798575, -55.47109132991434],\n",
    "          [-69.85119311134513, -55.51932330880519],\n",
    "          [-69.68227831642325, -55.544194128455445],\n",
    "          [-69.79214159767325, -55.75341614311607],\n",
    "          [-66.85410518726452, -56.21137383375629],\n",
    "          [-66.30968752348785, -55.25322454720416],\n",
    "          [-65.44176760161285, -55.378260612328376],\n",
    "          [-65.29222191220039, -55.084940556988364],\n",
    "          [-63.8145607793879, -55.29503930747886],\n",
    "          [-63.4410256231379, -54.559610949790994],\n",
    "          [-66.01731956845039, -54.18844646199444],\n",
    "          [-65.92942894345039, -53.97576673331468],\n",
    "          [-67.35765159970039, -53.77173637481835],\n",
    "          [-66.83490788218774, -52.56216102836118],\n",
    "          [-68.29059635875024, -52.351280557744616],\n",
    "          [-67.13664467133525, -49.5665018755825],\n",
    "          [-65.6891959408665, -49.77447361491692],\n",
    "          [-64.6040407061826, -46.886773053508534],\n",
    "          [-66.07346209290135, -46.670468623465915],\n",
    "          [-65.60651222417681, -45.29237148760689],\n",
    "          [-64.13159767339556, -45.51413819831776],\n",
    "          [-63.11762183127383, -42.44210625114028],\n",
    "          [-61.64820044455508, -42.65254570178212],\n",
    "          [-60.691700635610566, -39.58656313087865],\n",
    "          [-60.612049756704316, -39.597145764356114],\n",
    "          [-60.214053037778356, -38.26345264755797],\n",
    "          [-62.338430585556544, -37.86345563921212],\n",
    "          [-62.431814374619044, -38.13616213643378],\n",
    "          [-63.880475463562526, -37.8656239671591],\n",
    "          [-63.965619506531276, -38.12752037872568],\n",
    "          [-65.43863114657343, -37.86678770192114],\n",
    "          [-65.52652177157343, -38.12867996539086],\n",
    "          [-66.31753739657343, -37.98811028708228],\n",
    "          [-65.98609312949165, -36.82548737245019],\n",
    "          [-68.06866521074468, -36.43149799324939],\n",
    "          [-68.16204899980718, -36.70723234878123],\n",
    "          [-69.00250310136968, -36.55294237984414],\n",
    "          [-68.66838285254276, -35.38834808765389],\n",
    "          [-70.73190167990279, -35.008946233837705],\n",
    "          [-70.82528546896529, -35.29190694633577],\n",
    "          [-71.68771222677779, -35.11685679848462],\n",
    "          [-71.37460187521529, -33.95679291780399],\n",
    "          [-72.53365949240279, -33.733238932504804]]])"
   ]
  },
  {
   "cell_type": "markdown",
   "id": "fa8e2fea",
   "metadata": {},
   "source": [
    "## Colors Bars"
   ]
  },
  {
   "cell_type": "code",
   "execution_count": null,
   "id": "1efebd11",
   "metadata": {
    "ExecuteTime": {
     "end_time": "2022-02-03T12:48:02.945958Z",
     "start_time": "2022-02-03T12:48:02.049147Z"
    }
   },
   "outputs": [],
   "source": [
    "import geemap.colormaps as cm"
   ]
  },
  {
   "cell_type": "code",
   "execution_count": null,
   "id": "d159d70f",
   "metadata": {
    "ExecuteTime": {
     "end_time": "2022-02-03T12:48:02.948993Z",
     "start_time": "2022-02-03T12:48:02.946821Z"
    }
   },
   "outputs": [],
   "source": [
    "# cm.palettes.terrain"
   ]
  },
  {
   "cell_type": "code",
   "execution_count": null,
   "id": "fe999a91",
   "metadata": {
    "ExecuteTime": {
     "end_time": "2022-02-03T12:48:02.953522Z",
     "start_time": "2022-02-03T12:48:02.949896Z"
    }
   },
   "outputs": [],
   "source": [
    "color_ndvi = cm.palettes.ndvi"
   ]
  },
  {
   "cell_type": "code",
   "execution_count": null,
   "id": "05fb282a",
   "metadata": {
    "ExecuteTime": {
     "end_time": "2022-02-03T12:48:02.958603Z",
     "start_time": "2022-02-03T12:48:02.954259Z"
    }
   },
   "outputs": [],
   "source": [
    "color_ndwi = cm.palettes.ndwi"
   ]
  },
  {
   "cell_type": "code",
   "execution_count": null,
   "id": "68161910",
   "metadata": {
    "ExecuteTime": {
     "end_time": "2022-02-03T12:48:02.964609Z",
     "start_time": "2022-02-03T12:48:02.959366Z"
    }
   },
   "outputs": [],
   "source": [
    "color_terrain = cm.palettes.terrain"
   ]
  },
  {
   "cell_type": "code",
   "execution_count": null,
   "id": "8e99245f",
   "metadata": {
    "ExecuteTime": {
     "end_time": "2022-02-03T12:48:02.968457Z",
     "start_time": "2022-02-03T12:48:02.965903Z"
    }
   },
   "outputs": [],
   "source": [
    "color_glaciar = cm.palettes.PuBuGn_r"
   ]
  },
  {
   "cell_type": "code",
   "execution_count": null,
   "id": "92b8cf41",
   "metadata": {
    "ExecuteTime": {
     "end_time": "2022-02-03T12:48:02.973662Z",
     "start_time": "2022-02-03T12:48:02.969178Z"
    }
   },
   "outputs": [],
   "source": [
    "color_nubes = cm.palettes.inferno"
   ]
  },
  {
   "cell_type": "code",
   "execution_count": null,
   "id": "39930741",
   "metadata": {
    "ExecuteTime": {
     "end_time": "2022-02-03T12:48:02.978534Z",
     "start_time": "2022-02-03T12:48:02.974465Z"
    }
   },
   "outputs": [],
   "source": [
    "# cm.list_colormaps()"
   ]
  },
  {
   "cell_type": "code",
   "execution_count": null,
   "id": "d6233e9b",
   "metadata": {
    "ExecuteTime": {
     "end_time": "2022-02-03T12:48:02.983547Z",
     "start_time": "2022-02-03T12:48:02.979357Z"
    }
   },
   "outputs": [],
   "source": [
    "color_rainbow = cm.palettes.summer_r"
   ]
  },
  {
   "cell_type": "markdown",
   "id": "11666045",
   "metadata": {},
   "source": [
    "## Funciones"
   ]
  },
  {
   "cell_type": "code",
   "execution_count": null,
   "id": "166db170",
   "metadata": {
    "ExecuteTime": {
     "end_time": "2022-02-03T12:48:02.988764Z",
     "start_time": "2022-02-03T12:48:02.984232Z"
    }
   },
   "outputs": [],
   "source": [
    "def add_ee_layer(self, ee_image_object, vis_params, name):\n",
    "  map_id_dict = ee.Image(ee_image_object).getMapId(vis_params)\n",
    "  folium.raster_layers.TileLayer(\n",
    "      tiles=map_id_dict['tile_fetcher'].url_format,\n",
    "      attr='Map Data &copy; <a href=\"https://earthengine.google.com/\">Google Earth Engine</a>',\n",
    "      name=name,\n",
    "      overlay=True,\n",
    "      control=True\n",
    "  ).add_to(self)\n",
    "\n",
    "folium.Map.add_ee_layer = add_ee_layer"
   ]
  },
  {
   "cell_type": "code",
   "execution_count": null,
   "id": "b9e1cdaf",
   "metadata": {
    "ExecuteTime": {
     "end_time": "2022-02-03T12:48:02.993754Z",
     "start_time": "2022-02-03T12:48:02.989513Z"
    }
   },
   "outputs": [],
   "source": [
    "def addNDVI(image): \n",
    "    ndvi = image.normalizedDifference(['B5', 'B4']).rename('NDVI')\n",
    "    return image.addBands(ndvi)"
   ]
  },
  {
   "cell_type": "code",
   "execution_count": null,
   "id": "4c83d08e",
   "metadata": {
    "ExecuteTime": {
     "end_time": "2022-02-03T12:48:02.998669Z",
     "start_time": "2022-02-03T12:48:02.994565Z"
    }
   },
   "outputs": [],
   "source": [
    "def addNDVI2(image): \n",
    "    ndvi = image.normalizedDifference(['B5', 'B4']).rename('NDVI2')\n",
    "    return image.addBands(ndvi)"
   ]
  },
  {
   "cell_type": "code",
   "execution_count": null,
   "id": "ad105a37",
   "metadata": {
    "ExecuteTime": {
     "end_time": "2022-02-03T12:48:03.003844Z",
     "start_time": "2022-02-03T12:48:02.999592Z"
    }
   },
   "outputs": [],
   "source": [
    "def addNDWI(image):\n",
    "    ndwi = image.normalizedDifference(['B3','B5']).rename('NDWI')\n",
    "    return image.addBands(ndwi)"
   ]
  },
  {
   "cell_type": "code",
   "execution_count": null,
   "id": "afd5a921",
   "metadata": {
    "ExecuteTime": {
     "end_time": "2022-02-03T12:48:03.008777Z",
     "start_time": "2022-02-03T12:48:03.004786Z"
    }
   },
   "outputs": [],
   "source": [
    "def addNDGI(image):\n",
    "    ndgi = image.normalizedDifference(['B3','B4']).rename('NDGI')\n",
    "    return image.addBands(ndgi)"
   ]
  },
  {
   "cell_type": "code",
   "execution_count": null,
   "id": "786770f8",
   "metadata": {
    "ExecuteTime": {
     "end_time": "2022-02-03T12:48:03.011366Z",
     "start_time": "2022-02-03T12:48:03.009655Z"
    }
   },
   "outputs": [],
   "source": [
    "def addSAVI(image):\n",
    "    savi = image.expression(\n",
    "        '((b5 - b4)/(b5 + b4 + 0.5))*1.5', {\n",
    "            'b4':image.select('B4'),\n",
    "            'b5':image.select('B5')\n",
    "        }) \n",
    "    savi= savi.rename('SAVI')\n",
    "    return image.addBands(savi)"
   ]
  },
  {
   "cell_type": "code",
   "execution_count": null,
   "id": "410de657",
   "metadata": {
    "ExecuteTime": {
     "end_time": "2022-02-03T12:48:03.013662Z",
     "start_time": "2022-02-03T12:48:03.012129Z"
    }
   },
   "outputs": [],
   "source": [
    "def addNDBI(image):\n",
    "    ndbi = image.normalizedDifference(['B6','B5']).rename('NDBI')\n",
    "    return image.addBands(ndbi)"
   ]
  },
  {
   "cell_type": "code",
   "execution_count": null,
   "id": "cffb72aa",
   "metadata": {
    "ExecuteTime": {
     "end_time": "2022-02-03T12:48:03.015943Z",
     "start_time": "2022-02-03T12:48:03.014409Z"
    }
   },
   "outputs": [],
   "source": [
    "def addNDSI(image):\n",
    "    ndsi = image.normalizedDifference(['B3','B6']).rename('NDSI')\n",
    "    return image.addBands(ndsi)"
   ]
  },
  {
   "cell_type": "code",
   "execution_count": null,
   "id": "5c8b8b2f",
   "metadata": {
    "ExecuteTime": {
     "end_time": "2022-02-03T12:48:03.018951Z",
     "start_time": "2022-02-03T12:48:03.016611Z"
    }
   },
   "outputs": [],
   "source": [
    "def addDate(image):\n",
    "    img_date = ee.Date(image.date())\n",
    "    img_date = ee.Number.parse(img_date.format('YYYYMM'))\n",
    "    return image.addBands(ee.Image(img_date).rename('date').toInt())"
   ]
  },
  {
   "cell_type": "code",
   "execution_count": null,
   "id": "04720d6b",
   "metadata": {
    "ExecuteTime": {
     "end_time": "2022-02-03T12:48:03.021572Z",
     "start_time": "2022-02-03T12:48:03.019661Z"
    }
   },
   "outputs": [],
   "source": [
    "def Cloud40(image):\n",
    "    scored = ee.Algorithms.Landsat.simpleCloudScore(image)\n",
    "    return image.updateMask(scored.select(['cloud']).lt(40)) "
   ]
  },
  {
   "cell_type": "code",
   "execution_count": null,
   "id": "3115c210",
   "metadata": {
    "ExecuteTime": {
     "end_time": "2022-02-03T12:48:03.023853Z",
     "start_time": "2022-02-03T12:48:03.022269Z"
    }
   },
   "outputs": [],
   "source": [
    "def Cloud30(image):\n",
    "    scored = ee.Algorithms.Landsat.simpleCloudScore(image)\n",
    "    return image.updateMask(scored.select(['cloud']).lt(30)) "
   ]
  },
  {
   "cell_type": "code",
   "execution_count": null,
   "id": "f86cf507",
   "metadata": {
    "ExecuteTime": {
     "end_time": "2022-02-03T12:48:03.026142Z",
     "start_time": "2022-02-03T12:48:03.024572Z"
    }
   },
   "outputs": [],
   "source": [
    "def Cloud20(image):\n",
    "    scored = ee.Algorithms.Landsat.simpleCloudScore(image)\n",
    "    return image.updateMask(scored.select(['cloud']).lt(20)) "
   ]
  },
  {
   "cell_type": "code",
   "execution_count": null,
   "id": "9d288b40",
   "metadata": {
    "ExecuteTime": {
     "end_time": "2022-02-03T12:48:03.028653Z",
     "start_time": "2022-02-03T12:48:03.026907Z"
    }
   },
   "outputs": [],
   "source": [
    "def Cloud10(image):\n",
    "    scored = ee.Algorithms.Landsat.simpleCloudScore(image)\n",
    "    return image.updateMask(scored.select(['cloud']).lt(10))"
   ]
  },
  {
   "cell_type": "code",
   "execution_count": null,
   "id": "92d6ba1b",
   "metadata": {
    "ExecuteTime": {
     "end_time": "2022-02-03T12:48:03.030924Z",
     "start_time": "2022-02-03T12:48:03.029344Z"
    }
   },
   "outputs": [],
   "source": [
    "def addCloud(image):\n",
    "    nube = ee.Algorithms.Landsat.simpleCloudScore(image)\n",
    "    return image.addBands(ee.Image(nube.select(['cloud'])).rename('nube'))"
   ]
  },
  {
   "cell_type": "code",
   "execution_count": null,
   "id": "4eb69ead",
   "metadata": {
    "ExecuteTime": {
     "end_time": "2022-02-03T12:48:03.036189Z",
     "start_time": "2022-02-03T12:48:03.033427Z"
    }
   },
   "outputs": [],
   "source": [
    "def find_closest(target_image, image_col, days):\n",
    "    \"\"\"Filter images in a collection by date proximity and spatial intersection to a target image.\n",
    "\n",
    "    Args:\n",
    "        target_image: An ee.Image whose observation date is used to find near-date images in\n",
    "          the provided image_col image collection. It must have a 'system:time_start' property.\n",
    "        image_col: An ee.ImageCollection to filter by date proximity and spatial intersection\n",
    "          to the target_image. Each image in the collection must have a 'system:time_start'\n",
    "          property.\n",
    "        days: A number that defines the maximum number of days difference allowed between\n",
    "          the target_image and images in the image_col.\n",
    "\n",
    "    Returns:\n",
    "        An ee.ImageCollection that has been filtered to include those images that are within the\n",
    "          given date proximity to target_image and intersect it spatially.\n",
    "    \"\"\"\n",
    "\n",
    "    # Compute the timespan for N days (in milliseconds).\n",
    "    range = ee.Number(days).multiply(1000 * 60 * 60 * 24)\n",
    "\n",
    "    filter = ee.Filter.And(\n",
    "        ee.Filter.maxDifference(range, 'system:time_start', None, 'system:time_start'),\n",
    "        ee.Filter.intersects('.geo', None, '.geo'))\n",
    "\n",
    "    closest = (ee.Join.saveAll('matches', 'measure')\n",
    "        .apply(ee.ImageCollection([target_image]), image_col, filter))\n",
    "\n",
    "    return ee.ImageCollection(ee.List(closest.first().get('matches')))"
   ]
  },
  {
   "cell_type": "code",
   "execution_count": null,
   "id": "b54bde64",
   "metadata": {
    "ExecuteTime": {
     "end_time": "2022-02-03T12:48:03.038717Z",
     "start_time": "2022-02-03T12:48:03.036795Z"
    }
   },
   "outputs": [],
   "source": [
    "vizParams = {\n",
    "  'bands': ['B5', 'B4', 'B3'],\n",
    "  'min': 0,\n",
    "  'max': 0.5,\n",
    "  'gamma': [0.95, 1.1, 1]\n",
    "}"
   ]
  },
  {
   "cell_type": "code",
   "execution_count": null,
   "id": "71bcb153",
   "metadata": {
    "ExecuteTime": {
     "end_time": "2022-02-03T12:48:03.040830Z",
     "start_time": "2022-02-03T12:48:03.039387Z"
    }
   },
   "outputs": [],
   "source": [
    "vizParams_m = {\n",
    "  'bands': ['B5', 'B4', 'B3'],\n",
    "  'min': 0,\n",
    "  'max': 0.6,\n",
    "  'gamma': [1, 1, 1]\n",
    "}"
   ]
  },
  {
   "cell_type": "code",
   "execution_count": null,
   "id": "aa02e8e2",
   "metadata": {
    "ExecuteTime": {
     "end_time": "2022-02-03T12:48:03.042930Z",
     "start_time": "2022-02-03T12:48:03.041512Z"
    }
   },
   "outputs": [],
   "source": [
    "vis_nieve = {\n",
    "  'bands': ['B6', 'B4', 'B3'],\n",
    "  'min': 0,\n",
    "  'max': 0.5,\n",
    "  'gamma': [0.95, 1.1, 1]\n",
    "}"
   ]
  },
  {
   "cell_type": "markdown",
   "id": "d9a442fb",
   "metadata": {},
   "source": [
    "## Colecciones"
   ]
  },
  {
   "cell_type": "markdown",
   "id": "f8131eb7",
   "metadata": {},
   "source": [
    "### 2022 Verano"
   ]
  },
  {
   "cell_type": "code",
   "execution_count": null,
   "id": "3a413b3f",
   "metadata": {
    "ExecuteTime": {
     "end_time": "2022-02-03T12:48:03.045215Z",
     "start_time": "2022-02-03T12:48:03.043626Z"
    }
   },
   "outputs": [],
   "source": [
    "start_date = '2021-11-01'\n",
    "end_date = '2022-03-31'\n",
    "\n",
    "l8_2022 = ee.ImageCollection('LANDSAT/LC08/C01/T1_TOA') \\\n",
    "    .filterBounds(patagonia_grande) \\\n",
    "    .filterDate(start_date, end_date)  "
   ]
  },
  {
   "cell_type": "code",
   "execution_count": null,
   "id": "e95247d7",
   "metadata": {
    "ExecuteTime": {
     "end_time": "2022-02-03T12:48:03.050547Z",
     "start_time": "2022-02-03T12:48:03.045918Z"
    }
   },
   "outputs": [],
   "source": [
    "coleccion2022 = l8_2022.map(addNDVI).map(addNDWI).map(addNDGI).map(addSAVI).map(addNDSI).map(addNDBI).map(addDate).map(addCloud)"
   ]
  },
  {
   "cell_type": "markdown",
   "id": "5d07b81d",
   "metadata": {},
   "source": [
    "### 2021 Verano"
   ]
  },
  {
   "cell_type": "code",
   "execution_count": null,
   "id": "0e0c1dfc",
   "metadata": {
    "ExecuteTime": {
     "end_time": "2022-02-03T12:48:03.053394Z",
     "start_time": "2022-02-03T12:48:03.051388Z"
    }
   },
   "outputs": [],
   "source": [
    "start_date = '2020-11-01'\n",
    "end_date = '2021-03-31'\n",
    "\n",
    "l8_2021 = ee.ImageCollection('LANDSAT/LC08/C01/T1_TOA') \\\n",
    "    .filterBounds(patagonia_grande) \\\n",
    "    .filterDate(start_date, end_date)  "
   ]
  },
  {
   "cell_type": "code",
   "execution_count": null,
   "id": "74d427f9",
   "metadata": {
    "ExecuteTime": {
     "end_time": "2022-02-03T12:48:03.058339Z",
     "start_time": "2022-02-03T12:48:03.054114Z"
    }
   },
   "outputs": [],
   "source": [
    "coleccion2021 = l8_2021.map(addNDVI).map(addNDWI).map(addNDGI).map(addSAVI).map(addNDSI).map(addNDBI).map(addDate).map(addCloud)"
   ]
  },
  {
   "cell_type": "code",
   "execution_count": null,
   "id": "e660d316",
   "metadata": {
    "ExecuteTime": {
     "end_time": "2022-02-03T12:48:03.060744Z",
     "start_time": "2022-02-03T12:48:03.059085Z"
    }
   },
   "outputs": [],
   "source": [
    "NDVI_2021 = coleccion2021.qualityMosaic('NDVI')\n",
    "NDWI_2021 = coleccion2021.qualityMosaic('NDWI')\n",
    "SAVI_2021 = coleccion2021.qualityMosaic('SAVI')\n",
    "NDGI_2021 = coleccion2021.qualityMosaic('NDGI')\n",
    "NDSI_2021 = coleccion2021.qualityMosaic('NDSI')"
   ]
  },
  {
   "cell_type": "code",
   "execution_count": null,
   "id": "2b71385b",
   "metadata": {
    "ExecuteTime": {
     "end_time": "2022-02-03T12:48:03.063563Z",
     "start_time": "2022-02-03T12:48:03.061490Z"
    }
   },
   "outputs": [],
   "source": [
    "c2021_sn = coleccion2021.map(Cloud10)\n",
    "NDVI_2021_sn = c2021_sn.qualityMosaic('NDVI')\n",
    "NDWI_2021_sn = c2021_sn.qualityMosaic('NDWI')\n",
    "SAVI_2021_sn = c2021_sn.qualityMosaic('SAVI')\n",
    "NDGI_2021_sn = c2021_sn.qualityMosaic('NDGI')\n",
    "NDSI_2021_sn = c2021_sn.qualityMosaic('NDSI')"
   ]
  },
  {
   "cell_type": "code",
   "execution_count": null,
   "id": "e2ee17c2",
   "metadata": {
    "ExecuteTime": {
     "end_time": "2022-02-03T12:48:12.333312Z",
     "start_time": "2022-02-03T12:48:03.064320Z"
    }
   },
   "outputs": [],
   "source": [
    "Map.addLayer(NDVI_2021_sn, vizParams, 'QMsn de NDVI 2021')\n",
    "Map.addLayer(NDVI_2021, vizParams, 'QM de NDVI 2021')\n",
    "Map.addLayer(NDWI_2021_sn, vizParams, 'QMsn de NDWI 2021')\n",
    "Map.addLayer(SAVI_2021_sn, vizParams, 'QMsn de SAVI 2021')\n",
    "Map.addLayer(NDGI_2021_sn, vis_nieve, 'QMsn de NDGI 2021')\n",
    "Map.addLayer(NDSI_2021_sn, vis_nieve, 'QMsn de NDSI 2021')\n",
    "Map"
   ]
  },
  {
   "cell_type": "code",
   "execution_count": null,
   "id": "1994dbdf",
   "metadata": {
    "ExecuteTime": {
     "end_time": "2022-02-03T12:48:12.335975Z",
     "start_time": "2022-02-03T12:48:12.334088Z"
    }
   },
   "outputs": [],
   "source": [
    "NDVI_2021_l8 = NDVI_2021.set('SENSOR_ID', 'OLI_TIRS')"
   ]
  },
  {
   "cell_type": "code",
   "execution_count": null,
   "id": "60a91aeb",
   "metadata": {
    "ExecuteTime": {
     "end_time": "2022-02-03T12:48:12.338634Z",
     "start_time": "2022-02-03T12:48:12.336624Z"
    }
   },
   "outputs": [],
   "source": [
    "cloud_2021_l8 = ee.Algorithms.Landsat.simpleCloudScore(NDVI_2021_l8)\n",
    "cloud_2021_l8 = cloud_2021_l8.select('cloud')"
   ]
  },
  {
   "cell_type": "code",
   "execution_count": null,
   "id": "27740f8b",
   "metadata": {
    "ExecuteTime": {
     "end_time": "2022-02-03T12:48:12.340656Z",
     "start_time": "2022-02-03T12:48:12.339294Z"
    }
   },
   "outputs": [],
   "source": [
    "palette_nubes = ['#1a9850', '#66bd63', '#a6d96a', '#d9ef8b', '#fee08b', '#fdae61', '#f46d43', '#d73027']"
   ]
  },
  {
   "cell_type": "code",
   "execution_count": null,
   "id": "613ea840",
   "metadata": {
    "ExecuteTime": {
     "end_time": "2022-02-03T12:48:12.342865Z",
     "start_time": "2022-02-03T12:48:12.341352Z"
    }
   },
   "outputs": [],
   "source": [
    "resultados= [cloud_2021_l8, NDVI_2021]\n",
    "vis_params2=  [\n",
    "    {'palette':palette_nubes}, \n",
    "    vizParams]\n",
    "labels = [\n",
    "    'Nubes 2021',\n",
    "    'QM NDVI 2021']"
   ]
  },
  {
   "cell_type": "code",
   "execution_count": null,
   "id": "cb0d5f26",
   "metadata": {
    "ExecuteTime": {
     "end_time": "2022-02-03T12:48:12.344687Z",
     "start_time": "2022-02-03T12:48:12.343501Z"
    }
   },
   "outputs": [],
   "source": [
    "# geemap.linked_maps(rows=1, cols=2, height=\"400px\", center=[-45, -75], zoom=4, \n",
    "#                    ee_objects=resultados, vis_params=vis_params2, labels=labels, label_position=\"topright\")"
   ]
  },
  {
   "cell_type": "markdown",
   "id": "b8617200",
   "metadata": {},
   "source": [
    "### 2020 Verano"
   ]
  },
  {
   "cell_type": "code",
   "execution_count": null,
   "id": "0401d370",
   "metadata": {
    "ExecuteTime": {
     "end_time": "2022-02-03T12:48:12.347143Z",
     "start_time": "2022-02-03T12:48:12.345335Z"
    }
   },
   "outputs": [],
   "source": [
    "start_date = '2019-11-01'\n",
    "end_date = '2020-03-31'\n",
    "\n",
    "l8_2020 = ee.ImageCollection('LANDSAT/LC08/C01/T1_TOA') \\\n",
    "    .filterBounds(patagonia_grande) \\\n",
    "    .filterDate(start_date, end_date)"
   ]
  },
  {
   "cell_type": "markdown",
   "id": "811a0128",
   "metadata": {},
   "source": [
    "### 2019 Verano"
   ]
  },
  {
   "cell_type": "code",
   "execution_count": null,
   "id": "d756b623",
   "metadata": {
    "ExecuteTime": {
     "end_time": "2022-02-03T12:48:12.349412Z",
     "start_time": "2022-02-03T12:48:12.347815Z"
    }
   },
   "outputs": [],
   "source": [
    "start_date = '2018-11-01'\n",
    "end_date = '2019-03-31'\n",
    "\n",
    "l8_2019 = ee.ImageCollection('LANDSAT/LC08/C01/T1_TOA') \\\n",
    "    .filterBounds(patagonia_grande) \\\n",
    "    .filterDate(start_date, end_date)"
   ]
  },
  {
   "cell_type": "markdown",
   "id": "158f0bb1",
   "metadata": {},
   "source": [
    "### 2018 Verano"
   ]
  },
  {
   "cell_type": "code",
   "execution_count": null,
   "id": "2c2ce2a2",
   "metadata": {
    "ExecuteTime": {
     "end_time": "2022-02-03T12:48:12.352417Z",
     "start_time": "2022-02-03T12:48:12.350124Z"
    }
   },
   "outputs": [],
   "source": [
    "start_date = '2017-11-01'\n",
    "end_date = '2018-03-31'\n",
    "\n",
    "l8_2018 = ee.ImageCollection('LANDSAT/LC08/C01/T1_TOA') \\\n",
    "    .filterBounds(patagonia_grande) \\\n",
    "    .filterDate(start_date, end_date)"
   ]
  },
  {
   "cell_type": "markdown",
   "id": "ad28b803",
   "metadata": {},
   "source": [
    "### 2017 Verano"
   ]
  },
  {
   "cell_type": "code",
   "execution_count": null,
   "id": "1917c893",
   "metadata": {
    "ExecuteTime": {
     "end_time": "2022-02-03T12:48:12.354659Z",
     "start_time": "2022-02-03T12:48:12.353050Z"
    }
   },
   "outputs": [],
   "source": [
    "start_date = '2016-11-01'\n",
    "end_date = '2017-03-31'\n",
    "\n",
    "l8_2017 = ee.ImageCollection('LANDSAT/LC08/C01/T1_TOA') \\\n",
    "    .filterBounds(patagonia_grande) \\\n",
    "    .filterDate(start_date, end_date)"
   ]
  },
  {
   "cell_type": "markdown",
   "id": "d0a1318e",
   "metadata": {},
   "source": [
    "### 2022-2017 Colección "
   ]
  },
  {
   "cell_type": "code",
   "execution_count": null,
   "id": "73e05438",
   "metadata": {
    "ExecuteTime": {
     "end_time": "2022-02-03T12:48:12.357654Z",
     "start_time": "2022-02-03T12:48:12.355547Z"
    }
   },
   "outputs": [],
   "source": [
    "filtersummer = ee.Filter.Or(\n",
    "    ee.Filter.date('2021-11-01','2022-02-01'),\n",
    "    ee.Filter.date('2020-11-01','2021-03-31'),\n",
    "    ee.Filter.date('2019-11-01','2020-03-31'),\n",
    "    ee.Filter.date('2018-11-01','2019-03-31'),\n",
    "    ee.Filter.date('2017-11-01','2018-03-31')\n",
    ")"
   ]
  },
  {
   "cell_type": "code",
   "execution_count": null,
   "id": "e3459c31",
   "metadata": {
    "ExecuteTime": {
     "end_time": "2022-02-03T12:48:12.359910Z",
     "start_time": "2022-02-03T12:48:12.358272Z"
    }
   },
   "outputs": [],
   "source": [
    "coleccion2022_2017 = ee.ImageCollection('LANDSAT/LC08/C01/T1_TOA') \\\n",
    "    .filterDate('2017-11-01', '2021-03-31') \\\n",
    "    .filter(filtersummer) \\\n",
    "    .filterBounds(patagonia_grande)"
   ]
  },
  {
   "cell_type": "code",
   "execution_count": null,
   "id": "b84c22d9",
   "metadata": {
    "ExecuteTime": {
     "end_time": "2022-02-03T12:48:12.364581Z",
     "start_time": "2022-02-03T12:48:12.360674Z"
    }
   },
   "outputs": [],
   "source": [
    "l8_summer= coleccion2022_2017.map(addNDVI).map(addNDWI).map(addNDGI).map(addSAVI).map(addNDSI).map(addNDBI).map(addDate).map(addCloud)"
   ]
  },
  {
   "cell_type": "code",
   "execution_count": null,
   "id": "63f1960c",
   "metadata": {
    "ExecuteTime": {
     "end_time": "2022-02-03T12:48:12.366680Z",
     "start_time": "2022-02-03T12:48:12.365300Z"
    }
   },
   "outputs": [],
   "source": [
    "cloudest = l8_summer.qualityMosaic('nube')"
   ]
  },
  {
   "cell_type": "code",
   "execution_count": null,
   "id": "cbb613f8",
   "metadata": {
    "ExecuteTime": {
     "end_time": "2022-02-03T12:48:15.021454Z",
     "start_time": "2022-02-03T12:48:12.367492Z"
    },
    "scrolled": false
   },
   "outputs": [],
   "source": [
    "Map2.addLayer(cloudest, vizParams, 'máximo de nubes')\n",
    "Map2.addLayer(l8_summer.median(), vizParams, 'median')\n",
    "Map2 "
   ]
  },
  {
   "cell_type": "markdown",
   "id": "12cf11b9",
   "metadata": {},
   "source": [
    "### Tier 1\n"
   ]
  },
  {
   "cell_type": "code",
   "execution_count": null,
   "id": "65f6e56e",
   "metadata": {
    "ExecuteTime": {
     "end_time": "2022-02-03T12:48:15.023931Z",
     "start_time": "2022-02-03T12:48:15.022154Z"
    }
   },
   "outputs": [],
   "source": [
    "Tier1_sn = l8_summer.map(Cloud10)"
   ]
  },
  {
   "cell_type": "code",
   "execution_count": null,
   "id": "61a35ad7",
   "metadata": {
    "ExecuteTime": {
     "end_time": "2022-02-03T12:48:15.026602Z",
     "start_time": "2022-02-03T12:48:15.024653Z"
    }
   },
   "outputs": [],
   "source": [
    "QM_NDVI_T1 = Tier1_sn.qualityMosaic('NDVI')# Normalized difference vegetation Index\n",
    "QM_NDWI_T1 = Tier1_sn.qualityMosaic('NDWI') # Normalize difference water index\n",
    "QM_SAVI_T1 = Tier1_sn.qualityMosaic('SAVI') # Soil Adjusted Vegetation Index \n",
    "QM_NDGI_T1 = Tier1_sn.qualityMosaic('NDGI') # Normalized difference glacier index\n",
    "QM_NDSI_T1 = Tier1_sn.qualityMosaic('NDSI') # Normalized difference snow index"
   ]
  },
  {
   "cell_type": "code",
   "execution_count": null,
   "id": "416683d4",
   "metadata": {
    "ExecuteTime": {
     "end_time": "2022-02-03T12:48:23.371600Z",
     "start_time": "2022-02-03T12:48:15.027292Z"
    }
   },
   "outputs": [],
   "source": [
    "Map2.addLayer(QM_NDVI_T1, vizParams, 'QM de NDVI T1')\n",
    "Map2.addLayer(QM_NDWI_T1, vizParams, 'QM de NDWI T1')\n",
    "Map2.addLayer(QM_SAVI_T1, vizParams, 'QM de SAVI T1')\n",
    "Map2.addLayer(QM_NDGI_T1, vis_nieve, 'QM de NDGI T1')\n",
    "Map2.addLayer(QM_NDSI_T1, vizParams, 'QM de NDSI T1')\n",
    "\n",
    "Map2.addLayer(Tier1_sn.median(), vizParams, 'mediana de T1')\n",
    "Map2 "
   ]
  },
  {
   "cell_type": "markdown",
   "id": "5f58151c",
   "metadata": {},
   "source": [
    "### Tier 2"
   ]
  },
  {
   "cell_type": "code",
   "execution_count": null,
   "id": "3f1efa8c",
   "metadata": {
    "ExecuteTime": {
     "end_time": "2022-02-03T12:48:23.374159Z",
     "start_time": "2022-02-03T12:48:23.372308Z"
    }
   },
   "outputs": [],
   "source": [
    "Tier2_sn = l8_summer.map(Cloud20)"
   ]
  },
  {
   "cell_type": "code",
   "execution_count": null,
   "id": "888370aa",
   "metadata": {
    "ExecuteTime": {
     "end_time": "2022-02-03T12:48:23.377267Z",
     "start_time": "2022-02-03T12:48:23.374781Z"
    }
   },
   "outputs": [],
   "source": [
    "QM_NDVI_T2 = Tier2_sn.qualityMosaic('NDVI')# Normalized difference vegetation Index\n",
    "QM_NDWI_T2 = Tier2_sn.qualityMosaic('NDWI') # Normalize difference water index\n",
    "QM_SAVI_T2 = Tier2_sn.qualityMosaic('SAVI') # Soil Adjusted Vegetation Index \n",
    "QM_NDGI_T2 = Tier2_sn.qualityMosaic('NDGI') # Normalized difference glacier index\n",
    "QM_NDSI_T2 = Tier2_sn.qualityMosaic('NDSI') # Normalized difference snow index"
   ]
  },
  {
   "cell_type": "code",
   "execution_count": null,
   "id": "bfe0fd96",
   "metadata": {
    "ExecuteTime": {
     "end_time": "2022-02-03T12:48:23.379103Z",
     "start_time": "2022-02-03T12:48:23.377951Z"
    }
   },
   "outputs": [],
   "source": [
    "# Map2.addLayer(QM_NDVI_T2, vizParams, 'QM de NDVI T2')\n",
    "# Map2.addLayer(QM_NDWI_T2, vizParams, 'QM de NDWI T2')\n",
    "# Map2.addLayer(QM_SAVI_T2, vizParams, 'QM de SAVI T2')\n",
    "# Map2.addLayer(QM_NDGI_T2, vis_nieve, 'QM de NDGI T2')\n",
    "# Map2.addLayer(QM_NDSI_T2, vis_nieve, 'QM de NDSI T2')\n",
    "# Map2 "
   ]
  },
  {
   "cell_type": "markdown",
   "id": "783d2e36",
   "metadata": {},
   "source": [
    "### Tier 3"
   ]
  },
  {
   "cell_type": "code",
   "execution_count": null,
   "id": "cba970e0",
   "metadata": {
    "ExecuteTime": {
     "end_time": "2022-02-03T12:48:23.381370Z",
     "start_time": "2022-02-03T12:48:23.379706Z"
    }
   },
   "outputs": [],
   "source": [
    "Tier3_sn = l8_summer.map(Cloud30)"
   ]
  },
  {
   "cell_type": "code",
   "execution_count": null,
   "id": "8a844166",
   "metadata": {
    "ExecuteTime": {
     "end_time": "2022-02-03T12:48:23.383762Z",
     "start_time": "2022-02-03T12:48:23.382008Z"
    }
   },
   "outputs": [],
   "source": [
    "QM_NDVI_T3 = Tier3_sn.qualityMosaic('NDVI')# Normalized difference vegetation Index\n",
    "QM_NDWI_T3 = Tier3_sn.qualityMosaic('NDWI') # Normalize difference water index\n",
    "QM_SAVI_T3 = Tier3_sn.qualityMosaic('SAVI') # Soil Adjusted Vegetation Index \n",
    "QM_NDGI_T3 = Tier3_sn.qualityMosaic('NDGI') # Normalized difference glacier index\n",
    "QM_NDSI_T3 = Tier3_sn.qualityMosaic('NDSI') # Normalized difference snow index"
   ]
  },
  {
   "cell_type": "markdown",
   "id": "b2453291",
   "metadata": {},
   "source": [
    "### Tier 4"
   ]
  },
  {
   "cell_type": "code",
   "execution_count": null,
   "id": "7a204626",
   "metadata": {
    "ExecuteTime": {
     "end_time": "2022-02-03T12:48:23.386123Z",
     "start_time": "2022-02-03T12:48:23.384422Z"
    }
   },
   "outputs": [],
   "source": [
    "Tier4_sn = l8_summer.map(Cloud40)"
   ]
  },
  {
   "cell_type": "code",
   "execution_count": null,
   "id": "7339980d",
   "metadata": {
    "ExecuteTime": {
     "end_time": "2022-02-03T12:48:23.388723Z",
     "start_time": "2022-02-03T12:48:23.386800Z"
    }
   },
   "outputs": [],
   "source": [
    "QM_NDVI_T4 = Tier4_sn.qualityMosaic('NDVI')# Normalized difference vegetation Index\n",
    "QM_NDWI_T4 = Tier4_sn.qualityMosaic('NDWI') # Normalize difference water index\n",
    "QM_SAVI_T4 = Tier4_sn.qualityMosaic('SAVI') # Soil Adjusted Vegetation Index \n",
    "QM_NDGI_T4 = Tier4_sn.qualityMosaic('NDGI') # Normalized difference glacier index\n",
    "QM_NDSI_T4 = Tier4_sn.qualityMosaic('NDSI') # Normalized difference snow index"
   ]
  },
  {
   "cell_type": "markdown",
   "id": "2029216e",
   "metadata": {},
   "source": [
    "## Colección tierra del fuego"
   ]
  },
  {
   "cell_type": "code",
   "execution_count": null,
   "id": "69c552c6",
   "metadata": {
    "ExecuteTime": {
     "end_time": "2022-02-03T12:48:23.391230Z",
     "start_time": "2022-02-03T12:48:23.389385Z"
    }
   },
   "outputs": [],
   "source": [
    "filtersummerf = ee.Filter.Or(\n",
    "    ee.Filter.date('2021-11-01','2022-02-01'),\n",
    "    ee.Filter.date('2020-11-01','2021-03-31'),\n",
    "    ee.Filter.date('2019-11-01','2020-03-31'),\n",
    "    ee.Filter.date('2018-11-01','2019-03-31'),\n",
    "    ee.Filter.date('2017-11-01','2018-03-31')\n",
    ")"
   ]
  },
  {
   "cell_type": "code",
   "execution_count": null,
   "id": "3698479a",
   "metadata": {
    "ExecuteTime": {
     "end_time": "2022-02-03T12:48:23.393422Z",
     "start_time": "2022-02-03T12:48:23.391903Z"
    }
   },
   "outputs": [],
   "source": [
    "coleccion2022_2017 = ee.ImageCollection('LANDSAT/LC08/C01/T1_TOA') \\\n",
    "    .filterDate('2017-11-01', '2022-03-31') \\\n",
    "    .filter(filtersummerf) \\\n",
    "    .filterBounds(tierra_fuego)"
   ]
  },
  {
   "cell_type": "code",
   "execution_count": null,
   "id": "b820dfa4",
   "metadata": {
    "ExecuteTime": {
     "end_time": "2022-02-03T12:48:23.397988Z",
     "start_time": "2022-02-03T12:48:23.394143Z"
    }
   },
   "outputs": [],
   "source": [
    "l8_summer_sur= coleccion2022_2017.map(addNDVI).map(addNDWI).map(addNDGI).map(addSAVI).map(addNDSI).map(addNDBI).map(addDate).map(addCloud)"
   ]
  },
  {
   "cell_type": "code",
   "execution_count": null,
   "id": "0a876e8d",
   "metadata": {
    "ExecuteTime": {
     "end_time": "2022-02-03T12:48:24.496998Z",
     "start_time": "2022-02-03T12:48:23.398829Z"
    }
   },
   "outputs": [],
   "source": [
    "Map3.addLayer(l8_summer_sur.median(), vizParams, 'median')\n",
    "Map3"
   ]
  },
  {
   "cell_type": "markdown",
   "id": "11db41ec",
   "metadata": {},
   "source": [
    "### Tier 1 Sur"
   ]
  },
  {
   "cell_type": "code",
   "execution_count": null,
   "id": "56144837",
   "metadata": {
    "ExecuteTime": {
     "end_time": "2022-02-03T12:48:24.499705Z",
     "start_time": "2022-02-03T12:48:24.497814Z"
    }
   },
   "outputs": [],
   "source": [
    "Tier1_sn_sur = l8_summer_sur.map(Cloud10)"
   ]
  },
  {
   "cell_type": "code",
   "execution_count": null,
   "id": "28f9aa01",
   "metadata": {
    "ExecuteTime": {
     "end_time": "2022-02-03T12:48:24.502593Z",
     "start_time": "2022-02-03T12:48:24.500352Z"
    }
   },
   "outputs": [],
   "source": [
    "QM_NDVI_T1_sur = Tier1_sn_sur.qualityMosaic('NDVI')# Normalized difference vegetation Index\n",
    "QM_NDWI_T1_sur = Tier1_sn_sur.qualityMosaic('NDWI') # Normalize difference water index\n",
    "QM_SAVI_T1_sur = Tier1_sn_sur.qualityMosaic('SAVI') # Soil Adjusted Vegetation Index \n",
    "QM_NDGI_T1_sur = Tier1_sn_sur.qualityMosaic('NDGI') # Normalized difference glacier index\n",
    "QM_NDSI_T1_sur = Tier1_sn_sur.qualityMosaic('NDSI') # Normalized difference snow index"
   ]
  },
  {
   "cell_type": "code",
   "execution_count": null,
   "id": "6b688782",
   "metadata": {
    "ExecuteTime": {
     "end_time": "2022-02-03T12:48:31.132591Z",
     "start_time": "2022-02-03T12:48:24.503326Z"
    }
   },
   "outputs": [],
   "source": [
    "Map3.addLayer(QM_NDVI_T1_sur, vizParams, 'QM de NDVI T1_sur')\n",
    "Map3.addLayer(QM_NDWI_T1_sur, vizParams, 'QM de NDWI T1_sur')\n",
    "Map3.addLayer(QM_SAVI_T1_sur, vizParams, 'QM de SAVI T1_sur')\n",
    "Map3.addLayer(QM_NDGI_T1_sur, vis_nieve, 'QM de NDGI T1_sur')\n",
    "Map3.addLayer(QM_NDSI_T1_sur, vizParams, 'QM de NDSI T1_sur')\n",
    "Map3.addLayer((Tier1_sn_sur).median(), vizParams, 'Mediana de mosaico T1_sur')\n",
    "Map3 "
   ]
  },
  {
   "cell_type": "code",
   "execution_count": null,
   "id": "38712607",
   "metadata": {},
   "outputs": [],
   "source": []
  },
  {
   "cell_type": "code",
   "execution_count": null,
   "id": "19be06b4",
   "metadata": {},
   "outputs": [],
   "source": []
  },
  {
   "cell_type": "markdown",
   "id": "dd05e9e8",
   "metadata": {},
   "source": [
    "## Generación de Mosaico QM"
   ]
  },
  {
   "cell_type": "code",
   "execution_count": null,
   "id": "9b229098",
   "metadata": {
    "ExecuteTime": {
     "end_time": "2022-02-03T12:48:31.134819Z",
     "start_time": "2022-02-03T12:48:31.133316Z"
    }
   },
   "outputs": [],
   "source": [
    "NDVI_2021_landsat = cloudest.set('SENSOR_ID', 'OLI_TIRS')"
   ]
  },
  {
   "cell_type": "code",
   "execution_count": null,
   "id": "a98110ba",
   "metadata": {
    "ExecuteTime": {
     "end_time": "2022-02-03T12:48:31.137325Z",
     "start_time": "2022-02-03T12:48:31.135569Z"
    }
   },
   "outputs": [],
   "source": [
    "cloud_2021 = ee.Algorithms.Landsat.simpleCloudScore(NDVI_2021_landsat)"
   ]
  },
  {
   "cell_type": "code",
   "execution_count": null,
   "id": "745b712d",
   "metadata": {
    "ExecuteTime": {
     "end_time": "2022-02-03T12:48:31.139634Z",
     "start_time": "2022-02-03T12:48:31.138098Z"
    }
   },
   "outputs": [],
   "source": [
    "cloud_2021 = cloud_2021.select('cloud')"
   ]
  },
  {
   "cell_type": "code",
   "execution_count": null,
   "id": "3351dfe9",
   "metadata": {
    "ExecuteTime": {
     "end_time": "2022-02-03T12:48:31.141681Z",
     "start_time": "2022-02-03T12:48:31.140308Z"
    }
   },
   "outputs": [],
   "source": [
    "palette_nubes = ['#1a9850', '#d73027']"
   ]
  },
  {
   "cell_type": "code",
   "execution_count": null,
   "id": "aa1c77e2",
   "metadata": {
    "ExecuteTime": {
     "end_time": "2022-02-03T12:48:31.144020Z",
     "start_time": "2022-02-03T12:48:31.142494Z"
    }
   },
   "outputs": [],
   "source": [
    "resultados= [cloud_2021, cloudest]\n",
    "vis_params2=  [\n",
    "    {'palette':palette_nubes}, \n",
    "    vizParams]\n",
    "labels = [\n",
    "    'Nubes 2021',\n",
    "    'QM NDVI 2021']"
   ]
  },
  {
   "cell_type": "code",
   "execution_count": null,
   "id": "28e91129",
   "metadata": {
    "ExecuteTime": {
     "end_time": "2022-02-03T12:48:34.088428Z",
     "start_time": "2022-02-03T12:48:31.144722Z"
    }
   },
   "outputs": [],
   "source": [
    "geemap.linked_maps(rows=1, cols=2, height=\"400px\", center=[-45, -75], zoom=4, \n",
    "                   ee_objects=resultados, vis_params=vis_params2, labels=labels, label_position=\"topright\")"
   ]
  },
  {
   "cell_type": "code",
   "execution_count": null,
   "id": "21067811",
   "metadata": {
    "ExecuteTime": {
     "end_time": "2022-02-03T12:48:35.355535Z",
     "start_time": "2022-02-03T12:48:34.089331Z"
    }
   },
   "outputs": [],
   "source": [
    "QM_NDVI_T1.bandNames().getInfo()"
   ]
  },
  {
   "cell_type": "code",
   "execution_count": null,
   "id": "93ea56bf",
   "metadata": {
    "ExecuteTime": {
     "end_time": "2022-02-03T12:48:35.358080Z",
     "start_time": "2022-02-03T12:48:35.356248Z"
    }
   },
   "outputs": [],
   "source": [
    "def llenado(image):\n",
    "    return image.where(cloud_2021.gt(10),QM_NDVI_T1)"
   ]
  },
  {
   "cell_type": "code",
   "execution_count": null,
   "id": "8287934f",
   "metadata": {
    "ExecuteTime": {
     "end_time": "2022-02-03T12:48:35.360395Z",
     "start_time": "2022-02-03T12:48:35.358804Z"
    }
   },
   "outputs": [],
   "source": [
    "img1 = llenado(l8_summer.median())"
   ]
  },
  {
   "cell_type": "code",
   "execution_count": null,
   "id": "0ea4ebed",
   "metadata": {
    "ExecuteTime": {
     "end_time": "2022-02-03T12:48:35.362777Z",
     "start_time": "2022-02-03T12:48:35.361188Z"
    }
   },
   "outputs": [],
   "source": [
    "img1_landsat = img1.set('SENSOR_ID', 'OLI_TIRS')\n",
    "cloud_img1 = ee.Algorithms.Landsat.simpleCloudScore(img1_landsat)\n",
    "cloud_img1 = cloud_img1.select('cloud')"
   ]
  },
  {
   "cell_type": "code",
   "execution_count": null,
   "id": "84dbb2d4",
   "metadata": {
    "ExecuteTime": {
     "end_time": "2022-02-03T12:48:35.364885Z",
     "start_time": "2022-02-03T12:48:35.363441Z"
    }
   },
   "outputs": [],
   "source": [
    "resultados= [cloud_img1, img1]\n",
    "vis_params2=  [\n",
    "    {'palette':palette_nubes}, \n",
    "    vizParams]\n",
    "labels = [\n",
    "    'Nubes Mosaico 1',\n",
    "    'Mosaico 1']"
   ]
  },
  {
   "cell_type": "code",
   "execution_count": null,
   "id": "f3c2a996",
   "metadata": {
    "ExecuteTime": {
     "end_time": "2022-02-03T12:48:38.211194Z",
     "start_time": "2022-02-03T12:48:35.365668Z"
    }
   },
   "outputs": [],
   "source": [
    "geemap.linked_maps(rows=1, cols=2, height=\"400px\", center=[-45, -75], zoom=4, \n",
    "                   ee_objects=resultados, vis_params=vis_params2, labels=labels, label_position=\"topright\")"
   ]
  },
  {
   "cell_type": "code",
   "execution_count": null,
   "id": "9a243ac4",
   "metadata": {
    "ExecuteTime": {
     "end_time": "2022-02-03T12:48:38.218963Z",
     "start_time": "2022-02-03T12:48:38.217047Z"
    }
   },
   "outputs": [],
   "source": [
    "def llenado2(image):\n",
    "    return image.where(cloud_img1.gt(10), QM_NDVI_T2)"
   ]
  },
  {
   "cell_type": "code",
   "execution_count": null,
   "id": "ada6d94e",
   "metadata": {
    "ExecuteTime": {
     "end_time": "2022-02-03T12:48:38.221204Z",
     "start_time": "2022-02-03T12:48:38.219750Z"
    }
   },
   "outputs": [],
   "source": [
    "img2 = llenado2(img1)"
   ]
  },
  {
   "cell_type": "code",
   "execution_count": null,
   "id": "e3db0a52",
   "metadata": {
    "ExecuteTime": {
     "end_time": "2022-02-03T12:48:38.223475Z",
     "start_time": "2022-02-03T12:48:38.221913Z"
    }
   },
   "outputs": [],
   "source": [
    "img2_landsat = img2.set('SENSOR_ID', 'OLI_TIRS')\n",
    "cloud_img2 = ee.Algorithms.Landsat.simpleCloudScore(img2_landsat)\n",
    "cloud_img2 = cloud_img2.select('cloud')"
   ]
  },
  {
   "cell_type": "code",
   "execution_count": null,
   "id": "42d22742",
   "metadata": {
    "ExecuteTime": {
     "end_time": "2022-02-03T12:48:38.225932Z",
     "start_time": "2022-02-03T12:48:38.224163Z"
    }
   },
   "outputs": [],
   "source": [
    "resultados= [cloud_img2, img2]\n",
    "vis_params2=  [\n",
    "    {'palette':palette_nubes}, \n",
    "    vizParams]\n",
    "labels = [\n",
    "    'Nubes Mosaico 2',\n",
    "    'Mosaico 2']"
   ]
  },
  {
   "cell_type": "code",
   "execution_count": null,
   "id": "5bdcab8c",
   "metadata": {
    "ExecuteTime": {
     "end_time": "2022-02-03T12:48:38.228477Z",
     "start_time": "2022-02-03T12:48:38.226666Z"
    }
   },
   "outputs": [],
   "source": [
    "# geemap.linked_maps(rows=1, cols=2, height=\"400px\", center=[-45, -75], zoom=4, \n",
    "#                    ee_objects=resultados, vis_params=vis_params2, labels=labels, label_position=\"topright\")"
   ]
  },
  {
   "cell_type": "code",
   "execution_count": null,
   "id": "ca5f91e2",
   "metadata": {
    "ExecuteTime": {
     "end_time": "2022-02-03T12:48:38.230568Z",
     "start_time": "2022-02-03T12:48:38.229102Z"
    }
   },
   "outputs": [],
   "source": [
    "def llenado3(image):\n",
    "    return image.where(cloud_img2.gt(10), QM_NDVI_T3)"
   ]
  },
  {
   "cell_type": "code",
   "execution_count": null,
   "id": "f52fddee",
   "metadata": {
    "ExecuteTime": {
     "end_time": "2022-02-03T12:48:38.232774Z",
     "start_time": "2022-02-03T12:48:38.231248Z"
    }
   },
   "outputs": [],
   "source": [
    "img3 = llenado3(img2)"
   ]
  },
  {
   "cell_type": "code",
   "execution_count": null,
   "id": "6d41d9d0",
   "metadata": {
    "ExecuteTime": {
     "end_time": "2022-02-03T12:48:38.235775Z",
     "start_time": "2022-02-03T12:48:38.233512Z"
    }
   },
   "outputs": [],
   "source": [
    "img3_landsat = img3.set('SENSOR_ID', 'OLI_TIRS')\n",
    "cloud_img3 = ee.Algorithms.Landsat.simpleCloudScore(img3_landsat)\n",
    "cloud_img3 = cloud_img3.select('cloud')"
   ]
  },
  {
   "cell_type": "code",
   "execution_count": null,
   "id": "3a000d62",
   "metadata": {
    "ExecuteTime": {
     "end_time": "2022-02-03T12:48:38.238776Z",
     "start_time": "2022-02-03T12:48:38.236427Z"
    }
   },
   "outputs": [],
   "source": [
    "resultados= [cloud_img3, img3]\n",
    "vis_params2=  [\n",
    "    {'palette':palette_nubes}, \n",
    "    vizParams]\n",
    "labels = [\n",
    "    'Nubes Mosaico 3',\n",
    "    'Mosaico 3']"
   ]
  },
  {
   "cell_type": "code",
   "execution_count": null,
   "id": "bf275ed6",
   "metadata": {
    "ExecuteTime": {
     "end_time": "2022-02-03T12:48:38.240648Z",
     "start_time": "2022-02-03T12:48:38.239420Z"
    }
   },
   "outputs": [],
   "source": [
    "# geemap.linked_maps(rows=1, cols=2, height=\"400px\", center=[-45, -75], zoom=4, \n",
    "#                    ee_objects=resultados, vis_params=vis_params2, labels=labels, label_position=\"topright\")"
   ]
  },
  {
   "cell_type": "code",
   "execution_count": null,
   "id": "9d0daae9",
   "metadata": {
    "ExecuteTime": {
     "end_time": "2022-02-03T12:48:38.242708Z",
     "start_time": "2022-02-03T12:48:38.241292Z"
    }
   },
   "outputs": [],
   "source": [
    "def llenado4(image):\n",
    "    return image.where(cloud_img3.gt(10), QM_NDVI_T4)"
   ]
  },
  {
   "cell_type": "code",
   "execution_count": null,
   "id": "d37f16d5",
   "metadata": {
    "ExecuteTime": {
     "end_time": "2022-02-03T12:48:38.244753Z",
     "start_time": "2022-02-03T12:48:38.243404Z"
    }
   },
   "outputs": [],
   "source": [
    "img4 = llenado4(img3)"
   ]
  },
  {
   "cell_type": "code",
   "execution_count": null,
   "id": "540d60d8",
   "metadata": {
    "ExecuteTime": {
     "end_time": "2022-02-03T12:48:38.247743Z",
     "start_time": "2022-02-03T12:48:38.245587Z"
    }
   },
   "outputs": [],
   "source": [
    "img4_landsat = img4.set('SENSOR_ID', 'OLI_TIRS')\n",
    "cloud_img4 = ee.Algorithms.Landsat.simpleCloudScore(img4_landsat)\n",
    "cloud_img4 = cloud_img4.select('cloud')"
   ]
  },
  {
   "cell_type": "code",
   "execution_count": null,
   "id": "3f0e9719",
   "metadata": {
    "ExecuteTime": {
     "end_time": "2022-02-03T12:48:38.249837Z",
     "start_time": "2022-02-03T12:48:38.248368Z"
    }
   },
   "outputs": [],
   "source": [
    "resultados= [cloud_img4, img4]\n",
    "vis_params2=  [\n",
    "    {'palette':palette_nubes}, \n",
    "    vizParams]\n",
    "labels = [\n",
    "    'Nubes Mosaico 4',\n",
    "    'Mosaico 4']"
   ]
  },
  {
   "cell_type": "code",
   "execution_count": null,
   "id": "41d9a7b8",
   "metadata": {
    "ExecuteTime": {
     "end_time": "2022-02-03T12:48:38.252342Z",
     "start_time": "2022-02-03T12:48:38.250579Z"
    }
   },
   "outputs": [],
   "source": [
    "# geemap.linked_maps(rows=1, cols=2, height=\"400px\", center=[-45, -75], zoom=4, \n",
    "#                    ee_objects=resultados, vis_params=vis_params2, labels=labels, label_position=\"topright\")"
   ]
  },
  {
   "cell_type": "code",
   "execution_count": null,
   "id": "0cccc52b",
   "metadata": {
    "ExecuteTime": {
     "end_time": "2022-02-03T12:48:38.254473Z",
     "start_time": "2022-02-03T12:48:38.252982Z"
    }
   },
   "outputs": [],
   "source": [
    "hansenImage = ee.Image('UMD/hansen/global_forest_change_2015')\n",
    "datamask = hansenImage.select('datamask')"
   ]
  },
  {
   "cell_type": "code",
   "execution_count": null,
   "id": "2e6b728e",
   "metadata": {
    "ExecuteTime": {
     "end_time": "2022-02-03T12:48:38.256530Z",
     "start_time": "2022-02-03T12:48:38.255140Z"
    }
   },
   "outputs": [],
   "source": [
    "def llenado5(image):\n",
    "    return image.where(datamask.eq(2), QM_NDWI_T1)"
   ]
  },
  {
   "cell_type": "code",
   "execution_count": null,
   "id": "eeac700c",
   "metadata": {
    "ExecuteTime": {
     "end_time": "2022-02-03T12:48:38.259036Z",
     "start_time": "2022-02-03T12:48:38.257286Z"
    }
   },
   "outputs": [],
   "source": [
    "img5 = llenado5(img4)"
   ]
  },
  {
   "cell_type": "code",
   "execution_count": null,
   "id": "82202db6",
   "metadata": {
    "ExecuteTime": {
     "end_time": "2022-02-03T12:48:38.261111Z",
     "start_time": "2022-02-03T12:48:38.259708Z"
    }
   },
   "outputs": [],
   "source": [
    "img5_landsat = img5.set('SENSOR_ID', 'OLI_TIRS')"
   ]
  },
  {
   "cell_type": "code",
   "execution_count": null,
   "id": "823a7e18",
   "metadata": {
    "ExecuteTime": {
     "end_time": "2022-02-03T12:48:38.263537Z",
     "start_time": "2022-02-03T12:48:38.262009Z"
    }
   },
   "outputs": [],
   "source": [
    "resultados= [img4, img5]\n",
    "labels = [\n",
    "    'Mosaico 4',\n",
    "    'Mosaico 5']\n",
    "vis_params3=  [\n",
    "     vizParams, \n",
    "    vizParams]"
   ]
  },
  {
   "cell_type": "code",
   "execution_count": null,
   "id": "87c07712",
   "metadata": {
    "ExecuteTime": {
     "end_time": "2022-02-03T12:48:41.512482Z",
     "start_time": "2022-02-03T12:48:38.264233Z"
    }
   },
   "outputs": [],
   "source": [
    "geemap.linked_maps(rows=1, cols=2, height=\"400px\", center=[-45, -75], zoom=4, \n",
    "                   ee_objects=resultados, vis_params=vis_params3, labels=labels, label_position=\"topright\")"
   ]
  },
  {
   "cell_type": "code",
   "execution_count": null,
   "id": "c76fddbf",
   "metadata": {
    "ExecuteTime": {
     "end_time": "2022-02-03T12:48:42.810470Z",
     "start_time": "2022-02-03T12:48:41.513201Z"
    }
   },
   "outputs": [],
   "source": [
    "img4.bandNames().getInfo()"
   ]
  },
  {
   "cell_type": "code",
   "execution_count": null,
   "id": "03e0049e",
   "metadata": {
    "ExecuteTime": {
     "end_time": "2022-02-03T12:48:44.229796Z",
     "start_time": "2022-02-03T12:48:42.811223Z"
    }
   },
   "outputs": [],
   "source": [
    "img5.bandNames().getInfo()"
   ]
  },
  {
   "cell_type": "code",
   "execution_count": null,
   "id": "20454023",
   "metadata": {
    "ExecuteTime": {
     "end_time": "2022-02-03T12:48:47.066258Z",
     "start_time": "2022-02-03T12:48:44.230656Z"
    }
   },
   "outputs": [],
   "source": [
    "Map10.addLayer(img4, vizParams, 'Mosaico 4')\n",
    "Map10.addLayer(img5, vizParams, 'Mosaico 5')\n",
    "Map10"
   ]
  },
  {
   "cell_type": "markdown",
   "id": "18c237e5",
   "metadata": {},
   "source": [
    "### Resultado Final"
   ]
  },
  {
   "cell_type": "code",
   "execution_count": null,
   "id": "3e85d062",
   "metadata": {
    "ExecuteTime": {
     "end_time": "2022-02-03T12:48:48.683594Z",
     "start_time": "2022-02-03T12:48:47.067030Z"
    }
   },
   "outputs": [],
   "source": [
    "img5_b = img5.select(['B1','B2','B3','B4','B5','B6','B7'])\n",
    "Map10.addLayer(img5_b, vizParams, 'Mosaico 7bandas')\n",
    "Map10"
   ]
  },
  {
   "cell_type": "markdown",
   "id": "d46a3463",
   "metadata": {},
   "source": [
    "#### Fechas Mosaico"
   ]
  },
  {
   "cell_type": "code",
   "execution_count": null,
   "id": "67a2e0e2",
   "metadata": {
    "ExecuteTime": {
     "end_time": "2022-02-03T12:48:48.685788Z",
     "start_time": "2022-02-03T12:48:48.684401Z"
    }
   },
   "outputs": [],
   "source": [
    "# property = 'date'"
   ]
  },
  {
   "cell_type": "code",
   "execution_count": null,
   "id": "9fff05cd",
   "metadata": {
    "ExecuteTime": {
     "end_time": "2022-02-03T12:48:48.687790Z",
     "start_time": "2022-02-03T12:48:48.686568Z"
    }
   },
   "outputs": [],
   "source": [
    "# options = {\"title\": 'Fechas mosaico 2021',\n",
    "#           \"xlabel\": 'date',\n",
    "#           \"ylabel\": 'Pixel count',\n",
    "#           \"colors\": ['#1d6b99']\n",
    "#           }"
   ]
  },
  {
   "cell_type": "code",
   "execution_count": null,
   "id": "37a5b7be",
   "metadata": {
    "ExecuteTime": {
     "end_time": "2022-02-03T12:48:48.689693Z",
     "start_time": "2022-02-03T12:48:48.688459Z"
    }
   },
   "outputs": [],
   "source": [
    "# muestra = (img5.select('date')).sample(**{\n",
    "#     'region': geometry_exp,\n",
    "#     'scale': 30,\n",
    "#     'numPixels':1000,\n",
    "#     'tileScale': 2,\n",
    "# })"
   ]
  },
  {
   "cell_type": "code",
   "execution_count": null,
   "id": "0ad9a685",
   "metadata": {
    "ExecuteTime": {
     "end_time": "2022-02-03T12:48:48.691599Z",
     "start_time": "2022-02-03T12:48:48.690400Z"
    },
    "scrolled": false
   },
   "outputs": [],
   "source": [
    "# chart.feature_histogram(muestra, property, **options)"
   ]
  },
  {
   "cell_type": "code",
   "execution_count": null,
   "id": "e05c20e0",
   "metadata": {
    "ExecuteTime": {
     "end_time": "2022-02-03T12:48:48.693818Z",
     "start_time": "2022-02-03T12:48:48.692523Z"
    }
   },
   "outputs": [],
   "source": [
    "# out_dir = r\"C:\\Users\\USUARIO\\Downloads\""
   ]
  },
  {
   "cell_type": "code",
   "execution_count": null,
   "id": "2c94d245",
   "metadata": {
    "ExecuteTime": {
     "end_time": "2022-02-03T12:48:48.695861Z",
     "start_time": "2022-02-03T12:48:48.694558Z"
    }
   },
   "outputs": [],
   "source": [
    "# out_mosaic_stats= os.path.join(out_dir,'\\fechas_mosaico.csv')\n",
    "# geemap.zonal_statistics(img5,patagonia_grande, out_mosaic_stats, scale= 5000)"
   ]
  },
  {
   "cell_type": "markdown",
   "id": "7267523f",
   "metadata": {},
   "source": [
    "### Tasseled cap"
   ]
  },
  {
   "cell_type": "code",
   "execution_count": null,
   "id": "427e0fc3",
   "metadata": {
    "ExecuteTime": {
     "end_time": "2022-02-03T12:48:48.698593Z",
     "start_time": "2022-02-03T12:48:48.696575Z"
    }
   },
   "outputs": [],
   "source": [
    "coef = ee.Array([\n",
    "    [0.3029, 0.2786, 0.4733, 0.5599, 0.508, 0.1872], \n",
    "    [-0.2941, -0.243, -0.5424, 0.7276, 0.0713, -0.1608],\n",
    "    [0.1511, 0.1973, 0.3283, 0.3407, -0.7117, -0.4559],\n",
    "    [-0.8239, 0.0849, 0.4396, -0.058, 0.2013, -0.2773],\n",
    "    [-0.3294, 0.0557, 0.1056, 0.1855, -0.4349, 0.8085],\n",
    "    [0.1079, -0.9023, 0.4119, 0.0575, -0.0259, 0.0252]\n",
    "])"
   ]
  },
  {
   "cell_type": "code",
   "execution_count": null,
   "id": "7ab0a347",
   "metadata": {
    "ExecuteTime": {
     "end_time": "2022-02-03T12:48:48.701201Z",
     "start_time": "2022-02-03T12:48:48.699310Z"
    }
   },
   "outputs": [],
   "source": [
    "tasse_img5 = img5.select(['B2', 'B3', 'B4', 'B5', 'B6', 'B7'])"
   ]
  },
  {
   "cell_type": "code",
   "execution_count": null,
   "id": "9e34972d",
   "metadata": {
    "ExecuteTime": {
     "end_time": "2022-02-03T12:48:48.703416Z",
     "start_time": "2022-02-03T12:48:48.701935Z"
    }
   },
   "outputs": [],
   "source": [
    "arrayimage1d = tasse_img5.toArray()"
   ]
  },
  {
   "cell_type": "code",
   "execution_count": null,
   "id": "3c3e3a70",
   "metadata": {
    "ExecuteTime": {
     "end_time": "2022-02-03T12:48:48.705502Z",
     "start_time": "2022-02-03T12:48:48.704093Z"
    }
   },
   "outputs": [],
   "source": [
    "arrayimage2d = arrayimage1d.toArray(1)"
   ]
  },
  {
   "cell_type": "code",
   "execution_count": null,
   "id": "0ae9ab01",
   "metadata": {
    "ExecuteTime": {
     "end_time": "2022-02-03T12:48:48.708120Z",
     "start_time": "2022-02-03T12:48:48.706158Z"
    }
   },
   "outputs": [],
   "source": [
    "componentes = ee.Image(coef)\\\n",
    "                .matrixMultiply(arrayimage2d) \\\n",
    "                .arrayProject([0])\\\n",
    "                .arrayFlatten(\n",
    "                [['brightness','greenness','wetness','fourth','fifth','sixth']])"
   ]
  },
  {
   "cell_type": "code",
   "execution_count": null,
   "id": "b058be26",
   "metadata": {
    "ExecuteTime": {
     "end_time": "2022-02-03T12:48:48.710435Z",
     "start_time": "2022-02-03T12:48:48.708870Z"
    }
   },
   "outputs": [],
   "source": [
    "vizParamstess = {\n",
    "  'bands': ['brightness', 'greenness', 'wetness'],\n",
    "    'min': -0.1,\n",
    "    'max': [0.6, 0.2, 0.2]\n",
    "}\n"
   ]
  },
  {
   "cell_type": "code",
   "execution_count": null,
   "id": "9dc2abf8",
   "metadata": {
    "ExecuteTime": {
     "end_time": "2022-02-03T12:48:50.292264Z",
     "start_time": "2022-02-03T12:48:48.711142Z"
    }
   },
   "outputs": [],
   "source": [
    "Map10.addLayer(componentes,vizParamstess, 'Tesseled cap')\n",
    "Map10"
   ]
  },
  {
   "cell_type": "markdown",
   "id": "c36bd436",
   "metadata": {},
   "source": [
    "### Combinación de bandas"
   ]
  },
  {
   "cell_type": "code",
   "execution_count": null,
   "id": "9e796ad0",
   "metadata": {
    "ExecuteTime": {
     "end_time": "2022-02-03T12:48:50.294880Z",
     "start_time": "2022-02-03T12:48:50.293066Z"
    }
   },
   "outputs": [],
   "source": [
    "img_final = img5.select('B1','B2','B3','B4','B5','B6','B7','NDVI','NDWI','NDGI','SAVI','NDSI','NDBI')\n",
    "img_final = img_final.addBands(componentes) "
   ]
  },
  {
   "cell_type": "code",
   "execution_count": null,
   "id": "1946e239",
   "metadata": {
    "ExecuteTime": {
     "end_time": "2022-02-03T12:48:51.656664Z",
     "start_time": "2022-02-03T12:48:50.295675Z"
    }
   },
   "outputs": [],
   "source": [
    "img_final.bandNames().getInfo()"
   ]
  },
  {
   "cell_type": "markdown",
   "id": "2d8c3490",
   "metadata": {},
   "source": [
    "## Generación de Mosaico Mediana "
   ]
  },
  {
   "cell_type": "code",
   "execution_count": null,
   "id": "daedb11a",
   "metadata": {
    "ExecuteTime": {
     "end_time": "2022-02-03T12:48:51.658922Z",
     "start_time": "2022-02-03T12:48:51.657423Z"
    }
   },
   "outputs": [],
   "source": [
    "NDVI_2021_landsat = cloudest.set('SENSOR_ID', 'OLI_TIRS')"
   ]
  },
  {
   "cell_type": "code",
   "execution_count": null,
   "id": "27ac7247",
   "metadata": {
    "ExecuteTime": {
     "end_time": "2022-02-03T12:48:51.661527Z",
     "start_time": "2022-02-03T12:48:51.659547Z"
    }
   },
   "outputs": [],
   "source": [
    "cloud_2021 = ee.Algorithms.Landsat.simpleCloudScore(NDVI_2021_landsat)"
   ]
  },
  {
   "cell_type": "code",
   "execution_count": null,
   "id": "5dc81c5b",
   "metadata": {
    "ExecuteTime": {
     "end_time": "2022-02-03T12:48:51.663548Z",
     "start_time": "2022-02-03T12:48:51.662175Z"
    }
   },
   "outputs": [],
   "source": [
    "cloud_2021 = cloud_2021.select('cloud')"
   ]
  },
  {
   "cell_type": "code",
   "execution_count": null,
   "id": "ff9b8a7d",
   "metadata": {
    "ExecuteTime": {
     "end_time": "2022-02-03T12:48:51.665561Z",
     "start_time": "2022-02-03T12:48:51.664242Z"
    }
   },
   "outputs": [],
   "source": [
    "palette_nubes = ['#1a9850', '#d73027']"
   ]
  },
  {
   "cell_type": "code",
   "execution_count": null,
   "id": "b0297af0",
   "metadata": {
    "ExecuteTime": {
     "end_time": "2022-02-03T12:48:51.668235Z",
     "start_time": "2022-02-03T12:48:51.666354Z"
    }
   },
   "outputs": [],
   "source": [
    "resultados= [cloud_2021, cloudest]\n",
    "vis_params2=  [\n",
    "    {'palette':palette_nubes}, \n",
    "    vizParams]\n",
    "labels = [\n",
    "    'Nubes 2021',\n",
    "    'QM NDVI 2021']"
   ]
  },
  {
   "cell_type": "code",
   "execution_count": null,
   "id": "59624c53",
   "metadata": {
    "ExecuteTime": {
     "end_time": "2022-02-03T12:48:54.534106Z",
     "start_time": "2022-02-03T12:48:51.668928Z"
    }
   },
   "outputs": [],
   "source": [
    "geemap.linked_maps(rows=1, cols=2, height=\"400px\", center=[-45, -75], zoom=4, \n",
    "                   ee_objects=resultados, vis_params=vis_params2, labels=labels, label_position=\"topright\")"
   ]
  },
  {
   "cell_type": "code",
   "execution_count": null,
   "id": "10d867ca",
   "metadata": {
    "ExecuteTime": {
     "end_time": "2022-02-03T12:48:55.698763Z",
     "start_time": "2022-02-03T12:48:54.534800Z"
    }
   },
   "outputs": [],
   "source": [
    "Tier1_sn.median().bandNames().getInfo()"
   ]
  },
  {
   "cell_type": "code",
   "execution_count": null,
   "id": "f344f905",
   "metadata": {
    "ExecuteTime": {
     "end_time": "2022-02-03T12:48:55.701225Z",
     "start_time": "2022-02-03T12:48:55.699578Z"
    }
   },
   "outputs": [],
   "source": [
    "def llenado(image):\n",
    "    return image.where(cloud_2021.gt(10),Tier1_sn.median())"
   ]
  },
  {
   "cell_type": "code",
   "execution_count": null,
   "id": "f6465699",
   "metadata": {
    "ExecuteTime": {
     "end_time": "2022-02-03T12:48:55.703712Z",
     "start_time": "2022-02-03T12:48:55.701848Z"
    }
   },
   "outputs": [],
   "source": [
    "img1m = llenado(l8_summer.median())"
   ]
  },
  {
   "cell_type": "code",
   "execution_count": null,
   "id": "4fecf00d",
   "metadata": {
    "ExecuteTime": {
     "end_time": "2022-02-03T12:48:55.706016Z",
     "start_time": "2022-02-03T12:48:55.704441Z"
    }
   },
   "outputs": [],
   "source": [
    "img1m_landsat = img1m.set('SENSOR_ID', 'OLI_TIRS')\n",
    "cloud_img1 = ee.Algorithms.Landsat.simpleCloudScore(img1m_landsat)\n",
    "cloud_img1 = cloud_img1.select('cloud')"
   ]
  },
  {
   "cell_type": "code",
   "execution_count": null,
   "id": "cbf75071",
   "metadata": {
    "ExecuteTime": {
     "end_time": "2022-02-03T12:48:55.708641Z",
     "start_time": "2022-02-03T12:48:55.706770Z"
    }
   },
   "outputs": [],
   "source": [
    "resultados= [cloud_img1, img1m]\n",
    "vis_params2=  [\n",
    "    {'palette':palette_nubes}, \n",
    "    vizParams]\n",
    "labels = [\n",
    "    'Nubes Mosaico 1',\n",
    "    'Mosaico 1']"
   ]
  },
  {
   "cell_type": "code",
   "execution_count": null,
   "id": "bcab44d4",
   "metadata": {
    "ExecuteTime": {
     "end_time": "2022-02-03T12:48:58.617797Z",
     "start_time": "2022-02-03T12:48:55.709250Z"
    }
   },
   "outputs": [],
   "source": [
    "geemap.linked_maps(rows=1, cols=2, height=\"400px\", center=[-45, -75], zoom=4, \n",
    "                   ee_objects=resultados, vis_params=vis_params2, labels=labels, label_position=\"topright\")"
   ]
  },
  {
   "cell_type": "code",
   "execution_count": null,
   "id": "d90fb4fd",
   "metadata": {
    "ExecuteTime": {
     "end_time": "2022-02-03T12:48:58.620233Z",
     "start_time": "2022-02-03T12:48:58.618624Z"
    }
   },
   "outputs": [],
   "source": [
    "def llenado2(image):\n",
    "    return image.where(cloud_img1.gt(10), Tier2_sn.median())"
   ]
  },
  {
   "cell_type": "code",
   "execution_count": null,
   "id": "524814b0",
   "metadata": {
    "ExecuteTime": {
     "end_time": "2022-02-03T12:48:58.622841Z",
     "start_time": "2022-02-03T12:48:58.620904Z"
    }
   },
   "outputs": [],
   "source": [
    "img2m = llenado2(img1m)"
   ]
  },
  {
   "cell_type": "code",
   "execution_count": null,
   "id": "a04c18a8",
   "metadata": {
    "ExecuteTime": {
     "end_time": "2022-02-03T12:48:58.625164Z",
     "start_time": "2022-02-03T12:48:58.623534Z"
    }
   },
   "outputs": [],
   "source": [
    "img2m_landsat = img2.set('SENSOR_ID', 'OLI_TIRS')\n",
    "cloud_img2 = ee.Algorithms.Landsat.simpleCloudScore(img2m_landsat)\n",
    "cloud_img2 = cloud_img2.select('cloud')"
   ]
  },
  {
   "cell_type": "code",
   "execution_count": null,
   "id": "b6e99cd7",
   "metadata": {
    "ExecuteTime": {
     "end_time": "2022-02-03T12:48:58.628168Z",
     "start_time": "2022-02-03T12:48:58.625910Z"
    }
   },
   "outputs": [],
   "source": [
    "resultados= [cloud_img2, img2m]\n",
    "vis_params2=  [\n",
    "    {'palette':palette_nubes}, \n",
    "    vizParams]\n",
    "labels = [\n",
    "    'Nubes Mosaico 2',\n",
    "    'Mosaico 2']"
   ]
  },
  {
   "cell_type": "code",
   "execution_count": null,
   "id": "472ab70a",
   "metadata": {
    "ExecuteTime": {
     "end_time": "2022-02-03T12:48:58.630333Z",
     "start_time": "2022-02-03T12:48:58.628837Z"
    }
   },
   "outputs": [],
   "source": [
    "def llenado3(image):\n",
    "    return image.where(cloud_img2.gt(10),Tier3_sn.median())"
   ]
  },
  {
   "cell_type": "code",
   "execution_count": null,
   "id": "e8d70266",
   "metadata": {
    "ExecuteTime": {
     "end_time": "2022-02-03T12:48:58.632430Z",
     "start_time": "2022-02-03T12:48:58.630980Z"
    }
   },
   "outputs": [],
   "source": [
    "img3m = llenado3(img2m)"
   ]
  },
  {
   "cell_type": "code",
   "execution_count": null,
   "id": "ed06e753",
   "metadata": {
    "ExecuteTime": {
     "end_time": "2022-02-03T12:48:58.635017Z",
     "start_time": "2022-02-03T12:48:58.633128Z"
    }
   },
   "outputs": [],
   "source": [
    "img3m_landsat = img3.set('SENSOR_ID', 'OLI_TIRS')\n",
    "cloud_img3 = ee.Algorithms.Landsat.simpleCloudScore(img3m_landsat)\n",
    "cloud_img3 = cloud_img3.select('cloud')"
   ]
  },
  {
   "cell_type": "code",
   "execution_count": null,
   "id": "e42124da",
   "metadata": {
    "ExecuteTime": {
     "end_time": "2022-02-03T12:48:58.637560Z",
     "start_time": "2022-02-03T12:48:58.635716Z"
    }
   },
   "outputs": [],
   "source": [
    "resultados= [cloud_img3, img3m]\n",
    "vis_params2=  [\n",
    "    {'palette':palette_nubes}, \n",
    "    vizParams]\n",
    "labels = [\n",
    "    'Nubes Mosaico 3',\n",
    "    'Mosaico 3']"
   ]
  },
  {
   "cell_type": "code",
   "execution_count": null,
   "id": "496d088f",
   "metadata": {
    "ExecuteTime": {
     "end_time": "2022-02-03T12:48:58.639707Z",
     "start_time": "2022-02-03T12:48:58.638221Z"
    }
   },
   "outputs": [],
   "source": [
    "def llenado4(image):\n",
    "    return image.where(cloud_img3.gt(10),Tier4_sn.median())"
   ]
  },
  {
   "cell_type": "code",
   "execution_count": null,
   "id": "c40d71ef",
   "metadata": {
    "ExecuteTime": {
     "end_time": "2022-02-03T12:48:58.641858Z",
     "start_time": "2022-02-03T12:48:58.640371Z"
    }
   },
   "outputs": [],
   "source": [
    "img4m = llenado4(img3m)"
   ]
  },
  {
   "cell_type": "code",
   "execution_count": null,
   "id": "f796f2ce",
   "metadata": {
    "ExecuteTime": {
     "end_time": "2022-02-03T12:48:58.644088Z",
     "start_time": "2022-02-03T12:48:58.642556Z"
    }
   },
   "outputs": [],
   "source": [
    "img4m_landsat = img4m.set('SENSOR_ID', 'OLI_TIRS')\n",
    "cloud_img4 = ee.Algorithms.Landsat.simpleCloudScore(img4m_landsat)\n",
    "cloud_img4 = cloud_img4.select('cloud')"
   ]
  },
  {
   "cell_type": "code",
   "execution_count": null,
   "id": "37d6a3a6",
   "metadata": {
    "ExecuteTime": {
     "end_time": "2022-02-03T12:48:58.646215Z",
     "start_time": "2022-02-03T12:48:58.644821Z"
    }
   },
   "outputs": [],
   "source": [
    "resultados= [cloud_img4, img4m]\n",
    "vis_params2=  [\n",
    "    {'palette':palette_nubes}, \n",
    "    vizParams]\n",
    "labels = [\n",
    "    'Nubes Mosaico 4',\n",
    "    'Mosaico 4']"
   ]
  },
  {
   "cell_type": "code",
   "execution_count": null,
   "id": "0903900c",
   "metadata": {
    "ExecuteTime": {
     "end_time": "2022-02-03T12:48:58.648777Z",
     "start_time": "2022-02-03T12:48:58.646876Z"
    }
   },
   "outputs": [],
   "source": [
    "hansenImage = ee.Image('UMD/hansen/global_forest_change_2015')\n",
    "datamask = hansenImage.select('datamask')"
   ]
  },
  {
   "cell_type": "code",
   "execution_count": null,
   "id": "34a62dc7",
   "metadata": {
    "ExecuteTime": {
     "end_time": "2022-02-03T12:48:58.651377Z",
     "start_time": "2022-02-03T12:48:58.649474Z"
    }
   },
   "outputs": [],
   "source": [
    "def llenado5(image):\n",
    "    return image.where(datamask.eq(2), Tier1_sn.median())"
   ]
  },
  {
   "cell_type": "code",
   "execution_count": null,
   "id": "52fe0c9d",
   "metadata": {
    "ExecuteTime": {
     "end_time": "2022-02-03T12:48:58.653365Z",
     "start_time": "2022-02-03T12:48:58.652034Z"
    }
   },
   "outputs": [],
   "source": [
    "img5m = llenado5(img4m)"
   ]
  },
  {
   "cell_type": "code",
   "execution_count": null,
   "id": "1dc41650",
   "metadata": {
    "ExecuteTime": {
     "end_time": "2022-02-03T12:48:58.655502Z",
     "start_time": "2022-02-03T12:48:58.654097Z"
    }
   },
   "outputs": [],
   "source": [
    "img5m_landsat = img5m.set('SENSOR_ID', 'OLI_TIRS')"
   ]
  },
  {
   "cell_type": "code",
   "execution_count": null,
   "id": "76e1793f",
   "metadata": {
    "ExecuteTime": {
     "end_time": "2022-02-03T12:48:58.658198Z",
     "start_time": "2022-02-03T12:48:58.656173Z"
    }
   },
   "outputs": [],
   "source": [
    "resultados= [img4m, img5m]\n",
    "labels = [\n",
    "    'Mosaico 4',\n",
    "    'Mosaico 5']\n",
    "vis_params3=  [\n",
    "     vizParams, \n",
    "    vizParams]"
   ]
  },
  {
   "cell_type": "code",
   "execution_count": null,
   "id": "622f958f",
   "metadata": {
    "ExecuteTime": {
     "end_time": "2022-02-03T12:49:02.009094Z",
     "start_time": "2022-02-03T12:48:58.658896Z"
    }
   },
   "outputs": [],
   "source": [
    "geemap.linked_maps(rows=1, cols=2, height=\"400px\", center=[-45, -75], zoom=4, \n",
    "                   ee_objects=resultados, vis_params=vis_params3, labels=labels, label_position=\"topright\")"
   ]
  },
  {
   "cell_type": "markdown",
   "id": "30564ae6",
   "metadata": {},
   "source": [
    "### Resultado"
   ]
  },
  {
   "cell_type": "code",
   "execution_count": null,
   "id": "78a80ba0",
   "metadata": {
    "ExecuteTime": {
     "end_time": "2022-02-03T12:49:05.350729Z",
     "start_time": "2022-02-03T12:49:02.010088Z"
    }
   },
   "outputs": [],
   "source": [
    "Map11.addLayer(img4m, vizParams, 'Mosaico 4')\n",
    "Map11.addLayer(img5m, vizParams, 'Mosaico 5')\n",
    "Map11"
   ]
  },
  {
   "cell_type": "markdown",
   "id": "1aebd5eb",
   "metadata": {},
   "source": [
    "### Tasseled cap"
   ]
  },
  {
   "cell_type": "code",
   "execution_count": null,
   "id": "2e5af562",
   "metadata": {
    "ExecuteTime": {
     "end_time": "2022-02-03T12:49:05.353081Z",
     "start_time": "2022-02-03T12:49:05.351453Z"
    }
   },
   "outputs": [],
   "source": [
    "tasse_img5m = img5m.select(['B2', 'B3', 'B4', 'B5', 'B6', 'B7'])"
   ]
  },
  {
   "cell_type": "code",
   "execution_count": null,
   "id": "a8d152b7",
   "metadata": {
    "ExecuteTime": {
     "end_time": "2022-02-03T12:49:05.355546Z",
     "start_time": "2022-02-03T12:49:05.353742Z"
    }
   },
   "outputs": [],
   "source": [
    "arrayimage1dm = tasse_img5m.toArray()"
   ]
  },
  {
   "cell_type": "code",
   "execution_count": null,
   "id": "c15b3355",
   "metadata": {
    "ExecuteTime": {
     "end_time": "2022-02-03T12:49:05.358104Z",
     "start_time": "2022-02-03T12:49:05.356249Z"
    }
   },
   "outputs": [],
   "source": [
    "arrayimage2dm = arrayimage1dm.toArray(1)"
   ]
  },
  {
   "cell_type": "code",
   "execution_count": null,
   "id": "a0a5dcce",
   "metadata": {
    "ExecuteTime": {
     "end_time": "2022-02-03T12:49:05.360582Z",
     "start_time": "2022-02-03T12:49:05.358748Z"
    }
   },
   "outputs": [],
   "source": [
    "componentesm = ee.Image(coef)\\\n",
    "                .matrixMultiply(arrayimage2dm) \\\n",
    "                .arrayProject([0])\\\n",
    "                .arrayFlatten(\n",
    "                [['brightness','greenness','wetness','fourth','fifth','sixth']])"
   ]
  },
  {
   "cell_type": "code",
   "execution_count": null,
   "id": "15b3890e",
   "metadata": {
    "ExecuteTime": {
     "end_time": "2022-02-03T12:49:06.951590Z",
     "start_time": "2022-02-03T12:49:05.361375Z"
    }
   },
   "outputs": [],
   "source": [
    "Map11.addLayer(componentesm,vizParamstess, 'Tesseled cap')\n",
    "Map11"
   ]
  },
  {
   "cell_type": "markdown",
   "id": "b466df41",
   "metadata": {},
   "source": [
    "### Combinación de bandas"
   ]
  },
  {
   "cell_type": "code",
   "execution_count": null,
   "id": "2dd4089f",
   "metadata": {
    "ExecuteTime": {
     "end_time": "2022-02-03T12:49:06.954096Z",
     "start_time": "2022-02-03T12:49:06.952392Z"
    }
   },
   "outputs": [],
   "source": [
    "img_final_m = img5m.select('B1','B2','B3','B4','B5','B6','B7','NDVI','NDWI','NDGI','SAVI','NDSI','NDBI')\n",
    "img_final_m = img_final_m.addBands(componentesm) "
   ]
  },
  {
   "cell_type": "markdown",
   "id": "1e872319",
   "metadata": {},
   "source": [
    "## Clasificación"
   ]
  },
  {
   "cell_type": "code",
   "execution_count": null,
   "id": "8093616d",
   "metadata": {
    "ExecuteTime": {
     "end_time": "2022-02-03T12:49:14.563328Z",
     "start_time": "2022-02-03T12:49:06.954883Z"
    }
   },
   "outputs": [],
   "source": [
    "test1 = os.path.join(work_dir,'roi_1.shp')\n",
    "test1 = geemap.shp_to_ee(test1)\n",
    "Map13.addLayer(test1, {}, 'Áreas de entrenamiento')"
   ]
  },
  {
   "cell_type": "code",
   "execution_count": null,
   "id": "c266e87a",
   "metadata": {
    "ExecuteTime": {
     "end_time": "2022-02-03T12:49:14.568723Z",
     "start_time": "2022-02-03T12:49:14.564292Z"
    }
   },
   "outputs": [],
   "source": [
    "Map13"
   ]
  },
  {
   "cell_type": "code",
   "execution_count": null,
   "id": "613b1401",
   "metadata": {
    "ExecuteTime": {
     "end_time": "2022-02-03T12:49:14.571018Z",
     "start_time": "2022-02-03T12:49:14.569385Z"
    }
   },
   "outputs": [],
   "source": [
    "data_QM = img_final.sampleRegions(**{\n",
    "    'collection': test1,\n",
    "    'properties': ['C_ID'],\n",
    "    'scale': 30,\n",
    "    'tileScale': 2,\n",
    "})"
   ]
  },
  {
   "cell_type": "code",
   "execution_count": null,
   "id": "35ec1522",
   "metadata": {
    "ExecuteTime": {
     "end_time": "2022-02-03T12:49:14.573314Z",
     "start_time": "2022-02-03T12:49:14.571720Z"
    }
   },
   "outputs": [],
   "source": [
    "data_Med = img_final_m.sampleRegions(**{\n",
    "    'collection': test1,\n",
    "    'properties': ['C_ID'],\n",
    "    'scale': 30,\n",
    "    'tileScale': 2,\n",
    "})"
   ]
  },
  {
   "cell_type": "code",
   "execution_count": null,
   "id": "0be21169",
   "metadata": {
    "ExecuteTime": {
     "end_time": "2022-02-03T12:49:14.575317Z",
     "start_time": "2022-02-03T12:49:14.574072Z"
    }
   },
   "outputs": [],
   "source": [
    "# print(test_data.size().getInfo())"
   ]
  },
  {
   "cell_type": "code",
   "execution_count": null,
   "id": "0cdba8cd",
   "metadata": {
    "ExecuteTime": {
     "end_time": "2022-02-03T12:49:14.577282Z",
     "start_time": "2022-02-03T12:49:14.575983Z"
    }
   },
   "outputs": [],
   "source": [
    "# print(test_data.first().getInfo())"
   ]
  },
  {
   "cell_type": "markdown",
   "id": "65efc69f",
   "metadata": {},
   "source": [
    "### Muestras y datos de validación"
   ]
  },
  {
   "cell_type": "code",
   "execution_count": null,
   "id": "9f4082a9",
   "metadata": {
    "ExecuteTime": {
     "end_time": "2022-02-03T12:49:14.580286Z",
     "start_time": "2022-02-03T12:49:14.577939Z"
    }
   },
   "outputs": [],
   "source": [
    "# Guardamos las bandas\n",
    "\n",
    "# Esta propiedad guarda las clases de landcover\n",
    "# label = 'b1'\n",
    "label = 'IDH'\n",
    "label1 = 'ID'\n",
    "label_train ='C_ID'\n",
    "# Overlay the points on the imagery to get training.\n",
    "# sample = landsat.select(bands).sampleRegions(**{\n",
    "#   'collection': points,\n",
    "#   'properties': [label],\n",
    "#   'scale': 30\n",
    "# })\n",
    "\n",
    "# # Adds a column of deterministic pseudorandom numbers. \n",
    "# sample = sample.randomColumn()\n",
    "\n",
    "# split = 0.7 \n",
    "\n",
    "# training = sample.filter(ee.Filter.lt('random', split))\n",
    "# validation = sample.filter(ee.Filter.gte('random', split))\n",
    "bands = ['B1',\n",
    " 'B2',\n",
    " 'B3',\n",
    " 'B4',\n",
    " 'B5',\n",
    " 'B6',\n",
    " 'B7',\n",
    " 'NDVI',\n",
    " 'NDWI',\n",
    " 'NDGI',\n",
    " 'SAVI',\n",
    " 'NDSI',\n",
    " 'brightness',\n",
    " 'greenness',\n",
    " 'wetness',\n",
    " 'fourth',\n",
    " 'fifth',\n",
    " 'sixth'\n",
    "]\n",
    "bands2 = ['B1',\n",
    " 'B2',\n",
    " 'B3',\n",
    " 'B4',\n",
    " 'B5',\n",
    " 'B6',\n",
    " 'B7',\n",
    " 'NDVI',\n",
    " 'NDWI',\n",
    " 'NDGI',\n",
    " 'SAVI',\n",
    " 'NDSI',\n",
    "]\n",
    "bands1 = ['B1',\n",
    " 'B2',\n",
    " 'B3',\n",
    " 'B4',\n",
    " 'B5',\n",
    " 'B6',\n",
    " 'B7',\n",
    " 'B8',\n",
    " 'B9',\n",
    " 'B10',\n",
    " 'B11']"
   ]
  },
  {
   "cell_type": "markdown",
   "id": "bb2b3b9b",
   "metadata": {},
   "source": [
    "### Entrenando el modelo"
   ]
  },
  {
   "cell_type": "code",
   "execution_count": null,
   "id": "d2eab14d",
   "metadata": {
    "ExecuteTime": {
     "end_time": "2022-02-03T12:49:14.582504Z",
     "start_time": "2022-02-03T12:49:14.581017Z"
    }
   },
   "outputs": [],
   "source": [
    "classifier_QM = ee.Classifier.smileRandomForest(100).train(data_QM,label_train,bands)"
   ]
  },
  {
   "cell_type": "code",
   "execution_count": null,
   "id": "9a0dbf8e",
   "metadata": {
    "ExecuteTime": {
     "end_time": "2022-02-03T12:49:14.584609Z",
     "start_time": "2022-02-03T12:49:14.583175Z"
    }
   },
   "outputs": [],
   "source": [
    "classifier_Med = ee.Classifier.smileRandomForest(100).train(data_Med,label_train,bands)"
   ]
  },
  {
   "cell_type": "code",
   "execution_count": null,
   "id": "effbf7b9",
   "metadata": {
    "ExecuteTime": {
     "end_time": "2022-02-03T12:49:14.587058Z",
     "start_time": "2022-02-03T12:49:14.585353Z"
    }
   },
   "outputs": [],
   "source": [
    "result_QM = img_final.select(bands).classify(classifier_QM)"
   ]
  },
  {
   "cell_type": "code",
   "execution_count": null,
   "id": "dccc1b73",
   "metadata": {
    "ExecuteTime": {
     "end_time": "2022-02-03T12:49:14.589155Z",
     "start_time": "2022-02-03T12:49:14.587746Z"
    }
   },
   "outputs": [],
   "source": [
    "result_Med = img_final_m.select(bands).classify(classifier_Med)"
   ]
  },
  {
   "cell_type": "markdown",
   "id": "7df7206f",
   "metadata": {},
   "source": [
    "### Categorizando"
   ]
  },
  {
   "cell_type": "code",
   "execution_count": null,
   "id": "997c3cbf",
   "metadata": {
    "ExecuteTime": {
     "end_time": "2022-02-03T12:49:14.592553Z",
     "start_time": "2022-02-03T12:49:14.589846Z"
    }
   },
   "outputs": [],
   "source": [
    "class_values2 = [1,2,3,4,5,6,7,8,9,10,11,12,13,14,15,16,17,19,20,28,30,31,32,33,34,35,36,39,40,43,45,47,48,57,58,60]\n",
    "\n",
    "class_palette2 = ['d1fbff', # 1 Hielo\n",
    " 'bfdadd', #2 lengua glaciar\n",
    " 'b9bfbf', #3 glaciar cubierto\n",
    " 'fe40fe', #4 nieve\n",
    " '8ac1ff', #5 fiordo glaciar\n",
    " '0c407b', #6 mar\n",
    " '2e8da0', #7 lago continental\n",
    " '16b2d1', #8 lago glaciar\n",
    " '27e1d8', #9 río\n",
    " 'eeb514', #10 suelo desnudo\n",
    " '927012', #11 cárcavas erosión \n",
    " 'e98c0f', #12 suelo río\n",
    " 'f7e8bd', #13 suelo duna/arenal\n",
    " '5b5b5b', #14 caminos\n",
    " 'e57104', #15 suelo desnudo / poca vegetación\n",
    " '5d1412', #16 tuberas / musgos\n",
    " '5d1412', #17 mallín                 \n",
    " '161163', #19 áreas inundables\n",
    " 'fff300', #20 plantación adulto\n",
    " 'd4e794', #28 frutales\n",
    " 'dee842', #30 praderas pastoreo             \n",
    " 'ced118', #31 estepa abierta\n",
    " '7a7c0f', #32 estepa cerrada\n",
    " 'c39700', #33 palizales\n",
    " 'a1ff8a', #34 preaderas\n",
    " '138665', #35 matorrales densos\n",
    " '1bbd8e', #36 matorrales abiertos\n",
    " '195a09', #39 primario adulto\n",
    " '27c41d', #40 secundario adulto\n",
    " 'b2ff00', #43 renoval inicial\n",
    " 'f36605', #45 degradado\n",
    " '7729db', #47 Primario adulto caduco\n",
    " '9e60ec', #48 Secundario adulto caduco\n",
    " '7000ff', #57 Mixto Primario\n",
    " 'c598ff', #58 Mixto secundario\n",
    " '00ff87', #60 Coníferas nativas\n",
    "]"
   ]
  },
  {
   "cell_type": "code",
   "execution_count": null,
   "id": "d1ed6e92",
   "metadata": {
    "ExecuteTime": {
     "end_time": "2022-02-03T12:49:14.594712Z",
     "start_time": "2022-02-03T12:49:14.593228Z"
    }
   },
   "outputs": [],
   "source": [
    "landcover_QM = result_QM.set('classification_class_values', class_values2)\n",
    "landcover_QM = landcover_QM.set('classification_class_palette',class_palette2)"
   ]
  },
  {
   "cell_type": "code",
   "execution_count": null,
   "id": "40c97470",
   "metadata": {
    "ExecuteTime": {
     "end_time": "2022-02-03T12:49:14.597135Z",
     "start_time": "2022-02-03T12:49:14.595499Z"
    }
   },
   "outputs": [],
   "source": [
    "landcover_Med = result_Med.set('classification_class_values', class_values2)\n",
    "landcover_Med = landcover_Med.set('classification_class_palette',class_palette2)"
   ]
  },
  {
   "cell_type": "code",
   "execution_count": null,
   "id": "11e0ee3e",
   "metadata": {
    "ExecuteTime": {
     "end_time": "2022-02-03T12:52:15.089594Z",
     "start_time": "2022-02-03T12:49:14.597830Z"
    }
   },
   "outputs": [],
   "source": [
    "Map14.addLayer(landcover_QM,{}, 'Land cover RF-QM' )\n",
    "Map14.addLayer(landcover_Med,{}, 'Land cover RF-Mediana')"
   ]
  },
  {
   "cell_type": "code",
   "execution_count": null,
   "id": "882a5f91",
   "metadata": {
    "ExecuteTime": {
     "end_time": "2022-02-03T12:52:15.092682Z",
     "start_time": "2022-02-03T12:52:15.090447Z"
    }
   },
   "outputs": [],
   "source": [
    "type(landcover_QM)"
   ]
  },
  {
   "cell_type": "markdown",
   "id": "d3ac6dae",
   "metadata": {},
   "source": [
    "#### Mapas"
   ]
  },
  {
   "cell_type": "code",
   "execution_count": null,
   "id": "5065e0ff",
   "metadata": {
    "ExecuteTime": {
     "end_time": "2022-02-03T12:52:15.094914Z",
     "start_time": "2022-02-03T12:52:15.093381Z"
    }
   },
   "outputs": [],
   "source": [
    "NDVI_mosaico=img5.select('NDVI')"
   ]
  },
  {
   "cell_type": "code",
   "execution_count": null,
   "id": "6c63b15a",
   "metadata": {
    "ExecuteTime": {
     "end_time": "2022-02-03T12:52:15.097500Z",
     "start_time": "2022-02-03T12:52:15.095533Z"
    }
   },
   "outputs": [],
   "source": [
    "vizNDVI =['#FF5733','#0cf5f5','#d89000','#039001','#003804']"
   ]
  },
  {
   "cell_type": "code",
   "execution_count": null,
   "id": "e5d42f45",
   "metadata": {
    "ExecuteTime": {
     "end_time": "2022-02-03T12:52:16.909350Z",
     "start_time": "2022-02-03T12:52:15.098204Z"
    }
   },
   "outputs": [],
   "source": [
    "Map16.addLayer(NDVI_mosaico, {'palette':vizNDVI} ,'NDVI Mosaico 2021' )\n",
    "Map16"
   ]
  },
  {
   "cell_type": "code",
   "execution_count": null,
   "id": "53d31ef4",
   "metadata": {
    "ExecuteTime": {
     "end_time": "2022-02-03T12:52:20.053510Z",
     "start_time": "2022-02-03T12:52:16.910154Z"
    }
   },
   "outputs": [],
   "source": [
    "legend_dict = {\n",
    "    '01 Hielo': 'd1fbff',\n",
    "    '02 lengua glaciar': 'bfdadd',\n",
    "    '03 glaciar cubierto': 'b9bfbf',\n",
    "    '04 nieve': 'fe40fe',\n",
    "    '05 fiordo glaciar': '8ac1ff',\n",
    "    '06 mar': '0c407b',\n",
    "    '07 lago continental': '2e8da0',\n",
    "    '08 lago glaciar': '16b2d1',\n",
    "    '09 río': '27e1d8',\n",
    "    '10 suelo desnudo': 'eeb514',\n",
    "    '11 cárcavas erosión': '927012',\n",
    "    '12 suelo río': 'e98c0f',\n",
    "    '13 suelo duna/arenal': 'f7e8bd',\n",
    "    '14 caminos': '5b5b5b',\n",
    "    '15 suelo denudo': 'e57104',\n",
    "    '16 tuberas / musgos': '5d1412',\n",
    "    '17 mallín': '5d1412',\n",
    "    '19 áreas inundables':'161163', \n",
    "    '20 plantación adulto': 'fff300',\n",
    "    '23 ciudad urbano': 'ff0000',\n",
    "    '28 frutales':'d4e794',\n",
    "    '30 praderas pastoreo':'dee842', \n",
    "    '31 estepa abierta': 'ced118',\n",
    "    '32 estepa cerrada': '7a7c0f',\n",
    "    '33 palizales': 'c39700',\n",
    "    '34 preaderas': 'a1ff8a',\n",
    "    '35 matorrales densos': '138665',\n",
    "    '36 matorrales abiertos': '1bbd8e',\n",
    "    '39 primario adulto': '195a09',\n",
    "    '40 secundario adulto': '27c41d',\n",
    "    '43 renoval inicial': 'b2ff00',\n",
    "    '45 degradado': 'f36605',\n",
    "    '47 Primario adulto caduco':'7729db',\n",
    "    '48 Secundario adulto caduco': '9e60ec',\n",
    "    '56 sombra': '000000',\n",
    "    '57 Mixto Primario': '7000ff', \n",
    "    '58 Mixto secundario':'c598ff',\n",
    "    '60 Coníferas nativas': '00ff87',\n",
    "}\n",
    "\n",
    "Map14.add_legend(legend_title=\"Random Forest Test\", legend_dict=legend_dict)\n",
    "Map14.addLayer(img5,vizParams, 'Mosaico 2021' )\n",
    "Map14.addLayer(componentes,vizParamstess, 'Tesseled cap')\n",
    "Map14"
   ]
  },
  {
   "cell_type": "markdown",
   "id": "69b97f23",
   "metadata": {},
   "source": [
    "#### Comparación"
   ]
  },
  {
   "cell_type": "code",
   "execution_count": null,
   "id": "a66648b3",
   "metadata": {
    "ExecuteTime": {
     "end_time": "2022-02-03T12:52:20.055823Z",
     "start_time": "2022-02-03T12:52:20.054226Z"
    }
   },
   "outputs": [],
   "source": [
    "comp1= [img5, img5m]\n",
    "labels = [\n",
    "    'Mosaico QM',\n",
    "    'Mosaico Med']\n",
    "vis_params3=  [\n",
    "     vizParams, \n",
    "    vizParams]"
   ]
  },
  {
   "cell_type": "code",
   "execution_count": null,
   "id": "0a240656",
   "metadata": {
    "ExecuteTime": {
     "end_time": "2022-02-03T12:52:23.572115Z",
     "start_time": "2022-02-03T12:52:20.056635Z"
    }
   },
   "outputs": [],
   "source": [
    "geemap.linked_maps(rows=1, cols=2, height=\"400px\", center=[-45, -75], zoom=4, \n",
    "                   ee_objects=comp1, vis_params=vis_params3, labels=labels, label_position=\"topright\")"
   ]
  },
  {
   "cell_type": "code",
   "execution_count": null,
   "id": "96a55fc7",
   "metadata": {
    "ExecuteTime": {
     "end_time": "2022-02-03T12:52:23.574416Z",
     "start_time": "2022-02-03T12:52:23.572821Z"
    }
   },
   "outputs": [],
   "source": [
    "comp2= [landcover_QM,landcover_Med]\n",
    "labels = [\n",
    "    'Landcover QM',\n",
    "    'Landcover Med']\n",
    "vis_params4=  [\n",
    "     {}, \n",
    "     {}]"
   ]
  },
  {
   "cell_type": "code",
   "execution_count": null,
   "id": "1c07ad91",
   "metadata": {
    "ExecuteTime": {
     "end_time": "2022-02-03T12:52:40.867859Z",
     "start_time": "2022-02-03T12:52:23.575075Z"
    }
   },
   "outputs": [],
   "source": [
    "geemap.linked_maps(rows=1, cols=2, height=\"900px\", center=[-45, -75], zoom=4, \n",
    "                   ee_objects=comp2, vis_params=vis_params4, labels=labels, label_position=\"topright\")"
   ]
  },
  {
   "cell_type": "markdown",
   "id": "e80b449e",
   "metadata": {},
   "source": [
    "### Exportando"
   ]
  },
  {
   "cell_type": "code",
   "execution_count": null,
   "id": "f61a3d7d",
   "metadata": {
    "ExecuteTime": {
     "end_time": "2022-02-03T12:52:40.870243Z",
     "start_time": "2022-02-03T12:52:40.868594Z"
    }
   },
   "outputs": [],
   "source": [
    "transf=ee.Array([30, 0, 214185, 0, -30, -4825185])"
   ]
  },
  {
   "cell_type": "code",
   "execution_count": null,
   "id": "4c4da7ae",
   "metadata": {
    "ExecuteTime": {
     "end_time": "2022-02-03T12:52:41.105192Z",
     "start_time": "2022-02-03T12:52:40.870898Z"
    }
   },
   "outputs": [],
   "source": [
    "transf.getInfo()"
   ]
  },
  {
   "cell_type": "code",
   "execution_count": null,
   "id": "cceda41f",
   "metadata": {
    "ExecuteTime": {
     "end_time": "2022-02-03T12:52:41.108199Z",
     "start_time": "2022-02-03T12:52:41.106002Z"
    }
   },
   "outputs": [],
   "source": [
    "img5_B1 = img5.select(\"B1\")\n",
    "img5_B2 = img5.select(\"B2\")\n",
    "img5_B3 = img5.select(\"B3\")\n",
    "img5_B4 = img5.select(\"B4\")\n",
    "img5_B5 = img5.select(\"B5\")\n",
    "img5_B6 = img5.select(\"B6\")\n",
    "img5_B7 = img5.select(\"B7\")"
   ]
  },
  {
   "cell_type": "code",
   "execution_count": null,
   "id": "5bf824d7",
   "metadata": {
    "ExecuteTime": {
     "end_time": "2022-02-03T12:52:41.114083Z",
     "start_time": "2022-02-03T12:52:41.108941Z"
    }
   },
   "outputs": [],
   "source": [
    "task1 = ee.batch.Export.image.toDrive(**{\n",
    "    'image': img5_B1,\n",
    "    'description':'B1',\n",
    "    'folder':'exp2021_19s_full',\n",
    "    'region': geometry_exp.bounds(),\n",
    "    'scale':30,\n",
    "    'crsTransform':[30, 0, 214185, 0, -30, -4825185], \n",
    "    'crs':'EPSG:32719',\n",
    "    'maxPixels':1e13\n",
    "})\n",
    "task2 = ee.batch.Export.image.toDrive(**{\n",
    "    'image': img5_B2,\n",
    "    'description':'B2',\n",
    "    'folder':'exp2021_19s_full',\n",
    "    'region': geometry_exp.bounds(),\n",
    "    'scale':30,\n",
    "    'crsTransform':[30, 0, 214185, 0, -30, -4825185], \n",
    "    'crs':'EPSG:32719',\n",
    "    'maxPixels':1e13\n",
    "})\n",
    "task3 = ee.batch.Export.image.toDrive(**{\n",
    "    'image': img5_B3,\n",
    "    'description':'B3',\n",
    "    'folder':'exp2021_19s_full',\n",
    "    'region': geometry_exp.bounds(),\n",
    "    'scale':30,\n",
    "    'crsTransform':[30, 0, 214185, 0, -30, -4825185], \n",
    "    'crs':'EPSG:32719',\n",
    "    'maxPixels':1e13\n",
    "})\n",
    "task4 = ee.batch.Export.image.toDrive(**{\n",
    "    'image': img5_B4,\n",
    "    'description':'B4',\n",
    "    'folder':'exp2021_19s_full',\n",
    "    'region': geometry_exp.bounds(),\n",
    "    'scale':30,\n",
    "    'crsTransform':[30, 0, 214185, 0, -30, -4825185], \n",
    "    'crs':'EPSG:32719',\n",
    "    'maxPixels':1e13\n",
    "})\n",
    "task5 = ee.batch.Export.image.toDrive(**{\n",
    "    'image': img5_B5,\n",
    "    'description':'B5',\n",
    "    'folder':'exp2021_19s_full',\n",
    "    'region': geometry_exp.bounds(),\n",
    "    'scale':30,\n",
    "    'crsTransform':[30, 0, 214185, 0, -30, -4825185], \n",
    "    'crs':'EPSG:32719',\n",
    "    'maxPixels':1e13\n",
    "})\n",
    "task6 = ee.batch.Export.image.toDrive(**{\n",
    "    'image': img5_B6,\n",
    "    'description':'B6',\n",
    "    'folder':'exp2021_19s_full',\n",
    "    'region': geometry_exp.bounds(),\n",
    "    'scale':30,\n",
    "    'crsTransform':[30, 0, 214185, 0, -30, -4825185], \n",
    "    'crs':'EPSG:32719',\n",
    "    'maxPixels':1e13\n",
    "})\n",
    "task7 = ee.batch.Export.image.toDrive(**{\n",
    "    'image': img5_B7,\n",
    "    'description':'B7',\n",
    "    'folder':'exp2021_19s_full',\n",
    "    'region': geometry_exp.bounds(),\n",
    "    'scale':30,\n",
    "    'crsTransform':[30, 0, 214185, 0, -30, -4825185], \n",
    "    'crs':'EPSG:32719',\n",
    "    'maxPixels':1e13\n",
    "})"
   ]
  },
  {
   "cell_type": "code",
   "execution_count": null,
   "id": "dfee8042",
   "metadata": {
    "ExecuteTime": {
     "end_time": "2022-02-03T12:52:41.116430Z",
     "start_time": "2022-02-03T12:52:41.115114Z"
    }
   },
   "outputs": [],
   "source": [
    "# task1.start()\n",
    "# task2.start()\n",
    "# task3.start()\n",
    "# task4.start()\n",
    "# task5.start()\n",
    "# task6.start()\n",
    "# task7.start()"
   ]
  },
  {
   "cell_type": "code",
   "execution_count": null,
   "id": "0633aa27",
   "metadata": {
    "ExecuteTime": {
     "end_time": "2022-02-03T12:52:41.118726Z",
     "start_time": "2022-02-03T12:52:41.117145Z"
    }
   },
   "outputs": [],
   "source": [
    "brillo = componentes.select('brightness')\n",
    "greenness = componentes.select('greenness')\n",
    "wetness = componentes.select('wetness')\n",
    "# ['brightness','greenness','wetness','fourth','fifth','sixth']"
   ]
  },
  {
   "cell_type": "code",
   "execution_count": null,
   "id": "5cc31766",
   "metadata": {
    "ExecuteTime": {
     "end_time": "2022-02-03T12:52:41.122437Z",
     "start_time": "2022-02-03T12:52:41.119421Z"
    }
   },
   "outputs": [],
   "source": [
    "task8 = ee.batch.Export.image.toDrive(**{\n",
    "    'image': brillo,\n",
    "    'description':'brillo',\n",
    "    'folder':'exp2021_19s_full',\n",
    "    'region': geometry_exp.bounds(),\n",
    "    'scale':30,\n",
    "    'crsTransform':[30, 0, 214185, 0, -30, -4825185], \n",
    "    'crs':'EPSG:32719',\n",
    "    'maxPixels':1e13\n",
    "})\n",
    "task9 = ee.batch.Export.image.toDrive(**{\n",
    "    'image': greenness,\n",
    "    'description':'greenness',\n",
    "    'folder':'exp2021_19s_full',\n",
    "    'region': geometry_exp.bounds(),\n",
    "    'scale':30,\n",
    "    'crsTransform':[30, 0, 214185, 0, -30, -4825185], \n",
    "    'crs':'EPSG:32719',\n",
    "    'maxPixels':1e13\n",
    "})\n",
    "task10 = ee.batch.Export.image.toDrive(**{\n",
    "    'image': wetness,\n",
    "    'description':'wetness',\n",
    "    'folder':'exp2021_19s_full',\n",
    "    'region': geometry_exp.bounds(),\n",
    "    'scale':30,\n",
    "    'crsTransform':[30, 0, 214185, 0, -30, -4825185], \n",
    "    'crs':'EPSG:32719',\n",
    "    'maxPixels':1e13\n",
    "})"
   ]
  },
  {
   "cell_type": "code",
   "execution_count": null,
   "id": "056a7102",
   "metadata": {
    "ExecuteTime": {
     "end_time": "2022-02-03T12:52:41.124471Z",
     "start_time": "2022-02-03T12:52:41.123149Z"
    }
   },
   "outputs": [],
   "source": [
    "# task8.start()\n",
    "# task9.start()\n",
    "# task10.start()"
   ]
  },
  {
   "cell_type": "code",
   "execution_count": null,
   "id": "21943242",
   "metadata": {
    "ExecuteTime": {
     "end_time": "2022-02-03T12:52:41.126978Z",
     "start_time": "2022-02-03T12:52:41.125088Z"
    }
   },
   "outputs": [],
   "source": [
    "taskclas = ee.batch.Export.image.toDrive(**{\n",
    "    'image': landcover_QM,\n",
    "    'description':'landcover_2021_final',\n",
    "    'folder':'Landcover 2021',\n",
    "    'region': geometry_exp.bounds(),\n",
    "    'scale':30,\n",
    "    'crsTransform':[30, 0, 214185, 0, -30, -4825185], \n",
    "    'crs':'EPSG:32719',\n",
    "    'maxPixels':1e13\n",
    "})"
   ]
  },
  {
   "cell_type": "code",
   "execution_count": null,
   "id": "9af412b7",
   "metadata": {
    "ExecuteTime": {
     "end_time": "2022-02-03T12:52:41.129818Z",
     "start_time": "2022-02-03T12:52:41.128139Z"
    }
   },
   "outputs": [],
   "source": [
    "# taskclas.start()"
   ]
  }
 ],
 "metadata": {
  "kernelspec": {
   "display_name": "Python 3 (ipykernel)",
   "language": "python",
   "name": "python3"
  },
  "language_info": {
   "codemirror_mode": {
    "name": "ipython",
    "version": 3
   },
   "file_extension": ".py",
   "mimetype": "text/x-python",
   "name": "python",
   "nbconvert_exporter": "python",
   "pygments_lexer": "ipython3",
   "version": "3.8.12"
  },
  "toc": {
   "base_numbering": 1,
   "nav_menu": {},
   "number_sections": true,
   "sideBar": true,
   "skip_h1_title": false,
   "title_cell": "Table of Contents",
   "title_sidebar": "Contents",
   "toc_cell": false,
   "toc_position": {
    "height": "calc(100% - 180px)",
    "left": "10px",
    "top": "150px",
    "width": "384px"
   },
   "toc_section_display": true,
   "toc_window_display": true
  },
  "varInspector": {
   "cols": {
    "lenName": 16,
    "lenType": 16,
    "lenVar": 40
   },
   "kernels_config": {
    "python": {
     "delete_cmd_postfix": "",
     "delete_cmd_prefix": "del ",
     "library": "var_list.py",
     "varRefreshCmd": "print(var_dic_list())"
    },
    "r": {
     "delete_cmd_postfix": ") ",
     "delete_cmd_prefix": "rm(",
     "library": "var_list.r",
     "varRefreshCmd": "cat(var_dic_list()) "
    }
   },
   "types_to_exclude": [
    "module",
    "function",
    "builtin_function_or_method",
    "instance",
    "_Feature"
   ],
   "window_display": false
  }
 },
 "nbformat": 4,
 "nbformat_minor": 5
}
