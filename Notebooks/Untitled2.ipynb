{
 "cells": [
  {
   "cell_type": "code",
   "execution_count": 2,
   "id": "c3251f19-57bd-4616-868a-58446a5c04f0",
   "metadata": {},
   "outputs": [
    {
     "name": "stderr",
     "output_type": "stream",
     "text": [
      "C:\\Users\\USUARIO\\anaconda3\\envs\\gee\\lib\\site-packages\\scipy\\__init__.py:146: UserWarning: A NumPy version >=1.16.5 and <1.23.0 is required for this version of SciPy (detected version 1.23.1\n",
      "  warnings.warn(f\"A NumPy version >={np_minversion} and <{np_maxversion}\"\n"
     ]
    }
   ],
   "source": [
    "import ee \n",
    "import geemap\n",
    "import geemap.chart as chart\n",
    "import os\n",
    "import folium\n",
    "# import xarray_leaflet\n",
    "import rasterio \n",
    "from rasterio import plot\n",
    "import matplotlib.pyplot as plt\n",
    "import numpy as np\n",
    "import pandas as pd\n",
    "import seaborn as sns\n",
    "from scipy import stats\n",
    "from scipy.stats import pearsonr\n",
    "%matplotlib inline"
   ]
  },
  {
   "cell_type": "code",
   "execution_count": 3,
   "id": "5770472f-a59d-49b3-8594-36e6cb08464e",
   "metadata": {},
   "outputs": [
    {
     "data": {
      "text/html": [
       "<p>To authorize access needed by Earth Engine, open the following\n",
       "        URL in a web browser and follow the instructions:</p>\n",
       "        <p><a href=https://code.earthengine.google.com/client-auth?scopes=https%3A//www.googleapis.com/auth/earthengine%20https%3A//www.googleapis.com/auth/devstorage.full_control&request_id=ESk3_qPacZIHyn-SYdXxhQaeTlpnGi-_nY7Ks2U-nzA&tc=lgjGqsgUEFkG7GlfNQQ7towV1ss83P0E0z-Y7FXTq18&cc=b0TMYkOdp4qSAEHSjgRmjtS-AZpnjZsCm3MSDlunzD0>https://code.earthengine.google.com/client-auth?scopes=https%3A//www.googleapis.com/auth/earthengine%20https%3A//www.googleapis.com/auth/devstorage.full_control&request_id=ESk3_qPacZIHyn-SYdXxhQaeTlpnGi-_nY7Ks2U-nzA&tc=lgjGqsgUEFkG7GlfNQQ7towV1ss83P0E0z-Y7FXTq18&cc=b0TMYkOdp4qSAEHSjgRmjtS-AZpnjZsCm3MSDlunzD0</a></p>\n",
       "        <p>The authorization workflow will generate a code, which you should paste in the box below.</p>\n",
       "        "
      ],
      "text/plain": [
       "<IPython.core.display.HTML object>"
      ]
     },
     "metadata": {},
     "output_type": "display_data"
    },
    {
     "name": "stdin",
     "output_type": "stream",
     "text": [
      "Enter verification code:  4/1ARtbsJqpQiCubD0qXoQEDsnpqaV1tC9wv_EuGVsSZARtvNL1jJn4oA-zJz8\n"
     ]
    },
    {
     "name": "stdout",
     "output_type": "stream",
     "text": [
      "\n",
      "Successfully saved authorization token.\n"
     ]
    },
    {
     "data": {
      "application/vnd.jupyter.widget-view+json": {
       "model_id": "dadc3bd3ce0a467989ed4c47d138edf6",
       "version_major": 2,
       "version_minor": 0
      },
      "text/plain": [
       "Map(center=[20, 0], controls=(WidgetControl(options=['position', 'transparent_bg'], widget=HBox(children=(Togg…"
      ]
     },
     "metadata": {},
     "output_type": "display_data"
    }
   ],
   "source": [
    "Map = geemap.Map()\n",
    "\n",
    "collection = (\n",
    "    ee.ImageCollection('MODIS/061/MOD13A2')\n",
    "    .filterDate('2015-01-01', '2019-12-31')\n",
    "    .select('NDVI')\n",
    ")\n",
    "\n",
    "image = collection.toBands()\n",
    "\n",
    "ndvi_vis = {\n",
    "    'min': 0.0,\n",
    "    'max': 9000.0,\n",
    "    'palette': 'ndvi',\n",
    "}\n",
    "\n",
    "Map.addLayer(image, {}, 'MODIS NDVI Time-series')\n",
    "Map.addLayer(image.select(0), ndvi_vis, 'First image')\n",
    "\n",
    "Map"
   ]
  },
  {
   "cell_type": "code",
   "execution_count": 4,
   "id": "51c47606-89a6-47e5-ba26-17c7cb958ee4",
   "metadata": {},
   "outputs": [
    {
     "data": {
      "text/plain": [
       "['2015-01-01',\n",
       " '2015-01-17',\n",
       " '2015-02-02',\n",
       " '2015-02-18',\n",
       " '2015-03-06',\n",
       " '2015-03-22',\n",
       " '2015-04-07',\n",
       " '2015-04-23',\n",
       " '2015-05-09',\n",
       " '2015-05-25',\n",
       " '2015-06-10',\n",
       " '2015-06-26',\n",
       " '2015-07-12',\n",
       " '2015-07-28',\n",
       " '2015-08-13',\n",
       " '2015-08-29',\n",
       " '2015-09-14',\n",
       " '2015-09-30',\n",
       " '2015-10-16',\n",
       " '2015-11-01',\n",
       " '2015-11-17',\n",
       " '2015-12-03',\n",
       " '2015-12-19',\n",
       " '2016-01-01',\n",
       " '2016-01-17',\n",
       " '2016-02-02',\n",
       " '2016-02-18',\n",
       " '2016-03-05',\n",
       " '2016-03-21',\n",
       " '2016-04-06',\n",
       " '2016-04-22',\n",
       " '2016-05-08',\n",
       " '2016-05-24',\n",
       " '2016-06-09',\n",
       " '2016-06-25',\n",
       " '2016-07-11',\n",
       " '2016-07-27',\n",
       " '2016-08-12',\n",
       " '2016-08-28',\n",
       " '2016-09-13',\n",
       " '2016-09-29',\n",
       " '2016-10-15',\n",
       " '2016-10-31',\n",
       " '2016-11-16',\n",
       " '2016-12-02',\n",
       " '2016-12-18',\n",
       " '2017-01-01',\n",
       " '2017-01-17',\n",
       " '2017-02-02',\n",
       " '2017-02-18',\n",
       " '2017-03-06',\n",
       " '2017-03-22',\n",
       " '2017-04-07',\n",
       " '2017-04-23',\n",
       " '2017-05-09',\n",
       " '2017-05-25',\n",
       " '2017-06-10',\n",
       " '2017-06-26',\n",
       " '2017-07-12',\n",
       " '2017-07-28',\n",
       " '2017-08-13',\n",
       " '2017-08-29',\n",
       " '2017-09-14',\n",
       " '2017-09-30',\n",
       " '2017-10-16',\n",
       " '2017-11-01',\n",
       " '2017-11-17',\n",
       " '2017-12-03',\n",
       " '2017-12-19',\n",
       " '2018-01-01',\n",
       " '2018-01-17',\n",
       " '2018-02-02',\n",
       " '2018-02-18',\n",
       " '2018-03-06',\n",
       " '2018-03-22',\n",
       " '2018-04-07',\n",
       " '2018-04-23',\n",
       " '2018-05-09',\n",
       " '2018-05-25',\n",
       " '2018-06-10',\n",
       " '2018-06-26',\n",
       " '2018-07-12',\n",
       " '2018-07-28',\n",
       " '2018-08-13',\n",
       " '2018-08-29',\n",
       " '2018-09-14',\n",
       " '2018-09-30',\n",
       " '2018-10-16',\n",
       " '2018-11-01',\n",
       " '2018-11-17',\n",
       " '2018-12-03',\n",
       " '2018-12-19',\n",
       " '2019-01-01',\n",
       " '2019-01-17',\n",
       " '2019-02-02',\n",
       " '2019-02-18',\n",
       " '2019-03-06',\n",
       " '2019-03-22',\n",
       " '2019-04-07',\n",
       " '2019-04-23',\n",
       " '2019-05-09',\n",
       " '2019-05-25',\n",
       " '2019-06-10',\n",
       " '2019-06-26',\n",
       " '2019-07-12',\n",
       " '2019-07-28',\n",
       " '2019-08-13',\n",
       " '2019-08-29',\n",
       " '2019-09-14',\n",
       " '2019-09-30',\n",
       " '2019-10-16',\n",
       " '2019-11-01',\n",
       " '2019-11-17',\n",
       " '2019-12-03',\n",
       " '2019-12-19']"
      ]
     },
     "execution_count": 4,
     "metadata": {},
     "output_type": "execute_result"
    }
   ],
   "source": [
    "dates = geemap.image_dates(collection).getInfo()\n",
    "dates"
   ]
  },
  {
   "cell_type": "code",
   "execution_count": 5,
   "id": "d12e5b64-0765-4f6a-9611-bf678a6a9c67",
   "metadata": {},
   "outputs": [
    {
     "data": {
      "text/plain": [
       "115"
      ]
     },
     "execution_count": 5,
     "metadata": {},
     "output_type": "execute_result"
    }
   ],
   "source": [
    "len(dates)"
   ]
  },
  {
   "cell_type": "code",
   "execution_count": 6,
   "id": "c95f969d-ad89-47f2-bab5-1c22b0936cea",
   "metadata": {},
   "outputs": [
    {
     "data": {
      "application/vnd.jupyter.widget-view+json": {
       "model_id": "dadc3bd3ce0a467989ed4c47d138edf6",
       "version_major": 2,
       "version_minor": 0
      },
      "text/plain": [
       "Map(bottom=754.0, center=[20, 0], controls=(WidgetControl(options=['position', 'transparent_bg'], widget=HBox(…"
      ]
     },
     "metadata": {},
     "output_type": "display_data"
    }
   ],
   "source": [
    "Map.set_plot_options(add_marker_cluster=True)\n",
    "Map.roi_reducer = ee.Reducer.mean()\n",
    "Map"
   ]
  },
  {
   "cell_type": "code",
   "execution_count": 7,
   "id": "6e60bad3-5d96-4a68-a57c-73afd6c6496d",
   "metadata": {},
   "outputs": [],
   "source": [
    "Map.extract_values_to_points('ndvi.csv')"
   ]
  },
  {
   "cell_type": "code",
   "execution_count": null,
   "id": "5747696e-47cb-4b89-9429-63dc612047ec",
   "metadata": {},
   "outputs": [],
   "source": [
    "Code Editor (JavaScript)\n",
    "\n",
    "// Define a MODIS surface reflectance composite.\n",
    "var modisSr = ee.ImageCollection('MODIS/006/MOD09A1')\n",
    "                  .filter(ee.Filter.date('2018-06-01', '2018-09-01'))\n",
    "                  .select(['sur_refl_b01', 'sur_refl_b02', 'sur_refl_b06'])\n",
    "                  .mean();\n",
    "\n",
    "// Define a region to calculate histogram for.\n",
    "var histRegion = ee.Geometry.Rectangle([-112.60, 40.60, -111.18, 41.22]);\n",
    "\n",
    "// Define the chart and print it to the console.\n",
    "var chart =\n",
    "    ui.Chart.image.histogram({image: modisSr, region: histRegion, scale: 500})\n",
    "        .setSeriesNames(['Red', 'NIR', 'SWIR'])\n",
    "        .setOptions({\n",
    "          title: 'MODIS SR Reflectance Histogram',\n",
    "          hAxis: {\n",
    "            title: 'Reflectance (scaled by 1e4)',\n",
    "            titleTextStyle: {italic: false, bold: true},\n",
    "          },\n",
    "          vAxis:\n",
    "              {title: 'Count', titleTextStyle: {italic: false, bold: true}},\n",
    "          colors: ['cf513e', '1d6b99', 'f0af07']\n",
    "        });\n",
    "print(chart);"
   ]
  }
 ],
 "metadata": {
  "kernelspec": {
   "display_name": "Python 3 (ipykernel)",
   "language": "python",
   "name": "python3"
  },
  "language_info": {
   "codemirror_mode": {
    "name": "ipython",
    "version": 3
   },
   "file_extension": ".py",
   "mimetype": "text/x-python",
   "name": "python",
   "nbconvert_exporter": "python",
   "pygments_lexer": "ipython3",
   "version": "3.9.13"
  }
 },
 "nbformat": 4,
 "nbformat_minor": 5
}
