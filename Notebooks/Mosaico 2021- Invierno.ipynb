{
 "cells": [
  {
   "cell_type": "markdown",
   "id": "c8ee7fef",
   "metadata": {},
   "source": [
    "# Mosaico 2021"
   ]
  },
  {
   "cell_type": "markdown",
   "id": "203f76ca",
   "metadata": {},
   "source": [
    "Script trabajado por Francisco Albornoz (2021-04-13) / Última modificación / Mosaicos Patagonia"
   ]
  },
  {
   "cell_type": "markdown",
   "id": "2fb5cdeb",
   "metadata": {},
   "source": [
    "2021-08-05 13:07:09 "
   ]
  },
  {
   "cell_type": "code",
   "execution_count": 1,
   "id": "3057c761",
   "metadata": {
    "ExecuteTime": {
     "end_time": "2022-08-30T15:20:14.710727Z",
     "start_time": "2022-08-30T15:20:13.377877Z"
    }
   },
   "outputs": [],
   "source": [
    "import ee\n",
    "import geemap\n",
    "import geemap.chart as chart\n",
    "import os\n",
    "import folium\n",
    "# import xarray_leaflet\n",
    "import rasterio \n",
    "from rasterio import plot\n",
    "import matplotlib.pyplot as plt\n",
    "import numpy as np\n",
    "%matplotlib inline"
   ]
  },
  {
   "cell_type": "code",
   "execution_count": 2,
   "id": "2b2e844c",
   "metadata": {
    "ExecuteTime": {
     "end_time": "2022-08-30T15:20:14.714925Z",
     "start_time": "2022-08-30T15:20:14.712916Z"
    }
   },
   "outputs": [],
   "source": [
    "# ee.Authenticate()"
   ]
  },
  {
   "cell_type": "markdown",
   "id": "1997eeb4",
   "metadata": {},
   "source": [
    "<img src=https://www.ecopaysen.cl/wp-content/uploads/2019/12/ecopaysen_marca_web.png>"
   ]
  },
  {
   "cell_type": "code",
   "execution_count": 3,
   "id": "fca49a56",
   "metadata": {
    "ExecuteTime": {
     "end_time": "2022-08-30T15:20:25.249346Z",
     "start_time": "2022-08-30T15:20:14.718049Z"
    }
   },
   "outputs": [],
   "source": [
    "Map = geemap.Map(center = [-45, -70], zoom = 4)\n",
    "Map1 = geemap.Map(center = [-45, -70], zoom = 4)\n",
    "Map2 = geemap.Map(center = [-45, -70], zoom = 4)\n",
    "Map3 = geemap.Map(center = [-45, -70], zoom = 4)\n",
    "Map4 = geemap.Map(center = [-45, -70], zoom = 4)\n",
    "Map5 = geemap.Map(center = [-45, -70], zoom = 4)\n",
    "Map6 = geemap.Map(center = [-45, -70], zoom = 4)\n",
    "Map7 = geemap.Map(center = [-45, -70], zoom = 4)\n",
    "Map8 = geemap.Map(center = [-45, -70], zoom = 4)\n",
    "Map9 = geemap.Map(center = [-45, -70], zoom = 4)\n",
    "Map10 = geemap.Map(center = [-45, -70], zoom = 4)\n",
    "Map11 = geemap.Map(center = [-45, -70], zoom = 4)\n",
    "Map12 = geemap.Map(center = [-45, -70], zoom = 4)\n",
    "Map13 = geemap.Map(center = [-45, -70], zoom = 4)\n",
    "Map14 = geemap.Map(center = [-45, -70], zoom = 4)\n",
    "Map15 = geemap.Map(center = [-45, -70], zoom = 4)"
   ]
  },
  {
   "cell_type": "markdown",
   "id": "f26fe1a2",
   "metadata": {},
   "source": [
    "## Área de Estudio"
   ]
  },
  {
   "cell_type": "code",
   "execution_count": 4,
   "id": "2aae613d",
   "metadata": {
    "ExecuteTime": {
     "end_time": "2022-08-30T15:20:27.041340Z",
     "start_time": "2022-08-30T15:20:25.252233Z"
    }
   },
   "outputs": [],
   "source": [
    "work_dir = os.path.expanduser('../Data/')\n",
    "patagonia = os.path.join(work_dir, 'patagonia_geo.shp')\n",
    "patagonia_grande = geemap.shp_to_ee(patagonia)\n",
    "tierra_fuego =os.path.join(work_dir, 'tierra_fuego.shp')\n",
    "tierra_fuego = geemap.shp_to_ee(tierra_fuego)"
   ]
  },
  {
   "cell_type": "code",
   "execution_count": 5,
   "id": "4dbbceda",
   "metadata": {
    "ExecuteTime": {
     "end_time": "2022-08-30T15:20:27.054112Z",
     "start_time": "2022-08-30T15:20:27.045337Z"
    }
   },
   "outputs": [],
   "source": [
    "geometry_exp = ee.Geometry.Polygon(\n",
    "        [[[-72.56281773604495, -33.81999514196144],\n",
    "          [-72.96381871260745, -35.294382843203024],\n",
    "          [-73.27692906416995, -35.25850698608905],\n",
    "          [-74.15583531416995, -38.13757615203617],\n",
    "          [-73.96357457198245, -38.16349478321529],\n",
    "          [-74.41603250978783, -39.59214901926122],\n",
    "          [-73.71840067385033, -39.70212049569608],\n",
    "          [-74.48057965994737, -41.961233926702086],\n",
    "          [-76.23199334221133, -46.599308425949715],\n",
    "          [-75.71838250236758, -46.6705186900265],\n",
    "          [-76.31583416780423, -48.08335993023956],\n",
    "          [-75.6739504332226, -48.17601084778724],\n",
    "          [-76.1812028986966, -49.3089458997328],\n",
    "          [-75.8516130549466, -49.35190435466257],\n",
    "          [-75.88182545729035, -49.42252520588146],\n",
    "          [-75.62776661939972, -49.4593908439046],\n",
    "          [-75.87838309772656, -50.0286830263256],\n",
    "          [-75.4746355391328, -50.08951678614621],\n",
    "          [-75.54325576346766, -50.23909657453096],\n",
    "          [-75.77780697097086, -50.76007049594944],\n",
    "          [-75.16119930495523, -50.84458853545005],\n",
    "          [-75.38504574050211, -51.344039508567974],\n",
    "          [-75.5541538866841, -51.71140521484993],\n",
    "          [-75.18336531246536, -51.75648162278235],\n",
    "          [-75.47788882049618, -52.3659753295982],\n",
    "          [-74.75894718310815, -52.46884703800526],\n",
    "          [-75.08565455837835, -53.06208069103826],\n",
    "          [-74.55801479059262, -53.126414996444055],\n",
    "          [-74.81690883977036, -53.6371915734125],\n",
    "          [-73.44408000172288, -53.83741753537409],\n",
    "          [-73.50862467945726, -53.95798563315933],\n",
    "          [-73.45231974781663, -53.967680681913386],\n",
    "          [-73.53197062672288, -54.11766576333605],\n",
    "          [-73.77219189508037, -54.57485104154676],\n",
    "          [-72.34049166499341, -54.77775087176573],\n",
    "          [-72.47759402717024, -55.03231503944354],\n",
    "          [-71.05285526571967, -55.24340674895388],\n",
    "          [-71.08306766806342, -55.29113504937561],\n",
    "          [-69.81960741798575, -55.47109132991434],\n",
    "          [-69.85119311134513, -55.51932330880519],\n",
    "          [-69.68227831642325, -55.544194128455445],\n",
    "          [-69.79214159767325, -55.75341614311607],\n",
    "          [-66.85410518726452, -56.21137383375629],\n",
    "          [-66.30968752348785, -55.25322454720416],\n",
    "          [-65.44176760161285, -55.378260612328376],\n",
    "          [-65.29222191220039, -55.084940556988364],\n",
    "          [-63.8145607793879, -55.29503930747886],\n",
    "          [-63.4410256231379, -54.559610949790994],\n",
    "          [-66.01731956845039, -54.18844646199444],\n",
    "          [-65.92942894345039, -53.97576673331468],\n",
    "          [-67.35765159970039, -53.77173637481835],\n",
    "          [-66.83490788218774, -52.56216102836118],\n",
    "          [-68.29059635875024, -52.351280557744616],\n",
    "          [-67.13664467133525, -49.5665018755825],\n",
    "          [-65.6891959408665, -49.77447361491692],\n",
    "          [-64.6040407061826, -46.886773053508534],\n",
    "          [-66.07346209290135, -46.670468623465915],\n",
    "          [-65.60651222417681, -45.29237148760689],\n",
    "          [-64.13159767339556, -45.51413819831776],\n",
    "          [-63.11762183127383, -42.44210625114028],\n",
    "          [-61.64820044455508, -42.65254570178212],\n",
    "          [-60.691700635610566, -39.58656313087865],\n",
    "          [-60.612049756704316, -39.597145764356114],\n",
    "          [-60.214053037778356, -38.26345264755797],\n",
    "          [-62.338430585556544, -37.86345563921212],\n",
    "          [-62.431814374619044, -38.13616213643378],\n",
    "          [-63.880475463562526, -37.8656239671591],\n",
    "          [-63.965619506531276, -38.12752037872568],\n",
    "          [-65.43863114657343, -37.86678770192114],\n",
    "          [-65.52652177157343, -38.12867996539086],\n",
    "          [-66.31753739657343, -37.98811028708228],\n",
    "          [-65.98609312949165, -36.82548737245019],\n",
    "          [-68.06866521074468, -36.43149799324939],\n",
    "          [-68.16204899980718, -36.70723234878123],\n",
    "          [-69.00250310136968, -36.55294237984414],\n",
    "          [-68.66838285254276, -35.38834808765389],\n",
    "          [-70.73190167990279, -35.008946233837705],\n",
    "          [-70.82528546896529, -35.29190694633577],\n",
    "          [-71.68771222677779, -35.11685679848462],\n",
    "          [-71.37460187521529, -33.95679291780399],\n",
    "          [-72.53365949240279, -33.733238932504804]]])"
   ]
  },
  {
   "cell_type": "markdown",
   "id": "fa8e2fea",
   "metadata": {},
   "source": [
    "## Colors Bars"
   ]
  },
  {
   "cell_type": "code",
   "execution_count": 6,
   "id": "1efebd11",
   "metadata": {
    "ExecuteTime": {
     "end_time": "2022-08-30T15:20:28.027732Z",
     "start_time": "2022-08-30T15:20:27.055543Z"
    }
   },
   "outputs": [],
   "source": [
    "import geemap.colormaps as cm"
   ]
  },
  {
   "cell_type": "code",
   "execution_count": 7,
   "id": "d159d70f",
   "metadata": {
    "ExecuteTime": {
     "end_time": "2022-08-30T15:20:28.032005Z",
     "start_time": "2022-08-30T15:20:28.030262Z"
    }
   },
   "outputs": [],
   "source": [
    "# cm.palettes.terrain"
   ]
  },
  {
   "cell_type": "code",
   "execution_count": 8,
   "id": "fe999a91",
   "metadata": {
    "ExecuteTime": {
     "end_time": "2022-08-30T15:20:28.035478Z",
     "start_time": "2022-08-30T15:20:28.033656Z"
    }
   },
   "outputs": [],
   "source": [
    "color_ndvi = cm.palettes.ndvi"
   ]
  },
  {
   "cell_type": "code",
   "execution_count": 9,
   "id": "05fb282a",
   "metadata": {
    "ExecuteTime": {
     "end_time": "2022-08-30T15:20:28.038530Z",
     "start_time": "2022-08-30T15:20:28.036859Z"
    }
   },
   "outputs": [],
   "source": [
    "color_ndwi = cm.palettes.ndwi"
   ]
  },
  {
   "cell_type": "code",
   "execution_count": 10,
   "id": "68161910",
   "metadata": {
    "ExecuteTime": {
     "end_time": "2022-08-30T15:20:28.041539Z",
     "start_time": "2022-08-30T15:20:28.039935Z"
    }
   },
   "outputs": [],
   "source": [
    "color_terrain = cm.palettes.terrain"
   ]
  },
  {
   "cell_type": "code",
   "execution_count": 11,
   "id": "8e99245f",
   "metadata": {
    "ExecuteTime": {
     "end_time": "2022-08-30T15:20:28.044783Z",
     "start_time": "2022-08-30T15:20:28.043049Z"
    }
   },
   "outputs": [],
   "source": [
    "color_glaciar = cm.palettes.PuBuGn_r"
   ]
  },
  {
   "cell_type": "code",
   "execution_count": 12,
   "id": "92b8cf41",
   "metadata": {
    "ExecuteTime": {
     "end_time": "2022-08-30T15:20:28.047704Z",
     "start_time": "2022-08-30T15:20:28.046107Z"
    }
   },
   "outputs": [],
   "source": [
    "color_nubes = cm.palettes.inferno"
   ]
  },
  {
   "cell_type": "code",
   "execution_count": 13,
   "id": "39930741",
   "metadata": {
    "ExecuteTime": {
     "end_time": "2022-08-30T15:20:28.050697Z",
     "start_time": "2022-08-30T15:20:28.049133Z"
    }
   },
   "outputs": [],
   "source": [
    "# cm.list_colormaps()"
   ]
  },
  {
   "cell_type": "code",
   "execution_count": 14,
   "id": "0ce61cbe",
   "metadata": {
    "ExecuteTime": {
     "end_time": "2022-08-30T15:20:28.053659Z",
     "start_time": "2022-08-30T15:20:28.051993Z"
    }
   },
   "outputs": [],
   "source": [
    "# cm.plot_colormaps(width=12, height=0.4)"
   ]
  },
  {
   "cell_type": "markdown",
   "id": "11666045",
   "metadata": {},
   "source": [
    "## Funciones"
   ]
  },
  {
   "cell_type": "code",
   "execution_count": 15,
   "id": "166db170",
   "metadata": {
    "ExecuteTime": {
     "end_time": "2022-08-30T15:20:28.057485Z",
     "start_time": "2022-08-30T15:20:28.054765Z"
    }
   },
   "outputs": [],
   "source": [
    "def add_ee_layer(self, ee_image_object, vis_params, name):\n",
    "  map_id_dict = ee.Image(ee_image_object).getMapId(vis_params)\n",
    "  folium.raster_layers.TileLayer(\n",
    "      tiles=map_id_dict['tile_fetcher'].url_format,\n",
    "      attr='Map Data &copy; <a href=\"https://earthengine.google.com/\">Google Earth Engine</a>',\n",
    "      name=name,\n",
    "      overlay=True,\n",
    "      control=True\n",
    "  ).add_to(self)\n",
    "\n",
    "folium.Map.add_ee_layer = add_ee_layer"
   ]
  },
  {
   "cell_type": "code",
   "execution_count": 16,
   "id": "b9e1cdaf",
   "metadata": {
    "ExecuteTime": {
     "end_time": "2022-08-30T15:20:28.060652Z",
     "start_time": "2022-08-30T15:20:28.058800Z"
    }
   },
   "outputs": [],
   "source": [
    "def addNDVI(image): \n",
    "    ndvi = image.normalizedDifference(['B5', 'B4']).rename('NDVI')\n",
    "    return image.addBands(ndvi)"
   ]
  },
  {
   "cell_type": "code",
   "execution_count": 17,
   "id": "38d6d83b",
   "metadata": {
    "ExecuteTime": {
     "end_time": "2022-08-30T15:20:28.064063Z",
     "start_time": "2022-08-30T15:20:28.061904Z"
    }
   },
   "outputs": [],
   "source": [
    "def addEVI(image):\n",
    "    evi = image.expression(\n",
    "        '2.5*((b5 - b4)/(b5 + 6*b4 - 7.5*b2 + 1))', {\n",
    "            'b2':image.select('B2'),\n",
    "            'b4':image.select('B4'),\n",
    "            'b5':image.select('B5')\n",
    "        }) \n",
    "    evi = evi.rename('EVI')\n",
    "    return image.addBands(evi)"
   ]
  },
  {
   "cell_type": "code",
   "execution_count": 18,
   "id": "c1460ac9",
   "metadata": {
    "ExecuteTime": {
     "end_time": "2022-08-30T15:20:28.067289Z",
     "start_time": "2022-08-30T15:20:28.065395Z"
    }
   },
   "outputs": [],
   "source": [
    "def addNDBI(image):\n",
    "    ndbi = image.normalizedDifference(['B6','B5']).rename('NDBI')\n",
    "    return image.addBands(ndbi)"
   ]
  },
  {
   "cell_type": "code",
   "execution_count": 19,
   "id": "4c83d08e",
   "metadata": {
    "ExecuteTime": {
     "end_time": "2022-08-30T15:20:28.070322Z",
     "start_time": "2022-08-30T15:20:28.068477Z"
    }
   },
   "outputs": [],
   "source": [
    "def addNDVI2(image): \n",
    "    ndvi = image.normalizedDifference(['B5', 'B4']).rename('NDVI2')\n",
    "    return image.addBands(ndvi)"
   ]
  },
  {
   "cell_type": "code",
   "execution_count": 20,
   "id": "ad105a37",
   "metadata": {
    "ExecuteTime": {
     "end_time": "2022-08-30T15:20:28.073473Z",
     "start_time": "2022-08-30T15:20:28.071614Z"
    }
   },
   "outputs": [],
   "source": [
    "def addNDWI(image):\n",
    "    ndwi = image.normalizedDifference(['B3','B5']).rename('NDWI')\n",
    "    return image.addBands(ndwi)"
   ]
  },
  {
   "cell_type": "code",
   "execution_count": 21,
   "id": "afd5a921",
   "metadata": {
    "ExecuteTime": {
     "end_time": "2022-08-30T15:20:28.076814Z",
     "start_time": "2022-08-30T15:20:28.074776Z"
    }
   },
   "outputs": [],
   "source": [
    "def addNDGI(image):\n",
    "    ndgi = image.normalizedDifference(['B3','B4']).rename('NDGI')\n",
    "    return image.addBands(ndgi)"
   ]
  },
  {
   "cell_type": "code",
   "execution_count": 22,
   "id": "786770f8",
   "metadata": {
    "ExecuteTime": {
     "end_time": "2022-08-30T15:20:28.080125Z",
     "start_time": "2022-08-30T15:20:28.078123Z"
    }
   },
   "outputs": [],
   "source": [
    "def addSAVI(image):\n",
    "    savi = image.expression(\n",
    "        '((b5 - b4)/(b5 + b4 + 0.5))*1.5', {\n",
    "            'b4':image.select('B4'),\n",
    "            'b5':image.select('B5')\n",
    "        }) \n",
    "    savi= savi.rename('SAVI')\n",
    "    return image.addBands(savi)"
   ]
  },
  {
   "cell_type": "code",
   "execution_count": 23,
   "id": "cffb72aa",
   "metadata": {
    "ExecuteTime": {
     "end_time": "2022-08-30T15:20:28.083241Z",
     "start_time": "2022-08-30T15:20:28.081320Z"
    }
   },
   "outputs": [],
   "source": [
    "def addNDSI(image):\n",
    "    ndsi = image.normalizedDifference(['B3','B6']).rename('NDSI')\n",
    "    return image.addBands(ndsi)"
   ]
  },
  {
   "cell_type": "code",
   "execution_count": 24,
   "id": "4889cabe",
   "metadata": {
    "ExecuteTime": {
     "end_time": "2022-08-30T15:20:28.086495Z",
     "start_time": "2022-08-30T15:20:28.084520Z"
    }
   },
   "outputs": [],
   "source": [
    "def addDate(image):\n",
    "    img_date = ee.Date(image.date())\n",
    "    img_date = ee.Number.parse(img_date.format('YYYYMMdd'))\n",
    "    return image.addBands(ee.Image(img_date).rename('date').toInt())"
   ]
  },
  {
   "cell_type": "code",
   "execution_count": 25,
   "id": "04720d6b",
   "metadata": {
    "ExecuteTime": {
     "end_time": "2022-08-30T15:20:28.092600Z",
     "start_time": "2022-08-30T15:20:28.090617Z"
    }
   },
   "outputs": [],
   "source": [
    "def Cloud40(image):\n",
    "    scored = ee.Algorithms.Landsat.simpleCloudScore(image)\n",
    "    return image.updateMask(scored.select(['cloud']).lt(40)) "
   ]
  },
  {
   "cell_type": "code",
   "execution_count": 26,
   "id": "3115c210",
   "metadata": {
    "ExecuteTime": {
     "end_time": "2022-08-30T15:20:28.095866Z",
     "start_time": "2022-08-30T15:20:28.094005Z"
    }
   },
   "outputs": [],
   "source": [
    "def Cloud30(image):\n",
    "    scored = ee.Algorithms.Landsat.simpleCloudScore(image)\n",
    "    return image.updateMask(scored.select(['cloud']).lt(30)) "
   ]
  },
  {
   "cell_type": "code",
   "execution_count": 27,
   "id": "f86cf507",
   "metadata": {
    "ExecuteTime": {
     "end_time": "2022-08-30T15:20:28.099090Z",
     "start_time": "2022-08-30T15:20:28.097227Z"
    }
   },
   "outputs": [],
   "source": [
    "def Cloud20(image):\n",
    "    scored = ee.Algorithms.Landsat.simpleCloudScore(image)\n",
    "    return image.updateMask(scored.select(['cloud']).lt(20)) "
   ]
  },
  {
   "cell_type": "code",
   "execution_count": 28,
   "id": "9d288b40",
   "metadata": {
    "ExecuteTime": {
     "end_time": "2022-08-30T15:20:28.102166Z",
     "start_time": "2022-08-30T15:20:28.100352Z"
    }
   },
   "outputs": [],
   "source": [
    "def Cloud10(image):\n",
    "    scored = ee.Algorithms.Landsat.simpleCloudScore(image)\n",
    "    return image.updateMask(scored.select(['cloud']).lt(10))"
   ]
  },
  {
   "cell_type": "code",
   "execution_count": 29,
   "id": "92d6ba1b",
   "metadata": {
    "ExecuteTime": {
     "end_time": "2022-08-30T15:20:28.105416Z",
     "start_time": "2022-08-30T15:20:28.103536Z"
    }
   },
   "outputs": [],
   "source": [
    "def addCloud(image):\n",
    "    nube = ee.Algorithms.Landsat.simpleCloudScore(image)\n",
    "    return image.addBands(ee.Image(nube.select(['cloud'])).rename('nube'))"
   ]
  },
  {
   "cell_type": "code",
   "execution_count": 30,
   "id": "4eb69ead",
   "metadata": {
    "ExecuteTime": {
     "end_time": "2022-08-30T15:20:28.109733Z",
     "start_time": "2022-08-30T15:20:28.106671Z"
    }
   },
   "outputs": [],
   "source": [
    "def find_closest(target_image, image_col, days):\n",
    "    \"\"\"Filter images in a collection by date proximity and spatial intersection to a target image.\n",
    "\n",
    "    Args:\n",
    "        target_image: An ee.Image whose observation date is used to find near-date images in\n",
    "          the provided image_col image collection. It must have a 'system:time_start' property.\n",
    "        image_col: An ee.ImageCollection to filter by date proximity and spatial intersection\n",
    "          to the target_image. Each image in the collection must have a 'system:time_start'\n",
    "          property.\n",
    "        days: A number that defines the maximum number of days difference allowed between\n",
    "          the target_image and images in the image_col.\n",
    "\n",
    "    Returns:\n",
    "        An ee.ImageCollection that has been filtered to include those images that are within the\n",
    "          given date proximity to target_image and intersect it spatially.\n",
    "    \"\"\"\n",
    "\n",
    "    # Compute the timespan for N days (in milliseconds).\n",
    "    range = ee.Number(days).multiply(1000 * 60 * 60 * 24)\n",
    "\n",
    "    filter = ee.Filter.And(\n",
    "        ee.Filter.maxDifference(range, 'system:time_start', None, 'system:time_start'),\n",
    "        ee.Filter.intersects('.geo', None, '.geo'))\n",
    "\n",
    "    closest = (ee.Join.saveAll('matches', 'measure')\n",
    "        .apply(ee.ImageCollection([target_image]), image_col, filter))\n",
    "\n",
    "    return ee.ImageCollection(ee.List(closest.first().get('matches')))"
   ]
  },
  {
   "cell_type": "code",
   "execution_count": 31,
   "id": "b54bde64",
   "metadata": {
    "ExecuteTime": {
     "end_time": "2022-08-30T15:20:28.113183Z",
     "start_time": "2022-08-30T15:20:28.111258Z"
    }
   },
   "outputs": [],
   "source": [
    "vizParams = {\n",
    "  'bands': ['B5', 'B4', 'B3'],\n",
    "  'min': 0,\n",
    "  'max': 0.5,\n",
    "  'gamma': [0.95, 1.1, 1]\n",
    "}"
   ]
  },
  {
   "cell_type": "code",
   "execution_count": 32,
   "id": "71bcb153",
   "metadata": {
    "ExecuteTime": {
     "end_time": "2022-08-30T15:20:28.116299Z",
     "start_time": "2022-08-30T15:20:28.114511Z"
    }
   },
   "outputs": [],
   "source": [
    "vizParams_m = {\n",
    "  'bands': ['B5', 'B4', 'B3'],\n",
    "  'min': 0,\n",
    "  'max': 0.6,\n",
    "  'gamma': [1, 1, 1]\n",
    "}"
   ]
  },
  {
   "cell_type": "code",
   "execution_count": 33,
   "id": "aa02e8e2",
   "metadata": {
    "ExecuteTime": {
     "end_time": "2022-08-30T15:20:28.119397Z",
     "start_time": "2022-08-30T15:20:28.117559Z"
    }
   },
   "outputs": [],
   "source": [
    "vis_nieve = {\n",
    "  'bands': ['B6', 'B4', 'B3'],\n",
    "  'min': 0,\n",
    "  'max': 0.5,\n",
    "  'gamma': [0.95, 1.1, 1]\n",
    "}"
   ]
  },
  {
   "cell_type": "markdown",
   "id": "d9a442fb",
   "metadata": {},
   "source": [
    "## Colecciones"
   ]
  },
  {
   "cell_type": "markdown",
   "id": "b853355f",
   "metadata": {},
   "source": [
    "### 2021 Invierno"
   ]
  },
  {
   "cell_type": "code",
   "execution_count": 34,
   "id": "550d462c",
   "metadata": {
    "ExecuteTime": {
     "end_time": "2022-08-30T15:20:28.122497Z",
     "start_time": "2022-08-30T15:20:28.120534Z"
    }
   },
   "outputs": [],
   "source": [
    "start_date = '2021-06-30'\n",
    "end_date = '2021-09-01'\n",
    "\n",
    "l8_2021 = ee.ImageCollection('LANDSAT/LC08/C01/T1_TOA') \\\n",
    "    .filterBounds(patagonia_grande) \\\n",
    "    .filterDate(start_date, end_date)  "
   ]
  },
  {
   "cell_type": "code",
   "execution_count": 35,
   "id": "8eeb0449",
   "metadata": {
    "ExecuteTime": {
     "end_time": "2022-08-30T15:20:28.128770Z",
     "start_time": "2022-08-30T15:20:28.123730Z"
    }
   },
   "outputs": [],
   "source": [
    "coleccion2021 = l8_2021.map(addNDVI).map(addNDWI).map(addNDGI).map(addSAVI).map(addNDSI).map(addNDBI).map(addEVI).map(addDate).map(addCloud)"
   ]
  },
  {
   "cell_type": "markdown",
   "id": "5d07b81d",
   "metadata": {},
   "source": [
    "### 2020 Invierno"
   ]
  },
  {
   "cell_type": "code",
   "execution_count": 36,
   "id": "0e0c1dfc",
   "metadata": {
    "ExecuteTime": {
     "end_time": "2022-08-30T15:20:28.131934Z",
     "start_time": "2022-08-30T15:20:28.129956Z"
    }
   },
   "outputs": [],
   "source": [
    "start_date = '2020-06-30'\n",
    "end_date = '2020-09-01'\n",
    "\n",
    "l8_2020 = ee.ImageCollection('LANDSAT/LC08/C01/T1_TOA') \\\n",
    "    .filterBounds(patagonia_grande) \\\n",
    "    .filterDate(start_date, end_date)  "
   ]
  },
  {
   "cell_type": "code",
   "execution_count": 37,
   "id": "74d427f9",
   "metadata": {
    "ExecuteTime": {
     "end_time": "2022-08-30T15:20:28.137688Z",
     "start_time": "2022-08-30T15:20:28.133161Z"
    }
   },
   "outputs": [],
   "source": [
    "coleccion2020 = l8_2020.map(addNDVI).map(addNDWI).map(addNDGI).map(addSAVI).map(addNDSI).map(addNDBI).map(addEVI).map(addDate).map(addCloud)"
   ]
  },
  {
   "cell_type": "code",
   "execution_count": 38,
   "id": "e660d316",
   "metadata": {
    "ExecuteTime": {
     "end_time": "2022-08-30T15:20:28.141145Z",
     "start_time": "2022-08-30T15:20:28.138988Z"
    }
   },
   "outputs": [],
   "source": [
    "NDVI_2020 = coleccion2020.qualityMosaic('NDVI')\n",
    "NDWI_2020 = coleccion2020.qualityMosaic('NDWI')\n",
    "SAVI_2020 = coleccion2020.qualityMosaic('SAVI')\n",
    "NDGI_2020 = coleccion2020.qualityMosaic('NDGI')\n",
    "NDSI_2020 = coleccion2020.qualityMosaic('NDSI')"
   ]
  },
  {
   "cell_type": "code",
   "execution_count": 39,
   "id": "2b71385b",
   "metadata": {
    "ExecuteTime": {
     "end_time": "2022-08-30T15:20:28.144830Z",
     "start_time": "2022-08-30T15:20:28.142476Z"
    }
   },
   "outputs": [],
   "source": [
    "c2020_sn = coleccion2020.map(Cloud10)\n",
    "NDVI_2020_sn = c2020_sn.qualityMosaic('NDVI')\n",
    "NDWI_2020_sn = c2020_sn.qualityMosaic('NDWI')\n",
    "SAVI_2020_sn = c2020_sn.qualityMosaic('SAVI')\n",
    "NDGI_2020_sn = c2020_sn.qualityMosaic('NDGI')\n",
    "NDSI_2020_sn = c2020_sn.qualityMosaic('NDSI')"
   ]
  },
  {
   "cell_type": "code",
   "execution_count": 40,
   "id": "e2ee17c2",
   "metadata": {
    "ExecuteTime": {
     "end_time": "2022-08-30T15:20:33.711316Z",
     "start_time": "2022-08-30T15:20:28.146157Z"
    }
   },
   "outputs": [
    {
     "data": {
      "application/vnd.jupyter.widget-view+json": {
       "model_id": "8393fded83684ee4b16f49e32568af6e",
       "version_major": 2,
       "version_minor": 0
      },
      "text/plain": [
       "Map(center=[-45, -70], controls=(WidgetControl(options=['position', 'transparent_bg'], widget=HBox(children=(T…"
      ]
     },
     "metadata": {},
     "output_type": "display_data"
    }
   ],
   "source": [
    "Map.addLayer(NDVI_2020_sn, vizParams, 'QMsn de NDVI 2020')\n",
    "Map.addLayer(NDVI_2020, vizParams, 'QM de NDVI 2020')\n",
    "Map.addLayer(NDWI_2020_sn, vizParams, 'QMsn de NDWI 2020')\n",
    "Map.addLayer(SAVI_2020_sn, vizParams, 'QMsn de SAVI 2020')\n",
    "Map.addLayer(NDGI_2020_sn, vis_nieve, 'QMsn de NDGI 2020')\n",
    "Map.addLayer(NDSI_2020_sn, vis_nieve, 'QMsn de NDSI 2020')\n",
    "Map"
   ]
  },
  {
   "cell_type": "code",
   "execution_count": 41,
   "id": "1994dbdf",
   "metadata": {
    "ExecuteTime": {
     "end_time": "2022-08-30T15:20:33.714507Z",
     "start_time": "2022-08-30T15:20:33.712608Z"
    }
   },
   "outputs": [],
   "source": [
    "NDVI_2020_l8 = NDVI_2020.set('SENSOR_ID', 'OLI_TIRS')"
   ]
  },
  {
   "cell_type": "code",
   "execution_count": 42,
   "id": "60a91aeb",
   "metadata": {
    "ExecuteTime": {
     "end_time": "2022-08-30T15:20:33.718165Z",
     "start_time": "2022-08-30T15:20:33.715579Z"
    }
   },
   "outputs": [],
   "source": [
    "cloud_2020_l8 = ee.Algorithms.Landsat.simpleCloudScore(NDVI_2020_l8)\n",
    "cloud_2020_l8 = cloud_2020_l8.select('cloud')"
   ]
  },
  {
   "cell_type": "code",
   "execution_count": 43,
   "id": "27740f8b",
   "metadata": {
    "ExecuteTime": {
     "end_time": "2022-08-30T15:20:33.721300Z",
     "start_time": "2022-08-30T15:20:33.719604Z"
    }
   },
   "outputs": [],
   "source": [
    "palette_nubes = ['#1a9850', '#66bd63', '#a6d96a', '#d9ef8b', '#fee08b', '#fdae61', '#f46d43', '#d73027']"
   ]
  },
  {
   "cell_type": "code",
   "execution_count": 44,
   "id": "613ea840",
   "metadata": {
    "ExecuteTime": {
     "end_time": "2022-08-30T15:20:33.724616Z",
     "start_time": "2022-08-30T15:20:33.722679Z"
    }
   },
   "outputs": [],
   "source": [
    "resultados= [cloud_2020_l8, NDVI_2020]\n",
    "vis_params2=  [\n",
    "    {'palette':palette_nubes}, \n",
    "    vizParams]\n",
    "labels = [\n",
    "    'Nubes 2020',\n",
    "    'QM NDVI 2020']"
   ]
  },
  {
   "cell_type": "code",
   "execution_count": 45,
   "id": "cb0d5f26",
   "metadata": {
    "ExecuteTime": {
     "end_time": "2022-08-30T15:20:33.727484Z",
     "start_time": "2022-08-30T15:20:33.725909Z"
    }
   },
   "outputs": [],
   "source": [
    "# geemap.linked_maps(rows=1, cols=2, height=\"400px\", center=[-45, -75], zoom=4, \n",
    "#                    ee_objects=resultados, vis_params=vis_params2, labels=labels, label_position=\"topright\")"
   ]
  },
  {
   "cell_type": "markdown",
   "id": "b8617200",
   "metadata": {},
   "source": [
    "### 2019 Invierno"
   ]
  },
  {
   "cell_type": "code",
   "execution_count": 46,
   "id": "0401d370",
   "metadata": {
    "ExecuteTime": {
     "end_time": "2022-08-30T15:20:33.730783Z",
     "start_time": "2022-08-30T15:20:33.728789Z"
    }
   },
   "outputs": [],
   "source": [
    "start_date = '2019-06-30'\n",
    "end_date = '2019-09-01'\n",
    "\n",
    "l8_2019 = ee.ImageCollection('LANDSAT/LC08/C01/T1_TOA') \\\n",
    "    .filterBounds(patagonia_grande) \\\n",
    "    .filterDate(start_date, end_date)"
   ]
  },
  {
   "cell_type": "markdown",
   "id": "811a0128",
   "metadata": {},
   "source": [
    "### 2018 Invierno"
   ]
  },
  {
   "cell_type": "code",
   "execution_count": 47,
   "id": "d756b623",
   "metadata": {
    "ExecuteTime": {
     "end_time": "2022-08-30T15:20:33.734009Z",
     "start_time": "2022-08-30T15:20:33.732115Z"
    }
   },
   "outputs": [],
   "source": [
    "start_date = '2018-06-30'\n",
    "end_date = '2018-09-01'\n",
    "\n",
    "l8_2018 = ee.ImageCollection('LANDSAT/LC08/C01/T1_TOA') \\\n",
    "    .filterBounds(patagonia_grande) \\\n",
    "    .filterDate(start_date, end_date)"
   ]
  },
  {
   "cell_type": "markdown",
   "id": "158f0bb1",
   "metadata": {},
   "source": [
    "### 2017 Invierno"
   ]
  },
  {
   "cell_type": "code",
   "execution_count": 48,
   "id": "2c2ce2a2",
   "metadata": {
    "ExecuteTime": {
     "end_time": "2022-08-30T15:20:33.737239Z",
     "start_time": "2022-08-30T15:20:33.735318Z"
    }
   },
   "outputs": [],
   "source": [
    "start_date = '2017-06-30'\n",
    "end_date = '2017-09-01'\n",
    "\n",
    "l8_2017 = ee.ImageCollection('LANDSAT/LC08/C01/T1_TOA') \\\n",
    "    .filterBounds(patagonia_grande) \\\n",
    "    .filterDate(start_date, end_date)"
   ]
  },
  {
   "cell_type": "markdown",
   "id": "ad28b803",
   "metadata": {},
   "source": [
    "### 2016 Invierno"
   ]
  },
  {
   "cell_type": "code",
   "execution_count": 49,
   "id": "1917c893",
   "metadata": {
    "ExecuteTime": {
     "end_time": "2022-08-30T15:20:33.740428Z",
     "start_time": "2022-08-30T15:20:33.738521Z"
    }
   },
   "outputs": [],
   "source": [
    "start_date = '2016-06-30'\n",
    "end_date = '2016-09-01'\n",
    "\n",
    "l8_2016 = ee.ImageCollection('LANDSAT/LC08/C01/T1_TOA') \\\n",
    "    .filterBounds(patagonia_grande) \\\n",
    "    .filterDate(start_date, end_date)"
   ]
  },
  {
   "cell_type": "markdown",
   "id": "d0a1318e",
   "metadata": {},
   "source": [
    "### 2021-2017 Colección "
   ]
  },
  {
   "cell_type": "code",
   "execution_count": 50,
   "id": "73e05438",
   "metadata": {
    "ExecuteTime": {
     "end_time": "2022-08-30T15:20:33.743641Z",
     "start_time": "2022-08-30T15:20:33.741662Z"
    }
   },
   "outputs": [],
   "source": [
    "filterwinter = ee.Filter.Or(\n",
    "    ee.Filter.date('2021-06-30','2021-09-01'),\n",
    "    ee.Filter.date('2020-06-30','2020-09-01'),\n",
    "    ee.Filter.date('2019-06-30','2019-09-01'),\n",
    "    ee.Filter.date('2018-06-30','2018-09-01')\n",
    ")"
   ]
  },
  {
   "cell_type": "code",
   "execution_count": 51,
   "id": "e3459c31",
   "metadata": {
    "ExecuteTime": {
     "end_time": "2022-08-30T15:20:33.746736Z",
     "start_time": "2022-08-30T15:20:33.744956Z"
    }
   },
   "outputs": [],
   "source": [
    "coleccion2021_2018 = ee.ImageCollection('LANDSAT/LC08/C01/T1_TOA') \\\n",
    "    .filterDate('2018-06-30', '2021-09-01') \\\n",
    "    .filter(filterwinter) \\\n",
    "    .filterBounds(patagonia_grande)"
   ]
  },
  {
   "cell_type": "code",
   "execution_count": 52,
   "id": "b84c22d9",
   "metadata": {
    "ExecuteTime": {
     "end_time": "2022-08-30T15:20:33.752766Z",
     "start_time": "2022-08-30T15:20:33.748083Z"
    }
   },
   "outputs": [],
   "source": [
    "l8_winter = coleccion2021_2018.map(addNDVI).map(addNDWI).map(addNDGI).map(addSAVI).map(addNDSI).map(addNDBI).map(addEVI).map(addDate).map(addCloud)"
   ]
  },
  {
   "cell_type": "code",
   "execution_count": 53,
   "id": "cbb613f8",
   "metadata": {
    "ExecuteTime": {
     "end_time": "2022-08-30T15:20:35.124628Z",
     "start_time": "2022-08-30T15:20:33.754212Z"
    },
    "scrolled": false
   },
   "outputs": [
    {
     "data": {
      "application/vnd.jupyter.widget-view+json": {
       "model_id": "c68eb05a44c94024b410fe0a5f52716d",
       "version_major": 2,
       "version_minor": 0
      },
      "text/plain": [
       "Map(center=[-45, -70], controls=(WidgetControl(options=['position', 'transparent_bg'], widget=HBox(children=(T…"
      ]
     },
     "metadata": {},
     "output_type": "display_data"
    }
   ],
   "source": [
    "Map2.addLayer(l8_winter.median(), vizParams, 'median')\n",
    "Map2 "
   ]
  },
  {
   "cell_type": "markdown",
   "id": "12cf11b9",
   "metadata": {},
   "source": [
    "### Tier 1\n"
   ]
  },
  {
   "cell_type": "code",
   "execution_count": 54,
   "id": "65f6e56e",
   "metadata": {
    "ExecuteTime": {
     "end_time": "2022-08-30T15:20:35.128634Z",
     "start_time": "2022-08-30T15:20:35.125871Z"
    }
   },
   "outputs": [],
   "source": [
    "Tier1_sn = l8_winter.map(Cloud10)"
   ]
  },
  {
   "cell_type": "code",
   "execution_count": 55,
   "id": "61a35ad7",
   "metadata": {
    "ExecuteTime": {
     "end_time": "2022-08-30T15:20:35.132393Z",
     "start_time": "2022-08-30T15:20:35.130065Z"
    }
   },
   "outputs": [],
   "source": [
    "QM_NDVI_T1 = Tier1_sn.qualityMosaic('NDVI')# Normalized difference vegetation Index\n",
    "QM_NDWI_T1 = Tier1_sn.qualityMosaic('NDWI') # Normalize difference water index\n",
    "QM_SAVI_T1 = Tier1_sn.qualityMosaic('SAVI') # Soil Adjusted Vegetation Index \n",
    "QM_NDGI_T1 = Tier1_sn.qualityMosaic('NDGI') # Normalized difference glacier index\n",
    "QM_NDSI_T1 = Tier1_sn.qualityMosaic('NDSI') # Normalized difference snow index"
   ]
  },
  {
   "cell_type": "code",
   "execution_count": 56,
   "id": "416683d4",
   "metadata": {
    "ExecuteTime": {
     "end_time": "2022-08-30T15:20:43.423082Z",
     "start_time": "2022-08-30T15:20:35.133712Z"
    }
   },
   "outputs": [
    {
     "data": {
      "application/vnd.jupyter.widget-view+json": {
       "model_id": "c68eb05a44c94024b410fe0a5f52716d",
       "version_major": 2,
       "version_minor": 0
      },
      "text/plain": [
       "Map(center=[-45, -70], controls=(WidgetControl(options=['position', 'transparent_bg'], widget=HBox(children=(T…"
      ]
     },
     "metadata": {},
     "output_type": "display_data"
    }
   ],
   "source": [
    "Map2.addLayer(QM_NDVI_T1, vizParams, 'QM de NDVI T1')\n",
    "Map2.addLayer(QM_NDWI_T1, vizParams, 'QM de NDWI T1')\n",
    "Map2.addLayer(QM_SAVI_T1, vizParams, 'QM de SAVI T1')\n",
    "Map2.addLayer(QM_NDGI_T1, vis_nieve, 'QM de NDGI T1')\n",
    "Map2.addLayer(QM_NDSI_T1, vis_nieve, 'QM de NDSI T1')\n",
    "\n",
    "Map2.addLayer(Tier1_sn.median(), vizParams, 'mediana de T1')\n",
    "Map2 "
   ]
  },
  {
   "cell_type": "markdown",
   "id": "5f58151c",
   "metadata": {},
   "source": [
    "### Tier 2"
   ]
  },
  {
   "cell_type": "code",
   "execution_count": 57,
   "id": "3f1efa8c",
   "metadata": {
    "ExecuteTime": {
     "end_time": "2022-08-30T15:20:43.426529Z",
     "start_time": "2022-08-30T15:20:43.424315Z"
    }
   },
   "outputs": [],
   "source": [
    "Tier2_sn = l8_winter.map(Cloud20)"
   ]
  },
  {
   "cell_type": "code",
   "execution_count": 58,
   "id": "888370aa",
   "metadata": {
    "ExecuteTime": {
     "end_time": "2022-08-30T15:20:43.430344Z",
     "start_time": "2022-08-30T15:20:43.428012Z"
    }
   },
   "outputs": [],
   "source": [
    "QM_NDVI_T2 = Tier2_sn.qualityMosaic('NDVI')# Normalized difference vegetation Index\n",
    "QM_NDWI_T2 = Tier2_sn.qualityMosaic('NDWI') # Normalize difference water index\n",
    "QM_SAVI_T2 = Tier2_sn.qualityMosaic('SAVI') # Soil Adjusted Vegetation Index \n",
    "QM_NDGI_T2 = Tier2_sn.qualityMosaic('NDGI') # Normalized difference glacier index\n",
    "QM_NDSI_T2 = Tier2_sn.qualityMosaic('NDSI') # Normalized difference snow index"
   ]
  },
  {
   "cell_type": "code",
   "execution_count": 59,
   "id": "bfe0fd96",
   "metadata": {
    "ExecuteTime": {
     "end_time": "2022-08-30T15:20:43.433172Z",
     "start_time": "2022-08-30T15:20:43.431645Z"
    }
   },
   "outputs": [],
   "source": [
    "# Map2.addLayer(QM_NDVI_T2, vizParams, 'QM de NDVI T2')\n",
    "# Map2.addLayer(QM_NDWI_T2, vizParams, 'QM de NDWI T2')\n",
    "# Map2.addLayer(QM_SAVI_T2, vizParams, 'QM de SAVI T2')\n",
    "# Map2.addLayer(QM_NDGI_T2, vis_nieve, 'QM de NDGI T2')\n",
    "# Map2.addLayer(QM_NDSI_T2, vis_nieve, 'QM de NDSI T2')\n",
    "# Map2 "
   ]
  },
  {
   "cell_type": "markdown",
   "id": "783d2e36",
   "metadata": {},
   "source": [
    "### Tier 3"
   ]
  },
  {
   "cell_type": "code",
   "execution_count": 60,
   "id": "cba970e0",
   "metadata": {
    "ExecuteTime": {
     "end_time": "2022-08-30T15:20:43.436269Z",
     "start_time": "2022-08-30T15:20:43.434321Z"
    }
   },
   "outputs": [],
   "source": [
    "Tier3_sn = l8_winter.map(Cloud30)"
   ]
  },
  {
   "cell_type": "code",
   "execution_count": 61,
   "id": "8a844166",
   "metadata": {
    "ExecuteTime": {
     "end_time": "2022-08-30T15:20:43.439620Z",
     "start_time": "2022-08-30T15:20:43.437474Z"
    }
   },
   "outputs": [],
   "source": [
    "QM_NDVI_T3 = Tier3_sn.qualityMosaic('NDVI')# Normalized difference vegetation Index\n",
    "QM_NDWI_T3 = Tier3_sn.qualityMosaic('NDWI') # Normalize difference water index\n",
    "QM_SAVI_T3 = Tier3_sn.qualityMosaic('SAVI') # Soil Adjusted Vegetation Index \n",
    "QM_NDGI_T3 = Tier3_sn.qualityMosaic('NDGI') # Normalized difference glacier index\n",
    "QM_NDSI_T3 = Tier3_sn.qualityMosaic('NDSI') # Normalized difference snow index"
   ]
  },
  {
   "cell_type": "markdown",
   "id": "b2453291",
   "metadata": {},
   "source": [
    "### Tier 4"
   ]
  },
  {
   "cell_type": "code",
   "execution_count": 62,
   "id": "7a204626",
   "metadata": {
    "ExecuteTime": {
     "end_time": "2022-08-30T15:20:43.442831Z",
     "start_time": "2022-08-30T15:20:43.440832Z"
    }
   },
   "outputs": [],
   "source": [
    "Tier4_sn = l8_winter.map(Cloud40)"
   ]
  },
  {
   "cell_type": "code",
   "execution_count": 63,
   "id": "7339980d",
   "metadata": {
    "ExecuteTime": {
     "end_time": "2022-08-30T15:20:43.446311Z",
     "start_time": "2022-08-30T15:20:43.444230Z"
    }
   },
   "outputs": [],
   "source": [
    "QM_NDVI_T4 = Tier4_sn.qualityMosaic('NDVI')# Normalized difference vegetation Index\n",
    "QM_NDWI_T4 = Tier4_sn.qualityMosaic('NDWI') # Normalize difference water index\n",
    "QM_SAVI_T4 = Tier4_sn.qualityMosaic('SAVI') # Soil Adjusted Vegetation Index \n",
    "QM_NDGI_T4 = Tier4_sn.qualityMosaic('NDGI') # Normalized difference glacier index\n",
    "QM_NDSI_T4 = Tier4_sn.qualityMosaic('NDSI') # Normalized difference snow index"
   ]
  },
  {
   "cell_type": "markdown",
   "id": "dd7d911d",
   "metadata": {},
   "source": [
    "## Indices por colección"
   ]
  },
  {
   "cell_type": "markdown",
   "id": "4ea0a4cd",
   "metadata": {},
   "source": [
    "### Índices 2021"
   ]
  },
  {
   "cell_type": "code",
   "execution_count": 64,
   "id": "426dfca0",
   "metadata": {
    "ExecuteTime": {
     "end_time": "2022-08-30T15:20:43.449228Z",
     "start_time": "2022-08-30T15:20:43.447643Z"
    }
   },
   "outputs": [],
   "source": [
    "# NDVI_2021 = NDVI_2021_sn.select('NDVI')\n",
    "# NDWI_2021 = NDWI_2021_sn.select('NDWI')\n",
    "# SAVI_2021 = SAVI_2021_sn.select('SAVI')\n",
    "# NDGI_2021 = NDGI_2021_sn.select('NDGI')\n",
    "# NDSI_2021 = NDSI_2021_sn.select('NDSI')\n"
   ]
  },
  {
   "cell_type": "code",
   "execution_count": 65,
   "id": "eaf84698",
   "metadata": {
    "ExecuteTime": {
     "end_time": "2022-08-30T15:20:43.452054Z",
     "start_time": "2022-08-30T15:20:43.450514Z"
    }
   },
   "outputs": [],
   "source": [
    "# Map9.addLayer(NDVI_2021, {'palette': color_terrain}, 'QMsn de NDVI 2021')\n",
    "# Map9.addLayer(NDWI_2021, {'palette': color_ndwi}, 'QMsn de NDWI 2021')\n",
    "# Map9.addLayer(SAVI_2021, {'palette': color_ndvi}, 'QMsn de SAVI 2021')\n",
    "# Map9.addLayer(NDGI_2021, {'palette': color_glaciar}, 'QMsn de NDGI 2021')\n",
    "# Map9.addLayer(NDSI_2021, {'palette': color_ndwi}, 'QMsn de NDSI 2021')\n",
    "# Map9"
   ]
  },
  {
   "cell_type": "markdown",
   "id": "1e0309e1",
   "metadata": {},
   "source": [
    "### Índices 2020"
   ]
  },
  {
   "cell_type": "code",
   "execution_count": 66,
   "id": "cc1253c0",
   "metadata": {
    "ExecuteTime": {
     "end_time": "2022-08-30T15:20:43.454846Z",
     "start_time": "2022-08-30T15:20:43.453345Z"
    }
   },
   "outputs": [],
   "source": [
    "# NDVI_2020 = NDVI_2020_sn.select('NDVI')\n",
    "# NDWI_2020 = NDWI_2020_sn.select('NDWI')\n",
    "# SAVI_2020 = SAVI_2020_sn.select('SAVI')\n",
    "# NDGI_2020 = NDGI_2020_sn.select('NDGI')\n",
    "# NDSI_2020 = NDSI_2020_sn.select('NDSI')"
   ]
  },
  {
   "cell_type": "code",
   "execution_count": 67,
   "id": "3e0524d7",
   "metadata": {
    "ExecuteTime": {
     "end_time": "2022-08-30T15:20:43.457643Z",
     "start_time": "2022-08-30T15:20:43.456076Z"
    }
   },
   "outputs": [],
   "source": [
    "# Map5.addLayer(NDVI_2020, {'palette': color_terrain}, 'QMsn de NDVI 2020')\n",
    "# Map5.addLayer(NDWI_2020, {'palette': color_ndwi}, 'QMsn de NDWI 2020')\n",
    "# Map5.addLayer(SAVI_2020, {'palette': color_ndvi}, 'QMsn de SAVI 2020')\n",
    "# Map5.addLayer(NDGI_2020, {'palette': color_glaciar}, 'QMsn de NDGI 2020')\n",
    "# Map5.addLayer(NDSI_2020, {'palette': color_ndwi}, 'QMsn de NDSI 2020')\n",
    "# Map5"
   ]
  },
  {
   "cell_type": "markdown",
   "id": "4aee56c9",
   "metadata": {},
   "source": [
    "### Índices 2019"
   ]
  },
  {
   "cell_type": "code",
   "execution_count": 68,
   "id": "4a0a2445",
   "metadata": {
    "ExecuteTime": {
     "end_time": "2022-08-30T15:20:43.460459Z",
     "start_time": "2022-08-30T15:20:43.458902Z"
    }
   },
   "outputs": [],
   "source": [
    "# NDVI_2019 = NDVI_2019_sn.select('NDVI')\n",
    "# NDWI_2019 = NDWI_2019_sn.select('NDWI')\n",
    "# SAVI_2019 = SAVI_2019_sn.select('SAVI')\n",
    "# NDGI_2019 = NDGI_2019_sn.select('NDGI')\n",
    "# NDSI_2019 = NDSI_2019_sn.select('NDSI')"
   ]
  },
  {
   "cell_type": "code",
   "execution_count": 69,
   "id": "144629ba",
   "metadata": {
    "ExecuteTime": {
     "end_time": "2022-08-30T15:20:43.463275Z",
     "start_time": "2022-08-30T15:20:43.461705Z"
    }
   },
   "outputs": [],
   "source": [
    "# Map6.addLayer(NDVI_2019, {'palette': color_terrain}, 'QMsn de NDVI 2019')\n",
    "# Map6.addLayer(NDWI_2019, {'palette': color_ndwi}, 'QMsn de NDWI 2019')\n",
    "# Map6.addLayer(SAVI_2019, {'palette': color_ndvi}, 'QMsn de SAVI 2019')\n",
    "# Map6.addLayer(NDGI_2019, {'palette': color_glaciar}, 'QMsn de NDGI 2019')\n",
    "# Map6.addLayer(NDSI_2019, {'palette': color_ndwi}, 'QMsn de NDSI 2019')\n",
    "# Map6"
   ]
  },
  {
   "cell_type": "markdown",
   "id": "e765cd19",
   "metadata": {},
   "source": [
    "### Índices 2018"
   ]
  },
  {
   "cell_type": "code",
   "execution_count": 70,
   "id": "b4275190",
   "metadata": {
    "ExecuteTime": {
     "end_time": "2022-08-30T15:20:43.466094Z",
     "start_time": "2022-08-30T15:20:43.464589Z"
    }
   },
   "outputs": [],
   "source": [
    "# NDVI_2018 = NDVI_2018_sn.select('NDVI')\n",
    "# NDWI_2018 = NDWI_2018_sn.select('NDWI')\n",
    "# SAVI_2018 = SAVI_2018_sn.select('SAVI')\n",
    "# NDGI_2018 = NDGI_2018_sn.select('NDGI')\n",
    "# NDSI_2018 = NDSI_2018_sn.select('NDSI')"
   ]
  },
  {
   "cell_type": "code",
   "execution_count": 71,
   "id": "977e42e9",
   "metadata": {
    "ExecuteTime": {
     "end_time": "2022-08-30T15:20:43.468735Z",
     "start_time": "2022-08-30T15:20:43.467204Z"
    }
   },
   "outputs": [],
   "source": [
    "# Map6.addLayer(NDVI_2018, {'palette': color_terrain}, 'QMsn de NDVI 2018')\n",
    "# Map6.addLayer(NDWI_2018, {'palette': color_ndwi}, 'QMsn de NDWI 2018')\n",
    "# Map6.addLayer(SAVI_2018, {'palette': color_ndvi}, 'QMsn de SAVI 2018')\n",
    "# Map6.addLayer(NDGI_2018, {'palette': color_glaciar}, 'QMsn de NDGI 2018')\n",
    "# Map6.addLayer(NDSI_2018, {'palette': color_ndwi}, 'QMsn de NDSI 2018')\n",
    "# Map6"
   ]
  },
  {
   "cell_type": "markdown",
   "id": "dd05e9e8",
   "metadata": {},
   "source": [
    "## Generación de Mosaico"
   ]
  },
  {
   "cell_type": "code",
   "execution_count": 72,
   "id": "8ae5098c",
   "metadata": {
    "ExecuteTime": {
     "end_time": "2022-08-30T15:20:43.471551Z",
     "start_time": "2022-08-30T15:20:43.469794Z"
    }
   },
   "outputs": [],
   "source": [
    "cloudest = l8_winter.qualityMosaic('nube')"
   ]
  },
  {
   "cell_type": "code",
   "execution_count": 73,
   "id": "9b229098",
   "metadata": {
    "ExecuteTime": {
     "end_time": "2022-08-30T15:20:43.474421Z",
     "start_time": "2022-08-30T15:20:43.472782Z"
    }
   },
   "outputs": [],
   "source": [
    "NDVI_2020_landsat = cloudest.set('SENSOR_ID', 'OLI_TIRS')"
   ]
  },
  {
   "cell_type": "code",
   "execution_count": 74,
   "id": "a98110ba",
   "metadata": {
    "ExecuteTime": {
     "end_time": "2022-08-30T15:20:43.477453Z",
     "start_time": "2022-08-30T15:20:43.475690Z"
    }
   },
   "outputs": [],
   "source": [
    "cloud_2020 = ee.Algorithms.Landsat.simpleCloudScore(NDVI_2020_landsat)"
   ]
  },
  {
   "cell_type": "code",
   "execution_count": 75,
   "id": "745b712d",
   "metadata": {
    "ExecuteTime": {
     "end_time": "2022-08-30T15:20:43.480536Z",
     "start_time": "2022-08-30T15:20:43.478720Z"
    }
   },
   "outputs": [],
   "source": [
    "cloud_2020 = cloud_2020.select('cloud')"
   ]
  },
  {
   "cell_type": "code",
   "execution_count": 76,
   "id": "3351dfe9",
   "metadata": {
    "ExecuteTime": {
     "end_time": "2022-08-30T15:20:43.483386Z",
     "start_time": "2022-08-30T15:20:43.481738Z"
    }
   },
   "outputs": [],
   "source": [
    "palette_nubes = ['#1a9850', '#d73027']"
   ]
  },
  {
   "cell_type": "code",
   "execution_count": 77,
   "id": "aa1c77e2",
   "metadata": {
    "ExecuteTime": {
     "end_time": "2022-08-30T15:20:43.486462Z",
     "start_time": "2022-08-30T15:20:43.484658Z"
    }
   },
   "outputs": [],
   "source": [
    "resultados= [cloud_2020, NDVI_2020_landsat]\n",
    "vis_params2=  [\n",
    "    {'palette':palette_nubes}, \n",
    "    vizParams]\n",
    "labels = [\n",
    "    'Nubes 2020',\n",
    "    'QM NDVI 2020']"
   ]
  },
  {
   "cell_type": "code",
   "execution_count": 78,
   "id": "28e91129",
   "metadata": {
    "ExecuteTime": {
     "end_time": "2022-08-30T15:20:46.530132Z",
     "start_time": "2022-08-30T15:20:43.487674Z"
    }
   },
   "outputs": [
    {
     "data": {
      "application/vnd.jupyter.widget-view+json": {
       "model_id": "8f1cf6e5df6a4a1cbf1f9d2a872bf9d1",
       "version_major": 2,
       "version_minor": 0
      },
      "text/plain": [
       "GridspecLayout(children=(Output(layout=Layout(grid_area='widget001')), Output(layout=Layout(grid_area='widget0…"
      ]
     },
     "metadata": {},
     "output_type": "display_data"
    }
   ],
   "source": [
    "geemap.linked_maps(rows=1, cols=2, height=\"400px\", center=[-45, -75], zoom=4, \n",
    "                   ee_objects=resultados, vis_params=vis_params2, labels=labels, label_position=\"topright\")"
   ]
  },
  {
   "cell_type": "code",
   "execution_count": 79,
   "id": "21067811",
   "metadata": {
    "ExecuteTime": {
     "end_time": "2022-08-30T15:20:47.825495Z",
     "start_time": "2022-08-30T15:20:46.539897Z"
    }
   },
   "outputs": [
    {
     "data": {
      "text/plain": [
       "['B1',\n",
       " 'B2',\n",
       " 'B3',\n",
       " 'B4',\n",
       " 'B5',\n",
       " 'B6',\n",
       " 'B7',\n",
       " 'B8',\n",
       " 'B9',\n",
       " 'B10',\n",
       " 'B11',\n",
       " 'BQA',\n",
       " 'NDVI',\n",
       " 'NDWI',\n",
       " 'NDGI',\n",
       " 'SAVI',\n",
       " 'NDSI',\n",
       " 'NDBI',\n",
       " 'EVI',\n",
       " 'date',\n",
       " 'nube']"
      ]
     },
     "execution_count": 79,
     "metadata": {},
     "output_type": "execute_result"
    }
   ],
   "source": [
    "QM_NDVI_T1.bandNames().getInfo()"
   ]
  },
  {
   "cell_type": "code",
   "execution_count": 80,
   "id": "93ea56bf",
   "metadata": {
    "ExecuteTime": {
     "end_time": "2022-08-30T15:20:47.828894Z",
     "start_time": "2022-08-30T15:20:47.826872Z"
    }
   },
   "outputs": [],
   "source": [
    "def llenado(image):\n",
    "    return image.where(cloud_2020.gt(10),QM_NDVI_T1)"
   ]
  },
  {
   "cell_type": "code",
   "execution_count": 81,
   "id": "8287934f",
   "metadata": {
    "ExecuteTime": {
     "end_time": "2022-08-30T15:20:47.831753Z",
     "start_time": "2022-08-30T15:20:47.829975Z"
    }
   },
   "outputs": [],
   "source": [
    "img1 = llenado(NDVI_2020)"
   ]
  },
  {
   "cell_type": "code",
   "execution_count": 82,
   "id": "0ea4ebed",
   "metadata": {
    "ExecuteTime": {
     "end_time": "2022-08-30T15:20:47.835054Z",
     "start_time": "2022-08-30T15:20:47.833040Z"
    }
   },
   "outputs": [],
   "source": [
    "img1_landsat = img1.set('SENSOR_ID', 'OLI_TIRS')\n",
    "cloud_img1 = ee.Algorithms.Landsat.simpleCloudScore(img1_landsat)\n",
    "cloud_img1 = cloud_img1.select('cloud')"
   ]
  },
  {
   "cell_type": "code",
   "execution_count": 83,
   "id": "84dbb2d4",
   "metadata": {
    "ExecuteTime": {
     "end_time": "2022-08-30T15:20:47.838193Z",
     "start_time": "2022-08-30T15:20:47.836350Z"
    }
   },
   "outputs": [],
   "source": [
    "resultados= [cloud_img1, img1]\n",
    "vis_params2=  [\n",
    "    {'palette':palette_nubes}, \n",
    "    vizParams]\n",
    "labels = [\n",
    "    'Nubes Mosaico 1',\n",
    "    'Mosaico 1']"
   ]
  },
  {
   "cell_type": "code",
   "execution_count": 84,
   "id": "f3c2a996",
   "metadata": {
    "ExecuteTime": {
     "end_time": "2022-08-30T15:20:50.934478Z",
     "start_time": "2022-08-30T15:20:47.839515Z"
    }
   },
   "outputs": [
    {
     "data": {
      "application/vnd.jupyter.widget-view+json": {
       "model_id": "769e972439e247ed9f427cd99de7e657",
       "version_major": 2,
       "version_minor": 0
      },
      "text/plain": [
       "GridspecLayout(children=(Output(layout=Layout(grid_area='widget001')), Output(layout=Layout(grid_area='widget0…"
      ]
     },
     "metadata": {},
     "output_type": "display_data"
    }
   ],
   "source": [
    "geemap.linked_maps(rows=1, cols=2, height=\"400px\", center=[-45, -75], zoom=4, \n",
    "                   ee_objects=resultados, vis_params=vis_params2, labels=labels, label_position=\"topright\")"
   ]
  },
  {
   "cell_type": "code",
   "execution_count": 85,
   "id": "9a243ac4",
   "metadata": {
    "ExecuteTime": {
     "end_time": "2022-08-30T15:20:50.937746Z",
     "start_time": "2022-08-30T15:20:50.935891Z"
    }
   },
   "outputs": [],
   "source": [
    "def llenado2(image):\n",
    "    return image.where(cloud_img1.gt(10), QM_NDVI_T2)"
   ]
  },
  {
   "cell_type": "code",
   "execution_count": 86,
   "id": "ada6d94e",
   "metadata": {
    "ExecuteTime": {
     "end_time": "2022-08-30T15:20:50.940714Z",
     "start_time": "2022-08-30T15:20:50.938890Z"
    }
   },
   "outputs": [],
   "source": [
    "img2 = llenado2(img1)"
   ]
  },
  {
   "cell_type": "code",
   "execution_count": 87,
   "id": "e3db0a52",
   "metadata": {
    "ExecuteTime": {
     "end_time": "2022-08-30T15:20:50.943933Z",
     "start_time": "2022-08-30T15:20:50.942024Z"
    }
   },
   "outputs": [],
   "source": [
    "img2_landsat = img2.set('SENSOR_ID', 'OLI_TIRS')\n",
    "cloud_img2 = ee.Algorithms.Landsat.simpleCloudScore(img2_landsat)\n",
    "cloud_img2 = cloud_img2.select('cloud')"
   ]
  },
  {
   "cell_type": "code",
   "execution_count": 88,
   "id": "42d22742",
   "metadata": {
    "ExecuteTime": {
     "end_time": "2022-08-30T15:20:50.946931Z",
     "start_time": "2022-08-30T15:20:50.945130Z"
    }
   },
   "outputs": [],
   "source": [
    "resultados= [cloud_img2, img2]\n",
    "vis_params2=  [\n",
    "    {'palette':palette_nubes}, \n",
    "    vizParams]\n",
    "labels = [\n",
    "    'Nubes Mosaico 2',\n",
    "    'Mosaico 2']"
   ]
  },
  {
   "cell_type": "code",
   "execution_count": 89,
   "id": "5bdcab8c",
   "metadata": {
    "ExecuteTime": {
     "end_time": "2022-08-30T15:20:50.949777Z",
     "start_time": "2022-08-30T15:20:50.948153Z"
    }
   },
   "outputs": [],
   "source": [
    "# geemap.linked_maps(rows=1, cols=2, height=\"400px\", center=[-45, -75], zoom=4, \n",
    "#                    ee_objects=resultados, vis_params=vis_params2, labels=labels, label_position=\"topright\")"
   ]
  },
  {
   "cell_type": "code",
   "execution_count": 90,
   "id": "ca5f91e2",
   "metadata": {
    "ExecuteTime": {
     "end_time": "2022-08-30T15:20:50.952694Z",
     "start_time": "2022-08-30T15:20:50.950977Z"
    }
   },
   "outputs": [],
   "source": [
    "def llenado3(image):\n",
    "    return image.where(cloud_img2.gt(10), QM_NDVI_T3)"
   ]
  },
  {
   "cell_type": "code",
   "execution_count": 91,
   "id": "f52fddee",
   "metadata": {
    "ExecuteTime": {
     "end_time": "2022-08-30T15:20:50.955608Z",
     "start_time": "2022-08-30T15:20:50.954012Z"
    }
   },
   "outputs": [],
   "source": [
    "img3 = llenado3(img2)"
   ]
  },
  {
   "cell_type": "code",
   "execution_count": 92,
   "id": "6d41d9d0",
   "metadata": {
    "ExecuteTime": {
     "end_time": "2022-08-30T15:20:50.958726Z",
     "start_time": "2022-08-30T15:20:50.956831Z"
    }
   },
   "outputs": [],
   "source": [
    "img3_landsat = img3.set('SENSOR_ID', 'OLI_TIRS')\n",
    "cloud_img3 = ee.Algorithms.Landsat.simpleCloudScore(img3_landsat)\n",
    "cloud_img3 = cloud_img3.select('cloud')"
   ]
  },
  {
   "cell_type": "code",
   "execution_count": 93,
   "id": "3a000d62",
   "metadata": {
    "ExecuteTime": {
     "end_time": "2022-08-30T15:20:50.961830Z",
     "start_time": "2022-08-30T15:20:50.960015Z"
    }
   },
   "outputs": [],
   "source": [
    "resultados= [cloud_img3, img3]\n",
    "vis_params2=  [\n",
    "    {'palette':palette_nubes}, \n",
    "    vizParams]\n",
    "labels = [\n",
    "    'Nubes Mosaico 3',\n",
    "    'Mosaico 3']"
   ]
  },
  {
   "cell_type": "code",
   "execution_count": 94,
   "id": "bf275ed6",
   "metadata": {
    "ExecuteTime": {
     "end_time": "2022-08-30T15:20:50.964593Z",
     "start_time": "2022-08-30T15:20:50.963098Z"
    }
   },
   "outputs": [],
   "source": [
    "# geemap.linked_maps(rows=1, cols=2, height=\"400px\", center=[-45, -75], zoom=4, \n",
    "#                    ee_objects=resultados, vis_params=vis_params2, labels=labels, label_position=\"topright\")"
   ]
  },
  {
   "cell_type": "code",
   "execution_count": 95,
   "id": "9d0daae9",
   "metadata": {
    "ExecuteTime": {
     "end_time": "2022-08-30T15:20:50.967496Z",
     "start_time": "2022-08-30T15:20:50.965802Z"
    }
   },
   "outputs": [],
   "source": [
    "def llenado4(image):\n",
    "    return image.where(cloud_img3.gt(10), QM_NDVI_T4)"
   ]
  },
  {
   "cell_type": "code",
   "execution_count": 96,
   "id": "d37f16d5",
   "metadata": {
    "ExecuteTime": {
     "end_time": "2022-08-30T15:20:50.970368Z",
     "start_time": "2022-08-30T15:20:50.968629Z"
    }
   },
   "outputs": [],
   "source": [
    "img4 = llenado4(img3)"
   ]
  },
  {
   "cell_type": "code",
   "execution_count": 97,
   "id": "540d60d8",
   "metadata": {
    "ExecuteTime": {
     "end_time": "2022-08-30T15:20:50.973463Z",
     "start_time": "2022-08-30T15:20:50.971478Z"
    }
   },
   "outputs": [],
   "source": [
    "img4_landsat = img4.set('SENSOR_ID', 'OLI_TIRS')\n",
    "cloud_img4 = ee.Algorithms.Landsat.simpleCloudScore(img4_landsat)\n",
    "cloud_img4 = cloud_img4.select('cloud')"
   ]
  },
  {
   "cell_type": "code",
   "execution_count": 98,
   "id": "3f0e9719",
   "metadata": {
    "ExecuteTime": {
     "end_time": "2022-08-30T15:20:50.976479Z",
     "start_time": "2022-08-30T15:20:50.974595Z"
    }
   },
   "outputs": [],
   "source": [
    "resultados= [cloud_img4, img4]\n",
    "vis_params2=  [\n",
    "    {'palette':palette_nubes}, \n",
    "    vizParams]\n",
    "labels = [\n",
    "    'Nubes Mosaico 4',\n",
    "    'Mosaico 4']"
   ]
  },
  {
   "cell_type": "code",
   "execution_count": 99,
   "id": "41d9a7b8",
   "metadata": {
    "ExecuteTime": {
     "end_time": "2022-08-30T15:20:50.979413Z",
     "start_time": "2022-08-30T15:20:50.977797Z"
    }
   },
   "outputs": [],
   "source": [
    "# geemap.linked_maps(rows=1, cols=2, height=\"400px\", center=[-45, -75], zoom=4, \n",
    "#                    ee_objects=resultados, vis_params=vis_params2, labels=labels, label_position=\"topright\")"
   ]
  },
  {
   "cell_type": "code",
   "execution_count": 100,
   "id": "0cccc52b",
   "metadata": {
    "ExecuteTime": {
     "end_time": "2022-08-30T15:20:50.982282Z",
     "start_time": "2022-08-30T15:20:50.980588Z"
    }
   },
   "outputs": [],
   "source": [
    "hansenImage = ee.Image('UMD/hansen/global_forest_change_2015')\n",
    "datamask = hansenImage.select('datamask')"
   ]
  },
  {
   "cell_type": "code",
   "execution_count": 101,
   "id": "2e6b728e",
   "metadata": {
    "ExecuteTime": {
     "end_time": "2022-08-30T15:20:50.985367Z",
     "start_time": "2022-08-30T15:20:50.983499Z"
    }
   },
   "outputs": [],
   "source": [
    "def llenado5(image):\n",
    "    return image.where(datamask.eq(2), QM_NDWI_T1)"
   ]
  },
  {
   "cell_type": "code",
   "execution_count": 102,
   "id": "eeac700c",
   "metadata": {
    "ExecuteTime": {
     "end_time": "2022-08-30T15:20:50.988337Z",
     "start_time": "2022-08-30T15:20:50.986643Z"
    }
   },
   "outputs": [],
   "source": [
    "img5 = llenado5(img4)"
   ]
  },
  {
   "cell_type": "code",
   "execution_count": 103,
   "id": "82202db6",
   "metadata": {
    "ExecuteTime": {
     "end_time": "2022-08-30T15:20:50.991147Z",
     "start_time": "2022-08-30T15:20:50.989550Z"
    }
   },
   "outputs": [],
   "source": [
    "img5_landsat = img5.set('SENSOR_ID', 'OLI_TIRS')"
   ]
  },
  {
   "cell_type": "code",
   "execution_count": 104,
   "id": "823a7e18",
   "metadata": {
    "ExecuteTime": {
     "end_time": "2022-08-30T15:20:50.994240Z",
     "start_time": "2022-08-30T15:20:50.992259Z"
    }
   },
   "outputs": [],
   "source": [
    "resultados= [img4, img5]\n",
    "labels = [\n",
    "    'Mosaico 4',\n",
    "    'Mosaico 5']\n",
    "vis_params3=  [\n",
    "     vizParams, \n",
    "    vizParams]"
   ]
  },
  {
   "cell_type": "code",
   "execution_count": 105,
   "id": "87c07712",
   "metadata": {
    "ExecuteTime": {
     "end_time": "2022-08-30T15:20:54.631705Z",
     "start_time": "2022-08-30T15:20:50.995412Z"
    }
   },
   "outputs": [
    {
     "data": {
      "application/vnd.jupyter.widget-view+json": {
       "model_id": "91a683e5532142ff87d9724b884c6fc8",
       "version_major": 2,
       "version_minor": 0
      },
      "text/plain": [
       "GridspecLayout(children=(Output(layout=Layout(grid_area='widget001')), Output(layout=Layout(grid_area='widget0…"
      ]
     },
     "metadata": {},
     "output_type": "display_data"
    }
   ],
   "source": [
    "geemap.linked_maps(rows=1, cols=2, height=\"400px\", center=[-45, -75], zoom=4, \n",
    "                   ee_objects=resultados, vis_params=vis_params3, labels=labels, label_position=\"topright\")"
   ]
  },
  {
   "cell_type": "code",
   "execution_count": 106,
   "id": "c76fddbf",
   "metadata": {
    "ExecuteTime": {
     "end_time": "2022-08-30T15:20:56.065988Z",
     "start_time": "2022-08-30T15:20:54.632861Z"
    }
   },
   "outputs": [
    {
     "data": {
      "text/plain": [
       "['B1',\n",
       " 'B2',\n",
       " 'B3',\n",
       " 'B4',\n",
       " 'B5',\n",
       " 'B6',\n",
       " 'B7',\n",
       " 'B8',\n",
       " 'B9',\n",
       " 'B10',\n",
       " 'B11',\n",
       " 'BQA',\n",
       " 'NDVI',\n",
       " 'NDWI',\n",
       " 'NDGI',\n",
       " 'SAVI',\n",
       " 'NDSI',\n",
       " 'NDBI',\n",
       " 'EVI',\n",
       " 'date',\n",
       " 'nube']"
      ]
     },
     "execution_count": 106,
     "metadata": {},
     "output_type": "execute_result"
    }
   ],
   "source": [
    "img4.bandNames().getInfo()"
   ]
  },
  {
   "cell_type": "code",
   "execution_count": 107,
   "id": "03e0049e",
   "metadata": {
    "ExecuteTime": {
     "end_time": "2022-08-30T15:20:57.421301Z",
     "start_time": "2022-08-30T15:20:56.067250Z"
    }
   },
   "outputs": [
    {
     "data": {
      "text/plain": [
       "['B1',\n",
       " 'B2',\n",
       " 'B3',\n",
       " 'B4',\n",
       " 'B5',\n",
       " 'B6',\n",
       " 'B7',\n",
       " 'B8',\n",
       " 'B9',\n",
       " 'B10',\n",
       " 'B11',\n",
       " 'BQA',\n",
       " 'NDVI',\n",
       " 'NDWI',\n",
       " 'NDGI',\n",
       " 'SAVI',\n",
       " 'NDSI',\n",
       " 'NDBI',\n",
       " 'EVI',\n",
       " 'date',\n",
       " 'nube']"
      ]
     },
     "execution_count": 107,
     "metadata": {},
     "output_type": "execute_result"
    }
   ],
   "source": [
    "img5.bandNames().getInfo()"
   ]
  },
  {
   "cell_type": "code",
   "execution_count": 108,
   "id": "20454023",
   "metadata": {
    "ExecuteTime": {
     "end_time": "2022-08-30T15:21:07.671326Z",
     "start_time": "2022-08-30T15:20:57.422541Z"
    }
   },
   "outputs": [
    {
     "data": {
      "application/vnd.jupyter.widget-view+json": {
       "model_id": "68923cf5f118491c9212c58ba3f88c63",
       "version_major": 2,
       "version_minor": 0
      },
      "text/plain": [
       "Map(center=[-45, -70], controls=(WidgetControl(options=['position', 'transparent_bg'], widget=HBox(children=(T…"
      ]
     },
     "metadata": {},
     "output_type": "display_data"
    }
   ],
   "source": [
    "Map10.addLayer(img4, vizParams, 'Mosaico 4')\n",
    "Map10.addLayer(img5, vizParams, 'Mosaico 5')\n",
    "Map10"
   ]
  },
  {
   "cell_type": "markdown",
   "id": "18c237e5",
   "metadata": {},
   "source": [
    "### Resultado Final"
   ]
  },
  {
   "cell_type": "code",
   "execution_count": 109,
   "id": "3e85d062",
   "metadata": {
    "ExecuteTime": {
     "end_time": "2022-08-30T15:21:09.412258Z",
     "start_time": "2022-08-30T15:21:07.672548Z"
    }
   },
   "outputs": [
    {
     "data": {
      "application/vnd.jupyter.widget-view+json": {
       "model_id": "68923cf5f118491c9212c58ba3f88c63",
       "version_major": 2,
       "version_minor": 0
      },
      "text/plain": [
       "Map(center=[-45, -70], controls=(WidgetControl(options=['position', 'transparent_bg'], widget=HBox(children=(T…"
      ]
     },
     "metadata": {},
     "output_type": "display_data"
    }
   ],
   "source": [
    "img5_b = img5.select(['B1','B2','B3','B4','B5','B6','B7'])\n",
    "Map10.addLayer(img5_b, vizParams, 'Mosaico 7bandas')\n",
    "Map10"
   ]
  },
  {
   "cell_type": "code",
   "execution_count": 110,
   "id": "f985c277",
   "metadata": {
    "ExecuteTime": {
     "end_time": "2022-08-30T15:21:09.415071Z",
     "start_time": "2022-08-30T15:21:09.413450Z"
    }
   },
   "outputs": [],
   "source": [
    "# type(img6)"
   ]
  },
  {
   "cell_type": "code",
   "execution_count": 111,
   "id": "3f26ae54",
   "metadata": {
    "ExecuteTime": {
     "end_time": "2022-08-30T15:21:09.418221Z",
     "start_time": "2022-08-30T15:21:09.416574Z"
    }
   },
   "outputs": [],
   "source": [
    "# img6.bandNames().getInfo()"
   ]
  },
  {
   "cell_type": "code",
   "execution_count": 112,
   "id": "9e384bfb",
   "metadata": {
    "ExecuteTime": {
     "end_time": "2022-08-30T15:21:09.421293Z",
     "start_time": "2022-08-30T15:21:09.419739Z"
    }
   },
   "outputs": [],
   "source": [
    "# colec7 = ee.ImageCollection(img7)"
   ]
  },
  {
   "cell_type": "code",
   "execution_count": 113,
   "id": "8bb269ec",
   "metadata": {
    "ExecuteTime": {
     "end_time": "2022-08-30T15:21:09.424039Z",
     "start_time": "2022-08-30T15:21:09.422521Z"
    }
   },
   "outputs": [],
   "source": [
    "# coleccion7 = colec7.map(addNDVI).map(addNDWI).map(addNDGI).map(addSAVI).map(addNDSI).map(addDate).map(addCloud)"
   ]
  },
  {
   "cell_type": "code",
   "execution_count": 114,
   "id": "67a2e0e2",
   "metadata": {
    "ExecuteTime": {
     "end_time": "2022-08-30T15:21:09.426990Z",
     "start_time": "2022-08-30T15:21:09.425151Z"
    }
   },
   "outputs": [],
   "source": [
    "property = 'date'"
   ]
  },
  {
   "cell_type": "code",
   "execution_count": 115,
   "id": "9fff05cd",
   "metadata": {
    "ExecuteTime": {
     "end_time": "2022-08-30T15:21:09.430994Z",
     "start_time": "2022-08-30T15:21:09.428264Z"
    }
   },
   "outputs": [],
   "source": [
    "options = {\"title\": 'Fechas Greenest 2021',\n",
    "          \"xlabel\": 'Date',\n",
    "          \"ylabel\": 'Pixel count',\n",
    "          \"colors\": ['#1d6b99']\n",
    "          }"
   ]
  },
  {
   "cell_type": "code",
   "execution_count": 116,
   "id": "1492f0d3",
   "metadata": {
    "ExecuteTime": {
     "end_time": "2022-08-30T15:21:09.433684Z",
     "start_time": "2022-08-30T15:21:09.432169Z"
    }
   },
   "outputs": [],
   "source": [
    "# muestra = img6.sample(patagonia_grande, 10000)"
   ]
  },
  {
   "cell_type": "code",
   "execution_count": 117,
   "id": "0ad9a685",
   "metadata": {
    "ExecuteTime": {
     "end_time": "2022-08-30T15:21:09.436736Z",
     "start_time": "2022-08-30T15:21:09.435113Z"
    }
   },
   "outputs": [],
   "source": [
    "# chart.feature_histogram(muestra, property, **options)"
   ]
  },
  {
   "cell_type": "code",
   "execution_count": 118,
   "id": "922e932e",
   "metadata": {
    "ExecuteTime": {
     "end_time": "2022-08-30T15:21:09.439531Z",
     "start_time": "2022-08-30T15:21:09.437984Z"
    }
   },
   "outputs": [],
   "source": [
    "# geemap.ee_export_image_to_drive(img5_b, description='mosaico_2021_m', folder='export', region=patagonia_grande.geometry(), scale=30)"
   ]
  },
  {
   "cell_type": "markdown",
   "id": "7267523f",
   "metadata": {},
   "source": [
    "### Tasseled cap"
   ]
  },
  {
   "cell_type": "code",
   "execution_count": 119,
   "id": "427e0fc3",
   "metadata": {
    "ExecuteTime": {
     "end_time": "2022-08-30T15:21:09.443131Z",
     "start_time": "2022-08-30T15:21:09.440821Z"
    }
   },
   "outputs": [],
   "source": [
    "coef = ee.Array([\n",
    "    [0.3029, 0.2786, 0.4733, 0.5599, 0.508, 0.1872], \n",
    "    [-0.2941, -0.243, -0.5424, 0.7276, 0.0713, -0.1608],\n",
    "    [0.1511, 0.1973, 0.3283, 0.3407, -0.7117, -0.4559],\n",
    "    [-0.8239, 0.0849, 0.4396, -0.058, 0.2013, -0.2773],\n",
    "    [-0.3294, 0.0557, 0.1056, 0.1855, -0.4349, 0.8085],\n",
    "    [0.1079, -0.9023, 0.4119, 0.0575, -0.0259, 0.0252]\n",
    "])"
   ]
  },
  {
   "cell_type": "code",
   "execution_count": 120,
   "id": "7ab0a347",
   "metadata": {
    "ExecuteTime": {
     "end_time": "2022-08-30T15:21:09.446008Z",
     "start_time": "2022-08-30T15:21:09.444211Z"
    }
   },
   "outputs": [],
   "source": [
    "tasse_img5 = img5.select(['B2', 'B3', 'B4', 'B5', 'B6', 'B7'])"
   ]
  },
  {
   "cell_type": "code",
   "execution_count": 121,
   "id": "9e34972d",
   "metadata": {
    "ExecuteTime": {
     "end_time": "2022-08-30T15:21:09.448730Z",
     "start_time": "2022-08-30T15:21:09.447130Z"
    }
   },
   "outputs": [],
   "source": [
    "arrayimage1d = tasse_img5.toArray()"
   ]
  },
  {
   "cell_type": "code",
   "execution_count": 122,
   "id": "3c3e3a70",
   "metadata": {
    "ExecuteTime": {
     "end_time": "2022-08-30T15:21:09.451576Z",
     "start_time": "2022-08-30T15:21:09.449917Z"
    }
   },
   "outputs": [],
   "source": [
    "arrayimage2d = arrayimage1d.toArray(1)"
   ]
  },
  {
   "cell_type": "code",
   "execution_count": 123,
   "id": "0ae9ab01",
   "metadata": {
    "ExecuteTime": {
     "end_time": "2022-08-30T15:21:09.454719Z",
     "start_time": "2022-08-30T15:21:09.452807Z"
    }
   },
   "outputs": [],
   "source": [
    "componentes = ee.Image(coef)\\\n",
    "                .matrixMultiply(arrayimage2d) \\\n",
    "                .arrayProject([0])\\\n",
    "                .arrayFlatten(\n",
    "                [['brightness','greenness','wetness','fourth','fifth','sixth']])"
   ]
  },
  {
   "cell_type": "code",
   "execution_count": 124,
   "id": "b058be26",
   "metadata": {
    "ExecuteTime": {
     "end_time": "2022-08-30T15:21:09.457848Z",
     "start_time": "2022-08-30T15:21:09.456025Z"
    }
   },
   "outputs": [],
   "source": [
    "vizParamstess = {\n",
    "  'bands': ['brightness', 'greenness', 'wetness'],\n",
    "    'min': -0.1,\n",
    "    'max': [0.6, 0.2, 0.2]\n",
    "}\n"
   ]
  },
  {
   "cell_type": "code",
   "execution_count": 125,
   "id": "9dc2abf8",
   "metadata": {
    "ExecuteTime": {
     "end_time": "2022-08-30T15:21:10.903510Z",
     "start_time": "2022-08-30T15:21:09.459189Z"
    }
   },
   "outputs": [
    {
     "data": {
      "application/vnd.jupyter.widget-view+json": {
       "model_id": "68923cf5f118491c9212c58ba3f88c63",
       "version_major": 2,
       "version_minor": 0
      },
      "text/plain": [
       "Map(center=[-45, -70], controls=(WidgetControl(options=['position', 'transparent_bg'], widget=HBox(children=(T…"
      ]
     },
     "metadata": {},
     "output_type": "display_data"
    }
   ],
   "source": [
    "Map10.addLayer(componentes,vizParamstess, 'Tesseled cap')\n",
    "Map10"
   ]
  },
  {
   "cell_type": "code",
   "execution_count": 126,
   "id": "7bc09ac4",
   "metadata": {
    "ExecuteTime": {
     "end_time": "2022-08-30T15:21:10.906267Z",
     "start_time": "2022-08-30T15:21:10.904663Z"
    }
   },
   "outputs": [],
   "source": [
    "# task = ee.batch.Export.image.toAsset(**{\n",
    "#     'image': componentes ,\n",
    "#     'description':'Tasseled 2021',\n",
    "#     'assetId':'users/franciscoalbornoz/Tasseled_2021',\n",
    "#     'scale': 30,\n",
    "#     'maxPixels': 1e13\n",
    "# })"
   ]
  },
  {
   "cell_type": "code",
   "execution_count": 127,
   "id": "6e3983e0",
   "metadata": {
    "ExecuteTime": {
     "end_time": "2022-08-30T15:21:10.909225Z",
     "start_time": "2022-08-30T15:21:10.907528Z"
    }
   },
   "outputs": [],
   "source": [
    "# task.start()"
   ]
  },
  {
   "cell_type": "code",
   "execution_count": 128,
   "id": "8366f5c5",
   "metadata": {
    "ExecuteTime": {
     "end_time": "2022-08-30T15:21:10.912383Z",
     "start_time": "2022-08-30T15:21:10.910485Z"
    }
   },
   "outputs": [],
   "source": [
    "img_final = img5.select('B1','B2','B3','B4','B5','B6','B7','NDVI','NDWI','NDGI','SAVI','NDSI')\n",
    "img_final = img_final.addBands(componentes) "
   ]
  },
  {
   "cell_type": "markdown",
   "id": "c8f38c76",
   "metadata": {},
   "source": [
    "## Mosaicos Mediana"
   ]
  },
  {
   "cell_type": "code",
   "execution_count": 129,
   "id": "d5725d05",
   "metadata": {
    "ExecuteTime": {
     "end_time": "2022-08-30T15:21:10.915514Z",
     "start_time": "2022-08-30T15:21:10.913715Z"
    }
   },
   "outputs": [],
   "source": [
    "NDVI_2021_landsat_m = cloudest.set('SENSOR_ID', 'OLI_TIRS')"
   ]
  },
  {
   "cell_type": "code",
   "execution_count": 130,
   "id": "3ec3ce95",
   "metadata": {
    "ExecuteTime": {
     "end_time": "2022-08-30T15:21:10.918307Z",
     "start_time": "2022-08-30T15:21:10.916619Z"
    }
   },
   "outputs": [],
   "source": [
    "cloud_2021_m = ee.Algorithms.Landsat.simpleCloudScore(NDVI_2021_landsat_m)"
   ]
  },
  {
   "cell_type": "code",
   "execution_count": 131,
   "id": "1d06d4e6",
   "metadata": {
    "ExecuteTime": {
     "end_time": "2022-08-30T15:21:10.921209Z",
     "start_time": "2022-08-30T15:21:10.919583Z"
    }
   },
   "outputs": [],
   "source": [
    "cloud_2021_m = cloud_2021_m.select('cloud')"
   ]
  },
  {
   "cell_type": "code",
   "execution_count": 132,
   "id": "204cf196",
   "metadata": {
    "ExecuteTime": {
     "end_time": "2022-08-30T15:21:10.924148Z",
     "start_time": "2022-08-30T15:21:10.922410Z"
    }
   },
   "outputs": [],
   "source": [
    "palette_nubes = ['#1a9850', '#66bd63', '#a6d96a', '#d9ef8b', '#fee08b', '#fdae61', '#f46d43', '#d73027']"
   ]
  },
  {
   "cell_type": "code",
   "execution_count": 133,
   "id": "8c7e8e20",
   "metadata": {
    "ExecuteTime": {
     "end_time": "2022-08-30T15:21:10.927389Z",
     "start_time": "2022-08-30T15:21:10.925476Z"
    }
   },
   "outputs": [],
   "source": [
    "resultados= [cloud_2021_m, NDVI_2021_landsat_m]\n",
    "vis_params2=  [\n",
    "    {'palette':palette_nubes}, \n",
    "    vizParams]\n",
    "labels = [\n",
    "    'Nubes 2021',\n",
    "    'QM NDVI 2021']"
   ]
  },
  {
   "cell_type": "code",
   "execution_count": 134,
   "id": "37ff14a0",
   "metadata": {
    "ExecuteTime": {
     "end_time": "2022-08-30T15:21:10.930222Z",
     "start_time": "2022-08-30T15:21:10.928664Z"
    }
   },
   "outputs": [],
   "source": [
    "# geemap.linked_maps(rows=1, cols=2, height=\"400px\", center=[-45, -75], zoom=4, \n",
    "#                    ee_objects=resultados, vis_params=vis_params2, labels=labels, label_position=\"topright\")"
   ]
  },
  {
   "cell_type": "code",
   "execution_count": 135,
   "id": "dfb9ff31",
   "metadata": {
    "ExecuteTime": {
     "end_time": "2022-08-30T15:21:10.934188Z",
     "start_time": "2022-08-30T15:21:10.931572Z"
    }
   },
   "outputs": [],
   "source": [
    "def llenado(image):\n",
    "    return image.where(cloud_2021_m.gt(10),Tier1_sn.median())"
   ]
  },
  {
   "cell_type": "code",
   "execution_count": 136,
   "id": "fcc244dd",
   "metadata": {
    "ExecuteTime": {
     "end_time": "2022-08-30T15:21:10.937266Z",
     "start_time": "2022-08-30T15:21:10.935289Z"
    }
   },
   "outputs": [],
   "source": [
    "img1_m = llenado(cloudest)"
   ]
  },
  {
   "cell_type": "code",
   "execution_count": 137,
   "id": "5966e81c",
   "metadata": {
    "ExecuteTime": {
     "end_time": "2022-08-30T15:21:10.940519Z",
     "start_time": "2022-08-30T15:21:10.938584Z"
    }
   },
   "outputs": [],
   "source": [
    "img1_landsat_m = img1_m.set('SENSOR_ID', 'OLI_TIRS')\n",
    "cloud_img1_m = ee.Algorithms.Landsat.simpleCloudScore(img1_landsat_m)\n",
    "cloud_img1_m = cloud_img1_m.select('cloud')"
   ]
  },
  {
   "cell_type": "code",
   "execution_count": 138,
   "id": "cb935b42",
   "metadata": {
    "ExecuteTime": {
     "end_time": "2022-08-30T15:21:10.943628Z",
     "start_time": "2022-08-30T15:21:10.941753Z"
    }
   },
   "outputs": [],
   "source": [
    "img1_m = ee.Image(img1_m)"
   ]
  },
  {
   "cell_type": "code",
   "execution_count": 139,
   "id": "a6038438",
   "metadata": {
    "ExecuteTime": {
     "end_time": "2022-08-30T15:21:10.946846Z",
     "start_time": "2022-08-30T15:21:10.944945Z"
    }
   },
   "outputs": [],
   "source": [
    "resultados= [cloud_img1_m, img1_m]\n",
    "vis_params2=  [\n",
    "    {'palette':palette_nubes}, \n",
    "    vizParams]\n",
    "labels = [\n",
    "    'Nubes Mosaico 1',\n",
    "    'Mosaico 1']"
   ]
  },
  {
   "cell_type": "code",
   "execution_count": 140,
   "id": "ff549bfe",
   "metadata": {
    "ExecuteTime": {
     "end_time": "2022-08-30T15:21:15.557273Z",
     "start_time": "2022-08-30T15:21:10.948180Z"
    }
   },
   "outputs": [
    {
     "data": {
      "application/vnd.jupyter.widget-view+json": {
       "model_id": "588b91758465408b8ea0df96a4d81523",
       "version_major": 2,
       "version_minor": 0
      },
      "text/plain": [
       "GridspecLayout(children=(Output(layout=Layout(grid_area='widget001')), Output(layout=Layout(grid_area='widget0…"
      ]
     },
     "metadata": {},
     "output_type": "display_data"
    }
   ],
   "source": [
    "geemap.linked_maps(rows=1, cols=2, height=\"400px\", center=[-45, -75], zoom=4, \n",
    "                   ee_objects=resultados, vis_params=vis_params2, labels=labels, label_position=\"topright\")"
   ]
  },
  {
   "cell_type": "code",
   "execution_count": 141,
   "id": "11700bca",
   "metadata": {
    "ExecuteTime": {
     "end_time": "2022-08-30T15:21:15.560792Z",
     "start_time": "2022-08-30T15:21:15.558817Z"
    }
   },
   "outputs": [],
   "source": [
    "def llenado2(image):\n",
    "    return image.where(cloud_img1_m.gt(10),Tier2_sn.median())"
   ]
  },
  {
   "cell_type": "code",
   "execution_count": 142,
   "id": "b9a26883",
   "metadata": {
    "ExecuteTime": {
     "end_time": "2022-08-30T15:21:15.563795Z",
     "start_time": "2022-08-30T15:21:15.561836Z"
    }
   },
   "outputs": [],
   "source": [
    "img2_m = llenado2(img1_m)"
   ]
  },
  {
   "cell_type": "code",
   "execution_count": 143,
   "id": "47a8156c",
   "metadata": {
    "ExecuteTime": {
     "end_time": "2022-08-30T15:21:15.567118Z",
     "start_time": "2022-08-30T15:21:15.565093Z"
    }
   },
   "outputs": [],
   "source": [
    "img2_landsat_m = img2_m.set('SENSOR_ID', 'OLI_TIRS')\n",
    "cloud_img2_m = ee.Algorithms.Landsat.simpleCloudScore(img2_landsat_m)\n",
    "cloud_img2_m = cloud_img2_m.select('cloud')"
   ]
  },
  {
   "cell_type": "code",
   "execution_count": 144,
   "id": "b6747689",
   "metadata": {
    "ExecuteTime": {
     "end_time": "2022-08-30T15:21:15.570260Z",
     "start_time": "2022-08-30T15:21:15.568618Z"
    }
   },
   "outputs": [],
   "source": [
    "img2_m = ee.Image(img2_m)"
   ]
  },
  {
   "cell_type": "code",
   "execution_count": 145,
   "id": "8a4648ba",
   "metadata": {
    "ExecuteTime": {
     "end_time": "2022-08-30T15:21:15.573354Z",
     "start_time": "2022-08-30T15:21:15.571536Z"
    }
   },
   "outputs": [],
   "source": [
    "resultados= [cloud_img2_m, img2_m]\n",
    "vis_params2=  [\n",
    "    {'palette':palette_nubes}, \n",
    "    vizParams]\n",
    "labels = [\n",
    "    'Nubes Mosaico 2',\n",
    "    'Mosaico 2']"
   ]
  },
  {
   "cell_type": "code",
   "execution_count": 146,
   "id": "5c6eee6f",
   "metadata": {
    "ExecuteTime": {
     "end_time": "2022-08-30T15:21:18.962197Z",
     "start_time": "2022-08-30T15:21:15.574631Z"
    }
   },
   "outputs": [
    {
     "data": {
      "application/vnd.jupyter.widget-view+json": {
       "model_id": "2b7f059657c04592bd3d994bcad925f5",
       "version_major": 2,
       "version_minor": 0
      },
      "text/plain": [
       "GridspecLayout(children=(Output(layout=Layout(grid_area='widget001')), Output(layout=Layout(grid_area='widget0…"
      ]
     },
     "metadata": {},
     "output_type": "display_data"
    }
   ],
   "source": [
    "geemap.linked_maps(rows=1, cols=2, height=\"400px\", center=[-45, -75], zoom=4, \n",
    "                   ee_objects=resultados, vis_params=vis_params2, labels=labels, label_position=\"topright\")"
   ]
  },
  {
   "cell_type": "code",
   "execution_count": 147,
   "id": "c3c15ccb",
   "metadata": {
    "ExecuteTime": {
     "end_time": "2022-08-30T15:21:18.965242Z",
     "start_time": "2022-08-30T15:21:18.963359Z"
    }
   },
   "outputs": [],
   "source": [
    "def llenado3(image):\n",
    "    return image.where(cloud_img2_m.gt(10),Tier3_sn.median())"
   ]
  },
  {
   "cell_type": "code",
   "execution_count": 148,
   "id": "be4d98dc",
   "metadata": {
    "ExecuteTime": {
     "end_time": "2022-08-30T15:21:18.968728Z",
     "start_time": "2022-08-30T15:21:18.966927Z"
    }
   },
   "outputs": [],
   "source": [
    "img3_m = llenado3(img2_m)"
   ]
  },
  {
   "cell_type": "code",
   "execution_count": 149,
   "id": "6afe5e92",
   "metadata": {
    "ExecuteTime": {
     "end_time": "2022-08-30T15:21:18.971893Z",
     "start_time": "2022-08-30T15:21:18.969964Z"
    }
   },
   "outputs": [],
   "source": [
    "img3_landsat_m = img3_m.set('SENSOR_ID', 'OLI_TIRS')\n",
    "cloud_img3_m = ee.Algorithms.Landsat.simpleCloudScore(img3_landsat_m)\n",
    "cloud_img3_m = cloud_img3_m.select('cloud')"
   ]
  },
  {
   "cell_type": "code",
   "execution_count": 150,
   "id": "63e6b3e5",
   "metadata": {
    "ExecuteTime": {
     "end_time": "2022-08-30T15:21:18.974834Z",
     "start_time": "2022-08-30T15:21:18.973206Z"
    }
   },
   "outputs": [],
   "source": [
    "img3_m = ee.Image(img3_m)"
   ]
  },
  {
   "cell_type": "code",
   "execution_count": 151,
   "id": "ae7dc873",
   "metadata": {
    "ExecuteTime": {
     "end_time": "2022-08-30T15:21:18.977926Z",
     "start_time": "2022-08-30T15:21:18.976083Z"
    }
   },
   "outputs": [],
   "source": [
    "resultados= [cloud_img3_m, img3_m]\n",
    "vis_params2=  [\n",
    "    {'palette':palette_nubes}, \n",
    "    vizParams]\n",
    "labels = [\n",
    "    'Nubes Mosaico 3',\n",
    "    'Mosaico 3']"
   ]
  },
  {
   "cell_type": "code",
   "execution_count": 152,
   "id": "9da14b29",
   "metadata": {
    "ExecuteTime": {
     "end_time": "2022-08-30T15:21:22.669984Z",
     "start_time": "2022-08-30T15:21:18.979191Z"
    }
   },
   "outputs": [
    {
     "data": {
      "application/vnd.jupyter.widget-view+json": {
       "model_id": "fd6978699f254bb5aa53e7b4048e34b5",
       "version_major": 2,
       "version_minor": 0
      },
      "text/plain": [
       "GridspecLayout(children=(Output(layout=Layout(grid_area='widget001')), Output(layout=Layout(grid_area='widget0…"
      ]
     },
     "metadata": {},
     "output_type": "display_data"
    }
   ],
   "source": [
    "geemap.linked_maps(rows=1, cols=2, height=\"400px\", center=[-45, -75], zoom=4, \n",
    "                   ee_objects=resultados, vis_params=vis_params2, labels=labels, label_position=\"topright\")"
   ]
  },
  {
   "cell_type": "code",
   "execution_count": 153,
   "id": "b4962662",
   "metadata": {
    "ExecuteTime": {
     "end_time": "2022-08-30T15:21:22.673245Z",
     "start_time": "2022-08-30T15:21:22.671163Z"
    }
   },
   "outputs": [],
   "source": [
    "def llenado4(image):\n",
    "    return image.where(cloud_img3_m.gt(10), Tier4_sn.median())"
   ]
  },
  {
   "cell_type": "code",
   "execution_count": 154,
   "id": "d84c0a97",
   "metadata": {
    "ExecuteTime": {
     "end_time": "2022-08-30T15:21:22.677863Z",
     "start_time": "2022-08-30T15:21:22.674636Z"
    }
   },
   "outputs": [],
   "source": [
    "img4_m = llenado4(img3_m)"
   ]
  },
  {
   "cell_type": "code",
   "execution_count": 155,
   "id": "c39b50e8",
   "metadata": {
    "ExecuteTime": {
     "end_time": "2022-08-30T15:21:22.681481Z",
     "start_time": "2022-08-30T15:21:22.679561Z"
    }
   },
   "outputs": [],
   "source": [
    "img4_landsat_m = img4_m.set('SENSOR_ID', 'OLI_TIRS')\n",
    "cloud_img4_m = ee.Algorithms.Landsat.simpleCloudScore(img4_landsat_m)\n",
    "cloud_img4_m = cloud_img4_m.select('cloud')"
   ]
  },
  {
   "cell_type": "code",
   "execution_count": 156,
   "id": "7b4625f1",
   "metadata": {
    "ExecuteTime": {
     "end_time": "2022-08-30T15:21:22.684230Z",
     "start_time": "2022-08-30T15:21:22.682664Z"
    }
   },
   "outputs": [],
   "source": [
    "img4_m = ee.Image(img4_m)"
   ]
  },
  {
   "cell_type": "code",
   "execution_count": 157,
   "id": "b5eeb495",
   "metadata": {
    "ExecuteTime": {
     "end_time": "2022-08-30T15:21:22.687378Z",
     "start_time": "2022-08-30T15:21:22.685427Z"
    }
   },
   "outputs": [],
   "source": [
    "resultados= [cloud_img4_m, img4_m]\n",
    "vis_params2=  [\n",
    "    {'palette':palette_nubes}, \n",
    "    vizParams]\n",
    "labels = [\n",
    "    'Nubes Mosaico 4',\n",
    "    'Mosaico 4']"
   ]
  },
  {
   "cell_type": "code",
   "execution_count": 158,
   "id": "fb6d9f07",
   "metadata": {
    "ExecuteTime": {
     "end_time": "2022-08-30T15:21:26.080927Z",
     "start_time": "2022-08-30T15:21:22.688616Z"
    }
   },
   "outputs": [
    {
     "data": {
      "application/vnd.jupyter.widget-view+json": {
       "model_id": "845a02e1d04f4ffe9c7fdfc6ad98d704",
       "version_major": 2,
       "version_minor": 0
      },
      "text/plain": [
       "GridspecLayout(children=(Output(layout=Layout(grid_area='widget001')), Output(layout=Layout(grid_area='widget0…"
      ]
     },
     "metadata": {},
     "output_type": "display_data"
    }
   ],
   "source": [
    "geemap.linked_maps(rows=1, cols=2, height=\"400px\", center=[-45, -75], zoom=4, \n",
    "                   ee_objects=resultados, vis_params=vis_params2, labels=labels, label_position=\"topright\")"
   ]
  },
  {
   "cell_type": "code",
   "execution_count": 159,
   "id": "6400890d",
   "metadata": {
    "ExecuteTime": {
     "end_time": "2022-08-30T15:21:26.084191Z",
     "start_time": "2022-08-30T15:21:26.082140Z"
    }
   },
   "outputs": [],
   "source": [
    "hansenImage = ee.Image('UMD/hansen/global_forest_change_2015')\n",
    "datamask = hansenImage.select('datamask')"
   ]
  },
  {
   "cell_type": "code",
   "execution_count": 160,
   "id": "25bc284f",
   "metadata": {
    "ExecuteTime": {
     "end_time": "2022-08-30T15:21:26.087457Z",
     "start_time": "2022-08-30T15:21:26.085256Z"
    }
   },
   "outputs": [],
   "source": [
    "def llenado5(image):\n",
    "    return image.where(datamask.eq(2), QM_NDWI_T1)"
   ]
  },
  {
   "cell_type": "code",
   "execution_count": 161,
   "id": "056eee78",
   "metadata": {
    "ExecuteTime": {
     "end_time": "2022-08-30T15:21:26.090478Z",
     "start_time": "2022-08-30T15:21:26.088777Z"
    }
   },
   "outputs": [],
   "source": [
    "img5_m = llenado5(img4_m)"
   ]
  },
  {
   "cell_type": "code",
   "execution_count": 162,
   "id": "059bcbe2",
   "metadata": {
    "ExecuteTime": {
     "end_time": "2022-08-30T15:21:26.093680Z",
     "start_time": "2022-08-30T15:21:26.091718Z"
    }
   },
   "outputs": [],
   "source": [
    "img5_landsat_m = img5_m.set('SENSOR_ID', 'OLI_TIRS')\n",
    "cloud_img5_m = ee.Algorithms.Landsat.simpleCloudScore(img5_landsat_m)\n",
    "cloud_img5_m = cloud_img5_m.select('cloud')"
   ]
  },
  {
   "cell_type": "code",
   "execution_count": 163,
   "id": "bdcc43da",
   "metadata": {
    "ExecuteTime": {
     "end_time": "2022-08-30T15:21:26.096684Z",
     "start_time": "2022-08-30T15:21:26.094872Z"
    }
   },
   "outputs": [],
   "source": [
    "resultados= [cloud_img5_m, img5_m]\n",
    "vis_params2=  [\n",
    "    {'palette':palette_nubes}, \n",
    "    vizParams]\n",
    "labels = [\n",
    "    'Nubes Mosaico 5',\n",
    "    'Mosaico 5']"
   ]
  },
  {
   "cell_type": "code",
   "execution_count": 164,
   "id": "b3c90c9e",
   "metadata": {
    "ExecuteTime": {
     "end_time": "2022-08-30T15:21:29.299913Z",
     "start_time": "2022-08-30T15:21:26.097915Z"
    }
   },
   "outputs": [
    {
     "data": {
      "application/vnd.jupyter.widget-view+json": {
       "model_id": "156488e877b347bc9036f788f9d91d92",
       "version_major": 2,
       "version_minor": 0
      },
      "text/plain": [
       "GridspecLayout(children=(Output(layout=Layout(grid_area='widget001')), Output(layout=Layout(grid_area='widget0…"
      ]
     },
     "metadata": {},
     "output_type": "display_data"
    }
   ],
   "source": [
    "geemap.linked_maps(rows=1, cols=2, height=\"400px\", center=[-45, -75], zoom=4, \n",
    "                   ee_objects=resultados, vis_params=vis_params2, labels=labels, label_position=\"topright\")"
   ]
  },
  {
   "cell_type": "code",
   "execution_count": 165,
   "id": "bf45a446",
   "metadata": {
    "ExecuteTime": {
     "end_time": "2022-08-30T15:21:29.303144Z",
     "start_time": "2022-08-30T15:21:29.301161Z"
    }
   },
   "outputs": [],
   "source": [
    "img5_m = ee.Image(img5_m)"
   ]
  },
  {
   "cell_type": "code",
   "execution_count": 166,
   "id": "73e9f0f9",
   "metadata": {
    "ExecuteTime": {
     "end_time": "2022-08-30T15:21:29.306663Z",
     "start_time": "2022-08-30T15:21:29.304643Z"
    }
   },
   "outputs": [],
   "source": [
    "resultados= [img4_m, img5_m]\n",
    "labels = [\n",
    "    'Mosaico 4',\n",
    "    'Mosaico 5']\n",
    "vis_params3=  [\n",
    "     vizParams, \n",
    "    vizParams]"
   ]
  },
  {
   "cell_type": "code",
   "execution_count": 167,
   "id": "47eb7b43",
   "metadata": {
    "ExecuteTime": {
     "end_time": "2022-08-30T15:21:33.451347Z",
     "start_time": "2022-08-30T15:21:29.307934Z"
    }
   },
   "outputs": [
    {
     "ename": "EEException",
     "evalue": "Google Earth Engine API has not been used in project 1092440178192 before or it is disabled. Enable it by visiting https://console.developers.google.com/apis/api/earthengine.googleapis.com/overview?project=1092440178192 then retry. If you enabled this API recently, wait a few minutes for the action to propagate to our systems and retry.",
     "output_type": "error",
     "traceback": [
      "\u001b[0;31m---------------------------------------------------------------------------\u001b[0m",
      "\u001b[0;31mHttpError\u001b[0m                                 Traceback (most recent call last)",
      "File \u001b[0;32m~/anaconda3/envs/gee/lib/python3.8/site-packages/ee/data.py:328\u001b[0m, in \u001b[0;36m_execute_cloud_call\u001b[0;34m(call, num_retries)\u001b[0m\n\u001b[1;32m    327\u001b[0m \u001b[38;5;28;01mtry\u001b[39;00m:\n\u001b[0;32m--> 328\u001b[0m   \u001b[38;5;28;01mreturn\u001b[39;00m \u001b[43mcall\u001b[49m\u001b[38;5;241;43m.\u001b[39;49m\u001b[43mexecute\u001b[49m\u001b[43m(\u001b[49m\u001b[43mnum_retries\u001b[49m\u001b[38;5;241;43m=\u001b[39;49m\u001b[43mnum_retries\u001b[49m\u001b[43m)\u001b[49m\n\u001b[1;32m    329\u001b[0m \u001b[38;5;28;01mexcept\u001b[39;00m googleapiclient\u001b[38;5;241m.\u001b[39merrors\u001b[38;5;241m.\u001b[39mHttpError \u001b[38;5;28;01mas\u001b[39;00m e:\n",
      "File \u001b[0;32m~/anaconda3/envs/gee/lib/python3.8/site-packages/googleapiclient/_helpers.py:134\u001b[0m, in \u001b[0;36mpositional.<locals>.positional_decorator.<locals>.positional_wrapper\u001b[0;34m(*args, **kwargs)\u001b[0m\n\u001b[1;32m    133\u001b[0m         logger\u001b[38;5;241m.\u001b[39mwarning(message)\n\u001b[0;32m--> 134\u001b[0m \u001b[38;5;28;01mreturn\u001b[39;00m \u001b[43mwrapped\u001b[49m\u001b[43m(\u001b[49m\u001b[38;5;241;43m*\u001b[39;49m\u001b[43margs\u001b[49m\u001b[43m,\u001b[49m\u001b[43m \u001b[49m\u001b[38;5;241;43m*\u001b[39;49m\u001b[38;5;241;43m*\u001b[39;49m\u001b[43mkwargs\u001b[49m\u001b[43m)\u001b[49m\n",
      "File \u001b[0;32m~/anaconda3/envs/gee/lib/python3.8/site-packages/googleapiclient/http.py:915\u001b[0m, in \u001b[0;36mHttpRequest.execute\u001b[0;34m(self, http, num_retries)\u001b[0m\n\u001b[1;32m    914\u001b[0m \u001b[38;5;28;01mif\u001b[39;00m resp\u001b[38;5;241m.\u001b[39mstatus \u001b[38;5;241m>\u001b[39m\u001b[38;5;241m=\u001b[39m \u001b[38;5;241m300\u001b[39m:\n\u001b[0;32m--> 915\u001b[0m     \u001b[38;5;28;01mraise\u001b[39;00m HttpError(resp, content, uri\u001b[38;5;241m=\u001b[39m\u001b[38;5;28mself\u001b[39m\u001b[38;5;241m.\u001b[39muri)\n\u001b[1;32m    916\u001b[0m \u001b[38;5;28;01mreturn\u001b[39;00m \u001b[38;5;28mself\u001b[39m\u001b[38;5;241m.\u001b[39mpostproc(resp, content)\n",
      "\u001b[0;31mHttpError\u001b[0m: <HttpError 403 when requesting https://earthengine.googleapis.com/v1alpha/projects/earthengine-legacy/maps?fields=name&alt=json returned \"Google Earth Engine API has not been used in project 1092440178192 before or it is disabled. Enable it by visiting https://console.developers.google.com/apis/api/earthengine.googleapis.com/overview?project=1092440178192 then retry. If you enabled this API recently, wait a few minutes for the action to propagate to our systems and retry.\". Details: \"[{'@type': 'type.googleapis.com/google.rpc.Help', 'links': [{'description': 'Google developers console API activation', 'url': 'https://console.developers.google.com/apis/api/earthengine.googleapis.com/overview?project=1092440178192'}]}, {'@type': 'type.googleapis.com/google.rpc.ErrorInfo', 'reason': 'SERVICE_DISABLED', 'domain': 'googleapis.com', 'metadata': {'service': 'earthengine.googleapis.com', 'consumer': 'projects/1092440178192'}}]\">",
      "\nDuring handling of the above exception, another exception occurred:\n",
      "\u001b[0;31mEEException\u001b[0m                               Traceback (most recent call last)",
      "Input \u001b[0;32mIn [167]\u001b[0m, in \u001b[0;36m<cell line: 1>\u001b[0;34m()\u001b[0m\n\u001b[0;32m----> 1\u001b[0m \u001b[43mgeemap\u001b[49m\u001b[38;5;241;43m.\u001b[39;49m\u001b[43mlinked_maps\u001b[49m\u001b[43m(\u001b[49m\u001b[43mrows\u001b[49m\u001b[38;5;241;43m=\u001b[39;49m\u001b[38;5;241;43m1\u001b[39;49m\u001b[43m,\u001b[49m\u001b[43m \u001b[49m\u001b[43mcols\u001b[49m\u001b[38;5;241;43m=\u001b[39;49m\u001b[38;5;241;43m2\u001b[39;49m\u001b[43m,\u001b[49m\u001b[43m \u001b[49m\u001b[43mheight\u001b[49m\u001b[38;5;241;43m=\u001b[39;49m\u001b[38;5;124;43m\"\u001b[39;49m\u001b[38;5;124;43m400px\u001b[39;49m\u001b[38;5;124;43m\"\u001b[39;49m\u001b[43m,\u001b[49m\u001b[43m \u001b[49m\u001b[43mcenter\u001b[49m\u001b[38;5;241;43m=\u001b[39;49m\u001b[43m[\u001b[49m\u001b[38;5;241;43m-\u001b[39;49m\u001b[38;5;241;43m45\u001b[39;49m\u001b[43m,\u001b[49m\u001b[43m \u001b[49m\u001b[38;5;241;43m-\u001b[39;49m\u001b[38;5;241;43m75\u001b[39;49m\u001b[43m]\u001b[49m\u001b[43m,\u001b[49m\u001b[43m \u001b[49m\u001b[43mzoom\u001b[49m\u001b[38;5;241;43m=\u001b[39;49m\u001b[38;5;241;43m4\u001b[39;49m\u001b[43m,\u001b[49m\u001b[43m \u001b[49m\n\u001b[1;32m      2\u001b[0m \u001b[43m                   \u001b[49m\u001b[43mee_objects\u001b[49m\u001b[38;5;241;43m=\u001b[39;49m\u001b[43mresultados\u001b[49m\u001b[43m,\u001b[49m\u001b[43m \u001b[49m\u001b[43mvis_params\u001b[49m\u001b[38;5;241;43m=\u001b[39;49m\u001b[43mvis_params3\u001b[49m\u001b[43m,\u001b[49m\u001b[43m \u001b[49m\u001b[43mlabels\u001b[49m\u001b[38;5;241;43m=\u001b[39;49m\u001b[43mlabels\u001b[49m\u001b[43m,\u001b[49m\u001b[43m \u001b[49m\u001b[43mlabel_position\u001b[49m\u001b[38;5;241;43m=\u001b[39;49m\u001b[38;5;124;43m\"\u001b[39;49m\u001b[38;5;124;43mtopright\u001b[39;49m\u001b[38;5;124;43m\"\u001b[39;49m\u001b[43m)\u001b[49m\n",
      "File \u001b[0;32m~/anaconda3/envs/gee/lib/python3.8/site-packages/geemap/geemap.py:7318\u001b[0m, in \u001b[0;36mlinked_maps\u001b[0;34m(rows, cols, height, ee_objects, vis_params, labels, label_position, **kwargs)\u001b[0m\n\u001b[1;32m   7309\u001b[0m m \u001b[38;5;241m=\u001b[39m Map(\n\u001b[1;32m   7310\u001b[0m     height\u001b[38;5;241m=\u001b[39mheight,\n\u001b[1;32m   7311\u001b[0m     lite_mode\u001b[38;5;241m=\u001b[39m\u001b[38;5;28;01mTrue\u001b[39;00m,\n\u001b[0;32m   (...)\u001b[0m\n\u001b[1;32m   7314\u001b[0m     \u001b[38;5;241m*\u001b[39m\u001b[38;5;241m*\u001b[39mkwargs,\n\u001b[1;32m   7315\u001b[0m )\n\u001b[1;32m   7317\u001b[0m \u001b[38;5;28;01mif\u001b[39;00m \u001b[38;5;28mlen\u001b[39m(ee_objects) \u001b[38;5;241m>\u001b[39m \u001b[38;5;241m0\u001b[39m:\n\u001b[0;32m-> 7318\u001b[0m     \u001b[43mm\u001b[49m\u001b[38;5;241;43m.\u001b[39;49m\u001b[43maddLayer\u001b[49m\u001b[43m(\u001b[49m\u001b[43mee_objects\u001b[49m\u001b[43m[\u001b[49m\u001b[43mindex\u001b[49m\u001b[43m]\u001b[49m\u001b[43m,\u001b[49m\u001b[43m \u001b[49m\u001b[43mvis_params\u001b[49m\u001b[43m[\u001b[49m\u001b[43mindex\u001b[49m\u001b[43m]\u001b[49m\u001b[43m,\u001b[49m\u001b[43m \u001b[49m\u001b[43mlabels\u001b[49m\u001b[43m[\u001b[49m\u001b[43mindex\u001b[49m\u001b[43m]\u001b[49m\u001b[43m)\u001b[49m\n\u001b[1;32m   7320\u001b[0m \u001b[38;5;28;01mif\u001b[39;00m \u001b[38;5;28mlen\u001b[39m(labels) \u001b[38;5;241m>\u001b[39m \u001b[38;5;241m0\u001b[39m:\n\u001b[1;32m   7321\u001b[0m     label \u001b[38;5;241m=\u001b[39m widgets\u001b[38;5;241m.\u001b[39mLabel(\n\u001b[1;32m   7322\u001b[0m         labels[index], layout\u001b[38;5;241m=\u001b[39mwidgets\u001b[38;5;241m.\u001b[39mLayout(padding\u001b[38;5;241m=\u001b[39m\u001b[38;5;124m\"\u001b[39m\u001b[38;5;124m0px 5px 0px 5px\u001b[39m\u001b[38;5;124m\"\u001b[39m)\n\u001b[1;32m   7323\u001b[0m     )\n",
      "File \u001b[0;32m~/anaconda3/envs/gee/lib/python3.8/site-packages/geemap/geemap.py:1509\u001b[0m, in \u001b[0;36mMap.add_ee_layer\u001b[0;34m(self, ee_object, vis_params, name, shown, opacity)\u001b[0m\n\u001b[1;32m   1504\u001b[0m     \u001b[38;5;28;01melif\u001b[39;00m \u001b[38;5;129;01mnot\u001b[39;00m \u001b[38;5;28misinstance\u001b[39m(vis_params[\u001b[38;5;124m\"\u001b[39m\u001b[38;5;124mpalette\u001b[39m\u001b[38;5;124m\"\u001b[39m], \u001b[38;5;28mlist\u001b[39m):\n\u001b[1;32m   1505\u001b[0m         \u001b[38;5;28;01mraise\u001b[39;00m \u001b[38;5;167;01mValueError\u001b[39;00m(\n\u001b[1;32m   1506\u001b[0m             \u001b[38;5;124m\"\u001b[39m\u001b[38;5;124mThe palette must be a list of colors or a string or a Box object.\u001b[39m\u001b[38;5;124m\"\u001b[39m\n\u001b[1;32m   1507\u001b[0m         )\n\u001b[0;32m-> 1509\u001b[0m map_id_dict \u001b[38;5;241m=\u001b[39m \u001b[43mee\u001b[49m\u001b[38;5;241;43m.\u001b[39;49m\u001b[43mImage\u001b[49m\u001b[43m(\u001b[49m\u001b[43mimage\u001b[49m\u001b[43m)\u001b[49m\u001b[38;5;241;43m.\u001b[39;49m\u001b[43mgetMapId\u001b[49m\u001b[43m(\u001b[49m\u001b[43mvis_params\u001b[49m\u001b[43m)\u001b[49m\n\u001b[1;32m   1510\u001b[0m tile_layer \u001b[38;5;241m=\u001b[39m ipyleaflet\u001b[38;5;241m.\u001b[39mTileLayer(\n\u001b[1;32m   1511\u001b[0m     url\u001b[38;5;241m=\u001b[39mmap_id_dict[\u001b[38;5;124m\"\u001b[39m\u001b[38;5;124mtile_fetcher\u001b[39m\u001b[38;5;124m\"\u001b[39m]\u001b[38;5;241m.\u001b[39murl_format,\n\u001b[1;32m   1512\u001b[0m     attribution\u001b[38;5;241m=\u001b[39m\u001b[38;5;124m\"\u001b[39m\u001b[38;5;124mGoogle Earth Engine\u001b[39m\u001b[38;5;124m\"\u001b[39m,\n\u001b[0;32m   (...)\u001b[0m\n\u001b[1;32m   1516\u001b[0m     max_zoom\u001b[38;5;241m=\u001b[39m\u001b[38;5;241m24\u001b[39m,\n\u001b[1;32m   1517\u001b[0m )\n\u001b[1;32m   1519\u001b[0m layer \u001b[38;5;241m=\u001b[39m \u001b[38;5;28mself\u001b[39m\u001b[38;5;241m.\u001b[39mfind_layer(name\u001b[38;5;241m=\u001b[39mname)\n",
      "File \u001b[0;32m~/anaconda3/envs/gee/lib/python3.8/site-packages/ee/image.py:130\u001b[0m, in \u001b[0;36mImage.getMapId\u001b[0;34m(self, vis_params)\u001b[0m\n\u001b[1;32m    128\u001b[0m vis_image, request \u001b[38;5;241m=\u001b[39m \u001b[38;5;28mself\u001b[39m\u001b[38;5;241m.\u001b[39m_apply_visualization(vis_params)\n\u001b[1;32m    129\u001b[0m request[\u001b[38;5;124m'\u001b[39m\u001b[38;5;124mimage\u001b[39m\u001b[38;5;124m'\u001b[39m] \u001b[38;5;241m=\u001b[39m vis_image\n\u001b[0;32m--> 130\u001b[0m response \u001b[38;5;241m=\u001b[39m \u001b[43mdata\u001b[49m\u001b[38;5;241;43m.\u001b[39;49m\u001b[43mgetMapId\u001b[49m\u001b[43m(\u001b[49m\u001b[43mrequest\u001b[49m\u001b[43m)\u001b[49m\n\u001b[1;32m    131\u001b[0m response[\u001b[38;5;124m'\u001b[39m\u001b[38;5;124mimage\u001b[39m\u001b[38;5;124m'\u001b[39m] \u001b[38;5;241m=\u001b[39m \u001b[38;5;28mself\u001b[39m\n\u001b[1;32m    132\u001b[0m \u001b[38;5;28;01mreturn\u001b[39;00m response\n",
      "File \u001b[0;32m~/anaconda3/envs/gee/lib/python3.8/site-packages/ee/data.py:567\u001b[0m, in \u001b[0;36mgetMapId\u001b[0;34m(params)\u001b[0m\n\u001b[1;32m    564\u001b[0m   request[\u001b[38;5;124m'\u001b[39m\u001b[38;5;124mvisualizationOptions\u001b[39m\u001b[38;5;124m'\u001b[39m] \u001b[38;5;241m=\u001b[39m visualizationOptions\n\u001b[1;32m    565\u001b[0m \u001b[38;5;66;03m# Make it return only the name field, as otherwise it echoes the entire\u001b[39;00m\n\u001b[1;32m    566\u001b[0m \u001b[38;5;66;03m# request, which might be large.\u001b[39;00m\n\u001b[0;32m--> 567\u001b[0m result \u001b[38;5;241m=\u001b[39m \u001b[43m_execute_cloud_call\u001b[49m\u001b[43m(\u001b[49m\n\u001b[1;32m    568\u001b[0m \u001b[43m    \u001b[49m\u001b[43m_get_cloud_api_resource\u001b[49m\u001b[43m(\u001b[49m\u001b[43m)\u001b[49m\u001b[38;5;241;43m.\u001b[39;49m\u001b[43mprojects\u001b[49m\u001b[43m(\u001b[49m\u001b[43m)\u001b[49m\u001b[38;5;241;43m.\u001b[39;49m\u001b[43mmaps\u001b[49m\u001b[43m(\u001b[49m\u001b[43m)\u001b[49m\u001b[38;5;241;43m.\u001b[39;49m\u001b[43mcreate\u001b[49m\u001b[43m(\u001b[49m\n\u001b[1;32m    569\u001b[0m \u001b[43m        \u001b[49m\u001b[43mparent\u001b[49m\u001b[38;5;241;43m=\u001b[39;49m\u001b[43m_get_projects_path\u001b[49m\u001b[43m(\u001b[49m\u001b[43m)\u001b[49m\u001b[43m,\u001b[49m\u001b[43m \u001b[49m\u001b[43mfields\u001b[49m\u001b[38;5;241;43m=\u001b[39;49m\u001b[38;5;124;43m'\u001b[39;49m\u001b[38;5;124;43mname\u001b[39;49m\u001b[38;5;124;43m'\u001b[39;49m\u001b[43m,\u001b[49m\u001b[43m \u001b[49m\u001b[43mbody\u001b[49m\u001b[38;5;241;43m=\u001b[39;49m\u001b[43mrequest\u001b[49m\u001b[43m)\u001b[49m\u001b[43m)\u001b[49m\n\u001b[1;32m    570\u001b[0m map_name \u001b[38;5;241m=\u001b[39m result[\u001b[38;5;124m'\u001b[39m\u001b[38;5;124mname\u001b[39m\u001b[38;5;124m'\u001b[39m]\n\u001b[1;32m    571\u001b[0m url_format \u001b[38;5;241m=\u001b[39m \u001b[38;5;124m'\u001b[39m\u001b[38;5;132;01m%s\u001b[39;00m\u001b[38;5;124m/\u001b[39m\u001b[38;5;132;01m%s\u001b[39;00m\u001b[38;5;124m/\u001b[39m\u001b[38;5;132;01m%s\u001b[39;00m\u001b[38;5;124m/tiles/\u001b[39m\u001b[38;5;132;01m{z}\u001b[39;00m\u001b[38;5;124m/\u001b[39m\u001b[38;5;132;01m{x}\u001b[39;00m\u001b[38;5;124m/\u001b[39m\u001b[38;5;132;01m{y}\u001b[39;00m\u001b[38;5;124m'\u001b[39m \u001b[38;5;241m%\u001b[39m (\n\u001b[1;32m    572\u001b[0m     _tile_base_url, _cloud_api_utils\u001b[38;5;241m.\u001b[39mVERSION, map_name)\n",
      "File \u001b[0;32m~/anaconda3/envs/gee/lib/python3.8/site-packages/ee/data.py:330\u001b[0m, in \u001b[0;36m_execute_cloud_call\u001b[0;34m(call, num_retries)\u001b[0m\n\u001b[1;32m    328\u001b[0m   \u001b[38;5;28;01mreturn\u001b[39;00m call\u001b[38;5;241m.\u001b[39mexecute(num_retries\u001b[38;5;241m=\u001b[39mnum_retries)\n\u001b[1;32m    329\u001b[0m \u001b[38;5;28;01mexcept\u001b[39;00m googleapiclient\u001b[38;5;241m.\u001b[39merrors\u001b[38;5;241m.\u001b[39mHttpError \u001b[38;5;28;01mas\u001b[39;00m e:\n\u001b[0;32m--> 330\u001b[0m   \u001b[38;5;28;01mraise\u001b[39;00m _translate_cloud_exception(e)\n",
      "\u001b[0;31mEEException\u001b[0m: Google Earth Engine API has not been used in project 1092440178192 before or it is disabled. Enable it by visiting https://console.developers.google.com/apis/api/earthengine.googleapis.com/overview?project=1092440178192 then retry. If you enabled this API recently, wait a few minutes for the action to propagate to our systems and retry."
     ]
    }
   ],
   "source": [
    "geemap.linked_maps(rows=1, cols=2, height=\"400px\", center=[-45, -75], zoom=4, \n",
    "                   ee_objects=resultados, vis_params=vis_params3, labels=labels, label_position=\"topright\")"
   ]
  },
  {
   "cell_type": "code",
   "execution_count": null,
   "id": "6116e6db",
   "metadata": {
    "ExecuteTime": {
     "end_time": "2022-08-30T15:21:33.483216Z",
     "start_time": "2022-08-30T15:21:33.483204Z"
    }
   },
   "outputs": [],
   "source": [
    "img5_m.bandNames().getInfo()"
   ]
  },
  {
   "cell_type": "code",
   "execution_count": null,
   "id": "0645dcd8",
   "metadata": {
    "ExecuteTime": {
     "end_time": "2022-08-30T15:21:33.484186Z",
     "start_time": "2022-08-30T15:21:33.484176Z"
    }
   },
   "outputs": [],
   "source": [
    "# img5_m_bandas = img5_m.select(['B1','B2','B3','B4','B5','B6','B7'])"
   ]
  },
  {
   "cell_type": "code",
   "execution_count": null,
   "id": "eae34253",
   "metadata": {
    "ExecuteTime": {
     "end_time": "2022-08-30T15:21:33.485343Z",
     "start_time": "2022-08-30T15:21:33.485333Z"
    }
   },
   "outputs": [],
   "source": [
    "vizParams2 = {\n",
    "  'bands': ['B5', 'B4', 'B3'],\n",
    "  'min': 0,\n",
    "  'max': 0.2,\n",
    "  'gamma': [1, 1.1, 1]\n",
    "}"
   ]
  },
  {
   "cell_type": "markdown",
   "id": "e48911de",
   "metadata": {},
   "source": [
    "## Índices Mosaico"
   ]
  },
  {
   "cell_type": "code",
   "execution_count": null,
   "id": "0f2c21cd",
   "metadata": {
    "ExecuteTime": {
     "end_time": "2022-08-30T15:21:33.486466Z",
     "start_time": "2022-08-30T15:21:33.486454Z"
    }
   },
   "outputs": [],
   "source": [
    "NDVI_winter_qm = img5.select('NDVI')\n",
    "EVI_winter_qm = img5.select('EVI')\n",
    "\n",
    "NDVI_winter_med = img5_m.select('NDVI')\n",
    "EVI_winter_med = img5_m.select('EVI')"
   ]
  },
  {
   "cell_type": "code",
   "execution_count": null,
   "id": "43fcca15",
   "metadata": {
    "ExecuteTime": {
     "end_time": "2022-08-30T15:21:33.487376Z",
     "start_time": "2022-08-30T15:21:33.487366Z"
    }
   },
   "outputs": [],
   "source": [
    "test1 = os.path.join(work_dir,'roi_2.shp')\n",
    "test1 = geemap.shp_to_ee(test1)\n",
    "Map13.addLayer(test1, {}, 'Áreas de entrenamiento')"
   ]
  },
  {
   "cell_type": "code",
   "execution_count": null,
   "id": "a54e0163",
   "metadata": {
    "ExecuteTime": {
     "end_time": "2022-08-30T15:21:33.488289Z",
     "start_time": "2022-08-30T15:21:33.488278Z"
    }
   },
   "outputs": [],
   "source": [
    "data_NDVI_QM = NDVI_winter_qm.sampleRegions(**{\n",
    "    'collection': test1,\n",
    "    'properties': ['C_ID'],\n",
    "    'scale': 30,\n",
    "    'tileScale': 2,\n",
    "})"
   ]
  },
  {
   "cell_type": "code",
   "execution_count": null,
   "id": "5ae1c06b",
   "metadata": {
    "ExecuteTime": {
     "end_time": "2022-08-30T15:21:33.489195Z",
     "start_time": "2022-08-30T15:21:33.489186Z"
    }
   },
   "outputs": [],
   "source": [
    "data_EVI_QM = EVI_winter_qm.sampleRegions(**{\n",
    "    'collection': test1,\n",
    "    'properties': ['C_ID'],\n",
    "    'scale': 30,\n",
    "    'tileScale': 2,\n",
    "})"
   ]
  },
  {
   "cell_type": "code",
   "execution_count": null,
   "id": "a6e5309e",
   "metadata": {
    "ExecuteTime": {
     "end_time": "2022-08-30T15:21:33.490117Z",
     "start_time": "2022-08-30T15:21:33.490107Z"
    }
   },
   "outputs": [],
   "source": [
    "data_NDVI_Med = NDVI_winter_med.sampleRegions(**{\n",
    "    'collection': test1,\n",
    "    'properties': ['C_ID'],\n",
    "    'scale': 30,\n",
    "    'tileScale': 2,\n",
    "})"
   ]
  },
  {
   "cell_type": "code",
   "execution_count": null,
   "id": "c8c97476",
   "metadata": {
    "ExecuteTime": {
     "end_time": "2022-08-30T15:21:33.490998Z",
     "start_time": "2022-08-30T15:21:33.490989Z"
    }
   },
   "outputs": [],
   "source": [
    "data_EVI_Med = EVI_winter_med.sampleRegions(**{\n",
    "    'collection': test1,\n",
    "    'properties': ['C_ID'],\n",
    "    'scale': 30,\n",
    "    'tileScale': 2,\n",
    "})"
   ]
  },
  {
   "cell_type": "code",
   "execution_count": null,
   "id": "ad18a613",
   "metadata": {
    "ExecuteTime": {
     "end_time": "2022-08-30T15:21:33.491938Z",
     "start_time": "2022-08-30T15:21:33.491927Z"
    }
   },
   "outputs": [],
   "source": [
    "tablas = ee.batch.Export.table.toDrive(**{\n",
    "  'collection': data_NDVI_QM,\n",
    "  'description': 'NDVI_winter_QM',\n",
    "  'fileFormat': 'CSV'\n",
    "})\n",
    "tablas2 = ee.batch.Export.table.toDrive(**{\n",
    "  'collection': data_EVI_QM,\n",
    "  'description': 'EVI_winter_QM',\n",
    "  'fileFormat': 'CSV'\n",
    "})\n",
    "tablas3 = ee.batch.Export.table.toDrive(**{\n",
    "  'collection': data_NDVI_Med,\n",
    "  'description': 'NDVI_winter_Med',\n",
    "  'fileFormat': 'CSV'\n",
    "})\n",
    "tablas4 = ee.batch.Export.table.toDrive(**{\n",
    "  'collection': data_EVI_Med,\n",
    "  'description': 'EVI_winter_Med',\n",
    "  'fileFormat': 'CSV'\n",
    "})\n"
   ]
  },
  {
   "cell_type": "code",
   "execution_count": null,
   "id": "398fea13",
   "metadata": {
    "ExecuteTime": {
     "end_time": "2022-08-30T15:21:33.492933Z",
     "start_time": "2022-08-30T15:21:33.492922Z"
    }
   },
   "outputs": [],
   "source": [
    "# tablas.start()\n",
    "# tablas2.start()\n",
    "# tablas3.start()\n",
    "# tablas4.start()"
   ]
  },
  {
   "cell_type": "markdown",
   "id": "1e872319",
   "metadata": {},
   "source": [
    "## Clasificación"
   ]
  },
  {
   "cell_type": "code",
   "execution_count": null,
   "id": "3d3603e3",
   "metadata": {
    "ExecuteTime": {
     "end_time": "2022-08-30T15:21:33.493794Z",
     "start_time": "2022-08-30T15:21:33.493784Z"
    }
   },
   "outputs": [],
   "source": [
    "val_shp = os.path.join(work_dir, 'validacion.shp')\n",
    "merged_original = os.path.join(work_dir,'datos_1.shp')"
   ]
  },
  {
   "cell_type": "code",
   "execution_count": null,
   "id": "7a9f898c",
   "metadata": {
    "ExecuteTime": {
     "end_time": "2022-08-30T15:21:33.494788Z",
     "start_time": "2022-08-30T15:21:33.494779Z"
    }
   },
   "outputs": [],
   "source": [
    "test1 = os.path.join(work_dir,'p9.shp')\n",
    "test1 = geemap.shp_to_ee(test1)\n",
    "# Map13.addLayer(test1, {}, 'Áreas de entrenamiento')"
   ]
  },
  {
   "cell_type": "code",
   "execution_count": null,
   "id": "bf7bfdeb",
   "metadata": {
    "ExecuteTime": {
     "end_time": "2022-08-30T15:21:33.495691Z",
     "start_time": "2022-08-30T15:21:33.495681Z"
    }
   },
   "outputs": [],
   "source": [
    "val = geemap.shp_to_ee(val_shp)\n",
    "# Map13.addLayer(val, {}, 'Áreas de Validación')"
   ]
  },
  {
   "cell_type": "code",
   "execution_count": null,
   "id": "3b636946",
   "metadata": {
    "ExecuteTime": {
     "end_time": "2022-08-30T15:21:33.496552Z",
     "start_time": "2022-08-30T15:21:33.496542Z"
    }
   },
   "outputs": [],
   "source": [
    "mergedoriginal = geemap.shp_to_ee(merged_original)\n",
    "# Map13.addLayer( mergedoriginal, {}, 'Áreas de entrenamiento Original')"
   ]
  },
  {
   "cell_type": "code",
   "execution_count": null,
   "id": "85616c66",
   "metadata": {
    "ExecuteTime": {
     "end_time": "2022-08-30T15:21:33.497420Z",
     "start_time": "2022-08-30T15:21:33.497411Z"
    }
   },
   "outputs": [],
   "source": [
    "# img6_m = addNDVI(img6_m)\n",
    "# img6_m = addNDWI(img6_m)\n",
    "# img6_m = addNDGI(img6_m)\n",
    "# img6_m = addSAVI(img6_m)\n",
    "# img6_m = addNDSI(img6_m)\n",
    "# img6_m = addDate(img6_m)\n",
    "# img6_m = addCloud(img6_m)"
   ]
  },
  {
   "cell_type": "code",
   "execution_count": null,
   "id": "7f16c9ef",
   "metadata": {
    "ExecuteTime": {
     "end_time": "2022-08-30T15:21:33.498402Z",
     "start_time": "2022-08-30T15:21:33.498388Z"
    }
   },
   "outputs": [],
   "source": [
    "dataset = img_final.sampleRegions(**{\n",
    "    'collection': mergedoriginal,\n",
    "    'properties': ['ID'],\n",
    "    'scale': 30,\n",
    "    'tileScale': 2,\n",
    "})"
   ]
  },
  {
   "cell_type": "code",
   "execution_count": null,
   "id": "19076563",
   "metadata": {
    "ExecuteTime": {
     "end_time": "2022-08-30T15:21:33.499386Z",
     "start_time": "2022-08-30T15:21:33.499376Z"
    }
   },
   "outputs": [],
   "source": [
    "datasetval = img_final.sampleRegions(**{\n",
    "    'collection': val,\n",
    "    'properties': ['ID'],\n",
    "    'scale': 30,\n",
    "    'tileScale': 2,\n",
    "})"
   ]
  },
  {
   "cell_type": "code",
   "execution_count": null,
   "id": "0606ca7f",
   "metadata": {
    "ExecuteTime": {
     "end_time": "2022-08-30T15:21:33.500259Z",
     "start_time": "2022-08-30T15:21:33.500250Z"
    }
   },
   "outputs": [],
   "source": [
    "test_data = img_final.sampleRegions(**{\n",
    "    'collection': test1,\n",
    "    'properties': ['C_ID'],\n",
    "    'scale': 30,\n",
    "    'tileScale': 2,\n",
    "})"
   ]
  },
  {
   "cell_type": "code",
   "execution_count": null,
   "id": "e81b0970",
   "metadata": {
    "ExecuteTime": {
     "end_time": "2022-08-30T15:21:33.501128Z",
     "start_time": "2022-08-30T15:21:33.501119Z"
    }
   },
   "outputs": [],
   "source": [
    "test_dataval = img5.sampleRegions(**{\n",
    "    'collection': val,\n",
    "    'properties': ['C_ID'],\n",
    "    'scale': 30,\n",
    "    'tileScale': 2,\n",
    "})"
   ]
  },
  {
   "cell_type": "code",
   "execution_count": null,
   "id": "5273b637",
   "metadata": {
    "ExecuteTime": {
     "end_time": "2022-08-30T15:21:33.502128Z",
     "start_time": "2022-08-30T15:21:33.502118Z"
    }
   },
   "outputs": [],
   "source": [
    "# datasetMatch = img5_m.sampleRegions(**{\n",
    "#     'collection': mergedoriginal,\n",
    "#     'properties': ['ID'],\n",
    "#     'scale': 30,\n",
    "#     'tileScale': 2,\n",
    "# })"
   ]
  },
  {
   "cell_type": "code",
   "execution_count": null,
   "id": "e34adb30",
   "metadata": {
    "ExecuteTime": {
     "end_time": "2022-08-30T15:21:33.502962Z",
     "start_time": "2022-08-30T15:21:33.502951Z"
    }
   },
   "outputs": [],
   "source": [
    "# datasetvalMatch= img5_m.sampleRegions(**{\n",
    "#     'collection': val,\n",
    "#     'properties': ['ID'],\n",
    "#     'scale': 30,\n",
    "#     'tileScale': 2,\n",
    "# })"
   ]
  },
  {
   "cell_type": "code",
   "execution_count": null,
   "id": "0be21169",
   "metadata": {
    "ExecuteTime": {
     "end_time": "2022-08-30T15:21:33.503798Z",
     "start_time": "2022-08-30T15:21:33.503789Z"
    }
   },
   "outputs": [],
   "source": [
    "# print(test_data.size().getInfo())"
   ]
  },
  {
   "cell_type": "code",
   "execution_count": null,
   "id": "0cdba8cd",
   "metadata": {
    "ExecuteTime": {
     "end_time": "2022-08-30T15:21:33.504768Z",
     "start_time": "2022-08-30T15:21:33.504759Z"
    }
   },
   "outputs": [],
   "source": [
    "print(test_data.first().getInfo())"
   ]
  },
  {
   "cell_type": "code",
   "execution_count": null,
   "id": "5c27d8ab",
   "metadata": {
    "ExecuteTime": {
     "end_time": "2022-08-30T15:21:33.505673Z",
     "start_time": "2022-08-30T15:21:33.505663Z"
    }
   },
   "outputs": [],
   "source": [
    "# print(datasetval.first().getInfo())"
   ]
  },
  {
   "cell_type": "markdown",
   "id": "65efc69f",
   "metadata": {},
   "source": [
    "### Muestras y datos de validación"
   ]
  },
  {
   "cell_type": "code",
   "execution_count": null,
   "id": "9f4082a9",
   "metadata": {
    "ExecuteTime": {
     "end_time": "2022-08-30T15:21:33.506698Z",
     "start_time": "2022-08-30T15:21:33.506689Z"
    }
   },
   "outputs": [],
   "source": [
    "# Guardamos las bandas\n",
    "\n",
    "# Esta propiedad guarda las clases de landcover\n",
    "# label = 'b1'\n",
    "label = 'IDH'\n",
    "label1 = 'ID'\n",
    "labeltest ='C_ID'\n",
    "# Overlay the points on the imagery to get training.\n",
    "# sample = landsat.select(bands).sampleRegions(**{\n",
    "#   'collection': points,\n",
    "#   'properties': [label],\n",
    "#   'scale': 30\n",
    "# })\n",
    "\n",
    "# # Adds a column of deterministic pseudorandom numbers. \n",
    "# sample = sample.randomColumn()\n",
    "\n",
    "# split = 0.7 \n",
    "\n",
    "# training = sample.filter(ee.Filter.lt('random', split))\n",
    "# validation = sample.filter(ee.Filter.gte('random', split))\n",
    "bands = ['B1',\n",
    " 'B2',\n",
    " 'B3',\n",
    " 'B4',\n",
    " 'B5',\n",
    " 'B6',\n",
    " 'B7',\n",
    " 'NDVI',\n",
    " 'NDWI',\n",
    " 'NDGI',\n",
    " 'SAVI',\n",
    " 'NDSI',\n",
    " 'brightness',\n",
    " 'greenness',\n",
    " 'wetness',\n",
    " 'fourth',\n",
    " 'fifth',\n",
    " 'sixth'\n",
    "]\n",
    "bands1 = ['B1',\n",
    " 'B2',\n",
    " 'B3',\n",
    " 'B4',\n",
    " 'B5',\n",
    " 'B6',\n",
    " 'B7',\n",
    " 'B8',\n",
    " 'B9',\n",
    " 'B10',\n",
    " 'B11']\n",
    "bands2 = ['B1',\n",
    " 'B2',\n",
    " 'B3',\n",
    " 'B4',\n",
    " 'B5',\n",
    " 'B6',\n",
    " 'B7',\n",
    " 'NDVI',\n",
    " 'NDWI',\n",
    " 'NDGI',\n",
    " 'SAVI',\n",
    " 'NDSI',\n",
    "]"
   ]
  },
  {
   "cell_type": "markdown",
   "id": "bb2b3b9b",
   "metadata": {},
   "source": [
    "### Entrenando el modelo"
   ]
  },
  {
   "cell_type": "code",
   "execution_count": null,
   "id": "d2eab14d",
   "metadata": {
    "ExecuteTime": {
     "end_time": "2022-08-30T15:21:33.507662Z",
     "start_time": "2022-08-30T15:21:33.507652Z"
    }
   },
   "outputs": [],
   "source": [
    "classifier = ee.Classifier.smileRandomForest(100).train(dataset, label1, bands2)\n",
    "# classifierMatch = ee.Classifier.smileRandomForest(100).train(datasetMatch, label1, bands1)\n",
    "classifier_Test = ee.Classifier.smileRandomForest(100).train(test_data,labeltest,bands)"
   ]
  },
  {
   "cell_type": "code",
   "execution_count": null,
   "id": "effbf7b9",
   "metadata": {
    "ExecuteTime": {
     "end_time": "2022-08-30T15:21:33.508366Z",
     "start_time": "2022-08-30T15:21:33.508352Z"
    }
   },
   "outputs": [],
   "source": [
    "result1 = img5.select(bands2).classify(classifier)\n",
    "# result2_M = img5_m.select(bands1).classify(classifierMatch)\n",
    "result_test = img_final.select(bands).classify(classifier_Test)"
   ]
  },
  {
   "cell_type": "markdown",
   "id": "7df7206f",
   "metadata": {},
   "source": [
    "### Categorizando"
   ]
  },
  {
   "cell_type": "code",
   "execution_count": null,
   "id": "a9f7e136",
   "metadata": {
    "ExecuteTime": {
     "end_time": "2022-08-30T15:21:33.509635Z",
     "start_time": "2022-08-30T15:21:33.509625Z"
    }
   },
   "outputs": [],
   "source": [
    "class_values1 = [1,2,3,4,5,6,7,8,9,10,11,12,13,14,15,16,17,18]\n",
    "\n",
    "class_palette1 = ['6bee8c', # 1\n",
    " 'f0ff00',\n",
    " '0c40f1',\n",
    " '685205',\n",
    " '0d4404',\n",
    " 'e82d13',\n",
    " 'f99504',\n",
    " '17d4c6',\n",
    " 'dc07e7',\n",
    " '24ff00',\n",
    " '2de50f',\n",
    " 'ccba7d',\n",
    " 'dec61a',\n",
    " '023208',\n",
    " '03c2ff',\n",
    " '97ad0b',\n",
    " 'a4f8ff',\n",
    " 'c0c233',               \n",
    "]"
   ]
  },
  {
   "cell_type": "code",
   "execution_count": null,
   "id": "5d18bdc9",
   "metadata": {
    "ExecuteTime": {
     "end_time": "2022-08-30T15:21:33.510666Z",
     "start_time": "2022-08-30T15:21:33.510657Z"
    }
   },
   "outputs": [],
   "source": [
    "class_values2 = [1,2,3,4,5,6,7,8,9,10,11,12,13,14,15,16,17,19,20,23,28,30,31,32,33,34,35,36,39,40,43,45,47,48,56,57,58,60]\n",
    "\n",
    "class_palette2 = ['d1fbff', # 1 Hielo\n",
    " 'bfdadd', #2 lengua glaciar\n",
    " 'b9bfbf', #3 glaciar cubierto\n",
    " 'fe40fe', #4 nieve\n",
    " '8ac1ff', #5 fiordo glaciar\n",
    " '0c407b', #6 mar\n",
    " '2e8da0', #7 lago continental\n",
    " '16b2d1', #8 lago glaciar\n",
    " '27e1d8', #9 río\n",
    " 'eeb514', #10 suelo desnudo\n",
    " '927012', #11 cárcavas erosión \n",
    " 'e98c0f', #12 suelo río\n",
    " 'f7e8bd', #13 suelo duna/arenal\n",
    " '5b5b5b', #14 caminos\n",
    " 'e57104', #15 suelo desnudo / poca vegetación\n",
    " '5d1412', #16 tuberas / musgos\n",
    " '5d1412', #17 mallín                 \n",
    " '161163', #19 áreas inundables\n",
    " 'fff300', #20 plantación adulto\n",
    " 'ff0000', #23 ciudad urbano\n",
    " 'd4e794', #28 frutales\n",
    " 'dee842', #30 praderas pastoreo             \n",
    " 'ced118', #31 estepa abierta\n",
    " '7a7c0f', #32 estepa cerrada\n",
    " 'c39700', #33 palizales\n",
    " 'a1ff8a', #34 preaderas\n",
    " '138665', #35 matorrales densos\n",
    " '1bbd8e', #36 matorrales abiertos\n",
    " '195a09', #39 primario adulto\n",
    " '27c41d', #40 secundario adulto\n",
    " 'b2ff00', #43 renoval inicial\n",
    " 'f36605', #45 degradado\n",
    " '7729db', #47 Primario adulto caduco\n",
    " '9e60ec', #48 Secundario adulto caduco\n",
    " '000000', #56 sombra \n",
    " '7000ff', #57 Mixto Primario\n",
    " 'c598ff', #58 Mixto secundario\n",
    " '00ff87', #60 Coníferas nativas\n",
    "]"
   ]
  },
  {
   "cell_type": "code",
   "execution_count": null,
   "id": "c69dba5b",
   "metadata": {},
   "outputs": [],
   "source": []
  },
  {
   "cell_type": "code",
   "execution_count": null,
   "id": "97b63b26",
   "metadata": {
    "ExecuteTime": {
     "end_time": "2022-08-30T15:21:33.511593Z",
     "start_time": "2022-08-30T15:21:33.511583Z"
    }
   },
   "outputs": [],
   "source": [
    "landcover1 = result1.set('classification_class_values', class_values1)\n",
    "landcover1 = landcover1.set('classification_class_palette', class_palette1)\n"
   ]
  },
  {
   "cell_type": "code",
   "execution_count": null,
   "id": "edeaf69a",
   "metadata": {
    "ExecuteTime": {
     "end_time": "2022-08-30T15:21:33.512474Z",
     "start_time": "2022-08-30T15:21:33.512464Z"
    }
   },
   "outputs": [],
   "source": [
    "landcovertest = result_test.set('classification_class_values', class_values2)\n",
    "landcovertest = landcovertest.set('classification_class_palette',class_palette2)"
   ]
  },
  {
   "cell_type": "code",
   "execution_count": null,
   "id": "54eabf1f",
   "metadata": {
    "ExecuteTime": {
     "end_time": "2022-08-30T15:21:33.513489Z",
     "start_time": "2022-08-30T15:21:33.513479Z"
    }
   },
   "outputs": [],
   "source": [
    "# landcoverMatch = result2_M.set('classification_class_values', class_values1)\n",
    "# landcoverMatch = landcoverMatch.set('classification_class_palette', class_palette1)"
   ]
  },
  {
   "cell_type": "code",
   "execution_count": null,
   "id": "a1ac673e",
   "metadata": {
    "ExecuteTime": {
     "end_time": "2022-08-30T15:21:33.514415Z",
     "start_time": "2022-08-30T15:21:33.514404Z"
    }
   },
   "outputs": [],
   "source": [
    "# array_landcover1 = landcover1.toArray().toArray(1)\n",
    "# array_landcoverm = landcoverMatch.toArray().toArray(1)"
   ]
  },
  {
   "cell_type": "code",
   "execution_count": null,
   "id": "11e0ee3e",
   "metadata": {
    "ExecuteTime": {
     "end_time": "2022-08-30T15:21:33.515398Z",
     "start_time": "2022-08-30T15:21:33.515389Z"
    }
   },
   "outputs": [],
   "source": [
    "Map14.addLayer(landcovertest,{}, 'Land cover clasificado Random Forest' )"
   ]
  },
  {
   "cell_type": "code",
   "execution_count": null,
   "id": "83059116",
   "metadata": {
    "ExecuteTime": {
     "end_time": "2022-08-30T15:21:33.516224Z",
     "start_time": "2022-08-30T15:21:33.516215Z"
    }
   },
   "outputs": [],
   "source": [
    "# Map14.addLayer(landcoverMatch, {}, 'Land cover clasificado Random Forest Match' )"
   ]
  },
  {
   "cell_type": "code",
   "execution_count": null,
   "id": "882a5f91",
   "metadata": {
    "ExecuteTime": {
     "end_time": "2022-08-30T15:21:33.517310Z",
     "start_time": "2022-08-30T15:21:33.517301Z"
    }
   },
   "outputs": [],
   "source": [
    "type(landcover1)"
   ]
  },
  {
   "cell_type": "code",
   "execution_count": null,
   "id": "8111a0da",
   "metadata": {
    "ExecuteTime": {
     "end_time": "2022-08-30T15:21:33.518052Z",
     "start_time": "2022-08-30T15:21:33.518042Z"
    }
   },
   "outputs": [],
   "source": [
    "\n",
    "# legend_dict = {\n",
    "#     '01 Achaparrado': '6bee8c',\n",
    "#     '02 Agrícola': 'f0ff00',\n",
    "#     '03 Agua': '0c40f1',\n",
    "#     '04 Arenal o Roca': '685205',\n",
    "#     '05 Bosque Degradado': '0d4404',\n",
    "#     '06 Cuncunas': 'e82d13',\n",
    "#     '07 Estepa': 'f99504',\n",
    "#     '08 Humedal': '17d4c6',\n",
    "#     '09 Mallin': 'dc07e7',\n",
    "#     '10 Matorral abierto': '24ff00',\n",
    "#     '11 Matorral denso': '2de50f',\n",
    "#     '12 Plantaciones': 'ccba7d',\n",
    "#     '13 Praderas': 'dec61a',\n",
    "#     '14 Primario': '023208',\n",
    "#     '15 Ríos': '03c2ff',\n",
    "#     '16 Secundario': '97ad0b',\n",
    "#     '17 Glaciar': 'a4f8ff',\n",
    "#     '18 Suelo desnudo': 'c0c233',\n",
    "# }\n",
    "# Map14.add_legend(legend_title=\"Random Forest\", legend_dict=legend_dict)\n",
    "# Map14.addLayer(componentes,vizParamstess, 'Tesseled cap')\n",
    "# Map14"
   ]
  },
  {
   "cell_type": "code",
   "execution_count": null,
   "id": "508b2233",
   "metadata": {
    "ExecuteTime": {
     "end_time": "2022-08-30T15:21:33.518940Z",
     "start_time": "2022-08-30T15:21:33.518930Z"
    }
   },
   "outputs": [],
   "source": [
    "legend_dict = {\n",
    "    '01 Hielo': 'd1fbff',\n",
    "    '02 lengua glaciar': 'bfdadd',\n",
    "    '03 glaciar cubierto': 'b9bfbf',\n",
    "    '04 nieve': 'fe40fe',\n",
    "    '05 fiordo glaciar': '8ac1ff',\n",
    "    '06 mar': '0c407b',\n",
    "    '07 lago continental': '2e8da0',\n",
    "    '08 lago glaciar': '16b2d1',\n",
    "    '09 río': '27e1d8',\n",
    "    '10 suelo desnudo': 'eeb514',\n",
    "    '11 cárcavas erosión': '927012',\n",
    "    '12 suelo río': 'e98c0f',\n",
    "    '13 suelo duna/arenal': 'f7e8bd',\n",
    "    '14 caminos': '5b5b5b',\n",
    "    '15 suelo denudo': 'e57104',\n",
    "    '16 tuberas / musgos': '5d1412',\n",
    "    '17 mallín': '5d1412',\n",
    "    '19 áreas inundables':'161163', \n",
    "    '20 plantación adulto': 'fff300',\n",
    "    '23 ciudad urbano': 'ff0000',\n",
    "    '28 frutales':'d4e794',\n",
    "    '30 praderas pastoreo':'dee842', \n",
    "    '31 estepa abierta': 'ced118',\n",
    "    '32 estepa cerrada': '7a7c0f',\n",
    "    '33 palizales': 'c39700',\n",
    "    '34 preaderas': 'a1ff8a',\n",
    "    '35 matorrales densos': '138665',\n",
    "    '36 matorrales abiertos': '1bbd8e',\n",
    "    '39 primario adulto': '195a09',\n",
    "    '40 secundario adulto': '27c41d',\n",
    "    '43 renoval inicial': 'b2ff00',\n",
    "    '45 degradado': 'f36605',\n",
    "    '47 Primario adulto caduco':'7729db',\n",
    "    '48 Secundario adulto caduco': '9e60ec',\n",
    "    '56 sombra': '000000',\n",
    "    '57 Mixto Primario': '7000ff', \n",
    "    '58 Mixto secundario':'c598ff',\n",
    "    '60 Coníferas nativas': '00ff87'\n",
    "}\n",
    "Map14.addLayer(img5,vizParams, 'Mosaico 2021' )\n",
    "Map14.add_legend(legend_title=\"Random Forest\", legend_dict=legend_dict)\n",
    "Map14.addLayer(componentes,vizParamstess, 'Tesseled cap')\n",
    "Map14"
   ]
  },
  {
   "cell_type": "markdown",
   "id": "e80b449e",
   "metadata": {},
   "source": [
    "### Exportando"
   ]
  },
  {
   "cell_type": "code",
   "execution_count": 168,
   "id": "33de305f",
   "metadata": {
    "ExecuteTime": {
     "end_time": "2022-08-30T15:24:52.425093Z",
     "start_time": "2022-08-30T15:24:52.422259Z"
    }
   },
   "outputs": [],
   "source": [
    "B1 = img5_b.select('B1')\n",
    "B2 = img5_b.select('B2')\n",
    "B3 = img5_b.select('B3')\n",
    "B4 = img5_b.select('B4')\n",
    "B5 = img5_b.select('B5')\n",
    "B6 = img5_b.select('B6')\n",
    "B7 = img5_b.select('B7')"
   ]
  },
  {
   "cell_type": "code",
   "execution_count": 169,
   "id": "8114cfea",
   "metadata": {
    "ExecuteTime": {
     "end_time": "2022-08-30T15:24:52.434821Z",
     "start_time": "2022-08-30T15:24:52.426670Z"
    }
   },
   "outputs": [],
   "source": [
    "geometry_exp = ee.Geometry.Polygon(\n",
    "        [[[-72.56281773604495, -33.81999514196144],\n",
    "          [-72.96381871260745, -35.294382843203024],\n",
    "          [-73.27692906416995, -35.25850698608905],\n",
    "          [-74.15583531416995, -38.13757615203617],\n",
    "          [-73.96357457198245, -38.16349478321529],\n",
    "          [-74.41603250978783, -39.59214901926122],\n",
    "          [-73.71840067385033, -39.70212049569608],\n",
    "          [-74.48057965994737, -41.961233926702086],\n",
    "          [-76.23199334221133, -46.599308425949715],\n",
    "          [-75.71838250236758, -46.6705186900265],\n",
    "          [-76.31583416780423, -48.08335993023956],\n",
    "          [-75.6739504332226, -48.17601084778724],\n",
    "          [-76.1812028986966, -49.3089458997328],\n",
    "          [-75.8516130549466, -49.35190435466257],\n",
    "          [-75.88182545729035, -49.42252520588146],\n",
    "          [-75.62776661939972, -49.4593908439046],\n",
    "          [-75.87838309772656, -50.0286830263256],\n",
    "          [-75.4746355391328, -50.08951678614621],\n",
    "          [-75.54325576346766, -50.23909657453096],\n",
    "          [-75.77780697097086, -50.76007049594944],\n",
    "          [-75.16119930495523, -50.84458853545005],\n",
    "          [-75.38504574050211, -51.344039508567974],\n",
    "          [-75.5541538866841, -51.71140521484993],\n",
    "          [-75.18336531246536, -51.75648162278235],\n",
    "          [-75.47788882049618, -52.3659753295982],\n",
    "          [-74.75894718310815, -52.46884703800526],\n",
    "          [-75.08565455837835, -53.06208069103826],\n",
    "          [-74.55801479059262, -53.126414996444055],\n",
    "          [-74.81690883977036, -53.6371915734125],\n",
    "          [-73.44408000172288, -53.83741753537409],\n",
    "          [-73.50862467945726, -53.95798563315933],\n",
    "          [-73.45231974781663, -53.967680681913386],\n",
    "          [-73.53197062672288, -54.11766576333605],\n",
    "          [-73.77219189508037, -54.57485104154676],\n",
    "          [-72.34049166499341, -54.77775087176573],\n",
    "          [-72.47759402717024, -55.03231503944354],\n",
    "          [-71.05285526571967, -55.24340674895388],\n",
    "          [-71.08306766806342, -55.29113504937561],\n",
    "          [-69.81960741798575, -55.47109132991434],\n",
    "          [-69.85119311134513, -55.51932330880519],\n",
    "          [-69.68227831642325, -55.544194128455445],\n",
    "          [-69.79214159767325, -55.75341614311607],\n",
    "          [-66.85410518726452, -56.21137383375629],\n",
    "          [-66.30968752348785, -55.25322454720416],\n",
    "          [-65.44176760161285, -55.378260612328376],\n",
    "          [-65.29222191220039, -55.084940556988364],\n",
    "          [-63.8145607793879, -55.29503930747886],\n",
    "          [-63.4410256231379, -54.559610949790994],\n",
    "          [-66.01731956845039, -54.18844646199444],\n",
    "          [-65.92942894345039, -53.97576673331468],\n",
    "          [-67.35765159970039, -53.77173637481835],\n",
    "          [-66.83490788218774, -52.56216102836118],\n",
    "          [-68.29059635875024, -52.351280557744616],\n",
    "          [-67.13664467133525, -49.5665018755825],\n",
    "          [-65.6891959408665, -49.77447361491692],\n",
    "          [-64.6040407061826, -46.886773053508534],\n",
    "          [-66.07346209290135, -46.670468623465915],\n",
    "          [-65.60651222417681, -45.29237148760689],\n",
    "          [-64.13159767339556, -45.51413819831776],\n",
    "          [-63.11762183127383, -42.44210625114028],\n",
    "          [-61.64820044455508, -42.65254570178212],\n",
    "          [-60.691700635610566, -39.58656313087865],\n",
    "          [-60.612049756704316, -39.597145764356114],\n",
    "          [-60.214053037778356, -38.26345264755797],\n",
    "          [-62.338430585556544, -37.86345563921212],\n",
    "          [-62.431814374619044, -38.13616213643378],\n",
    "          [-63.880475463562526, -37.8656239671591],\n",
    "          [-63.965619506531276, -38.12752037872568],\n",
    "          [-65.43863114657343, -37.86678770192114],\n",
    "          [-65.52652177157343, -38.12867996539086],\n",
    "          [-66.31753739657343, -37.98811028708228],\n",
    "          [-65.98609312949165, -36.82548737245019],\n",
    "          [-68.06866521074468, -36.43149799324939],\n",
    "          [-68.16204899980718, -36.70723234878123],\n",
    "          [-69.00250310136968, -36.55294237984414],\n",
    "          [-68.66838285254276, -35.38834808765389],\n",
    "          [-70.73190167990279, -35.008946233837705],\n",
    "          [-70.82528546896529, -35.29190694633577],\n",
    "          [-71.68771222677779, -35.11685679848462],\n",
    "          [-71.37460187521529, -33.95679291780399],\n",
    "          [-72.53365949240279, -33.733238932504804]]])"
   ]
  },
  {
   "cell_type": "code",
   "execution_count": 170,
   "id": "ae51d531",
   "metadata": {
    "ExecuteTime": {
     "end_time": "2022-08-30T15:24:52.438384Z",
     "start_time": "2022-08-30T15:24:52.436652Z"
    }
   },
   "outputs": [],
   "source": [
    "# img5_1 = img5_1.reproject(crs='EPSG:32719',scale = 30)\n",
    "# img5_2 = img5_2.reproject(crs='EPSG:32719',scale = 30)\n",
    "# img5_3 = img5_3.reproject(crs='EPSG:32719',scale = 30)\n",
    "# img5_4 = img5_4.reproject(crs='EPSG:32719',scale = 30)\n",
    "# img5_5 = img5_5.reproject(crs='EPSG:32719',scale = 30)\n",
    "# img5_6 = img5_6.reproject(crs='EPSG:32719',scale = 30)\n",
    "# img5_7 = img5_7.reproject(crs='EPSG:32719',scale = 30)\n",
    "# img5_8 = img5_8.reproject(crs='EPSG:32719',scale = 30)"
   ]
  },
  {
   "cell_type": "code",
   "execution_count": 171,
   "id": "7925ec43",
   "metadata": {
    "ExecuteTime": {
     "end_time": "2022-08-30T15:24:52.441861Z",
     "start_time": "2022-08-30T15:24:52.439822Z"
    }
   },
   "outputs": [],
   "source": [
    "# img5_B1 = img5.select('B1').clip(partes1).unmask()\n",
    "# img5_B1 = img5.select('B1').clip(partes2).unmask()\n",
    "# img5_B1 = img5.select('B1').clip(partes3).unmask()\n",
    "# img5_B1 = img5.select('B1').clip(partes4).unmask()\n",
    "# img5_B1 = img5.select('B1').clip(partes5).unmask()\n",
    "# img5_B1 = img5.select('B1').clip(partes6).unmask()\n",
    "# img5_B1 = img5.select('B1').clip(partes7).unmask()\n",
    "# img5_B1 = img5.select('B1').clip(partes8).unmask()#coastal aerosol\n",
    "# img5_B2 = img5.select('B2') #Blue\n",
    "# img5_B2_p1 = img5.select('B2').clip(partes1).unmask()\n",
    "# img5_B2_p2 = img5.select('B2').clip(partes2).unmask()\n",
    "# img5_B2_p3 = img5.select('B2').clip(partes3).unmask()\n",
    "# img5_B2_p4 = img5.select('B2').clip(partes4).unmask()\n",
    "# img5_B2_p5 = img5.select('B2').clip(partes5).unmask()\n",
    "# img5_B2_p6 = img5.select('B2').clip(partes6).unmask()\n",
    "# img5_B2_p7 = img5.select('B2').clip(partes7).unmask()\n",
    "# img5_B2_p8 = img5.select('B2').clip(partes8).unmask()#Blue\n",
    "# img5_B3 = img5.select('B3') #green\n",
    "# img5_B4 = img5.select('B4') #red\n",
    "# img5_B5 = img5.select('B5') #near red\n",
    "# img5_B6 = img5.select('B6') #shortwave infrared 1\n",
    "# img5_B7 = img5.select('B7') #shortwave infrared 2\n",
    "# img5_B8 = img5.select('B8') # panchromatic\n",
    "# img5_B9 = img5.select('B9') #cirrus\n",
    "# img5_B10 = img5.select('B10') #Thermal 1\n",
    "# img5_B11 = img5.select('B11') # Thermal 2\n",
    "# img5_NDVI = img5.select('NDVI') # NDVI\n",
    "# img5_NDWI = img5.select('NDWI') # 'NDWI'\n",
    "# img5_NDGI = img5.select('NDGI') # NDGI\n",
    "# img5_SAVI = img5.select('SAVI') #SAVI\n",
    "# img5_NDSI = img5.select('NDSI') #NDSI\n",
    "# img5_date = img5.select('date') #date\n",
    "# img5_nube = img5.select('nube') #nube"
   ]
  },
  {
   "cell_type": "code",
   "execution_count": 172,
   "id": "f61a3d7d",
   "metadata": {
    "ExecuteTime": {
     "end_time": "2022-08-30T15:24:52.445412Z",
     "start_time": "2022-08-30T15:24:52.443737Z"
    }
   },
   "outputs": [],
   "source": [
    "# transf=ee.Array([30, 0, 214185, 0, -30, -4825185])"
   ]
  },
  {
   "cell_type": "code",
   "execution_count": 173,
   "id": "4c4da7ae",
   "metadata": {
    "ExecuteTime": {
     "end_time": "2022-08-30T15:24:52.448496Z",
     "start_time": "2022-08-30T15:24:52.446845Z"
    }
   },
   "outputs": [],
   "source": [
    "# transf.getInfo()"
   ]
  },
  {
   "cell_type": "code",
   "execution_count": 174,
   "id": "a27fe7ba",
   "metadata": {
    "ExecuteTime": {
     "end_time": "2022-08-30T15:24:52.455748Z",
     "start_time": "2022-08-30T15:24:52.449951Z"
    }
   },
   "outputs": [],
   "source": [
    "task_mosaico_B1 = ee.batch.Export.image.toDrive(**{\n",
    "    'image': B1,\n",
    "    'description':'B1',\n",
    "    'folder':'Earth Engine',\n",
    "    'region': geometry_exp.bounds(),\n",
    "    'scale':30,\n",
    "    'crsTransform':[30, 0, 214185, 0, -30, -4825185], \n",
    "    'crs':'EPSG:32719',\n",
    "    'maxPixels':1e13\n",
    "})\n",
    "task_mosaico_B2 = ee.batch.Export.image.toDrive(**{\n",
    "    'image': B2,\n",
    "    'description':'B2',\n",
    "    'folder':'Earth Engine',\n",
    "    'region': geometry_exp.bounds(),\n",
    "    'scale':30,\n",
    "    'crsTransform':[30, 0, 214185, 0, -30, -4825185], \n",
    "    'crs':'EPSG:32719',\n",
    "    'maxPixels':1e13\n",
    "})\n",
    "task_mosaico_B3 = ee.batch.Export.image.toDrive(**{\n",
    "    'image': B3,\n",
    "    'description':'B3',\n",
    "    'folder':'Earth Engine',\n",
    "    'region': geometry_exp.bounds(),\n",
    "    'scale':30,\n",
    "    'crsTransform':[30, 0, 214185, 0, -30, -4825185], \n",
    "    'crs':'EPSG:32719',\n",
    "    'maxPixels':1e13\n",
    "})\n",
    "task_mosaico_B4 = ee.batch.Export.image.toDrive(**{\n",
    "    'image': B4,\n",
    "    'description':'B4',\n",
    "    'folder':'Earth Engine',\n",
    "    'region': geometry_exp.bounds(),\n",
    "    'scale':30,\n",
    "    'crsTransform':[30, 0, 214185, 0, -30, -4825185], \n",
    "    'crs':'EPSG:32719',\n",
    "    'maxPixels':1e13\n",
    "})\n",
    "task_mosaico_B5 = ee.batch.Export.image.toDrive(**{\n",
    "    'image': B5,\n",
    "    'description':'B5',\n",
    "    'folder':'Earth Engine',\n",
    "    'region': geometry_exp.bounds(),\n",
    "    'scale':30,\n",
    "    'crsTransform':[30, 0, 214185, 0, -30, -4825185], \n",
    "    'crs':'EPSG:32719',\n",
    "    'maxPixels':1e13\n",
    "})\n",
    "task_mosaico_B6 = ee.batch.Export.image.toDrive(**{\n",
    "    'image': B6,\n",
    "    'description':'B6',\n",
    "    'folder':'Earth Engine',\n",
    "    'region': geometry_exp.bounds(),\n",
    "    'scale':30,\n",
    "    'crsTransform':[30, 0, 214185, 0, -30, -4825185], \n",
    "    'crs':'EPSG:32719',\n",
    "    'maxPixels':1e13\n",
    "})\n",
    "task_mosaico_B7 = ee.batch.Export.image.toDrive(**{\n",
    "    'image': B7,\n",
    "    'description':'B7',\n",
    "    'folder':'Earth Engine',\n",
    "    'region': geometry_exp.bounds(),\n",
    "    'scale':30,\n",
    "    'crsTransform':[30, 0, 214185, 0, -30, -4825185], \n",
    "    'crs':'EPSG:32719',\n",
    "    'maxPixels':1e13\n",
    "})\n"
   ]
  },
  {
   "cell_type": "code",
   "execution_count": 175,
   "id": "91fc6413",
   "metadata": {
    "ExecuteTime": {
     "end_time": "2022-08-30T15:24:57.528269Z",
     "start_time": "2022-08-30T15:24:52.457336Z"
    }
   },
   "outputs": [],
   "source": [
    "task_mosaico_B1.start()\n",
    "task_mosaico_B2.start()\n",
    "task_mosaico_B3.start()\n",
    "task_mosaico_B4.start()\n",
    "task_mosaico_B5.start()\n",
    "task_mosaico_B6.start()\n",
    "task_mosaico_B7.start()"
   ]
  },
  {
   "cell_type": "code",
   "execution_count": 176,
   "id": "40883640",
   "metadata": {
    "ExecuteTime": {
     "end_time": "2022-08-30T15:24:57.531409Z",
     "start_time": "2022-08-30T15:24:57.529570Z"
    }
   },
   "outputs": [],
   "source": [
    "# task2_1.start()\n",
    "# task2_2.start()\n",
    "# task2_3.start()\n",
    "# task2_4.start()\n",
    "# task2_5.start()\n",
    "# task2_6.start()\n",
    "# task2_7.start()\n",
    "# task2_8.start()"
   ]
  },
  {
   "cell_type": "code",
   "execution_count": 177,
   "id": "cceda41f",
   "metadata": {
    "ExecuteTime": {
     "end_time": "2022-08-30T15:24:57.536917Z",
     "start_time": "2022-08-30T15:24:57.534069Z"
    }
   },
   "outputs": [],
   "source": [
    "img5_B1 = img5.select(\"B1\")\n",
    "img5_B2 = img5.select(\"B2\")\n",
    "img5_B3 = img5.select(\"B3\")\n",
    "img5_B4 = img5.select(\"B4\")\n",
    "img5_B5 = img5.select(\"B5\")\n",
    "img5_B6 = img5.select(\"B6\")\n",
    "img5_B7 = img5.select(\"B7\")"
   ]
  },
  {
   "cell_type": "code",
   "execution_count": 178,
   "id": "5bf824d7",
   "metadata": {
    "ExecuteTime": {
     "end_time": "2022-08-30T15:24:57.544284Z",
     "start_time": "2022-08-30T15:24:57.538047Z"
    }
   },
   "outputs": [],
   "source": [
    "task1 = ee.batch.Export.image.toDrive(**{\n",
    "    'image': img5_B1,\n",
    "    'description':'B1',\n",
    "    'folder':'exp2021_19s_full',\n",
    "    'region': geometry_exp.bounds(),\n",
    "    'scale':30,\n",
    "    'crsTransform':[30, 0, 214185, 0, -30, -4825185], \n",
    "    'crs':'EPSG:32719',\n",
    "    'maxPixels':1e13\n",
    "})\n",
    "task2 = ee.batch.Export.image.toDrive(**{\n",
    "    'image': img5_B2,\n",
    "    'description':'B2',\n",
    "    'folder':'exp2021_19s_full',\n",
    "    'region': geometry_exp.bounds(),\n",
    "    'scale':30,\n",
    "    'crsTransform':[30, 0, 214185, 0, -30, -4825185], \n",
    "    'crs':'EPSG:32719',\n",
    "    'maxPixels':1e13\n",
    "})\n",
    "task3 = ee.batch.Export.image.toDrive(**{\n",
    "    'image': img5_B3,\n",
    "    'description':'B3',\n",
    "    'folder':'exp2021_19s_full',\n",
    "    'region': geometry_exp.bounds(),\n",
    "    'scale':30,\n",
    "    'crsTransform':[30, 0, 214185, 0, -30, -4825185], \n",
    "    'crs':'EPSG:32719',\n",
    "    'maxPixels':1e13\n",
    "})\n",
    "task4 = ee.batch.Export.image.toDrive(**{\n",
    "    'image': img5_B4,\n",
    "    'description':'B4',\n",
    "    'folder':'exp2021_19s_full',\n",
    "    'region': geometry_exp.bounds(),\n",
    "    'scale':30,\n",
    "    'crsTransform':[30, 0, 214185, 0, -30, -4825185], \n",
    "    'crs':'EPSG:32719',\n",
    "    'maxPixels':1e13\n",
    "})\n",
    "task5 = ee.batch.Export.image.toDrive(**{\n",
    "    'image': img5_B5,\n",
    "    'description':'B5',\n",
    "    'folder':'exp2021_19s_full',\n",
    "    'region': geometry_exp.bounds(),\n",
    "    'scale':30,\n",
    "    'crsTransform':[30, 0, 214185, 0, -30, -4825185], \n",
    "    'crs':'EPSG:32719',\n",
    "    'maxPixels':1e13\n",
    "})\n",
    "task6 = ee.batch.Export.image.toDrive(**{\n",
    "    'image': img5_B6,\n",
    "    'description':'B6',\n",
    "    'folder':'exp2021_19s_full',\n",
    "    'region': geometry_exp.bounds(),\n",
    "    'scale':30,\n",
    "    'crsTransform':[30, 0, 214185, 0, -30, -4825185], \n",
    "    'crs':'EPSG:32719',\n",
    "    'maxPixels':1e13\n",
    "})\n",
    "task7 = ee.batch.Export.image.toDrive(**{\n",
    "    'image': img5_B7,\n",
    "    'description':'B7',\n",
    "    'folder':'exp2021_19s_full',\n",
    "    'region': geometry_exp.bounds(),\n",
    "    'scale':30,\n",
    "    'crsTransform':[30, 0, 214185, 0, -30, -4825185], \n",
    "    'crs':'EPSG:32719',\n",
    "    'maxPixels':1e13\n",
    "})"
   ]
  },
  {
   "cell_type": "code",
   "execution_count": 179,
   "id": "dfee8042",
   "metadata": {
    "ExecuteTime": {
     "end_time": "2022-08-30T15:24:57.547292Z",
     "start_time": "2022-08-30T15:24:57.545722Z"
    }
   },
   "outputs": [],
   "source": [
    "# task1.start()\n",
    "# task2.start()\n",
    "# task3.start()\n",
    "# task4.start()\n",
    "# task5.start()\n",
    "# task6.start()\n",
    "# task7.start()"
   ]
  },
  {
   "cell_type": "code",
   "execution_count": 180,
   "id": "0633aa27",
   "metadata": {
    "ExecuteTime": {
     "end_time": "2022-08-30T15:24:57.550332Z",
     "start_time": "2022-08-30T15:24:57.548510Z"
    }
   },
   "outputs": [],
   "source": [
    "brillo = componentes.select('brightness')\n",
    "greenness = componentes.select('greenness')\n",
    "wetness = componentes.select('wetness')\n",
    "# ['brightness','greenness','wetness','fourth','fifth','sixth']"
   ]
  },
  {
   "cell_type": "code",
   "execution_count": 181,
   "id": "5cc31766",
   "metadata": {
    "ExecuteTime": {
     "end_time": "2022-08-30T15:24:57.554861Z",
     "start_time": "2022-08-30T15:24:57.551549Z"
    }
   },
   "outputs": [],
   "source": [
    "task8 = ee.batch.Export.image.toDrive(**{\n",
    "    'image': brillo,\n",
    "    'description':'brillo',\n",
    "    'folder':'exp2021_19s_full',\n",
    "    'region': geometry_exp.bounds(),\n",
    "    'scale':30,\n",
    "    'crsTransform':[30, 0, 214185, 0, -30, -4825185], \n",
    "    'crs':'EPSG:32719',\n",
    "    'maxPixels':1e13\n",
    "})\n",
    "task9 = ee.batch.Export.image.toDrive(**{\n",
    "    'image': greenness,\n",
    "    'description':'greenness',\n",
    "    'folder':'exp2021_19s_full',\n",
    "    'region': geometry_exp.bounds(),\n",
    "    'scale':30,\n",
    "    'crsTransform':[30, 0, 214185, 0, -30, -4825185], \n",
    "    'crs':'EPSG:32719',\n",
    "    'maxPixels':1e13\n",
    "})\n",
    "task10 = ee.batch.Export.image.toDrive(**{\n",
    "    'image': wetness,\n",
    "    'description':'wetness',\n",
    "    'folder':'exp2021_19s_full',\n",
    "    'region': geometry_exp.bounds(),\n",
    "    'scale':30,\n",
    "    'crsTransform':[30, 0, 214185, 0, -30, -4825185], \n",
    "    'crs':'EPSG:32719',\n",
    "    'maxPixels':1e13\n",
    "})"
   ]
  },
  {
   "cell_type": "code",
   "execution_count": 182,
   "id": "056a7102",
   "metadata": {
    "ExecuteTime": {
     "end_time": "2022-08-30T15:24:57.557986Z",
     "start_time": "2022-08-30T15:24:57.556345Z"
    }
   },
   "outputs": [],
   "source": [
    "# task8.start()\n",
    "# task9.start()\n",
    "# task10.start()"
   ]
  },
  {
   "cell_type": "code",
   "execution_count": 183,
   "id": "d2f5a9d0",
   "metadata": {
    "ExecuteTime": {
     "end_time": "2022-08-30T15:24:57.569711Z",
     "start_time": "2022-08-30T15:24:57.559487Z"
    }
   },
   "outputs": [
    {
     "ename": "NameError",
     "evalue": "name 'landcovertest' is not defined",
     "output_type": "error",
     "traceback": [
      "\u001b[0;31m---------------------------------------------------------------------------\u001b[0m",
      "\u001b[0;31mNameError\u001b[0m                                 Traceback (most recent call last)",
      "Input \u001b[0;32mIn [183]\u001b[0m, in \u001b[0;36m<cell line: 1>\u001b[0;34m()\u001b[0m\n\u001b[1;32m      1\u001b[0m taskclas \u001b[38;5;241m=\u001b[39m ee\u001b[38;5;241m.\u001b[39mbatch\u001b[38;5;241m.\u001b[39mExport\u001b[38;5;241m.\u001b[39mimage\u001b[38;5;241m.\u001b[39mtoDrive(\u001b[38;5;241m*\u001b[39m\u001b[38;5;241m*\u001b[39m{\n\u001b[0;32m----> 2\u001b[0m     \u001b[38;5;124m'\u001b[39m\u001b[38;5;124mimage\u001b[39m\u001b[38;5;124m'\u001b[39m: \u001b[43mlandcovertest\u001b[49m,\n\u001b[1;32m      3\u001b[0m     \u001b[38;5;124m'\u001b[39m\u001b[38;5;124mdescription\u001b[39m\u001b[38;5;124m'\u001b[39m:\u001b[38;5;124m'\u001b[39m\u001b[38;5;124mlandcover_2021_invierno\u001b[39m\u001b[38;5;124m'\u001b[39m,\n\u001b[1;32m      4\u001b[0m     \u001b[38;5;124m'\u001b[39m\u001b[38;5;124mfolder\u001b[39m\u001b[38;5;124m'\u001b[39m:\u001b[38;5;124m'\u001b[39m\u001b[38;5;124mLandcover 2021\u001b[39m\u001b[38;5;124m'\u001b[39m,\n\u001b[1;32m      5\u001b[0m     \u001b[38;5;124m'\u001b[39m\u001b[38;5;124mregion\u001b[39m\u001b[38;5;124m'\u001b[39m: geometry_exp\u001b[38;5;241m.\u001b[39mbounds(),\n\u001b[1;32m      6\u001b[0m     \u001b[38;5;124m'\u001b[39m\u001b[38;5;124mscale\u001b[39m\u001b[38;5;124m'\u001b[39m:\u001b[38;5;241m30\u001b[39m,\n\u001b[1;32m      7\u001b[0m     \u001b[38;5;124m'\u001b[39m\u001b[38;5;124mcrsTransform\u001b[39m\u001b[38;5;124m'\u001b[39m:[\u001b[38;5;241m30\u001b[39m, \u001b[38;5;241m0\u001b[39m, \u001b[38;5;241m214185\u001b[39m, \u001b[38;5;241m0\u001b[39m, \u001b[38;5;241m-\u001b[39m\u001b[38;5;241m30\u001b[39m, \u001b[38;5;241m-\u001b[39m\u001b[38;5;241m4825185\u001b[39m], \n\u001b[1;32m      8\u001b[0m     \u001b[38;5;124m'\u001b[39m\u001b[38;5;124mcrs\u001b[39m\u001b[38;5;124m'\u001b[39m:\u001b[38;5;124m'\u001b[39m\u001b[38;5;124mEPSG:32719\u001b[39m\u001b[38;5;124m'\u001b[39m,\n\u001b[1;32m      9\u001b[0m     \u001b[38;5;124m'\u001b[39m\u001b[38;5;124mmaxPixels\u001b[39m\u001b[38;5;124m'\u001b[39m:\u001b[38;5;241m1e13\u001b[39m\n\u001b[1;32m     10\u001b[0m })\n",
      "\u001b[0;31mNameError\u001b[0m: name 'landcovertest' is not defined"
     ]
    }
   ],
   "source": [
    "taskclas = ee.batch.Export.image.toDrive(**{\n",
    "    'image': landcovertest,\n",
    "    'description':'landcover_2021_invierno',\n",
    "    'folder':'Landcover 2021',\n",
    "    'region': geometry_exp.bounds(),\n",
    "    'scale':30,\n",
    "    'crsTransform':[30, 0, 214185, 0, -30, -4825185], \n",
    "    'crs':'EPSG:32719',\n",
    "    'maxPixels':1e13\n",
    "})"
   ]
  },
  {
   "cell_type": "code",
   "execution_count": null,
   "id": "ff0135e3",
   "metadata": {
    "ExecuteTime": {
     "end_time": "2022-08-30T15:24:57.573369Z",
     "start_time": "2022-08-30T15:24:57.573354Z"
    }
   },
   "outputs": [],
   "source": [
    "# taskclas.start()"
   ]
  }
 ],
 "metadata": {
  "kernelspec": {
   "display_name": "Python 3 (ipykernel)",
   "language": "python",
   "name": "python3"
  },
  "language_info": {
   "codemirror_mode": {
    "name": "ipython",
    "version": 3
   },
   "file_extension": ".py",
   "mimetype": "text/x-python",
   "name": "python",
   "nbconvert_exporter": "python",
   "pygments_lexer": "ipython3",
   "version": "3.8.13"
  },
  "toc": {
   "base_numbering": 1,
   "nav_menu": {},
   "number_sections": true,
   "sideBar": true,
   "skip_h1_title": false,
   "title_cell": "Table of Contents",
   "title_sidebar": "Contents",
   "toc_cell": false,
   "toc_position": {
    "height": "calc(100% - 180px)",
    "left": "10px",
    "top": "150px",
    "width": "384px"
   },
   "toc_section_display": true,
   "toc_window_display": true
  },
  "varInspector": {
   "cols": {
    "lenName": 16,
    "lenType": 16,
    "lenVar": 40
   },
   "kernels_config": {
    "python": {
     "delete_cmd_postfix": "",
     "delete_cmd_prefix": "del ",
     "library": "var_list.py",
     "varRefreshCmd": "print(var_dic_list())"
    },
    "r": {
     "delete_cmd_postfix": ") ",
     "delete_cmd_prefix": "rm(",
     "library": "var_list.r",
     "varRefreshCmd": "cat(var_dic_list()) "
    }
   },
   "types_to_exclude": [
    "module",
    "function",
    "builtin_function_or_method",
    "instance",
    "_Feature"
   ],
   "window_display": false
  }
 },
 "nbformat": 4,
 "nbformat_minor": 5
}
