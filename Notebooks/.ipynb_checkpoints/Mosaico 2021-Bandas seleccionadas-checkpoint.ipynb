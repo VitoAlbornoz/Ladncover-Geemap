{
 "cells": [
  {
   "cell_type": "markdown",
   "id": "c8ee7fef",
   "metadata": {},
   "source": [
    "# Mosaico 2021"
   ]
  },
  {
   "cell_type": "markdown",
   "id": "203f76ca",
   "metadata": {},
   "source": [
    "Script trabajado por Francisco Albornoz (2022-02-01) / Última modificación / Mosaicos Patagonia"
   ]
  },
  {
   "cell_type": "markdown",
   "id": "2fb5cdeb",
   "metadata": {},
   "source": [
    "2022-02-01 13:20:38 "
   ]
  },
  {
   "cell_type": "code",
   "execution_count": null,
   "id": "3057c761",
   "metadata": {
    "ExecuteTime": {
     "end_time": "2022-02-14T12:42:06.859006Z",
     "start_time": "2022-02-14T12:42:04.784751Z"
    }
   },
   "outputs": [],
   "source": [
    "import ee \n",
    "import geemap\n",
    "import geemap.chart as chart\n",
    "import os\n",
    "import folium\n",
    "import xarray_leaflet\n",
    "import rasterio \n",
    "from rasterio import plot\n",
    "import matplotlib.pyplot as plt\n",
    "import numpy as np\n",
    "%matplotlib inline"
   ]
  },
  {
   "cell_type": "markdown",
   "id": "1997eeb4",
   "metadata": {},
   "source": [
    "<img src=https://www.ecopaysen.cl/wp-content/uploads/2019/12/ecopaysen_marca_web.png>"
   ]
  },
  {
   "cell_type": "code",
   "execution_count": null,
   "id": "fca49a56",
   "metadata": {
    "ExecuteTime": {
     "end_time": "2022-02-14T12:42:17.575360Z",
     "start_time": "2022-02-14T12:42:06.860188Z"
    }
   },
   "outputs": [],
   "source": [
    "Map = geemap.Map(center = [-45, -70], zoom = 4)\n",
    "Map1 = geemap.Map(center = [-45, -70], zoom = 4)\n",
    "Map2 = geemap.Map(center = [-45, -70], zoom = 4)\n",
    "Map3 = geemap.Map(center = [-45, -70], zoom = 4)\n",
    "Map4 = geemap.Map(center = [-45, -70], zoom = 4)\n",
    "Map5 = geemap.Map(center = [-45, -70], zoom = 4)\n",
    "Map6 = geemap.Map(center = [-45, -70], zoom = 4)\n",
    "Map7 = geemap.Map(center = [-45, -70], zoom = 4)\n",
    "Map8 = geemap.Map(center = [-45, -70], zoom = 4)\n",
    "Map9 = geemap.Map(center = [-45, -70], zoom = 4)\n",
    "Map10 = geemap.Map(center = [-45, -70], zoom = 4)\n",
    "Map11 = geemap.Map(center = [-45, -70], zoom = 4)\n",
    "Map12 = geemap.Map(center = [-45, -70], zoom = 4)\n",
    "Map13 = geemap.Map(center = [-45, -70], zoom = 4)\n",
    "Map14 = geemap.Map(center = [-45, -70], zoom = 4)\n",
    "Map15 = geemap.Map(center = [-45, -70], zoom = 4)\n",
    "Map16 = geemap.Map(center = [-45, -70], zoom = 4)"
   ]
  },
  {
   "cell_type": "markdown",
   "id": "f26fe1a2",
   "metadata": {},
   "source": [
    "## Área de Estudio"
   ]
  },
  {
   "cell_type": "code",
   "execution_count": null,
   "id": "2aae613d",
   "metadata": {
    "ExecuteTime": {
     "end_time": "2022-02-14T12:42:20.095495Z",
     "start_time": "2022-02-14T12:42:17.576228Z"
    }
   },
   "outputs": [],
   "source": [
    "work_dir = os.path.expanduser('../Data/')\n",
    "patagonia = os.path.join(work_dir, 'patagonia_geo.shp')\n",
    "patagonia_grande = geemap.shp_to_ee(patagonia)\n",
    "tierra_fuego =os.path.join(work_dir, 'tierra_fuego.shp')\n",
    "tierra_fuego = geemap.shp_to_ee(tierra_fuego)"
   ]
  },
  {
   "cell_type": "code",
   "execution_count": null,
   "id": "4dbbceda",
   "metadata": {
    "ExecuteTime": {
     "end_time": "2022-02-14T12:42:20.105641Z",
     "start_time": "2022-02-14T12:42:20.097172Z"
    }
   },
   "outputs": [],
   "source": [
    "geometry_exp = ee.Geometry.Polygon(\n",
    "        [[[-72.56281773604495, -33.81999514196144],\n",
    "          [-72.96381871260745, -35.294382843203024],\n",
    "          [-73.27692906416995, -35.25850698608905],\n",
    "          [-74.15583531416995, -38.13757615203617],\n",
    "          [-73.96357457198245, -38.16349478321529],\n",
    "          [-74.41603250978783, -39.59214901926122],\n",
    "          [-73.71840067385033, -39.70212049569608],\n",
    "          [-74.48057965994737, -41.961233926702086],\n",
    "          [-76.23199334221133, -46.599308425949715],\n",
    "          [-75.71838250236758, -46.6705186900265],\n",
    "          [-76.31583416780423, -48.08335993023956],\n",
    "          [-75.6739504332226, -48.17601084778724],\n",
    "          [-76.1812028986966, -49.3089458997328],\n",
    "          [-75.8516130549466, -49.35190435466257],\n",
    "          [-75.88182545729035, -49.42252520588146],\n",
    "          [-75.62776661939972, -49.4593908439046],\n",
    "          [-75.87838309772656, -50.0286830263256],\n",
    "          [-75.4746355391328, -50.08951678614621],\n",
    "          [-75.54325576346766, -50.23909657453096],\n",
    "          [-75.77780697097086, -50.76007049594944],\n",
    "          [-75.16119930495523, -50.84458853545005],\n",
    "          [-75.38504574050211, -51.344039508567974],\n",
    "          [-75.5541538866841, -51.71140521484993],\n",
    "          [-75.18336531246536, -51.75648162278235],\n",
    "          [-75.47788882049618, -52.3659753295982],\n",
    "          [-74.75894718310815, -52.46884703800526],\n",
    "          [-75.08565455837835, -53.06208069103826],\n",
    "          [-74.55801479059262, -53.126414996444055],\n",
    "          [-74.81690883977036, -53.6371915734125],\n",
    "          [-73.44408000172288, -53.83741753537409],\n",
    "          [-73.50862467945726, -53.95798563315933],\n",
    "          [-73.45231974781663, -53.967680681913386],\n",
    "          [-73.53197062672288, -54.11766576333605],\n",
    "          [-73.77219189508037, -54.57485104154676],\n",
    "          [-72.34049166499341, -54.77775087176573],\n",
    "          [-72.47759402717024, -55.03231503944354],\n",
    "          [-71.05285526571967, -55.24340674895388],\n",
    "          [-71.08306766806342, -55.29113504937561],\n",
    "          [-69.81960741798575, -55.47109132991434],\n",
    "          [-69.85119311134513, -55.51932330880519],\n",
    "          [-69.68227831642325, -55.544194128455445],\n",
    "          [-69.79214159767325, -55.75341614311607],\n",
    "          [-66.85410518726452, -56.21137383375629],\n",
    "          [-66.30968752348785, -55.25322454720416],\n",
    "          [-65.44176760161285, -55.378260612328376],\n",
    "          [-65.29222191220039, -55.084940556988364],\n",
    "          [-63.8145607793879, -55.29503930747886],\n",
    "          [-63.4410256231379, -54.559610949790994],\n",
    "          [-66.01731956845039, -54.18844646199444],\n",
    "          [-65.92942894345039, -53.97576673331468],\n",
    "          [-67.35765159970039, -53.77173637481835],\n",
    "          [-66.83490788218774, -52.56216102836118],\n",
    "          [-68.29059635875024, -52.351280557744616],\n",
    "          [-67.13664467133525, -49.5665018755825],\n",
    "          [-65.6891959408665, -49.77447361491692],\n",
    "          [-64.6040407061826, -46.886773053508534],\n",
    "          [-66.07346209290135, -46.670468623465915],\n",
    "          [-65.60651222417681, -45.29237148760689],\n",
    "          [-64.13159767339556, -45.51413819831776],\n",
    "          [-63.11762183127383, -42.44210625114028],\n",
    "          [-61.64820044455508, -42.65254570178212],\n",
    "          [-60.691700635610566, -39.58656313087865],\n",
    "          [-60.612049756704316, -39.597145764356114],\n",
    "          [-60.214053037778356, -38.26345264755797],\n",
    "          [-62.338430585556544, -37.86345563921212],\n",
    "          [-62.431814374619044, -38.13616213643378],\n",
    "          [-63.880475463562526, -37.8656239671591],\n",
    "          [-63.965619506531276, -38.12752037872568],\n",
    "          [-65.43863114657343, -37.86678770192114],\n",
    "          [-65.52652177157343, -38.12867996539086],\n",
    "          [-66.31753739657343, -37.98811028708228],\n",
    "          [-65.98609312949165, -36.82548737245019],\n",
    "          [-68.06866521074468, -36.43149799324939],\n",
    "          [-68.16204899980718, -36.70723234878123],\n",
    "          [-69.00250310136968, -36.55294237984414],\n",
    "          [-68.66838285254276, -35.38834808765389],\n",
    "          [-70.73190167990279, -35.008946233837705],\n",
    "          [-70.82528546896529, -35.29190694633577],\n",
    "          [-71.68771222677779, -35.11685679848462],\n",
    "          [-71.37460187521529, -33.95679291780399],\n",
    "          [-72.53365949240279, -33.733238932504804]]])"
   ]
  },
  {
   "cell_type": "markdown",
   "id": "fa8e2fea",
   "metadata": {},
   "source": [
    "## Colors Bars"
   ]
  },
  {
   "cell_type": "code",
   "execution_count": null,
   "id": "1efebd11",
   "metadata": {
    "ExecuteTime": {
     "end_time": "2022-02-14T12:42:21.012658Z",
     "start_time": "2022-02-14T12:42:20.106480Z"
    }
   },
   "outputs": [],
   "source": [
    "import geemap.colormaps as cm"
   ]
  },
  {
   "cell_type": "code",
   "execution_count": null,
   "id": "d159d70f",
   "metadata": {
    "ExecuteTime": {
     "end_time": "2022-02-14T12:42:21.015588Z",
     "start_time": "2022-02-14T12:42:21.013612Z"
    }
   },
   "outputs": [],
   "source": [
    "# cm.palettes.terrain"
   ]
  },
  {
   "cell_type": "code",
   "execution_count": null,
   "id": "fe999a91",
   "metadata": {
    "ExecuteTime": {
     "end_time": "2022-02-14T12:42:21.021223Z",
     "start_time": "2022-02-14T12:42:21.016300Z"
    }
   },
   "outputs": [],
   "source": [
    "color_ndvi = cm.palettes.ndvi"
   ]
  },
  {
   "cell_type": "code",
   "execution_count": null,
   "id": "05fb282a",
   "metadata": {
    "ExecuteTime": {
     "end_time": "2022-02-14T12:42:21.026220Z",
     "start_time": "2022-02-14T12:42:21.022349Z"
    }
   },
   "outputs": [],
   "source": [
    "color_ndwi = cm.palettes.ndwi"
   ]
  },
  {
   "cell_type": "code",
   "execution_count": null,
   "id": "68161910",
   "metadata": {
    "ExecuteTime": {
     "end_time": "2022-02-14T12:42:21.031215Z",
     "start_time": "2022-02-14T12:42:21.027149Z"
    }
   },
   "outputs": [],
   "source": [
    "color_terrain = cm.palettes.terrain"
   ]
  },
  {
   "cell_type": "code",
   "execution_count": null,
   "id": "8e99245f",
   "metadata": {
    "ExecuteTime": {
     "end_time": "2022-02-14T12:42:21.036148Z",
     "start_time": "2022-02-14T12:42:21.033037Z"
    }
   },
   "outputs": [],
   "source": [
    "color_glaciar = cm.palettes.PuBuGn_r"
   ]
  },
  {
   "cell_type": "code",
   "execution_count": null,
   "id": "92b8cf41",
   "metadata": {
    "ExecuteTime": {
     "end_time": "2022-02-14T12:42:21.042156Z",
     "start_time": "2022-02-14T12:42:21.037021Z"
    }
   },
   "outputs": [],
   "source": [
    "color_nubes = cm.palettes.inferno"
   ]
  },
  {
   "cell_type": "code",
   "execution_count": null,
   "id": "39930741",
   "metadata": {
    "ExecuteTime": {
     "end_time": "2022-02-14T12:42:21.046256Z",
     "start_time": "2022-02-14T12:42:21.042805Z"
    }
   },
   "outputs": [],
   "source": [
    "# cm.list_colormaps()"
   ]
  },
  {
   "cell_type": "code",
   "execution_count": null,
   "id": "d6233e9b",
   "metadata": {
    "ExecuteTime": {
     "end_time": "2022-02-14T12:42:21.051163Z",
     "start_time": "2022-02-14T12:42:21.047287Z"
    }
   },
   "outputs": [],
   "source": [
    "color_rainbow = cm.palettes.summer_r"
   ]
  },
  {
   "cell_type": "markdown",
   "id": "11666045",
   "metadata": {},
   "source": [
    "## Funciones"
   ]
  },
  {
   "cell_type": "code",
   "execution_count": null,
   "id": "166db170",
   "metadata": {
    "ExecuteTime": {
     "end_time": "2022-02-14T12:42:21.056996Z",
     "start_time": "2022-02-14T12:42:21.052090Z"
    }
   },
   "outputs": [],
   "source": [
    "def add_ee_layer(self, ee_image_object, vis_params, name):\n",
    "  map_id_dict = ee.Image(ee_image_object).getMapId(vis_params)\n",
    "  folium.raster_layers.TileLayer(\n",
    "      tiles=map_id_dict['tile_fetcher'].url_format,\n",
    "      attr='Map Data &copy; <a href=\"https://earthengine.google.com/\">Google Earth Engine</a>',\n",
    "      name=name,\n",
    "      overlay=True,\n",
    "      control=True\n",
    "  ).add_to(self)\n",
    "\n",
    "folium.Map.add_ee_layer = add_ee_layer"
   ]
  },
  {
   "cell_type": "code",
   "execution_count": null,
   "id": "b9e1cdaf",
   "metadata": {
    "ExecuteTime": {
     "end_time": "2022-02-14T12:42:21.062111Z",
     "start_time": "2022-02-14T12:42:21.057929Z"
    }
   },
   "outputs": [],
   "source": [
    "def addNDVI(image): \n",
    "    ndvi = image.normalizedDifference(['B5', 'B4']).rename('NDVI')\n",
    "    return image.addBands(ndvi)"
   ]
  },
  {
   "cell_type": "code",
   "execution_count": null,
   "id": "4c83d08e",
   "metadata": {
    "ExecuteTime": {
     "end_time": "2022-02-14T12:42:21.067177Z",
     "start_time": "2022-02-14T12:42:21.063054Z"
    }
   },
   "outputs": [],
   "source": [
    "def addNDVI2(image): \n",
    "    ndvi = image.normalizedDifference(['B5', 'B4']).rename('NDVI2')\n",
    "    return image.addBands(ndvi)"
   ]
  },
  {
   "cell_type": "code",
   "execution_count": null,
   "id": "ad105a37",
   "metadata": {
    "ExecuteTime": {
     "end_time": "2022-02-14T12:42:21.072079Z",
     "start_time": "2022-02-14T12:42:21.068186Z"
    }
   },
   "outputs": [],
   "source": [
    "def addNDWI(image):\n",
    "    ndwi = image.normalizedDifference(['B3','B5']).rename('NDWI')\n",
    "    return image.addBands(ndwi)"
   ]
  },
  {
   "cell_type": "code",
   "execution_count": null,
   "id": "afd5a921",
   "metadata": {
    "ExecuteTime": {
     "end_time": "2022-02-14T12:42:21.077134Z",
     "start_time": "2022-02-14T12:42:21.073202Z"
    }
   },
   "outputs": [],
   "source": [
    "def addNDGI(image):\n",
    "    ndgi = image.normalizedDifference(['B3','B4']).rename('NDGI')\n",
    "    return image.addBands(ndgi)"
   ]
  },
  {
   "cell_type": "code",
   "execution_count": null,
   "id": "786770f8",
   "metadata": {
    "ExecuteTime": {
     "end_time": "2022-02-14T12:42:21.080094Z",
     "start_time": "2022-02-14T12:42:21.078312Z"
    }
   },
   "outputs": [],
   "source": [
    "def addSAVI(image):\n",
    "    savi = image.expression(\n",
    "        '((b5 - b4)/(b5 + b4 + 0.5))*1.5', {\n",
    "            'b4':image.select('B4'),\n",
    "            'b5':image.select('B5')\n",
    "        }) \n",
    "    savi= savi.rename('SAVI')\n",
    "    return image.addBands(savi)"
   ]
  },
  {
   "cell_type": "code",
   "execution_count": null,
   "id": "410de657",
   "metadata": {
    "ExecuteTime": {
     "end_time": "2022-02-14T12:42:21.082611Z",
     "start_time": "2022-02-14T12:42:21.081009Z"
    }
   },
   "outputs": [],
   "source": [
    "def addNDBI(image):\n",
    "    ndbi = image.normalizedDifference(['B6','B5']).rename('NDBI')\n",
    "    return image.addBands(ndbi)"
   ]
  },
  {
   "cell_type": "code",
   "execution_count": null,
   "id": "cffb72aa",
   "metadata": {
    "ExecuteTime": {
     "end_time": "2022-02-14T12:42:21.085123Z",
     "start_time": "2022-02-14T12:42:21.083540Z"
    }
   },
   "outputs": [],
   "source": [
    "def addNDSI(image):\n",
    "    ndsi = image.normalizedDifference(['B3','B6']).rename('NDSI')\n",
    "    return image.addBands(ndsi)"
   ]
  },
  {
   "cell_type": "code",
   "execution_count": null,
   "id": "c054d0bf",
   "metadata": {
    "ExecuteTime": {
     "end_time": "2022-02-14T12:42:21.087828Z",
     "start_time": "2022-02-14T12:42:21.086068Z"
    }
   },
   "outputs": [],
   "source": [
    "def addEVI(image):\n",
    "    evi = image.expression(\n",
    "        '2.5*((b5 - b4)/(b5 + 6*b4 - 7.5*b2 + 1))', {\n",
    "            'b2':image.select('B2'),\n",
    "            'b4':image.select('B4'),\n",
    "            'b5':image.select('B5')\n",
    "        }) \n",
    "    evi = evi.rename('EVI')\n",
    "    return image.addBands(evi)"
   ]
  },
  {
   "cell_type": "code",
   "execution_count": null,
   "id": "5c8b8b2f",
   "metadata": {
    "ExecuteTime": {
     "end_time": "2022-02-14T12:42:21.090565Z",
     "start_time": "2022-02-14T12:42:21.088802Z"
    }
   },
   "outputs": [],
   "source": [
    "def addDate(image):\n",
    "    img_date = ee.Date(image.date())\n",
    "    img_date = ee.Number.parse(img_date.format('YYYYMM'))\n",
    "    return image.addBands(ee.Image(img_date).rename('date').toInt())"
   ]
  },
  {
   "cell_type": "code",
   "execution_count": null,
   "id": "04720d6b",
   "metadata": {
    "ExecuteTime": {
     "end_time": "2022-02-14T12:42:21.093177Z",
     "start_time": "2022-02-14T12:42:21.091450Z"
    }
   },
   "outputs": [],
   "source": [
    "def Cloud40(image):\n",
    "    scored = ee.Algorithms.Landsat.simpleCloudScore(image)\n",
    "    return image.updateMask(scored.select(['cloud']).lt(40)) "
   ]
  },
  {
   "cell_type": "code",
   "execution_count": null,
   "id": "3115c210",
   "metadata": {
    "ExecuteTime": {
     "end_time": "2022-02-14T12:42:21.095617Z",
     "start_time": "2022-02-14T12:42:21.094008Z"
    }
   },
   "outputs": [],
   "source": [
    "def Cloud30(image):\n",
    "    scored = ee.Algorithms.Landsat.simpleCloudScore(image)\n",
    "    return image.updateMask(scored.select(['cloud']).lt(30)) "
   ]
  },
  {
   "cell_type": "code",
   "execution_count": null,
   "id": "f86cf507",
   "metadata": {
    "ExecuteTime": {
     "end_time": "2022-02-14T12:42:21.098169Z",
     "start_time": "2022-02-14T12:42:21.096510Z"
    }
   },
   "outputs": [],
   "source": [
    "def Cloud20(image):\n",
    "    scored = ee.Algorithms.Landsat.simpleCloudScore(image)\n",
    "    return image.updateMask(scored.select(['cloud']).lt(20)) "
   ]
  },
  {
   "cell_type": "code",
   "execution_count": null,
   "id": "9d288b40",
   "metadata": {
    "ExecuteTime": {
     "end_time": "2022-02-14T12:42:21.100695Z",
     "start_time": "2022-02-14T12:42:21.099056Z"
    }
   },
   "outputs": [],
   "source": [
    "def Cloud10(image):\n",
    "    scored = ee.Algorithms.Landsat.simpleCloudScore(image)\n",
    "    return image.updateMask(scored.select(['cloud']).lt(10))"
   ]
  },
  {
   "cell_type": "code",
   "execution_count": null,
   "id": "92d6ba1b",
   "metadata": {
    "ExecuteTime": {
     "end_time": "2022-02-14T12:42:21.105062Z",
     "start_time": "2022-02-14T12:42:21.103468Z"
    }
   },
   "outputs": [],
   "source": [
    "def addCloud(image):\n",
    "    nube = ee.Algorithms.Landsat.simpleCloudScore(image)\n",
    "    return image.addBands(ee.Image(nube.select(['cloud'])).rename('nube'))"
   ]
  },
  {
   "cell_type": "code",
   "execution_count": null,
   "id": "4eb69ead",
   "metadata": {
    "ExecuteTime": {
     "end_time": "2022-02-14T12:42:21.110096Z",
     "start_time": "2022-02-14T12:42:21.106074Z"
    }
   },
   "outputs": [],
   "source": [
    "def find_closest(target_image, image_col, days):\n",
    "    \"\"\"Filter images in a collection by date proximity and spatial intersection to a target image.\n",
    "\n",
    "    Args:\n",
    "        target_image: An ee.Image whose observation date is used to find near-date images in\n",
    "          the provided image_col image collection. It must have a 'system:time_start' property.\n",
    "        image_col: An ee.ImageCollection to filter by date proximity and spatial intersection\n",
    "          to the target_image. Each image in the collection must have a 'system:time_start'\n",
    "          property.\n",
    "        days: A number that defines the maximum number of days difference allowed between\n",
    "          the target_image and images in the image_col.\n",
    "\n",
    "    Returns:\n",
    "        An ee.ImageCollection that has been filtered to include those images that are within the\n",
    "          given date proximity to target_image and intersect it spatially.\n",
    "    \"\"\"\n",
    "\n",
    "    # Compute the timespan for N days (in milliseconds).\n",
    "    range = ee.Number(days).multiply(1000 * 60 * 60 * 24)\n",
    "\n",
    "    filter = ee.Filter.And(\n",
    "        ee.Filter.maxDifference(range, 'system:time_start', None, 'system:time_start'),\n",
    "        ee.Filter.intersects('.geo', None, '.geo'))\n",
    "\n",
    "    closest = (ee.Join.saveAll('matches', 'measure')\n",
    "        .apply(ee.ImageCollection([target_image]), image_col, filter))\n",
    "\n",
    "    return ee.ImageCollection(ee.List(closest.first().get('matches')))"
   ]
  },
  {
   "cell_type": "code",
   "execution_count": null,
   "id": "b54bde64",
   "metadata": {
    "ExecuteTime": {
     "end_time": "2022-02-14T12:42:21.112780Z",
     "start_time": "2022-02-14T12:42:21.110763Z"
    }
   },
   "outputs": [],
   "source": [
    "vizParams = {\n",
    "  'bands': ['B5', 'B4', 'B3'],\n",
    "  'min': 0,\n",
    "  'max': 0.5,\n",
    "  'gamma': [0.95, 1.1, 1]\n",
    "}"
   ]
  },
  {
   "cell_type": "code",
   "execution_count": null,
   "id": "71bcb153",
   "metadata": {
    "ExecuteTime": {
     "end_time": "2022-02-14T12:42:21.114938Z",
     "start_time": "2022-02-14T12:42:21.113477Z"
    }
   },
   "outputs": [],
   "source": [
    "vizParams_m = {\n",
    "  'bands': ['B5', 'B4', 'B3'],\n",
    "  'min': 0,\n",
    "  'max': 0.6,\n",
    "  'gamma': [1, 1, 1]\n",
    "}"
   ]
  },
  {
   "cell_type": "code",
   "execution_count": null,
   "id": "aa02e8e2",
   "metadata": {
    "ExecuteTime": {
     "end_time": "2022-02-14T12:42:21.117376Z",
     "start_time": "2022-02-14T12:42:21.115916Z"
    }
   },
   "outputs": [],
   "source": [
    "vis_nieve = {\n",
    "  'bands': ['B6', 'B4', 'B3'],\n",
    "  'min': 0,\n",
    "  'max': 0.5,\n",
    "  'gamma': [0.95, 1.1, 1]\n",
    "}"
   ]
  },
  {
   "cell_type": "markdown",
   "id": "d9a442fb",
   "metadata": {},
   "source": [
    "## Colecciones"
   ]
  },
  {
   "cell_type": "markdown",
   "id": "f8131eb7",
   "metadata": {},
   "source": [
    "### 2022 Verano"
   ]
  },
  {
   "cell_type": "code",
   "execution_count": null,
   "id": "3a413b3f",
   "metadata": {
    "ExecuteTime": {
     "end_time": "2022-02-14T12:42:21.119902Z",
     "start_time": "2022-02-14T12:42:21.118288Z"
    }
   },
   "outputs": [],
   "source": [
    "start_date = '2021-11-01'\n",
    "end_date = '2022-03-31'\n",
    "\n",
    "l8_2022 = ee.ImageCollection('LANDSAT/LC08/C01/T1_TOA') \\\n",
    "    .filterBounds(patagonia_grande) \\\n",
    "    .filterDate(start_date, end_date)  "
   ]
  },
  {
   "cell_type": "code",
   "execution_count": null,
   "id": "e95247d7",
   "metadata": {
    "ExecuteTime": {
     "end_time": "2022-02-14T12:42:21.125649Z",
     "start_time": "2022-02-14T12:42:21.120768Z"
    }
   },
   "outputs": [],
   "source": [
    "coleccion2022 = l8_2022.map(addNDVI).map(addNDWI).map(addNDGI).map(addSAVI).map(addNDSI).map(addNDBI).map(addEVI).map(addDate).map(addCloud)"
   ]
  },
  {
   "cell_type": "code",
   "execution_count": null,
   "id": "8dbb0d32",
   "metadata": {
    "ExecuteTime": {
     "end_time": "2022-02-14T12:42:21.128637Z",
     "start_time": "2022-02-14T12:42:21.126491Z"
    }
   },
   "outputs": [],
   "source": [
    "c2022_sn = coleccion2022.map(Cloud10)\n",
    "QM_NDVI_2022_sn = c2022_sn.qualityMosaic('NDVI')\n",
    "Med_NDVI_2022_sn = (c2022_sn.median()).select('NDVI')\n",
    "QM_EVI_2022_sn = c2022_sn.qualityMosaic('EVI')\n",
    "Med_EVI_2022_sn = (c2022_sn.median()).select('EVI')"
   ]
  },
  {
   "cell_type": "markdown",
   "id": "5d07b81d",
   "metadata": {},
   "source": [
    "### 2021 Verano"
   ]
  },
  {
   "cell_type": "code",
   "execution_count": null,
   "id": "0e0c1dfc",
   "metadata": {
    "ExecuteTime": {
     "end_time": "2022-02-14T12:42:21.131228Z",
     "start_time": "2022-02-14T12:42:21.129557Z"
    }
   },
   "outputs": [],
   "source": [
    "start_date = '2020-11-01'\n",
    "end_date = '2021-03-31'\n",
    "\n",
    "l8_2021 = ee.ImageCollection('LANDSAT/LC08/C01/T1_TOA') \\\n",
    "    .filterBounds(patagonia_grande) \\\n",
    "    .filterDate(start_date, end_date)  "
   ]
  },
  {
   "cell_type": "code",
   "execution_count": null,
   "id": "74d427f9",
   "metadata": {
    "ExecuteTime": {
     "end_time": "2022-02-14T12:42:21.136283Z",
     "start_time": "2022-02-14T12:42:21.131960Z"
    }
   },
   "outputs": [],
   "source": [
    "coleccion2021 = l8_2021.map(addNDVI).map(addNDWI).map(addNDGI).map(addSAVI).map(addNDSI).map(addNDBI).map(addEVI).map(addDate).map(addCloud)"
   ]
  },
  {
   "cell_type": "code",
   "execution_count": null,
   "id": "e660d316",
   "metadata": {
    "ExecuteTime": {
     "end_time": "2022-02-14T12:42:21.138948Z",
     "start_time": "2022-02-14T12:42:21.137195Z"
    }
   },
   "outputs": [],
   "source": [
    "QM_NDVI_2021 = coleccion2021.qualityMosaic('NDVI')\n",
    "QM_NDWI_2021 = coleccion2021.qualityMosaic('NDWI')\n",
    "QM_SAVI_2021 = coleccion2021.qualityMosaic('SAVI')\n",
    "QM_NDGI_2021 = coleccion2021.qualityMosaic('NDGI')\n",
    "QM_NDSI_2021 = coleccion2021.qualityMosaic('NDSI')"
   ]
  },
  {
   "cell_type": "code",
   "execution_count": null,
   "id": "2b71385b",
   "metadata": {
    "ExecuteTime": {
     "end_time": "2022-02-14T12:42:21.142570Z",
     "start_time": "2022-02-14T12:42:21.139792Z"
    }
   },
   "outputs": [],
   "source": [
    "c2021_sn = coleccion2021.map(Cloud10)\n",
    "QM_NDVI_2021_sn = c2021_sn.qualityMosaic('NDVI')\n",
    "QM_NDWI_2021_sn = c2021_sn.qualityMosaic('NDWI')\n",
    "QM_SAVI_2021_sn = c2021_sn.qualityMosaic('SAVI')\n",
    "QM_NDGI_2021_sn = c2021_sn.qualityMosaic('NDGI')\n",
    "QM_NDSI_2021_sn = c2021_sn.qualityMosaic('NDSI')\n",
    "Med_NDVI_2021_sn = (c2021_sn.median()).select('NDVI')\n",
    "Med_EVI_2021_sn = (c2021_sn.median()).select('EVI')"
   ]
  },
  {
   "cell_type": "code",
   "execution_count": null,
   "id": "e2ee17c2",
   "metadata": {
    "ExecuteTime": {
     "end_time": "2022-02-14T12:42:30.149289Z",
     "start_time": "2022-02-14T12:42:21.143404Z"
    }
   },
   "outputs": [],
   "source": [
    "Map.addLayer(QM_NDVI_2021_sn, vizParams, 'QMsn de NDVI 2021')\n",
    "Map.addLayer(QM_NDVI_2021, vizParams, 'QM de NDVI 2021')\n",
    "Map.addLayer(QM_NDWI_2021_sn, vizParams, 'QMsn de NDWI 2021')\n",
    "Map.addLayer(QM_SAVI_2021_sn, vizParams, 'QMsn de SAVI 2021')\n",
    "Map.addLayer(QM_NDGI_2021_sn, vis_nieve, 'QMsn de NDGI 2021')\n",
    "Map.addLayer(QM_NDSI_2021_sn, vis_nieve, 'QMsn de NDSI 2021')\n",
    "Map"
   ]
  },
  {
   "cell_type": "code",
   "execution_count": null,
   "id": "1994dbdf",
   "metadata": {
    "ExecuteTime": {
     "end_time": "2022-02-14T12:42:30.151769Z",
     "start_time": "2022-02-14T12:42:30.150206Z"
    }
   },
   "outputs": [],
   "source": [
    "NDVI_2021_l8 = QM_NDVI_2021.set('SENSOR_ID', 'OLI_TIRS')"
   ]
  },
  {
   "cell_type": "code",
   "execution_count": null,
   "id": "60a91aeb",
   "metadata": {
    "ExecuteTime": {
     "end_time": "2022-02-14T12:42:30.154814Z",
     "start_time": "2022-02-14T12:42:30.152571Z"
    }
   },
   "outputs": [],
   "source": [
    "cloud_2021_l8 = ee.Algorithms.Landsat.simpleCloudScore(NDVI_2021_l8)\n",
    "cloud_2021_l8 = cloud_2021_l8.select('cloud')"
   ]
  },
  {
   "cell_type": "code",
   "execution_count": null,
   "id": "27740f8b",
   "metadata": {
    "ExecuteTime": {
     "end_time": "2022-02-14T12:42:30.157177Z",
     "start_time": "2022-02-14T12:42:30.155729Z"
    }
   },
   "outputs": [],
   "source": [
    "palette_nubes = ['#1a9850', '#66bd63', '#a6d96a', '#d9ef8b', '#fee08b', '#fdae61', '#f46d43', '#d73027']"
   ]
  },
  {
   "cell_type": "code",
   "execution_count": null,
   "id": "613ea840",
   "metadata": {
    "ExecuteTime": {
     "end_time": "2022-02-14T12:42:30.159666Z",
     "start_time": "2022-02-14T12:42:30.158092Z"
    }
   },
   "outputs": [],
   "source": [
    "resultados= [cloud_2021_l8, QM_NDVI_2021]\n",
    "vis_params2=  [\n",
    "    {'palette':palette_nubes}, \n",
    "    vizParams]\n",
    "labels = [\n",
    "    'Nubes 2021',\n",
    "    'QM NDVI 2021']"
   ]
  },
  {
   "cell_type": "code",
   "execution_count": null,
   "id": "cb0d5f26",
   "metadata": {
    "ExecuteTime": {
     "end_time": "2022-02-14T12:42:30.162367Z",
     "start_time": "2022-02-14T12:42:30.160492Z"
    }
   },
   "outputs": [],
   "source": [
    "# geemap.linked_maps(rows=1, cols=2, height=\"400px\", center=[-45, -75], zoom=4, \n",
    "#                    ee_objects=resultados, vis_params=vis_params2, labels=labels, label_position=\"topright\")"
   ]
  },
  {
   "cell_type": "markdown",
   "id": "b8617200",
   "metadata": {},
   "source": [
    "### 2020 Verano"
   ]
  },
  {
   "cell_type": "code",
   "execution_count": null,
   "id": "0401d370",
   "metadata": {
    "ExecuteTime": {
     "end_time": "2022-02-14T12:42:30.164686Z",
     "start_time": "2022-02-14T12:42:30.163068Z"
    }
   },
   "outputs": [],
   "source": [
    "start_date = '2019-11-01'\n",
    "end_date = '2020-03-31'\n",
    "\n",
    "l8_2020 = ee.ImageCollection('LANDSAT/LC08/C01/T1_TOA') \\\n",
    "    .filterBounds(patagonia_grande) \\\n",
    "    .filterDate(start_date, end_date)"
   ]
  },
  {
   "cell_type": "markdown",
   "id": "811a0128",
   "metadata": {},
   "source": [
    "### 2019 Verano"
   ]
  },
  {
   "cell_type": "code",
   "execution_count": null,
   "id": "d756b623",
   "metadata": {
    "ExecuteTime": {
     "end_time": "2022-02-14T12:42:30.167335Z",
     "start_time": "2022-02-14T12:42:30.165644Z"
    }
   },
   "outputs": [],
   "source": [
    "start_date = '2018-11-01'\n",
    "end_date = '2019-03-31'\n",
    "\n",
    "l8_2019 = ee.ImageCollection('LANDSAT/LC08/C01/T1_TOA') \\\n",
    "    .filterBounds(patagonia_grande) \\\n",
    "    .filterDate(start_date, end_date)"
   ]
  },
  {
   "cell_type": "markdown",
   "id": "158f0bb1",
   "metadata": {},
   "source": [
    "### 2018 Verano"
   ]
  },
  {
   "cell_type": "code",
   "execution_count": null,
   "id": "2c2ce2a2",
   "metadata": {
    "ExecuteTime": {
     "end_time": "2022-02-14T12:42:30.169818Z",
     "start_time": "2022-02-14T12:42:30.168146Z"
    }
   },
   "outputs": [],
   "source": [
    "start_date = '2017-11-01'\n",
    "end_date = '2018-03-31'\n",
    "\n",
    "l8_2018 = ee.ImageCollection('LANDSAT/LC08/C01/T1_TOA') \\\n",
    "    .filterBounds(patagonia_grande) \\\n",
    "    .filterDate(start_date, end_date)"
   ]
  },
  {
   "cell_type": "markdown",
   "id": "ad28b803",
   "metadata": {},
   "source": [
    "### 2017 Verano"
   ]
  },
  {
   "cell_type": "code",
   "execution_count": null,
   "id": "1917c893",
   "metadata": {
    "ExecuteTime": {
     "end_time": "2022-02-14T12:42:30.172183Z",
     "start_time": "2022-02-14T12:42:30.170602Z"
    }
   },
   "outputs": [],
   "source": [
    "start_date = '2016-11-01'\n",
    "end_date = '2017-03-31'\n",
    "\n",
    "l8_2017 = ee.ImageCollection('LANDSAT/LC08/C01/T1_TOA') \\\n",
    "    .filterBounds(patagonia_grande) \\\n",
    "    .filterDate(start_date, end_date)"
   ]
  },
  {
   "cell_type": "markdown",
   "id": "d0a1318e",
   "metadata": {},
   "source": [
    "### 2022-2017 Colección "
   ]
  },
  {
   "cell_type": "code",
   "execution_count": null,
   "id": "73e05438",
   "metadata": {
    "ExecuteTime": {
     "end_time": "2022-02-14T12:42:30.175182Z",
     "start_time": "2022-02-14T12:42:30.173179Z"
    }
   },
   "outputs": [],
   "source": [
    "filtersummer = ee.Filter.Or(\n",
    "    ee.Filter.date('2021-11-01','2022-02-01'),\n",
    "    ee.Filter.date('2020-11-01','2021-03-31'),\n",
    "    ee.Filter.date('2019-11-01','2020-03-31'),\n",
    "    ee.Filter.date('2018-11-01','2019-03-31'),\n",
    "    ee.Filter.date('2017-11-01','2018-03-31')\n",
    ")"
   ]
  },
  {
   "cell_type": "code",
   "execution_count": null,
   "id": "e3459c31",
   "metadata": {
    "ExecuteTime": {
     "end_time": "2022-02-14T12:42:30.177922Z",
     "start_time": "2022-02-14T12:42:30.176037Z"
    }
   },
   "outputs": [],
   "source": [
    "coleccion2022_2017 = ee.ImageCollection('LANDSAT/LC08/C01/T1_TOA') \\\n",
    "    .filterDate('2017-11-01', '2021-03-31') \\\n",
    "    .filter(filtersummer) \\\n",
    "    .filterBounds(patagonia_grande)"
   ]
  },
  {
   "cell_type": "code",
   "execution_count": null,
   "id": "b84c22d9",
   "metadata": {
    "ExecuteTime": {
     "end_time": "2022-02-14T12:42:30.183078Z",
     "start_time": "2022-02-14T12:42:30.178626Z"
    }
   },
   "outputs": [],
   "source": [
    "l8_summer= coleccion2022_2017.map(addNDVI).map(addNDWI).map(addNDGI).map(addSAVI).map(addNDSI).map(addNDBI).map(addEVI).map(addDate).map(addCloud)"
   ]
  },
  {
   "cell_type": "code",
   "execution_count": null,
   "id": "63f1960c",
   "metadata": {
    "ExecuteTime": {
     "end_time": "2022-02-14T12:42:30.185435Z",
     "start_time": "2022-02-14T12:42:30.183978Z"
    }
   },
   "outputs": [],
   "source": [
    "cloudest = l8_summer.qualityMosaic('nube')"
   ]
  },
  {
   "cell_type": "code",
   "execution_count": null,
   "id": "cbb613f8",
   "metadata": {
    "ExecuteTime": {
     "end_time": "2022-02-14T12:42:33.009813Z",
     "start_time": "2022-02-14T12:42:30.186274Z"
    },
    "scrolled": false
   },
   "outputs": [],
   "source": [
    "Map2.addLayer(cloudest, vizParams, 'máximo de nubes')\n",
    "Map2.addLayer(l8_summer.median(), vizParams, 'median')\n",
    "Map2 "
   ]
  },
  {
   "cell_type": "markdown",
   "id": "12cf11b9",
   "metadata": {},
   "source": [
    "### Tier 1\n"
   ]
  },
  {
   "cell_type": "code",
   "execution_count": null,
   "id": "65f6e56e",
   "metadata": {
    "ExecuteTime": {
     "end_time": "2022-02-14T12:42:33.012514Z",
     "start_time": "2022-02-14T12:42:33.010683Z"
    }
   },
   "outputs": [],
   "source": [
    "Tier1_sn = l8_summer.map(Cloud10)"
   ]
  },
  {
   "cell_type": "code",
   "execution_count": null,
   "id": "61a35ad7",
   "metadata": {
    "ExecuteTime": {
     "end_time": "2022-02-14T12:42:33.015979Z",
     "start_time": "2022-02-14T12:42:33.013265Z"
    }
   },
   "outputs": [],
   "source": [
    "QM_NDVI_T1 = Tier1_sn.qualityMosaic('NDVI')# Normalized difference vegetation Index\n",
    "QM_NDWI_T1 = Tier1_sn.qualityMosaic('NDWI') # Normalize difference water index\n",
    "QM_SAVI_T1 = Tier1_sn.qualityMosaic('SAVI') # Soil Adjusted Vegetation Index \n",
    "QM_NDGI_T1 = Tier1_sn.qualityMosaic('NDGI') # Normalized difference glacier index\n",
    "QM_NDSI_T1 = Tier1_sn.qualityMosaic('NDSI') # Normalized difference snow index"
   ]
  },
  {
   "cell_type": "code",
   "execution_count": null,
   "id": "416683d4",
   "metadata": {
    "ExecuteTime": {
     "end_time": "2022-02-14T12:42:41.728503Z",
     "start_time": "2022-02-14T12:42:33.016908Z"
    }
   },
   "outputs": [],
   "source": [
    "Map2.addLayer(QM_NDVI_T1, vizParams, 'QM de NDVI T1')\n",
    "Map2.addLayer(QM_NDWI_T1, vizParams, 'QM de NDWI T1')\n",
    "Map2.addLayer(QM_SAVI_T1, vizParams, 'QM de SAVI T1')\n",
    "Map2.addLayer(QM_NDGI_T1, vis_nieve, 'QM de NDGI T1')\n",
    "Map2.addLayer(QM_NDSI_T1, vizParams, 'QM de NDSI T1')\n",
    "\n",
    "Map2.addLayer(Tier1_sn.median(), vizParams, 'mediana de T1')\n",
    "Map2 "
   ]
  },
  {
   "cell_type": "markdown",
   "id": "5f58151c",
   "metadata": {},
   "source": [
    "### Tier 2"
   ]
  },
  {
   "cell_type": "code",
   "execution_count": null,
   "id": "3f1efa8c",
   "metadata": {
    "ExecuteTime": {
     "end_time": "2022-02-14T12:42:41.731188Z",
     "start_time": "2022-02-14T12:42:41.729246Z"
    }
   },
   "outputs": [],
   "source": [
    "Tier2_sn = l8_summer.map(Cloud20)"
   ]
  },
  {
   "cell_type": "code",
   "execution_count": null,
   "id": "888370aa",
   "metadata": {
    "ExecuteTime": {
     "end_time": "2022-02-14T12:42:41.734088Z",
     "start_time": "2022-02-14T12:42:41.732090Z"
    }
   },
   "outputs": [],
   "source": [
    "QM_NDVI_T2 = Tier2_sn.qualityMosaic('NDVI')# Normalized difference vegetation Index\n",
    "QM_NDWI_T2 = Tier2_sn.qualityMosaic('NDWI') # Normalize difference water index\n",
    "QM_SAVI_T2 = Tier2_sn.qualityMosaic('SAVI') # Soil Adjusted Vegetation Index \n",
    "QM_NDGI_T2 = Tier2_sn.qualityMosaic('NDGI') # Normalized difference glacier index\n",
    "QM_NDSI_T2 = Tier2_sn.qualityMosaic('NDSI') # Normalized difference snow index"
   ]
  },
  {
   "cell_type": "code",
   "execution_count": null,
   "id": "bfe0fd96",
   "metadata": {
    "ExecuteTime": {
     "end_time": "2022-02-14T12:42:41.736293Z",
     "start_time": "2022-02-14T12:42:41.734942Z"
    }
   },
   "outputs": [],
   "source": [
    "# Map2.addLayer(QM_NDVI_T2, vizParams, 'QM de NDVI T2')\n",
    "# Map2.addLayer(QM_NDWI_T2, vizParams, 'QM de NDWI T2')\n",
    "# Map2.addLayer(QM_SAVI_T2, vizParams, 'QM de SAVI T2')\n",
    "# Map2.addLayer(QM_NDGI_T2, vis_nieve, 'QM de NDGI T2')\n",
    "# Map2.addLayer(QM_NDSI_T2, vis_nieve, 'QM de NDSI T2')\n",
    "# Map2 "
   ]
  },
  {
   "cell_type": "markdown",
   "id": "783d2e36",
   "metadata": {},
   "source": [
    "### Tier 3"
   ]
  },
  {
   "cell_type": "code",
   "execution_count": null,
   "id": "cba970e0",
   "metadata": {
    "ExecuteTime": {
     "end_time": "2022-02-14T12:42:41.738920Z",
     "start_time": "2022-02-14T12:42:41.737139Z"
    }
   },
   "outputs": [],
   "source": [
    "Tier3_sn = l8_summer.map(Cloud30)"
   ]
  },
  {
   "cell_type": "code",
   "execution_count": null,
   "id": "8a844166",
   "metadata": {
    "ExecuteTime": {
     "end_time": "2022-02-14T12:42:41.741918Z",
     "start_time": "2022-02-14T12:42:41.739815Z"
    }
   },
   "outputs": [],
   "source": [
    "QM_NDVI_T3 = Tier3_sn.qualityMosaic('NDVI')# Normalized difference vegetation Index\n",
    "QM_NDWI_T3 = Tier3_sn.qualityMosaic('NDWI') # Normalize difference water index\n",
    "QM_SAVI_T3 = Tier3_sn.qualityMosaic('SAVI') # Soil Adjusted Vegetation Index \n",
    "QM_NDGI_T3 = Tier3_sn.qualityMosaic('NDGI') # Normalized difference glacier index\n",
    "QM_NDSI_T3 = Tier3_sn.qualityMosaic('NDSI') # Normalized difference snow index"
   ]
  },
  {
   "cell_type": "markdown",
   "id": "b2453291",
   "metadata": {},
   "source": [
    "### Tier 4"
   ]
  },
  {
   "cell_type": "code",
   "execution_count": null,
   "id": "7a204626",
   "metadata": {
    "ExecuteTime": {
     "end_time": "2022-02-14T12:42:41.744330Z",
     "start_time": "2022-02-14T12:42:41.742627Z"
    }
   },
   "outputs": [],
   "source": [
    "Tier4_sn = l8_summer.map(Cloud40)"
   ]
  },
  {
   "cell_type": "code",
   "execution_count": null,
   "id": "7339980d",
   "metadata": {
    "ExecuteTime": {
     "end_time": "2022-02-14T12:42:41.746977Z",
     "start_time": "2022-02-14T12:42:41.745252Z"
    }
   },
   "outputs": [],
   "source": [
    "QM_NDVI_T4 = Tier4_sn.qualityMosaic('NDVI')# Normalized difference vegetation Index\n",
    "QM_NDWI_T4 = Tier4_sn.qualityMosaic('NDWI') # Normalize difference water index\n",
    "QM_SAVI_T4 = Tier4_sn.qualityMosaic('SAVI') # Soil Adjusted Vegetation Index \n",
    "QM_NDGI_T4 = Tier4_sn.qualityMosaic('NDGI') # Normalized difference glacier index\n",
    "QM_NDSI_T4 = Tier4_sn.qualityMosaic('NDSI') # Normalized difference snow index"
   ]
  },
  {
   "cell_type": "markdown",
   "id": "2029216e",
   "metadata": {},
   "source": [
    "## Colección tierra del fuego"
   ]
  },
  {
   "cell_type": "code",
   "execution_count": null,
   "id": "69c552c6",
   "metadata": {
    "ExecuteTime": {
     "end_time": "2022-02-14T12:42:41.749661Z",
     "start_time": "2022-02-14T12:42:41.747860Z"
    }
   },
   "outputs": [],
   "source": [
    "filtersummerf = ee.Filter.Or(\n",
    "    ee.Filter.date('2021-11-01','2022-02-01'),\n",
    "    ee.Filter.date('2020-11-01','2021-03-31'),\n",
    "    ee.Filter.date('2019-11-01','2020-03-31'),\n",
    "    ee.Filter.date('2018-11-01','2019-03-31'),\n",
    "    ee.Filter.date('2017-11-01','2018-03-31')\n",
    ")"
   ]
  },
  {
   "cell_type": "code",
   "execution_count": null,
   "id": "3698479a",
   "metadata": {
    "ExecuteTime": {
     "end_time": "2022-02-14T12:42:41.752637Z",
     "start_time": "2022-02-14T12:42:41.750652Z"
    }
   },
   "outputs": [],
   "source": [
    "coleccion2022_2017 = ee.ImageCollection('LANDSAT/LC08/C01/T1_TOA') \\\n",
    "    .filterDate('2017-11-01', '2022-03-31') \\\n",
    "    .filter(filtersummerf) \\\n",
    "    .filterBounds(tierra_fuego)"
   ]
  },
  {
   "cell_type": "code",
   "execution_count": null,
   "id": "b820dfa4",
   "metadata": {
    "ExecuteTime": {
     "end_time": "2022-02-14T12:42:41.757601Z",
     "start_time": "2022-02-14T12:42:41.753516Z"
    }
   },
   "outputs": [],
   "source": [
    "l8_summer_sur= coleccion2022_2017.map(addNDVI).map(addNDWI).map(addNDGI).map(addSAVI).map(addNDSI).map(addNDBI).map(addDate).map(addCloud)"
   ]
  },
  {
   "cell_type": "code",
   "execution_count": null,
   "id": "0a876e8d",
   "metadata": {
    "ExecuteTime": {
     "end_time": "2022-02-14T12:42:42.915781Z",
     "start_time": "2022-02-14T12:42:41.758855Z"
    }
   },
   "outputs": [],
   "source": [
    "Map3.addLayer(l8_summer_sur.median(), vizParams, 'median')\n",
    "Map3"
   ]
  },
  {
   "cell_type": "markdown",
   "id": "11db41ec",
   "metadata": {},
   "source": [
    "### Tier 1 Sur"
   ]
  },
  {
   "cell_type": "code",
   "execution_count": null,
   "id": "56144837",
   "metadata": {
    "ExecuteTime": {
     "end_time": "2022-02-14T12:42:42.918423Z",
     "start_time": "2022-02-14T12:42:42.916537Z"
    }
   },
   "outputs": [],
   "source": [
    "Tier1_sn_sur = l8_summer_sur.map(Cloud10)"
   ]
  },
  {
   "cell_type": "code",
   "execution_count": null,
   "id": "28f9aa01",
   "metadata": {
    "ExecuteTime": {
     "end_time": "2022-02-14T12:42:42.921864Z",
     "start_time": "2022-02-14T12:42:42.919192Z"
    }
   },
   "outputs": [],
   "source": [
    "QM_NDVI_T1_sur = Tier1_sn_sur.qualityMosaic('NDVI')# Normalized difference vegetation Index\n",
    "QM_NDWI_T1_sur = Tier1_sn_sur.qualityMosaic('NDWI') # Normalize difference water index\n",
    "QM_SAVI_T1_sur = Tier1_sn_sur.qualityMosaic('SAVI') # Soil Adjusted Vegetation Index \n",
    "QM_NDGI_T1_sur = Tier1_sn_sur.qualityMosaic('NDGI') # Normalized difference glacier index\n",
    "QM_NDSI_T1_sur = Tier1_sn_sur.qualityMosaic('NDSI') # Normalized difference snow index"
   ]
  },
  {
   "cell_type": "code",
   "execution_count": null,
   "id": "6b688782",
   "metadata": {
    "ExecuteTime": {
     "end_time": "2022-02-14T12:42:49.473982Z",
     "start_time": "2022-02-14T12:42:42.922721Z"
    }
   },
   "outputs": [],
   "source": [
    "Map3.addLayer(QM_NDVI_T1_sur, vizParams, 'QM de NDVI T1_sur')\n",
    "Map3.addLayer(QM_NDWI_T1_sur, vizParams, 'QM de NDWI T1_sur')\n",
    "Map3.addLayer(QM_SAVI_T1_sur, vizParams, 'QM de SAVI T1_sur')\n",
    "Map3.addLayer(QM_NDGI_T1_sur, vis_nieve, 'QM de NDGI T1_sur')\n",
    "Map3.addLayer(QM_NDSI_T1_sur, vizParams, 'QM de NDSI T1_sur')\n",
    "Map3.addLayer((Tier1_sn_sur).median(), vizParams, 'Mediana de mosaico T1_sur')\n",
    "Map3 "
   ]
  },
  {
   "cell_type": "markdown",
   "id": "dd05e9e8",
   "metadata": {},
   "source": [
    "## Generación de Mosaico QM"
   ]
  },
  {
   "cell_type": "code",
   "execution_count": null,
   "id": "9b229098",
   "metadata": {
    "ExecuteTime": {
     "end_time": "2022-02-14T12:42:49.476371Z",
     "start_time": "2022-02-14T12:42:49.474873Z"
    }
   },
   "outputs": [],
   "source": [
    "NDVI_2021_landsat = cloudest.set('SENSOR_ID', 'OLI_TIRS')"
   ]
  },
  {
   "cell_type": "code",
   "execution_count": null,
   "id": "a98110ba",
   "metadata": {
    "ExecuteTime": {
     "end_time": "2022-02-14T12:42:49.478729Z",
     "start_time": "2022-02-14T12:42:49.477267Z"
    }
   },
   "outputs": [],
   "source": [
    "cloud_2021 = ee.Algorithms.Landsat.simpleCloudScore(NDVI_2021_landsat)"
   ]
  },
  {
   "cell_type": "code",
   "execution_count": null,
   "id": "745b712d",
   "metadata": {
    "ExecuteTime": {
     "end_time": "2022-02-14T12:42:49.481092Z",
     "start_time": "2022-02-14T12:42:49.479609Z"
    }
   },
   "outputs": [],
   "source": [
    "cloud_2021 = cloud_2021.select('cloud')"
   ]
  },
  {
   "cell_type": "code",
   "execution_count": null,
   "id": "3351dfe9",
   "metadata": {
    "ExecuteTime": {
     "end_time": "2022-02-14T12:42:49.483223Z",
     "start_time": "2022-02-14T12:42:49.481920Z"
    }
   },
   "outputs": [],
   "source": [
    "palette_nubes = ['#1a9850', '#d73027']"
   ]
  },
  {
   "cell_type": "code",
   "execution_count": null,
   "id": "aa1c77e2",
   "metadata": {
    "ExecuteTime": {
     "end_time": "2022-02-14T12:42:49.486087Z",
     "start_time": "2022-02-14T12:42:49.484376Z"
    }
   },
   "outputs": [],
   "source": [
    "resultados= [cloud_2021, cloudest]\n",
    "vis_params2=  [\n",
    "    {'palette':palette_nubes}, \n",
    "    vizParams]\n",
    "labels = [\n",
    "    'Nubes 2021',\n",
    "    'QM NDVI 2021']"
   ]
  },
  {
   "cell_type": "code",
   "execution_count": null,
   "id": "28e91129",
   "metadata": {
    "ExecuteTime": {
     "end_time": "2022-02-14T12:42:52.641626Z",
     "start_time": "2022-02-14T12:42:49.486849Z"
    }
   },
   "outputs": [],
   "source": [
    "geemap.linked_maps(rows=1, cols=2, height=\"400px\", center=[-45, -75], zoom=4, \n",
    "                   ee_objects=resultados, vis_params=vis_params2, labels=labels, label_position=\"topright\")"
   ]
  },
  {
   "cell_type": "code",
   "execution_count": null,
   "id": "21067811",
   "metadata": {
    "ExecuteTime": {
     "end_time": "2022-02-14T12:42:53.865865Z",
     "start_time": "2022-02-14T12:42:52.642358Z"
    }
   },
   "outputs": [],
   "source": [
    "QM_NDVI_T1.bandNames().getInfo()"
   ]
  },
  {
   "cell_type": "code",
   "execution_count": null,
   "id": "93ea56bf",
   "metadata": {
    "ExecuteTime": {
     "end_time": "2022-02-14T12:42:53.868536Z",
     "start_time": "2022-02-14T12:42:53.866855Z"
    }
   },
   "outputs": [],
   "source": [
    "def llenado(image):\n",
    "    return image.where(cloud_2021.gt(10),QM_NDVI_T1)"
   ]
  },
  {
   "cell_type": "code",
   "execution_count": null,
   "id": "8287934f",
   "metadata": {
    "ExecuteTime": {
     "end_time": "2022-02-14T12:42:53.871400Z",
     "start_time": "2022-02-14T12:42:53.869197Z"
    }
   },
   "outputs": [],
   "source": [
    "img1 = llenado(cloudest)"
   ]
  },
  {
   "cell_type": "code",
   "execution_count": null,
   "id": "0ea4ebed",
   "metadata": {
    "ExecuteTime": {
     "end_time": "2022-02-14T12:42:53.874422Z",
     "start_time": "2022-02-14T12:42:53.872189Z"
    }
   },
   "outputs": [],
   "source": [
    "img1_landsat = img1.set('SENSOR_ID', 'OLI_TIRS')\n",
    "cloud_img1 = ee.Algorithms.Landsat.simpleCloudScore(img1_landsat)\n",
    "cloud_img1 = cloud_img1.select('cloud')"
   ]
  },
  {
   "cell_type": "code",
   "execution_count": null,
   "id": "84dbb2d4",
   "metadata": {
    "ExecuteTime": {
     "end_time": "2022-02-14T12:42:53.881782Z",
     "start_time": "2022-02-14T12:42:53.880231Z"
    }
   },
   "outputs": [],
   "source": [
    "resultados= [cloud_img1, img1]\n",
    "vis_params2=  [\n",
    "    {'palette':palette_nubes}, \n",
    "    vizParams]\n",
    "labels = [\n",
    "    'Nubes Mosaico 1',\n",
    "    'Mosaico 1']"
   ]
  },
  {
   "cell_type": "code",
   "execution_count": null,
   "id": "f3c2a996",
   "metadata": {
    "ExecuteTime": {
     "end_time": "2022-02-14T12:42:57.182443Z",
     "start_time": "2022-02-14T12:42:53.882749Z"
    }
   },
   "outputs": [],
   "source": [
    "geemap.linked_maps(rows=1, cols=2, height=\"400px\", center=[-45, -75], zoom=4, \n",
    "                   ee_objects=resultados, vis_params=vis_params2, labels=labels, label_position=\"topright\")"
   ]
  },
  {
   "cell_type": "code",
   "execution_count": null,
   "id": "9a243ac4",
   "metadata": {
    "ExecuteTime": {
     "end_time": "2022-02-14T12:42:57.184874Z",
     "start_time": "2022-02-14T12:42:57.183185Z"
    }
   },
   "outputs": [],
   "source": [
    "def llenado2(image):\n",
    "    return image.where(cloud_img1.gt(10), QM_NDVI_T2)"
   ]
  },
  {
   "cell_type": "code",
   "execution_count": null,
   "id": "ada6d94e",
   "metadata": {
    "ExecuteTime": {
     "end_time": "2022-02-14T12:42:57.187294Z",
     "start_time": "2022-02-14T12:42:57.185881Z"
    }
   },
   "outputs": [],
   "source": [
    "img2 = llenado2(img1)"
   ]
  },
  {
   "cell_type": "code",
   "execution_count": null,
   "id": "e3db0a52",
   "metadata": {
    "ExecuteTime": {
     "end_time": "2022-02-14T12:42:57.189885Z",
     "start_time": "2022-02-14T12:42:57.188249Z"
    }
   },
   "outputs": [],
   "source": [
    "img2_landsat = img2.set('SENSOR_ID', 'OLI_TIRS')\n",
    "cloud_img2 = ee.Algorithms.Landsat.simpleCloudScore(img2_landsat)\n",
    "cloud_img2 = cloud_img2.select('cloud')"
   ]
  },
  {
   "cell_type": "code",
   "execution_count": null,
   "id": "42d22742",
   "metadata": {
    "ExecuteTime": {
     "end_time": "2022-02-14T12:42:57.192696Z",
     "start_time": "2022-02-14T12:42:57.190876Z"
    }
   },
   "outputs": [],
   "source": [
    "resultados= [cloud_img2, img2_landsat]\n",
    "vis_params2=  [\n",
    "    {'palette':palette_nubes}, \n",
    "    vizParams]\n",
    "labels = [\n",
    "    'Nubes Mosaico 2',\n",
    "    'Mosaico 2']"
   ]
  },
  {
   "cell_type": "code",
   "execution_count": null,
   "id": "5bdcab8c",
   "metadata": {
    "ExecuteTime": {
     "end_time": "2022-02-14T12:43:00.340824Z",
     "start_time": "2022-02-14T12:42:57.193567Z"
    }
   },
   "outputs": [],
   "source": [
    "geemap.linked_maps(rows=1, cols=2, height=\"400px\", center=[-45, -75], zoom=4, \n",
    "                   ee_objects=resultados, vis_params=vis_params2, labels=labels, label_position=\"topright\")"
   ]
  },
  {
   "cell_type": "code",
   "execution_count": null,
   "id": "ca5f91e2",
   "metadata": {
    "ExecuteTime": {
     "end_time": "2022-02-14T12:43:00.343352Z",
     "start_time": "2022-02-14T12:43:00.341683Z"
    }
   },
   "outputs": [],
   "source": [
    "def llenado3(image):\n",
    "    return image.where(cloud_img2.gt(10), QM_NDVI_T3)"
   ]
  },
  {
   "cell_type": "code",
   "execution_count": null,
   "id": "f52fddee",
   "metadata": {
    "ExecuteTime": {
     "end_time": "2022-02-14T12:43:00.345782Z",
     "start_time": "2022-02-14T12:43:00.344382Z"
    }
   },
   "outputs": [],
   "source": [
    "img3 = llenado3(img2)"
   ]
  },
  {
   "cell_type": "code",
   "execution_count": null,
   "id": "6d41d9d0",
   "metadata": {
    "ExecuteTime": {
     "end_time": "2022-02-14T12:43:00.348493Z",
     "start_time": "2022-02-14T12:43:00.346626Z"
    }
   },
   "outputs": [],
   "source": [
    "img3_landsat = img3.set('SENSOR_ID', 'OLI_TIRS')\n",
    "cloud_img3 = ee.Algorithms.Landsat.simpleCloudScore(img3_landsat)\n",
    "cloud_img3 = cloud_img3.select('cloud')"
   ]
  },
  {
   "cell_type": "code",
   "execution_count": null,
   "id": "3a000d62",
   "metadata": {
    "ExecuteTime": {
     "end_time": "2022-02-14T12:43:00.351163Z",
     "start_time": "2022-02-14T12:43:00.349617Z"
    }
   },
   "outputs": [],
   "source": [
    "resultados= [cloud_img3, img3_landsat]\n",
    "vis_params2=  [\n",
    "    {'palette':palette_nubes}, \n",
    "    vizParams]\n",
    "labels = [\n",
    "    'Nubes Mosaico 3',\n",
    "    'Mosaico 3']"
   ]
  },
  {
   "cell_type": "code",
   "execution_count": null,
   "id": "bf275ed6",
   "metadata": {
    "ExecuteTime": {
     "end_time": "2022-02-14T12:43:03.483733Z",
     "start_time": "2022-02-14T12:43:00.351965Z"
    }
   },
   "outputs": [],
   "source": [
    "geemap.linked_maps(rows=1, cols=2, height=\"400px\", center=[-45, -75], zoom=4, \n",
    "                   ee_objects=resultados, vis_params=vis_params2, labels=labels, label_position=\"topright\")"
   ]
  },
  {
   "cell_type": "code",
   "execution_count": null,
   "id": "9d0daae9",
   "metadata": {
    "ExecuteTime": {
     "end_time": "2022-02-14T12:43:03.486128Z",
     "start_time": "2022-02-14T12:43:03.484488Z"
    }
   },
   "outputs": [],
   "source": [
    "def llenado4(image):\n",
    "    return image.where(cloud_img3.gt(10), QM_NDVI_T4)"
   ]
  },
  {
   "cell_type": "code",
   "execution_count": null,
   "id": "d37f16d5",
   "metadata": {
    "ExecuteTime": {
     "end_time": "2022-02-14T12:43:03.489270Z",
     "start_time": "2022-02-14T12:43:03.486814Z"
    }
   },
   "outputs": [],
   "source": [
    "img4 = llenado4(img3)"
   ]
  },
  {
   "cell_type": "code",
   "execution_count": null,
   "id": "540d60d8",
   "metadata": {
    "ExecuteTime": {
     "end_time": "2022-02-14T12:43:03.491779Z",
     "start_time": "2022-02-14T12:43:03.490134Z"
    }
   },
   "outputs": [],
   "source": [
    "img4_landsat = img4.set('SENSOR_ID', 'OLI_TIRS')\n",
    "cloud_img4 = ee.Algorithms.Landsat.simpleCloudScore(img4_landsat)\n",
    "cloud_img4 = cloud_img4.select('cloud')"
   ]
  },
  {
   "cell_type": "code",
   "execution_count": null,
   "id": "3f0e9719",
   "metadata": {
    "ExecuteTime": {
     "end_time": "2022-02-14T12:43:03.494376Z",
     "start_time": "2022-02-14T12:43:03.492715Z"
    }
   },
   "outputs": [],
   "source": [
    "resultados= [cloud_img4, img4_landsat]\n",
    "vis_params2=  [\n",
    "    {'palette':palette_nubes}, \n",
    "    vizParams]\n",
    "labels = [\n",
    "    'Nubes Mosaico 4',\n",
    "    'Mosaico 4']"
   ]
  },
  {
   "cell_type": "code",
   "execution_count": null,
   "id": "41d9a7b8",
   "metadata": {
    "ExecuteTime": {
     "end_time": "2022-02-14T12:43:07.229813Z",
     "start_time": "2022-02-14T12:43:03.495204Z"
    }
   },
   "outputs": [],
   "source": [
    "geemap.linked_maps(rows=1, cols=2, height=\"400px\", center=[-45, -75], zoom=4, \n",
    "                   ee_objects=resultados, vis_params=vis_params2, labels=labels, label_position=\"topright\")"
   ]
  },
  {
   "cell_type": "code",
   "execution_count": null,
   "id": "0cccc52b",
   "metadata": {
    "ExecuteTime": {
     "end_time": "2022-02-14T12:43:07.232236Z",
     "start_time": "2022-02-14T12:43:07.230579Z"
    }
   },
   "outputs": [],
   "source": [
    "hansenImage = ee.Image('UMD/hansen/global_forest_change_2015')\n",
    "datamask = hansenImage.select('datamask')"
   ]
  },
  {
   "cell_type": "code",
   "execution_count": null,
   "id": "2e6b728e",
   "metadata": {
    "ExecuteTime": {
     "end_time": "2022-02-14T12:43:07.234749Z",
     "start_time": "2022-02-14T12:43:07.233154Z"
    }
   },
   "outputs": [],
   "source": [
    "def llenado5(image):\n",
    "    return image.where(datamask.eq(2), QM_NDWI_T1)"
   ]
  },
  {
   "cell_type": "code",
   "execution_count": null,
   "id": "eeac700c",
   "metadata": {
    "ExecuteTime": {
     "end_time": "2022-02-14T12:43:07.237183Z",
     "start_time": "2022-02-14T12:43:07.235754Z"
    }
   },
   "outputs": [],
   "source": [
    "img5 = llenado5(img4)"
   ]
  },
  {
   "cell_type": "code",
   "execution_count": null,
   "id": "82202db6",
   "metadata": {
    "ExecuteTime": {
     "end_time": "2022-02-14T12:43:07.239504Z",
     "start_time": "2022-02-14T12:43:07.238031Z"
    }
   },
   "outputs": [],
   "source": [
    "img5_landsat = img5.set('SENSOR_ID', 'OLI_TIRS')"
   ]
  },
  {
   "cell_type": "code",
   "execution_count": null,
   "id": "823a7e18",
   "metadata": {
    "ExecuteTime": {
     "end_time": "2022-02-14T12:43:07.242243Z",
     "start_time": "2022-02-14T12:43:07.240420Z"
    }
   },
   "outputs": [],
   "source": [
    "resultados= [img4, img5]\n",
    "labels = [\n",
    "    'Mosaico 4',\n",
    "    'Mosaico 5']\n",
    "vis_params3=  [\n",
    "     vizParams, \n",
    "    vizParams]"
   ]
  },
  {
   "cell_type": "code",
   "execution_count": null,
   "id": "87c07712",
   "metadata": {
    "ExecuteTime": {
     "end_time": "2022-02-14T12:43:10.612613Z",
     "start_time": "2022-02-14T12:43:07.242947Z"
    }
   },
   "outputs": [],
   "source": [
    "geemap.linked_maps(rows=1, cols=2, height=\"400px\", center=[-45, -75], zoom=4, \n",
    "                   ee_objects=resultados, vis_params=vis_params3, labels=labels, label_position=\"topright\")"
   ]
  },
  {
   "cell_type": "code",
   "execution_count": null,
   "id": "c76fddbf",
   "metadata": {
    "ExecuteTime": {
     "end_time": "2022-02-14T12:43:11.946752Z",
     "start_time": "2022-02-14T12:43:10.613358Z"
    }
   },
   "outputs": [],
   "source": [
    "img4.bandNames().getInfo()"
   ]
  },
  {
   "cell_type": "code",
   "execution_count": null,
   "id": "03e0049e",
   "metadata": {
    "ExecuteTime": {
     "end_time": "2022-02-14T12:43:13.753964Z",
     "start_time": "2022-02-14T12:43:11.947552Z"
    }
   },
   "outputs": [],
   "source": [
    "img5.bandNames().getInfo()"
   ]
  },
  {
   "cell_type": "code",
   "execution_count": null,
   "id": "20454023",
   "metadata": {
    "ExecuteTime": {
     "end_time": "2022-02-14T12:43:16.765048Z",
     "start_time": "2022-02-14T12:43:13.754712Z"
    }
   },
   "outputs": [],
   "source": [
    "Map10.addLayer(img4, vizParams, 'Mosaico 4')\n",
    "Map10.addLayer(img5, vizParams, 'Mosaico 5')\n",
    "Map10"
   ]
  },
  {
   "cell_type": "markdown",
   "id": "18c237e5",
   "metadata": {},
   "source": [
    "### Resultado Final"
   ]
  },
  {
   "cell_type": "code",
   "execution_count": null,
   "id": "3e85d062",
   "metadata": {
    "ExecuteTime": {
     "end_time": "2022-02-14T12:43:18.303190Z",
     "start_time": "2022-02-14T12:43:16.765788Z"
    }
   },
   "outputs": [],
   "source": [
    "img5_b = img5.select(['B1','B2','B3','B4','B5','B6','B7'])\n",
    "Map10.addLayer(img5_b, vizParams, 'Mosaico 7bandas')\n",
    "Map10"
   ]
  },
  {
   "cell_type": "markdown",
   "id": "d46a3463",
   "metadata": {},
   "source": [
    "#### Fechas Mosaico"
   ]
  },
  {
   "cell_type": "code",
   "execution_count": null,
   "id": "67a2e0e2",
   "metadata": {
    "ExecuteTime": {
     "end_time": "2022-02-14T12:43:18.305801Z",
     "start_time": "2022-02-14T12:43:18.304199Z"
    }
   },
   "outputs": [],
   "source": [
    "property = 'date'"
   ]
  },
  {
   "cell_type": "code",
   "execution_count": null,
   "id": "9fff05cd",
   "metadata": {
    "ExecuteTime": {
     "end_time": "2022-02-14T12:43:18.309000Z",
     "start_time": "2022-02-14T12:43:18.306611Z"
    }
   },
   "outputs": [],
   "source": [
    "options = {\"title\": 'Fechas mosaico QM',\n",
    "          \"xlabel\": 'date',\n",
    "          \"ylabel\": 'Pixel count',\n",
    "          \"colors\": ['#1d6b99']\n",
    "          }"
   ]
  },
  {
   "cell_type": "code",
   "execution_count": null,
   "id": "37a5b7be",
   "metadata": {
    "ExecuteTime": {
     "end_time": "2022-02-14T12:43:18.311719Z",
     "start_time": "2022-02-14T12:43:18.310007Z"
    }
   },
   "outputs": [],
   "source": [
    "muestra = (img5.select('date')).sample(**{\n",
    "    'region': geometry_exp,\n",
    "    'scale': 30,\n",
    "    'numPixels':500,\n",
    "    'tileScale': 4,\n",
    "})"
   ]
  },
  {
   "cell_type": "code",
   "execution_count": null,
   "id": "0ad9a685",
   "metadata": {
    "ExecuteTime": {
     "end_time": "2022-02-14T12:44:11.435871Z",
     "start_time": "2022-02-14T12:43:18.312418Z"
    },
    "scrolled": false
   },
   "outputs": [],
   "source": [
    "chart.feature_histogram(muestra, property, **options)"
   ]
  },
  {
   "cell_type": "code",
   "execution_count": null,
   "id": "e05c20e0",
   "metadata": {
    "ExecuteTime": {
     "end_time": "2022-02-14T12:44:11.438330Z",
     "start_time": "2022-02-14T12:44:11.436760Z"
    }
   },
   "outputs": [],
   "source": [
    "# out_dir = r\"C:\\Users\\USUARIO\\Downloads\""
   ]
  },
  {
   "cell_type": "code",
   "execution_count": null,
   "id": "2c94d245",
   "metadata": {
    "ExecuteTime": {
     "end_time": "2022-02-14T12:44:11.440938Z",
     "start_time": "2022-02-14T12:44:11.439257Z"
    }
   },
   "outputs": [],
   "source": [
    "# out_mosaic_stats= os.path.join(out_dir,'\\fechas_mosaico.csv')\n",
    "# geemap.zonal_statistics(img5,patagonia_grande, out_mosaic_stats, scale= 5000)"
   ]
  },
  {
   "cell_type": "markdown",
   "id": "7267523f",
   "metadata": {},
   "source": [
    "### Tasseled cap"
   ]
  },
  {
   "cell_type": "code",
   "execution_count": null,
   "id": "427e0fc3",
   "metadata": {
    "ExecuteTime": {
     "end_time": "2022-02-14T12:44:11.444078Z",
     "start_time": "2022-02-14T12:44:11.441605Z"
    }
   },
   "outputs": [],
   "source": [
    "coef = ee.Array([\n",
    "    [0.3029, 0.2786, 0.4733, 0.5599, 0.508, 0.1872], \n",
    "    [-0.2941, -0.243, -0.5424, 0.7276, 0.0713, -0.1608],\n",
    "    [0.1511, 0.1973, 0.3283, 0.3407, -0.7117, -0.4559],\n",
    "    [-0.8239, 0.0849, 0.4396, -0.058, 0.2013, -0.2773],\n",
    "    [-0.3294, 0.0557, 0.1056, 0.1855, -0.4349, 0.8085],\n",
    "    [0.1079, -0.9023, 0.4119, 0.0575, -0.0259, 0.0252]\n",
    "])"
   ]
  },
  {
   "cell_type": "code",
   "execution_count": null,
   "id": "7ab0a347",
   "metadata": {
    "ExecuteTime": {
     "end_time": "2022-02-14T12:44:11.446313Z",
     "start_time": "2022-02-14T12:44:11.444775Z"
    }
   },
   "outputs": [],
   "source": [
    "tasse_img5 = img5.select(['B2', 'B3', 'B4', 'B5', 'B6', 'B7'])"
   ]
  },
  {
   "cell_type": "code",
   "execution_count": null,
   "id": "9e34972d",
   "metadata": {
    "ExecuteTime": {
     "end_time": "2022-02-14T12:44:11.448411Z",
     "start_time": "2022-02-14T12:44:11.447056Z"
    }
   },
   "outputs": [],
   "source": [
    "arrayimage1d = tasse_img5.toArray()"
   ]
  },
  {
   "cell_type": "code",
   "execution_count": null,
   "id": "3c3e3a70",
   "metadata": {
    "ExecuteTime": {
     "end_time": "2022-02-14T12:44:11.450662Z",
     "start_time": "2022-02-14T12:44:11.449214Z"
    }
   },
   "outputs": [],
   "source": [
    "arrayimage2d = arrayimage1d.toArray(1)"
   ]
  },
  {
   "cell_type": "code",
   "execution_count": null,
   "id": "0ae9ab01",
   "metadata": {
    "ExecuteTime": {
     "end_time": "2022-02-14T12:44:11.453110Z",
     "start_time": "2022-02-14T12:44:11.451436Z"
    }
   },
   "outputs": [],
   "source": [
    "componentes = ee.Image(coef)\\\n",
    "                .matrixMultiply(arrayimage2d) \\\n",
    "                .arrayProject([0])\\\n",
    "                .arrayFlatten(\n",
    "                [['brightness','greenness','wetness','fourth','fifth','sixth']])"
   ]
  },
  {
   "cell_type": "code",
   "execution_count": null,
   "id": "b058be26",
   "metadata": {
    "ExecuteTime": {
     "end_time": "2022-02-14T12:44:11.455505Z",
     "start_time": "2022-02-14T12:44:11.454005Z"
    }
   },
   "outputs": [],
   "source": [
    "vizParamstess = {\n",
    "  'bands': ['brightness', 'greenness', 'wetness'],\n",
    "    'min': -0.1,\n",
    "    'max': [0.6, 0.2, 0.2]\n",
    "}\n"
   ]
  },
  {
   "cell_type": "code",
   "execution_count": null,
   "id": "9dc2abf8",
   "metadata": {
    "ExecuteTime": {
     "end_time": "2022-02-14T12:44:12.889976Z",
     "start_time": "2022-02-14T12:44:11.456333Z"
    }
   },
   "outputs": [],
   "source": [
    "Map10.addLayer(componentes,vizParamstess, 'Tesseled cap')\n",
    "Map10"
   ]
  },
  {
   "cell_type": "markdown",
   "id": "c36bd436",
   "metadata": {},
   "source": [
    "### Combinación de bandas"
   ]
  },
  {
   "cell_type": "code",
   "execution_count": null,
   "id": "9e796ad0",
   "metadata": {
    "ExecuteTime": {
     "end_time": "2022-02-14T12:44:12.892675Z",
     "start_time": "2022-02-14T12:44:12.890775Z"
    }
   },
   "outputs": [],
   "source": [
    "img_final = img5.select('B1','B2','B3','B4','B5','B6','B7','NDVI','NDWI','NDGI','SAVI','NDSI','NDBI','EVI')\n",
    "img_final = img_final.addBands(componentes) "
   ]
  },
  {
   "cell_type": "code",
   "execution_count": null,
   "id": "1946e239",
   "metadata": {
    "ExecuteTime": {
     "end_time": "2022-02-14T12:44:14.420061Z",
     "start_time": "2022-02-14T12:44:12.893493Z"
    }
   },
   "outputs": [],
   "source": [
    "img_final.bandNames().getInfo()"
   ]
  },
  {
   "cell_type": "markdown",
   "id": "2d8c3490",
   "metadata": {},
   "source": [
    "## Generación de Mosaico Mediana "
   ]
  },
  {
   "cell_type": "code",
   "execution_count": null,
   "id": "daedb11a",
   "metadata": {
    "ExecuteTime": {
     "end_time": "2022-02-14T12:44:14.423043Z",
     "start_time": "2022-02-14T12:44:14.421161Z"
    }
   },
   "outputs": [],
   "source": [
    "NDVI_2021_landsat = cloudest.set('SENSOR_ID', 'OLI_TIRS')"
   ]
  },
  {
   "cell_type": "code",
   "execution_count": null,
   "id": "27ac7247",
   "metadata": {
    "ExecuteTime": {
     "end_time": "2022-02-14T12:44:14.425478Z",
     "start_time": "2022-02-14T12:44:14.423732Z"
    }
   },
   "outputs": [],
   "source": [
    "cloud_2021 = ee.Algorithms.Landsat.simpleCloudScore(NDVI_2021_landsat)"
   ]
  },
  {
   "cell_type": "code",
   "execution_count": null,
   "id": "5dc81c5b",
   "metadata": {
    "ExecuteTime": {
     "end_time": "2022-02-14T12:44:14.427902Z",
     "start_time": "2022-02-14T12:44:14.426433Z"
    }
   },
   "outputs": [],
   "source": [
    "cloud_2021 = cloud_2021.select('cloud')"
   ]
  },
  {
   "cell_type": "code",
   "execution_count": null,
   "id": "ff9b8a7d",
   "metadata": {
    "ExecuteTime": {
     "end_time": "2022-02-14T12:44:14.430402Z",
     "start_time": "2022-02-14T12:44:14.428856Z"
    }
   },
   "outputs": [],
   "source": [
    "palette_nubes = ['#1a9850', '#d73027']"
   ]
  },
  {
   "cell_type": "code",
   "execution_count": null,
   "id": "b0297af0",
   "metadata": {
    "ExecuteTime": {
     "end_time": "2022-02-14T12:44:14.433154Z",
     "start_time": "2022-02-14T12:44:14.431497Z"
    }
   },
   "outputs": [],
   "source": [
    "resultados= [cloud_2021, cloudest]\n",
    "vis_params2=  [\n",
    "    {'palette':palette_nubes}, \n",
    "    vizParams]\n",
    "labels = [\n",
    "    'Nubes 2021',\n",
    "    'QM NDVI 2021']"
   ]
  },
  {
   "cell_type": "code",
   "execution_count": null,
   "id": "59624c53",
   "metadata": {
    "ExecuteTime": {
     "end_time": "2022-02-14T12:44:17.680028Z",
     "start_time": "2022-02-14T12:44:14.434045Z"
    }
   },
   "outputs": [],
   "source": [
    "geemap.linked_maps(rows=1, cols=2, height=\"400px\", center=[-45, -75], zoom=4, \n",
    "                   ee_objects=resultados, vis_params=vis_params2, labels=labels, label_position=\"topright\")"
   ]
  },
  {
   "cell_type": "code",
   "execution_count": null,
   "id": "10d867ca",
   "metadata": {
    "ExecuteTime": {
     "end_time": "2022-02-14T12:44:19.237151Z",
     "start_time": "2022-02-14T12:44:17.680910Z"
    }
   },
   "outputs": [],
   "source": [
    "Tier1_sn.median().bandNames().getInfo()"
   ]
  },
  {
   "cell_type": "code",
   "execution_count": null,
   "id": "f344f905",
   "metadata": {
    "ExecuteTime": {
     "end_time": "2022-02-14T12:44:19.240164Z",
     "start_time": "2022-02-14T12:44:19.237977Z"
    }
   },
   "outputs": [],
   "source": [
    "def llenado(image):\n",
    "    return image.where(cloud_2021.gt(10),Tier1_sn.median())"
   ]
  },
  {
   "cell_type": "code",
   "execution_count": null,
   "id": "f6465699",
   "metadata": {
    "ExecuteTime": {
     "end_time": "2022-02-14T12:44:19.242855Z",
     "start_time": "2022-02-14T12:44:19.241271Z"
    }
   },
   "outputs": [],
   "source": [
    "img1m = llenado(cloudest)"
   ]
  },
  {
   "cell_type": "code",
   "execution_count": null,
   "id": "4fecf00d",
   "metadata": {
    "ExecuteTime": {
     "end_time": "2022-02-14T12:44:19.245279Z",
     "start_time": "2022-02-14T12:44:19.243637Z"
    }
   },
   "outputs": [],
   "source": [
    "img1m_landsat = img1m.set('SENSOR_ID', 'OLI_TIRS')\n",
    "cloud_img1 = ee.Algorithms.Landsat.simpleCloudScore(img1m_landsat)\n",
    "cloud_img1 = cloud_img1.select('cloud')"
   ]
  },
  {
   "cell_type": "code",
   "execution_count": null,
   "id": "cbf75071",
   "metadata": {
    "ExecuteTime": {
     "end_time": "2022-02-14T12:44:19.247775Z",
     "start_time": "2022-02-14T12:44:19.246172Z"
    }
   },
   "outputs": [],
   "source": [
    "resultados= [cloud_img1, img1m]\n",
    "vis_params2=  [\n",
    "    {'palette':palette_nubes}, \n",
    "    vizParams]\n",
    "labels = [\n",
    "    'Nubes Mosaico 1',\n",
    "    'Mosaico 1']"
   ]
  },
  {
   "cell_type": "code",
   "execution_count": null,
   "id": "bcab44d4",
   "metadata": {
    "ExecuteTime": {
     "end_time": "2022-02-14T12:44:22.884777Z",
     "start_time": "2022-02-14T12:44:19.248629Z"
    }
   },
   "outputs": [],
   "source": [
    "geemap.linked_maps(rows=1, cols=2, height=\"400px\", center=[-45, -75], zoom=4, \n",
    "                   ee_objects=resultados, vis_params=vis_params2, labels=labels, label_position=\"topright\")"
   ]
  },
  {
   "cell_type": "code",
   "execution_count": null,
   "id": "d90fb4fd",
   "metadata": {
    "ExecuteTime": {
     "end_time": "2022-02-14T12:44:22.887169Z",
     "start_time": "2022-02-14T12:44:22.885498Z"
    }
   },
   "outputs": [],
   "source": [
    "def llenado2(image):\n",
    "    return image.where(cloud_img1.gt(10), Tier2_sn.median())"
   ]
  },
  {
   "cell_type": "code",
   "execution_count": null,
   "id": "524814b0",
   "metadata": {
    "ExecuteTime": {
     "end_time": "2022-02-14T12:44:22.889811Z",
     "start_time": "2022-02-14T12:44:22.888287Z"
    }
   },
   "outputs": [],
   "source": [
    "img2m = llenado2(img1m)"
   ]
  },
  {
   "cell_type": "code",
   "execution_count": null,
   "id": "a04c18a8",
   "metadata": {
    "ExecuteTime": {
     "end_time": "2022-02-14T12:44:22.892108Z",
     "start_time": "2022-02-14T12:44:22.890575Z"
    }
   },
   "outputs": [],
   "source": [
    "img2m_landsat = img2.set('SENSOR_ID', 'OLI_TIRS')\n",
    "cloud_img2 = ee.Algorithms.Landsat.simpleCloudScore(img2m_landsat)\n",
    "cloud_img2 = cloud_img2.select('cloud')"
   ]
  },
  {
   "cell_type": "code",
   "execution_count": null,
   "id": "b6e99cd7",
   "metadata": {
    "ExecuteTime": {
     "end_time": "2022-02-14T12:44:22.894595Z",
     "start_time": "2022-02-14T12:44:22.893000Z"
    }
   },
   "outputs": [],
   "source": [
    "resultados= [cloud_img2, img2m]\n",
    "vis_params2=  [\n",
    "    {'palette':palette_nubes}, \n",
    "    vizParams]\n",
    "labels = [\n",
    "    'Nubes Mosaico 2',\n",
    "    'Mosaico 2']"
   ]
  },
  {
   "cell_type": "code",
   "execution_count": null,
   "id": "472ab70a",
   "metadata": {
    "ExecuteTime": {
     "end_time": "2022-02-14T12:44:22.897008Z",
     "start_time": "2022-02-14T12:44:22.895444Z"
    }
   },
   "outputs": [],
   "source": [
    "def llenado3(image):\n",
    "    return image.where(cloud_img2.gt(10),Tier3_sn.median())"
   ]
  },
  {
   "cell_type": "code",
   "execution_count": null,
   "id": "e8d70266",
   "metadata": {
    "ExecuteTime": {
     "end_time": "2022-02-14T12:44:22.899314Z",
     "start_time": "2022-02-14T12:44:22.897913Z"
    }
   },
   "outputs": [],
   "source": [
    "img3m = llenado3(img2m)"
   ]
  },
  {
   "cell_type": "code",
   "execution_count": null,
   "id": "ed06e753",
   "metadata": {
    "ExecuteTime": {
     "end_time": "2022-02-14T12:44:22.902317Z",
     "start_time": "2022-02-14T12:44:22.900292Z"
    }
   },
   "outputs": [],
   "source": [
    "img3m_landsat = img3.set('SENSOR_ID', 'OLI_TIRS')\n",
    "cloud_img3 = ee.Algorithms.Landsat.simpleCloudScore(img3m_landsat)\n",
    "cloud_img3 = cloud_img3.select('cloud')"
   ]
  },
  {
   "cell_type": "code",
   "execution_count": null,
   "id": "e42124da",
   "metadata": {
    "ExecuteTime": {
     "end_time": "2022-02-14T12:44:22.904659Z",
     "start_time": "2022-02-14T12:44:22.903074Z"
    }
   },
   "outputs": [],
   "source": [
    "resultados= [cloud_img3, img3m]\n",
    "vis_params2=  [\n",
    "    {'palette':palette_nubes}, \n",
    "    vizParams]\n",
    "labels = [\n",
    "    'Nubes Mosaico 3',\n",
    "    'Mosaico 3']"
   ]
  },
  {
   "cell_type": "code",
   "execution_count": null,
   "id": "496d088f",
   "metadata": {
    "ExecuteTime": {
     "end_time": "2022-02-14T12:44:22.907426Z",
     "start_time": "2022-02-14T12:44:22.905729Z"
    }
   },
   "outputs": [],
   "source": [
    "def llenado4(image):\n",
    "    return image.where(cloud_img3.gt(10),Tier4_sn.median())"
   ]
  },
  {
   "cell_type": "code",
   "execution_count": null,
   "id": "c40d71ef",
   "metadata": {
    "ExecuteTime": {
     "end_time": "2022-02-14T12:44:22.909671Z",
     "start_time": "2022-02-14T12:44:22.908172Z"
    }
   },
   "outputs": [],
   "source": [
    "img4m = llenado4(img3m)"
   ]
  },
  {
   "cell_type": "code",
   "execution_count": null,
   "id": "f796f2ce",
   "metadata": {
    "ExecuteTime": {
     "end_time": "2022-02-14T12:44:22.912177Z",
     "start_time": "2022-02-14T12:44:22.910518Z"
    }
   },
   "outputs": [],
   "source": [
    "img4m_landsat = img4m.set('SENSOR_ID', 'OLI_TIRS')\n",
    "cloud_img4 = ee.Algorithms.Landsat.simpleCloudScore(img4m_landsat)\n",
    "cloud_img4 = cloud_img4.select('cloud')"
   ]
  },
  {
   "cell_type": "code",
   "execution_count": null,
   "id": "37d6a3a6",
   "metadata": {
    "ExecuteTime": {
     "end_time": "2022-02-14T12:44:22.914659Z",
     "start_time": "2022-02-14T12:44:22.913046Z"
    }
   },
   "outputs": [],
   "source": [
    "resultados= [cloud_img4, img4m]\n",
    "vis_params2=  [\n",
    "    {'palette':palette_nubes}, \n",
    "    vizParams]\n",
    "labels = [\n",
    "    'Nubes Mosaico 4',\n",
    "    'Mosaico 4']"
   ]
  },
  {
   "cell_type": "code",
   "execution_count": null,
   "id": "0903900c",
   "metadata": {
    "ExecuteTime": {
     "end_time": "2022-02-14T12:44:22.917169Z",
     "start_time": "2022-02-14T12:44:22.915485Z"
    }
   },
   "outputs": [],
   "source": [
    "hansenImage = ee.Image('UMD/hansen/global_forest_change_2015')\n",
    "datamask = hansenImage.select('datamask')"
   ]
  },
  {
   "cell_type": "code",
   "execution_count": null,
   "id": "34a62dc7",
   "metadata": {
    "ExecuteTime": {
     "end_time": "2022-02-14T12:44:22.919653Z",
     "start_time": "2022-02-14T12:44:22.918038Z"
    }
   },
   "outputs": [],
   "source": [
    "def llenado5(image):\n",
    "    return image.where(datamask.eq(2), Tier1_sn.median())"
   ]
  },
  {
   "cell_type": "code",
   "execution_count": null,
   "id": "52fe0c9d",
   "metadata": {
    "ExecuteTime": {
     "end_time": "2022-02-14T12:44:22.922136Z",
     "start_time": "2022-02-14T12:44:22.920775Z"
    }
   },
   "outputs": [],
   "source": [
    "img5m = llenado5(img4m)"
   ]
  },
  {
   "cell_type": "code",
   "execution_count": null,
   "id": "1dc41650",
   "metadata": {
    "ExecuteTime": {
     "end_time": "2022-02-14T12:44:22.924494Z",
     "start_time": "2022-02-14T12:44:22.923095Z"
    }
   },
   "outputs": [],
   "source": [
    "img5m_landsat = img5m.set('SENSOR_ID', 'OLI_TIRS')"
   ]
  },
  {
   "cell_type": "code",
   "execution_count": null,
   "id": "76e1793f",
   "metadata": {
    "ExecuteTime": {
     "end_time": "2022-02-14T12:44:22.927181Z",
     "start_time": "2022-02-14T12:44:22.925445Z"
    }
   },
   "outputs": [],
   "source": [
    "resultados= [img4m, img5m]\n",
    "labels = [\n",
    "    'Mosaico 4',\n",
    "    'Mosaico 5']\n",
    "vis_params3=  [\n",
    "     vizParams, \n",
    "    vizParams]"
   ]
  },
  {
   "cell_type": "code",
   "execution_count": null,
   "id": "622f958f",
   "metadata": {
    "ExecuteTime": {
     "end_time": "2022-02-14T12:44:26.359973Z",
     "start_time": "2022-02-14T12:44:22.928031Z"
    }
   },
   "outputs": [],
   "source": [
    "geemap.linked_maps(rows=1, cols=2, height=\"400px\", center=[-45, -75], zoom=4, \n",
    "                   ee_objects=resultados, vis_params=vis_params3, labels=labels, label_position=\"topright\")"
   ]
  },
  {
   "cell_type": "markdown",
   "id": "30564ae6",
   "metadata": {},
   "source": [
    "### Resultado"
   ]
  },
  {
   "cell_type": "code",
   "execution_count": null,
   "id": "78a80ba0",
   "metadata": {
    "ExecuteTime": {
     "end_time": "2022-02-14T12:44:29.648386Z",
     "start_time": "2022-02-14T12:44:26.360859Z"
    }
   },
   "outputs": [],
   "source": [
    "Map11.addLayer(img4m, vizParams, 'Mosaico 4')\n",
    "Map11.addLayer(img5m, vizParams, 'Mosaico 5')\n",
    "Map11"
   ]
  },
  {
   "cell_type": "markdown",
   "id": "32614c9a",
   "metadata": {},
   "source": [
    "#### Fechas Mosaico"
   ]
  },
  {
   "cell_type": "code",
   "execution_count": null,
   "id": "09c1607b",
   "metadata": {
    "ExecuteTime": {
     "end_time": "2022-02-14T12:44:29.650745Z",
     "start_time": "2022-02-14T12:44:29.649173Z"
    }
   },
   "outputs": [],
   "source": [
    "options = {\"title\": 'Fechas mosaico Med',\n",
    "          \"xlabel\": 'date',\n",
    "          \"ylabel\": 'Pixel count',\n",
    "          \"colors\": ['#1d6b99']\n",
    "          }"
   ]
  },
  {
   "cell_type": "code",
   "execution_count": null,
   "id": "81973b83",
   "metadata": {
    "ExecuteTime": {
     "end_time": "2022-02-14T12:44:29.653605Z",
     "start_time": "2022-02-14T12:44:29.651614Z"
    }
   },
   "outputs": [],
   "source": [
    "muestram = (img5m.select('date')).sample(**{\n",
    "    'region': geometry_exp,\n",
    "    'scale': 30,\n",
    "    'numPixels':500,\n",
    "    'tileScale': 2,\n",
    "})"
   ]
  },
  {
   "cell_type": "code",
   "execution_count": null,
   "id": "3767d2bf",
   "metadata": {
    "ExecuteTime": {
     "end_time": "2022-02-14T12:44:51.067903Z",
     "start_time": "2022-02-14T12:44:29.654487Z"
    }
   },
   "outputs": [],
   "source": [
    "chart.feature_histogram(muestram, property, **options)"
   ]
  },
  {
   "cell_type": "markdown",
   "id": "1aebd5eb",
   "metadata": {},
   "source": [
    "### Tasseled cap"
   ]
  },
  {
   "cell_type": "code",
   "execution_count": null,
   "id": "2e5af562",
   "metadata": {
    "ExecuteTime": {
     "end_time": "2022-02-14T12:44:51.070599Z",
     "start_time": "2022-02-14T12:44:51.068774Z"
    }
   },
   "outputs": [],
   "source": [
    "tasse_img5m = img5m.select(['B2', 'B3', 'B4', 'B5', 'B6', 'B7'])"
   ]
  },
  {
   "cell_type": "code",
   "execution_count": null,
   "id": "a8d152b7",
   "metadata": {
    "ExecuteTime": {
     "end_time": "2022-02-14T12:44:51.073604Z",
     "start_time": "2022-02-14T12:44:51.071412Z"
    }
   },
   "outputs": [],
   "source": [
    "arrayimage1dm = tasse_img5m.toArray()"
   ]
  },
  {
   "cell_type": "code",
   "execution_count": null,
   "id": "c15b3355",
   "metadata": {
    "ExecuteTime": {
     "end_time": "2022-02-14T12:44:51.076259Z",
     "start_time": "2022-02-14T12:44:51.074561Z"
    }
   },
   "outputs": [],
   "source": [
    "arrayimage2dm = arrayimage1dm.toArray(1)"
   ]
  },
  {
   "cell_type": "code",
   "execution_count": null,
   "id": "a0a5dcce",
   "metadata": {
    "ExecuteTime": {
     "end_time": "2022-02-14T12:44:51.078801Z",
     "start_time": "2022-02-14T12:44:51.077050Z"
    }
   },
   "outputs": [],
   "source": [
    "componentesm = ee.Image(coef)\\\n",
    "                .matrixMultiply(arrayimage2dm) \\\n",
    "                .arrayProject([0])\\\n",
    "                .arrayFlatten(\n",
    "                [['brightness','greenness','wetness','fourth','fifth','sixth']])"
   ]
  },
  {
   "cell_type": "code",
   "execution_count": null,
   "id": "15b3890e",
   "metadata": {
    "ExecuteTime": {
     "end_time": "2022-02-14T12:44:53.680527Z",
     "start_time": "2022-02-14T12:44:51.079630Z"
    }
   },
   "outputs": [],
   "source": [
    "Map11.addLayer(componentesm,vizParamstess, 'Tesseled cap')\n",
    "Map11"
   ]
  },
  {
   "cell_type": "markdown",
   "id": "b466df41",
   "metadata": {},
   "source": [
    "### Combinación de bandas"
   ]
  },
  {
   "cell_type": "code",
   "execution_count": null,
   "id": "2dd4089f",
   "metadata": {
    "ExecuteTime": {
     "end_time": "2022-02-14T12:44:53.683340Z",
     "start_time": "2022-02-14T12:44:53.681481Z"
    }
   },
   "outputs": [],
   "source": [
    "img_final_m = img5m.select('B1','B2','B3','B4','B5','B6','B7','NDVI','NDWI','NDGI','SAVI','NDSI','NDBI','EVI')\n",
    "img_final_m = img_final_m.addBands(componentesm) "
   ]
  },
  {
   "cell_type": "markdown",
   "id": "1e872319",
   "metadata": {},
   "source": [
    "## Clasificación"
   ]
  },
  {
   "cell_type": "code",
   "execution_count": null,
   "id": "8093616d",
   "metadata": {
    "ExecuteTime": {
     "end_time": "2022-02-14T12:45:02.774588Z",
     "start_time": "2022-02-14T12:44:53.684007Z"
    }
   },
   "outputs": [],
   "source": [
    "test1 = os.path.join(work_dir,'roi_2.shp')\n",
    "test1 = geemap.shp_to_ee(test1)\n",
    "Map13.addLayer(test1, {}, 'Áreas de entrenamiento')"
   ]
  },
  {
   "cell_type": "code",
   "execution_count": null,
   "id": "c266e87a",
   "metadata": {
    "ExecuteTime": {
     "end_time": "2022-02-14T12:45:02.779783Z",
     "start_time": "2022-02-14T12:45:02.775453Z"
    }
   },
   "outputs": [],
   "source": [
    "Map13"
   ]
  },
  {
   "cell_type": "code",
   "execution_count": null,
   "id": "613b1401",
   "metadata": {
    "ExecuteTime": {
     "end_time": "2022-02-14T12:45:02.782389Z",
     "start_time": "2022-02-14T12:45:02.780537Z"
    }
   },
   "outputs": [],
   "source": [
    "data_QM = img_final.sampleRegions(**{\n",
    "    'collection': test1,\n",
    "    'properties': ['C_ID'],\n",
    "    'scale': 30,\n",
    "    'tileScale': 2,\n",
    "})"
   ]
  },
  {
   "cell_type": "code",
   "execution_count": null,
   "id": "35ec1522",
   "metadata": {
    "ExecuteTime": {
     "end_time": "2022-02-14T12:45:02.785040Z",
     "start_time": "2022-02-14T12:45:02.783265Z"
    }
   },
   "outputs": [],
   "source": [
    "data_Med = img_final_m.sampleRegions(**{\n",
    "    'collection': test1,\n",
    "    'properties': ['C_ID'],\n",
    "    'scale': 30,\n",
    "    'tileScale': 2,\n",
    "})"
   ]
  },
  {
   "cell_type": "code",
   "execution_count": null,
   "id": "0be21169",
   "metadata": {
    "ExecuteTime": {
     "end_time": "2022-02-14T12:45:02.787354Z",
     "start_time": "2022-02-14T12:45:02.785929Z"
    }
   },
   "outputs": [],
   "source": [
    "# print(data_QM.size().getInfo())"
   ]
  },
  {
   "cell_type": "code",
   "execution_count": null,
   "id": "0cdba8cd",
   "metadata": {
    "ExecuteTime": {
     "end_time": "2022-02-14T12:46:47.782263Z",
     "start_time": "2022-02-14T12:45:02.788172Z"
    }
   },
   "outputs": [],
   "source": [
    "print(data_QM.first().getInfo())"
   ]
  },
  {
   "cell_type": "code",
   "execution_count": null,
   "id": "c1abe14b",
   "metadata": {
    "ExecuteTime": {
     "end_time": "2022-02-14T12:46:47.785314Z",
     "start_time": "2022-02-14T12:46:47.783255Z"
    }
   },
   "outputs": [],
   "source": [
    "tablas = ee.batch.Export.table.toDrive(**{\n",
    "  'collection': data_QM,\n",
    "  'description': 'TM_summer_QM',\n",
    "  'fileFormat': 'CSV'\n",
    "})\n",
    "\n",
    "tablas2 = ee.batch.Export.table.toDrive(**{\n",
    "  'collection': data_Med,\n",
    "  'description': 'TM_summer_Med',\n",
    "  'fileFormat': 'CSV'\n",
    "})\n"
   ]
  },
  {
   "cell_type": "code",
   "execution_count": null,
   "id": "ed9ca5d9",
   "metadata": {
    "ExecuteTime": {
     "end_time": "2022-02-14T12:46:47.788834Z",
     "start_time": "2022-02-14T12:46:47.786182Z"
    }
   },
   "outputs": [],
   "source": [
    "# tablas.start()\n",
    "# tablas2.start()"
   ]
  },
  {
   "cell_type": "markdown",
   "id": "65efc69f",
   "metadata": {},
   "source": [
    "### Muestras y datos de validación"
   ]
  },
  {
   "cell_type": "code",
   "execution_count": null,
   "id": "9f4082a9",
   "metadata": {
    "ExecuteTime": {
     "end_time": "2022-02-14T12:46:47.791959Z",
     "start_time": "2022-02-14T12:46:47.789606Z"
    }
   },
   "outputs": [],
   "source": [
    "# Guardamos las bandas\n",
    "\n",
    "# Esta propiedad guarda las clases de landcover\n",
    "# label = 'b1'\n",
    "label = 'IDH'\n",
    "label1 = 'ID'\n",
    "label_train ='C_ID'\n",
    "# Overlay the points on the imagery to get training.\n",
    "# sample = landsat.select(bands).sampleRegions(**{\n",
    "#   'collection': points,\n",
    "#   'properties': [label],\n",
    "#   'scale': 30\n",
    "# })\n",
    "\n",
    "# # Adds a column of deterministic pseudorandom numbers. \n",
    "# sample = sample.randomColumn()\n",
    "\n",
    "# split = 0.7 \n",
    "\n",
    "# training = sample.filter(ee.Filter.lt('random', split))\n",
    "# validation = sample.filter(ee.Filter.gte('random', split))\n",
    "bands = ['B1',\n",
    " 'B2',\n",
    " 'B3',\n",
    " 'B4',\n",
    " 'B5',\n",
    " 'B6',\n",
    " 'B7',\n",
    " 'NDVI',\n",
    " 'NDWI',\n",
    " 'NDGI',\n",
    " 'SAVI',\n",
    " 'NDSI',\n",
    " 'EVI',\n",
    " 'brightness',\n",
    " 'greenness',\n",
    " 'wetness',\n",
    " 'fourth',\n",
    " 'fifth',\n",
    " 'sixth'\n",
    "]\n",
    "bands2 = ['B1',\n",
    " 'B2',\n",
    " 'B3',\n",
    " 'B4',\n",
    " 'B5',\n",
    " 'B6',\n",
    " 'B7',\n",
    " 'NDVI',\n",
    " 'NDWI',\n",
    " 'NDGI',\n",
    " 'SAVI',\n",
    " 'NDSI',\n",
    "]\n",
    "bands1 = ['B1',\n",
    " 'B2',\n",
    " 'B3',\n",
    " 'B4',\n",
    " 'B5',\n",
    " 'B6',\n",
    " 'B7',\n",
    " 'B8',\n",
    " 'B9',\n",
    " 'B10',\n",
    " 'B11']"
   ]
  },
  {
   "cell_type": "markdown",
   "id": "bb2b3b9b",
   "metadata": {},
   "source": [
    "### Entrenando el modelo"
   ]
  },
  {
   "cell_type": "code",
   "execution_count": null,
   "id": "d2eab14d",
   "metadata": {
    "ExecuteTime": {
     "end_time": "2022-02-14T12:46:47.794573Z",
     "start_time": "2022-02-14T12:46:47.793039Z"
    }
   },
   "outputs": [],
   "source": [
    "classifier_QM = ee.Classifier.smileRandomForest(100).train(data_QM,label_train,bands)"
   ]
  },
  {
   "cell_type": "code",
   "execution_count": null,
   "id": "9a0dbf8e",
   "metadata": {
    "ExecuteTime": {
     "end_time": "2022-02-14T12:46:47.797022Z",
     "start_time": "2022-02-14T12:46:47.795572Z"
    }
   },
   "outputs": [],
   "source": [
    "classifier_Med = ee.Classifier.smileRandomForest(100).train(data_Med,label_train,bands)"
   ]
  },
  {
   "cell_type": "code",
   "execution_count": null,
   "id": "effbf7b9",
   "metadata": {
    "ExecuteTime": {
     "end_time": "2022-02-14T12:46:47.799357Z",
     "start_time": "2022-02-14T12:46:47.797934Z"
    }
   },
   "outputs": [],
   "source": [
    "result_QM = img_final.select(bands).classify(classifier_QM)"
   ]
  },
  {
   "cell_type": "code",
   "execution_count": null,
   "id": "dccc1b73",
   "metadata": {
    "ExecuteTime": {
     "end_time": "2022-02-14T12:46:47.801764Z",
     "start_time": "2022-02-14T12:46:47.800337Z"
    }
   },
   "outputs": [],
   "source": [
    "result_Med = img_final_m.select(bands).classify(classifier_Med)"
   ]
  },
  {
   "cell_type": "code",
   "execution_count": null,
   "id": "54f1677d",
   "metadata": {
    "ExecuteTime": {
     "end_time": "2022-02-14T12:46:47.804294Z",
     "start_time": "2022-02-14T12:46:47.802861Z"
    }
   },
   "outputs": [],
   "source": [
    "explained_QM = ee.Classifier.explain(classifier_QM)"
   ]
  },
  {
   "cell_type": "code",
   "execution_count": null,
   "id": "89147e20",
   "metadata": {
    "ExecuteTime": {
     "end_time": "2022-02-14T12:47:12.842308Z",
     "start_time": "2022-02-14T12:46:47.805185Z"
    }
   },
   "outputs": [],
   "source": [
    "explained_QM.getInfo()"
   ]
  },
  {
   "cell_type": "code",
   "execution_count": null,
   "id": "f0f87683",
   "metadata": {
    "ExecuteTime": {
     "end_time": "2022-02-14T12:47:12.845167Z",
     "start_time": "2022-02-14T12:47:12.843343Z"
    }
   },
   "outputs": [],
   "source": [
    "explained_Med = ee.Classifier.explain(classifier_Med)"
   ]
  },
  {
   "cell_type": "code",
   "execution_count": null,
   "id": "9a52ddb4",
   "metadata": {
    "ExecuteTime": {
     "end_time": "2022-02-14T12:49:20.496134Z",
     "start_time": "2022-02-14T12:47:12.846322Z"
    }
   },
   "outputs": [],
   "source": [
    "explained_Med.getInfo()"
   ]
  },
  {
   "cell_type": "markdown",
   "id": "7df7206f",
   "metadata": {},
   "source": [
    "### Categorizando"
   ]
  },
  {
   "cell_type": "code",
   "execution_count": null,
   "id": "997c3cbf",
   "metadata": {
    "ExecuteTime": {
     "end_time": "2022-02-14T12:49:20.500242Z",
     "start_time": "2022-02-14T12:49:20.497113Z"
    }
   },
   "outputs": [],
   "source": [
    "class_values2 = [1,2,3,4,5,6,7,8,9,10,11,12,13,14,15,16,17,19,20,23,30,31,32,33,34,35,36,39,40,43,45,47,48,57,58,60]\n",
    "\n",
    "class_palette2 = ['d1fbff', # 1 Hielo\n",
    " 'bfdadd', #2 lengua glaciar\n",
    " 'b9bfbf', #3 glaciar cubierto\n",
    " 'fe40fe', #4 nieve\n",
    " '8ac1ff', #5 fiordo glaciar\n",
    " '0c407b', #6 mar\n",
    " '2e8da0', #7 lago continental\n",
    " '16b2d1', #8 lago glaciar\n",
    " '27e1d8', #9 río\n",
    " 'eeb514', #10 suelo desnudo\n",
    " '927012', #11 cárcavas erosión \n",
    " 'e98c0f', #12 suelo río\n",
    " 'f7e8bd', #13 suelo duna/arenal\n",
    " '5b5b5b', #14 caminos\n",
    " 'e57104', #15 suelo desnudo / poca vegetación\n",
    " '5d1412', #16 tuberas / musgos\n",
    " '5d1412', #17 mallín                 \n",
    " '161163', #19 áreas inundables\n",
    " 'fff300', #20 plantación adulto\n",
    " 'ff0000', #23 ciudad urbano\n",
    " 'dee842', #30 praderas pastoreo             \n",
    " 'ced118', #31 estepa abierta\n",
    " '7a7c0f', #32 estepa cerrada\n",
    " 'c39700', #33 palizales\n",
    " 'a1ff8a', #34 preaderas\n",
    " '138665', #35 matorrales densos\n",
    " '1bbd8e', #36 matorrales abiertos\n",
    " '195a09', #39 primario adulto\n",
    " '27c41d', #40 secundario adulto\n",
    " 'b2ff00', #43 renoval inicial\n",
    " 'f36605', #45 degradado\n",
    " '7729db', #47 Primario adulto caduco\n",
    " '9e60ec', #48 Secundario adulto caduco\n",
    " '7000ff', #57 Mixto Primario\n",
    " 'c598ff', #58 Mixto secundario\n",
    " '00ff87', #60 Coníferas nativas\n",
    "]"
   ]
  },
  {
   "cell_type": "code",
   "execution_count": null,
   "id": "d1ed6e92",
   "metadata": {
    "ExecuteTime": {
     "end_time": "2022-02-14T12:49:20.503814Z",
     "start_time": "2022-02-14T12:49:20.500972Z"
    }
   },
   "outputs": [],
   "source": [
    "landcover_QM = result_QM.set('classification_class_values', class_values2)\n",
    "landcover_QM = landcover_QM.set('classification_class_palette',class_palette2)"
   ]
  },
  {
   "cell_type": "code",
   "execution_count": null,
   "id": "40c97470",
   "metadata": {
    "ExecuteTime": {
     "end_time": "2022-02-14T12:49:20.506321Z",
     "start_time": "2022-02-14T12:49:20.504632Z"
    }
   },
   "outputs": [],
   "source": [
    "landcover_Med = result_Med.set('classification_class_values', class_values2)\n",
    "landcover_Med = landcover_Med.set('classification_class_palette',class_palette2)"
   ]
  },
  {
   "cell_type": "code",
   "execution_count": null,
   "id": "11e0ee3e",
   "metadata": {
    "ExecuteTime": {
     "end_time": "2022-02-14T12:49:40.400342Z",
     "start_time": "2022-02-14T12:49:20.507114Z"
    }
   },
   "outputs": [],
   "source": [
    "Map14.addLayer(landcover_QM,{}, 'Land cover RF-QM' )\n",
    "Map14.addLayer(landcover_Med,{}, 'Land cover RF-Mediana')"
   ]
  },
  {
   "cell_type": "code",
   "execution_count": null,
   "id": "882a5f91",
   "metadata": {
    "ExecuteTime": {
     "end_time": "2022-02-14T12:49:40.403726Z",
     "start_time": "2022-02-14T12:49:40.401337Z"
    }
   },
   "outputs": [],
   "source": [
    "type(landcover_QM)"
   ]
  },
  {
   "cell_type": "markdown",
   "id": "d3ac6dae",
   "metadata": {},
   "source": [
    "#### Mapas"
   ]
  },
  {
   "cell_type": "code",
   "execution_count": null,
   "id": "5065e0ff",
   "metadata": {
    "ExecuteTime": {
     "end_time": "2022-02-14T12:49:40.406364Z",
     "start_time": "2022-02-14T12:49:40.404441Z"
    }
   },
   "outputs": [],
   "source": [
    "NDVI_mosaico=img5.select('NDVI')"
   ]
  },
  {
   "cell_type": "code",
   "execution_count": null,
   "id": "6c63b15a",
   "metadata": {
    "ExecuteTime": {
     "end_time": "2022-02-14T12:49:40.408807Z",
     "start_time": "2022-02-14T12:49:40.407357Z"
    }
   },
   "outputs": [],
   "source": [
    "vizNDVI =['#FF5733','#0cf5f5','#d89000','#039001','#003804']"
   ]
  },
  {
   "cell_type": "code",
   "execution_count": null,
   "id": "e5d42f45",
   "metadata": {
    "ExecuteTime": {
     "end_time": "2022-02-14T12:49:41.940560Z",
     "start_time": "2022-02-14T12:49:40.409676Z"
    }
   },
   "outputs": [],
   "source": [
    "Map16.addLayer(NDVI_mosaico, {'palette':vizNDVI} ,'NDVI Mosaico 2021' )\n",
    "Map16"
   ]
  },
  {
   "cell_type": "code",
   "execution_count": null,
   "id": "53d31ef4",
   "metadata": {
    "ExecuteTime": {
     "end_time": "2022-02-14T12:49:45.033002Z",
     "start_time": "2022-02-14T12:49:41.941604Z"
    }
   },
   "outputs": [],
   "source": [
    "legend_dict = {\n",
    "    '01 Hielo': 'd1fbff',\n",
    "    '02 lengua glaciar': 'bfdadd',\n",
    "    '03 glaciar cubierto': 'b9bfbf',\n",
    "    '04 nieve': 'fe40fe',\n",
    "    '05 fiordo glaciar': '8ac1ff',\n",
    "    '06 mar': '0c407b',\n",
    "    '07 lago continental': '2e8da0',\n",
    "    '08 lago glaciar': '16b2d1',\n",
    "    '09 río': '27e1d8',\n",
    "    '10 suelo desnudo': 'eeb514',\n",
    "    '11 cárcavas erosión': '927012',\n",
    "    '12 suelo río': 'e98c0f',\n",
    "    '13 suelo duna/arenal': 'f7e8bd',\n",
    "    '14 caminos': '5b5b5b',\n",
    "    '15 suelo denudo': 'e57104',\n",
    "    '16 tuberas / musgos': '5d1412',\n",
    "    '17 mallín': '5d1412',\n",
    "    '19 áreas inundables':'161163', \n",
    "    '20 plantación adulto': 'fff300',\n",
    "    '23 ciudad urbano': 'ff0000',\n",
    "    '28 frutales':'d4e794',\n",
    "    '30 praderas pastoreo':'dee842', \n",
    "    '31 estepa abierta': 'ced118',\n",
    "    '32 estepa cerrada': '7a7c0f',\n",
    "    '33 palizales': 'c39700',\n",
    "    '34 preaderas': 'a1ff8a',\n",
    "    '35 matorrales densos': '138665',\n",
    "    '36 matorrales abiertos': '1bbd8e',\n",
    "    '39 primario adulto': '195a09',\n",
    "    '40 secundario adulto': '27c41d',\n",
    "    '43 renoval inicial': 'b2ff00',\n",
    "    '45 degradado': 'f36605',\n",
    "    '47 Primario adulto caduco':'7729db',\n",
    "    '48 Secundario adulto caduco': '9e60ec',\n",
    "    '56 sombra': '000000',\n",
    "    '57 Mixto Primario': '7000ff', \n",
    "    '58 Mixto secundario':'c598ff',\n",
    "    '60 Coníferas nativas': '00ff87',\n",
    "}\n",
    "\n",
    "Map14.add_legend(legend_title=\"Random Forest Test\", legend_dict=legend_dict)\n",
    "Map14.addLayer(img5,vizParams, 'Mosaico 2021' )\n",
    "Map14.addLayer(componentes,vizParamstess, 'Tesseled cap')\n",
    "Map14"
   ]
  },
  {
   "cell_type": "markdown",
   "id": "69b97f23",
   "metadata": {},
   "source": [
    "#### Comparación"
   ]
  },
  {
   "cell_type": "code",
   "execution_count": null,
   "id": "a66648b3",
   "metadata": {
    "ExecuteTime": {
     "end_time": "2022-02-14T12:49:45.035790Z",
     "start_time": "2022-02-14T12:49:45.033785Z"
    }
   },
   "outputs": [],
   "source": [
    "comp1= [img5, img5m]\n",
    "labels = [\n",
    "    'Mosaico QM',\n",
    "    'Mosaico Med']\n",
    "vis_params3=  [\n",
    "     vizParams, \n",
    "    vizParams]"
   ]
  },
  {
   "cell_type": "code",
   "execution_count": null,
   "id": "0a240656",
   "metadata": {
    "ExecuteTime": {
     "end_time": "2022-02-14T12:49:48.373706Z",
     "start_time": "2022-02-14T12:49:45.036608Z"
    }
   },
   "outputs": [],
   "source": [
    "geemap.linked_maps(rows=1, cols=2, height=\"900px\", center=[-45, -75], zoom=4, \n",
    "                   ee_objects=comp1, vis_params=vis_params3, labels=labels, label_position=\"topright\")"
   ]
  },
  {
   "cell_type": "code",
   "execution_count": null,
   "id": "96a55fc7",
   "metadata": {
    "ExecuteTime": {
     "end_time": "2022-02-14T12:49:48.376397Z",
     "start_time": "2022-02-14T12:49:48.374599Z"
    }
   },
   "outputs": [],
   "source": [
    "comp2= [landcover_QM,landcover_Med]\n",
    "labels = [\n",
    "    'Landcover QM',\n",
    "    'Landcover Med']\n",
    "vis_params4=  [\n",
    "     {}, \n",
    "     {}]"
   ]
  },
  {
   "cell_type": "code",
   "execution_count": null,
   "id": "1c07ad91",
   "metadata": {
    "ExecuteTime": {
     "end_time": "2022-02-14T12:50:05.904061Z",
     "start_time": "2022-02-14T12:49:48.377204Z"
    }
   },
   "outputs": [],
   "source": [
    "geemap.linked_maps(rows=1, cols=2, height=\"900px\", center=[-45, -75], zoom=4, \n",
    "                   ee_objects=comp2, vis_params=vis_params4, labels=labels, label_position=\"topright\")"
   ]
  },
  {
   "cell_type": "markdown",
   "id": "e80b449e",
   "metadata": {},
   "source": [
    "### Exportando"
   ]
  },
  {
   "cell_type": "code",
   "execution_count": null,
   "id": "f61a3d7d",
   "metadata": {
    "ExecuteTime": {
     "end_time": "2022-02-14T12:50:05.906775Z",
     "start_time": "2022-02-14T12:50:05.904938Z"
    }
   },
   "outputs": [],
   "source": [
    "transf=ee.Array([30, 0, 214185, 0, -30, -4825185])"
   ]
  },
  {
   "cell_type": "code",
   "execution_count": null,
   "id": "4c4da7ae",
   "metadata": {
    "ExecuteTime": {
     "end_time": "2022-02-14T12:50:06.125414Z",
     "start_time": "2022-02-14T12:50:05.907522Z"
    }
   },
   "outputs": [],
   "source": [
    "transf.getInfo()"
   ]
  },
  {
   "cell_type": "code",
   "execution_count": null,
   "id": "cceda41f",
   "metadata": {
    "ExecuteTime": {
     "end_time": "2022-02-14T12:50:06.128210Z",
     "start_time": "2022-02-14T12:50:06.126226Z"
    }
   },
   "outputs": [],
   "source": [
    "img5_B1 = img5.select(\"B1\")\n",
    "img5_B2 = img5.select(\"B2\")\n",
    "img5_B3 = img5.select(\"B3\")\n",
    "img5_B4 = img5.select(\"B4\")\n",
    "img5_B5 = img5.select(\"B5\")\n",
    "img5_B6 = img5.select(\"B6\")\n",
    "img5_B7 = img5.select(\"B7\")"
   ]
  },
  {
   "cell_type": "code",
   "execution_count": null,
   "id": "6e762547",
   "metadata": {
    "ExecuteTime": {
     "end_time": "2022-02-14T12:50:06.131165Z",
     "start_time": "2022-02-14T12:50:06.129272Z"
    }
   },
   "outputs": [],
   "source": [
    "img5_B1m = img5m.select(\"B1\")\n",
    "img5_B2m = img5m.select(\"B2\")\n",
    "img5_B3m = img5m.select(\"B3\")\n",
    "img5_B4m = img5m.select(\"B4\")\n",
    "img5_B5m = img5m.select(\"B5\")\n",
    "img5_B6m = img5m.select(\"B6\")\n",
    "img5_B7m = img5m.select(\"B7\")"
   ]
  },
  {
   "cell_type": "code",
   "execution_count": null,
   "id": "5bf824d7",
   "metadata": {
    "ExecuteTime": {
     "end_time": "2022-02-14T12:50:06.137459Z",
     "start_time": "2022-02-14T12:50:06.132171Z"
    }
   },
   "outputs": [],
   "source": [
    "task1 = ee.batch.Export.image.toDrive(**{\n",
    "    'image': img5_B1,\n",
    "    'description':'B1',\n",
    "    'folder':'exp2021_19s_full',\n",
    "    'region': geometry_exp.bounds(),\n",
    "    'scale':30,\n",
    "    'crsTransform':[30, 0, 214185, 0, -30, -4825185], \n",
    "    'crs':'EPSG:32719',\n",
    "    'maxPixels':1e13\n",
    "})\n",
    "task2 = ee.batch.Export.image.toDrive(**{\n",
    "    'image': img5_B2,\n",
    "    'description':'B2',\n",
    "    'folder':'exp2021_19s_full',\n",
    "    'region': geometry_exp.bounds(),\n",
    "    'scale':30,\n",
    "    'crsTransform':[30, 0, 214185, 0, -30, -4825185], \n",
    "    'crs':'EPSG:32719',\n",
    "    'maxPixels':1e13\n",
    "})\n",
    "task3 = ee.batch.Export.image.toDrive(**{\n",
    "    'image': img5_B3,\n",
    "    'description':'B3',\n",
    "    'folder':'exp2021_19s_full',\n",
    "    'region': geometry_exp.bounds(),\n",
    "    'scale':30,\n",
    "    'crsTransform':[30, 0, 214185, 0, -30, -4825185], \n",
    "    'crs':'EPSG:32719',\n",
    "    'maxPixels':1e13\n",
    "})\n",
    "task4 = ee.batch.Export.image.toDrive(**{\n",
    "    'image': img5_B4,\n",
    "    'description':'B4',\n",
    "    'folder':'exp2021_19s_full',\n",
    "    'region': geometry_exp.bounds(),\n",
    "    'scale':30,\n",
    "    'crsTransform':[30, 0, 214185, 0, -30, -4825185], \n",
    "    'crs':'EPSG:32719',\n",
    "    'maxPixels':1e13\n",
    "})\n",
    "task5 = ee.batch.Export.image.toDrive(**{\n",
    "    'image': img5_B5,\n",
    "    'description':'B5',\n",
    "    'folder':'exp2021_19s_full',\n",
    "    'region': geometry_exp.bounds(),\n",
    "    'scale':30,\n",
    "    'crsTransform':[30, 0, 214185, 0, -30, -4825185], \n",
    "    'crs':'EPSG:32719',\n",
    "    'maxPixels':1e13\n",
    "})\n",
    "task6 = ee.batch.Export.image.toDrive(**{\n",
    "    'image': img5_B6,\n",
    "    'description':'B6',\n",
    "    'folder':'exp2021_19s_full',\n",
    "    'region': geometry_exp.bounds(),\n",
    "    'scale':30,\n",
    "    'crsTransform':[30, 0, 214185, 0, -30, -4825185], \n",
    "    'crs':'EPSG:32719',\n",
    "    'maxPixels':1e13\n",
    "})\n",
    "task7 = ee.batch.Export.image.toDrive(**{\n",
    "    'image': img5_B7,\n",
    "    'description':'B7',\n",
    "    'folder':'exp2021_19s_full',\n",
    "    'region': geometry_exp.bounds(),\n",
    "    'scale':30,\n",
    "    'crsTransform':[30, 0, 214185, 0, -30, -4825185], \n",
    "    'crs':'EPSG:32719',\n",
    "    'maxPixels':1e13\n",
    "})"
   ]
  },
  {
   "cell_type": "code",
   "execution_count": null,
   "id": "77e30b2b",
   "metadata": {
    "ExecuteTime": {
     "end_time": "2022-02-14T12:50:06.143282Z",
     "start_time": "2022-02-14T12:50:06.138339Z"
    }
   },
   "outputs": [],
   "source": [
    "task1m = ee.batch.Export.image.toDrive(**{\n",
    "    'image': img5_B1m,\n",
    "    'description':'B1',\n",
    "    'folder':'exp2021_19s_full_m',\n",
    "    'region': geometry_exp.bounds(),\n",
    "    'scale':30,\n",
    "    'crsTransform':[30, 0, 214185, 0, -30, -4825185], \n",
    "    'crs':'EPSG:32719',\n",
    "    'maxPixels':1e13\n",
    "})\n",
    "task2m = ee.batch.Export.image.toDrive(**{\n",
    "    'image': img5_B2m,\n",
    "    'description':'B2',\n",
    "    'folder':'exp2021_19s_full_m',\n",
    "    'region': geometry_exp.bounds(),\n",
    "    'scale':30,\n",
    "    'crsTransform':[30, 0, 214185, 0, -30, -4825185], \n",
    "    'crs':'EPSG:32719',\n",
    "    'maxPixels':1e13\n",
    "})\n",
    "task3m = ee.batch.Export.image.toDrive(**{\n",
    "    'image': img5_B3m,\n",
    "    'description':'B3',\n",
    "    'folder':'exp2021_19s_full_m',\n",
    "    'region': geometry_exp.bounds(),\n",
    "    'scale':30,\n",
    "    'crsTransform':[30, 0, 214185, 0, -30, -4825185], \n",
    "    'crs':'EPSG:32719',\n",
    "    'maxPixels':1e13\n",
    "})\n",
    "task4m = ee.batch.Export.image.toDrive(**{\n",
    "    'image': img5_B4m,\n",
    "    'description':'B4',\n",
    "    'folder':'exp2021_19s_full_m',\n",
    "    'region': geometry_exp.bounds(),\n",
    "    'scale':30,\n",
    "    'crsTransform':[30, 0, 214185, 0, -30, -4825185], \n",
    "    'crs':'EPSG:32719',\n",
    "    'maxPixels':1e13\n",
    "})\n",
    "task5m = ee.batch.Export.image.toDrive(**{\n",
    "    'image': img5_B5m,\n",
    "    'description':'B5',\n",
    "    'folder':'exp2021_19s_full_m',\n",
    "    'region': geometry_exp.bounds(),\n",
    "    'scale':30,\n",
    "    'crsTransform':[30, 0, 214185, 0, -30, -4825185], \n",
    "    'crs':'EPSG:32719',\n",
    "    'maxPixels':1e13\n",
    "})\n",
    "task6m = ee.batch.Export.image.toDrive(**{\n",
    "    'image': img5_B6m,\n",
    "    'description':'B6',\n",
    "    'folder':'exp2021_19s_full_m',\n",
    "    'region': geometry_exp.bounds(),\n",
    "    'scale':30,\n",
    "    'crsTransform':[30, 0, 214185, 0, -30, -4825185], \n",
    "    'crs':'EPSG:32719',\n",
    "    'maxPixels':1e13\n",
    "})\n",
    "task7m = ee.batch.Export.image.toDrive(**{\n",
    "    'image': img5_B7m,\n",
    "    'description':'B7',\n",
    "    'folder':'exp2021_19s_full_m',\n",
    "    'region': geometry_exp.bounds(),\n",
    "    'scale':30,\n",
    "    'crsTransform':[30, 0, 214185, 0, -30, -4825185], \n",
    "    'crs':'EPSG:32719',\n",
    "    'maxPixels':1e13\n",
    "})"
   ]
  },
  {
   "cell_type": "code",
   "execution_count": null,
   "id": "dfee8042",
   "metadata": {
    "ExecuteTime": {
     "end_time": "2022-02-14T12:50:06.145527Z",
     "start_time": "2022-02-14T12:50:06.144221Z"
    }
   },
   "outputs": [],
   "source": [
    "# task1.start()\n",
    "# task2.start()\n",
    "# task3.start()\n",
    "# task4.start()\n",
    "# task5.start()\n",
    "# task6.start()\n",
    "# task7.start()"
   ]
  },
  {
   "cell_type": "code",
   "execution_count": null,
   "id": "3bcd3268",
   "metadata": {
    "ExecuteTime": {
     "end_time": "2022-02-14T12:50:06.147892Z",
     "start_time": "2022-02-14T12:50:06.146398Z"
    }
   },
   "outputs": [],
   "source": [
    "# task1m.start()\n",
    "# task2m.start()\n",
    "# task3m.start()\n",
    "# task4m.start()\n",
    "# task5m.start()\n",
    "# task6m.start()\n",
    "# task7m.start()"
   ]
  },
  {
   "cell_type": "code",
   "execution_count": null,
   "id": "0633aa27",
   "metadata": {
    "ExecuteTime": {
     "end_time": "2022-02-14T12:50:06.150586Z",
     "start_time": "2022-02-14T12:50:06.148900Z"
    }
   },
   "outputs": [],
   "source": [
    "brillo = componentes.select('brightness')\n",
    "greenness = componentes.select('greenness')\n",
    "wetness = componentes.select('wetness')\n",
    "# ['brightness','greenness','wetness','fourth','fifth','sixth']"
   ]
  },
  {
   "cell_type": "code",
   "execution_count": null,
   "id": "ecae7a62",
   "metadata": {
    "ExecuteTime": {
     "end_time": "2022-02-14T12:50:06.152997Z",
     "start_time": "2022-02-14T12:50:06.151382Z"
    }
   },
   "outputs": [],
   "source": [
    "brillom = componentesm.select('brightness')\n",
    "greennessm = componentesm.select('greenness')\n",
    "wetnessm = componentesm.select('wetness')"
   ]
  },
  {
   "cell_type": "code",
   "execution_count": null,
   "id": "5cc31766",
   "metadata": {
    "ExecuteTime": {
     "end_time": "2022-02-14T12:50:06.156767Z",
     "start_time": "2022-02-14T12:50:06.153788Z"
    }
   },
   "outputs": [],
   "source": [
    "task8 = ee.batch.Export.image.toDrive(**{\n",
    "    'image': brillo,\n",
    "    'description':'brillo',\n",
    "    'folder':'exp2021_19s_full',\n",
    "    'region': geometry_exp.bounds(),\n",
    "    'scale':30,\n",
    "    'crsTransform':[30, 0, 214185, 0, -30, -4825185], \n",
    "    'crs':'EPSG:32719',\n",
    "    'maxPixels':1e13\n",
    "})\n",
    "task9 = ee.batch.Export.image.toDrive(**{\n",
    "    'image': greenness,\n",
    "    'description':'greenness',\n",
    "    'folder':'exp2021_19s_full',\n",
    "    'region': geometry_exp.bounds(),\n",
    "    'scale':30,\n",
    "    'crsTransform':[30, 0, 214185, 0, -30, -4825185], \n",
    "    'crs':'EPSG:32719',\n",
    "    'maxPixels':1e13\n",
    "})\n",
    "task10 = ee.batch.Export.image.toDrive(**{\n",
    "    'image': wetness,\n",
    "    'description':'wetness',\n",
    "    'folder':'exp2021_19s_full',\n",
    "    'region': geometry_exp.bounds(),\n",
    "    'scale':30,\n",
    "    'crsTransform':[30, 0, 214185, 0, -30, -4825185], \n",
    "    'crs':'EPSG:32719',\n",
    "    'maxPixels':1e13\n",
    "})"
   ]
  },
  {
   "cell_type": "code",
   "execution_count": null,
   "id": "0d024aad",
   "metadata": {
    "ExecuteTime": {
     "end_time": "2022-02-14T12:50:06.160646Z",
     "start_time": "2022-02-14T12:50:06.157673Z"
    }
   },
   "outputs": [],
   "source": [
    "task8m = ee.batch.Export.image.toDrive(**{\n",
    "    'image': brillom,\n",
    "    'description':'brillo',\n",
    "    'folder':'exp2021_19s_full_m',\n",
    "    'region': geometry_exp.bounds(),\n",
    "    'scale':30,\n",
    "    'crsTransform':[30, 0, 214185, 0, -30, -4825185], \n",
    "    'crs':'EPSG:32719',\n",
    "    'maxPixels':1e13\n",
    "})\n",
    "task9m = ee.batch.Export.image.toDrive(**{\n",
    "    'image': greennessm,\n",
    "    'description':'greenness',\n",
    "    'folder':'exp2021_19s_full_m',\n",
    "    'region': geometry_exp.bounds(),\n",
    "    'scale':30,\n",
    "    'crsTransform':[30, 0, 214185, 0, -30, -4825185], \n",
    "    'crs':'EPSG:32719',\n",
    "    'maxPixels':1e13\n",
    "})\n",
    "task10m = ee.batch.Export.image.toDrive(**{\n",
    "    'image': wetnessm,\n",
    "    'description':'wetness',\n",
    "    'folder':'exp2021_19s_full_m',\n",
    "    'region': geometry_exp.bounds(),\n",
    "    'scale':30,\n",
    "    'crsTransform':[30, 0, 214185, 0, -30, -4825185], \n",
    "    'crs':'EPSG:32719',\n",
    "    'maxPixels':1e13\n",
    "})"
   ]
  },
  {
   "cell_type": "code",
   "execution_count": null,
   "id": "056a7102",
   "metadata": {
    "ExecuteTime": {
     "end_time": "2022-02-14T12:50:06.162761Z",
     "start_time": "2022-02-14T12:50:06.161544Z"
    }
   },
   "outputs": [],
   "source": [
    "# task8.start()\n",
    "# task9.start()\n",
    "# task10.start()"
   ]
  },
  {
   "cell_type": "code",
   "execution_count": null,
   "id": "30f7d9e4",
   "metadata": {
    "ExecuteTime": {
     "end_time": "2022-02-14T12:50:06.165064Z",
     "start_time": "2022-02-14T12:50:06.163616Z"
    }
   },
   "outputs": [],
   "source": [
    "# task8m.start()\n",
    "# task9m.start()\n",
    "# task10m.start()"
   ]
  },
  {
   "cell_type": "code",
   "execution_count": null,
   "id": "21943242",
   "metadata": {
    "ExecuteTime": {
     "end_time": "2022-02-14T12:50:06.168073Z",
     "start_time": "2022-02-14T12:50:06.166035Z"
    }
   },
   "outputs": [],
   "source": [
    "taskclasqm = ee.batch.Export.image.toDrive(**{\n",
    "    'image': landcover_QM,\n",
    "    'description':'landcover_2021_QM',\n",
    "    'folder':'Landcover 2021',\n",
    "    'region': geometry_exp.bounds(),\n",
    "    'scale':30,\n",
    "    'crsTransform':[30, 0, 214185, 0, -30, -4825185], \n",
    "    'crs':'EPSG:32719',\n",
    "    'maxPixels':1e13\n",
    "})"
   ]
  },
  {
   "cell_type": "code",
   "execution_count": null,
   "id": "c892658b",
   "metadata": {
    "ExecuteTime": {
     "end_time": "2022-02-14T12:50:06.170811Z",
     "start_time": "2022-02-14T12:50:06.168883Z"
    }
   },
   "outputs": [],
   "source": [
    "taskclasm = ee.batch.Export.image.toDrive(**{\n",
    "    'image': landcover_Med,\n",
    "    'description':'landcover_2021_Med',\n",
    "    'folder':'Landcover 2021',\n",
    "    'region': geometry_exp.bounds(),\n",
    "    'scale':30,\n",
    "    'crsTransform':[30, 0, 214185, 0, -30, -4825185], \n",
    "    'crs':'EPSG:32719',\n",
    "    'maxPixels':1e13\n",
    "})"
   ]
  },
  {
   "cell_type": "code",
   "execution_count": null,
   "id": "9af412b7",
   "metadata": {
    "ExecuteTime": {
     "end_time": "2022-02-14T12:50:06.173082Z",
     "start_time": "2022-02-14T12:50:06.171750Z"
    }
   },
   "outputs": [],
   "source": [
    "# taskclasqm.start()\n",
    "# taskclasm.start()"
   ]
  },
  {
   "cell_type": "markdown",
   "id": "5b569226",
   "metadata": {},
   "source": [
    "## Test "
   ]
  },
  {
   "cell_type": "markdown",
   "id": "9b16d3bf",
   "metadata": {},
   "source": [
    "### Texturas"
   ]
  },
  {
   "cell_type": "code",
   "execution_count": null,
   "id": "979f4f02",
   "metadata": {
    "ExecuteTime": {
     "end_time": "2022-02-14T12:50:06.175429Z",
     "start_time": "2022-02-14T12:50:06.173868Z"
    }
   },
   "outputs": [],
   "source": [
    "text_qm = img_final.select('B1','B2','B3','B4','B5','B6','B7') "
   ]
  },
  {
   "cell_type": "code",
   "execution_count": null,
   "id": "ad15b2b2",
   "metadata": {
    "ExecuteTime": {
     "end_time": "2022-02-14T12:50:06.177778Z",
     "start_time": "2022-02-14T12:50:06.176325Z"
    }
   },
   "outputs": [],
   "source": [
    "text_med = img_final_m.select('B1','B2','B3','B4','B5','B6','B7') "
   ]
  },
  {
   "cell_type": "code",
   "execution_count": null,
   "id": "c26b7619",
   "metadata": {
    "ExecuteTime": {
     "end_time": "2022-02-14T12:50:06.180152Z",
     "start_time": "2022-02-14T12:50:06.178657Z"
    }
   },
   "outputs": [],
   "source": [
    "text_qm_array = text_qm.toArray()\n",
    "text_qm_array = text_qm_array.toArray(1)"
   ]
  },
  {
   "cell_type": "code",
   "execution_count": null,
   "id": "5ce3faba",
   "metadata": {
    "ExecuteTime": {
     "end_time": "2022-02-14T12:50:06.182759Z",
     "start_time": "2022-02-14T12:50:06.181097Z"
    }
   },
   "outputs": [],
   "source": [
    "text_med_array = text_med.toArray()\n",
    "text_med_array = text_med_array.toArray(1)"
   ]
  },
  {
   "cell_type": "code",
   "execution_count": null,
   "id": "01a5e0b7",
   "metadata": {
    "ExecuteTime": {
     "end_time": "2022-02-14T12:50:06.185721Z",
     "start_time": "2022-02-14T12:50:06.183614Z"
    }
   },
   "outputs": [],
   "source": [
    "coef100 = ee.Array([\n",
    "    [100,0,0,0,0,0,0],\n",
    "    [0,100,0,0,0,0,0],\n",
    "    [0,0,100,0,0,0,0],\n",
    "    [0,0,0,100,0,0,0],\n",
    "    [0,0,0,0,100,0,0],\n",
    "    [0,0,0,0,0,100,0],\n",
    "    [0,0,0,0,0,0,100],\n",
    "    ])"
   ]
  },
  {
   "cell_type": "code",
   "execution_count": null,
   "id": "0ea3ba21",
   "metadata": {
    "ExecuteTime": {
     "end_time": "2022-02-14T12:50:06.188234Z",
     "start_time": "2022-02-14T12:50:06.186631Z"
    }
   },
   "outputs": [],
   "source": [
    "factor_qm = ee.Image(coef100)\\\n",
    "                .matrixMultiply(text_qm_array) \\\n",
    "                .arrayProject([0])\\\n",
    "                .arrayFlatten(\n",
    "                [['B1','B2','B3','B4','B5','B6','B7']])"
   ]
  },
  {
   "cell_type": "code",
   "execution_count": null,
   "id": "052d4cd3",
   "metadata": {
    "ExecuteTime": {
     "end_time": "2022-02-14T12:50:06.190809Z",
     "start_time": "2022-02-14T12:50:06.189170Z"
    }
   },
   "outputs": [],
   "source": [
    "factor_med = ee.Image(coef100)\\\n",
    "                .matrixMultiply(text_med_array) \\\n",
    "                .arrayProject([0])\\\n",
    "                .arrayFlatten(\n",
    "                [['B1','B2','B3','B4','B5','B6','B7']])"
   ]
  },
  {
   "cell_type": "code",
   "execution_count": null,
   "id": "bcd29373",
   "metadata": {
    "ExecuteTime": {
     "end_time": "2022-02-14T12:50:06.193181Z",
     "start_time": "2022-02-14T12:50:06.191798Z"
    }
   },
   "outputs": [],
   "source": [
    "testint_txt_qm = factor_qm.int()\n",
    "testint_txt_med = factor_med.int()"
   ]
  },
  {
   "cell_type": "code",
   "execution_count": null,
   "id": "798ea0f1",
   "metadata": {
    "ExecuteTime": {
     "end_time": "2022-02-14T12:50:06.195505Z",
     "start_time": "2022-02-14T12:50:06.194036Z"
    }
   },
   "outputs": [],
   "source": [
    "txt_qm = testint_txt_qm.glcmTexture(3)\n",
    "txt_med = testint_txt_med.glcmTexture(3)"
   ]
  },
  {
   "cell_type": "code",
   "execution_count": null,
   "id": "42a2d377",
   "metadata": {
    "ExecuteTime": {
     "end_time": "2022-02-14T12:50:07.711100Z",
     "start_time": "2022-02-14T12:50:06.196423Z"
    }
   },
   "outputs": [],
   "source": [
    "txt_qm.bandNames().getInfo()"
   ]
  },
  {
   "cell_type": "code",
   "execution_count": null,
   "id": "6f4aa106",
   "metadata": {
    "ExecuteTime": {
     "end_time": "2022-02-14T12:50:09.422847Z",
     "start_time": "2022-02-14T12:50:07.711919Z"
    }
   },
   "outputs": [],
   "source": [
    "txt_med.bandNames().getInfo()"
   ]
  },
  {
   "cell_type": "code",
   "execution_count": null,
   "id": "b4b31015",
   "metadata": {
    "ExecuteTime": {
     "end_time": "2022-02-14T12:50:09.425676Z",
     "start_time": "2022-02-14T12:50:09.423815Z"
    }
   },
   "outputs": [],
   "source": [
    "data_txt_tm_qm = txt_qm.sampleRegions(**{\n",
    "    'collection': test1,\n",
    "    'properties': ['C_ID'],\n",
    "    'scale': 30,\n",
    "    'tileScale': 2,\n",
    "})"
   ]
  },
  {
   "cell_type": "code",
   "execution_count": null,
   "id": "b1261dbe",
   "metadata": {
    "ExecuteTime": {
     "end_time": "2022-02-14T12:50:09.428318Z",
     "start_time": "2022-02-14T12:50:09.426530Z"
    }
   },
   "outputs": [],
   "source": [
    "data_txt_tm_med = txt_med.sampleRegions(**{\n",
    "    'collection': test1,\n",
    "    'properties': ['C_ID'],\n",
    "    'scale': 30,\n",
    "    'tileScale': 2,\n",
    "})"
   ]
  },
  {
   "cell_type": "code",
   "execution_count": null,
   "id": "6e74a710",
   "metadata": {
    "ExecuteTime": {
     "end_time": "2022-02-14T12:50:09.430890Z",
     "start_time": "2022-02-14T12:50:09.429407Z"
    }
   },
   "outputs": [],
   "source": [
    "tablasqm = ee.batch.Export.table.toDrive(**{\n",
    "  'collection': data_txt_tm_qm,\n",
    "  'description': 'txt_TM_QM',\n",
    "  'fileFormat': 'CSV'\n",
    "})"
   ]
  },
  {
   "cell_type": "code",
   "execution_count": null,
   "id": "8f48443e",
   "metadata": {
    "ExecuteTime": {
     "end_time": "2022-02-14T12:50:09.433402Z",
     "start_time": "2022-02-14T12:50:09.431865Z"
    }
   },
   "outputs": [],
   "source": [
    "tablasmed = ee.batch.Export.table.toDrive(**{\n",
    "  'collection': data_txt_tm_med,\n",
    "  'description': 'txt_TM_MED',\n",
    "  'fileFormat': 'CSV'\n",
    "})"
   ]
  },
  {
   "cell_type": "code",
   "execution_count": null,
   "id": "984ff9d3",
   "metadata": {
    "ExecuteTime": {
     "end_time": "2022-02-14T12:50:09.435830Z",
     "start_time": "2022-02-14T12:50:09.434501Z"
    }
   },
   "outputs": [],
   "source": [
    "# tablasqm.start()\n",
    "# tablasmed.start()"
   ]
  },
  {
   "cell_type": "markdown",
   "id": "89d4bbca",
   "metadata": {},
   "source": [
    "#### NDVI"
   ]
  },
  {
   "cell_type": "code",
   "execution_count": null,
   "id": "d12bffc6",
   "metadata": {
    "ExecuteTime": {
     "end_time": "2022-02-14T12:50:09.438125Z",
     "start_time": "2022-02-14T12:50:09.436544Z"
    }
   },
   "outputs": [],
   "source": [
    "ndvi_txt_array = img5.select('NDVI')\n",
    "ndvi_txt_array = ndvi_txt_array.toArray()\n",
    "ndvi_txt_array = ndvi_txt_array.toArray(1)"
   ]
  },
  {
   "cell_type": "code",
   "execution_count": null,
   "id": "d59fba50",
   "metadata": {
    "ExecuteTime": {
     "end_time": "2022-02-14T12:50:09.440313Z",
     "start_time": "2022-02-14T12:50:09.438930Z"
    }
   },
   "outputs": [],
   "source": [
    "coef2 = ee.Array([[100]])"
   ]
  },
  {
   "cell_type": "code",
   "execution_count": null,
   "id": "92102da8",
   "metadata": {
    "ExecuteTime": {
     "end_time": "2022-02-14T12:50:09.442915Z",
     "start_time": "2022-02-14T12:50:09.441366Z"
    }
   },
   "outputs": [],
   "source": [
    "factor = ee.Image(coef2)\\\n",
    "                .matrixMultiply(ndvi_txt_array) \\\n",
    "                .arrayProject([0])\\\n",
    "                .arrayFlatten(\n",
    "                [['NDVI']])"
   ]
  },
  {
   "cell_type": "code",
   "execution_count": null,
   "id": "a7a75374",
   "metadata": {
    "ExecuteTime": {
     "end_time": "2022-02-14T12:50:10.838306Z",
     "start_time": "2022-02-14T12:50:09.443831Z"
    }
   },
   "outputs": [],
   "source": [
    "factor.bandTypes().getInfo()"
   ]
  },
  {
   "cell_type": "code",
   "execution_count": null,
   "id": "244834a0",
   "metadata": {
    "ExecuteTime": {
     "end_time": "2022-02-14T12:50:10.840827Z",
     "start_time": "2022-02-14T12:50:10.839229Z"
    }
   },
   "outputs": [],
   "source": [
    "testimg_txt = factor.int()"
   ]
  },
  {
   "cell_type": "code",
   "execution_count": null,
   "id": "6f845908",
   "metadata": {
    "ExecuteTime": {
     "end_time": "2022-02-14T12:50:12.201306Z",
     "start_time": "2022-02-14T12:50:10.841692Z"
    }
   },
   "outputs": [],
   "source": [
    "testimg_txt.bandTypes().getInfo()"
   ]
  },
  {
   "cell_type": "code",
   "execution_count": null,
   "id": "7c334e9f",
   "metadata": {
    "ExecuteTime": {
     "end_time": "2022-02-14T12:50:12.203808Z",
     "start_time": "2022-02-14T12:50:12.202085Z"
    }
   },
   "outputs": [],
   "source": [
    "texturas = testimg_txt.glcmTexture(3)"
   ]
  },
  {
   "cell_type": "code",
   "execution_count": null,
   "id": "4c5d1482",
   "metadata": {
    "ExecuteTime": {
     "end_time": "2022-02-14T12:50:13.607079Z",
     "start_time": "2022-02-14T12:50:12.204470Z"
    }
   },
   "outputs": [],
   "source": [
    "texturas.bandNames().getInfo()"
   ]
  },
  {
   "cell_type": "code",
   "execution_count": null,
   "id": "3e531601",
   "metadata": {
    "ExecuteTime": {
     "end_time": "2022-02-14T12:50:13.609942Z",
     "start_time": "2022-02-14T12:50:13.607989Z"
    }
   },
   "outputs": [],
   "source": [
    "texturas_ndvi = texturas\n",
    "texturas_ndvi = texturas_ndvi.toArray()\n",
    "texturas_ndvi = texturas_ndvi.toArray(1)"
   ]
  },
  {
   "cell_type": "code",
   "execution_count": null,
   "id": "3615617c",
   "metadata": {
    "ExecuteTime": {
     "end_time": "2022-02-14T12:50:13.616025Z",
     "start_time": "2022-02-14T12:50:13.610750Z"
    }
   },
   "outputs": [],
   "source": [
    "coef3 = ee.Array([\n",
    "    [1,0,0,0,0,0,0,0,0,0,0,0,0,0,0,0,0,0],\n",
    "    [0,0.01,0,0,0,0,0,0,0,0,0,0,0,0,0,0,0,0],\n",
    "    [0,0,1,0,0,0,0,0,0,0,0,0,0,0,0,0,0,0],\n",
    "    [0,0,0,1,0,0,0,0,0,0,0,0,0,0,0,0,0,0],\n",
    "    [0,0,0,0,1,0,0,0,0,0,0,0,0,0,0,0,0,0],\n",
    "    [0,0,0,0,0,0.01,0,0,0,0,0,0,0,0,0,0,0,0],\n",
    "    [0,0,0,0,0,0,1,0,0,0,0,0,0,0,0,0,0,0],\n",
    "    [0,0,0,0,0,0,0,1,0,0,0,0,0,0,0,0,0,0],\n",
    "    [0,0,0,0,0,0,0,0,1,0,0,0,0,0,0,0,0,0],\n",
    "    [0,0,0,0,0,0,0,0,0,1,0,0,0,0,0,0,0,0],\n",
    "    [0,0,0,0,0,0,0,0,0,0,1,0,0,0,0,0,0,0],\n",
    "    [0,0,0,0,0,0,0,0,0,0,0,1,0,0,0,0,0,0],\n",
    "    [0,0,0,0,0,0,0,0,0,0,0,0,1,0,0,0,0,0],\n",
    "    [0,0,0,0,0,0,0,0,0,0,0,0,0,1,0,0,0,0],\n",
    "    [0,0,0,0,0,0,0,0,0,0,0,0,0,0,1,0,0,0],\n",
    "    [0,0,0,0,0,0,0,0,0,0,0,0,0,0,0,1,0,0],\n",
    "    [0,0,0,0,0,0,0,0,0,0,0,0,0,0,0,0,1,0],\n",
    "    [0,0,0,0,0,0,0,0,0,0,0,0,0,0,0,0,0,1],\n",
    "    ])"
   ]
  },
  {
   "cell_type": "code",
   "execution_count": null,
   "id": "c9b0b2e9",
   "metadata": {
    "ExecuteTime": {
     "end_time": "2022-02-14T12:50:13.618924Z",
     "start_time": "2022-02-14T12:50:13.616997Z"
    }
   },
   "outputs": [],
   "source": [
    "factor2 = ee.Image(coef3)\\\n",
    "                .matrixMultiply(texturas_ndvi) \\\n",
    "                .arrayProject([0])\\\n",
    "                .arrayFlatten(\n",
    "                [['NDVI_asm',\n",
    " 'NDVI_contrast',\n",
    " 'NDVI_corr',\n",
    " 'NDVI_var',\n",
    " 'NDVI_idm',\n",
    " 'NDVI_savg',\n",
    " 'NDVI_svar',\n",
    " 'NDVI_sent',\n",
    " 'NDVI_ent',\n",
    " 'NDVI_dvar',\n",
    " 'NDVI_dent',\n",
    " 'NDVI_imcorr1',\n",
    " 'NDVI_imcorr2',\n",
    " 'NDVI_maxcorr',\n",
    " 'NDVI_diss',\n",
    " 'NDVI_inertia',\n",
    " 'NDVI_shade',\n",
    " 'NDVI_prom']])"
   ]
  },
  {
   "cell_type": "code",
   "execution_count": null,
   "id": "2c1590bd",
   "metadata": {
    "ExecuteTime": {
     "end_time": "2022-02-14T12:50:15.030266Z",
     "start_time": "2022-02-14T12:50:13.619830Z"
    }
   },
   "outputs": [],
   "source": [
    "Map4.addLayer(factor2.select('NDVI_diss'), {} ,'correlacion' )\n",
    "Map4"
   ]
  },
  {
   "cell_type": "code",
   "execution_count": null,
   "id": "54a1b4d5",
   "metadata": {
    "ExecuteTime": {
     "end_time": "2022-02-14T12:50:15.033696Z",
     "start_time": "2022-02-14T12:50:15.031179Z"
    }
   },
   "outputs": [],
   "source": [
    "tasktxt1 = ee.batch.Export.image.toDrive(**{\n",
    "    'image': factor2.select('NDVI_savg'),\n",
    "    'description':'NDVI_savg',\n",
    "    'folder':'exp2021_19s_txt',\n",
    "    'region': geometry_exp.bounds(),\n",
    "    'scale':30,\n",
    "    'crsTransform':[30, 0, 214185, 0, -30, -4825185], \n",
    "    'crs':'EPSG:32719',\n",
    "    'maxPixels':1e13\n",
    "})"
   ]
  },
  {
   "cell_type": "code",
   "execution_count": null,
   "id": "b2798dd1",
   "metadata": {
    "ExecuteTime": {
     "end_time": "2022-02-14T12:50:15.036384Z",
     "start_time": "2022-02-14T12:50:15.034687Z"
    }
   },
   "outputs": [],
   "source": [
    "# tasktxt1.start()"
   ]
  },
  {
   "cell_type": "code",
   "execution_count": null,
   "id": "7c5833d1",
   "metadata": {
    "ExecuteTime": {
     "end_time": "2022-02-14T12:50:15.038669Z",
     "start_time": "2022-02-14T12:50:15.037066Z"
    }
   },
   "outputs": [],
   "source": [
    "texturas_NDVI = factor2.select('NDVI_savg','NDVI_var','NDVI_contrast','NDVI_diss','NDVI_ent','NDVI_asm','NDVI_corr')"
   ]
  },
  {
   "cell_type": "code",
   "execution_count": null,
   "id": "73ba3471",
   "metadata": {
    "ExecuteTime": {
     "end_time": "2022-02-14T12:50:15.041015Z",
     "start_time": "2022-02-14T12:50:15.039497Z"
    }
   },
   "outputs": [],
   "source": [
    "data_txt_ndvi = texturas_NDVI.sampleRegions(**{\n",
    "    'collection': test1,\n",
    "    'properties': ['C_ID'],\n",
    "    'scale': 30,\n",
    "    'tileScale': 2,\n",
    "})"
   ]
  },
  {
   "cell_type": "code",
   "execution_count": null,
   "id": "41b40a54",
   "metadata": {
    "ExecuteTime": {
     "end_time": "2022-02-14T12:50:15.043472Z",
     "start_time": "2022-02-14T12:50:15.041962Z"
    }
   },
   "outputs": [],
   "source": [
    "tablas3 = ee.batch.Export.table.toDrive(**{\n",
    "  'collection': data_txt_ndvi,\n",
    "  'description': 'txt_ndvi',\n",
    "  'fileFormat': 'CSV'\n",
    "})"
   ]
  },
  {
   "cell_type": "code",
   "execution_count": null,
   "id": "6a4ae5fe",
   "metadata": {
    "ExecuteTime": {
     "end_time": "2022-02-14T12:50:15.157761Z",
     "start_time": "2022-02-14T12:50:15.155550Z"
    }
   },
   "outputs": [],
   "source": [
    "# tablas3.start()"
   ]
  },
  {
   "cell_type": "markdown",
   "id": "97e92404",
   "metadata": {},
   "source": [
    "#### EVI"
   ]
  },
  {
   "cell_type": "code",
   "execution_count": null,
   "id": "f7990b77",
   "metadata": {
    "ExecuteTime": {
     "end_time": "2022-02-14T12:50:15.160583Z",
     "start_time": "2022-02-14T12:50:15.158949Z"
    }
   },
   "outputs": [],
   "source": [
    "EVI_txt_array = img5.select('EVI')\n",
    "EVI_txt_array = ndvi_txt_array.toArray()\n",
    "EVI_txt_array = ndvi_txt_array.toArray(1)"
   ]
  },
  {
   "cell_type": "code",
   "execution_count": null,
   "id": "69b3dada",
   "metadata": {
    "ExecuteTime": {
     "end_time": "2022-02-14T12:50:15.163113Z",
     "start_time": "2022-02-14T12:50:15.161632Z"
    }
   },
   "outputs": [],
   "source": [
    "coef2 = ee.Array([[100]])"
   ]
  },
  {
   "cell_type": "code",
   "execution_count": null,
   "id": "7b9da650",
   "metadata": {
    "ExecuteTime": {
     "end_time": "2022-02-14T12:50:15.165545Z",
     "start_time": "2022-02-14T12:50:15.163991Z"
    }
   },
   "outputs": [],
   "source": [
    "factor_evi = ee.Image(coef2)\\\n",
    "                .matrixMultiply(EVI_txt_array) \\\n",
    "                .arrayProject([0])\\\n",
    "                .arrayFlatten(\n",
    "                [['EVI']])"
   ]
  },
  {
   "cell_type": "code",
   "execution_count": null,
   "id": "95ca18ac",
   "metadata": {
    "ExecuteTime": {
     "end_time": "2022-02-14T12:50:16.654677Z",
     "start_time": "2022-02-14T12:50:15.166392Z"
    }
   },
   "outputs": [],
   "source": [
    "factor_evi.bandTypes().getInfo()"
   ]
  },
  {
   "cell_type": "code",
   "execution_count": null,
   "id": "c9c13d37",
   "metadata": {
    "ExecuteTime": {
     "end_time": "2022-02-14T12:50:16.657055Z",
     "start_time": "2022-02-14T12:50:16.655525Z"
    }
   },
   "outputs": [],
   "source": [
    "factor_evi_txt = factor_evi.int()"
   ]
  },
  {
   "cell_type": "code",
   "execution_count": null,
   "id": "636f6699",
   "metadata": {
    "ExecuteTime": {
     "end_time": "2022-02-14T12:50:18.566630Z",
     "start_time": "2022-02-14T12:50:16.657732Z"
    }
   },
   "outputs": [],
   "source": [
    "factor_evi_txt.bandTypes().getInfo()"
   ]
  },
  {
   "cell_type": "code",
   "execution_count": null,
   "id": "06c58d6a",
   "metadata": {
    "ExecuteTime": {
     "end_time": "2022-02-14T12:50:18.569344Z",
     "start_time": "2022-02-14T12:50:18.567661Z"
    }
   },
   "outputs": [],
   "source": [
    "txt_evi = factor_evi_txt.glcmTexture(3)"
   ]
  },
  {
   "cell_type": "code",
   "execution_count": null,
   "id": "95317ced",
   "metadata": {
    "ExecuteTime": {
     "end_time": "2022-02-14T12:50:20.204881Z",
     "start_time": "2022-02-14T12:50:18.570165Z"
    }
   },
   "outputs": [],
   "source": [
    "txt_evi.bandNames().getInfo()"
   ]
  },
  {
   "cell_type": "code",
   "execution_count": null,
   "id": "82042902",
   "metadata": {
    "ExecuteTime": {
     "end_time": "2022-02-14T12:50:20.207733Z",
     "start_time": "2022-02-14T12:50:20.205951Z"
    }
   },
   "outputs": [],
   "source": [
    "texturas_evi = txt_evi\n",
    "texturas_evi = texturas_evi.toArray()\n",
    "texturas_evi = texturas_evi.toArray(1)"
   ]
  },
  {
   "cell_type": "code",
   "execution_count": null,
   "id": "e7c55d44",
   "metadata": {
    "ExecuteTime": {
     "end_time": "2022-02-14T12:50:20.214070Z",
     "start_time": "2022-02-14T12:50:20.208682Z"
    }
   },
   "outputs": [],
   "source": [
    "coef3 = ee.Array([\n",
    "    [1,0,0,0,0,0,0,0,0,0,0,0,0,0,0,0,0,0],\n",
    "    [0,0.01,0,0,0,0,0,0,0,0,0,0,0,0,0,0,0,0],\n",
    "    [0,0,1,0,0,0,0,0,0,0,0,0,0,0,0,0,0,0],\n",
    "    [0,0,0,1,0,0,0,0,0,0,0,0,0,0,0,0,0,0],\n",
    "    [0,0,0,0,1,0,0,0,0,0,0,0,0,0,0,0,0,0],\n",
    "    [0,0,0,0,0,0.01,0,0,0,0,0,0,0,0,0,0,0,0],\n",
    "    [0,0,0,0,0,0,1,0,0,0,0,0,0,0,0,0,0,0],\n",
    "    [0,0,0,0,0,0,0,1,0,0,0,0,0,0,0,0,0,0],\n",
    "    [0,0,0,0,0,0,0,0,1,0,0,0,0,0,0,0,0,0],\n",
    "    [0,0,0,0,0,0,0,0,0,1,0,0,0,0,0,0,0,0],\n",
    "    [0,0,0,0,0,0,0,0,0,0,1,0,0,0,0,0,0,0],\n",
    "    [0,0,0,0,0,0,0,0,0,0,0,1,0,0,0,0,0,0],\n",
    "    [0,0,0,0,0,0,0,0,0,0,0,0,1,0,0,0,0,0],\n",
    "    [0,0,0,0,0,0,0,0,0,0,0,0,0,1,0,0,0,0],\n",
    "    [0,0,0,0,0,0,0,0,0,0,0,0,0,0,1,0,0,0],\n",
    "    [0,0,0,0,0,0,0,0,0,0,0,0,0,0,0,1,0,0],\n",
    "    [0,0,0,0,0,0,0,0,0,0,0,0,0,0,0,0,1,0],\n",
    "    [0,0,0,0,0,0,0,0,0,0,0,0,0,0,0,0,0,1]\n",
    "    ])"
   ]
  },
  {
   "cell_type": "code",
   "execution_count": null,
   "id": "082923f8",
   "metadata": {
    "ExecuteTime": {
     "end_time": "2022-02-14T12:50:20.217012Z",
     "start_time": "2022-02-14T12:50:20.215173Z"
    }
   },
   "outputs": [],
   "source": [
    "factor3 = ee.Image(coef3)\\\n",
    "                .matrixMultiply(texturas_evi) \\\n",
    "                .arrayProject([0])\\\n",
    "                .arrayFlatten(\n",
    "                [['EVI_asm',\n",
    " 'EVI_contrast',\n",
    " 'EVI_corr',\n",
    " 'EVI_var',\n",
    " 'EVI_idm',\n",
    " 'EVI_savg',\n",
    " 'EVI_svar',\n",
    " 'EVI_sent',\n",
    " 'EVI_ent',\n",
    " 'EVI_dvar',\n",
    " 'EVI_dent',\n",
    " 'EVI_imcorr1',\n",
    " 'EVI_imcorr2',\n",
    " 'EVI_maxcorr',\n",
    " 'EVI_diss',\n",
    " 'EVI_inertia',\n",
    " 'EVI_shade',\n",
    " 'EVI_prom']])"
   ]
  },
  {
   "cell_type": "code",
   "execution_count": null,
   "id": "2cb59bdc",
   "metadata": {
    "ExecuteTime": {
     "end_time": "2022-02-14T12:50:21.721630Z",
     "start_time": "2022-02-14T12:50:20.217923Z"
    }
   },
   "outputs": [],
   "source": [
    "Map4.addLayer(factor3.select('EVI_corr'), {} ,'correlacion' )\n",
    "Map4"
   ]
  },
  {
   "cell_type": "code",
   "execution_count": null,
   "id": "01eda23e",
   "metadata": {
    "ExecuteTime": {
     "end_time": "2022-02-14T12:50:21.724282Z",
     "start_time": "2022-02-14T12:50:21.722371Z"
    }
   },
   "outputs": [],
   "source": [
    "texturas_EVI = factor3.select('EVI_savg','EVI_var','EVI_contrast','EVI_diss','EVI_ent','EVI_asm','EVI_corr')"
   ]
  },
  {
   "cell_type": "code",
   "execution_count": null,
   "id": "7b72d0dd",
   "metadata": {
    "ExecuteTime": {
     "end_time": "2022-02-14T12:50:21.726934Z",
     "start_time": "2022-02-14T12:50:21.725088Z"
    }
   },
   "outputs": [],
   "source": [
    "data_txt_evi = texturas_EVI.sampleRegions(**{\n",
    "    'collection': test1,\n",
    "    'properties': ['C_ID'],\n",
    "    'scale': 30,\n",
    "    'tileScale': 2,\n",
    "})"
   ]
  },
  {
   "cell_type": "code",
   "execution_count": null,
   "id": "e11c753f",
   "metadata": {
    "ExecuteTime": {
     "end_time": "2022-02-14T12:50:21.729224Z",
     "start_time": "2022-02-14T12:50:21.727758Z"
    }
   },
   "outputs": [],
   "source": [
    "tablas4 = ee.batch.Export.table.toDrive(**{\n",
    "  'collection': data_txt_evi,\n",
    "  'description': 'txt_evi',\n",
    "  'fileFormat': 'CSV'\n",
    "})"
   ]
  },
  {
   "cell_type": "code",
   "execution_count": null,
   "id": "bb2d81cd",
   "metadata": {
    "ExecuteTime": {
     "end_time": "2022-02-14T12:50:21.731384Z",
     "start_time": "2022-02-14T12:50:21.730066Z"
    }
   },
   "outputs": [],
   "source": [
    "# tablas4.start()"
   ]
  },
  {
   "cell_type": "markdown",
   "id": "b47c8c2d",
   "metadata": {},
   "source": [
    "### DEM"
   ]
  },
  {
   "cell_type": "code",
   "execution_count": null,
   "id": "1e589fd2",
   "metadata": {
    "ExecuteTime": {
     "end_time": "2022-02-14T12:50:21.734388Z",
     "start_time": "2022-02-14T12:50:21.732365Z"
    }
   },
   "outputs": [],
   "source": [
    "dem = ee.Image('USGS/SRTMGL1_003').clip(patagonia_grande)"
   ]
  },
  {
   "cell_type": "code",
   "execution_count": null,
   "id": "68a1da78",
   "metadata": {
    "ExecuteTime": {
     "end_time": "2022-02-14T12:50:21.736459Z",
     "start_time": "2022-02-14T12:50:21.735065Z"
    }
   },
   "outputs": [],
   "source": [
    "elevation = dem.select('elevation')"
   ]
  },
  {
   "cell_type": "code",
   "execution_count": null,
   "id": "a40d4496",
   "metadata": {
    "ExecuteTime": {
     "end_time": "2022-02-14T12:50:21.738634Z",
     "start_time": "2022-02-14T12:50:21.737288Z"
    }
   },
   "outputs": [],
   "source": [
    "slope = ee.Terrain.slope(elevation)"
   ]
  },
  {
   "cell_type": "code",
   "execution_count": null,
   "id": "10b15563",
   "metadata": {
    "ExecuteTime": {
     "end_time": "2022-02-14T12:50:21.740913Z",
     "start_time": "2022-02-14T12:50:21.739537Z"
    }
   },
   "outputs": [],
   "source": [
    "aspect = ee.Terrain.aspect(dem)"
   ]
  },
  {
   "cell_type": "code",
   "execution_count": null,
   "id": "5250d642",
   "metadata": {
    "ExecuteTime": {
     "end_time": "2022-02-14T12:50:23.378900Z",
     "start_time": "2022-02-14T12:50:21.741819Z"
    }
   },
   "outputs": [],
   "source": [
    "Map5.addLayer(aspect, {} ,'slope' )\n",
    "Map5"
   ]
  },
  {
   "cell_type": "code",
   "execution_count": null,
   "id": "ca110a09",
   "metadata": {
    "ExecuteTime": {
     "end_time": "2022-02-14T12:50:23.381630Z",
     "start_time": "2022-02-14T12:50:23.379780Z"
    }
   },
   "outputs": [],
   "source": [
    "dem_data = elevation.addBands([slope,aspect])"
   ]
  },
  {
   "cell_type": "code",
   "execution_count": null,
   "id": "95aed35b",
   "metadata": {
    "ExecuteTime": {
     "end_time": "2022-02-14T12:50:23.874499Z",
     "start_time": "2022-02-14T12:50:23.382812Z"
    }
   },
   "outputs": [],
   "source": [
    "dem_data.bandNames().getInfo()"
   ]
  },
  {
   "cell_type": "code",
   "execution_count": null,
   "id": "d509a962",
   "metadata": {
    "ExecuteTime": {
     "end_time": "2022-02-14T12:50:23.877433Z",
     "start_time": "2022-02-14T12:50:23.875434Z"
    }
   },
   "outputs": [],
   "source": [
    "data_dem = dem_data.sampleRegions(**{\n",
    "    'collection': test1,\n",
    "    'properties': ['C_ID'],\n",
    "    'scale': 30,\n",
    "    'tileScale': 2,\n",
    "})"
   ]
  },
  {
   "cell_type": "code",
   "execution_count": null,
   "id": "2ab0aca5",
   "metadata": {
    "ExecuteTime": {
     "end_time": "2022-02-14T12:50:23.880253Z",
     "start_time": "2022-02-14T12:50:23.878399Z"
    }
   },
   "outputs": [],
   "source": [
    "tablasdem = ee.batch.Export.table.toDrive(**{\n",
    "  'collection': data_dem,\n",
    "  'description': 'txt_dem',\n",
    "  'fileFormat': 'CSV'\n",
    "})"
   ]
  },
  {
   "cell_type": "code",
   "execution_count": null,
   "id": "5f8d4c10",
   "metadata": {
    "ExecuteTime": {
     "end_time": "2022-02-14T12:50:23.882283Z",
     "start_time": "2022-02-14T12:50:23.880965Z"
    }
   },
   "outputs": [],
   "source": [
    "# tablasdem.start()"
   ]
  },
  {
   "cell_type": "markdown",
   "id": "5bf4e2ba",
   "metadata": {},
   "source": [
    "### Serie de NDVI"
   ]
  },
  {
   "cell_type": "markdown",
   "id": "71b14f16",
   "metadata": {},
   "source": [
    "#### Índices Primavera"
   ]
  },
  {
   "cell_type": "code",
   "execution_count": null,
   "id": "76a2991a",
   "metadata": {
    "ExecuteTime": {
     "end_time": "2022-02-14T12:50:23.884882Z",
     "start_time": "2022-02-14T12:50:23.882952Z"
    }
   },
   "outputs": [],
   "source": [
    "start_date = '2021-09-30'\n",
    "end_date = '2022-03-31'\n",
    "\n",
    "l8_2021 = ee.ImageCollection('LANDSAT/LC08/C01/T1_TOA') \\\n",
    "    .filterBounds(patagonia_grande) \\\n",
    "    .filterDate(start_date, end_date)  "
   ]
  },
  {
   "cell_type": "markdown",
   "id": "4d8b0521",
   "metadata": {},
   "source": [
    "#### Índices Invierno"
   ]
  },
  {
   "cell_type": "markdown",
   "id": "aa35ddce",
   "metadata": {},
   "source": [
    "##### Colección"
   ]
  },
  {
   "cell_type": "code",
   "execution_count": null,
   "id": "03a5af16",
   "metadata": {
    "ExecuteTime": {
     "end_time": "2022-02-14T12:50:23.887675Z",
     "start_time": "2022-02-14T12:50:23.885796Z"
    }
   },
   "outputs": [],
   "source": [
    "filterwinter = ee.Filter.Or(\n",
    "    ee.Filter.date('2021-06-30','2021-09-01'),\n",
    "    ee.Filter.date('2020-06-30','2020-09-01'),\n",
    "    ee.Filter.date('2019-06-30','2019-09-01'),\n",
    "    ee.Filter.date('2018-06-30','2018-09-01'),\n",
    "    ee.Filter.date('2017-06-30','2017-09-01')\n",
    ")"
   ]
  },
  {
   "cell_type": "code",
   "execution_count": null,
   "id": "f7454d39",
   "metadata": {
    "ExecuteTime": {
     "end_time": "2022-02-14T12:50:23.890130Z",
     "start_time": "2022-02-14T12:50:23.888584Z"
    }
   },
   "outputs": [],
   "source": [
    "coleccion2022_2017_invierno = ee.ImageCollection('LANDSAT/LC08/C01/T1_TOA') \\\n",
    "    .filterDate('2017-06-30', '2022-09-01') \\\n",
    "    .filter(filterwinter) \\\n",
    "    .filterBounds(patagonia_grande)"
   ]
  },
  {
   "cell_type": "code",
   "execution_count": null,
   "id": "b4a898bb",
   "metadata": {
    "ExecuteTime": {
     "end_time": "2022-02-14T12:50:23.895388Z",
     "start_time": "2022-02-14T12:50:23.890976Z"
    }
   },
   "outputs": [],
   "source": [
    "l8_winter= coleccion2022_2017_invierno.map(addNDVI).map(addNDWI).map(addNDGI).map(addSAVI).map(addNDSI).map(addNDBI).map(addEVI).map(addDate).map(addCloud)"
   ]
  },
  {
   "cell_type": "code",
   "execution_count": null,
   "id": "21f952d1",
   "metadata": {
    "ExecuteTime": {
     "end_time": "2022-02-14T12:50:23.900023Z",
     "start_time": "2022-02-14T12:50:23.896282Z"
    }
   },
   "outputs": [],
   "source": [
    "Tier1_winter_sn = l8_winter.map(Cloud10)\n",
    "Tier2_winter_sn = l8_winter.map(Cloud20)\n",
    "Tier3_winter_sn = l8_winter.map(Cloud30)\n",
    "Tier4_winter_sn = l8_winter.map(Cloud40)\n",
    "QM_NDVI_winterT1_sn = Tier1_winter_sn.qualityMosaic('NDVI')\n",
    "QM_NDVI_winterT2_sn = Tier2_winter_sn.qualityMosaic('NDVI')\n",
    "QM_NDVI_winterT3_sn = Tier3_winter_sn.qualityMosaic('NDVI')\n",
    "QM_NDVI_winterT4_sn = Tier4_winter_sn.qualityMosaic('NDVI')\n",
    "Med_NDVI_winterT1_sn = (Tier1_winter_sn.median()).select('NDVI')\n",
    "Med_NDVI_winterT2_sn = (Tier2_winter_sn.median()).select('NDVI')\n",
    "Med_NDVI_winterT3_sn = (Tier3_winter_sn.median()).select('NDVI')\n",
    "Med_NDVI_winterT4_sn = (Tier4_winter_sn.median()).select('NDVI')\n",
    "QM_NDWI_winterT1_sn = Tier1_winter_sn.qualityMosaic('NDWI')\n",
    "cloudest_winter = l8_winter.qualityMosaic('nube')"
   ]
  },
  {
   "cell_type": "code",
   "execution_count": null,
   "id": "361ddf5c",
   "metadata": {
    "ExecuteTime": {
     "end_time": "2022-02-14T12:50:23.903004Z",
     "start_time": "2022-02-14T12:50:23.900940Z"
    }
   },
   "outputs": [],
   "source": [
    "NDVI_2021_landsatw = cloudest_winter.set('SENSOR_ID', 'OLI_TIRS')\n",
    "cloud_2021w = ee.Algorithms.Landsat.simpleCloudScore(NDVI_2021_landsatw)\n",
    "cloud_2021w = cloud_2021w.select('cloud')\n",
    "palette_nubes = ['#1a9850', '#d73027']\n",
    "resultados= [cloud_2021w, cloudest_winter]\n",
    "vis_params2=  [\n",
    "    {'palette':palette_nubes}, \n",
    "    vizParams]\n",
    "labels = [\n",
    "    'Nubes 2021',\n",
    "    'QM NDVI 2021']"
   ]
  },
  {
   "cell_type": "code",
   "execution_count": null,
   "id": "3f9873ae",
   "metadata": {
    "ExecuteTime": {
     "end_time": "2022-02-14T12:50:27.106203Z",
     "start_time": "2022-02-14T12:50:23.903907Z"
    }
   },
   "outputs": [],
   "source": [
    "geemap.linked_maps(rows=1, cols=2, height=\"400px\", center=[-45, -75], zoom=4, \n",
    "                   ee_objects=resultados, vis_params=vis_params2, labels=labels, label_position=\"topright\")"
   ]
  },
  {
   "cell_type": "code",
   "execution_count": null,
   "id": "4a5662ac",
   "metadata": {
    "ExecuteTime": {
     "end_time": "2022-02-14T12:50:27.108593Z",
     "start_time": "2022-02-14T12:50:27.107024Z"
    }
   },
   "outputs": [],
   "source": [
    "def llenado(image):\n",
    "    return image.where(cloud_2021w.gt(10),QM_NDVI_winterT1_sn)"
   ]
  },
  {
   "cell_type": "code",
   "execution_count": null,
   "id": "26d3e67f",
   "metadata": {
    "ExecuteTime": {
     "end_time": "2022-02-14T12:50:27.110876Z",
     "start_time": "2022-02-14T12:50:27.109387Z"
    }
   },
   "outputs": [],
   "source": [
    "img1w = llenado(cloudest_winter)"
   ]
  },
  {
   "cell_type": "code",
   "execution_count": null,
   "id": "f1de3817",
   "metadata": {
    "ExecuteTime": {
     "end_time": "2022-02-14T12:50:27.113608Z",
     "start_time": "2022-02-14T12:50:27.111755Z"
    }
   },
   "outputs": [],
   "source": [
    "img1_landsatw = img1w.set('SENSOR_ID', 'OLI_TIRS')\n",
    "cloud_img1w = ee.Algorithms.Landsat.simpleCloudScore(img1_landsatw)\n",
    "cloud_img1w = cloud_img1w.select('cloud')\n",
    "resultados= [cloud_img1w, img1_landsatw]\n",
    "vis_params2=  [\n",
    "    {'palette':palette_nubes}, \n",
    "    vizParams]\n",
    "labels = [\n",
    "    'Nubes Mosaico 1',\n",
    "    'Mosaico 1']\n"
   ]
  },
  {
   "cell_type": "code",
   "execution_count": null,
   "id": "08b220cc",
   "metadata": {
    "ExecuteTime": {
     "end_time": "2022-02-14T12:50:30.604838Z",
     "start_time": "2022-02-14T12:50:27.114611Z"
    }
   },
   "outputs": [],
   "source": [
    "geemap.linked_maps(rows=1, cols=2, height=\"400px\", center=[-45, -75], zoom=4, \n",
    "                   ee_objects=resultados, vis_params=vis_params2, labels=labels, label_position=\"topright\")"
   ]
  },
  {
   "cell_type": "code",
   "execution_count": null,
   "id": "3b1d6328",
   "metadata": {
    "ExecuteTime": {
     "end_time": "2022-02-14T12:50:30.607180Z",
     "start_time": "2022-02-14T12:50:30.605572Z"
    }
   },
   "outputs": [],
   "source": [
    "def llenado2(image):\n",
    "    return image.where(cloud_img1w.gt(10), QM_NDVI_winterT2_sn)"
   ]
  },
  {
   "cell_type": "code",
   "execution_count": null,
   "id": "3ba29597",
   "metadata": {
    "ExecuteTime": {
     "end_time": "2022-02-14T12:50:30.609749Z",
     "start_time": "2022-02-14T12:50:30.608419Z"
    }
   },
   "outputs": [],
   "source": [
    "img2w = llenado2(img1w)"
   ]
  },
  {
   "cell_type": "code",
   "execution_count": null,
   "id": "d56fc7ca",
   "metadata": {
    "ExecuteTime": {
     "end_time": "2022-02-14T12:50:30.612524Z",
     "start_time": "2022-02-14T12:50:30.610689Z"
    }
   },
   "outputs": [],
   "source": [
    "img2_landsatw = img2w.set('SENSOR_ID', 'OLI_TIRS')\n",
    "cloud_img2w = ee.Algorithms.Landsat.simpleCloudScore(img2_landsatw)\n",
    "cloud_img2w = cloud_img2w.select('cloud')\n",
    "resultados= [cloud_img2w, img2_landsatw]\n",
    "vis_params2=  [\n",
    "    {'palette':palette_nubes}, \n",
    "    vizParams]\n",
    "labels = [\n",
    "    'Nubes Mosaico 2',\n",
    "    'Mosaico 2']"
   ]
  },
  {
   "cell_type": "code",
   "execution_count": null,
   "id": "88cb46ab",
   "metadata": {
    "ExecuteTime": {
     "end_time": "2022-02-14T12:50:35.187877Z",
     "start_time": "2022-02-14T12:50:30.613436Z"
    }
   },
   "outputs": [],
   "source": [
    "geemap.linked_maps(rows=1, cols=2, height=\"400px\", center=[-45, -75], zoom=4, \n",
    "                   ee_objects=resultados, vis_params=vis_params2, labels=labels, label_position=\"topright\")"
   ]
  },
  {
   "cell_type": "code",
   "execution_count": null,
   "id": "3356de7b",
   "metadata": {
    "ExecuteTime": {
     "end_time": "2022-02-14T12:50:35.190693Z",
     "start_time": "2022-02-14T12:50:35.188738Z"
    }
   },
   "outputs": [],
   "source": [
    "def llenado3(image):\n",
    "    return image.where(cloud_img2w.gt(10), QM_NDVI_winterT3_sn)"
   ]
  },
  {
   "cell_type": "code",
   "execution_count": null,
   "id": "0e7cd55e",
   "metadata": {
    "ExecuteTime": {
     "end_time": "2022-02-14T12:50:35.193287Z",
     "start_time": "2022-02-14T12:50:35.191625Z"
    }
   },
   "outputs": [],
   "source": [
    "img3w = llenado3(img2w)"
   ]
  },
  {
   "cell_type": "code",
   "execution_count": null,
   "id": "c4f76970",
   "metadata": {
    "ExecuteTime": {
     "end_time": "2022-02-14T12:50:35.196126Z",
     "start_time": "2022-02-14T12:50:35.194141Z"
    }
   },
   "outputs": [],
   "source": [
    "img3_landsatw = img3w.set('SENSOR_ID', 'OLI_TIRS')\n",
    "cloud_img3w = ee.Algorithms.Landsat.simpleCloudScore(img3_landsatw)\n",
    "cloud_img3w = cloud_img3w.select('cloud')\n",
    "resultados= [cloud_img3w, img3_landsatw]\n",
    "vis_params2=  [\n",
    "    {'palette':palette_nubes}, \n",
    "    vizParams]\n",
    "labels = [\n",
    "    'Nubes Mosaico 3',\n",
    "    'Mosaico 3']"
   ]
  },
  {
   "cell_type": "code",
   "execution_count": null,
   "id": "d2cb75bb",
   "metadata": {
    "ExecuteTime": {
     "end_time": "2022-02-14T12:50:38.686628Z",
     "start_time": "2022-02-14T12:50:35.196944Z"
    }
   },
   "outputs": [],
   "source": [
    "geemap.linked_maps(rows=1, cols=2, height=\"400px\", center=[-45, -75], zoom=4, \n",
    "                   ee_objects=resultados, vis_params=vis_params2, labels=labels, label_position=\"topright\")"
   ]
  },
  {
   "cell_type": "code",
   "execution_count": null,
   "id": "6f60bb99",
   "metadata": {
    "ExecuteTime": {
     "end_time": "2022-02-14T12:50:38.689094Z",
     "start_time": "2022-02-14T12:50:38.687353Z"
    }
   },
   "outputs": [],
   "source": [
    "def llenado4(image):\n",
    "    return image.where(cloud_img3w.gt(10), QM_NDVI_winterT4_sn)"
   ]
  },
  {
   "cell_type": "code",
   "execution_count": null,
   "id": "8dffa730",
   "metadata": {
    "ExecuteTime": {
     "end_time": "2022-02-14T12:50:38.691541Z",
     "start_time": "2022-02-14T12:50:38.690101Z"
    }
   },
   "outputs": [],
   "source": [
    "img4w = llenado4(img3w)"
   ]
  },
  {
   "cell_type": "code",
   "execution_count": null,
   "id": "2691a284",
   "metadata": {
    "ExecuteTime": {
     "end_time": "2022-02-14T12:50:38.694424Z",
     "start_time": "2022-02-14T12:50:38.692470Z"
    }
   },
   "outputs": [],
   "source": [
    "img4_landsatw = img4w.set('SENSOR_ID', 'OLI_TIRS')\n",
    "cloud_img4w = ee.Algorithms.Landsat.simpleCloudScore(img4_landsatw)\n",
    "cloud_img4w = cloud_img4w.select('cloud')\n",
    "resultados= [cloud_img4w, img4_landsatw]\n",
    "vis_params2=  [\n",
    "    {'palette':palette_nubes}, \n",
    "    vizParams]\n",
    "labels = [\n",
    "    'Nubes Mosaico 4',\n",
    "    'Mosaico 4']"
   ]
  },
  {
   "cell_type": "code",
   "execution_count": null,
   "id": "3f75eab5",
   "metadata": {
    "ExecuteTime": {
     "end_time": "2022-02-14T12:50:41.884504Z",
     "start_time": "2022-02-14T12:50:38.695350Z"
    }
   },
   "outputs": [],
   "source": [
    "geemap.linked_maps(rows=1, cols=2, height=\"400px\", center=[-45, -75], zoom=4, \n",
    "                   ee_objects=resultados, vis_params=vis_params2, labels=labels, label_position=\"topright\")"
   ]
  },
  {
   "cell_type": "code",
   "execution_count": null,
   "id": "aecc9229",
   "metadata": {
    "ExecuteTime": {
     "end_time": "2022-02-14T12:50:41.886954Z",
     "start_time": "2022-02-14T12:50:41.885374Z"
    }
   },
   "outputs": [],
   "source": [
    "hansenImage = ee.Image('UMD/hansen/global_forest_change_2015')\n",
    "datamask = hansenImage.select('datamask')"
   ]
  },
  {
   "cell_type": "code",
   "execution_count": null,
   "id": "6d468e38",
   "metadata": {
    "ExecuteTime": {
     "end_time": "2022-02-14T12:50:41.890045Z",
     "start_time": "2022-02-14T12:50:41.887612Z"
    }
   },
   "outputs": [],
   "source": [
    "def llenado5(image):\n",
    "    return image.where(datamask.eq(2), QM_NDWI_winterT1_sn)"
   ]
  },
  {
   "cell_type": "code",
   "execution_count": null,
   "id": "2b037646",
   "metadata": {
    "ExecuteTime": {
     "end_time": "2022-02-14T12:50:41.892291Z",
     "start_time": "2022-02-14T12:50:41.890865Z"
    }
   },
   "outputs": [],
   "source": [
    "img5w = llenado5(img4w)"
   ]
  },
  {
   "cell_type": "code",
   "execution_count": null,
   "id": "7effd1b3",
   "metadata": {
    "ExecuteTime": {
     "end_time": "2022-02-14T12:50:41.895062Z",
     "start_time": "2022-02-14T12:50:41.893152Z"
    }
   },
   "outputs": [],
   "source": [
    "img5_landsatw = img5w.set('SENSOR_ID', 'OLI_TIRS')"
   ]
  },
  {
   "cell_type": "code",
   "execution_count": null,
   "id": "a224b476",
   "metadata": {
    "ExecuteTime": {
     "end_time": "2022-02-14T12:50:41.897280Z",
     "start_time": "2022-02-14T12:50:41.895738Z"
    }
   },
   "outputs": [],
   "source": [
    "resultados= [img4w, img5w]\n",
    "labels = [\n",
    "    'Mosaico 4',\n",
    "    'Mosaico 5']\n",
    "vis_params3=  [\n",
    "     vizParams, \n",
    "    vizParams]"
   ]
  },
  {
   "cell_type": "code",
   "execution_count": null,
   "id": "fd208aef",
   "metadata": {
    "ExecuteTime": {
     "end_time": "2022-02-14T12:50:45.322344Z",
     "start_time": "2022-02-14T12:50:41.898224Z"
    }
   },
   "outputs": [],
   "source": [
    "geemap.linked_maps(rows=1, cols=2, height=\"400px\", center=[-45, -75], zoom=4, \n",
    "                   ee_objects=resultados, vis_params=vis_params3, labels=labels, label_position=\"topright\")"
   ]
  },
  {
   "cell_type": "code",
   "execution_count": null,
   "id": "d3604139",
   "metadata": {
    "ExecuteTime": {
     "end_time": "2022-02-14T12:50:45.324923Z",
     "start_time": "2022-02-14T12:50:45.323146Z"
    }
   },
   "outputs": [],
   "source": [
    "img5_winter_NDVI = img5w.select('NDVI').rename('NDVI_winter')\n",
    "img5_winter_EVI = img5w.select('EVI').rename('EVI_winter')"
   ]
  },
  {
   "cell_type": "markdown",
   "id": "1a2e8c62",
   "metadata": {},
   "source": [
    "#### Índices Otoño"
   ]
  },
  {
   "cell_type": "markdown",
   "id": "ffa9f047",
   "metadata": {},
   "source": [
    "## Clasificación de Bandas"
   ]
  },
  {
   "cell_type": "code",
   "execution_count": null,
   "id": "828ab2bb",
   "metadata": {
    "ExecuteTime": {
     "end_time": "2022-02-14T12:50:45.327285Z",
     "start_time": "2022-02-14T12:50:45.325629Z"
    }
   },
   "outputs": [],
   "source": [
    "img_bandas_totales = img_final.addBands([dem_data,img5_winter_EVI])\n",
    "img_bandas_totales_M = img_final_m.addBands([dem_data,img5_winter_EVI])"
   ]
  },
  {
   "cell_type": "code",
   "execution_count": null,
   "id": "035c5970",
   "metadata": {
    "ExecuteTime": {
     "end_time": "2022-02-14T12:50:47.601013Z",
     "start_time": "2022-02-14T12:50:45.328164Z"
    }
   },
   "outputs": [],
   "source": [
    "img_bandas_totales.bandNames().getInfo()"
   ]
  },
  {
   "cell_type": "markdown",
   "id": "1ecd65dd",
   "metadata": {},
   "source": [
    "### Bandas Andrés"
   ]
  },
  {
   "cell_type": "code",
   "execution_count": null,
   "id": "9cadec75",
   "metadata": {
    "ExecuteTime": {
     "end_time": "2022-02-14T12:50:47.603820Z",
     "start_time": "2022-02-14T12:50:47.602259Z"
    }
   },
   "outputs": [],
   "source": [
    "bands = ['B4',\n",
    " 'B5',\n",
    " 'NDWI',\n",
    " 'NDBI',\n",
    " 'EVI',\n",
    " 'EVI_winter',\n",
    " 'elevation',\n",
    " 'slope'\n",
    "]"
   ]
  },
  {
   "cell_type": "code",
   "execution_count": null,
   "id": "1e63447d",
   "metadata": {
    "ExecuteTime": {
     "end_time": "2022-02-14T12:50:47.606545Z",
     "start_time": "2022-02-14T12:50:47.604864Z"
    }
   },
   "outputs": [],
   "source": [
    "img_bandas_totales_8b =img_bandas_totales.select(bands)\n",
    "img_bandas_totales_8bM = img_bandas_totales_M.select(bands)"
   ]
  },
  {
   "cell_type": "code",
   "execution_count": null,
   "id": "6e87ca3c",
   "metadata": {
    "ExecuteTime": {
     "end_time": "2022-02-14T12:50:50.187778Z",
     "start_time": "2022-02-14T12:50:47.607487Z"
    }
   },
   "outputs": [],
   "source": [
    "img_bandas_totales_8b.bandNames().getInfo()"
   ]
  },
  {
   "cell_type": "code",
   "execution_count": null,
   "id": "21b9d819",
   "metadata": {
    "ExecuteTime": {
     "end_time": "2022-02-14T12:50:50.190498Z",
     "start_time": "2022-02-14T12:50:50.188649Z"
    }
   },
   "outputs": [],
   "source": [
    "data_QM_8b = img_bandas_totales_8b.sampleRegions(**{\n",
    "    'collection': test1,\n",
    "    'properties': ['C_ID'],\n",
    "    'scale': 30,\n",
    "    'tileScale': 2,\n",
    "})"
   ]
  },
  {
   "cell_type": "code",
   "execution_count": null,
   "id": "a2678afe",
   "metadata": {
    "ExecuteTime": {
     "end_time": "2022-02-14T12:50:50.193221Z",
     "start_time": "2022-02-14T12:50:50.191161Z"
    }
   },
   "outputs": [],
   "source": [
    "data_MED_8b = img_bandas_totales_8bM.sampleRegions(**{\n",
    "    'collection': test1,\n",
    "    'properties': ['C_ID'],\n",
    "    'scale': 30,\n",
    "    'tileScale': 2,\n",
    "})"
   ]
  },
  {
   "cell_type": "code",
   "execution_count": null,
   "id": "4c44ecae",
   "metadata": {
    "ExecuteTime": {
     "end_time": "2022-02-14T12:50:50.195874Z",
     "start_time": "2022-02-14T12:50:50.194203Z"
    }
   },
   "outputs": [],
   "source": [
    "classifier_QM_8b = ee.Classifier.smileRandomForest(100).train(data_QM_8b,label_train,bands)\n",
    "classifier_MED_8b = ee.Classifier.smileRandomForest(100).train(data_MED_8b,label_train,bands)"
   ]
  },
  {
   "cell_type": "code",
   "execution_count": null,
   "id": "75cead68",
   "metadata": {
    "ExecuteTime": {
     "end_time": "2022-02-14T12:50:50.198339Z",
     "start_time": "2022-02-14T12:50:50.196729Z"
    }
   },
   "outputs": [],
   "source": [
    "result_QM_8b = img_bandas_totales_8b.select(bands).classify(classifier_QM_8b)\n",
    "result_MED_8b = img_bandas_totales_8bM.select(bands).classify(classifier_MED_8b)"
   ]
  },
  {
   "cell_type": "code",
   "execution_count": null,
   "id": "23e40830",
   "metadata": {
    "ExecuteTime": {
     "end_time": "2022-02-14T12:50:50.201171Z",
     "start_time": "2022-02-14T12:50:50.199336Z"
    }
   },
   "outputs": [],
   "source": [
    "landcover_QM_8b = result_QM_8b.set('classification_class_values', class_values2)\n",
    "landcover_QM_8b = landcover_QM_8b.set('classification_class_palette',class_palette2)"
   ]
  },
  {
   "cell_type": "code",
   "execution_count": null,
   "id": "52d0d610",
   "metadata": {
    "ExecuteTime": {
     "end_time": "2022-02-14T12:50:50.203886Z",
     "start_time": "2022-02-14T12:50:50.202128Z"
    }
   },
   "outputs": [],
   "source": [
    "landcover_MED_8b = result_MED_8b.set('classification_class_values', class_values2)\n",
    "landcover_MED_8b = landcover_MED_8b.set('classification_class_palette',class_palette2)"
   ]
  },
  {
   "cell_type": "code",
   "execution_count": null,
   "id": "42631e51",
   "metadata": {
    "ExecuteTime": {
     "end_time": "2022-02-14T12:54:28.715338Z",
     "start_time": "2022-02-14T12:50:50.204582Z"
    }
   },
   "outputs": [],
   "source": [
    "Map8.addLayer(landcover_QM_8b,{}, 'Land cover RF-QM 8 bandas' )\n",
    "Map8.addLayer(landcover_MED_8b,{}, 'Land cover RF-Mediana 8 bandas')"
   ]
  },
  {
   "cell_type": "code",
   "execution_count": null,
   "id": "99dde860",
   "metadata": {
    "ExecuteTime": {
     "end_time": "2022-02-14T12:54:28.730858Z",
     "start_time": "2022-02-14T12:54:28.716431Z"
    }
   },
   "outputs": [],
   "source": [
    "legend_dict = {\n",
    "    '01 Hielo': 'd1fbff',\n",
    "    '02 lengua glaciar': 'bfdadd',\n",
    "    '03 glaciar cubierto': 'b9bfbf',\n",
    "    '04 nieve': 'fe40fe',\n",
    "    '05 fiordo glaciar': '8ac1ff',\n",
    "    '06 mar': '0c407b',\n",
    "    '07 lago continental': '2e8da0',\n",
    "    '08 lago glaciar': '16b2d1',\n",
    "    '09 río': '27e1d8',\n",
    "    '10 suelo desnudo': 'eeb514',\n",
    "    '11 cárcavas erosión': '927012',\n",
    "    '12 suelo río': 'e98c0f',\n",
    "    '13 suelo duna/arenal': 'f7e8bd',\n",
    "    '14 caminos': '5b5b5b',\n",
    "    '15 suelo denudo': 'e57104',\n",
    "    '16 tuberas / musgos': '5d1412',\n",
    "    '17 mallín': '5d1412',\n",
    "    '19 áreas inundables':'161163', \n",
    "    '20 plantación adulto': 'fff300',\n",
    "    '23 ciudad urbano': 'ff0000',\n",
    "    '28 frutales':'d4e794',\n",
    "    '30 praderas pastoreo':'dee842', \n",
    "    '31 estepa abierta': 'ced118',\n",
    "    '32 estepa cerrada': '7a7c0f',\n",
    "    '33 palizales': 'c39700',\n",
    "    '34 preaderas': 'a1ff8a',\n",
    "    '35 matorrales densos': '138665',\n",
    "    '36 matorrales abiertos': '1bbd8e',\n",
    "    '39 primario adulto': '195a09',\n",
    "    '40 secundario adulto': '27c41d',\n",
    "    '43 renoval inicial': 'b2ff00',\n",
    "    '45 degradado': 'f36605',\n",
    "    '47 Primario adulto caduco':'7729db',\n",
    "    '48 Secundario adulto caduco': '9e60ec',\n",
    "    '56 sombra': '000000',\n",
    "    '57 Mixto Primario': '7000ff', \n",
    "    '58 Mixto secundario':'c598ff',\n",
    "    '60 Coníferas nativas': '00ff87',\n",
    "}\n",
    "Map8.add_legend(legend_title=\"Random Forest Test\", legend_dict=legend_dict)\n",
    "Map8"
   ]
  },
  {
   "cell_type": "code",
   "execution_count": null,
   "id": "35a6b800",
   "metadata": {
    "ExecuteTime": {
     "end_time": "2022-02-14T12:54:28.733380Z",
     "start_time": "2022-02-14T12:54:28.731631Z"
    }
   },
   "outputs": [],
   "source": [
    "comp2= [landcover_QM_8b,landcover_MED_8b]\n",
    "labels = [\n",
    "    'Landcover QM',\n",
    "    'Landcover Med']\n",
    "vis_params4=  [\n",
    "     {}, \n",
    "     {}]"
   ]
  },
  {
   "cell_type": "code",
   "execution_count": null,
   "id": "ebe16ca9",
   "metadata": {
    "ExecuteTime": {
     "end_time": "2022-02-14T12:54:51.032771Z",
     "start_time": "2022-02-14T12:54:28.734447Z"
    }
   },
   "outputs": [],
   "source": [
    "geemap.linked_maps(rows=1, cols=2, height=\"900px\", center=[-45, -75], zoom=4, \n",
    "                   ee_objects=comp2, vis_params=vis_params4, labels=labels, label_position=\"topright\")"
   ]
  },
  {
   "cell_type": "code",
   "execution_count": null,
   "id": "c7b25c13",
   "metadata": {
    "ExecuteTime": {
     "end_time": "2022-02-14T12:55:05.140860Z",
     "start_time": "2022-02-14T12:54:51.033484Z"
    }
   },
   "outputs": [],
   "source": [
    "explained_QM_8b = ee.Classifier.explain(classifier_QM_8b)\n",
    "explained_QM_8b.getInfo()"
   ]
  },
  {
   "cell_type": "code",
   "execution_count": null,
   "id": "89fd8dab",
   "metadata": {
    "ExecuteTime": {
     "end_time": "2022-02-14T12:55:18.880277Z",
     "start_time": "2022-02-14T12:55:05.141820Z"
    }
   },
   "outputs": [],
   "source": [
    "explained_MED_8b = ee.Classifier.explain(classifier_MED_8b)\n",
    "explained_MED_8b.getInfo()"
   ]
  },
  {
   "cell_type": "markdown",
   "id": "bc26a220",
   "metadata": {},
   "source": [
    "### Bandas Paper"
   ]
  },
  {
   "cell_type": "code",
   "execution_count": null,
   "id": "9f1dd06c",
   "metadata": {
    "ExecuteTime": {
     "end_time": "2022-02-14T12:55:18.883323Z",
     "start_time": "2022-02-14T12:55:18.881198Z"
    }
   },
   "outputs": [],
   "source": [
    "img_bandas_totales = img_final.addBands([dem_data,img5_winter_EVI,img5_winter_NDVI,texturas_NDVI,texturas_EVI])\n",
    "img_bandas_totales_M = img_final_m.addBands([dem_data,img5_winter_EVI,img5_winter_NDVI,texturas_NDVI,texturas_EVI])"
   ]
  },
  {
   "cell_type": "code",
   "execution_count": null,
   "id": "7dfa0dea",
   "metadata": {
    "ExecuteTime": {
     "end_time": "2022-02-14T12:55:20.908038Z",
     "start_time": "2022-02-14T12:55:18.883978Z"
    }
   },
   "outputs": [],
   "source": [
    "img_bandas_totales.bandNames().getInfo()"
   ]
  },
  {
   "cell_type": "code",
   "execution_count": null,
   "id": "3ac1b294",
   "metadata": {
    "ExecuteTime": {
     "end_time": "2022-02-14T12:55:20.911311Z",
     "start_time": "2022-02-14T12:55:20.908884Z"
    }
   },
   "outputs": [],
   "source": [
    "bandsT = ['B1',\n",
    " 'B2',\n",
    " 'B3',\n",
    " 'B4',\n",
    " 'B5',\n",
    " 'B6',\n",
    " 'B7',\n",
    " 'NDVI',\n",
    " 'NDWI',\n",
    " 'NDGI',\n",
    " 'SAVI',\n",
    " 'NDSI',\n",
    " 'EVI',\n",
    " 'brightness',\n",
    " 'greenness',\n",
    " 'wetness',\n",
    " 'fourth',\n",
    " 'fifth',\n",
    " 'sixth',\n",
    " 'elevation',\n",
    " 'slope',\n",
    " 'aspect',\n",
    " 'NDVI_winter',\n",
    " 'EVI_winter',\n",
    " 'NDVI_savg',\n",
    " 'NDVI_var',\n",
    " 'NDVI_contrast',\n",
    " 'NDVI_diss',\n",
    " 'NDVI_ent',\n",
    " 'NDVI_asm',\n",
    " 'NDVI_corr',\n",
    " 'EVI_savg',\n",
    " 'EVI_var',\n",
    " 'EVI_contrast',\n",
    " 'EVI_diss',\n",
    " 'EVI_ent',\n",
    " 'EVI_asm',\n",
    " 'EVI_corr'        \n",
    "]"
   ]
  },
  {
   "cell_type": "code",
   "execution_count": null,
   "id": "e2b60e0d",
   "metadata": {
    "ExecuteTime": {
     "end_time": "2022-02-14T12:55:20.914375Z",
     "start_time": "2022-02-14T12:55:20.912423Z"
    }
   },
   "outputs": [],
   "source": [
    "data_QM_T = img_bandas_totales.sampleRegions(**{\n",
    "    'collection': test1,\n",
    "    'properties': ['C_ID'],\n",
    "    'scale': 30,\n",
    "    'tileScale': 2,\n",
    "})"
   ]
  },
  {
   "cell_type": "code",
   "execution_count": null,
   "id": "13d99f1f",
   "metadata": {
    "ExecuteTime": {
     "end_time": "2022-02-14T12:55:20.917022Z",
     "start_time": "2022-02-14T12:55:20.915110Z"
    }
   },
   "outputs": [],
   "source": [
    "data_Med_T = img_bandas_totales_M.sampleRegions(**{\n",
    "    'collection': test1,\n",
    "    'properties': ['C_ID'],\n",
    "    'scale': 30,\n",
    "    'tileScale': 2,\n",
    "})"
   ]
  },
  {
   "cell_type": "code",
   "execution_count": null,
   "id": "ea540303",
   "metadata": {
    "ExecuteTime": {
     "end_time": "2022-02-14T12:55:20.919646Z",
     "start_time": "2022-02-14T12:55:20.917904Z"
    }
   },
   "outputs": [],
   "source": [
    "classifier_QM_T = ee.Classifier.smileRandomForest(100).train(data_QM_T,label_train,bandsT)\n",
    "classifier_MED_T = ee.Classifier.smileRandomForest(100).train(data_Med_T,label_train,bandsT)"
   ]
  },
  {
   "cell_type": "code",
   "execution_count": null,
   "id": "003ad950",
   "metadata": {
    "ExecuteTime": {
     "end_time": "2022-02-14T12:55:20.922237Z",
     "start_time": "2022-02-14T12:55:20.920557Z"
    }
   },
   "outputs": [],
   "source": [
    "result_QM_T = img_bandas_totales.select(bandsT).classify(classifier_QM_T)\n",
    "result_MED_T = img_bandas_totales_M.select(bandsT).classify(classifier_MED_T)"
   ]
  },
  {
   "cell_type": "code",
   "execution_count": null,
   "id": "169df8a9",
   "metadata": {
    "ExecuteTime": {
     "end_time": "2022-02-14T12:55:20.924885Z",
     "start_time": "2022-02-14T12:55:20.923093Z"
    }
   },
   "outputs": [],
   "source": [
    "landcover_QM_T = result_QM_T.set('classification_class_values', class_values2)\n",
    "landcover_QM_T = landcover_QM_T.set('classification_class_palette',class_palette2)"
   ]
  },
  {
   "cell_type": "code",
   "execution_count": null,
   "id": "32f13b18",
   "metadata": {
    "ExecuteTime": {
     "end_time": "2022-02-14T12:55:20.927129Z",
     "start_time": "2022-02-14T12:55:20.925569Z"
    }
   },
   "outputs": [],
   "source": [
    "landcover_Med_T = result_MED_T.set('classification_class_values', class_values2)\n",
    "landcover_Med_T = landcover_Med_T.set('classification_class_palette',class_palette2)"
   ]
  },
  {
   "cell_type": "code",
   "execution_count": null,
   "id": "b0bfa564",
   "metadata": {
    "ExecuteTime": {
     "end_time": "2022-02-14T13:01:01.651673Z",
     "start_time": "2022-02-14T12:55:20.928094Z"
    }
   },
   "outputs": [],
   "source": [
    "Map7.addLayer(landcover_QM_T,{}, 'Land cover RF-QM paper' )\n",
    "Map7.addLayer(landcover_Med_T,{}, 'Land cover RF-Mediana paper')"
   ]
  },
  {
   "cell_type": "code",
   "execution_count": null,
   "id": "dca6e469",
   "metadata": {
    "ExecuteTime": {
     "end_time": "2022-02-14T13:01:01.665853Z",
     "start_time": "2022-02-14T13:01:01.652724Z"
    }
   },
   "outputs": [],
   "source": [
    "legend_dict = {\n",
    "    '01 Hielo': 'd1fbff',\n",
    "    '02 lengua glaciar': 'bfdadd',\n",
    "    '03 glaciar cubierto': 'b9bfbf',\n",
    "    '04 nieve': 'fe40fe',\n",
    "    '05 fiordo glaciar': '8ac1ff',\n",
    "    '06 mar': '0c407b',\n",
    "    '07 lago continental': '2e8da0',\n",
    "    '08 lago glaciar': '16b2d1',\n",
    "    '09 río': '27e1d8',\n",
    "    '10 suelo desnudo': 'eeb514',\n",
    "    '11 cárcavas erosión': '927012',\n",
    "    '12 suelo río': 'e98c0f',\n",
    "    '13 suelo duna/arenal': 'f7e8bd',\n",
    "    '14 caminos': '5b5b5b',\n",
    "    '15 suelo denudo': 'e57104',\n",
    "    '16 tuberas / musgos': '5d1412',\n",
    "    '17 mallín': '5d1412',\n",
    "    '19 áreas inundables':'161163', \n",
    "    '20 plantación adulto': 'fff300',\n",
    "    '23 ciudad urbano': 'ff0000',\n",
    "    '28 frutales':'d4e794',\n",
    "    '30 praderas pastoreo':'dee842', \n",
    "    '31 estepa abierta': 'ced118',\n",
    "    '32 estepa cerrada': '7a7c0f',\n",
    "    '33 palizales': 'c39700',\n",
    "    '34 preaderas': 'a1ff8a',\n",
    "    '35 matorrales densos': '138665',\n",
    "    '36 matorrales abiertos': '1bbd8e',\n",
    "    '39 primario adulto': '195a09',\n",
    "    '40 secundario adulto': '27c41d',\n",
    "    '43 renoval inicial': 'b2ff00',\n",
    "    '45 degradado': 'f36605',\n",
    "    '47 Primario adulto caduco':'7729db',\n",
    "    '48 Secundario adulto caduco': '9e60ec',\n",
    "    '56 sombra': '000000',\n",
    "    '57 Mixto Primario': '7000ff', \n",
    "    '58 Mixto secundario':'c598ff',\n",
    "    '60 Coníferas nativas': '00ff87',\n",
    "}\n",
    "Map7.add_legend(legend_title=\"Random Forest Test\", legend_dict=legend_dict)\n",
    "Map7"
   ]
  },
  {
   "cell_type": "code",
   "execution_count": null,
   "id": "3a53302f",
   "metadata": {
    "ExecuteTime": {
     "end_time": "2022-02-14T13:01:01.668566Z",
     "start_time": "2022-02-14T13:01:01.666733Z"
    }
   },
   "outputs": [],
   "source": [
    "compT= [landcover_QM_T,landcover_Med_T]\n",
    "labels = [\n",
    "    'Landcover QM',\n",
    "    'Landcover Med']\n",
    "vis_params4=  [\n",
    "     {}, \n",
    "     {}]"
   ]
  },
  {
   "cell_type": "code",
   "execution_count": null,
   "id": "518378b0",
   "metadata": {
    "ExecuteTime": {
     "end_time": "2022-02-14T13:01:22.398358Z",
     "start_time": "2022-02-14T13:01:01.669662Z"
    }
   },
   "outputs": [],
   "source": [
    "geemap.linked_maps(rows=1, cols=2, height=\"900px\", center=[-45, -75], zoom=4, \n",
    "                   ee_objects=compT, vis_params=vis_params4, labels=labels, label_position=\"topright\")"
   ]
  },
  {
   "cell_type": "code",
   "execution_count": null,
   "id": "164975d4",
   "metadata": {
    "ExecuteTime": {
     "end_time": "2022-02-14T13:01:37.435171Z",
     "start_time": "2022-02-14T13:01:22.399153Z"
    }
   },
   "outputs": [],
   "source": [
    "explained_QM_T = ee.Classifier.explain(classifier_QM_T)\n",
    "explained_QM_T.getInfo()"
   ]
  },
  {
   "cell_type": "code",
   "execution_count": null,
   "id": "ead3076c",
   "metadata": {
    "ExecuteTime": {
     "end_time": "2022-02-14T13:01:51.835634Z",
     "start_time": "2022-02-14T13:01:37.436132Z"
    }
   },
   "outputs": [],
   "source": [
    "explained_Med_T = ee.Classifier.explain(classifier_MED_T)\n",
    "explained_Med_T.getInfo()"
   ]
  },
  {
   "cell_type": "markdown",
   "id": "50ccc3fd",
   "metadata": {},
   "source": [
    "## Comparación"
   ]
  },
  {
   "cell_type": "code",
   "execution_count": null,
   "id": "2e3d6d69",
   "metadata": {
    "ExecuteTime": {
     "end_time": "2022-02-14T13:01:51.839141Z",
     "start_time": "2022-02-14T13:01:51.836627Z"
    }
   },
   "outputs": [],
   "source": [
    "mapas = [landcover_QM_8b,landcover_MED_8b,landcover_QM_T,landcover_Med_T]\n",
    "labels = [\n",
    "    'Landcover QM 8B',\n",
    "    'Landcover Med 8B',\n",
    "    'Landcover QM T',\n",
    "    'Landcover Med T']\n",
    "vis_params4=  [\n",
    "    {}, \n",
    "    {},\n",
    "    {}, \n",
    "    {}\n",
    "]\n",
    "## comparación de mapas"
   ]
  },
  {
   "cell_type": "code",
   "execution_count": null,
   "id": "099eaa39",
   "metadata": {
    "ExecuteTime": {
     "end_time": "2022-02-14T13:02:33.401603Z",
     "start_time": "2022-02-14T13:01:51.840153Z"
    }
   },
   "outputs": [],
   "source": [
    "geemap.linked_maps(rows=2, cols=2, height=\"600px\", center=[-45, -75], zoom=4, \n",
    "                   ee_objects=mapas, vis_params=vis_params4, labels=labels, label_position=\"topright\")"
   ]
  },
  {
   "cell_type": "code",
   "execution_count": null,
   "id": "29caffa1",
   "metadata": {},
   "outputs": [],
   "source": []
  },
  {
   "cell_type": "code",
   "execution_count": null,
   "id": "c8b1401e",
   "metadata": {},
   "outputs": [],
   "source": []
  }
 ],
 "metadata": {
  "kernelspec": {
   "display_name": "Python 3 (ipykernel)",
   "language": "python",
   "name": "python3"
  },
  "language_info": {
   "codemirror_mode": {
    "name": "ipython",
    "version": 3
   },
   "file_extension": ".py",
   "mimetype": "text/x-python",
   "name": "python",
   "nbconvert_exporter": "python",
   "pygments_lexer": "ipython3",
   "version": "3.8.12"
  },
  "toc": {
   "base_numbering": 1,
   "nav_menu": {},
   "number_sections": true,
   "sideBar": true,
   "skip_h1_title": false,
   "title_cell": "Table of Contents",
   "title_sidebar": "Contents",
   "toc_cell": false,
   "toc_position": {
    "height": "calc(100% - 180px)",
    "left": "10px",
    "top": "150px",
    "width": "384px"
   },
   "toc_section_display": true,
   "toc_window_display": true
  },
  "varInspector": {
   "cols": {
    "lenName": 16,
    "lenType": 16,
    "lenVar": 40
   },
   "kernels_config": {
    "python": {
     "delete_cmd_postfix": "",
     "delete_cmd_prefix": "del ",
     "library": "var_list.py",
     "varRefreshCmd": "print(var_dic_list())"
    },
    "r": {
     "delete_cmd_postfix": ") ",
     "delete_cmd_prefix": "rm(",
     "library": "var_list.r",
     "varRefreshCmd": "cat(var_dic_list()) "
    }
   },
   "types_to_exclude": [
    "module",
    "function",
    "builtin_function_or_method",
    "instance",
    "_Feature"
   ],
   "window_display": false
  }
 },
 "nbformat": 4,
 "nbformat_minor": 5
}
