{
 "cells": [
  {
   "cell_type": "markdown",
   "id": "c8ee7fef",
   "metadata": {},
   "source": [
    "# Mosaico 2021"
   ]
  },
  {
   "cell_type": "markdown",
   "id": "203f76ca",
   "metadata": {},
   "source": [
    "Script trabajado por Francisco Albornoz (2022-02-01) / Última modificación / Mosaicos Patagonia"
   ]
  },
  {
   "cell_type": "markdown",
   "id": "2fb5cdeb",
   "metadata": {},
   "source": [
    "2022-02-01 13:20:38 "
   ]
  },
  {
   "cell_type": "code",
   "execution_count": 1,
   "id": "3057c761",
   "metadata": {
    "ExecuteTime": {
     "end_time": "2022-02-15T16:22:32.353997Z",
     "start_time": "2022-02-15T16:22:31.287728Z"
    }
   },
   "outputs": [],
   "source": [
    "import ee \n",
    "import geemap\n",
    "import geemap.chart as chart\n",
    "import os\n",
    "import folium\n",
    "import xarray_leaflet\n",
    "import rasterio \n",
    "from rasterio import plot\n",
    "import matplotlib.pyplot as plt\n",
    "import numpy as np\n",
    "%matplotlib inline"
   ]
  },
  {
   "cell_type": "markdown",
   "id": "1997eeb4",
   "metadata": {},
   "source": [
    "<img src=https://www.ecopaysen.cl/wp-content/uploads/2019/12/ecopaysen_marca_web.png>"
   ]
  },
  {
   "cell_type": "code",
   "execution_count": 2,
   "id": "fca49a56",
   "metadata": {
    "ExecuteTime": {
     "end_time": "2022-02-15T16:22:43.975049Z",
     "start_time": "2022-02-15T16:22:32.355438Z"
    }
   },
   "outputs": [],
   "source": [
    "Map = geemap.Map(center = [-45, -70], zoom = 4)\n",
    "Map1 = geemap.Map(center = [-45, -70], zoom = 4)\n",
    "Map2 = geemap.Map(center = [-45, -70], zoom = 4)\n",
    "Map3 = geemap.Map(center = [-45, -70], zoom = 4)\n",
    "Map4 = geemap.Map(center = [-45, -70], zoom = 4)\n",
    "Map5 = geemap.Map(center = [-45, -70], zoom = 4)\n",
    "Map6 = geemap.Map(center = [-45, -70], zoom = 4)\n",
    "Map7 = geemap.Map(center = [-45, -70], zoom = 4)\n",
    "Map8 = geemap.Map(center = [-45, -70], zoom = 4)\n",
    "Map9 = geemap.Map(center = [-45, -70], zoom = 4)\n",
    "Map10 = geemap.Map(center = [-45, -70], zoom = 4)\n",
    "Map11 = geemap.Map(center = [-45, -70], zoom = 4)\n",
    "Map12 = geemap.Map(center = [-45, -70], zoom = 4)\n",
    "Map13 = geemap.Map(center = [-45, -70], zoom = 4)\n",
    "Map14 = geemap.Map(center = [-45, -70], zoom = 4)\n",
    "Map15 = geemap.Map(center = [-45, -70], zoom = 4)\n",
    "Map16 = geemap.Map(center = [-45, -70], zoom = 4)"
   ]
  },
  {
   "cell_type": "markdown",
   "id": "f26fe1a2",
   "metadata": {},
   "source": [
    "## Área de Estudio"
   ]
  },
  {
   "cell_type": "code",
   "execution_count": 3,
   "id": "2aae613d",
   "metadata": {
    "ExecuteTime": {
     "end_time": "2022-02-15T16:22:45.012405Z",
     "start_time": "2022-02-15T16:22:43.975813Z"
    }
   },
   "outputs": [],
   "source": [
    "work_dir = os.path.expanduser('../Data/')\n",
    "patagonia = os.path.join(work_dir, 'patagonia_geo.shp')\n",
    "patagonia_grande = geemap.shp_to_ee(patagonia)\n",
    "tierra_fuego =os.path.join(work_dir, 'tierra_fuego.shp')\n",
    "tierra_fuego = geemap.shp_to_ee(tierra_fuego)"
   ]
  },
  {
   "cell_type": "code",
   "execution_count": 4,
   "id": "4dbbceda",
   "metadata": {
    "ExecuteTime": {
     "end_time": "2022-02-15T16:22:45.022567Z",
     "start_time": "2022-02-15T16:22:45.014350Z"
    }
   },
   "outputs": [],
   "source": [
    "geometry_exp = ee.Geometry.Polygon(\n",
    "        [[[-72.56281773604495, -33.81999514196144],\n",
    "          [-72.96381871260745, -35.294382843203024],\n",
    "          [-73.27692906416995, -35.25850698608905],\n",
    "          [-74.15583531416995, -38.13757615203617],\n",
    "          [-73.96357457198245, -38.16349478321529],\n",
    "          [-74.41603250978783, -39.59214901926122],\n",
    "          [-73.71840067385033, -39.70212049569608],\n",
    "          [-74.48057965994737, -41.961233926702086],\n",
    "          [-76.23199334221133, -46.599308425949715],\n",
    "          [-75.71838250236758, -46.6705186900265],\n",
    "          [-76.31583416780423, -48.08335993023956],\n",
    "          [-75.6739504332226, -48.17601084778724],\n",
    "          [-76.1812028986966, -49.3089458997328],\n",
    "          [-75.8516130549466, -49.35190435466257],\n",
    "          [-75.88182545729035, -49.42252520588146],\n",
    "          [-75.62776661939972, -49.4593908439046],\n",
    "          [-75.87838309772656, -50.0286830263256],\n",
    "          [-75.4746355391328, -50.08951678614621],\n",
    "          [-75.54325576346766, -50.23909657453096],\n",
    "          [-75.77780697097086, -50.76007049594944],\n",
    "          [-75.16119930495523, -50.84458853545005],\n",
    "          [-75.38504574050211, -51.344039508567974],\n",
    "          [-75.5541538866841, -51.71140521484993],\n",
    "          [-75.18336531246536, -51.75648162278235],\n",
    "          [-75.47788882049618, -52.3659753295982],\n",
    "          [-74.75894718310815, -52.46884703800526],\n",
    "          [-75.08565455837835, -53.06208069103826],\n",
    "          [-74.55801479059262, -53.126414996444055],\n",
    "          [-74.81690883977036, -53.6371915734125],\n",
    "          [-73.44408000172288, -53.83741753537409],\n",
    "          [-73.50862467945726, -53.95798563315933],\n",
    "          [-73.45231974781663, -53.967680681913386],\n",
    "          [-73.53197062672288, -54.11766576333605],\n",
    "          [-73.77219189508037, -54.57485104154676],\n",
    "          [-72.34049166499341, -54.77775087176573],\n",
    "          [-72.47759402717024, -55.03231503944354],\n",
    "          [-71.05285526571967, -55.24340674895388],\n",
    "          [-71.08306766806342, -55.29113504937561],\n",
    "          [-69.81960741798575, -55.47109132991434],\n",
    "          [-69.85119311134513, -55.51932330880519],\n",
    "          [-69.68227831642325, -55.544194128455445],\n",
    "          [-69.79214159767325, -55.75341614311607],\n",
    "          [-66.85410518726452, -56.21137383375629],\n",
    "          [-66.30968752348785, -55.25322454720416],\n",
    "          [-65.44176760161285, -55.378260612328376],\n",
    "          [-65.29222191220039, -55.084940556988364],\n",
    "          [-63.8145607793879, -55.29503930747886],\n",
    "          [-63.4410256231379, -54.559610949790994],\n",
    "          [-66.01731956845039, -54.18844646199444],\n",
    "          [-65.92942894345039, -53.97576673331468],\n",
    "          [-67.35765159970039, -53.77173637481835],\n",
    "          [-66.83490788218774, -52.56216102836118],\n",
    "          [-68.29059635875024, -52.351280557744616],\n",
    "          [-67.13664467133525, -49.5665018755825],\n",
    "          [-65.6891959408665, -49.77447361491692],\n",
    "          [-64.6040407061826, -46.886773053508534],\n",
    "          [-66.07346209290135, -46.670468623465915],\n",
    "          [-65.60651222417681, -45.29237148760689],\n",
    "          [-64.13159767339556, -45.51413819831776],\n",
    "          [-63.11762183127383, -42.44210625114028],\n",
    "          [-61.64820044455508, -42.65254570178212],\n",
    "          [-60.691700635610566, -39.58656313087865],\n",
    "          [-60.612049756704316, -39.597145764356114],\n",
    "          [-60.214053037778356, -38.26345264755797],\n",
    "          [-62.338430585556544, -37.86345563921212],\n",
    "          [-62.431814374619044, -38.13616213643378],\n",
    "          [-63.880475463562526, -37.8656239671591],\n",
    "          [-63.965619506531276, -38.12752037872568],\n",
    "          [-65.43863114657343, -37.86678770192114],\n",
    "          [-65.52652177157343, -38.12867996539086],\n",
    "          [-66.31753739657343, -37.98811028708228],\n",
    "          [-65.98609312949165, -36.82548737245019],\n",
    "          [-68.06866521074468, -36.43149799324939],\n",
    "          [-68.16204899980718, -36.70723234878123],\n",
    "          [-69.00250310136968, -36.55294237984414],\n",
    "          [-68.66838285254276, -35.38834808765389],\n",
    "          [-70.73190167990279, -35.008946233837705],\n",
    "          [-70.82528546896529, -35.29190694633577],\n",
    "          [-71.68771222677779, -35.11685679848462],\n",
    "          [-71.37460187521529, -33.95679291780399],\n",
    "          [-72.53365949240279, -33.733238932504804]]])"
   ]
  },
  {
   "cell_type": "markdown",
   "id": "fa8e2fea",
   "metadata": {},
   "source": [
    "## Colors Bars"
   ]
  },
  {
   "cell_type": "code",
   "execution_count": 5,
   "id": "1efebd11",
   "metadata": {
    "ExecuteTime": {
     "end_time": "2022-02-15T16:22:45.932380Z",
     "start_time": "2022-02-15T16:22:45.023454Z"
    }
   },
   "outputs": [],
   "source": [
    "import geemap.colormaps as cm"
   ]
  },
  {
   "cell_type": "code",
   "execution_count": 6,
   "id": "d159d70f",
   "metadata": {
    "ExecuteTime": {
     "end_time": "2022-02-15T16:22:45.935169Z",
     "start_time": "2022-02-15T16:22:45.933505Z"
    }
   },
   "outputs": [],
   "source": [
    "# cm.palettes.terrain"
   ]
  },
  {
   "cell_type": "code",
   "execution_count": 7,
   "id": "fe999a91",
   "metadata": {
    "ExecuteTime": {
     "end_time": "2022-02-15T16:22:45.942023Z",
     "start_time": "2022-02-15T16:22:45.936197Z"
    }
   },
   "outputs": [],
   "source": [
    "color_ndvi = cm.palettes.ndvi"
   ]
  },
  {
   "cell_type": "code",
   "execution_count": 8,
   "id": "05fb282a",
   "metadata": {
    "ExecuteTime": {
     "end_time": "2022-02-15T16:22:45.947423Z",
     "start_time": "2022-02-15T16:22:45.942948Z"
    }
   },
   "outputs": [],
   "source": [
    "color_ndwi = cm.palettes.ndwi"
   ]
  },
  {
   "cell_type": "code",
   "execution_count": 9,
   "id": "68161910",
   "metadata": {
    "ExecuteTime": {
     "end_time": "2022-02-15T16:22:45.952633Z",
     "start_time": "2022-02-15T16:22:45.948403Z"
    }
   },
   "outputs": [],
   "source": [
    "color_terrain = cm.palettes.terrain"
   ]
  },
  {
   "cell_type": "code",
   "execution_count": 10,
   "id": "8e99245f",
   "metadata": {
    "ExecuteTime": {
     "end_time": "2022-02-15T16:22:45.957841Z",
     "start_time": "2022-02-15T16:22:45.954175Z"
    }
   },
   "outputs": [],
   "source": [
    "color_glaciar = cm.palettes.PuBuGn_r"
   ]
  },
  {
   "cell_type": "code",
   "execution_count": 11,
   "id": "92b8cf41",
   "metadata": {
    "ExecuteTime": {
     "end_time": "2022-02-15T16:22:45.962998Z",
     "start_time": "2022-02-15T16:22:45.958875Z"
    }
   },
   "outputs": [],
   "source": [
    "color_nubes = cm.palettes.inferno"
   ]
  },
  {
   "cell_type": "code",
   "execution_count": 12,
   "id": "39930741",
   "metadata": {
    "ExecuteTime": {
     "end_time": "2022-02-15T16:22:45.968038Z",
     "start_time": "2022-02-15T16:22:45.963922Z"
    }
   },
   "outputs": [],
   "source": [
    "# cm.list_colormaps()"
   ]
  },
  {
   "cell_type": "code",
   "execution_count": 13,
   "id": "d6233e9b",
   "metadata": {
    "ExecuteTime": {
     "end_time": "2022-02-15T16:22:45.973325Z",
     "start_time": "2022-02-15T16:22:45.969033Z"
    }
   },
   "outputs": [],
   "source": [
    "color_rainbow = cm.palettes.summer_r"
   ]
  },
  {
   "cell_type": "markdown",
   "id": "11666045",
   "metadata": {},
   "source": [
    "## Funciones"
   ]
  },
  {
   "cell_type": "code",
   "execution_count": 60,
   "id": "777427a5",
   "metadata": {
    "ExecuteTime": {
     "end_time": "2022-02-15T18:51:45.903298Z",
     "start_time": "2022-02-15T18:51:45.901189Z"
    }
   },
   "outputs": [],
   "source": [
    "def scaling(image):\n",
    "    opticalBands = image.multiply(0.0000275).add(-0.2)\n",
    "    return image.addBands(**{'srcImg' : opticalBands,'names' : None ,'overwrite' : True})"
   ]
  },
  {
   "cell_type": "code",
   "execution_count": 61,
   "id": "cdad4a32",
   "metadata": {
    "ExecuteTime": {
     "end_time": "2022-02-15T18:51:53.207526Z",
     "start_time": "2022-02-15T18:51:53.205225Z"
    }
   },
   "outputs": [],
   "source": [
    "def rename(image):\n",
    "    cambio = image.select('SR_B1','SR_B2','SR_B3','SR_B4','SR_B5','SR_B6','SR_B7')\n",
    "    rename = cambio.rename('B1','B2', 'B3', 'B4', 'B5', 'B6', 'B7')\n",
    "    return ee.ImageCollection(rename)"
   ]
  },
  {
   "cell_type": "code",
   "execution_count": 15,
   "id": "166db170",
   "metadata": {
    "ExecuteTime": {
     "end_time": "2022-02-15T16:22:45.984084Z",
     "start_time": "2022-02-15T16:22:45.979509Z"
    }
   },
   "outputs": [],
   "source": [
    "def add_ee_layer(self, ee_image_object, vis_params, name):\n",
    "  map_id_dict = ee.Image(ee_image_object).getMapId(vis_params)\n",
    "  folium.raster_layers.TileLayer(\n",
    "      tiles=map_id_dict['tile_fetcher'].url_format,\n",
    "      attr='Map Data &copy; <a href=\"https://earthengine.google.com/\">Google Earth Engine</a>',\n",
    "      name=name,\n",
    "      overlay=True,\n",
    "      control=True\n",
    "  ).add_to(self)\n",
    "\n",
    "folium.Map.add_ee_layer = add_ee_layer"
   ]
  },
  {
   "cell_type": "code",
   "execution_count": 16,
   "id": "b9e1cdaf",
   "metadata": {
    "ExecuteTime": {
     "end_time": "2022-02-15T16:22:45.989132Z",
     "start_time": "2022-02-15T16:22:45.984982Z"
    }
   },
   "outputs": [],
   "source": [
    "def addNDVI(image): \n",
    "    ndvi = image.normalizedDifference(['B5', 'B4']).rename('NDVI')\n",
    "    return image.addBands(ndvi)"
   ]
  },
  {
   "cell_type": "code",
   "execution_count": 17,
   "id": "4c83d08e",
   "metadata": {
    "ExecuteTime": {
     "end_time": "2022-02-15T16:22:45.994502Z",
     "start_time": "2022-02-15T16:22:45.990136Z"
    }
   },
   "outputs": [],
   "source": [
    "def addNDVI2(image): \n",
    "    ndvi = image.normalizedDifference(['B5', 'B4']).rename('NDVI2')\n",
    "    return image.addBands(ndvi)"
   ]
  },
  {
   "cell_type": "code",
   "execution_count": 18,
   "id": "ad105a37",
   "metadata": {
    "ExecuteTime": {
     "end_time": "2022-02-15T16:22:45.999822Z",
     "start_time": "2022-02-15T16:22:45.995475Z"
    }
   },
   "outputs": [],
   "source": [
    "def addNDWI(image):\n",
    "    ndwi = image.normalizedDifference(['B3','B5']).rename('NDWI')\n",
    "    return image.addBands(ndwi)"
   ]
  },
  {
   "cell_type": "code",
   "execution_count": 19,
   "id": "afd5a921",
   "metadata": {
    "ExecuteTime": {
     "end_time": "2022-02-15T16:22:46.002535Z",
     "start_time": "2022-02-15T16:22:46.000888Z"
    }
   },
   "outputs": [],
   "source": [
    "def addNDGI(image):\n",
    "    ndgi = image.normalizedDifference(['B3','B4']).rename('NDGI')\n",
    "    return image.addBands(ndgi)"
   ]
  },
  {
   "cell_type": "code",
   "execution_count": 20,
   "id": "786770f8",
   "metadata": {
    "ExecuteTime": {
     "end_time": "2022-02-15T16:22:46.005219Z",
     "start_time": "2022-02-15T16:22:46.003454Z"
    }
   },
   "outputs": [],
   "source": [
    "def addSAVI(image):\n",
    "    savi = image.expression(\n",
    "        '((b5 - b4)/(b5 + b4 + 0.5))*1.5', {\n",
    "            'b4':image.select('B4'),\n",
    "            'b5':image.select('B5')\n",
    "        }) \n",
    "    savi= savi.rename('SAVI')\n",
    "    return image.addBands(savi)"
   ]
  },
  {
   "cell_type": "code",
   "execution_count": 21,
   "id": "410de657",
   "metadata": {
    "ExecuteTime": {
     "end_time": "2022-02-15T16:22:46.007600Z",
     "start_time": "2022-02-15T16:22:46.006091Z"
    }
   },
   "outputs": [],
   "source": [
    "def addNDBI(image):\n",
    "    ndbi = image.normalizedDifference(['B6','B5']).rename('NDBI')\n",
    "    return image.addBands(ndbi)"
   ]
  },
  {
   "cell_type": "code",
   "execution_count": 22,
   "id": "cffb72aa",
   "metadata": {
    "ExecuteTime": {
     "end_time": "2022-02-15T16:22:46.010604Z",
     "start_time": "2022-02-15T16:22:46.008721Z"
    }
   },
   "outputs": [],
   "source": [
    "def addNDSI(image):\n",
    "    ndsi = image.normalizedDifference(['B3','B6']).rename('NDSI')\n",
    "    return image.addBands(ndsi)"
   ]
  },
  {
   "cell_type": "code",
   "execution_count": 23,
   "id": "c054d0bf",
   "metadata": {
    "ExecuteTime": {
     "end_time": "2022-02-15T16:22:46.013504Z",
     "start_time": "2022-02-15T16:22:46.011526Z"
    }
   },
   "outputs": [],
   "source": [
    "def addEVI(image):\n",
    "    evi = image.expression(\n",
    "        '2.5*((b5 - b4)/(b5 + 6*b4 - 7.5*b2 + 1))', {\n",
    "            'b2':image.select('B2'),\n",
    "            'b4':image.select('B4'),\n",
    "            'b5':image.select('B5')\n",
    "        }) \n",
    "    evi = evi.rename('EVI')\n",
    "    return image.addBands(evi)"
   ]
  },
  {
   "cell_type": "code",
   "execution_count": 24,
   "id": "5c8b8b2f",
   "metadata": {
    "ExecuteTime": {
     "end_time": "2022-02-15T16:22:46.016574Z",
     "start_time": "2022-02-15T16:22:46.014638Z"
    }
   },
   "outputs": [],
   "source": [
    "def addDate(image):\n",
    "    img_date = ee.Date(image.date())\n",
    "    img_date = ee.Number.parse(img_date.format('YYYYMM'))\n",
    "    return image.addBands(ee.Image(img_date).rename('date').toInt())"
   ]
  },
  {
   "cell_type": "code",
   "execution_count": 25,
   "id": "04720d6b",
   "metadata": {
    "ExecuteTime": {
     "end_time": "2022-02-15T16:22:46.019343Z",
     "start_time": "2022-02-15T16:22:46.017651Z"
    }
   },
   "outputs": [],
   "source": [
    "def Cloud40(image):\n",
    "    scored = ee.Algorithms.Landsat.simpleCloudScore(image)\n",
    "    return image.updateMask(scored.select(['cloud']).lt(40)) "
   ]
  },
  {
   "cell_type": "code",
   "execution_count": 26,
   "id": "3115c210",
   "metadata": {
    "ExecuteTime": {
     "end_time": "2022-02-15T16:22:46.022220Z",
     "start_time": "2022-02-15T16:22:46.020230Z"
    }
   },
   "outputs": [],
   "source": [
    "def Cloud30(image):\n",
    "    scored = ee.Algorithms.Landsat.simpleCloudScore(image)\n",
    "    return image.updateMask(scored.select(['cloud']).lt(30)) "
   ]
  },
  {
   "cell_type": "code",
   "execution_count": 27,
   "id": "f86cf507",
   "metadata": {
    "ExecuteTime": {
     "end_time": "2022-02-15T16:22:46.024876Z",
     "start_time": "2022-02-15T16:22:46.023065Z"
    }
   },
   "outputs": [],
   "source": [
    "def Cloud20(image):\n",
    "    scored = ee.Algorithms.Landsat.simpleCloudScore(image)\n",
    "    return image.updateMask(scored.select(['cloud']).lt(20)) "
   ]
  },
  {
   "cell_type": "code",
   "execution_count": 28,
   "id": "9d288b40",
   "metadata": {
    "ExecuteTime": {
     "end_time": "2022-02-15T16:22:46.029738Z",
     "start_time": "2022-02-15T16:22:46.028021Z"
    }
   },
   "outputs": [],
   "source": [
    "def Cloud10(image):\n",
    "    scored = ee.Algorithms.Landsat.simpleCloudScore(image)\n",
    "    return image.updateMask(scored.select(['cloud']).lt(10))"
   ]
  },
  {
   "cell_type": "code",
   "execution_count": 29,
   "id": "92d6ba1b",
   "metadata": {
    "ExecuteTime": {
     "end_time": "2022-02-15T16:22:46.032418Z",
     "start_time": "2022-02-15T16:22:46.030683Z"
    }
   },
   "outputs": [],
   "source": [
    "def addCloud(image):\n",
    "    nube = ee.Algorithms.Landsat.simpleCloudScore(image)\n",
    "    return image.addBands(ee.Image(nube.select(['cloud'])).rename('nube'))"
   ]
  },
  {
   "cell_type": "code",
   "execution_count": 30,
   "id": "4eb69ead",
   "metadata": {
    "ExecuteTime": {
     "end_time": "2022-02-15T16:22:46.036344Z",
     "start_time": "2022-02-15T16:22:46.033315Z"
    }
   },
   "outputs": [],
   "source": [
    "def find_closest(target_image, image_col, days):\n",
    "    \"\"\"Filter images in a collection by date proximity and spatial intersection to a target image.\n",
    "\n",
    "    Args:\n",
    "        target_image: An ee.Image whose observation date is used to find near-date images in\n",
    "          the provided image_col image collection. It must have a 'system:time_start' property.\n",
    "        image_col: An ee.ImageCollection to filter by date proximity and spatial intersection\n",
    "          to the target_image. Each image in the collection must have a 'system:time_start'\n",
    "          property.\n",
    "        days: A number that defines the maximum number of days difference allowed between\n",
    "          the target_image and images in the image_col.\n",
    "\n",
    "    Returns:\n",
    "        An ee.ImageCollection that has been filtered to include those images that are within the\n",
    "          given date proximity to target_image and intersect it spatially.\n",
    "    \"\"\"\n",
    "\n",
    "    # Compute the timespan for N days (in milliseconds).\n",
    "    range = ee.Number(days).multiply(1000 * 60 * 60 * 24)\n",
    "\n",
    "    filter = ee.Filter.And(\n",
    "        ee.Filter.maxDifference(range, 'system:time_start', None, 'system:time_start'),\n",
    "        ee.Filter.intersects('.geo', None, '.geo'))\n",
    "\n",
    "    closest = (ee.Join.saveAll('matches', 'measure')\n",
    "        .apply(ee.ImageCollection([target_image]), image_col, filter))\n",
    "\n",
    "    return ee.ImageCollection(ee.List(closest.first().get('matches')))"
   ]
  },
  {
   "cell_type": "code",
   "execution_count": 31,
   "id": "b54bde64",
   "metadata": {
    "ExecuteTime": {
     "end_time": "2022-02-15T16:22:46.039101Z",
     "start_time": "2022-02-15T16:22:46.037293Z"
    }
   },
   "outputs": [],
   "source": [
    "vizParams = {\n",
    "  'bands': ['B5', 'B4', 'B3'],\n",
    "  'min': 0,\n",
    "  'max': 0.5,\n",
    "  'gamma': [0.95, 1.1, 1]\n",
    "}"
   ]
  },
  {
   "cell_type": "code",
   "execution_count": 32,
   "id": "71bcb153",
   "metadata": {
    "ExecuteTime": {
     "end_time": "2022-02-15T16:22:46.041948Z",
     "start_time": "2022-02-15T16:22:46.040159Z"
    }
   },
   "outputs": [],
   "source": [
    "vizParams_m = {\n",
    "  'bands': ['B5', 'B4', 'B3'],\n",
    "  'min': 0,\n",
    "  'max': 0.6,\n",
    "  'gamma': [1, 1, 1]\n",
    "}"
   ]
  },
  {
   "cell_type": "code",
   "execution_count": 33,
   "id": "aa02e8e2",
   "metadata": {
    "ExecuteTime": {
     "end_time": "2022-02-15T16:22:46.044541Z",
     "start_time": "2022-02-15T16:22:46.042999Z"
    }
   },
   "outputs": [],
   "source": [
    "vis_nieve = {\n",
    "  'bands': ['B6', 'B4', 'B3'],\n",
    "  'min': 0,\n",
    "  'max': 0.5,\n",
    "  'gamma': [0.95, 1.1, 1]\n",
    "}"
   ]
  },
  {
   "cell_type": "markdown",
   "id": "d9a442fb",
   "metadata": {},
   "source": [
    "## Colecciones"
   ]
  },
  {
   "cell_type": "markdown",
   "id": "f8131eb7",
   "metadata": {},
   "source": [
    "### 2022 Verano"
   ]
  },
  {
   "cell_type": "code",
   "execution_count": 95,
   "id": "3a413b3f",
   "metadata": {
    "ExecuteTime": {
     "end_time": "2022-02-15T19:10:45.585133Z",
     "start_time": "2022-02-15T19:10:45.582656Z"
    }
   },
   "outputs": [],
   "source": [
    "start_date = '2021-11-01'\n",
    "end_date = '2022-03-31'\n",
    "\n",
    "l8_2022 = ee.ImageCollection('LANDSAT/LC08/C02/T1_L2') \\\n",
    "    .filterBounds(patagonia_grande) \\\n",
    "    .filterDate(start_date, end_date)  "
   ]
  },
  {
   "cell_type": "code",
   "execution_count": 82,
   "id": "c5230d67",
   "metadata": {
    "ExecuteTime": {
     "end_time": "2022-02-15T19:01:35.600066Z",
     "start_time": "2022-02-15T19:01:35.597731Z"
    }
   },
   "outputs": [],
   "source": [
    "l8_2022 = l8_2022.map(rename)"
   ]
  },
  {
   "cell_type": "code",
   "execution_count": 83,
   "id": "83716157",
   "metadata": {
    "ExecuteTime": {
     "end_time": "2022-02-15T19:01:37.063810Z",
     "start_time": "2022-02-15T19:01:37.061432Z"
    }
   },
   "outputs": [],
   "source": [
    "l8_2022 = l8_2022.map(scaling)"
   ]
  },
  {
   "cell_type": "code",
   "execution_count": 84,
   "id": "675d032a",
   "metadata": {
    "ExecuteTime": {
     "end_time": "2022-02-15T19:01:47.514909Z",
     "start_time": "2022-02-15T19:01:47.510067Z"
    }
   },
   "outputs": [],
   "source": [
    "coleccion2022 = l8_2022.map(addNDVI).map(addNDWI).map(addNDGI).map(addSAVI).map(addNDSI).map(addNDBI).map(addEVI).map(addDate).map(addCloud)"
   ]
  },
  {
   "cell_type": "code",
   "execution_count": 86,
   "id": "8dbb0d32",
   "metadata": {
    "ExecuteTime": {
     "end_time": "2022-02-15T19:02:22.440279Z",
     "start_time": "2022-02-15T19:02:22.437564Z"
    }
   },
   "outputs": [],
   "source": [
    "c2022_sn = coleccion2022.map(Cloud10)\n",
    "QM_NDVI_2022_sn = c2022_sn.qualityMosaic('NDVI')\n",
    "Med_NDVI_2022_sn = (c2022_sn.median()).select('NDVI')\n",
    "QM_EVI_2022_sn = c2022_sn.qualityMosaic('EVI')\n",
    "Med_EVI_2022_sn = (c2022_sn.median()).select('EVI')"
   ]
  },
  {
   "cell_type": "code",
   "execution_count": 87,
   "id": "7cf84ccf",
   "metadata": {
    "ExecuteTime": {
     "end_time": "2022-02-15T19:02:27.722832Z",
     "start_time": "2022-02-15T19:02:24.294676Z"
    }
   },
   "outputs": [
    {
     "ename": "EEException",
     "evalue": "ImageCollection.qualityMosaic: Error in map(ID=null):\nImage.select, argument 'input': Invalid type.\nExpected type: Image<unknown bands>.\nActual type: ImageCollection.",
     "output_type": "error",
     "traceback": [
      "\u001b[0;31m---------------------------------------------------------------------------\u001b[0m",
      "\u001b[0;31mHttpError\u001b[0m                                 Traceback (most recent call last)",
      "\u001b[0;32m~/anaconda3/envs/gee/lib/python3.8/site-packages/ee/data.py\u001b[0m in \u001b[0;36m_execute_cloud_call\u001b[0;34m(call, num_retries)\u001b[0m\n\u001b[1;32m    333\u001b[0m   \u001b[0;32mtry\u001b[0m\u001b[0;34m:\u001b[0m\u001b[0;34m\u001b[0m\u001b[0;34m\u001b[0m\u001b[0m\n\u001b[0;32m--> 334\u001b[0;31m     \u001b[0;32mreturn\u001b[0m \u001b[0mcall\u001b[0m\u001b[0;34m.\u001b[0m\u001b[0mexecute\u001b[0m\u001b[0;34m(\u001b[0m\u001b[0mnum_retries\u001b[0m\u001b[0;34m=\u001b[0m\u001b[0mnum_retries\u001b[0m\u001b[0;34m)\u001b[0m\u001b[0;34m\u001b[0m\u001b[0;34m\u001b[0m\u001b[0m\n\u001b[0m\u001b[1;32m    335\u001b[0m   \u001b[0;32mexcept\u001b[0m \u001b[0mgoogleapiclient\u001b[0m\u001b[0;34m.\u001b[0m\u001b[0merrors\u001b[0m\u001b[0;34m.\u001b[0m\u001b[0mHttpError\u001b[0m \u001b[0;32mas\u001b[0m \u001b[0me\u001b[0m\u001b[0;34m:\u001b[0m\u001b[0;34m\u001b[0m\u001b[0;34m\u001b[0m\u001b[0m\n",
      "\u001b[0;32m~/anaconda3/envs/gee/lib/python3.8/site-packages/googleapiclient/_helpers.py\u001b[0m in \u001b[0;36mpositional_wrapper\u001b[0;34m(*args, **kwargs)\u001b[0m\n\u001b[1;32m    133\u001b[0m                     \u001b[0mlogger\u001b[0m\u001b[0;34m.\u001b[0m\u001b[0mwarning\u001b[0m\u001b[0;34m(\u001b[0m\u001b[0mmessage\u001b[0m\u001b[0;34m)\u001b[0m\u001b[0;34m\u001b[0m\u001b[0;34m\u001b[0m\u001b[0m\n\u001b[0;32m--> 134\u001b[0;31m             \u001b[0;32mreturn\u001b[0m \u001b[0mwrapped\u001b[0m\u001b[0;34m(\u001b[0m\u001b[0;34m*\u001b[0m\u001b[0margs\u001b[0m\u001b[0;34m,\u001b[0m \u001b[0;34m**\u001b[0m\u001b[0mkwargs\u001b[0m\u001b[0;34m)\u001b[0m\u001b[0;34m\u001b[0m\u001b[0;34m\u001b[0m\u001b[0m\n\u001b[0m\u001b[1;32m    135\u001b[0m \u001b[0;34m\u001b[0m\u001b[0m\n",
      "\u001b[0;32m~/anaconda3/envs/gee/lib/python3.8/site-packages/googleapiclient/http.py\u001b[0m in \u001b[0;36mexecute\u001b[0;34m(self, http, num_retries)\u001b[0m\n\u001b[1;32m    914\u001b[0m         \u001b[0;32mif\u001b[0m \u001b[0mresp\u001b[0m\u001b[0;34m.\u001b[0m\u001b[0mstatus\u001b[0m \u001b[0;34m>=\u001b[0m \u001b[0;36m300\u001b[0m\u001b[0;34m:\u001b[0m\u001b[0;34m\u001b[0m\u001b[0;34m\u001b[0m\u001b[0m\n\u001b[0;32m--> 915\u001b[0;31m             \u001b[0;32mraise\u001b[0m \u001b[0mHttpError\u001b[0m\u001b[0;34m(\u001b[0m\u001b[0mresp\u001b[0m\u001b[0;34m,\u001b[0m \u001b[0mcontent\u001b[0m\u001b[0;34m,\u001b[0m \u001b[0muri\u001b[0m\u001b[0;34m=\u001b[0m\u001b[0mself\u001b[0m\u001b[0;34m.\u001b[0m\u001b[0muri\u001b[0m\u001b[0;34m)\u001b[0m\u001b[0;34m\u001b[0m\u001b[0;34m\u001b[0m\u001b[0m\n\u001b[0m\u001b[1;32m    916\u001b[0m         \u001b[0;32mreturn\u001b[0m \u001b[0mself\u001b[0m\u001b[0;34m.\u001b[0m\u001b[0mpostproc\u001b[0m\u001b[0;34m(\u001b[0m\u001b[0mresp\u001b[0m\u001b[0;34m,\u001b[0m \u001b[0mcontent\u001b[0m\u001b[0;34m)\u001b[0m\u001b[0;34m\u001b[0m\u001b[0;34m\u001b[0m\u001b[0m\n",
      "\u001b[0;31mHttpError\u001b[0m: <HttpError 400 when requesting https://earthengine.googleapis.com/v1alpha/projects/earthengine-legacy/maps?fields=name&alt=json returned \"ImageCollection.qualityMosaic: Error in map(ID=null):\nImage.select, argument 'input': Invalid type.\nExpected type: Image<unknown bands>.\nActual type: ImageCollection.\". Details: \"ImageCollection.qualityMosaic: Error in map(ID=null):\nImage.select, argument 'input': Invalid type.\nExpected type: Image<unknown bands>.\nActual type: ImageCollection.\">",
      "\nDuring handling of the above exception, another exception occurred:\n",
      "\u001b[0;31mEEException\u001b[0m                               Traceback (most recent call last)",
      "\u001b[0;32m/tmp/ipykernel_276/761047973.py\u001b[0m in \u001b[0;36m<module>\u001b[0;34m\u001b[0m\n\u001b[0;32m----> 1\u001b[0;31m \u001b[0mMap\u001b[0m\u001b[0;34m.\u001b[0m\u001b[0maddLayer\u001b[0m\u001b[0;34m(\u001b[0m\u001b[0mQM_NDVI_2022_sn\u001b[0m\u001b[0;34m,\u001b[0m \u001b[0mvizParams\u001b[0m\u001b[0;34m,\u001b[0m \u001b[0;34m'QMsn de NDVI 2021'\u001b[0m\u001b[0;34m)\u001b[0m\u001b[0;34m\u001b[0m\u001b[0;34m\u001b[0m\u001b[0m\n\u001b[0m\u001b[1;32m      2\u001b[0m \u001b[0mMap\u001b[0m\u001b[0;34m.\u001b[0m\u001b[0maddLayer\u001b[0m\u001b[0;34m(\u001b[0m\u001b[0mMed_NDVI_2022_sn\u001b[0m\u001b[0;34m,\u001b[0m \u001b[0mvizParams\u001b[0m\u001b[0;34m,\u001b[0m \u001b[0;34m'QM de NDVI 2021'\u001b[0m\u001b[0;34m)\u001b[0m\u001b[0;34m\u001b[0m\u001b[0;34m\u001b[0m\u001b[0m\n\u001b[1;32m      3\u001b[0m \u001b[0mMap\u001b[0m\u001b[0;34m\u001b[0m\u001b[0;34m\u001b[0m\u001b[0m\n",
      "\u001b[0;32m~/anaconda3/envs/gee/lib/python3.8/site-packages/geemap/geemap.py\u001b[0m in \u001b[0;36madd_ee_layer\u001b[0;34m(self, ee_object, vis_params, name, shown, opacity)\u001b[0m\n\u001b[1;32m   1392\u001b[0m                 \u001b[0;32mraise\u001b[0m \u001b[0mException\u001b[0m\u001b[0;34m(\u001b[0m\u001b[0me\u001b[0m\u001b[0;34m)\u001b[0m\u001b[0;34m\u001b[0m\u001b[0;34m\u001b[0m\u001b[0m\n\u001b[1;32m   1393\u001b[0m \u001b[0;34m\u001b[0m\u001b[0m\n\u001b[0;32m-> 1394\u001b[0;31m         \u001b[0mmap_id_dict\u001b[0m \u001b[0;34m=\u001b[0m \u001b[0mee\u001b[0m\u001b[0;34m.\u001b[0m\u001b[0mImage\u001b[0m\u001b[0;34m(\u001b[0m\u001b[0mimage\u001b[0m\u001b[0;34m)\u001b[0m\u001b[0;34m.\u001b[0m\u001b[0mgetMapId\u001b[0m\u001b[0;34m(\u001b[0m\u001b[0mvis_params\u001b[0m\u001b[0;34m)\u001b[0m\u001b[0;34m\u001b[0m\u001b[0;34m\u001b[0m\u001b[0m\n\u001b[0m\u001b[1;32m   1395\u001b[0m         tile_layer = ipyleaflet.TileLayer(\n\u001b[1;32m   1396\u001b[0m             \u001b[0murl\u001b[0m\u001b[0;34m=\u001b[0m\u001b[0mmap_id_dict\u001b[0m\u001b[0;34m[\u001b[0m\u001b[0;34m\"tile_fetcher\"\u001b[0m\u001b[0;34m]\u001b[0m\u001b[0;34m.\u001b[0m\u001b[0murl_format\u001b[0m\u001b[0;34m,\u001b[0m\u001b[0;34m\u001b[0m\u001b[0;34m\u001b[0m\u001b[0m\n",
      "\u001b[0;32m~/anaconda3/envs/gee/lib/python3.8/site-packages/ee/image.py\u001b[0m in \u001b[0;36mgetMapId\u001b[0;34m(self, vis_params)\u001b[0m\n\u001b[1;32m    128\u001b[0m     \u001b[0mvis_image\u001b[0m\u001b[0;34m,\u001b[0m \u001b[0mrequest\u001b[0m \u001b[0;34m=\u001b[0m \u001b[0mself\u001b[0m\u001b[0;34m.\u001b[0m\u001b[0m_apply_visualization\u001b[0m\u001b[0;34m(\u001b[0m\u001b[0mvis_params\u001b[0m\u001b[0;34m)\u001b[0m\u001b[0;34m\u001b[0m\u001b[0;34m\u001b[0m\u001b[0m\n\u001b[1;32m    129\u001b[0m     \u001b[0mrequest\u001b[0m\u001b[0;34m[\u001b[0m\u001b[0;34m'image'\u001b[0m\u001b[0;34m]\u001b[0m \u001b[0;34m=\u001b[0m \u001b[0mvis_image\u001b[0m\u001b[0;34m\u001b[0m\u001b[0;34m\u001b[0m\u001b[0m\n\u001b[0;32m--> 130\u001b[0;31m     \u001b[0mresponse\u001b[0m \u001b[0;34m=\u001b[0m \u001b[0mdata\u001b[0m\u001b[0;34m.\u001b[0m\u001b[0mgetMapId\u001b[0m\u001b[0;34m(\u001b[0m\u001b[0mrequest\u001b[0m\u001b[0;34m)\u001b[0m\u001b[0;34m\u001b[0m\u001b[0;34m\u001b[0m\u001b[0m\n\u001b[0m\u001b[1;32m    131\u001b[0m     \u001b[0mresponse\u001b[0m\u001b[0;34m[\u001b[0m\u001b[0;34m'image'\u001b[0m\u001b[0;34m]\u001b[0m \u001b[0;34m=\u001b[0m \u001b[0mself\u001b[0m\u001b[0;34m\u001b[0m\u001b[0;34m\u001b[0m\u001b[0m\n\u001b[1;32m    132\u001b[0m     \u001b[0;32mreturn\u001b[0m \u001b[0mresponse\u001b[0m\u001b[0;34m\u001b[0m\u001b[0;34m\u001b[0m\u001b[0m\n",
      "\u001b[0;32m~/anaconda3/envs/gee/lib/python3.8/site-packages/ee/data.py\u001b[0m in \u001b[0;36mgetMapId\u001b[0;34m(params)\u001b[0m\n\u001b[1;32m    571\u001b[0m   \u001b[0;31m# Make it return only the name field, as otherwise it echoes the entire\u001b[0m\u001b[0;34m\u001b[0m\u001b[0;34m\u001b[0m\u001b[0;34m\u001b[0m\u001b[0m\n\u001b[1;32m    572\u001b[0m   \u001b[0;31m# request, which might be large.\u001b[0m\u001b[0;34m\u001b[0m\u001b[0;34m\u001b[0m\u001b[0;34m\u001b[0m\u001b[0m\n\u001b[0;32m--> 573\u001b[0;31m   result = _execute_cloud_call(\n\u001b[0m\u001b[1;32m    574\u001b[0m       _get_cloud_api_resource().projects().maps().create(\n\u001b[1;32m    575\u001b[0m           parent=_get_projects_path(), fields='name', body=request))\n",
      "\u001b[0;32m~/anaconda3/envs/gee/lib/python3.8/site-packages/ee/data.py\u001b[0m in \u001b[0;36m_execute_cloud_call\u001b[0;34m(call, num_retries)\u001b[0m\n\u001b[1;32m    334\u001b[0m     \u001b[0;32mreturn\u001b[0m \u001b[0mcall\u001b[0m\u001b[0;34m.\u001b[0m\u001b[0mexecute\u001b[0m\u001b[0;34m(\u001b[0m\u001b[0mnum_retries\u001b[0m\u001b[0;34m=\u001b[0m\u001b[0mnum_retries\u001b[0m\u001b[0;34m)\u001b[0m\u001b[0;34m\u001b[0m\u001b[0;34m\u001b[0m\u001b[0m\n\u001b[1;32m    335\u001b[0m   \u001b[0;32mexcept\u001b[0m \u001b[0mgoogleapiclient\u001b[0m\u001b[0;34m.\u001b[0m\u001b[0merrors\u001b[0m\u001b[0;34m.\u001b[0m\u001b[0mHttpError\u001b[0m \u001b[0;32mas\u001b[0m \u001b[0me\u001b[0m\u001b[0;34m:\u001b[0m\u001b[0;34m\u001b[0m\u001b[0;34m\u001b[0m\u001b[0m\n\u001b[0;32m--> 336\u001b[0;31m     \u001b[0;32mraise\u001b[0m \u001b[0m_translate_cloud_exception\u001b[0m\u001b[0;34m(\u001b[0m\u001b[0me\u001b[0m\u001b[0;34m)\u001b[0m\u001b[0;34m\u001b[0m\u001b[0;34m\u001b[0m\u001b[0m\n\u001b[0m\u001b[1;32m    337\u001b[0m \u001b[0;34m\u001b[0m\u001b[0m\n\u001b[1;32m    338\u001b[0m \u001b[0;34m\u001b[0m\u001b[0m\n",
      "\u001b[0;31mEEException\u001b[0m: ImageCollection.qualityMosaic: Error in map(ID=null):\nImage.select, argument 'input': Invalid type.\nExpected type: Image<unknown bands>.\nActual type: ImageCollection."
     ]
    }
   ],
   "source": [
    "Map.addLayer(QM_NDVI_2022_sn, vizParams, 'QMsn de NDVI 2021')\n",
    "Map.addLayer(Med_NDVI_2022_sn, vizParams, 'QM de NDVI 2021')\n",
    "Map"
   ]
  },
  {
   "cell_type": "markdown",
   "id": "5d07b81d",
   "metadata": {},
   "source": [
    "### 2021 Verano"
   ]
  },
  {
   "cell_type": "code",
   "execution_count": null,
   "id": "0e0c1dfc",
   "metadata": {
    "ExecuteTime": {
     "end_time": "2022-02-15T16:22:52.272005Z",
     "start_time": "2022-02-15T16:22:52.271996Z"
    }
   },
   "outputs": [],
   "source": [
    "start_date = '2020-11-01'\n",
    "end_date = '2021-03-31'\n",
    "\n",
    "l8_2021 = ee.ImageCollection('LANDSAT/LC08/C01/T1_TOA') \\\n",
    "    .filterBounds(patagonia_grande) \\\n",
    "    .filterDate(start_date, end_date)  "
   ]
  },
  {
   "cell_type": "code",
   "execution_count": null,
   "id": "74d427f9",
   "metadata": {
    "ExecuteTime": {
     "end_time": "2022-02-15T16:22:52.272898Z",
     "start_time": "2022-02-15T16:22:52.272886Z"
    }
   },
   "outputs": [],
   "source": [
    "coleccion2021 = l8_2021.map(addNDVI).map(addNDWI).map(addNDGI).map(addSAVI).map(addNDSI).map(addNDBI).map(addEVI).map(addDate).map(addCloud)"
   ]
  },
  {
   "cell_type": "code",
   "execution_count": null,
   "id": "e660d316",
   "metadata": {
    "ExecuteTime": {
     "end_time": "2022-02-15T16:22:52.273633Z",
     "start_time": "2022-02-15T16:22:52.273627Z"
    }
   },
   "outputs": [],
   "source": [
    "QM_NDVI_2021 = coleccion2021.qualityMosaic('NDVI')\n",
    "QM_NDWI_2021 = coleccion2021.qualityMosaic('NDWI')\n",
    "QM_SAVI_2021 = coleccion2021.qualityMosaic('SAVI')\n",
    "QM_NDGI_2021 = coleccion2021.qualityMosaic('NDGI')\n",
    "QM_NDSI_2021 = coleccion2021.qualityMosaic('NDSI')"
   ]
  },
  {
   "cell_type": "code",
   "execution_count": null,
   "id": "2b71385b",
   "metadata": {
    "ExecuteTime": {
     "end_time": "2022-02-15T16:22:52.274395Z",
     "start_time": "2022-02-15T16:22:52.274383Z"
    }
   },
   "outputs": [],
   "source": [
    "c2021_sn = coleccion2021.map(Cloud10)\n",
    "QM_NDVI_2021_sn = c2021_sn.qualityMosaic('NDVI')\n",
    "QM_NDWI_2021_sn = c2021_sn.qualityMosaic('NDWI')\n",
    "QM_SAVI_2021_sn = c2021_sn.qualityMosaic('SAVI')\n",
    "QM_NDGI_2021_sn = c2021_sn.qualityMosaic('NDGI')\n",
    "QM_NDSI_2021_sn = c2021_sn.qualityMosaic('NDSI')\n",
    "Med_NDVI_2021_sn = (c2021_sn.median()).select('NDVI')\n",
    "Med_EVI_2021_sn = (c2021_sn.median()).select('EVI')"
   ]
  },
  {
   "cell_type": "code",
   "execution_count": null,
   "id": "e2ee17c2",
   "metadata": {
    "ExecuteTime": {
     "end_time": "2022-02-14T17:11:40.801695Z",
     "start_time": "2022-02-14T17:11:40.801686Z"
    }
   },
   "outputs": [],
   "source": [
    "Map.addLayer(QM_NDVI_2021_sn, vizParams, 'QMsn de NDVI 2021')\n",
    "Map.addLayer(QM_NDVI_2021, vizParams, 'QM de NDVI 2021')\n",
    "Map.addLayer(QM_NDWI_2021_sn, vizParams, 'QMsn de NDWI 2021')\n",
    "Map.addLayer(QM_SAVI_2021_sn, vizParams, 'QMsn de SAVI 2021')\n",
    "Map.addLayer(QM_NDGI_2021_sn, vis_nieve, 'QMsn de NDGI 2021')\n",
    "Map.addLayer(QM_NDSI_2021_sn, vis_nieve, 'QMsn de NDSI 2021')\n",
    "Map"
   ]
  },
  {
   "cell_type": "code",
   "execution_count": null,
   "id": "1994dbdf",
   "metadata": {
    "ExecuteTime": {
     "end_time": "2022-02-14T17:11:40.802266Z",
     "start_time": "2022-02-14T17:11:40.802258Z"
    }
   },
   "outputs": [],
   "source": [
    "NDVI_2021_l8 = QM_NDVI_2021.set('SENSOR_ID', 'OLI_TIRS')"
   ]
  },
  {
   "cell_type": "code",
   "execution_count": null,
   "id": "60a91aeb",
   "metadata": {
    "ExecuteTime": {
     "end_time": "2022-02-14T17:11:40.802940Z",
     "start_time": "2022-02-14T17:11:40.802929Z"
    }
   },
   "outputs": [],
   "source": [
    "cloud_2021_l8 = ee.Algorithms.Landsat.simpleCloudScore(NDVI_2021_l8)\n",
    "cloud_2021_l8 = cloud_2021_l8.select('cloud')"
   ]
  },
  {
   "cell_type": "code",
   "execution_count": null,
   "id": "27740f8b",
   "metadata": {
    "ExecuteTime": {
     "end_time": "2022-02-14T17:11:40.803455Z",
     "start_time": "2022-02-14T17:11:40.803446Z"
    }
   },
   "outputs": [],
   "source": [
    "palette_nubes = ['#1a9850', '#66bd63', '#a6d96a', '#d9ef8b', '#fee08b', '#fdae61', '#f46d43', '#d73027']"
   ]
  },
  {
   "cell_type": "code",
   "execution_count": null,
   "id": "613ea840",
   "metadata": {
    "ExecuteTime": {
     "end_time": "2022-02-14T17:11:40.803997Z",
     "start_time": "2022-02-14T17:11:40.803989Z"
    }
   },
   "outputs": [],
   "source": [
    "resultados= [cloud_2021_l8, NDVI_2021]\n",
    "vis_params2=  [\n",
    "    {'palette':palette_nubes}, \n",
    "    vizParams]\n",
    "labels = [\n",
    "    'Nubes 2021',\n",
    "    'QM NDVI 2021']"
   ]
  },
  {
   "cell_type": "code",
   "execution_count": null,
   "id": "cb0d5f26",
   "metadata": {
    "ExecuteTime": {
     "end_time": "2022-02-14T17:11:40.804595Z",
     "start_time": "2022-02-14T17:11:40.804586Z"
    }
   },
   "outputs": [],
   "source": [
    "# geemap.linked_maps(rows=1, cols=2, height=\"400px\", center=[-45, -75], zoom=4, \n",
    "#                    ee_objects=resultados, vis_params=vis_params2, labels=labels, label_position=\"topright\")"
   ]
  },
  {
   "cell_type": "markdown",
   "id": "b8617200",
   "metadata": {},
   "source": [
    "### 2020 Verano"
   ]
  },
  {
   "cell_type": "code",
   "execution_count": null,
   "id": "0401d370",
   "metadata": {
    "ExecuteTime": {
     "end_time": "2022-02-14T17:11:40.805300Z",
     "start_time": "2022-02-14T17:11:40.805291Z"
    }
   },
   "outputs": [],
   "source": [
    "start_date = '2019-11-01'\n",
    "end_date = '2020-03-31'\n",
    "\n",
    "l8_2020 = ee.ImageCollection('LANDSAT/LC08/C01/T1_TOA') \\\n",
    "    .filterBounds(patagonia_grande) \\\n",
    "    .filterDate(start_date, end_date)"
   ]
  },
  {
   "cell_type": "markdown",
   "id": "811a0128",
   "metadata": {},
   "source": [
    "### 2019 Verano"
   ]
  },
  {
   "cell_type": "code",
   "execution_count": null,
   "id": "d756b623",
   "metadata": {
    "ExecuteTime": {
     "end_time": "2022-02-14T17:11:40.805844Z",
     "start_time": "2022-02-14T17:11:40.805835Z"
    }
   },
   "outputs": [],
   "source": [
    "start_date = '2018-11-01'\n",
    "end_date = '2019-03-31'\n",
    "\n",
    "l8_2019 = ee.ImageCollection('LANDSAT/LC08/C01/T1_TOA') \\\n",
    "    .filterBounds(patagonia_grande) \\\n",
    "    .filterDate(start_date, end_date)"
   ]
  },
  {
   "cell_type": "markdown",
   "id": "158f0bb1",
   "metadata": {},
   "source": [
    "### 2018 Verano"
   ]
  },
  {
   "cell_type": "code",
   "execution_count": null,
   "id": "2c2ce2a2",
   "metadata": {
    "ExecuteTime": {
     "end_time": "2022-02-14T17:11:40.806342Z",
     "start_time": "2022-02-14T17:11:40.806334Z"
    }
   },
   "outputs": [],
   "source": [
    "start_date = '2017-11-01'\n",
    "end_date = '2018-03-31'\n",
    "\n",
    "l8_2018 = ee.ImageCollection('LANDSAT/LC08/C01/T1_TOA') \\\n",
    "    .filterBounds(patagonia_grande) \\\n",
    "    .filterDate(start_date, end_date)"
   ]
  },
  {
   "cell_type": "markdown",
   "id": "ad28b803",
   "metadata": {},
   "source": [
    "### 2017 Verano"
   ]
  },
  {
   "cell_type": "code",
   "execution_count": null,
   "id": "1917c893",
   "metadata": {
    "ExecuteTime": {
     "end_time": "2022-02-14T17:11:40.806938Z",
     "start_time": "2022-02-14T17:11:40.806931Z"
    }
   },
   "outputs": [],
   "source": [
    "start_date = '2016-11-01'\n",
    "end_date = '2017-03-31'\n",
    "\n",
    "l8_2017 = ee.ImageCollection('LANDSAT/LC08/C01/T1_TOA') \\\n",
    "    .filterBounds(patagonia_grande) \\\n",
    "    .filterDate(start_date, end_date)"
   ]
  },
  {
   "cell_type": "markdown",
   "id": "d0a1318e",
   "metadata": {},
   "source": [
    "### 2022-2017 Colección "
   ]
  },
  {
   "cell_type": "code",
   "execution_count": null,
   "id": "73e05438",
   "metadata": {
    "ExecuteTime": {
     "end_time": "2022-02-14T17:11:40.807755Z",
     "start_time": "2022-02-14T17:11:40.807746Z"
    }
   },
   "outputs": [],
   "source": [
    "filtersummer = ee.Filter.Or(\n",
    "    ee.Filter.date('2021-11-01','2022-02-01'),\n",
    "    ee.Filter.date('2020-11-01','2021-03-31'),\n",
    "    ee.Filter.date('2019-11-01','2020-03-31'),\n",
    "    ee.Filter.date('2018-11-01','2019-03-31'),\n",
    "    ee.Filter.date('2017-11-01','2018-03-31')\n",
    ")"
   ]
  },
  {
   "cell_type": "code",
   "execution_count": null,
   "id": "e3459c31",
   "metadata": {
    "ExecuteTime": {
     "end_time": "2022-02-14T17:11:40.808402Z",
     "start_time": "2022-02-14T17:11:40.808394Z"
    }
   },
   "outputs": [],
   "source": [
    "coleccion2022_2017 = ee.ImageCollection('LANDSAT/LC08/C02/T1_L2') \\\n",
    "    .filterDate('2017-11-01', '2021-03-31') \\\n",
    "    .filter(filtersummer) \\\n",
    "    .filterBounds(patagonia_grande)"
   ]
  },
  {
   "cell_type": "code",
   "execution_count": null,
   "id": "b84c22d9",
   "metadata": {
    "ExecuteTime": {
     "end_time": "2022-02-14T17:11:40.808987Z",
     "start_time": "2022-02-14T17:11:40.808978Z"
    }
   },
   "outputs": [],
   "source": [
    "l8_summer= coleccion2022_2017.map(addNDVI).map(addNDWI).map(addNDGI).map(addSAVI).map(addNDSI).map(addNDBI).map(addEVI).map(addDate).map(addCloud)"
   ]
  },
  {
   "cell_type": "code",
   "execution_count": null,
   "id": "63f1960c",
   "metadata": {
    "ExecuteTime": {
     "end_time": "2022-02-14T17:11:40.809586Z",
     "start_time": "2022-02-14T17:11:40.809577Z"
    }
   },
   "outputs": [],
   "source": [
    "cloudest = l8_summer.qualityMosaic('nube')"
   ]
  },
  {
   "cell_type": "code",
   "execution_count": null,
   "id": "cbb613f8",
   "metadata": {
    "ExecuteTime": {
     "end_time": "2022-02-14T17:11:40.810215Z",
     "start_time": "2022-02-14T17:11:40.810205Z"
    },
    "scrolled": false
   },
   "outputs": [],
   "source": [
    "Map2.addLayer(cloudest, vizParams, 'máximo de nubes')\n",
    "Map2.addLayer(l8_summer.median(), vizParams, 'median')\n",
    "Map2 "
   ]
  },
  {
   "cell_type": "markdown",
   "id": "12cf11b9",
   "metadata": {},
   "source": [
    "### Tier 1\n"
   ]
  },
  {
   "cell_type": "code",
   "execution_count": null,
   "id": "65f6e56e",
   "metadata": {
    "ExecuteTime": {
     "end_time": "2022-02-14T17:11:40.810756Z",
     "start_time": "2022-02-14T17:11:40.810749Z"
    }
   },
   "outputs": [],
   "source": [
    "Tier1_sn = l8_summer.map(Cloud10)"
   ]
  },
  {
   "cell_type": "code",
   "execution_count": null,
   "id": "61a35ad7",
   "metadata": {
    "ExecuteTime": {
     "end_time": "2022-02-14T17:11:40.811506Z",
     "start_time": "2022-02-14T17:11:40.811494Z"
    }
   },
   "outputs": [],
   "source": [
    "QM_NDVI_T1 = Tier1_sn.qualityMosaic('NDVI')# Normalized difference vegetation Index\n",
    "QM_NDWI_T1 = Tier1_sn.qualityMosaic('NDWI') # Normalize difference water index\n",
    "QM_SAVI_T1 = Tier1_sn.qualityMosaic('SAVI') # Soil Adjusted Vegetation Index \n",
    "QM_NDGI_T1 = Tier1_sn.qualityMosaic('NDGI') # Normalized difference glacier index\n",
    "QM_NDSI_T1 = Tier1_sn.qualityMosaic('NDSI') # Normalized difference snow index"
   ]
  },
  {
   "cell_type": "code",
   "execution_count": null,
   "id": "416683d4",
   "metadata": {
    "ExecuteTime": {
     "end_time": "2022-02-14T17:11:40.812162Z",
     "start_time": "2022-02-14T17:11:40.812154Z"
    }
   },
   "outputs": [],
   "source": [
    "Map2.addLayer(QM_NDVI_T1, vizParams, 'QM de NDVI T1')\n",
    "Map2.addLayer(QM_NDWI_T1, vizParams, 'QM de NDWI T1')\n",
    "Map2.addLayer(QM_SAVI_T1, vizParams, 'QM de SAVI T1')\n",
    "Map2.addLayer(QM_NDGI_T1, vis_nieve, 'QM de NDGI T1')\n",
    "Map2.addLayer(QM_NDSI_T1, vizParams, 'QM de NDSI T1')\n",
    "\n",
    "Map2.addLayer(Tier1_sn.median(), vizParams, 'mediana de T1')\n",
    "Map2 "
   ]
  },
  {
   "cell_type": "markdown",
   "id": "5f58151c",
   "metadata": {},
   "source": [
    "### Tier 2"
   ]
  },
  {
   "cell_type": "code",
   "execution_count": null,
   "id": "3f1efa8c",
   "metadata": {
    "ExecuteTime": {
     "end_time": "2022-02-14T17:11:40.812654Z",
     "start_time": "2022-02-14T17:11:40.812647Z"
    }
   },
   "outputs": [],
   "source": [
    "Tier2_sn = l8_summer.map(Cloud20)"
   ]
  },
  {
   "cell_type": "code",
   "execution_count": null,
   "id": "888370aa",
   "metadata": {
    "ExecuteTime": {
     "end_time": "2022-02-14T17:11:40.813233Z",
     "start_time": "2022-02-14T17:11:40.813225Z"
    }
   },
   "outputs": [],
   "source": [
    "QM_NDVI_T2 = Tier2_sn.qualityMosaic('NDVI')# Normalized difference vegetation Index\n",
    "QM_NDWI_T2 = Tier2_sn.qualityMosaic('NDWI') # Normalize difference water index\n",
    "QM_SAVI_T2 = Tier2_sn.qualityMosaic('SAVI') # Soil Adjusted Vegetation Index \n",
    "QM_NDGI_T2 = Tier2_sn.qualityMosaic('NDGI') # Normalized difference glacier index\n",
    "QM_NDSI_T2 = Tier2_sn.qualityMosaic('NDSI') # Normalized difference snow index"
   ]
  },
  {
   "cell_type": "code",
   "execution_count": null,
   "id": "bfe0fd96",
   "metadata": {
    "ExecuteTime": {
     "end_time": "2022-02-14T17:11:40.813852Z",
     "start_time": "2022-02-14T17:11:40.813843Z"
    }
   },
   "outputs": [],
   "source": [
    "# Map2.addLayer(QM_NDVI_T2, vizParams, 'QM de NDVI T2')\n",
    "# Map2.addLayer(QM_NDWI_T2, vizParams, 'QM de NDWI T2')\n",
    "# Map2.addLayer(QM_SAVI_T2, vizParams, 'QM de SAVI T2')\n",
    "# Map2.addLayer(QM_NDGI_T2, vis_nieve, 'QM de NDGI T2')\n",
    "# Map2.addLayer(QM_NDSI_T2, vis_nieve, 'QM de NDSI T2')\n",
    "# Map2 "
   ]
  },
  {
   "cell_type": "markdown",
   "id": "783d2e36",
   "metadata": {},
   "source": [
    "### Tier 3"
   ]
  },
  {
   "cell_type": "code",
   "execution_count": null,
   "id": "cba970e0",
   "metadata": {
    "ExecuteTime": {
     "end_time": "2022-02-14T17:11:40.814460Z",
     "start_time": "2022-02-14T17:11:40.814452Z"
    }
   },
   "outputs": [],
   "source": [
    "Tier3_sn = l8_summer.map(Cloud30)"
   ]
  },
  {
   "cell_type": "code",
   "execution_count": null,
   "id": "8a844166",
   "metadata": {
    "ExecuteTime": {
     "end_time": "2022-02-14T17:11:40.815024Z",
     "start_time": "2022-02-14T17:11:40.815015Z"
    }
   },
   "outputs": [],
   "source": [
    "QM_NDVI_T3 = Tier3_sn.qualityMosaic('NDVI')# Normalized difference vegetation Index\n",
    "QM_NDWI_T3 = Tier3_sn.qualityMosaic('NDWI') # Normalize difference water index\n",
    "QM_SAVI_T3 = Tier3_sn.qualityMosaic('SAVI') # Soil Adjusted Vegetation Index \n",
    "QM_NDGI_T3 = Tier3_sn.qualityMosaic('NDGI') # Normalized difference glacier index\n",
    "QM_NDSI_T3 = Tier3_sn.qualityMosaic('NDSI') # Normalized difference snow index"
   ]
  },
  {
   "cell_type": "markdown",
   "id": "b2453291",
   "metadata": {},
   "source": [
    "### Tier 4"
   ]
  },
  {
   "cell_type": "code",
   "execution_count": null,
   "id": "7a204626",
   "metadata": {
    "ExecuteTime": {
     "end_time": "2022-02-14T17:11:40.815634Z",
     "start_time": "2022-02-14T17:11:40.815625Z"
    }
   },
   "outputs": [],
   "source": [
    "Tier4_sn = l8_summer.map(Cloud40)"
   ]
  },
  {
   "cell_type": "code",
   "execution_count": null,
   "id": "7339980d",
   "metadata": {
    "ExecuteTime": {
     "end_time": "2022-02-14T17:11:40.816179Z",
     "start_time": "2022-02-14T17:11:40.816172Z"
    }
   },
   "outputs": [],
   "source": [
    "QM_NDVI_T4 = Tier4_sn.qualityMosaic('NDVI')# Normalized difference vegetation Index\n",
    "QM_NDWI_T4 = Tier4_sn.qualityMosaic('NDWI') # Normalize difference water index\n",
    "QM_SAVI_T4 = Tier4_sn.qualityMosaic('SAVI') # Soil Adjusted Vegetation Index \n",
    "QM_NDGI_T4 = Tier4_sn.qualityMosaic('NDGI') # Normalized difference glacier index\n",
    "QM_NDSI_T4 = Tier4_sn.qualityMosaic('NDSI') # Normalized difference snow index"
   ]
  },
  {
   "cell_type": "markdown",
   "id": "2029216e",
   "metadata": {},
   "source": [
    "## Colección tierra del fuego"
   ]
  },
  {
   "cell_type": "code",
   "execution_count": null,
   "id": "69c552c6",
   "metadata": {
    "ExecuteTime": {
     "end_time": "2022-02-14T17:11:40.816757Z",
     "start_time": "2022-02-14T17:11:40.816750Z"
    }
   },
   "outputs": [],
   "source": [
    "filtersummerf = ee.Filter.Or(\n",
    "    ee.Filter.date('2021-11-01','2022-02-01'),\n",
    "    ee.Filter.date('2020-11-01','2021-03-31'),\n",
    "    ee.Filter.date('2019-11-01','2020-03-31'),\n",
    "    ee.Filter.date('2018-11-01','2019-03-31'),\n",
    "    ee.Filter.date('2017-11-01','2018-03-31')\n",
    ")"
   ]
  },
  {
   "cell_type": "code",
   "execution_count": null,
   "id": "3698479a",
   "metadata": {
    "ExecuteTime": {
     "end_time": "2022-02-14T17:11:40.817306Z",
     "start_time": "2022-02-14T17:11:40.817299Z"
    }
   },
   "outputs": [],
   "source": [
    "coleccion2022_2017 = ee.ImageCollection('LANDSAT/LC08/C01/T1_TOA') \\\n",
    "    .filterDate('2017-11-01', '2022-03-31') \\\n",
    "    .filter(filtersummerf) \\\n",
    "    .filterBounds(tierra_fuego)"
   ]
  },
  {
   "cell_type": "code",
   "execution_count": null,
   "id": "b820dfa4",
   "metadata": {
    "ExecuteTime": {
     "end_time": "2022-02-14T17:11:40.817897Z",
     "start_time": "2022-02-14T17:11:40.817890Z"
    }
   },
   "outputs": [],
   "source": [
    "l8_summer_sur= coleccion2022_2017.map(addNDVI).map(addNDWI).map(addNDGI).map(addSAVI).map(addNDSI).map(addNDBI).map(addDate).map(addCloud)"
   ]
  },
  {
   "cell_type": "code",
   "execution_count": null,
   "id": "0a876e8d",
   "metadata": {
    "ExecuteTime": {
     "end_time": "2022-02-14T17:11:40.818511Z",
     "start_time": "2022-02-14T17:11:40.818503Z"
    }
   },
   "outputs": [],
   "source": [
    "Map3.addLayer(l8_summer_sur.median(), vizParams, 'median')\n",
    "Map3"
   ]
  },
  {
   "cell_type": "markdown",
   "id": "11db41ec",
   "metadata": {},
   "source": [
    "### Tier 1 Sur"
   ]
  },
  {
   "cell_type": "code",
   "execution_count": null,
   "id": "56144837",
   "metadata": {
    "ExecuteTime": {
     "end_time": "2022-02-14T17:11:40.819151Z",
     "start_time": "2022-02-14T17:11:40.819142Z"
    }
   },
   "outputs": [],
   "source": [
    "Tier1_sn_sur = l8_summer_sur.map(Cloud10)"
   ]
  },
  {
   "cell_type": "code",
   "execution_count": null,
   "id": "28f9aa01",
   "metadata": {
    "ExecuteTime": {
     "end_time": "2022-02-14T17:11:40.819586Z",
     "start_time": "2022-02-14T17:11:40.819580Z"
    }
   },
   "outputs": [],
   "source": [
    "QM_NDVI_T1_sur = Tier1_sn_sur.qualityMosaic('NDVI')# Normalized difference vegetation Index\n",
    "QM_NDWI_T1_sur = Tier1_sn_sur.qualityMosaic('NDWI') # Normalize difference water index\n",
    "QM_SAVI_T1_sur = Tier1_sn_sur.qualityMosaic('SAVI') # Soil Adjusted Vegetation Index \n",
    "QM_NDGI_T1_sur = Tier1_sn_sur.qualityMosaic('NDGI') # Normalized difference glacier index\n",
    "QM_NDSI_T1_sur = Tier1_sn_sur.qualityMosaic('NDSI') # Normalized difference snow index"
   ]
  },
  {
   "cell_type": "code",
   "execution_count": null,
   "id": "6b688782",
   "metadata": {
    "ExecuteTime": {
     "end_time": "2022-02-14T17:11:40.820189Z",
     "start_time": "2022-02-14T17:11:40.820179Z"
    }
   },
   "outputs": [],
   "source": [
    "Map3.addLayer(QM_NDVI_T1_sur, vizParams, 'QM de NDVI T1_sur')\n",
    "Map3.addLayer(QM_NDWI_T1_sur, vizParams, 'QM de NDWI T1_sur')\n",
    "Map3.addLayer(QM_SAVI_T1_sur, vizParams, 'QM de SAVI T1_sur')\n",
    "Map3.addLayer(QM_NDGI_T1_sur, vis_nieve, 'QM de NDGI T1_sur')\n",
    "Map3.addLayer(QM_NDSI_T1_sur, vizParams, 'QM de NDSI T1_sur')\n",
    "Map3.addLayer((Tier1_sn_sur).median(), vizParams, 'Mediana de mosaico T1_sur')\n",
    "Map3 "
   ]
  },
  {
   "cell_type": "markdown",
   "id": "dd05e9e8",
   "metadata": {},
   "source": [
    "## Generación de Mosaico QM"
   ]
  },
  {
   "cell_type": "code",
   "execution_count": null,
   "id": "9b229098",
   "metadata": {
    "ExecuteTime": {
     "end_time": "2022-02-14T17:11:40.820747Z",
     "start_time": "2022-02-14T17:11:40.820740Z"
    }
   },
   "outputs": [],
   "source": [
    "NDVI_2021_landsat = cloudest.set('SENSOR_ID', 'OLI_TIRS')"
   ]
  },
  {
   "cell_type": "code",
   "execution_count": null,
   "id": "a98110ba",
   "metadata": {
    "ExecuteTime": {
     "end_time": "2022-02-14T17:11:40.821607Z",
     "start_time": "2022-02-14T17:11:40.821598Z"
    }
   },
   "outputs": [],
   "source": [
    "cloud_2021 = ee.Algorithms.Landsat.simpleCloudScore(NDVI_2021_landsat)"
   ]
  },
  {
   "cell_type": "code",
   "execution_count": null,
   "id": "745b712d",
   "metadata": {
    "ExecuteTime": {
     "end_time": "2022-02-14T17:11:40.822180Z",
     "start_time": "2022-02-14T17:11:40.822174Z"
    }
   },
   "outputs": [],
   "source": [
    "cloud_2021 = cloud_2021.select('cloud')"
   ]
  },
  {
   "cell_type": "code",
   "execution_count": null,
   "id": "3351dfe9",
   "metadata": {
    "ExecuteTime": {
     "end_time": "2022-02-14T17:11:40.822757Z",
     "start_time": "2022-02-14T17:11:40.822748Z"
    }
   },
   "outputs": [],
   "source": [
    "palette_nubes = ['#1a9850', '#d73027']"
   ]
  },
  {
   "cell_type": "code",
   "execution_count": null,
   "id": "aa1c77e2",
   "metadata": {
    "ExecuteTime": {
     "end_time": "2022-02-14T17:11:40.823297Z",
     "start_time": "2022-02-14T17:11:40.823290Z"
    }
   },
   "outputs": [],
   "source": [
    "resultados= [cloud_2021, cloudest]\n",
    "vis_params2=  [\n",
    "    {'palette':palette_nubes}, \n",
    "    vizParams]\n",
    "labels = [\n",
    "    'Nubes 2021',\n",
    "    'QM NDVI 2021']"
   ]
  },
  {
   "cell_type": "code",
   "execution_count": null,
   "id": "28e91129",
   "metadata": {
    "ExecuteTime": {
     "end_time": "2022-02-14T17:11:40.824157Z",
     "start_time": "2022-02-14T17:11:40.824145Z"
    }
   },
   "outputs": [],
   "source": [
    "geemap.linked_maps(rows=1, cols=2, height=\"400px\", center=[-45, -75], zoom=4, \n",
    "                   ee_objects=resultados, vis_params=vis_params2, labels=labels, label_position=\"topright\")"
   ]
  },
  {
   "cell_type": "code",
   "execution_count": null,
   "id": "21067811",
   "metadata": {
    "ExecuteTime": {
     "end_time": "2022-02-14T17:11:40.824706Z",
     "start_time": "2022-02-14T17:11:40.824692Z"
    }
   },
   "outputs": [],
   "source": [
    "QM_NDVI_T1.bandNames().getInfo()"
   ]
  },
  {
   "cell_type": "code",
   "execution_count": null,
   "id": "93ea56bf",
   "metadata": {
    "ExecuteTime": {
     "end_time": "2022-02-14T17:11:40.825339Z",
     "start_time": "2022-02-14T17:11:40.825331Z"
    }
   },
   "outputs": [],
   "source": [
    "def llenado(image):\n",
    "    return image.where(cloud_2021.gt(10),QM_NDVI_T1)"
   ]
  },
  {
   "cell_type": "code",
   "execution_count": null,
   "id": "8287934f",
   "metadata": {
    "ExecuteTime": {
     "end_time": "2022-02-14T17:11:40.825952Z",
     "start_time": "2022-02-14T17:11:40.825942Z"
    }
   },
   "outputs": [],
   "source": [
    "img1 = llenado(cloudest)"
   ]
  },
  {
   "cell_type": "code",
   "execution_count": null,
   "id": "0ea4ebed",
   "metadata": {
    "ExecuteTime": {
     "end_time": "2022-02-14T17:11:40.826504Z",
     "start_time": "2022-02-14T17:11:40.826495Z"
    }
   },
   "outputs": [],
   "source": [
    "img1_landsat = img1.set('SENSOR_ID', 'OLI_TIRS')\n",
    "cloud_img1 = ee.Algorithms.Landsat.simpleCloudScore(img1_landsat)\n",
    "cloud_img1 = cloud_img1.select('cloud')"
   ]
  },
  {
   "cell_type": "code",
   "execution_count": null,
   "id": "84dbb2d4",
   "metadata": {
    "ExecuteTime": {
     "end_time": "2022-02-14T17:11:40.827061Z",
     "start_time": "2022-02-14T17:11:40.827052Z"
    }
   },
   "outputs": [],
   "source": [
    "resultados= [cloud_img1, img1]\n",
    "vis_params2=  [\n",
    "    {'palette':palette_nubes}, \n",
    "    vizParams]\n",
    "labels = [\n",
    "    'Nubes Mosaico 1',\n",
    "    'Mosaico 1']"
   ]
  },
  {
   "cell_type": "code",
   "execution_count": null,
   "id": "f3c2a996",
   "metadata": {
    "ExecuteTime": {
     "end_time": "2022-02-14T17:11:40.827641Z",
     "start_time": "2022-02-14T17:11:40.827633Z"
    }
   },
   "outputs": [],
   "source": [
    "geemap.linked_maps(rows=1, cols=2, height=\"400px\", center=[-45, -75], zoom=4, \n",
    "                   ee_objects=resultados, vis_params=vis_params2, labels=labels, label_position=\"topright\")"
   ]
  },
  {
   "cell_type": "code",
   "execution_count": null,
   "id": "9a243ac4",
   "metadata": {
    "ExecuteTime": {
     "end_time": "2022-02-14T17:11:40.828182Z",
     "start_time": "2022-02-14T17:11:40.828173Z"
    }
   },
   "outputs": [],
   "source": [
    "def llenado2(image):\n",
    "    return image.where(cloud_img1.gt(10), QM_NDVI_T2)"
   ]
  },
  {
   "cell_type": "code",
   "execution_count": null,
   "id": "ada6d94e",
   "metadata": {
    "ExecuteTime": {
     "end_time": "2022-02-14T17:11:40.828772Z",
     "start_time": "2022-02-14T17:11:40.828765Z"
    }
   },
   "outputs": [],
   "source": [
    "img2 = llenado2(img1)"
   ]
  },
  {
   "cell_type": "code",
   "execution_count": null,
   "id": "e3db0a52",
   "metadata": {
    "ExecuteTime": {
     "end_time": "2022-02-14T17:11:40.829336Z",
     "start_time": "2022-02-14T17:11:40.829326Z"
    }
   },
   "outputs": [],
   "source": [
    "img2_landsat = img2.set('SENSOR_ID', 'OLI_TIRS')\n",
    "cloud_img2 = ee.Algorithms.Landsat.simpleCloudScore(img2_landsat)\n",
    "cloud_img2 = cloud_img2.select('cloud')"
   ]
  },
  {
   "cell_type": "code",
   "execution_count": null,
   "id": "42d22742",
   "metadata": {
    "ExecuteTime": {
     "end_time": "2022-02-14T17:11:40.830045Z",
     "start_time": "2022-02-14T17:11:40.830037Z"
    }
   },
   "outputs": [],
   "source": [
    "resultados= [cloud_img2, img2_landsat]\n",
    "vis_params2=  [\n",
    "    {'palette':palette_nubes}, \n",
    "    vizParams]\n",
    "labels = [\n",
    "    'Nubes Mosaico 2',\n",
    "    'Mosaico 2']"
   ]
  },
  {
   "cell_type": "code",
   "execution_count": null,
   "id": "5bdcab8c",
   "metadata": {
    "ExecuteTime": {
     "end_time": "2022-02-14T17:11:40.830621Z",
     "start_time": "2022-02-14T17:11:40.830613Z"
    }
   },
   "outputs": [],
   "source": [
    "geemap.linked_maps(rows=1, cols=2, height=\"400px\", center=[-45, -75], zoom=4, \n",
    "                   ee_objects=resultados, vis_params=vis_params2, labels=labels, label_position=\"topright\")"
   ]
  },
  {
   "cell_type": "code",
   "execution_count": null,
   "id": "ca5f91e2",
   "metadata": {
    "ExecuteTime": {
     "end_time": "2022-02-14T17:11:40.831175Z",
     "start_time": "2022-02-14T17:11:40.831167Z"
    }
   },
   "outputs": [],
   "source": [
    "def llenado3(image):\n",
    "    return image.where(cloud_img2.gt(10), QM_NDVI_T3)"
   ]
  },
  {
   "cell_type": "code",
   "execution_count": null,
   "id": "f52fddee",
   "metadata": {
    "ExecuteTime": {
     "end_time": "2022-02-14T17:11:40.831734Z",
     "start_time": "2022-02-14T17:11:40.831727Z"
    }
   },
   "outputs": [],
   "source": [
    "img3 = llenado3(img2)"
   ]
  },
  {
   "cell_type": "code",
   "execution_count": null,
   "id": "6d41d9d0",
   "metadata": {
    "ExecuteTime": {
     "end_time": "2022-02-14T17:11:40.832401Z",
     "start_time": "2022-02-14T17:11:40.832391Z"
    }
   },
   "outputs": [],
   "source": [
    "img3_landsat = img3.set('SENSOR_ID', 'OLI_TIRS')\n",
    "cloud_img3 = ee.Algorithms.Landsat.simpleCloudScore(img3_landsat)\n",
    "cloud_img3 = cloud_img3.select('cloud')"
   ]
  },
  {
   "cell_type": "code",
   "execution_count": null,
   "id": "3a000d62",
   "metadata": {
    "ExecuteTime": {
     "end_time": "2022-02-14T17:11:40.833027Z",
     "start_time": "2022-02-14T17:11:40.833020Z"
    }
   },
   "outputs": [],
   "source": [
    "resultados= [cloud_img3, img3_landsat]\n",
    "vis_params2=  [\n",
    "    {'palette':palette_nubes}, \n",
    "    vizParams]\n",
    "labels = [\n",
    "    'Nubes Mosaico 3',\n",
    "    'Mosaico 3']"
   ]
  },
  {
   "cell_type": "code",
   "execution_count": null,
   "id": "bf275ed6",
   "metadata": {
    "ExecuteTime": {
     "end_time": "2022-02-14T17:11:40.833758Z",
     "start_time": "2022-02-14T17:11:40.833747Z"
    }
   },
   "outputs": [],
   "source": [
    "geemap.linked_maps(rows=1, cols=2, height=\"400px\", center=[-45, -75], zoom=4, \n",
    "                   ee_objects=resultados, vis_params=vis_params2, labels=labels, label_position=\"topright\")"
   ]
  },
  {
   "cell_type": "code",
   "execution_count": null,
   "id": "9d0daae9",
   "metadata": {
    "ExecuteTime": {
     "end_time": "2022-02-14T17:11:40.834363Z",
     "start_time": "2022-02-14T17:11:40.834356Z"
    }
   },
   "outputs": [],
   "source": [
    "def llenado4(image):\n",
    "    return image.where(cloud_img3.gt(10), QM_NDVI_T4)"
   ]
  },
  {
   "cell_type": "code",
   "execution_count": null,
   "id": "d37f16d5",
   "metadata": {
    "ExecuteTime": {
     "end_time": "2022-02-14T17:11:40.835058Z",
     "start_time": "2022-02-14T17:11:40.835051Z"
    }
   },
   "outputs": [],
   "source": [
    "img4 = llenado4(img3)"
   ]
  },
  {
   "cell_type": "code",
   "execution_count": null,
   "id": "540d60d8",
   "metadata": {
    "ExecuteTime": {
     "end_time": "2022-02-14T17:11:40.835796Z",
     "start_time": "2022-02-14T17:11:40.835787Z"
    }
   },
   "outputs": [],
   "source": [
    "img4_landsat = img4.set('SENSOR_ID', 'OLI_TIRS')\n",
    "cloud_img4 = ee.Algorithms.Landsat.simpleCloudScore(img4_landsat)\n",
    "cloud_img4 = cloud_img4.select('cloud')"
   ]
  },
  {
   "cell_type": "code",
   "execution_count": null,
   "id": "3f0e9719",
   "metadata": {
    "ExecuteTime": {
     "end_time": "2022-02-14T17:11:40.836347Z",
     "start_time": "2022-02-14T17:11:40.836339Z"
    }
   },
   "outputs": [],
   "source": [
    "resultados= [cloud_img4, img4_landsat]\n",
    "vis_params2=  [\n",
    "    {'palette':palette_nubes}, \n",
    "    vizParams]\n",
    "labels = [\n",
    "    'Nubes Mosaico 4',\n",
    "    'Mosaico 4']"
   ]
  },
  {
   "cell_type": "code",
   "execution_count": null,
   "id": "41d9a7b8",
   "metadata": {
    "ExecuteTime": {
     "end_time": "2022-02-14T17:11:40.836903Z",
     "start_time": "2022-02-14T17:11:40.836894Z"
    }
   },
   "outputs": [],
   "source": [
    "geemap.linked_maps(rows=1, cols=2, height=\"400px\", center=[-45, -75], zoom=4, \n",
    "                   ee_objects=resultados, vis_params=vis_params2, labels=labels, label_position=\"topright\")"
   ]
  },
  {
   "cell_type": "code",
   "execution_count": null,
   "id": "0cccc52b",
   "metadata": {
    "ExecuteTime": {
     "end_time": "2022-02-14T17:11:40.837466Z",
     "start_time": "2022-02-14T17:11:40.837458Z"
    }
   },
   "outputs": [],
   "source": [
    "hansenImage = ee.Image('UMD/hansen/global_forest_change_2015')\n",
    "datamask = hansenImage.select('datamask')"
   ]
  },
  {
   "cell_type": "code",
   "execution_count": null,
   "id": "2e6b728e",
   "metadata": {
    "ExecuteTime": {
     "end_time": "2022-02-14T17:11:40.838087Z",
     "start_time": "2022-02-14T17:11:40.838077Z"
    }
   },
   "outputs": [],
   "source": [
    "def llenado5(image):\n",
    "    return image.where(datamask.eq(2), QM_NDWI_T1)"
   ]
  },
  {
   "cell_type": "code",
   "execution_count": null,
   "id": "eeac700c",
   "metadata": {
    "ExecuteTime": {
     "end_time": "2022-02-14T17:11:40.838570Z",
     "start_time": "2022-02-14T17:11:40.838563Z"
    }
   },
   "outputs": [],
   "source": [
    "img5 = llenado5(img4)"
   ]
  },
  {
   "cell_type": "code",
   "execution_count": null,
   "id": "82202db6",
   "metadata": {
    "ExecuteTime": {
     "end_time": "2022-02-14T17:11:40.839425Z",
     "start_time": "2022-02-14T17:11:40.839412Z"
    }
   },
   "outputs": [],
   "source": [
    "img5_landsat = img5.set('SENSOR_ID', 'OLI_TIRS')"
   ]
  },
  {
   "cell_type": "code",
   "execution_count": null,
   "id": "823a7e18",
   "metadata": {
    "ExecuteTime": {
     "end_time": "2022-02-14T17:11:40.839921Z",
     "start_time": "2022-02-14T17:11:40.839912Z"
    }
   },
   "outputs": [],
   "source": [
    "resultados= [img4, img5]\n",
    "labels = [\n",
    "    'Mosaico 4',\n",
    "    'Mosaico 5']\n",
    "vis_params3=  [\n",
    "     vizParams, \n",
    "    vizParams]"
   ]
  },
  {
   "cell_type": "code",
   "execution_count": null,
   "id": "87c07712",
   "metadata": {
    "ExecuteTime": {
     "end_time": "2022-02-14T17:11:40.840546Z",
     "start_time": "2022-02-14T17:11:40.840537Z"
    }
   },
   "outputs": [],
   "source": [
    "geemap.linked_maps(rows=1, cols=2, height=\"400px\", center=[-45, -75], zoom=4, \n",
    "                   ee_objects=resultados, vis_params=vis_params3, labels=labels, label_position=\"topright\")"
   ]
  },
  {
   "cell_type": "code",
   "execution_count": null,
   "id": "c76fddbf",
   "metadata": {
    "ExecuteTime": {
     "end_time": "2022-02-14T17:11:40.841116Z",
     "start_time": "2022-02-14T17:11:40.841107Z"
    }
   },
   "outputs": [],
   "source": [
    "img4.bandNames().getInfo()"
   ]
  },
  {
   "cell_type": "code",
   "execution_count": null,
   "id": "03e0049e",
   "metadata": {
    "ExecuteTime": {
     "end_time": "2022-02-14T17:11:40.841781Z",
     "start_time": "2022-02-14T17:11:40.841773Z"
    }
   },
   "outputs": [],
   "source": [
    "img5.bandNames().getInfo()"
   ]
  },
  {
   "cell_type": "code",
   "execution_count": null,
   "id": "20454023",
   "metadata": {
    "ExecuteTime": {
     "end_time": "2022-02-14T17:11:40.842259Z",
     "start_time": "2022-02-14T17:11:40.842251Z"
    }
   },
   "outputs": [],
   "source": [
    "Map10.addLayer(img4, vizParams, 'Mosaico 4')\n",
    "Map10.addLayer(img5, vizParams, 'Mosaico 5')\n",
    "Map10"
   ]
  },
  {
   "cell_type": "markdown",
   "id": "18c237e5",
   "metadata": {},
   "source": [
    "### Resultado Final"
   ]
  },
  {
   "cell_type": "code",
   "execution_count": null,
   "id": "3e85d062",
   "metadata": {
    "ExecuteTime": {
     "end_time": "2022-02-14T17:11:40.842874Z",
     "start_time": "2022-02-14T17:11:40.842865Z"
    }
   },
   "outputs": [],
   "source": [
    "img5_b = img5.select(['B1','B2','B3','B4','B5','B6','B7'])\n",
    "Map10.addLayer(img5_b, vizParams, 'Mosaico 7bandas')\n",
    "Map10"
   ]
  },
  {
   "cell_type": "markdown",
   "id": "d46a3463",
   "metadata": {},
   "source": [
    "#### Fechas Mosaico"
   ]
  },
  {
   "cell_type": "code",
   "execution_count": null,
   "id": "67a2e0e2",
   "metadata": {
    "ExecuteTime": {
     "end_time": "2022-02-14T17:11:40.843450Z",
     "start_time": "2022-02-14T17:11:40.843442Z"
    }
   },
   "outputs": [],
   "source": [
    "property = 'date'"
   ]
  },
  {
   "cell_type": "code",
   "execution_count": null,
   "id": "9fff05cd",
   "metadata": {
    "ExecuteTime": {
     "end_time": "2022-02-14T17:11:40.843995Z",
     "start_time": "2022-02-14T17:11:40.843985Z"
    }
   },
   "outputs": [],
   "source": [
    "options = {\"title\": 'Fechas mosaico QM',\n",
    "          \"xlabel\": 'date',\n",
    "          \"ylabel\": 'Pixel count',\n",
    "          \"colors\": ['#1d6b99']\n",
    "          }"
   ]
  },
  {
   "cell_type": "code",
   "execution_count": null,
   "id": "37a5b7be",
   "metadata": {
    "ExecuteTime": {
     "end_time": "2022-02-14T17:11:40.844614Z",
     "start_time": "2022-02-14T17:11:40.844605Z"
    }
   },
   "outputs": [],
   "source": [
    "muestra = (img5.select('date')).sample(**{\n",
    "    'region': geometry_exp,\n",
    "    'scale': 30,\n",
    "    'numPixels':500,\n",
    "    'tileScale': 4,\n",
    "})"
   ]
  },
  {
   "cell_type": "code",
   "execution_count": null,
   "id": "0ad9a685",
   "metadata": {
    "ExecuteTime": {
     "end_time": "2022-02-14T17:11:40.845185Z",
     "start_time": "2022-02-14T17:11:40.845176Z"
    },
    "scrolled": false
   },
   "outputs": [],
   "source": [
    "chart.feature_histogram(muestra, property, **options)"
   ]
  },
  {
   "cell_type": "code",
   "execution_count": null,
   "id": "e05c20e0",
   "metadata": {
    "ExecuteTime": {
     "end_time": "2022-02-14T17:11:40.845815Z",
     "start_time": "2022-02-14T17:11:40.845805Z"
    }
   },
   "outputs": [],
   "source": [
    "# out_dir = r\"C:\\Users\\USUARIO\\Downloads\""
   ]
  },
  {
   "cell_type": "code",
   "execution_count": null,
   "id": "2c94d245",
   "metadata": {
    "ExecuteTime": {
     "end_time": "2022-02-14T17:11:40.846544Z",
     "start_time": "2022-02-14T17:11:40.846536Z"
    }
   },
   "outputs": [],
   "source": [
    "# out_mosaic_stats= os.path.join(out_dir,'\\fechas_mosaico.csv')\n",
    "# geemap.zonal_statistics(img5,patagonia_grande, out_mosaic_stats, scale= 5000)"
   ]
  },
  {
   "cell_type": "markdown",
   "id": "7267523f",
   "metadata": {},
   "source": [
    "### Tasseled cap"
   ]
  },
  {
   "cell_type": "code",
   "execution_count": null,
   "id": "427e0fc3",
   "metadata": {
    "ExecuteTime": {
     "end_time": "2022-02-14T17:11:40.847481Z",
     "start_time": "2022-02-14T17:11:40.847473Z"
    }
   },
   "outputs": [],
   "source": [
    "coef = ee.Array([\n",
    "    [0.3029, 0.2786, 0.4733, 0.5599, 0.508, 0.1872], \n",
    "    [-0.2941, -0.243, -0.5424, 0.7276, 0.0713, -0.1608],\n",
    "    [0.1511, 0.1973, 0.3283, 0.3407, -0.7117, -0.4559],\n",
    "    [-0.8239, 0.0849, 0.4396, -0.058, 0.2013, -0.2773],\n",
    "    [-0.3294, 0.0557, 0.1056, 0.1855, -0.4349, 0.8085],\n",
    "    [0.1079, -0.9023, 0.4119, 0.0575, -0.0259, 0.0252]\n",
    "])"
   ]
  },
  {
   "cell_type": "code",
   "execution_count": null,
   "id": "7ab0a347",
   "metadata": {
    "ExecuteTime": {
     "end_time": "2022-02-14T17:11:40.848248Z",
     "start_time": "2022-02-14T17:11:40.848239Z"
    }
   },
   "outputs": [],
   "source": [
    "tasse_img5 = img5.select(['B2', 'B3', 'B4', 'B5', 'B6', 'B7'])"
   ]
  },
  {
   "cell_type": "code",
   "execution_count": null,
   "id": "9e34972d",
   "metadata": {
    "ExecuteTime": {
     "end_time": "2022-02-14T17:11:40.848744Z",
     "start_time": "2022-02-14T17:11:40.848737Z"
    }
   },
   "outputs": [],
   "source": [
    "arrayimage1d = tasse_img5.toArray()"
   ]
  },
  {
   "cell_type": "code",
   "execution_count": null,
   "id": "3c3e3a70",
   "metadata": {
    "ExecuteTime": {
     "end_time": "2022-02-14T17:11:40.849456Z",
     "start_time": "2022-02-14T17:11:40.849447Z"
    }
   },
   "outputs": [],
   "source": [
    "arrayimage2d = arrayimage1d.toArray(1)"
   ]
  },
  {
   "cell_type": "code",
   "execution_count": null,
   "id": "0ae9ab01",
   "metadata": {
    "ExecuteTime": {
     "end_time": "2022-02-14T17:11:40.850167Z",
     "start_time": "2022-02-14T17:11:40.850158Z"
    }
   },
   "outputs": [],
   "source": [
    "componentes = ee.Image(coef)\\\n",
    "                .matrixMultiply(arrayimage2d) \\\n",
    "                .arrayProject([0])\\\n",
    "                .arrayFlatten(\n",
    "                [['brightness','greenness','wetness','fourth','fifth','sixth']])"
   ]
  },
  {
   "cell_type": "code",
   "execution_count": null,
   "id": "b058be26",
   "metadata": {
    "ExecuteTime": {
     "end_time": "2022-02-14T17:11:40.850852Z",
     "start_time": "2022-02-14T17:11:40.850839Z"
    }
   },
   "outputs": [],
   "source": [
    "vizParamstess = {\n",
    "  'bands': ['brightness', 'greenness', 'wetness'],\n",
    "    'min': -0.1,\n",
    "    'max': [0.6, 0.2, 0.2]\n",
    "}\n"
   ]
  },
  {
   "cell_type": "code",
   "execution_count": null,
   "id": "9dc2abf8",
   "metadata": {
    "ExecuteTime": {
     "end_time": "2022-02-14T17:11:40.851485Z",
     "start_time": "2022-02-14T17:11:40.851474Z"
    }
   },
   "outputs": [],
   "source": [
    "Map10.addLayer(componentes,vizParamstess, 'Tesseled cap')\n",
    "Map10"
   ]
  },
  {
   "cell_type": "markdown",
   "id": "c36bd436",
   "metadata": {},
   "source": [
    "### Combinación de bandas"
   ]
  },
  {
   "cell_type": "code",
   "execution_count": null,
   "id": "9e796ad0",
   "metadata": {
    "ExecuteTime": {
     "end_time": "2022-02-14T17:11:40.852225Z",
     "start_time": "2022-02-14T17:11:40.852217Z"
    }
   },
   "outputs": [],
   "source": [
    "img_final = img5.select('B1','B2','B3','B4','B5','B6','B7','NDVI','NDWI','NDGI','SAVI','NDSI','NDBI','EVI')\n",
    "img_final = img_final.addBands(componentes) "
   ]
  },
  {
   "cell_type": "code",
   "execution_count": null,
   "id": "1946e239",
   "metadata": {
    "ExecuteTime": {
     "end_time": "2022-02-14T17:11:40.852737Z",
     "start_time": "2022-02-14T17:11:40.852727Z"
    }
   },
   "outputs": [],
   "source": [
    "img_final.bandNames().getInfo()"
   ]
  },
  {
   "cell_type": "markdown",
   "id": "2d8c3490",
   "metadata": {},
   "source": [
    "## Generación de Mosaico Mediana "
   ]
  },
  {
   "cell_type": "code",
   "execution_count": null,
   "id": "daedb11a",
   "metadata": {
    "ExecuteTime": {
     "end_time": "2022-02-14T17:11:40.853318Z",
     "start_time": "2022-02-14T17:11:40.853309Z"
    }
   },
   "outputs": [],
   "source": [
    "NDVI_2021_landsat = cloudest.set('SENSOR_ID', 'OLI_TIRS')"
   ]
  },
  {
   "cell_type": "code",
   "execution_count": null,
   "id": "27ac7247",
   "metadata": {
    "ExecuteTime": {
     "end_time": "2022-02-14T17:11:40.853896Z",
     "start_time": "2022-02-14T17:11:40.853889Z"
    }
   },
   "outputs": [],
   "source": [
    "cloud_2021 = ee.Algorithms.Landsat.simpleCloudScore(NDVI_2021_landsat)"
   ]
  },
  {
   "cell_type": "code",
   "execution_count": null,
   "id": "5dc81c5b",
   "metadata": {
    "ExecuteTime": {
     "end_time": "2022-02-14T17:11:40.854432Z",
     "start_time": "2022-02-14T17:11:40.854425Z"
    }
   },
   "outputs": [],
   "source": [
    "cloud_2021 = cloud_2021.select('cloud')"
   ]
  },
  {
   "cell_type": "code",
   "execution_count": null,
   "id": "ff9b8a7d",
   "metadata": {
    "ExecuteTime": {
     "end_time": "2022-02-14T17:11:40.855062Z",
     "start_time": "2022-02-14T17:11:40.855055Z"
    }
   },
   "outputs": [],
   "source": [
    "palette_nubes = ['#1a9850', '#d73027']"
   ]
  },
  {
   "cell_type": "code",
   "execution_count": null,
   "id": "b0297af0",
   "metadata": {
    "ExecuteTime": {
     "end_time": "2022-02-14T17:11:40.855620Z",
     "start_time": "2022-02-14T17:11:40.855612Z"
    }
   },
   "outputs": [],
   "source": [
    "resultados= [cloud_2021, cloudest]\n",
    "vis_params2=  [\n",
    "    {'palette':palette_nubes}, \n",
    "    vizParams]\n",
    "labels = [\n",
    "    'Nubes 2021',\n",
    "    'QM NDVI 2021']"
   ]
  },
  {
   "cell_type": "code",
   "execution_count": null,
   "id": "59624c53",
   "metadata": {
    "ExecuteTime": {
     "end_time": "2022-02-14T17:11:40.856208Z",
     "start_time": "2022-02-14T17:11:40.856201Z"
    }
   },
   "outputs": [],
   "source": [
    "geemap.linked_maps(rows=1, cols=2, height=\"400px\", center=[-45, -75], zoom=4, \n",
    "                   ee_objects=resultados, vis_params=vis_params2, labels=labels, label_position=\"topright\")"
   ]
  },
  {
   "cell_type": "code",
   "execution_count": null,
   "id": "10d867ca",
   "metadata": {
    "ExecuteTime": {
     "end_time": "2022-02-14T17:11:40.856848Z",
     "start_time": "2022-02-14T17:11:40.856839Z"
    }
   },
   "outputs": [],
   "source": [
    "Tier1_sn.median().bandNames().getInfo()"
   ]
  },
  {
   "cell_type": "code",
   "execution_count": null,
   "id": "f344f905",
   "metadata": {
    "ExecuteTime": {
     "end_time": "2022-02-14T17:11:40.857398Z",
     "start_time": "2022-02-14T17:11:40.857391Z"
    }
   },
   "outputs": [],
   "source": [
    "def llenado(image):\n",
    "    return image.where(cloud_2021.gt(10),Tier1_sn.median())"
   ]
  },
  {
   "cell_type": "code",
   "execution_count": null,
   "id": "f6465699",
   "metadata": {
    "ExecuteTime": {
     "end_time": "2022-02-14T17:11:40.858207Z",
     "start_time": "2022-02-14T17:11:40.858198Z"
    }
   },
   "outputs": [],
   "source": [
    "img1m = llenado(cloudest)"
   ]
  },
  {
   "cell_type": "code",
   "execution_count": null,
   "id": "4fecf00d",
   "metadata": {
    "ExecuteTime": {
     "end_time": "2022-02-14T17:11:40.858749Z",
     "start_time": "2022-02-14T17:11:40.858739Z"
    }
   },
   "outputs": [],
   "source": [
    "img1m_landsat = img1m.set('SENSOR_ID', 'OLI_TIRS')\n",
    "cloud_img1 = ee.Algorithms.Landsat.simpleCloudScore(img1m_landsat)\n",
    "cloud_img1 = cloud_img1.select('cloud')"
   ]
  },
  {
   "cell_type": "code",
   "execution_count": null,
   "id": "cbf75071",
   "metadata": {
    "ExecuteTime": {
     "end_time": "2022-02-14T17:11:40.859350Z",
     "start_time": "2022-02-14T17:11:40.859341Z"
    }
   },
   "outputs": [],
   "source": [
    "resultados= [cloud_img1, img1m]\n",
    "vis_params2=  [\n",
    "    {'palette':palette_nubes}, \n",
    "    vizParams]\n",
    "labels = [\n",
    "    'Nubes Mosaico 1',\n",
    "    'Mosaico 1']"
   ]
  },
  {
   "cell_type": "code",
   "execution_count": null,
   "id": "bcab44d4",
   "metadata": {
    "ExecuteTime": {
     "end_time": "2022-02-14T17:11:40.859859Z",
     "start_time": "2022-02-14T17:11:40.859852Z"
    }
   },
   "outputs": [],
   "source": [
    "geemap.linked_maps(rows=1, cols=2, height=\"400px\", center=[-45, -75], zoom=4, \n",
    "                   ee_objects=resultados, vis_params=vis_params2, labels=labels, label_position=\"topright\")"
   ]
  },
  {
   "cell_type": "code",
   "execution_count": null,
   "id": "d90fb4fd",
   "metadata": {
    "ExecuteTime": {
     "end_time": "2022-02-14T17:11:40.860485Z",
     "start_time": "2022-02-14T17:11:40.860477Z"
    }
   },
   "outputs": [],
   "source": [
    "def llenado2(image):\n",
    "    return image.where(cloud_img1.gt(10), Tier2_sn.median())"
   ]
  },
  {
   "cell_type": "code",
   "execution_count": null,
   "id": "524814b0",
   "metadata": {
    "ExecuteTime": {
     "end_time": "2022-02-14T17:11:40.861046Z",
     "start_time": "2022-02-14T17:11:40.861037Z"
    }
   },
   "outputs": [],
   "source": [
    "img2m = llenado2(img1m)"
   ]
  },
  {
   "cell_type": "code",
   "execution_count": null,
   "id": "a04c18a8",
   "metadata": {
    "ExecuteTime": {
     "end_time": "2022-02-14T17:11:40.861664Z",
     "start_time": "2022-02-14T17:11:40.861654Z"
    }
   },
   "outputs": [],
   "source": [
    "img2m_landsat = img2.set('SENSOR_ID', 'OLI_TIRS')\n",
    "cloud_img2 = ee.Algorithms.Landsat.simpleCloudScore(img2m_landsat)\n",
    "cloud_img2 = cloud_img2.select('cloud')"
   ]
  },
  {
   "cell_type": "code",
   "execution_count": null,
   "id": "b6e99cd7",
   "metadata": {
    "ExecuteTime": {
     "end_time": "2022-02-14T17:11:40.862342Z",
     "start_time": "2022-02-14T17:11:40.862333Z"
    }
   },
   "outputs": [],
   "source": [
    "resultados= [cloud_img2, img2m]\n",
    "vis_params2=  [\n",
    "    {'palette':palette_nubes}, \n",
    "    vizParams]\n",
    "labels = [\n",
    "    'Nubes Mosaico 2',\n",
    "    'Mosaico 2']"
   ]
  },
  {
   "cell_type": "code",
   "execution_count": null,
   "id": "472ab70a",
   "metadata": {
    "ExecuteTime": {
     "end_time": "2022-02-14T17:11:40.862846Z",
     "start_time": "2022-02-14T17:11:40.862839Z"
    }
   },
   "outputs": [],
   "source": [
    "def llenado3(image):\n",
    "    return image.where(cloud_img2.gt(10),Tier3_sn.median())"
   ]
  },
  {
   "cell_type": "code",
   "execution_count": null,
   "id": "e8d70266",
   "metadata": {
    "ExecuteTime": {
     "end_time": "2022-02-14T17:11:40.863523Z",
     "start_time": "2022-02-14T17:11:40.863513Z"
    }
   },
   "outputs": [],
   "source": [
    "img3m = llenado3(img2m)"
   ]
  },
  {
   "cell_type": "code",
   "execution_count": null,
   "id": "ed06e753",
   "metadata": {
    "ExecuteTime": {
     "end_time": "2022-02-14T17:11:40.864082Z",
     "start_time": "2022-02-14T17:11:40.864073Z"
    }
   },
   "outputs": [],
   "source": [
    "img3m_landsat = img3.set('SENSOR_ID', 'OLI_TIRS')\n",
    "cloud_img3 = ee.Algorithms.Landsat.simpleCloudScore(img3m_landsat)\n",
    "cloud_img3 = cloud_img3.select('cloud')"
   ]
  },
  {
   "cell_type": "code",
   "execution_count": null,
   "id": "e42124da",
   "metadata": {
    "ExecuteTime": {
     "end_time": "2022-02-14T17:11:40.864699Z",
     "start_time": "2022-02-14T17:11:40.864691Z"
    }
   },
   "outputs": [],
   "source": [
    "resultados= [cloud_img3, img3m]\n",
    "vis_params2=  [\n",
    "    {'palette':palette_nubes}, \n",
    "    vizParams]\n",
    "labels = [\n",
    "    'Nubes Mosaico 3',\n",
    "    'Mosaico 3']"
   ]
  },
  {
   "cell_type": "code",
   "execution_count": null,
   "id": "496d088f",
   "metadata": {
    "ExecuteTime": {
     "end_time": "2022-02-14T17:11:40.865255Z",
     "start_time": "2022-02-14T17:11:40.865249Z"
    }
   },
   "outputs": [],
   "source": [
    "def llenado4(image):\n",
    "    return image.where(cloud_img3.gt(10),Tier4_sn.median())"
   ]
  },
  {
   "cell_type": "code",
   "execution_count": null,
   "id": "c40d71ef",
   "metadata": {
    "ExecuteTime": {
     "end_time": "2022-02-14T17:11:40.865840Z",
     "start_time": "2022-02-14T17:11:40.865831Z"
    }
   },
   "outputs": [],
   "source": [
    "img4m = llenado4(img3m)"
   ]
  },
  {
   "cell_type": "code",
   "execution_count": null,
   "id": "f796f2ce",
   "metadata": {
    "ExecuteTime": {
     "end_time": "2022-02-14T17:11:40.866434Z",
     "start_time": "2022-02-14T17:11:40.866425Z"
    }
   },
   "outputs": [],
   "source": [
    "img4m_landsat = img4m.set('SENSOR_ID', 'OLI_TIRS')\n",
    "cloud_img4 = ee.Algorithms.Landsat.simpleCloudScore(img4m_landsat)\n",
    "cloud_img4 = cloud_img4.select('cloud')"
   ]
  },
  {
   "cell_type": "code",
   "execution_count": null,
   "id": "37d6a3a6",
   "metadata": {
    "ExecuteTime": {
     "end_time": "2022-02-14T17:11:40.867061Z",
     "start_time": "2022-02-14T17:11:40.867052Z"
    }
   },
   "outputs": [],
   "source": [
    "resultados= [cloud_img4, img4m]\n",
    "vis_params2=  [\n",
    "    {'palette':palette_nubes}, \n",
    "    vizParams]\n",
    "labels = [\n",
    "    'Nubes Mosaico 4',\n",
    "    'Mosaico 4']"
   ]
  },
  {
   "cell_type": "code",
   "execution_count": null,
   "id": "0903900c",
   "metadata": {
    "ExecuteTime": {
     "end_time": "2022-02-14T17:11:40.867639Z",
     "start_time": "2022-02-14T17:11:40.867631Z"
    }
   },
   "outputs": [],
   "source": [
    "hansenImage = ee.Image('UMD/hansen/global_forest_change_2015')\n",
    "datamask = hansenImage.select('datamask')"
   ]
  },
  {
   "cell_type": "code",
   "execution_count": null,
   "id": "34a62dc7",
   "metadata": {
    "ExecuteTime": {
     "end_time": "2022-02-14T17:11:40.868227Z",
     "start_time": "2022-02-14T17:11:40.868219Z"
    }
   },
   "outputs": [],
   "source": [
    "def llenado5(image):\n",
    "    return image.where(datamask.eq(2), Tier1_sn.median())"
   ]
  },
  {
   "cell_type": "code",
   "execution_count": null,
   "id": "52fe0c9d",
   "metadata": {
    "ExecuteTime": {
     "end_time": "2022-02-14T17:11:40.868797Z",
     "start_time": "2022-02-14T17:11:40.868790Z"
    }
   },
   "outputs": [],
   "source": [
    "img5m = llenado5(img4m)"
   ]
  },
  {
   "cell_type": "code",
   "execution_count": null,
   "id": "1dc41650",
   "metadata": {
    "ExecuteTime": {
     "end_time": "2022-02-14T17:11:40.869434Z",
     "start_time": "2022-02-14T17:11:40.869425Z"
    }
   },
   "outputs": [],
   "source": [
    "img5m_landsat = img5m.set('SENSOR_ID', 'OLI_TIRS')"
   ]
  },
  {
   "cell_type": "code",
   "execution_count": null,
   "id": "76e1793f",
   "metadata": {
    "ExecuteTime": {
     "end_time": "2022-02-14T17:11:40.870023Z",
     "start_time": "2022-02-14T17:11:40.870014Z"
    }
   },
   "outputs": [],
   "source": [
    "resultados= [img4m, img5m]\n",
    "labels = [\n",
    "    'Mosaico 4',\n",
    "    'Mosaico 5']\n",
    "vis_params3=  [\n",
    "     vizParams, \n",
    "    vizParams]"
   ]
  },
  {
   "cell_type": "code",
   "execution_count": null,
   "id": "622f958f",
   "metadata": {
    "ExecuteTime": {
     "end_time": "2022-02-14T17:11:40.870617Z",
     "start_time": "2022-02-14T17:11:40.870608Z"
    }
   },
   "outputs": [],
   "source": [
    "geemap.linked_maps(rows=1, cols=2, height=\"400px\", center=[-45, -75], zoom=4, \n",
    "                   ee_objects=resultados, vis_params=vis_params3, labels=labels, label_position=\"topright\")"
   ]
  },
  {
   "cell_type": "markdown",
   "id": "30564ae6",
   "metadata": {},
   "source": [
    "### Resultado"
   ]
  },
  {
   "cell_type": "code",
   "execution_count": null,
   "id": "78a80ba0",
   "metadata": {
    "ExecuteTime": {
     "end_time": "2022-02-14T17:11:40.871183Z",
     "start_time": "2022-02-14T17:11:40.871174Z"
    }
   },
   "outputs": [],
   "source": [
    "Map11.addLayer(img4m, vizParams, 'Mosaico 4')\n",
    "Map11.addLayer(img5m, vizParams, 'Mosaico 5')\n",
    "Map11"
   ]
  },
  {
   "cell_type": "markdown",
   "id": "32614c9a",
   "metadata": {},
   "source": [
    "#### Fechas Mosaico"
   ]
  },
  {
   "cell_type": "code",
   "execution_count": null,
   "id": "09c1607b",
   "metadata": {
    "ExecuteTime": {
     "end_time": "2022-02-14T17:11:40.871804Z",
     "start_time": "2022-02-14T17:11:40.871790Z"
    }
   },
   "outputs": [],
   "source": [
    "options = {\"title\": 'Fechas mosaico Med',\n",
    "          \"xlabel\": 'date',\n",
    "          \"ylabel\": 'Pixel count',\n",
    "          \"colors\": ['#1d6b99']\n",
    "          }"
   ]
  },
  {
   "cell_type": "code",
   "execution_count": null,
   "id": "81973b83",
   "metadata": {
    "ExecuteTime": {
     "end_time": "2022-02-14T17:11:40.872549Z",
     "start_time": "2022-02-14T17:11:40.872538Z"
    }
   },
   "outputs": [],
   "source": [
    "muestram = (img5m.select('date')).sample(**{\n",
    "    'region': geometry_exp,\n",
    "    'scale': 30,\n",
    "    'numPixels':500,\n",
    "    'tileScale': 2,\n",
    "})"
   ]
  },
  {
   "cell_type": "code",
   "execution_count": null,
   "id": "3767d2bf",
   "metadata": {
    "ExecuteTime": {
     "end_time": "2022-02-14T17:11:40.873196Z",
     "start_time": "2022-02-14T17:11:40.873187Z"
    }
   },
   "outputs": [],
   "source": [
    "chart.feature_histogram(muestram, property, **options)"
   ]
  },
  {
   "cell_type": "markdown",
   "id": "1aebd5eb",
   "metadata": {},
   "source": [
    "### Tasseled cap"
   ]
  },
  {
   "cell_type": "code",
   "execution_count": null,
   "id": "2e5af562",
   "metadata": {
    "ExecuteTime": {
     "end_time": "2022-02-14T17:11:40.873755Z",
     "start_time": "2022-02-14T17:11:40.873745Z"
    }
   },
   "outputs": [],
   "source": [
    "tasse_img5m = img5m.select(['B2', 'B3', 'B4', 'B5', 'B6', 'B7'])"
   ]
  },
  {
   "cell_type": "code",
   "execution_count": null,
   "id": "a8d152b7",
   "metadata": {
    "ExecuteTime": {
     "end_time": "2022-02-14T17:11:40.874264Z",
     "start_time": "2022-02-14T17:11:40.874255Z"
    }
   },
   "outputs": [],
   "source": [
    "arrayimage1dm = tasse_img5m.toArray()"
   ]
  },
  {
   "cell_type": "code",
   "execution_count": null,
   "id": "c15b3355",
   "metadata": {
    "ExecuteTime": {
     "end_time": "2022-02-14T17:11:40.874748Z",
     "start_time": "2022-02-14T17:11:40.874740Z"
    }
   },
   "outputs": [],
   "source": [
    "arrayimage2dm = arrayimage1dm.toArray(1)"
   ]
  },
  {
   "cell_type": "code",
   "execution_count": null,
   "id": "a0a5dcce",
   "metadata": {
    "ExecuteTime": {
     "end_time": "2022-02-14T17:11:40.875400Z",
     "start_time": "2022-02-14T17:11:40.875393Z"
    }
   },
   "outputs": [],
   "source": [
    "componentesm = ee.Image(coef)\\\n",
    "                .matrixMultiply(arrayimage2dm) \\\n",
    "                .arrayProject([0])\\\n",
    "                .arrayFlatten(\n",
    "                [['brightness','greenness','wetness','fourth','fifth','sixth']])"
   ]
  },
  {
   "cell_type": "code",
   "execution_count": null,
   "id": "15b3890e",
   "metadata": {
    "ExecuteTime": {
     "end_time": "2022-02-14T17:11:40.876079Z",
     "start_time": "2022-02-14T17:11:40.876070Z"
    }
   },
   "outputs": [],
   "source": [
    "Map11.addLayer(componentesm,vizParamstess, 'Tesseled cap')\n",
    "Map11"
   ]
  },
  {
   "cell_type": "markdown",
   "id": "b466df41",
   "metadata": {},
   "source": [
    "### Combinación de bandas"
   ]
  },
  {
   "cell_type": "code",
   "execution_count": null,
   "id": "2dd4089f",
   "metadata": {
    "ExecuteTime": {
     "end_time": "2022-02-14T17:11:40.876718Z",
     "start_time": "2022-02-14T17:11:40.876709Z"
    }
   },
   "outputs": [],
   "source": [
    "img_final_m = img5m.select('B1','B2','B3','B4','B5','B6','B7','NDVI','NDWI','NDGI','SAVI','NDSI','NDBI','EVI')\n",
    "img_final_m = img_final_m.addBands(componentesm) "
   ]
  },
  {
   "cell_type": "markdown",
   "id": "1e872319",
   "metadata": {},
   "source": [
    "## Clasificación"
   ]
  },
  {
   "cell_type": "code",
   "execution_count": null,
   "id": "8093616d",
   "metadata": {
    "ExecuteTime": {
     "end_time": "2022-02-14T17:11:40.877303Z",
     "start_time": "2022-02-14T17:11:40.877295Z"
    }
   },
   "outputs": [],
   "source": [
    "test1 = os.path.join(work_dir,'roi_2.shp')\n",
    "test1 = geemap.shp_to_ee(test1)\n",
    "Map13.addLayer(test1, {}, 'Áreas de entrenamiento')"
   ]
  },
  {
   "cell_type": "code",
   "execution_count": null,
   "id": "c266e87a",
   "metadata": {
    "ExecuteTime": {
     "end_time": "2022-02-14T17:11:40.877852Z",
     "start_time": "2022-02-14T17:11:40.877844Z"
    }
   },
   "outputs": [],
   "source": [
    "Map13"
   ]
  },
  {
   "cell_type": "code",
   "execution_count": null,
   "id": "613b1401",
   "metadata": {
    "ExecuteTime": {
     "end_time": "2022-02-14T17:11:40.878396Z",
     "start_time": "2022-02-14T17:11:40.878387Z"
    }
   },
   "outputs": [],
   "source": [
    "data_QM = img_final.sampleRegions(**{\n",
    "    'collection': test1,\n",
    "    'properties': ['C_ID'],\n",
    "    'scale': 30,\n",
    "    'tileScale': 2,\n",
    "})"
   ]
  },
  {
   "cell_type": "code",
   "execution_count": null,
   "id": "35ec1522",
   "metadata": {
    "ExecuteTime": {
     "end_time": "2022-02-14T17:11:40.879013Z",
     "start_time": "2022-02-14T17:11:40.879005Z"
    }
   },
   "outputs": [],
   "source": [
    "data_Med = img_final_m.sampleRegions(**{\n",
    "    'collection': test1,\n",
    "    'properties': ['C_ID'],\n",
    "    'scale': 30,\n",
    "    'tileScale': 2,\n",
    "})"
   ]
  },
  {
   "cell_type": "code",
   "execution_count": null,
   "id": "0be21169",
   "metadata": {
    "ExecuteTime": {
     "end_time": "2022-02-14T17:11:40.879549Z",
     "start_time": "2022-02-14T17:11:40.879542Z"
    }
   },
   "outputs": [],
   "source": [
    "# print(data_QM.size().getInfo())"
   ]
  },
  {
   "cell_type": "code",
   "execution_count": null,
   "id": "0cdba8cd",
   "metadata": {
    "ExecuteTime": {
     "end_time": "2022-02-14T17:11:40.880308Z",
     "start_time": "2022-02-14T17:11:40.880299Z"
    }
   },
   "outputs": [],
   "source": [
    "print(data_QM.first().getInfo())"
   ]
  },
  {
   "cell_type": "code",
   "execution_count": null,
   "id": "c1abe14b",
   "metadata": {
    "ExecuteTime": {
     "end_time": "2022-02-14T17:11:40.880766Z",
     "start_time": "2022-02-14T17:11:40.880759Z"
    }
   },
   "outputs": [],
   "source": [
    "tablas = ee.batch.Export.table.toDrive(**{\n",
    "  'collection': data_QM,\n",
    "  'description': 'TM_summer_QM',\n",
    "  'fileFormat': 'CSV'\n",
    "})\n",
    "\n",
    "tablas2 = ee.batch.Export.table.toDrive(**{\n",
    "  'collection': data_Med,\n",
    "  'description': 'TM_summer_Med',\n",
    "  'fileFormat': 'CSV'\n",
    "})\n"
   ]
  },
  {
   "cell_type": "code",
   "execution_count": null,
   "id": "ed9ca5d9",
   "metadata": {
    "ExecuteTime": {
     "end_time": "2022-02-14T17:11:40.881288Z",
     "start_time": "2022-02-14T17:11:40.881277Z"
    }
   },
   "outputs": [],
   "source": [
    "tablas.start()\n",
    "tablas2.start()"
   ]
  },
  {
   "cell_type": "markdown",
   "id": "65efc69f",
   "metadata": {},
   "source": [
    "### Muestras y datos de validación"
   ]
  },
  {
   "cell_type": "code",
   "execution_count": null,
   "id": "9f4082a9",
   "metadata": {
    "ExecuteTime": {
     "end_time": "2022-02-14T17:11:40.881886Z",
     "start_time": "2022-02-14T17:11:40.881879Z"
    }
   },
   "outputs": [],
   "source": [
    "# Guardamos las bandas\n",
    "\n",
    "# Esta propiedad guarda las clases de landcover\n",
    "# label = 'b1'\n",
    "label = 'IDH'\n",
    "label1 = 'ID'\n",
    "label_train ='C_ID'\n",
    "# Overlay the points on the imagery to get training.\n",
    "# sample = landsat.select(bands).sampleRegions(**{\n",
    "#   'collection': points,\n",
    "#   'properties': [label],\n",
    "#   'scale': 30\n",
    "# })\n",
    "\n",
    "# # Adds a column of deterministic pseudorandom numbers. \n",
    "# sample = sample.randomColumn()\n",
    "\n",
    "# split = 0.7 \n",
    "\n",
    "# training = sample.filter(ee.Filter.lt('random', split))\n",
    "# validation = sample.filter(ee.Filter.gte('random', split))\n",
    "bands = ['B1',\n",
    " 'B2',\n",
    " 'B3',\n",
    " 'B4',\n",
    " 'B5',\n",
    " 'B6',\n",
    " 'B7',\n",
    " 'NDVI',\n",
    " 'NDWI',\n",
    " 'NDGI',\n",
    " 'SAVI',\n",
    " 'NDSI',\n",
    " 'EVI',\n",
    " 'brightness',\n",
    " 'greenness',\n",
    " 'wetness',\n",
    " 'fourth',\n",
    " 'fifth',\n",
    " 'sixth'\n",
    "]\n",
    "bands2 = ['B1',\n",
    " 'B2',\n",
    " 'B3',\n",
    " 'B4',\n",
    " 'B5',\n",
    " 'B6',\n",
    " 'B7',\n",
    " 'NDVI',\n",
    " 'NDWI',\n",
    " 'NDGI',\n",
    " 'SAVI',\n",
    " 'NDSI',\n",
    "]\n",
    "bands1 = ['B1',\n",
    " 'B2',\n",
    " 'B3',\n",
    " 'B4',\n",
    " 'B5',\n",
    " 'B6',\n",
    " 'B7',\n",
    " 'B8',\n",
    " 'B9',\n",
    " 'B10',\n",
    " 'B11']"
   ]
  },
  {
   "cell_type": "markdown",
   "id": "bb2b3b9b",
   "metadata": {},
   "source": [
    "### Entrenando el modelo"
   ]
  },
  {
   "cell_type": "code",
   "execution_count": null,
   "id": "d2eab14d",
   "metadata": {
    "ExecuteTime": {
     "end_time": "2022-02-14T17:11:40.882515Z",
     "start_time": "2022-02-14T17:11:40.882501Z"
    }
   },
   "outputs": [],
   "source": [
    "classifier_QM = ee.Classifier.smileRandomForest(100).train(data_QM,label_train,bands)"
   ]
  },
  {
   "cell_type": "code",
   "execution_count": null,
   "id": "9a0dbf8e",
   "metadata": {
    "ExecuteTime": {
     "end_time": "2022-02-14T17:11:40.883217Z",
     "start_time": "2022-02-14T17:11:40.883210Z"
    }
   },
   "outputs": [],
   "source": [
    "classifier_Med = ee.Classifier.smileRandomForest(100).train(data_Med,label_train,bands)"
   ]
  },
  {
   "cell_type": "code",
   "execution_count": null,
   "id": "effbf7b9",
   "metadata": {
    "ExecuteTime": {
     "end_time": "2022-02-14T17:11:40.883840Z",
     "start_time": "2022-02-14T17:11:40.883834Z"
    }
   },
   "outputs": [],
   "source": [
    "result_QM = img_final.select(bands).classify(classifier_QM)"
   ]
  },
  {
   "cell_type": "code",
   "execution_count": null,
   "id": "dccc1b73",
   "metadata": {
    "ExecuteTime": {
     "end_time": "2022-02-14T17:11:40.884449Z",
     "start_time": "2022-02-14T17:11:40.884439Z"
    }
   },
   "outputs": [],
   "source": [
    "result_Med = img_final_m.select(bands).classify(classifier_Med)"
   ]
  },
  {
   "cell_type": "code",
   "execution_count": null,
   "id": "54f1677d",
   "metadata": {
    "ExecuteTime": {
     "end_time": "2022-02-14T17:11:40.885254Z",
     "start_time": "2022-02-14T17:11:40.885244Z"
    }
   },
   "outputs": [],
   "source": [
    "explained_QM = ee.Classifier.explain(classifier_QM)"
   ]
  },
  {
   "cell_type": "code",
   "execution_count": null,
   "id": "89147e20",
   "metadata": {
    "ExecuteTime": {
     "end_time": "2022-02-14T17:11:40.885815Z",
     "start_time": "2022-02-14T17:11:40.885806Z"
    }
   },
   "outputs": [],
   "source": [
    "explained_QM.getInfo()"
   ]
  },
  {
   "cell_type": "code",
   "execution_count": null,
   "id": "f0f87683",
   "metadata": {
    "ExecuteTime": {
     "end_time": "2022-02-14T17:11:40.886440Z",
     "start_time": "2022-02-14T17:11:40.886430Z"
    }
   },
   "outputs": [],
   "source": [
    "explained_Med = ee.Classifier.explain(classifier_Med)"
   ]
  },
  {
   "cell_type": "code",
   "execution_count": null,
   "id": "9a52ddb4",
   "metadata": {
    "ExecuteTime": {
     "end_time": "2022-02-14T17:11:40.887039Z",
     "start_time": "2022-02-14T17:11:40.887026Z"
    }
   },
   "outputs": [],
   "source": [
    "explained_Med.getInfo()"
   ]
  },
  {
   "cell_type": "markdown",
   "id": "7df7206f",
   "metadata": {},
   "source": [
    "### Categorizando"
   ]
  },
  {
   "cell_type": "code",
   "execution_count": null,
   "id": "997c3cbf",
   "metadata": {
    "ExecuteTime": {
     "end_time": "2022-02-14T17:11:40.887720Z",
     "start_time": "2022-02-14T17:11:40.887711Z"
    }
   },
   "outputs": [],
   "source": [
    "class_values2 = [1,2,3,4,5,6,7,8,9,10,11,12,13,14,15,16,17,19,20,23,30,31,32,33,34,35,36,39,40,43,45,47,48,57,58,60]\n",
    "\n",
    "class_palette2 = ['d1fbff', # 1 Hielo\n",
    " 'bfdadd', #2 lengua glaciar\n",
    " 'b9bfbf', #3 glaciar cubierto\n",
    " 'fe40fe', #4 nieve\n",
    " '8ac1ff', #5 fiordo glaciar\n",
    " '0c407b', #6 mar\n",
    " '2e8da0', #7 lago continental\n",
    " '16b2d1', #8 lago glaciar\n",
    " '27e1d8', #9 río\n",
    " 'eeb514', #10 suelo desnudo\n",
    " '927012', #11 cárcavas erosión \n",
    " 'e98c0f', #12 suelo río\n",
    " 'f7e8bd', #13 suelo duna/arenal\n",
    " '5b5b5b', #14 caminos\n",
    " 'e57104', #15 suelo desnudo / poca vegetación\n",
    " '5d1412', #16 tuberas / musgos\n",
    " '5d1412', #17 mallín                 \n",
    " '161163', #19 áreas inundables\n",
    " 'fff300', #20 plantación adulto\n",
    " 'ff0000', #23 ciudad urbano\n",
    " 'dee842', #30 praderas pastoreo             \n",
    " 'ced118', #31 estepa abierta\n",
    " '7a7c0f', #32 estepa cerrada\n",
    " 'c39700', #33 palizales\n",
    " 'a1ff8a', #34 preaderas\n",
    " '138665', #35 matorrales densos\n",
    " '1bbd8e', #36 matorrales abiertos\n",
    " '195a09', #39 primario adulto\n",
    " '27c41d', #40 secundario adulto\n",
    " 'b2ff00', #43 renoval inicial\n",
    " 'f36605', #45 degradado\n",
    " '7729db', #47 Primario adulto caduco\n",
    " '9e60ec', #48 Secundario adulto caduco\n",
    " '7000ff', #57 Mixto Primario\n",
    " 'c598ff', #58 Mixto secundario\n",
    " '00ff87', #60 Coníferas nativas\n",
    "]"
   ]
  },
  {
   "cell_type": "code",
   "execution_count": null,
   "id": "d1ed6e92",
   "metadata": {
    "ExecuteTime": {
     "end_time": "2022-02-14T17:11:40.888325Z",
     "start_time": "2022-02-14T17:11:40.888315Z"
    }
   },
   "outputs": [],
   "source": [
    "landcover_QM = result_QM.set('classification_class_values', class_values2)\n",
    "landcover_QM = landcover_QM.set('classification_class_palette',class_palette2)"
   ]
  },
  {
   "cell_type": "code",
   "execution_count": null,
   "id": "40c97470",
   "metadata": {
    "ExecuteTime": {
     "end_time": "2022-02-14T17:11:40.888906Z",
     "start_time": "2022-02-14T17:11:40.888896Z"
    }
   },
   "outputs": [],
   "source": [
    "landcover_Med = result_Med.set('classification_class_values', class_values2)\n",
    "landcover_Med = landcover_Med.set('classification_class_palette',class_palette2)"
   ]
  },
  {
   "cell_type": "code",
   "execution_count": null,
   "id": "11e0ee3e",
   "metadata": {
    "ExecuteTime": {
     "end_time": "2022-02-14T17:11:40.889438Z",
     "start_time": "2022-02-14T17:11:40.889430Z"
    }
   },
   "outputs": [],
   "source": [
    "Map14.addLayer(landcover_QM,{}, 'Land cover RF-QM' )\n",
    "Map14.addLayer(landcover_Med,{}, 'Land cover RF-Mediana')"
   ]
  },
  {
   "cell_type": "code",
   "execution_count": null,
   "id": "882a5f91",
   "metadata": {
    "ExecuteTime": {
     "end_time": "2022-02-14T17:11:40.890132Z",
     "start_time": "2022-02-14T17:11:40.890123Z"
    }
   },
   "outputs": [],
   "source": [
    "type(landcover_QM)"
   ]
  },
  {
   "cell_type": "markdown",
   "id": "d3ac6dae",
   "metadata": {},
   "source": [
    "#### Mapas"
   ]
  },
  {
   "cell_type": "code",
   "execution_count": null,
   "id": "5065e0ff",
   "metadata": {
    "ExecuteTime": {
     "end_time": "2022-02-14T17:11:40.890774Z",
     "start_time": "2022-02-14T17:11:40.890758Z"
    }
   },
   "outputs": [],
   "source": [
    "NDVI_mosaico=img5.select('NDVI')"
   ]
  },
  {
   "cell_type": "code",
   "execution_count": null,
   "id": "6c63b15a",
   "metadata": {
    "ExecuteTime": {
     "end_time": "2022-02-14T17:11:40.891410Z",
     "start_time": "2022-02-14T17:11:40.891402Z"
    }
   },
   "outputs": [],
   "source": [
    "vizNDVI =['#FF5733','#0cf5f5','#d89000','#039001','#003804']"
   ]
  },
  {
   "cell_type": "code",
   "execution_count": null,
   "id": "e5d42f45",
   "metadata": {
    "ExecuteTime": {
     "end_time": "2022-02-14T17:11:40.892026Z",
     "start_time": "2022-02-14T17:11:40.892017Z"
    }
   },
   "outputs": [],
   "source": [
    "Map16.addLayer(NDVI_mosaico, {'palette':vizNDVI} ,'NDVI Mosaico 2021' )\n",
    "Map16"
   ]
  },
  {
   "cell_type": "code",
   "execution_count": null,
   "id": "53d31ef4",
   "metadata": {
    "ExecuteTime": {
     "end_time": "2022-02-14T17:11:40.892633Z",
     "start_time": "2022-02-14T17:11:40.892624Z"
    }
   },
   "outputs": [],
   "source": [
    "legend_dict = {\n",
    "    '01 Hielo': 'd1fbff',\n",
    "    '02 lengua glaciar': 'bfdadd',\n",
    "    '03 glaciar cubierto': 'b9bfbf',\n",
    "    '04 nieve': 'fe40fe',\n",
    "    '05 fiordo glaciar': '8ac1ff',\n",
    "    '06 mar': '0c407b',\n",
    "    '07 lago continental': '2e8da0',\n",
    "    '08 lago glaciar': '16b2d1',\n",
    "    '09 río': '27e1d8',\n",
    "    '10 suelo desnudo': 'eeb514',\n",
    "    '11 cárcavas erosión': '927012',\n",
    "    '12 suelo río': 'e98c0f',\n",
    "    '13 suelo duna/arenal': 'f7e8bd',\n",
    "    '14 caminos': '5b5b5b',\n",
    "    '15 suelo denudo': 'e57104',\n",
    "    '16 tuberas / musgos': '5d1412',\n",
    "    '17 mallín': '5d1412',\n",
    "    '19 áreas inundables':'161163', \n",
    "    '20 plantación adulto': 'fff300',\n",
    "    '23 ciudad urbano': 'ff0000',\n",
    "    '28 frutales':'d4e794',\n",
    "    '30 praderas pastoreo':'dee842', \n",
    "    '31 estepa abierta': 'ced118',\n",
    "    '32 estepa cerrada': '7a7c0f',\n",
    "    '33 palizales': 'c39700',\n",
    "    '34 preaderas': 'a1ff8a',\n",
    "    '35 matorrales densos': '138665',\n",
    "    '36 matorrales abiertos': '1bbd8e',\n",
    "    '39 primario adulto': '195a09',\n",
    "    '40 secundario adulto': '27c41d',\n",
    "    '43 renoval inicial': 'b2ff00',\n",
    "    '45 degradado': 'f36605',\n",
    "    '47 Primario adulto caduco':'7729db',\n",
    "    '48 Secundario adulto caduco': '9e60ec',\n",
    "    '56 sombra': '000000',\n",
    "    '57 Mixto Primario': '7000ff', \n",
    "    '58 Mixto secundario':'c598ff',\n",
    "    '60 Coníferas nativas': '00ff87',\n",
    "}\n",
    "\n",
    "Map14.add_legend(legend_title=\"Random Forest Test\", legend_dict=legend_dict)\n",
    "Map14.addLayer(img5,vizParams, 'Mosaico 2021' )\n",
    "Map14.addLayer(componentes,vizParamstess, 'Tesseled cap')\n",
    "Map14"
   ]
  },
  {
   "cell_type": "markdown",
   "id": "69b97f23",
   "metadata": {},
   "source": [
    "#### Comparación"
   ]
  },
  {
   "cell_type": "code",
   "execution_count": null,
   "id": "a66648b3",
   "metadata": {
    "ExecuteTime": {
     "end_time": "2022-02-14T17:11:40.893129Z",
     "start_time": "2022-02-14T17:11:40.893122Z"
    }
   },
   "outputs": [],
   "source": [
    "comp1= [img5, img5m]\n",
    "labels = [\n",
    "    'Mosaico QM',\n",
    "    'Mosaico Med']\n",
    "vis_params3=  [\n",
    "     vizParams, \n",
    "    vizParams]"
   ]
  },
  {
   "cell_type": "code",
   "execution_count": null,
   "id": "0a240656",
   "metadata": {
    "ExecuteTime": {
     "end_time": "2022-02-14T17:11:40.893770Z",
     "start_time": "2022-02-14T17:11:40.893762Z"
    }
   },
   "outputs": [],
   "source": [
    "geemap.linked_maps(rows=1, cols=2, height=\"900px\", center=[-45, -75], zoom=4, \n",
    "                   ee_objects=comp1, vis_params=vis_params3, labels=labels, label_position=\"topright\")"
   ]
  },
  {
   "cell_type": "code",
   "execution_count": null,
   "id": "96a55fc7",
   "metadata": {
    "ExecuteTime": {
     "end_time": "2022-02-14T17:11:40.894314Z",
     "start_time": "2022-02-14T17:11:40.894305Z"
    }
   },
   "outputs": [],
   "source": [
    "comp2= [landcover_QM,landcover_Med]\n",
    "labels = [\n",
    "    'Landcover QM',\n",
    "    'Landcover Med']\n",
    "vis_params4=  [\n",
    "     {}, \n",
    "     {}]"
   ]
  },
  {
   "cell_type": "code",
   "execution_count": null,
   "id": "1c07ad91",
   "metadata": {
    "ExecuteTime": {
     "end_time": "2022-02-14T17:11:40.894880Z",
     "start_time": "2022-02-14T17:11:40.894870Z"
    }
   },
   "outputs": [],
   "source": [
    "geemap.linked_maps(rows=1, cols=2, height=\"900px\", center=[-45, -75], zoom=4, \n",
    "                   ee_objects=comp2, vis_params=vis_params4, labels=labels, label_position=\"topright\")"
   ]
  },
  {
   "cell_type": "markdown",
   "id": "e80b449e",
   "metadata": {},
   "source": [
    "### Exportando"
   ]
  },
  {
   "cell_type": "code",
   "execution_count": null,
   "id": "f61a3d7d",
   "metadata": {
    "ExecuteTime": {
     "end_time": "2022-02-14T17:11:40.895402Z",
     "start_time": "2022-02-14T17:11:40.895395Z"
    }
   },
   "outputs": [],
   "source": [
    "transf=ee.Array([30, 0, 214185, 0, -30, -4825185])"
   ]
  },
  {
   "cell_type": "code",
   "execution_count": null,
   "id": "4c4da7ae",
   "metadata": {
    "ExecuteTime": {
     "end_time": "2022-02-14T17:11:40.895926Z",
     "start_time": "2022-02-14T17:11:40.895919Z"
    }
   },
   "outputs": [],
   "source": [
    "transf.getInfo()"
   ]
  },
  {
   "cell_type": "code",
   "execution_count": null,
   "id": "cceda41f",
   "metadata": {
    "ExecuteTime": {
     "end_time": "2022-02-14T17:11:40.896391Z",
     "start_time": "2022-02-14T17:11:40.896384Z"
    }
   },
   "outputs": [],
   "source": [
    "img5_B1 = img5.select(\"B1\")\n",
    "img5_B2 = img5.select(\"B2\")\n",
    "img5_B3 = img5.select(\"B3\")\n",
    "img5_B4 = img5.select(\"B4\")\n",
    "img5_B5 = img5.select(\"B5\")\n",
    "img5_B6 = img5.select(\"B6\")\n",
    "img5_B7 = img5.select(\"B7\")"
   ]
  },
  {
   "cell_type": "code",
   "execution_count": null,
   "id": "6e762547",
   "metadata": {
    "ExecuteTime": {
     "end_time": "2022-02-14T17:11:40.897106Z",
     "start_time": "2022-02-14T17:11:40.897097Z"
    }
   },
   "outputs": [],
   "source": [
    "img5_B1m = img5m.select(\"B1\")\n",
    "img5_B2m = img5m.select(\"B2\")\n",
    "img5_B3m = img5m.select(\"B3\")\n",
    "img5_B4m = img5m.select(\"B4\")\n",
    "img5_B5m = img5m.select(\"B5\")\n",
    "img5_B6m = img5m.select(\"B6\")\n",
    "img5_B7m = img5m.select(\"B7\")"
   ]
  },
  {
   "cell_type": "code",
   "execution_count": null,
   "id": "5bf824d7",
   "metadata": {
    "ExecuteTime": {
     "end_time": "2022-02-14T17:11:40.897700Z",
     "start_time": "2022-02-14T17:11:40.897693Z"
    }
   },
   "outputs": [],
   "source": [
    "task1 = ee.batch.Export.image.toDrive(**{\n",
    "    'image': img5_B1,\n",
    "    'description':'B1',\n",
    "    'folder':'exp2021_19s_full',\n",
    "    'region': geometry_exp.bounds(),\n",
    "    'scale':30,\n",
    "    'crsTransform':[30, 0, 214185, 0, -30, -4825185], \n",
    "    'crs':'EPSG:32719',\n",
    "    'maxPixels':1e13\n",
    "})\n",
    "task2 = ee.batch.Export.image.toDrive(**{\n",
    "    'image': img5_B2,\n",
    "    'description':'B2',\n",
    "    'folder':'exp2021_19s_full',\n",
    "    'region': geometry_exp.bounds(),\n",
    "    'scale':30,\n",
    "    'crsTransform':[30, 0, 214185, 0, -30, -4825185], \n",
    "    'crs':'EPSG:32719',\n",
    "    'maxPixels':1e13\n",
    "})\n",
    "task3 = ee.batch.Export.image.toDrive(**{\n",
    "    'image': img5_B3,\n",
    "    'description':'B3',\n",
    "    'folder':'exp2021_19s_full',\n",
    "    'region': geometry_exp.bounds(),\n",
    "    'scale':30,\n",
    "    'crsTransform':[30, 0, 214185, 0, -30, -4825185], \n",
    "    'crs':'EPSG:32719',\n",
    "    'maxPixels':1e13\n",
    "})\n",
    "task4 = ee.batch.Export.image.toDrive(**{\n",
    "    'image': img5_B4,\n",
    "    'description':'B4',\n",
    "    'folder':'exp2021_19s_full',\n",
    "    'region': geometry_exp.bounds(),\n",
    "    'scale':30,\n",
    "    'crsTransform':[30, 0, 214185, 0, -30, -4825185], \n",
    "    'crs':'EPSG:32719',\n",
    "    'maxPixels':1e13\n",
    "})\n",
    "task5 = ee.batch.Export.image.toDrive(**{\n",
    "    'image': img5_B5,\n",
    "    'description':'B5',\n",
    "    'folder':'exp2021_19s_full',\n",
    "    'region': geometry_exp.bounds(),\n",
    "    'scale':30,\n",
    "    'crsTransform':[30, 0, 214185, 0, -30, -4825185], \n",
    "    'crs':'EPSG:32719',\n",
    "    'maxPixels':1e13\n",
    "})\n",
    "task6 = ee.batch.Export.image.toDrive(**{\n",
    "    'image': img5_B6,\n",
    "    'description':'B6',\n",
    "    'folder':'exp2021_19s_full',\n",
    "    'region': geometry_exp.bounds(),\n",
    "    'scale':30,\n",
    "    'crsTransform':[30, 0, 214185, 0, -30, -4825185], \n",
    "    'crs':'EPSG:32719',\n",
    "    'maxPixels':1e13\n",
    "})\n",
    "task7 = ee.batch.Export.image.toDrive(**{\n",
    "    'image': img5_B7,\n",
    "    'description':'B7',\n",
    "    'folder':'exp2021_19s_full',\n",
    "    'region': geometry_exp.bounds(),\n",
    "    'scale':30,\n",
    "    'crsTransform':[30, 0, 214185, 0, -30, -4825185], \n",
    "    'crs':'EPSG:32719',\n",
    "    'maxPixels':1e13\n",
    "})"
   ]
  },
  {
   "cell_type": "code",
   "execution_count": null,
   "id": "77e30b2b",
   "metadata": {
    "ExecuteTime": {
     "end_time": "2022-02-14T17:11:40.898274Z",
     "start_time": "2022-02-14T17:11:40.898264Z"
    }
   },
   "outputs": [],
   "source": [
    "task1m = ee.batch.Export.image.toDrive(**{\n",
    "    'image': img5_B1m,\n",
    "    'description':'B1',\n",
    "    'folder':'exp2021_19s_full_m',\n",
    "    'region': geometry_exp.bounds(),\n",
    "    'scale':30,\n",
    "    'crsTransform':[30, 0, 214185, 0, -30, -4825185], \n",
    "    'crs':'EPSG:32719',\n",
    "    'maxPixels':1e13\n",
    "})\n",
    "task2m = ee.batch.Export.image.toDrive(**{\n",
    "    'image': img5_B2m,\n",
    "    'description':'B2',\n",
    "    'folder':'exp2021_19s_full_m',\n",
    "    'region': geometry_exp.bounds(),\n",
    "    'scale':30,\n",
    "    'crsTransform':[30, 0, 214185, 0, -30, -4825185], \n",
    "    'crs':'EPSG:32719',\n",
    "    'maxPixels':1e13\n",
    "})\n",
    "task3m = ee.batch.Export.image.toDrive(**{\n",
    "    'image': img5_B3m,\n",
    "    'description':'B3',\n",
    "    'folder':'exp2021_19s_full_m',\n",
    "    'region': geometry_exp.bounds(),\n",
    "    'scale':30,\n",
    "    'crsTransform':[30, 0, 214185, 0, -30, -4825185], \n",
    "    'crs':'EPSG:32719',\n",
    "    'maxPixels':1e13\n",
    "})\n",
    "task4m = ee.batch.Export.image.toDrive(**{\n",
    "    'image': img5_B4m,\n",
    "    'description':'B4',\n",
    "    'folder':'exp2021_19s_full_m',\n",
    "    'region': geometry_exp.bounds(),\n",
    "    'scale':30,\n",
    "    'crsTransform':[30, 0, 214185, 0, -30, -4825185], \n",
    "    'crs':'EPSG:32719',\n",
    "    'maxPixels':1e13\n",
    "})\n",
    "task5m = ee.batch.Export.image.toDrive(**{\n",
    "    'image': img5_B5m,\n",
    "    'description':'B5',\n",
    "    'folder':'exp2021_19s_full_m',\n",
    "    'region': geometry_exp.bounds(),\n",
    "    'scale':30,\n",
    "    'crsTransform':[30, 0, 214185, 0, -30, -4825185], \n",
    "    'crs':'EPSG:32719',\n",
    "    'maxPixels':1e13\n",
    "})\n",
    "task6m = ee.batch.Export.image.toDrive(**{\n",
    "    'image': img5_B6m,\n",
    "    'description':'B6',\n",
    "    'folder':'exp2021_19s_full_m',\n",
    "    'region': geometry_exp.bounds(),\n",
    "    'scale':30,\n",
    "    'crsTransform':[30, 0, 214185, 0, -30, -4825185], \n",
    "    'crs':'EPSG:32719',\n",
    "    'maxPixels':1e13\n",
    "})\n",
    "task7m = ee.batch.Export.image.toDrive(**{\n",
    "    'image': img5_B7m,\n",
    "    'description':'B7',\n",
    "    'folder':'exp2021_19s_full_m',\n",
    "    'region': geometry_exp.bounds(),\n",
    "    'scale':30,\n",
    "    'crsTransform':[30, 0, 214185, 0, -30, -4825185], \n",
    "    'crs':'EPSG:32719',\n",
    "    'maxPixels':1e13\n",
    "})"
   ]
  },
  {
   "cell_type": "code",
   "execution_count": null,
   "id": "dfee8042",
   "metadata": {
    "ExecuteTime": {
     "end_time": "2022-02-14T17:11:40.898810Z",
     "start_time": "2022-02-14T17:11:40.898803Z"
    }
   },
   "outputs": [],
   "source": [
    "# task1.start()\n",
    "# task2.start()\n",
    "# task3.start()\n",
    "# task4.start()\n",
    "# task5.start()\n",
    "# task6.start()\n",
    "# task7.start()"
   ]
  },
  {
   "cell_type": "code",
   "execution_count": null,
   "id": "3bcd3268",
   "metadata": {
    "ExecuteTime": {
     "end_time": "2022-02-14T17:11:40.899546Z",
     "start_time": "2022-02-14T17:11:40.899536Z"
    }
   },
   "outputs": [],
   "source": [
    "# task1m.start()\n",
    "# task2m.start()\n",
    "# task3m.start()\n",
    "# task4m.start()\n",
    "# task5m.start()\n",
    "# task6m.start()\n",
    "# task7m.start()"
   ]
  },
  {
   "cell_type": "code",
   "execution_count": null,
   "id": "0633aa27",
   "metadata": {
    "ExecuteTime": {
     "end_time": "2022-02-14T17:11:40.900048Z",
     "start_time": "2022-02-14T17:11:40.900041Z"
    }
   },
   "outputs": [],
   "source": [
    "brillo = componentes.select('brightness')\n",
    "greenness = componentes.select('greenness')\n",
    "wetness = componentes.select('wetness')\n",
    "# ['brightness','greenness','wetness','fourth','fifth','sixth']"
   ]
  },
  {
   "cell_type": "code",
   "execution_count": null,
   "id": "ecae7a62",
   "metadata": {
    "ExecuteTime": {
     "end_time": "2022-02-14T17:11:40.900822Z",
     "start_time": "2022-02-14T17:11:40.900811Z"
    }
   },
   "outputs": [],
   "source": [
    "brillom = componentesm.select('brightness')\n",
    "greennessm = componentesm.select('greenness')\n",
    "wetnessm = componentesm.select('wetness')"
   ]
  },
  {
   "cell_type": "code",
   "execution_count": null,
   "id": "5cc31766",
   "metadata": {
    "ExecuteTime": {
     "end_time": "2022-02-14T17:11:40.901726Z",
     "start_time": "2022-02-14T17:11:40.901717Z"
    }
   },
   "outputs": [],
   "source": [
    "task8 = ee.batch.Export.image.toDrive(**{\n",
    "    'image': brillo,\n",
    "    'description':'brillo',\n",
    "    'folder':'exp2021_19s_full',\n",
    "    'region': geometry_exp.bounds(),\n",
    "    'scale':30,\n",
    "    'crsTransform':[30, 0, 214185, 0, -30, -4825185], \n",
    "    'crs':'EPSG:32719',\n",
    "    'maxPixels':1e13\n",
    "})\n",
    "task9 = ee.batch.Export.image.toDrive(**{\n",
    "    'image': greenness,\n",
    "    'description':'greenness',\n",
    "    'folder':'exp2021_19s_full',\n",
    "    'region': geometry_exp.bounds(),\n",
    "    'scale':30,\n",
    "    'crsTransform':[30, 0, 214185, 0, -30, -4825185], \n",
    "    'crs':'EPSG:32719',\n",
    "    'maxPixels':1e13\n",
    "})\n",
    "task10 = ee.batch.Export.image.toDrive(**{\n",
    "    'image': wetness,\n",
    "    'description':'wetness',\n",
    "    'folder':'exp2021_19s_full',\n",
    "    'region': geometry_exp.bounds(),\n",
    "    'scale':30,\n",
    "    'crsTransform':[30, 0, 214185, 0, -30, -4825185], \n",
    "    'crs':'EPSG:32719',\n",
    "    'maxPixels':1e13\n",
    "})"
   ]
  },
  {
   "cell_type": "code",
   "execution_count": null,
   "id": "0d024aad",
   "metadata": {
    "ExecuteTime": {
     "end_time": "2022-02-14T17:11:40.902419Z",
     "start_time": "2022-02-14T17:11:40.902410Z"
    }
   },
   "outputs": [],
   "source": [
    "task8m = ee.batch.Export.image.toDrive(**{\n",
    "    'image': brillom,\n",
    "    'description':'brillo',\n",
    "    'folder':'exp2021_19s_full_m',\n",
    "    'region': geometry_exp.bounds(),\n",
    "    'scale':30,\n",
    "    'crsTransform':[30, 0, 214185, 0, -30, -4825185], \n",
    "    'crs':'EPSG:32719',\n",
    "    'maxPixels':1e13\n",
    "})\n",
    "task9m = ee.batch.Export.image.toDrive(**{\n",
    "    'image': greennessm,\n",
    "    'description':'greenness',\n",
    "    'folder':'exp2021_19s_full_m',\n",
    "    'region': geometry_exp.bounds(),\n",
    "    'scale':30,\n",
    "    'crsTransform':[30, 0, 214185, 0, -30, -4825185], \n",
    "    'crs':'EPSG:32719',\n",
    "    'maxPixels':1e13\n",
    "})\n",
    "task10m = ee.batch.Export.image.toDrive(**{\n",
    "    'image': wetnessm,\n",
    "    'description':'wetness',\n",
    "    'folder':'exp2021_19s_full_m',\n",
    "    'region': geometry_exp.bounds(),\n",
    "    'scale':30,\n",
    "    'crsTransform':[30, 0, 214185, 0, -30, -4825185], \n",
    "    'crs':'EPSG:32719',\n",
    "    'maxPixels':1e13\n",
    "})"
   ]
  },
  {
   "cell_type": "code",
   "execution_count": null,
   "id": "056a7102",
   "metadata": {
    "ExecuteTime": {
     "end_time": "2022-02-14T17:11:40.902959Z",
     "start_time": "2022-02-14T17:11:40.902951Z"
    }
   },
   "outputs": [],
   "source": [
    "# task8.start()\n",
    "# task9.start()\n",
    "# task10.start()"
   ]
  },
  {
   "cell_type": "code",
   "execution_count": null,
   "id": "30f7d9e4",
   "metadata": {
    "ExecuteTime": {
     "end_time": "2022-02-14T17:11:40.903659Z",
     "start_time": "2022-02-14T17:11:40.903650Z"
    }
   },
   "outputs": [],
   "source": [
    "# task8m.start()\n",
    "# task9m.start()\n",
    "# task10m.start()"
   ]
  },
  {
   "cell_type": "code",
   "execution_count": null,
   "id": "21943242",
   "metadata": {
    "ExecuteTime": {
     "end_time": "2022-02-14T17:11:40.904407Z",
     "start_time": "2022-02-14T17:11:40.904396Z"
    }
   },
   "outputs": [],
   "source": [
    "taskclasqm = ee.batch.Export.image.toDrive(**{\n",
    "    'image': landcover_QM,\n",
    "    'description':'landcover_2021_QM',\n",
    "    'folder':'Landcover 2021',\n",
    "    'region': geometry_exp.bounds(),\n",
    "    'scale':30,\n",
    "    'crsTransform':[30, 0, 214185, 0, -30, -4825185], \n",
    "    'crs':'EPSG:32719',\n",
    "    'maxPixels':1e13\n",
    "})"
   ]
  },
  {
   "cell_type": "code",
   "execution_count": null,
   "id": "c892658b",
   "metadata": {
    "ExecuteTime": {
     "end_time": "2022-02-14T17:11:40.905073Z",
     "start_time": "2022-02-14T17:11:40.905063Z"
    }
   },
   "outputs": [],
   "source": [
    "taskclasm = ee.batch.Export.image.toDrive(**{\n",
    "    'image': landcover_Med,\n",
    "    'description':'landcover_2021_Med',\n",
    "    'folder':'Landcover 2021',\n",
    "    'region': geometry_exp.bounds(),\n",
    "    'scale':30,\n",
    "    'crsTransform':[30, 0, 214185, 0, -30, -4825185], \n",
    "    'crs':'EPSG:32719',\n",
    "    'maxPixels':1e13\n",
    "})"
   ]
  },
  {
   "cell_type": "code",
   "execution_count": null,
   "id": "9af412b7",
   "metadata": {
    "ExecuteTime": {
     "end_time": "2022-02-14T17:11:40.905573Z",
     "start_time": "2022-02-14T17:11:40.905564Z"
    }
   },
   "outputs": [],
   "source": [
    "# taskclasqm.start()\n",
    "# taskclasm.start()"
   ]
  },
  {
   "cell_type": "markdown",
   "id": "5b569226",
   "metadata": {},
   "source": [
    "## Test "
   ]
  },
  {
   "cell_type": "markdown",
   "id": "9b16d3bf",
   "metadata": {},
   "source": [
    "### Texturas"
   ]
  },
  {
   "cell_type": "code",
   "execution_count": null,
   "id": "979f4f02",
   "metadata": {
    "ExecuteTime": {
     "end_time": "2022-02-14T17:11:40.906246Z",
     "start_time": "2022-02-14T17:11:40.906237Z"
    }
   },
   "outputs": [],
   "source": [
    "text_qm = img_final.select('B1','B2','B3','B4','B5','B6','B7') "
   ]
  },
  {
   "cell_type": "code",
   "execution_count": null,
   "id": "ad15b2b2",
   "metadata": {
    "ExecuteTime": {
     "end_time": "2022-02-14T17:11:40.906682Z",
     "start_time": "2022-02-14T17:11:40.906675Z"
    }
   },
   "outputs": [],
   "source": [
    "text_med = img_final_m.select('B1','B2','B3','B4','B5','B6','B7') "
   ]
  },
  {
   "cell_type": "code",
   "execution_count": null,
   "id": "c26b7619",
   "metadata": {
    "ExecuteTime": {
     "end_time": "2022-02-14T17:11:40.907426Z",
     "start_time": "2022-02-14T17:11:40.907418Z"
    }
   },
   "outputs": [],
   "source": [
    "text_qm_array = text_qm.toArray()\n",
    "text_qm_array = text_qm_array.toArray(1)"
   ]
  },
  {
   "cell_type": "code",
   "execution_count": null,
   "id": "5ce3faba",
   "metadata": {
    "ExecuteTime": {
     "end_time": "2022-02-14T17:11:40.907857Z",
     "start_time": "2022-02-14T17:11:40.907850Z"
    }
   },
   "outputs": [],
   "source": [
    "text_med_array = text_med.toArray()\n",
    "text_med_array = text_med_array.toArray(1)"
   ]
  },
  {
   "cell_type": "code",
   "execution_count": null,
   "id": "01a5e0b7",
   "metadata": {
    "ExecuteTime": {
     "end_time": "2022-02-14T17:11:40.908632Z",
     "start_time": "2022-02-14T17:11:40.908623Z"
    }
   },
   "outputs": [],
   "source": [
    "coef100 = ee.Array([\n",
    "    [100,0,0,0,0,0,0],\n",
    "    [0,100,0,0,0,0,0],\n",
    "    [0,0,100,0,0,0,0],\n",
    "    [0,0,0,100,0,0,0],\n",
    "    [0,0,0,0,100,0,0],\n",
    "    [0,0,0,0,0,100,0],\n",
    "    [0,0,0,0,0,0,100],\n",
    "    ])"
   ]
  },
  {
   "cell_type": "code",
   "execution_count": null,
   "id": "0ea3ba21",
   "metadata": {
    "ExecuteTime": {
     "end_time": "2022-02-14T17:11:40.909091Z",
     "start_time": "2022-02-14T17:11:40.909084Z"
    }
   },
   "outputs": [],
   "source": [
    "factor_qm = ee.Image(coef100)\\\n",
    "                .matrixMultiply(text_qm_array) \\\n",
    "                .arrayProject([0])\\\n",
    "                .arrayFlatten(\n",
    "                [['B1','B2','B3','B4','B5','B6','B7']])"
   ]
  },
  {
   "cell_type": "code",
   "execution_count": null,
   "id": "052d4cd3",
   "metadata": {
    "ExecuteTime": {
     "end_time": "2022-02-14T17:11:40.909563Z",
     "start_time": "2022-02-14T17:11:40.909552Z"
    }
   },
   "outputs": [],
   "source": [
    "factor_med = ee.Image(coef100)\\\n",
    "                .matrixMultiply(text_med_array) \\\n",
    "                .arrayProject([0])\\\n",
    "                .arrayFlatten(\n",
    "                [['B1','B2','B3','B4','B5','B6','B7']])"
   ]
  },
  {
   "cell_type": "code",
   "execution_count": null,
   "id": "bcd29373",
   "metadata": {
    "ExecuteTime": {
     "end_time": "2022-02-14T17:11:40.910172Z",
     "start_time": "2022-02-14T17:11:40.910166Z"
    }
   },
   "outputs": [],
   "source": [
    "testint_txt_qm = factor_qm.int()\n",
    "testint_txt_med = factor_med.int()"
   ]
  },
  {
   "cell_type": "code",
   "execution_count": null,
   "id": "798ea0f1",
   "metadata": {
    "ExecuteTime": {
     "end_time": "2022-02-14T17:11:40.910725Z",
     "start_time": "2022-02-14T17:11:40.910716Z"
    }
   },
   "outputs": [],
   "source": [
    "txt_qm = testint_txt_qm.glcmTexture(3)\n",
    "txt_med = testint_txt_med.glcmTexture(3)"
   ]
  },
  {
   "cell_type": "code",
   "execution_count": null,
   "id": "42a2d377",
   "metadata": {
    "ExecuteTime": {
     "end_time": "2022-02-14T17:11:40.911257Z",
     "start_time": "2022-02-14T17:11:40.911251Z"
    }
   },
   "outputs": [],
   "source": [
    "txt_qm.bandNames().getInfo()"
   ]
  },
  {
   "cell_type": "code",
   "execution_count": null,
   "id": "6f4aa106",
   "metadata": {
    "ExecuteTime": {
     "end_time": "2022-02-14T17:11:40.911974Z",
     "start_time": "2022-02-14T17:11:40.911965Z"
    }
   },
   "outputs": [],
   "source": [
    "txt_med.bandNames().getInfo()"
   ]
  },
  {
   "cell_type": "code",
   "execution_count": null,
   "id": "b4b31015",
   "metadata": {
    "ExecuteTime": {
     "end_time": "2022-02-14T17:11:40.912558Z",
     "start_time": "2022-02-14T17:11:40.912549Z"
    }
   },
   "outputs": [],
   "source": [
    "data_txt_tm_qm = txt_qm.sampleRegions(**{\n",
    "    'collection': test1,\n",
    "    'properties': ['C_ID'],\n",
    "    'scale': 30,\n",
    "    'tileScale': 2,\n",
    "})"
   ]
  },
  {
   "cell_type": "code",
   "execution_count": null,
   "id": "b1261dbe",
   "metadata": {
    "ExecuteTime": {
     "end_time": "2022-02-14T17:11:40.913116Z",
     "start_time": "2022-02-14T17:11:40.913107Z"
    }
   },
   "outputs": [],
   "source": [
    "data_txt_tm_med = txt_med.sampleRegions(**{\n",
    "    'collection': test1,\n",
    "    'properties': ['C_ID'],\n",
    "    'scale': 30,\n",
    "    'tileScale': 2,\n",
    "})"
   ]
  },
  {
   "cell_type": "code",
   "execution_count": null,
   "id": "6e74a710",
   "metadata": {
    "ExecuteTime": {
     "end_time": "2022-02-14T17:11:40.913643Z",
     "start_time": "2022-02-14T17:11:40.913633Z"
    }
   },
   "outputs": [],
   "source": [
    "tablasqm = ee.batch.Export.table.toDrive(**{\n",
    "  'collection': data_txt_tm_qm,\n",
    "  'description': 'txt_TM_QM',\n",
    "  'fileFormat': 'CSV'\n",
    "})"
   ]
  },
  {
   "cell_type": "code",
   "execution_count": null,
   "id": "8f48443e",
   "metadata": {
    "ExecuteTime": {
     "end_time": "2022-02-14T17:11:40.914196Z",
     "start_time": "2022-02-14T17:11:40.914187Z"
    }
   },
   "outputs": [],
   "source": [
    "tablasmed = ee.batch.Export.table.toDrive(**{\n",
    "  'collection': data_txt_tm_med,\n",
    "  'description': 'txt_TM_MED',\n",
    "  'fileFormat': 'CSV'\n",
    "})"
   ]
  },
  {
   "cell_type": "code",
   "execution_count": null,
   "id": "984ff9d3",
   "metadata": {
    "ExecuteTime": {
     "end_time": "2022-02-14T17:11:40.914730Z",
     "start_time": "2022-02-14T17:11:40.914721Z"
    }
   },
   "outputs": [],
   "source": [
    "tablasqm.start()\n",
    "tablasmed.start()"
   ]
  },
  {
   "cell_type": "markdown",
   "id": "89d4bbca",
   "metadata": {},
   "source": [
    "#### NDVI"
   ]
  },
  {
   "cell_type": "code",
   "execution_count": null,
   "id": "d12bffc6",
   "metadata": {
    "ExecuteTime": {
     "end_time": "2022-02-14T17:11:40.915348Z",
     "start_time": "2022-02-14T17:11:40.915338Z"
    }
   },
   "outputs": [],
   "source": [
    "ndvi_txt_array = img5.select('NDVI')\n",
    "ndvi_txt_array = ndvi_txt_array.toArray()\n",
    "ndvi_txt_array = ndvi_txt_array.toArray(1)"
   ]
  },
  {
   "cell_type": "code",
   "execution_count": null,
   "id": "d59fba50",
   "metadata": {
    "ExecuteTime": {
     "end_time": "2022-02-14T17:11:40.915860Z",
     "start_time": "2022-02-14T17:11:40.915854Z"
    }
   },
   "outputs": [],
   "source": [
    "coef2 = ee.Array([[100]])"
   ]
  },
  {
   "cell_type": "code",
   "execution_count": null,
   "id": "92102da8",
   "metadata": {
    "ExecuteTime": {
     "end_time": "2022-02-14T17:11:40.916631Z",
     "start_time": "2022-02-14T17:11:40.916622Z"
    }
   },
   "outputs": [],
   "source": [
    "factor = ee.Image(coef2)\\\n",
    "                .matrixMultiply(ndvi_txt_array) \\\n",
    "                .arrayProject([0])\\\n",
    "                .arrayFlatten(\n",
    "                [['NDVI']])"
   ]
  },
  {
   "cell_type": "code",
   "execution_count": null,
   "id": "a7a75374",
   "metadata": {
    "ExecuteTime": {
     "end_time": "2022-02-14T17:11:40.917163Z",
     "start_time": "2022-02-14T17:11:40.917156Z"
    }
   },
   "outputs": [],
   "source": [
    "factor.bandTypes().getInfo()"
   ]
  },
  {
   "cell_type": "code",
   "execution_count": null,
   "id": "244834a0",
   "metadata": {
    "ExecuteTime": {
     "end_time": "2022-02-14T17:11:40.917824Z",
     "start_time": "2022-02-14T17:11:40.917815Z"
    }
   },
   "outputs": [],
   "source": [
    "testimg_txt = factor.int()"
   ]
  },
  {
   "cell_type": "code",
   "execution_count": null,
   "id": "6f845908",
   "metadata": {
    "ExecuteTime": {
     "end_time": "2022-02-14T17:11:40.918496Z",
     "start_time": "2022-02-14T17:11:40.918488Z"
    }
   },
   "outputs": [],
   "source": [
    "testimg_txt.bandTypes().getInfo()"
   ]
  },
  {
   "cell_type": "code",
   "execution_count": null,
   "id": "7c334e9f",
   "metadata": {
    "ExecuteTime": {
     "end_time": "2022-02-14T17:11:40.919162Z",
     "start_time": "2022-02-14T17:11:40.919152Z"
    }
   },
   "outputs": [],
   "source": [
    "texturas = testimg_txt.glcmTexture(3)"
   ]
  },
  {
   "cell_type": "code",
   "execution_count": null,
   "id": "4c5d1482",
   "metadata": {
    "ExecuteTime": {
     "end_time": "2022-02-14T17:11:40.919814Z",
     "start_time": "2022-02-14T17:11:40.919806Z"
    }
   },
   "outputs": [],
   "source": [
    "texturas.bandNames().getInfo()"
   ]
  },
  {
   "cell_type": "code",
   "execution_count": null,
   "id": "3e531601",
   "metadata": {
    "ExecuteTime": {
     "end_time": "2022-02-14T17:11:40.920303Z",
     "start_time": "2022-02-14T17:11:40.920295Z"
    }
   },
   "outputs": [],
   "source": [
    "texturas_ndvi = texturas\n",
    "texturas_ndvi = texturas_ndvi.toArray()\n",
    "texturas_ndvi = texturas_ndvi.toArray(1)"
   ]
  },
  {
   "cell_type": "code",
   "execution_count": null,
   "id": "3615617c",
   "metadata": {
    "ExecuteTime": {
     "end_time": "2022-02-14T17:11:40.920962Z",
     "start_time": "2022-02-14T17:11:40.920953Z"
    }
   },
   "outputs": [],
   "source": [
    "coef3 = ee.Array([\n",
    "    [1,0,0,0,0,0,0,0,0,0,0,0,0,0,0,0,0,0],\n",
    "    [0,0.01,0,0,0,0,0,0,0,0,0,0,0,0,0,0,0,0],\n",
    "    [0,0,1,0,0,0,0,0,0,0,0,0,0,0,0,0,0,0],\n",
    "    [0,0,0,1,0,0,0,0,0,0,0,0,0,0,0,0,0,0],\n",
    "    [0,0,0,0,1,0,0,0,0,0,0,0,0,0,0,0,0,0],\n",
    "    [0,0,0,0,0,0.01,0,0,0,0,0,0,0,0,0,0,0,0],\n",
    "    [0,0,0,0,0,0,1,0,0,0,0,0,0,0,0,0,0,0],\n",
    "    [0,0,0,0,0,0,0,1,0,0,0,0,0,0,0,0,0,0],\n",
    "    [0,0,0,0,0,0,0,0,1,0,0,0,0,0,0,0,0,0],\n",
    "    [0,0,0,0,0,0,0,0,0,1,0,0,0,0,0,0,0,0],\n",
    "    [0,0,0,0,0,0,0,0,0,0,1,0,0,0,0,0,0,0],\n",
    "    [0,0,0,0,0,0,0,0,0,0,0,1,0,0,0,0,0,0],\n",
    "    [0,0,0,0,0,0,0,0,0,0,0,0,1,0,0,0,0,0],\n",
    "    [0,0,0,0,0,0,0,0,0,0,0,0,0,1,0,0,0,0],\n",
    "    [0,0,0,0,0,0,0,0,0,0,0,0,0,0,1,0,0,0],\n",
    "    [0,0,0,0,0,0,0,0,0,0,0,0,0,0,0,1,0,0],\n",
    "    [0,0,0,0,0,0,0,0,0,0,0,0,0,0,0,0,1,0],\n",
    "    [0,0,0,0,0,0,0,0,0,0,0,0,0,0,0,0,0,1],\n",
    "    ])"
   ]
  },
  {
   "cell_type": "code",
   "execution_count": null,
   "id": "c9b0b2e9",
   "metadata": {
    "ExecuteTime": {
     "end_time": "2022-02-14T17:11:40.921660Z",
     "start_time": "2022-02-14T17:11:40.921652Z"
    }
   },
   "outputs": [],
   "source": [
    "factor2 = ee.Image(coef3)\\\n",
    "                .matrixMultiply(texturas_ndvi) \\\n",
    "                .arrayProject([0])\\\n",
    "                .arrayFlatten(\n",
    "                [['NDVI_asm',\n",
    " 'NDVI_contrast',\n",
    " 'NDVI_corr',\n",
    " 'NDVI_var',\n",
    " 'NDVI_idm',\n",
    " 'NDVI_savg',\n",
    " 'NDVI_svar',\n",
    " 'NDVI_sent',\n",
    " 'NDVI_ent',\n",
    " 'NDVI_dvar',\n",
    " 'NDVI_dent',\n",
    " 'NDVI_imcorr1',\n",
    " 'NDVI_imcorr2',\n",
    " 'NDVI_maxcorr',\n",
    " 'NDVI_diss',\n",
    " 'NDVI_inertia',\n",
    " 'NDVI_shade',\n",
    " 'NDVI_prom']])"
   ]
  },
  {
   "cell_type": "code",
   "execution_count": null,
   "id": "2c1590bd",
   "metadata": {
    "ExecuteTime": {
     "end_time": "2022-02-14T17:11:40.922262Z",
     "start_time": "2022-02-14T17:11:40.922254Z"
    }
   },
   "outputs": [],
   "source": [
    "Map4.addLayer(factor2.select('NDVI_diss'), {} ,'correlacion' )\n",
    "Map4"
   ]
  },
  {
   "cell_type": "code",
   "execution_count": null,
   "id": "54a1b4d5",
   "metadata": {
    "ExecuteTime": {
     "end_time": "2022-02-14T17:11:40.922819Z",
     "start_time": "2022-02-14T17:11:40.922810Z"
    }
   },
   "outputs": [],
   "source": [
    "tasktxt1 = ee.batch.Export.image.toDrive(**{\n",
    "    'image': factor2.select('NDVI_savg'),\n",
    "    'description':'NDVI_savg',\n",
    "    'folder':'exp2021_19s_txt',\n",
    "    'region': geometry_exp.bounds(),\n",
    "    'scale':30,\n",
    "    'crsTransform':[30, 0, 214185, 0, -30, -4825185], \n",
    "    'crs':'EPSG:32719',\n",
    "    'maxPixels':1e13\n",
    "})"
   ]
  },
  {
   "cell_type": "code",
   "execution_count": null,
   "id": "b2798dd1",
   "metadata": {
    "ExecuteTime": {
     "end_time": "2022-02-14T17:11:40.923541Z",
     "start_time": "2022-02-14T17:11:40.923532Z"
    }
   },
   "outputs": [],
   "source": [
    "# tasktxt1.start()"
   ]
  },
  {
   "cell_type": "code",
   "execution_count": null,
   "id": "7c5833d1",
   "metadata": {
    "ExecuteTime": {
     "end_time": "2022-02-14T17:11:40.924066Z",
     "start_time": "2022-02-14T17:11:40.924059Z"
    }
   },
   "outputs": [],
   "source": [
    "texturas_NDVI = factor2.select('NDVI_savg','NDVI_var','NDVI_contrast','NDVI_diss','NDVI_ent','NDVI_asm','NDVI_corr')"
   ]
  },
  {
   "cell_type": "code",
   "execution_count": null,
   "id": "73ba3471",
   "metadata": {
    "ExecuteTime": {
     "end_time": "2022-02-14T17:11:40.924654Z",
     "start_time": "2022-02-14T17:11:40.924638Z"
    }
   },
   "outputs": [],
   "source": [
    "data_txt_ndvi = texturas_NDVI.sampleRegions(**{\n",
    "    'collection': test1,\n",
    "    'properties': ['C_ID'],\n",
    "    'scale': 30,\n",
    "    'tileScale': 2,\n",
    "})"
   ]
  },
  {
   "cell_type": "code",
   "execution_count": null,
   "id": "41b40a54",
   "metadata": {
    "ExecuteTime": {
     "end_time": "2022-02-14T17:11:40.925121Z",
     "start_time": "2022-02-14T17:11:40.925114Z"
    }
   },
   "outputs": [],
   "source": [
    "tablas3 = ee.batch.Export.table.toDrive(**{\n",
    "  'collection': data_txt_ndvi,\n",
    "  'description': 'txt_ndvi',\n",
    "  'fileFormat': 'CSV'\n",
    "})"
   ]
  },
  {
   "cell_type": "code",
   "execution_count": null,
   "id": "6a4ae5fe",
   "metadata": {
    "ExecuteTime": {
     "end_time": "2022-02-14T17:11:40.925710Z",
     "start_time": "2022-02-14T17:11:40.925700Z"
    }
   },
   "outputs": [],
   "source": [
    "tablas3.start()"
   ]
  },
  {
   "cell_type": "markdown",
   "id": "97e92404",
   "metadata": {},
   "source": [
    "#### EVI"
   ]
  },
  {
   "cell_type": "code",
   "execution_count": null,
   "id": "f7990b77",
   "metadata": {
    "ExecuteTime": {
     "end_time": "2022-02-14T17:11:40.926235Z",
     "start_time": "2022-02-14T17:11:40.926227Z"
    }
   },
   "outputs": [],
   "source": [
    "EVI_txt_array = img5.select('EVI')\n",
    "EVI_txt_array = ndvi_txt_array.toArray()\n",
    "EVI_txt_array = ndvi_txt_array.toArray(1)"
   ]
  },
  {
   "cell_type": "code",
   "execution_count": null,
   "id": "69b3dada",
   "metadata": {
    "ExecuteTime": {
     "end_time": "2022-02-14T17:11:40.926910Z",
     "start_time": "2022-02-14T17:11:40.926900Z"
    }
   },
   "outputs": [],
   "source": [
    "coef2 = ee.Array([[100]])"
   ]
  },
  {
   "cell_type": "code",
   "execution_count": null,
   "id": "7b9da650",
   "metadata": {
    "ExecuteTime": {
     "end_time": "2022-02-14T17:11:40.927614Z",
     "start_time": "2022-02-14T17:11:40.927605Z"
    }
   },
   "outputs": [],
   "source": [
    "factor_evi = ee.Image(coef2)\\\n",
    "                .matrixMultiply(EVI_txt_array) \\\n",
    "                .arrayProject([0])\\\n",
    "                .arrayFlatten(\n",
    "                [['EVI']])"
   ]
  },
  {
   "cell_type": "code",
   "execution_count": null,
   "id": "95ca18ac",
   "metadata": {
    "ExecuteTime": {
     "end_time": "2022-02-14T17:11:40.928239Z",
     "start_time": "2022-02-14T17:11:40.928230Z"
    }
   },
   "outputs": [],
   "source": [
    "factor_evi.bandTypes().getInfo()"
   ]
  },
  {
   "cell_type": "code",
   "execution_count": null,
   "id": "c9c13d37",
   "metadata": {
    "ExecuteTime": {
     "end_time": "2022-02-14T17:11:40.928785Z",
     "start_time": "2022-02-14T17:11:40.928776Z"
    }
   },
   "outputs": [],
   "source": [
    "factor_evi_txt = factor_evi.int()"
   ]
  },
  {
   "cell_type": "code",
   "execution_count": null,
   "id": "636f6699",
   "metadata": {
    "ExecuteTime": {
     "end_time": "2022-02-14T17:11:40.929412Z",
     "start_time": "2022-02-14T17:11:40.929403Z"
    }
   },
   "outputs": [],
   "source": [
    "factor_evi_txt.bandTypes().getInfo()"
   ]
  },
  {
   "cell_type": "code",
   "execution_count": null,
   "id": "06c58d6a",
   "metadata": {
    "ExecuteTime": {
     "end_time": "2022-02-14T17:11:40.930151Z",
     "start_time": "2022-02-14T17:11:40.930142Z"
    }
   },
   "outputs": [],
   "source": [
    "txt_evi = factor_evi_txt.glcmTexture(3)"
   ]
  },
  {
   "cell_type": "code",
   "execution_count": null,
   "id": "95317ced",
   "metadata": {
    "ExecuteTime": {
     "end_time": "2022-02-14T17:11:40.930656Z",
     "start_time": "2022-02-14T17:11:40.930647Z"
    }
   },
   "outputs": [],
   "source": [
    "txt_evi.bandNames().getInfo()"
   ]
  },
  {
   "cell_type": "code",
   "execution_count": null,
   "id": "82042902",
   "metadata": {
    "ExecuteTime": {
     "end_time": "2022-02-14T17:11:40.931379Z",
     "start_time": "2022-02-14T17:11:40.931367Z"
    }
   },
   "outputs": [],
   "source": [
    "texturas_evi = txt_evi\n",
    "texturas_evi = texturas_evi.toArray()\n",
    "texturas_evi = texturas_evi.toArray(1)"
   ]
  },
  {
   "cell_type": "code",
   "execution_count": null,
   "id": "e7c55d44",
   "metadata": {
    "ExecuteTime": {
     "end_time": "2022-02-14T17:11:40.932082Z",
     "start_time": "2022-02-14T17:11:40.932072Z"
    }
   },
   "outputs": [],
   "source": [
    "coef3 = ee.Array([\n",
    "    [1,0,0,0,0,0,0,0,0,0,0,0,0,0,0,0,0,0],\n",
    "    [0,0.01,0,0,0,0,0,0,0,0,0,0,0,0,0,0,0,0],\n",
    "    [0,0,1,0,0,0,0,0,0,0,0,0,0,0,0,0,0,0],\n",
    "    [0,0,0,1,0,0,0,0,0,0,0,0,0,0,0,0,0,0],\n",
    "    [0,0,0,0,1,0,0,0,0,0,0,0,0,0,0,0,0,0],\n",
    "    [0,0,0,0,0,0.01,0,0,0,0,0,0,0,0,0,0,0,0],\n",
    "    [0,0,0,0,0,0,1,0,0,0,0,0,0,0,0,0,0,0],\n",
    "    [0,0,0,0,0,0,0,1,0,0,0,0,0,0,0,0,0,0],\n",
    "    [0,0,0,0,0,0,0,0,1,0,0,0,0,0,0,0,0,0],\n",
    "    [0,0,0,0,0,0,0,0,0,1,0,0,0,0,0,0,0,0],\n",
    "    [0,0,0,0,0,0,0,0,0,0,1,0,0,0,0,0,0,0],\n",
    "    [0,0,0,0,0,0,0,0,0,0,0,1,0,0,0,0,0,0],\n",
    "    [0,0,0,0,0,0,0,0,0,0,0,0,1,0,0,0,0,0],\n",
    "    [0,0,0,0,0,0,0,0,0,0,0,0,0,1,0,0,0,0],\n",
    "    [0,0,0,0,0,0,0,0,0,0,0,0,0,0,1,0,0,0],\n",
    "    [0,0,0,0,0,0,0,0,0,0,0,0,0,0,0,1,0,0],\n",
    "    [0,0,0,0,0,0,0,0,0,0,0,0,0,0,0,0,1,0],\n",
    "    [0,0,0,0,0,0,0,0,0,0,0,0,0,0,0,0,0,1]\n",
    "    ])"
   ]
  },
  {
   "cell_type": "code",
   "execution_count": null,
   "id": "082923f8",
   "metadata": {
    "ExecuteTime": {
     "end_time": "2022-02-14T17:11:40.932653Z",
     "start_time": "2022-02-14T17:11:40.932646Z"
    }
   },
   "outputs": [],
   "source": [
    "factor3 = ee.Image(coef3)\\\n",
    "                .matrixMultiply(texturas_evi) \\\n",
    "                .arrayProject([0])\\\n",
    "                .arrayFlatten(\n",
    "                [['EVI_asm',\n",
    " 'EVI_contrast',\n",
    " 'EVI_corr',\n",
    " 'EVI_var',\n",
    " 'EVI_idm',\n",
    " 'EVI_savg',\n",
    " 'EVI_svar',\n",
    " 'EVI_sent',\n",
    " 'EVI_ent',\n",
    " 'EVI_dvar',\n",
    " 'EVI_dent',\n",
    " 'EVI_imcorr1',\n",
    " 'EVI_imcorr2',\n",
    " 'EVI_maxcorr',\n",
    " 'EVI_diss',\n",
    " 'EVI_inertia',\n",
    " 'EVI_shade',\n",
    " 'EVI_prom']])"
   ]
  },
  {
   "cell_type": "code",
   "execution_count": null,
   "id": "2cb59bdc",
   "metadata": {
    "ExecuteTime": {
     "end_time": "2022-02-14T17:11:40.933255Z",
     "start_time": "2022-02-14T17:11:40.933247Z"
    }
   },
   "outputs": [],
   "source": [
    "Map4.addLayer(factor3.select('EVI_corr'), {} ,'correlacion' )\n",
    "Map4"
   ]
  },
  {
   "cell_type": "code",
   "execution_count": null,
   "id": "01eda23e",
   "metadata": {
    "ExecuteTime": {
     "end_time": "2022-02-14T17:11:40.934039Z",
     "start_time": "2022-02-14T17:11:40.934028Z"
    }
   },
   "outputs": [],
   "source": [
    "texturas_EVI = factor3.select('EVI_savg','EVI_var','EVI_contrast','EVI_diss','EVI_ent','EVI_asm','EVI_corr')"
   ]
  },
  {
   "cell_type": "code",
   "execution_count": null,
   "id": "7b72d0dd",
   "metadata": {
    "ExecuteTime": {
     "end_time": "2022-02-14T17:11:40.934684Z",
     "start_time": "2022-02-14T17:11:40.934676Z"
    }
   },
   "outputs": [],
   "source": [
    "data_txt_evi = texturas_EVI.sampleRegions(**{\n",
    "    'collection': test1,\n",
    "    'properties': ['C_ID'],\n",
    "    'scale': 30,\n",
    "    'tileScale': 2,\n",
    "})"
   ]
  },
  {
   "cell_type": "code",
   "execution_count": null,
   "id": "e11c753f",
   "metadata": {
    "ExecuteTime": {
     "end_time": "2022-02-14T17:11:40.935269Z",
     "start_time": "2022-02-14T17:11:40.935258Z"
    }
   },
   "outputs": [],
   "source": [
    "tablas4 = ee.batch.Export.table.toDrive(**{\n",
    "  'collection': data_txt_evi,\n",
    "  'description': 'txt_evi',\n",
    "  'fileFormat': 'CSV'\n",
    "})"
   ]
  },
  {
   "cell_type": "code",
   "execution_count": null,
   "id": "bb2d81cd",
   "metadata": {
    "ExecuteTime": {
     "end_time": "2022-02-14T17:11:40.935998Z",
     "start_time": "2022-02-14T17:11:40.935989Z"
    }
   },
   "outputs": [],
   "source": [
    "tablas4.start()"
   ]
  },
  {
   "cell_type": "markdown",
   "id": "b47c8c2d",
   "metadata": {},
   "source": [
    "### DEM"
   ]
  },
  {
   "cell_type": "code",
   "execution_count": null,
   "id": "1e589fd2",
   "metadata": {
    "ExecuteTime": {
     "end_time": "2022-02-14T17:11:40.936519Z",
     "start_time": "2022-02-14T17:11:40.936512Z"
    }
   },
   "outputs": [],
   "source": [
    "dem = ee.Image('USGS/SRTMGL1_003').clip(patagonia_grande)"
   ]
  },
  {
   "cell_type": "code",
   "execution_count": null,
   "id": "68a1da78",
   "metadata": {
    "ExecuteTime": {
     "end_time": "2022-02-14T17:11:40.937217Z",
     "start_time": "2022-02-14T17:11:40.937208Z"
    }
   },
   "outputs": [],
   "source": [
    "elevation = dem.select('elevation')"
   ]
  },
  {
   "cell_type": "code",
   "execution_count": null,
   "id": "a40d4496",
   "metadata": {
    "ExecuteTime": {
     "end_time": "2022-02-14T17:11:40.937784Z",
     "start_time": "2022-02-14T17:11:40.937769Z"
    }
   },
   "outputs": [],
   "source": [
    "slope = ee.Terrain.slope(elevation)"
   ]
  },
  {
   "cell_type": "code",
   "execution_count": null,
   "id": "10b15563",
   "metadata": {
    "ExecuteTime": {
     "end_time": "2022-02-14T17:11:40.938342Z",
     "start_time": "2022-02-14T17:11:40.938333Z"
    }
   },
   "outputs": [],
   "source": [
    "aspect = ee.Terrain.aspect(dem)"
   ]
  },
  {
   "cell_type": "code",
   "execution_count": null,
   "id": "5250d642",
   "metadata": {
    "ExecuteTime": {
     "end_time": "2022-02-14T17:11:40.938932Z",
     "start_time": "2022-02-14T17:11:40.938924Z"
    }
   },
   "outputs": [],
   "source": [
    "Map5.addLayer(aspect, {} ,'slope' )\n",
    "Map5"
   ]
  },
  {
   "cell_type": "code",
   "execution_count": null,
   "id": "ca110a09",
   "metadata": {
    "ExecuteTime": {
     "end_time": "2022-02-14T17:11:40.939545Z",
     "start_time": "2022-02-14T17:11:40.939536Z"
    }
   },
   "outputs": [],
   "source": [
    "dem_data = elevation.addBands([slope,aspect])"
   ]
  },
  {
   "cell_type": "code",
   "execution_count": null,
   "id": "95aed35b",
   "metadata": {
    "ExecuteTime": {
     "end_time": "2022-02-14T17:11:40.940094Z",
     "start_time": "2022-02-14T17:11:40.940085Z"
    }
   },
   "outputs": [],
   "source": [
    "dem_data.bandNames().getInfo()"
   ]
  },
  {
   "cell_type": "code",
   "execution_count": null,
   "id": "d509a962",
   "metadata": {
    "ExecuteTime": {
     "end_time": "2022-02-14T17:11:40.940600Z",
     "start_time": "2022-02-14T17:11:40.940590Z"
    }
   },
   "outputs": [],
   "source": [
    "data_dem = dem_data.sampleRegions(**{\n",
    "    'collection': test1,\n",
    "    'properties': ['C_ID'],\n",
    "    'scale': 30,\n",
    "    'tileScale': 2,\n",
    "})"
   ]
  },
  {
   "cell_type": "code",
   "execution_count": null,
   "id": "2ab0aca5",
   "metadata": {
    "ExecuteTime": {
     "end_time": "2022-02-14T17:11:40.941170Z",
     "start_time": "2022-02-14T17:11:40.941163Z"
    }
   },
   "outputs": [],
   "source": [
    "tablasdem = ee.batch.Export.table.toDrive(**{\n",
    "  'collection': data_dem,\n",
    "  'description': 'txt_dem',\n",
    "  'fileFormat': 'CSV'\n",
    "})"
   ]
  },
  {
   "cell_type": "code",
   "execution_count": null,
   "id": "5f8d4c10",
   "metadata": {
    "ExecuteTime": {
     "end_time": "2022-02-14T17:11:40.941848Z",
     "start_time": "2022-02-14T17:11:40.941832Z"
    }
   },
   "outputs": [],
   "source": [
    "tablasdem.start()"
   ]
  },
  {
   "cell_type": "markdown",
   "id": "5bf4e2ba",
   "metadata": {},
   "source": [
    "### Serie de NDVI"
   ]
  },
  {
   "cell_type": "markdown",
   "id": "71b14f16",
   "metadata": {},
   "source": [
    "#### Índices Primavera"
   ]
  },
  {
   "cell_type": "code",
   "execution_count": null,
   "id": "76a2991a",
   "metadata": {
    "ExecuteTime": {
     "end_time": "2022-02-14T17:11:40.942419Z",
     "start_time": "2022-02-14T17:11:40.942409Z"
    }
   },
   "outputs": [],
   "source": [
    "start_date = '2021-09-30'\n",
    "end_date = '2022-03-31'\n",
    "\n",
    "l8_2021 = ee.ImageCollection('LANDSAT/LC08/C01/T1_TOA') \\\n",
    "    .filterBounds(patagonia_grande) \\\n",
    "    .filterDate(start_date, end_date)  "
   ]
  },
  {
   "cell_type": "markdown",
   "id": "4d8b0521",
   "metadata": {},
   "source": [
    "#### Índices Invierno"
   ]
  },
  {
   "cell_type": "markdown",
   "id": "aa35ddce",
   "metadata": {},
   "source": [
    "##### Colección"
   ]
  },
  {
   "cell_type": "code",
   "execution_count": null,
   "id": "03a5af16",
   "metadata": {
    "ExecuteTime": {
     "end_time": "2022-02-14T17:11:40.943126Z",
     "start_time": "2022-02-14T17:11:40.943116Z"
    }
   },
   "outputs": [],
   "source": [
    "filterwinter = ee.Filter.Or(\n",
    "    ee.Filter.date('2021-06-30','2021-09-01'),\n",
    "    ee.Filter.date('2020-06-30','2020-09-01'),\n",
    "    ee.Filter.date('2019-06-30','2019-09-01'),\n",
    "    ee.Filter.date('2018-06-30','2018-09-01'),\n",
    "    ee.Filter.date('2017-06-30','2017-09-01')\n",
    ")"
   ]
  },
  {
   "cell_type": "code",
   "execution_count": null,
   "id": "f7454d39",
   "metadata": {
    "ExecuteTime": {
     "end_time": "2022-02-14T17:11:40.943653Z",
     "start_time": "2022-02-14T17:11:40.943645Z"
    }
   },
   "outputs": [],
   "source": [
    "coleccion2022_2017_invierno = ee.ImageCollection('LANDSAT/LC08/C01/T1_TOA') \\\n",
    "    .filterDate('2017-06-30', '2022-09-01') \\\n",
    "    .filter(filterwinter) \\\n",
    "    .filterBounds(patagonia_grande)"
   ]
  },
  {
   "cell_type": "code",
   "execution_count": null,
   "id": "b4a898bb",
   "metadata": {
    "ExecuteTime": {
     "end_time": "2022-02-14T17:11:40.944222Z",
     "start_time": "2022-02-14T17:11:40.944213Z"
    }
   },
   "outputs": [],
   "source": [
    "l8_winter= coleccion2022_2017_invierno.map(addNDVI).map(addNDWI).map(addNDGI).map(addSAVI).map(addNDSI).map(addNDBI).map(addEVI).map(addDate).map(addCloud)"
   ]
  },
  {
   "cell_type": "code",
   "execution_count": null,
   "id": "21f952d1",
   "metadata": {
    "ExecuteTime": {
     "end_time": "2022-02-14T17:11:40.944882Z",
     "start_time": "2022-02-14T17:11:40.944873Z"
    }
   },
   "outputs": [],
   "source": [
    "Tier1_winter_sn = l8_winter.map(Cloud10)\n",
    "Tier2_winter_sn = l8_winter.map(Cloud20)\n",
    "Tier3_winter_sn = l8_winter.map(Cloud30)\n",
    "Tier4_winter_sn = l8_winter.map(Cloud40)\n",
    "QM_NDVI_winterT1_sn = Tier1_winter_sn.qualityMosaic('NDVI')\n",
    "QM_NDVI_winterT2_sn = Tier2_winter_sn.qualityMosaic('NDVI')\n",
    "QM_NDVI_winterT3_sn = Tier3_winter_sn.qualityMosaic('NDVI')\n",
    "QM_NDVI_winterT4_sn = Tier4_winter_sn.qualityMosaic('NDVI')\n",
    "Med_NDVI_winterT1_sn = (Tier1_winter_sn.median()).select('NDVI')\n",
    "Med_NDVI_winterT2_sn = (Tier2_winter_sn.median()).select('NDVI')\n",
    "Med_NDVI_winterT3_sn = (Tier3_winter_sn.median()).select('NDVI')\n",
    "Med_NDVI_winterT4_sn = (Tier4_winter_sn.median()).select('NDVI')\n",
    "QM_NDWI_winterT1_sn = Tier1_winter_sn.qualityMosaic('NDWI')\n",
    "cloudest_winter = l8_winter.qualityMosaic('nube')"
   ]
  },
  {
   "cell_type": "code",
   "execution_count": null,
   "id": "361ddf5c",
   "metadata": {
    "ExecuteTime": {
     "end_time": "2022-02-14T17:11:40.945358Z",
     "start_time": "2022-02-14T17:11:40.945351Z"
    }
   },
   "outputs": [],
   "source": [
    "NDVI_2021_landsatw = cloudest_winter.set('SENSOR_ID', 'OLI_TIRS')\n",
    "cloud_2021w = ee.Algorithms.Landsat.simpleCloudScore(NDVI_2021_landsatw)\n",
    "cloud_2021w = cloud_2021w.select('cloud')\n",
    "palette_nubes = ['#1a9850', '#d73027']\n",
    "resultados= [cloud_2021w, cloudest_winter]\n",
    "vis_params2=  [\n",
    "    {'palette':palette_nubes}, \n",
    "    vizParams]\n",
    "labels = [\n",
    "    'Nubes 2021',\n",
    "    'QM NDVI 2021']"
   ]
  },
  {
   "cell_type": "code",
   "execution_count": null,
   "id": "3f9873ae",
   "metadata": {
    "ExecuteTime": {
     "end_time": "2022-02-14T17:11:40.945924Z",
     "start_time": "2022-02-14T17:11:40.945912Z"
    }
   },
   "outputs": [],
   "source": [
    "geemap.linked_maps(rows=1, cols=2, height=\"400px\", center=[-45, -75], zoom=4, \n",
    "                   ee_objects=resultados, vis_params=vis_params2, labels=labels, label_position=\"topright\")"
   ]
  },
  {
   "cell_type": "code",
   "execution_count": null,
   "id": "4a5662ac",
   "metadata": {
    "ExecuteTime": {
     "end_time": "2022-02-14T17:11:40.946554Z",
     "start_time": "2022-02-14T17:11:40.946546Z"
    }
   },
   "outputs": [],
   "source": [
    "def llenado(image):\n",
    "    return image.where(cloud_2021w.gt(10),QM_NDVI_winterT1_sn)"
   ]
  },
  {
   "cell_type": "code",
   "execution_count": null,
   "id": "26d3e67f",
   "metadata": {
    "ExecuteTime": {
     "end_time": "2022-02-14T17:11:40.947220Z",
     "start_time": "2022-02-14T17:11:40.947211Z"
    }
   },
   "outputs": [],
   "source": [
    "img1w = llenado(cloudest_winter)"
   ]
  },
  {
   "cell_type": "code",
   "execution_count": null,
   "id": "f1de3817",
   "metadata": {
    "ExecuteTime": {
     "end_time": "2022-02-14T17:11:40.947788Z",
     "start_time": "2022-02-14T17:11:40.947781Z"
    }
   },
   "outputs": [],
   "source": [
    "img1_landsatw = img1w.set('SENSOR_ID', 'OLI_TIRS')\n",
    "cloud_img1w = ee.Algorithms.Landsat.simpleCloudScore(img1_landsatw)\n",
    "cloud_img1w = cloud_img1w.select('cloud')\n",
    "resultados= [cloud_img1w, img1_landsatw]\n",
    "vis_params2=  [\n",
    "    {'palette':palette_nubes}, \n",
    "    vizParams]\n",
    "labels = [\n",
    "    'Nubes Mosaico 1',\n",
    "    'Mosaico 1']\n"
   ]
  },
  {
   "cell_type": "code",
   "execution_count": null,
   "id": "08b220cc",
   "metadata": {
    "ExecuteTime": {
     "end_time": "2022-02-14T17:11:40.948510Z",
     "start_time": "2022-02-14T17:11:40.948500Z"
    }
   },
   "outputs": [],
   "source": [
    "geemap.linked_maps(rows=1, cols=2, height=\"400px\", center=[-45, -75], zoom=4, \n",
    "                   ee_objects=resultados, vis_params=vis_params2, labels=labels, label_position=\"topright\")"
   ]
  },
  {
   "cell_type": "code",
   "execution_count": null,
   "id": "3b1d6328",
   "metadata": {
    "ExecuteTime": {
     "end_time": "2022-02-14T17:11:40.949055Z",
     "start_time": "2022-02-14T17:11:40.949048Z"
    }
   },
   "outputs": [],
   "source": [
    "def llenado2(image):\n",
    "    return image.where(cloud_img1w.gt(10), QM_NDVI_winterT2_sn)"
   ]
  },
  {
   "cell_type": "code",
   "execution_count": null,
   "id": "3ba29597",
   "metadata": {
    "ExecuteTime": {
     "end_time": "2022-02-14T17:11:40.949869Z",
     "start_time": "2022-02-14T17:11:40.949856Z"
    }
   },
   "outputs": [],
   "source": [
    "img2w = llenado2(img1w)"
   ]
  },
  {
   "cell_type": "code",
   "execution_count": null,
   "id": "d56fc7ca",
   "metadata": {
    "ExecuteTime": {
     "end_time": "2022-02-14T17:11:40.950573Z",
     "start_time": "2022-02-14T17:11:40.950564Z"
    }
   },
   "outputs": [],
   "source": [
    "img2_landsatw = img2w.set('SENSOR_ID', 'OLI_TIRS')\n",
    "cloud_img2w = ee.Algorithms.Landsat.simpleCloudScore(img2_landsatw)\n",
    "cloud_img2w = cloud_img2w.select('cloud')\n",
    "resultados= [cloud_img2w, img2_landsatw]\n",
    "vis_params2=  [\n",
    "    {'palette':palette_nubes}, \n",
    "    vizParams]\n",
    "labels = [\n",
    "    'Nubes Mosaico 2',\n",
    "    'Mosaico 2']"
   ]
  },
  {
   "cell_type": "code",
   "execution_count": null,
   "id": "88cb46ab",
   "metadata": {
    "ExecuteTime": {
     "end_time": "2022-02-14T17:11:40.951228Z",
     "start_time": "2022-02-14T17:11:40.951220Z"
    }
   },
   "outputs": [],
   "source": [
    "geemap.linked_maps(rows=1, cols=2, height=\"400px\", center=[-45, -75], zoom=4, \n",
    "                   ee_objects=resultados, vis_params=vis_params2, labels=labels, label_position=\"topright\")"
   ]
  },
  {
   "cell_type": "code",
   "execution_count": null,
   "id": "3356de7b",
   "metadata": {
    "ExecuteTime": {
     "end_time": "2022-02-14T17:11:40.951745Z",
     "start_time": "2022-02-14T17:11:40.951735Z"
    }
   },
   "outputs": [],
   "source": [
    "def llenado3(image):\n",
    "    return image.where(cloud_img2w.gt(10), QM_NDVI_winterT3_sn)"
   ]
  },
  {
   "cell_type": "code",
   "execution_count": null,
   "id": "0e7cd55e",
   "metadata": {
    "ExecuteTime": {
     "end_time": "2022-02-14T17:11:40.952310Z",
     "start_time": "2022-02-14T17:11:40.952304Z"
    }
   },
   "outputs": [],
   "source": [
    "img3w = llenado3(img2w)"
   ]
  },
  {
   "cell_type": "code",
   "execution_count": null,
   "id": "c4f76970",
   "metadata": {
    "ExecuteTime": {
     "end_time": "2022-02-14T17:11:40.952946Z",
     "start_time": "2022-02-14T17:11:40.952936Z"
    }
   },
   "outputs": [],
   "source": [
    "img3_landsatw = img3w.set('SENSOR_ID', 'OLI_TIRS')\n",
    "cloud_img3w = ee.Algorithms.Landsat.simpleCloudScore(img3_landsatw)\n",
    "cloud_img3w = cloud_img3w.select('cloud')\n",
    "resultados= [cloud_img3w, img3_landsatw]\n",
    "vis_params2=  [\n",
    "    {'palette':palette_nubes}, \n",
    "    vizParams]\n",
    "labels = [\n",
    "    'Nubes Mosaico 3',\n",
    "    'Mosaico 3']"
   ]
  },
  {
   "cell_type": "code",
   "execution_count": null,
   "id": "d2cb75bb",
   "metadata": {
    "ExecuteTime": {
     "end_time": "2022-02-14T17:11:40.953474Z",
     "start_time": "2022-02-14T17:11:40.953467Z"
    }
   },
   "outputs": [],
   "source": [
    "geemap.linked_maps(rows=1, cols=2, height=\"400px\", center=[-45, -75], zoom=4, \n",
    "                   ee_objects=resultados, vis_params=vis_params2, labels=labels, label_position=\"topright\")"
   ]
  },
  {
   "cell_type": "code",
   "execution_count": null,
   "id": "6f60bb99",
   "metadata": {
    "ExecuteTime": {
     "end_time": "2022-02-14T17:11:40.954247Z",
     "start_time": "2022-02-14T17:11:40.954237Z"
    }
   },
   "outputs": [],
   "source": [
    "def llenado4(image):\n",
    "    return image.where(cloud_img3w.gt(10), QM_NDVI_winterT4_sn)"
   ]
  },
  {
   "cell_type": "code",
   "execution_count": null,
   "id": "8dffa730",
   "metadata": {
    "ExecuteTime": {
     "end_time": "2022-02-14T17:11:40.954886Z",
     "start_time": "2022-02-14T17:11:40.954869Z"
    }
   },
   "outputs": [],
   "source": [
    "img4w = llenado4(img3w)"
   ]
  },
  {
   "cell_type": "code",
   "execution_count": null,
   "id": "2691a284",
   "metadata": {
    "ExecuteTime": {
     "end_time": "2022-02-14T17:11:40.955579Z",
     "start_time": "2022-02-14T17:11:40.955568Z"
    }
   },
   "outputs": [],
   "source": [
    "img4_landsatw = img4w.set('SENSOR_ID', 'OLI_TIRS')\n",
    "cloud_img4w = ee.Algorithms.Landsat.simpleCloudScore(img4_landsatw)\n",
    "cloud_img4w = cloud_img4w.select('cloud')\n",
    "resultados= [cloud_img4w, img4_landsatw]\n",
    "vis_params2=  [\n",
    "    {'palette':palette_nubes}, \n",
    "    vizParams]\n",
    "labels = [\n",
    "    'Nubes Mosaico 4',\n",
    "    'Mosaico 4']"
   ]
  },
  {
   "cell_type": "code",
   "execution_count": null,
   "id": "3f75eab5",
   "metadata": {
    "ExecuteTime": {
     "end_time": "2022-02-14T17:11:40.956207Z",
     "start_time": "2022-02-14T17:11:40.956198Z"
    }
   },
   "outputs": [],
   "source": [
    "geemap.linked_maps(rows=1, cols=2, height=\"400px\", center=[-45, -75], zoom=4, \n",
    "                   ee_objects=resultados, vis_params=vis_params2, labels=labels, label_position=\"topright\")"
   ]
  },
  {
   "cell_type": "code",
   "execution_count": null,
   "id": "aecc9229",
   "metadata": {
    "ExecuteTime": {
     "end_time": "2022-02-14T17:11:40.956797Z",
     "start_time": "2022-02-14T17:11:40.956789Z"
    }
   },
   "outputs": [],
   "source": [
    "hansenImage = ee.Image('UMD/hansen/global_forest_change_2015')\n",
    "datamask = hansenImage.select('datamask')"
   ]
  },
  {
   "cell_type": "code",
   "execution_count": null,
   "id": "6d468e38",
   "metadata": {
    "ExecuteTime": {
     "end_time": "2022-02-14T17:11:40.957320Z",
     "start_time": "2022-02-14T17:11:40.957311Z"
    }
   },
   "outputs": [],
   "source": [
    "def llenado5(image):\n",
    "    return image.where(datamask.eq(2), QM_NDWI_winterT1_sn)"
   ]
  },
  {
   "cell_type": "code",
   "execution_count": null,
   "id": "2b037646",
   "metadata": {
    "ExecuteTime": {
     "end_time": "2022-02-14T17:11:40.957856Z",
     "start_time": "2022-02-14T17:11:40.957848Z"
    }
   },
   "outputs": [],
   "source": [
    "img5w = llenado5(img4w)"
   ]
  },
  {
   "cell_type": "code",
   "execution_count": null,
   "id": "7effd1b3",
   "metadata": {
    "ExecuteTime": {
     "end_time": "2022-02-14T17:11:40.958585Z",
     "start_time": "2022-02-14T17:11:40.958575Z"
    }
   },
   "outputs": [],
   "source": [
    "img5_landsatw = img5w.set('SENSOR_ID', 'OLI_TIRS')"
   ]
  },
  {
   "cell_type": "code",
   "execution_count": null,
   "id": "a224b476",
   "metadata": {
    "ExecuteTime": {
     "end_time": "2022-02-14T17:11:40.959230Z",
     "start_time": "2022-02-14T17:11:40.959214Z"
    }
   },
   "outputs": [],
   "source": [
    "resultados= [img4w, img5w]\n",
    "labels = [\n",
    "    'Mosaico 4',\n",
    "    'Mosaico 5']\n",
    "vis_params3=  [\n",
    "     vizParams, \n",
    "    vizParams]"
   ]
  },
  {
   "cell_type": "code",
   "execution_count": null,
   "id": "fd208aef",
   "metadata": {
    "ExecuteTime": {
     "end_time": "2022-02-14T17:11:40.959845Z",
     "start_time": "2022-02-14T17:11:40.959836Z"
    }
   },
   "outputs": [],
   "source": [
    "geemap.linked_maps(rows=1, cols=2, height=\"400px\", center=[-45, -75], zoom=4, \n",
    "                   ee_objects=resultados, vis_params=vis_params3, labels=labels, label_position=\"topright\")"
   ]
  },
  {
   "cell_type": "code",
   "execution_count": null,
   "id": "d3604139",
   "metadata": {
    "ExecuteTime": {
     "end_time": "2022-02-14T17:11:40.960485Z",
     "start_time": "2022-02-14T17:11:40.960475Z"
    }
   },
   "outputs": [],
   "source": [
    "img5_winter_NDVI = img5w.select('NDVI')\n",
    "img5_winter_NDVI = img5w.select('EVI')"
   ]
  },
  {
   "cell_type": "code",
   "execution_count": null,
   "id": "813cba93",
   "metadata": {},
   "outputs": [],
   "source": []
  },
  {
   "cell_type": "code",
   "execution_count": null,
   "id": "11f41339",
   "metadata": {},
   "outputs": [],
   "source": []
  },
  {
   "cell_type": "code",
   "execution_count": null,
   "id": "798ef575",
   "metadata": {},
   "outputs": [],
   "source": []
  },
  {
   "cell_type": "code",
   "execution_count": null,
   "id": "72b78c09",
   "metadata": {},
   "outputs": [],
   "source": []
  },
  {
   "cell_type": "code",
   "execution_count": null,
   "id": "f8dd4f0a",
   "metadata": {},
   "outputs": [],
   "source": []
  },
  {
   "cell_type": "code",
   "execution_count": null,
   "id": "6c2a5d5a",
   "metadata": {},
   "outputs": [],
   "source": []
  },
  {
   "cell_type": "code",
   "execution_count": null,
   "id": "15ff692d",
   "metadata": {},
   "outputs": [],
   "source": []
  },
  {
   "cell_type": "markdown",
   "id": "1a2e8c62",
   "metadata": {},
   "source": [
    "#### Índices Otoño"
   ]
  },
  {
   "cell_type": "code",
   "execution_count": null,
   "id": "19b11a83",
   "metadata": {},
   "outputs": [],
   "source": []
  },
  {
   "cell_type": "code",
   "execution_count": null,
   "id": "8b7b1ec1",
   "metadata": {},
   "outputs": [],
   "source": []
  },
  {
   "cell_type": "code",
   "execution_count": null,
   "id": "34762c08",
   "metadata": {},
   "outputs": [],
   "source": []
  },
  {
   "cell_type": "code",
   "execution_count": null,
   "id": "2ca435b5",
   "metadata": {},
   "outputs": [],
   "source": []
  },
  {
   "cell_type": "code",
   "execution_count": null,
   "id": "21b9d819",
   "metadata": {},
   "outputs": [],
   "source": []
  },
  {
   "cell_type": "code",
   "execution_count": null,
   "id": "4c44ecae",
   "metadata": {},
   "outputs": [],
   "source": []
  },
  {
   "cell_type": "code",
   "execution_count": null,
   "id": "75cead68",
   "metadata": {},
   "outputs": [],
   "source": []
  }
 ],
 "metadata": {
  "kernelspec": {
   "display_name": "Python 3 (ipykernel)",
   "language": "python",
   "name": "python3"
  },
  "language_info": {
   "codemirror_mode": {
    "name": "ipython",
    "version": 3
   },
   "file_extension": ".py",
   "mimetype": "text/x-python",
   "name": "python",
   "nbconvert_exporter": "python",
   "pygments_lexer": "ipython3",
   "version": "3.8.12"
  },
  "toc": {
   "base_numbering": 1,
   "nav_menu": {},
   "number_sections": true,
   "sideBar": true,
   "skip_h1_title": false,
   "title_cell": "Table of Contents",
   "title_sidebar": "Contents",
   "toc_cell": false,
   "toc_position": {
    "height": "calc(100% - 180px)",
    "left": "10px",
    "top": "150px",
    "width": "384px"
   },
   "toc_section_display": true,
   "toc_window_display": true
  },
  "varInspector": {
   "cols": {
    "lenName": 16,
    "lenType": 16,
    "lenVar": 40
   },
   "kernels_config": {
    "python": {
     "delete_cmd_postfix": "",
     "delete_cmd_prefix": "del ",
     "library": "var_list.py",
     "varRefreshCmd": "print(var_dic_list())"
    },
    "r": {
     "delete_cmd_postfix": ") ",
     "delete_cmd_prefix": "rm(",
     "library": "var_list.r",
     "varRefreshCmd": "cat(var_dic_list()) "
    }
   },
   "types_to_exclude": [
    "module",
    "function",
    "builtin_function_or_method",
    "instance",
    "_Feature"
   ],
   "window_display": false
  }
 },
 "nbformat": 4,
 "nbformat_minor": 5
}
