{
 "cells": [
  {
   "cell_type": "markdown",
   "id": "c8ee7fef",
   "metadata": {},
   "source": [
    "# Mosaico 2021"
   ]
  },
  {
   "cell_type": "markdown",
   "id": "203f76ca",
   "metadata": {},
   "source": [
    "Script trabajado por Francisco Albornoz (2022-02-01) / Última modificación / Mosaicos Patagonia"
   ]
  },
  {
   "cell_type": "markdown",
   "id": "2fb5cdeb",
   "metadata": {},
   "source": [
    "2022-02-01 13:20:38 "
   ]
  },
  {
   "cell_type": "code",
   "execution_count": 1,
   "id": "3057c761",
   "metadata": {
    "ExecuteTime": {
     "end_time": "2022-02-03T13:58:08.488144Z",
     "start_time": "2022-02-03T13:58:07.360712Z"
    }
   },
   "outputs": [],
   "source": [
    "import ee \n",
    "import geemap\n",
    "import geemap.chart as chart\n",
    "import os\n",
    "import folium\n",
    "import xarray_leaflet\n",
    "import rasterio \n",
    "from rasterio import plot\n",
    "import matplotlib.pyplot as plt\n",
    "import numpy as np\n",
    "%matplotlib inline"
   ]
  },
  {
   "cell_type": "markdown",
   "id": "1997eeb4",
   "metadata": {},
   "source": [
    "<img src=https://www.ecopaysen.cl/wp-content/uploads/2019/12/ecopaysen_marca_web.png>"
   ]
  },
  {
   "cell_type": "code",
   "execution_count": 2,
   "id": "fca49a56",
   "metadata": {
    "ExecuteTime": {
     "end_time": "2022-02-03T13:58:19.747107Z",
     "start_time": "2022-02-03T13:58:08.489229Z"
    }
   },
   "outputs": [],
   "source": [
    "Map = geemap.Map(center = [-45, -70], zoom = 4)\n",
    "Map1 = geemap.Map(center = [-45, -70], zoom = 4)\n",
    "Map2 = geemap.Map(center = [-45, -70], zoom = 4)\n",
    "Map3 = geemap.Map(center = [-45, -70], zoom = 4)\n",
    "Map4 = geemap.Map(center = [-45, -70], zoom = 4)\n",
    "Map5 = geemap.Map(center = [-45, -70], zoom = 4)\n",
    "Map6 = geemap.Map(center = [-45, -70], zoom = 4)\n",
    "Map7 = geemap.Map(center = [-45, -70], zoom = 4)\n",
    "Map8 = geemap.Map(center = [-45, -70], zoom = 4)\n",
    "Map9 = geemap.Map(center = [-45, -70], zoom = 4)\n",
    "Map10 = geemap.Map(center = [-45, -70], zoom = 4)\n",
    "Map11 = geemap.Map(center = [-45, -70], zoom = 4)\n",
    "Map12 = geemap.Map(center = [-45, -70], zoom = 4)\n",
    "Map13 = geemap.Map(center = [-45, -70], zoom = 4)\n",
    "Map14 = geemap.Map(center = [-45, -70], zoom = 4)\n",
    "Map15 = geemap.Map(center = [-45, -70], zoom = 4)\n",
    "Map16 = geemap.Map(center = [-45, -70], zoom = 4)"
   ]
  },
  {
   "cell_type": "markdown",
   "id": "f26fe1a2",
   "metadata": {},
   "source": [
    "## Área de Estudio"
   ]
  },
  {
   "cell_type": "code",
   "execution_count": 3,
   "id": "2aae613d",
   "metadata": {
    "ExecuteTime": {
     "end_time": "2022-02-03T13:58:20.749348Z",
     "start_time": "2022-02-03T13:58:19.748005Z"
    }
   },
   "outputs": [],
   "source": [
    "work_dir = os.path.expanduser('../Data/')\n",
    "patagonia = os.path.join(work_dir, 'patagonia_geo.shp')\n",
    "patagonia_grande = geemap.shp_to_ee(patagonia)\n",
    "tierra_fuego =os.path.join(work_dir, 'tierra_fuego.shp')\n",
    "tierra_fuego = geemap.shp_to_ee(tierra_fuego)"
   ]
  },
  {
   "cell_type": "code",
   "execution_count": 4,
   "id": "4dbbceda",
   "metadata": {
    "ExecuteTime": {
     "end_time": "2022-02-03T13:58:20.759563Z",
     "start_time": "2022-02-03T13:58:20.751159Z"
    }
   },
   "outputs": [],
   "source": [
    "geometry_exp = ee.Geometry.Polygon(\n",
    "        [[[-72.56281773604495, -33.81999514196144],\n",
    "          [-72.96381871260745, -35.294382843203024],\n",
    "          [-73.27692906416995, -35.25850698608905],\n",
    "          [-74.15583531416995, -38.13757615203617],\n",
    "          [-73.96357457198245, -38.16349478321529],\n",
    "          [-74.41603250978783, -39.59214901926122],\n",
    "          [-73.71840067385033, -39.70212049569608],\n",
    "          [-74.48057965994737, -41.961233926702086],\n",
    "          [-76.23199334221133, -46.599308425949715],\n",
    "          [-75.71838250236758, -46.6705186900265],\n",
    "          [-76.31583416780423, -48.08335993023956],\n",
    "          [-75.6739504332226, -48.17601084778724],\n",
    "          [-76.1812028986966, -49.3089458997328],\n",
    "          [-75.8516130549466, -49.35190435466257],\n",
    "          [-75.88182545729035, -49.42252520588146],\n",
    "          [-75.62776661939972, -49.4593908439046],\n",
    "          [-75.87838309772656, -50.0286830263256],\n",
    "          [-75.4746355391328, -50.08951678614621],\n",
    "          [-75.54325576346766, -50.23909657453096],\n",
    "          [-75.77780697097086, -50.76007049594944],\n",
    "          [-75.16119930495523, -50.84458853545005],\n",
    "          [-75.38504574050211, -51.344039508567974],\n",
    "          [-75.5541538866841, -51.71140521484993],\n",
    "          [-75.18336531246536, -51.75648162278235],\n",
    "          [-75.47788882049618, -52.3659753295982],\n",
    "          [-74.75894718310815, -52.46884703800526],\n",
    "          [-75.08565455837835, -53.06208069103826],\n",
    "          [-74.55801479059262, -53.126414996444055],\n",
    "          [-74.81690883977036, -53.6371915734125],\n",
    "          [-73.44408000172288, -53.83741753537409],\n",
    "          [-73.50862467945726, -53.95798563315933],\n",
    "          [-73.45231974781663, -53.967680681913386],\n",
    "          [-73.53197062672288, -54.11766576333605],\n",
    "          [-73.77219189508037, -54.57485104154676],\n",
    "          [-72.34049166499341, -54.77775087176573],\n",
    "          [-72.47759402717024, -55.03231503944354],\n",
    "          [-71.05285526571967, -55.24340674895388],\n",
    "          [-71.08306766806342, -55.29113504937561],\n",
    "          [-69.81960741798575, -55.47109132991434],\n",
    "          [-69.85119311134513, -55.51932330880519],\n",
    "          [-69.68227831642325, -55.544194128455445],\n",
    "          [-69.79214159767325, -55.75341614311607],\n",
    "          [-66.85410518726452, -56.21137383375629],\n",
    "          [-66.30968752348785, -55.25322454720416],\n",
    "          [-65.44176760161285, -55.378260612328376],\n",
    "          [-65.29222191220039, -55.084940556988364],\n",
    "          [-63.8145607793879, -55.29503930747886],\n",
    "          [-63.4410256231379, -54.559610949790994],\n",
    "          [-66.01731956845039, -54.18844646199444],\n",
    "          [-65.92942894345039, -53.97576673331468],\n",
    "          [-67.35765159970039, -53.77173637481835],\n",
    "          [-66.83490788218774, -52.56216102836118],\n",
    "          [-68.29059635875024, -52.351280557744616],\n",
    "          [-67.13664467133525, -49.5665018755825],\n",
    "          [-65.6891959408665, -49.77447361491692],\n",
    "          [-64.6040407061826, -46.886773053508534],\n",
    "          [-66.07346209290135, -46.670468623465915],\n",
    "          [-65.60651222417681, -45.29237148760689],\n",
    "          [-64.13159767339556, -45.51413819831776],\n",
    "          [-63.11762183127383, -42.44210625114028],\n",
    "          [-61.64820044455508, -42.65254570178212],\n",
    "          [-60.691700635610566, -39.58656313087865],\n",
    "          [-60.612049756704316, -39.597145764356114],\n",
    "          [-60.214053037778356, -38.26345264755797],\n",
    "          [-62.338430585556544, -37.86345563921212],\n",
    "          [-62.431814374619044, -38.13616213643378],\n",
    "          [-63.880475463562526, -37.8656239671591],\n",
    "          [-63.965619506531276, -38.12752037872568],\n",
    "          [-65.43863114657343, -37.86678770192114],\n",
    "          [-65.52652177157343, -38.12867996539086],\n",
    "          [-66.31753739657343, -37.98811028708228],\n",
    "          [-65.98609312949165, -36.82548737245019],\n",
    "          [-68.06866521074468, -36.43149799324939],\n",
    "          [-68.16204899980718, -36.70723234878123],\n",
    "          [-69.00250310136968, -36.55294237984414],\n",
    "          [-68.66838285254276, -35.38834808765389],\n",
    "          [-70.73190167990279, -35.008946233837705],\n",
    "          [-70.82528546896529, -35.29190694633577],\n",
    "          [-71.68771222677779, -35.11685679848462],\n",
    "          [-71.37460187521529, -33.95679291780399],\n",
    "          [-72.53365949240279, -33.733238932504804]]])"
   ]
  },
  {
   "cell_type": "markdown",
   "id": "fa8e2fea",
   "metadata": {},
   "source": [
    "## Colors Bars"
   ]
  },
  {
   "cell_type": "code",
   "execution_count": 5,
   "id": "1efebd11",
   "metadata": {
    "ExecuteTime": {
     "end_time": "2022-02-03T13:58:21.650247Z",
     "start_time": "2022-02-03T13:58:20.760287Z"
    }
   },
   "outputs": [],
   "source": [
    "import geemap.colormaps as cm"
   ]
  },
  {
   "cell_type": "code",
   "execution_count": 6,
   "id": "d159d70f",
   "metadata": {
    "ExecuteTime": {
     "end_time": "2022-02-03T13:58:21.652637Z",
     "start_time": "2022-02-03T13:58:21.651186Z"
    }
   },
   "outputs": [],
   "source": [
    "# cm.palettes.terrain"
   ]
  },
  {
   "cell_type": "code",
   "execution_count": 7,
   "id": "fe999a91",
   "metadata": {
    "ExecuteTime": {
     "end_time": "2022-02-03T13:58:21.657234Z",
     "start_time": "2022-02-03T13:58:21.653330Z"
    }
   },
   "outputs": [],
   "source": [
    "color_ndvi = cm.palettes.ndvi"
   ]
  },
  {
   "cell_type": "code",
   "execution_count": 8,
   "id": "05fb282a",
   "metadata": {
    "ExecuteTime": {
     "end_time": "2022-02-03T13:58:21.659574Z",
     "start_time": "2022-02-03T13:58:21.658087Z"
    }
   },
   "outputs": [],
   "source": [
    "color_ndwi = cm.palettes.ndwi"
   ]
  },
  {
   "cell_type": "code",
   "execution_count": 9,
   "id": "68161910",
   "metadata": {
    "ExecuteTime": {
     "end_time": "2022-02-03T13:58:21.661740Z",
     "start_time": "2022-02-03T13:58:21.660302Z"
    }
   },
   "outputs": [],
   "source": [
    "color_terrain = cm.palettes.terrain"
   ]
  },
  {
   "cell_type": "code",
   "execution_count": 10,
   "id": "8e99245f",
   "metadata": {
    "ExecuteTime": {
     "end_time": "2022-02-03T13:58:21.664476Z",
     "start_time": "2022-02-03T13:58:21.663074Z"
    }
   },
   "outputs": [],
   "source": [
    "color_glaciar = cm.palettes.PuBuGn_r"
   ]
  },
  {
   "cell_type": "code",
   "execution_count": 11,
   "id": "92b8cf41",
   "metadata": {
    "ExecuteTime": {
     "end_time": "2022-02-03T13:58:21.667052Z",
     "start_time": "2022-02-03T13:58:21.665177Z"
    }
   },
   "outputs": [],
   "source": [
    "color_nubes = cm.palettes.inferno"
   ]
  },
  {
   "cell_type": "code",
   "execution_count": 12,
   "id": "39930741",
   "metadata": {
    "ExecuteTime": {
     "end_time": "2022-02-03T13:58:21.668933Z",
     "start_time": "2022-02-03T13:58:21.667698Z"
    }
   },
   "outputs": [],
   "source": [
    "# cm.list_colormaps()"
   ]
  },
  {
   "cell_type": "code",
   "execution_count": 13,
   "id": "d6233e9b",
   "metadata": {
    "ExecuteTime": {
     "end_time": "2022-02-03T13:58:21.671113Z",
     "start_time": "2022-02-03T13:58:21.669728Z"
    }
   },
   "outputs": [],
   "source": [
    "color_rainbow = cm.palettes.summer_r"
   ]
  },
  {
   "cell_type": "markdown",
   "id": "11666045",
   "metadata": {},
   "source": [
    "## Funciones"
   ]
  },
  {
   "cell_type": "code",
   "execution_count": 14,
   "id": "166db170",
   "metadata": {
    "ExecuteTime": {
     "end_time": "2022-02-03T13:58:21.674076Z",
     "start_time": "2022-02-03T13:58:21.671812Z"
    }
   },
   "outputs": [],
   "source": [
    "def add_ee_layer(self, ee_image_object, vis_params, name):\n",
    "  map_id_dict = ee.Image(ee_image_object).getMapId(vis_params)\n",
    "  folium.raster_layers.TileLayer(\n",
    "      tiles=map_id_dict['tile_fetcher'].url_format,\n",
    "      attr='Map Data &copy; <a href=\"https://earthengine.google.com/\">Google Earth Engine</a>',\n",
    "      name=name,\n",
    "      overlay=True,\n",
    "      control=True\n",
    "  ).add_to(self)\n",
    "\n",
    "folium.Map.add_ee_layer = add_ee_layer"
   ]
  },
  {
   "cell_type": "code",
   "execution_count": 15,
   "id": "b9e1cdaf",
   "metadata": {
    "ExecuteTime": {
     "end_time": "2022-02-03T13:58:21.676674Z",
     "start_time": "2022-02-03T13:58:21.674753Z"
    }
   },
   "outputs": [],
   "source": [
    "def addNDVI(image): \n",
    "    ndvi = image.normalizedDifference(['B5', 'B4']).rename('NDVI')\n",
    "    return image.addBands(ndvi)"
   ]
  },
  {
   "cell_type": "code",
   "execution_count": 16,
   "id": "4c83d08e",
   "metadata": {
    "ExecuteTime": {
     "end_time": "2022-02-03T13:58:21.679323Z",
     "start_time": "2022-02-03T13:58:21.677553Z"
    }
   },
   "outputs": [],
   "source": [
    "def addNDVI2(image): \n",
    "    ndvi = image.normalizedDifference(['B5', 'B4']).rename('NDVI2')\n",
    "    return image.addBands(ndvi)"
   ]
  },
  {
   "cell_type": "code",
   "execution_count": 17,
   "id": "ad105a37",
   "metadata": {
    "ExecuteTime": {
     "end_time": "2022-02-03T13:58:21.686936Z",
     "start_time": "2022-02-03T13:58:21.679981Z"
    }
   },
   "outputs": [],
   "source": [
    "def addNDWI(image):\n",
    "    ndwi = image.normalizedDifference(['B3','B5']).rename('NDWI')\n",
    "    return image.addBands(ndwi)"
   ]
  },
  {
   "cell_type": "code",
   "execution_count": 18,
   "id": "afd5a921",
   "metadata": {
    "ExecuteTime": {
     "end_time": "2022-02-03T13:58:21.689199Z",
     "start_time": "2022-02-03T13:58:21.687738Z"
    }
   },
   "outputs": [],
   "source": [
    "def addNDGI(image):\n",
    "    ndgi = image.normalizedDifference(['B3','B4']).rename('NDGI')\n",
    "    return image.addBands(ndgi)"
   ]
  },
  {
   "cell_type": "code",
   "execution_count": 19,
   "id": "786770f8",
   "metadata": {
    "ExecuteTime": {
     "end_time": "2022-02-03T13:58:21.691569Z",
     "start_time": "2022-02-03T13:58:21.689934Z"
    }
   },
   "outputs": [],
   "source": [
    "def addSAVI(image):\n",
    "    savi = image.expression(\n",
    "        '((b5 - b4)/(b5 + b4 + 0.5))*1.5', {\n",
    "            'b4':image.select('B4'),\n",
    "            'b5':image.select('B5')\n",
    "        }) \n",
    "    savi= savi.rename('SAVI')\n",
    "    return image.addBands(savi)"
   ]
  },
  {
   "cell_type": "code",
   "execution_count": 20,
   "id": "410de657",
   "metadata": {
    "ExecuteTime": {
     "end_time": "2022-02-03T13:58:21.693877Z",
     "start_time": "2022-02-03T13:58:21.692371Z"
    }
   },
   "outputs": [],
   "source": [
    "def addNDBI(image):\n",
    "    ndbi = image.normalizedDifference(['B6','B5']).rename('NDBI')\n",
    "    return image.addBands(ndbi)"
   ]
  },
  {
   "cell_type": "code",
   "execution_count": 21,
   "id": "cffb72aa",
   "metadata": {
    "ExecuteTime": {
     "end_time": "2022-02-03T13:58:21.696877Z",
     "start_time": "2022-02-03T13:58:21.694637Z"
    }
   },
   "outputs": [],
   "source": [
    "def addNDSI(image):\n",
    "    ndsi = image.normalizedDifference(['B3','B6']).rename('NDSI')\n",
    "    return image.addBands(ndsi)"
   ]
  },
  {
   "cell_type": "code",
   "execution_count": 22,
   "id": "5c8b8b2f",
   "metadata": {
    "ExecuteTime": {
     "end_time": "2022-02-03T13:58:21.699395Z",
     "start_time": "2022-02-03T13:58:21.697680Z"
    }
   },
   "outputs": [],
   "source": [
    "def addDate(image):\n",
    "    img_date = ee.Date(image.date())\n",
    "    img_date = ee.Number.parse(img_date.format('YYYYMM'))\n",
    "    return image.addBands(ee.Image(img_date).rename('date').toInt())"
   ]
  },
  {
   "cell_type": "code",
   "execution_count": 23,
   "id": "04720d6b",
   "metadata": {
    "ExecuteTime": {
     "end_time": "2022-02-03T13:58:21.701745Z",
     "start_time": "2022-02-03T13:58:21.700133Z"
    }
   },
   "outputs": [],
   "source": [
    "def Cloud40(image):\n",
    "    scored = ee.Algorithms.Landsat.simpleCloudScore(image)\n",
    "    return image.updateMask(scored.select(['cloud']).lt(40)) "
   ]
  },
  {
   "cell_type": "code",
   "execution_count": 24,
   "id": "3115c210",
   "metadata": {
    "ExecuteTime": {
     "end_time": "2022-02-03T13:58:21.703951Z",
     "start_time": "2022-02-03T13:58:21.702427Z"
    }
   },
   "outputs": [],
   "source": [
    "def Cloud30(image):\n",
    "    scored = ee.Algorithms.Landsat.simpleCloudScore(image)\n",
    "    return image.updateMask(scored.select(['cloud']).lt(30)) "
   ]
  },
  {
   "cell_type": "code",
   "execution_count": 25,
   "id": "f86cf507",
   "metadata": {
    "ExecuteTime": {
     "end_time": "2022-02-03T13:58:21.706484Z",
     "start_time": "2022-02-03T13:58:21.704736Z"
    }
   },
   "outputs": [],
   "source": [
    "def Cloud20(image):\n",
    "    scored = ee.Algorithms.Landsat.simpleCloudScore(image)\n",
    "    return image.updateMask(scored.select(['cloud']).lt(20)) "
   ]
  },
  {
   "cell_type": "code",
   "execution_count": 26,
   "id": "9d288b40",
   "metadata": {
    "ExecuteTime": {
     "end_time": "2022-02-03T13:58:21.708844Z",
     "start_time": "2022-02-03T13:58:21.707292Z"
    }
   },
   "outputs": [],
   "source": [
    "def Cloud10(image):\n",
    "    scored = ee.Algorithms.Landsat.simpleCloudScore(image)\n",
    "    return image.updateMask(scored.select(['cloud']).lt(10))"
   ]
  },
  {
   "cell_type": "code",
   "execution_count": 27,
   "id": "92d6ba1b",
   "metadata": {
    "ExecuteTime": {
     "end_time": "2022-02-03T13:58:21.711141Z",
     "start_time": "2022-02-03T13:58:21.709547Z"
    }
   },
   "outputs": [],
   "source": [
    "def addCloud(image):\n",
    "    nube = ee.Algorithms.Landsat.simpleCloudScore(image)\n",
    "    return image.addBands(ee.Image(nube.select(['cloud'])).rename('nube'))"
   ]
  },
  {
   "cell_type": "code",
   "execution_count": 28,
   "id": "4eb69ead",
   "metadata": {
    "ExecuteTime": {
     "end_time": "2022-02-03T13:58:21.716742Z",
     "start_time": "2022-02-03T13:58:21.713529Z"
    }
   },
   "outputs": [],
   "source": [
    "def find_closest(target_image, image_col, days):\n",
    "    \"\"\"Filter images in a collection by date proximity and spatial intersection to a target image.\n",
    "\n",
    "    Args:\n",
    "        target_image: An ee.Image whose observation date is used to find near-date images in\n",
    "          the provided image_col image collection. It must have a 'system:time_start' property.\n",
    "        image_col: An ee.ImageCollection to filter by date proximity and spatial intersection\n",
    "          to the target_image. Each image in the collection must have a 'system:time_start'\n",
    "          property.\n",
    "        days: A number that defines the maximum number of days difference allowed between\n",
    "          the target_image and images in the image_col.\n",
    "\n",
    "    Returns:\n",
    "        An ee.ImageCollection that has been filtered to include those images that are within the\n",
    "          given date proximity to target_image and intersect it spatially.\n",
    "    \"\"\"\n",
    "\n",
    "    # Compute the timespan for N days (in milliseconds).\n",
    "    range = ee.Number(days).multiply(1000 * 60 * 60 * 24)\n",
    "\n",
    "    filter = ee.Filter.And(\n",
    "        ee.Filter.maxDifference(range, 'system:time_start', None, 'system:time_start'),\n",
    "        ee.Filter.intersects('.geo', None, '.geo'))\n",
    "\n",
    "    closest = (ee.Join.saveAll('matches', 'measure')\n",
    "        .apply(ee.ImageCollection([target_image]), image_col, filter))\n",
    "\n",
    "    return ee.ImageCollection(ee.List(closest.first().get('matches')))"
   ]
  },
  {
   "cell_type": "code",
   "execution_count": 29,
   "id": "b54bde64",
   "metadata": {
    "ExecuteTime": {
     "end_time": "2022-02-03T13:58:21.719016Z",
     "start_time": "2022-02-03T13:58:21.717411Z"
    }
   },
   "outputs": [],
   "source": [
    "vizParams = {\n",
    "  'bands': ['B5', 'B4', 'B3'],\n",
    "  'min': 0,\n",
    "  'max': 0.5,\n",
    "  'gamma': [0.95, 1.1, 1]\n",
    "}"
   ]
  },
  {
   "cell_type": "code",
   "execution_count": 30,
   "id": "71bcb153",
   "metadata": {
    "ExecuteTime": {
     "end_time": "2022-02-03T13:58:21.721271Z",
     "start_time": "2022-02-03T13:58:21.719691Z"
    }
   },
   "outputs": [],
   "source": [
    "vizParams_m = {\n",
    "  'bands': ['B5', 'B4', 'B3'],\n",
    "  'min': 0,\n",
    "  'max': 0.6,\n",
    "  'gamma': [1, 1, 1]\n",
    "}"
   ]
  },
  {
   "cell_type": "code",
   "execution_count": 31,
   "id": "aa02e8e2",
   "metadata": {
    "ExecuteTime": {
     "end_time": "2022-02-03T13:58:21.724230Z",
     "start_time": "2022-02-03T13:58:21.722162Z"
    }
   },
   "outputs": [],
   "source": [
    "vis_nieve = {\n",
    "  'bands': ['B6', 'B4', 'B3'],\n",
    "  'min': 0,\n",
    "  'max': 0.5,\n",
    "  'gamma': [0.95, 1.1, 1]\n",
    "}"
   ]
  },
  {
   "cell_type": "markdown",
   "id": "d9a442fb",
   "metadata": {},
   "source": [
    "## Colecciones"
   ]
  },
  {
   "cell_type": "markdown",
   "id": "f8131eb7",
   "metadata": {},
   "source": [
    "### 2022 Verano"
   ]
  },
  {
   "cell_type": "code",
   "execution_count": 32,
   "id": "3a413b3f",
   "metadata": {
    "ExecuteTime": {
     "end_time": "2022-02-03T13:58:21.727405Z",
     "start_time": "2022-02-03T13:58:21.724922Z"
    }
   },
   "outputs": [],
   "source": [
    "start_date = '2021-11-01'\n",
    "end_date = '2022-03-31'\n",
    "\n",
    "l8_2022 = ee.ImageCollection('LANDSAT/LC08/C01/T1_TOA') \\\n",
    "    .filterBounds(patagonia_grande) \\\n",
    "    .filterDate(start_date, end_date)  "
   ]
  },
  {
   "cell_type": "code",
   "execution_count": 33,
   "id": "e95247d7",
   "metadata": {
    "ExecuteTime": {
     "end_time": "2022-02-03T13:58:21.732424Z",
     "start_time": "2022-02-03T13:58:21.728209Z"
    }
   },
   "outputs": [],
   "source": [
    "coleccion2022 = l8_2022.map(addNDVI).map(addNDWI).map(addNDGI).map(addSAVI).map(addNDSI).map(addNDBI).map(addDate).map(addCloud)"
   ]
  },
  {
   "cell_type": "markdown",
   "id": "5d07b81d",
   "metadata": {},
   "source": [
    "### 2021 Verano"
   ]
  },
  {
   "cell_type": "code",
   "execution_count": 34,
   "id": "0e0c1dfc",
   "metadata": {
    "ExecuteTime": {
     "end_time": "2022-02-03T13:58:21.734728Z",
     "start_time": "2022-02-03T13:58:21.733117Z"
    }
   },
   "outputs": [],
   "source": [
    "start_date = '2020-11-01'\n",
    "end_date = '2021-03-31'\n",
    "\n",
    "l8_2021 = ee.ImageCollection('LANDSAT/LC08/C01/T1_TOA') \\\n",
    "    .filterBounds(patagonia_grande) \\\n",
    "    .filterDate(start_date, end_date)  "
   ]
  },
  {
   "cell_type": "code",
   "execution_count": 35,
   "id": "74d427f9",
   "metadata": {
    "ExecuteTime": {
     "end_time": "2022-02-03T13:58:21.739322Z",
     "start_time": "2022-02-03T13:58:21.735482Z"
    }
   },
   "outputs": [],
   "source": [
    "coleccion2021 = l8_2021.map(addNDVI).map(addNDWI).map(addNDGI).map(addSAVI).map(addNDSI).map(addNDBI).map(addDate).map(addCloud)"
   ]
  },
  {
   "cell_type": "code",
   "execution_count": 36,
   "id": "e660d316",
   "metadata": {
    "ExecuteTime": {
     "end_time": "2022-02-03T13:58:21.741779Z",
     "start_time": "2022-02-03T13:58:21.740015Z"
    }
   },
   "outputs": [],
   "source": [
    "NDVI_2021 = coleccion2021.qualityMosaic('NDVI')\n",
    "NDWI_2021 = coleccion2021.qualityMosaic('NDWI')\n",
    "SAVI_2021 = coleccion2021.qualityMosaic('SAVI')\n",
    "NDGI_2021 = coleccion2021.qualityMosaic('NDGI')\n",
    "NDSI_2021 = coleccion2021.qualityMosaic('NDSI')"
   ]
  },
  {
   "cell_type": "code",
   "execution_count": 37,
   "id": "2b71385b",
   "metadata": {
    "ExecuteTime": {
     "end_time": "2022-02-03T13:58:21.744444Z",
     "start_time": "2022-02-03T13:58:21.742451Z"
    }
   },
   "outputs": [],
   "source": [
    "c2021_sn = coleccion2021.map(Cloud10)\n",
    "NDVI_2021_sn = c2021_sn.qualityMosaic('NDVI')\n",
    "NDWI_2021_sn = c2021_sn.qualityMosaic('NDWI')\n",
    "SAVI_2021_sn = c2021_sn.qualityMosaic('SAVI')\n",
    "NDGI_2021_sn = c2021_sn.qualityMosaic('NDGI')\n",
    "NDSI_2021_sn = c2021_sn.qualityMosaic('NDSI')"
   ]
  },
  {
   "cell_type": "code",
   "execution_count": 38,
   "id": "e2ee17c2",
   "metadata": {
    "ExecuteTime": {
     "end_time": "2022-02-03T13:58:29.471893Z",
     "start_time": "2022-02-03T13:58:21.745158Z"
    }
   },
   "outputs": [
    {
     "data": {
      "application/vnd.jupyter.widget-view+json": {
       "model_id": "1e4d67abc3c040f7a4030da6d5c7a46b",
       "version_major": 2,
       "version_minor": 0
      },
      "text/plain": [
       "Map(center=[-45, -70], controls=(WidgetControl(options=['position', 'transparent_bg'], widget=HBox(children=(T…"
      ]
     },
     "metadata": {},
     "output_type": "display_data"
    }
   ],
   "source": [
    "Map.addLayer(NDVI_2021_sn, vizParams, 'QMsn de NDVI 2021')\n",
    "Map.addLayer(NDVI_2021, vizParams, 'QM de NDVI 2021')\n",
    "Map.addLayer(NDWI_2021_sn, vizParams, 'QMsn de NDWI 2021')\n",
    "Map.addLayer(SAVI_2021_sn, vizParams, 'QMsn de SAVI 2021')\n",
    "Map.addLayer(NDGI_2021_sn, vis_nieve, 'QMsn de NDGI 2021')\n",
    "Map.addLayer(NDSI_2021_sn, vis_nieve, 'QMsn de NDSI 2021')\n",
    "Map"
   ]
  },
  {
   "cell_type": "code",
   "execution_count": 39,
   "id": "1994dbdf",
   "metadata": {
    "ExecuteTime": {
     "end_time": "2022-02-03T13:58:29.474416Z",
     "start_time": "2022-02-03T13:58:29.472715Z"
    }
   },
   "outputs": [],
   "source": [
    "NDVI_2021_l8 = NDVI_2021.set('SENSOR_ID', 'OLI_TIRS')"
   ]
  },
  {
   "cell_type": "code",
   "execution_count": 40,
   "id": "60a91aeb",
   "metadata": {
    "ExecuteTime": {
     "end_time": "2022-02-03T13:58:29.477199Z",
     "start_time": "2022-02-03T13:58:29.475058Z"
    }
   },
   "outputs": [],
   "source": [
    "cloud_2021_l8 = ee.Algorithms.Landsat.simpleCloudScore(NDVI_2021_l8)\n",
    "cloud_2021_l8 = cloud_2021_l8.select('cloud')"
   ]
  },
  {
   "cell_type": "code",
   "execution_count": 41,
   "id": "27740f8b",
   "metadata": {
    "ExecuteTime": {
     "end_time": "2022-02-03T13:58:29.479348Z",
     "start_time": "2022-02-03T13:58:29.477921Z"
    }
   },
   "outputs": [],
   "source": [
    "palette_nubes = ['#1a9850', '#66bd63', '#a6d96a', '#d9ef8b', '#fee08b', '#fdae61', '#f46d43', '#d73027']"
   ]
  },
  {
   "cell_type": "code",
   "execution_count": 42,
   "id": "613ea840",
   "metadata": {
    "ExecuteTime": {
     "end_time": "2022-02-03T13:58:29.481521Z",
     "start_time": "2022-02-03T13:58:29.479989Z"
    }
   },
   "outputs": [],
   "source": [
    "resultados= [cloud_2021_l8, NDVI_2021]\n",
    "vis_params2=  [\n",
    "    {'palette':palette_nubes}, \n",
    "    vizParams]\n",
    "labels = [\n",
    "    'Nubes 2021',\n",
    "    'QM NDVI 2021']"
   ]
  },
  {
   "cell_type": "code",
   "execution_count": 43,
   "id": "cb0d5f26",
   "metadata": {
    "ExecuteTime": {
     "end_time": "2022-02-03T13:58:29.483485Z",
     "start_time": "2022-02-03T13:58:29.482186Z"
    }
   },
   "outputs": [],
   "source": [
    "# geemap.linked_maps(rows=1, cols=2, height=\"400px\", center=[-45, -75], zoom=4, \n",
    "#                    ee_objects=resultados, vis_params=vis_params2, labels=labels, label_position=\"topright\")"
   ]
  },
  {
   "cell_type": "markdown",
   "id": "b8617200",
   "metadata": {},
   "source": [
    "### 2020 Verano"
   ]
  },
  {
   "cell_type": "code",
   "execution_count": 44,
   "id": "0401d370",
   "metadata": {
    "ExecuteTime": {
     "end_time": "2022-02-03T13:58:29.485996Z",
     "start_time": "2022-02-03T13:58:29.484123Z"
    }
   },
   "outputs": [],
   "source": [
    "start_date = '2019-11-01'\n",
    "end_date = '2020-03-31'\n",
    "\n",
    "l8_2020 = ee.ImageCollection('LANDSAT/LC08/C01/T1_TOA') \\\n",
    "    .filterBounds(patagonia_grande) \\\n",
    "    .filterDate(start_date, end_date)"
   ]
  },
  {
   "cell_type": "markdown",
   "id": "811a0128",
   "metadata": {},
   "source": [
    "### 2019 Verano"
   ]
  },
  {
   "cell_type": "code",
   "execution_count": 45,
   "id": "d756b623",
   "metadata": {
    "ExecuteTime": {
     "end_time": "2022-02-03T13:58:29.488357Z",
     "start_time": "2022-02-03T13:58:29.486757Z"
    }
   },
   "outputs": [],
   "source": [
    "start_date = '2018-11-01'\n",
    "end_date = '2019-03-31'\n",
    "\n",
    "l8_2019 = ee.ImageCollection('LANDSAT/LC08/C01/T1_TOA') \\\n",
    "    .filterBounds(patagonia_grande) \\\n",
    "    .filterDate(start_date, end_date)"
   ]
  },
  {
   "cell_type": "markdown",
   "id": "158f0bb1",
   "metadata": {},
   "source": [
    "### 2018 Verano"
   ]
  },
  {
   "cell_type": "code",
   "execution_count": 46,
   "id": "2c2ce2a2",
   "metadata": {
    "ExecuteTime": {
     "end_time": "2022-02-03T13:58:29.491073Z",
     "start_time": "2022-02-03T13:58:29.489141Z"
    }
   },
   "outputs": [],
   "source": [
    "start_date = '2017-11-01'\n",
    "end_date = '2018-03-31'\n",
    "\n",
    "l8_2018 = ee.ImageCollection('LANDSAT/LC08/C01/T1_TOA') \\\n",
    "    .filterBounds(patagonia_grande) \\\n",
    "    .filterDate(start_date, end_date)"
   ]
  },
  {
   "cell_type": "markdown",
   "id": "ad28b803",
   "metadata": {},
   "source": [
    "### 2017 Verano"
   ]
  },
  {
   "cell_type": "code",
   "execution_count": 47,
   "id": "1917c893",
   "metadata": {
    "ExecuteTime": {
     "end_time": "2022-02-03T13:58:29.493535Z",
     "start_time": "2022-02-03T13:58:29.491780Z"
    }
   },
   "outputs": [],
   "source": [
    "start_date = '2016-11-01'\n",
    "end_date = '2017-03-31'\n",
    "\n",
    "l8_2017 = ee.ImageCollection('LANDSAT/LC08/C01/T1_TOA') \\\n",
    "    .filterBounds(patagonia_grande) \\\n",
    "    .filterDate(start_date, end_date)"
   ]
  },
  {
   "cell_type": "markdown",
   "id": "d0a1318e",
   "metadata": {},
   "source": [
    "### 2022-2017 Colección "
   ]
  },
  {
   "cell_type": "code",
   "execution_count": 48,
   "id": "73e05438",
   "metadata": {
    "ExecuteTime": {
     "end_time": "2022-02-03T13:58:29.496539Z",
     "start_time": "2022-02-03T13:58:29.494321Z"
    }
   },
   "outputs": [],
   "source": [
    "filtersummer = ee.Filter.Or(\n",
    "    ee.Filter.date('2021-11-01','2022-02-01'),\n",
    "    ee.Filter.date('2020-11-01','2021-03-31'),\n",
    "    ee.Filter.date('2019-11-01','2020-03-31'),\n",
    "    ee.Filter.date('2018-11-01','2019-03-31'),\n",
    "    ee.Filter.date('2017-11-01','2018-03-31')\n",
    ")"
   ]
  },
  {
   "cell_type": "code",
   "execution_count": 49,
   "id": "e3459c31",
   "metadata": {
    "ExecuteTime": {
     "end_time": "2022-02-03T13:58:29.498737Z",
     "start_time": "2022-02-03T13:58:29.497156Z"
    }
   },
   "outputs": [],
   "source": [
    "coleccion2022_2017 = ee.ImageCollection('LANDSAT/LC08/C01/T1_TOA') \\\n",
    "    .filterDate('2017-11-01', '2021-03-31') \\\n",
    "    .filter(filtersummer) \\\n",
    "    .filterBounds(patagonia_grande)"
   ]
  },
  {
   "cell_type": "code",
   "execution_count": 50,
   "id": "b84c22d9",
   "metadata": {
    "ExecuteTime": {
     "end_time": "2022-02-03T13:58:29.503333Z",
     "start_time": "2022-02-03T13:58:29.499458Z"
    }
   },
   "outputs": [],
   "source": [
    "l8_summer= coleccion2022_2017.map(addNDVI).map(addNDWI).map(addNDGI).map(addSAVI).map(addNDSI).map(addNDBI).map(addDate).map(addCloud)"
   ]
  },
  {
   "cell_type": "code",
   "execution_count": 51,
   "id": "63f1960c",
   "metadata": {
    "ExecuteTime": {
     "end_time": "2022-02-03T13:58:29.505582Z",
     "start_time": "2022-02-03T13:58:29.504117Z"
    }
   },
   "outputs": [],
   "source": [
    "cloudest = l8_summer.qualityMosaic('nube')"
   ]
  },
  {
   "cell_type": "code",
   "execution_count": 52,
   "id": "cbb613f8",
   "metadata": {
    "ExecuteTime": {
     "end_time": "2022-02-03T13:58:32.155294Z",
     "start_time": "2022-02-03T13:58:29.506532Z"
    },
    "scrolled": false
   },
   "outputs": [
    {
     "data": {
      "application/vnd.jupyter.widget-view+json": {
       "model_id": "3a583dabe9b0498dba3bc0484de5d133",
       "version_major": 2,
       "version_minor": 0
      },
      "text/plain": [
       "Map(center=[-45, -70], controls=(WidgetControl(options=['position', 'transparent_bg'], widget=HBox(children=(T…"
      ]
     },
     "metadata": {},
     "output_type": "display_data"
    }
   ],
   "source": [
    "Map2.addLayer(cloudest, vizParams, 'máximo de nubes')\n",
    "Map2.addLayer(l8_summer.median(), vizParams, 'median')\n",
    "Map2 "
   ]
  },
  {
   "cell_type": "markdown",
   "id": "12cf11b9",
   "metadata": {},
   "source": [
    "### Tier 1\n"
   ]
  },
  {
   "cell_type": "code",
   "execution_count": 53,
   "id": "65f6e56e",
   "metadata": {
    "ExecuteTime": {
     "end_time": "2022-02-03T13:58:32.157902Z",
     "start_time": "2022-02-03T13:58:32.156018Z"
    }
   },
   "outputs": [],
   "source": [
    "Tier1_sn = l8_summer.map(Cloud10)"
   ]
  },
  {
   "cell_type": "code",
   "execution_count": 54,
   "id": "61a35ad7",
   "metadata": {
    "ExecuteTime": {
     "end_time": "2022-02-03T13:58:32.160906Z",
     "start_time": "2022-02-03T13:58:32.158592Z"
    }
   },
   "outputs": [],
   "source": [
    "QM_NDVI_T1 = Tier1_sn.qualityMosaic('NDVI')# Normalized difference vegetation Index\n",
    "QM_NDWI_T1 = Tier1_sn.qualityMosaic('NDWI') # Normalize difference water index\n",
    "QM_SAVI_T1 = Tier1_sn.qualityMosaic('SAVI') # Soil Adjusted Vegetation Index \n",
    "QM_NDGI_T1 = Tier1_sn.qualityMosaic('NDGI') # Normalized difference glacier index\n",
    "QM_NDSI_T1 = Tier1_sn.qualityMosaic('NDSI') # Normalized difference snow index"
   ]
  },
  {
   "cell_type": "code",
   "execution_count": 55,
   "id": "416683d4",
   "metadata": {
    "ExecuteTime": {
     "end_time": "2022-02-03T13:58:40.426128Z",
     "start_time": "2022-02-03T13:58:32.161554Z"
    }
   },
   "outputs": [
    {
     "data": {
      "application/vnd.jupyter.widget-view+json": {
       "model_id": "3a583dabe9b0498dba3bc0484de5d133",
       "version_major": 2,
       "version_minor": 0
      },
      "text/plain": [
       "Map(center=[-45, -70], controls=(WidgetControl(options=['position', 'transparent_bg'], widget=HBox(children=(T…"
      ]
     },
     "metadata": {},
     "output_type": "display_data"
    }
   ],
   "source": [
    "Map2.addLayer(QM_NDVI_T1, vizParams, 'QM de NDVI T1')\n",
    "Map2.addLayer(QM_NDWI_T1, vizParams, 'QM de NDWI T1')\n",
    "Map2.addLayer(QM_SAVI_T1, vizParams, 'QM de SAVI T1')\n",
    "Map2.addLayer(QM_NDGI_T1, vis_nieve, 'QM de NDGI T1')\n",
    "Map2.addLayer(QM_NDSI_T1, vizParams, 'QM de NDSI T1')\n",
    "\n",
    "Map2.addLayer(Tier1_sn.median(), vizParams, 'mediana de T1')\n",
    "Map2 "
   ]
  },
  {
   "cell_type": "markdown",
   "id": "5f58151c",
   "metadata": {},
   "source": [
    "### Tier 2"
   ]
  },
  {
   "cell_type": "code",
   "execution_count": 56,
   "id": "3f1efa8c",
   "metadata": {
    "ExecuteTime": {
     "end_time": "2022-02-03T13:58:40.428828Z",
     "start_time": "2022-02-03T13:58:40.426976Z"
    }
   },
   "outputs": [],
   "source": [
    "Tier2_sn = l8_summer.map(Cloud20)"
   ]
  },
  {
   "cell_type": "code",
   "execution_count": 57,
   "id": "888370aa",
   "metadata": {
    "ExecuteTime": {
     "end_time": "2022-02-03T13:58:40.431323Z",
     "start_time": "2022-02-03T13:58:40.429643Z"
    }
   },
   "outputs": [],
   "source": [
    "QM_NDVI_T2 = Tier2_sn.qualityMosaic('NDVI')# Normalized difference vegetation Index\n",
    "QM_NDWI_T2 = Tier2_sn.qualityMosaic('NDWI') # Normalize difference water index\n",
    "QM_SAVI_T2 = Tier2_sn.qualityMosaic('SAVI') # Soil Adjusted Vegetation Index \n",
    "QM_NDGI_T2 = Tier2_sn.qualityMosaic('NDGI') # Normalized difference glacier index\n",
    "QM_NDSI_T2 = Tier2_sn.qualityMosaic('NDSI') # Normalized difference snow index"
   ]
  },
  {
   "cell_type": "code",
   "execution_count": 58,
   "id": "bfe0fd96",
   "metadata": {
    "ExecuteTime": {
     "end_time": "2022-02-03T13:58:40.433459Z",
     "start_time": "2022-02-03T13:58:40.432072Z"
    }
   },
   "outputs": [],
   "source": [
    "# Map2.addLayer(QM_NDVI_T2, vizParams, 'QM de NDVI T2')\n",
    "# Map2.addLayer(QM_NDWI_T2, vizParams, 'QM de NDWI T2')\n",
    "# Map2.addLayer(QM_SAVI_T2, vizParams, 'QM de SAVI T2')\n",
    "# Map2.addLayer(QM_NDGI_T2, vis_nieve, 'QM de NDGI T2')\n",
    "# Map2.addLayer(QM_NDSI_T2, vis_nieve, 'QM de NDSI T2')\n",
    "# Map2 "
   ]
  },
  {
   "cell_type": "markdown",
   "id": "783d2e36",
   "metadata": {},
   "source": [
    "### Tier 3"
   ]
  },
  {
   "cell_type": "code",
   "execution_count": 59,
   "id": "cba970e0",
   "metadata": {
    "ExecuteTime": {
     "end_time": "2022-02-03T13:58:40.435953Z",
     "start_time": "2022-02-03T13:58:40.434122Z"
    }
   },
   "outputs": [],
   "source": [
    "Tier3_sn = l8_summer.map(Cloud30)"
   ]
  },
  {
   "cell_type": "code",
   "execution_count": 60,
   "id": "8a844166",
   "metadata": {
    "ExecuteTime": {
     "end_time": "2022-02-03T13:58:40.438508Z",
     "start_time": "2022-02-03T13:58:40.436669Z"
    }
   },
   "outputs": [],
   "source": [
    "QM_NDVI_T3 = Tier3_sn.qualityMosaic('NDVI')# Normalized difference vegetation Index\n",
    "QM_NDWI_T3 = Tier3_sn.qualityMosaic('NDWI') # Normalize difference water index\n",
    "QM_SAVI_T3 = Tier3_sn.qualityMosaic('SAVI') # Soil Adjusted Vegetation Index \n",
    "QM_NDGI_T3 = Tier3_sn.qualityMosaic('NDGI') # Normalized difference glacier index\n",
    "QM_NDSI_T3 = Tier3_sn.qualityMosaic('NDSI') # Normalized difference snow index"
   ]
  },
  {
   "cell_type": "markdown",
   "id": "b2453291",
   "metadata": {},
   "source": [
    "### Tier 4"
   ]
  },
  {
   "cell_type": "code",
   "execution_count": 61,
   "id": "7a204626",
   "metadata": {
    "ExecuteTime": {
     "end_time": "2022-02-03T13:58:40.441078Z",
     "start_time": "2022-02-03T13:58:40.439239Z"
    }
   },
   "outputs": [],
   "source": [
    "Tier4_sn = l8_summer.map(Cloud40)"
   ]
  },
  {
   "cell_type": "code",
   "execution_count": 62,
   "id": "7339980d",
   "metadata": {
    "ExecuteTime": {
     "end_time": "2022-02-03T13:58:40.443674Z",
     "start_time": "2022-02-03T13:58:40.441847Z"
    }
   },
   "outputs": [],
   "source": [
    "QM_NDVI_T4 = Tier4_sn.qualityMosaic('NDVI')# Normalized difference vegetation Index\n",
    "QM_NDWI_T4 = Tier4_sn.qualityMosaic('NDWI') # Normalize difference water index\n",
    "QM_SAVI_T4 = Tier4_sn.qualityMosaic('SAVI') # Soil Adjusted Vegetation Index \n",
    "QM_NDGI_T4 = Tier4_sn.qualityMosaic('NDGI') # Normalized difference glacier index\n",
    "QM_NDSI_T4 = Tier4_sn.qualityMosaic('NDSI') # Normalized difference snow index"
   ]
  },
  {
   "cell_type": "markdown",
   "id": "2029216e",
   "metadata": {},
   "source": [
    "## Colección tierra del fuego"
   ]
  },
  {
   "cell_type": "code",
   "execution_count": 63,
   "id": "69c552c6",
   "metadata": {
    "ExecuteTime": {
     "end_time": "2022-02-03T13:58:40.446679Z",
     "start_time": "2022-02-03T13:58:40.444359Z"
    }
   },
   "outputs": [],
   "source": [
    "filtersummerf = ee.Filter.Or(\n",
    "    ee.Filter.date('2021-11-01','2022-02-01'),\n",
    "    ee.Filter.date('2020-11-01','2021-03-31'),\n",
    "    ee.Filter.date('2019-11-01','2020-03-31'),\n",
    "    ee.Filter.date('2018-11-01','2019-03-31'),\n",
    "    ee.Filter.date('2017-11-01','2018-03-31')\n",
    ")"
   ]
  },
  {
   "cell_type": "code",
   "execution_count": 64,
   "id": "3698479a",
   "metadata": {
    "ExecuteTime": {
     "end_time": "2022-02-03T13:58:40.449015Z",
     "start_time": "2022-02-03T13:58:40.447388Z"
    }
   },
   "outputs": [],
   "source": [
    "coleccion2022_2017 = ee.ImageCollection('LANDSAT/LC08/C01/T1_TOA') \\\n",
    "    .filterDate('2017-11-01', '2022-03-31') \\\n",
    "    .filter(filtersummerf) \\\n",
    "    .filterBounds(tierra_fuego)"
   ]
  },
  {
   "cell_type": "code",
   "execution_count": 65,
   "id": "b820dfa4",
   "metadata": {
    "ExecuteTime": {
     "end_time": "2022-02-03T13:58:40.453642Z",
     "start_time": "2022-02-03T13:58:40.449686Z"
    }
   },
   "outputs": [],
   "source": [
    "l8_summer_sur= coleccion2022_2017.map(addNDVI).map(addNDWI).map(addNDGI).map(addSAVI).map(addNDSI).map(addNDBI).map(addDate).map(addCloud)"
   ]
  },
  {
   "cell_type": "code",
   "execution_count": 66,
   "id": "0a876e8d",
   "metadata": {
    "ExecuteTime": {
     "end_time": "2022-02-03T13:58:41.774787Z",
     "start_time": "2022-02-03T13:58:40.454630Z"
    }
   },
   "outputs": [
    {
     "data": {
      "application/vnd.jupyter.widget-view+json": {
       "model_id": "d9ca3db684ae4737bf1415f9c008288d",
       "version_major": 2,
       "version_minor": 0
      },
      "text/plain": [
       "Map(center=[-45, -70], controls=(WidgetControl(options=['position', 'transparent_bg'], widget=HBox(children=(T…"
      ]
     },
     "metadata": {},
     "output_type": "display_data"
    }
   ],
   "source": [
    "Map3.addLayer(l8_summer_sur.median(), vizParams, 'median')\n",
    "Map3"
   ]
  },
  {
   "cell_type": "markdown",
   "id": "11db41ec",
   "metadata": {},
   "source": [
    "### Tier 1 Sur"
   ]
  },
  {
   "cell_type": "code",
   "execution_count": 67,
   "id": "56144837",
   "metadata": {
    "ExecuteTime": {
     "end_time": "2022-02-03T13:58:41.777377Z",
     "start_time": "2022-02-03T13:58:41.775459Z"
    }
   },
   "outputs": [],
   "source": [
    "Tier1_sn_sur = l8_summer_sur.map(Cloud10)"
   ]
  },
  {
   "cell_type": "code",
   "execution_count": 68,
   "id": "28f9aa01",
   "metadata": {
    "ExecuteTime": {
     "end_time": "2022-02-03T13:58:41.780075Z",
     "start_time": "2022-02-03T13:58:41.777997Z"
    }
   },
   "outputs": [],
   "source": [
    "QM_NDVI_T1_sur = Tier1_sn_sur.qualityMosaic('NDVI')# Normalized difference vegetation Index\n",
    "QM_NDWI_T1_sur = Tier1_sn_sur.qualityMosaic('NDWI') # Normalize difference water index\n",
    "QM_SAVI_T1_sur = Tier1_sn_sur.qualityMosaic('SAVI') # Soil Adjusted Vegetation Index \n",
    "QM_NDGI_T1_sur = Tier1_sn_sur.qualityMosaic('NDGI') # Normalized difference glacier index\n",
    "QM_NDSI_T1_sur = Tier1_sn_sur.qualityMosaic('NDSI') # Normalized difference snow index"
   ]
  },
  {
   "cell_type": "code",
   "execution_count": 69,
   "id": "6b688782",
   "metadata": {
    "ExecuteTime": {
     "end_time": "2022-02-03T13:58:48.737489Z",
     "start_time": "2022-02-03T13:58:41.780826Z"
    }
   },
   "outputs": [
    {
     "data": {
      "application/vnd.jupyter.widget-view+json": {
       "model_id": "d9ca3db684ae4737bf1415f9c008288d",
       "version_major": 2,
       "version_minor": 0
      },
      "text/plain": [
       "Map(center=[-45, -70], controls=(WidgetControl(options=['position', 'transparent_bg'], widget=HBox(children=(T…"
      ]
     },
     "metadata": {},
     "output_type": "display_data"
    }
   ],
   "source": [
    "Map3.addLayer(QM_NDVI_T1_sur, vizParams, 'QM de NDVI T1_sur')\n",
    "Map3.addLayer(QM_NDWI_T1_sur, vizParams, 'QM de NDWI T1_sur')\n",
    "Map3.addLayer(QM_SAVI_T1_sur, vizParams, 'QM de SAVI T1_sur')\n",
    "Map3.addLayer(QM_NDGI_T1_sur, vis_nieve, 'QM de NDGI T1_sur')\n",
    "Map3.addLayer(QM_NDSI_T1_sur, vizParams, 'QM de NDSI T1_sur')\n",
    "Map3.addLayer((Tier1_sn_sur).median(), vizParams, 'Mediana de mosaico T1_sur')\n",
    "Map3 "
   ]
  },
  {
   "cell_type": "code",
   "execution_count": null,
   "id": "38712607",
   "metadata": {},
   "outputs": [],
   "source": []
  },
  {
   "cell_type": "code",
   "execution_count": null,
   "id": "19be06b4",
   "metadata": {},
   "outputs": [],
   "source": []
  },
  {
   "cell_type": "markdown",
   "id": "dd05e9e8",
   "metadata": {},
   "source": [
    "## Generación de Mosaico QM"
   ]
  },
  {
   "cell_type": "code",
   "execution_count": 70,
   "id": "9b229098",
   "metadata": {
    "ExecuteTime": {
     "end_time": "2022-02-03T13:58:48.740485Z",
     "start_time": "2022-02-03T13:58:48.738408Z"
    }
   },
   "outputs": [],
   "source": [
    "NDVI_2021_landsat = cloudest.set('SENSOR_ID', 'OLI_TIRS')"
   ]
  },
  {
   "cell_type": "code",
   "execution_count": 71,
   "id": "a98110ba",
   "metadata": {
    "ExecuteTime": {
     "end_time": "2022-02-03T13:58:48.742612Z",
     "start_time": "2022-02-03T13:58:48.741113Z"
    }
   },
   "outputs": [],
   "source": [
    "cloud_2021 = ee.Algorithms.Landsat.simpleCloudScore(NDVI_2021_landsat)"
   ]
  },
  {
   "cell_type": "code",
   "execution_count": 72,
   "id": "745b712d",
   "metadata": {
    "ExecuteTime": {
     "end_time": "2022-02-03T13:58:48.744789Z",
     "start_time": "2022-02-03T13:58:48.743329Z"
    }
   },
   "outputs": [],
   "source": [
    "cloud_2021 = cloud_2021.select('cloud')"
   ]
  },
  {
   "cell_type": "code",
   "execution_count": 73,
   "id": "3351dfe9",
   "metadata": {
    "ExecuteTime": {
     "end_time": "2022-02-03T13:58:48.747360Z",
     "start_time": "2022-02-03T13:58:48.745499Z"
    }
   },
   "outputs": [],
   "source": [
    "palette_nubes = ['#1a9850', '#d73027']"
   ]
  },
  {
   "cell_type": "code",
   "execution_count": 74,
   "id": "aa1c77e2",
   "metadata": {
    "ExecuteTime": {
     "end_time": "2022-02-03T13:58:48.749765Z",
     "start_time": "2022-02-03T13:58:48.748240Z"
    }
   },
   "outputs": [],
   "source": [
    "resultados= [cloud_2021, cloudest]\n",
    "vis_params2=  [\n",
    "    {'palette':palette_nubes}, \n",
    "    vizParams]\n",
    "labels = [\n",
    "    'Nubes 2021',\n",
    "    'QM NDVI 2021']"
   ]
  },
  {
   "cell_type": "code",
   "execution_count": 75,
   "id": "28e91129",
   "metadata": {
    "ExecuteTime": {
     "end_time": "2022-02-03T13:58:51.445716Z",
     "start_time": "2022-02-03T13:58:48.750490Z"
    }
   },
   "outputs": [
    {
     "data": {
      "application/vnd.jupyter.widget-view+json": {
       "model_id": "ad21e60005b24007a780e3344b8fefaa",
       "version_major": 2,
       "version_minor": 0
      },
      "text/plain": [
       "GridspecLayout(children=(Output(layout=Layout(grid_area='widget001')), Output(layout=Layout(grid_area='widget0…"
      ]
     },
     "metadata": {},
     "output_type": "display_data"
    }
   ],
   "source": [
    "geemap.linked_maps(rows=1, cols=2, height=\"400px\", center=[-45, -75], zoom=4, \n",
    "                   ee_objects=resultados, vis_params=vis_params2, labels=labels, label_position=\"topright\")"
   ]
  },
  {
   "cell_type": "code",
   "execution_count": 76,
   "id": "21067811",
   "metadata": {
    "ExecuteTime": {
     "end_time": "2022-02-03T13:58:52.579591Z",
     "start_time": "2022-02-03T13:58:51.446445Z"
    }
   },
   "outputs": [
    {
     "data": {
      "text/plain": [
       "['B1',\n",
       " 'B2',\n",
       " 'B3',\n",
       " 'B4',\n",
       " 'B5',\n",
       " 'B6',\n",
       " 'B7',\n",
       " 'B8',\n",
       " 'B9',\n",
       " 'B10',\n",
       " 'B11',\n",
       " 'BQA',\n",
       " 'NDVI',\n",
       " 'NDWI',\n",
       " 'NDGI',\n",
       " 'SAVI',\n",
       " 'NDSI',\n",
       " 'NDBI',\n",
       " 'date',\n",
       " 'nube']"
      ]
     },
     "execution_count": 76,
     "metadata": {},
     "output_type": "execute_result"
    }
   ],
   "source": [
    "QM_NDVI_T1.bandNames().getInfo()"
   ]
  },
  {
   "cell_type": "code",
   "execution_count": 77,
   "id": "93ea56bf",
   "metadata": {
    "ExecuteTime": {
     "end_time": "2022-02-03T13:58:52.582011Z",
     "start_time": "2022-02-03T13:58:52.580378Z"
    }
   },
   "outputs": [],
   "source": [
    "def llenado(image):\n",
    "    return image.where(cloud_2021.gt(10),QM_NDVI_T1)"
   ]
  },
  {
   "cell_type": "code",
   "execution_count": 78,
   "id": "8287934f",
   "metadata": {
    "ExecuteTime": {
     "end_time": "2022-02-03T13:58:52.584246Z",
     "start_time": "2022-02-03T13:58:52.582692Z"
    }
   },
   "outputs": [],
   "source": [
    "img1 = llenado(l8_summer.median())"
   ]
  },
  {
   "cell_type": "code",
   "execution_count": 79,
   "id": "0ea4ebed",
   "metadata": {
    "ExecuteTime": {
     "end_time": "2022-02-03T13:58:52.586821Z",
     "start_time": "2022-02-03T13:58:52.585023Z"
    }
   },
   "outputs": [],
   "source": [
    "img1_landsat = img1.set('SENSOR_ID', 'OLI_TIRS')\n",
    "cloud_img1 = ee.Algorithms.Landsat.simpleCloudScore(img1_landsat)\n",
    "cloud_img1 = cloud_img1.select('cloud')"
   ]
  },
  {
   "cell_type": "code",
   "execution_count": 80,
   "id": "84dbb2d4",
   "metadata": {
    "ExecuteTime": {
     "end_time": "2022-02-03T13:58:52.588935Z",
     "start_time": "2022-02-03T13:58:52.587413Z"
    }
   },
   "outputs": [],
   "source": [
    "resultados= [cloud_img1, img1]\n",
    "vis_params2=  [\n",
    "    {'palette':palette_nubes}, \n",
    "    vizParams]\n",
    "labels = [\n",
    "    'Nubes Mosaico 1',\n",
    "    'Mosaico 1']"
   ]
  },
  {
   "cell_type": "code",
   "execution_count": 81,
   "id": "f3c2a996",
   "metadata": {
    "ExecuteTime": {
     "end_time": "2022-02-03T13:58:55.679132Z",
     "start_time": "2022-02-03T13:58:52.589669Z"
    }
   },
   "outputs": [
    {
     "data": {
      "application/vnd.jupyter.widget-view+json": {
       "model_id": "3b806c50839949c7be540815af7ab0d0",
       "version_major": 2,
       "version_minor": 0
      },
      "text/plain": [
       "GridspecLayout(children=(Output(layout=Layout(grid_area='widget001')), Output(layout=Layout(grid_area='widget0…"
      ]
     },
     "metadata": {},
     "output_type": "display_data"
    }
   ],
   "source": [
    "geemap.linked_maps(rows=1, cols=2, height=\"400px\", center=[-45, -75], zoom=4, \n",
    "                   ee_objects=resultados, vis_params=vis_params2, labels=labels, label_position=\"topright\")"
   ]
  },
  {
   "cell_type": "code",
   "execution_count": 82,
   "id": "9a243ac4",
   "metadata": {
    "ExecuteTime": {
     "end_time": "2022-02-03T13:58:55.686763Z",
     "start_time": "2022-02-03T13:58:55.684836Z"
    }
   },
   "outputs": [],
   "source": [
    "def llenado2(image):\n",
    "    return image.where(cloud_img1.gt(10), QM_NDVI_T2)"
   ]
  },
  {
   "cell_type": "code",
   "execution_count": 83,
   "id": "ada6d94e",
   "metadata": {
    "ExecuteTime": {
     "end_time": "2022-02-03T13:58:55.689268Z",
     "start_time": "2022-02-03T13:58:55.687613Z"
    }
   },
   "outputs": [],
   "source": [
    "img2 = llenado2(img1)"
   ]
  },
  {
   "cell_type": "code",
   "execution_count": 84,
   "id": "e3db0a52",
   "metadata": {
    "ExecuteTime": {
     "end_time": "2022-02-03T13:58:55.691661Z",
     "start_time": "2022-02-03T13:58:55.689988Z"
    }
   },
   "outputs": [],
   "source": [
    "img2_landsat = img2.set('SENSOR_ID', 'OLI_TIRS')\n",
    "cloud_img2 = ee.Algorithms.Landsat.simpleCloudScore(img2_landsat)\n",
    "cloud_img2 = cloud_img2.select('cloud')"
   ]
  },
  {
   "cell_type": "code",
   "execution_count": 85,
   "id": "42d22742",
   "metadata": {
    "ExecuteTime": {
     "end_time": "2022-02-03T13:58:55.693813Z",
     "start_time": "2022-02-03T13:58:55.692315Z"
    }
   },
   "outputs": [],
   "source": [
    "resultados= [cloud_img2, img2]\n",
    "vis_params2=  [\n",
    "    {'palette':palette_nubes}, \n",
    "    vizParams]\n",
    "labels = [\n",
    "    'Nubes Mosaico 2',\n",
    "    'Mosaico 2']"
   ]
  },
  {
   "cell_type": "code",
   "execution_count": 86,
   "id": "5bdcab8c",
   "metadata": {
    "ExecuteTime": {
     "end_time": "2022-02-03T13:58:55.695939Z",
     "start_time": "2022-02-03T13:58:55.694424Z"
    }
   },
   "outputs": [],
   "source": [
    "# geemap.linked_maps(rows=1, cols=2, height=\"400px\", center=[-45, -75], zoom=4, \n",
    "#                    ee_objects=resultados, vis_params=vis_params2, labels=labels, label_position=\"topright\")"
   ]
  },
  {
   "cell_type": "code",
   "execution_count": 87,
   "id": "ca5f91e2",
   "metadata": {
    "ExecuteTime": {
     "end_time": "2022-02-03T13:58:55.698058Z",
     "start_time": "2022-02-03T13:58:55.696588Z"
    }
   },
   "outputs": [],
   "source": [
    "def llenado3(image):\n",
    "    return image.where(cloud_img2.gt(10), QM_NDVI_T3)"
   ]
  },
  {
   "cell_type": "code",
   "execution_count": 88,
   "id": "f52fddee",
   "metadata": {
    "ExecuteTime": {
     "end_time": "2022-02-03T13:58:55.700417Z",
     "start_time": "2022-02-03T13:58:55.698813Z"
    }
   },
   "outputs": [],
   "source": [
    "img3 = llenado3(img2)"
   ]
  },
  {
   "cell_type": "code",
   "execution_count": 89,
   "id": "6d41d9d0",
   "metadata": {
    "ExecuteTime": {
     "end_time": "2022-02-03T13:58:55.702763Z",
     "start_time": "2022-02-03T13:58:55.701118Z"
    }
   },
   "outputs": [],
   "source": [
    "img3_landsat = img3.set('SENSOR_ID', 'OLI_TIRS')\n",
    "cloud_img3 = ee.Algorithms.Landsat.simpleCloudScore(img3_landsat)\n",
    "cloud_img3 = cloud_img3.select('cloud')"
   ]
  },
  {
   "cell_type": "code",
   "execution_count": 90,
   "id": "3a000d62",
   "metadata": {
    "ExecuteTime": {
     "end_time": "2022-02-03T13:58:55.704988Z",
     "start_time": "2022-02-03T13:58:55.703452Z"
    }
   },
   "outputs": [],
   "source": [
    "resultados= [cloud_img3, img3]\n",
    "vis_params2=  [\n",
    "    {'palette':palette_nubes}, \n",
    "    vizParams]\n",
    "labels = [\n",
    "    'Nubes Mosaico 3',\n",
    "    'Mosaico 3']"
   ]
  },
  {
   "cell_type": "code",
   "execution_count": 91,
   "id": "bf275ed6",
   "metadata": {
    "ExecuteTime": {
     "end_time": "2022-02-03T13:58:55.707992Z",
     "start_time": "2022-02-03T13:58:55.705711Z"
    }
   },
   "outputs": [],
   "source": [
    "# geemap.linked_maps(rows=1, cols=2, height=\"400px\", center=[-45, -75], zoom=4, \n",
    "#                    ee_objects=resultados, vis_params=vis_params2, labels=labels, label_position=\"topright\")"
   ]
  },
  {
   "cell_type": "code",
   "execution_count": 92,
   "id": "9d0daae9",
   "metadata": {
    "ExecuteTime": {
     "end_time": "2022-02-03T13:58:55.710116Z",
     "start_time": "2022-02-03T13:58:55.708660Z"
    }
   },
   "outputs": [],
   "source": [
    "def llenado4(image):\n",
    "    return image.where(cloud_img3.gt(10), QM_NDVI_T4)"
   ]
  },
  {
   "cell_type": "code",
   "execution_count": 93,
   "id": "d37f16d5",
   "metadata": {
    "ExecuteTime": {
     "end_time": "2022-02-03T13:58:55.712336Z",
     "start_time": "2022-02-03T13:58:55.710843Z"
    }
   },
   "outputs": [],
   "source": [
    "img4 = llenado4(img3)"
   ]
  },
  {
   "cell_type": "code",
   "execution_count": 94,
   "id": "540d60d8",
   "metadata": {
    "ExecuteTime": {
     "end_time": "2022-02-03T13:58:55.714606Z",
     "start_time": "2022-02-03T13:58:55.712989Z"
    }
   },
   "outputs": [],
   "source": [
    "img4_landsat = img4.set('SENSOR_ID', 'OLI_TIRS')\n",
    "cloud_img4 = ee.Algorithms.Landsat.simpleCloudScore(img4_landsat)\n",
    "cloud_img4 = cloud_img4.select('cloud')"
   ]
  },
  {
   "cell_type": "code",
   "execution_count": 95,
   "id": "3f0e9719",
   "metadata": {
    "ExecuteTime": {
     "end_time": "2022-02-03T13:58:55.717178Z",
     "start_time": "2022-02-03T13:58:55.715247Z"
    }
   },
   "outputs": [],
   "source": [
    "resultados= [cloud_img4, img4]\n",
    "vis_params2=  [\n",
    "    {'palette':palette_nubes}, \n",
    "    vizParams]\n",
    "labels = [\n",
    "    'Nubes Mosaico 4',\n",
    "    'Mosaico 4']"
   ]
  },
  {
   "cell_type": "code",
   "execution_count": 96,
   "id": "41d9a7b8",
   "metadata": {
    "ExecuteTime": {
     "end_time": "2022-02-03T13:58:55.719150Z",
     "start_time": "2022-02-03T13:58:55.717836Z"
    }
   },
   "outputs": [],
   "source": [
    "# geemap.linked_maps(rows=1, cols=2, height=\"400px\", center=[-45, -75], zoom=4, \n",
    "#                    ee_objects=resultados, vis_params=vis_params2, labels=labels, label_position=\"topright\")"
   ]
  },
  {
   "cell_type": "code",
   "execution_count": 97,
   "id": "0cccc52b",
   "metadata": {
    "ExecuteTime": {
     "end_time": "2022-02-03T13:58:55.721405Z",
     "start_time": "2022-02-03T13:58:55.719812Z"
    }
   },
   "outputs": [],
   "source": [
    "hansenImage = ee.Image('UMD/hansen/global_forest_change_2015')\n",
    "datamask = hansenImage.select('datamask')"
   ]
  },
  {
   "cell_type": "code",
   "execution_count": 98,
   "id": "2e6b728e",
   "metadata": {
    "ExecuteTime": {
     "end_time": "2022-02-03T13:58:55.724410Z",
     "start_time": "2022-02-03T13:58:55.722221Z"
    }
   },
   "outputs": [],
   "source": [
    "def llenado5(image):\n",
    "    return image.where(datamask.eq(2), QM_NDWI_T1)"
   ]
  },
  {
   "cell_type": "code",
   "execution_count": 99,
   "id": "eeac700c",
   "metadata": {
    "ExecuteTime": {
     "end_time": "2022-02-03T13:58:55.727398Z",
     "start_time": "2022-02-03T13:58:55.725167Z"
    }
   },
   "outputs": [],
   "source": [
    "img5 = llenado5(img4)"
   ]
  },
  {
   "cell_type": "code",
   "execution_count": 100,
   "id": "82202db6",
   "metadata": {
    "ExecuteTime": {
     "end_time": "2022-02-03T13:58:55.729586Z",
     "start_time": "2022-02-03T13:58:55.728135Z"
    }
   },
   "outputs": [],
   "source": [
    "img5_landsat = img5.set('SENSOR_ID', 'OLI_TIRS')"
   ]
  },
  {
   "cell_type": "code",
   "execution_count": 101,
   "id": "823a7e18",
   "metadata": {
    "ExecuteTime": {
     "end_time": "2022-02-03T13:58:55.732083Z",
     "start_time": "2022-02-03T13:58:55.730479Z"
    }
   },
   "outputs": [],
   "source": [
    "resultados= [img4, img5]\n",
    "labels = [\n",
    "    'Mosaico 4',\n",
    "    'Mosaico 5']\n",
    "vis_params3=  [\n",
    "     vizParams, \n",
    "    vizParams]"
   ]
  },
  {
   "cell_type": "code",
   "execution_count": 102,
   "id": "87c07712",
   "metadata": {
    "ExecuteTime": {
     "end_time": "2022-02-03T13:58:58.935324Z",
     "start_time": "2022-02-03T13:58:55.732834Z"
    }
   },
   "outputs": [
    {
     "data": {
      "application/vnd.jupyter.widget-view+json": {
       "model_id": "0d51789e87b9417cbdd3128a6d56926e",
       "version_major": 2,
       "version_minor": 0
      },
      "text/plain": [
       "GridspecLayout(children=(Output(layout=Layout(grid_area='widget001')), Output(layout=Layout(grid_area='widget0…"
      ]
     },
     "metadata": {},
     "output_type": "display_data"
    }
   ],
   "source": [
    "geemap.linked_maps(rows=1, cols=2, height=\"400px\", center=[-45, -75], zoom=4, \n",
    "                   ee_objects=resultados, vis_params=vis_params3, labels=labels, label_position=\"topright\")"
   ]
  },
  {
   "cell_type": "code",
   "execution_count": 103,
   "id": "c76fddbf",
   "metadata": {
    "ExecuteTime": {
     "end_time": "2022-02-03T13:59:00.463729Z",
     "start_time": "2022-02-03T13:58:58.936048Z"
    }
   },
   "outputs": [
    {
     "data": {
      "text/plain": [
       "['B1',\n",
       " 'B2',\n",
       " 'B3',\n",
       " 'B4',\n",
       " 'B5',\n",
       " 'B6',\n",
       " 'B7',\n",
       " 'B8',\n",
       " 'B9',\n",
       " 'B10',\n",
       " 'B11',\n",
       " 'BQA',\n",
       " 'NDVI',\n",
       " 'NDWI',\n",
       " 'NDGI',\n",
       " 'SAVI',\n",
       " 'NDSI',\n",
       " 'NDBI',\n",
       " 'date',\n",
       " 'nube']"
      ]
     },
     "execution_count": 103,
     "metadata": {},
     "output_type": "execute_result"
    }
   ],
   "source": [
    "img4.bandNames().getInfo()"
   ]
  },
  {
   "cell_type": "code",
   "execution_count": 104,
   "id": "03e0049e",
   "metadata": {
    "ExecuteTime": {
     "end_time": "2022-02-03T13:59:01.843878Z",
     "start_time": "2022-02-03T13:59:00.464501Z"
    }
   },
   "outputs": [
    {
     "data": {
      "text/plain": [
       "['B1',\n",
       " 'B2',\n",
       " 'B3',\n",
       " 'B4',\n",
       " 'B5',\n",
       " 'B6',\n",
       " 'B7',\n",
       " 'B8',\n",
       " 'B9',\n",
       " 'B10',\n",
       " 'B11',\n",
       " 'BQA',\n",
       " 'NDVI',\n",
       " 'NDWI',\n",
       " 'NDGI',\n",
       " 'SAVI',\n",
       " 'NDSI',\n",
       " 'NDBI',\n",
       " 'date',\n",
       " 'nube']"
      ]
     },
     "execution_count": 104,
     "metadata": {},
     "output_type": "execute_result"
    }
   ],
   "source": [
    "img5.bandNames().getInfo()"
   ]
  },
  {
   "cell_type": "code",
   "execution_count": 105,
   "id": "20454023",
   "metadata": {
    "ExecuteTime": {
     "end_time": "2022-02-03T13:59:04.934536Z",
     "start_time": "2022-02-03T13:59:01.844598Z"
    }
   },
   "outputs": [
    {
     "data": {
      "application/vnd.jupyter.widget-view+json": {
       "model_id": "23b3216a656244d3a3640034d1dfd249",
       "version_major": 2,
       "version_minor": 0
      },
      "text/plain": [
       "Map(center=[-45, -70], controls=(WidgetControl(options=['position', 'transparent_bg'], widget=HBox(children=(T…"
      ]
     },
     "metadata": {},
     "output_type": "display_data"
    }
   ],
   "source": [
    "Map10.addLayer(img4, vizParams, 'Mosaico 4')\n",
    "Map10.addLayer(img5, vizParams, 'Mosaico 5')\n",
    "Map10"
   ]
  },
  {
   "cell_type": "markdown",
   "id": "18c237e5",
   "metadata": {},
   "source": [
    "### Resultado Final"
   ]
  },
  {
   "cell_type": "code",
   "execution_count": 106,
   "id": "3e85d062",
   "metadata": {
    "ExecuteTime": {
     "end_time": "2022-02-03T13:59:06.893846Z",
     "start_time": "2022-02-03T13:59:04.935250Z"
    }
   },
   "outputs": [
    {
     "data": {
      "application/vnd.jupyter.widget-view+json": {
       "model_id": "23b3216a656244d3a3640034d1dfd249",
       "version_major": 2,
       "version_minor": 0
      },
      "text/plain": [
       "Map(center=[-45, -70], controls=(WidgetControl(options=['position', 'transparent_bg'], widget=HBox(children=(T…"
      ]
     },
     "metadata": {},
     "output_type": "display_data"
    }
   ],
   "source": [
    "img5_b = img5.select(['B1','B2','B3','B4','B5','B6','B7'])\n",
    "Map10.addLayer(img5_b, vizParams, 'Mosaico 7bandas')\n",
    "Map10"
   ]
  },
  {
   "cell_type": "markdown",
   "id": "d46a3463",
   "metadata": {},
   "source": [
    "#### Fechas Mosaico"
   ]
  },
  {
   "cell_type": "code",
   "execution_count": 107,
   "id": "67a2e0e2",
   "metadata": {
    "ExecuteTime": {
     "end_time": "2022-02-03T13:59:06.896850Z",
     "start_time": "2022-02-03T13:59:06.894539Z"
    }
   },
   "outputs": [],
   "source": [
    "# property = 'date'"
   ]
  },
  {
   "cell_type": "code",
   "execution_count": 108,
   "id": "9fff05cd",
   "metadata": {
    "ExecuteTime": {
     "end_time": "2022-02-03T13:59:06.898860Z",
     "start_time": "2022-02-03T13:59:06.897595Z"
    }
   },
   "outputs": [],
   "source": [
    "# options = {\"title\": 'Fechas mosaico 2021',\n",
    "#           \"xlabel\": 'date',\n",
    "#           \"ylabel\": 'Pixel count',\n",
    "#           \"colors\": ['#1d6b99']\n",
    "#           }"
   ]
  },
  {
   "cell_type": "code",
   "execution_count": 109,
   "id": "37a5b7be",
   "metadata": {
    "ExecuteTime": {
     "end_time": "2022-02-03T13:59:06.900922Z",
     "start_time": "2022-02-03T13:59:06.899565Z"
    }
   },
   "outputs": [],
   "source": [
    "# muestra = (img5.select('date')).sample(**{\n",
    "#     'region': geometry_exp,\n",
    "#     'scale': 30,\n",
    "#     'numPixels':1000,\n",
    "#     'tileScale': 2,\n",
    "# })"
   ]
  },
  {
   "cell_type": "code",
   "execution_count": 110,
   "id": "0ad9a685",
   "metadata": {
    "ExecuteTime": {
     "end_time": "2022-02-03T13:59:06.902836Z",
     "start_time": "2022-02-03T13:59:06.901589Z"
    },
    "scrolled": false
   },
   "outputs": [],
   "source": [
    "# chart.feature_histogram(muestra, property, **options)"
   ]
  },
  {
   "cell_type": "code",
   "execution_count": 111,
   "id": "e05c20e0",
   "metadata": {
    "ExecuteTime": {
     "end_time": "2022-02-03T13:59:06.905249Z",
     "start_time": "2022-02-03T13:59:06.903687Z"
    }
   },
   "outputs": [],
   "source": [
    "# out_dir = r\"C:\\Users\\USUARIO\\Downloads\""
   ]
  },
  {
   "cell_type": "code",
   "execution_count": 112,
   "id": "2c94d245",
   "metadata": {
    "ExecuteTime": {
     "end_time": "2022-02-03T13:59:06.907494Z",
     "start_time": "2022-02-03T13:59:06.906100Z"
    }
   },
   "outputs": [],
   "source": [
    "# out_mosaic_stats= os.path.join(out_dir,'\\fechas_mosaico.csv')\n",
    "# geemap.zonal_statistics(img5,patagonia_grande, out_mosaic_stats, scale= 5000)"
   ]
  },
  {
   "cell_type": "markdown",
   "id": "7267523f",
   "metadata": {},
   "source": [
    "### Tasseled cap"
   ]
  },
  {
   "cell_type": "code",
   "execution_count": 113,
   "id": "427e0fc3",
   "metadata": {
    "ExecuteTime": {
     "end_time": "2022-02-03T13:59:06.910436Z",
     "start_time": "2022-02-03T13:59:06.908427Z"
    }
   },
   "outputs": [],
   "source": [
    "coef = ee.Array([\n",
    "    [0.3029, 0.2786, 0.4733, 0.5599, 0.508, 0.1872], \n",
    "    [-0.2941, -0.243, -0.5424, 0.7276, 0.0713, -0.1608],\n",
    "    [0.1511, 0.1973, 0.3283, 0.3407, -0.7117, -0.4559],\n",
    "    [-0.8239, 0.0849, 0.4396, -0.058, 0.2013, -0.2773],\n",
    "    [-0.3294, 0.0557, 0.1056, 0.1855, -0.4349, 0.8085],\n",
    "    [0.1079, -0.9023, 0.4119, 0.0575, -0.0259, 0.0252]\n",
    "])"
   ]
  },
  {
   "cell_type": "code",
   "execution_count": 114,
   "id": "7ab0a347",
   "metadata": {
    "ExecuteTime": {
     "end_time": "2022-02-03T13:59:06.912546Z",
     "start_time": "2022-02-03T13:59:06.911102Z"
    }
   },
   "outputs": [],
   "source": [
    "tasse_img5 = img5.select(['B2', 'B3', 'B4', 'B5', 'B6', 'B7'])"
   ]
  },
  {
   "cell_type": "code",
   "execution_count": 115,
   "id": "9e34972d",
   "metadata": {
    "ExecuteTime": {
     "end_time": "2022-02-03T13:59:06.914711Z",
     "start_time": "2022-02-03T13:59:06.913275Z"
    }
   },
   "outputs": [],
   "source": [
    "arrayimage1d = tasse_img5.toArray()"
   ]
  },
  {
   "cell_type": "code",
   "execution_count": 116,
   "id": "3c3e3a70",
   "metadata": {
    "ExecuteTime": {
     "end_time": "2022-02-03T13:59:06.917246Z",
     "start_time": "2022-02-03T13:59:06.915537Z"
    }
   },
   "outputs": [],
   "source": [
    "arrayimage2d = arrayimage1d.toArray(1)"
   ]
  },
  {
   "cell_type": "code",
   "execution_count": 117,
   "id": "0ae9ab01",
   "metadata": {
    "ExecuteTime": {
     "end_time": "2022-02-03T13:59:06.919723Z",
     "start_time": "2022-02-03T13:59:06.917950Z"
    }
   },
   "outputs": [],
   "source": [
    "componentes = ee.Image(coef)\\\n",
    "                .matrixMultiply(arrayimage2d) \\\n",
    "                .arrayProject([0])\\\n",
    "                .arrayFlatten(\n",
    "                [['brightness','greenness','wetness','fourth','fifth','sixth']])"
   ]
  },
  {
   "cell_type": "code",
   "execution_count": 118,
   "id": "b058be26",
   "metadata": {
    "ExecuteTime": {
     "end_time": "2022-02-03T13:59:06.921976Z",
     "start_time": "2022-02-03T13:59:06.920465Z"
    }
   },
   "outputs": [],
   "source": [
    "vizParamstess = {\n",
    "  'bands': ['brightness', 'greenness', 'wetness'],\n",
    "    'min': -0.1,\n",
    "    'max': [0.6, 0.2, 0.2]\n",
    "}\n"
   ]
  },
  {
   "cell_type": "code",
   "execution_count": 119,
   "id": "9dc2abf8",
   "metadata": {
    "ExecuteTime": {
     "end_time": "2022-02-03T13:59:08.364229Z",
     "start_time": "2022-02-03T13:59:06.922760Z"
    }
   },
   "outputs": [
    {
     "data": {
      "application/vnd.jupyter.widget-view+json": {
       "model_id": "23b3216a656244d3a3640034d1dfd249",
       "version_major": 2,
       "version_minor": 0
      },
      "text/plain": [
       "Map(center=[-45, -70], controls=(WidgetControl(options=['position', 'transparent_bg'], widget=HBox(children=(T…"
      ]
     },
     "metadata": {},
     "output_type": "display_data"
    }
   ],
   "source": [
    "Map10.addLayer(componentes,vizParamstess, 'Tesseled cap')\n",
    "Map10"
   ]
  },
  {
   "cell_type": "markdown",
   "id": "c36bd436",
   "metadata": {},
   "source": [
    "### Combinación de bandas"
   ]
  },
  {
   "cell_type": "code",
   "execution_count": 120,
   "id": "9e796ad0",
   "metadata": {
    "ExecuteTime": {
     "end_time": "2022-02-03T13:59:08.366949Z",
     "start_time": "2022-02-03T13:59:08.364924Z"
    }
   },
   "outputs": [],
   "source": [
    "img_final = img5.select('B1','B2','B3','B4','B5','B6','B7','NDVI','NDWI','NDGI','SAVI','NDSI','NDBI')\n",
    "img_final = img_final.addBands(componentes) "
   ]
  },
  {
   "cell_type": "code",
   "execution_count": 121,
   "id": "1946e239",
   "metadata": {
    "ExecuteTime": {
     "end_time": "2022-02-03T13:59:10.224245Z",
     "start_time": "2022-02-03T13:59:08.367594Z"
    }
   },
   "outputs": [
    {
     "data": {
      "text/plain": [
       "['B1',\n",
       " 'B2',\n",
       " 'B3',\n",
       " 'B4',\n",
       " 'B5',\n",
       " 'B6',\n",
       " 'B7',\n",
       " 'NDVI',\n",
       " 'NDWI',\n",
       " 'NDGI',\n",
       " 'SAVI',\n",
       " 'NDSI',\n",
       " 'NDBI',\n",
       " 'brightness',\n",
       " 'greenness',\n",
       " 'wetness',\n",
       " 'fourth',\n",
       " 'fifth',\n",
       " 'sixth']"
      ]
     },
     "execution_count": 121,
     "metadata": {},
     "output_type": "execute_result"
    }
   ],
   "source": [
    "img_final.bandNames().getInfo()"
   ]
  },
  {
   "cell_type": "markdown",
   "id": "2d8c3490",
   "metadata": {},
   "source": [
    "## Generación de Mosaico Mediana "
   ]
  },
  {
   "cell_type": "code",
   "execution_count": 122,
   "id": "daedb11a",
   "metadata": {
    "ExecuteTime": {
     "end_time": "2022-02-03T13:59:10.226909Z",
     "start_time": "2022-02-03T13:59:10.225021Z"
    }
   },
   "outputs": [],
   "source": [
    "NDVI_2021_landsat = cloudest.set('SENSOR_ID', 'OLI_TIRS')"
   ]
  },
  {
   "cell_type": "code",
   "execution_count": 123,
   "id": "27ac7247",
   "metadata": {
    "ExecuteTime": {
     "end_time": "2022-02-03T13:59:10.229593Z",
     "start_time": "2022-02-03T13:59:10.227660Z"
    }
   },
   "outputs": [],
   "source": [
    "cloud_2021 = ee.Algorithms.Landsat.simpleCloudScore(NDVI_2021_landsat)"
   ]
  },
  {
   "cell_type": "code",
   "execution_count": 124,
   "id": "5dc81c5b",
   "metadata": {
    "ExecuteTime": {
     "end_time": "2022-02-03T13:59:10.231702Z",
     "start_time": "2022-02-03T13:59:10.230320Z"
    }
   },
   "outputs": [],
   "source": [
    "cloud_2021 = cloud_2021.select('cloud')"
   ]
  },
  {
   "cell_type": "code",
   "execution_count": 125,
   "id": "ff9b8a7d",
   "metadata": {
    "ExecuteTime": {
     "end_time": "2022-02-03T13:59:10.233878Z",
     "start_time": "2022-02-03T13:59:10.232605Z"
    }
   },
   "outputs": [],
   "source": [
    "palette_nubes = ['#1a9850', '#d73027']"
   ]
  },
  {
   "cell_type": "code",
   "execution_count": 126,
   "id": "b0297af0",
   "metadata": {
    "ExecuteTime": {
     "end_time": "2022-02-03T13:59:10.236889Z",
     "start_time": "2022-02-03T13:59:10.234576Z"
    }
   },
   "outputs": [],
   "source": [
    "resultados= [cloud_2021, cloudest]\n",
    "vis_params2=  [\n",
    "    {'palette':palette_nubes}, \n",
    "    vizParams]\n",
    "labels = [\n",
    "    'Nubes 2021',\n",
    "    'QM NDVI 2021']"
   ]
  },
  {
   "cell_type": "code",
   "execution_count": 127,
   "id": "59624c53",
   "metadata": {
    "ExecuteTime": {
     "end_time": "2022-02-03T13:59:12.976597Z",
     "start_time": "2022-02-03T13:59:10.237590Z"
    }
   },
   "outputs": [
    {
     "data": {
      "application/vnd.jupyter.widget-view+json": {
       "model_id": "250d7e793fb248dca01449381f067a15",
       "version_major": 2,
       "version_minor": 0
      },
      "text/plain": [
       "GridspecLayout(children=(Output(layout=Layout(grid_area='widget001')), Output(layout=Layout(grid_area='widget0…"
      ]
     },
     "metadata": {},
     "output_type": "display_data"
    }
   ],
   "source": [
    "geemap.linked_maps(rows=1, cols=2, height=\"400px\", center=[-45, -75], zoom=4, \n",
    "                   ee_objects=resultados, vis_params=vis_params2, labels=labels, label_position=\"topright\")"
   ]
  },
  {
   "cell_type": "code",
   "execution_count": 128,
   "id": "10d867ca",
   "metadata": {
    "ExecuteTime": {
     "end_time": "2022-02-03T13:59:14.081443Z",
     "start_time": "2022-02-03T13:59:12.977315Z"
    }
   },
   "outputs": [
    {
     "data": {
      "text/plain": [
       "['B1',\n",
       " 'B2',\n",
       " 'B3',\n",
       " 'B4',\n",
       " 'B5',\n",
       " 'B6',\n",
       " 'B7',\n",
       " 'B8',\n",
       " 'B9',\n",
       " 'B10',\n",
       " 'B11',\n",
       " 'BQA',\n",
       " 'NDVI',\n",
       " 'NDWI',\n",
       " 'NDGI',\n",
       " 'SAVI',\n",
       " 'NDSI',\n",
       " 'NDBI',\n",
       " 'date',\n",
       " 'nube']"
      ]
     },
     "execution_count": 128,
     "metadata": {},
     "output_type": "execute_result"
    }
   ],
   "source": [
    "Tier1_sn.median().bandNames().getInfo()"
   ]
  },
  {
   "cell_type": "code",
   "execution_count": 129,
   "id": "f344f905",
   "metadata": {
    "ExecuteTime": {
     "end_time": "2022-02-03T13:59:14.083731Z",
     "start_time": "2022-02-03T13:59:14.082193Z"
    }
   },
   "outputs": [],
   "source": [
    "def llenado(image):\n",
    "    return image.where(cloud_2021.gt(10),Tier1_sn.median())"
   ]
  },
  {
   "cell_type": "code",
   "execution_count": 130,
   "id": "f6465699",
   "metadata": {
    "ExecuteTime": {
     "end_time": "2022-02-03T13:59:14.087472Z",
     "start_time": "2022-02-03T13:59:14.084430Z"
    }
   },
   "outputs": [],
   "source": [
    "img1m = llenado(l8_summer.median())"
   ]
  },
  {
   "cell_type": "code",
   "execution_count": 131,
   "id": "4fecf00d",
   "metadata": {
    "ExecuteTime": {
     "end_time": "2022-02-03T13:59:14.090203Z",
     "start_time": "2022-02-03T13:59:14.088139Z"
    }
   },
   "outputs": [],
   "source": [
    "img1m_landsat = img1m.set('SENSOR_ID', 'OLI_TIRS')\n",
    "cloud_img1 = ee.Algorithms.Landsat.simpleCloudScore(img1m_landsat)\n",
    "cloud_img1 = cloud_img1.select('cloud')"
   ]
  },
  {
   "cell_type": "code",
   "execution_count": 132,
   "id": "cbf75071",
   "metadata": {
    "ExecuteTime": {
     "end_time": "2022-02-03T13:59:14.092838Z",
     "start_time": "2022-02-03T13:59:14.091201Z"
    }
   },
   "outputs": [],
   "source": [
    "resultados= [cloud_img1, img1m]\n",
    "vis_params2=  [\n",
    "    {'palette':palette_nubes}, \n",
    "    vizParams]\n",
    "labels = [\n",
    "    'Nubes Mosaico 1',\n",
    "    'Mosaico 1']"
   ]
  },
  {
   "cell_type": "code",
   "execution_count": 133,
   "id": "bcab44d4",
   "metadata": {
    "ExecuteTime": {
     "end_time": "2022-02-03T13:59:16.892378Z",
     "start_time": "2022-02-03T13:59:14.093516Z"
    }
   },
   "outputs": [
    {
     "data": {
      "application/vnd.jupyter.widget-view+json": {
       "model_id": "270d593fe85f440c811608cb3de1239f",
       "version_major": 2,
       "version_minor": 0
      },
      "text/plain": [
       "GridspecLayout(children=(Output(layout=Layout(grid_area='widget001')), Output(layout=Layout(grid_area='widget0…"
      ]
     },
     "metadata": {},
     "output_type": "display_data"
    }
   ],
   "source": [
    "geemap.linked_maps(rows=1, cols=2, height=\"400px\", center=[-45, -75], zoom=4, \n",
    "                   ee_objects=resultados, vis_params=vis_params2, labels=labels, label_position=\"topright\")"
   ]
  },
  {
   "cell_type": "code",
   "execution_count": 134,
   "id": "d90fb4fd",
   "metadata": {
    "ExecuteTime": {
     "end_time": "2022-02-03T13:59:16.894553Z",
     "start_time": "2022-02-03T13:59:16.893055Z"
    }
   },
   "outputs": [],
   "source": [
    "def llenado2(image):\n",
    "    return image.where(cloud_img1.gt(10), Tier2_sn.median())"
   ]
  },
  {
   "cell_type": "code",
   "execution_count": 135,
   "id": "524814b0",
   "metadata": {
    "ExecuteTime": {
     "end_time": "2022-02-03T13:59:16.897184Z",
     "start_time": "2022-02-03T13:59:16.895167Z"
    }
   },
   "outputs": [],
   "source": [
    "img2m = llenado2(img1m)"
   ]
  },
  {
   "cell_type": "code",
   "execution_count": 136,
   "id": "a04c18a8",
   "metadata": {
    "ExecuteTime": {
     "end_time": "2022-02-03T13:59:16.899494Z",
     "start_time": "2022-02-03T13:59:16.897987Z"
    }
   },
   "outputs": [],
   "source": [
    "img2m_landsat = img2.set('SENSOR_ID', 'OLI_TIRS')\n",
    "cloud_img2 = ee.Algorithms.Landsat.simpleCloudScore(img2m_landsat)\n",
    "cloud_img2 = cloud_img2.select('cloud')"
   ]
  },
  {
   "cell_type": "code",
   "execution_count": 137,
   "id": "b6e99cd7",
   "metadata": {
    "ExecuteTime": {
     "end_time": "2022-02-03T13:59:16.901850Z",
     "start_time": "2022-02-03T13:59:16.900233Z"
    }
   },
   "outputs": [],
   "source": [
    "resultados= [cloud_img2, img2m]\n",
    "vis_params2=  [\n",
    "    {'palette':palette_nubes}, \n",
    "    vizParams]\n",
    "labels = [\n",
    "    'Nubes Mosaico 2',\n",
    "    'Mosaico 2']"
   ]
  },
  {
   "cell_type": "code",
   "execution_count": 138,
   "id": "472ab70a",
   "metadata": {
    "ExecuteTime": {
     "end_time": "2022-02-03T13:59:16.903951Z",
     "start_time": "2022-02-03T13:59:16.902504Z"
    }
   },
   "outputs": [],
   "source": [
    "def llenado3(image):\n",
    "    return image.where(cloud_img2.gt(10),Tier3_sn.median())"
   ]
  },
  {
   "cell_type": "code",
   "execution_count": 139,
   "id": "e8d70266",
   "metadata": {
    "ExecuteTime": {
     "end_time": "2022-02-03T13:59:16.906514Z",
     "start_time": "2022-02-03T13:59:16.904591Z"
    }
   },
   "outputs": [],
   "source": [
    "img3m = llenado3(img2m)"
   ]
  },
  {
   "cell_type": "code",
   "execution_count": 140,
   "id": "ed06e753",
   "metadata": {
    "ExecuteTime": {
     "end_time": "2022-02-03T13:59:16.908910Z",
     "start_time": "2022-02-03T13:59:16.907262Z"
    }
   },
   "outputs": [],
   "source": [
    "img3m_landsat = img3.set('SENSOR_ID', 'OLI_TIRS')\n",
    "cloud_img3 = ee.Algorithms.Landsat.simpleCloudScore(img3m_landsat)\n",
    "cloud_img3 = cloud_img3.select('cloud')"
   ]
  },
  {
   "cell_type": "code",
   "execution_count": 141,
   "id": "e42124da",
   "metadata": {
    "ExecuteTime": {
     "end_time": "2022-02-03T13:59:16.911294Z",
     "start_time": "2022-02-03T13:59:16.909751Z"
    }
   },
   "outputs": [],
   "source": [
    "resultados= [cloud_img3, img3m]\n",
    "vis_params2=  [\n",
    "    {'palette':palette_nubes}, \n",
    "    vizParams]\n",
    "labels = [\n",
    "    'Nubes Mosaico 3',\n",
    "    'Mosaico 3']"
   ]
  },
  {
   "cell_type": "code",
   "execution_count": 142,
   "id": "496d088f",
   "metadata": {
    "ExecuteTime": {
     "end_time": "2022-02-03T13:59:16.913597Z",
     "start_time": "2022-02-03T13:59:16.912049Z"
    }
   },
   "outputs": [],
   "source": [
    "def llenado4(image):\n",
    "    return image.where(cloud_img3.gt(10),Tier4_sn.median())"
   ]
  },
  {
   "cell_type": "code",
   "execution_count": 143,
   "id": "c40d71ef",
   "metadata": {
    "ExecuteTime": {
     "end_time": "2022-02-03T13:59:16.915750Z",
     "start_time": "2022-02-03T13:59:16.914264Z"
    }
   },
   "outputs": [],
   "source": [
    "img4m = llenado4(img3m)"
   ]
  },
  {
   "cell_type": "code",
   "execution_count": 144,
   "id": "f796f2ce",
   "metadata": {
    "ExecuteTime": {
     "end_time": "2022-02-03T13:59:16.918134Z",
     "start_time": "2022-02-03T13:59:16.916440Z"
    }
   },
   "outputs": [],
   "source": [
    "img4m_landsat = img4m.set('SENSOR_ID', 'OLI_TIRS')\n",
    "cloud_img4 = ee.Algorithms.Landsat.simpleCloudScore(img4m_landsat)\n",
    "cloud_img4 = cloud_img4.select('cloud')"
   ]
  },
  {
   "cell_type": "code",
   "execution_count": 145,
   "id": "37d6a3a6",
   "metadata": {
    "ExecuteTime": {
     "end_time": "2022-02-03T13:59:16.920360Z",
     "start_time": "2022-02-03T13:59:16.918844Z"
    }
   },
   "outputs": [],
   "source": [
    "resultados= [cloud_img4, img4m]\n",
    "vis_params2=  [\n",
    "    {'palette':palette_nubes}, \n",
    "    vizParams]\n",
    "labels = [\n",
    "    'Nubes Mosaico 4',\n",
    "    'Mosaico 4']"
   ]
  },
  {
   "cell_type": "code",
   "execution_count": 146,
   "id": "0903900c",
   "metadata": {
    "ExecuteTime": {
     "end_time": "2022-02-03T13:59:16.923349Z",
     "start_time": "2022-02-03T13:59:16.921196Z"
    }
   },
   "outputs": [],
   "source": [
    "hansenImage = ee.Image('UMD/hansen/global_forest_change_2015')\n",
    "datamask = hansenImage.select('datamask')"
   ]
  },
  {
   "cell_type": "code",
   "execution_count": 147,
   "id": "34a62dc7",
   "metadata": {
    "ExecuteTime": {
     "end_time": "2022-02-03T13:59:16.925810Z",
     "start_time": "2022-02-03T13:59:16.924073Z"
    }
   },
   "outputs": [],
   "source": [
    "def llenado5(image):\n",
    "    return image.where(datamask.eq(2), Tier1_sn.median())"
   ]
  },
  {
   "cell_type": "code",
   "execution_count": 148,
   "id": "52fe0c9d",
   "metadata": {
    "ExecuteTime": {
     "end_time": "2022-02-03T13:59:16.928155Z",
     "start_time": "2022-02-03T13:59:16.926568Z"
    }
   },
   "outputs": [],
   "source": [
    "img5m = llenado5(img4m)"
   ]
  },
  {
   "cell_type": "code",
   "execution_count": 149,
   "id": "1dc41650",
   "metadata": {
    "ExecuteTime": {
     "end_time": "2022-02-03T13:59:16.930333Z",
     "start_time": "2022-02-03T13:59:16.928849Z"
    }
   },
   "outputs": [],
   "source": [
    "img5m_landsat = img5m.set('SENSOR_ID', 'OLI_TIRS')"
   ]
  },
  {
   "cell_type": "code",
   "execution_count": 150,
   "id": "76e1793f",
   "metadata": {
    "ExecuteTime": {
     "end_time": "2022-02-03T13:59:16.932687Z",
     "start_time": "2022-02-03T13:59:16.931047Z"
    }
   },
   "outputs": [],
   "source": [
    "resultados= [img4m, img5m]\n",
    "labels = [\n",
    "    'Mosaico 4',\n",
    "    'Mosaico 5']\n",
    "vis_params3=  [\n",
    "     vizParams, \n",
    "    vizParams]"
   ]
  },
  {
   "cell_type": "code",
   "execution_count": 151,
   "id": "622f958f",
   "metadata": {
    "ExecuteTime": {
     "end_time": "2022-02-03T13:59:20.543510Z",
     "start_time": "2022-02-03T13:59:16.933342Z"
    }
   },
   "outputs": [
    {
     "data": {
      "application/vnd.jupyter.widget-view+json": {
       "model_id": "e10ef2026c344dd182a333cae60823b5",
       "version_major": 2,
       "version_minor": 0
      },
      "text/plain": [
       "GridspecLayout(children=(Output(layout=Layout(grid_area='widget001')), Output(layout=Layout(grid_area='widget0…"
      ]
     },
     "metadata": {},
     "output_type": "display_data"
    }
   ],
   "source": [
    "geemap.linked_maps(rows=1, cols=2, height=\"400px\", center=[-45, -75], zoom=4, \n",
    "                   ee_objects=resultados, vis_params=vis_params3, labels=labels, label_position=\"topright\")"
   ]
  },
  {
   "cell_type": "markdown",
   "id": "30564ae6",
   "metadata": {},
   "source": [
    "### Resultado"
   ]
  },
  {
   "cell_type": "code",
   "execution_count": 152,
   "id": "78a80ba0",
   "metadata": {
    "ExecuteTime": {
     "end_time": "2022-02-03T13:59:24.036129Z",
     "start_time": "2022-02-03T13:59:20.544298Z"
    }
   },
   "outputs": [
    {
     "data": {
      "application/vnd.jupyter.widget-view+json": {
       "model_id": "941c48b861e04e93ab213b7c3b4cee67",
       "version_major": 2,
       "version_minor": 0
      },
      "text/plain": [
       "Map(center=[-45, -70], controls=(WidgetControl(options=['position', 'transparent_bg'], widget=HBox(children=(T…"
      ]
     },
     "metadata": {},
     "output_type": "display_data"
    }
   ],
   "source": [
    "Map11.addLayer(img4m, vizParams, 'Mosaico 4')\n",
    "Map11.addLayer(img5m, vizParams, 'Mosaico 5')\n",
    "Map11"
   ]
  },
  {
   "cell_type": "markdown",
   "id": "1aebd5eb",
   "metadata": {},
   "source": [
    "### Tasseled cap"
   ]
  },
  {
   "cell_type": "code",
   "execution_count": 153,
   "id": "2e5af562",
   "metadata": {
    "ExecuteTime": {
     "end_time": "2022-02-03T13:59:24.038703Z",
     "start_time": "2022-02-03T13:59:24.037059Z"
    }
   },
   "outputs": [],
   "source": [
    "tasse_img5m = img5m.select(['B2', 'B3', 'B4', 'B5', 'B6', 'B7'])"
   ]
  },
  {
   "cell_type": "code",
   "execution_count": 154,
   "id": "a8d152b7",
   "metadata": {
    "ExecuteTime": {
     "end_time": "2022-02-03T13:59:24.041448Z",
     "start_time": "2022-02-03T13:59:24.039374Z"
    }
   },
   "outputs": [],
   "source": [
    "arrayimage1dm = tasse_img5m.toArray()"
   ]
  },
  {
   "cell_type": "code",
   "execution_count": 155,
   "id": "c15b3355",
   "metadata": {
    "ExecuteTime": {
     "end_time": "2022-02-03T13:59:24.043489Z",
     "start_time": "2022-02-03T13:59:24.042130Z"
    }
   },
   "outputs": [],
   "source": [
    "arrayimage2dm = arrayimage1dm.toArray(1)"
   ]
  },
  {
   "cell_type": "code",
   "execution_count": 156,
   "id": "a0a5dcce",
   "metadata": {
    "ExecuteTime": {
     "end_time": "2022-02-03T13:59:24.046480Z",
     "start_time": "2022-02-03T13:59:24.044353Z"
    }
   },
   "outputs": [],
   "source": [
    "componentesm = ee.Image(coef)\\\n",
    "                .matrixMultiply(arrayimage2dm) \\\n",
    "                .arrayProject([0])\\\n",
    "                .arrayFlatten(\n",
    "                [['brightness','greenness','wetness','fourth','fifth','sixth']])"
   ]
  },
  {
   "cell_type": "code",
   "execution_count": 157,
   "id": "15b3890e",
   "metadata": {
    "ExecuteTime": {
     "end_time": "2022-02-03T13:59:25.752914Z",
     "start_time": "2022-02-03T13:59:24.047140Z"
    }
   },
   "outputs": [
    {
     "data": {
      "application/vnd.jupyter.widget-view+json": {
       "model_id": "941c48b861e04e93ab213b7c3b4cee67",
       "version_major": 2,
       "version_minor": 0
      },
      "text/plain": [
       "Map(center=[-45, -70], controls=(WidgetControl(options=['position', 'transparent_bg'], widget=HBox(children=(T…"
      ]
     },
     "metadata": {},
     "output_type": "display_data"
    }
   ],
   "source": [
    "Map11.addLayer(componentesm,vizParamstess, 'Tesseled cap')\n",
    "Map11"
   ]
  },
  {
   "cell_type": "markdown",
   "id": "b466df41",
   "metadata": {},
   "source": [
    "### Combinación de bandas"
   ]
  },
  {
   "cell_type": "code",
   "execution_count": 158,
   "id": "2dd4089f",
   "metadata": {
    "ExecuteTime": {
     "end_time": "2022-02-03T13:59:25.755918Z",
     "start_time": "2022-02-03T13:59:25.753955Z"
    }
   },
   "outputs": [],
   "source": [
    "img_final_m = img5m.select('B1','B2','B3','B4','B5','B6','B7','NDVI','NDWI','NDGI','SAVI','NDSI','NDBI')\n",
    "img_final_m = img_final_m.addBands(componentesm) "
   ]
  },
  {
   "cell_type": "markdown",
   "id": "1e872319",
   "metadata": {},
   "source": [
    "## Clasificación"
   ]
  },
  {
   "cell_type": "code",
   "execution_count": 159,
   "id": "8093616d",
   "metadata": {
    "ExecuteTime": {
     "end_time": "2022-02-03T13:59:32.764722Z",
     "start_time": "2022-02-03T13:59:25.756768Z"
    }
   },
   "outputs": [],
   "source": [
    "test1 = os.path.join(work_dir,'roi_1.shp')\n",
    "test1 = geemap.shp_to_ee(test1)\n",
    "Map13.addLayer(test1, {}, 'Áreas de entrenamiento')"
   ]
  },
  {
   "cell_type": "code",
   "execution_count": 160,
   "id": "c266e87a",
   "metadata": {
    "ExecuteTime": {
     "end_time": "2022-02-03T13:59:32.770269Z",
     "start_time": "2022-02-03T13:59:32.765565Z"
    }
   },
   "outputs": [
    {
     "data": {
      "application/vnd.jupyter.widget-view+json": {
       "model_id": "e11329e022154cefa4f61b02ef54b2c0",
       "version_major": 2,
       "version_minor": 0
      },
      "text/plain": [
       "Map(center=[-45, -70], controls=(WidgetControl(options=['position', 'transparent_bg'], widget=HBox(children=(T…"
      ]
     },
     "metadata": {},
     "output_type": "display_data"
    }
   ],
   "source": [
    "Map13"
   ]
  },
  {
   "cell_type": "code",
   "execution_count": 161,
   "id": "613b1401",
   "metadata": {
    "ExecuteTime": {
     "end_time": "2022-02-03T13:59:32.772795Z",
     "start_time": "2022-02-03T13:59:32.770933Z"
    }
   },
   "outputs": [],
   "source": [
    "data_QM = img_final.sampleRegions(**{\n",
    "    'collection': test1,\n",
    "    'properties': ['C_ID'],\n",
    "    'scale': 30,\n",
    "    'tileScale': 2,\n",
    "})"
   ]
  },
  {
   "cell_type": "code",
   "execution_count": 162,
   "id": "35ec1522",
   "metadata": {
    "ExecuteTime": {
     "end_time": "2022-02-03T13:59:32.775080Z",
     "start_time": "2022-02-03T13:59:32.773458Z"
    }
   },
   "outputs": [],
   "source": [
    "data_Med = img_final_m.sampleRegions(**{\n",
    "    'collection': test1,\n",
    "    'properties': ['C_ID'],\n",
    "    'scale': 30,\n",
    "    'tileScale': 2,\n",
    "})"
   ]
  },
  {
   "cell_type": "code",
   "execution_count": 163,
   "id": "0be21169",
   "metadata": {
    "ExecuteTime": {
     "end_time": "2022-02-03T13:59:32.777282Z",
     "start_time": "2022-02-03T13:59:32.775839Z"
    }
   },
   "outputs": [],
   "source": [
    "# print(test_data.size().getInfo())"
   ]
  },
  {
   "cell_type": "code",
   "execution_count": 164,
   "id": "0cdba8cd",
   "metadata": {
    "ExecuteTime": {
     "end_time": "2022-02-03T13:59:32.779204Z",
     "start_time": "2022-02-03T13:59:32.777978Z"
    }
   },
   "outputs": [],
   "source": [
    "# print(test_data.first().getInfo())"
   ]
  },
  {
   "cell_type": "markdown",
   "id": "65efc69f",
   "metadata": {},
   "source": [
    "### Muestras y datos de validación"
   ]
  },
  {
   "cell_type": "code",
   "execution_count": 165,
   "id": "9f4082a9",
   "metadata": {
    "ExecuteTime": {
     "end_time": "2022-02-03T13:59:32.782487Z",
     "start_time": "2022-02-03T13:59:32.779951Z"
    }
   },
   "outputs": [],
   "source": [
    "# Guardamos las bandas\n",
    "\n",
    "# Esta propiedad guarda las clases de landcover\n",
    "# label = 'b1'\n",
    "label = 'IDH'\n",
    "label1 = 'ID'\n",
    "label_train ='C_ID'\n",
    "# Overlay the points on the imagery to get training.\n",
    "# sample = landsat.select(bands).sampleRegions(**{\n",
    "#   'collection': points,\n",
    "#   'properties': [label],\n",
    "#   'scale': 30\n",
    "# })\n",
    "\n",
    "# # Adds a column of deterministic pseudorandom numbers. \n",
    "# sample = sample.randomColumn()\n",
    "\n",
    "# split = 0.7 \n",
    "\n",
    "# training = sample.filter(ee.Filter.lt('random', split))\n",
    "# validation = sample.filter(ee.Filter.gte('random', split))\n",
    "bands = ['B1',\n",
    " 'B2',\n",
    " 'B3',\n",
    " 'B4',\n",
    " 'B5',\n",
    " 'B6',\n",
    " 'B7',\n",
    " 'NDVI',\n",
    " 'NDWI',\n",
    " 'NDGI',\n",
    " 'SAVI',\n",
    " 'NDSI',\n",
    " 'brightness',\n",
    " 'greenness',\n",
    " 'wetness',\n",
    " 'fourth',\n",
    " 'fifth',\n",
    " 'sixth'\n",
    "]\n",
    "bands2 = ['B1',\n",
    " 'B2',\n",
    " 'B3',\n",
    " 'B4',\n",
    " 'B5',\n",
    " 'B6',\n",
    " 'B7',\n",
    " 'NDVI',\n",
    " 'NDWI',\n",
    " 'NDGI',\n",
    " 'SAVI',\n",
    " 'NDSI',\n",
    "]\n",
    "bands1 = ['B1',\n",
    " 'B2',\n",
    " 'B3',\n",
    " 'B4',\n",
    " 'B5',\n",
    " 'B6',\n",
    " 'B7',\n",
    " 'B8',\n",
    " 'B9',\n",
    " 'B10',\n",
    " 'B11']"
   ]
  },
  {
   "cell_type": "markdown",
   "id": "bb2b3b9b",
   "metadata": {},
   "source": [
    "### Entrenando el modelo"
   ]
  },
  {
   "cell_type": "code",
   "execution_count": 166,
   "id": "d2eab14d",
   "metadata": {
    "ExecuteTime": {
     "end_time": "2022-02-03T13:59:32.784679Z",
     "start_time": "2022-02-03T13:59:32.783188Z"
    }
   },
   "outputs": [],
   "source": [
    "classifier_QM = ee.Classifier.smileRandomForest(100).train(data_QM,label_train,bands)"
   ]
  },
  {
   "cell_type": "code",
   "execution_count": 167,
   "id": "9a0dbf8e",
   "metadata": {
    "ExecuteTime": {
     "end_time": "2022-02-03T13:59:32.787387Z",
     "start_time": "2022-02-03T13:59:32.785503Z"
    }
   },
   "outputs": [],
   "source": [
    "classifier_Med = ee.Classifier.smileRandomForest(100).train(data_Med,label_train,bands)"
   ]
  },
  {
   "cell_type": "code",
   "execution_count": 168,
   "id": "effbf7b9",
   "metadata": {
    "ExecuteTime": {
     "end_time": "2022-02-03T13:59:32.790275Z",
     "start_time": "2022-02-03T13:59:32.788052Z"
    }
   },
   "outputs": [],
   "source": [
    "result_QM = img_final.select(bands).classify(classifier_QM)"
   ]
  },
  {
   "cell_type": "code",
   "execution_count": 169,
   "id": "dccc1b73",
   "metadata": {
    "ExecuteTime": {
     "end_time": "2022-02-03T13:59:32.792608Z",
     "start_time": "2022-02-03T13:59:32.790956Z"
    }
   },
   "outputs": [],
   "source": [
    "result_Med = img_final_m.select(bands).classify(classifier_Med)"
   ]
  },
  {
   "cell_type": "markdown",
   "id": "7df7206f",
   "metadata": {},
   "source": [
    "### Categorizando"
   ]
  },
  {
   "cell_type": "code",
   "execution_count": 195,
   "id": "997c3cbf",
   "metadata": {
    "ExecuteTime": {
     "end_time": "2022-02-03T15:36:51.575872Z",
     "start_time": "2022-02-03T15:36:51.572675Z"
    }
   },
   "outputs": [],
   "source": [
    "class_values2 = [1,2,3,4,5,6,7,8,9,10,11,12,13,14,15,16,17,19,20,30,31,32,33,34,35,36,39,40,43,45,47,48,57,58,60]\n",
    "\n",
    "class_palette2 = ['d1fbff', # 1 Hielo\n",
    " 'bfdadd', #2 lengua glaciar\n",
    " 'b9bfbf', #3 glaciar cubierto\n",
    " 'fe40fe', #4 nieve\n",
    " '8ac1ff', #5 fiordo glaciar\n",
    " '0c407b', #6 mar\n",
    " '2e8da0', #7 lago continental\n",
    " '16b2d1', #8 lago glaciar\n",
    " '27e1d8', #9 río\n",
    " 'eeb514', #10 suelo desnudo\n",
    " '927012', #11 cárcavas erosión \n",
    " 'e98c0f', #12 suelo río\n",
    " 'f7e8bd', #13 suelo duna/arenal\n",
    " '5b5b5b', #14 caminos\n",
    " 'e57104', #15 suelo desnudo / poca vegetación\n",
    " '5d1412', #16 tuberas / musgos\n",
    " '5d1412', #17 mallín                 \n",
    " '161163', #19 áreas inundables\n",
    " 'fff300', #20 plantación adulto\n",
    " 'dee842', #30 praderas pastoreo             \n",
    " 'ced118', #31 estepa abierta\n",
    " '7a7c0f', #32 estepa cerrada\n",
    " 'c39700', #33 palizales\n",
    " 'a1ff8a', #34 preaderas\n",
    " '138665', #35 matorrales densos\n",
    " '1bbd8e', #36 matorrales abiertos\n",
    " '195a09', #39 primario adulto\n",
    " '27c41d', #40 secundario adulto\n",
    " 'b2ff00', #43 renoval inicial\n",
    " 'f36605', #45 degradado\n",
    " '7729db', #47 Primario adulto caduco\n",
    " '9e60ec', #48 Secundario adulto caduco\n",
    " '7000ff', #57 Mixto Primario\n",
    " 'c598ff', #58 Mixto secundario\n",
    " '00ff87', #60 Coníferas nativas\n",
    "]"
   ]
  },
  {
   "cell_type": "code",
   "execution_count": 196,
   "id": "d1ed6e92",
   "metadata": {
    "ExecuteTime": {
     "end_time": "2022-02-03T15:36:51.579101Z",
     "start_time": "2022-02-03T15:36:51.577093Z"
    }
   },
   "outputs": [],
   "source": [
    "landcover_QM = result_QM.set('classification_class_values', class_values2)\n",
    "landcover_QM = landcover_QM.set('classification_class_palette',class_palette2)"
   ]
  },
  {
   "cell_type": "code",
   "execution_count": 197,
   "id": "40c97470",
   "metadata": {
    "ExecuteTime": {
     "end_time": "2022-02-03T15:36:51.581444Z",
     "start_time": "2022-02-03T15:36:51.579889Z"
    }
   },
   "outputs": [],
   "source": [
    "landcover_Med = result_Med.set('classification_class_values', class_values2)\n",
    "landcover_Med = landcover_Med.set('classification_class_palette',class_palette2)"
   ]
  },
  {
   "cell_type": "code",
   "execution_count": 198,
   "id": "11e0ee3e",
   "metadata": {
    "ExecuteTime": {
     "end_time": "2022-02-03T15:36:58.000394Z",
     "start_time": "2022-02-03T15:36:51.583272Z"
    }
   },
   "outputs": [
    {
     "ename": "KeyboardInterrupt",
     "evalue": "",
     "output_type": "error",
     "traceback": [
      "\u001b[0;31m---------------------------------------------------------------------------\u001b[0m",
      "\u001b[0;31mKeyboardInterrupt\u001b[0m                         Traceback (most recent call last)",
      "\u001b[0;32m/tmp/ipykernel_223/3377993691.py\u001b[0m in \u001b[0;36m<module>\u001b[0;34m\u001b[0m\n\u001b[0;32m----> 1\u001b[0;31m \u001b[0mMap14\u001b[0m\u001b[0;34m.\u001b[0m\u001b[0maddLayer\u001b[0m\u001b[0;34m(\u001b[0m\u001b[0mlandcover_QM\u001b[0m\u001b[0;34m,\u001b[0m\u001b[0;34m{\u001b[0m\u001b[0;34m}\u001b[0m\u001b[0;34m,\u001b[0m \u001b[0;34m'Land cover RF-QM'\u001b[0m \u001b[0;34m)\u001b[0m\u001b[0;34m\u001b[0m\u001b[0;34m\u001b[0m\u001b[0m\n\u001b[0m\u001b[1;32m      2\u001b[0m \u001b[0mMap14\u001b[0m\u001b[0;34m.\u001b[0m\u001b[0maddLayer\u001b[0m\u001b[0;34m(\u001b[0m\u001b[0mlandcover_Med\u001b[0m\u001b[0;34m,\u001b[0m\u001b[0;34m{\u001b[0m\u001b[0;34m}\u001b[0m\u001b[0;34m,\u001b[0m \u001b[0;34m'Land cover RF-Mediana'\u001b[0m\u001b[0;34m)\u001b[0m\u001b[0;34m\u001b[0m\u001b[0;34m\u001b[0m\u001b[0m\n",
      "\u001b[0;32m~/anaconda3/envs/gee/lib/python3.8/site-packages/geemap/geemap.py\u001b[0m in \u001b[0;36madd_ee_layer\u001b[0;34m(self, ee_object, vis_params, name, shown, opacity)\u001b[0m\n\u001b[1;32m   1392\u001b[0m                 \u001b[0;32mraise\u001b[0m \u001b[0mException\u001b[0m\u001b[0;34m(\u001b[0m\u001b[0me\u001b[0m\u001b[0;34m)\u001b[0m\u001b[0;34m\u001b[0m\u001b[0;34m\u001b[0m\u001b[0m\n\u001b[1;32m   1393\u001b[0m \u001b[0;34m\u001b[0m\u001b[0m\n\u001b[0;32m-> 1394\u001b[0;31m         \u001b[0mmap_id_dict\u001b[0m \u001b[0;34m=\u001b[0m \u001b[0mee\u001b[0m\u001b[0;34m.\u001b[0m\u001b[0mImage\u001b[0m\u001b[0;34m(\u001b[0m\u001b[0mimage\u001b[0m\u001b[0;34m)\u001b[0m\u001b[0;34m.\u001b[0m\u001b[0mgetMapId\u001b[0m\u001b[0;34m(\u001b[0m\u001b[0mvis_params\u001b[0m\u001b[0;34m)\u001b[0m\u001b[0;34m\u001b[0m\u001b[0;34m\u001b[0m\u001b[0m\n\u001b[0m\u001b[1;32m   1395\u001b[0m         tile_layer = ipyleaflet.TileLayer(\n\u001b[1;32m   1396\u001b[0m             \u001b[0murl\u001b[0m\u001b[0;34m=\u001b[0m\u001b[0mmap_id_dict\u001b[0m\u001b[0;34m[\u001b[0m\u001b[0;34m\"tile_fetcher\"\u001b[0m\u001b[0;34m]\u001b[0m\u001b[0;34m.\u001b[0m\u001b[0murl_format\u001b[0m\u001b[0;34m,\u001b[0m\u001b[0;34m\u001b[0m\u001b[0;34m\u001b[0m\u001b[0m\n",
      "\u001b[0;32m~/anaconda3/envs/gee/lib/python3.8/site-packages/ee/image.py\u001b[0m in \u001b[0;36mgetMapId\u001b[0;34m(self, vis_params)\u001b[0m\n\u001b[1;32m    128\u001b[0m     \u001b[0mvis_image\u001b[0m\u001b[0;34m,\u001b[0m \u001b[0mrequest\u001b[0m \u001b[0;34m=\u001b[0m \u001b[0mself\u001b[0m\u001b[0;34m.\u001b[0m\u001b[0m_apply_visualization\u001b[0m\u001b[0;34m(\u001b[0m\u001b[0mvis_params\u001b[0m\u001b[0;34m)\u001b[0m\u001b[0;34m\u001b[0m\u001b[0;34m\u001b[0m\u001b[0m\n\u001b[1;32m    129\u001b[0m     \u001b[0mrequest\u001b[0m\u001b[0;34m[\u001b[0m\u001b[0;34m'image'\u001b[0m\u001b[0;34m]\u001b[0m \u001b[0;34m=\u001b[0m \u001b[0mvis_image\u001b[0m\u001b[0;34m\u001b[0m\u001b[0;34m\u001b[0m\u001b[0m\n\u001b[0;32m--> 130\u001b[0;31m     \u001b[0mresponse\u001b[0m \u001b[0;34m=\u001b[0m \u001b[0mdata\u001b[0m\u001b[0;34m.\u001b[0m\u001b[0mgetMapId\u001b[0m\u001b[0;34m(\u001b[0m\u001b[0mrequest\u001b[0m\u001b[0;34m)\u001b[0m\u001b[0;34m\u001b[0m\u001b[0;34m\u001b[0m\u001b[0m\n\u001b[0m\u001b[1;32m    131\u001b[0m     \u001b[0mresponse\u001b[0m\u001b[0;34m[\u001b[0m\u001b[0;34m'image'\u001b[0m\u001b[0;34m]\u001b[0m \u001b[0;34m=\u001b[0m \u001b[0mself\u001b[0m\u001b[0;34m\u001b[0m\u001b[0;34m\u001b[0m\u001b[0m\n\u001b[1;32m    132\u001b[0m     \u001b[0;32mreturn\u001b[0m \u001b[0mresponse\u001b[0m\u001b[0;34m\u001b[0m\u001b[0;34m\u001b[0m\u001b[0m\n",
      "\u001b[0;32m~/anaconda3/envs/gee/lib/python3.8/site-packages/ee/data.py\u001b[0m in \u001b[0;36mgetMapId\u001b[0;34m(params)\u001b[0m\n\u001b[1;32m    571\u001b[0m   \u001b[0;31m# Make it return only the name field, as otherwise it echoes the entire\u001b[0m\u001b[0;34m\u001b[0m\u001b[0;34m\u001b[0m\u001b[0;34m\u001b[0m\u001b[0m\n\u001b[1;32m    572\u001b[0m   \u001b[0;31m# request, which might be large.\u001b[0m\u001b[0;34m\u001b[0m\u001b[0;34m\u001b[0m\u001b[0;34m\u001b[0m\u001b[0m\n\u001b[0;32m--> 573\u001b[0;31m   result = _execute_cloud_call(\n\u001b[0m\u001b[1;32m    574\u001b[0m       _get_cloud_api_resource().projects().maps().create(\n\u001b[1;32m    575\u001b[0m           parent=_get_projects_path(), fields='name', body=request))\n",
      "\u001b[0;32m~/anaconda3/envs/gee/lib/python3.8/site-packages/ee/data.py\u001b[0m in \u001b[0;36m_execute_cloud_call\u001b[0;34m(call, num_retries)\u001b[0m\n\u001b[1;32m    332\u001b[0m   \"\"\"\n\u001b[1;32m    333\u001b[0m   \u001b[0;32mtry\u001b[0m\u001b[0;34m:\u001b[0m\u001b[0;34m\u001b[0m\u001b[0;34m\u001b[0m\u001b[0m\n\u001b[0;32m--> 334\u001b[0;31m     \u001b[0;32mreturn\u001b[0m \u001b[0mcall\u001b[0m\u001b[0;34m.\u001b[0m\u001b[0mexecute\u001b[0m\u001b[0;34m(\u001b[0m\u001b[0mnum_retries\u001b[0m\u001b[0;34m=\u001b[0m\u001b[0mnum_retries\u001b[0m\u001b[0;34m)\u001b[0m\u001b[0;34m\u001b[0m\u001b[0;34m\u001b[0m\u001b[0m\n\u001b[0m\u001b[1;32m    335\u001b[0m   \u001b[0;32mexcept\u001b[0m \u001b[0mgoogleapiclient\u001b[0m\u001b[0;34m.\u001b[0m\u001b[0merrors\u001b[0m\u001b[0;34m.\u001b[0m\u001b[0mHttpError\u001b[0m \u001b[0;32mas\u001b[0m \u001b[0me\u001b[0m\u001b[0;34m:\u001b[0m\u001b[0;34m\u001b[0m\u001b[0;34m\u001b[0m\u001b[0m\n\u001b[1;32m    336\u001b[0m     \u001b[0;32mraise\u001b[0m \u001b[0m_translate_cloud_exception\u001b[0m\u001b[0;34m(\u001b[0m\u001b[0me\u001b[0m\u001b[0;34m)\u001b[0m\u001b[0;34m\u001b[0m\u001b[0;34m\u001b[0m\u001b[0m\n",
      "\u001b[0;32m~/anaconda3/envs/gee/lib/python3.8/site-packages/googleapiclient/_helpers.py\u001b[0m in \u001b[0;36mpositional_wrapper\u001b[0;34m(*args, **kwargs)\u001b[0m\n\u001b[1;32m    132\u001b[0m                 \u001b[0;32melif\u001b[0m \u001b[0mpositional_parameters_enforcement\u001b[0m \u001b[0;34m==\u001b[0m \u001b[0mPOSITIONAL_WARNING\u001b[0m\u001b[0;34m:\u001b[0m\u001b[0;34m\u001b[0m\u001b[0;34m\u001b[0m\u001b[0m\n\u001b[1;32m    133\u001b[0m                     \u001b[0mlogger\u001b[0m\u001b[0;34m.\u001b[0m\u001b[0mwarning\u001b[0m\u001b[0;34m(\u001b[0m\u001b[0mmessage\u001b[0m\u001b[0;34m)\u001b[0m\u001b[0;34m\u001b[0m\u001b[0;34m\u001b[0m\u001b[0m\n\u001b[0;32m--> 134\u001b[0;31m             \u001b[0;32mreturn\u001b[0m \u001b[0mwrapped\u001b[0m\u001b[0;34m(\u001b[0m\u001b[0;34m*\u001b[0m\u001b[0margs\u001b[0m\u001b[0;34m,\u001b[0m \u001b[0;34m**\u001b[0m\u001b[0mkwargs\u001b[0m\u001b[0;34m)\u001b[0m\u001b[0;34m\u001b[0m\u001b[0;34m\u001b[0m\u001b[0m\n\u001b[0m\u001b[1;32m    135\u001b[0m \u001b[0;34m\u001b[0m\u001b[0m\n\u001b[1;32m    136\u001b[0m         \u001b[0;32mreturn\u001b[0m \u001b[0mpositional_wrapper\u001b[0m\u001b[0;34m\u001b[0m\u001b[0;34m\u001b[0m\u001b[0m\n",
      "\u001b[0;32m~/anaconda3/envs/gee/lib/python3.8/site-packages/googleapiclient/http.py\u001b[0m in \u001b[0;36mexecute\u001b[0;34m(self, http, num_retries)\u001b[0m\n\u001b[1;32m    898\u001b[0m \u001b[0;34m\u001b[0m\u001b[0m\n\u001b[1;32m    899\u001b[0m         \u001b[0;31m# Handle retries for server-side errors.\u001b[0m\u001b[0;34m\u001b[0m\u001b[0;34m\u001b[0m\u001b[0;34m\u001b[0m\u001b[0m\n\u001b[0;32m--> 900\u001b[0;31m         resp, content = _retry_request(\n\u001b[0m\u001b[1;32m    901\u001b[0m             \u001b[0mhttp\u001b[0m\u001b[0;34m,\u001b[0m\u001b[0;34m\u001b[0m\u001b[0;34m\u001b[0m\u001b[0m\n\u001b[1;32m    902\u001b[0m             \u001b[0mnum_retries\u001b[0m\u001b[0;34m,\u001b[0m\u001b[0;34m\u001b[0m\u001b[0;34m\u001b[0m\u001b[0m\n",
      "\u001b[0;32m~/anaconda3/envs/gee/lib/python3.8/site-packages/googleapiclient/http.py\u001b[0m in \u001b[0;36m_retry_request\u001b[0;34m(http, num_retries, req_type, sleep, rand, uri, method, *args, **kwargs)\u001b[0m\n\u001b[1;32m    175\u001b[0m         \u001b[0;32mtry\u001b[0m\u001b[0;34m:\u001b[0m\u001b[0;34m\u001b[0m\u001b[0;34m\u001b[0m\u001b[0m\n\u001b[1;32m    176\u001b[0m             \u001b[0mexception\u001b[0m \u001b[0;34m=\u001b[0m \u001b[0;32mNone\u001b[0m\u001b[0;34m\u001b[0m\u001b[0;34m\u001b[0m\u001b[0m\n\u001b[0;32m--> 177\u001b[0;31m             \u001b[0mresp\u001b[0m\u001b[0;34m,\u001b[0m \u001b[0mcontent\u001b[0m \u001b[0;34m=\u001b[0m \u001b[0mhttp\u001b[0m\u001b[0;34m.\u001b[0m\u001b[0mrequest\u001b[0m\u001b[0;34m(\u001b[0m\u001b[0muri\u001b[0m\u001b[0;34m,\u001b[0m \u001b[0mmethod\u001b[0m\u001b[0;34m,\u001b[0m \u001b[0;34m*\u001b[0m\u001b[0margs\u001b[0m\u001b[0;34m,\u001b[0m \u001b[0;34m**\u001b[0m\u001b[0mkwargs\u001b[0m\u001b[0;34m)\u001b[0m\u001b[0;34m\u001b[0m\u001b[0;34m\u001b[0m\u001b[0m\n\u001b[0m\u001b[1;32m    178\u001b[0m         \u001b[0;31m# Retry on SSL errors and socket timeout errors.\u001b[0m\u001b[0;34m\u001b[0m\u001b[0;34m\u001b[0m\u001b[0;34m\u001b[0m\u001b[0m\n\u001b[1;32m    179\u001b[0m         \u001b[0;32mexcept\u001b[0m \u001b[0m_ssl_SSLError\u001b[0m \u001b[0;32mas\u001b[0m \u001b[0mssl_error\u001b[0m\u001b[0;34m:\u001b[0m\u001b[0;34m\u001b[0m\u001b[0;34m\u001b[0m\u001b[0m\n",
      "\u001b[0;32m~/anaconda3/envs/gee/lib/python3.8/site-packages/google_auth_httplib2.py\u001b[0m in \u001b[0;36mrequest\u001b[0;34m(self, uri, method, body, headers, redirections, connection_type, **kwargs)\u001b[0m\n\u001b[1;32m    216\u001b[0m \u001b[0;34m\u001b[0m\u001b[0m\n\u001b[1;32m    217\u001b[0m         \u001b[0;31m# Make the request.\u001b[0m\u001b[0;34m\u001b[0m\u001b[0;34m\u001b[0m\u001b[0;34m\u001b[0m\u001b[0m\n\u001b[0;32m--> 218\u001b[0;31m         response, content = self.http.request(\n\u001b[0m\u001b[1;32m    219\u001b[0m             \u001b[0muri\u001b[0m\u001b[0;34m,\u001b[0m\u001b[0;34m\u001b[0m\u001b[0;34m\u001b[0m\u001b[0m\n\u001b[1;32m    220\u001b[0m             \u001b[0mmethod\u001b[0m\u001b[0;34m,\u001b[0m\u001b[0;34m\u001b[0m\u001b[0;34m\u001b[0m\u001b[0m\n",
      "\u001b[0;32m~/anaconda3/envs/gee/lib/python3.8/site-packages/httplib2/__init__.py\u001b[0m in \u001b[0;36mrequest\u001b[0;34m(self, uri, method, body, headers, redirections, connection_type)\u001b[0m\n\u001b[1;32m   1723\u001b[0m                     \u001b[0mcontent\u001b[0m \u001b[0;34m=\u001b[0m \u001b[0;34mb\"\"\u001b[0m\u001b[0;34m\u001b[0m\u001b[0;34m\u001b[0m\u001b[0m\n\u001b[1;32m   1724\u001b[0m                 \u001b[0;32melse\u001b[0m\u001b[0;34m:\u001b[0m\u001b[0;34m\u001b[0m\u001b[0;34m\u001b[0m\u001b[0m\n\u001b[0;32m-> 1725\u001b[0;31m                     (response, content) = self._request(\n\u001b[0m\u001b[1;32m   1726\u001b[0m                         \u001b[0mconn\u001b[0m\u001b[0;34m,\u001b[0m \u001b[0mauthority\u001b[0m\u001b[0;34m,\u001b[0m \u001b[0muri\u001b[0m\u001b[0;34m,\u001b[0m \u001b[0mrequest_uri\u001b[0m\u001b[0;34m,\u001b[0m \u001b[0mmethod\u001b[0m\u001b[0;34m,\u001b[0m \u001b[0mbody\u001b[0m\u001b[0;34m,\u001b[0m \u001b[0mheaders\u001b[0m\u001b[0;34m,\u001b[0m \u001b[0mredirections\u001b[0m\u001b[0;34m,\u001b[0m \u001b[0mcachekey\u001b[0m\u001b[0;34m,\u001b[0m\u001b[0;34m\u001b[0m\u001b[0;34m\u001b[0m\u001b[0m\n\u001b[1;32m   1727\u001b[0m                     )\n",
      "\u001b[0;32m~/anaconda3/envs/gee/lib/python3.8/site-packages/httplib2/__init__.py\u001b[0m in \u001b[0;36m_request\u001b[0;34m(self, conn, host, absolute_uri, request_uri, method, body, headers, redirections, cachekey)\u001b[0m\n\u001b[1;32m   1439\u001b[0m             \u001b[0mauth\u001b[0m\u001b[0;34m.\u001b[0m\u001b[0mrequest\u001b[0m\u001b[0;34m(\u001b[0m\u001b[0mmethod\u001b[0m\u001b[0;34m,\u001b[0m \u001b[0mrequest_uri\u001b[0m\u001b[0;34m,\u001b[0m \u001b[0mheaders\u001b[0m\u001b[0;34m,\u001b[0m \u001b[0mbody\u001b[0m\u001b[0;34m)\u001b[0m\u001b[0;34m\u001b[0m\u001b[0;34m\u001b[0m\u001b[0m\n\u001b[1;32m   1440\u001b[0m \u001b[0;34m\u001b[0m\u001b[0m\n\u001b[0;32m-> 1441\u001b[0;31m         \u001b[0;34m(\u001b[0m\u001b[0mresponse\u001b[0m\u001b[0;34m,\u001b[0m \u001b[0mcontent\u001b[0m\u001b[0;34m)\u001b[0m \u001b[0;34m=\u001b[0m \u001b[0mself\u001b[0m\u001b[0;34m.\u001b[0m\u001b[0m_conn_request\u001b[0m\u001b[0;34m(\u001b[0m\u001b[0mconn\u001b[0m\u001b[0;34m,\u001b[0m \u001b[0mrequest_uri\u001b[0m\u001b[0;34m,\u001b[0m \u001b[0mmethod\u001b[0m\u001b[0;34m,\u001b[0m \u001b[0mbody\u001b[0m\u001b[0;34m,\u001b[0m \u001b[0mheaders\u001b[0m\u001b[0;34m)\u001b[0m\u001b[0;34m\u001b[0m\u001b[0;34m\u001b[0m\u001b[0m\n\u001b[0m\u001b[1;32m   1442\u001b[0m \u001b[0;34m\u001b[0m\u001b[0m\n\u001b[1;32m   1443\u001b[0m         \u001b[0;32mif\u001b[0m \u001b[0mauth\u001b[0m\u001b[0;34m:\u001b[0m\u001b[0;34m\u001b[0m\u001b[0;34m\u001b[0m\u001b[0m\n",
      "\u001b[0;32m~/anaconda3/envs/gee/lib/python3.8/site-packages/httplib2/__init__.py\u001b[0m in \u001b[0;36m_conn_request\u001b[0;34m(self, conn, request_uri, method, body, headers)\u001b[0m\n\u001b[1;32m   1391\u001b[0m                 \u001b[0;32mpass\u001b[0m\u001b[0;34m\u001b[0m\u001b[0;34m\u001b[0m\u001b[0m\n\u001b[1;32m   1392\u001b[0m             \u001b[0;32mtry\u001b[0m\u001b[0;34m:\u001b[0m\u001b[0;34m\u001b[0m\u001b[0;34m\u001b[0m\u001b[0m\n\u001b[0;32m-> 1393\u001b[0;31m                 \u001b[0mresponse\u001b[0m \u001b[0;34m=\u001b[0m \u001b[0mconn\u001b[0m\u001b[0;34m.\u001b[0m\u001b[0mgetresponse\u001b[0m\u001b[0;34m(\u001b[0m\u001b[0;34m)\u001b[0m\u001b[0;34m\u001b[0m\u001b[0;34m\u001b[0m\u001b[0m\n\u001b[0m\u001b[1;32m   1394\u001b[0m             \u001b[0;32mexcept\u001b[0m \u001b[0;34m(\u001b[0m\u001b[0mhttp\u001b[0m\u001b[0;34m.\u001b[0m\u001b[0mclient\u001b[0m\u001b[0;34m.\u001b[0m\u001b[0mBadStatusLine\u001b[0m\u001b[0;34m,\u001b[0m \u001b[0mhttp\u001b[0m\u001b[0;34m.\u001b[0m\u001b[0mclient\u001b[0m\u001b[0;34m.\u001b[0m\u001b[0mResponseNotReady\u001b[0m\u001b[0;34m)\u001b[0m\u001b[0;34m:\u001b[0m\u001b[0;34m\u001b[0m\u001b[0;34m\u001b[0m\u001b[0m\n\u001b[1;32m   1395\u001b[0m                 \u001b[0;31m# If we get a BadStatusLine on the first try then that means\u001b[0m\u001b[0;34m\u001b[0m\u001b[0;34m\u001b[0m\u001b[0;34m\u001b[0m\u001b[0m\n",
      "\u001b[0;32m~/anaconda3/envs/gee/lib/python3.8/http/client.py\u001b[0m in \u001b[0;36mgetresponse\u001b[0;34m(self)\u001b[0m\n\u001b[1;32m   1346\u001b[0m         \u001b[0;32mtry\u001b[0m\u001b[0;34m:\u001b[0m\u001b[0;34m\u001b[0m\u001b[0;34m\u001b[0m\u001b[0m\n\u001b[1;32m   1347\u001b[0m             \u001b[0;32mtry\u001b[0m\u001b[0;34m:\u001b[0m\u001b[0;34m\u001b[0m\u001b[0;34m\u001b[0m\u001b[0m\n\u001b[0;32m-> 1348\u001b[0;31m                 \u001b[0mresponse\u001b[0m\u001b[0;34m.\u001b[0m\u001b[0mbegin\u001b[0m\u001b[0;34m(\u001b[0m\u001b[0;34m)\u001b[0m\u001b[0;34m\u001b[0m\u001b[0;34m\u001b[0m\u001b[0m\n\u001b[0m\u001b[1;32m   1349\u001b[0m             \u001b[0;32mexcept\u001b[0m \u001b[0mConnectionError\u001b[0m\u001b[0;34m:\u001b[0m\u001b[0;34m\u001b[0m\u001b[0;34m\u001b[0m\u001b[0m\n\u001b[1;32m   1350\u001b[0m                 \u001b[0mself\u001b[0m\u001b[0;34m.\u001b[0m\u001b[0mclose\u001b[0m\u001b[0;34m(\u001b[0m\u001b[0;34m)\u001b[0m\u001b[0;34m\u001b[0m\u001b[0;34m\u001b[0m\u001b[0m\n",
      "\u001b[0;32m~/anaconda3/envs/gee/lib/python3.8/http/client.py\u001b[0m in \u001b[0;36mbegin\u001b[0;34m(self)\u001b[0m\n\u001b[1;32m    314\u001b[0m         \u001b[0;31m# read until we get a non-100 response\u001b[0m\u001b[0;34m\u001b[0m\u001b[0;34m\u001b[0m\u001b[0;34m\u001b[0m\u001b[0m\n\u001b[1;32m    315\u001b[0m         \u001b[0;32mwhile\u001b[0m \u001b[0;32mTrue\u001b[0m\u001b[0;34m:\u001b[0m\u001b[0;34m\u001b[0m\u001b[0;34m\u001b[0m\u001b[0m\n\u001b[0;32m--> 316\u001b[0;31m             \u001b[0mversion\u001b[0m\u001b[0;34m,\u001b[0m \u001b[0mstatus\u001b[0m\u001b[0;34m,\u001b[0m \u001b[0mreason\u001b[0m \u001b[0;34m=\u001b[0m \u001b[0mself\u001b[0m\u001b[0;34m.\u001b[0m\u001b[0m_read_status\u001b[0m\u001b[0;34m(\u001b[0m\u001b[0;34m)\u001b[0m\u001b[0;34m\u001b[0m\u001b[0;34m\u001b[0m\u001b[0m\n\u001b[0m\u001b[1;32m    317\u001b[0m             \u001b[0;32mif\u001b[0m \u001b[0mstatus\u001b[0m \u001b[0;34m!=\u001b[0m \u001b[0mCONTINUE\u001b[0m\u001b[0;34m:\u001b[0m\u001b[0;34m\u001b[0m\u001b[0;34m\u001b[0m\u001b[0m\n\u001b[1;32m    318\u001b[0m                 \u001b[0;32mbreak\u001b[0m\u001b[0;34m\u001b[0m\u001b[0;34m\u001b[0m\u001b[0m\n",
      "\u001b[0;32m~/anaconda3/envs/gee/lib/python3.8/http/client.py\u001b[0m in \u001b[0;36m_read_status\u001b[0;34m(self)\u001b[0m\n\u001b[1;32m    275\u001b[0m \u001b[0;34m\u001b[0m\u001b[0m\n\u001b[1;32m    276\u001b[0m     \u001b[0;32mdef\u001b[0m \u001b[0m_read_status\u001b[0m\u001b[0;34m(\u001b[0m\u001b[0mself\u001b[0m\u001b[0;34m)\u001b[0m\u001b[0;34m:\u001b[0m\u001b[0;34m\u001b[0m\u001b[0;34m\u001b[0m\u001b[0m\n\u001b[0;32m--> 277\u001b[0;31m         \u001b[0mline\u001b[0m \u001b[0;34m=\u001b[0m \u001b[0mstr\u001b[0m\u001b[0;34m(\u001b[0m\u001b[0mself\u001b[0m\u001b[0;34m.\u001b[0m\u001b[0mfp\u001b[0m\u001b[0;34m.\u001b[0m\u001b[0mreadline\u001b[0m\u001b[0;34m(\u001b[0m\u001b[0m_MAXLINE\u001b[0m \u001b[0;34m+\u001b[0m \u001b[0;36m1\u001b[0m\u001b[0;34m)\u001b[0m\u001b[0;34m,\u001b[0m \u001b[0;34m\"iso-8859-1\"\u001b[0m\u001b[0;34m)\u001b[0m\u001b[0;34m\u001b[0m\u001b[0;34m\u001b[0m\u001b[0m\n\u001b[0m\u001b[1;32m    278\u001b[0m         \u001b[0;32mif\u001b[0m \u001b[0mlen\u001b[0m\u001b[0;34m(\u001b[0m\u001b[0mline\u001b[0m\u001b[0;34m)\u001b[0m \u001b[0;34m>\u001b[0m \u001b[0m_MAXLINE\u001b[0m\u001b[0;34m:\u001b[0m\u001b[0;34m\u001b[0m\u001b[0;34m\u001b[0m\u001b[0m\n\u001b[1;32m    279\u001b[0m             \u001b[0;32mraise\u001b[0m \u001b[0mLineTooLong\u001b[0m\u001b[0;34m(\u001b[0m\u001b[0;34m\"status line\"\u001b[0m\u001b[0;34m)\u001b[0m\u001b[0;34m\u001b[0m\u001b[0;34m\u001b[0m\u001b[0m\n",
      "\u001b[0;32m~/anaconda3/envs/gee/lib/python3.8/socket.py\u001b[0m in \u001b[0;36mreadinto\u001b[0;34m(self, b)\u001b[0m\n\u001b[1;32m    667\u001b[0m         \u001b[0;32mwhile\u001b[0m \u001b[0;32mTrue\u001b[0m\u001b[0;34m:\u001b[0m\u001b[0;34m\u001b[0m\u001b[0;34m\u001b[0m\u001b[0m\n\u001b[1;32m    668\u001b[0m             \u001b[0;32mtry\u001b[0m\u001b[0;34m:\u001b[0m\u001b[0;34m\u001b[0m\u001b[0;34m\u001b[0m\u001b[0m\n\u001b[0;32m--> 669\u001b[0;31m                 \u001b[0;32mreturn\u001b[0m \u001b[0mself\u001b[0m\u001b[0;34m.\u001b[0m\u001b[0m_sock\u001b[0m\u001b[0;34m.\u001b[0m\u001b[0mrecv_into\u001b[0m\u001b[0;34m(\u001b[0m\u001b[0mb\u001b[0m\u001b[0;34m)\u001b[0m\u001b[0;34m\u001b[0m\u001b[0;34m\u001b[0m\u001b[0m\n\u001b[0m\u001b[1;32m    670\u001b[0m             \u001b[0;32mexcept\u001b[0m \u001b[0mtimeout\u001b[0m\u001b[0;34m:\u001b[0m\u001b[0;34m\u001b[0m\u001b[0;34m\u001b[0m\u001b[0m\n\u001b[1;32m    671\u001b[0m                 \u001b[0mself\u001b[0m\u001b[0;34m.\u001b[0m\u001b[0m_timeout_occurred\u001b[0m \u001b[0;34m=\u001b[0m \u001b[0;32mTrue\u001b[0m\u001b[0;34m\u001b[0m\u001b[0;34m\u001b[0m\u001b[0m\n",
      "\u001b[0;32m~/anaconda3/envs/gee/lib/python3.8/ssl.py\u001b[0m in \u001b[0;36mrecv_into\u001b[0;34m(self, buffer, nbytes, flags)\u001b[0m\n\u001b[1;32m   1239\u001b[0m                   \u001b[0;34m\"non-zero flags not allowed in calls to recv_into() on %s\"\u001b[0m \u001b[0;34m%\u001b[0m\u001b[0;34m\u001b[0m\u001b[0;34m\u001b[0m\u001b[0m\n\u001b[1;32m   1240\u001b[0m                   self.__class__)\n\u001b[0;32m-> 1241\u001b[0;31m             \u001b[0;32mreturn\u001b[0m \u001b[0mself\u001b[0m\u001b[0;34m.\u001b[0m\u001b[0mread\u001b[0m\u001b[0;34m(\u001b[0m\u001b[0mnbytes\u001b[0m\u001b[0;34m,\u001b[0m \u001b[0mbuffer\u001b[0m\u001b[0;34m)\u001b[0m\u001b[0;34m\u001b[0m\u001b[0;34m\u001b[0m\u001b[0m\n\u001b[0m\u001b[1;32m   1242\u001b[0m         \u001b[0;32melse\u001b[0m\u001b[0;34m:\u001b[0m\u001b[0;34m\u001b[0m\u001b[0;34m\u001b[0m\u001b[0m\n\u001b[1;32m   1243\u001b[0m             \u001b[0;32mreturn\u001b[0m \u001b[0msuper\u001b[0m\u001b[0;34m(\u001b[0m\u001b[0;34m)\u001b[0m\u001b[0;34m.\u001b[0m\u001b[0mrecv_into\u001b[0m\u001b[0;34m(\u001b[0m\u001b[0mbuffer\u001b[0m\u001b[0;34m,\u001b[0m \u001b[0mnbytes\u001b[0m\u001b[0;34m,\u001b[0m \u001b[0mflags\u001b[0m\u001b[0;34m)\u001b[0m\u001b[0;34m\u001b[0m\u001b[0;34m\u001b[0m\u001b[0m\n",
      "\u001b[0;32m~/anaconda3/envs/gee/lib/python3.8/ssl.py\u001b[0m in \u001b[0;36mread\u001b[0;34m(self, len, buffer)\u001b[0m\n\u001b[1;32m   1097\u001b[0m         \u001b[0;32mtry\u001b[0m\u001b[0;34m:\u001b[0m\u001b[0;34m\u001b[0m\u001b[0;34m\u001b[0m\u001b[0m\n\u001b[1;32m   1098\u001b[0m             \u001b[0;32mif\u001b[0m \u001b[0mbuffer\u001b[0m \u001b[0;32mis\u001b[0m \u001b[0;32mnot\u001b[0m \u001b[0;32mNone\u001b[0m\u001b[0;34m:\u001b[0m\u001b[0;34m\u001b[0m\u001b[0;34m\u001b[0m\u001b[0m\n\u001b[0;32m-> 1099\u001b[0;31m                 \u001b[0;32mreturn\u001b[0m \u001b[0mself\u001b[0m\u001b[0;34m.\u001b[0m\u001b[0m_sslobj\u001b[0m\u001b[0;34m.\u001b[0m\u001b[0mread\u001b[0m\u001b[0;34m(\u001b[0m\u001b[0mlen\u001b[0m\u001b[0;34m,\u001b[0m \u001b[0mbuffer\u001b[0m\u001b[0;34m)\u001b[0m\u001b[0;34m\u001b[0m\u001b[0;34m\u001b[0m\u001b[0m\n\u001b[0m\u001b[1;32m   1100\u001b[0m             \u001b[0;32melse\u001b[0m\u001b[0;34m:\u001b[0m\u001b[0;34m\u001b[0m\u001b[0;34m\u001b[0m\u001b[0m\n\u001b[1;32m   1101\u001b[0m                 \u001b[0;32mreturn\u001b[0m \u001b[0mself\u001b[0m\u001b[0;34m.\u001b[0m\u001b[0m_sslobj\u001b[0m\u001b[0;34m.\u001b[0m\u001b[0mread\u001b[0m\u001b[0;34m(\u001b[0m\u001b[0mlen\u001b[0m\u001b[0;34m)\u001b[0m\u001b[0;34m\u001b[0m\u001b[0;34m\u001b[0m\u001b[0m\n",
      "\u001b[0;31mKeyboardInterrupt\u001b[0m: "
     ]
    }
   ],
   "source": [
    "Map14.addLayer(landcover_QM,{}, 'Land cover RF-QM' )\n",
    "Map14.addLayer(landcover_Med,{}, 'Land cover RF-Mediana')"
   ]
  },
  {
   "cell_type": "code",
   "execution_count": null,
   "id": "882a5f91",
   "metadata": {
    "ExecuteTime": {
     "end_time": "2022-02-03T15:36:58.004355Z",
     "start_time": "2022-02-03T15:36:58.004348Z"
    }
   },
   "outputs": [],
   "source": [
    "type(landcover_QM)"
   ]
  },
  {
   "cell_type": "markdown",
   "id": "d3ac6dae",
   "metadata": {},
   "source": [
    "#### Mapas"
   ]
  },
  {
   "cell_type": "code",
   "execution_count": null,
   "id": "5065e0ff",
   "metadata": {
    "ExecuteTime": {
     "end_time": "2022-02-03T15:36:58.005043Z",
     "start_time": "2022-02-03T15:36:58.005034Z"
    }
   },
   "outputs": [],
   "source": [
    "NDVI_mosaico=img5.select('NDVI')"
   ]
  },
  {
   "cell_type": "code",
   "execution_count": null,
   "id": "6c63b15a",
   "metadata": {
    "ExecuteTime": {
     "end_time": "2022-02-03T15:36:58.005844Z",
     "start_time": "2022-02-03T15:36:58.005832Z"
    }
   },
   "outputs": [],
   "source": [
    "vizNDVI =['#FF5733','#0cf5f5','#d89000','#039001','#003804']"
   ]
  },
  {
   "cell_type": "code",
   "execution_count": null,
   "id": "e5d42f45",
   "metadata": {
    "ExecuteTime": {
     "end_time": "2022-02-03T15:36:58.006403Z",
     "start_time": "2022-02-03T15:36:58.006396Z"
    }
   },
   "outputs": [],
   "source": [
    "Map16.addLayer(NDVI_mosaico, {'palette':vizNDVI} ,'NDVI Mosaico 2021' )\n",
    "Map16"
   ]
  },
  {
   "cell_type": "code",
   "execution_count": null,
   "id": "53d31ef4",
   "metadata": {
    "ExecuteTime": {
     "end_time": "2022-02-03T15:36:58.007174Z",
     "start_time": "2022-02-03T15:36:58.007165Z"
    }
   },
   "outputs": [],
   "source": [
    "legend_dict = {\n",
    "    '01 Hielo': 'd1fbff',\n",
    "    '02 lengua glaciar': 'bfdadd',\n",
    "    '03 glaciar cubierto': 'b9bfbf',\n",
    "    '04 nieve': 'fe40fe',\n",
    "    '05 fiordo glaciar': '8ac1ff',\n",
    "    '06 mar': '0c407b',\n",
    "    '07 lago continental': '2e8da0',\n",
    "    '08 lago glaciar': '16b2d1',\n",
    "    '09 río': '27e1d8',\n",
    "    '10 suelo desnudo': 'eeb514',\n",
    "    '11 cárcavas erosión': '927012',\n",
    "    '12 suelo río': 'e98c0f',\n",
    "    '13 suelo duna/arenal': 'f7e8bd',\n",
    "    '14 caminos': '5b5b5b',\n",
    "    '15 suelo denudo': 'e57104',\n",
    "    '16 tuberas / musgos': '5d1412',\n",
    "    '17 mallín': '5d1412',\n",
    "    '19 áreas inundables':'161163', \n",
    "    '20 plantación adulto': 'fff300',\n",
    "    '23 ciudad urbano': 'ff0000',\n",
    "    '28 frutales':'d4e794',\n",
    "    '30 praderas pastoreo':'dee842', \n",
    "    '31 estepa abierta': 'ced118',\n",
    "    '32 estepa cerrada': '7a7c0f',\n",
    "    '33 palizales': 'c39700',\n",
    "    '34 preaderas': 'a1ff8a',\n",
    "    '35 matorrales densos': '138665',\n",
    "    '36 matorrales abiertos': '1bbd8e',\n",
    "    '39 primario adulto': '195a09',\n",
    "    '40 secundario adulto': '27c41d',\n",
    "    '43 renoval inicial': 'b2ff00',\n",
    "    '45 degradado': 'f36605',\n",
    "    '47 Primario adulto caduco':'7729db',\n",
    "    '48 Secundario adulto caduco': '9e60ec',\n",
    "    '56 sombra': '000000',\n",
    "    '57 Mixto Primario': '7000ff', \n",
    "    '58 Mixto secundario':'c598ff',\n",
    "    '60 Coníferas nativas': '00ff87',\n",
    "}\n",
    "\n",
    "Map14.add_legend(legend_title=\"Random Forest Test\", legend_dict=legend_dict)\n",
    "Map14.addLayer(img5,vizParams, 'Mosaico 2021' )\n",
    "Map14.addLayer(componentes,vizParamstess, 'Tesseled cap')\n",
    "Map14"
   ]
  },
  {
   "cell_type": "markdown",
   "id": "69b97f23",
   "metadata": {},
   "source": [
    "#### Comparación"
   ]
  },
  {
   "cell_type": "code",
   "execution_count": null,
   "id": "a66648b3",
   "metadata": {
    "ExecuteTime": {
     "end_time": "2022-02-03T15:36:58.008022Z",
     "start_time": "2022-02-03T15:36:58.008012Z"
    }
   },
   "outputs": [],
   "source": [
    "comp1= [img5, img5m]\n",
    "labels = [\n",
    "    'Mosaico QM',\n",
    "    'Mosaico Med']\n",
    "vis_params3=  [\n",
    "     vizParams, \n",
    "    vizParams]"
   ]
  },
  {
   "cell_type": "code",
   "execution_count": null,
   "id": "0a240656",
   "metadata": {
    "ExecuteTime": {
     "end_time": "2022-02-03T15:36:58.008595Z",
     "start_time": "2022-02-03T15:36:58.008588Z"
    }
   },
   "outputs": [],
   "source": [
    "geemap.linked_maps(rows=1, cols=2, height=\"900px\", center=[-45, -75], zoom=4, \n",
    "                   ee_objects=comp1, vis_params=vis_params3, labels=labels, label_position=\"topright\")"
   ]
  },
  {
   "cell_type": "code",
   "execution_count": null,
   "id": "96a55fc7",
   "metadata": {
    "ExecuteTime": {
     "end_time": "2022-02-03T15:36:58.009264Z",
     "start_time": "2022-02-03T15:36:58.009254Z"
    }
   },
   "outputs": [],
   "source": [
    "comp2= [landcover_QM,landcover_Med]\n",
    "labels = [\n",
    "    'Landcover QM',\n",
    "    'Landcover Med']\n",
    "vis_params4=  [\n",
    "     {}, \n",
    "     {}]"
   ]
  },
  {
   "cell_type": "code",
   "execution_count": null,
   "id": "1c07ad91",
   "metadata": {
    "ExecuteTime": {
     "end_time": "2022-02-03T15:36:58.009785Z",
     "start_time": "2022-02-03T15:36:58.009778Z"
    }
   },
   "outputs": [],
   "source": [
    "geemap.linked_maps(rows=1, cols=2, height=\"900px\", center=[-45, -75], zoom=4, \n",
    "                   ee_objects=comp2, vis_params=vis_params4, labels=labels, label_position=\"topright\")"
   ]
  },
  {
   "cell_type": "markdown",
   "id": "e80b449e",
   "metadata": {},
   "source": [
    "### Exportando"
   ]
  },
  {
   "cell_type": "code",
   "execution_count": null,
   "id": "f61a3d7d",
   "metadata": {
    "ExecuteTime": {
     "end_time": "2022-02-03T15:36:58.010377Z",
     "start_time": "2022-02-03T15:36:58.010369Z"
    }
   },
   "outputs": [],
   "source": [
    "transf=ee.Array([30, 0, 214185, 0, -30, -4825185])"
   ]
  },
  {
   "cell_type": "code",
   "execution_count": null,
   "id": "4c4da7ae",
   "metadata": {
    "ExecuteTime": {
     "end_time": "2022-02-03T15:36:58.010863Z",
     "start_time": "2022-02-03T15:36:58.010857Z"
    }
   },
   "outputs": [],
   "source": [
    "transf.getInfo()"
   ]
  },
  {
   "cell_type": "code",
   "execution_count": null,
   "id": "cceda41f",
   "metadata": {
    "ExecuteTime": {
     "end_time": "2022-02-03T15:36:58.011471Z",
     "start_time": "2022-02-03T15:36:58.011464Z"
    }
   },
   "outputs": [],
   "source": [
    "img5_B1 = img5.select(\"B1\")\n",
    "img5_B2 = img5.select(\"B2\")\n",
    "img5_B3 = img5.select(\"B3\")\n",
    "img5_B4 = img5.select(\"B4\")\n",
    "img5_B5 = img5.select(\"B5\")\n",
    "img5_B6 = img5.select(\"B6\")\n",
    "img5_B7 = img5.select(\"B7\")"
   ]
  },
  {
   "cell_type": "code",
   "execution_count": null,
   "id": "5bf824d7",
   "metadata": {
    "ExecuteTime": {
     "end_time": "2022-02-03T15:36:58.012024Z",
     "start_time": "2022-02-03T15:36:58.012017Z"
    }
   },
   "outputs": [],
   "source": [
    "task1 = ee.batch.Export.image.toDrive(**{\n",
    "    'image': img5_B1,\n",
    "    'description':'B1',\n",
    "    'folder':'exp2021_19s_full',\n",
    "    'region': geometry_exp.bounds(),\n",
    "    'scale':30,\n",
    "    'crsTransform':[30, 0, 214185, 0, -30, -4825185], \n",
    "    'crs':'EPSG:32719',\n",
    "    'maxPixels':1e13\n",
    "})\n",
    "task2 = ee.batch.Export.image.toDrive(**{\n",
    "    'image': img5_B2,\n",
    "    'description':'B2',\n",
    "    'folder':'exp2021_19s_full',\n",
    "    'region': geometry_exp.bounds(),\n",
    "    'scale':30,\n",
    "    'crsTransform':[30, 0, 214185, 0, -30, -4825185], \n",
    "    'crs':'EPSG:32719',\n",
    "    'maxPixels':1e13\n",
    "})\n",
    "task3 = ee.batch.Export.image.toDrive(**{\n",
    "    'image': img5_B3,\n",
    "    'description':'B3',\n",
    "    'folder':'exp2021_19s_full',\n",
    "    'region': geometry_exp.bounds(),\n",
    "    'scale':30,\n",
    "    'crsTransform':[30, 0, 214185, 0, -30, -4825185], \n",
    "    'crs':'EPSG:32719',\n",
    "    'maxPixels':1e13\n",
    "})\n",
    "task4 = ee.batch.Export.image.toDrive(**{\n",
    "    'image': img5_B4,\n",
    "    'description':'B4',\n",
    "    'folder':'exp2021_19s_full',\n",
    "    'region': geometry_exp.bounds(),\n",
    "    'scale':30,\n",
    "    'crsTransform':[30, 0, 214185, 0, -30, -4825185], \n",
    "    'crs':'EPSG:32719',\n",
    "    'maxPixels':1e13\n",
    "})\n",
    "task5 = ee.batch.Export.image.toDrive(**{\n",
    "    'image': img5_B5,\n",
    "    'description':'B5',\n",
    "    'folder':'exp2021_19s_full',\n",
    "    'region': geometry_exp.bounds(),\n",
    "    'scale':30,\n",
    "    'crsTransform':[30, 0, 214185, 0, -30, -4825185], \n",
    "    'crs':'EPSG:32719',\n",
    "    'maxPixels':1e13\n",
    "})\n",
    "task6 = ee.batch.Export.image.toDrive(**{\n",
    "    'image': img5_B6,\n",
    "    'description':'B6',\n",
    "    'folder':'exp2021_19s_full',\n",
    "    'region': geometry_exp.bounds(),\n",
    "    'scale':30,\n",
    "    'crsTransform':[30, 0, 214185, 0, -30, -4825185], \n",
    "    'crs':'EPSG:32719',\n",
    "    'maxPixels':1e13\n",
    "})\n",
    "task7 = ee.batch.Export.image.toDrive(**{\n",
    "    'image': img5_B7,\n",
    "    'description':'B7',\n",
    "    'folder':'exp2021_19s_full',\n",
    "    'region': geometry_exp.bounds(),\n",
    "    'scale':30,\n",
    "    'crsTransform':[30, 0, 214185, 0, -30, -4825185], \n",
    "    'crs':'EPSG:32719',\n",
    "    'maxPixels':1e13\n",
    "})"
   ]
  },
  {
   "cell_type": "code",
   "execution_count": null,
   "id": "dfee8042",
   "metadata": {
    "ExecuteTime": {
     "end_time": "2022-02-03T15:36:58.012685Z",
     "start_time": "2022-02-03T15:36:58.012676Z"
    }
   },
   "outputs": [],
   "source": [
    "# task1.start()\n",
    "# task2.start()\n",
    "# task3.start()\n",
    "# task4.start()\n",
    "# task5.start()\n",
    "# task6.start()\n",
    "# task7.start()"
   ]
  },
  {
   "cell_type": "code",
   "execution_count": null,
   "id": "0633aa27",
   "metadata": {
    "ExecuteTime": {
     "end_time": "2022-02-03T15:36:58.013066Z",
     "start_time": "2022-02-03T15:36:58.013059Z"
    }
   },
   "outputs": [],
   "source": [
    "brillo = componentes.select('brightness')\n",
    "greenness = componentes.select('greenness')\n",
    "wetness = componentes.select('wetness')\n",
    "# ['brightness','greenness','wetness','fourth','fifth','sixth']"
   ]
  },
  {
   "cell_type": "code",
   "execution_count": null,
   "id": "5cc31766",
   "metadata": {
    "ExecuteTime": {
     "end_time": "2022-02-03T15:36:58.013571Z",
     "start_time": "2022-02-03T15:36:58.013564Z"
    }
   },
   "outputs": [],
   "source": [
    "task8 = ee.batch.Export.image.toDrive(**{\n",
    "    'image': brillo,\n",
    "    'description':'brillo',\n",
    "    'folder':'exp2021_19s_full',\n",
    "    'region': geometry_exp.bounds(),\n",
    "    'scale':30,\n",
    "    'crsTransform':[30, 0, 214185, 0, -30, -4825185], \n",
    "    'crs':'EPSG:32719',\n",
    "    'maxPixels':1e13\n",
    "})\n",
    "task9 = ee.batch.Export.image.toDrive(**{\n",
    "    'image': greenness,\n",
    "    'description':'greenness',\n",
    "    'folder':'exp2021_19s_full',\n",
    "    'region': geometry_exp.bounds(),\n",
    "    'scale':30,\n",
    "    'crsTransform':[30, 0, 214185, 0, -30, -4825185], \n",
    "    'crs':'EPSG:32719',\n",
    "    'maxPixels':1e13\n",
    "})\n",
    "task10 = ee.batch.Export.image.toDrive(**{\n",
    "    'image': wetness,\n",
    "    'description':'wetness',\n",
    "    'folder':'exp2021_19s_full',\n",
    "    'region': geometry_exp.bounds(),\n",
    "    'scale':30,\n",
    "    'crsTransform':[30, 0, 214185, 0, -30, -4825185], \n",
    "    'crs':'EPSG:32719',\n",
    "    'maxPixels':1e13\n",
    "})"
   ]
  },
  {
   "cell_type": "code",
   "execution_count": null,
   "id": "056a7102",
   "metadata": {
    "ExecuteTime": {
     "end_time": "2022-02-03T15:36:58.014049Z",
     "start_time": "2022-02-03T15:36:58.014042Z"
    }
   },
   "outputs": [],
   "source": [
    "# task8.start()\n",
    "# task9.start()\n",
    "# task10.start()"
   ]
  },
  {
   "cell_type": "code",
   "execution_count": null,
   "id": "21943242",
   "metadata": {
    "ExecuteTime": {
     "end_time": "2022-02-03T15:36:58.014741Z",
     "start_time": "2022-02-03T15:36:58.014731Z"
    }
   },
   "outputs": [],
   "source": [
    "taskclas = ee.batch.Export.image.toDrive(**{\n",
    "    'image': landcover_QM,\n",
    "    'description':'landcover_2021_final',\n",
    "    'folder':'Landcover 2021',\n",
    "    'region': geometry_exp.bounds(),\n",
    "    'scale':30,\n",
    "    'crsTransform':[30, 0, 214185, 0, -30, -4825185], \n",
    "    'crs':'EPSG:32719',\n",
    "    'maxPixels':1e13\n",
    "})"
   ]
  },
  {
   "cell_type": "code",
   "execution_count": null,
   "id": "9af412b7",
   "metadata": {
    "ExecuteTime": {
     "end_time": "2022-02-03T15:36:58.015310Z",
     "start_time": "2022-02-03T15:36:58.015303Z"
    }
   },
   "outputs": [],
   "source": [
    "# taskclas.start()"
   ]
  }
 ],
 "metadata": {
  "kernelspec": {
   "display_name": "Python 3 (ipykernel)",
   "language": "python",
   "name": "python3"
  },
  "language_info": {
   "codemirror_mode": {
    "name": "ipython",
    "version": 3
   },
   "file_extension": ".py",
   "mimetype": "text/x-python",
   "name": "python",
   "nbconvert_exporter": "python",
   "pygments_lexer": "ipython3",
   "version": "3.8.12"
  },
  "toc": {
   "base_numbering": 1,
   "nav_menu": {},
   "number_sections": true,
   "sideBar": true,
   "skip_h1_title": false,
   "title_cell": "Table of Contents",
   "title_sidebar": "Contents",
   "toc_cell": false,
   "toc_position": {
    "height": "calc(100% - 180px)",
    "left": "10px",
    "top": "150px",
    "width": "384px"
   },
   "toc_section_display": true,
   "toc_window_display": true
  },
  "varInspector": {
   "cols": {
    "lenName": 16,
    "lenType": 16,
    "lenVar": 40
   },
   "kernels_config": {
    "python": {
     "delete_cmd_postfix": "",
     "delete_cmd_prefix": "del ",
     "library": "var_list.py",
     "varRefreshCmd": "print(var_dic_list())"
    },
    "r": {
     "delete_cmd_postfix": ") ",
     "delete_cmd_prefix": "rm(",
     "library": "var_list.r",
     "varRefreshCmd": "cat(var_dic_list()) "
    }
   },
   "types_to_exclude": [
    "module",
    "function",
    "builtin_function_or_method",
    "instance",
    "_Feature"
   ],
   "window_display": false
  }
 },
 "nbformat": 4,
 "nbformat_minor": 5
}
