{
 "cells": [
  {
   "cell_type": "markdown",
   "id": "c8ee7fef",
   "metadata": {},
   "source": [
    "# Mosaico 2021"
   ]
  },
  {
   "cell_type": "markdown",
   "id": "203f76ca",
   "metadata": {},
   "source": [
    "Script trabajado por Francisco Albornoz (2022-02-01) / Última modificación / Mosaicos Patagonia"
   ]
  },
  {
   "cell_type": "markdown",
   "id": "2fb5cdeb",
   "metadata": {},
   "source": [
    "2022-02-01 13:20:38 "
   ]
  },
  {
   "cell_type": "code",
   "execution_count": 1,
   "id": "3057c761",
   "metadata": {
    "ExecuteTime": {
     "end_time": "2022-02-07T18:07:51.558621Z",
     "start_time": "2022-02-07T18:07:49.366302Z"
    }
   },
   "outputs": [],
   "source": [
    "import ee \n",
    "import geemap\n",
    "import geemap.chart as chart\n",
    "import os\n",
    "import folium\n",
    "import xarray_leaflet\n",
    "import rasterio \n",
    "from rasterio import plot\n",
    "import matplotlib.pyplot as plt\n",
    "import numpy as np\n",
    "%matplotlib inline"
   ]
  },
  {
   "cell_type": "markdown",
   "id": "1997eeb4",
   "metadata": {},
   "source": [
    "<img src=https://www.ecopaysen.cl/wp-content/uploads/2019/12/ecopaysen_marca_web.png>"
   ]
  },
  {
   "cell_type": "code",
   "execution_count": 2,
   "id": "fca49a56",
   "metadata": {
    "ExecuteTime": {
     "end_time": "2022-02-07T18:08:02.803666Z",
     "start_time": "2022-02-07T18:07:51.559669Z"
    }
   },
   "outputs": [],
   "source": [
    "Map = geemap.Map(center = [-45, -70], zoom = 4)\n",
    "Map1 = geemap.Map(center = [-45, -70], zoom = 4)\n",
    "Map2 = geemap.Map(center = [-45, -70], zoom = 4)\n",
    "Map3 = geemap.Map(center = [-45, -70], zoom = 4)\n",
    "Map4 = geemap.Map(center = [-45, -70], zoom = 4)\n",
    "Map5 = geemap.Map(center = [-45, -70], zoom = 4)\n",
    "Map6 = geemap.Map(center = [-45, -70], zoom = 4)\n",
    "Map7 = geemap.Map(center = [-45, -70], zoom = 4)\n",
    "Map8 = geemap.Map(center = [-45, -70], zoom = 4)\n",
    "Map9 = geemap.Map(center = [-45, -70], zoom = 4)\n",
    "Map10 = geemap.Map(center = [-45, -70], zoom = 4)\n",
    "Map11 = geemap.Map(center = [-45, -70], zoom = 4)\n",
    "Map12 = geemap.Map(center = [-45, -70], zoom = 4)\n",
    "Map13 = geemap.Map(center = [-45, -70], zoom = 4)\n",
    "Map14 = geemap.Map(center = [-45, -70], zoom = 4)\n",
    "Map15 = geemap.Map(center = [-45, -70], zoom = 4)\n",
    "Map16 = geemap.Map(center = [-45, -70], zoom = 4)"
   ]
  },
  {
   "cell_type": "markdown",
   "id": "f26fe1a2",
   "metadata": {},
   "source": [
    "## Área de Estudio"
   ]
  },
  {
   "cell_type": "code",
   "execution_count": 3,
   "id": "2aae613d",
   "metadata": {
    "ExecuteTime": {
     "end_time": "2022-02-07T18:08:05.303059Z",
     "start_time": "2022-02-07T18:08:02.804583Z"
    }
   },
   "outputs": [],
   "source": [
    "work_dir = os.path.expanduser('../Data/')\n",
    "patagonia = os.path.join(work_dir, 'patagonia_geo.shp')\n",
    "patagonia_grande = geemap.shp_to_ee(patagonia)\n",
    "tierra_fuego =os.path.join(work_dir, 'tierra_fuego.shp')\n",
    "tierra_fuego = geemap.shp_to_ee(tierra_fuego)"
   ]
  },
  {
   "cell_type": "code",
   "execution_count": 4,
   "id": "4dbbceda",
   "metadata": {
    "ExecuteTime": {
     "end_time": "2022-02-07T18:08:05.313087Z",
     "start_time": "2022-02-07T18:08:05.304723Z"
    }
   },
   "outputs": [],
   "source": [
    "geometry_exp = ee.Geometry.Polygon(\n",
    "        [[[-72.56281773604495, -33.81999514196144],\n",
    "          [-72.96381871260745, -35.294382843203024],\n",
    "          [-73.27692906416995, -35.25850698608905],\n",
    "          [-74.15583531416995, -38.13757615203617],\n",
    "          [-73.96357457198245, -38.16349478321529],\n",
    "          [-74.41603250978783, -39.59214901926122],\n",
    "          [-73.71840067385033, -39.70212049569608],\n",
    "          [-74.48057965994737, -41.961233926702086],\n",
    "          [-76.23199334221133, -46.599308425949715],\n",
    "          [-75.71838250236758, -46.6705186900265],\n",
    "          [-76.31583416780423, -48.08335993023956],\n",
    "          [-75.6739504332226, -48.17601084778724],\n",
    "          [-76.1812028986966, -49.3089458997328],\n",
    "          [-75.8516130549466, -49.35190435466257],\n",
    "          [-75.88182545729035, -49.42252520588146],\n",
    "          [-75.62776661939972, -49.4593908439046],\n",
    "          [-75.87838309772656, -50.0286830263256],\n",
    "          [-75.4746355391328, -50.08951678614621],\n",
    "          [-75.54325576346766, -50.23909657453096],\n",
    "          [-75.77780697097086, -50.76007049594944],\n",
    "          [-75.16119930495523, -50.84458853545005],\n",
    "          [-75.38504574050211, -51.344039508567974],\n",
    "          [-75.5541538866841, -51.71140521484993],\n",
    "          [-75.18336531246536, -51.75648162278235],\n",
    "          [-75.47788882049618, -52.3659753295982],\n",
    "          [-74.75894718310815, -52.46884703800526],\n",
    "          [-75.08565455837835, -53.06208069103826],\n",
    "          [-74.55801479059262, -53.126414996444055],\n",
    "          [-74.81690883977036, -53.6371915734125],\n",
    "          [-73.44408000172288, -53.83741753537409],\n",
    "          [-73.50862467945726, -53.95798563315933],\n",
    "          [-73.45231974781663, -53.967680681913386],\n",
    "          [-73.53197062672288, -54.11766576333605],\n",
    "          [-73.77219189508037, -54.57485104154676],\n",
    "          [-72.34049166499341, -54.77775087176573],\n",
    "          [-72.47759402717024, -55.03231503944354],\n",
    "          [-71.05285526571967, -55.24340674895388],\n",
    "          [-71.08306766806342, -55.29113504937561],\n",
    "          [-69.81960741798575, -55.47109132991434],\n",
    "          [-69.85119311134513, -55.51932330880519],\n",
    "          [-69.68227831642325, -55.544194128455445],\n",
    "          [-69.79214159767325, -55.75341614311607],\n",
    "          [-66.85410518726452, -56.21137383375629],\n",
    "          [-66.30968752348785, -55.25322454720416],\n",
    "          [-65.44176760161285, -55.378260612328376],\n",
    "          [-65.29222191220039, -55.084940556988364],\n",
    "          [-63.8145607793879, -55.29503930747886],\n",
    "          [-63.4410256231379, -54.559610949790994],\n",
    "          [-66.01731956845039, -54.18844646199444],\n",
    "          [-65.92942894345039, -53.97576673331468],\n",
    "          [-67.35765159970039, -53.77173637481835],\n",
    "          [-66.83490788218774, -52.56216102836118],\n",
    "          [-68.29059635875024, -52.351280557744616],\n",
    "          [-67.13664467133525, -49.5665018755825],\n",
    "          [-65.6891959408665, -49.77447361491692],\n",
    "          [-64.6040407061826, -46.886773053508534],\n",
    "          [-66.07346209290135, -46.670468623465915],\n",
    "          [-65.60651222417681, -45.29237148760689],\n",
    "          [-64.13159767339556, -45.51413819831776],\n",
    "          [-63.11762183127383, -42.44210625114028],\n",
    "          [-61.64820044455508, -42.65254570178212],\n",
    "          [-60.691700635610566, -39.58656313087865],\n",
    "          [-60.612049756704316, -39.597145764356114],\n",
    "          [-60.214053037778356, -38.26345264755797],\n",
    "          [-62.338430585556544, -37.86345563921212],\n",
    "          [-62.431814374619044, -38.13616213643378],\n",
    "          [-63.880475463562526, -37.8656239671591],\n",
    "          [-63.965619506531276, -38.12752037872568],\n",
    "          [-65.43863114657343, -37.86678770192114],\n",
    "          [-65.52652177157343, -38.12867996539086],\n",
    "          [-66.31753739657343, -37.98811028708228],\n",
    "          [-65.98609312949165, -36.82548737245019],\n",
    "          [-68.06866521074468, -36.43149799324939],\n",
    "          [-68.16204899980718, -36.70723234878123],\n",
    "          [-69.00250310136968, -36.55294237984414],\n",
    "          [-68.66838285254276, -35.38834808765389],\n",
    "          [-70.73190167990279, -35.008946233837705],\n",
    "          [-70.82528546896529, -35.29190694633577],\n",
    "          [-71.68771222677779, -35.11685679848462],\n",
    "          [-71.37460187521529, -33.95679291780399],\n",
    "          [-72.53365949240279, -33.733238932504804]]])"
   ]
  },
  {
   "cell_type": "markdown",
   "id": "fa8e2fea",
   "metadata": {},
   "source": [
    "## Colors Bars"
   ]
  },
  {
   "cell_type": "code",
   "execution_count": 5,
   "id": "1efebd11",
   "metadata": {
    "ExecuteTime": {
     "end_time": "2022-02-07T18:08:06.222452Z",
     "start_time": "2022-02-07T18:08:05.314098Z"
    }
   },
   "outputs": [],
   "source": [
    "import geemap.colormaps as cm"
   ]
  },
  {
   "cell_type": "code",
   "execution_count": 6,
   "id": "d159d70f",
   "metadata": {
    "ExecuteTime": {
     "end_time": "2022-02-07T18:08:06.225149Z",
     "start_time": "2022-02-07T18:08:06.223385Z"
    }
   },
   "outputs": [],
   "source": [
    "# cm.palettes.terrain"
   ]
  },
  {
   "cell_type": "code",
   "execution_count": 7,
   "id": "fe999a91",
   "metadata": {
    "ExecuteTime": {
     "end_time": "2022-02-07T18:08:06.227432Z",
     "start_time": "2022-02-07T18:08:06.225890Z"
    }
   },
   "outputs": [],
   "source": [
    "color_ndvi = cm.palettes.ndvi"
   ]
  },
  {
   "cell_type": "code",
   "execution_count": 8,
   "id": "05fb282a",
   "metadata": {
    "ExecuteTime": {
     "end_time": "2022-02-07T18:08:06.230657Z",
     "start_time": "2022-02-07T18:08:06.228098Z"
    }
   },
   "outputs": [],
   "source": [
    "color_ndwi = cm.palettes.ndwi"
   ]
  },
  {
   "cell_type": "code",
   "execution_count": 9,
   "id": "68161910",
   "metadata": {
    "ExecuteTime": {
     "end_time": "2022-02-07T18:08:06.232921Z",
     "start_time": "2022-02-07T18:08:06.231404Z"
    }
   },
   "outputs": [],
   "source": [
    "color_terrain = cm.palettes.terrain"
   ]
  },
  {
   "cell_type": "code",
   "execution_count": 10,
   "id": "8e99245f",
   "metadata": {
    "ExecuteTime": {
     "end_time": "2022-02-07T18:08:06.236021Z",
     "start_time": "2022-02-07T18:08:06.234572Z"
    }
   },
   "outputs": [],
   "source": [
    "color_glaciar = cm.palettes.PuBuGn_r"
   ]
  },
  {
   "cell_type": "code",
   "execution_count": 11,
   "id": "92b8cf41",
   "metadata": {
    "ExecuteTime": {
     "end_time": "2022-02-07T18:08:06.238309Z",
     "start_time": "2022-02-07T18:08:06.236839Z"
    }
   },
   "outputs": [],
   "source": [
    "color_nubes = cm.palettes.inferno"
   ]
  },
  {
   "cell_type": "code",
   "execution_count": 12,
   "id": "39930741",
   "metadata": {
    "ExecuteTime": {
     "end_time": "2022-02-07T18:08:06.240409Z",
     "start_time": "2022-02-07T18:08:06.239118Z"
    }
   },
   "outputs": [],
   "source": [
    "# cm.list_colormaps()"
   ]
  },
  {
   "cell_type": "code",
   "execution_count": 13,
   "id": "d6233e9b",
   "metadata": {
    "ExecuteTime": {
     "end_time": "2022-02-07T18:08:06.243409Z",
     "start_time": "2022-02-07T18:08:06.241149Z"
    }
   },
   "outputs": [],
   "source": [
    "color_rainbow = cm.palettes.summer_r"
   ]
  },
  {
   "cell_type": "markdown",
   "id": "11666045",
   "metadata": {},
   "source": [
    "## Funciones"
   ]
  },
  {
   "cell_type": "code",
   "execution_count": 14,
   "id": "166db170",
   "metadata": {
    "ExecuteTime": {
     "end_time": "2022-02-07T18:08:06.246199Z",
     "start_time": "2022-02-07T18:08:06.244111Z"
    }
   },
   "outputs": [],
   "source": [
    "def add_ee_layer(self, ee_image_object, vis_params, name):\n",
    "  map_id_dict = ee.Image(ee_image_object).getMapId(vis_params)\n",
    "  folium.raster_layers.TileLayer(\n",
    "      tiles=map_id_dict['tile_fetcher'].url_format,\n",
    "      attr='Map Data &copy; <a href=\"https://earthengine.google.com/\">Google Earth Engine</a>',\n",
    "      name=name,\n",
    "      overlay=True,\n",
    "      control=True\n",
    "  ).add_to(self)\n",
    "\n",
    "folium.Map.add_ee_layer = add_ee_layer"
   ]
  },
  {
   "cell_type": "code",
   "execution_count": 15,
   "id": "b9e1cdaf",
   "metadata": {
    "ExecuteTime": {
     "end_time": "2022-02-07T18:08:06.248473Z",
     "start_time": "2022-02-07T18:08:06.246913Z"
    }
   },
   "outputs": [],
   "source": [
    "def addNDVI(image): \n",
    "    ndvi = image.normalizedDifference(['B5', 'B4']).rename('NDVI')\n",
    "    return image.addBands(ndvi)"
   ]
  },
  {
   "cell_type": "code",
   "execution_count": 16,
   "id": "4c83d08e",
   "metadata": {
    "ExecuteTime": {
     "end_time": "2022-02-07T18:08:06.251476Z",
     "start_time": "2022-02-07T18:08:06.249261Z"
    }
   },
   "outputs": [],
   "source": [
    "def addNDVI2(image): \n",
    "    ndvi = image.normalizedDifference(['B5', 'B4']).rename('NDVI2')\n",
    "    return image.addBands(ndvi)"
   ]
  },
  {
   "cell_type": "code",
   "execution_count": 17,
   "id": "ad105a37",
   "metadata": {
    "ExecuteTime": {
     "end_time": "2022-02-07T18:08:06.253723Z",
     "start_time": "2022-02-07T18:08:06.252134Z"
    }
   },
   "outputs": [],
   "source": [
    "def addNDWI(image):\n",
    "    ndwi = image.normalizedDifference(['B3','B5']).rename('NDWI')\n",
    "    return image.addBands(ndwi)"
   ]
  },
  {
   "cell_type": "code",
   "execution_count": 18,
   "id": "afd5a921",
   "metadata": {
    "ExecuteTime": {
     "end_time": "2022-02-07T18:08:06.256188Z",
     "start_time": "2022-02-07T18:08:06.254621Z"
    }
   },
   "outputs": [],
   "source": [
    "def addNDGI(image):\n",
    "    ndgi = image.normalizedDifference(['B3','B4']).rename('NDGI')\n",
    "    return image.addBands(ndgi)"
   ]
  },
  {
   "cell_type": "code",
   "execution_count": 19,
   "id": "786770f8",
   "metadata": {
    "ExecuteTime": {
     "end_time": "2022-02-07T18:08:06.258743Z",
     "start_time": "2022-02-07T18:08:06.257022Z"
    }
   },
   "outputs": [],
   "source": [
    "def addSAVI(image):\n",
    "    savi = image.expression(\n",
    "        '((b5 - b4)/(b5 + b4 + 0.5))*1.5', {\n",
    "            'b4':image.select('B4'),\n",
    "            'b5':image.select('B5')\n",
    "        }) \n",
    "    savi= savi.rename('SAVI')\n",
    "    return image.addBands(savi)"
   ]
  },
  {
   "cell_type": "code",
   "execution_count": 20,
   "id": "410de657",
   "metadata": {
    "ExecuteTime": {
     "end_time": "2022-02-07T18:08:06.261047Z",
     "start_time": "2022-02-07T18:08:06.259473Z"
    }
   },
   "outputs": [],
   "source": [
    "def addNDBI(image):\n",
    "    ndbi = image.normalizedDifference(['B6','B5']).rename('NDBI')\n",
    "    return image.addBands(ndbi)"
   ]
  },
  {
   "cell_type": "code",
   "execution_count": 21,
   "id": "cffb72aa",
   "metadata": {
    "ExecuteTime": {
     "end_time": "2022-02-07T18:08:06.263465Z",
     "start_time": "2022-02-07T18:08:06.261973Z"
    }
   },
   "outputs": [],
   "source": [
    "def addNDSI(image):\n",
    "    ndsi = image.normalizedDifference(['B3','B6']).rename('NDSI')\n",
    "    return image.addBands(ndsi)"
   ]
  },
  {
   "cell_type": "code",
   "execution_count": 22,
   "id": "c054d0bf",
   "metadata": {
    "ExecuteTime": {
     "end_time": "2022-02-07T18:08:06.265949Z",
     "start_time": "2022-02-07T18:08:06.264152Z"
    }
   },
   "outputs": [],
   "source": [
    "def addEVI(image):\n",
    "    evi = image.expression(\n",
    "        '2.5*((b5 - b4)/(b5 + 6*b4 - 7.5*b2 + 1))', {\n",
    "            'b2':image.select('B2'),\n",
    "            'b4':image.select('B4'),\n",
    "            'b5':image.select('B5')\n",
    "        }) \n",
    "    evi = evi.rename('EVI')\n",
    "    return image.addBands(evi)"
   ]
  },
  {
   "cell_type": "code",
   "execution_count": 23,
   "id": "5c8b8b2f",
   "metadata": {
    "ExecuteTime": {
     "end_time": "2022-02-07T18:08:06.268558Z",
     "start_time": "2022-02-07T18:08:06.266854Z"
    }
   },
   "outputs": [],
   "source": [
    "def addDate(image):\n",
    "    img_date = ee.Date(image.date())\n",
    "    img_date = ee.Number.parse(img_date.format('YYYYMM'))\n",
    "    return image.addBands(ee.Image(img_date).rename('date').toInt())"
   ]
  },
  {
   "cell_type": "code",
   "execution_count": 24,
   "id": "04720d6b",
   "metadata": {
    "ExecuteTime": {
     "end_time": "2022-02-07T18:08:06.270884Z",
     "start_time": "2022-02-07T18:08:06.269345Z"
    }
   },
   "outputs": [],
   "source": [
    "def Cloud40(image):\n",
    "    scored = ee.Algorithms.Landsat.simpleCloudScore(image)\n",
    "    return image.updateMask(scored.select(['cloud']).lt(40)) "
   ]
  },
  {
   "cell_type": "code",
   "execution_count": 25,
   "id": "3115c210",
   "metadata": {
    "ExecuteTime": {
     "end_time": "2022-02-07T18:08:06.273244Z",
     "start_time": "2022-02-07T18:08:06.271713Z"
    }
   },
   "outputs": [],
   "source": [
    "def Cloud30(image):\n",
    "    scored = ee.Algorithms.Landsat.simpleCloudScore(image)\n",
    "    return image.updateMask(scored.select(['cloud']).lt(30)) "
   ]
  },
  {
   "cell_type": "code",
   "execution_count": 26,
   "id": "f86cf507",
   "metadata": {
    "ExecuteTime": {
     "end_time": "2022-02-07T18:08:06.275584Z",
     "start_time": "2022-02-07T18:08:06.273993Z"
    }
   },
   "outputs": [],
   "source": [
    "def Cloud20(image):\n",
    "    scored = ee.Algorithms.Landsat.simpleCloudScore(image)\n",
    "    return image.updateMask(scored.select(['cloud']).lt(20)) "
   ]
  },
  {
   "cell_type": "code",
   "execution_count": 27,
   "id": "9d288b40",
   "metadata": {
    "ExecuteTime": {
     "end_time": "2022-02-07T18:08:06.277972Z",
     "start_time": "2022-02-07T18:08:06.276296Z"
    }
   },
   "outputs": [],
   "source": [
    "def Cloud10(image):\n",
    "    scored = ee.Algorithms.Landsat.simpleCloudScore(image)\n",
    "    return image.updateMask(scored.select(['cloud']).lt(10))"
   ]
  },
  {
   "cell_type": "code",
   "execution_count": 28,
   "id": "92d6ba1b",
   "metadata": {
    "ExecuteTime": {
     "end_time": "2022-02-07T18:08:06.283622Z",
     "start_time": "2022-02-07T18:08:06.281755Z"
    }
   },
   "outputs": [],
   "source": [
    "def addCloud(image):\n",
    "    nube = ee.Algorithms.Landsat.simpleCloudScore(image)\n",
    "    return image.addBands(ee.Image(nube.select(['cloud'])).rename('nube'))"
   ]
  },
  {
   "cell_type": "code",
   "execution_count": 29,
   "id": "4eb69ead",
   "metadata": {
    "ExecuteTime": {
     "end_time": "2022-02-07T18:08:06.287088Z",
     "start_time": "2022-02-07T18:08:06.284366Z"
    }
   },
   "outputs": [],
   "source": [
    "def find_closest(target_image, image_col, days):\n",
    "    \"\"\"Filter images in a collection by date proximity and spatial intersection to a target image.\n",
    "\n",
    "    Args:\n",
    "        target_image: An ee.Image whose observation date is used to find near-date images in\n",
    "          the provided image_col image collection. It must have a 'system:time_start' property.\n",
    "        image_col: An ee.ImageCollection to filter by date proximity and spatial intersection\n",
    "          to the target_image. Each image in the collection must have a 'system:time_start'\n",
    "          property.\n",
    "        days: A number that defines the maximum number of days difference allowed between\n",
    "          the target_image and images in the image_col.\n",
    "\n",
    "    Returns:\n",
    "        An ee.ImageCollection that has been filtered to include those images that are within the\n",
    "          given date proximity to target_image and intersect it spatially.\n",
    "    \"\"\"\n",
    "\n",
    "    # Compute the timespan for N days (in milliseconds).\n",
    "    range = ee.Number(days).multiply(1000 * 60 * 60 * 24)\n",
    "\n",
    "    filter = ee.Filter.And(\n",
    "        ee.Filter.maxDifference(range, 'system:time_start', None, 'system:time_start'),\n",
    "        ee.Filter.intersects('.geo', None, '.geo'))\n",
    "\n",
    "    closest = (ee.Join.saveAll('matches', 'measure')\n",
    "        .apply(ee.ImageCollection([target_image]), image_col, filter))\n",
    "\n",
    "    return ee.ImageCollection(ee.List(closest.first().get('matches')))"
   ]
  },
  {
   "cell_type": "code",
   "execution_count": 30,
   "id": "b54bde64",
   "metadata": {
    "ExecuteTime": {
     "end_time": "2022-02-07T18:08:06.289483Z",
     "start_time": "2022-02-07T18:08:06.287932Z"
    }
   },
   "outputs": [],
   "source": [
    "vizParams = {\n",
    "  'bands': ['B5', 'B4', 'B3'],\n",
    "  'min': 0,\n",
    "  'max': 0.5,\n",
    "  'gamma': [0.95, 1.1, 1]\n",
    "}"
   ]
  },
  {
   "cell_type": "code",
   "execution_count": 31,
   "id": "71bcb153",
   "metadata": {
    "ExecuteTime": {
     "end_time": "2022-02-07T18:08:06.291804Z",
     "start_time": "2022-02-07T18:08:06.290235Z"
    }
   },
   "outputs": [],
   "source": [
    "vizParams_m = {\n",
    "  'bands': ['B5', 'B4', 'B3'],\n",
    "  'min': 0,\n",
    "  'max': 0.6,\n",
    "  'gamma': [1, 1, 1]\n",
    "}"
   ]
  },
  {
   "cell_type": "code",
   "execution_count": 32,
   "id": "aa02e8e2",
   "metadata": {
    "ExecuteTime": {
     "end_time": "2022-02-07T18:08:06.294092Z",
     "start_time": "2022-02-07T18:08:06.292557Z"
    }
   },
   "outputs": [],
   "source": [
    "vis_nieve = {\n",
    "  'bands': ['B6', 'B4', 'B3'],\n",
    "  'min': 0,\n",
    "  'max': 0.5,\n",
    "  'gamma': [0.95, 1.1, 1]\n",
    "}"
   ]
  },
  {
   "cell_type": "markdown",
   "id": "d9a442fb",
   "metadata": {},
   "source": [
    "## Colecciones"
   ]
  },
  {
   "cell_type": "markdown",
   "id": "f8131eb7",
   "metadata": {},
   "source": [
    "### 2022 Verano"
   ]
  },
  {
   "cell_type": "code",
   "execution_count": 33,
   "id": "3a413b3f",
   "metadata": {
    "ExecuteTime": {
     "end_time": "2022-02-07T18:08:06.296642Z",
     "start_time": "2022-02-07T18:08:06.294933Z"
    }
   },
   "outputs": [],
   "source": [
    "start_date = '2021-11-01'\n",
    "end_date = '2022-03-31'\n",
    "\n",
    "l8_2022 = ee.ImageCollection('LANDSAT/LC08/C01/T1_TOA') \\\n",
    "    .filterBounds(patagonia_grande) \\\n",
    "    .filterDate(start_date, end_date)  "
   ]
  },
  {
   "cell_type": "code",
   "execution_count": 34,
   "id": "e95247d7",
   "metadata": {
    "ExecuteTime": {
     "end_time": "2022-02-07T18:08:06.302426Z",
     "start_time": "2022-02-07T18:08:06.297426Z"
    }
   },
   "outputs": [],
   "source": [
    "coleccion2022 = l8_2022.map(addNDVI).map(addNDWI).map(addNDGI).map(addSAVI).map(addNDSI).map(addNDBI).map(addEVI).map(addDate).map(addCloud)"
   ]
  },
  {
   "cell_type": "markdown",
   "id": "5d07b81d",
   "metadata": {},
   "source": [
    "### 2021 Verano"
   ]
  },
  {
   "cell_type": "code",
   "execution_count": 35,
   "id": "0e0c1dfc",
   "metadata": {
    "ExecuteTime": {
     "end_time": "2022-02-07T18:08:06.304843Z",
     "start_time": "2022-02-07T18:08:06.303138Z"
    }
   },
   "outputs": [],
   "source": [
    "start_date = '2020-11-01'\n",
    "end_date = '2021-03-31'\n",
    "\n",
    "l8_2021 = ee.ImageCollection('LANDSAT/LC08/C01/T1_TOA') \\\n",
    "    .filterBounds(patagonia_grande) \\\n",
    "    .filterDate(start_date, end_date)  "
   ]
  },
  {
   "cell_type": "code",
   "execution_count": 36,
   "id": "74d427f9",
   "metadata": {
    "ExecuteTime": {
     "end_time": "2022-02-07T18:08:06.310025Z",
     "start_time": "2022-02-07T18:08:06.305589Z"
    }
   },
   "outputs": [],
   "source": [
    "coleccion2021 = l8_2021.map(addNDVI).map(addNDWI).map(addNDGI).map(addSAVI).map(addNDSI).map(addNDBI).map(addEVI).map(addDate).map(addCloud)"
   ]
  },
  {
   "cell_type": "code",
   "execution_count": 37,
   "id": "e660d316",
   "metadata": {
    "ExecuteTime": {
     "end_time": "2022-02-07T18:08:06.312604Z",
     "start_time": "2022-02-07T18:08:06.310853Z"
    }
   },
   "outputs": [],
   "source": [
    "NDVI_2021 = coleccion2021.qualityMosaic('NDVI')\n",
    "NDWI_2021 = coleccion2021.qualityMosaic('NDWI')\n",
    "SAVI_2021 = coleccion2021.qualityMosaic('SAVI')\n",
    "NDGI_2021 = coleccion2021.qualityMosaic('NDGI')\n",
    "NDSI_2021 = coleccion2021.qualityMosaic('NDSI')"
   ]
  },
  {
   "cell_type": "code",
   "execution_count": 38,
   "id": "2b71385b",
   "metadata": {
    "ExecuteTime": {
     "end_time": "2022-02-07T18:08:06.315491Z",
     "start_time": "2022-02-07T18:08:06.313359Z"
    }
   },
   "outputs": [],
   "source": [
    "c2021_sn = coleccion2021.map(Cloud10)\n",
    "NDVI_2021_sn = c2021_sn.qualityMosaic('NDVI')\n",
    "NDWI_2021_sn = c2021_sn.qualityMosaic('NDWI')\n",
    "SAVI_2021_sn = c2021_sn.qualityMosaic('SAVI')\n",
    "NDGI_2021_sn = c2021_sn.qualityMosaic('NDGI')\n",
    "NDSI_2021_sn = c2021_sn.qualityMosaic('NDSI')"
   ]
  },
  {
   "cell_type": "code",
   "execution_count": 39,
   "id": "e2ee17c2",
   "metadata": {
    "ExecuteTime": {
     "end_time": "2022-02-07T18:08:14.368281Z",
     "start_time": "2022-02-07T18:08:06.316268Z"
    }
   },
   "outputs": [
    {
     "data": {
      "application/vnd.jupyter.widget-view+json": {
       "model_id": "fa229f3b1f4748c28f88cce8f7d4be90",
       "version_major": 2,
       "version_minor": 0
      },
      "text/plain": [
       "Map(center=[-45, -70], controls=(WidgetControl(options=['position', 'transparent_bg'], widget=HBox(children=(T…"
      ]
     },
     "metadata": {},
     "output_type": "display_data"
    }
   ],
   "source": [
    "Map.addLayer(NDVI_2021_sn, vizParams, 'QMsn de NDVI 2021')\n",
    "Map.addLayer(NDVI_2021, vizParams, 'QM de NDVI 2021')\n",
    "Map.addLayer(NDWI_2021_sn, vizParams, 'QMsn de NDWI 2021')\n",
    "Map.addLayer(SAVI_2021_sn, vizParams, 'QMsn de SAVI 2021')\n",
    "Map.addLayer(NDGI_2021_sn, vis_nieve, 'QMsn de NDGI 2021')\n",
    "Map.addLayer(NDSI_2021_sn, vis_nieve, 'QMsn de NDSI 2021')\n",
    "Map"
   ]
  },
  {
   "cell_type": "code",
   "execution_count": 40,
   "id": "1994dbdf",
   "metadata": {
    "ExecuteTime": {
     "end_time": "2022-02-07T18:08:14.370595Z",
     "start_time": "2022-02-07T18:08:14.369040Z"
    }
   },
   "outputs": [],
   "source": [
    "NDVI_2021_l8 = NDVI_2021.set('SENSOR_ID', 'OLI_TIRS')"
   ]
  },
  {
   "cell_type": "code",
   "execution_count": 41,
   "id": "60a91aeb",
   "metadata": {
    "ExecuteTime": {
     "end_time": "2022-02-07T18:08:14.373122Z",
     "start_time": "2022-02-07T18:08:14.371559Z"
    }
   },
   "outputs": [],
   "source": [
    "cloud_2021_l8 = ee.Algorithms.Landsat.simpleCloudScore(NDVI_2021_l8)\n",
    "cloud_2021_l8 = cloud_2021_l8.select('cloud')"
   ]
  },
  {
   "cell_type": "code",
   "execution_count": 42,
   "id": "27740f8b",
   "metadata": {
    "ExecuteTime": {
     "end_time": "2022-02-07T18:08:14.375475Z",
     "start_time": "2022-02-07T18:08:14.373962Z"
    }
   },
   "outputs": [],
   "source": [
    "palette_nubes = ['#1a9850', '#66bd63', '#a6d96a', '#d9ef8b', '#fee08b', '#fdae61', '#f46d43', '#d73027']"
   ]
  },
  {
   "cell_type": "code",
   "execution_count": 43,
   "id": "613ea840",
   "metadata": {
    "ExecuteTime": {
     "end_time": "2022-02-07T18:08:14.377750Z",
     "start_time": "2022-02-07T18:08:14.376246Z"
    }
   },
   "outputs": [],
   "source": [
    "resultados= [cloud_2021_l8, NDVI_2021]\n",
    "vis_params2=  [\n",
    "    {'palette':palette_nubes}, \n",
    "    vizParams]\n",
    "labels = [\n",
    "    'Nubes 2021',\n",
    "    'QM NDVI 2021']"
   ]
  },
  {
   "cell_type": "code",
   "execution_count": 44,
   "id": "cb0d5f26",
   "metadata": {
    "ExecuteTime": {
     "end_time": "2022-02-07T18:08:14.379825Z",
     "start_time": "2022-02-07T18:08:14.378559Z"
    }
   },
   "outputs": [],
   "source": [
    "# geemap.linked_maps(rows=1, cols=2, height=\"400px\", center=[-45, -75], zoom=4, \n",
    "#                    ee_objects=resultados, vis_params=vis_params2, labels=labels, label_position=\"topright\")"
   ]
  },
  {
   "cell_type": "markdown",
   "id": "b8617200",
   "metadata": {},
   "source": [
    "### 2020 Verano"
   ]
  },
  {
   "cell_type": "code",
   "execution_count": 45,
   "id": "0401d370",
   "metadata": {
    "ExecuteTime": {
     "end_time": "2022-02-07T18:08:14.382354Z",
     "start_time": "2022-02-07T18:08:14.380607Z"
    }
   },
   "outputs": [],
   "source": [
    "start_date = '2019-11-01'\n",
    "end_date = '2020-03-31'\n",
    "\n",
    "l8_2020 = ee.ImageCollection('LANDSAT/LC08/C01/T1_TOA') \\\n",
    "    .filterBounds(patagonia_grande) \\\n",
    "    .filterDate(start_date, end_date)"
   ]
  },
  {
   "cell_type": "markdown",
   "id": "811a0128",
   "metadata": {},
   "source": [
    "### 2019 Verano"
   ]
  },
  {
   "cell_type": "code",
   "execution_count": 46,
   "id": "d756b623",
   "metadata": {
    "ExecuteTime": {
     "end_time": "2022-02-07T18:08:14.384927Z",
     "start_time": "2022-02-07T18:08:14.383369Z"
    }
   },
   "outputs": [],
   "source": [
    "start_date = '2018-11-01'\n",
    "end_date = '2019-03-31'\n",
    "\n",
    "l8_2019 = ee.ImageCollection('LANDSAT/LC08/C01/T1_TOA') \\\n",
    "    .filterBounds(patagonia_grande) \\\n",
    "    .filterDate(start_date, end_date)"
   ]
  },
  {
   "cell_type": "markdown",
   "id": "158f0bb1",
   "metadata": {},
   "source": [
    "### 2018 Verano"
   ]
  },
  {
   "cell_type": "code",
   "execution_count": 47,
   "id": "2c2ce2a2",
   "metadata": {
    "ExecuteTime": {
     "end_time": "2022-02-07T18:08:14.387519Z",
     "start_time": "2022-02-07T18:08:14.385830Z"
    }
   },
   "outputs": [],
   "source": [
    "start_date = '2017-11-01'\n",
    "end_date = '2018-03-31'\n",
    "\n",
    "l8_2018 = ee.ImageCollection('LANDSAT/LC08/C01/T1_TOA') \\\n",
    "    .filterBounds(patagonia_grande) \\\n",
    "    .filterDate(start_date, end_date)"
   ]
  },
  {
   "cell_type": "markdown",
   "id": "ad28b803",
   "metadata": {},
   "source": [
    "### 2017 Verano"
   ]
  },
  {
   "cell_type": "code",
   "execution_count": 48,
   "id": "1917c893",
   "metadata": {
    "ExecuteTime": {
     "end_time": "2022-02-07T18:08:14.389940Z",
     "start_time": "2022-02-07T18:08:14.388283Z"
    }
   },
   "outputs": [],
   "source": [
    "start_date = '2016-11-01'\n",
    "end_date = '2017-03-31'\n",
    "\n",
    "l8_2017 = ee.ImageCollection('LANDSAT/LC08/C01/T1_TOA') \\\n",
    "    .filterBounds(patagonia_grande) \\\n",
    "    .filterDate(start_date, end_date)"
   ]
  },
  {
   "cell_type": "markdown",
   "id": "d0a1318e",
   "metadata": {},
   "source": [
    "### 2022-2017 Colección "
   ]
  },
  {
   "cell_type": "code",
   "execution_count": 49,
   "id": "73e05438",
   "metadata": {
    "ExecuteTime": {
     "end_time": "2022-02-07T18:08:14.393069Z",
     "start_time": "2022-02-07T18:08:14.390853Z"
    }
   },
   "outputs": [],
   "source": [
    "filtersummer = ee.Filter.Or(\n",
    "    ee.Filter.date('2021-11-01','2022-02-01'),\n",
    "    ee.Filter.date('2020-11-01','2021-03-31'),\n",
    "    ee.Filter.date('2019-11-01','2020-03-31'),\n",
    "    ee.Filter.date('2018-11-01','2019-03-31'),\n",
    "    ee.Filter.date('2017-11-01','2018-03-31')\n",
    ")"
   ]
  },
  {
   "cell_type": "code",
   "execution_count": 50,
   "id": "e3459c31",
   "metadata": {
    "ExecuteTime": {
     "end_time": "2022-02-07T18:08:14.395581Z",
     "start_time": "2022-02-07T18:08:14.394007Z"
    }
   },
   "outputs": [],
   "source": [
    "coleccion2022_2017 = ee.ImageCollection('LANDSAT/LC08/C01/T1_TOA') \\\n",
    "    .filterDate('2017-11-01', '2021-03-31') \\\n",
    "    .filter(filtersummer) \\\n",
    "    .filterBounds(patagonia_grande)"
   ]
  },
  {
   "cell_type": "code",
   "execution_count": 51,
   "id": "b84c22d9",
   "metadata": {
    "ExecuteTime": {
     "end_time": "2022-02-07T18:08:14.400968Z",
     "start_time": "2022-02-07T18:08:14.396289Z"
    }
   },
   "outputs": [],
   "source": [
    "l8_summer= coleccion2022_2017.map(addNDVI).map(addNDWI).map(addNDGI).map(addSAVI).map(addNDSI).map(addNDBI).map(addEVI).map(addDate).map(addCloud)"
   ]
  },
  {
   "cell_type": "code",
   "execution_count": 52,
   "id": "63f1960c",
   "metadata": {
    "ExecuteTime": {
     "end_time": "2022-02-07T18:08:14.403191Z",
     "start_time": "2022-02-07T18:08:14.401786Z"
    }
   },
   "outputs": [],
   "source": [
    "cloudest = l8_summer.qualityMosaic('nube')"
   ]
  },
  {
   "cell_type": "code",
   "execution_count": 53,
   "id": "cbb613f8",
   "metadata": {
    "ExecuteTime": {
     "end_time": "2022-02-07T18:08:17.173468Z",
     "start_time": "2022-02-07T18:08:14.403899Z"
    },
    "scrolled": false
   },
   "outputs": [
    {
     "data": {
      "application/vnd.jupyter.widget-view+json": {
       "model_id": "67ebcb88b26f45f397421f30940ec368",
       "version_major": 2,
       "version_minor": 0
      },
      "text/plain": [
       "Map(center=[-45, -70], controls=(WidgetControl(options=['position', 'transparent_bg'], widget=HBox(children=(T…"
      ]
     },
     "metadata": {},
     "output_type": "display_data"
    }
   ],
   "source": [
    "Map2.addLayer(cloudest, vizParams, 'máximo de nubes')\n",
    "Map2.addLayer(l8_summer.median(), vizParams, 'median')\n",
    "Map2 "
   ]
  },
  {
   "cell_type": "markdown",
   "id": "12cf11b9",
   "metadata": {},
   "source": [
    "### Tier 1\n"
   ]
  },
  {
   "cell_type": "code",
   "execution_count": 54,
   "id": "65f6e56e",
   "metadata": {
    "ExecuteTime": {
     "end_time": "2022-02-07T18:08:17.176249Z",
     "start_time": "2022-02-07T18:08:17.174282Z"
    }
   },
   "outputs": [],
   "source": [
    "Tier1_sn = l8_summer.map(Cloud10)"
   ]
  },
  {
   "cell_type": "code",
   "execution_count": 55,
   "id": "61a35ad7",
   "metadata": {
    "ExecuteTime": {
     "end_time": "2022-02-07T18:08:17.178770Z",
     "start_time": "2022-02-07T18:08:17.177086Z"
    }
   },
   "outputs": [],
   "source": [
    "QM_NDVI_T1 = Tier1_sn.qualityMosaic('NDVI')# Normalized difference vegetation Index\n",
    "QM_NDWI_T1 = Tier1_sn.qualityMosaic('NDWI') # Normalize difference water index\n",
    "QM_SAVI_T1 = Tier1_sn.qualityMosaic('SAVI') # Soil Adjusted Vegetation Index \n",
    "QM_NDGI_T1 = Tier1_sn.qualityMosaic('NDGI') # Normalized difference glacier index\n",
    "QM_NDSI_T1 = Tier1_sn.qualityMosaic('NDSI') # Normalized difference snow index"
   ]
  },
  {
   "cell_type": "code",
   "execution_count": 56,
   "id": "416683d4",
   "metadata": {
    "ExecuteTime": {
     "end_time": "2022-02-07T18:08:25.868851Z",
     "start_time": "2022-02-07T18:08:17.179524Z"
    }
   },
   "outputs": [
    {
     "data": {
      "application/vnd.jupyter.widget-view+json": {
       "model_id": "67ebcb88b26f45f397421f30940ec368",
       "version_major": 2,
       "version_minor": 0
      },
      "text/plain": [
       "Map(center=[-45, -70], controls=(WidgetControl(options=['position', 'transparent_bg'], widget=HBox(children=(T…"
      ]
     },
     "metadata": {},
     "output_type": "display_data"
    }
   ],
   "source": [
    "Map2.addLayer(QM_NDVI_T1, vizParams, 'QM de NDVI T1')\n",
    "Map2.addLayer(QM_NDWI_T1, vizParams, 'QM de NDWI T1')\n",
    "Map2.addLayer(QM_SAVI_T1, vizParams, 'QM de SAVI T1')\n",
    "Map2.addLayer(QM_NDGI_T1, vis_nieve, 'QM de NDGI T1')\n",
    "Map2.addLayer(QM_NDSI_T1, vizParams, 'QM de NDSI T1')\n",
    "\n",
    "Map2.addLayer(Tier1_sn.median(), vizParams, 'mediana de T1')\n",
    "Map2 "
   ]
  },
  {
   "cell_type": "markdown",
   "id": "5f58151c",
   "metadata": {},
   "source": [
    "### Tier 2"
   ]
  },
  {
   "cell_type": "code",
   "execution_count": 57,
   "id": "3f1efa8c",
   "metadata": {
    "ExecuteTime": {
     "end_time": "2022-02-07T18:08:25.871600Z",
     "start_time": "2022-02-07T18:08:25.869597Z"
    }
   },
   "outputs": [],
   "source": [
    "Tier2_sn = l8_summer.map(Cloud20)"
   ]
  },
  {
   "cell_type": "code",
   "execution_count": 58,
   "id": "888370aa",
   "metadata": {
    "ExecuteTime": {
     "end_time": "2022-02-07T18:08:25.874398Z",
     "start_time": "2022-02-07T18:08:25.872404Z"
    }
   },
   "outputs": [],
   "source": [
    "QM_NDVI_T2 = Tier2_sn.qualityMosaic('NDVI')# Normalized difference vegetation Index\n",
    "QM_NDWI_T2 = Tier2_sn.qualityMosaic('NDWI') # Normalize difference water index\n",
    "QM_SAVI_T2 = Tier2_sn.qualityMosaic('SAVI') # Soil Adjusted Vegetation Index \n",
    "QM_NDGI_T2 = Tier2_sn.qualityMosaic('NDGI') # Normalized difference glacier index\n",
    "QM_NDSI_T2 = Tier2_sn.qualityMosaic('NDSI') # Normalized difference snow index"
   ]
  },
  {
   "cell_type": "code",
   "execution_count": 59,
   "id": "bfe0fd96",
   "metadata": {
    "ExecuteTime": {
     "end_time": "2022-02-07T18:08:25.876441Z",
     "start_time": "2022-02-07T18:08:25.875115Z"
    }
   },
   "outputs": [],
   "source": [
    "# Map2.addLayer(QM_NDVI_T2, vizParams, 'QM de NDVI T2')\n",
    "# Map2.addLayer(QM_NDWI_T2, vizParams, 'QM de NDWI T2')\n",
    "# Map2.addLayer(QM_SAVI_T2, vizParams, 'QM de SAVI T2')\n",
    "# Map2.addLayer(QM_NDGI_T2, vis_nieve, 'QM de NDGI T2')\n",
    "# Map2.addLayer(QM_NDSI_T2, vis_nieve, 'QM de NDSI T2')\n",
    "# Map2 "
   ]
  },
  {
   "cell_type": "markdown",
   "id": "783d2e36",
   "metadata": {},
   "source": [
    "### Tier 3"
   ]
  },
  {
   "cell_type": "code",
   "execution_count": 60,
   "id": "cba970e0",
   "metadata": {
    "ExecuteTime": {
     "end_time": "2022-02-07T18:08:25.878778Z",
     "start_time": "2022-02-07T18:08:25.877152Z"
    }
   },
   "outputs": [],
   "source": [
    "Tier3_sn = l8_summer.map(Cloud30)"
   ]
  },
  {
   "cell_type": "code",
   "execution_count": 61,
   "id": "8a844166",
   "metadata": {
    "ExecuteTime": {
     "end_time": "2022-02-07T18:08:25.881582Z",
     "start_time": "2022-02-07T18:08:25.879680Z"
    }
   },
   "outputs": [],
   "source": [
    "QM_NDVI_T3 = Tier3_sn.qualityMosaic('NDVI')# Normalized difference vegetation Index\n",
    "QM_NDWI_T3 = Tier3_sn.qualityMosaic('NDWI') # Normalize difference water index\n",
    "QM_SAVI_T3 = Tier3_sn.qualityMosaic('SAVI') # Soil Adjusted Vegetation Index \n",
    "QM_NDGI_T3 = Tier3_sn.qualityMosaic('NDGI') # Normalized difference glacier index\n",
    "QM_NDSI_T3 = Tier3_sn.qualityMosaic('NDSI') # Normalized difference snow index"
   ]
  },
  {
   "cell_type": "markdown",
   "id": "b2453291",
   "metadata": {},
   "source": [
    "### Tier 4"
   ]
  },
  {
   "cell_type": "code",
   "execution_count": 62,
   "id": "7a204626",
   "metadata": {
    "ExecuteTime": {
     "end_time": "2022-02-07T18:08:25.884577Z",
     "start_time": "2022-02-07T18:08:25.882503Z"
    }
   },
   "outputs": [],
   "source": [
    "Tier4_sn = l8_summer.map(Cloud40)"
   ]
  },
  {
   "cell_type": "code",
   "execution_count": 63,
   "id": "7339980d",
   "metadata": {
    "ExecuteTime": {
     "end_time": "2022-02-07T18:08:25.887182Z",
     "start_time": "2022-02-07T18:08:25.885349Z"
    }
   },
   "outputs": [],
   "source": [
    "QM_NDVI_T4 = Tier4_sn.qualityMosaic('NDVI')# Normalized difference vegetation Index\n",
    "QM_NDWI_T4 = Tier4_sn.qualityMosaic('NDWI') # Normalize difference water index\n",
    "QM_SAVI_T4 = Tier4_sn.qualityMosaic('SAVI') # Soil Adjusted Vegetation Index \n",
    "QM_NDGI_T4 = Tier4_sn.qualityMosaic('NDGI') # Normalized difference glacier index\n",
    "QM_NDSI_T4 = Tier4_sn.qualityMosaic('NDSI') # Normalized difference snow index"
   ]
  },
  {
   "cell_type": "markdown",
   "id": "2029216e",
   "metadata": {},
   "source": [
    "## Colección tierra del fuego"
   ]
  },
  {
   "cell_type": "code",
   "execution_count": 64,
   "id": "69c552c6",
   "metadata": {
    "ExecuteTime": {
     "end_time": "2022-02-07T18:08:25.889791Z",
     "start_time": "2022-02-07T18:08:25.887910Z"
    }
   },
   "outputs": [],
   "source": [
    "filtersummerf = ee.Filter.Or(\n",
    "    ee.Filter.date('2021-11-01','2022-02-01'),\n",
    "    ee.Filter.date('2020-11-01','2021-03-31'),\n",
    "    ee.Filter.date('2019-11-01','2020-03-31'),\n",
    "    ee.Filter.date('2018-11-01','2019-03-31'),\n",
    "    ee.Filter.date('2017-11-01','2018-03-31')\n",
    ")"
   ]
  },
  {
   "cell_type": "code",
   "execution_count": 65,
   "id": "3698479a",
   "metadata": {
    "ExecuteTime": {
     "end_time": "2022-02-07T18:08:25.892169Z",
     "start_time": "2022-02-07T18:08:25.890528Z"
    }
   },
   "outputs": [],
   "source": [
    "coleccion2022_2017 = ee.ImageCollection('LANDSAT/LC08/C01/T1_TOA') \\\n",
    "    .filterDate('2017-11-01', '2022-03-31') \\\n",
    "    .filter(filtersummerf) \\\n",
    "    .filterBounds(tierra_fuego)"
   ]
  },
  {
   "cell_type": "code",
   "execution_count": 66,
   "id": "b820dfa4",
   "metadata": {
    "ExecuteTime": {
     "end_time": "2022-02-07T18:08:25.896817Z",
     "start_time": "2022-02-07T18:08:25.892921Z"
    }
   },
   "outputs": [],
   "source": [
    "l8_summer_sur= coleccion2022_2017.map(addNDVI).map(addNDWI).map(addNDGI).map(addSAVI).map(addNDSI).map(addNDBI).map(addDate).map(addCloud)"
   ]
  },
  {
   "cell_type": "code",
   "execution_count": 67,
   "id": "0a876e8d",
   "metadata": {
    "ExecuteTime": {
     "end_time": "2022-02-07T18:08:26.950119Z",
     "start_time": "2022-02-07T18:08:25.897773Z"
    }
   },
   "outputs": [
    {
     "data": {
      "application/vnd.jupyter.widget-view+json": {
       "model_id": "c1c90b0e7e8f4cc1936b4fb1ce65b74d",
       "version_major": 2,
       "version_minor": 0
      },
      "text/plain": [
       "Map(center=[-45, -70], controls=(WidgetControl(options=['position', 'transparent_bg'], widget=HBox(children=(T…"
      ]
     },
     "metadata": {},
     "output_type": "display_data"
    }
   ],
   "source": [
    "Map3.addLayer(l8_summer_sur.median(), vizParams, 'median')\n",
    "Map3"
   ]
  },
  {
   "cell_type": "markdown",
   "id": "11db41ec",
   "metadata": {},
   "source": [
    "### Tier 1 Sur"
   ]
  },
  {
   "cell_type": "code",
   "execution_count": 68,
   "id": "56144837",
   "metadata": {
    "ExecuteTime": {
     "end_time": "2022-02-07T18:08:26.952875Z",
     "start_time": "2022-02-07T18:08:26.950915Z"
    }
   },
   "outputs": [],
   "source": [
    "Tier1_sn_sur = l8_summer_sur.map(Cloud10)"
   ]
  },
  {
   "cell_type": "code",
   "execution_count": 69,
   "id": "28f9aa01",
   "metadata": {
    "ExecuteTime": {
     "end_time": "2022-02-07T18:08:26.955580Z",
     "start_time": "2022-02-07T18:08:26.953564Z"
    }
   },
   "outputs": [],
   "source": [
    "QM_NDVI_T1_sur = Tier1_sn_sur.qualityMosaic('NDVI')# Normalized difference vegetation Index\n",
    "QM_NDWI_T1_sur = Tier1_sn_sur.qualityMosaic('NDWI') # Normalize difference water index\n",
    "QM_SAVI_T1_sur = Tier1_sn_sur.qualityMosaic('SAVI') # Soil Adjusted Vegetation Index \n",
    "QM_NDGI_T1_sur = Tier1_sn_sur.qualityMosaic('NDGI') # Normalized difference glacier index\n",
    "QM_NDSI_T1_sur = Tier1_sn_sur.qualityMosaic('NDSI') # Normalized difference snow index"
   ]
  },
  {
   "cell_type": "code",
   "execution_count": 70,
   "id": "6b688782",
   "metadata": {
    "ExecuteTime": {
     "end_time": "2022-02-07T18:08:34.062398Z",
     "start_time": "2022-02-07T18:08:26.956268Z"
    }
   },
   "outputs": [
    {
     "data": {
      "application/vnd.jupyter.widget-view+json": {
       "model_id": "c1c90b0e7e8f4cc1936b4fb1ce65b74d",
       "version_major": 2,
       "version_minor": 0
      },
      "text/plain": [
       "Map(center=[-45, -70], controls=(WidgetControl(options=['position', 'transparent_bg'], widget=HBox(children=(T…"
      ]
     },
     "metadata": {},
     "output_type": "display_data"
    }
   ],
   "source": [
    "Map3.addLayer(QM_NDVI_T1_sur, vizParams, 'QM de NDVI T1_sur')\n",
    "Map3.addLayer(QM_NDWI_T1_sur, vizParams, 'QM de NDWI T1_sur')\n",
    "Map3.addLayer(QM_SAVI_T1_sur, vizParams, 'QM de SAVI T1_sur')\n",
    "Map3.addLayer(QM_NDGI_T1_sur, vis_nieve, 'QM de NDGI T1_sur')\n",
    "Map3.addLayer(QM_NDSI_T1_sur, vizParams, 'QM de NDSI T1_sur')\n",
    "Map3.addLayer((Tier1_sn_sur).median(), vizParams, 'Mediana de mosaico T1_sur')\n",
    "Map3 "
   ]
  },
  {
   "cell_type": "code",
   "execution_count": null,
   "id": "38712607",
   "metadata": {},
   "outputs": [],
   "source": []
  },
  {
   "cell_type": "code",
   "execution_count": null,
   "id": "19be06b4",
   "metadata": {},
   "outputs": [],
   "source": []
  },
  {
   "cell_type": "markdown",
   "id": "dd05e9e8",
   "metadata": {},
   "source": [
    "## Generación de Mosaico QM"
   ]
  },
  {
   "cell_type": "code",
   "execution_count": 71,
   "id": "9b229098",
   "metadata": {
    "ExecuteTime": {
     "end_time": "2022-02-07T18:08:34.064822Z",
     "start_time": "2022-02-07T18:08:34.063163Z"
    }
   },
   "outputs": [],
   "source": [
    "NDVI_2021_landsat = cloudest.set('SENSOR_ID', 'OLI_TIRS')"
   ]
  },
  {
   "cell_type": "code",
   "execution_count": 72,
   "id": "a98110ba",
   "metadata": {
    "ExecuteTime": {
     "end_time": "2022-02-07T18:08:34.067816Z",
     "start_time": "2022-02-07T18:08:34.065646Z"
    }
   },
   "outputs": [],
   "source": [
    "cloud_2021 = ee.Algorithms.Landsat.simpleCloudScore(NDVI_2021_landsat)"
   ]
  },
  {
   "cell_type": "code",
   "execution_count": 73,
   "id": "745b712d",
   "metadata": {
    "ExecuteTime": {
     "end_time": "2022-02-07T18:08:34.069922Z",
     "start_time": "2022-02-07T18:08:34.068467Z"
    }
   },
   "outputs": [],
   "source": [
    "cloud_2021 = cloud_2021.select('cloud')"
   ]
  },
  {
   "cell_type": "code",
   "execution_count": 74,
   "id": "3351dfe9",
   "metadata": {
    "ExecuteTime": {
     "end_time": "2022-02-07T18:08:34.072229Z",
     "start_time": "2022-02-07T18:08:34.070716Z"
    }
   },
   "outputs": [],
   "source": [
    "palette_nubes = ['#1a9850', '#d73027']"
   ]
  },
  {
   "cell_type": "code",
   "execution_count": 75,
   "id": "aa1c77e2",
   "metadata": {
    "ExecuteTime": {
     "end_time": "2022-02-07T18:08:34.074576Z",
     "start_time": "2022-02-07T18:08:34.072994Z"
    }
   },
   "outputs": [],
   "source": [
    "resultados= [cloud_2021, cloudest]\n",
    "vis_params2=  [\n",
    "    {'palette':palette_nubes}, \n",
    "    vizParams]\n",
    "labels = [\n",
    "    'Nubes 2021',\n",
    "    'QM NDVI 2021']"
   ]
  },
  {
   "cell_type": "code",
   "execution_count": 76,
   "id": "28e91129",
   "metadata": {
    "ExecuteTime": {
     "end_time": "2022-02-07T18:08:37.164954Z",
     "start_time": "2022-02-07T18:08:34.075409Z"
    }
   },
   "outputs": [
    {
     "data": {
      "application/vnd.jupyter.widget-view+json": {
       "model_id": "f1462f6033294c7faa37777bf6673bd2",
       "version_major": 2,
       "version_minor": 0
      },
      "text/plain": [
       "GridspecLayout(children=(Output(layout=Layout(grid_area='widget001')), Output(layout=Layout(grid_area='widget0…"
      ]
     },
     "metadata": {},
     "output_type": "display_data"
    }
   ],
   "source": [
    "geemap.linked_maps(rows=1, cols=2, height=\"400px\", center=[-45, -75], zoom=4, \n",
    "                   ee_objects=resultados, vis_params=vis_params2, labels=labels, label_position=\"topright\")"
   ]
  },
  {
   "cell_type": "code",
   "execution_count": 77,
   "id": "21067811",
   "metadata": {
    "ExecuteTime": {
     "end_time": "2022-02-07T18:08:38.323633Z",
     "start_time": "2022-02-07T18:08:37.165853Z"
    }
   },
   "outputs": [
    {
     "data": {
      "text/plain": [
       "['B1',\n",
       " 'B2',\n",
       " 'B3',\n",
       " 'B4',\n",
       " 'B5',\n",
       " 'B6',\n",
       " 'B7',\n",
       " 'B8',\n",
       " 'B9',\n",
       " 'B10',\n",
       " 'B11',\n",
       " 'BQA',\n",
       " 'NDVI',\n",
       " 'NDWI',\n",
       " 'NDGI',\n",
       " 'SAVI',\n",
       " 'NDSI',\n",
       " 'NDBI',\n",
       " 'EVI',\n",
       " 'date',\n",
       " 'nube']"
      ]
     },
     "execution_count": 77,
     "metadata": {},
     "output_type": "execute_result"
    }
   ],
   "source": [
    "QM_NDVI_T1.bandNames().getInfo()"
   ]
  },
  {
   "cell_type": "code",
   "execution_count": 78,
   "id": "93ea56bf",
   "metadata": {
    "ExecuteTime": {
     "end_time": "2022-02-07T18:08:38.326173Z",
     "start_time": "2022-02-07T18:08:38.324503Z"
    }
   },
   "outputs": [],
   "source": [
    "def llenado(image):\n",
    "    return image.where(cloud_2021.gt(10),QM_NDVI_T1)"
   ]
  },
  {
   "cell_type": "code",
   "execution_count": 79,
   "id": "8287934f",
   "metadata": {
    "ExecuteTime": {
     "end_time": "2022-02-07T18:08:38.328691Z",
     "start_time": "2022-02-07T18:08:38.326812Z"
    }
   },
   "outputs": [],
   "source": [
    "img1 = llenado(l8_summer.median())"
   ]
  },
  {
   "cell_type": "code",
   "execution_count": 80,
   "id": "0ea4ebed",
   "metadata": {
    "ExecuteTime": {
     "end_time": "2022-02-07T18:08:38.331310Z",
     "start_time": "2022-02-07T18:08:38.329343Z"
    }
   },
   "outputs": [],
   "source": [
    "img1_landsat = img1.set('SENSOR_ID', 'OLI_TIRS')\n",
    "cloud_img1 = ee.Algorithms.Landsat.simpleCloudScore(img1_landsat)\n",
    "cloud_img1 = cloud_img1.select('cloud')"
   ]
  },
  {
   "cell_type": "code",
   "execution_count": 81,
   "id": "84dbb2d4",
   "metadata": {
    "ExecuteTime": {
     "end_time": "2022-02-07T18:08:38.333675Z",
     "start_time": "2022-02-07T18:08:38.332019Z"
    }
   },
   "outputs": [],
   "source": [
    "resultados= [cloud_img1, img1]\n",
    "vis_params2=  [\n",
    "    {'palette':palette_nubes}, \n",
    "    vizParams]\n",
    "labels = [\n",
    "    'Nubes Mosaico 1',\n",
    "    'Mosaico 1']"
   ]
  },
  {
   "cell_type": "code",
   "execution_count": 82,
   "id": "f3c2a996",
   "metadata": {
    "ExecuteTime": {
     "end_time": "2022-02-07T18:08:41.606141Z",
     "start_time": "2022-02-07T18:08:38.339256Z"
    }
   },
   "outputs": [
    {
     "data": {
      "application/vnd.jupyter.widget-view+json": {
       "model_id": "993778a2c8a9424b8733285f8182b231",
       "version_major": 2,
       "version_minor": 0
      },
      "text/plain": [
       "GridspecLayout(children=(Output(layout=Layout(grid_area='widget001')), Output(layout=Layout(grid_area='widget0…"
      ]
     },
     "metadata": {},
     "output_type": "display_data"
    }
   ],
   "source": [
    "geemap.linked_maps(rows=1, cols=2, height=\"400px\", center=[-45, -75], zoom=4, \n",
    "                   ee_objects=resultados, vis_params=vis_params2, labels=labels, label_position=\"topright\")"
   ]
  },
  {
   "cell_type": "code",
   "execution_count": 83,
   "id": "9a243ac4",
   "metadata": {
    "ExecuteTime": {
     "end_time": "2022-02-07T18:08:41.608547Z",
     "start_time": "2022-02-07T18:08:41.606849Z"
    }
   },
   "outputs": [],
   "source": [
    "def llenado2(image):\n",
    "    return image.where(cloud_img1.gt(10), QM_NDVI_T2)"
   ]
  },
  {
   "cell_type": "code",
   "execution_count": 84,
   "id": "ada6d94e",
   "metadata": {
    "ExecuteTime": {
     "end_time": "2022-02-07T18:08:41.611570Z",
     "start_time": "2022-02-07T18:08:41.609244Z"
    }
   },
   "outputs": [],
   "source": [
    "img2 = llenado2(img1)"
   ]
  },
  {
   "cell_type": "code",
   "execution_count": 85,
   "id": "e3db0a52",
   "metadata": {
    "ExecuteTime": {
     "end_time": "2022-02-07T18:08:41.614008Z",
     "start_time": "2022-02-07T18:08:41.612391Z"
    }
   },
   "outputs": [],
   "source": [
    "img2_landsat = img2.set('SENSOR_ID', 'OLI_TIRS')\n",
    "cloud_img2 = ee.Algorithms.Landsat.simpleCloudScore(img2_landsat)\n",
    "cloud_img2 = cloud_img2.select('cloud')"
   ]
  },
  {
   "cell_type": "code",
   "execution_count": 86,
   "id": "42d22742",
   "metadata": {
    "ExecuteTime": {
     "end_time": "2022-02-07T18:08:41.616650Z",
     "start_time": "2022-02-07T18:08:41.614917Z"
    }
   },
   "outputs": [],
   "source": [
    "resultados= [cloud_img2, img2]\n",
    "vis_params2=  [\n",
    "    {'palette':palette_nubes}, \n",
    "    vizParams]\n",
    "labels = [\n",
    "    'Nubes Mosaico 2',\n",
    "    'Mosaico 2']"
   ]
  },
  {
   "cell_type": "code",
   "execution_count": 87,
   "id": "5bdcab8c",
   "metadata": {
    "ExecuteTime": {
     "end_time": "2022-02-07T18:08:41.618685Z",
     "start_time": "2022-02-07T18:08:41.617340Z"
    }
   },
   "outputs": [],
   "source": [
    "# geemap.linked_maps(rows=1, cols=2, height=\"400px\", center=[-45, -75], zoom=4, \n",
    "#                    ee_objects=resultados, vis_params=vis_params2, labels=labels, label_position=\"topright\")"
   ]
  },
  {
   "cell_type": "code",
   "execution_count": 88,
   "id": "ca5f91e2",
   "metadata": {
    "ExecuteTime": {
     "end_time": "2022-02-07T18:08:41.620885Z",
     "start_time": "2022-02-07T18:08:41.619355Z"
    }
   },
   "outputs": [],
   "source": [
    "def llenado3(image):\n",
    "    return image.where(cloud_img2.gt(10), QM_NDVI_T3)"
   ]
  },
  {
   "cell_type": "code",
   "execution_count": 89,
   "id": "f52fddee",
   "metadata": {
    "ExecuteTime": {
     "end_time": "2022-02-07T18:08:41.624826Z",
     "start_time": "2022-02-07T18:08:41.621688Z"
    }
   },
   "outputs": [],
   "source": [
    "img3 = llenado3(img2)"
   ]
  },
  {
   "cell_type": "code",
   "execution_count": 90,
   "id": "6d41d9d0",
   "metadata": {
    "ExecuteTime": {
     "end_time": "2022-02-07T18:08:41.627844Z",
     "start_time": "2022-02-07T18:08:41.625764Z"
    }
   },
   "outputs": [],
   "source": [
    "img3_landsat = img3.set('SENSOR_ID', 'OLI_TIRS')\n",
    "cloud_img3 = ee.Algorithms.Landsat.simpleCloudScore(img3_landsat)\n",
    "cloud_img3 = cloud_img3.select('cloud')"
   ]
  },
  {
   "cell_type": "code",
   "execution_count": 91,
   "id": "3a000d62",
   "metadata": {
    "ExecuteTime": {
     "end_time": "2022-02-07T18:08:41.630187Z",
     "start_time": "2022-02-07T18:08:41.628617Z"
    }
   },
   "outputs": [],
   "source": [
    "resultados= [cloud_img3, img3]\n",
    "vis_params2=  [\n",
    "    {'palette':palette_nubes}, \n",
    "    vizParams]\n",
    "labels = [\n",
    "    'Nubes Mosaico 3',\n",
    "    'Mosaico 3']"
   ]
  },
  {
   "cell_type": "code",
   "execution_count": 92,
   "id": "bf275ed6",
   "metadata": {
    "ExecuteTime": {
     "end_time": "2022-02-07T18:08:41.632343Z",
     "start_time": "2022-02-07T18:08:41.630963Z"
    }
   },
   "outputs": [],
   "source": [
    "# geemap.linked_maps(rows=1, cols=2, height=\"400px\", center=[-45, -75], zoom=4, \n",
    "#                    ee_objects=resultados, vis_params=vis_params2, labels=labels, label_position=\"topright\")"
   ]
  },
  {
   "cell_type": "code",
   "execution_count": 93,
   "id": "9d0daae9",
   "metadata": {
    "ExecuteTime": {
     "end_time": "2022-02-07T18:08:41.634859Z",
     "start_time": "2022-02-07T18:08:41.633141Z"
    }
   },
   "outputs": [],
   "source": [
    "def llenado4(image):\n",
    "    return image.where(cloud_img3.gt(10), QM_NDVI_T4)"
   ]
  },
  {
   "cell_type": "code",
   "execution_count": 94,
   "id": "d37f16d5",
   "metadata": {
    "ExecuteTime": {
     "end_time": "2022-02-07T18:08:41.637426Z",
     "start_time": "2022-02-07T18:08:41.635561Z"
    }
   },
   "outputs": [],
   "source": [
    "img4 = llenado4(img3)"
   ]
  },
  {
   "cell_type": "code",
   "execution_count": 95,
   "id": "540d60d8",
   "metadata": {
    "ExecuteTime": {
     "end_time": "2022-02-07T18:08:41.640186Z",
     "start_time": "2022-02-07T18:08:41.638270Z"
    }
   },
   "outputs": [],
   "source": [
    "img4_landsat = img4.set('SENSOR_ID', 'OLI_TIRS')\n",
    "cloud_img4 = ee.Algorithms.Landsat.simpleCloudScore(img4_landsat)\n",
    "cloud_img4 = cloud_img4.select('cloud')"
   ]
  },
  {
   "cell_type": "code",
   "execution_count": 96,
   "id": "3f0e9719",
   "metadata": {
    "ExecuteTime": {
     "end_time": "2022-02-07T18:08:41.642707Z",
     "start_time": "2022-02-07T18:08:41.641050Z"
    }
   },
   "outputs": [],
   "source": [
    "resultados= [cloud_img4, img4]\n",
    "vis_params2=  [\n",
    "    {'palette':palette_nubes}, \n",
    "    vizParams]\n",
    "labels = [\n",
    "    'Nubes Mosaico 4',\n",
    "    'Mosaico 4']"
   ]
  },
  {
   "cell_type": "code",
   "execution_count": 97,
   "id": "41d9a7b8",
   "metadata": {
    "ExecuteTime": {
     "end_time": "2022-02-07T18:08:41.644651Z",
     "start_time": "2022-02-07T18:08:41.643404Z"
    }
   },
   "outputs": [],
   "source": [
    "# geemap.linked_maps(rows=1, cols=2, height=\"400px\", center=[-45, -75], zoom=4, \n",
    "#                    ee_objects=resultados, vis_params=vis_params2, labels=labels, label_position=\"topright\")"
   ]
  },
  {
   "cell_type": "code",
   "execution_count": 98,
   "id": "0cccc52b",
   "metadata": {
    "ExecuteTime": {
     "end_time": "2022-02-07T18:08:41.647181Z",
     "start_time": "2022-02-07T18:08:41.645556Z"
    }
   },
   "outputs": [],
   "source": [
    "hansenImage = ee.Image('UMD/hansen/global_forest_change_2015')\n",
    "datamask = hansenImage.select('datamask')"
   ]
  },
  {
   "cell_type": "code",
   "execution_count": 99,
   "id": "2e6b728e",
   "metadata": {
    "ExecuteTime": {
     "end_time": "2022-02-07T18:08:41.649591Z",
     "start_time": "2022-02-07T18:08:41.648048Z"
    }
   },
   "outputs": [],
   "source": [
    "def llenado5(image):\n",
    "    return image.where(datamask.eq(2), QM_NDWI_T1)"
   ]
  },
  {
   "cell_type": "code",
   "execution_count": 100,
   "id": "eeac700c",
   "metadata": {
    "ExecuteTime": {
     "end_time": "2022-02-07T18:08:41.651839Z",
     "start_time": "2022-02-07T18:08:41.650317Z"
    }
   },
   "outputs": [],
   "source": [
    "img5 = llenado5(img4)"
   ]
  },
  {
   "cell_type": "code",
   "execution_count": 101,
   "id": "82202db6",
   "metadata": {
    "ExecuteTime": {
     "end_time": "2022-02-07T18:08:41.654047Z",
     "start_time": "2022-02-07T18:08:41.652590Z"
    }
   },
   "outputs": [],
   "source": [
    "img5_landsat = img5.set('SENSOR_ID', 'OLI_TIRS')"
   ]
  },
  {
   "cell_type": "code",
   "execution_count": 102,
   "id": "823a7e18",
   "metadata": {
    "ExecuteTime": {
     "end_time": "2022-02-07T18:08:41.656339Z",
     "start_time": "2022-02-07T18:08:41.654754Z"
    }
   },
   "outputs": [],
   "source": [
    "resultados= [img4, img5]\n",
    "labels = [\n",
    "    'Mosaico 4',\n",
    "    'Mosaico 5']\n",
    "vis_params3=  [\n",
    "     vizParams, \n",
    "    vizParams]"
   ]
  },
  {
   "cell_type": "code",
   "execution_count": 103,
   "id": "87c07712",
   "metadata": {
    "ExecuteTime": {
     "end_time": "2022-02-07T18:08:45.173502Z",
     "start_time": "2022-02-07T18:08:41.657052Z"
    }
   },
   "outputs": [
    {
     "data": {
      "application/vnd.jupyter.widget-view+json": {
       "model_id": "d48f313d03124b6a96bda9bea02289ab",
       "version_major": 2,
       "version_minor": 0
      },
      "text/plain": [
       "GridspecLayout(children=(Output(layout=Layout(grid_area='widget001')), Output(layout=Layout(grid_area='widget0…"
      ]
     },
     "metadata": {},
     "output_type": "display_data"
    }
   ],
   "source": [
    "geemap.linked_maps(rows=1, cols=2, height=\"400px\", center=[-45, -75], zoom=4, \n",
    "                   ee_objects=resultados, vis_params=vis_params3, labels=labels, label_position=\"topright\")"
   ]
  },
  {
   "cell_type": "code",
   "execution_count": 104,
   "id": "c76fddbf",
   "metadata": {
    "ExecuteTime": {
     "end_time": "2022-02-07T18:08:46.825194Z",
     "start_time": "2022-02-07T18:08:45.174286Z"
    }
   },
   "outputs": [
    {
     "data": {
      "text/plain": [
       "['B1',\n",
       " 'B2',\n",
       " 'B3',\n",
       " 'B4',\n",
       " 'B5',\n",
       " 'B6',\n",
       " 'B7',\n",
       " 'B8',\n",
       " 'B9',\n",
       " 'B10',\n",
       " 'B11',\n",
       " 'BQA',\n",
       " 'NDVI',\n",
       " 'NDWI',\n",
       " 'NDGI',\n",
       " 'SAVI',\n",
       " 'NDSI',\n",
       " 'NDBI',\n",
       " 'EVI',\n",
       " 'date',\n",
       " 'nube']"
      ]
     },
     "execution_count": 104,
     "metadata": {},
     "output_type": "execute_result"
    }
   ],
   "source": [
    "img4.bandNames().getInfo()"
   ]
  },
  {
   "cell_type": "code",
   "execution_count": 105,
   "id": "03e0049e",
   "metadata": {
    "ExecuteTime": {
     "end_time": "2022-02-07T18:08:48.290411Z",
     "start_time": "2022-02-07T18:08:46.826119Z"
    }
   },
   "outputs": [
    {
     "data": {
      "text/plain": [
       "['B1',\n",
       " 'B2',\n",
       " 'B3',\n",
       " 'B4',\n",
       " 'B5',\n",
       " 'B6',\n",
       " 'B7',\n",
       " 'B8',\n",
       " 'B9',\n",
       " 'B10',\n",
       " 'B11',\n",
       " 'BQA',\n",
       " 'NDVI',\n",
       " 'NDWI',\n",
       " 'NDGI',\n",
       " 'SAVI',\n",
       " 'NDSI',\n",
       " 'NDBI',\n",
       " 'EVI',\n",
       " 'date',\n",
       " 'nube']"
      ]
     },
     "execution_count": 105,
     "metadata": {},
     "output_type": "execute_result"
    }
   ],
   "source": [
    "img5.bandNames().getInfo()"
   ]
  },
  {
   "cell_type": "code",
   "execution_count": 106,
   "id": "20454023",
   "metadata": {
    "ExecuteTime": {
     "end_time": "2022-02-07T18:08:52.182685Z",
     "start_time": "2022-02-07T18:08:48.291486Z"
    }
   },
   "outputs": [
    {
     "data": {
      "application/vnd.jupyter.widget-view+json": {
       "model_id": "b9104548a47848c7b78d858d06b00987",
       "version_major": 2,
       "version_minor": 0
      },
      "text/plain": [
       "Map(center=[-45, -70], controls=(WidgetControl(options=['position', 'transparent_bg'], widget=HBox(children=(T…"
      ]
     },
     "metadata": {},
     "output_type": "display_data"
    }
   ],
   "source": [
    "Map10.addLayer(img4, vizParams, 'Mosaico 4')\n",
    "Map10.addLayer(img5, vizParams, 'Mosaico 5')\n",
    "Map10"
   ]
  },
  {
   "cell_type": "markdown",
   "id": "18c237e5",
   "metadata": {},
   "source": [
    "### Resultado Final"
   ]
  },
  {
   "cell_type": "code",
   "execution_count": 107,
   "id": "3e85d062",
   "metadata": {
    "ExecuteTime": {
     "end_time": "2022-02-07T18:08:53.743865Z",
     "start_time": "2022-02-07T18:08:52.183413Z"
    }
   },
   "outputs": [
    {
     "data": {
      "application/vnd.jupyter.widget-view+json": {
       "model_id": "b9104548a47848c7b78d858d06b00987",
       "version_major": 2,
       "version_minor": 0
      },
      "text/plain": [
       "Map(center=[-45, -70], controls=(WidgetControl(options=['position', 'transparent_bg'], widget=HBox(children=(T…"
      ]
     },
     "metadata": {},
     "output_type": "display_data"
    }
   ],
   "source": [
    "img5_b = img5.select(['B1','B2','B3','B4','B5','B6','B7'])\n",
    "Map10.addLayer(img5_b, vizParams, 'Mosaico 7bandas')\n",
    "Map10"
   ]
  },
  {
   "cell_type": "markdown",
   "id": "d46a3463",
   "metadata": {},
   "source": [
    "#### Fechas Mosaico"
   ]
  },
  {
   "cell_type": "code",
   "execution_count": 108,
   "id": "67a2e0e2",
   "metadata": {
    "ExecuteTime": {
     "end_time": "2022-02-07T18:08:53.746205Z",
     "start_time": "2022-02-07T18:08:53.744640Z"
    }
   },
   "outputs": [],
   "source": [
    "property = 'date'"
   ]
  },
  {
   "cell_type": "code",
   "execution_count": 109,
   "id": "9fff05cd",
   "metadata": {
    "ExecuteTime": {
     "end_time": "2022-02-07T18:08:53.748753Z",
     "start_time": "2022-02-07T18:08:53.747028Z"
    }
   },
   "outputs": [],
   "source": [
    "options = {\"title\": 'Fechas mosaico QM',\n",
    "          \"xlabel\": 'date',\n",
    "          \"ylabel\": 'Pixel count',\n",
    "          \"colors\": ['#1d6b99']\n",
    "          }"
   ]
  },
  {
   "cell_type": "code",
   "execution_count": 112,
   "id": "37a5b7be",
   "metadata": {
    "ExecuteTime": {
     "end_time": "2022-02-07T18:15:22.996353Z",
     "start_time": "2022-02-07T18:15:22.994199Z"
    }
   },
   "outputs": [],
   "source": [
    "muestra = (img5.select('date')).sample(**{\n",
    "    'region': geometry_exp,\n",
    "    'scale': 30,\n",
    "    'numPixels':500,\n",
    "    'tileScale': 4,\n",
    "})"
   ]
  },
  {
   "cell_type": "code",
   "execution_count": 113,
   "id": "0ad9a685",
   "metadata": {
    "ExecuteTime": {
     "end_time": "2022-02-07T18:15:47.207673Z",
     "start_time": "2022-02-07T18:15:22.997462Z"
    },
    "scrolled": false
   },
   "outputs": [
    {
     "data": {
      "application/vnd.jupyter.widget-view+json": {
       "model_id": "b4623e7a12784005a16ed7c67d578374",
       "version_major": 2,
       "version_minor": 0
      },
      "text/plain": [
       "VBox(children=(Figure(axes=[Axis(label='Pixel count', orientation='vertical', scale=LinearScale()), Axis(label…"
      ]
     },
     "metadata": {},
     "output_type": "display_data"
    }
   ],
   "source": [
    "chart.feature_histogram(muestra, property, **options)"
   ]
  },
  {
   "cell_type": "code",
   "execution_count": 114,
   "id": "e05c20e0",
   "metadata": {
    "ExecuteTime": {
     "end_time": "2022-02-07T18:15:47.210692Z",
     "start_time": "2022-02-07T18:15:47.208933Z"
    }
   },
   "outputs": [],
   "source": [
    "# out_dir = r\"C:\\Users\\USUARIO\\Downloads\""
   ]
  },
  {
   "cell_type": "code",
   "execution_count": 115,
   "id": "2c94d245",
   "metadata": {
    "ExecuteTime": {
     "end_time": "2022-02-07T18:15:47.212814Z",
     "start_time": "2022-02-07T18:15:47.211394Z"
    }
   },
   "outputs": [],
   "source": [
    "# out_mosaic_stats= os.path.join(out_dir,'\\fechas_mosaico.csv')\n",
    "# geemap.zonal_statistics(img5,patagonia_grande, out_mosaic_stats, scale= 5000)"
   ]
  },
  {
   "cell_type": "markdown",
   "id": "7267523f",
   "metadata": {},
   "source": [
    "### Tasseled cap"
   ]
  },
  {
   "cell_type": "code",
   "execution_count": 116,
   "id": "427e0fc3",
   "metadata": {
    "ExecuteTime": {
     "end_time": "2022-02-07T18:15:47.216057Z",
     "start_time": "2022-02-07T18:15:47.213915Z"
    }
   },
   "outputs": [],
   "source": [
    "coef = ee.Array([\n",
    "    [0.3029, 0.2786, 0.4733, 0.5599, 0.508, 0.1872], \n",
    "    [-0.2941, -0.243, -0.5424, 0.7276, 0.0713, -0.1608],\n",
    "    [0.1511, 0.1973, 0.3283, 0.3407, -0.7117, -0.4559],\n",
    "    [-0.8239, 0.0849, 0.4396, -0.058, 0.2013, -0.2773],\n",
    "    [-0.3294, 0.0557, 0.1056, 0.1855, -0.4349, 0.8085],\n",
    "    [0.1079, -0.9023, 0.4119, 0.0575, -0.0259, 0.0252]\n",
    "])"
   ]
  },
  {
   "cell_type": "code",
   "execution_count": 117,
   "id": "7ab0a347",
   "metadata": {
    "ExecuteTime": {
     "end_time": "2022-02-07T18:15:47.218524Z",
     "start_time": "2022-02-07T18:15:47.216883Z"
    }
   },
   "outputs": [],
   "source": [
    "tasse_img5 = img5.select(['B2', 'B3', 'B4', 'B5', 'B6', 'B7'])"
   ]
  },
  {
   "cell_type": "code",
   "execution_count": 118,
   "id": "9e34972d",
   "metadata": {
    "ExecuteTime": {
     "end_time": "2022-02-07T18:15:47.220803Z",
     "start_time": "2022-02-07T18:15:47.219383Z"
    }
   },
   "outputs": [],
   "source": [
    "arrayimage1d = tasse_img5.toArray()"
   ]
  },
  {
   "cell_type": "code",
   "execution_count": 119,
   "id": "3c3e3a70",
   "metadata": {
    "ExecuteTime": {
     "end_time": "2022-02-07T18:15:47.222910Z",
     "start_time": "2022-02-07T18:15:47.221513Z"
    }
   },
   "outputs": [],
   "source": [
    "arrayimage2d = arrayimage1d.toArray(1)"
   ]
  },
  {
   "cell_type": "code",
   "execution_count": 120,
   "id": "0ae9ab01",
   "metadata": {
    "ExecuteTime": {
     "end_time": "2022-02-07T18:15:47.225249Z",
     "start_time": "2022-02-07T18:15:47.223544Z"
    }
   },
   "outputs": [],
   "source": [
    "componentes = ee.Image(coef)\\\n",
    "                .matrixMultiply(arrayimage2d) \\\n",
    "                .arrayProject([0])\\\n",
    "                .arrayFlatten(\n",
    "                [['brightness','greenness','wetness','fourth','fifth','sixth']])"
   ]
  },
  {
   "cell_type": "code",
   "execution_count": 121,
   "id": "b058be26",
   "metadata": {
    "ExecuteTime": {
     "end_time": "2022-02-07T18:15:47.227888Z",
     "start_time": "2022-02-07T18:15:47.225987Z"
    }
   },
   "outputs": [],
   "source": [
    "vizParamstess = {\n",
    "  'bands': ['brightness', 'greenness', 'wetness'],\n",
    "    'min': -0.1,\n",
    "    'max': [0.6, 0.2, 0.2]\n",
    "}\n"
   ]
  },
  {
   "cell_type": "code",
   "execution_count": 122,
   "id": "9dc2abf8",
   "metadata": {
    "ExecuteTime": {
     "end_time": "2022-02-07T18:15:48.888011Z",
     "start_time": "2022-02-07T18:15:47.229244Z"
    }
   },
   "outputs": [
    {
     "data": {
      "application/vnd.jupyter.widget-view+json": {
       "model_id": "b9104548a47848c7b78d858d06b00987",
       "version_major": 2,
       "version_minor": 0
      },
      "text/plain": [
       "Map(bottom=2923.0, center=[-45, -70], controls=(WidgetControl(options=['position', 'transparent_bg'], widget=H…"
      ]
     },
     "metadata": {},
     "output_type": "display_data"
    }
   ],
   "source": [
    "Map10.addLayer(componentes,vizParamstess, 'Tesseled cap')\n",
    "Map10"
   ]
  },
  {
   "cell_type": "markdown",
   "id": "c36bd436",
   "metadata": {},
   "source": [
    "### Combinación de bandas"
   ]
  },
  {
   "cell_type": "code",
   "execution_count": 123,
   "id": "9e796ad0",
   "metadata": {
    "ExecuteTime": {
     "end_time": "2022-02-07T18:15:48.890720Z",
     "start_time": "2022-02-07T18:15:48.888858Z"
    }
   },
   "outputs": [],
   "source": [
    "img_final = img5.select('B1','B2','B3','B4','B5','B6','B7','NDVI','NDWI','NDGI','SAVI','NDSI','NDBI','EVI')\n",
    "img_final = img_final.addBands(componentes) "
   ]
  },
  {
   "cell_type": "code",
   "execution_count": 124,
   "id": "1946e239",
   "metadata": {
    "ExecuteTime": {
     "end_time": "2022-02-07T18:15:50.589061Z",
     "start_time": "2022-02-07T18:15:48.891614Z"
    }
   },
   "outputs": [
    {
     "data": {
      "text/plain": [
       "['B1',\n",
       " 'B2',\n",
       " 'B3',\n",
       " 'B4',\n",
       " 'B5',\n",
       " 'B6',\n",
       " 'B7',\n",
       " 'NDVI',\n",
       " 'NDWI',\n",
       " 'NDGI',\n",
       " 'SAVI',\n",
       " 'NDSI',\n",
       " 'NDBI',\n",
       " 'EVI',\n",
       " 'brightness',\n",
       " 'greenness',\n",
       " 'wetness',\n",
       " 'fourth',\n",
       " 'fifth',\n",
       " 'sixth']"
      ]
     },
     "execution_count": 124,
     "metadata": {},
     "output_type": "execute_result"
    }
   ],
   "source": [
    "img_final.bandNames().getInfo()"
   ]
  },
  {
   "cell_type": "markdown",
   "id": "2d8c3490",
   "metadata": {},
   "source": [
    "## Generación de Mosaico Mediana "
   ]
  },
  {
   "cell_type": "code",
   "execution_count": 125,
   "id": "daedb11a",
   "metadata": {
    "ExecuteTime": {
     "end_time": "2022-02-07T18:15:50.591866Z",
     "start_time": "2022-02-07T18:15:50.590020Z"
    }
   },
   "outputs": [],
   "source": [
    "NDVI_2021_landsat = cloudest.set('SENSOR_ID', 'OLI_TIRS')"
   ]
  },
  {
   "cell_type": "code",
   "execution_count": 126,
   "id": "27ac7247",
   "metadata": {
    "ExecuteTime": {
     "end_time": "2022-02-07T18:15:50.594868Z",
     "start_time": "2022-02-07T18:15:50.592552Z"
    }
   },
   "outputs": [],
   "source": [
    "cloud_2021 = ee.Algorithms.Landsat.simpleCloudScore(NDVI_2021_landsat)"
   ]
  },
  {
   "cell_type": "code",
   "execution_count": 127,
   "id": "5dc81c5b",
   "metadata": {
    "ExecuteTime": {
     "end_time": "2022-02-07T18:15:50.597417Z",
     "start_time": "2022-02-07T18:15:50.595596Z"
    }
   },
   "outputs": [],
   "source": [
    "cloud_2021 = cloud_2021.select('cloud')"
   ]
  },
  {
   "cell_type": "code",
   "execution_count": 128,
   "id": "ff9b8a7d",
   "metadata": {
    "ExecuteTime": {
     "end_time": "2022-02-07T18:15:50.599762Z",
     "start_time": "2022-02-07T18:15:50.598256Z"
    }
   },
   "outputs": [],
   "source": [
    "palette_nubes = ['#1a9850', '#d73027']"
   ]
  },
  {
   "cell_type": "code",
   "execution_count": 129,
   "id": "b0297af0",
   "metadata": {
    "ExecuteTime": {
     "end_time": "2022-02-07T18:15:50.602152Z",
     "start_time": "2022-02-07T18:15:50.600485Z"
    }
   },
   "outputs": [],
   "source": [
    "resultados= [cloud_2021, cloudest]\n",
    "vis_params2=  [\n",
    "    {'palette':palette_nubes}, \n",
    "    vizParams]\n",
    "labels = [\n",
    "    'Nubes 2021',\n",
    "    'QM NDVI 2021']"
   ]
  },
  {
   "cell_type": "code",
   "execution_count": 130,
   "id": "59624c53",
   "metadata": {
    "ExecuteTime": {
     "end_time": "2022-02-07T18:15:53.662754Z",
     "start_time": "2022-02-07T18:15:50.602919Z"
    }
   },
   "outputs": [
    {
     "data": {
      "application/vnd.jupyter.widget-view+json": {
       "model_id": "87866928124f46cd8ecfd8ff185c046e",
       "version_major": 2,
       "version_minor": 0
      },
      "text/plain": [
       "GridspecLayout(children=(Output(layout=Layout(grid_area='widget001')), Output(layout=Layout(grid_area='widget0…"
      ]
     },
     "metadata": {},
     "output_type": "display_data"
    }
   ],
   "source": [
    "geemap.linked_maps(rows=1, cols=2, height=\"400px\", center=[-45, -75], zoom=4, \n",
    "                   ee_objects=resultados, vis_params=vis_params2, labels=labels, label_position=\"topright\")"
   ]
  },
  {
   "cell_type": "code",
   "execution_count": 131,
   "id": "10d867ca",
   "metadata": {
    "ExecuteTime": {
     "end_time": "2022-02-07T18:15:54.847502Z",
     "start_time": "2022-02-07T18:15:53.663563Z"
    }
   },
   "outputs": [
    {
     "data": {
      "text/plain": [
       "['B1',\n",
       " 'B2',\n",
       " 'B3',\n",
       " 'B4',\n",
       " 'B5',\n",
       " 'B6',\n",
       " 'B7',\n",
       " 'B8',\n",
       " 'B9',\n",
       " 'B10',\n",
       " 'B11',\n",
       " 'BQA',\n",
       " 'NDVI',\n",
       " 'NDWI',\n",
       " 'NDGI',\n",
       " 'SAVI',\n",
       " 'NDSI',\n",
       " 'NDBI',\n",
       " 'EVI',\n",
       " 'date',\n",
       " 'nube']"
      ]
     },
     "execution_count": 131,
     "metadata": {},
     "output_type": "execute_result"
    }
   ],
   "source": [
    "Tier1_sn.median().bandNames().getInfo()"
   ]
  },
  {
   "cell_type": "code",
   "execution_count": 132,
   "id": "f344f905",
   "metadata": {
    "ExecuteTime": {
     "end_time": "2022-02-07T18:15:54.849972Z",
     "start_time": "2022-02-07T18:15:54.848292Z"
    }
   },
   "outputs": [],
   "source": [
    "def llenado(image):\n",
    "    return image.where(cloud_2021.gt(10),Tier1_sn.median())"
   ]
  },
  {
   "cell_type": "code",
   "execution_count": 133,
   "id": "f6465699",
   "metadata": {
    "ExecuteTime": {
     "end_time": "2022-02-07T18:15:54.852544Z",
     "start_time": "2022-02-07T18:15:54.850897Z"
    }
   },
   "outputs": [],
   "source": [
    "img1m = llenado(l8_summer.median())"
   ]
  },
  {
   "cell_type": "code",
   "execution_count": 134,
   "id": "4fecf00d",
   "metadata": {
    "ExecuteTime": {
     "end_time": "2022-02-07T18:15:54.854978Z",
     "start_time": "2022-02-07T18:15:54.853286Z"
    }
   },
   "outputs": [],
   "source": [
    "img1m_landsat = img1m.set('SENSOR_ID', 'OLI_TIRS')\n",
    "cloud_img1 = ee.Algorithms.Landsat.simpleCloudScore(img1m_landsat)\n",
    "cloud_img1 = cloud_img1.select('cloud')"
   ]
  },
  {
   "cell_type": "code",
   "execution_count": 135,
   "id": "cbf75071",
   "metadata": {
    "ExecuteTime": {
     "end_time": "2022-02-07T18:15:54.857458Z",
     "start_time": "2022-02-07T18:15:54.855821Z"
    }
   },
   "outputs": [],
   "source": [
    "resultados= [cloud_img1, img1m]\n",
    "vis_params2=  [\n",
    "    {'palette':palette_nubes}, \n",
    "    vizParams]\n",
    "labels = [\n",
    "    'Nubes Mosaico 1',\n",
    "    'Mosaico 1']"
   ]
  },
  {
   "cell_type": "code",
   "execution_count": 136,
   "id": "bcab44d4",
   "metadata": {
    "ExecuteTime": {
     "end_time": "2022-02-07T18:15:58.179132Z",
     "start_time": "2022-02-07T18:15:54.858360Z"
    }
   },
   "outputs": [
    {
     "data": {
      "application/vnd.jupyter.widget-view+json": {
       "model_id": "4452eb952b944baab4a3e4b906c167b8",
       "version_major": 2,
       "version_minor": 0
      },
      "text/plain": [
       "GridspecLayout(children=(Output(layout=Layout(grid_area='widget001')), Output(layout=Layout(grid_area='widget0…"
      ]
     },
     "metadata": {},
     "output_type": "display_data"
    }
   ],
   "source": [
    "geemap.linked_maps(rows=1, cols=2, height=\"400px\", center=[-45, -75], zoom=4, \n",
    "                   ee_objects=resultados, vis_params=vis_params2, labels=labels, label_position=\"topright\")"
   ]
  },
  {
   "cell_type": "code",
   "execution_count": 137,
   "id": "d90fb4fd",
   "metadata": {
    "ExecuteTime": {
     "end_time": "2022-02-07T18:15:58.181571Z",
     "start_time": "2022-02-07T18:15:58.179858Z"
    }
   },
   "outputs": [],
   "source": [
    "def llenado2(image):\n",
    "    return image.where(cloud_img1.gt(10), Tier2_sn.median())"
   ]
  },
  {
   "cell_type": "code",
   "execution_count": 138,
   "id": "524814b0",
   "metadata": {
    "ExecuteTime": {
     "end_time": "2022-02-07T18:15:58.183983Z",
     "start_time": "2022-02-07T18:15:58.182505Z"
    }
   },
   "outputs": [],
   "source": [
    "img2m = llenado2(img1m)"
   ]
  },
  {
   "cell_type": "code",
   "execution_count": 139,
   "id": "a04c18a8",
   "metadata": {
    "ExecuteTime": {
     "end_time": "2022-02-07T18:15:58.186349Z",
     "start_time": "2022-02-07T18:15:58.184632Z"
    }
   },
   "outputs": [],
   "source": [
    "img2m_landsat = img2.set('SENSOR_ID', 'OLI_TIRS')\n",
    "cloud_img2 = ee.Algorithms.Landsat.simpleCloudScore(img2m_landsat)\n",
    "cloud_img2 = cloud_img2.select('cloud')"
   ]
  },
  {
   "cell_type": "code",
   "execution_count": 140,
   "id": "b6e99cd7",
   "metadata": {
    "ExecuteTime": {
     "end_time": "2022-02-07T18:15:58.190286Z",
     "start_time": "2022-02-07T18:15:58.188798Z"
    }
   },
   "outputs": [],
   "source": [
    "resultados= [cloud_img2, img2m]\n",
    "vis_params2=  [\n",
    "    {'palette':palette_nubes}, \n",
    "    vizParams]\n",
    "labels = [\n",
    "    'Nubes Mosaico 2',\n",
    "    'Mosaico 2']"
   ]
  },
  {
   "cell_type": "code",
   "execution_count": 141,
   "id": "472ab70a",
   "metadata": {
    "ExecuteTime": {
     "end_time": "2022-02-07T18:15:58.193120Z",
     "start_time": "2022-02-07T18:15:58.191083Z"
    }
   },
   "outputs": [],
   "source": [
    "def llenado3(image):\n",
    "    return image.where(cloud_img2.gt(10),Tier3_sn.median())"
   ]
  },
  {
   "cell_type": "code",
   "execution_count": 142,
   "id": "e8d70266",
   "metadata": {
    "ExecuteTime": {
     "end_time": "2022-02-07T18:15:58.195341Z",
     "start_time": "2022-02-07T18:15:58.193909Z"
    }
   },
   "outputs": [],
   "source": [
    "img3m = llenado3(img2m)"
   ]
  },
  {
   "cell_type": "code",
   "execution_count": 143,
   "id": "ed06e753",
   "metadata": {
    "ExecuteTime": {
     "end_time": "2022-02-07T18:15:58.197765Z",
     "start_time": "2022-02-07T18:15:58.196116Z"
    }
   },
   "outputs": [],
   "source": [
    "img3m_landsat = img3.set('SENSOR_ID', 'OLI_TIRS')\n",
    "cloud_img3 = ee.Algorithms.Landsat.simpleCloudScore(img3m_landsat)\n",
    "cloud_img3 = cloud_img3.select('cloud')"
   ]
  },
  {
   "cell_type": "code",
   "execution_count": 144,
   "id": "e42124da",
   "metadata": {
    "ExecuteTime": {
     "end_time": "2022-02-07T18:15:58.200013Z",
     "start_time": "2022-02-07T18:15:58.198436Z"
    }
   },
   "outputs": [],
   "source": [
    "resultados= [cloud_img3, img3m]\n",
    "vis_params2=  [\n",
    "    {'palette':palette_nubes}, \n",
    "    vizParams]\n",
    "labels = [\n",
    "    'Nubes Mosaico 3',\n",
    "    'Mosaico 3']"
   ]
  },
  {
   "cell_type": "code",
   "execution_count": 145,
   "id": "496d088f",
   "metadata": {
    "ExecuteTime": {
     "end_time": "2022-02-07T18:15:58.202148Z",
     "start_time": "2022-02-07T18:15:58.200699Z"
    }
   },
   "outputs": [],
   "source": [
    "def llenado4(image):\n",
    "    return image.where(cloud_img3.gt(10),Tier4_sn.median())"
   ]
  },
  {
   "cell_type": "code",
   "execution_count": 146,
   "id": "c40d71ef",
   "metadata": {
    "ExecuteTime": {
     "end_time": "2022-02-07T18:15:58.204611Z",
     "start_time": "2022-02-07T18:15:58.203073Z"
    }
   },
   "outputs": [],
   "source": [
    "img4m = llenado4(img3m)"
   ]
  },
  {
   "cell_type": "code",
   "execution_count": 147,
   "id": "f796f2ce",
   "metadata": {
    "ExecuteTime": {
     "end_time": "2022-02-07T18:15:58.207107Z",
     "start_time": "2022-02-07T18:15:58.205396Z"
    }
   },
   "outputs": [],
   "source": [
    "img4m_landsat = img4m.set('SENSOR_ID', 'OLI_TIRS')\n",
    "cloud_img4 = ee.Algorithms.Landsat.simpleCloudScore(img4m_landsat)\n",
    "cloud_img4 = cloud_img4.select('cloud')"
   ]
  },
  {
   "cell_type": "code",
   "execution_count": 148,
   "id": "37d6a3a6",
   "metadata": {
    "ExecuteTime": {
     "end_time": "2022-02-07T18:15:58.210113Z",
     "start_time": "2022-02-07T18:15:58.208072Z"
    }
   },
   "outputs": [],
   "source": [
    "resultados= [cloud_img4, img4m]\n",
    "vis_params2=  [\n",
    "    {'palette':palette_nubes}, \n",
    "    vizParams]\n",
    "labels = [\n",
    "    'Nubes Mosaico 4',\n",
    "    'Mosaico 4']"
   ]
  },
  {
   "cell_type": "code",
   "execution_count": 149,
   "id": "0903900c",
   "metadata": {
    "ExecuteTime": {
     "end_time": "2022-02-07T18:15:58.212461Z",
     "start_time": "2022-02-07T18:15:58.210919Z"
    }
   },
   "outputs": [],
   "source": [
    "hansenImage = ee.Image('UMD/hansen/global_forest_change_2015')\n",
    "datamask = hansenImage.select('datamask')"
   ]
  },
  {
   "cell_type": "code",
   "execution_count": 150,
   "id": "34a62dc7",
   "metadata": {
    "ExecuteTime": {
     "end_time": "2022-02-07T18:15:58.214693Z",
     "start_time": "2022-02-07T18:15:58.213195Z"
    }
   },
   "outputs": [],
   "source": [
    "def llenado5(image):\n",
    "    return image.where(datamask.eq(2), Tier1_sn.median())"
   ]
  },
  {
   "cell_type": "code",
   "execution_count": 151,
   "id": "52fe0c9d",
   "metadata": {
    "ExecuteTime": {
     "end_time": "2022-02-07T18:15:58.216871Z",
     "start_time": "2022-02-07T18:15:58.215445Z"
    }
   },
   "outputs": [],
   "source": [
    "img5m = llenado5(img4m)"
   ]
  },
  {
   "cell_type": "code",
   "execution_count": 152,
   "id": "1dc41650",
   "metadata": {
    "ExecuteTime": {
     "end_time": "2022-02-07T18:15:58.219099Z",
     "start_time": "2022-02-07T18:15:58.217645Z"
    }
   },
   "outputs": [],
   "source": [
    "img5m_landsat = img5m.set('SENSOR_ID', 'OLI_TIRS')"
   ]
  },
  {
   "cell_type": "code",
   "execution_count": 153,
   "id": "76e1793f",
   "metadata": {
    "ExecuteTime": {
     "end_time": "2022-02-07T18:15:58.221485Z",
     "start_time": "2022-02-07T18:15:58.219928Z"
    }
   },
   "outputs": [],
   "source": [
    "resultados= [img4m, img5m]\n",
    "labels = [\n",
    "    'Mosaico 4',\n",
    "    'Mosaico 5']\n",
    "vis_params3=  [\n",
    "     vizParams, \n",
    "    vizParams]"
   ]
  },
  {
   "cell_type": "code",
   "execution_count": 154,
   "id": "622f958f",
   "metadata": {
    "ExecuteTime": {
     "end_time": "2022-02-07T18:16:01.762325Z",
     "start_time": "2022-02-07T18:15:58.222259Z"
    }
   },
   "outputs": [
    {
     "data": {
      "application/vnd.jupyter.widget-view+json": {
       "model_id": "06498b0943374f31949d7d8921716451",
       "version_major": 2,
       "version_minor": 0
      },
      "text/plain": [
       "GridspecLayout(children=(Output(layout=Layout(grid_area='widget001')), Output(layout=Layout(grid_area='widget0…"
      ]
     },
     "metadata": {},
     "output_type": "display_data"
    }
   ],
   "source": [
    "geemap.linked_maps(rows=1, cols=2, height=\"400px\", center=[-45, -75], zoom=4, \n",
    "                   ee_objects=resultados, vis_params=vis_params3, labels=labels, label_position=\"topright\")"
   ]
  },
  {
   "cell_type": "markdown",
   "id": "30564ae6",
   "metadata": {},
   "source": [
    "### Resultado"
   ]
  },
  {
   "cell_type": "code",
   "execution_count": 155,
   "id": "78a80ba0",
   "metadata": {
    "ExecuteTime": {
     "end_time": "2022-02-07T18:16:05.250115Z",
     "start_time": "2022-02-07T18:16:01.763258Z"
    }
   },
   "outputs": [
    {
     "data": {
      "application/vnd.jupyter.widget-view+json": {
       "model_id": "f98a631e434748f7b7f4381f65547f50",
       "version_major": 2,
       "version_minor": 0
      },
      "text/plain": [
       "Map(center=[-45, -70], controls=(WidgetControl(options=['position', 'transparent_bg'], widget=HBox(children=(T…"
      ]
     },
     "metadata": {},
     "output_type": "display_data"
    }
   ],
   "source": [
    "Map11.addLayer(img4m, vizParams, 'Mosaico 4')\n",
    "Map11.addLayer(img5m, vizParams, 'Mosaico 5')\n",
    "Map11"
   ]
  },
  {
   "cell_type": "markdown",
   "id": "32614c9a",
   "metadata": {},
   "source": [
    "#### Fechas Mosaico"
   ]
  },
  {
   "cell_type": "code",
   "execution_count": 156,
   "id": "09c1607b",
   "metadata": {
    "ExecuteTime": {
     "end_time": "2022-02-07T18:16:05.252562Z",
     "start_time": "2022-02-07T18:16:05.250974Z"
    }
   },
   "outputs": [],
   "source": [
    "options = {\"title\": 'Fechas mosaico Med',\n",
    "          \"xlabel\": 'date',\n",
    "          \"ylabel\": 'Pixel count',\n",
    "          \"colors\": ['#1d6b99']\n",
    "          }"
   ]
  },
  {
   "cell_type": "code",
   "execution_count": 157,
   "id": "81973b83",
   "metadata": {
    "ExecuteTime": {
     "end_time": "2022-02-07T18:16:05.255600Z",
     "start_time": "2022-02-07T18:16:05.253342Z"
    }
   },
   "outputs": [],
   "source": [
    "muestram = (img5m.select('date')).sample(**{\n",
    "    'region': geometry_exp,\n",
    "    'scale': 30,\n",
    "    'numPixels':500,\n",
    "    'tileScale': 2,\n",
    "})"
   ]
  },
  {
   "cell_type": "code",
   "execution_count": 158,
   "id": "3767d2bf",
   "metadata": {
    "ExecuteTime": {
     "end_time": "2022-02-07T18:19:37.166870Z",
     "start_time": "2022-02-07T18:16:05.256293Z"
    }
   },
   "outputs": [
    {
     "data": {
      "application/vnd.jupyter.widget-view+json": {
       "model_id": "c9a72f6e93414f0fb7a4d6a1700b76cf",
       "version_major": 2,
       "version_minor": 0
      },
      "text/plain": [
       "VBox(children=(Figure(axes=[Axis(label='Pixel count', orientation='vertical', scale=LinearScale()), Axis(label…"
      ]
     },
     "metadata": {},
     "output_type": "display_data"
    }
   ],
   "source": [
    "chart.feature_histogram(muestram, property, **options)"
   ]
  },
  {
   "cell_type": "markdown",
   "id": "1aebd5eb",
   "metadata": {},
   "source": [
    "### Tasseled cap"
   ]
  },
  {
   "cell_type": "code",
   "execution_count": 159,
   "id": "2e5af562",
   "metadata": {
    "ExecuteTime": {
     "end_time": "2022-02-07T18:19:37.169379Z",
     "start_time": "2022-02-07T18:19:37.167645Z"
    }
   },
   "outputs": [],
   "source": [
    "tasse_img5m = img5m.select(['B2', 'B3', 'B4', 'B5', 'B6', 'B7'])"
   ]
  },
  {
   "cell_type": "code",
   "execution_count": 160,
   "id": "a8d152b7",
   "metadata": {
    "ExecuteTime": {
     "end_time": "2022-02-07T18:19:37.172151Z",
     "start_time": "2022-02-07T18:19:37.170102Z"
    }
   },
   "outputs": [],
   "source": [
    "arrayimage1dm = tasse_img5m.toArray()"
   ]
  },
  {
   "cell_type": "code",
   "execution_count": 161,
   "id": "c15b3355",
   "metadata": {
    "ExecuteTime": {
     "end_time": "2022-02-07T18:19:37.174379Z",
     "start_time": "2022-02-07T18:19:37.172932Z"
    }
   },
   "outputs": [],
   "source": [
    "arrayimage2dm = arrayimage1dm.toArray(1)"
   ]
  },
  {
   "cell_type": "code",
   "execution_count": 162,
   "id": "a0a5dcce",
   "metadata": {
    "ExecuteTime": {
     "end_time": "2022-02-07T18:19:37.176726Z",
     "start_time": "2022-02-07T18:19:37.175024Z"
    }
   },
   "outputs": [],
   "source": [
    "componentesm = ee.Image(coef)\\\n",
    "                .matrixMultiply(arrayimage2dm) \\\n",
    "                .arrayProject([0])\\\n",
    "                .arrayFlatten(\n",
    "                [['brightness','greenness','wetness','fourth','fifth','sixth']])"
   ]
  },
  {
   "cell_type": "code",
   "execution_count": 163,
   "id": "15b3890e",
   "metadata": {
    "ExecuteTime": {
     "end_time": "2022-02-07T18:19:39.031477Z",
     "start_time": "2022-02-07T18:19:37.177480Z"
    }
   },
   "outputs": [
    {
     "data": {
      "application/vnd.jupyter.widget-view+json": {
       "model_id": "f98a631e434748f7b7f4381f65547f50",
       "version_major": 2,
       "version_minor": 0
      },
      "text/plain": [
       "Map(center=[-45, -70], controls=(WidgetControl(options=['position', 'transparent_bg'], widget=HBox(children=(T…"
      ]
     },
     "metadata": {},
     "output_type": "display_data"
    }
   ],
   "source": [
    "Map11.addLayer(componentesm,vizParamstess, 'Tesseled cap')\n",
    "Map11"
   ]
  },
  {
   "cell_type": "markdown",
   "id": "b466df41",
   "metadata": {},
   "source": [
    "### Combinación de bandas"
   ]
  },
  {
   "cell_type": "code",
   "execution_count": 164,
   "id": "2dd4089f",
   "metadata": {
    "ExecuteTime": {
     "end_time": "2022-02-07T18:19:39.034189Z",
     "start_time": "2022-02-07T18:19:39.032542Z"
    }
   },
   "outputs": [],
   "source": [
    "img_final_m = img5m.select('B1','B2','B3','B4','B5','B6','B7','NDVI','NDWI','NDGI','SAVI','NDSI','NDBI','EVI')\n",
    "img_final_m = img_final_m.addBands(componentesm) "
   ]
  },
  {
   "cell_type": "markdown",
   "id": "1e872319",
   "metadata": {},
   "source": [
    "## Clasificación"
   ]
  },
  {
   "cell_type": "code",
   "execution_count": 165,
   "id": "8093616d",
   "metadata": {
    "ExecuteTime": {
     "end_time": "2022-02-07T18:19:48.189426Z",
     "start_time": "2022-02-07T18:19:39.034997Z"
    }
   },
   "outputs": [],
   "source": [
    "test1 = os.path.join(work_dir,'roi_2.shp')\n",
    "test1 = geemap.shp_to_ee(test1)\n",
    "Map13.addLayer(test1, {}, 'Áreas de entrenamiento')"
   ]
  },
  {
   "cell_type": "code",
   "execution_count": 166,
   "id": "c266e87a",
   "metadata": {
    "ExecuteTime": {
     "end_time": "2022-02-07T18:19:48.194710Z",
     "start_time": "2022-02-07T18:19:48.190328Z"
    }
   },
   "outputs": [
    {
     "data": {
      "application/vnd.jupyter.widget-view+json": {
       "model_id": "0bf16371e3324c359089c8f4bc454bd9",
       "version_major": 2,
       "version_minor": 0
      },
      "text/plain": [
       "Map(center=[-45, -70], controls=(WidgetControl(options=['position', 'transparent_bg'], widget=HBox(children=(T…"
      ]
     },
     "metadata": {},
     "output_type": "display_data"
    }
   ],
   "source": [
    "Map13"
   ]
  },
  {
   "cell_type": "code",
   "execution_count": 167,
   "id": "613b1401",
   "metadata": {
    "ExecuteTime": {
     "end_time": "2022-02-07T18:19:48.197305Z",
     "start_time": "2022-02-07T18:19:48.195553Z"
    }
   },
   "outputs": [],
   "source": [
    "data_QM = img_final.sampleRegions(**{\n",
    "    'collection': test1,\n",
    "    'properties': ['C_ID'],\n",
    "    'scale': 30,\n",
    "    'tileScale': 2,\n",
    "})"
   ]
  },
  {
   "cell_type": "code",
   "execution_count": 168,
   "id": "35ec1522",
   "metadata": {
    "ExecuteTime": {
     "end_time": "2022-02-07T18:19:48.199817Z",
     "start_time": "2022-02-07T18:19:48.198003Z"
    }
   },
   "outputs": [],
   "source": [
    "data_Med = img_final_m.sampleRegions(**{\n",
    "    'collection': test1,\n",
    "    'properties': ['C_ID'],\n",
    "    'scale': 30,\n",
    "    'tileScale': 2,\n",
    "})"
   ]
  },
  {
   "cell_type": "code",
   "execution_count": 169,
   "id": "0be21169",
   "metadata": {
    "ExecuteTime": {
     "end_time": "2022-02-07T18:19:48.202185Z",
     "start_time": "2022-02-07T18:19:48.200700Z"
    }
   },
   "outputs": [],
   "source": [
    "# print(test_data.size().getInfo())"
   ]
  },
  {
   "cell_type": "code",
   "execution_count": 170,
   "id": "0cdba8cd",
   "metadata": {
    "ExecuteTime": {
     "end_time": "2022-02-07T18:19:48.204525Z",
     "start_time": "2022-02-07T18:19:48.203010Z"
    }
   },
   "outputs": [],
   "source": [
    "# print(test_data.first().getInfo())"
   ]
  },
  {
   "cell_type": "markdown",
   "id": "65efc69f",
   "metadata": {},
   "source": [
    "### Muestras y datos de validación"
   ]
  },
  {
   "cell_type": "code",
   "execution_count": 171,
   "id": "9f4082a9",
   "metadata": {
    "ExecuteTime": {
     "end_time": "2022-02-07T18:19:48.208333Z",
     "start_time": "2022-02-07T18:19:48.205499Z"
    }
   },
   "outputs": [],
   "source": [
    "# Guardamos las bandas\n",
    "\n",
    "# Esta propiedad guarda las clases de landcover\n",
    "# label = 'b1'\n",
    "label = 'IDH'\n",
    "label1 = 'ID'\n",
    "label_train ='C_ID'\n",
    "# Overlay the points on the imagery to get training.\n",
    "# sample = landsat.select(bands).sampleRegions(**{\n",
    "#   'collection': points,\n",
    "#   'properties': [label],\n",
    "#   'scale': 30\n",
    "# })\n",
    "\n",
    "# # Adds a column of deterministic pseudorandom numbers. \n",
    "# sample = sample.randomColumn()\n",
    "\n",
    "# split = 0.7 \n",
    "\n",
    "# training = sample.filter(ee.Filter.lt('random', split))\n",
    "# validation = sample.filter(ee.Filter.gte('random', split))\n",
    "bands = ['B1',\n",
    " 'B2',\n",
    " 'B3',\n",
    " 'B4',\n",
    " 'B5',\n",
    " 'B6',\n",
    " 'B7',\n",
    " 'NDVI',\n",
    " 'NDWI',\n",
    " 'NDGI',\n",
    " 'SAVI',\n",
    " 'NDSI',\n",
    " 'EVI',\n",
    " 'brightness',\n",
    " 'greenness',\n",
    " 'wetness',\n",
    " 'fourth',\n",
    " 'fifth',\n",
    " 'sixth'\n",
    "]\n",
    "bands2 = ['B1',\n",
    " 'B2',\n",
    " 'B3',\n",
    " 'B4',\n",
    " 'B5',\n",
    " 'B6',\n",
    " 'B7',\n",
    " 'NDVI',\n",
    " 'NDWI',\n",
    " 'NDGI',\n",
    " 'SAVI',\n",
    " 'NDSI',\n",
    "]\n",
    "bands1 = ['B1',\n",
    " 'B2',\n",
    " 'B3',\n",
    " 'B4',\n",
    " 'B5',\n",
    " 'B6',\n",
    " 'B7',\n",
    " 'B8',\n",
    " 'B9',\n",
    " 'B10',\n",
    " 'B11']"
   ]
  },
  {
   "cell_type": "markdown",
   "id": "bb2b3b9b",
   "metadata": {},
   "source": [
    "### Entrenando el modelo"
   ]
  },
  {
   "cell_type": "code",
   "execution_count": 172,
   "id": "d2eab14d",
   "metadata": {
    "ExecuteTime": {
     "end_time": "2022-02-07T18:19:48.210862Z",
     "start_time": "2022-02-07T18:19:48.209153Z"
    }
   },
   "outputs": [],
   "source": [
    "classifier_QM = ee.Classifier.smileRandomForest(100).train(data_QM,label_train,bands)"
   ]
  },
  {
   "cell_type": "code",
   "execution_count": 173,
   "id": "9a0dbf8e",
   "metadata": {
    "ExecuteTime": {
     "end_time": "2022-02-07T18:19:48.213363Z",
     "start_time": "2022-02-07T18:19:48.211804Z"
    }
   },
   "outputs": [],
   "source": [
    "classifier_Med = ee.Classifier.smileRandomForest(100).train(data_Med,label_train,bands)"
   ]
  },
  {
   "cell_type": "code",
   "execution_count": 174,
   "id": "effbf7b9",
   "metadata": {
    "ExecuteTime": {
     "end_time": "2022-02-07T18:19:48.215627Z",
     "start_time": "2022-02-07T18:19:48.214105Z"
    }
   },
   "outputs": [],
   "source": [
    "result_QM = img_final.select(bands).classify(classifier_QM)"
   ]
  },
  {
   "cell_type": "code",
   "execution_count": 175,
   "id": "dccc1b73",
   "metadata": {
    "ExecuteTime": {
     "end_time": "2022-02-07T18:19:48.217962Z",
     "start_time": "2022-02-07T18:19:48.216403Z"
    }
   },
   "outputs": [],
   "source": [
    "result_Med = img_final_m.select(bands).classify(classifier_Med)"
   ]
  },
  {
   "cell_type": "markdown",
   "id": "7df7206f",
   "metadata": {},
   "source": [
    "### Categorizando"
   ]
  },
  {
   "cell_type": "code",
   "execution_count": 176,
   "id": "997c3cbf",
   "metadata": {
    "ExecuteTime": {
     "end_time": "2022-02-07T18:19:48.221568Z",
     "start_time": "2022-02-07T18:19:48.218756Z"
    }
   },
   "outputs": [],
   "source": [
    "class_values2 = [1,2,3,4,5,6,7,8,9,10,11,12,13,14,15,16,17,19,20,23,30,31,32,33,34,35,36,39,40,43,45,47,48,57,58,60]\n",
    "\n",
    "class_palette2 = ['d1fbff', # 1 Hielo\n",
    " 'bfdadd', #2 lengua glaciar\n",
    " 'b9bfbf', #3 glaciar cubierto\n",
    " 'fe40fe', #4 nieve\n",
    " '8ac1ff', #5 fiordo glaciar\n",
    " '0c407b', #6 mar\n",
    " '2e8da0', #7 lago continental\n",
    " '16b2d1', #8 lago glaciar\n",
    " '27e1d8', #9 río\n",
    " 'eeb514', #10 suelo desnudo\n",
    " '927012', #11 cárcavas erosión \n",
    " 'e98c0f', #12 suelo río\n",
    " 'f7e8bd', #13 suelo duna/arenal\n",
    " '5b5b5b', #14 caminos\n",
    " 'e57104', #15 suelo desnudo / poca vegetación\n",
    " '5d1412', #16 tuberas / musgos\n",
    " '5d1412', #17 mallín                 \n",
    " '161163', #19 áreas inundables\n",
    " 'fff300', #20 plantación adulto\n",
    " 'ff0000', #23 ciudad urbano\n",
    " 'dee842', #30 praderas pastoreo             \n",
    " 'ced118', #31 estepa abierta\n",
    " '7a7c0f', #32 estepa cerrada\n",
    " 'c39700', #33 palizales\n",
    " 'a1ff8a', #34 preaderas\n",
    " '138665', #35 matorrales densos\n",
    " '1bbd8e', #36 matorrales abiertos\n",
    " '195a09', #39 primario adulto\n",
    " '27c41d', #40 secundario adulto\n",
    " 'b2ff00', #43 renoval inicial\n",
    " 'f36605', #45 degradado\n",
    " '7729db', #47 Primario adulto caduco\n",
    " '9e60ec', #48 Secundario adulto caduco\n",
    " '7000ff', #57 Mixto Primario\n",
    " 'c598ff', #58 Mixto secundario\n",
    " '00ff87', #60 Coníferas nativas\n",
    "]"
   ]
  },
  {
   "cell_type": "code",
   "execution_count": 177,
   "id": "d1ed6e92",
   "metadata": {
    "ExecuteTime": {
     "end_time": "2022-02-07T18:19:48.224051Z",
     "start_time": "2022-02-07T18:19:48.222308Z"
    }
   },
   "outputs": [],
   "source": [
    "landcover_QM = result_QM.set('classification_class_values', class_values2)\n",
    "landcover_QM = landcover_QM.set('classification_class_palette',class_palette2)"
   ]
  },
  {
   "cell_type": "code",
   "execution_count": 178,
   "id": "40c97470",
   "metadata": {
    "ExecuteTime": {
     "end_time": "2022-02-07T18:19:48.226433Z",
     "start_time": "2022-02-07T18:19:48.224824Z"
    }
   },
   "outputs": [],
   "source": [
    "landcover_Med = result_Med.set('classification_class_values', class_values2)\n",
    "landcover_Med = landcover_Med.set('classification_class_palette',class_palette2)"
   ]
  },
  {
   "cell_type": "code",
   "execution_count": 179,
   "id": "11e0ee3e",
   "metadata": {
    "ExecuteTime": {
     "end_time": "2022-02-07T18:23:21.773108Z",
     "start_time": "2022-02-07T18:19:48.227232Z"
    }
   },
   "outputs": [],
   "source": [
    "Map14.addLayer(landcover_QM,{}, 'Land cover RF-QM' )\n",
    "Map14.addLayer(landcover_Med,{}, 'Land cover RF-Mediana')"
   ]
  },
  {
   "cell_type": "code",
   "execution_count": 180,
   "id": "882a5f91",
   "metadata": {
    "ExecuteTime": {
     "end_time": "2022-02-07T18:23:21.776323Z",
     "start_time": "2022-02-07T18:23:21.774030Z"
    }
   },
   "outputs": [
    {
     "data": {
      "text/plain": [
       "ee.image.Image"
      ]
     },
     "execution_count": 180,
     "metadata": {},
     "output_type": "execute_result"
    }
   ],
   "source": [
    "type(landcover_QM)"
   ]
  },
  {
   "cell_type": "markdown",
   "id": "d3ac6dae",
   "metadata": {},
   "source": [
    "#### Mapas"
   ]
  },
  {
   "cell_type": "code",
   "execution_count": 181,
   "id": "5065e0ff",
   "metadata": {
    "ExecuteTime": {
     "end_time": "2022-02-07T18:23:21.778818Z",
     "start_time": "2022-02-07T18:23:21.777179Z"
    }
   },
   "outputs": [],
   "source": [
    "NDVI_mosaico=img5.select('NDVI')"
   ]
  },
  {
   "cell_type": "code",
   "execution_count": 182,
   "id": "6c63b15a",
   "metadata": {
    "ExecuteTime": {
     "end_time": "2022-02-07T18:23:21.780994Z",
     "start_time": "2022-02-07T18:23:21.779633Z"
    }
   },
   "outputs": [],
   "source": [
    "vizNDVI =['#FF5733','#0cf5f5','#d89000','#039001','#003804']"
   ]
  },
  {
   "cell_type": "code",
   "execution_count": 183,
   "id": "e5d42f45",
   "metadata": {
    "ExecuteTime": {
     "end_time": "2022-02-07T18:23:23.297545Z",
     "start_time": "2022-02-07T18:23:21.781728Z"
    }
   },
   "outputs": [
    {
     "data": {
      "application/vnd.jupyter.widget-view+json": {
       "model_id": "65c79325afd24c969c4ac1e030e2e8db",
       "version_major": 2,
       "version_minor": 0
      },
      "text/plain": [
       "Map(center=[-45, -70], controls=(WidgetControl(options=['position', 'transparent_bg'], widget=HBox(children=(T…"
      ]
     },
     "metadata": {},
     "output_type": "display_data"
    }
   ],
   "source": [
    "Map16.addLayer(NDVI_mosaico, {'palette':vizNDVI} ,'NDVI Mosaico 2021' )\n",
    "Map16"
   ]
  },
  {
   "cell_type": "code",
   "execution_count": 184,
   "id": "53d31ef4",
   "metadata": {
    "ExecuteTime": {
     "end_time": "2022-02-07T18:23:26.565138Z",
     "start_time": "2022-02-07T18:23:23.298291Z"
    }
   },
   "outputs": [
    {
     "data": {
      "application/vnd.jupyter.widget-view+json": {
       "model_id": "23bf453d2fca49188ae67a433d7349c4",
       "version_major": 2,
       "version_minor": 0
      },
      "text/plain": [
       "Map(center=[-45, -70], controls=(WidgetControl(options=['position', 'transparent_bg'], widget=HBox(children=(T…"
      ]
     },
     "metadata": {},
     "output_type": "display_data"
    }
   ],
   "source": [
    "legend_dict = {\n",
    "    '01 Hielo': 'd1fbff',\n",
    "    '02 lengua glaciar': 'bfdadd',\n",
    "    '03 glaciar cubierto': 'b9bfbf',\n",
    "    '04 nieve': 'fe40fe',\n",
    "    '05 fiordo glaciar': '8ac1ff',\n",
    "    '06 mar': '0c407b',\n",
    "    '07 lago continental': '2e8da0',\n",
    "    '08 lago glaciar': '16b2d1',\n",
    "    '09 río': '27e1d8',\n",
    "    '10 suelo desnudo': 'eeb514',\n",
    "    '11 cárcavas erosión': '927012',\n",
    "    '12 suelo río': 'e98c0f',\n",
    "    '13 suelo duna/arenal': 'f7e8bd',\n",
    "    '14 caminos': '5b5b5b',\n",
    "    '15 suelo denudo': 'e57104',\n",
    "    '16 tuberas / musgos': '5d1412',\n",
    "    '17 mallín': '5d1412',\n",
    "    '19 áreas inundables':'161163', \n",
    "    '20 plantación adulto': 'fff300',\n",
    "    '23 ciudad urbano': 'ff0000',\n",
    "    '28 frutales':'d4e794',\n",
    "    '30 praderas pastoreo':'dee842', \n",
    "    '31 estepa abierta': 'ced118',\n",
    "    '32 estepa cerrada': '7a7c0f',\n",
    "    '33 palizales': 'c39700',\n",
    "    '34 preaderas': 'a1ff8a',\n",
    "    '35 matorrales densos': '138665',\n",
    "    '36 matorrales abiertos': '1bbd8e',\n",
    "    '39 primario adulto': '195a09',\n",
    "    '40 secundario adulto': '27c41d',\n",
    "    '43 renoval inicial': 'b2ff00',\n",
    "    '45 degradado': 'f36605',\n",
    "    '47 Primario adulto caduco':'7729db',\n",
    "    '48 Secundario adulto caduco': '9e60ec',\n",
    "    '56 sombra': '000000',\n",
    "    '57 Mixto Primario': '7000ff', \n",
    "    '58 Mixto secundario':'c598ff',\n",
    "    '60 Coníferas nativas': '00ff87',\n",
    "}\n",
    "\n",
    "Map14.add_legend(legend_title=\"Random Forest Test\", legend_dict=legend_dict)\n",
    "Map14.addLayer(img5,vizParams, 'Mosaico 2021' )\n",
    "Map14.addLayer(componentes,vizParamstess, 'Tesseled cap')\n",
    "Map14"
   ]
  },
  {
   "cell_type": "markdown",
   "id": "69b97f23",
   "metadata": {},
   "source": [
    "#### Comparación"
   ]
  },
  {
   "cell_type": "code",
   "execution_count": 185,
   "id": "a66648b3",
   "metadata": {
    "ExecuteTime": {
     "end_time": "2022-02-07T18:23:26.567627Z",
     "start_time": "2022-02-07T18:23:26.565861Z"
    }
   },
   "outputs": [],
   "source": [
    "comp1= [img5, img5m]\n",
    "labels = [\n",
    "    'Mosaico QM',\n",
    "    'Mosaico Med']\n",
    "vis_params3=  [\n",
    "     vizParams, \n",
    "    vizParams]"
   ]
  },
  {
   "cell_type": "code",
   "execution_count": 186,
   "id": "0a240656",
   "metadata": {
    "ExecuteTime": {
     "end_time": "2022-02-07T18:23:30.217359Z",
     "start_time": "2022-02-07T18:23:26.568231Z"
    }
   },
   "outputs": [
    {
     "data": {
      "application/vnd.jupyter.widget-view+json": {
       "model_id": "e6f6dc9cbe954925b7e6c5663ef39b5f",
       "version_major": 2,
       "version_minor": 0
      },
      "text/plain": [
       "GridspecLayout(children=(Output(layout=Layout(grid_area='widget001')), Output(layout=Layout(grid_area='widget0…"
      ]
     },
     "metadata": {},
     "output_type": "display_data"
    }
   ],
   "source": [
    "geemap.linked_maps(rows=1, cols=2, height=\"900px\", center=[-45, -75], zoom=4, \n",
    "                   ee_objects=comp1, vis_params=vis_params3, labels=labels, label_position=\"topright\")"
   ]
  },
  {
   "cell_type": "code",
   "execution_count": 187,
   "id": "96a55fc7",
   "metadata": {
    "ExecuteTime": {
     "end_time": "2022-02-07T18:23:30.220101Z",
     "start_time": "2022-02-07T18:23:30.218234Z"
    }
   },
   "outputs": [],
   "source": [
    "comp2= [landcover_QM,landcover_Med]\n",
    "labels = [\n",
    "    'Landcover QM',\n",
    "    'Landcover Med']\n",
    "vis_params4=  [\n",
    "     {}, \n",
    "     {}]"
   ]
  },
  {
   "cell_type": "code",
   "execution_count": 188,
   "id": "1c07ad91",
   "metadata": {
    "ExecuteTime": {
     "end_time": "2022-02-07T18:23:50.169600Z",
     "start_time": "2022-02-07T18:23:30.220794Z"
    }
   },
   "outputs": [
    {
     "data": {
      "application/vnd.jupyter.widget-view+json": {
       "model_id": "602e962c2c7d4de4b8d8559451eeb9f6",
       "version_major": 2,
       "version_minor": 0
      },
      "text/plain": [
       "GridspecLayout(children=(Output(layout=Layout(grid_area='widget001')), Output(layout=Layout(grid_area='widget0…"
      ]
     },
     "metadata": {},
     "output_type": "display_data"
    }
   ],
   "source": [
    "geemap.linked_maps(rows=1, cols=2, height=\"900px\", center=[-45, -75], zoom=4, \n",
    "                   ee_objects=comp2, vis_params=vis_params4, labels=labels, label_position=\"topright\")"
   ]
  },
  {
   "cell_type": "markdown",
   "id": "e80b449e",
   "metadata": {},
   "source": [
    "### Exportando"
   ]
  },
  {
   "cell_type": "code",
   "execution_count": 189,
   "id": "f61a3d7d",
   "metadata": {
    "ExecuteTime": {
     "end_time": "2022-02-07T18:23:50.172069Z",
     "start_time": "2022-02-07T18:23:50.170363Z"
    }
   },
   "outputs": [],
   "source": [
    "transf=ee.Array([30, 0, 214185, 0, -30, -4825185])"
   ]
  },
  {
   "cell_type": "code",
   "execution_count": 190,
   "id": "4c4da7ae",
   "metadata": {
    "ExecuteTime": {
     "end_time": "2022-02-07T18:23:50.467190Z",
     "start_time": "2022-02-07T18:23:50.172684Z"
    }
   },
   "outputs": [
    {
     "data": {
      "text/plain": [
       "[30, 0, 214185, 0, -30, -4825185]"
      ]
     },
     "execution_count": 190,
     "metadata": {},
     "output_type": "execute_result"
    }
   ],
   "source": [
    "transf.getInfo()"
   ]
  },
  {
   "cell_type": "code",
   "execution_count": 191,
   "id": "cceda41f",
   "metadata": {
    "ExecuteTime": {
     "end_time": "2022-02-07T18:23:50.470358Z",
     "start_time": "2022-02-07T18:23:50.467976Z"
    }
   },
   "outputs": [],
   "source": [
    "img5_B1 = img5.select(\"B1\")\n",
    "img5_B2 = img5.select(\"B2\")\n",
    "img5_B3 = img5.select(\"B3\")\n",
    "img5_B4 = img5.select(\"B4\")\n",
    "img5_B5 = img5.select(\"B5\")\n",
    "img5_B6 = img5.select(\"B6\")\n",
    "img5_B7 = img5.select(\"B7\")"
   ]
  },
  {
   "cell_type": "code",
   "execution_count": 192,
   "id": "6e762547",
   "metadata": {
    "ExecuteTime": {
     "end_time": "2022-02-07T18:23:50.473205Z",
     "start_time": "2022-02-07T18:23:50.471137Z"
    }
   },
   "outputs": [],
   "source": [
    "img5_B1m = img5m.select(\"B1\")\n",
    "img5_B2m = img5m.select(\"B2\")\n",
    "img5_B3m = img5m.select(\"B3\")\n",
    "img5_B4m = img5m.select(\"B4\")\n",
    "img5_B5m = img5m.select(\"B5\")\n",
    "img5_B6m = img5m.select(\"B6\")\n",
    "img5_B7m = img5m.select(\"B7\")"
   ]
  },
  {
   "cell_type": "code",
   "execution_count": 193,
   "id": "5bf824d7",
   "metadata": {
    "ExecuteTime": {
     "end_time": "2022-02-07T18:23:50.479400Z",
     "start_time": "2022-02-07T18:23:50.474062Z"
    }
   },
   "outputs": [],
   "source": [
    "task1 = ee.batch.Export.image.toDrive(**{\n",
    "    'image': img5_B1,\n",
    "    'description':'B1',\n",
    "    'folder':'exp2021_19s_full',\n",
    "    'region': geometry_exp.bounds(),\n",
    "    'scale':30,\n",
    "    'crsTransform':[30, 0, 214185, 0, -30, -4825185], \n",
    "    'crs':'EPSG:32719',\n",
    "    'maxPixels':1e13\n",
    "})\n",
    "task2 = ee.batch.Export.image.toDrive(**{\n",
    "    'image': img5_B2,\n",
    "    'description':'B2',\n",
    "    'folder':'exp2021_19s_full',\n",
    "    'region': geometry_exp.bounds(),\n",
    "    'scale':30,\n",
    "    'crsTransform':[30, 0, 214185, 0, -30, -4825185], \n",
    "    'crs':'EPSG:32719',\n",
    "    'maxPixels':1e13\n",
    "})\n",
    "task3 = ee.batch.Export.image.toDrive(**{\n",
    "    'image': img5_B3,\n",
    "    'description':'B3',\n",
    "    'folder':'exp2021_19s_full',\n",
    "    'region': geometry_exp.bounds(),\n",
    "    'scale':30,\n",
    "    'crsTransform':[30, 0, 214185, 0, -30, -4825185], \n",
    "    'crs':'EPSG:32719',\n",
    "    'maxPixels':1e13\n",
    "})\n",
    "task4 = ee.batch.Export.image.toDrive(**{\n",
    "    'image': img5_B4,\n",
    "    'description':'B4',\n",
    "    'folder':'exp2021_19s_full',\n",
    "    'region': geometry_exp.bounds(),\n",
    "    'scale':30,\n",
    "    'crsTransform':[30, 0, 214185, 0, -30, -4825185], \n",
    "    'crs':'EPSG:32719',\n",
    "    'maxPixels':1e13\n",
    "})\n",
    "task5 = ee.batch.Export.image.toDrive(**{\n",
    "    'image': img5_B5,\n",
    "    'description':'B5',\n",
    "    'folder':'exp2021_19s_full',\n",
    "    'region': geometry_exp.bounds(),\n",
    "    'scale':30,\n",
    "    'crsTransform':[30, 0, 214185, 0, -30, -4825185], \n",
    "    'crs':'EPSG:32719',\n",
    "    'maxPixels':1e13\n",
    "})\n",
    "task6 = ee.batch.Export.image.toDrive(**{\n",
    "    'image': img5_B6,\n",
    "    'description':'B6',\n",
    "    'folder':'exp2021_19s_full',\n",
    "    'region': geometry_exp.bounds(),\n",
    "    'scale':30,\n",
    "    'crsTransform':[30, 0, 214185, 0, -30, -4825185], \n",
    "    'crs':'EPSG:32719',\n",
    "    'maxPixels':1e13\n",
    "})\n",
    "task7 = ee.batch.Export.image.toDrive(**{\n",
    "    'image': img5_B7,\n",
    "    'description':'B7',\n",
    "    'folder':'exp2021_19s_full',\n",
    "    'region': geometry_exp.bounds(),\n",
    "    'scale':30,\n",
    "    'crsTransform':[30, 0, 214185, 0, -30, -4825185], \n",
    "    'crs':'EPSG:32719',\n",
    "    'maxPixels':1e13\n",
    "})"
   ]
  },
  {
   "cell_type": "code",
   "execution_count": 194,
   "id": "77e30b2b",
   "metadata": {
    "ExecuteTime": {
     "end_time": "2022-02-07T18:23:50.490331Z",
     "start_time": "2022-02-07T18:23:50.484998Z"
    }
   },
   "outputs": [],
   "source": [
    "task1m = ee.batch.Export.image.toDrive(**{\n",
    "    'image': img5_B1m,\n",
    "    'description':'B1',\n",
    "    'folder':'exp2021_19s_full_m',\n",
    "    'region': geometry_exp.bounds(),\n",
    "    'scale':30,\n",
    "    'crsTransform':[30, 0, 214185, 0, -30, -4825185], \n",
    "    'crs':'EPSG:32719',\n",
    "    'maxPixels':1e13\n",
    "})\n",
    "task2m = ee.batch.Export.image.toDrive(**{\n",
    "    'image': img5_B2m,\n",
    "    'description':'B2',\n",
    "    'folder':'exp2021_19s_full_m',\n",
    "    'region': geometry_exp.bounds(),\n",
    "    'scale':30,\n",
    "    'crsTransform':[30, 0, 214185, 0, -30, -4825185], \n",
    "    'crs':'EPSG:32719',\n",
    "    'maxPixels':1e13\n",
    "})\n",
    "task3m = ee.batch.Export.image.toDrive(**{\n",
    "    'image': img5_B3m,\n",
    "    'description':'B3',\n",
    "    'folder':'exp2021_19s_full_m',\n",
    "    'region': geometry_exp.bounds(),\n",
    "    'scale':30,\n",
    "    'crsTransform':[30, 0, 214185, 0, -30, -4825185], \n",
    "    'crs':'EPSG:32719',\n",
    "    'maxPixels':1e13\n",
    "})\n",
    "task4m = ee.batch.Export.image.toDrive(**{\n",
    "    'image': img5_B4m,\n",
    "    'description':'B4',\n",
    "    'folder':'exp2021_19s_full_m',\n",
    "    'region': geometry_exp.bounds(),\n",
    "    'scale':30,\n",
    "    'crsTransform':[30, 0, 214185, 0, -30, -4825185], \n",
    "    'crs':'EPSG:32719',\n",
    "    'maxPixels':1e13\n",
    "})\n",
    "task5m = ee.batch.Export.image.toDrive(**{\n",
    "    'image': img5_B5m,\n",
    "    'description':'B5',\n",
    "    'folder':'exp2021_19s_full_m',\n",
    "    'region': geometry_exp.bounds(),\n",
    "    'scale':30,\n",
    "    'crsTransform':[30, 0, 214185, 0, -30, -4825185], \n",
    "    'crs':'EPSG:32719',\n",
    "    'maxPixels':1e13\n",
    "})\n",
    "task6m = ee.batch.Export.image.toDrive(**{\n",
    "    'image': img5_B6m,\n",
    "    'description':'B6',\n",
    "    'folder':'exp2021_19s_full_m',\n",
    "    'region': geometry_exp.bounds(),\n",
    "    'scale':30,\n",
    "    'crsTransform':[30, 0, 214185, 0, -30, -4825185], \n",
    "    'crs':'EPSG:32719',\n",
    "    'maxPixels':1e13\n",
    "})\n",
    "task7m = ee.batch.Export.image.toDrive(**{\n",
    "    'image': img5_B7m,\n",
    "    'description':'B7',\n",
    "    'folder':'exp2021_19s_full_m',\n",
    "    'region': geometry_exp.bounds(),\n",
    "    'scale':30,\n",
    "    'crsTransform':[30, 0, 214185, 0, -30, -4825185], \n",
    "    'crs':'EPSG:32719',\n",
    "    'maxPixels':1e13\n",
    "})"
   ]
  },
  {
   "cell_type": "code",
   "execution_count": 195,
   "id": "dfee8042",
   "metadata": {
    "ExecuteTime": {
     "end_time": "2022-02-07T18:23:50.492546Z",
     "start_time": "2022-02-07T18:23:50.491191Z"
    }
   },
   "outputs": [],
   "source": [
    "# task1.start()\n",
    "# task2.start()\n",
    "# task3.start()\n",
    "# task4.start()\n",
    "# task5.start()\n",
    "# task6.start()\n",
    "# task7.start()"
   ]
  },
  {
   "cell_type": "code",
   "execution_count": 196,
   "id": "3bcd3268",
   "metadata": {
    "ExecuteTime": {
     "end_time": "2022-02-07T18:23:50.494650Z",
     "start_time": "2022-02-07T18:23:50.493306Z"
    }
   },
   "outputs": [],
   "source": [
    "# task1m.start()\n",
    "# task2m.start()\n",
    "# task3m.start()\n",
    "# task4m.start()\n",
    "# task5m.start()\n",
    "# task6m.start()\n",
    "# task7m.start()"
   ]
  },
  {
   "cell_type": "code",
   "execution_count": 197,
   "id": "0633aa27",
   "metadata": {
    "ExecuteTime": {
     "end_time": "2022-02-07T18:23:50.497064Z",
     "start_time": "2022-02-07T18:23:50.495406Z"
    }
   },
   "outputs": [],
   "source": [
    "brillo = componentes.select('brightness')\n",
    "greenness = componentes.select('greenness')\n",
    "wetness = componentes.select('wetness')\n",
    "# ['brightness','greenness','wetness','fourth','fifth','sixth']"
   ]
  },
  {
   "cell_type": "code",
   "execution_count": 198,
   "id": "ecae7a62",
   "metadata": {
    "ExecuteTime": {
     "end_time": "2022-02-07T18:23:50.499490Z",
     "start_time": "2022-02-07T18:23:50.497871Z"
    }
   },
   "outputs": [],
   "source": [
    "brillom = componentesm.select('brightness')\n",
    "greennessm = componentesm.select('greenness')\n",
    "wetnessm = componentesm.select('wetness')"
   ]
  },
  {
   "cell_type": "code",
   "execution_count": 199,
   "id": "5cc31766",
   "metadata": {
    "ExecuteTime": {
     "end_time": "2022-02-07T18:23:50.503561Z",
     "start_time": "2022-02-07T18:23:50.500249Z"
    }
   },
   "outputs": [],
   "source": [
    "task8 = ee.batch.Export.image.toDrive(**{\n",
    "    'image': brillo,\n",
    "    'description':'brillo',\n",
    "    'folder':'exp2021_19s_full',\n",
    "    'region': geometry_exp.bounds(),\n",
    "    'scale':30,\n",
    "    'crsTransform':[30, 0, 214185, 0, -30, -4825185], \n",
    "    'crs':'EPSG:32719',\n",
    "    'maxPixels':1e13\n",
    "})\n",
    "task9 = ee.batch.Export.image.toDrive(**{\n",
    "    'image': greenness,\n",
    "    'description':'greenness',\n",
    "    'folder':'exp2021_19s_full',\n",
    "    'region': geometry_exp.bounds(),\n",
    "    'scale':30,\n",
    "    'crsTransform':[30, 0, 214185, 0, -30, -4825185], \n",
    "    'crs':'EPSG:32719',\n",
    "    'maxPixels':1e13\n",
    "})\n",
    "task10 = ee.batch.Export.image.toDrive(**{\n",
    "    'image': wetness,\n",
    "    'description':'wetness',\n",
    "    'folder':'exp2021_19s_full',\n",
    "    'region': geometry_exp.bounds(),\n",
    "    'scale':30,\n",
    "    'crsTransform':[30, 0, 214185, 0, -30, -4825185], \n",
    "    'crs':'EPSG:32719',\n",
    "    'maxPixels':1e13\n",
    "})"
   ]
  },
  {
   "cell_type": "code",
   "execution_count": 200,
   "id": "0d024aad",
   "metadata": {
    "ExecuteTime": {
     "end_time": "2022-02-07T18:23:50.507310Z",
     "start_time": "2022-02-07T18:23:50.504282Z"
    }
   },
   "outputs": [],
   "source": [
    "task8m = ee.batch.Export.image.toDrive(**{\n",
    "    'image': brillom,\n",
    "    'description':'brillo',\n",
    "    'folder':'exp2021_19s_full_m',\n",
    "    'region': geometry_exp.bounds(),\n",
    "    'scale':30,\n",
    "    'crsTransform':[30, 0, 214185, 0, -30, -4825185], \n",
    "    'crs':'EPSG:32719',\n",
    "    'maxPixels':1e13\n",
    "})\n",
    "task9m = ee.batch.Export.image.toDrive(**{\n",
    "    'image': greennessm,\n",
    "    'description':'greenness',\n",
    "    'folder':'exp2021_19s_full_m',\n",
    "    'region': geometry_exp.bounds(),\n",
    "    'scale':30,\n",
    "    'crsTransform':[30, 0, 214185, 0, -30, -4825185], \n",
    "    'crs':'EPSG:32719',\n",
    "    'maxPixels':1e13\n",
    "})\n",
    "task10m = ee.batch.Export.image.toDrive(**{\n",
    "    'image': wetnessm,\n",
    "    'description':'wetness',\n",
    "    'folder':'exp2021_19s_full_m',\n",
    "    'region': geometry_exp.bounds(),\n",
    "    'scale':30,\n",
    "    'crsTransform':[30, 0, 214185, 0, -30, -4825185], \n",
    "    'crs':'EPSG:32719',\n",
    "    'maxPixels':1e13\n",
    "})"
   ]
  },
  {
   "cell_type": "code",
   "execution_count": 201,
   "id": "056a7102",
   "metadata": {
    "ExecuteTime": {
     "end_time": "2022-02-07T18:23:50.509406Z",
     "start_time": "2022-02-07T18:23:50.508088Z"
    }
   },
   "outputs": [],
   "source": [
    "# task8.start()\n",
    "# task9.start()\n",
    "# task10.start()"
   ]
  },
  {
   "cell_type": "code",
   "execution_count": 202,
   "id": "30f7d9e4",
   "metadata": {
    "ExecuteTime": {
     "end_time": "2022-02-07T18:23:50.512410Z",
     "start_time": "2022-02-07T18:23:50.510239Z"
    }
   },
   "outputs": [],
   "source": [
    "# task8m.start()\n",
    "# task9m.start()\n",
    "# task10m.start()"
   ]
  },
  {
   "cell_type": "code",
   "execution_count": 203,
   "id": "21943242",
   "metadata": {
    "ExecuteTime": {
     "end_time": "2022-02-07T18:23:50.515050Z",
     "start_time": "2022-02-07T18:23:50.513084Z"
    }
   },
   "outputs": [],
   "source": [
    "taskclasqm = ee.batch.Export.image.toDrive(**{\n",
    "    'image': landcover_QM,\n",
    "    'description':'landcover_2021_QM',\n",
    "    'folder':'Landcover 2021',\n",
    "    'region': geometry_exp.bounds(),\n",
    "    'scale':30,\n",
    "    'crsTransform':[30, 0, 214185, 0, -30, -4825185], \n",
    "    'crs':'EPSG:32719',\n",
    "    'maxPixels':1e13\n",
    "})"
   ]
  },
  {
   "cell_type": "code",
   "execution_count": 204,
   "id": "c892658b",
   "metadata": {
    "ExecuteTime": {
     "end_time": "2022-02-07T18:23:50.517736Z",
     "start_time": "2022-02-07T18:23:50.515821Z"
    }
   },
   "outputs": [],
   "source": [
    "taskclasm = ee.batch.Export.image.toDrive(**{\n",
    "    'image': landcover_Med,\n",
    "    'description':'landcover_2021_Med',\n",
    "    'folder':'Landcover 2021',\n",
    "    'region': geometry_exp.bounds(),\n",
    "    'scale':30,\n",
    "    'crsTransform':[30, 0, 214185, 0, -30, -4825185], \n",
    "    'crs':'EPSG:32719',\n",
    "    'maxPixels':1e13\n",
    "})"
   ]
  },
  {
   "cell_type": "code",
   "execution_count": 205,
   "id": "9af412b7",
   "metadata": {
    "ExecuteTime": {
     "end_time": "2022-02-07T18:23:50.520112Z",
     "start_time": "2022-02-07T18:23:50.518627Z"
    }
   },
   "outputs": [],
   "source": [
    "# taskclasqm.start()\n",
    "# taskclasm.start()"
   ]
  },
  {
   "cell_type": "markdown",
   "id": "5b569226",
   "metadata": {},
   "source": [
    "## Test spectral unmixing"
   ]
  },
  {
   "cell_type": "code",
   "execution_count": 214,
   "id": "244834a0",
   "metadata": {
    "ExecuteTime": {
     "end_time": "2022-02-07T20:31:10.761530Z",
     "start_time": "2022-02-07T20:31:10.759565Z"
    }
   },
   "outputs": [],
   "source": [
    "testimg_txt = img5.int32()"
   ]
  },
  {
   "cell_type": "code",
   "execution_count": 215,
   "id": "7c334e9f",
   "metadata": {
    "ExecuteTime": {
     "end_time": "2022-02-07T20:31:16.112661Z",
     "start_time": "2022-02-07T20:31:16.110949Z"
    }
   },
   "outputs": [],
   "source": [
    "texturas = testimg_txt.glcmTexture()"
   ]
  },
  {
   "cell_type": "code",
   "execution_count": 216,
   "id": "4c5d1482",
   "metadata": {
    "ExecuteTime": {
     "end_time": "2022-02-07T20:31:23.188721Z",
     "start_time": "2022-02-07T20:31:20.111197Z"
    }
   },
   "outputs": [
    {
     "data": {
      "text/plain": [
       "['B1_asm',\n",
       " 'B1_contrast',\n",
       " 'B1_corr',\n",
       " 'B1_var',\n",
       " 'B1_idm',\n",
       " 'B1_savg',\n",
       " 'B1_svar',\n",
       " 'B1_sent',\n",
       " 'B1_ent',\n",
       " 'B1_dvar',\n",
       " 'B1_dent',\n",
       " 'B1_imcorr1',\n",
       " 'B1_imcorr2',\n",
       " 'B1_maxcorr',\n",
       " 'B1_diss',\n",
       " 'B1_inertia',\n",
       " 'B1_shade',\n",
       " 'B1_prom',\n",
       " 'B2_asm',\n",
       " 'B2_contrast',\n",
       " 'B2_corr',\n",
       " 'B2_var',\n",
       " 'B2_idm',\n",
       " 'B2_savg',\n",
       " 'B2_svar',\n",
       " 'B2_sent',\n",
       " 'B2_ent',\n",
       " 'B2_dvar',\n",
       " 'B2_dent',\n",
       " 'B2_imcorr1',\n",
       " 'B2_imcorr2',\n",
       " 'B2_maxcorr',\n",
       " 'B2_diss',\n",
       " 'B2_inertia',\n",
       " 'B2_shade',\n",
       " 'B2_prom',\n",
       " 'B3_asm',\n",
       " 'B3_contrast',\n",
       " 'B3_corr',\n",
       " 'B3_var',\n",
       " 'B3_idm',\n",
       " 'B3_savg',\n",
       " 'B3_svar',\n",
       " 'B3_sent',\n",
       " 'B3_ent',\n",
       " 'B3_dvar',\n",
       " 'B3_dent',\n",
       " 'B3_imcorr1',\n",
       " 'B3_imcorr2',\n",
       " 'B3_maxcorr',\n",
       " 'B3_diss',\n",
       " 'B3_inertia',\n",
       " 'B3_shade',\n",
       " 'B3_prom',\n",
       " 'B4_asm',\n",
       " 'B4_contrast',\n",
       " 'B4_corr',\n",
       " 'B4_var',\n",
       " 'B4_idm',\n",
       " 'B4_savg',\n",
       " 'B4_svar',\n",
       " 'B4_sent',\n",
       " 'B4_ent',\n",
       " 'B4_dvar',\n",
       " 'B4_dent',\n",
       " 'B4_imcorr1',\n",
       " 'B4_imcorr2',\n",
       " 'B4_maxcorr',\n",
       " 'B4_diss',\n",
       " 'B4_inertia',\n",
       " 'B4_shade',\n",
       " 'B4_prom',\n",
       " 'B5_asm',\n",
       " 'B5_contrast',\n",
       " 'B5_corr',\n",
       " 'B5_var',\n",
       " 'B5_idm',\n",
       " 'B5_savg',\n",
       " 'B5_svar',\n",
       " 'B5_sent',\n",
       " 'B5_ent',\n",
       " 'B5_dvar',\n",
       " 'B5_dent',\n",
       " 'B5_imcorr1',\n",
       " 'B5_imcorr2',\n",
       " 'B5_maxcorr',\n",
       " 'B5_diss',\n",
       " 'B5_inertia',\n",
       " 'B5_shade',\n",
       " 'B5_prom',\n",
       " 'B6_asm',\n",
       " 'B6_contrast',\n",
       " 'B6_corr',\n",
       " 'B6_var',\n",
       " 'B6_idm',\n",
       " 'B6_savg',\n",
       " 'B6_svar',\n",
       " 'B6_sent',\n",
       " 'B6_ent',\n",
       " 'B6_dvar',\n",
       " 'B6_dent',\n",
       " 'B6_imcorr1',\n",
       " 'B6_imcorr2',\n",
       " 'B6_maxcorr',\n",
       " 'B6_diss',\n",
       " 'B6_inertia',\n",
       " 'B6_shade',\n",
       " 'B6_prom',\n",
       " 'B7_asm',\n",
       " 'B7_contrast',\n",
       " 'B7_corr',\n",
       " 'B7_var',\n",
       " 'B7_idm',\n",
       " 'B7_savg',\n",
       " 'B7_svar',\n",
       " 'B7_sent',\n",
       " 'B7_ent',\n",
       " 'B7_dvar',\n",
       " 'B7_dent',\n",
       " 'B7_imcorr1',\n",
       " 'B7_imcorr2',\n",
       " 'B7_maxcorr',\n",
       " 'B7_diss',\n",
       " 'B7_inertia',\n",
       " 'B7_shade',\n",
       " 'B7_prom',\n",
       " 'B8_asm',\n",
       " 'B8_contrast',\n",
       " 'B8_corr',\n",
       " 'B8_var',\n",
       " 'B8_idm',\n",
       " 'B8_savg',\n",
       " 'B8_svar',\n",
       " 'B8_sent',\n",
       " 'B8_ent',\n",
       " 'B8_dvar',\n",
       " 'B8_dent',\n",
       " 'B8_imcorr1',\n",
       " 'B8_imcorr2',\n",
       " 'B8_maxcorr',\n",
       " 'B8_diss',\n",
       " 'B8_inertia',\n",
       " 'B8_shade',\n",
       " 'B8_prom',\n",
       " 'B9_asm',\n",
       " 'B9_contrast',\n",
       " 'B9_corr',\n",
       " 'B9_var',\n",
       " 'B9_idm',\n",
       " 'B9_savg',\n",
       " 'B9_svar',\n",
       " 'B9_sent',\n",
       " 'B9_ent',\n",
       " 'B9_dvar',\n",
       " 'B9_dent',\n",
       " 'B9_imcorr1',\n",
       " 'B9_imcorr2',\n",
       " 'B9_maxcorr',\n",
       " 'B9_diss',\n",
       " 'B9_inertia',\n",
       " 'B9_shade',\n",
       " 'B9_prom',\n",
       " 'B10_asm',\n",
       " 'B10_contrast',\n",
       " 'B10_corr',\n",
       " 'B10_var',\n",
       " 'B10_idm',\n",
       " 'B10_savg',\n",
       " 'B10_svar',\n",
       " 'B10_sent',\n",
       " 'B10_ent',\n",
       " 'B10_dvar',\n",
       " 'B10_dent',\n",
       " 'B10_imcorr1',\n",
       " 'B10_imcorr2',\n",
       " 'B10_maxcorr',\n",
       " 'B10_diss',\n",
       " 'B10_inertia',\n",
       " 'B10_shade',\n",
       " 'B10_prom',\n",
       " 'B11_asm',\n",
       " 'B11_contrast',\n",
       " 'B11_corr',\n",
       " 'B11_var',\n",
       " 'B11_idm',\n",
       " 'B11_savg',\n",
       " 'B11_svar',\n",
       " 'B11_sent',\n",
       " 'B11_ent',\n",
       " 'B11_dvar',\n",
       " 'B11_dent',\n",
       " 'B11_imcorr1',\n",
       " 'B11_imcorr2',\n",
       " 'B11_maxcorr',\n",
       " 'B11_diss',\n",
       " 'B11_inertia',\n",
       " 'B11_shade',\n",
       " 'B11_prom',\n",
       " 'BQA_asm',\n",
       " 'BQA_contrast',\n",
       " 'BQA_corr',\n",
       " 'BQA_var',\n",
       " 'BQA_idm',\n",
       " 'BQA_savg',\n",
       " 'BQA_svar',\n",
       " 'BQA_sent',\n",
       " 'BQA_ent',\n",
       " 'BQA_dvar',\n",
       " 'BQA_dent',\n",
       " 'BQA_imcorr1',\n",
       " 'BQA_imcorr2',\n",
       " 'BQA_maxcorr',\n",
       " 'BQA_diss',\n",
       " 'BQA_inertia',\n",
       " 'BQA_shade',\n",
       " 'BQA_prom',\n",
       " 'NDVI_asm',\n",
       " 'NDVI_contrast',\n",
       " 'NDVI_corr',\n",
       " 'NDVI_var',\n",
       " 'NDVI_idm',\n",
       " 'NDVI_savg',\n",
       " 'NDVI_svar',\n",
       " 'NDVI_sent',\n",
       " 'NDVI_ent',\n",
       " 'NDVI_dvar',\n",
       " 'NDVI_dent',\n",
       " 'NDVI_imcorr1',\n",
       " 'NDVI_imcorr2',\n",
       " 'NDVI_maxcorr',\n",
       " 'NDVI_diss',\n",
       " 'NDVI_inertia',\n",
       " 'NDVI_shade',\n",
       " 'NDVI_prom',\n",
       " 'NDWI_asm',\n",
       " 'NDWI_contrast',\n",
       " 'NDWI_corr',\n",
       " 'NDWI_var',\n",
       " 'NDWI_idm',\n",
       " 'NDWI_savg',\n",
       " 'NDWI_svar',\n",
       " 'NDWI_sent',\n",
       " 'NDWI_ent',\n",
       " 'NDWI_dvar',\n",
       " 'NDWI_dent',\n",
       " 'NDWI_imcorr1',\n",
       " 'NDWI_imcorr2',\n",
       " 'NDWI_maxcorr',\n",
       " 'NDWI_diss',\n",
       " 'NDWI_inertia',\n",
       " 'NDWI_shade',\n",
       " 'NDWI_prom',\n",
       " 'NDGI_asm',\n",
       " 'NDGI_contrast',\n",
       " 'NDGI_corr',\n",
       " 'NDGI_var',\n",
       " 'NDGI_idm',\n",
       " 'NDGI_savg',\n",
       " 'NDGI_svar',\n",
       " 'NDGI_sent',\n",
       " 'NDGI_ent',\n",
       " 'NDGI_dvar',\n",
       " 'NDGI_dent',\n",
       " 'NDGI_imcorr1',\n",
       " 'NDGI_imcorr2',\n",
       " 'NDGI_maxcorr',\n",
       " 'NDGI_diss',\n",
       " 'NDGI_inertia',\n",
       " 'NDGI_shade',\n",
       " 'NDGI_prom',\n",
       " 'SAVI_asm',\n",
       " 'SAVI_contrast',\n",
       " 'SAVI_corr',\n",
       " 'SAVI_var',\n",
       " 'SAVI_idm',\n",
       " 'SAVI_savg',\n",
       " 'SAVI_svar',\n",
       " 'SAVI_sent',\n",
       " 'SAVI_ent',\n",
       " 'SAVI_dvar',\n",
       " 'SAVI_dent',\n",
       " 'SAVI_imcorr1',\n",
       " 'SAVI_imcorr2',\n",
       " 'SAVI_maxcorr',\n",
       " 'SAVI_diss',\n",
       " 'SAVI_inertia',\n",
       " 'SAVI_shade',\n",
       " 'SAVI_prom',\n",
       " 'NDSI_asm',\n",
       " 'NDSI_contrast',\n",
       " 'NDSI_corr',\n",
       " 'NDSI_var',\n",
       " 'NDSI_idm',\n",
       " 'NDSI_savg',\n",
       " 'NDSI_svar',\n",
       " 'NDSI_sent',\n",
       " 'NDSI_ent',\n",
       " 'NDSI_dvar',\n",
       " 'NDSI_dent',\n",
       " 'NDSI_imcorr1',\n",
       " 'NDSI_imcorr2',\n",
       " 'NDSI_maxcorr',\n",
       " 'NDSI_diss',\n",
       " 'NDSI_inertia',\n",
       " 'NDSI_shade',\n",
       " 'NDSI_prom',\n",
       " 'NDBI_asm',\n",
       " 'NDBI_contrast',\n",
       " 'NDBI_corr',\n",
       " 'NDBI_var',\n",
       " 'NDBI_idm',\n",
       " 'NDBI_savg',\n",
       " 'NDBI_svar',\n",
       " 'NDBI_sent',\n",
       " 'NDBI_ent',\n",
       " 'NDBI_dvar',\n",
       " 'NDBI_dent',\n",
       " 'NDBI_imcorr1',\n",
       " 'NDBI_imcorr2',\n",
       " 'NDBI_maxcorr',\n",
       " 'NDBI_diss',\n",
       " 'NDBI_inertia',\n",
       " 'NDBI_shade',\n",
       " 'NDBI_prom',\n",
       " 'EVI_asm',\n",
       " 'EVI_contrast',\n",
       " 'EVI_corr',\n",
       " 'EVI_var',\n",
       " 'EVI_idm',\n",
       " 'EVI_savg',\n",
       " 'EVI_svar',\n",
       " 'EVI_sent',\n",
       " 'EVI_ent',\n",
       " 'EVI_dvar',\n",
       " 'EVI_dent',\n",
       " 'EVI_imcorr1',\n",
       " 'EVI_imcorr2',\n",
       " 'EVI_maxcorr',\n",
       " 'EVI_diss',\n",
       " 'EVI_inertia',\n",
       " 'EVI_shade',\n",
       " 'EVI_prom',\n",
       " 'date_asm',\n",
       " 'date_contrast',\n",
       " 'date_corr',\n",
       " 'date_var',\n",
       " 'date_idm',\n",
       " 'date_savg',\n",
       " 'date_svar',\n",
       " 'date_sent',\n",
       " 'date_ent',\n",
       " 'date_dvar',\n",
       " 'date_dent',\n",
       " 'date_imcorr1',\n",
       " 'date_imcorr2',\n",
       " 'date_maxcorr',\n",
       " 'date_diss',\n",
       " 'date_inertia',\n",
       " 'date_shade',\n",
       " 'date_prom',\n",
       " 'nube_asm',\n",
       " 'nube_contrast',\n",
       " 'nube_corr',\n",
       " 'nube_var',\n",
       " 'nube_idm',\n",
       " 'nube_savg',\n",
       " 'nube_svar',\n",
       " 'nube_sent',\n",
       " 'nube_ent',\n",
       " 'nube_dvar',\n",
       " 'nube_dent',\n",
       " 'nube_imcorr1',\n",
       " 'nube_imcorr2',\n",
       " 'nube_maxcorr',\n",
       " 'nube_diss',\n",
       " 'nube_inertia',\n",
       " 'nube_shade',\n",
       " 'nube_prom']"
      ]
     },
     "execution_count": 216,
     "metadata": {},
     "output_type": "execute_result"
    }
   ],
   "source": [
    "texturas.bandNames().getInfo()"
   ]
  },
  {
   "cell_type": "code",
   "execution_count": 220,
   "id": "2c1590bd",
   "metadata": {
    "ExecuteTime": {
     "end_time": "2022-02-07T20:50:28.808618Z",
     "start_time": "2022-02-07T20:50:28.781666Z"
    }
   },
   "outputs": [
    {
     "data": {
      "application/vnd.jupyter.widget-view+json": {
       "model_id": "42680fd0455b4393ba346af9b7e96ff7",
       "version_major": 2,
       "version_minor": 0
      },
      "text/plain": [
       "Map(bottom=10967.0, center=[-47.68018294648414, -68.46679687500001], controls=(WidgetControl(options=['positio…"
      ]
     },
     "metadata": {},
     "output_type": "display_data"
    }
   ],
   "source": [
    "Map4.addLayer(texturas.select('B5_ent'), {} ,'correlacion' )\n",
    "Map4"
   ]
  },
  {
   "cell_type": "code",
   "execution_count": null,
   "id": "bfd1e60d",
   "metadata": {},
   "outputs": [],
   "source": []
  }
 ],
 "metadata": {
  "kernelspec": {
   "display_name": "Python 3 (ipykernel)",
   "language": "python",
   "name": "python3"
  },
  "language_info": {
   "codemirror_mode": {
    "name": "ipython",
    "version": 3
   },
   "file_extension": ".py",
   "mimetype": "text/x-python",
   "name": "python",
   "nbconvert_exporter": "python",
   "pygments_lexer": "ipython3",
   "version": "3.8.12"
  },
  "toc": {
   "base_numbering": 1,
   "nav_menu": {},
   "number_sections": true,
   "sideBar": true,
   "skip_h1_title": false,
   "title_cell": "Table of Contents",
   "title_sidebar": "Contents",
   "toc_cell": false,
   "toc_position": {
    "height": "calc(100% - 180px)",
    "left": "10px",
    "top": "150px",
    "width": "384px"
   },
   "toc_section_display": true,
   "toc_window_display": true
  },
  "varInspector": {
   "cols": {
    "lenName": 16,
    "lenType": 16,
    "lenVar": 40
   },
   "kernels_config": {
    "python": {
     "delete_cmd_postfix": "",
     "delete_cmd_prefix": "del ",
     "library": "var_list.py",
     "varRefreshCmd": "print(var_dic_list())"
    },
    "r": {
     "delete_cmd_postfix": ") ",
     "delete_cmd_prefix": "rm(",
     "library": "var_list.r",
     "varRefreshCmd": "cat(var_dic_list()) "
    }
   },
   "types_to_exclude": [
    "module",
    "function",
    "builtin_function_or_method",
    "instance",
    "_Feature"
   ],
   "window_display": false
  }
 },
 "nbformat": 4,
 "nbformat_minor": 5
}
