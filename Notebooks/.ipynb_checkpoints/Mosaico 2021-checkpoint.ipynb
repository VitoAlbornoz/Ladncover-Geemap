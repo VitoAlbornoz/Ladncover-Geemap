{
 "cells": [
  {
   "cell_type": "markdown",
   "id": "c8ee7fef",
   "metadata": {},
   "source": [
    "# Mosaico 2021"
   ]
  },
  {
   "cell_type": "markdown",
   "id": "203f76ca",
   "metadata": {},
   "source": [
    "Script trabajado por Francisco Albornoz (2022-02-01) / Última modificación / Mosaicos Patagonia"
   ]
  },
  {
   "cell_type": "markdown",
   "id": "2fb5cdeb",
   "metadata": {},
   "source": [
    "2022-02-01 13:20:38 "
   ]
  },
  {
   "cell_type": "code",
   "execution_count": 1,
   "id": "3057c761",
   "metadata": {
    "ExecuteTime": {
     "end_time": "2022-02-09T18:59:49.646784Z",
     "start_time": "2022-02-09T18:59:48.474285Z"
    }
   },
   "outputs": [],
   "source": [
    "import ee \n",
    "import geemap\n",
    "import geemap.chart as chart\n",
    "import os\n",
    "import folium\n",
    "import xarray_leaflet\n",
    "import rasterio \n",
    "from rasterio import plot\n",
    "import matplotlib.pyplot as plt\n",
    "import numpy as np\n",
    "%matplotlib inline"
   ]
  },
  {
   "cell_type": "markdown",
   "id": "1997eeb4",
   "metadata": {},
   "source": [
    "<img src=https://www.ecopaysen.cl/wp-content/uploads/2019/12/ecopaysen_marca_web.png>"
   ]
  },
  {
   "cell_type": "code",
   "execution_count": 2,
   "id": "fca49a56",
   "metadata": {
    "ExecuteTime": {
     "end_time": "2022-02-09T19:00:01.145589Z",
     "start_time": "2022-02-09T18:59:49.648049Z"
    }
   },
   "outputs": [],
   "source": [
    "Map = geemap.Map(center = [-45, -70], zoom = 4)\n",
    "Map1 = geemap.Map(center = [-45, -70], zoom = 4)\n",
    "Map2 = geemap.Map(center = [-45, -70], zoom = 4)\n",
    "Map3 = geemap.Map(center = [-45, -70], zoom = 4)\n",
    "Map4 = geemap.Map(center = [-45, -70], zoom = 4)\n",
    "Map5 = geemap.Map(center = [-45, -70], zoom = 4)\n",
    "Map6 = geemap.Map(center = [-45, -70], zoom = 4)\n",
    "Map7 = geemap.Map(center = [-45, -70], zoom = 4)\n",
    "Map8 = geemap.Map(center = [-45, -70], zoom = 4)\n",
    "Map9 = geemap.Map(center = [-45, -70], zoom = 4)\n",
    "Map10 = geemap.Map(center = [-45, -70], zoom = 4)\n",
    "Map11 = geemap.Map(center = [-45, -70], zoom = 4)\n",
    "Map12 = geemap.Map(center = [-45, -70], zoom = 4)\n",
    "Map13 = geemap.Map(center = [-45, -70], zoom = 4)\n",
    "Map14 = geemap.Map(center = [-45, -70], zoom = 4)\n",
    "Map15 = geemap.Map(center = [-45, -70], zoom = 4)\n",
    "Map16 = geemap.Map(center = [-45, -70], zoom = 4)"
   ]
  },
  {
   "cell_type": "markdown",
   "id": "f26fe1a2",
   "metadata": {},
   "source": [
    "## Área de Estudio"
   ]
  },
  {
   "cell_type": "code",
   "execution_count": 3,
   "id": "2aae613d",
   "metadata": {
    "ExecuteTime": {
     "end_time": "2022-02-09T19:00:02.046695Z",
     "start_time": "2022-02-09T19:00:01.146420Z"
    }
   },
   "outputs": [],
   "source": [
    "work_dir = os.path.expanduser('../Data/')\n",
    "patagonia = os.path.join(work_dir, 'patagonia_geo.shp')\n",
    "patagonia_grande = geemap.shp_to_ee(patagonia)\n",
    "tierra_fuego =os.path.join(work_dir, 'tierra_fuego.shp')\n",
    "tierra_fuego = geemap.shp_to_ee(tierra_fuego)"
   ]
  },
  {
   "cell_type": "code",
   "execution_count": 4,
   "id": "4dbbceda",
   "metadata": {
    "ExecuteTime": {
     "end_time": "2022-02-09T19:00:02.056972Z",
     "start_time": "2022-02-09T19:00:02.048673Z"
    }
   },
   "outputs": [],
   "source": [
    "geometry_exp = ee.Geometry.Polygon(\n",
    "        [[[-72.56281773604495, -33.81999514196144],\n",
    "          [-72.96381871260745, -35.294382843203024],\n",
    "          [-73.27692906416995, -35.25850698608905],\n",
    "          [-74.15583531416995, -38.13757615203617],\n",
    "          [-73.96357457198245, -38.16349478321529],\n",
    "          [-74.41603250978783, -39.59214901926122],\n",
    "          [-73.71840067385033, -39.70212049569608],\n",
    "          [-74.48057965994737, -41.961233926702086],\n",
    "          [-76.23199334221133, -46.599308425949715],\n",
    "          [-75.71838250236758, -46.6705186900265],\n",
    "          [-76.31583416780423, -48.08335993023956],\n",
    "          [-75.6739504332226, -48.17601084778724],\n",
    "          [-76.1812028986966, -49.3089458997328],\n",
    "          [-75.8516130549466, -49.35190435466257],\n",
    "          [-75.88182545729035, -49.42252520588146],\n",
    "          [-75.62776661939972, -49.4593908439046],\n",
    "          [-75.87838309772656, -50.0286830263256],\n",
    "          [-75.4746355391328, -50.08951678614621],\n",
    "          [-75.54325576346766, -50.23909657453096],\n",
    "          [-75.77780697097086, -50.76007049594944],\n",
    "          [-75.16119930495523, -50.84458853545005],\n",
    "          [-75.38504574050211, -51.344039508567974],\n",
    "          [-75.5541538866841, -51.71140521484993],\n",
    "          [-75.18336531246536, -51.75648162278235],\n",
    "          [-75.47788882049618, -52.3659753295982],\n",
    "          [-74.75894718310815, -52.46884703800526],\n",
    "          [-75.08565455837835, -53.06208069103826],\n",
    "          [-74.55801479059262, -53.126414996444055],\n",
    "          [-74.81690883977036, -53.6371915734125],\n",
    "          [-73.44408000172288, -53.83741753537409],\n",
    "          [-73.50862467945726, -53.95798563315933],\n",
    "          [-73.45231974781663, -53.967680681913386],\n",
    "          [-73.53197062672288, -54.11766576333605],\n",
    "          [-73.77219189508037, -54.57485104154676],\n",
    "          [-72.34049166499341, -54.77775087176573],\n",
    "          [-72.47759402717024, -55.03231503944354],\n",
    "          [-71.05285526571967, -55.24340674895388],\n",
    "          [-71.08306766806342, -55.29113504937561],\n",
    "          [-69.81960741798575, -55.47109132991434],\n",
    "          [-69.85119311134513, -55.51932330880519],\n",
    "          [-69.68227831642325, -55.544194128455445],\n",
    "          [-69.79214159767325, -55.75341614311607],\n",
    "          [-66.85410518726452, -56.21137383375629],\n",
    "          [-66.30968752348785, -55.25322454720416],\n",
    "          [-65.44176760161285, -55.378260612328376],\n",
    "          [-65.29222191220039, -55.084940556988364],\n",
    "          [-63.8145607793879, -55.29503930747886],\n",
    "          [-63.4410256231379, -54.559610949790994],\n",
    "          [-66.01731956845039, -54.18844646199444],\n",
    "          [-65.92942894345039, -53.97576673331468],\n",
    "          [-67.35765159970039, -53.77173637481835],\n",
    "          [-66.83490788218774, -52.56216102836118],\n",
    "          [-68.29059635875024, -52.351280557744616],\n",
    "          [-67.13664467133525, -49.5665018755825],\n",
    "          [-65.6891959408665, -49.77447361491692],\n",
    "          [-64.6040407061826, -46.886773053508534],\n",
    "          [-66.07346209290135, -46.670468623465915],\n",
    "          [-65.60651222417681, -45.29237148760689],\n",
    "          [-64.13159767339556, -45.51413819831776],\n",
    "          [-63.11762183127383, -42.44210625114028],\n",
    "          [-61.64820044455508, -42.65254570178212],\n",
    "          [-60.691700635610566, -39.58656313087865],\n",
    "          [-60.612049756704316, -39.597145764356114],\n",
    "          [-60.214053037778356, -38.26345264755797],\n",
    "          [-62.338430585556544, -37.86345563921212],\n",
    "          [-62.431814374619044, -38.13616213643378],\n",
    "          [-63.880475463562526, -37.8656239671591],\n",
    "          [-63.965619506531276, -38.12752037872568],\n",
    "          [-65.43863114657343, -37.86678770192114],\n",
    "          [-65.52652177157343, -38.12867996539086],\n",
    "          [-66.31753739657343, -37.98811028708228],\n",
    "          [-65.98609312949165, -36.82548737245019],\n",
    "          [-68.06866521074468, -36.43149799324939],\n",
    "          [-68.16204899980718, -36.70723234878123],\n",
    "          [-69.00250310136968, -36.55294237984414],\n",
    "          [-68.66838285254276, -35.38834808765389],\n",
    "          [-70.73190167990279, -35.008946233837705],\n",
    "          [-70.82528546896529, -35.29190694633577],\n",
    "          [-71.68771222677779, -35.11685679848462],\n",
    "          [-71.37460187521529, -33.95679291780399],\n",
    "          [-72.53365949240279, -33.733238932504804]]])"
   ]
  },
  {
   "cell_type": "markdown",
   "id": "fa8e2fea",
   "metadata": {},
   "source": [
    "## Colors Bars"
   ]
  },
  {
   "cell_type": "code",
   "execution_count": 5,
   "id": "1efebd11",
   "metadata": {
    "ExecuteTime": {
     "end_time": "2022-02-09T19:00:02.992712Z",
     "start_time": "2022-02-09T19:00:02.057779Z"
    }
   },
   "outputs": [],
   "source": [
    "import geemap.colormaps as cm"
   ]
  },
  {
   "cell_type": "code",
   "execution_count": 6,
   "id": "d159d70f",
   "metadata": {
    "ExecuteTime": {
     "end_time": "2022-02-09T19:00:02.995267Z",
     "start_time": "2022-02-09T19:00:02.993898Z"
    }
   },
   "outputs": [],
   "source": [
    "# cm.palettes.terrain"
   ]
  },
  {
   "cell_type": "code",
   "execution_count": 7,
   "id": "fe999a91",
   "metadata": {
    "ExecuteTime": {
     "end_time": "2022-02-09T19:00:03.002132Z",
     "start_time": "2022-02-09T19:00:02.996036Z"
    }
   },
   "outputs": [],
   "source": [
    "color_ndvi = cm.palettes.ndvi"
   ]
  },
  {
   "cell_type": "code",
   "execution_count": 8,
   "id": "05fb282a",
   "metadata": {
    "ExecuteTime": {
     "end_time": "2022-02-09T19:00:03.006882Z",
     "start_time": "2022-02-09T19:00:03.002910Z"
    }
   },
   "outputs": [],
   "source": [
    "color_ndwi = cm.palettes.ndwi"
   ]
  },
  {
   "cell_type": "code",
   "execution_count": 9,
   "id": "68161910",
   "metadata": {
    "ExecuteTime": {
     "end_time": "2022-02-09T19:00:03.012009Z",
     "start_time": "2022-02-09T19:00:03.007657Z"
    }
   },
   "outputs": [],
   "source": [
    "color_terrain = cm.palettes.terrain"
   ]
  },
  {
   "cell_type": "code",
   "execution_count": 10,
   "id": "8e99245f",
   "metadata": {
    "ExecuteTime": {
     "end_time": "2022-02-09T19:00:03.017180Z",
     "start_time": "2022-02-09T19:00:03.013587Z"
    }
   },
   "outputs": [],
   "source": [
    "color_glaciar = cm.palettes.PuBuGn_r"
   ]
  },
  {
   "cell_type": "code",
   "execution_count": 11,
   "id": "92b8cf41",
   "metadata": {
    "ExecuteTime": {
     "end_time": "2022-02-09T19:00:03.022436Z",
     "start_time": "2022-02-09T19:00:03.018067Z"
    }
   },
   "outputs": [],
   "source": [
    "color_nubes = cm.palettes.inferno"
   ]
  },
  {
   "cell_type": "code",
   "execution_count": 12,
   "id": "39930741",
   "metadata": {
    "ExecuteTime": {
     "end_time": "2022-02-09T19:00:03.027392Z",
     "start_time": "2022-02-09T19:00:03.023278Z"
    }
   },
   "outputs": [],
   "source": [
    "# cm.list_colormaps()"
   ]
  },
  {
   "cell_type": "code",
   "execution_count": 13,
   "id": "d6233e9b",
   "metadata": {
    "ExecuteTime": {
     "end_time": "2022-02-09T19:00:03.032611Z",
     "start_time": "2022-02-09T19:00:03.028126Z"
    }
   },
   "outputs": [],
   "source": [
    "color_rainbow = cm.palettes.summer_r"
   ]
  },
  {
   "cell_type": "markdown",
   "id": "11666045",
   "metadata": {},
   "source": [
    "## Funciones"
   ]
  },
  {
   "cell_type": "code",
   "execution_count": 14,
   "id": "166db170",
   "metadata": {
    "ExecuteTime": {
     "end_time": "2022-02-09T19:00:03.038444Z",
     "start_time": "2022-02-09T19:00:03.033512Z"
    }
   },
   "outputs": [],
   "source": [
    "def add_ee_layer(self, ee_image_object, vis_params, name):\n",
    "  map_id_dict = ee.Image(ee_image_object).getMapId(vis_params)\n",
    "  folium.raster_layers.TileLayer(\n",
    "      tiles=map_id_dict['tile_fetcher'].url_format,\n",
    "      attr='Map Data &copy; <a href=\"https://earthengine.google.com/\">Google Earth Engine</a>',\n",
    "      name=name,\n",
    "      overlay=True,\n",
    "      control=True\n",
    "  ).add_to(self)\n",
    "\n",
    "folium.Map.add_ee_layer = add_ee_layer"
   ]
  },
  {
   "cell_type": "code",
   "execution_count": 15,
   "id": "b9e1cdaf",
   "metadata": {
    "ExecuteTime": {
     "end_time": "2022-02-09T19:00:03.043608Z",
     "start_time": "2022-02-09T19:00:03.039188Z"
    }
   },
   "outputs": [],
   "source": [
    "def addNDVI(image): \n",
    "    ndvi = image.normalizedDifference(['B5', 'B4']).rename('NDVI')\n",
    "    return image.addBands(ndvi)"
   ]
  },
  {
   "cell_type": "code",
   "execution_count": 16,
   "id": "4c83d08e",
   "metadata": {
    "ExecuteTime": {
     "end_time": "2022-02-09T19:00:03.048729Z",
     "start_time": "2022-02-09T19:00:03.044486Z"
    }
   },
   "outputs": [],
   "source": [
    "def addNDVI2(image): \n",
    "    ndvi = image.normalizedDifference(['B5', 'B4']).rename('NDVI2')\n",
    "    return image.addBands(ndvi)"
   ]
  },
  {
   "cell_type": "code",
   "execution_count": 17,
   "id": "ad105a37",
   "metadata": {
    "ExecuteTime": {
     "end_time": "2022-02-09T19:00:03.054121Z",
     "start_time": "2022-02-09T19:00:03.049683Z"
    }
   },
   "outputs": [],
   "source": [
    "def addNDWI(image):\n",
    "    ndwi = image.normalizedDifference(['B3','B5']).rename('NDWI')\n",
    "    return image.addBands(ndwi)"
   ]
  },
  {
   "cell_type": "code",
   "execution_count": 18,
   "id": "afd5a921",
   "metadata": {
    "ExecuteTime": {
     "end_time": "2022-02-09T19:00:03.059407Z",
     "start_time": "2022-02-09T19:00:03.055116Z"
    }
   },
   "outputs": [],
   "source": [
    "def addNDGI(image):\n",
    "    ndgi = image.normalizedDifference(['B3','B4']).rename('NDGI')\n",
    "    return image.addBands(ndgi)"
   ]
  },
  {
   "cell_type": "code",
   "execution_count": 19,
   "id": "786770f8",
   "metadata": {
    "ExecuteTime": {
     "end_time": "2022-02-09T19:00:03.062186Z",
     "start_time": "2022-02-09T19:00:03.060239Z"
    }
   },
   "outputs": [],
   "source": [
    "def addSAVI(image):\n",
    "    savi = image.expression(\n",
    "        '((b5 - b4)/(b5 + b4 + 0.5))*1.5', {\n",
    "            'b4':image.select('B4'),\n",
    "            'b5':image.select('B5')\n",
    "        }) \n",
    "    savi= savi.rename('SAVI')\n",
    "    return image.addBands(savi)"
   ]
  },
  {
   "cell_type": "code",
   "execution_count": 20,
   "id": "410de657",
   "metadata": {
    "ExecuteTime": {
     "end_time": "2022-02-09T19:00:03.064881Z",
     "start_time": "2022-02-09T19:00:03.063154Z"
    }
   },
   "outputs": [],
   "source": [
    "def addNDBI(image):\n",
    "    ndbi = image.normalizedDifference(['B6','B5']).rename('NDBI')\n",
    "    return image.addBands(ndbi)"
   ]
  },
  {
   "cell_type": "code",
   "execution_count": 21,
   "id": "cffb72aa",
   "metadata": {
    "ExecuteTime": {
     "end_time": "2022-02-09T19:00:03.067595Z",
     "start_time": "2022-02-09T19:00:03.065681Z"
    }
   },
   "outputs": [],
   "source": [
    "def addNDSI(image):\n",
    "    ndsi = image.normalizedDifference(['B3','B6']).rename('NDSI')\n",
    "    return image.addBands(ndsi)"
   ]
  },
  {
   "cell_type": "code",
   "execution_count": 22,
   "id": "c054d0bf",
   "metadata": {
    "ExecuteTime": {
     "end_time": "2022-02-09T19:00:03.070610Z",
     "start_time": "2022-02-09T19:00:03.068515Z"
    }
   },
   "outputs": [],
   "source": [
    "def addEVI(image):\n",
    "    evi = image.expression(\n",
    "        '2.5*((b5 - b4)/(b5 + 6*b4 - 7.5*b2 + 1))', {\n",
    "            'b2':image.select('B2'),\n",
    "            'b4':image.select('B4'),\n",
    "            'b5':image.select('B5')\n",
    "        }) \n",
    "    evi = evi.rename('EVI')\n",
    "    return image.addBands(evi)"
   ]
  },
  {
   "cell_type": "code",
   "execution_count": 23,
   "id": "5c8b8b2f",
   "metadata": {
    "ExecuteTime": {
     "end_time": "2022-02-09T19:00:03.073492Z",
     "start_time": "2022-02-09T19:00:03.071571Z"
    }
   },
   "outputs": [],
   "source": [
    "def addDate(image):\n",
    "    img_date = ee.Date(image.date())\n",
    "    img_date = ee.Number.parse(img_date.format('YYYYMM'))\n",
    "    return image.addBands(ee.Image(img_date).rename('date').toInt())"
   ]
  },
  {
   "cell_type": "code",
   "execution_count": 24,
   "id": "04720d6b",
   "metadata": {
    "ExecuteTime": {
     "end_time": "2022-02-09T19:00:03.076101Z",
     "start_time": "2022-02-09T19:00:03.074323Z"
    }
   },
   "outputs": [],
   "source": [
    "def Cloud40(image):\n",
    "    scored = ee.Algorithms.Landsat.simpleCloudScore(image)\n",
    "    return image.updateMask(scored.select(['cloud']).lt(40)) "
   ]
  },
  {
   "cell_type": "code",
   "execution_count": 25,
   "id": "3115c210",
   "metadata": {
    "ExecuteTime": {
     "end_time": "2022-02-09T19:00:03.078828Z",
     "start_time": "2022-02-09T19:00:03.076906Z"
    }
   },
   "outputs": [],
   "source": [
    "def Cloud30(image):\n",
    "    scored = ee.Algorithms.Landsat.simpleCloudScore(image)\n",
    "    return image.updateMask(scored.select(['cloud']).lt(30)) "
   ]
  },
  {
   "cell_type": "code",
   "execution_count": 26,
   "id": "f86cf507",
   "metadata": {
    "ExecuteTime": {
     "end_time": "2022-02-09T19:00:03.081821Z",
     "start_time": "2022-02-09T19:00:03.079807Z"
    }
   },
   "outputs": [],
   "source": [
    "def Cloud20(image):\n",
    "    scored = ee.Algorithms.Landsat.simpleCloudScore(image)\n",
    "    return image.updateMask(scored.select(['cloud']).lt(20)) "
   ]
  },
  {
   "cell_type": "code",
   "execution_count": 27,
   "id": "9d288b40",
   "metadata": {
    "ExecuteTime": {
     "end_time": "2022-02-09T19:00:03.084466Z",
     "start_time": "2022-02-09T19:00:03.082805Z"
    }
   },
   "outputs": [],
   "source": [
    "def Cloud10(image):\n",
    "    scored = ee.Algorithms.Landsat.simpleCloudScore(image)\n",
    "    return image.updateMask(scored.select(['cloud']).lt(10))"
   ]
  },
  {
   "cell_type": "code",
   "execution_count": 28,
   "id": "92d6ba1b",
   "metadata": {
    "ExecuteTime": {
     "end_time": "2022-02-09T19:00:03.088825Z",
     "start_time": "2022-02-09T19:00:03.087084Z"
    }
   },
   "outputs": [],
   "source": [
    "def addCloud(image):\n",
    "    nube = ee.Algorithms.Landsat.simpleCloudScore(image)\n",
    "    return image.addBands(ee.Image(nube.select(['cloud'])).rename('nube'))"
   ]
  },
  {
   "cell_type": "code",
   "execution_count": 29,
   "id": "4eb69ead",
   "metadata": {
    "ExecuteTime": {
     "end_time": "2022-02-09T19:00:03.092657Z",
     "start_time": "2022-02-09T19:00:03.089786Z"
    }
   },
   "outputs": [],
   "source": [
    "def find_closest(target_image, image_col, days):\n",
    "    \"\"\"Filter images in a collection by date proximity and spatial intersection to a target image.\n",
    "\n",
    "    Args:\n",
    "        target_image: An ee.Image whose observation date is used to find near-date images in\n",
    "          the provided image_col image collection. It must have a 'system:time_start' property.\n",
    "        image_col: An ee.ImageCollection to filter by date proximity and spatial intersection\n",
    "          to the target_image. Each image in the collection must have a 'system:time_start'\n",
    "          property.\n",
    "        days: A number that defines the maximum number of days difference allowed between\n",
    "          the target_image and images in the image_col.\n",
    "\n",
    "    Returns:\n",
    "        An ee.ImageCollection that has been filtered to include those images that are within the\n",
    "          given date proximity to target_image and intersect it spatially.\n",
    "    \"\"\"\n",
    "\n",
    "    # Compute the timespan for N days (in milliseconds).\n",
    "    range = ee.Number(days).multiply(1000 * 60 * 60 * 24)\n",
    "\n",
    "    filter = ee.Filter.And(\n",
    "        ee.Filter.maxDifference(range, 'system:time_start', None, 'system:time_start'),\n",
    "        ee.Filter.intersects('.geo', None, '.geo'))\n",
    "\n",
    "    closest = (ee.Join.saveAll('matches', 'measure')\n",
    "        .apply(ee.ImageCollection([target_image]), image_col, filter))\n",
    "\n",
    "    return ee.ImageCollection(ee.List(closest.first().get('matches')))"
   ]
  },
  {
   "cell_type": "code",
   "execution_count": 30,
   "id": "b54bde64",
   "metadata": {
    "ExecuteTime": {
     "end_time": "2022-02-09T19:00:03.095167Z",
     "start_time": "2022-02-09T19:00:03.093507Z"
    }
   },
   "outputs": [],
   "source": [
    "vizParams = {\n",
    "  'bands': ['B5', 'B4', 'B3'],\n",
    "  'min': 0,\n",
    "  'max': 0.5,\n",
    "  'gamma': [0.95, 1.1, 1]\n",
    "}"
   ]
  },
  {
   "cell_type": "code",
   "execution_count": 31,
   "id": "71bcb153",
   "metadata": {
    "ExecuteTime": {
     "end_time": "2022-02-09T19:00:03.097660Z",
     "start_time": "2022-02-09T19:00:03.096073Z"
    }
   },
   "outputs": [],
   "source": [
    "vizParams_m = {\n",
    "  'bands': ['B5', 'B4', 'B3'],\n",
    "  'min': 0,\n",
    "  'max': 0.6,\n",
    "  'gamma': [1, 1, 1]\n",
    "}"
   ]
  },
  {
   "cell_type": "code",
   "execution_count": 32,
   "id": "aa02e8e2",
   "metadata": {
    "ExecuteTime": {
     "end_time": "2022-02-09T19:00:03.100068Z",
     "start_time": "2022-02-09T19:00:03.098502Z"
    }
   },
   "outputs": [],
   "source": [
    "vis_nieve = {\n",
    "  'bands': ['B6', 'B4', 'B3'],\n",
    "  'min': 0,\n",
    "  'max': 0.5,\n",
    "  'gamma': [0.95, 1.1, 1]\n",
    "}"
   ]
  },
  {
   "cell_type": "markdown",
   "id": "d9a442fb",
   "metadata": {},
   "source": [
    "## Colecciones"
   ]
  },
  {
   "cell_type": "markdown",
   "id": "f8131eb7",
   "metadata": {},
   "source": [
    "### 2022 Verano"
   ]
  },
  {
   "cell_type": "code",
   "execution_count": 33,
   "id": "3a413b3f",
   "metadata": {
    "ExecuteTime": {
     "end_time": "2022-02-09T19:00:03.103008Z",
     "start_time": "2022-02-09T19:00:03.100983Z"
    }
   },
   "outputs": [],
   "source": [
    "start_date = '2021-11-01'\n",
    "end_date = '2022-03-31'\n",
    "\n",
    "l8_2022 = ee.ImageCollection('LANDSAT/LC08/C01/T1_TOA') \\\n",
    "    .filterBounds(patagonia_grande) \\\n",
    "    .filterDate(start_date, end_date)  "
   ]
  },
  {
   "cell_type": "code",
   "execution_count": 34,
   "id": "e95247d7",
   "metadata": {
    "ExecuteTime": {
     "end_time": "2022-02-09T19:00:03.109033Z",
     "start_time": "2022-02-09T19:00:03.103908Z"
    }
   },
   "outputs": [],
   "source": [
    "coleccion2022 = l8_2022.map(addNDVI).map(addNDWI).map(addNDGI).map(addSAVI).map(addNDSI).map(addNDBI).map(addEVI).map(addDate).map(addCloud)"
   ]
  },
  {
   "cell_type": "code",
   "execution_count": null,
   "id": "573ac271",
   "metadata": {},
   "outputs": [],
   "source": [
    "c2022_sn = coleccion2022.map(Cloud10)\n",
    "QM_NDVI_2022_sn = c2022_sn.qualityMosaic('NDVI')\n",
    "Med_NDVI_2022_sn = (c2022_sn.median()).select('NDVI')\n",
    "QM_EVI_2022_sn = c2022_sn.qualityMosaic('EVI')\n",
    "Med_EVI_2022_sn = (c2022_sn.median()).select('EVI')"
   ]
  },
  {
   "cell_type": "markdown",
   "id": "5d07b81d",
   "metadata": {},
   "source": [
    "### 2021 Verano"
   ]
  },
  {
   "cell_type": "code",
   "execution_count": 35,
   "id": "0e0c1dfc",
   "metadata": {
    "ExecuteTime": {
     "end_time": "2022-02-09T19:00:03.113677Z",
     "start_time": "2022-02-09T19:00:03.109920Z"
    }
   },
   "outputs": [],
   "source": [
    "start_date = '2020-11-01'\n",
    "end_date = '2021-03-31'\n",
    "\n",
    "l8_2021 = ee.ImageCollection('LANDSAT/LC08/C01/T1_TOA') \\\n",
    "    .filterBounds(patagonia_grande) \\\n",
    "    .filterDate(start_date, end_date)  "
   ]
  },
  {
   "cell_type": "code",
   "execution_count": 36,
   "id": "74d427f9",
   "metadata": {
    "ExecuteTime": {
     "end_time": "2022-02-09T19:00:03.119239Z",
     "start_time": "2022-02-09T19:00:03.114492Z"
    }
   },
   "outputs": [],
   "source": [
    "coleccion2021 = l8_2021.map(addNDVI).map(addNDWI).map(addNDGI).map(addSAVI).map(addNDSI).map(addNDBI).map(addEVI).map(addDate).map(addCloud)"
   ]
  },
  {
   "cell_type": "code",
   "execution_count": 37,
   "id": "e660d316",
   "metadata": {
    "ExecuteTime": {
     "end_time": "2022-02-09T19:00:03.122165Z",
     "start_time": "2022-02-09T19:00:03.120080Z"
    }
   },
   "outputs": [],
   "source": [
    "QM_NDVI_2021 = coleccion2021.qualityMosaic('NDVI')\n",
    "QM_NDWI_2021 = coleccion2021.qualityMosaic('NDWI')\n",
    "QM_SAVI_2021 = coleccion2021.qualityMosaic('SAVI')\n",
    "QM_NDGI_2021 = coleccion2021.qualityMosaic('NDGI')\n",
    "QM_NDSI_2021 = coleccion2021.qualityMosaic('NDSI')"
   ]
  },
  {
   "cell_type": "code",
   "execution_count": 38,
   "id": "2b71385b",
   "metadata": {
    "ExecuteTime": {
     "end_time": "2022-02-09T19:00:03.125333Z",
     "start_time": "2022-02-09T19:00:03.122994Z"
    }
   },
   "outputs": [],
   "source": [
    "c2021_sn = coleccion2021.map(Cloud10)\n",
    "QM_NDVI_2021_sn = c2021_sn.qualityMosaic('NDVI')\n",
    "QM_NDWI_2021_sn = c2021_sn.qualityMosaic('NDWI')\n",
    "QM_SAVI_2021_sn = c2021_sn.qualityMosaic('SAVI')\n",
    "QM_NDGI_2021_sn = c2021_sn.qualityMosaic('NDGI')\n",
    "QM_NDSI_2021_sn = c2021_sn.qualityMosaic('NDSI')\n",
    "Med_NDVI_2021_sn = (c2021_sn.median()).select('NDVI')\n",
    "Med_EVI_2021_sn = (c2021_sn.median()).select('EVI')"
   ]
  },
  {
   "cell_type": "code",
   "execution_count": 39,
   "id": "e2ee17c2",
   "metadata": {
    "ExecuteTime": {
     "end_time": "2022-02-09T19:00:11.284281Z",
     "start_time": "2022-02-09T19:00:03.126162Z"
    }
   },
   "outputs": [
    {
     "data": {
      "application/vnd.jupyter.widget-view+json": {
       "model_id": "0f6b2aa3bb9040e9a5f09b1bb2f2d630",
       "version_major": 2,
       "version_minor": 0
      },
      "text/plain": [
       "Map(center=[-45, -70], controls=(WidgetControl(options=['position', 'transparent_bg'], widget=HBox(children=(T…"
      ]
     },
     "metadata": {},
     "output_type": "display_data"
    }
   ],
   "source": [
    "Map.addLayer(QM_NDVI_2021_sn, vizParams, 'QMsn de NDVI 2021')\n",
    "Map.addLayer(QM_NDVI_2021, vizParams, 'QM de NDVI 2021')\n",
    "Map.addLayer(QM_NDWI_2021_sn, vizParams, 'QMsn de NDWI 2021')\n",
    "Map.addLayer(QM_SAVI_2021_sn, vizParams, 'QMsn de SAVI 2021')\n",
    "Map.addLayer(QM_NDGI_2021_sn, vis_nieve, 'QMsn de NDGI 2021')\n",
    "Map.addLayer(QM_NDSI_2021_sn, vis_nieve, 'QMsn de NDSI 2021')\n",
    "Map"
   ]
  },
  {
   "cell_type": "code",
   "execution_count": 40,
   "id": "1994dbdf",
   "metadata": {
    "ExecuteTime": {
     "end_time": "2022-02-09T19:00:11.286814Z",
     "start_time": "2022-02-09T19:00:11.285192Z"
    }
   },
   "outputs": [],
   "source": [
    "NDVI_2021_l8 = NDVI_2021.set('SENSOR_ID', 'OLI_TIRS')"
   ]
  },
  {
   "cell_type": "code",
   "execution_count": 41,
   "id": "60a91aeb",
   "metadata": {
    "ExecuteTime": {
     "end_time": "2022-02-09T19:00:11.289318Z",
     "start_time": "2022-02-09T19:00:11.287593Z"
    }
   },
   "outputs": [],
   "source": [
    "cloud_2021_l8 = ee.Algorithms.Landsat.simpleCloudScore(NDVI_2021_l8)\n",
    "cloud_2021_l8 = cloud_2021_l8.select('cloud')"
   ]
  },
  {
   "cell_type": "code",
   "execution_count": 42,
   "id": "27740f8b",
   "metadata": {
    "ExecuteTime": {
     "end_time": "2022-02-09T19:00:11.292215Z",
     "start_time": "2022-02-09T19:00:11.290287Z"
    }
   },
   "outputs": [],
   "source": [
    "palette_nubes = ['#1a9850', '#66bd63', '#a6d96a', '#d9ef8b', '#fee08b', '#fdae61', '#f46d43', '#d73027']"
   ]
  },
  {
   "cell_type": "code",
   "execution_count": 43,
   "id": "613ea840",
   "metadata": {
    "ExecuteTime": {
     "end_time": "2022-02-09T19:00:11.294599Z",
     "start_time": "2022-02-09T19:00:11.293064Z"
    }
   },
   "outputs": [],
   "source": [
    "resultados= [cloud_2021_l8, NDVI_2021]\n",
    "vis_params2=  [\n",
    "    {'palette':palette_nubes}, \n",
    "    vizParams]\n",
    "labels = [\n",
    "    'Nubes 2021',\n",
    "    'QM NDVI 2021']"
   ]
  },
  {
   "cell_type": "code",
   "execution_count": 44,
   "id": "cb0d5f26",
   "metadata": {
    "ExecuteTime": {
     "end_time": "2022-02-09T19:00:11.296648Z",
     "start_time": "2022-02-09T19:00:11.295291Z"
    }
   },
   "outputs": [],
   "source": [
    "# geemap.linked_maps(rows=1, cols=2, height=\"400px\", center=[-45, -75], zoom=4, \n",
    "#                    ee_objects=resultados, vis_params=vis_params2, labels=labels, label_position=\"topright\")"
   ]
  },
  {
   "cell_type": "markdown",
   "id": "b8617200",
   "metadata": {},
   "source": [
    "### 2020 Verano"
   ]
  },
  {
   "cell_type": "code",
   "execution_count": 45,
   "id": "0401d370",
   "metadata": {
    "ExecuteTime": {
     "end_time": "2022-02-09T19:00:11.299443Z",
     "start_time": "2022-02-09T19:00:11.297586Z"
    }
   },
   "outputs": [],
   "source": [
    "start_date = '2019-11-01'\n",
    "end_date = '2020-03-31'\n",
    "\n",
    "l8_2020 = ee.ImageCollection('LANDSAT/LC08/C01/T1_TOA') \\\n",
    "    .filterBounds(patagonia_grande) \\\n",
    "    .filterDate(start_date, end_date)"
   ]
  },
  {
   "cell_type": "markdown",
   "id": "811a0128",
   "metadata": {},
   "source": [
    "### 2019 Verano"
   ]
  },
  {
   "cell_type": "code",
   "execution_count": 46,
   "id": "d756b623",
   "metadata": {
    "ExecuteTime": {
     "end_time": "2022-02-09T19:00:11.302182Z",
     "start_time": "2022-02-09T19:00:11.300236Z"
    }
   },
   "outputs": [],
   "source": [
    "start_date = '2018-11-01'\n",
    "end_date = '2019-03-31'\n",
    "\n",
    "l8_2019 = ee.ImageCollection('LANDSAT/LC08/C01/T1_TOA') \\\n",
    "    .filterBounds(patagonia_grande) \\\n",
    "    .filterDate(start_date, end_date)"
   ]
  },
  {
   "cell_type": "markdown",
   "id": "158f0bb1",
   "metadata": {},
   "source": [
    "### 2018 Verano"
   ]
  },
  {
   "cell_type": "code",
   "execution_count": 47,
   "id": "2c2ce2a2",
   "metadata": {
    "ExecuteTime": {
     "end_time": "2022-02-09T19:00:11.304888Z",
     "start_time": "2022-02-09T19:00:11.303102Z"
    }
   },
   "outputs": [],
   "source": [
    "start_date = '2017-11-01'\n",
    "end_date = '2018-03-31'\n",
    "\n",
    "l8_2018 = ee.ImageCollection('LANDSAT/LC08/C01/T1_TOA') \\\n",
    "    .filterBounds(patagonia_grande) \\\n",
    "    .filterDate(start_date, end_date)"
   ]
  },
  {
   "cell_type": "markdown",
   "id": "ad28b803",
   "metadata": {},
   "source": [
    "### 2017 Verano"
   ]
  },
  {
   "cell_type": "code",
   "execution_count": 48,
   "id": "1917c893",
   "metadata": {
    "ExecuteTime": {
     "end_time": "2022-02-09T19:00:11.307669Z",
     "start_time": "2022-02-09T19:00:11.305831Z"
    }
   },
   "outputs": [],
   "source": [
    "start_date = '2016-11-01'\n",
    "end_date = '2017-03-31'\n",
    "\n",
    "l8_2017 = ee.ImageCollection('LANDSAT/LC08/C01/T1_TOA') \\\n",
    "    .filterBounds(patagonia_grande) \\\n",
    "    .filterDate(start_date, end_date)"
   ]
  },
  {
   "cell_type": "markdown",
   "id": "d0a1318e",
   "metadata": {},
   "source": [
    "### 2022-2017 Colección "
   ]
  },
  {
   "cell_type": "code",
   "execution_count": 49,
   "id": "73e05438",
   "metadata": {
    "ExecuteTime": {
     "end_time": "2022-02-09T19:00:11.310707Z",
     "start_time": "2022-02-09T19:00:11.308580Z"
    }
   },
   "outputs": [],
   "source": [
    "filtersummer = ee.Filter.Or(\n",
    "    ee.Filter.date('2021-11-01','2022-02-01'),\n",
    "    ee.Filter.date('2020-11-01','2021-03-31'),\n",
    "    ee.Filter.date('2019-11-01','2020-03-31'),\n",
    "    ee.Filter.date('2018-11-01','2019-03-31'),\n",
    "    ee.Filter.date('2017-11-01','2018-03-31')\n",
    ")"
   ]
  },
  {
   "cell_type": "code",
   "execution_count": 50,
   "id": "e3459c31",
   "metadata": {
    "ExecuteTime": {
     "end_time": "2022-02-09T19:00:11.313664Z",
     "start_time": "2022-02-09T19:00:11.311722Z"
    }
   },
   "outputs": [],
   "source": [
    "coleccion2022_2017 = ee.ImageCollection('LANDSAT/LC08/C01/T1_TOA') \\\n",
    "    .filterDate('2017-11-01', '2021-03-31') \\\n",
    "    .filter(filtersummer) \\\n",
    "    .filterBounds(patagonia_grande)"
   ]
  },
  {
   "cell_type": "code",
   "execution_count": 51,
   "id": "b84c22d9",
   "metadata": {
    "ExecuteTime": {
     "end_time": "2022-02-09T19:00:11.319777Z",
     "start_time": "2022-02-09T19:00:11.314544Z"
    }
   },
   "outputs": [],
   "source": [
    "l8_summer= coleccion2022_2017.map(addNDVI).map(addNDWI).map(addNDGI).map(addSAVI).map(addNDSI).map(addNDBI).map(addEVI).map(addDate).map(addCloud)"
   ]
  },
  {
   "cell_type": "code",
   "execution_count": 52,
   "id": "63f1960c",
   "metadata": {
    "ExecuteTime": {
     "end_time": "2022-02-09T19:00:11.322387Z",
     "start_time": "2022-02-09T19:00:11.320749Z"
    }
   },
   "outputs": [],
   "source": [
    "cloudest = l8_summer.qualityMosaic('nube')"
   ]
  },
  {
   "cell_type": "code",
   "execution_count": 53,
   "id": "cbb613f8",
   "metadata": {
    "ExecuteTime": {
     "end_time": "2022-02-09T19:00:14.117429Z",
     "start_time": "2022-02-09T19:00:11.323256Z"
    },
    "scrolled": false
   },
   "outputs": [
    {
     "data": {
      "application/vnd.jupyter.widget-view+json": {
       "model_id": "228bac830226465ea49d99229792993d",
       "version_major": 2,
       "version_minor": 0
      },
      "text/plain": [
       "Map(center=[-45, -70], controls=(WidgetControl(options=['position', 'transparent_bg'], widget=HBox(children=(T…"
      ]
     },
     "metadata": {},
     "output_type": "display_data"
    }
   ],
   "source": [
    "Map2.addLayer(cloudest, vizParams, 'máximo de nubes')\n",
    "Map2.addLayer(l8_summer.median(), vizParams, 'median')\n",
    "Map2 "
   ]
  },
  {
   "cell_type": "markdown",
   "id": "12cf11b9",
   "metadata": {},
   "source": [
    "### Tier 1\n"
   ]
  },
  {
   "cell_type": "code",
   "execution_count": 54,
   "id": "65f6e56e",
   "metadata": {
    "ExecuteTime": {
     "end_time": "2022-02-09T19:00:14.120713Z",
     "start_time": "2022-02-09T19:00:14.118249Z"
    }
   },
   "outputs": [],
   "source": [
    "Tier1_sn = l8_summer.map(Cloud10)"
   ]
  },
  {
   "cell_type": "code",
   "execution_count": 55,
   "id": "61a35ad7",
   "metadata": {
    "ExecuteTime": {
     "end_time": "2022-02-09T19:00:14.123825Z",
     "start_time": "2022-02-09T19:00:14.121876Z"
    }
   },
   "outputs": [],
   "source": [
    "QM_NDVI_T1 = Tier1_sn.qualityMosaic('NDVI')# Normalized difference vegetation Index\n",
    "QM_NDWI_T1 = Tier1_sn.qualityMosaic('NDWI') # Normalize difference water index\n",
    "QM_SAVI_T1 = Tier1_sn.qualityMosaic('SAVI') # Soil Adjusted Vegetation Index \n",
    "QM_NDGI_T1 = Tier1_sn.qualityMosaic('NDGI') # Normalized difference glacier index\n",
    "QM_NDSI_T1 = Tier1_sn.qualityMosaic('NDSI') # Normalized difference snow index"
   ]
  },
  {
   "cell_type": "code",
   "execution_count": 56,
   "id": "416683d4",
   "metadata": {
    "ExecuteTime": {
     "end_time": "2022-02-09T19:00:22.834956Z",
     "start_time": "2022-02-09T19:00:14.124786Z"
    }
   },
   "outputs": [
    {
     "data": {
      "application/vnd.jupyter.widget-view+json": {
       "model_id": "228bac830226465ea49d99229792993d",
       "version_major": 2,
       "version_minor": 0
      },
      "text/plain": [
       "Map(center=[-45, -70], controls=(WidgetControl(options=['position', 'transparent_bg'], widget=HBox(children=(T…"
      ]
     },
     "metadata": {},
     "output_type": "display_data"
    }
   ],
   "source": [
    "Map2.addLayer(QM_NDVI_T1, vizParams, 'QM de NDVI T1')\n",
    "Map2.addLayer(QM_NDWI_T1, vizParams, 'QM de NDWI T1')\n",
    "Map2.addLayer(QM_SAVI_T1, vizParams, 'QM de SAVI T1')\n",
    "Map2.addLayer(QM_NDGI_T1, vis_nieve, 'QM de NDGI T1')\n",
    "Map2.addLayer(QM_NDSI_T1, vizParams, 'QM de NDSI T1')\n",
    "\n",
    "Map2.addLayer(Tier1_sn.median(), vizParams, 'mediana de T1')\n",
    "Map2 "
   ]
  },
  {
   "cell_type": "markdown",
   "id": "5f58151c",
   "metadata": {},
   "source": [
    "### Tier 2"
   ]
  },
  {
   "cell_type": "code",
   "execution_count": 57,
   "id": "3f1efa8c",
   "metadata": {
    "ExecuteTime": {
     "end_time": "2022-02-09T19:00:22.837945Z",
     "start_time": "2022-02-09T19:00:22.835932Z"
    }
   },
   "outputs": [],
   "source": [
    "Tier2_sn = l8_summer.map(Cloud20)"
   ]
  },
  {
   "cell_type": "code",
   "execution_count": 58,
   "id": "888370aa",
   "metadata": {
    "ExecuteTime": {
     "end_time": "2022-02-09T19:00:22.841625Z",
     "start_time": "2022-02-09T19:00:22.838793Z"
    }
   },
   "outputs": [],
   "source": [
    "QM_NDVI_T2 = Tier2_sn.qualityMosaic('NDVI')# Normalized difference vegetation Index\n",
    "QM_NDWI_T2 = Tier2_sn.qualityMosaic('NDWI') # Normalize difference water index\n",
    "QM_SAVI_T2 = Tier2_sn.qualityMosaic('SAVI') # Soil Adjusted Vegetation Index \n",
    "QM_NDGI_T2 = Tier2_sn.qualityMosaic('NDGI') # Normalized difference glacier index\n",
    "QM_NDSI_T2 = Tier2_sn.qualityMosaic('NDSI') # Normalized difference snow index"
   ]
  },
  {
   "cell_type": "code",
   "execution_count": 59,
   "id": "bfe0fd96",
   "metadata": {
    "ExecuteTime": {
     "end_time": "2022-02-09T19:00:22.843771Z",
     "start_time": "2022-02-09T19:00:22.842442Z"
    }
   },
   "outputs": [],
   "source": [
    "# Map2.addLayer(QM_NDVI_T2, vizParams, 'QM de NDVI T2')\n",
    "# Map2.addLayer(QM_NDWI_T2, vizParams, 'QM de NDWI T2')\n",
    "# Map2.addLayer(QM_SAVI_T2, vizParams, 'QM de SAVI T2')\n",
    "# Map2.addLayer(QM_NDGI_T2, vis_nieve, 'QM de NDGI T2')\n",
    "# Map2.addLayer(QM_NDSI_T2, vis_nieve, 'QM de NDSI T2')\n",
    "# Map2 "
   ]
  },
  {
   "cell_type": "markdown",
   "id": "783d2e36",
   "metadata": {},
   "source": [
    "### Tier 3"
   ]
  },
  {
   "cell_type": "code",
   "execution_count": 60,
   "id": "cba970e0",
   "metadata": {
    "ExecuteTime": {
     "end_time": "2022-02-09T19:00:22.846260Z",
     "start_time": "2022-02-09T19:00:22.844601Z"
    }
   },
   "outputs": [],
   "source": [
    "Tier3_sn = l8_summer.map(Cloud30)"
   ]
  },
  {
   "cell_type": "code",
   "execution_count": 61,
   "id": "8a844166",
   "metadata": {
    "ExecuteTime": {
     "end_time": "2022-02-09T19:00:22.849008Z",
     "start_time": "2022-02-09T19:00:22.847055Z"
    }
   },
   "outputs": [],
   "source": [
    "QM_NDVI_T3 = Tier3_sn.qualityMosaic('NDVI')# Normalized difference vegetation Index\n",
    "QM_NDWI_T3 = Tier3_sn.qualityMosaic('NDWI') # Normalize difference water index\n",
    "QM_SAVI_T3 = Tier3_sn.qualityMosaic('SAVI') # Soil Adjusted Vegetation Index \n",
    "QM_NDGI_T3 = Tier3_sn.qualityMosaic('NDGI') # Normalized difference glacier index\n",
    "QM_NDSI_T3 = Tier3_sn.qualityMosaic('NDSI') # Normalized difference snow index"
   ]
  },
  {
   "cell_type": "markdown",
   "id": "b2453291",
   "metadata": {},
   "source": [
    "### Tier 4"
   ]
  },
  {
   "cell_type": "code",
   "execution_count": 62,
   "id": "7a204626",
   "metadata": {
    "ExecuteTime": {
     "end_time": "2022-02-09T19:00:22.851769Z",
     "start_time": "2022-02-09T19:00:22.849767Z"
    }
   },
   "outputs": [],
   "source": [
    "Tier4_sn = l8_summer.map(Cloud40)"
   ]
  },
  {
   "cell_type": "code",
   "execution_count": 63,
   "id": "7339980d",
   "metadata": {
    "ExecuteTime": {
     "end_time": "2022-02-09T19:00:22.854515Z",
     "start_time": "2022-02-09T19:00:22.852674Z"
    }
   },
   "outputs": [],
   "source": [
    "QM_NDVI_T4 = Tier4_sn.qualityMosaic('NDVI')# Normalized difference vegetation Index\n",
    "QM_NDWI_T4 = Tier4_sn.qualityMosaic('NDWI') # Normalize difference water index\n",
    "QM_SAVI_T4 = Tier4_sn.qualityMosaic('SAVI') # Soil Adjusted Vegetation Index \n",
    "QM_NDGI_T4 = Tier4_sn.qualityMosaic('NDGI') # Normalized difference glacier index\n",
    "QM_NDSI_T4 = Tier4_sn.qualityMosaic('NDSI') # Normalized difference snow index"
   ]
  },
  {
   "cell_type": "markdown",
   "id": "2029216e",
   "metadata": {},
   "source": [
    "## Colección tierra del fuego"
   ]
  },
  {
   "cell_type": "code",
   "execution_count": 64,
   "id": "69c552c6",
   "metadata": {
    "ExecuteTime": {
     "end_time": "2022-02-09T19:00:22.857490Z",
     "start_time": "2022-02-09T19:00:22.855306Z"
    }
   },
   "outputs": [],
   "source": [
    "filtersummerf = ee.Filter.Or(\n",
    "    ee.Filter.date('2021-11-01','2022-02-01'),\n",
    "    ee.Filter.date('2020-11-01','2021-03-31'),\n",
    "    ee.Filter.date('2019-11-01','2020-03-31'),\n",
    "    ee.Filter.date('2018-11-01','2019-03-31'),\n",
    "    ee.Filter.date('2017-11-01','2018-03-31')\n",
    ")"
   ]
  },
  {
   "cell_type": "code",
   "execution_count": 65,
   "id": "3698479a",
   "metadata": {
    "ExecuteTime": {
     "end_time": "2022-02-09T19:00:22.860172Z",
     "start_time": "2022-02-09T19:00:22.858303Z"
    }
   },
   "outputs": [],
   "source": [
    "coleccion2022_2017 = ee.ImageCollection('LANDSAT/LC08/C01/T1_TOA') \\\n",
    "    .filterDate('2017-11-01', '2022-03-31') \\\n",
    "    .filter(filtersummerf) \\\n",
    "    .filterBounds(tierra_fuego)"
   ]
  },
  {
   "cell_type": "code",
   "execution_count": 66,
   "id": "b820dfa4",
   "metadata": {
    "ExecuteTime": {
     "end_time": "2022-02-09T19:00:22.866459Z",
     "start_time": "2022-02-09T19:00:22.861081Z"
    }
   },
   "outputs": [],
   "source": [
    "l8_summer_sur= coleccion2022_2017.map(addNDVI).map(addNDWI).map(addNDGI).map(addSAVI).map(addNDSI).map(addNDBI).map(addDate).map(addCloud)"
   ]
  },
  {
   "cell_type": "code",
   "execution_count": 67,
   "id": "0a876e8d",
   "metadata": {
    "ExecuteTime": {
     "end_time": "2022-02-09T19:00:24.140116Z",
     "start_time": "2022-02-09T19:00:22.867424Z"
    }
   },
   "outputs": [
    {
     "data": {
      "application/vnd.jupyter.widget-view+json": {
       "model_id": "588846ea14c2478b98b17ac56207ac70",
       "version_major": 2,
       "version_minor": 0
      },
      "text/plain": [
       "Map(center=[-45, -70], controls=(WidgetControl(options=['position', 'transparent_bg'], widget=HBox(children=(T…"
      ]
     },
     "metadata": {},
     "output_type": "display_data"
    }
   ],
   "source": [
    "Map3.addLayer(l8_summer_sur.median(), vizParams, 'median')\n",
    "Map3"
   ]
  },
  {
   "cell_type": "markdown",
   "id": "11db41ec",
   "metadata": {},
   "source": [
    "### Tier 1 Sur"
   ]
  },
  {
   "cell_type": "code",
   "execution_count": 68,
   "id": "56144837",
   "metadata": {
    "ExecuteTime": {
     "end_time": "2022-02-09T19:00:24.143294Z",
     "start_time": "2022-02-09T19:00:24.141056Z"
    }
   },
   "outputs": [],
   "source": [
    "Tier1_sn_sur = l8_summer_sur.map(Cloud10)"
   ]
  },
  {
   "cell_type": "code",
   "execution_count": 69,
   "id": "28f9aa01",
   "metadata": {
    "ExecuteTime": {
     "end_time": "2022-02-09T19:00:24.146394Z",
     "start_time": "2022-02-09T19:00:24.144012Z"
    }
   },
   "outputs": [],
   "source": [
    "QM_NDVI_T1_sur = Tier1_sn_sur.qualityMosaic('NDVI')# Normalized difference vegetation Index\n",
    "QM_NDWI_T1_sur = Tier1_sn_sur.qualityMosaic('NDWI') # Normalize difference water index\n",
    "QM_SAVI_T1_sur = Tier1_sn_sur.qualityMosaic('SAVI') # Soil Adjusted Vegetation Index \n",
    "QM_NDGI_T1_sur = Tier1_sn_sur.qualityMosaic('NDGI') # Normalized difference glacier index\n",
    "QM_NDSI_T1_sur = Tier1_sn_sur.qualityMosaic('NDSI') # Normalized difference snow index"
   ]
  },
  {
   "cell_type": "code",
   "execution_count": 70,
   "id": "6b688782",
   "metadata": {
    "ExecuteTime": {
     "end_time": "2022-02-09T19:00:31.639168Z",
     "start_time": "2022-02-09T19:00:24.147194Z"
    }
   },
   "outputs": [
    {
     "data": {
      "application/vnd.jupyter.widget-view+json": {
       "model_id": "588846ea14c2478b98b17ac56207ac70",
       "version_major": 2,
       "version_minor": 0
      },
      "text/plain": [
       "Map(center=[-45, -70], controls=(WidgetControl(options=['position', 'transparent_bg'], widget=HBox(children=(T…"
      ]
     },
     "metadata": {},
     "output_type": "display_data"
    }
   ],
   "source": [
    "Map3.addLayer(QM_NDVI_T1_sur, vizParams, 'QM de NDVI T1_sur')\n",
    "Map3.addLayer(QM_NDWI_T1_sur, vizParams, 'QM de NDWI T1_sur')\n",
    "Map3.addLayer(QM_SAVI_T1_sur, vizParams, 'QM de SAVI T1_sur')\n",
    "Map3.addLayer(QM_NDGI_T1_sur, vis_nieve, 'QM de NDGI T1_sur')\n",
    "Map3.addLayer(QM_NDSI_T1_sur, vizParams, 'QM de NDSI T1_sur')\n",
    "Map3.addLayer((Tier1_sn_sur).median(), vizParams, 'Mediana de mosaico T1_sur')\n",
    "Map3 "
   ]
  },
  {
   "cell_type": "code",
   "execution_count": null,
   "id": "38712607",
   "metadata": {},
   "outputs": [],
   "source": []
  },
  {
   "cell_type": "code",
   "execution_count": null,
   "id": "19be06b4",
   "metadata": {},
   "outputs": [],
   "source": []
  },
  {
   "cell_type": "markdown",
   "id": "dd05e9e8",
   "metadata": {},
   "source": [
    "## Generación de Mosaico QM"
   ]
  },
  {
   "cell_type": "code",
   "execution_count": 71,
   "id": "9b229098",
   "metadata": {
    "ExecuteTime": {
     "end_time": "2022-02-09T19:00:31.641946Z",
     "start_time": "2022-02-09T19:00:31.640015Z"
    }
   },
   "outputs": [],
   "source": [
    "NDVI_2021_landsat = cloudest.set('SENSOR_ID', 'OLI_TIRS')"
   ]
  },
  {
   "cell_type": "code",
   "execution_count": 72,
   "id": "a98110ba",
   "metadata": {
    "ExecuteTime": {
     "end_time": "2022-02-09T19:00:31.644154Z",
     "start_time": "2022-02-09T19:00:31.642590Z"
    }
   },
   "outputs": [],
   "source": [
    "cloud_2021 = ee.Algorithms.Landsat.simpleCloudScore(NDVI_2021_landsat)"
   ]
  },
  {
   "cell_type": "code",
   "execution_count": 73,
   "id": "745b712d",
   "metadata": {
    "ExecuteTime": {
     "end_time": "2022-02-09T19:00:31.646396Z",
     "start_time": "2022-02-09T19:00:31.644923Z"
    }
   },
   "outputs": [],
   "source": [
    "cloud_2021 = cloud_2021.select('cloud')"
   ]
  },
  {
   "cell_type": "code",
   "execution_count": 74,
   "id": "3351dfe9",
   "metadata": {
    "ExecuteTime": {
     "end_time": "2022-02-09T19:00:31.648628Z",
     "start_time": "2022-02-09T19:00:31.647046Z"
    }
   },
   "outputs": [],
   "source": [
    "palette_nubes = ['#1a9850', '#d73027']"
   ]
  },
  {
   "cell_type": "code",
   "execution_count": 75,
   "id": "aa1c77e2",
   "metadata": {
    "ExecuteTime": {
     "end_time": "2022-02-09T19:00:31.651628Z",
     "start_time": "2022-02-09T19:00:31.649531Z"
    }
   },
   "outputs": [],
   "source": [
    "resultados= [cloud_2021, cloudest]\n",
    "vis_params2=  [\n",
    "    {'palette':palette_nubes}, \n",
    "    vizParams]\n",
    "labels = [\n",
    "    'Nubes 2021',\n",
    "    'QM NDVI 2021']"
   ]
  },
  {
   "cell_type": "code",
   "execution_count": 76,
   "id": "28e91129",
   "metadata": {
    "ExecuteTime": {
     "end_time": "2022-02-09T19:00:36.805720Z",
     "start_time": "2022-02-09T19:00:31.652564Z"
    }
   },
   "outputs": [
    {
     "data": {
      "application/vnd.jupyter.widget-view+json": {
       "model_id": "4ab947c57f9541b6a2634d5925572b7e",
       "version_major": 2,
       "version_minor": 0
      },
      "text/plain": [
       "GridspecLayout(children=(Output(layout=Layout(grid_area='widget001')), Output(layout=Layout(grid_area='widget0…"
      ]
     },
     "metadata": {},
     "output_type": "display_data"
    }
   ],
   "source": [
    "geemap.linked_maps(rows=1, cols=2, height=\"400px\", center=[-45, -75], zoom=4, \n",
    "                   ee_objects=resultados, vis_params=vis_params2, labels=labels, label_position=\"topright\")"
   ]
  },
  {
   "cell_type": "code",
   "execution_count": 77,
   "id": "21067811",
   "metadata": {
    "ExecuteTime": {
     "end_time": "2022-02-09T19:00:38.139822Z",
     "start_time": "2022-02-09T19:00:36.806594Z"
    }
   },
   "outputs": [
    {
     "data": {
      "text/plain": [
       "['B1',\n",
       " 'B2',\n",
       " 'B3',\n",
       " 'B4',\n",
       " 'B5',\n",
       " 'B6',\n",
       " 'B7',\n",
       " 'B8',\n",
       " 'B9',\n",
       " 'B10',\n",
       " 'B11',\n",
       " 'BQA',\n",
       " 'NDVI',\n",
       " 'NDWI',\n",
       " 'NDGI',\n",
       " 'SAVI',\n",
       " 'NDSI',\n",
       " 'NDBI',\n",
       " 'EVI',\n",
       " 'date',\n",
       " 'nube']"
      ]
     },
     "execution_count": 77,
     "metadata": {},
     "output_type": "execute_result"
    }
   ],
   "source": [
    "QM_NDVI_T1.bandNames().getInfo()"
   ]
  },
  {
   "cell_type": "code",
   "execution_count": 78,
   "id": "93ea56bf",
   "metadata": {
    "ExecuteTime": {
     "end_time": "2022-02-09T19:00:38.142698Z",
     "start_time": "2022-02-09T19:00:38.140790Z"
    }
   },
   "outputs": [],
   "source": [
    "def llenado(image):\n",
    "    return image.where(cloud_2021.gt(10),QM_NDVI_T1)"
   ]
  },
  {
   "cell_type": "code",
   "execution_count": 79,
   "id": "8287934f",
   "metadata": {
    "ExecuteTime": {
     "end_time": "2022-02-09T19:00:38.145107Z",
     "start_time": "2022-02-09T19:00:38.143700Z"
    }
   },
   "outputs": [],
   "source": [
    "img1 = llenado(cloudest)"
   ]
  },
  {
   "cell_type": "code",
   "execution_count": 80,
   "id": "0ea4ebed",
   "metadata": {
    "ExecuteTime": {
     "end_time": "2022-02-09T19:00:38.147636Z",
     "start_time": "2022-02-09T19:00:38.145996Z"
    }
   },
   "outputs": [],
   "source": [
    "img1_landsat = img1.set('SENSOR_ID', 'OLI_TIRS')\n",
    "cloud_img1 = ee.Algorithms.Landsat.simpleCloudScore(img1_landsat)\n",
    "cloud_img1 = cloud_img1.select('cloud')"
   ]
  },
  {
   "cell_type": "code",
   "execution_count": 81,
   "id": "84dbb2d4",
   "metadata": {
    "ExecuteTime": {
     "end_time": "2022-02-09T19:00:38.150475Z",
     "start_time": "2022-02-09T19:00:38.148630Z"
    }
   },
   "outputs": [],
   "source": [
    "resultados= [cloud_img1, img1]\n",
    "vis_params2=  [\n",
    "    {'palette':palette_nubes}, \n",
    "    vizParams]\n",
    "labels = [\n",
    "    'Nubes Mosaico 1',\n",
    "    'Mosaico 1']"
   ]
  },
  {
   "cell_type": "code",
   "execution_count": 82,
   "id": "f3c2a996",
   "metadata": {
    "ExecuteTime": {
     "end_time": "2022-02-09T19:00:41.415354Z",
     "start_time": "2022-02-09T19:00:38.156558Z"
    }
   },
   "outputs": [
    {
     "data": {
      "application/vnd.jupyter.widget-view+json": {
       "model_id": "eefcfc79c30b41ee922358f556ef49ee",
       "version_major": 2,
       "version_minor": 0
      },
      "text/plain": [
       "GridspecLayout(children=(Output(layout=Layout(grid_area='widget001')), Output(layout=Layout(grid_area='widget0…"
      ]
     },
     "metadata": {},
     "output_type": "display_data"
    }
   ],
   "source": [
    "geemap.linked_maps(rows=1, cols=2, height=\"400px\", center=[-45, -75], zoom=4, \n",
    "                   ee_objects=resultados, vis_params=vis_params2, labels=labels, label_position=\"topright\")"
   ]
  },
  {
   "cell_type": "code",
   "execution_count": 83,
   "id": "9a243ac4",
   "metadata": {
    "ExecuteTime": {
     "end_time": "2022-02-09T19:00:41.418012Z",
     "start_time": "2022-02-09T19:00:41.416234Z"
    }
   },
   "outputs": [],
   "source": [
    "def llenado2(image):\n",
    "    return image.where(cloud_img1.gt(10), QM_NDVI_T2)"
   ]
  },
  {
   "cell_type": "code",
   "execution_count": 84,
   "id": "ada6d94e",
   "metadata": {
    "ExecuteTime": {
     "end_time": "2022-02-09T19:00:41.420780Z",
     "start_time": "2022-02-09T19:00:41.418930Z"
    }
   },
   "outputs": [],
   "source": [
    "img2 = llenado2(img1)"
   ]
  },
  {
   "cell_type": "code",
   "execution_count": 85,
   "id": "e3db0a52",
   "metadata": {
    "ExecuteTime": {
     "end_time": "2022-02-09T19:00:41.423414Z",
     "start_time": "2022-02-09T19:00:41.421602Z"
    }
   },
   "outputs": [],
   "source": [
    "img2_landsat = img2.set('SENSOR_ID', 'OLI_TIRS')\n",
    "cloud_img2 = ee.Algorithms.Landsat.simpleCloudScore(img2_landsat)\n",
    "cloud_img2 = cloud_img2.select('cloud')"
   ]
  },
  {
   "cell_type": "code",
   "execution_count": 260,
   "id": "42d22742",
   "metadata": {
    "ExecuteTime": {
     "end_time": "2022-02-09T20:29:40.365645Z",
     "start_time": "2022-02-09T20:29:40.363584Z"
    }
   },
   "outputs": [],
   "source": [
    "resultados= [cloud_img2, img2_landsat]\n",
    "vis_params2=  [\n",
    "    {'palette':palette_nubes}, \n",
    "    vizParams]\n",
    "labels = [\n",
    "    'Nubes Mosaico 2',\n",
    "    'Mosaico 2']"
   ]
  },
  {
   "cell_type": "code",
   "execution_count": 261,
   "id": "5bdcab8c",
   "metadata": {
    "ExecuteTime": {
     "end_time": "2022-02-09T20:29:50.717837Z",
     "start_time": "2022-02-09T20:29:44.499434Z"
    }
   },
   "outputs": [
    {
     "data": {
      "application/vnd.jupyter.widget-view+json": {
       "model_id": "c12ee6fdfb2442a1baa4af2e724b57bd",
       "version_major": 2,
       "version_minor": 0
      },
      "text/plain": [
       "GridspecLayout(children=(Output(layout=Layout(grid_area='widget001')), Output(layout=Layout(grid_area='widget0…"
      ]
     },
     "metadata": {},
     "output_type": "display_data"
    }
   ],
   "source": [
    "geemap.linked_maps(rows=1, cols=2, height=\"400px\", center=[-45, -75], zoom=4, \n",
    "                   ee_objects=resultados, vis_params=vis_params2, labels=labels, label_position=\"topright\")"
   ]
  },
  {
   "cell_type": "code",
   "execution_count": 88,
   "id": "ca5f91e2",
   "metadata": {
    "ExecuteTime": {
     "end_time": "2022-02-09T19:00:41.430507Z",
     "start_time": "2022-02-09T19:00:41.428774Z"
    }
   },
   "outputs": [],
   "source": [
    "def llenado3(image):\n",
    "    return image.where(cloud_img2.gt(10), QM_NDVI_T3)"
   ]
  },
  {
   "cell_type": "code",
   "execution_count": 89,
   "id": "f52fddee",
   "metadata": {
    "ExecuteTime": {
     "end_time": "2022-02-09T19:00:41.432849Z",
     "start_time": "2022-02-09T19:00:41.431307Z"
    }
   },
   "outputs": [],
   "source": [
    "img3 = llenado3(img2)"
   ]
  },
  {
   "cell_type": "code",
   "execution_count": 90,
   "id": "6d41d9d0",
   "metadata": {
    "ExecuteTime": {
     "end_time": "2022-02-09T19:00:41.435406Z",
     "start_time": "2022-02-09T19:00:41.433699Z"
    }
   },
   "outputs": [],
   "source": [
    "img3_landsat = img3.set('SENSOR_ID', 'OLI_TIRS')\n",
    "cloud_img3 = ee.Algorithms.Landsat.simpleCloudScore(img3_landsat)\n",
    "cloud_img3 = cloud_img3.select('cloud')"
   ]
  },
  {
   "cell_type": "code",
   "execution_count": 256,
   "id": "3a000d62",
   "metadata": {
    "ExecuteTime": {
     "end_time": "2022-02-09T20:18:35.559443Z",
     "start_time": "2022-02-09T20:18:35.556997Z"
    }
   },
   "outputs": [],
   "source": [
    "resultados= [cloud_img3, img3_landsat]\n",
    "vis_params2=  [\n",
    "    {'palette':palette_nubes}, \n",
    "    vizParams]\n",
    "labels = [\n",
    "    'Nubes Mosaico 3',\n",
    "    'Mosaico 3']"
   ]
  },
  {
   "cell_type": "code",
   "execution_count": 257,
   "id": "bf275ed6",
   "metadata": {
    "ExecuteTime": {
     "end_time": "2022-02-09T20:18:43.655112Z",
     "start_time": "2022-02-09T20:18:39.533568Z"
    }
   },
   "outputs": [
    {
     "data": {
      "application/vnd.jupyter.widget-view+json": {
       "model_id": "8df710b961544871b45917433bf58867",
       "version_major": 2,
       "version_minor": 0
      },
      "text/plain": [
       "GridspecLayout(children=(Output(layout=Layout(grid_area='widget001')), Output(layout=Layout(grid_area='widget0…"
      ]
     },
     "metadata": {},
     "output_type": "display_data"
    }
   ],
   "source": [
    "geemap.linked_maps(rows=1, cols=2, height=\"400px\", center=[-45, -75], zoom=4, \n",
    "                   ee_objects=resultados, vis_params=vis_params2, labels=labels, label_position=\"topright\")"
   ]
  },
  {
   "cell_type": "code",
   "execution_count": 93,
   "id": "9d0daae9",
   "metadata": {
    "ExecuteTime": {
     "end_time": "2022-02-09T19:00:41.442869Z",
     "start_time": "2022-02-09T19:00:41.441298Z"
    }
   },
   "outputs": [],
   "source": [
    "def llenado4(image):\n",
    "    return image.where(cloud_img3.gt(10), QM_NDVI_T4)"
   ]
  },
  {
   "cell_type": "code",
   "execution_count": 94,
   "id": "d37f16d5",
   "metadata": {
    "ExecuteTime": {
     "end_time": "2022-02-09T19:00:41.445225Z",
     "start_time": "2022-02-09T19:00:41.443749Z"
    }
   },
   "outputs": [],
   "source": [
    "img4 = llenado4(img3)"
   ]
  },
  {
   "cell_type": "code",
   "execution_count": 95,
   "id": "540d60d8",
   "metadata": {
    "ExecuteTime": {
     "end_time": "2022-02-09T19:00:41.447769Z",
     "start_time": "2022-02-09T19:00:41.446115Z"
    }
   },
   "outputs": [],
   "source": [
    "img4_landsat = img4.set('SENSOR_ID', 'OLI_TIRS')\n",
    "cloud_img4 = ee.Algorithms.Landsat.simpleCloudScore(img4_landsat)\n",
    "cloud_img4 = cloud_img4.select('cloud')"
   ]
  },
  {
   "cell_type": "code",
   "execution_count": 258,
   "id": "3f0e9719",
   "metadata": {
    "ExecuteTime": {
     "end_time": "2022-02-09T20:19:15.783758Z",
     "start_time": "2022-02-09T20:19:15.781657Z"
    }
   },
   "outputs": [],
   "source": [
    "resultados= [cloud_img4, img4_landsat]\n",
    "vis_params2=  [\n",
    "    {'palette':palette_nubes}, \n",
    "    vizParams]\n",
    "labels = [\n",
    "    'Nubes Mosaico 4',\n",
    "    'Mosaico 4']"
   ]
  },
  {
   "cell_type": "code",
   "execution_count": 259,
   "id": "41d9a7b8",
   "metadata": {
    "ExecuteTime": {
     "end_time": "2022-02-09T20:19:22.274467Z",
     "start_time": "2022-02-09T20:19:19.013901Z"
    }
   },
   "outputs": [
    {
     "data": {
      "application/vnd.jupyter.widget-view+json": {
       "model_id": "",
       "version_major": 2,
       "version_minor": 0
      },
      "text/plain": [
       "GridspecLayout(children=(Output(layout=Layout(grid_area='widget001')), Output(layout=Layout(grid_area='widget0…"
      ]
     },
     "metadata": {},
     "output_type": "display_data"
    }
   ],
   "source": [
    "geemap.linked_maps(rows=1, cols=2, height=\"400px\", center=[-45, -75], zoom=4, \n",
    "                   ee_objects=resultados, vis_params=vis_params2, labels=labels, label_position=\"topright\")"
   ]
  },
  {
   "cell_type": "code",
   "execution_count": 98,
   "id": "0cccc52b",
   "metadata": {
    "ExecuteTime": {
     "end_time": "2022-02-09T19:00:41.455133Z",
     "start_time": "2022-02-09T19:00:41.453511Z"
    }
   },
   "outputs": [],
   "source": [
    "hansenImage = ee.Image('UMD/hansen/global_forest_change_2015')\n",
    "datamask = hansenImage.select('datamask')"
   ]
  },
  {
   "cell_type": "code",
   "execution_count": 99,
   "id": "2e6b728e",
   "metadata": {
    "ExecuteTime": {
     "end_time": "2022-02-09T19:00:41.457661Z",
     "start_time": "2022-02-09T19:00:41.456086Z"
    }
   },
   "outputs": [],
   "source": [
    "def llenado5(image):\n",
    "    return image.where(datamask.eq(2), QM_NDWI_T1)"
   ]
  },
  {
   "cell_type": "code",
   "execution_count": 100,
   "id": "eeac700c",
   "metadata": {
    "ExecuteTime": {
     "end_time": "2022-02-09T19:00:41.459948Z",
     "start_time": "2022-02-09T19:00:41.458472Z"
    }
   },
   "outputs": [],
   "source": [
    "img5 = llenado5(img4)"
   ]
  },
  {
   "cell_type": "code",
   "execution_count": 101,
   "id": "82202db6",
   "metadata": {
    "ExecuteTime": {
     "end_time": "2022-02-09T19:00:41.462601Z",
     "start_time": "2022-02-09T19:00:41.460817Z"
    }
   },
   "outputs": [],
   "source": [
    "img5_landsat = img5.set('SENSOR_ID', 'OLI_TIRS')"
   ]
  },
  {
   "cell_type": "code",
   "execution_count": 102,
   "id": "823a7e18",
   "metadata": {
    "ExecuteTime": {
     "end_time": "2022-02-09T19:00:41.465250Z",
     "start_time": "2022-02-09T19:00:41.463441Z"
    }
   },
   "outputs": [],
   "source": [
    "resultados= [img4, img5]\n",
    "labels = [\n",
    "    'Mosaico 4',\n",
    "    'Mosaico 5']\n",
    "vis_params3=  [\n",
    "     vizParams, \n",
    "    vizParams]"
   ]
  },
  {
   "cell_type": "code",
   "execution_count": 103,
   "id": "87c07712",
   "metadata": {
    "ExecuteTime": {
     "end_time": "2022-02-09T19:00:45.213208Z",
     "start_time": "2022-02-09T19:00:41.466233Z"
    }
   },
   "outputs": [
    {
     "data": {
      "application/vnd.jupyter.widget-view+json": {
       "model_id": "",
       "version_major": 2,
       "version_minor": 0
      },
      "text/plain": [
       "GridspecLayout(children=(Output(layout=Layout(grid_area='widget001')), Output(layout=Layout(grid_area='widget0…"
      ]
     },
     "metadata": {},
     "output_type": "display_data"
    }
   ],
   "source": [
    "geemap.linked_maps(rows=1, cols=2, height=\"400px\", center=[-45, -75], zoom=4, \n",
    "                   ee_objects=resultados, vis_params=vis_params3, labels=labels, label_position=\"topright\")"
   ]
  },
  {
   "cell_type": "code",
   "execution_count": 104,
   "id": "c76fddbf",
   "metadata": {
    "ExecuteTime": {
     "end_time": "2022-02-09T19:00:46.968328Z",
     "start_time": "2022-02-09T19:00:45.214137Z"
    }
   },
   "outputs": [
    {
     "data": {
      "text/plain": [
       "['B1',\n",
       " 'B2',\n",
       " 'B3',\n",
       " 'B4',\n",
       " 'B5',\n",
       " 'B6',\n",
       " 'B7',\n",
       " 'B8',\n",
       " 'B9',\n",
       " 'B10',\n",
       " 'B11',\n",
       " 'BQA',\n",
       " 'NDVI',\n",
       " 'NDWI',\n",
       " 'NDGI',\n",
       " 'SAVI',\n",
       " 'NDSI',\n",
       " 'NDBI',\n",
       " 'EVI',\n",
       " 'date',\n",
       " 'nube']"
      ]
     },
     "execution_count": 104,
     "metadata": {},
     "output_type": "execute_result"
    }
   ],
   "source": [
    "img4.bandNames().getInfo()"
   ]
  },
  {
   "cell_type": "code",
   "execution_count": 105,
   "id": "03e0049e",
   "metadata": {
    "ExecuteTime": {
     "end_time": "2022-02-09T19:00:48.382278Z",
     "start_time": "2022-02-09T19:00:46.969315Z"
    }
   },
   "outputs": [
    {
     "data": {
      "text/plain": [
       "['B1',\n",
       " 'B2',\n",
       " 'B3',\n",
       " 'B4',\n",
       " 'B5',\n",
       " 'B6',\n",
       " 'B7',\n",
       " 'B8',\n",
       " 'B9',\n",
       " 'B10',\n",
       " 'B11',\n",
       " 'BQA',\n",
       " 'NDVI',\n",
       " 'NDWI',\n",
       " 'NDGI',\n",
       " 'SAVI',\n",
       " 'NDSI',\n",
       " 'NDBI',\n",
       " 'EVI',\n",
       " 'date',\n",
       " 'nube']"
      ]
     },
     "execution_count": 105,
     "metadata": {},
     "output_type": "execute_result"
    }
   ],
   "source": [
    "img5.bandNames().getInfo()"
   ]
  },
  {
   "cell_type": "code",
   "execution_count": 106,
   "id": "20454023",
   "metadata": {
    "ExecuteTime": {
     "end_time": "2022-02-09T19:00:51.429540Z",
     "start_time": "2022-02-09T19:00:48.383245Z"
    }
   },
   "outputs": [
    {
     "data": {
      "application/vnd.jupyter.widget-view+json": {
       "model_id": "a8c587371f9c45a6afe5d2d998c9d17d",
       "version_major": 2,
       "version_minor": 0
      },
      "text/plain": [
       "Map(center=[-45, -70], controls=(WidgetControl(options=['position', 'transparent_bg'], widget=HBox(children=(T…"
      ]
     },
     "metadata": {},
     "output_type": "display_data"
    }
   ],
   "source": [
    "Map10.addLayer(img4, vizParams, 'Mosaico 4')\n",
    "Map10.addLayer(img5, vizParams, 'Mosaico 5')\n",
    "Map10"
   ]
  },
  {
   "cell_type": "markdown",
   "id": "18c237e5",
   "metadata": {},
   "source": [
    "### Resultado Final"
   ]
  },
  {
   "cell_type": "code",
   "execution_count": 107,
   "id": "3e85d062",
   "metadata": {
    "ExecuteTime": {
     "end_time": "2022-02-09T19:00:53.151361Z",
     "start_time": "2022-02-09T19:00:51.430391Z"
    }
   },
   "outputs": [
    {
     "data": {
      "application/vnd.jupyter.widget-view+json": {
       "model_id": "a8c587371f9c45a6afe5d2d998c9d17d",
       "version_major": 2,
       "version_minor": 0
      },
      "text/plain": [
       "Map(center=[-45, -70], controls=(WidgetControl(options=['position', 'transparent_bg'], widget=HBox(children=(T…"
      ]
     },
     "metadata": {},
     "output_type": "display_data"
    }
   ],
   "source": [
    "img5_b = img5.select(['B1','B2','B3','B4','B5','B6','B7'])\n",
    "Map10.addLayer(img5_b, vizParams, 'Mosaico 7bandas')\n",
    "Map10"
   ]
  },
  {
   "cell_type": "markdown",
   "id": "d46a3463",
   "metadata": {},
   "source": [
    "#### Fechas Mosaico"
   ]
  },
  {
   "cell_type": "code",
   "execution_count": 108,
   "id": "67a2e0e2",
   "metadata": {
    "ExecuteTime": {
     "end_time": "2022-02-09T19:00:53.153908Z",
     "start_time": "2022-02-09T19:00:53.152266Z"
    }
   },
   "outputs": [],
   "source": [
    "property = 'date'"
   ]
  },
  {
   "cell_type": "code",
   "execution_count": 109,
   "id": "9fff05cd",
   "metadata": {
    "ExecuteTime": {
     "end_time": "2022-02-09T19:00:53.156370Z",
     "start_time": "2022-02-09T19:00:53.154769Z"
    }
   },
   "outputs": [],
   "source": [
    "options = {\"title\": 'Fechas mosaico QM',\n",
    "          \"xlabel\": 'date',\n",
    "          \"ylabel\": 'Pixel count',\n",
    "          \"colors\": ['#1d6b99']\n",
    "          }"
   ]
  },
  {
   "cell_type": "code",
   "execution_count": 110,
   "id": "37a5b7be",
   "metadata": {
    "ExecuteTime": {
     "end_time": "2022-02-09T19:00:53.159135Z",
     "start_time": "2022-02-09T19:00:53.157270Z"
    }
   },
   "outputs": [],
   "source": [
    "muestra = (img5.select('date')).sample(**{\n",
    "    'region': geometry_exp,\n",
    "    'scale': 30,\n",
    "    'numPixels':500,\n",
    "    'tileScale': 4,\n",
    "})"
   ]
  },
  {
   "cell_type": "code",
   "execution_count": 111,
   "id": "0ad9a685",
   "metadata": {
    "ExecuteTime": {
     "end_time": "2022-02-09T19:01:17.704655Z",
     "start_time": "2022-02-09T19:00:53.160028Z"
    },
    "scrolled": false
   },
   "outputs": [
    {
     "data": {
      "application/vnd.jupyter.widget-view+json": {
       "model_id": "8ce1697417704f62a42261edbcd0d855",
       "version_major": 2,
       "version_minor": 0
      },
      "text/plain": [
       "VBox(children=(Figure(axes=[Axis(label='Pixel count', orientation='vertical', scale=LinearScale()), Axis(label…"
      ]
     },
     "metadata": {},
     "output_type": "display_data"
    }
   ],
   "source": [
    "chart.feature_histogram(muestra, property, **options)"
   ]
  },
  {
   "cell_type": "code",
   "execution_count": 112,
   "id": "e05c20e0",
   "metadata": {
    "ExecuteTime": {
     "end_time": "2022-02-09T19:01:17.706933Z",
     "start_time": "2022-02-09T19:01:17.705351Z"
    }
   },
   "outputs": [],
   "source": [
    "# out_dir = r\"C:\\Users\\USUARIO\\Downloads\""
   ]
  },
  {
   "cell_type": "code",
   "execution_count": 113,
   "id": "2c94d245",
   "metadata": {
    "ExecuteTime": {
     "end_time": "2022-02-09T19:01:17.709450Z",
     "start_time": "2022-02-09T19:01:17.707709Z"
    }
   },
   "outputs": [],
   "source": [
    "# out_mosaic_stats= os.path.join(out_dir,'\\fechas_mosaico.csv')\n",
    "# geemap.zonal_statistics(img5,patagonia_grande, out_mosaic_stats, scale= 5000)"
   ]
  },
  {
   "cell_type": "markdown",
   "id": "7267523f",
   "metadata": {},
   "source": [
    "### Tasseled cap"
   ]
  },
  {
   "cell_type": "code",
   "execution_count": 114,
   "id": "427e0fc3",
   "metadata": {
    "ExecuteTime": {
     "end_time": "2022-02-09T19:01:17.712624Z",
     "start_time": "2022-02-09T19:01:17.710437Z"
    }
   },
   "outputs": [],
   "source": [
    "coef = ee.Array([\n",
    "    [0.3029, 0.2786, 0.4733, 0.5599, 0.508, 0.1872], \n",
    "    [-0.2941, -0.243, -0.5424, 0.7276, 0.0713, -0.1608],\n",
    "    [0.1511, 0.1973, 0.3283, 0.3407, -0.7117, -0.4559],\n",
    "    [-0.8239, 0.0849, 0.4396, -0.058, 0.2013, -0.2773],\n",
    "    [-0.3294, 0.0557, 0.1056, 0.1855, -0.4349, 0.8085],\n",
    "    [0.1079, -0.9023, 0.4119, 0.0575, -0.0259, 0.0252]\n",
    "])"
   ]
  },
  {
   "cell_type": "code",
   "execution_count": 115,
   "id": "7ab0a347",
   "metadata": {
    "ExecuteTime": {
     "end_time": "2022-02-09T19:01:17.715000Z",
     "start_time": "2022-02-09T19:01:17.713445Z"
    }
   },
   "outputs": [],
   "source": [
    "tasse_img5 = img5.select(['B2', 'B3', 'B4', 'B5', 'B6', 'B7'])"
   ]
  },
  {
   "cell_type": "code",
   "execution_count": 116,
   "id": "9e34972d",
   "metadata": {
    "ExecuteTime": {
     "end_time": "2022-02-09T19:01:17.717735Z",
     "start_time": "2022-02-09T19:01:17.715918Z"
    }
   },
   "outputs": [],
   "source": [
    "arrayimage1d = tasse_img5.toArray()"
   ]
  },
  {
   "cell_type": "code",
   "execution_count": 117,
   "id": "3c3e3a70",
   "metadata": {
    "ExecuteTime": {
     "end_time": "2022-02-09T19:01:17.720189Z",
     "start_time": "2022-02-09T19:01:17.718603Z"
    }
   },
   "outputs": [],
   "source": [
    "arrayimage2d = arrayimage1d.toArray(1)"
   ]
  },
  {
   "cell_type": "code",
   "execution_count": 118,
   "id": "0ae9ab01",
   "metadata": {
    "ExecuteTime": {
     "end_time": "2022-02-09T19:01:17.722920Z",
     "start_time": "2022-02-09T19:01:17.721136Z"
    }
   },
   "outputs": [],
   "source": [
    "componentes = ee.Image(coef)\\\n",
    "                .matrixMultiply(arrayimage2d) \\\n",
    "                .arrayProject([0])\\\n",
    "                .arrayFlatten(\n",
    "                [['brightness','greenness','wetness','fourth','fifth','sixth']])"
   ]
  },
  {
   "cell_type": "code",
   "execution_count": 119,
   "id": "b058be26",
   "metadata": {
    "ExecuteTime": {
     "end_time": "2022-02-09T19:01:17.725431Z",
     "start_time": "2022-02-09T19:01:17.723788Z"
    }
   },
   "outputs": [],
   "source": [
    "vizParamstess = {\n",
    "  'bands': ['brightness', 'greenness', 'wetness'],\n",
    "    'min': -0.1,\n",
    "    'max': [0.6, 0.2, 0.2]\n",
    "}\n"
   ]
  },
  {
   "cell_type": "code",
   "execution_count": 120,
   "id": "9dc2abf8",
   "metadata": {
    "ExecuteTime": {
     "end_time": "2022-02-09T19:01:19.410102Z",
     "start_time": "2022-02-09T19:01:17.726302Z"
    }
   },
   "outputs": [
    {
     "data": {
      "application/vnd.jupyter.widget-view+json": {
       "model_id": "a8c587371f9c45a6afe5d2d998c9d17d",
       "version_major": 2,
       "version_minor": 0
      },
      "text/plain": [
       "Map(center=[-45, -70], controls=(WidgetControl(options=['position', 'transparent_bg'], widget=HBox(children=(T…"
      ]
     },
     "metadata": {},
     "output_type": "display_data"
    }
   ],
   "source": [
    "Map10.addLayer(componentes,vizParamstess, 'Tesseled cap')\n",
    "Map10"
   ]
  },
  {
   "cell_type": "markdown",
   "id": "c36bd436",
   "metadata": {},
   "source": [
    "### Combinación de bandas"
   ]
  },
  {
   "cell_type": "code",
   "execution_count": 121,
   "id": "9e796ad0",
   "metadata": {
    "ExecuteTime": {
     "end_time": "2022-02-09T19:01:19.412953Z",
     "start_time": "2022-02-09T19:01:19.411047Z"
    }
   },
   "outputs": [],
   "source": [
    "img_final = img5.select('B1','B2','B3','B4','B5','B6','B7','NDVI','NDWI','NDGI','SAVI','NDSI','NDBI','EVI')\n",
    "img_final = img_final.addBands(componentes) "
   ]
  },
  {
   "cell_type": "code",
   "execution_count": 122,
   "id": "1946e239",
   "metadata": {
    "ExecuteTime": {
     "end_time": "2022-02-09T19:01:20.910451Z",
     "start_time": "2022-02-09T19:01:19.413587Z"
    }
   },
   "outputs": [
    {
     "data": {
      "text/plain": [
       "['B1',\n",
       " 'B2',\n",
       " 'B3',\n",
       " 'B4',\n",
       " 'B5',\n",
       " 'B6',\n",
       " 'B7',\n",
       " 'NDVI',\n",
       " 'NDWI',\n",
       " 'NDGI',\n",
       " 'SAVI',\n",
       " 'NDSI',\n",
       " 'NDBI',\n",
       " 'EVI',\n",
       " 'brightness',\n",
       " 'greenness',\n",
       " 'wetness',\n",
       " 'fourth',\n",
       " 'fifth',\n",
       " 'sixth']"
      ]
     },
     "execution_count": 122,
     "metadata": {},
     "output_type": "execute_result"
    }
   ],
   "source": [
    "img_final.bandNames().getInfo()"
   ]
  },
  {
   "cell_type": "markdown",
   "id": "2d8c3490",
   "metadata": {},
   "source": [
    "## Generación de Mosaico Mediana "
   ]
  },
  {
   "cell_type": "code",
   "execution_count": 123,
   "id": "daedb11a",
   "metadata": {
    "ExecuteTime": {
     "end_time": "2022-02-09T19:01:20.913227Z",
     "start_time": "2022-02-09T19:01:20.911452Z"
    }
   },
   "outputs": [],
   "source": [
    "NDVI_2021_landsat = cloudest.set('SENSOR_ID', 'OLI_TIRS')"
   ]
  },
  {
   "cell_type": "code",
   "execution_count": 124,
   "id": "27ac7247",
   "metadata": {
    "ExecuteTime": {
     "end_time": "2022-02-09T19:01:20.915787Z",
     "start_time": "2022-02-09T19:01:20.914071Z"
    }
   },
   "outputs": [],
   "source": [
    "cloud_2021 = ee.Algorithms.Landsat.simpleCloudScore(NDVI_2021_landsat)"
   ]
  },
  {
   "cell_type": "code",
   "execution_count": 125,
   "id": "5dc81c5b",
   "metadata": {
    "ExecuteTime": {
     "end_time": "2022-02-09T19:01:20.918296Z",
     "start_time": "2022-02-09T19:01:20.916474Z"
    }
   },
   "outputs": [],
   "source": [
    "cloud_2021 = cloud_2021.select('cloud')"
   ]
  },
  {
   "cell_type": "code",
   "execution_count": 126,
   "id": "ff9b8a7d",
   "metadata": {
    "ExecuteTime": {
     "end_time": "2022-02-09T19:01:20.920807Z",
     "start_time": "2022-02-09T19:01:20.919121Z"
    }
   },
   "outputs": [],
   "source": [
    "palette_nubes = ['#1a9850', '#d73027']"
   ]
  },
  {
   "cell_type": "code",
   "execution_count": 127,
   "id": "b0297af0",
   "metadata": {
    "ExecuteTime": {
     "end_time": "2022-02-09T19:01:20.923477Z",
     "start_time": "2022-02-09T19:01:20.921813Z"
    }
   },
   "outputs": [],
   "source": [
    "resultados= [cloud_2021, cloudest]\n",
    "vis_params2=  [\n",
    "    {'palette':palette_nubes}, \n",
    "    vizParams]\n",
    "labels = [\n",
    "    'Nubes 2021',\n",
    "    'QM NDVI 2021']"
   ]
  },
  {
   "cell_type": "code",
   "execution_count": 128,
   "id": "59624c53",
   "metadata": {
    "ExecuteTime": {
     "end_time": "2022-02-09T19:01:23.819589Z",
     "start_time": "2022-02-09T19:01:20.924373Z"
    }
   },
   "outputs": [
    {
     "data": {
      "application/vnd.jupyter.widget-view+json": {
       "model_id": "12b49aa5a67248b090d11e8696de57d3",
       "version_major": 2,
       "version_minor": 0
      },
      "text/plain": [
       "GridspecLayout(children=(Output(layout=Layout(grid_area='widget001')), Output(layout=Layout(grid_area='widget0…"
      ]
     },
     "metadata": {},
     "output_type": "display_data"
    }
   ],
   "source": [
    "geemap.linked_maps(rows=1, cols=2, height=\"400px\", center=[-45, -75], zoom=4, \n",
    "                   ee_objects=resultados, vis_params=vis_params2, labels=labels, label_position=\"topright\")"
   ]
  },
  {
   "cell_type": "code",
   "execution_count": 129,
   "id": "10d867ca",
   "metadata": {
    "ExecuteTime": {
     "end_time": "2022-02-09T19:01:25.202253Z",
     "start_time": "2022-02-09T19:01:23.820465Z"
    }
   },
   "outputs": [
    {
     "data": {
      "text/plain": [
       "['B1',\n",
       " 'B2',\n",
       " 'B3',\n",
       " 'B4',\n",
       " 'B5',\n",
       " 'B6',\n",
       " 'B7',\n",
       " 'B8',\n",
       " 'B9',\n",
       " 'B10',\n",
       " 'B11',\n",
       " 'BQA',\n",
       " 'NDVI',\n",
       " 'NDWI',\n",
       " 'NDGI',\n",
       " 'SAVI',\n",
       " 'NDSI',\n",
       " 'NDBI',\n",
       " 'EVI',\n",
       " 'date',\n",
       " 'nube']"
      ]
     },
     "execution_count": 129,
     "metadata": {},
     "output_type": "execute_result"
    }
   ],
   "source": [
    "Tier1_sn.median().bandNames().getInfo()"
   ]
  },
  {
   "cell_type": "code",
   "execution_count": 130,
   "id": "f344f905",
   "metadata": {
    "ExecuteTime": {
     "end_time": "2022-02-09T19:01:25.205097Z",
     "start_time": "2022-02-09T19:01:25.203265Z"
    }
   },
   "outputs": [],
   "source": [
    "def llenado(image):\n",
    "    return image.where(cloud_2021.gt(10),Tier1_sn.median())"
   ]
  },
  {
   "cell_type": "code",
   "execution_count": 131,
   "id": "f6465699",
   "metadata": {
    "ExecuteTime": {
     "end_time": "2022-02-09T19:01:25.208155Z",
     "start_time": "2022-02-09T19:01:25.206054Z"
    }
   },
   "outputs": [],
   "source": [
    "img1m = llenado(cloudest)"
   ]
  },
  {
   "cell_type": "code",
   "execution_count": 132,
   "id": "4fecf00d",
   "metadata": {
    "ExecuteTime": {
     "end_time": "2022-02-09T19:01:25.211149Z",
     "start_time": "2022-02-09T19:01:25.209054Z"
    }
   },
   "outputs": [],
   "source": [
    "img1m_landsat = img1m.set('SENSOR_ID', 'OLI_TIRS')\n",
    "cloud_img1 = ee.Algorithms.Landsat.simpleCloudScore(img1m_landsat)\n",
    "cloud_img1 = cloud_img1.select('cloud')"
   ]
  },
  {
   "cell_type": "code",
   "execution_count": 133,
   "id": "cbf75071",
   "metadata": {
    "ExecuteTime": {
     "end_time": "2022-02-09T19:01:25.213744Z",
     "start_time": "2022-02-09T19:01:25.212040Z"
    }
   },
   "outputs": [],
   "source": [
    "resultados= [cloud_img1, img1m]\n",
    "vis_params2=  [\n",
    "    {'palette':palette_nubes}, \n",
    "    vizParams]\n",
    "labels = [\n",
    "    'Nubes Mosaico 1',\n",
    "    'Mosaico 1']"
   ]
  },
  {
   "cell_type": "code",
   "execution_count": 134,
   "id": "bcab44d4",
   "metadata": {
    "ExecuteTime": {
     "end_time": "2022-02-09T19:01:28.435468Z",
     "start_time": "2022-02-09T19:01:25.214737Z"
    }
   },
   "outputs": [
    {
     "data": {
      "application/vnd.jupyter.widget-view+json": {
       "model_id": "ac05730574a84efdb733c4dcda6e94e0",
       "version_major": 2,
       "version_minor": 0
      },
      "text/plain": [
       "GridspecLayout(children=(Output(layout=Layout(grid_area='widget001')), Output(layout=Layout(grid_area='widget0…"
      ]
     },
     "metadata": {},
     "output_type": "display_data"
    }
   ],
   "source": [
    "geemap.linked_maps(rows=1, cols=2, height=\"400px\", center=[-45, -75], zoom=4, \n",
    "                   ee_objects=resultados, vis_params=vis_params2, labels=labels, label_position=\"topright\")"
   ]
  },
  {
   "cell_type": "code",
   "execution_count": 135,
   "id": "d90fb4fd",
   "metadata": {
    "ExecuteTime": {
     "end_time": "2022-02-09T19:01:28.437990Z",
     "start_time": "2022-02-09T19:01:28.436315Z"
    }
   },
   "outputs": [],
   "source": [
    "def llenado2(image):\n",
    "    return image.where(cloud_img1.gt(10), Tier2_sn.median())"
   ]
  },
  {
   "cell_type": "code",
   "execution_count": 136,
   "id": "524814b0",
   "metadata": {
    "ExecuteTime": {
     "end_time": "2022-02-09T19:01:28.440986Z",
     "start_time": "2022-02-09T19:01:28.438732Z"
    }
   },
   "outputs": [],
   "source": [
    "img2m = llenado2(img1m)"
   ]
  },
  {
   "cell_type": "code",
   "execution_count": 137,
   "id": "a04c18a8",
   "metadata": {
    "ExecuteTime": {
     "end_time": "2022-02-09T19:01:28.443544Z",
     "start_time": "2022-02-09T19:01:28.441870Z"
    }
   },
   "outputs": [],
   "source": [
    "img2m_landsat = img2.set('SENSOR_ID', 'OLI_TIRS')\n",
    "cloud_img2 = ee.Algorithms.Landsat.simpleCloudScore(img2m_landsat)\n",
    "cloud_img2 = cloud_img2.select('cloud')"
   ]
  },
  {
   "cell_type": "code",
   "execution_count": 138,
   "id": "b6e99cd7",
   "metadata": {
    "ExecuteTime": {
     "end_time": "2022-02-09T19:01:28.446062Z",
     "start_time": "2022-02-09T19:01:28.444346Z"
    }
   },
   "outputs": [],
   "source": [
    "resultados= [cloud_img2, img2m]\n",
    "vis_params2=  [\n",
    "    {'palette':palette_nubes}, \n",
    "    vizParams]\n",
    "labels = [\n",
    "    'Nubes Mosaico 2',\n",
    "    'Mosaico 2']"
   ]
  },
  {
   "cell_type": "code",
   "execution_count": 139,
   "id": "472ab70a",
   "metadata": {
    "ExecuteTime": {
     "end_time": "2022-02-09T19:01:28.448731Z",
     "start_time": "2022-02-09T19:01:28.446901Z"
    }
   },
   "outputs": [],
   "source": [
    "def llenado3(image):\n",
    "    return image.where(cloud_img2.gt(10),Tier3_sn.median())"
   ]
  },
  {
   "cell_type": "code",
   "execution_count": 140,
   "id": "e8d70266",
   "metadata": {
    "ExecuteTime": {
     "end_time": "2022-02-09T19:01:28.451252Z",
     "start_time": "2022-02-09T19:01:28.449609Z"
    }
   },
   "outputs": [],
   "source": [
    "img3m = llenado3(img2m)"
   ]
  },
  {
   "cell_type": "code",
   "execution_count": 141,
   "id": "ed06e753",
   "metadata": {
    "ExecuteTime": {
     "end_time": "2022-02-09T19:01:28.453766Z",
     "start_time": "2022-02-09T19:01:28.452001Z"
    }
   },
   "outputs": [],
   "source": [
    "img3m_landsat = img3.set('SENSOR_ID', 'OLI_TIRS')\n",
    "cloud_img3 = ee.Algorithms.Landsat.simpleCloudScore(img3m_landsat)\n",
    "cloud_img3 = cloud_img3.select('cloud')"
   ]
  },
  {
   "cell_type": "code",
   "execution_count": 142,
   "id": "e42124da",
   "metadata": {
    "ExecuteTime": {
     "end_time": "2022-02-09T19:01:28.456122Z",
     "start_time": "2022-02-09T19:01:28.454568Z"
    }
   },
   "outputs": [],
   "source": [
    "resultados= [cloud_img3, img3m]\n",
    "vis_params2=  [\n",
    "    {'palette':palette_nubes}, \n",
    "    vizParams]\n",
    "labels = [\n",
    "    'Nubes Mosaico 3',\n",
    "    'Mosaico 3']"
   ]
  },
  {
   "cell_type": "code",
   "execution_count": 143,
   "id": "496d088f",
   "metadata": {
    "ExecuteTime": {
     "end_time": "2022-02-09T19:01:28.458606Z",
     "start_time": "2022-02-09T19:01:28.456901Z"
    }
   },
   "outputs": [],
   "source": [
    "def llenado4(image):\n",
    "    return image.where(cloud_img3.gt(10),Tier4_sn.median())"
   ]
  },
  {
   "cell_type": "code",
   "execution_count": 144,
   "id": "c40d71ef",
   "metadata": {
    "ExecuteTime": {
     "end_time": "2022-02-09T19:01:28.461609Z",
     "start_time": "2022-02-09T19:01:28.459520Z"
    }
   },
   "outputs": [],
   "source": [
    "img4m = llenado4(img3m)"
   ]
  },
  {
   "cell_type": "code",
   "execution_count": 145,
   "id": "f796f2ce",
   "metadata": {
    "ExecuteTime": {
     "end_time": "2022-02-09T19:01:28.464265Z",
     "start_time": "2022-02-09T19:01:28.462445Z"
    }
   },
   "outputs": [],
   "source": [
    "img4m_landsat = img4m.set('SENSOR_ID', 'OLI_TIRS')\n",
    "cloud_img4 = ee.Algorithms.Landsat.simpleCloudScore(img4m_landsat)\n",
    "cloud_img4 = cloud_img4.select('cloud')"
   ]
  },
  {
   "cell_type": "code",
   "execution_count": 146,
   "id": "37d6a3a6",
   "metadata": {
    "ExecuteTime": {
     "end_time": "2022-02-09T19:01:28.467265Z",
     "start_time": "2022-02-09T19:01:28.465076Z"
    }
   },
   "outputs": [],
   "source": [
    "resultados= [cloud_img4, img4m]\n",
    "vis_params2=  [\n",
    "    {'palette':palette_nubes}, \n",
    "    vizParams]\n",
    "labels = [\n",
    "    'Nubes Mosaico 4',\n",
    "    'Mosaico 4']"
   ]
  },
  {
   "cell_type": "code",
   "execution_count": 147,
   "id": "0903900c",
   "metadata": {
    "ExecuteTime": {
     "end_time": "2022-02-09T19:01:28.469600Z",
     "start_time": "2022-02-09T19:01:28.468062Z"
    }
   },
   "outputs": [],
   "source": [
    "hansenImage = ee.Image('UMD/hansen/global_forest_change_2015')\n",
    "datamask = hansenImage.select('datamask')"
   ]
  },
  {
   "cell_type": "code",
   "execution_count": 148,
   "id": "34a62dc7",
   "metadata": {
    "ExecuteTime": {
     "end_time": "2022-02-09T19:01:28.472216Z",
     "start_time": "2022-02-09T19:01:28.470479Z"
    }
   },
   "outputs": [],
   "source": [
    "def llenado5(image):\n",
    "    return image.where(datamask.eq(2), Tier1_sn.median())"
   ]
  },
  {
   "cell_type": "code",
   "execution_count": 149,
   "id": "52fe0c9d",
   "metadata": {
    "ExecuteTime": {
     "end_time": "2022-02-09T19:01:28.474534Z",
     "start_time": "2022-02-09T19:01:28.473022Z"
    }
   },
   "outputs": [],
   "source": [
    "img5m = llenado5(img4m)"
   ]
  },
  {
   "cell_type": "code",
   "execution_count": 150,
   "id": "1dc41650",
   "metadata": {
    "ExecuteTime": {
     "end_time": "2022-02-09T19:01:28.476900Z",
     "start_time": "2022-02-09T19:01:28.475360Z"
    }
   },
   "outputs": [],
   "source": [
    "img5m_landsat = img5m.set('SENSOR_ID', 'OLI_TIRS')"
   ]
  },
  {
   "cell_type": "code",
   "execution_count": 151,
   "id": "76e1793f",
   "metadata": {
    "ExecuteTime": {
     "end_time": "2022-02-09T19:01:28.479531Z",
     "start_time": "2022-02-09T19:01:28.477720Z"
    }
   },
   "outputs": [],
   "source": [
    "resultados= [img4m, img5m]\n",
    "labels = [\n",
    "    'Mosaico 4',\n",
    "    'Mosaico 5']\n",
    "vis_params3=  [\n",
    "     vizParams, \n",
    "    vizParams]"
   ]
  },
  {
   "cell_type": "code",
   "execution_count": 152,
   "id": "622f958f",
   "metadata": {
    "ExecuteTime": {
     "end_time": "2022-02-09T19:02:16.371798Z",
     "start_time": "2022-02-09T19:01:28.480304Z"
    }
   },
   "outputs": [
    {
     "data": {
      "application/vnd.jupyter.widget-view+json": {
       "model_id": "e4d7fcec54e44c0890b51eee753166f7",
       "version_major": 2,
       "version_minor": 0
      },
      "text/plain": [
       "GridspecLayout(children=(Output(layout=Layout(grid_area='widget001')), Output(layout=Layout(grid_area='widget0…"
      ]
     },
     "metadata": {},
     "output_type": "display_data"
    }
   ],
   "source": [
    "geemap.linked_maps(rows=1, cols=2, height=\"400px\", center=[-45, -75], zoom=4, \n",
    "                   ee_objects=resultados, vis_params=vis_params3, labels=labels, label_position=\"topright\")"
   ]
  },
  {
   "cell_type": "markdown",
   "id": "30564ae6",
   "metadata": {},
   "source": [
    "### Resultado"
   ]
  },
  {
   "cell_type": "code",
   "execution_count": 153,
   "id": "78a80ba0",
   "metadata": {
    "ExecuteTime": {
     "end_time": "2022-02-09T19:02:19.885556Z",
     "start_time": "2022-02-09T19:02:16.372911Z"
    }
   },
   "outputs": [
    {
     "data": {
      "application/vnd.jupyter.widget-view+json": {
       "model_id": "4bf3ed1196f04d828a9b99411bc16642",
       "version_major": 2,
       "version_minor": 0
      },
      "text/plain": [
       "Map(center=[-45, -70], controls=(WidgetControl(options=['position', 'transparent_bg'], widget=HBox(children=(T…"
      ]
     },
     "metadata": {},
     "output_type": "display_data"
    }
   ],
   "source": [
    "Map11.addLayer(img4m, vizParams, 'Mosaico 4')\n",
    "Map11.addLayer(img5m, vizParams, 'Mosaico 5')\n",
    "Map11"
   ]
  },
  {
   "cell_type": "markdown",
   "id": "32614c9a",
   "metadata": {},
   "source": [
    "#### Fechas Mosaico"
   ]
  },
  {
   "cell_type": "code",
   "execution_count": 154,
   "id": "09c1607b",
   "metadata": {
    "ExecuteTime": {
     "end_time": "2022-02-09T19:02:19.888297Z",
     "start_time": "2022-02-09T19:02:19.886454Z"
    }
   },
   "outputs": [],
   "source": [
    "options = {\"title\": 'Fechas mosaico Med',\n",
    "          \"xlabel\": 'date',\n",
    "          \"ylabel\": 'Pixel count',\n",
    "          \"colors\": ['#1d6b99']\n",
    "          }"
   ]
  },
  {
   "cell_type": "code",
   "execution_count": 155,
   "id": "81973b83",
   "metadata": {
    "ExecuteTime": {
     "end_time": "2022-02-09T19:02:19.891300Z",
     "start_time": "2022-02-09T19:02:19.889088Z"
    }
   },
   "outputs": [],
   "source": [
    "muestram = (img5m.select('date')).sample(**{\n",
    "    'region': geometry_exp,\n",
    "    'scale': 30,\n",
    "    'numPixels':500,\n",
    "    'tileScale': 2,\n",
    "})"
   ]
  },
  {
   "cell_type": "code",
   "execution_count": 156,
   "id": "3767d2bf",
   "metadata": {
    "ExecuteTime": {
     "end_time": "2022-02-09T19:02:46.017425Z",
     "start_time": "2022-02-09T19:02:19.892164Z"
    }
   },
   "outputs": [
    {
     "data": {
      "application/vnd.jupyter.widget-view+json": {
       "model_id": "8ba7af3438f44ebcb43c46f0c997451a",
       "version_major": 2,
       "version_minor": 0
      },
      "text/plain": [
       "VBox(children=(Figure(axes=[Axis(label='Pixel count', orientation='vertical', scale=LinearScale()), Axis(label…"
      ]
     },
     "metadata": {},
     "output_type": "display_data"
    }
   ],
   "source": [
    "chart.feature_histogram(muestram, property, **options)"
   ]
  },
  {
   "cell_type": "markdown",
   "id": "1aebd5eb",
   "metadata": {},
   "source": [
    "### Tasseled cap"
   ]
  },
  {
   "cell_type": "code",
   "execution_count": 157,
   "id": "2e5af562",
   "metadata": {
    "ExecuteTime": {
     "end_time": "2022-02-09T19:02:46.020048Z",
     "start_time": "2022-02-09T19:02:46.018293Z"
    }
   },
   "outputs": [],
   "source": [
    "tasse_img5m = img5m.select(['B2', 'B3', 'B4', 'B5', 'B6', 'B7'])"
   ]
  },
  {
   "cell_type": "code",
   "execution_count": 158,
   "id": "a8d152b7",
   "metadata": {
    "ExecuteTime": {
     "end_time": "2022-02-09T19:02:46.023294Z",
     "start_time": "2022-02-09T19:02:46.020756Z"
    }
   },
   "outputs": [],
   "source": [
    "arrayimage1dm = tasse_img5m.toArray()"
   ]
  },
  {
   "cell_type": "code",
   "execution_count": 159,
   "id": "c15b3355",
   "metadata": {
    "ExecuteTime": {
     "end_time": "2022-02-09T19:02:46.025899Z",
     "start_time": "2022-02-09T19:02:46.024176Z"
    }
   },
   "outputs": [],
   "source": [
    "arrayimage2dm = arrayimage1dm.toArray(1)"
   ]
  },
  {
   "cell_type": "code",
   "execution_count": 160,
   "id": "a0a5dcce",
   "metadata": {
    "ExecuteTime": {
     "end_time": "2022-02-09T19:02:46.028615Z",
     "start_time": "2022-02-09T19:02:46.026932Z"
    }
   },
   "outputs": [],
   "source": [
    "componentesm = ee.Image(coef)\\\n",
    "                .matrixMultiply(arrayimage2dm) \\\n",
    "                .arrayProject([0])\\\n",
    "                .arrayFlatten(\n",
    "                [['brightness','greenness','wetness','fourth','fifth','sixth']])"
   ]
  },
  {
   "cell_type": "code",
   "execution_count": 161,
   "id": "15b3890e",
   "metadata": {
    "ExecuteTime": {
     "end_time": "2022-02-09T19:02:47.695379Z",
     "start_time": "2022-02-09T19:02:46.029569Z"
    }
   },
   "outputs": [
    {
     "data": {
      "application/vnd.jupyter.widget-view+json": {
       "model_id": "4bf3ed1196f04d828a9b99411bc16642",
       "version_major": 2,
       "version_minor": 0
      },
      "text/plain": [
       "Map(center=[-45, -70], controls=(WidgetControl(options=['position', 'transparent_bg'], widget=HBox(children=(T…"
      ]
     },
     "metadata": {},
     "output_type": "display_data"
    }
   ],
   "source": [
    "Map11.addLayer(componentesm,vizParamstess, 'Tesseled cap')\n",
    "Map11"
   ]
  },
  {
   "cell_type": "markdown",
   "id": "b466df41",
   "metadata": {},
   "source": [
    "### Combinación de bandas"
   ]
  },
  {
   "cell_type": "code",
   "execution_count": 162,
   "id": "2dd4089f",
   "metadata": {
    "ExecuteTime": {
     "end_time": "2022-02-09T19:02:47.698945Z",
     "start_time": "2022-02-09T19:02:47.696463Z"
    }
   },
   "outputs": [],
   "source": [
    "img_final_m = img5m.select('B1','B2','B3','B4','B5','B6','B7','NDVI','NDWI','NDGI','SAVI','NDSI','NDBI','EVI')\n",
    "img_final_m = img_final_m.addBands(componentesm) "
   ]
  },
  {
   "cell_type": "markdown",
   "id": "1e872319",
   "metadata": {},
   "source": [
    "## Clasificación"
   ]
  },
  {
   "cell_type": "code",
   "execution_count": 163,
   "id": "8093616d",
   "metadata": {
    "ExecuteTime": {
     "end_time": "2022-02-09T19:02:56.562198Z",
     "start_time": "2022-02-09T19:02:47.699762Z"
    }
   },
   "outputs": [],
   "source": [
    "test1 = os.path.join(work_dir,'roi_2.shp')\n",
    "test1 = geemap.shp_to_ee(test1)\n",
    "Map13.addLayer(test1, {}, 'Áreas de entrenamiento')"
   ]
  },
  {
   "cell_type": "code",
   "execution_count": 164,
   "id": "c266e87a",
   "metadata": {
    "ExecuteTime": {
     "end_time": "2022-02-09T19:02:56.568079Z",
     "start_time": "2022-02-09T19:02:56.563206Z"
    }
   },
   "outputs": [
    {
     "data": {
      "application/vnd.jupyter.widget-view+json": {
       "model_id": "4b78be0ca8fc4970baed2ba20ed88e17",
       "version_major": 2,
       "version_minor": 0
      },
      "text/plain": [
       "Map(center=[-45, -70], controls=(WidgetControl(options=['position', 'transparent_bg'], widget=HBox(children=(T…"
      ]
     },
     "metadata": {},
     "output_type": "display_data"
    }
   ],
   "source": [
    "Map13"
   ]
  },
  {
   "cell_type": "code",
   "execution_count": 165,
   "id": "613b1401",
   "metadata": {
    "ExecuteTime": {
     "end_time": "2022-02-09T19:02:56.571082Z",
     "start_time": "2022-02-09T19:02:56.569081Z"
    }
   },
   "outputs": [],
   "source": [
    "data_QM = img_final.sampleRegions(**{\n",
    "    'collection': test1,\n",
    "    'properties': ['C_ID'],\n",
    "    'scale': 30,\n",
    "    'tileScale': 2,\n",
    "})"
   ]
  },
  {
   "cell_type": "code",
   "execution_count": 166,
   "id": "35ec1522",
   "metadata": {
    "ExecuteTime": {
     "end_time": "2022-02-09T19:02:56.573705Z",
     "start_time": "2022-02-09T19:02:56.571926Z"
    }
   },
   "outputs": [],
   "source": [
    "data_Med = img_final_m.sampleRegions(**{\n",
    "    'collection': test1,\n",
    "    'properties': ['C_ID'],\n",
    "    'scale': 30,\n",
    "    'tileScale': 2,\n",
    "})"
   ]
  },
  {
   "cell_type": "code",
   "execution_count": 167,
   "id": "0be21169",
   "metadata": {
    "ExecuteTime": {
     "end_time": "2022-02-09T19:02:56.576241Z",
     "start_time": "2022-02-09T19:02:56.574768Z"
    }
   },
   "outputs": [],
   "source": [
    "# print(test_data.size().getInfo())"
   ]
  },
  {
   "cell_type": "code",
   "execution_count": 168,
   "id": "0cdba8cd",
   "metadata": {
    "ExecuteTime": {
     "end_time": "2022-02-09T19:02:56.578902Z",
     "start_time": "2022-02-09T19:02:56.577055Z"
    }
   },
   "outputs": [],
   "source": [
    "# print(test_data.first().getInfo())"
   ]
  },
  {
   "cell_type": "markdown",
   "id": "65efc69f",
   "metadata": {},
   "source": [
    "### Muestras y datos de validación"
   ]
  },
  {
   "cell_type": "code",
   "execution_count": 169,
   "id": "9f4082a9",
   "metadata": {
    "ExecuteTime": {
     "end_time": "2022-02-09T19:02:56.582772Z",
     "start_time": "2022-02-09T19:02:56.579876Z"
    }
   },
   "outputs": [],
   "source": [
    "# Guardamos las bandas\n",
    "\n",
    "# Esta propiedad guarda las clases de landcover\n",
    "# label = 'b1'\n",
    "label = 'IDH'\n",
    "label1 = 'ID'\n",
    "label_train ='C_ID'\n",
    "# Overlay the points on the imagery to get training.\n",
    "# sample = landsat.select(bands).sampleRegions(**{\n",
    "#   'collection': points,\n",
    "#   'properties': [label],\n",
    "#   'scale': 30\n",
    "# })\n",
    "\n",
    "# # Adds a column of deterministic pseudorandom numbers. \n",
    "# sample = sample.randomColumn()\n",
    "\n",
    "# split = 0.7 \n",
    "\n",
    "# training = sample.filter(ee.Filter.lt('random', split))\n",
    "# validation = sample.filter(ee.Filter.gte('random', split))\n",
    "bands = ['B1',\n",
    " 'B2',\n",
    " 'B3',\n",
    " 'B4',\n",
    " 'B5',\n",
    " 'B6',\n",
    " 'B7',\n",
    " 'NDVI',\n",
    " 'NDWI',\n",
    " 'NDGI',\n",
    " 'SAVI',\n",
    " 'NDSI',\n",
    " 'EVI',\n",
    " 'brightness',\n",
    " 'greenness',\n",
    " 'wetness',\n",
    " 'fourth',\n",
    " 'fifth',\n",
    " 'sixth'\n",
    "]\n",
    "bands2 = ['B1',\n",
    " 'B2',\n",
    " 'B3',\n",
    " 'B4',\n",
    " 'B5',\n",
    " 'B6',\n",
    " 'B7',\n",
    " 'NDVI',\n",
    " 'NDWI',\n",
    " 'NDGI',\n",
    " 'SAVI',\n",
    " 'NDSI',\n",
    "]\n",
    "bands1 = ['B1',\n",
    " 'B2',\n",
    " 'B3',\n",
    " 'B4',\n",
    " 'B5',\n",
    " 'B6',\n",
    " 'B7',\n",
    " 'B8',\n",
    " 'B9',\n",
    " 'B10',\n",
    " 'B11']"
   ]
  },
  {
   "cell_type": "markdown",
   "id": "bb2b3b9b",
   "metadata": {},
   "source": [
    "### Entrenando el modelo"
   ]
  },
  {
   "cell_type": "code",
   "execution_count": 170,
   "id": "d2eab14d",
   "metadata": {
    "ExecuteTime": {
     "end_time": "2022-02-09T19:02:56.585225Z",
     "start_time": "2022-02-09T19:02:56.583599Z"
    }
   },
   "outputs": [],
   "source": [
    "classifier_QM = ee.Classifier.smileRandomForest(100).train(data_QM,label_train,bands)"
   ]
  },
  {
   "cell_type": "code",
   "execution_count": 171,
   "id": "9a0dbf8e",
   "metadata": {
    "ExecuteTime": {
     "end_time": "2022-02-09T19:02:56.587714Z",
     "start_time": "2022-02-09T19:02:56.586108Z"
    }
   },
   "outputs": [],
   "source": [
    "classifier_Med = ee.Classifier.smileRandomForest(100).train(data_Med,label_train,bands)"
   ]
  },
  {
   "cell_type": "code",
   "execution_count": 172,
   "id": "effbf7b9",
   "metadata": {
    "ExecuteTime": {
     "end_time": "2022-02-09T19:02:56.590227Z",
     "start_time": "2022-02-09T19:02:56.588643Z"
    }
   },
   "outputs": [],
   "source": [
    "result_QM = img_final.select(bands).classify(classifier_QM)"
   ]
  },
  {
   "cell_type": "code",
   "execution_count": 173,
   "id": "dccc1b73",
   "metadata": {
    "ExecuteTime": {
     "end_time": "2022-02-09T19:02:56.592693Z",
     "start_time": "2022-02-09T19:02:56.591084Z"
    }
   },
   "outputs": [],
   "source": [
    "result_Med = img_final_m.select(bands).classify(classifier_Med)"
   ]
  },
  {
   "cell_type": "markdown",
   "id": "7df7206f",
   "metadata": {},
   "source": [
    "### Categorizando"
   ]
  },
  {
   "cell_type": "code",
   "execution_count": 174,
   "id": "997c3cbf",
   "metadata": {
    "ExecuteTime": {
     "end_time": "2022-02-09T19:02:56.596189Z",
     "start_time": "2022-02-09T19:02:56.593438Z"
    }
   },
   "outputs": [],
   "source": [
    "class_values2 = [1,2,3,4,5,6,7,8,9,10,11,12,13,14,15,16,17,19,20,23,30,31,32,33,34,35,36,39,40,43,45,47,48,57,58,60]\n",
    "\n",
    "class_palette2 = ['d1fbff', # 1 Hielo\n",
    " 'bfdadd', #2 lengua glaciar\n",
    " 'b9bfbf', #3 glaciar cubierto\n",
    " 'fe40fe', #4 nieve\n",
    " '8ac1ff', #5 fiordo glaciar\n",
    " '0c407b', #6 mar\n",
    " '2e8da0', #7 lago continental\n",
    " '16b2d1', #8 lago glaciar\n",
    " '27e1d8', #9 río\n",
    " 'eeb514', #10 suelo desnudo\n",
    " '927012', #11 cárcavas erosión \n",
    " 'e98c0f', #12 suelo río\n",
    " 'f7e8bd', #13 suelo duna/arenal\n",
    " '5b5b5b', #14 caminos\n",
    " 'e57104', #15 suelo desnudo / poca vegetación\n",
    " '5d1412', #16 tuberas / musgos\n",
    " '5d1412', #17 mallín                 \n",
    " '161163', #19 áreas inundables\n",
    " 'fff300', #20 plantación adulto\n",
    " 'ff0000', #23 ciudad urbano\n",
    " 'dee842', #30 praderas pastoreo             \n",
    " 'ced118', #31 estepa abierta\n",
    " '7a7c0f', #32 estepa cerrada\n",
    " 'c39700', #33 palizales\n",
    " 'a1ff8a', #34 preaderas\n",
    " '138665', #35 matorrales densos\n",
    " '1bbd8e', #36 matorrales abiertos\n",
    " '195a09', #39 primario adulto\n",
    " '27c41d', #40 secundario adulto\n",
    " 'b2ff00', #43 renoval inicial\n",
    " 'f36605', #45 degradado\n",
    " '7729db', #47 Primario adulto caduco\n",
    " '9e60ec', #48 Secundario adulto caduco\n",
    " '7000ff', #57 Mixto Primario\n",
    " 'c598ff', #58 Mixto secundario\n",
    " '00ff87', #60 Coníferas nativas\n",
    "]"
   ]
  },
  {
   "cell_type": "code",
   "execution_count": 175,
   "id": "d1ed6e92",
   "metadata": {
    "ExecuteTime": {
     "end_time": "2022-02-09T19:02:56.598701Z",
     "start_time": "2022-02-09T19:02:56.596954Z"
    }
   },
   "outputs": [],
   "source": [
    "landcover_QM = result_QM.set('classification_class_values', class_values2)\n",
    "landcover_QM = landcover_QM.set('classification_class_palette',class_palette2)"
   ]
  },
  {
   "cell_type": "code",
   "execution_count": 176,
   "id": "40c97470",
   "metadata": {
    "ExecuteTime": {
     "end_time": "2022-02-09T19:02:56.601295Z",
     "start_time": "2022-02-09T19:02:56.599584Z"
    }
   },
   "outputs": [],
   "source": [
    "landcover_Med = result_Med.set('classification_class_values', class_values2)\n",
    "landcover_Med = landcover_Med.set('classification_class_palette',class_palette2)"
   ]
  },
  {
   "cell_type": "code",
   "execution_count": 177,
   "id": "11e0ee3e",
   "metadata": {
    "ExecuteTime": {
     "end_time": "2022-02-09T19:06:41.771590Z",
     "start_time": "2022-02-09T19:02:56.602138Z"
    }
   },
   "outputs": [],
   "source": [
    "Map14.addLayer(landcover_QM,{}, 'Land cover RF-QM' )\n",
    "Map14.addLayer(landcover_Med,{}, 'Land cover RF-Mediana')"
   ]
  },
  {
   "cell_type": "code",
   "execution_count": 178,
   "id": "882a5f91",
   "metadata": {
    "ExecuteTime": {
     "end_time": "2022-02-09T19:06:41.774833Z",
     "start_time": "2022-02-09T19:06:41.772513Z"
    }
   },
   "outputs": [
    {
     "data": {
      "text/plain": [
       "ee.image.Image"
      ]
     },
     "execution_count": 178,
     "metadata": {},
     "output_type": "execute_result"
    }
   ],
   "source": [
    "type(landcover_QM)"
   ]
  },
  {
   "cell_type": "markdown",
   "id": "d3ac6dae",
   "metadata": {},
   "source": [
    "#### Mapas"
   ]
  },
  {
   "cell_type": "code",
   "execution_count": 179,
   "id": "5065e0ff",
   "metadata": {
    "ExecuteTime": {
     "end_time": "2022-02-09T19:06:41.777838Z",
     "start_time": "2022-02-09T19:06:41.775610Z"
    }
   },
   "outputs": [],
   "source": [
    "NDVI_mosaico=img5.select('NDVI')"
   ]
  },
  {
   "cell_type": "code",
   "execution_count": 180,
   "id": "6c63b15a",
   "metadata": {
    "ExecuteTime": {
     "end_time": "2022-02-09T19:06:41.780488Z",
     "start_time": "2022-02-09T19:06:41.778727Z"
    }
   },
   "outputs": [],
   "source": [
    "vizNDVI =['#FF5733','#0cf5f5','#d89000','#039001','#003804']"
   ]
  },
  {
   "cell_type": "code",
   "execution_count": 181,
   "id": "e5d42f45",
   "metadata": {
    "ExecuteTime": {
     "end_time": "2022-02-09T19:06:43.285010Z",
     "start_time": "2022-02-09T19:06:41.781346Z"
    }
   },
   "outputs": [
    {
     "data": {
      "application/vnd.jupyter.widget-view+json": {
       "model_id": "7495ddd0c8ae4ff29cdbaa0da8c7a84b",
       "version_major": 2,
       "version_minor": 0
      },
      "text/plain": [
       "Map(center=[-45, -70], controls=(WidgetControl(options=['position', 'transparent_bg'], widget=HBox(children=(T…"
      ]
     },
     "metadata": {},
     "output_type": "display_data"
    }
   ],
   "source": [
    "Map16.addLayer(NDVI_mosaico, {'palette':vizNDVI} ,'NDVI Mosaico 2021' )\n",
    "Map16"
   ]
  },
  {
   "cell_type": "code",
   "execution_count": 182,
   "id": "53d31ef4",
   "metadata": {
    "ExecuteTime": {
     "end_time": "2022-02-09T19:06:46.455135Z",
     "start_time": "2022-02-09T19:06:43.285988Z"
    }
   },
   "outputs": [
    {
     "data": {
      "application/vnd.jupyter.widget-view+json": {
       "model_id": "8965a5ed5c9541f5ab443619d49c42c1",
       "version_major": 2,
       "version_minor": 0
      },
      "text/plain": [
       "Map(center=[-45, -70], controls=(WidgetControl(options=['position', 'transparent_bg'], widget=HBox(children=(T…"
      ]
     },
     "metadata": {},
     "output_type": "display_data"
    }
   ],
   "source": [
    "legend_dict = {\n",
    "    '01 Hielo': 'd1fbff',\n",
    "    '02 lengua glaciar': 'bfdadd',\n",
    "    '03 glaciar cubierto': 'b9bfbf',\n",
    "    '04 nieve': 'fe40fe',\n",
    "    '05 fiordo glaciar': '8ac1ff',\n",
    "    '06 mar': '0c407b',\n",
    "    '07 lago continental': '2e8da0',\n",
    "    '08 lago glaciar': '16b2d1',\n",
    "    '09 río': '27e1d8',\n",
    "    '10 suelo desnudo': 'eeb514',\n",
    "    '11 cárcavas erosión': '927012',\n",
    "    '12 suelo río': 'e98c0f',\n",
    "    '13 suelo duna/arenal': 'f7e8bd',\n",
    "    '14 caminos': '5b5b5b',\n",
    "    '15 suelo denudo': 'e57104',\n",
    "    '16 tuberas / musgos': '5d1412',\n",
    "    '17 mallín': '5d1412',\n",
    "    '19 áreas inundables':'161163', \n",
    "    '20 plantación adulto': 'fff300',\n",
    "    '23 ciudad urbano': 'ff0000',\n",
    "    '28 frutales':'d4e794',\n",
    "    '30 praderas pastoreo':'dee842', \n",
    "    '31 estepa abierta': 'ced118',\n",
    "    '32 estepa cerrada': '7a7c0f',\n",
    "    '33 palizales': 'c39700',\n",
    "    '34 preaderas': 'a1ff8a',\n",
    "    '35 matorrales densos': '138665',\n",
    "    '36 matorrales abiertos': '1bbd8e',\n",
    "    '39 primario adulto': '195a09',\n",
    "    '40 secundario adulto': '27c41d',\n",
    "    '43 renoval inicial': 'b2ff00',\n",
    "    '45 degradado': 'f36605',\n",
    "    '47 Primario adulto caduco':'7729db',\n",
    "    '48 Secundario adulto caduco': '9e60ec',\n",
    "    '56 sombra': '000000',\n",
    "    '57 Mixto Primario': '7000ff', \n",
    "    '58 Mixto secundario':'c598ff',\n",
    "    '60 Coníferas nativas': '00ff87',\n",
    "}\n",
    "\n",
    "Map14.add_legend(legend_title=\"Random Forest Test\", legend_dict=legend_dict)\n",
    "Map14.addLayer(img5,vizParams, 'Mosaico 2021' )\n",
    "Map14.addLayer(componentes,vizParamstess, 'Tesseled cap')\n",
    "Map14"
   ]
  },
  {
   "cell_type": "markdown",
   "id": "69b97f23",
   "metadata": {},
   "source": [
    "#### Comparación"
   ]
  },
  {
   "cell_type": "code",
   "execution_count": 183,
   "id": "a66648b3",
   "metadata": {
    "ExecuteTime": {
     "end_time": "2022-02-09T19:06:46.457920Z",
     "start_time": "2022-02-09T19:06:46.456053Z"
    }
   },
   "outputs": [],
   "source": [
    "comp1= [img5, img5m]\n",
    "labels = [\n",
    "    'Mosaico QM',\n",
    "    'Mosaico Med']\n",
    "vis_params3=  [\n",
    "     vizParams, \n",
    "    vizParams]"
   ]
  },
  {
   "cell_type": "code",
   "execution_count": 184,
   "id": "0a240656",
   "metadata": {
    "ExecuteTime": {
     "end_time": "2022-02-09T19:06:52.192747Z",
     "start_time": "2022-02-09T19:06:46.458884Z"
    }
   },
   "outputs": [
    {
     "data": {
      "application/vnd.jupyter.widget-view+json": {
       "model_id": "a1dbd33aa81e45dd8eca9128c3bc3fff",
       "version_major": 2,
       "version_minor": 0
      },
      "text/plain": [
       "GridspecLayout(children=(Output(layout=Layout(grid_area='widget001')), Output(layout=Layout(grid_area='widget0…"
      ]
     },
     "metadata": {},
     "output_type": "display_data"
    }
   ],
   "source": [
    "geemap.linked_maps(rows=1, cols=2, height=\"900px\", center=[-45, -75], zoom=4, \n",
    "                   ee_objects=comp1, vis_params=vis_params3, labels=labels, label_position=\"topright\")"
   ]
  },
  {
   "cell_type": "code",
   "execution_count": 185,
   "id": "96a55fc7",
   "metadata": {
    "ExecuteTime": {
     "end_time": "2022-02-09T19:06:52.195524Z",
     "start_time": "2022-02-09T19:06:52.193694Z"
    }
   },
   "outputs": [],
   "source": [
    "comp2= [landcover_QM,landcover_Med]\n",
    "labels = [\n",
    "    'Landcover QM',\n",
    "    'Landcover Med']\n",
    "vis_params4=  [\n",
    "     {}, \n",
    "     {}]"
   ]
  },
  {
   "cell_type": "code",
   "execution_count": 186,
   "id": "1c07ad91",
   "metadata": {
    "ExecuteTime": {
     "end_time": "2022-02-09T19:07:12.346351Z",
     "start_time": "2022-02-09T19:06:52.196566Z"
    }
   },
   "outputs": [
    {
     "data": {
      "application/vnd.jupyter.widget-view+json": {
       "model_id": "cc172a011621470181977cf5f906bede",
       "version_major": 2,
       "version_minor": 0
      },
      "text/plain": [
       "GridspecLayout(children=(Output(layout=Layout(grid_area='widget001')), Output(layout=Layout(grid_area='widget0…"
      ]
     },
     "metadata": {},
     "output_type": "display_data"
    }
   ],
   "source": [
    "geemap.linked_maps(rows=1, cols=2, height=\"900px\", center=[-45, -75], zoom=4, \n",
    "                   ee_objects=comp2, vis_params=vis_params4, labels=labels, label_position=\"topright\")"
   ]
  },
  {
   "cell_type": "markdown",
   "id": "e80b449e",
   "metadata": {},
   "source": [
    "### Exportando"
   ]
  },
  {
   "cell_type": "code",
   "execution_count": 187,
   "id": "f61a3d7d",
   "metadata": {
    "ExecuteTime": {
     "end_time": "2022-02-09T19:07:12.349213Z",
     "start_time": "2022-02-09T19:07:12.347298Z"
    }
   },
   "outputs": [],
   "source": [
    "transf=ee.Array([30, 0, 214185, 0, -30, -4825185])"
   ]
  },
  {
   "cell_type": "code",
   "execution_count": 188,
   "id": "4c4da7ae",
   "metadata": {
    "ExecuteTime": {
     "end_time": "2022-02-09T19:07:12.585137Z",
     "start_time": "2022-02-09T19:07:12.350168Z"
    }
   },
   "outputs": [
    {
     "data": {
      "text/plain": [
       "[30, 0, 214185, 0, -30, -4825185]"
      ]
     },
     "execution_count": 188,
     "metadata": {},
     "output_type": "execute_result"
    }
   ],
   "source": [
    "transf.getInfo()"
   ]
  },
  {
   "cell_type": "code",
   "execution_count": 189,
   "id": "cceda41f",
   "metadata": {
    "ExecuteTime": {
     "end_time": "2022-02-09T19:07:12.588130Z",
     "start_time": "2022-02-09T19:07:12.585989Z"
    }
   },
   "outputs": [],
   "source": [
    "img5_B1 = img5.select(\"B1\")\n",
    "img5_B2 = img5.select(\"B2\")\n",
    "img5_B3 = img5.select(\"B3\")\n",
    "img5_B4 = img5.select(\"B4\")\n",
    "img5_B5 = img5.select(\"B5\")\n",
    "img5_B6 = img5.select(\"B6\")\n",
    "img5_B7 = img5.select(\"B7\")"
   ]
  },
  {
   "cell_type": "code",
   "execution_count": 190,
   "id": "6e762547",
   "metadata": {
    "ExecuteTime": {
     "end_time": "2022-02-09T19:07:12.591145Z",
     "start_time": "2022-02-09T19:07:12.588915Z"
    }
   },
   "outputs": [],
   "source": [
    "img5_B1m = img5m.select(\"B1\")\n",
    "img5_B2m = img5m.select(\"B2\")\n",
    "img5_B3m = img5m.select(\"B3\")\n",
    "img5_B4m = img5m.select(\"B4\")\n",
    "img5_B5m = img5m.select(\"B5\")\n",
    "img5_B6m = img5m.select(\"B6\")\n",
    "img5_B7m = img5m.select(\"B7\")"
   ]
  },
  {
   "cell_type": "code",
   "execution_count": 191,
   "id": "5bf824d7",
   "metadata": {
    "ExecuteTime": {
     "end_time": "2022-02-09T19:07:12.597826Z",
     "start_time": "2022-02-09T19:07:12.592044Z"
    }
   },
   "outputs": [],
   "source": [
    "task1 = ee.batch.Export.image.toDrive(**{\n",
    "    'image': img5_B1,\n",
    "    'description':'B1',\n",
    "    'folder':'exp2021_19s_full',\n",
    "    'region': geometry_exp.bounds(),\n",
    "    'scale':30,\n",
    "    'crsTransform':[30, 0, 214185, 0, -30, -4825185], \n",
    "    'crs':'EPSG:32719',\n",
    "    'maxPixels':1e13\n",
    "})\n",
    "task2 = ee.batch.Export.image.toDrive(**{\n",
    "    'image': img5_B2,\n",
    "    'description':'B2',\n",
    "    'folder':'exp2021_19s_full',\n",
    "    'region': geometry_exp.bounds(),\n",
    "    'scale':30,\n",
    "    'crsTransform':[30, 0, 214185, 0, -30, -4825185], \n",
    "    'crs':'EPSG:32719',\n",
    "    'maxPixels':1e13\n",
    "})\n",
    "task3 = ee.batch.Export.image.toDrive(**{\n",
    "    'image': img5_B3,\n",
    "    'description':'B3',\n",
    "    'folder':'exp2021_19s_full',\n",
    "    'region': geometry_exp.bounds(),\n",
    "    'scale':30,\n",
    "    'crsTransform':[30, 0, 214185, 0, -30, -4825185], \n",
    "    'crs':'EPSG:32719',\n",
    "    'maxPixels':1e13\n",
    "})\n",
    "task4 = ee.batch.Export.image.toDrive(**{\n",
    "    'image': img5_B4,\n",
    "    'description':'B4',\n",
    "    'folder':'exp2021_19s_full',\n",
    "    'region': geometry_exp.bounds(),\n",
    "    'scale':30,\n",
    "    'crsTransform':[30, 0, 214185, 0, -30, -4825185], \n",
    "    'crs':'EPSG:32719',\n",
    "    'maxPixels':1e13\n",
    "})\n",
    "task5 = ee.batch.Export.image.toDrive(**{\n",
    "    'image': img5_B5,\n",
    "    'description':'B5',\n",
    "    'folder':'exp2021_19s_full',\n",
    "    'region': geometry_exp.bounds(),\n",
    "    'scale':30,\n",
    "    'crsTransform':[30, 0, 214185, 0, -30, -4825185], \n",
    "    'crs':'EPSG:32719',\n",
    "    'maxPixels':1e13\n",
    "})\n",
    "task6 = ee.batch.Export.image.toDrive(**{\n",
    "    'image': img5_B6,\n",
    "    'description':'B6',\n",
    "    'folder':'exp2021_19s_full',\n",
    "    'region': geometry_exp.bounds(),\n",
    "    'scale':30,\n",
    "    'crsTransform':[30, 0, 214185, 0, -30, -4825185], \n",
    "    'crs':'EPSG:32719',\n",
    "    'maxPixels':1e13\n",
    "})\n",
    "task7 = ee.batch.Export.image.toDrive(**{\n",
    "    'image': img5_B7,\n",
    "    'description':'B7',\n",
    "    'folder':'exp2021_19s_full',\n",
    "    'region': geometry_exp.bounds(),\n",
    "    'scale':30,\n",
    "    'crsTransform':[30, 0, 214185, 0, -30, -4825185], \n",
    "    'crs':'EPSG:32719',\n",
    "    'maxPixels':1e13\n",
    "})"
   ]
  },
  {
   "cell_type": "code",
   "execution_count": 192,
   "id": "77e30b2b",
   "metadata": {
    "ExecuteTime": {
     "end_time": "2022-02-09T19:07:12.604629Z",
     "start_time": "2022-02-09T19:07:12.598892Z"
    }
   },
   "outputs": [],
   "source": [
    "task1m = ee.batch.Export.image.toDrive(**{\n",
    "    'image': img5_B1m,\n",
    "    'description':'B1',\n",
    "    'folder':'exp2021_19s_full_m',\n",
    "    'region': geometry_exp.bounds(),\n",
    "    'scale':30,\n",
    "    'crsTransform':[30, 0, 214185, 0, -30, -4825185], \n",
    "    'crs':'EPSG:32719',\n",
    "    'maxPixels':1e13\n",
    "})\n",
    "task2m = ee.batch.Export.image.toDrive(**{\n",
    "    'image': img5_B2m,\n",
    "    'description':'B2',\n",
    "    'folder':'exp2021_19s_full_m',\n",
    "    'region': geometry_exp.bounds(),\n",
    "    'scale':30,\n",
    "    'crsTransform':[30, 0, 214185, 0, -30, -4825185], \n",
    "    'crs':'EPSG:32719',\n",
    "    'maxPixels':1e13\n",
    "})\n",
    "task3m = ee.batch.Export.image.toDrive(**{\n",
    "    'image': img5_B3m,\n",
    "    'description':'B3',\n",
    "    'folder':'exp2021_19s_full_m',\n",
    "    'region': geometry_exp.bounds(),\n",
    "    'scale':30,\n",
    "    'crsTransform':[30, 0, 214185, 0, -30, -4825185], \n",
    "    'crs':'EPSG:32719',\n",
    "    'maxPixels':1e13\n",
    "})\n",
    "task4m = ee.batch.Export.image.toDrive(**{\n",
    "    'image': img5_B4m,\n",
    "    'description':'B4',\n",
    "    'folder':'exp2021_19s_full_m',\n",
    "    'region': geometry_exp.bounds(),\n",
    "    'scale':30,\n",
    "    'crsTransform':[30, 0, 214185, 0, -30, -4825185], \n",
    "    'crs':'EPSG:32719',\n",
    "    'maxPixels':1e13\n",
    "})\n",
    "task5m = ee.batch.Export.image.toDrive(**{\n",
    "    'image': img5_B5m,\n",
    "    'description':'B5',\n",
    "    'folder':'exp2021_19s_full_m',\n",
    "    'region': geometry_exp.bounds(),\n",
    "    'scale':30,\n",
    "    'crsTransform':[30, 0, 214185, 0, -30, -4825185], \n",
    "    'crs':'EPSG:32719',\n",
    "    'maxPixels':1e13\n",
    "})\n",
    "task6m = ee.batch.Export.image.toDrive(**{\n",
    "    'image': img5_B6m,\n",
    "    'description':'B6',\n",
    "    'folder':'exp2021_19s_full_m',\n",
    "    'region': geometry_exp.bounds(),\n",
    "    'scale':30,\n",
    "    'crsTransform':[30, 0, 214185, 0, -30, -4825185], \n",
    "    'crs':'EPSG:32719',\n",
    "    'maxPixels':1e13\n",
    "})\n",
    "task7m = ee.batch.Export.image.toDrive(**{\n",
    "    'image': img5_B7m,\n",
    "    'description':'B7',\n",
    "    'folder':'exp2021_19s_full_m',\n",
    "    'region': geometry_exp.bounds(),\n",
    "    'scale':30,\n",
    "    'crsTransform':[30, 0, 214185, 0, -30, -4825185], \n",
    "    'crs':'EPSG:32719',\n",
    "    'maxPixels':1e13\n",
    "})"
   ]
  },
  {
   "cell_type": "code",
   "execution_count": 193,
   "id": "dfee8042",
   "metadata": {
    "ExecuteTime": {
     "end_time": "2022-02-09T19:07:12.607038Z",
     "start_time": "2022-02-09T19:07:12.605604Z"
    }
   },
   "outputs": [],
   "source": [
    "# task1.start()\n",
    "# task2.start()\n",
    "# task3.start()\n",
    "# task4.start()\n",
    "# task5.start()\n",
    "# task6.start()\n",
    "# task7.start()"
   ]
  },
  {
   "cell_type": "code",
   "execution_count": 194,
   "id": "3bcd3268",
   "metadata": {
    "ExecuteTime": {
     "end_time": "2022-02-09T19:07:12.609487Z",
     "start_time": "2022-02-09T19:07:12.608045Z"
    }
   },
   "outputs": [],
   "source": [
    "# task1m.start()\n",
    "# task2m.start()\n",
    "# task3m.start()\n",
    "# task4m.start()\n",
    "# task5m.start()\n",
    "# task6m.start()\n",
    "# task7m.start()"
   ]
  },
  {
   "cell_type": "code",
   "execution_count": 195,
   "id": "0633aa27",
   "metadata": {
    "ExecuteTime": {
     "end_time": "2022-02-09T19:07:12.612247Z",
     "start_time": "2022-02-09T19:07:12.610410Z"
    }
   },
   "outputs": [],
   "source": [
    "brillo = componentes.select('brightness')\n",
    "greenness = componentes.select('greenness')\n",
    "wetness = componentes.select('wetness')\n",
    "# ['brightness','greenness','wetness','fourth','fifth','sixth']"
   ]
  },
  {
   "cell_type": "code",
   "execution_count": 196,
   "id": "ecae7a62",
   "metadata": {
    "ExecuteTime": {
     "end_time": "2022-02-09T19:07:12.614703Z",
     "start_time": "2022-02-09T19:07:12.613015Z"
    }
   },
   "outputs": [],
   "source": [
    "brillom = componentesm.select('brightness')\n",
    "greennessm = componentesm.select('greenness')\n",
    "wetnessm = componentesm.select('wetness')"
   ]
  },
  {
   "cell_type": "code",
   "execution_count": 197,
   "id": "5cc31766",
   "metadata": {
    "ExecuteTime": {
     "end_time": "2022-02-09T19:07:12.619485Z",
     "start_time": "2022-02-09T19:07:12.615545Z"
    }
   },
   "outputs": [],
   "source": [
    "task8 = ee.batch.Export.image.toDrive(**{\n",
    "    'image': brillo,\n",
    "    'description':'brillo',\n",
    "    'folder':'exp2021_19s_full',\n",
    "    'region': geometry_exp.bounds(),\n",
    "    'scale':30,\n",
    "    'crsTransform':[30, 0, 214185, 0, -30, -4825185], \n",
    "    'crs':'EPSG:32719',\n",
    "    'maxPixels':1e13\n",
    "})\n",
    "task9 = ee.batch.Export.image.toDrive(**{\n",
    "    'image': greenness,\n",
    "    'description':'greenness',\n",
    "    'folder':'exp2021_19s_full',\n",
    "    'region': geometry_exp.bounds(),\n",
    "    'scale':30,\n",
    "    'crsTransform':[30, 0, 214185, 0, -30, -4825185], \n",
    "    'crs':'EPSG:32719',\n",
    "    'maxPixels':1e13\n",
    "})\n",
    "task10 = ee.batch.Export.image.toDrive(**{\n",
    "    'image': wetness,\n",
    "    'description':'wetness',\n",
    "    'folder':'exp2021_19s_full',\n",
    "    'region': geometry_exp.bounds(),\n",
    "    'scale':30,\n",
    "    'crsTransform':[30, 0, 214185, 0, -30, -4825185], \n",
    "    'crs':'EPSG:32719',\n",
    "    'maxPixels':1e13\n",
    "})"
   ]
  },
  {
   "cell_type": "code",
   "execution_count": 198,
   "id": "0d024aad",
   "metadata": {
    "ExecuteTime": {
     "end_time": "2022-02-09T19:07:12.623781Z",
     "start_time": "2022-02-09T19:07:12.620454Z"
    }
   },
   "outputs": [],
   "source": [
    "task8m = ee.batch.Export.image.toDrive(**{\n",
    "    'image': brillom,\n",
    "    'description':'brillo',\n",
    "    'folder':'exp2021_19s_full_m',\n",
    "    'region': geometry_exp.bounds(),\n",
    "    'scale':30,\n",
    "    'crsTransform':[30, 0, 214185, 0, -30, -4825185], \n",
    "    'crs':'EPSG:32719',\n",
    "    'maxPixels':1e13\n",
    "})\n",
    "task9m = ee.batch.Export.image.toDrive(**{\n",
    "    'image': greennessm,\n",
    "    'description':'greenness',\n",
    "    'folder':'exp2021_19s_full_m',\n",
    "    'region': geometry_exp.bounds(),\n",
    "    'scale':30,\n",
    "    'crsTransform':[30, 0, 214185, 0, -30, -4825185], \n",
    "    'crs':'EPSG:32719',\n",
    "    'maxPixels':1e13\n",
    "})\n",
    "task10m = ee.batch.Export.image.toDrive(**{\n",
    "    'image': wetnessm,\n",
    "    'description':'wetness',\n",
    "    'folder':'exp2021_19s_full_m',\n",
    "    'region': geometry_exp.bounds(),\n",
    "    'scale':30,\n",
    "    'crsTransform':[30, 0, 214185, 0, -30, -4825185], \n",
    "    'crs':'EPSG:32719',\n",
    "    'maxPixels':1e13\n",
    "})"
   ]
  },
  {
   "cell_type": "code",
   "execution_count": 199,
   "id": "056a7102",
   "metadata": {
    "ExecuteTime": {
     "end_time": "2022-02-09T19:07:12.626206Z",
     "start_time": "2022-02-09T19:07:12.624770Z"
    }
   },
   "outputs": [],
   "source": [
    "# task8.start()\n",
    "# task9.start()\n",
    "# task10.start()"
   ]
  },
  {
   "cell_type": "code",
   "execution_count": 200,
   "id": "30f7d9e4",
   "metadata": {
    "ExecuteTime": {
     "end_time": "2022-02-09T19:07:12.628227Z",
     "start_time": "2022-02-09T19:07:12.626948Z"
    }
   },
   "outputs": [],
   "source": [
    "# task8m.start()\n",
    "# task9m.start()\n",
    "# task10m.start()"
   ]
  },
  {
   "cell_type": "code",
   "execution_count": 201,
   "id": "21943242",
   "metadata": {
    "ExecuteTime": {
     "end_time": "2022-02-09T19:07:12.631227Z",
     "start_time": "2022-02-09T19:07:12.628994Z"
    }
   },
   "outputs": [],
   "source": [
    "taskclasqm = ee.batch.Export.image.toDrive(**{\n",
    "    'image': landcover_QM,\n",
    "    'description':'landcover_2021_QM',\n",
    "    'folder':'Landcover 2021',\n",
    "    'region': geometry_exp.bounds(),\n",
    "    'scale':30,\n",
    "    'crsTransform':[30, 0, 214185, 0, -30, -4825185], \n",
    "    'crs':'EPSG:32719',\n",
    "    'maxPixels':1e13\n",
    "})"
   ]
  },
  {
   "cell_type": "code",
   "execution_count": 202,
   "id": "c892658b",
   "metadata": {
    "ExecuteTime": {
     "end_time": "2022-02-09T19:07:12.633968Z",
     "start_time": "2022-02-09T19:07:12.631896Z"
    }
   },
   "outputs": [],
   "source": [
    "taskclasm = ee.batch.Export.image.toDrive(**{\n",
    "    'image': landcover_Med,\n",
    "    'description':'landcover_2021_Med',\n",
    "    'folder':'Landcover 2021',\n",
    "    'region': geometry_exp.bounds(),\n",
    "    'scale':30,\n",
    "    'crsTransform':[30, 0, 214185, 0, -30, -4825185], \n",
    "    'crs':'EPSG:32719',\n",
    "    'maxPixels':1e13\n",
    "})"
   ]
  },
  {
   "cell_type": "code",
   "execution_count": 203,
   "id": "9af412b7",
   "metadata": {
    "ExecuteTime": {
     "end_time": "2022-02-09T19:07:12.636269Z",
     "start_time": "2022-02-09T19:07:12.634953Z"
    }
   },
   "outputs": [],
   "source": [
    "# taskclasqm.start()\n",
    "# taskclasm.start()"
   ]
  },
  {
   "cell_type": "markdown",
   "id": "5b569226",
   "metadata": {},
   "source": [
    "## Test "
   ]
  },
  {
   "cell_type": "markdown",
   "id": "9b16d3bf",
   "metadata": {},
   "source": [
    "### Texturas"
   ]
  },
  {
   "cell_type": "markdown",
   "id": "89d4bbca",
   "metadata": {},
   "source": [
    "#### NDVI"
   ]
  },
  {
   "cell_type": "code",
   "execution_count": 204,
   "id": "d12bffc6",
   "metadata": {
    "ExecuteTime": {
     "end_time": "2022-02-09T19:07:12.638918Z",
     "start_time": "2022-02-09T19:07:12.637221Z"
    }
   },
   "outputs": [],
   "source": [
    "ndvi_txt_array = img5.select('NDVI')\n",
    "ndvi_txt_array = ndvi_txt_array.toArray()\n",
    "ndvi_txt_array = ndvi_txt_array.toArray(1)"
   ]
  },
  {
   "cell_type": "code",
   "execution_count": 205,
   "id": "d59fba50",
   "metadata": {
    "ExecuteTime": {
     "end_time": "2022-02-09T19:07:12.641466Z",
     "start_time": "2022-02-09T19:07:12.639824Z"
    }
   },
   "outputs": [],
   "source": [
    "coef2 = ee.Array([[100]])"
   ]
  },
  {
   "cell_type": "code",
   "execution_count": 206,
   "id": "92102da8",
   "metadata": {
    "ExecuteTime": {
     "end_time": "2022-02-09T19:07:12.644284Z",
     "start_time": "2022-02-09T19:07:12.642387Z"
    }
   },
   "outputs": [],
   "source": [
    "factor = ee.Image(coef2)\\\n",
    "                .matrixMultiply(ndvi_txt_array) \\\n",
    "                .arrayProject([0])\\\n",
    "                .arrayFlatten(\n",
    "                [['NDVI']])"
   ]
  },
  {
   "cell_type": "code",
   "execution_count": 207,
   "id": "a7a75374",
   "metadata": {
    "ExecuteTime": {
     "end_time": "2022-02-09T19:12:17.136991Z",
     "start_time": "2022-02-09T19:07:12.645143Z"
    }
   },
   "outputs": [
    {
     "data": {
      "text/plain": [
       "{'NDVI': {'type': 'PixelType', 'precision': 'double'}}"
      ]
     },
     "execution_count": 207,
     "metadata": {},
     "output_type": "execute_result"
    }
   ],
   "source": [
    "factor.bandTypes().getInfo()"
   ]
  },
  {
   "cell_type": "code",
   "execution_count": 208,
   "id": "244834a0",
   "metadata": {
    "ExecuteTime": {
     "end_time": "2022-02-09T19:12:17.139849Z",
     "start_time": "2022-02-09T19:12:17.137935Z"
    }
   },
   "outputs": [],
   "source": [
    "testimg_txt = factor.int()"
   ]
  },
  {
   "cell_type": "code",
   "execution_count": 209,
   "id": "6f845908",
   "metadata": {
    "ExecuteTime": {
     "end_time": "2022-02-09T19:12:18.811494Z",
     "start_time": "2022-02-09T19:12:17.140747Z"
    }
   },
   "outputs": [
    {
     "data": {
      "text/plain": [
       "{'NDVI': {'type': 'PixelType',\n",
       "  'precision': 'int',\n",
       "  'min': -2147483648,\n",
       "  'max': 2147483647}}"
      ]
     },
     "execution_count": 209,
     "metadata": {},
     "output_type": "execute_result"
    }
   ],
   "source": [
    "testimg_txt.bandTypes().getInfo()"
   ]
  },
  {
   "cell_type": "code",
   "execution_count": 210,
   "id": "7c334e9f",
   "metadata": {
    "ExecuteTime": {
     "end_time": "2022-02-09T19:12:18.814154Z",
     "start_time": "2022-02-09T19:12:18.812494Z"
    }
   },
   "outputs": [],
   "source": [
    "texturas = testimg_txt.glcmTexture(3)"
   ]
  },
  {
   "cell_type": "code",
   "execution_count": 211,
   "id": "4c5d1482",
   "metadata": {
    "ExecuteTime": {
     "end_time": "2022-02-09T19:12:20.144031Z",
     "start_time": "2022-02-09T19:12:18.814882Z"
    }
   },
   "outputs": [
    {
     "data": {
      "text/plain": [
       "['NDVI_asm',\n",
       " 'NDVI_contrast',\n",
       " 'NDVI_corr',\n",
       " 'NDVI_var',\n",
       " 'NDVI_idm',\n",
       " 'NDVI_savg',\n",
       " 'NDVI_svar',\n",
       " 'NDVI_sent',\n",
       " 'NDVI_ent',\n",
       " 'NDVI_dvar',\n",
       " 'NDVI_dent',\n",
       " 'NDVI_imcorr1',\n",
       " 'NDVI_imcorr2',\n",
       " 'NDVI_maxcorr',\n",
       " 'NDVI_diss',\n",
       " 'NDVI_inertia',\n",
       " 'NDVI_shade',\n",
       " 'NDVI_prom']"
      ]
     },
     "execution_count": 211,
     "metadata": {},
     "output_type": "execute_result"
    }
   ],
   "source": [
    "texturas.bandNames().getInfo()"
   ]
  },
  {
   "cell_type": "code",
   "execution_count": 212,
   "id": "3e531601",
   "metadata": {
    "ExecuteTime": {
     "end_time": "2022-02-09T19:12:20.146868Z",
     "start_time": "2022-02-09T19:12:20.145082Z"
    }
   },
   "outputs": [],
   "source": [
    "texturas_ndvi = texturas\n",
    "texturas_ndvi = texturas_ndvi.toArray()\n",
    "texturas_ndvi = texturas_ndvi.toArray(1)"
   ]
  },
  {
   "cell_type": "code",
   "execution_count": 213,
   "id": "3615617c",
   "metadata": {
    "ExecuteTime": {
     "end_time": "2022-02-09T19:12:20.153193Z",
     "start_time": "2022-02-09T19:12:20.147677Z"
    }
   },
   "outputs": [],
   "source": [
    "coef3 = ee.Array([\n",
    "    [1,0,0,0,0,0,0,0,0,0,0,0,0,0,0,0,0,0],\n",
    "    [0,0.01,0,0,0,0,0,0,0,0,0,0,0,0,0,0,0,0],\n",
    "    [0,0,1,0,0,0,0,0,0,0,0,0,0,0,0,0,0,0],\n",
    "    [0,0,0,1,0,0,0,0,0,0,0,0,0,0,0,0,0,0],\n",
    "    [0,0,0,0,1,0,0,0,0,0,0,0,0,0,0,0,0,0],\n",
    "    [0,0,0,0,0,0.01,0,0,0,0,0,0,0,0,0,0,0,0],\n",
    "    [0,0,0,0,0,0,1,0,0,0,0,0,0,0,0,0,0,0],\n",
    "    [0,0,0,0,0,0,0,1,0,0,0,0,0,0,0,0,0,0],\n",
    "    [0,0,0,0,0,0,0,0,1,0,0,0,0,0,0,0,0,0],\n",
    "    [0,0,0,0,0,0,0,0,0,1,0,0,0,0,0,0,0,0],\n",
    "    [0,0,0,0,0,0,0,0,0,0,1,0,0,0,0,0,0,0],\n",
    "    [0,0,0,0,0,0,0,0,0,0,0,1,0,0,0,0,0,0],\n",
    "    [0,0,0,0,0,0,0,0,0,0,0,0,1,0,0,0,0,0],\n",
    "    [0,0,0,0,0,0,0,0,0,0,0,0,0,1,0,0,0,0],\n",
    "    [0,0,0,0,0,0,0,0,0,0,0,0,0,0,1,0,0,0],\n",
    "    [0,0,0,0,0,0,0,0,0,0,0,0,0,0,0,1,0,0],\n",
    "    [0,0,0,0,0,0,0,0,0,0,0,0,0,0,0,0,1,0],\n",
    "    [0,0,0,0,0,0,0,0,0,0,0,0,0,0,0,0,0,1],\n",
    "    ])"
   ]
  },
  {
   "cell_type": "code",
   "execution_count": 214,
   "id": "c9b0b2e9",
   "metadata": {
    "ExecuteTime": {
     "end_time": "2022-02-09T19:12:20.156302Z",
     "start_time": "2022-02-09T19:12:20.154144Z"
    }
   },
   "outputs": [],
   "source": [
    "factor2 = ee.Image(coef3)\\\n",
    "                .matrixMultiply(texturas_ndvi) \\\n",
    "                .arrayProject([0])\\\n",
    "                .arrayFlatten(\n",
    "                [['NDVI_asm',\n",
    " 'NDVI_contrast',\n",
    " 'NDVI_corr',\n",
    " 'NDVI_var',\n",
    " 'NDVI_idm',\n",
    " 'NDVI_savg',\n",
    " 'NDVI_svar',\n",
    " 'NDVI_sent',\n",
    " 'NDVI_ent',\n",
    " 'NDVI_dvar',\n",
    " 'NDVI_dent',\n",
    " 'NDVI_imcorr1',\n",
    " 'NDVI_imcorr2',\n",
    " 'NDVI_maxcorr',\n",
    " 'NDVI_diss',\n",
    " 'NDVI_inertia',\n",
    " 'NDVI_shade',\n",
    " 'NDVI_prom']])"
   ]
  },
  {
   "cell_type": "code",
   "execution_count": 215,
   "id": "2c1590bd",
   "metadata": {
    "ExecuteTime": {
     "end_time": "2022-02-09T19:12:22.090232Z",
     "start_time": "2022-02-09T19:12:20.157204Z"
    }
   },
   "outputs": [
    {
     "data": {
      "application/vnd.jupyter.widget-view+json": {
       "model_id": "86f7bb087c4b4ed6b477cabbf2d99ddc",
       "version_major": 2,
       "version_minor": 0
      },
      "text/plain": [
       "Map(center=[-45, -70], controls=(WidgetControl(options=['position', 'transparent_bg'], widget=HBox(children=(T…"
      ]
     },
     "metadata": {},
     "output_type": "display_data"
    }
   ],
   "source": [
    "Map4.addLayer(factor2.select('NDVI_diss'), {} ,'correlacion' )\n",
    "Map4"
   ]
  },
  {
   "cell_type": "code",
   "execution_count": 216,
   "id": "54a1b4d5",
   "metadata": {
    "ExecuteTime": {
     "end_time": "2022-02-09T19:12:22.093527Z",
     "start_time": "2022-02-09T19:12:22.091178Z"
    }
   },
   "outputs": [],
   "source": [
    "tasktxt1 = ee.batch.Export.image.toDrive(**{\n",
    "    'image': factor2.select('NDVI_savg'),\n",
    "    'description':'NDVI_savg',\n",
    "    'folder':'exp2021_19s_txt',\n",
    "    'region': geometry_exp.bounds(),\n",
    "    'scale':30,\n",
    "    'crsTransform':[30, 0, 214185, 0, -30, -4825185], \n",
    "    'crs':'EPSG:32719',\n",
    "    'maxPixels':1e13\n",
    "})"
   ]
  },
  {
   "cell_type": "code",
   "execution_count": 217,
   "id": "b2798dd1",
   "metadata": {
    "ExecuteTime": {
     "end_time": "2022-02-09T19:12:22.095889Z",
     "start_time": "2022-02-09T19:12:22.094410Z"
    }
   },
   "outputs": [],
   "source": [
    "# tasktxt1.start()"
   ]
  },
  {
   "cell_type": "markdown",
   "id": "97e92404",
   "metadata": {},
   "source": [
    "#### EVI"
   ]
  },
  {
   "cell_type": "code",
   "execution_count": 218,
   "id": "f7990b77",
   "metadata": {
    "ExecuteTime": {
     "end_time": "2022-02-09T19:12:22.098352Z",
     "start_time": "2022-02-09T19:12:22.096618Z"
    }
   },
   "outputs": [],
   "source": [
    "EVI_txt_array = img5.select('EVI')\n",
    "EVI_txt_array = ndvi_txt_array.toArray()\n",
    "EVI_txt_array = ndvi_txt_array.toArray(1)"
   ]
  },
  {
   "cell_type": "code",
   "execution_count": 219,
   "id": "69b3dada",
   "metadata": {
    "ExecuteTime": {
     "end_time": "2022-02-09T19:12:22.101364Z",
     "start_time": "2022-02-09T19:12:22.099203Z"
    }
   },
   "outputs": [],
   "source": [
    "coef2 = ee.Array([[100]])"
   ]
  },
  {
   "cell_type": "code",
   "execution_count": 220,
   "id": "7b9da650",
   "metadata": {
    "ExecuteTime": {
     "end_time": "2022-02-09T19:12:22.103949Z",
     "start_time": "2022-02-09T19:12:22.102213Z"
    }
   },
   "outputs": [],
   "source": [
    "factor_evi = ee.Image(coef2)\\\n",
    "                .matrixMultiply(EVI_txt_array) \\\n",
    "                .arrayProject([0])\\\n",
    "                .arrayFlatten(\n",
    "                [['EVI']])"
   ]
  },
  {
   "cell_type": "code",
   "execution_count": 221,
   "id": "95ca18ac",
   "metadata": {
    "ExecuteTime": {
     "end_time": "2022-02-09T19:12:23.625961Z",
     "start_time": "2022-02-09T19:12:22.104657Z"
    }
   },
   "outputs": [
    {
     "data": {
      "text/plain": [
       "{'EVI': {'type': 'PixelType', 'precision': 'double'}}"
      ]
     },
     "execution_count": 221,
     "metadata": {},
     "output_type": "execute_result"
    }
   ],
   "source": [
    "factor_evi.bandTypes().getInfo()"
   ]
  },
  {
   "cell_type": "code",
   "execution_count": 222,
   "id": "c9c13d37",
   "metadata": {
    "ExecuteTime": {
     "end_time": "2022-02-09T19:12:23.628570Z",
     "start_time": "2022-02-09T19:12:23.626855Z"
    }
   },
   "outputs": [],
   "source": [
    "factor_evi_txt = factor_evi.int()"
   ]
  },
  {
   "cell_type": "code",
   "execution_count": 223,
   "id": "636f6699",
   "metadata": {
    "ExecuteTime": {
     "end_time": "2022-02-09T19:12:25.050453Z",
     "start_time": "2022-02-09T19:12:23.629328Z"
    }
   },
   "outputs": [
    {
     "data": {
      "text/plain": [
       "{'EVI': {'type': 'PixelType',\n",
       "  'precision': 'int',\n",
       "  'min': -2147483648,\n",
       "  'max': 2147483647}}"
      ]
     },
     "execution_count": 223,
     "metadata": {},
     "output_type": "execute_result"
    }
   ],
   "source": [
    "factor_evi_txt.bandTypes().getInfo()"
   ]
  },
  {
   "cell_type": "code",
   "execution_count": 224,
   "id": "06c58d6a",
   "metadata": {
    "ExecuteTime": {
     "end_time": "2022-02-09T19:12:25.053226Z",
     "start_time": "2022-02-09T19:12:25.051357Z"
    }
   },
   "outputs": [],
   "source": [
    "txt_evi = factor_evi_txt.glcmTexture(3)"
   ]
  },
  {
   "cell_type": "code",
   "execution_count": 225,
   "id": "95317ced",
   "metadata": {
    "ExecuteTime": {
     "end_time": "2022-02-09T19:12:26.562750Z",
     "start_time": "2022-02-09T19:12:25.054075Z"
    }
   },
   "outputs": [
    {
     "data": {
      "text/plain": [
       "['EVI_asm',\n",
       " 'EVI_contrast',\n",
       " 'EVI_corr',\n",
       " 'EVI_var',\n",
       " 'EVI_idm',\n",
       " 'EVI_savg',\n",
       " 'EVI_svar',\n",
       " 'EVI_sent',\n",
       " 'EVI_ent',\n",
       " 'EVI_dvar',\n",
       " 'EVI_dent',\n",
       " 'EVI_imcorr1',\n",
       " 'EVI_imcorr2',\n",
       " 'EVI_maxcorr',\n",
       " 'EVI_diss',\n",
       " 'EVI_inertia',\n",
       " 'EVI_shade',\n",
       " 'EVI_prom']"
      ]
     },
     "execution_count": 225,
     "metadata": {},
     "output_type": "execute_result"
    }
   ],
   "source": [
    "txt_evi.bandNames().getInfo()"
   ]
  },
  {
   "cell_type": "code",
   "execution_count": 226,
   "id": "82042902",
   "metadata": {
    "ExecuteTime": {
     "end_time": "2022-02-09T19:12:26.565387Z",
     "start_time": "2022-02-09T19:12:26.563627Z"
    }
   },
   "outputs": [],
   "source": [
    "texturas_evi = txt_evi\n",
    "texturas_evi = texturas_evi.toArray()\n",
    "texturas_evi = texturas_evi.toArray(1)"
   ]
  },
  {
   "cell_type": "code",
   "execution_count": 227,
   "id": "e7c55d44",
   "metadata": {
    "ExecuteTime": {
     "end_time": "2022-02-09T19:12:26.571968Z",
     "start_time": "2022-02-09T19:12:26.566021Z"
    }
   },
   "outputs": [],
   "source": [
    "coef3 = ee.Array([\n",
    "    [1,0,0,0,0,0,0,0,0,0,0,0,0,0,0,0,0,0],\n",
    "    [0,0.01,0,0,0,0,0,0,0,0,0,0,0,0,0,0,0,0],\n",
    "    [0,0,1,0,0,0,0,0,0,0,0,0,0,0,0,0,0,0],\n",
    "    [0,0,0,1,0,0,0,0,0,0,0,0,0,0,0,0,0,0],\n",
    "    [0,0,0,0,1,0,0,0,0,0,0,0,0,0,0,0,0,0],\n",
    "    [0,0,0,0,0,0.01,0,0,0,0,0,0,0,0,0,0,0,0],\n",
    "    [0,0,0,0,0,0,1,0,0,0,0,0,0,0,0,0,0,0],\n",
    "    [0,0,0,0,0,0,0,1,0,0,0,0,0,0,0,0,0,0],\n",
    "    [0,0,0,0,0,0,0,0,1,0,0,0,0,0,0,0,0,0],\n",
    "    [0,0,0,0,0,0,0,0,0,1,0,0,0,0,0,0,0,0],\n",
    "    [0,0,0,0,0,0,0,0,0,0,1,0,0,0,0,0,0,0],\n",
    "    [0,0,0,0,0,0,0,0,0,0,0,1,0,0,0,0,0,0],\n",
    "    [0,0,0,0,0,0,0,0,0,0,0,0,1,0,0,0,0,0],\n",
    "    [0,0,0,0,0,0,0,0,0,0,0,0,0,1,0,0,0,0],\n",
    "    [0,0,0,0,0,0,0,0,0,0,0,0,0,0,1,0,0,0],\n",
    "    [0,0,0,0,0,0,0,0,0,0,0,0,0,0,0,1,0,0],\n",
    "    [0,0,0,0,0,0,0,0,0,0,0,0,0,0,0,0,1,0],\n",
    "    [0,0,0,0,0,0,0,0,0,0,0,0,0,0,0,0,0,1]\n",
    "    ])"
   ]
  },
  {
   "cell_type": "code",
   "execution_count": 228,
   "id": "082923f8",
   "metadata": {
    "ExecuteTime": {
     "end_time": "2022-02-09T19:12:26.574987Z",
     "start_time": "2022-02-09T19:12:26.572837Z"
    }
   },
   "outputs": [],
   "source": [
    "factor2 = ee.Image(coef3)\\\n",
    "                .matrixMultiply(texturas_evi) \\\n",
    "                .arrayProject([0])\\\n",
    "                .arrayFlatten(\n",
    "                [['EVI_asm',\n",
    " 'EVI_contrast',\n",
    " 'EVI_corr',\n",
    " 'EVI_var',\n",
    " 'EVI_idm',\n",
    " 'EVI_savg',\n",
    " 'EVI_svar',\n",
    " 'EVI_sent',\n",
    " 'EVI_ent',\n",
    " 'EVI_dvar',\n",
    " 'EVI_dent',\n",
    " 'EVI_imcorr1',\n",
    " 'EVI_imcorr2',\n",
    " 'EVI_maxcorr',\n",
    " 'EVI_diss',\n",
    " 'EVI_inertia',\n",
    " 'EVI_shade',\n",
    " 'EVI_prom']])"
   ]
  },
  {
   "cell_type": "code",
   "execution_count": 229,
   "id": "2cb59bdc",
   "metadata": {
    "ExecuteTime": {
     "end_time": "2022-02-09T19:12:28.037707Z",
     "start_time": "2022-02-09T19:12:26.575784Z"
    }
   },
   "outputs": [
    {
     "data": {
      "application/vnd.jupyter.widget-view+json": {
       "model_id": "86f7bb087c4b4ed6b477cabbf2d99ddc",
       "version_major": 2,
       "version_minor": 0
      },
      "text/plain": [
       "Map(center=[-45, -70], controls=(WidgetControl(options=['position', 'transparent_bg'], widget=HBox(children=(T…"
      ]
     },
     "metadata": {},
     "output_type": "display_data"
    }
   ],
   "source": [
    "Map4.addLayer(factor2.select('EVI_corr'), {} ,'correlacion' )\n",
    "Map4"
   ]
  },
  {
   "cell_type": "markdown",
   "id": "b47c8c2d",
   "metadata": {},
   "source": [
    "### DEM"
   ]
  },
  {
   "cell_type": "code",
   "execution_count": 242,
   "id": "1e589fd2",
   "metadata": {
    "ExecuteTime": {
     "end_time": "2022-02-09T19:25:14.085815Z",
     "start_time": "2022-02-09T19:25:14.083604Z"
    }
   },
   "outputs": [],
   "source": [
    "dem = ee.Image('USGS/SRTMGL1_003').clip(patagonia_grande)"
   ]
  },
  {
   "cell_type": "code",
   "execution_count": 243,
   "id": "68a1da78",
   "metadata": {
    "ExecuteTime": {
     "end_time": "2022-02-09T19:25:14.090059Z",
     "start_time": "2022-02-09T19:25:14.088190Z"
    }
   },
   "outputs": [],
   "source": [
    "elevation = dem.select('elevation')"
   ]
  },
  {
   "cell_type": "code",
   "execution_count": 244,
   "id": "a40d4496",
   "metadata": {
    "ExecuteTime": {
     "end_time": "2022-02-09T19:25:14.093541Z",
     "start_time": "2022-02-09T19:25:14.091981Z"
    }
   },
   "outputs": [],
   "source": [
    "slope = ee.Terrain.slope(elevation)"
   ]
  },
  {
   "cell_type": "code",
   "execution_count": 245,
   "id": "5250d642",
   "metadata": {
    "ExecuteTime": {
     "end_time": "2022-02-09T19:25:17.320248Z",
     "start_time": "2022-02-09T19:25:14.098772Z"
    }
   },
   "outputs": [
    {
     "data": {
      "application/vnd.jupyter.widget-view+json": {
       "model_id": "1214c1852f7a430dad29b0e925656f88",
       "version_major": 2,
       "version_minor": 0
      },
      "text/plain": [
       "Map(bottom=2923.0, center=[-45, -70], controls=(WidgetControl(options=['position', 'transparent_bg'], widget=H…"
      ]
     },
     "metadata": {},
     "output_type": "display_data"
    }
   ],
   "source": [
    "Map5.addLayer(slope, {} ,'slope' )\n",
    "Map5"
   ]
  },
  {
   "cell_type": "markdown",
   "id": "5bf4e2ba",
   "metadata": {},
   "source": [
    "### Serie de NDVI"
   ]
  },
  {
   "cell_type": "markdown",
   "id": "6de56b15",
   "metadata": {},
   "source": [
    "#### Índices Primavera"
   ]
  },
  {
   "cell_type": "code",
   "execution_count": 246,
   "id": "76a2991a",
   "metadata": {
    "ExecuteTime": {
     "end_time": "2022-02-09T19:25:17.323308Z",
     "start_time": "2022-02-09T19:25:17.321297Z"
    }
   },
   "outputs": [],
   "source": [
    "start_date = '2021-09-30'\n",
    "end_date = '2022-03-31'\n",
    "\n",
    "l8_2021 = ee.ImageCollection('LANDSAT/LC08/C01/T1_TOA') \\\n",
    "    .filterBounds(patagonia_grande) \\\n",
    "    .filterDate(start_date, end_date)  "
   ]
  },
  {
   "cell_type": "code",
   "execution_count": null,
   "id": "e7c72d0a",
   "metadata": {},
   "outputs": [],
   "source": []
  },
  {
   "cell_type": "markdown",
   "id": "73ca02ec",
   "metadata": {},
   "source": [
    "#### Índices Invierno"
   ]
  },
  {
   "cell_type": "code",
   "execution_count": 262,
   "id": "6113dd81",
   "metadata": {
    "ExecuteTime": {
     "end_time": "2022-02-09T20:38:43.592980Z",
     "start_time": "2022-02-09T20:38:43.590754Z"
    }
   },
   "outputs": [],
   "source": [
    "start_date = '2021-06-30'\n",
    "end_date = '2021-09-01'\n",
    "\n",
    "l8_2021_invierno = ee.ImageCollection('LANDSAT/LC08/C01/T1_TOA') \\\n",
    "    .filterBounds(patagonia_grande) \\\n",
    "    .filterDate(start_date, end_date) "
   ]
  },
  {
   "cell_type": "code",
   "execution_count": 263,
   "id": "71c2eec9",
   "metadata": {
    "ExecuteTime": {
     "end_time": "2022-02-09T20:38:43.601593Z",
     "start_time": "2022-02-09T20:38:43.596833Z"
    }
   },
   "outputs": [],
   "source": [
    "coleccion2021_invierno = l8_2021_invierno.map(addNDVI).map(addNDWI).map(addNDGI).map(addSAVI).map(addNDSI).map(addNDBI).map(addEVI).map(addDate).map(addCloud)"
   ]
  },
  {
   "cell_type": "code",
   "execution_count": 264,
   "id": "1606f844",
   "metadata": {
    "ExecuteTime": {
     "end_time": "2022-02-09T20:38:43.605543Z",
     "start_time": "2022-02-09T20:38:43.602658Z"
    }
   },
   "outputs": [],
   "source": [
    "c2021_sn_inv = coleccion2021.map(Cloud10)\n",
    "NDVI_2021_sn_inv = c2021_sn_inv.qualityMosaic('NDVI')\n",
    "EVI_2021_sn_inv  = c2021_sn_inv.qualityMosaic('EVI')\n",
    "NDWI_2021_sn_inv = c2021_sn_inv.qualityMosaic('NDWI')\n",
    "SAVI_2021_sn_inv = c2021_sn_inv.qualityMosaic('SAVI')\n",
    "NDGI_2021_sn_inv = c2021_sn_inv.qualityMosaic('NDGI')\n",
    "NDSI_2021_sn_inv = c2021_sn_inv.qualityMosaic('NDSI')\n",
    "NDVI_Med_2021_sn_inv = (c2021_sn_inv.median()).select('NDVI')"
   ]
  },
  {
   "cell_type": "code",
   "execution_count": 265,
   "id": "893a4a81",
   "metadata": {
    "ExecuteTime": {
     "end_time": "2022-02-09T20:38:55.067084Z",
     "start_time": "2022-02-09T20:38:43.606642Z"
    }
   },
   "outputs": [
    {
     "data": {
      "application/vnd.jupyter.widget-view+json": {
       "model_id": "1214c1852f7a430dad29b0e925656f88",
       "version_major": 2,
       "version_minor": 0
      },
      "text/plain": [
       "Map(bottom=21654.0, center=[-47.827908169193286, -70.93872070312501], controls=(WidgetControl(options=['positi…"
      ]
     },
     "metadata": {},
     "output_type": "display_data"
    }
   ],
   "source": [
    "Map5.addLayer(NDVI_2021_sn_inv , vizParams, 'QMsn de NDVI 2021')\n",
    "Map5.addLayer(EVI_2021_sn_inv , vizParams, 'QMsn de NDVI 2021')\n",
    "Map5.addLayer(NDVI_Med_2021_sn_inv, {'palette':vizNDVI}, 'Mediana de NDVI 2021')\n",
    "Map5.addLayer(NDWI_2021_sn_inv, vizParams, 'QMsn de NDWI 2021')\n",
    "Map5.addLayer(SAVI_2021_sn_inv, vizParams, 'QMsn de SAVI 2021')\n",
    "Map5.addLayer(NDGI_2021_sn_inv, vis_nieve, 'QMsn de NDGI 2021')\n",
    "Map5.addLayer(NDSI_2021_sn_inv, vis_nieve, 'QMsn de NDSI 2021')\n",
    "Map5"
   ]
  },
  {
   "cell_type": "code",
   "execution_count": 266,
   "id": "56523ade",
   "metadata": {
    "ExecuteTime": {
     "end_time": "2022-02-09T20:38:55.070341Z",
     "start_time": "2022-02-09T20:38:55.068279Z"
    }
   },
   "outputs": [],
   "source": [
    "start_date = '2020-06-30'\n",
    "end_date = '2020-09-01'\n",
    "\n",
    "l8_2020_invierno = ee.ImageCollection('LANDSAT/LC08/C01/T1_TOA') \\\n",
    "    .filterBounds(patagonia_grande) \\\n",
    "    .filterDate(start_date, end_date) \n"
   ]
  },
  {
   "cell_type": "code",
   "execution_count": 267,
   "id": "f2a091fd",
   "metadata": {
    "ExecuteTime": {
     "end_time": "2022-02-09T20:38:55.076296Z",
     "start_time": "2022-02-09T20:38:55.071107Z"
    }
   },
   "outputs": [],
   "source": [
    "coleccion2020_invierno = l8_2020_invierno.map(addNDVI).map(addNDWI).map(addNDGI).map(addSAVI).map(addNDSI).map(addNDBI).map(addEVI).map(addDate).map(addCloud)"
   ]
  },
  {
   "cell_type": "code",
   "execution_count": 268,
   "id": "bd581866",
   "metadata": {
    "ExecuteTime": {
     "end_time": "2022-02-09T20:38:55.080151Z",
     "start_time": "2022-02-09T20:38:55.077556Z"
    }
   },
   "outputs": [],
   "source": [
    "c2020_sn_inv = coleccion2020_invierno.map(Cloud10)\n",
    "NDVI_2020_sn_inv = c2020_sn_inv.qualityMosaic('NDVI')\n",
    "EVI_2020_sn_inv  = c2020_sn_inv.qualityMosaic('EVI')\n",
    "NDWI_2020_sn_inv = c2020_sn_inv.qualityMosaic('NDWI')\n",
    "SAVI_2020_sn_inv = c2020_sn_inv.qualityMosaic('SAVI')\n",
    "NDGI_2020_sn_inv = c2020_sn_inv.qualityMosaic('NDGI')\n",
    "NDSI_2020_sn_inv = c2020_sn_inv.qualityMosaic('NDSI')"
   ]
  },
  {
   "cell_type": "markdown",
   "id": "6682e32b",
   "metadata": {},
   "source": [
    "##### Colección"
   ]
  },
  {
   "cell_type": "code",
   "execution_count": 269,
   "id": "3ef4514f",
   "metadata": {
    "ExecuteTime": {
     "end_time": "2022-02-09T20:38:55.083305Z",
     "start_time": "2022-02-09T20:38:55.081090Z"
    }
   },
   "outputs": [],
   "source": [
    "filterwinter = ee.Filter.Or(\n",
    "    ee.Filter.date('2021-06-30','2021-09-01'),\n",
    "    ee.Filter.date('2020-06-30','2020-09-01'),\n",
    "    ee.Filter.date('2019-06-30','2019-09-01'),\n",
    "    ee.Filter.date('2018-06-30','2018-09-01'),\n",
    "    ee.Filter.date('2017-06-30','2017-09-01')\n",
    ")"
   ]
  },
  {
   "cell_type": "code",
   "execution_count": 272,
   "id": "12f31d5d",
   "metadata": {
    "ExecuteTime": {
     "end_time": "2022-02-09T20:39:34.443401Z",
     "start_time": "2022-02-09T20:39:34.441330Z"
    }
   },
   "outputs": [],
   "source": [
    "coleccion2022_2017_invierno = ee.ImageCollection('LANDSAT/LC08/C01/T1_TOA') \\\n",
    "    .filterDate('2017-06-30', '2022-09-01') \\\n",
    "    .filter(filterwinter) \\\n",
    "    .filterBounds(patagonia_grande)"
   ]
  },
  {
   "cell_type": "code",
   "execution_count": 273,
   "id": "982694a8",
   "metadata": {
    "ExecuteTime": {
     "end_time": "2022-02-09T20:39:34.450112Z",
     "start_time": "2022-02-09T20:39:34.445609Z"
    }
   },
   "outputs": [],
   "source": [
    "l8_winter= coleccion2022_2017_invierno.map(addNDVI).map(addNDWI).map(addNDGI).map(addSAVI).map(addNDSI).map(addNDBI).map(addEVI).map(addDate).map(addCloud)"
   ]
  },
  {
   "cell_type": "code",
   "execution_count": 302,
   "id": "43032e5c",
   "metadata": {
    "ExecuteTime": {
     "end_time": "2022-02-09T20:43:25.785705Z",
     "start_time": "2022-02-09T20:43:25.781397Z"
    }
   },
   "outputs": [],
   "source": [
    "Tier1_winter_sn = l8_winter.map(Cloud10)\n",
    "Tier2_winter_sn = l8_winter.map(Cloud20)\n",
    "Tier3_winter_sn = l8_winter.map(Cloud30)\n",
    "Tier4_winter_sn = l8_winter.map(Cloud40)\n",
    "QM_NDVI_winterT1_sn = Tier1_winter_sn.qualityMosaic('NDVI')\n",
    "QM_NDVI_winterT2_sn = Tier2_winter_sn.qualityMosaic('NDVI')\n",
    "QM_NDVI_winterT3_sn = Tier3_winter_sn.qualityMosaic('NDVI')\n",
    "QM_NDVI_winterT4_sn = Tier4_winter_sn.qualityMosaic('NDVI')\n",
    "Med_NDVI_winterT1_sn = (Tier1_winter_sn.median()).select('NDVI')\n",
    "Med_NDVI_winterT2_sn = (Tier2_winter_sn.median()).select('NDVI')\n",
    "Med_NDVI_winterT3_sn = (Tier3_winter_sn.median()).select('NDVI')\n",
    "Med_NDVI_winterT4_sn = (Tier4_winter_sn.median()).select('NDVI')\n",
    "QM_NDWI_winterT1_sn = Tier1_winter_sn.qualityMosaic('NDWI')\n",
    "cloudest_winter = l8_winter.qualityMosaic('nube')"
   ]
  },
  {
   "cell_type": "code",
   "execution_count": 275,
   "id": "967be7b2",
   "metadata": {
    "ExecuteTime": {
     "end_time": "2022-02-09T20:39:34.458981Z",
     "start_time": "2022-02-09T20:39:34.456351Z"
    }
   },
   "outputs": [],
   "source": [
    "NDVI_2021_landsat = cloudest.set('SENSOR_ID', 'OLI_TIRS')\n",
    "cloud_2021 = ee.Algorithms.Landsat.simpleCloudScore(NDVI_2021_landsat)\n",
    "cloud_2021 = cloud_2021.select('cloud')\n",
    "palette_nubes = ['#1a9850', '#d73027']\n",
    "resultados= [cloud_2021, cloudest]\n",
    "vis_params2=  [\n",
    "    {'palette':palette_nubes}, \n",
    "    vizParams]\n",
    "labels = [\n",
    "    'Nubes 2021',\n",
    "    'QM NDVI 2021']"
   ]
  },
  {
   "cell_type": "code",
   "execution_count": 276,
   "id": "4f01fd9f",
   "metadata": {
    "ExecuteTime": {
     "end_time": "2022-02-09T20:39:37.444316Z",
     "start_time": "2022-02-09T20:39:34.459941Z"
    }
   },
   "outputs": [
    {
     "data": {
      "application/vnd.jupyter.widget-view+json": {
       "model_id": "fe8fcb20579f449794f61fac48a823d7",
       "version_major": 2,
       "version_minor": 0
      },
      "text/plain": [
       "GridspecLayout(children=(Output(layout=Layout(grid_area='widget001')), Output(layout=Layout(grid_area='widget0…"
      ]
     },
     "metadata": {},
     "output_type": "display_data"
    }
   ],
   "source": [
    "geemap.linked_maps(rows=1, cols=2, height=\"400px\", center=[-45, -75], zoom=4, \n",
    "                   ee_objects=resultados, vis_params=vis_params2, labels=labels, label_position=\"topright\")"
   ]
  },
  {
   "cell_type": "code",
   "execution_count": 282,
   "id": "b50ae679",
   "metadata": {
    "ExecuteTime": {
     "end_time": "2022-02-09T20:41:16.810548Z",
     "start_time": "2022-02-09T20:41:16.808371Z"
    }
   },
   "outputs": [],
   "source": [
    "def llenado(image):\n",
    "    return image.where(cloud_2021.gt(10),QM_NDVI_winterT1_sn)"
   ]
  },
  {
   "cell_type": "code",
   "execution_count": 283,
   "id": "0cab71c5",
   "metadata": {
    "ExecuteTime": {
     "end_time": "2022-02-09T20:41:16.814153Z",
     "start_time": "2022-02-09T20:41:16.812413Z"
    }
   },
   "outputs": [],
   "source": [
    "img1 = llenado(cloudest)"
   ]
  },
  {
   "cell_type": "code",
   "execution_count": 284,
   "id": "a5cd94c0",
   "metadata": {
    "ExecuteTime": {
     "end_time": "2022-02-09T20:41:16.818674Z",
     "start_time": "2022-02-09T20:41:16.816322Z"
    }
   },
   "outputs": [],
   "source": [
    "img1_landsat = img1.set('SENSOR_ID', 'OLI_TIRS')\n",
    "cloud_img1 = ee.Algorithms.Landsat.simpleCloudScore(img1_landsat)\n",
    "cloud_img1 = cloud_img1.select('cloud')\n",
    "resultados= [cloud_img1, img1_landsat]\n",
    "vis_params2=  [\n",
    "    {'palette':palette_nubes}, \n",
    "    vizParams]\n",
    "labels = [\n",
    "    'Nubes Mosaico 1',\n",
    "    'Mosaico 1']\n"
   ]
  },
  {
   "cell_type": "code",
   "execution_count": 285,
   "id": "d5c49412",
   "metadata": {
    "ExecuteTime": {
     "end_time": "2022-02-09T20:41:20.688814Z",
     "start_time": "2022-02-09T20:41:16.821027Z"
    }
   },
   "outputs": [
    {
     "data": {
      "application/vnd.jupyter.widget-view+json": {
       "model_id": "27d373b0c1d541b3b500f19b524e0c44",
       "version_major": 2,
       "version_minor": 0
      },
      "text/plain": [
       "GridspecLayout(children=(Output(layout=Layout(grid_area='widget001')), Output(layout=Layout(grid_area='widget0…"
      ]
     },
     "metadata": {},
     "output_type": "display_data"
    }
   ],
   "source": [
    "geemap.linked_maps(rows=1, cols=2, height=\"400px\", center=[-45, -75], zoom=4, \n",
    "                   ee_objects=resultados, vis_params=vis_params2, labels=labels, label_position=\"topright\")"
   ]
  },
  {
   "cell_type": "code",
   "execution_count": 286,
   "id": "ce57c820",
   "metadata": {
    "ExecuteTime": {
     "end_time": "2022-02-09T20:41:20.691546Z",
     "start_time": "2022-02-09T20:41:20.689832Z"
    }
   },
   "outputs": [],
   "source": [
    "def llenado2(image):\n",
    "    return image.where(cloud_img1.gt(10), QM_NDVI_winterT2_sn)"
   ]
  },
  {
   "cell_type": "code",
   "execution_count": 287,
   "id": "6b5eadf2",
   "metadata": {
    "ExecuteTime": {
     "end_time": "2022-02-09T20:41:20.695069Z",
     "start_time": "2022-02-09T20:41:20.692586Z"
    }
   },
   "outputs": [],
   "source": [
    "img2_landsat = img2.set('SENSOR_ID', 'OLI_TIRS')\n",
    "cloud_img2 = ee.Algorithms.Landsat.simpleCloudScore(img2_landsat)\n",
    "cloud_img2 = cloud_img2.select('cloud')\n",
    "resultados= [cloud_img2, img2_landsat]\n",
    "vis_params2=  [\n",
    "    {'palette':palette_nubes}, \n",
    "    vizParams]\n",
    "labels = [\n",
    "    'Nubes Mosaico 2',\n",
    "    'Mosaico 2']"
   ]
  },
  {
   "cell_type": "code",
   "execution_count": 288,
   "id": "4cc43bbd",
   "metadata": {
    "ExecuteTime": {
     "end_time": "2022-02-09T20:41:24.274467Z",
     "start_time": "2022-02-09T20:41:20.696261Z"
    }
   },
   "outputs": [
    {
     "data": {
      "application/vnd.jupyter.widget-view+json": {
       "model_id": "c9a7f057f6654b4bb710197c373ca57e",
       "version_major": 2,
       "version_minor": 0
      },
      "text/plain": [
       "GridspecLayout(children=(Output(layout=Layout(grid_area='widget001')), Output(layout=Layout(grid_area='widget0…"
      ]
     },
     "metadata": {},
     "output_type": "display_data"
    }
   ],
   "source": [
    "geemap.linked_maps(rows=1, cols=2, height=\"400px\", center=[-45, -75], zoom=4, \n",
    "                   ee_objects=resultados, vis_params=vis_params2, labels=labels, label_position=\"topright\")"
   ]
  },
  {
   "cell_type": "code",
   "execution_count": 289,
   "id": "18e6ee06",
   "metadata": {
    "ExecuteTime": {
     "end_time": "2022-02-09T20:41:24.277305Z",
     "start_time": "2022-02-09T20:41:24.275501Z"
    }
   },
   "outputs": [],
   "source": [
    "def llenado3(image):\n",
    "    return image.where(cloud_img2.gt(10), QM_NDVI_winterT3_sn)"
   ]
  },
  {
   "cell_type": "code",
   "execution_count": 290,
   "id": "df0b51f4",
   "metadata": {
    "ExecuteTime": {
     "end_time": "2022-02-09T20:41:24.280615Z",
     "start_time": "2022-02-09T20:41:24.278240Z"
    }
   },
   "outputs": [],
   "source": [
    "img3 = llenado3(img2)\n",
    "img3_landsat = img3.set('SENSOR_ID', 'OLI_TIRS')\n",
    "cloud_img3 = ee.Algorithms.Landsat.simpleCloudScore(img3_landsat)\n",
    "cloud_img3 = cloud_img3.select('cloud')\n",
    "resultados= [cloud_img3, img3_landsat]\n",
    "vis_params2=  [\n",
    "    {'palette':palette_nubes}, \n",
    "    vizParams]\n",
    "labels = [\n",
    "    'Nubes Mosaico 3',\n",
    "    'Mosaico 3']"
   ]
  },
  {
   "cell_type": "code",
   "execution_count": 291,
   "id": "1980f439",
   "metadata": {
    "ExecuteTime": {
     "end_time": "2022-02-09T20:41:28.060493Z",
     "start_time": "2022-02-09T20:41:24.281441Z"
    }
   },
   "outputs": [
    {
     "data": {
      "application/vnd.jupyter.widget-view+json": {
       "model_id": "f3393d121084426d8f74a2ea816fa73a",
       "version_major": 2,
       "version_minor": 0
      },
      "text/plain": [
       "GridspecLayout(children=(Output(layout=Layout(grid_area='widget001')), Output(layout=Layout(grid_area='widget0…"
      ]
     },
     "metadata": {},
     "output_type": "display_data"
    }
   ],
   "source": [
    "geemap.linked_maps(rows=1, cols=2, height=\"400px\", center=[-45, -75], zoom=4, \n",
    "                   ee_objects=resultados, vis_params=vis_params2, labels=labels, label_position=\"topright\")"
   ]
  },
  {
   "cell_type": "code",
   "execution_count": 292,
   "id": "a7f5b259",
   "metadata": {
    "ExecuteTime": {
     "end_time": "2022-02-09T20:41:28.063328Z",
     "start_time": "2022-02-09T20:41:28.061433Z"
    }
   },
   "outputs": [],
   "source": [
    "def llenado4(image):\n",
    "    return image.where(cloud_img3.gt(10), QM_NDVI_winterT4_sn)"
   ]
  },
  {
   "cell_type": "code",
   "execution_count": 293,
   "id": "2bdbba52",
   "metadata": {
    "ExecuteTime": {
     "end_time": "2022-02-09T20:41:28.066333Z",
     "start_time": "2022-02-09T20:41:28.064177Z"
    }
   },
   "outputs": [],
   "source": [
    "img4 = llenado4(img3)"
   ]
  },
  {
   "cell_type": "code",
   "execution_count": 294,
   "id": "4b546a91",
   "metadata": {
    "ExecuteTime": {
     "end_time": "2022-02-09T20:41:28.069964Z",
     "start_time": "2022-02-09T20:41:28.067885Z"
    }
   },
   "outputs": [],
   "source": [
    "img4_landsat = img4.set('SENSOR_ID', 'OLI_TIRS')\n",
    "cloud_img4 = ee.Algorithms.Landsat.simpleCloudScore(img4_landsat)\n",
    "cloud_img4 = cloud_img4.select('cloud')\n",
    "resultados= [cloud_img4, img4_landsat]\n",
    "vis_params2=  [\n",
    "    {'palette':palette_nubes}, \n",
    "    vizParams]\n",
    "labels = [\n",
    "    'Nubes Mosaico 4',\n",
    "    'Mosaico 4']"
   ]
  },
  {
   "cell_type": "code",
   "execution_count": 295,
   "id": "092a2ed9",
   "metadata": {
    "ExecuteTime": {
     "end_time": "2022-02-09T20:41:32.233315Z",
     "start_time": "2022-02-09T20:41:28.070799Z"
    }
   },
   "outputs": [
    {
     "data": {
      "application/vnd.jupyter.widget-view+json": {
       "model_id": "17eef57e26a141679b22b89cd8193c2b",
       "version_major": 2,
       "version_minor": 0
      },
      "text/plain": [
       "GridspecLayout(children=(Output(layout=Layout(grid_area='widget001')), Output(layout=Layout(grid_area='widget0…"
      ]
     },
     "metadata": {},
     "output_type": "display_data"
    }
   ],
   "source": [
    "geemap.linked_maps(rows=1, cols=2, height=\"400px\", center=[-45, -75], zoom=4, \n",
    "                   ee_objects=resultados, vis_params=vis_params2, labels=labels, label_position=\"topright\")"
   ]
  },
  {
   "cell_type": "code",
   "execution_count": 303,
   "id": "ef6a3f96",
   "metadata": {
    "ExecuteTime": {
     "end_time": "2022-02-09T20:44:15.865093Z",
     "start_time": "2022-02-09T20:44:15.863126Z"
    }
   },
   "outputs": [],
   "source": [
    "hansenImage = ee.Image('UMD/hansen/global_forest_change_2015')\n",
    "datamask = hansenImage.select('datamask')"
   ]
  },
  {
   "cell_type": "code",
   "execution_count": 304,
   "id": "55629164",
   "metadata": {
    "ExecuteTime": {
     "end_time": "2022-02-09T20:44:15.870078Z",
     "start_time": "2022-02-09T20:44:15.867428Z"
    }
   },
   "outputs": [],
   "source": [
    "def llenado5(image):\n",
    "    return image.where(datamask.eq(2), QM_NDWI_winterT1_sn)"
   ]
  },
  {
   "cell_type": "code",
   "execution_count": 305,
   "id": "23ddb8c1",
   "metadata": {
    "ExecuteTime": {
     "end_time": "2022-02-09T20:44:15.873760Z",
     "start_time": "2022-02-09T20:44:15.872053Z"
    }
   },
   "outputs": [],
   "source": [
    "img5 = llenado5(img4)"
   ]
  },
  {
   "cell_type": "code",
   "execution_count": 306,
   "id": "067d6965",
   "metadata": {
    "ExecuteTime": {
     "end_time": "2022-02-09T20:44:15.877212Z",
     "start_time": "2022-02-09T20:44:15.875581Z"
    }
   },
   "outputs": [],
   "source": [
    "img5_landsat = img5.set('SENSOR_ID', 'OLI_TIRS')"
   ]
  },
  {
   "cell_type": "code",
   "execution_count": 307,
   "id": "1d25a914",
   "metadata": {
    "ExecuteTime": {
     "end_time": "2022-02-09T20:44:15.881147Z",
     "start_time": "2022-02-09T20:44:15.879549Z"
    }
   },
   "outputs": [],
   "source": [
    "resultados= [img4, img5]\n",
    "labels = [\n",
    "    'Mosaico 4',\n",
    "    'Mosaico 5']\n",
    "vis_params3=  [\n",
    "     vizParams, \n",
    "    vizParams]"
   ]
  },
  {
   "cell_type": "code",
   "execution_count": 308,
   "id": "204bc1c4",
   "metadata": {
    "ExecuteTime": {
     "end_time": "2022-02-09T20:44:20.049071Z",
     "start_time": "2022-02-09T20:44:15.883085Z"
    }
   },
   "outputs": [
    {
     "data": {
      "application/vnd.jupyter.widget-view+json": {
       "model_id": "357f04eae380477887184cfd7bb1299b",
       "version_major": 2,
       "version_minor": 0
      },
      "text/plain": [
       "GridspecLayout(children=(Output(layout=Layout(grid_area='widget001')), Output(layout=Layout(grid_area='widget0…"
      ]
     },
     "metadata": {},
     "output_type": "display_data"
    }
   ],
   "source": [
    "geemap.linked_maps(rows=1, cols=2, height=\"400px\", center=[-45, -75], zoom=4, \n",
    "                   ee_objects=resultados, vis_params=vis_params3, labels=labels, label_position=\"topright\")"
   ]
  },
  {
   "cell_type": "code",
   "execution_count": null,
   "id": "f6c44323",
   "metadata": {},
   "outputs": [],
   "source": [
    "img5_winter = img5"
   ]
  },
  {
   "cell_type": "code",
   "execution_count": null,
   "id": "585130c4",
   "metadata": {},
   "outputs": [],
   "source": []
  },
  {
   "cell_type": "code",
   "execution_count": null,
   "id": "85a4428a",
   "metadata": {},
   "outputs": [],
   "source": []
  },
  {
   "cell_type": "code",
   "execution_count": null,
   "id": "9314e11f",
   "metadata": {},
   "outputs": [],
   "source": []
  },
  {
   "cell_type": "code",
   "execution_count": null,
   "id": "c068eb66",
   "metadata": {},
   "outputs": [],
   "source": []
  },
  {
   "cell_type": "code",
   "execution_count": null,
   "id": "05b40a0b",
   "metadata": {},
   "outputs": [],
   "source": []
  },
  {
   "cell_type": "code",
   "execution_count": null,
   "id": "3b5113bb",
   "metadata": {},
   "outputs": [],
   "source": []
  },
  {
   "cell_type": "code",
   "execution_count": null,
   "id": "bcc474da",
   "metadata": {},
   "outputs": [],
   "source": []
  },
  {
   "cell_type": "markdown",
   "id": "cf8d93b4",
   "metadata": {},
   "source": [
    "#### Índices Otoño"
   ]
  },
  {
   "cell_type": "code",
   "execution_count": null,
   "id": "73ae6e97",
   "metadata": {},
   "outputs": [],
   "source": []
  },
  {
   "cell_type": "code",
   "execution_count": null,
   "id": "263a516a",
   "metadata": {},
   "outputs": [],
   "source": []
  },
  {
   "cell_type": "code",
   "execution_count": null,
   "id": "e0dafcb0",
   "metadata": {},
   "outputs": [],
   "source": []
  },
  {
   "cell_type": "code",
   "execution_count": null,
   "id": "303e20f0",
   "metadata": {},
   "outputs": [],
   "source": []
  },
  {
   "cell_type": "code",
   "execution_count": null,
   "id": "e306b549",
   "metadata": {},
   "outputs": [],
   "source": []
  },
  {
   "cell_type": "code",
   "execution_count": null,
   "id": "793d145b",
   "metadata": {},
   "outputs": [],
   "source": []
  },
  {
   "cell_type": "code",
   "execution_count": null,
   "id": "da266877",
   "metadata": {},
   "outputs": [],
   "source": []
  }
 ],
 "metadata": {
  "kernelspec": {
   "display_name": "Python 3 (ipykernel)",
   "language": "python",
   "name": "python3"
  },
  "language_info": {
   "codemirror_mode": {
    "name": "ipython",
    "version": 3
   },
   "file_extension": ".py",
   "mimetype": "text/x-python",
   "name": "python",
   "nbconvert_exporter": "python",
   "pygments_lexer": "ipython3",
   "version": "3.8.12"
  },
  "toc": {
   "base_numbering": 1,
   "nav_menu": {},
   "number_sections": true,
   "sideBar": true,
   "skip_h1_title": false,
   "title_cell": "Table of Contents",
   "title_sidebar": "Contents",
   "toc_cell": false,
   "toc_position": {
    "height": "calc(100% - 180px)",
    "left": "10px",
    "top": "150px",
    "width": "384px"
   },
   "toc_section_display": true,
   "toc_window_display": true
  },
  "varInspector": {
   "cols": {
    "lenName": 16,
    "lenType": 16,
    "lenVar": 40
   },
   "kernels_config": {
    "python": {
     "delete_cmd_postfix": "",
     "delete_cmd_prefix": "del ",
     "library": "var_list.py",
     "varRefreshCmd": "print(var_dic_list())"
    },
    "r": {
     "delete_cmd_postfix": ") ",
     "delete_cmd_prefix": "rm(",
     "library": "var_list.r",
     "varRefreshCmd": "cat(var_dic_list()) "
    }
   },
   "types_to_exclude": [
    "module",
    "function",
    "builtin_function_or_method",
    "instance",
    "_Feature"
   ],
   "window_display": false
  }
 },
 "nbformat": 4,
 "nbformat_minor": 5
}
