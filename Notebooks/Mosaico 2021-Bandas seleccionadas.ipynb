{
 "cells": [
  {
   "cell_type": "markdown",
   "id": "c8ee7fef",
   "metadata": {},
   "source": [
    "# Mosaico 2021"
   ]
  },
  {
   "cell_type": "markdown",
   "id": "203f76ca",
   "metadata": {},
   "source": [
    "Script trabajado por Francisco Albornoz (2022-02-01) / Última modificación / Mosaicos Patagonia"
   ]
  },
  {
   "cell_type": "markdown",
   "id": "2fb5cdeb",
   "metadata": {},
   "source": [
    "2022-02-01 13:20:38 "
   ]
  },
  {
   "cell_type": "code",
   "execution_count": 1,
   "id": "37b27949",
   "metadata": {
    "ExecuteTime": {
     "end_time": "2022-03-28T16:38:47.685526Z",
     "start_time": "2022-03-28T16:38:47.683698Z"
    }
   },
   "outputs": [],
   "source": [
    "# !pip install scipy"
   ]
  },
  {
   "cell_type": "code",
   "execution_count": 2,
   "id": "3057c761",
   "metadata": {
    "ExecuteTime": {
     "end_time": "2022-03-28T16:38:49.078453Z",
     "start_time": "2022-03-28T16:38:47.686842Z"
    }
   },
   "outputs": [],
   "source": [
    "import ee \n",
    "import geemap\n",
    "import geemap.chart as chart\n",
    "import os\n",
    "import folium\n",
    "import xarray_leaflet\n",
    "import rasterio \n",
    "from rasterio import plot\n",
    "import matplotlib.pyplot as plt\n",
    "import numpy as np\n",
    "import pandas as pd\n",
    "import seaborn as sns\n",
    "from scipy import stats\n",
    "from scipy.stats import pearsonr\n",
    "%matplotlib inline"
   ]
  },
  {
   "cell_type": "markdown",
   "id": "1997eeb4",
   "metadata": {},
   "source": [
    "<img src=https://www.ecopaysen.cl/wp-content/uploads/2019/12/ecopaysen_marca_web.png>"
   ]
  },
  {
   "cell_type": "code",
   "execution_count": 3,
   "id": "fca49a56",
   "metadata": {
    "ExecuteTime": {
     "end_time": "2022-03-28T16:39:00.622679Z",
     "start_time": "2022-03-28T16:38:49.079780Z"
    }
   },
   "outputs": [],
   "source": [
    "Map = geemap.Map(center = [-45, -70], zoom = 4)\n",
    "Map1 = geemap.Map(center = [-45, -70], zoom = 4)\n",
    "Map2 = geemap.Map(center = [-45, -70], zoom = 4)\n",
    "Map3 = geemap.Map(center = [-45, -70], zoom = 4)\n",
    "Map4 = geemap.Map(center = [-45, -70], zoom = 4)\n",
    "Map5 = geemap.Map(center = [-45, -70], zoom = 4)\n",
    "Map6 = geemap.Map(center = [-45, -70], zoom = 4)\n",
    "Map7 = geemap.Map(center = [-45, -70], zoom = 4)\n",
    "Map8 = geemap.Map(center = [-45, -70], zoom = 4)\n",
    "Map9 = geemap.Map(center = [-45, -70], zoom = 4)\n",
    "Map10 = geemap.Map(center = [-45, -70], zoom = 4)\n",
    "Map11 = geemap.Map(center = [-45, -70], zoom = 4)\n",
    "Map12 = geemap.Map(center = [-45, -70], zoom = 4)\n",
    "Map13 = geemap.Map(center = [-45, -70], zoom = 4)\n",
    "Map14 = geemap.Map(center = [-45, -70], zoom = 4)\n",
    "Map15 = geemap.Map(center = [-45, -70], zoom = 4)\n",
    "Map16 = geemap.Map(center = [-45, -70], zoom = 4)"
   ]
  },
  {
   "cell_type": "markdown",
   "id": "f26fe1a2",
   "metadata": {},
   "source": [
    "## Área de Estudio"
   ]
  },
  {
   "cell_type": "code",
   "execution_count": 4,
   "id": "2aae613d",
   "metadata": {
    "ExecuteTime": {
     "end_time": "2022-03-28T16:39:01.666837Z",
     "start_time": "2022-03-28T16:39:00.623623Z"
    }
   },
   "outputs": [],
   "source": [
    "work_dir = os.path.expanduser('../Data/')\n",
    "patagonia = os.path.join(work_dir, 'patagonia_geo.shp')\n",
    "patagonia_grande = geemap.shp_to_ee(patagonia)\n",
    "tierra_fuego =os.path.join(work_dir, 'tierra_fuego.shp')\n",
    "tierra_fuego = geemap.shp_to_ee(tierra_fuego)"
   ]
  },
  {
   "cell_type": "code",
   "execution_count": 5,
   "id": "4dbbceda",
   "metadata": {
    "ExecuteTime": {
     "end_time": "2022-03-28T16:39:01.677296Z",
     "start_time": "2022-03-28T16:39:01.668665Z"
    }
   },
   "outputs": [],
   "source": [
    "geometry_exp = ee.Geometry.Polygon(\n",
    "        [[[-72.56281773604495, -33.81999514196144],\n",
    "          [-72.96381871260745, -35.294382843203024],\n",
    "          [-73.27692906416995, -35.25850698608905],\n",
    "          [-74.15583531416995, -38.13757615203617],\n",
    "          [-73.96357457198245, -38.16349478321529],\n",
    "          [-74.41603250978783, -39.59214901926122],\n",
    "          [-73.71840067385033, -39.70212049569608],\n",
    "          [-74.48057965994737, -41.961233926702086],\n",
    "          [-76.23199334221133, -46.599308425949715],\n",
    "          [-75.71838250236758, -46.6705186900265],\n",
    "          [-76.31583416780423, -48.08335993023956],\n",
    "          [-75.6739504332226, -48.17601084778724],\n",
    "          [-76.1812028986966, -49.3089458997328],\n",
    "          [-75.8516130549466, -49.35190435466257],\n",
    "          [-75.88182545729035, -49.42252520588146],\n",
    "          [-75.62776661939972, -49.4593908439046],\n",
    "          [-75.87838309772656, -50.0286830263256],\n",
    "          [-75.4746355391328, -50.08951678614621],\n",
    "          [-75.54325576346766, -50.23909657453096],\n",
    "          [-75.77780697097086, -50.76007049594944],\n",
    "          [-75.16119930495523, -50.84458853545005],\n",
    "          [-75.38504574050211, -51.344039508567974],\n",
    "          [-75.5541538866841, -51.71140521484993],\n",
    "          [-75.18336531246536, -51.75648162278235],\n",
    "          [-75.47788882049618, -52.3659753295982],\n",
    "          [-74.75894718310815, -52.46884703800526],\n",
    "          [-75.08565455837835, -53.06208069103826],\n",
    "          [-74.55801479059262, -53.126414996444055],\n",
    "          [-74.81690883977036, -53.6371915734125],\n",
    "          [-73.44408000172288, -53.83741753537409],\n",
    "          [-73.50862467945726, -53.95798563315933],\n",
    "          [-73.45231974781663, -53.967680681913386],\n",
    "          [-73.53197062672288, -54.11766576333605],\n",
    "          [-73.77219189508037, -54.57485104154676],\n",
    "          [-72.34049166499341, -54.77775087176573],\n",
    "          [-72.47759402717024, -55.03231503944354],\n",
    "          [-71.05285526571967, -55.24340674895388],\n",
    "          [-71.08306766806342, -55.29113504937561],\n",
    "          [-69.81960741798575, -55.47109132991434],\n",
    "          [-69.85119311134513, -55.51932330880519],\n",
    "          [-69.68227831642325, -55.544194128455445],\n",
    "          [-69.79214159767325, -55.75341614311607],\n",
    "          [-66.85410518726452, -56.21137383375629],\n",
    "          [-66.30968752348785, -55.25322454720416],\n",
    "          [-65.44176760161285, -55.378260612328376],\n",
    "          [-65.29222191220039, -55.084940556988364],\n",
    "          [-63.8145607793879, -55.29503930747886],\n",
    "          [-63.4410256231379, -54.559610949790994],\n",
    "          [-66.01731956845039, -54.18844646199444],\n",
    "          [-65.92942894345039, -53.97576673331468],\n",
    "          [-67.35765159970039, -53.77173637481835],\n",
    "          [-66.83490788218774, -52.56216102836118],\n",
    "          [-68.29059635875024, -52.351280557744616],\n",
    "          [-67.13664467133525, -49.5665018755825],\n",
    "          [-65.6891959408665, -49.77447361491692],\n",
    "          [-64.6040407061826, -46.886773053508534],\n",
    "          [-66.07346209290135, -46.670468623465915],\n",
    "          [-65.60651222417681, -45.29237148760689],\n",
    "          [-64.13159767339556, -45.51413819831776],\n",
    "          [-63.11762183127383, -42.44210625114028],\n",
    "          [-61.64820044455508, -42.65254570178212],\n",
    "          [-60.691700635610566, -39.58656313087865],\n",
    "          [-60.612049756704316, -39.597145764356114],\n",
    "          [-60.214053037778356, -38.26345264755797],\n",
    "          [-62.338430585556544, -37.86345563921212],\n",
    "          [-62.431814374619044, -38.13616213643378],\n",
    "          [-63.880475463562526, -37.8656239671591],\n",
    "          [-63.965619506531276, -38.12752037872568],\n",
    "          [-65.43863114657343, -37.86678770192114],\n",
    "          [-65.52652177157343, -38.12867996539086],\n",
    "          [-66.31753739657343, -37.98811028708228],\n",
    "          [-65.98609312949165, -36.82548737245019],\n",
    "          [-68.06866521074468, -36.43149799324939],\n",
    "          [-68.16204899980718, -36.70723234878123],\n",
    "          [-69.00250310136968, -36.55294237984414],\n",
    "          [-68.66838285254276, -35.38834808765389],\n",
    "          [-70.73190167990279, -35.008946233837705],\n",
    "          [-70.82528546896529, -35.29190694633577],\n",
    "          [-71.68771222677779, -35.11685679848462],\n",
    "          [-71.37460187521529, -33.95679291780399],\n",
    "          [-72.53365949240279, -33.733238932504804]]])"
   ]
  },
  {
   "cell_type": "markdown",
   "id": "fa8e2fea",
   "metadata": {},
   "source": [
    "## Colors Bars"
   ]
  },
  {
   "cell_type": "code",
   "execution_count": 6,
   "id": "1efebd11",
   "metadata": {
    "ExecuteTime": {
     "end_time": "2022-03-28T16:39:02.709348Z",
     "start_time": "2022-03-28T16:39:01.678371Z"
    }
   },
   "outputs": [],
   "source": [
    "import geemap.colormaps as cm"
   ]
  },
  {
   "cell_type": "code",
   "execution_count": 7,
   "id": "d159d70f",
   "metadata": {
    "ExecuteTime": {
     "end_time": "2022-03-28T16:39:02.712153Z",
     "start_time": "2022-03-28T16:39:02.710510Z"
    }
   },
   "outputs": [],
   "source": [
    "# cm.palettes.terrain"
   ]
  },
  {
   "cell_type": "code",
   "execution_count": 8,
   "id": "fe999a91",
   "metadata": {
    "ExecuteTime": {
     "end_time": "2022-03-28T16:39:02.718637Z",
     "start_time": "2022-03-28T16:39:02.713256Z"
    }
   },
   "outputs": [],
   "source": [
    "color_ndvi = cm.palettes.ndvi"
   ]
  },
  {
   "cell_type": "code",
   "execution_count": 9,
   "id": "05fb282a",
   "metadata": {
    "ExecuteTime": {
     "end_time": "2022-03-28T16:39:02.721767Z",
     "start_time": "2022-03-28T16:39:02.719959Z"
    }
   },
   "outputs": [],
   "source": [
    "color_ndwi = cm.palettes.ndwi"
   ]
  },
  {
   "cell_type": "code",
   "execution_count": 10,
   "id": "68161910",
   "metadata": {
    "ExecuteTime": {
     "end_time": "2022-03-28T16:39:02.724578Z",
     "start_time": "2022-03-28T16:39:02.723034Z"
    }
   },
   "outputs": [],
   "source": [
    "color_terrain = cm.palettes.terrain"
   ]
  },
  {
   "cell_type": "code",
   "execution_count": 11,
   "id": "8e99245f",
   "metadata": {
    "ExecuteTime": {
     "end_time": "2022-03-28T16:39:02.727938Z",
     "start_time": "2022-03-28T16:39:02.726315Z"
    }
   },
   "outputs": [],
   "source": [
    "color_glaciar = cm.palettes.PuBuGn_r"
   ]
  },
  {
   "cell_type": "code",
   "execution_count": 12,
   "id": "92b8cf41",
   "metadata": {
    "ExecuteTime": {
     "end_time": "2022-03-28T16:39:02.730582Z",
     "start_time": "2022-03-28T16:39:02.728954Z"
    }
   },
   "outputs": [],
   "source": [
    "color_nubes = cm.palettes.inferno"
   ]
  },
  {
   "cell_type": "code",
   "execution_count": 13,
   "id": "39930741",
   "metadata": {
    "ExecuteTime": {
     "end_time": "2022-03-28T16:39:02.733310Z",
     "start_time": "2022-03-28T16:39:02.731812Z"
    }
   },
   "outputs": [],
   "source": [
    "# cm.list_colormaps()"
   ]
  },
  {
   "cell_type": "code",
   "execution_count": 14,
   "id": "d6233e9b",
   "metadata": {
    "ExecuteTime": {
     "end_time": "2022-03-28T16:39:02.736185Z",
     "start_time": "2022-03-28T16:39:02.734525Z"
    }
   },
   "outputs": [],
   "source": [
    "color_rainbow = cm.palettes.summer_r"
   ]
  },
  {
   "cell_type": "markdown",
   "id": "11666045",
   "metadata": {},
   "source": [
    "## Funciones"
   ]
  },
  {
   "cell_type": "code",
   "execution_count": 15,
   "id": "166db170",
   "metadata": {
    "ExecuteTime": {
     "end_time": "2022-03-28T16:39:02.739620Z",
     "start_time": "2022-03-28T16:39:02.737400Z"
    }
   },
   "outputs": [],
   "source": [
    "def add_ee_layer(self, ee_image_object, vis_params, name):\n",
    "  map_id_dict = ee.Image(ee_image_object).getMapId(vis_params)\n",
    "  folium.raster_layers.TileLayer(\n",
    "      tiles=map_id_dict['tile_fetcher'].url_format,\n",
    "      attr='Map Data &copy; <a href=\"https://earthengine.google.com/\">Google Earth Engine</a>',\n",
    "      name=name,\n",
    "      overlay=True,\n",
    "      control=True\n",
    "  ).add_to(self)\n",
    "\n",
    "folium.Map.add_ee_layer = add_ee_layer"
   ]
  },
  {
   "cell_type": "code",
   "execution_count": 16,
   "id": "b9e1cdaf",
   "metadata": {
    "ExecuteTime": {
     "end_time": "2022-03-28T16:39:02.742684Z",
     "start_time": "2022-03-28T16:39:02.740845Z"
    }
   },
   "outputs": [],
   "source": [
    "def addNDVI(image): \n",
    "    ndvi = image.normalizedDifference(['B5', 'B4']).rename('NDVI')\n",
    "    return image.addBands(ndvi)"
   ]
  },
  {
   "cell_type": "code",
   "execution_count": 17,
   "id": "4c83d08e",
   "metadata": {
    "ExecuteTime": {
     "end_time": "2022-03-28T16:39:02.745509Z",
     "start_time": "2022-03-28T16:39:02.743745Z"
    }
   },
   "outputs": [],
   "source": [
    "def addNDVI2(image): \n",
    "    ndvi = image.normalizedDifference(['B5', 'B4']).rename('NDVI2')\n",
    "    return image.addBands(ndvi)"
   ]
  },
  {
   "cell_type": "code",
   "execution_count": 18,
   "id": "ad105a37",
   "metadata": {
    "ExecuteTime": {
     "end_time": "2022-03-28T16:39:02.748341Z",
     "start_time": "2022-03-28T16:39:02.746628Z"
    }
   },
   "outputs": [],
   "source": [
    "def addNDWI(image):\n",
    "    ndwi = image.normalizedDifference(['B3','B5']).rename('NDWI')\n",
    "    return image.addBands(ndwi)"
   ]
  },
  {
   "cell_type": "code",
   "execution_count": 19,
   "id": "afd5a921",
   "metadata": {
    "ExecuteTime": {
     "end_time": "2022-03-28T16:39:02.751268Z",
     "start_time": "2022-03-28T16:39:02.749554Z"
    }
   },
   "outputs": [],
   "source": [
    "def addNDGI(image):\n",
    "    ndgi = image.normalizedDifference(['B3','B4']).rename('NDGI')\n",
    "    return image.addBands(ndgi)"
   ]
  },
  {
   "cell_type": "code",
   "execution_count": 20,
   "id": "786770f8",
   "metadata": {
    "ExecuteTime": {
     "end_time": "2022-03-28T16:39:02.754313Z",
     "start_time": "2022-03-28T16:39:02.752388Z"
    }
   },
   "outputs": [],
   "source": [
    "def addSAVI(image):\n",
    "    savi = image.expression(\n",
    "        '((b5 - b4)/(b5 + b4 + 0.5))*1.5', {\n",
    "            'b4':image.select('B4'),\n",
    "            'b5':image.select('B5')\n",
    "        }) \n",
    "    savi= savi.rename('SAVI')\n",
    "    return image.addBands(savi)"
   ]
  },
  {
   "cell_type": "code",
   "execution_count": 21,
   "id": "410de657",
   "metadata": {
    "ExecuteTime": {
     "end_time": "2022-03-28T16:39:02.757319Z",
     "start_time": "2022-03-28T16:39:02.755558Z"
    }
   },
   "outputs": [],
   "source": [
    "def addNDBI(image):\n",
    "    ndbi = image.normalizedDifference(['B6','B5']).rename('NDBI')\n",
    "    return image.addBands(ndbi)"
   ]
  },
  {
   "cell_type": "code",
   "execution_count": 22,
   "id": "cffb72aa",
   "metadata": {
    "ExecuteTime": {
     "end_time": "2022-03-28T16:39:02.760293Z",
     "start_time": "2022-03-28T16:39:02.758449Z"
    }
   },
   "outputs": [],
   "source": [
    "def addNDSI(image):\n",
    "    ndsi = image.normalizedDifference(['B3','B6']).rename('NDSI')\n",
    "    return image.addBands(ndsi)"
   ]
  },
  {
   "cell_type": "code",
   "execution_count": 23,
   "id": "c054d0bf",
   "metadata": {
    "ExecuteTime": {
     "end_time": "2022-03-28T16:39:02.763578Z",
     "start_time": "2022-03-28T16:39:02.761405Z"
    }
   },
   "outputs": [],
   "source": [
    "def addEVI(image):\n",
    "    evi = image.expression(\n",
    "        '2.5*((b5 - b4)/(b5 + 6*b4 - 7.5*b2 + 1))', {\n",
    "            'b2':image.select('B2'),\n",
    "            'b4':image.select('B4'),\n",
    "            'b5':image.select('B5')\n",
    "        }) \n",
    "    evi = evi.rename('EVI')\n",
    "    return image.addBands(evi)"
   ]
  },
  {
   "cell_type": "code",
   "execution_count": 24,
   "id": "5c8b8b2f",
   "metadata": {
    "ExecuteTime": {
     "end_time": "2022-03-28T16:39:02.766800Z",
     "start_time": "2022-03-28T16:39:02.764851Z"
    }
   },
   "outputs": [],
   "source": [
    "def addDate(image):\n",
    "    img_date = ee.Date(image.date())\n",
    "    img_date = ee.Number.parse(img_date.format('YYYYMM'))\n",
    "    return image.addBands(ee.Image(img_date).rename('date').toInt())"
   ]
  },
  {
   "cell_type": "code",
   "execution_count": 25,
   "id": "04720d6b",
   "metadata": {
    "ExecuteTime": {
     "end_time": "2022-03-28T16:39:02.769875Z",
     "start_time": "2022-03-28T16:39:02.768013Z"
    }
   },
   "outputs": [],
   "source": [
    "def Cloud40(image):\n",
    "    scored = ee.Algorithms.Landsat.simpleCloudScore(image)\n",
    "    return image.updateMask(scored.select(['cloud']).lt(40)) "
   ]
  },
  {
   "cell_type": "code",
   "execution_count": 26,
   "id": "3115c210",
   "metadata": {
    "ExecuteTime": {
     "end_time": "2022-03-28T16:39:02.772876Z",
     "start_time": "2022-03-28T16:39:02.771188Z"
    }
   },
   "outputs": [],
   "source": [
    "def Cloud30(image):\n",
    "    scored = ee.Algorithms.Landsat.simpleCloudScore(image)\n",
    "    return image.updateMask(scored.select(['cloud']).lt(30)) "
   ]
  },
  {
   "cell_type": "code",
   "execution_count": 27,
   "id": "f86cf507",
   "metadata": {
    "ExecuteTime": {
     "end_time": "2022-03-28T16:39:02.775996Z",
     "start_time": "2022-03-28T16:39:02.774115Z"
    }
   },
   "outputs": [],
   "source": [
    "def Cloud20(image):\n",
    "    scored = ee.Algorithms.Landsat.simpleCloudScore(image)\n",
    "    return image.updateMask(scored.select(['cloud']).lt(20)) "
   ]
  },
  {
   "cell_type": "code",
   "execution_count": 28,
   "id": "9d288b40",
   "metadata": {
    "ExecuteTime": {
     "end_time": "2022-03-28T16:39:02.779004Z",
     "start_time": "2022-03-28T16:39:02.777199Z"
    }
   },
   "outputs": [],
   "source": [
    "def Cloud10(image):\n",
    "    scored = ee.Algorithms.Landsat.simpleCloudScore(image)\n",
    "    return image.updateMask(scored.select(['cloud']).lt(10))"
   ]
  },
  {
   "cell_type": "code",
   "execution_count": 29,
   "id": "92d6ba1b",
   "metadata": {
    "ExecuteTime": {
     "end_time": "2022-03-28T16:39:02.784278Z",
     "start_time": "2022-03-28T16:39:02.782323Z"
    }
   },
   "outputs": [],
   "source": [
    "def addCloud(image):\n",
    "    nube = ee.Algorithms.Landsat.simpleCloudScore(image)\n",
    "    return image.addBands(ee.Image(nube.select(['cloud'])).rename('nube'))"
   ]
  },
  {
   "cell_type": "code",
   "execution_count": 30,
   "id": "4eb69ead",
   "metadata": {
    "ExecuteTime": {
     "end_time": "2022-03-28T16:39:02.789292Z",
     "start_time": "2022-03-28T16:39:02.785332Z"
    }
   },
   "outputs": [],
   "source": [
    "def find_closest(target_image, image_col, days):\n",
    "    \"\"\"Filter images in a collection by date proximity and spatial intersection to a target image.\n",
    "\n",
    "    Args:\n",
    "        target_image: An ee.Image whose observation date is used to find near-date images in\n",
    "          the provided image_col image collection. It must have a 'system:time_start' property.\n",
    "        image_col: An ee.ImageCollection to filter by date proximity and spatial intersection\n",
    "          to the target_image. Each image in the collection must have a 'system:time_start'\n",
    "          property.\n",
    "        days: A number that defines the maximum number of days difference allowed between\n",
    "          the target_image and images in the image_col.\n",
    "\n",
    "    Returns:\n",
    "        An ee.ImageCollection that has been filtered to include those images that are within the\n",
    "          given date proximity to target_image and intersect it spatially.\n",
    "    \"\"\"\n",
    "\n",
    "    # Compute the timespan for N days (in milliseconds).\n",
    "    range = ee.Number(days).multiply(1000 * 60 * 60 * 24)\n",
    "\n",
    "    filter = ee.Filter.And(\n",
    "        ee.Filter.maxDifference(range, 'system:time_start', None, 'system:time_start'),\n",
    "        ee.Filter.intersects('.geo', None, '.geo'))\n",
    "\n",
    "    closest = (ee.Join.saveAll('matches', 'measure')\n",
    "        .apply(ee.ImageCollection([target_image]), image_col, filter))\n",
    "\n",
    "    return ee.ImageCollection(ee.List(closest.first().get('matches')))"
   ]
  },
  {
   "cell_type": "code",
   "execution_count": 31,
   "id": "b54bde64",
   "metadata": {
    "ExecuteTime": {
     "end_time": "2022-03-28T16:39:02.792079Z",
     "start_time": "2022-03-28T16:39:02.790248Z"
    }
   },
   "outputs": [],
   "source": [
    "vizParams = {\n",
    "  'bands': ['B5', 'B4', 'B3'],\n",
    "  'min': 0,\n",
    "  'max': 0.5,\n",
    "  'gamma': [0.95, 1.1, 1]\n",
    "}"
   ]
  },
  {
   "cell_type": "code",
   "execution_count": 32,
   "id": "71bcb153",
   "metadata": {
    "ExecuteTime": {
     "end_time": "2022-03-28T16:39:02.794903Z",
     "start_time": "2022-03-28T16:39:02.793205Z"
    }
   },
   "outputs": [],
   "source": [
    "vizParams_m = {\n",
    "  'bands': ['B5', 'B4', 'B3'],\n",
    "  'min': 0,\n",
    "  'max': 0.6,\n",
    "  'gamma': [1, 1, 1]\n",
    "}"
   ]
  },
  {
   "cell_type": "code",
   "execution_count": 33,
   "id": "aa02e8e2",
   "metadata": {
    "ExecuteTime": {
     "end_time": "2022-03-28T16:39:02.797739Z",
     "start_time": "2022-03-28T16:39:02.795972Z"
    }
   },
   "outputs": [],
   "source": [
    "vis_nieve = {\n",
    "  'bands': ['B6', 'B4', 'B3'],\n",
    "  'min': 0,\n",
    "  'max': 0.5,\n",
    "  'gamma': [0.95, 1.1, 1]\n",
    "}"
   ]
  },
  {
   "cell_type": "markdown",
   "id": "d9a442fb",
   "metadata": {},
   "source": [
    "## Colecciones"
   ]
  },
  {
   "cell_type": "markdown",
   "id": "f8131eb7",
   "metadata": {},
   "source": [
    "### 2022 Verano"
   ]
  },
  {
   "cell_type": "code",
   "execution_count": 34,
   "id": "3a413b3f",
   "metadata": {
    "ExecuteTime": {
     "end_time": "2022-03-28T16:39:02.800736Z",
     "start_time": "2022-03-28T16:39:02.798756Z"
    }
   },
   "outputs": [],
   "source": [
    "start_date = '2021-11-01'\n",
    "end_date = '2022-03-31'\n",
    "\n",
    "l8_2022 = ee.ImageCollection('LANDSAT/LC08/C01/T1_TOA') \\\n",
    "    .filterBounds(patagonia_grande) \\\n",
    "    .filterDate(start_date, end_date)  "
   ]
  },
  {
   "cell_type": "code",
   "execution_count": 35,
   "id": "e95247d7",
   "metadata": {
    "ExecuteTime": {
     "end_time": "2022-03-28T16:39:02.807096Z",
     "start_time": "2022-03-28T16:39:02.801938Z"
    }
   },
   "outputs": [],
   "source": [
    "coleccion2022 = l8_2022.map(addNDVI).map(addNDWI).map(addNDGI).map(addSAVI).map(addNDSI).map(addNDBI).map(addEVI).map(addDate).map(addCloud)"
   ]
  },
  {
   "cell_type": "code",
   "execution_count": 36,
   "id": "8dbb0d32",
   "metadata": {
    "ExecuteTime": {
     "end_time": "2022-03-28T16:39:02.810934Z",
     "start_time": "2022-03-28T16:39:02.808472Z"
    }
   },
   "outputs": [],
   "source": [
    "c2022_sn = coleccion2022.map(Cloud10)\n",
    "QM_NDVI_2022_sn = c2022_sn.qualityMosaic('NDVI')\n",
    "Med_NDVI_2022_sn = (c2022_sn.median()).select('NDVI')\n",
    "QM_EVI_2022_sn = c2022_sn.qualityMosaic('EVI')\n",
    "Med_EVI_2022_sn = (c2022_sn.median()).select('EVI')"
   ]
  },
  {
   "cell_type": "markdown",
   "id": "5d07b81d",
   "metadata": {},
   "source": [
    "### 2021 Verano"
   ]
  },
  {
   "cell_type": "code",
   "execution_count": 37,
   "id": "0e0c1dfc",
   "metadata": {
    "ExecuteTime": {
     "end_time": "2022-03-28T16:39:02.813917Z",
     "start_time": "2022-03-28T16:39:02.811978Z"
    }
   },
   "outputs": [],
   "source": [
    "start_date = '2020-11-01'\n",
    "end_date = '2021-03-31'\n",
    "\n",
    "l8_2021 = ee.ImageCollection('LANDSAT/LC08/C01/T1_TOA') \\\n",
    "    .filterBounds(patagonia_grande) \\\n",
    "    .filterDate(start_date, end_date)  "
   ]
  },
  {
   "cell_type": "code",
   "execution_count": 38,
   "id": "74d427f9",
   "metadata": {
    "ExecuteTime": {
     "end_time": "2022-03-28T16:39:02.820435Z",
     "start_time": "2022-03-28T16:39:02.815147Z"
    }
   },
   "outputs": [],
   "source": [
    "coleccion2021 = l8_2021.map(addNDVI).map(addNDWI).map(addNDGI).map(addSAVI).map(addNDSI).map(addNDBI).map(addEVI).map(addDate).map(addCloud)"
   ]
  },
  {
   "cell_type": "code",
   "execution_count": 39,
   "id": "e660d316",
   "metadata": {
    "ExecuteTime": {
     "end_time": "2022-03-28T16:39:02.823942Z",
     "start_time": "2022-03-28T16:39:02.821476Z"
    }
   },
   "outputs": [],
   "source": [
    "QM_NDVI_2021 = coleccion2021.qualityMosaic('NDVI')\n",
    "QM_NDWI_2021 = coleccion2021.qualityMosaic('NDWI')\n",
    "QM_SAVI_2021 = coleccion2021.qualityMosaic('SAVI')\n",
    "QM_NDGI_2021 = coleccion2021.qualityMosaic('NDGI')\n",
    "QM_NDSI_2021 = coleccion2021.qualityMosaic('NDSI')"
   ]
  },
  {
   "cell_type": "code",
   "execution_count": 40,
   "id": "2b71385b",
   "metadata": {
    "ExecuteTime": {
     "end_time": "2022-03-28T16:39:02.827986Z",
     "start_time": "2022-03-28T16:39:02.824837Z"
    }
   },
   "outputs": [],
   "source": [
    "c2021_sn = coleccion2021.map(Cloud10)\n",
    "QM_NDVI_2021_sn = c2021_sn.qualityMosaic('NDVI')\n",
    "QM_NDWI_2021_sn = c2021_sn.qualityMosaic('NDWI')\n",
    "QM_SAVI_2021_sn = c2021_sn.qualityMosaic('SAVI')\n",
    "QM_NDGI_2021_sn = c2021_sn.qualityMosaic('NDGI')\n",
    "QM_NDSI_2021_sn = c2021_sn.qualityMosaic('NDSI')\n",
    "Med_NDVI_2021_sn = (c2021_sn.median()).select('NDVI')\n",
    "Med_EVI_2021_sn = (c2021_sn.median()).select('EVI')"
   ]
  },
  {
   "cell_type": "code",
   "execution_count": 41,
   "id": "e2ee17c2",
   "metadata": {
    "ExecuteTime": {
     "end_time": "2022-03-28T16:39:10.640001Z",
     "start_time": "2022-03-28T16:39:02.829225Z"
    }
   },
   "outputs": [
    {
     "data": {
      "application/vnd.jupyter.widget-view+json": {
       "model_id": "0ba7a9418b5a4606b397b04eecde7c62",
       "version_major": 2,
       "version_minor": 0
      },
      "text/plain": [
       "Map(center=[-45, -70], controls=(WidgetControl(options=['position', 'transparent_bg'], widget=HBox(children=(T…"
      ]
     },
     "metadata": {},
     "output_type": "display_data"
    }
   ],
   "source": [
    "Map.addLayer(QM_NDVI_2021_sn, vizParams, 'QMsn de NDVI 2021')\n",
    "Map.addLayer(QM_NDVI_2021, vizParams, 'QM de NDVI 2021')\n",
    "Map.addLayer(QM_NDWI_2021_sn, vizParams, 'QMsn de NDWI 2021')\n",
    "Map.addLayer(QM_SAVI_2021_sn, vizParams, 'QMsn de SAVI 2021')\n",
    "Map.addLayer(QM_NDGI_2021_sn, vis_nieve, 'QMsn de NDGI 2021')\n",
    "Map.addLayer(QM_NDSI_2021_sn, vis_nieve, 'QMsn de NDSI 2021')\n",
    "Map"
   ]
  },
  {
   "cell_type": "code",
   "execution_count": 42,
   "id": "1994dbdf",
   "metadata": {
    "ExecuteTime": {
     "end_time": "2022-03-28T16:39:10.643008Z",
     "start_time": "2022-03-28T16:39:10.641065Z"
    }
   },
   "outputs": [],
   "source": [
    "NDVI_2021_l8 = QM_NDVI_2021.set('SENSOR_ID', 'OLI_TIRS')"
   ]
  },
  {
   "cell_type": "code",
   "execution_count": 43,
   "id": "60a91aeb",
   "metadata": {
    "ExecuteTime": {
     "end_time": "2022-03-28T16:39:10.646002Z",
     "start_time": "2022-03-28T16:39:10.643989Z"
    }
   },
   "outputs": [],
   "source": [
    "cloud_2021_l8 = ee.Algorithms.Landsat.simpleCloudScore(NDVI_2021_l8)\n",
    "cloud_2021_l8 = cloud_2021_l8.select('cloud')"
   ]
  },
  {
   "cell_type": "code",
   "execution_count": 44,
   "id": "27740f8b",
   "metadata": {
    "ExecuteTime": {
     "end_time": "2022-03-28T16:39:10.648864Z",
     "start_time": "2022-03-28T16:39:10.647224Z"
    }
   },
   "outputs": [],
   "source": [
    "palette_nubes = ['#1a9850', '#66bd63', '#a6d96a', '#d9ef8b', '#fee08b', '#fdae61', '#f46d43', '#d73027']"
   ]
  },
  {
   "cell_type": "code",
   "execution_count": 45,
   "id": "613ea840",
   "metadata": {
    "ExecuteTime": {
     "end_time": "2022-03-28T16:39:10.652002Z",
     "start_time": "2022-03-28T16:39:10.650148Z"
    }
   },
   "outputs": [],
   "source": [
    "resultados= [cloud_2021_l8, QM_NDVI_2021]\n",
    "vis_params2=  [\n",
    "    {'palette':palette_nubes}, \n",
    "    vizParams]\n",
    "labels = [\n",
    "    'Nubes 2021',\n",
    "    'QM NDVI 2021']"
   ]
  },
  {
   "cell_type": "code",
   "execution_count": 46,
   "id": "cb0d5f26",
   "metadata": {
    "ExecuteTime": {
     "end_time": "2022-03-28T16:39:10.654783Z",
     "start_time": "2022-03-28T16:39:10.653267Z"
    }
   },
   "outputs": [],
   "source": [
    "# geemap.linked_maps(rows=1, cols=2, height=\"400px\", center=[-45, -75], zoom=4, \n",
    "#                    ee_objects=resultados, vis_params=vis_params2, labels=labels, label_position=\"topright\")"
   ]
  },
  {
   "cell_type": "markdown",
   "id": "b8617200",
   "metadata": {},
   "source": [
    "### 2020 Verano"
   ]
  },
  {
   "cell_type": "code",
   "execution_count": 47,
   "id": "0401d370",
   "metadata": {
    "ExecuteTime": {
     "end_time": "2022-03-28T16:39:10.658177Z",
     "start_time": "2022-03-28T16:39:10.656106Z"
    }
   },
   "outputs": [],
   "source": [
    "start_date = '2019-11-01'\n",
    "end_date = '2020-03-31'\n",
    "\n",
    "l8_2020 = ee.ImageCollection('LANDSAT/LC08/C01/T1_TOA') \\\n",
    "    .filterBounds(patagonia_grande) \\\n",
    "    .filterDate(start_date, end_date)"
   ]
  },
  {
   "cell_type": "markdown",
   "id": "811a0128",
   "metadata": {},
   "source": [
    "### 2019 Verano"
   ]
  },
  {
   "cell_type": "code",
   "execution_count": 48,
   "id": "d756b623",
   "metadata": {
    "ExecuteTime": {
     "end_time": "2022-03-28T16:39:10.661410Z",
     "start_time": "2022-03-28T16:39:10.659594Z"
    }
   },
   "outputs": [],
   "source": [
    "start_date = '2018-11-01'\n",
    "end_date = '2019-03-31'\n",
    "\n",
    "l8_2019 = ee.ImageCollection('LANDSAT/LC08/C01/T1_TOA') \\\n",
    "    .filterBounds(patagonia_grande) \\\n",
    "    .filterDate(start_date, end_date)"
   ]
  },
  {
   "cell_type": "markdown",
   "id": "158f0bb1",
   "metadata": {},
   "source": [
    "### 2018 Verano"
   ]
  },
  {
   "cell_type": "code",
   "execution_count": 49,
   "id": "2c2ce2a2",
   "metadata": {
    "ExecuteTime": {
     "end_time": "2022-03-28T16:39:10.664590Z",
     "start_time": "2022-03-28T16:39:10.662712Z"
    }
   },
   "outputs": [],
   "source": [
    "start_date = '2017-11-01'\n",
    "end_date = '2018-03-31'\n",
    "\n",
    "l8_2018 = ee.ImageCollection('LANDSAT/LC08/C01/T1_TOA') \\\n",
    "    .filterBounds(patagonia_grande) \\\n",
    "    .filterDate(start_date, end_date)"
   ]
  },
  {
   "cell_type": "markdown",
   "id": "ad28b803",
   "metadata": {},
   "source": [
    "### 2017 Verano"
   ]
  },
  {
   "cell_type": "code",
   "execution_count": 50,
   "id": "1917c893",
   "metadata": {
    "ExecuteTime": {
     "end_time": "2022-03-28T16:39:10.667542Z",
     "start_time": "2022-03-28T16:39:10.665784Z"
    }
   },
   "outputs": [],
   "source": [
    "start_date = '2016-11-01'\n",
    "end_date = '2017-03-31'\n",
    "\n",
    "l8_2017 = ee.ImageCollection('LANDSAT/LC08/C01/T1_TOA') \\\n",
    "    .filterBounds(patagonia_grande) \\\n",
    "    .filterDate(start_date, end_date)"
   ]
  },
  {
   "cell_type": "markdown",
   "id": "d0a1318e",
   "metadata": {},
   "source": [
    "### 2022-2017 Colección "
   ]
  },
  {
   "cell_type": "code",
   "execution_count": 51,
   "id": "73e05438",
   "metadata": {
    "ExecuteTime": {
     "end_time": "2022-03-28T16:39:10.670895Z",
     "start_time": "2022-03-28T16:39:10.668803Z"
    }
   },
   "outputs": [],
   "source": [
    "filtersummer = ee.Filter.Or(\n",
    "    ee.Filter.date('2021-11-01','2022-02-01'),\n",
    "    ee.Filter.date('2020-11-01','2021-03-31'),\n",
    "    ee.Filter.date('2019-11-01','2020-03-31'),\n",
    "    ee.Filter.date('2018-11-01','2019-03-31'),\n",
    "    ee.Filter.date('2017-11-01','2018-03-31')\n",
    ")"
   ]
  },
  {
   "cell_type": "code",
   "execution_count": 52,
   "id": "e3459c31",
   "metadata": {
    "ExecuteTime": {
     "end_time": "2022-03-28T16:39:10.674166Z",
     "start_time": "2022-03-28T16:39:10.672264Z"
    }
   },
   "outputs": [],
   "source": [
    "coleccion2022_2017 = ee.ImageCollection('LANDSAT/LC08/C01/T1_TOA') \\\n",
    "    .filterDate('2017-11-01', '2021-03-31') \\\n",
    "    .filter(filtersummer) \\\n",
    "    .filterBounds(patagonia_grande)"
   ]
  },
  {
   "cell_type": "code",
   "execution_count": 53,
   "id": "b84c22d9",
   "metadata": {
    "ExecuteTime": {
     "end_time": "2022-03-28T16:39:10.680423Z",
     "start_time": "2022-03-28T16:39:10.675463Z"
    }
   },
   "outputs": [],
   "source": [
    "l8_summer= coleccion2022_2017.map(addNDVI).map(addNDWI).map(addNDGI).map(addSAVI).map(addNDSI).map(addNDBI).map(addEVI).map(addDate).map(addCloud)"
   ]
  },
  {
   "cell_type": "code",
   "execution_count": 54,
   "id": "63f1960c",
   "metadata": {
    "ExecuteTime": {
     "end_time": "2022-03-28T16:39:10.683185Z",
     "start_time": "2022-03-28T16:39:10.681565Z"
    }
   },
   "outputs": [],
   "source": [
    "cloudest = l8_summer.qualityMosaic('nube')"
   ]
  },
  {
   "cell_type": "code",
   "execution_count": 55,
   "id": "cbb613f8",
   "metadata": {
    "ExecuteTime": {
     "end_time": "2022-03-28T16:39:13.213813Z",
     "start_time": "2022-03-28T16:39:10.684246Z"
    },
    "scrolled": false
   },
   "outputs": [
    {
     "data": {
      "application/vnd.jupyter.widget-view+json": {
       "model_id": "4ccd1498ede0482c9759e34f25d195aa",
       "version_major": 2,
       "version_minor": 0
      },
      "text/plain": [
       "Map(center=[-45, -70], controls=(WidgetControl(options=['position', 'transparent_bg'], widget=HBox(children=(T…"
      ]
     },
     "metadata": {},
     "output_type": "display_data"
    }
   ],
   "source": [
    "Map2.addLayer(cloudest, vizParams, 'máximo de nubes')\n",
    "Map2.addLayer(l8_summer.median(), vizParams, 'median')\n",
    "Map2 "
   ]
  },
  {
   "cell_type": "markdown",
   "id": "12cf11b9",
   "metadata": {},
   "source": [
    "### Tier 1\n"
   ]
  },
  {
   "cell_type": "code",
   "execution_count": 56,
   "id": "65f6e56e",
   "metadata": {
    "ExecuteTime": {
     "end_time": "2022-03-28T16:39:13.217288Z",
     "start_time": "2022-03-28T16:39:13.214856Z"
    }
   },
   "outputs": [],
   "source": [
    "Tier1_sn = l8_summer.map(Cloud10)"
   ]
  },
  {
   "cell_type": "code",
   "execution_count": 57,
   "id": "61a35ad7",
   "metadata": {
    "ExecuteTime": {
     "end_time": "2022-03-28T16:39:13.221294Z",
     "start_time": "2022-03-28T16:39:13.218151Z"
    }
   },
   "outputs": [],
   "source": [
    "QM_NDVI_T1 = Tier1_sn.qualityMosaic('NDVI')# Normalized difference vegetation Index\n",
    "QM_NDWI_T1 = Tier1_sn.qualityMosaic('NDWI') # Normalize difference water index\n",
    "QM_SAVI_T1 = Tier1_sn.qualityMosaic('SAVI') # Soil Adjusted Vegetation Index \n",
    "QM_NDGI_T1 = Tier1_sn.qualityMosaic('NDGI') # Normalized difference glacier index\n",
    "QM_NDSI_T1 = Tier1_sn.qualityMosaic('NDSI') # Normalized difference snow index"
   ]
  },
  {
   "cell_type": "code",
   "execution_count": 58,
   "id": "416683d4",
   "metadata": {
    "ExecuteTime": {
     "end_time": "2022-03-28T16:39:20.909195Z",
     "start_time": "2022-03-28T16:39:13.222393Z"
    }
   },
   "outputs": [
    {
     "data": {
      "application/vnd.jupyter.widget-view+json": {
       "model_id": "4ccd1498ede0482c9759e34f25d195aa",
       "version_major": 2,
       "version_minor": 0
      },
      "text/plain": [
       "Map(center=[-45, -70], controls=(WidgetControl(options=['position', 'transparent_bg'], widget=HBox(children=(T…"
      ]
     },
     "metadata": {},
     "output_type": "display_data"
    }
   ],
   "source": [
    "Map2.addLayer(QM_NDVI_T1, vizParams, 'QM de NDVI T1')\n",
    "Map2.addLayer(QM_NDWI_T1, vizParams, 'QM de NDWI T1')\n",
    "Map2.addLayer(QM_SAVI_T1, vizParams, 'QM de SAVI T1')\n",
    "Map2.addLayer(QM_NDGI_T1, vis_nieve, 'QM de NDGI T1')\n",
    "Map2.addLayer(QM_NDSI_T1, vizParams, 'QM de NDSI T1')\n",
    "\n",
    "Map2.addLayer(Tier1_sn.median(), vizParams, 'mediana de T1')\n",
    "Map2 "
   ]
  },
  {
   "cell_type": "markdown",
   "id": "5f58151c",
   "metadata": {},
   "source": [
    "### Tier 2"
   ]
  },
  {
   "cell_type": "code",
   "execution_count": 59,
   "id": "3f1efa8c",
   "metadata": {
    "ExecuteTime": {
     "end_time": "2022-03-28T16:39:20.912418Z",
     "start_time": "2022-03-28T16:39:20.910293Z"
    }
   },
   "outputs": [],
   "source": [
    "Tier2_sn = l8_summer.map(Cloud20)"
   ]
  },
  {
   "cell_type": "code",
   "execution_count": 60,
   "id": "888370aa",
   "metadata": {
    "ExecuteTime": {
     "end_time": "2022-03-28T16:39:20.915848Z",
     "start_time": "2022-03-28T16:39:20.913367Z"
    }
   },
   "outputs": [],
   "source": [
    "QM_NDVI_T2 = Tier2_sn.qualityMosaic('NDVI')# Normalized difference vegetation Index\n",
    "QM_NDWI_T2 = Tier2_sn.qualityMosaic('NDWI') # Normalize difference water index\n",
    "QM_SAVI_T2 = Tier2_sn.qualityMosaic('SAVI') # Soil Adjusted Vegetation Index \n",
    "QM_NDGI_T2 = Tier2_sn.qualityMosaic('NDGI') # Normalized difference glacier index\n",
    "QM_NDSI_T2 = Tier2_sn.qualityMosaic('NDSI') # Normalized difference snow index"
   ]
  },
  {
   "cell_type": "code",
   "execution_count": 61,
   "id": "bfe0fd96",
   "metadata": {
    "ExecuteTime": {
     "end_time": "2022-03-28T16:39:20.918706Z",
     "start_time": "2022-03-28T16:39:20.917067Z"
    }
   },
   "outputs": [],
   "source": [
    "# Map2.addLayer(QM_NDVI_T2, vizParams, 'QM de NDVI T2')\n",
    "# Map2.addLayer(QM_NDWI_T2, vizParams, 'QM de NDWI T2')\n",
    "# Map2.addLayer(QM_SAVI_T2, vizParams, 'QM de SAVI T2')\n",
    "# Map2.addLayer(QM_NDGI_T2, vis_nieve, 'QM de NDGI T2')\n",
    "# Map2.addLayer(QM_NDSI_T2, vis_nieve, 'QM de NDSI T2')\n",
    "# Map2 "
   ]
  },
  {
   "cell_type": "markdown",
   "id": "783d2e36",
   "metadata": {},
   "source": [
    "### Tier 3"
   ]
  },
  {
   "cell_type": "code",
   "execution_count": 62,
   "id": "cba970e0",
   "metadata": {
    "ExecuteTime": {
     "end_time": "2022-03-28T16:39:20.922710Z",
     "start_time": "2022-03-28T16:39:20.919972Z"
    }
   },
   "outputs": [],
   "source": [
    "Tier3_sn = l8_summer.map(Cloud30)"
   ]
  },
  {
   "cell_type": "code",
   "execution_count": 63,
   "id": "8a844166",
   "metadata": {
    "ExecuteTime": {
     "end_time": "2022-03-28T16:39:20.925531Z",
     "start_time": "2022-03-28T16:39:20.923552Z"
    }
   },
   "outputs": [],
   "source": [
    "QM_NDVI_T3 = Tier3_sn.qualityMosaic('NDVI')# Normalized difference vegetation Index\n",
    "QM_NDWI_T3 = Tier3_sn.qualityMosaic('NDWI') # Normalize difference water index\n",
    "QM_SAVI_T3 = Tier3_sn.qualityMosaic('SAVI') # Soil Adjusted Vegetation Index \n",
    "QM_NDGI_T3 = Tier3_sn.qualityMosaic('NDGI') # Normalized difference glacier index\n",
    "QM_NDSI_T3 = Tier3_sn.qualityMosaic('NDSI') # Normalized difference snow index"
   ]
  },
  {
   "cell_type": "markdown",
   "id": "b2453291",
   "metadata": {},
   "source": [
    "### Tier 4"
   ]
  },
  {
   "cell_type": "code",
   "execution_count": 64,
   "id": "7a204626",
   "metadata": {
    "ExecuteTime": {
     "end_time": "2022-03-28T16:39:20.928649Z",
     "start_time": "2022-03-28T16:39:20.926666Z"
    }
   },
   "outputs": [],
   "source": [
    "Tier4_sn = l8_summer.map(Cloud40)"
   ]
  },
  {
   "cell_type": "code",
   "execution_count": 65,
   "id": "7339980d",
   "metadata": {
    "ExecuteTime": {
     "end_time": "2022-03-28T16:39:20.931838Z",
     "start_time": "2022-03-28T16:39:20.929747Z"
    }
   },
   "outputs": [],
   "source": [
    "QM_NDVI_T4 = Tier4_sn.qualityMosaic('NDVI')# Normalized difference vegetation Index\n",
    "QM_NDWI_T4 = Tier4_sn.qualityMosaic('NDWI') # Normalize difference water index\n",
    "QM_SAVI_T4 = Tier4_sn.qualityMosaic('SAVI') # Soil Adjusted Vegetation Index \n",
    "QM_NDGI_T4 = Tier4_sn.qualityMosaic('NDGI') # Normalized difference glacier index\n",
    "QM_NDSI_T4 = Tier4_sn.qualityMosaic('NDSI') # Normalized difference snow index"
   ]
  },
  {
   "cell_type": "markdown",
   "id": "2029216e",
   "metadata": {},
   "source": [
    "## Colección tierra del fuego"
   ]
  },
  {
   "cell_type": "code",
   "execution_count": 66,
   "id": "69c552c6",
   "metadata": {
    "ExecuteTime": {
     "end_time": "2022-03-28T16:39:20.935273Z",
     "start_time": "2022-03-28T16:39:20.933108Z"
    }
   },
   "outputs": [],
   "source": [
    "filtersummerf = ee.Filter.Or(\n",
    "    ee.Filter.date('2021-11-01','2022-02-01'),\n",
    "    ee.Filter.date('2020-11-01','2021-03-31'),\n",
    "    ee.Filter.date('2019-11-01','2020-03-31'),\n",
    "    ee.Filter.date('2018-11-01','2019-03-31'),\n",
    "    ee.Filter.date('2017-11-01','2018-03-31')\n",
    ")"
   ]
  },
  {
   "cell_type": "code",
   "execution_count": 67,
   "id": "3698479a",
   "metadata": {
    "ExecuteTime": {
     "end_time": "2022-03-28T16:39:20.938272Z",
     "start_time": "2022-03-28T16:39:20.936408Z"
    }
   },
   "outputs": [],
   "source": [
    "coleccion2022_2017 = ee.ImageCollection('LANDSAT/LC08/C01/T1_TOA') \\\n",
    "    .filterDate('2017-11-01', '2022-03-31') \\\n",
    "    .filter(filtersummerf) \\\n",
    "    .filterBounds(tierra_fuego)"
   ]
  },
  {
   "cell_type": "code",
   "execution_count": 68,
   "id": "b820dfa4",
   "metadata": {
    "ExecuteTime": {
     "end_time": "2022-03-28T16:39:20.943972Z",
     "start_time": "2022-03-28T16:39:20.939424Z"
    }
   },
   "outputs": [],
   "source": [
    "l8_summer_sur= coleccion2022_2017.map(addNDVI).map(addNDWI).map(addNDGI).map(addSAVI).map(addNDSI).map(addNDBI).map(addDate).map(addCloud)"
   ]
  },
  {
   "cell_type": "code",
   "execution_count": 69,
   "id": "0a876e8d",
   "metadata": {
    "ExecuteTime": {
     "end_time": "2022-03-28T16:39:21.962380Z",
     "start_time": "2022-03-28T16:39:20.945341Z"
    }
   },
   "outputs": [
    {
     "data": {
      "application/vnd.jupyter.widget-view+json": {
       "model_id": "d7aad96f1faa4949baa39ede07765d73",
       "version_major": 2,
       "version_minor": 0
      },
      "text/plain": [
       "Map(center=[-45, -70], controls=(WidgetControl(options=['position', 'transparent_bg'], widget=HBox(children=(T…"
      ]
     },
     "metadata": {},
     "output_type": "display_data"
    }
   ],
   "source": [
    "Map3.addLayer(l8_summer_sur.median(), vizParams, 'median')\n",
    "Map3"
   ]
  },
  {
   "cell_type": "markdown",
   "id": "11db41ec",
   "metadata": {},
   "source": [
    "### Tier 1 Sur"
   ]
  },
  {
   "cell_type": "code",
   "execution_count": 70,
   "id": "56144837",
   "metadata": {
    "ExecuteTime": {
     "end_time": "2022-03-28T16:39:21.965874Z",
     "start_time": "2022-03-28T16:39:21.963505Z"
    }
   },
   "outputs": [],
   "source": [
    "Tier1_sn_sur = l8_summer_sur.map(Cloud10)"
   ]
  },
  {
   "cell_type": "code",
   "execution_count": 71,
   "id": "28f9aa01",
   "metadata": {
    "ExecuteTime": {
     "end_time": "2022-03-28T16:39:21.969266Z",
     "start_time": "2022-03-28T16:39:21.966983Z"
    }
   },
   "outputs": [],
   "source": [
    "QM_NDVI_T1_sur = Tier1_sn_sur.qualityMosaic('NDVI')# Normalized difference vegetation Index\n",
    "QM_NDWI_T1_sur = Tier1_sn_sur.qualityMosaic('NDWI') # Normalize difference water index\n",
    "QM_SAVI_T1_sur = Tier1_sn_sur.qualityMosaic('SAVI') # Soil Adjusted Vegetation Index \n",
    "QM_NDGI_T1_sur = Tier1_sn_sur.qualityMosaic('NDGI') # Normalized difference glacier index\n",
    "QM_NDSI_T1_sur = Tier1_sn_sur.qualityMosaic('NDSI') # Normalized difference snow index"
   ]
  },
  {
   "cell_type": "code",
   "execution_count": 72,
   "id": "6b688782",
   "metadata": {
    "ExecuteTime": {
     "end_time": "2022-03-28T16:39:28.650452Z",
     "start_time": "2022-03-28T16:39:21.970591Z"
    }
   },
   "outputs": [
    {
     "data": {
      "application/vnd.jupyter.widget-view+json": {
       "model_id": "d7aad96f1faa4949baa39ede07765d73",
       "version_major": 2,
       "version_minor": 0
      },
      "text/plain": [
       "Map(center=[-45, -70], controls=(WidgetControl(options=['position', 'transparent_bg'], widget=HBox(children=(T…"
      ]
     },
     "metadata": {},
     "output_type": "display_data"
    }
   ],
   "source": [
    "Map3.addLayer(QM_NDVI_T1_sur, vizParams, 'QM de NDVI T1_sur')\n",
    "Map3.addLayer(QM_NDWI_T1_sur, vizParams, 'QM de NDWI T1_sur')\n",
    "Map3.addLayer(QM_SAVI_T1_sur, vizParams, 'QM de SAVI T1_sur')\n",
    "Map3.addLayer(QM_NDGI_T1_sur, vis_nieve, 'QM de NDGI T1_sur')\n",
    "Map3.addLayer(QM_NDSI_T1_sur, vizParams, 'QM de NDSI T1_sur')\n",
    "Map3.addLayer((Tier1_sn_sur).median(), vizParams, 'Mediana de mosaico T1_sur')\n",
    "Map3 "
   ]
  },
  {
   "cell_type": "markdown",
   "id": "dd05e9e8",
   "metadata": {},
   "source": [
    "## Generación de Mosaico QM"
   ]
  },
  {
   "cell_type": "code",
   "execution_count": 73,
   "id": "9b229098",
   "metadata": {
    "ExecuteTime": {
     "end_time": "2022-03-28T16:39:28.653465Z",
     "start_time": "2022-03-28T16:39:28.651602Z"
    }
   },
   "outputs": [],
   "source": [
    "NDVI_2021_landsat = cloudest.set('SENSOR_ID', 'OLI_TIRS')"
   ]
  },
  {
   "cell_type": "code",
   "execution_count": 74,
   "id": "a98110ba",
   "metadata": {
    "ExecuteTime": {
     "end_time": "2022-03-28T16:39:28.657106Z",
     "start_time": "2022-03-28T16:39:28.654912Z"
    }
   },
   "outputs": [],
   "source": [
    "cloud_2021 = ee.Algorithms.Landsat.simpleCloudScore(NDVI_2021_landsat)"
   ]
  },
  {
   "cell_type": "code",
   "execution_count": 75,
   "id": "745b712d",
   "metadata": {
    "ExecuteTime": {
     "end_time": "2022-03-28T16:39:28.660438Z",
     "start_time": "2022-03-28T16:39:28.658282Z"
    }
   },
   "outputs": [],
   "source": [
    "cloud_2021 = cloud_2021.select('cloud')"
   ]
  },
  {
   "cell_type": "code",
   "execution_count": 76,
   "id": "3351dfe9",
   "metadata": {
    "ExecuteTime": {
     "end_time": "2022-03-28T16:39:28.663062Z",
     "start_time": "2022-03-28T16:39:28.661458Z"
    }
   },
   "outputs": [],
   "source": [
    "palette_nubes = ['#1a9850', '#d73027']"
   ]
  },
  {
   "cell_type": "code",
   "execution_count": 77,
   "id": "aa1c77e2",
   "metadata": {
    "ExecuteTime": {
     "end_time": "2022-03-28T16:39:28.665933Z",
     "start_time": "2022-03-28T16:39:28.664064Z"
    }
   },
   "outputs": [],
   "source": [
    "resultados= [cloud_2021, cloudest]\n",
    "vis_params2=  [\n",
    "    {'palette':palette_nubes}, \n",
    "    vizParams]\n",
    "labels = [\n",
    "    'Nubes 2021',\n",
    "    'QM NDVI 2021']"
   ]
  },
  {
   "cell_type": "code",
   "execution_count": 78,
   "id": "28e91129",
   "metadata": {
    "ExecuteTime": {
     "end_time": "2022-03-28T16:39:31.538465Z",
     "start_time": "2022-03-28T16:39:28.667142Z"
    }
   },
   "outputs": [
    {
     "data": {
      "application/vnd.jupyter.widget-view+json": {
       "model_id": "13b6c8d60abe4def80ab60766b3a60ff",
       "version_major": 2,
       "version_minor": 0
      },
      "text/plain": [
       "GridspecLayout(children=(Output(layout=Layout(grid_area='widget001')), Output(layout=Layout(grid_area='widget0…"
      ]
     },
     "metadata": {},
     "output_type": "display_data"
    }
   ],
   "source": [
    "geemap.linked_maps(rows=1, cols=2, height=\"400px\", center=[-45, -75], zoom=4, \n",
    "                   ee_objects=resultados, vis_params=vis_params2, labels=labels, label_position=\"topright\")"
   ]
  },
  {
   "cell_type": "code",
   "execution_count": 79,
   "id": "21067811",
   "metadata": {
    "ExecuteTime": {
     "end_time": "2022-03-28T16:39:32.930257Z",
     "start_time": "2022-03-28T16:39:31.539340Z"
    }
   },
   "outputs": [
    {
     "data": {
      "text/plain": [
       "['B1',\n",
       " 'B2',\n",
       " 'B3',\n",
       " 'B4',\n",
       " 'B5',\n",
       " 'B6',\n",
       " 'B7',\n",
       " 'B8',\n",
       " 'B9',\n",
       " 'B10',\n",
       " 'B11',\n",
       " 'BQA',\n",
       " 'NDVI',\n",
       " 'NDWI',\n",
       " 'NDGI',\n",
       " 'SAVI',\n",
       " 'NDSI',\n",
       " 'NDBI',\n",
       " 'EVI',\n",
       " 'date',\n",
       " 'nube']"
      ]
     },
     "execution_count": 79,
     "metadata": {},
     "output_type": "execute_result"
    }
   ],
   "source": [
    "QM_NDVI_T1.bandNames().getInfo()"
   ]
  },
  {
   "cell_type": "code",
   "execution_count": 80,
   "id": "93ea56bf",
   "metadata": {
    "ExecuteTime": {
     "end_time": "2022-03-28T16:39:32.933254Z",
     "start_time": "2022-03-28T16:39:32.931361Z"
    }
   },
   "outputs": [],
   "source": [
    "def llenado(image):\n",
    "    return image.where(cloud_2021.gt(10),QM_NDVI_T1)"
   ]
  },
  {
   "cell_type": "code",
   "execution_count": 81,
   "id": "8287934f",
   "metadata": {
    "ExecuteTime": {
     "end_time": "2022-03-28T16:39:32.936378Z",
     "start_time": "2022-03-28T16:39:32.934624Z"
    }
   },
   "outputs": [],
   "source": [
    "img1 = llenado(cloudest)"
   ]
  },
  {
   "cell_type": "code",
   "execution_count": 82,
   "id": "0ea4ebed",
   "metadata": {
    "ExecuteTime": {
     "end_time": "2022-03-28T16:39:32.940397Z",
     "start_time": "2022-03-28T16:39:32.937623Z"
    }
   },
   "outputs": [],
   "source": [
    "img1_landsat = img1.set('SENSOR_ID', 'OLI_TIRS')\n",
    "cloud_img1 = ee.Algorithms.Landsat.simpleCloudScore(img1_landsat)\n",
    "cloud_img1 = cloud_img1.select('cloud')"
   ]
  },
  {
   "cell_type": "code",
   "execution_count": 83,
   "id": "84dbb2d4",
   "metadata": {
    "ExecuteTime": {
     "end_time": "2022-03-28T16:39:32.948568Z",
     "start_time": "2022-03-28T16:39:32.946757Z"
    }
   },
   "outputs": [],
   "source": [
    "resultados= [cloud_img1, img1]\n",
    "vis_params2=  [\n",
    "    {'palette':palette_nubes}, \n",
    "    vizParams]\n",
    "labels = [\n",
    "    'Nubes Mosaico 1',\n",
    "    'Mosaico 1']"
   ]
  },
  {
   "cell_type": "code",
   "execution_count": 84,
   "id": "f3c2a996",
   "metadata": {
    "ExecuteTime": {
     "end_time": "2022-03-28T16:39:36.038590Z",
     "start_time": "2022-03-28T16:39:32.949856Z"
    }
   },
   "outputs": [
    {
     "data": {
      "application/vnd.jupyter.widget-view+json": {
       "model_id": "0697ef772aab4dc392ab624577661729",
       "version_major": 2,
       "version_minor": 0
      },
      "text/plain": [
       "GridspecLayout(children=(Output(layout=Layout(grid_area='widget001')), Output(layout=Layout(grid_area='widget0…"
      ]
     },
     "metadata": {},
     "output_type": "display_data"
    }
   ],
   "source": [
    "geemap.linked_maps(rows=1, cols=2, height=\"400px\", center=[-45, -75], zoom=4, \n",
    "                   ee_objects=resultados, vis_params=vis_params2, labels=labels, label_position=\"topright\")"
   ]
  },
  {
   "cell_type": "code",
   "execution_count": 85,
   "id": "9a243ac4",
   "metadata": {
    "ExecuteTime": {
     "end_time": "2022-03-28T16:39:36.041463Z",
     "start_time": "2022-03-28T16:39:36.039627Z"
    }
   },
   "outputs": [],
   "source": [
    "def llenado2(image):\n",
    "    return image.where(cloud_img1.gt(10), QM_NDVI_T2)"
   ]
  },
  {
   "cell_type": "code",
   "execution_count": 86,
   "id": "ada6d94e",
   "metadata": {
    "ExecuteTime": {
     "end_time": "2022-03-28T16:39:36.044594Z",
     "start_time": "2022-03-28T16:39:36.042445Z"
    }
   },
   "outputs": [],
   "source": [
    "img2 = llenado2(img1)"
   ]
  },
  {
   "cell_type": "code",
   "execution_count": 87,
   "id": "e3db0a52",
   "metadata": {
    "ExecuteTime": {
     "end_time": "2022-03-28T16:39:36.047659Z",
     "start_time": "2022-03-28T16:39:36.045865Z"
    }
   },
   "outputs": [],
   "source": [
    "img2_landsat = img2.set('SENSOR_ID', 'OLI_TIRS')\n",
    "cloud_img2 = ee.Algorithms.Landsat.simpleCloudScore(img2_landsat)\n",
    "cloud_img2 = cloud_img2.select('cloud')"
   ]
  },
  {
   "cell_type": "code",
   "execution_count": 88,
   "id": "42d22742",
   "metadata": {
    "ExecuteTime": {
     "end_time": "2022-03-28T16:39:36.050615Z",
     "start_time": "2022-03-28T16:39:36.048877Z"
    }
   },
   "outputs": [],
   "source": [
    "resultados= [cloud_img2, img2_landsat]\n",
    "vis_params2=  [\n",
    "    {'palette':palette_nubes}, \n",
    "    vizParams]\n",
    "labels = [\n",
    "    'Nubes Mosaico 2',\n",
    "    'Mosaico 2']"
   ]
  },
  {
   "cell_type": "code",
   "execution_count": 89,
   "id": "5bdcab8c",
   "metadata": {
    "ExecuteTime": {
     "end_time": "2022-03-28T16:39:39.412902Z",
     "start_time": "2022-03-28T16:39:36.051744Z"
    }
   },
   "outputs": [
    {
     "data": {
      "application/vnd.jupyter.widget-view+json": {
       "model_id": "7a2a1918123b460fa05cacec2d1eb01b",
       "version_major": 2,
       "version_minor": 0
      },
      "text/plain": [
       "GridspecLayout(children=(Output(layout=Layout(grid_area='widget001')), Output(layout=Layout(grid_area='widget0…"
      ]
     },
     "metadata": {},
     "output_type": "display_data"
    }
   ],
   "source": [
    "geemap.linked_maps(rows=1, cols=2, height=\"400px\", center=[-45, -75], zoom=4, \n",
    "                   ee_objects=resultados, vis_params=vis_params2, labels=labels, label_position=\"topright\")"
   ]
  },
  {
   "cell_type": "code",
   "execution_count": 90,
   "id": "ca5f91e2",
   "metadata": {
    "ExecuteTime": {
     "end_time": "2022-03-28T16:39:39.415639Z",
     "start_time": "2022-03-28T16:39:39.413811Z"
    }
   },
   "outputs": [],
   "source": [
    "def llenado3(image):\n",
    "    return image.where(cloud_img2.gt(10), QM_NDVI_T3)"
   ]
  },
  {
   "cell_type": "code",
   "execution_count": 91,
   "id": "f52fddee",
   "metadata": {
    "ExecuteTime": {
     "end_time": "2022-03-28T16:39:39.418605Z",
     "start_time": "2022-03-28T16:39:39.416936Z"
    }
   },
   "outputs": [],
   "source": [
    "img3 = llenado3(img2)"
   ]
  },
  {
   "cell_type": "code",
   "execution_count": 92,
   "id": "6d41d9d0",
   "metadata": {
    "ExecuteTime": {
     "end_time": "2022-03-28T16:39:39.422126Z",
     "start_time": "2022-03-28T16:39:39.419809Z"
    }
   },
   "outputs": [],
   "source": [
    "img3_landsat = img3.set('SENSOR_ID', 'OLI_TIRS')\n",
    "cloud_img3 = ee.Algorithms.Landsat.simpleCloudScore(img3_landsat)\n",
    "cloud_img3 = cloud_img3.select('cloud')"
   ]
  },
  {
   "cell_type": "code",
   "execution_count": 93,
   "id": "3a000d62",
   "metadata": {
    "ExecuteTime": {
     "end_time": "2022-03-28T16:39:39.425160Z",
     "start_time": "2022-03-28T16:39:39.423194Z"
    }
   },
   "outputs": [],
   "source": [
    "resultados= [cloud_img3, img3_landsat]\n",
    "vis_params2=  [\n",
    "    {'palette':palette_nubes}, \n",
    "    vizParams]\n",
    "labels = [\n",
    "    'Nubes Mosaico 3',\n",
    "    'Mosaico 3']"
   ]
  },
  {
   "cell_type": "code",
   "execution_count": 94,
   "id": "bf275ed6",
   "metadata": {
    "ExecuteTime": {
     "end_time": "2022-03-28T16:39:42.759015Z",
     "start_time": "2022-03-28T16:39:39.426466Z"
    }
   },
   "outputs": [
    {
     "data": {
      "application/vnd.jupyter.widget-view+json": {
       "model_id": "d4253fac7c5d4d0e9f61aa381246da49",
       "version_major": 2,
       "version_minor": 0
      },
      "text/plain": [
       "GridspecLayout(children=(Output(layout=Layout(grid_area='widget001')), Output(layout=Layout(grid_area='widget0…"
      ]
     },
     "metadata": {},
     "output_type": "display_data"
    }
   ],
   "source": [
    "geemap.linked_maps(rows=1, cols=2, height=\"400px\", center=[-45, -75], zoom=4, \n",
    "                   ee_objects=resultados, vis_params=vis_params2, labels=labels, label_position=\"topright\")"
   ]
  },
  {
   "cell_type": "code",
   "execution_count": 95,
   "id": "9d0daae9",
   "metadata": {
    "ExecuteTime": {
     "end_time": "2022-03-28T16:39:42.762029Z",
     "start_time": "2022-03-28T16:39:42.760020Z"
    }
   },
   "outputs": [],
   "source": [
    "def llenado4(image):\n",
    "    return image.where(cloud_img3.gt(10), QM_NDVI_T4)"
   ]
  },
  {
   "cell_type": "code",
   "execution_count": 96,
   "id": "d37f16d5",
   "metadata": {
    "ExecuteTime": {
     "end_time": "2022-03-28T16:39:42.764895Z",
     "start_time": "2022-03-28T16:39:42.763031Z"
    }
   },
   "outputs": [],
   "source": [
    "img4 = llenado4(img3)"
   ]
  },
  {
   "cell_type": "code",
   "execution_count": 97,
   "id": "540d60d8",
   "metadata": {
    "ExecuteTime": {
     "end_time": "2022-03-28T16:39:42.767936Z",
     "start_time": "2022-03-28T16:39:42.766025Z"
    }
   },
   "outputs": [],
   "source": [
    "img4_landsat = img4.set('SENSOR_ID', 'OLI_TIRS')\n",
    "cloud_img4 = ee.Algorithms.Landsat.simpleCloudScore(img4_landsat)\n",
    "cloud_img4 = cloud_img4.select('cloud')"
   ]
  },
  {
   "cell_type": "code",
   "execution_count": 98,
   "id": "3f0e9719",
   "metadata": {
    "ExecuteTime": {
     "end_time": "2022-03-28T16:39:42.771493Z",
     "start_time": "2022-03-28T16:39:42.769287Z"
    }
   },
   "outputs": [],
   "source": [
    "resultados= [cloud_img4, img4_landsat]\n",
    "vis_params2=  [\n",
    "    {'palette':palette_nubes}, \n",
    "    vizParams]\n",
    "labels = [\n",
    "    'Nubes Mosaico 4',\n",
    "    'Mosaico 4']"
   ]
  },
  {
   "cell_type": "code",
   "execution_count": 99,
   "id": "41d9a7b8",
   "metadata": {
    "ExecuteTime": {
     "end_time": "2022-03-28T16:39:46.218261Z",
     "start_time": "2022-03-28T16:39:42.772535Z"
    }
   },
   "outputs": [
    {
     "data": {
      "application/vnd.jupyter.widget-view+json": {
       "model_id": "a8c85ffd39704910aabd51ef85be3213",
       "version_major": 2,
       "version_minor": 0
      },
      "text/plain": [
       "GridspecLayout(children=(Output(layout=Layout(grid_area='widget001')), Output(layout=Layout(grid_area='widget0…"
      ]
     },
     "metadata": {},
     "output_type": "display_data"
    }
   ],
   "source": [
    "geemap.linked_maps(rows=1, cols=2, height=\"400px\", center=[-45, -75], zoom=4, \n",
    "                   ee_objects=resultados, vis_params=vis_params2, labels=labels, label_position=\"topright\")"
   ]
  },
  {
   "cell_type": "code",
   "execution_count": 100,
   "id": "0cccc52b",
   "metadata": {
    "ExecuteTime": {
     "end_time": "2022-03-28T16:39:46.221217Z",
     "start_time": "2022-03-28T16:39:46.219303Z"
    }
   },
   "outputs": [],
   "source": [
    "hansenImage = ee.Image('UMD/hansen/global_forest_change_2015')\n",
    "datamask = hansenImage.select('datamask')"
   ]
  },
  {
   "cell_type": "code",
   "execution_count": 101,
   "id": "2e6b728e",
   "metadata": {
    "ExecuteTime": {
     "end_time": "2022-03-28T16:39:46.224430Z",
     "start_time": "2022-03-28T16:39:46.222070Z"
    }
   },
   "outputs": [],
   "source": [
    "def llenado5(image):\n",
    "    return image.where(datamask.eq(2), QM_NDWI_T1)"
   ]
  },
  {
   "cell_type": "code",
   "execution_count": 102,
   "id": "eeac700c",
   "metadata": {
    "ExecuteTime": {
     "end_time": "2022-03-28T16:39:46.227398Z",
     "start_time": "2022-03-28T16:39:46.225802Z"
    }
   },
   "outputs": [],
   "source": [
    "img5 = llenado5(img4)"
   ]
  },
  {
   "cell_type": "code",
   "execution_count": 103,
   "id": "82202db6",
   "metadata": {
    "ExecuteTime": {
     "end_time": "2022-03-28T16:39:46.230181Z",
     "start_time": "2022-03-28T16:39:46.228591Z"
    }
   },
   "outputs": [],
   "source": [
    "img5_landsat = img5.set('SENSOR_ID', 'OLI_TIRS')"
   ]
  },
  {
   "cell_type": "code",
   "execution_count": 104,
   "id": "823a7e18",
   "metadata": {
    "ExecuteTime": {
     "end_time": "2022-03-28T16:39:46.233070Z",
     "start_time": "2022-03-28T16:39:46.231367Z"
    }
   },
   "outputs": [],
   "source": [
    "resultados= [img4, img5]\n",
    "labels = [\n",
    "    'Mosaico 4',\n",
    "    'Mosaico 5']\n",
    "vis_params3=  [\n",
    "     vizParams, \n",
    "    vizParams]"
   ]
  },
  {
   "cell_type": "code",
   "execution_count": 105,
   "id": "87c07712",
   "metadata": {
    "ExecuteTime": {
     "end_time": "2022-03-28T16:39:49.678154Z",
     "start_time": "2022-03-28T16:39:46.234224Z"
    }
   },
   "outputs": [
    {
     "data": {
      "application/vnd.jupyter.widget-view+json": {
       "model_id": "0dfeba3904764cc88b7ab2cef02869ff",
       "version_major": 2,
       "version_minor": 0
      },
      "text/plain": [
       "GridspecLayout(children=(Output(layout=Layout(grid_area='widget001')), Output(layout=Layout(grid_area='widget0…"
      ]
     },
     "metadata": {},
     "output_type": "display_data"
    }
   ],
   "source": [
    "geemap.linked_maps(rows=1, cols=2, height=\"400px\", center=[-45, -75], zoom=4, \n",
    "                   ee_objects=resultados, vis_params=vis_params3, labels=labels, label_position=\"topright\")"
   ]
  },
  {
   "cell_type": "code",
   "execution_count": 106,
   "id": "c76fddbf",
   "metadata": {
    "ExecuteTime": {
     "end_time": "2022-03-28T16:39:51.014894Z",
     "start_time": "2022-03-28T16:39:49.679199Z"
    }
   },
   "outputs": [
    {
     "data": {
      "text/plain": [
       "['B1',\n",
       " 'B2',\n",
       " 'B3',\n",
       " 'B4',\n",
       " 'B5',\n",
       " 'B6',\n",
       " 'B7',\n",
       " 'B8',\n",
       " 'B9',\n",
       " 'B10',\n",
       " 'B11',\n",
       " 'BQA',\n",
       " 'NDVI',\n",
       " 'NDWI',\n",
       " 'NDGI',\n",
       " 'SAVI',\n",
       " 'NDSI',\n",
       " 'NDBI',\n",
       " 'EVI',\n",
       " 'date',\n",
       " 'nube']"
      ]
     },
     "execution_count": 106,
     "metadata": {},
     "output_type": "execute_result"
    }
   ],
   "source": [
    "img4.bandNames().getInfo()"
   ]
  },
  {
   "cell_type": "code",
   "execution_count": 107,
   "id": "03e0049e",
   "metadata": {
    "ExecuteTime": {
     "end_time": "2022-03-28T16:39:52.457076Z",
     "start_time": "2022-03-28T16:39:51.016041Z"
    }
   },
   "outputs": [
    {
     "data": {
      "text/plain": [
       "['B1',\n",
       " 'B2',\n",
       " 'B3',\n",
       " 'B4',\n",
       " 'B5',\n",
       " 'B6',\n",
       " 'B7',\n",
       " 'B8',\n",
       " 'B9',\n",
       " 'B10',\n",
       " 'B11',\n",
       " 'BQA',\n",
       " 'NDVI',\n",
       " 'NDWI',\n",
       " 'NDGI',\n",
       " 'SAVI',\n",
       " 'NDSI',\n",
       " 'NDBI',\n",
       " 'EVI',\n",
       " 'date',\n",
       " 'nube']"
      ]
     },
     "execution_count": 107,
     "metadata": {},
     "output_type": "execute_result"
    }
   ],
   "source": [
    "img5.bandNames().getInfo()"
   ]
  },
  {
   "cell_type": "code",
   "execution_count": 108,
   "id": "20454023",
   "metadata": {
    "ExecuteTime": {
     "end_time": "2022-03-28T16:39:55.642316Z",
     "start_time": "2022-03-28T16:39:52.458203Z"
    }
   },
   "outputs": [
    {
     "data": {
      "application/vnd.jupyter.widget-view+json": {
       "model_id": "62b2c3cbe35146f983f4a74292941a3c",
       "version_major": 2,
       "version_minor": 0
      },
      "text/plain": [
       "Map(center=[-45, -70], controls=(WidgetControl(options=['position', 'transparent_bg'], widget=HBox(children=(T…"
      ]
     },
     "metadata": {},
     "output_type": "display_data"
    }
   ],
   "source": [
    "Map10.addLayer(img4, vizParams, 'Mosaico 4')\n",
    "Map10.addLayer(img5, vizParams, 'Mosaico 5')\n",
    "Map10"
   ]
  },
  {
   "cell_type": "markdown",
   "id": "18c237e5",
   "metadata": {},
   "source": [
    "### Resultado Final"
   ]
  },
  {
   "cell_type": "code",
   "execution_count": 109,
   "id": "3e85d062",
   "metadata": {
    "ExecuteTime": {
     "end_time": "2022-03-28T16:39:57.125574Z",
     "start_time": "2022-03-28T16:39:55.643377Z"
    }
   },
   "outputs": [
    {
     "data": {
      "application/vnd.jupyter.widget-view+json": {
       "model_id": "62b2c3cbe35146f983f4a74292941a3c",
       "version_major": 2,
       "version_minor": 0
      },
      "text/plain": [
       "Map(center=[-45, -70], controls=(WidgetControl(options=['position', 'transparent_bg'], widget=HBox(children=(T…"
      ]
     },
     "metadata": {},
     "output_type": "display_data"
    }
   ],
   "source": [
    "img5_b = img5.select(['B1','B2','B3','B4','B5','B6','B7'])\n",
    "Map10.addLayer(img5_b, vizParams, 'Mosaico 7bandas')\n",
    "Map10"
   ]
  },
  {
   "cell_type": "markdown",
   "id": "d46a3463",
   "metadata": {},
   "source": [
    "#### Fechas Mosaico"
   ]
  },
  {
   "cell_type": "code",
   "execution_count": 110,
   "id": "67a2e0e2",
   "metadata": {
    "ExecuteTime": {
     "end_time": "2022-03-28T16:39:57.128376Z",
     "start_time": "2022-03-28T16:39:57.126681Z"
    }
   },
   "outputs": [],
   "source": [
    "property = 'date'"
   ]
  },
  {
   "cell_type": "code",
   "execution_count": 111,
   "id": "9fff05cd",
   "metadata": {
    "ExecuteTime": {
     "end_time": "2022-03-28T16:39:57.131392Z",
     "start_time": "2022-03-28T16:39:57.129148Z"
    }
   },
   "outputs": [],
   "source": [
    "options = {\"title\": 'Fechas mosaico QM',\n",
    "          \"xlabel\": 'date',\n",
    "          \"ylabel\": 'Pixel count',\n",
    "          \"colors\": ['#1d6b99']\n",
    "          }"
   ]
  },
  {
   "cell_type": "code",
   "execution_count": 112,
   "id": "37a5b7be",
   "metadata": {
    "ExecuteTime": {
     "end_time": "2022-03-28T16:39:57.134583Z",
     "start_time": "2022-03-28T16:39:57.132600Z"
    }
   },
   "outputs": [],
   "source": [
    "muestra = (img5.select('date')).sample(**{\n",
    "    'region': geometry_exp,\n",
    "    'scale': 30,\n",
    "    'numPixels':500,\n",
    "    'tileScale': 4,\n",
    "})"
   ]
  },
  {
   "cell_type": "code",
   "execution_count": 113,
   "id": "0ad9a685",
   "metadata": {
    "ExecuteTime": {
     "end_time": "2022-03-28T16:40:20.821105Z",
     "start_time": "2022-03-28T16:39:57.135780Z"
    },
    "scrolled": false
   },
   "outputs": [
    {
     "data": {
      "application/vnd.jupyter.widget-view+json": {
       "model_id": "f94a0211a21542b797e77ec59ed0d4a7",
       "version_major": 2,
       "version_minor": 0
      },
      "text/plain": [
       "VBox(children=(Figure(axes=[Axis(label='Pixel count', orientation='vertical', scale=LinearScale()), Axis(label…"
      ]
     },
     "metadata": {},
     "output_type": "display_data"
    }
   ],
   "source": [
    "chart.feature_histogram(muestra, property, **options)"
   ]
  },
  {
   "cell_type": "code",
   "execution_count": 114,
   "id": "e05c20e0",
   "metadata": {
    "ExecuteTime": {
     "end_time": "2022-03-28T16:40:20.823520Z",
     "start_time": "2022-03-28T16:40:20.822012Z"
    }
   },
   "outputs": [],
   "source": [
    "# out_dir = r\"C:\\Users\\USUARIO\\Downloads\""
   ]
  },
  {
   "cell_type": "code",
   "execution_count": 115,
   "id": "2c94d245",
   "metadata": {
    "ExecuteTime": {
     "end_time": "2022-03-28T16:40:20.826315Z",
     "start_time": "2022-03-28T16:40:20.824760Z"
    }
   },
   "outputs": [],
   "source": [
    "# out_mosaic_stats= os.path.join(out_dir,'\\fechas_mosaico.csv')\n",
    "# geemap.zonal_statistics(img5,patagonia_grande, out_mosaic_stats, scale= 5000)"
   ]
  },
  {
   "cell_type": "markdown",
   "id": "7267523f",
   "metadata": {},
   "source": [
    "### Tasseled cap"
   ]
  },
  {
   "cell_type": "code",
   "execution_count": 116,
   "id": "427e0fc3",
   "metadata": {
    "ExecuteTime": {
     "end_time": "2022-03-28T16:40:20.830094Z",
     "start_time": "2022-03-28T16:40:20.827631Z"
    }
   },
   "outputs": [],
   "source": [
    "coef = ee.Array([\n",
    "    [0.3029, 0.2786, 0.4733, 0.5599, 0.508, 0.1872], \n",
    "    [-0.2941, -0.243, -0.5424, 0.7276, 0.0713, -0.1608],\n",
    "    [0.1511, 0.1973, 0.3283, 0.3407, -0.7117, -0.4559],\n",
    "    [-0.8239, 0.0849, 0.4396, -0.058, 0.2013, -0.2773],\n",
    "    [-0.3294, 0.0557, 0.1056, 0.1855, -0.4349, 0.8085],\n",
    "    [0.1079, -0.9023, 0.4119, 0.0575, -0.0259, 0.0252]\n",
    "])"
   ]
  },
  {
   "cell_type": "code",
   "execution_count": 117,
   "id": "7ab0a347",
   "metadata": {
    "ExecuteTime": {
     "end_time": "2022-03-28T16:40:20.832867Z",
     "start_time": "2022-03-28T16:40:20.831242Z"
    }
   },
   "outputs": [],
   "source": [
    "tasse_img5 = img5.select(['B2', 'B3', 'B4', 'B5', 'B6', 'B7'])"
   ]
  },
  {
   "cell_type": "code",
   "execution_count": 118,
   "id": "9e34972d",
   "metadata": {
    "ExecuteTime": {
     "end_time": "2022-03-28T16:40:20.835884Z",
     "start_time": "2022-03-28T16:40:20.834075Z"
    }
   },
   "outputs": [],
   "source": [
    "arrayimage1d = tasse_img5.toArray()"
   ]
  },
  {
   "cell_type": "code",
   "execution_count": 119,
   "id": "3c3e3a70",
   "metadata": {
    "ExecuteTime": {
     "end_time": "2022-03-28T16:40:20.838721Z",
     "start_time": "2022-03-28T16:40:20.837001Z"
    }
   },
   "outputs": [],
   "source": [
    "arrayimage2d = arrayimage1d.toArray(1)"
   ]
  },
  {
   "cell_type": "code",
   "execution_count": 120,
   "id": "0ae9ab01",
   "metadata": {
    "ExecuteTime": {
     "end_time": "2022-03-28T16:40:20.841610Z",
     "start_time": "2022-03-28T16:40:20.839795Z"
    }
   },
   "outputs": [],
   "source": [
    "componentes = ee.Image(coef)\\\n",
    "                .matrixMultiply(arrayimage2d) \\\n",
    "                .arrayProject([0])\\\n",
    "                .arrayFlatten(\n",
    "                [['brightness','greenness','wetness','fourth','fifth','sixth']])"
   ]
  },
  {
   "cell_type": "code",
   "execution_count": 121,
   "id": "b058be26",
   "metadata": {
    "ExecuteTime": {
     "end_time": "2022-03-28T16:40:20.844743Z",
     "start_time": "2022-03-28T16:40:20.842839Z"
    }
   },
   "outputs": [],
   "source": [
    "vizParamstess = {\n",
    "  'bands': ['brightness', 'greenness', 'wetness'],\n",
    "    'min': -0.1,\n",
    "    'max': [0.6, 0.2, 0.2]\n",
    "}\n"
   ]
  },
  {
   "cell_type": "code",
   "execution_count": 122,
   "id": "9dc2abf8",
   "metadata": {
    "ExecuteTime": {
     "end_time": "2022-03-28T16:40:22.432557Z",
     "start_time": "2022-03-28T16:40:20.845939Z"
    }
   },
   "outputs": [
    {
     "data": {
      "application/vnd.jupyter.widget-view+json": {
       "model_id": "62b2c3cbe35146f983f4a74292941a3c",
       "version_major": 2,
       "version_minor": 0
      },
      "text/plain": [
       "Map(center=[-45, -70], controls=(WidgetControl(options=['position', 'transparent_bg'], widget=HBox(children=(T…"
      ]
     },
     "metadata": {},
     "output_type": "display_data"
    }
   ],
   "source": [
    "Map10.addLayer(componentes,vizParamstess, 'Tesseled cap')\n",
    "Map10"
   ]
  },
  {
   "cell_type": "markdown",
   "id": "c36bd436",
   "metadata": {},
   "source": [
    "### Combinación de bandas"
   ]
  },
  {
   "cell_type": "code",
   "execution_count": 123,
   "id": "9e796ad0",
   "metadata": {
    "ExecuteTime": {
     "end_time": "2022-03-28T16:40:22.435771Z",
     "start_time": "2022-03-28T16:40:22.433673Z"
    }
   },
   "outputs": [],
   "source": [
    "img_final = img5.select('B1','B2','B3','B4','B5','B6','B7','NDVI','NDWI','NDGI','SAVI','NDSI','NDBI','EVI')\n",
    "img_final = img_final.addBands(componentes) "
   ]
  },
  {
   "cell_type": "code",
   "execution_count": 124,
   "id": "1946e239",
   "metadata": {
    "ExecuteTime": {
     "end_time": "2022-03-28T16:40:23.913349Z",
     "start_time": "2022-03-28T16:40:22.437252Z"
    }
   },
   "outputs": [
    {
     "data": {
      "text/plain": [
       "['B1',\n",
       " 'B2',\n",
       " 'B3',\n",
       " 'B4',\n",
       " 'B5',\n",
       " 'B6',\n",
       " 'B7',\n",
       " 'NDVI',\n",
       " 'NDWI',\n",
       " 'NDGI',\n",
       " 'SAVI',\n",
       " 'NDSI',\n",
       " 'NDBI',\n",
       " 'EVI',\n",
       " 'brightness',\n",
       " 'greenness',\n",
       " 'wetness',\n",
       " 'fourth',\n",
       " 'fifth',\n",
       " 'sixth']"
      ]
     },
     "execution_count": 124,
     "metadata": {},
     "output_type": "execute_result"
    }
   ],
   "source": [
    "img_final.bandNames().getInfo()"
   ]
  },
  {
   "cell_type": "markdown",
   "id": "2d8c3490",
   "metadata": {},
   "source": [
    "## Generación de Mosaico Mediana "
   ]
  },
  {
   "cell_type": "code",
   "execution_count": 125,
   "id": "daedb11a",
   "metadata": {
    "ExecuteTime": {
     "end_time": "2022-03-28T16:40:23.916316Z",
     "start_time": "2022-03-28T16:40:23.914445Z"
    }
   },
   "outputs": [],
   "source": [
    "NDVI_2021_landsat = cloudest.set('SENSOR_ID', 'OLI_TIRS')"
   ]
  },
  {
   "cell_type": "code",
   "execution_count": 126,
   "id": "27ac7247",
   "metadata": {
    "ExecuteTime": {
     "end_time": "2022-03-28T16:40:23.919842Z",
     "start_time": "2022-03-28T16:40:23.917852Z"
    }
   },
   "outputs": [],
   "source": [
    "cloud_2021 = ee.Algorithms.Landsat.simpleCloudScore(NDVI_2021_landsat)"
   ]
  },
  {
   "cell_type": "code",
   "execution_count": 127,
   "id": "5dc81c5b",
   "metadata": {
    "ExecuteTime": {
     "end_time": "2022-03-28T16:40:23.922810Z",
     "start_time": "2022-03-28T16:40:23.920868Z"
    }
   },
   "outputs": [],
   "source": [
    "cloud_2021 = cloud_2021.select('cloud')"
   ]
  },
  {
   "cell_type": "code",
   "execution_count": 128,
   "id": "ff9b8a7d",
   "metadata": {
    "ExecuteTime": {
     "end_time": "2022-03-28T16:40:23.925404Z",
     "start_time": "2022-03-28T16:40:23.923778Z"
    }
   },
   "outputs": [],
   "source": [
    "palette_nubes = ['#1a9850', '#d73027']"
   ]
  },
  {
   "cell_type": "code",
   "execution_count": 129,
   "id": "b0297af0",
   "metadata": {
    "ExecuteTime": {
     "end_time": "2022-03-28T16:40:23.928413Z",
     "start_time": "2022-03-28T16:40:23.926541Z"
    }
   },
   "outputs": [],
   "source": [
    "resultados= [cloud_2021, cloudest]\n",
    "vis_params2=  [\n",
    "    {'palette':palette_nubes}, \n",
    "    vizParams]\n",
    "labels = [\n",
    "    'Nubes 2021',\n",
    "    'QM NDVI 2021']"
   ]
  },
  {
   "cell_type": "code",
   "execution_count": 130,
   "id": "59624c53",
   "metadata": {
    "ExecuteTime": {
     "end_time": "2022-03-28T16:40:26.855437Z",
     "start_time": "2022-03-28T16:40:23.929595Z"
    }
   },
   "outputs": [
    {
     "data": {
      "application/vnd.jupyter.widget-view+json": {
       "model_id": "ffdfdb90d59f4b7fb2252329197524a5",
       "version_major": 2,
       "version_minor": 0
      },
      "text/plain": [
       "GridspecLayout(children=(Output(layout=Layout(grid_area='widget001')), Output(layout=Layout(grid_area='widget0…"
      ]
     },
     "metadata": {},
     "output_type": "display_data"
    }
   ],
   "source": [
    "geemap.linked_maps(rows=1, cols=2, height=\"400px\", center=[-45, -75], zoom=4, \n",
    "                   ee_objects=resultados, vis_params=vis_params2, labels=labels, label_position=\"topright\")"
   ]
  },
  {
   "cell_type": "code",
   "execution_count": 131,
   "id": "10d867ca",
   "metadata": {
    "ExecuteTime": {
     "end_time": "2022-03-28T16:40:28.152350Z",
     "start_time": "2022-03-28T16:40:26.856528Z"
    }
   },
   "outputs": [
    {
     "data": {
      "text/plain": [
       "['B1',\n",
       " 'B2',\n",
       " 'B3',\n",
       " 'B4',\n",
       " 'B5',\n",
       " 'B6',\n",
       " 'B7',\n",
       " 'B8',\n",
       " 'B9',\n",
       " 'B10',\n",
       " 'B11',\n",
       " 'BQA',\n",
       " 'NDVI',\n",
       " 'NDWI',\n",
       " 'NDGI',\n",
       " 'SAVI',\n",
       " 'NDSI',\n",
       " 'NDBI',\n",
       " 'EVI',\n",
       " 'date',\n",
       " 'nube']"
      ]
     },
     "execution_count": 131,
     "metadata": {},
     "output_type": "execute_result"
    }
   ],
   "source": [
    "Tier1_sn.median().bandNames().getInfo()"
   ]
  },
  {
   "cell_type": "code",
   "execution_count": 132,
   "id": "f344f905",
   "metadata": {
    "ExecuteTime": {
     "end_time": "2022-03-28T16:40:28.155359Z",
     "start_time": "2022-03-28T16:40:28.153286Z"
    }
   },
   "outputs": [],
   "source": [
    "def llenado(image):\n",
    "    return image.where(cloud_2021.gt(10),Tier1_sn.median())"
   ]
  },
  {
   "cell_type": "code",
   "execution_count": 133,
   "id": "f6465699",
   "metadata": {
    "ExecuteTime": {
     "end_time": "2022-03-28T16:40:28.158468Z",
     "start_time": "2022-03-28T16:40:28.156188Z"
    }
   },
   "outputs": [],
   "source": [
    "img1m = llenado(cloudest)"
   ]
  },
  {
   "cell_type": "code",
   "execution_count": 134,
   "id": "4fecf00d",
   "metadata": {
    "ExecuteTime": {
     "end_time": "2022-03-28T16:40:28.161559Z",
     "start_time": "2022-03-28T16:40:28.159707Z"
    }
   },
   "outputs": [],
   "source": [
    "img1m_landsat = img1m.set('SENSOR_ID', 'OLI_TIRS')\n",
    "cloud_img1 = ee.Algorithms.Landsat.simpleCloudScore(img1m_landsat)\n",
    "cloud_img1 = cloud_img1.select('cloud')"
   ]
  },
  {
   "cell_type": "code",
   "execution_count": 135,
   "id": "cbf75071",
   "metadata": {
    "ExecuteTime": {
     "end_time": "2022-03-28T16:40:28.164514Z",
     "start_time": "2022-03-28T16:40:28.162787Z"
    }
   },
   "outputs": [],
   "source": [
    "resultados= [cloud_img1, img1m]\n",
    "vis_params2=  [\n",
    "    {'palette':palette_nubes}, \n",
    "    vizParams]\n",
    "labels = [\n",
    "    'Nubes Mosaico 1',\n",
    "    'Mosaico 1']"
   ]
  },
  {
   "cell_type": "code",
   "execution_count": 136,
   "id": "bcab44d4",
   "metadata": {
    "ExecuteTime": {
     "end_time": "2022-03-28T16:40:31.357421Z",
     "start_time": "2022-03-28T16:40:28.165671Z"
    }
   },
   "outputs": [
    {
     "data": {
      "application/vnd.jupyter.widget-view+json": {
       "model_id": "a6dc90e641d346208fbd3e64baca9917",
       "version_major": 2,
       "version_minor": 0
      },
      "text/plain": [
       "GridspecLayout(children=(Output(layout=Layout(grid_area='widget001')), Output(layout=Layout(grid_area='widget0…"
      ]
     },
     "metadata": {},
     "output_type": "display_data"
    }
   ],
   "source": [
    "geemap.linked_maps(rows=1, cols=2, height=\"400px\", center=[-45, -75], zoom=4, \n",
    "                   ee_objects=resultados, vis_params=vis_params2, labels=labels, label_position=\"topright\")"
   ]
  },
  {
   "cell_type": "code",
   "execution_count": 137,
   "id": "d90fb4fd",
   "metadata": {
    "ExecuteTime": {
     "end_time": "2022-03-28T16:40:31.360296Z",
     "start_time": "2022-03-28T16:40:31.358312Z"
    }
   },
   "outputs": [],
   "source": [
    "def llenado2(image):\n",
    "    return image.where(cloud_img1.gt(10), Tier2_sn.median())"
   ]
  },
  {
   "cell_type": "code",
   "execution_count": 138,
   "id": "524814b0",
   "metadata": {
    "ExecuteTime": {
     "end_time": "2022-03-28T16:40:31.363764Z",
     "start_time": "2022-03-28T16:40:31.361128Z"
    }
   },
   "outputs": [],
   "source": [
    "img2m = llenado2(img1m)"
   ]
  },
  {
   "cell_type": "code",
   "execution_count": 139,
   "id": "a04c18a8",
   "metadata": {
    "ExecuteTime": {
     "end_time": "2022-03-28T16:40:31.366959Z",
     "start_time": "2022-03-28T16:40:31.364945Z"
    }
   },
   "outputs": [],
   "source": [
    "img2m_landsat = img2.set('SENSOR_ID', 'OLI_TIRS')\n",
    "cloud_img2 = ee.Algorithms.Landsat.simpleCloudScore(img2m_landsat)\n",
    "cloud_img2 = cloud_img2.select('cloud')"
   ]
  },
  {
   "cell_type": "code",
   "execution_count": 140,
   "id": "b6e99cd7",
   "metadata": {
    "ExecuteTime": {
     "end_time": "2022-03-28T16:40:31.370254Z",
     "start_time": "2022-03-28T16:40:31.368323Z"
    }
   },
   "outputs": [],
   "source": [
    "resultados= [cloud_img2, img2m]\n",
    "vis_params2=  [\n",
    "    {'palette':palette_nubes}, \n",
    "    vizParams]\n",
    "labels = [\n",
    "    'Nubes Mosaico 2',\n",
    "    'Mosaico 2']"
   ]
  },
  {
   "cell_type": "code",
   "execution_count": 141,
   "id": "472ab70a",
   "metadata": {
    "ExecuteTime": {
     "end_time": "2022-03-28T16:40:31.373191Z",
     "start_time": "2022-03-28T16:40:31.371435Z"
    }
   },
   "outputs": [],
   "source": [
    "def llenado3(image):\n",
    "    return image.where(cloud_img2.gt(10),Tier3_sn.median())"
   ]
  },
  {
   "cell_type": "code",
   "execution_count": 142,
   "id": "e8d70266",
   "metadata": {
    "ExecuteTime": {
     "end_time": "2022-03-28T16:40:31.376008Z",
     "start_time": "2022-03-28T16:40:31.374305Z"
    }
   },
   "outputs": [],
   "source": [
    "img3m = llenado3(img2m)"
   ]
  },
  {
   "cell_type": "code",
   "execution_count": 143,
   "id": "ed06e753",
   "metadata": {
    "ExecuteTime": {
     "end_time": "2022-03-28T16:40:31.379097Z",
     "start_time": "2022-03-28T16:40:31.377155Z"
    }
   },
   "outputs": [],
   "source": [
    "img3m_landsat = img3.set('SENSOR_ID', 'OLI_TIRS')\n",
    "cloud_img3 = ee.Algorithms.Landsat.simpleCloudScore(img3m_landsat)\n",
    "cloud_img3 = cloud_img3.select('cloud')"
   ]
  },
  {
   "cell_type": "code",
   "execution_count": 144,
   "id": "e42124da",
   "metadata": {
    "ExecuteTime": {
     "end_time": "2022-03-28T16:40:31.382045Z",
     "start_time": "2022-03-28T16:40:31.380258Z"
    }
   },
   "outputs": [],
   "source": [
    "resultados= [cloud_img3, img3m]\n",
    "vis_params2=  [\n",
    "    {'palette':palette_nubes}, \n",
    "    vizParams]\n",
    "labels = [\n",
    "    'Nubes Mosaico 3',\n",
    "    'Mosaico 3']"
   ]
  },
  {
   "cell_type": "code",
   "execution_count": 145,
   "id": "496d088f",
   "metadata": {
    "ExecuteTime": {
     "end_time": "2022-03-28T16:40:31.385161Z",
     "start_time": "2022-03-28T16:40:31.383362Z"
    }
   },
   "outputs": [],
   "source": [
    "def llenado4(image):\n",
    "    return image.where(cloud_img3.gt(10),Tier4_sn.median())"
   ]
  },
  {
   "cell_type": "code",
   "execution_count": 146,
   "id": "c40d71ef",
   "metadata": {
    "ExecuteTime": {
     "end_time": "2022-03-28T16:40:31.388160Z",
     "start_time": "2022-03-28T16:40:31.386423Z"
    }
   },
   "outputs": [],
   "source": [
    "img4m = llenado4(img3m)"
   ]
  },
  {
   "cell_type": "code",
   "execution_count": 147,
   "id": "f796f2ce",
   "metadata": {
    "ExecuteTime": {
     "end_time": "2022-03-28T16:40:31.391166Z",
     "start_time": "2022-03-28T16:40:31.389197Z"
    }
   },
   "outputs": [],
   "source": [
    "img4m_landsat = img4m.set('SENSOR_ID', 'OLI_TIRS')\n",
    "cloud_img4 = ee.Algorithms.Landsat.simpleCloudScore(img4m_landsat)\n",
    "cloud_img4 = cloud_img4.select('cloud')"
   ]
  },
  {
   "cell_type": "code",
   "execution_count": 148,
   "id": "37d6a3a6",
   "metadata": {
    "ExecuteTime": {
     "end_time": "2022-03-28T16:40:31.394024Z",
     "start_time": "2022-03-28T16:40:31.392190Z"
    }
   },
   "outputs": [],
   "source": [
    "resultados= [cloud_img4, img4m]\n",
    "vis_params2=  [\n",
    "    {'palette':palette_nubes}, \n",
    "    vizParams]\n",
    "labels = [\n",
    "    'Nubes Mosaico 4',\n",
    "    'Mosaico 4']"
   ]
  },
  {
   "cell_type": "code",
   "execution_count": 149,
   "id": "0903900c",
   "metadata": {
    "ExecuteTime": {
     "end_time": "2022-03-28T16:40:31.396897Z",
     "start_time": "2022-03-28T16:40:31.395235Z"
    }
   },
   "outputs": [],
   "source": [
    "hansenImage = ee.Image('UMD/hansen/global_forest_change_2015')\n",
    "datamask = hansenImage.select('datamask')"
   ]
  },
  {
   "cell_type": "code",
   "execution_count": 150,
   "id": "34a62dc7",
   "metadata": {
    "ExecuteTime": {
     "end_time": "2022-03-28T16:40:31.399645Z",
     "start_time": "2022-03-28T16:40:31.398010Z"
    }
   },
   "outputs": [],
   "source": [
    "def llenado5(image):\n",
    "    return image.where(datamask.eq(2), Tier1_sn.median())"
   ]
  },
  {
   "cell_type": "code",
   "execution_count": 151,
   "id": "52fe0c9d",
   "metadata": {
    "ExecuteTime": {
     "end_time": "2022-03-28T16:40:31.402655Z",
     "start_time": "2022-03-28T16:40:31.400867Z"
    }
   },
   "outputs": [],
   "source": [
    "img5m = llenado5(img4m)"
   ]
  },
  {
   "cell_type": "code",
   "execution_count": 152,
   "id": "1dc41650",
   "metadata": {
    "ExecuteTime": {
     "end_time": "2022-03-28T16:40:31.405662Z",
     "start_time": "2022-03-28T16:40:31.403777Z"
    }
   },
   "outputs": [],
   "source": [
    "img5m_landsat = img5m.set('SENSOR_ID', 'OLI_TIRS')"
   ]
  },
  {
   "cell_type": "code",
   "execution_count": 153,
   "id": "76e1793f",
   "metadata": {
    "ExecuteTime": {
     "end_time": "2022-03-28T16:40:31.408637Z",
     "start_time": "2022-03-28T16:40:31.406890Z"
    }
   },
   "outputs": [],
   "source": [
    "resultados= [img4m, img5m]\n",
    "labels = [\n",
    "    'Mosaico 4',\n",
    "    'Mosaico 5']\n",
    "vis_params3=  [\n",
    "     vizParams, \n",
    "    vizParams]"
   ]
  },
  {
   "cell_type": "code",
   "execution_count": 154,
   "id": "622f958f",
   "metadata": {
    "ExecuteTime": {
     "end_time": "2022-03-28T16:40:34.971122Z",
     "start_time": "2022-03-28T16:40:31.409787Z"
    }
   },
   "outputs": [
    {
     "data": {
      "application/vnd.jupyter.widget-view+json": {
       "model_id": "cf7500e439894ccaa6c161da8d5641df",
       "version_major": 2,
       "version_minor": 0
      },
      "text/plain": [
       "GridspecLayout(children=(Output(layout=Layout(grid_area='widget001')), Output(layout=Layout(grid_area='widget0…"
      ]
     },
     "metadata": {},
     "output_type": "display_data"
    }
   ],
   "source": [
    "geemap.linked_maps(rows=1, cols=2, height=\"400px\", center=[-45, -75], zoom=4, \n",
    "                   ee_objects=resultados, vis_params=vis_params3, labels=labels, label_position=\"topright\")"
   ]
  },
  {
   "cell_type": "markdown",
   "id": "30564ae6",
   "metadata": {},
   "source": [
    "### Resultado"
   ]
  },
  {
   "cell_type": "code",
   "execution_count": 155,
   "id": "78a80ba0",
   "metadata": {
    "ExecuteTime": {
     "end_time": "2022-03-28T16:40:38.296717Z",
     "start_time": "2022-03-28T16:40:34.972208Z"
    }
   },
   "outputs": [
    {
     "data": {
      "application/vnd.jupyter.widget-view+json": {
       "model_id": "dd6e126d3ded4f599fea7a07b97c7acd",
       "version_major": 2,
       "version_minor": 0
      },
      "text/plain": [
       "Map(center=[-45, -70], controls=(WidgetControl(options=['position', 'transparent_bg'], widget=HBox(children=(T…"
      ]
     },
     "metadata": {},
     "output_type": "display_data"
    }
   ],
   "source": [
    "Map11.addLayer(img4m, vizParams, 'Mosaico 4')\n",
    "Map11.addLayer(img5m, vizParams, 'Mosaico 5')\n",
    "Map11"
   ]
  },
  {
   "cell_type": "markdown",
   "id": "32614c9a",
   "metadata": {},
   "source": [
    "#### Fechas Mosaico"
   ]
  },
  {
   "cell_type": "code",
   "execution_count": 156,
   "id": "09c1607b",
   "metadata": {
    "ExecuteTime": {
     "end_time": "2022-03-28T16:40:38.299697Z",
     "start_time": "2022-03-28T16:40:38.297744Z"
    }
   },
   "outputs": [],
   "source": [
    "options = {\"title\": 'Fechas mosaico Med',\n",
    "          \"xlabel\": 'date',\n",
    "          \"ylabel\": 'Pixel count',\n",
    "          \"colors\": ['#1d6b99']\n",
    "          }"
   ]
  },
  {
   "cell_type": "code",
   "execution_count": 157,
   "id": "81973b83",
   "metadata": {
    "ExecuteTime": {
     "end_time": "2022-03-28T16:40:38.303105Z",
     "start_time": "2022-03-28T16:40:38.301143Z"
    }
   },
   "outputs": [],
   "source": [
    "muestram = (img5m.select('date')).sample(**{\n",
    "    'region': geometry_exp,\n",
    "    'scale': 30,\n",
    "    'numPixels':500,\n",
    "    'tileScale': 2,\n",
    "})"
   ]
  },
  {
   "cell_type": "code",
   "execution_count": 158,
   "id": "3767d2bf",
   "metadata": {
    "ExecuteTime": {
     "end_time": "2022-03-28T16:41:02.835203Z",
     "start_time": "2022-03-28T16:40:38.304409Z"
    }
   },
   "outputs": [
    {
     "data": {
      "application/vnd.jupyter.widget-view+json": {
       "model_id": "7f34e20cc5844517997978f2003109d5",
       "version_major": 2,
       "version_minor": 0
      },
      "text/plain": [
       "VBox(children=(Figure(axes=[Axis(label='Pixel count', orientation='vertical', scale=LinearScale()), Axis(label…"
      ]
     },
     "metadata": {},
     "output_type": "display_data"
    }
   ],
   "source": [
    "chart.feature_histogram(muestram, property, **options)"
   ]
  },
  {
   "cell_type": "markdown",
   "id": "1aebd5eb",
   "metadata": {},
   "source": [
    "### Tasseled cap"
   ]
  },
  {
   "cell_type": "code",
   "execution_count": 159,
   "id": "2e5af562",
   "metadata": {
    "ExecuteTime": {
     "end_time": "2022-03-28T16:41:02.838090Z",
     "start_time": "2022-03-28T16:41:02.836227Z"
    }
   },
   "outputs": [],
   "source": [
    "tasse_img5m = img5m.select(['B2', 'B3', 'B4', 'B5', 'B6', 'B7'])"
   ]
  },
  {
   "cell_type": "code",
   "execution_count": 160,
   "id": "a8d152b7",
   "metadata": {
    "ExecuteTime": {
     "end_time": "2022-03-28T16:41:02.841218Z",
     "start_time": "2022-03-28T16:41:02.839088Z"
    }
   },
   "outputs": [],
   "source": [
    "arrayimage1dm = tasse_img5m.toArray()"
   ]
  },
  {
   "cell_type": "code",
   "execution_count": 161,
   "id": "c15b3355",
   "metadata": {
    "ExecuteTime": {
     "end_time": "2022-03-28T16:41:02.844245Z",
     "start_time": "2022-03-28T16:41:02.842428Z"
    }
   },
   "outputs": [],
   "source": [
    "arrayimage2dm = arrayimage1dm.toArray(1)"
   ]
  },
  {
   "cell_type": "code",
   "execution_count": 162,
   "id": "a0a5dcce",
   "metadata": {
    "ExecuteTime": {
     "end_time": "2022-03-28T16:41:02.847246Z",
     "start_time": "2022-03-28T16:41:02.845286Z"
    }
   },
   "outputs": [],
   "source": [
    "componentesm = ee.Image(coef)\\\n",
    "                .matrixMultiply(arrayimage2dm) \\\n",
    "                .arrayProject([0])\\\n",
    "                .arrayFlatten(\n",
    "                [['brightness','greenness','wetness','fourth','fifth','sixth']])"
   ]
  },
  {
   "cell_type": "code",
   "execution_count": 163,
   "id": "15b3890e",
   "metadata": {
    "ExecuteTime": {
     "end_time": "2022-03-28T16:41:04.679963Z",
     "start_time": "2022-03-28T16:41:02.848507Z"
    }
   },
   "outputs": [
    {
     "data": {
      "application/vnd.jupyter.widget-view+json": {
       "model_id": "dd6e126d3ded4f599fea7a07b97c7acd",
       "version_major": 2,
       "version_minor": 0
      },
      "text/plain": [
       "Map(center=[-45, -70], controls=(WidgetControl(options=['position', 'transparent_bg'], widget=HBox(children=(T…"
      ]
     },
     "metadata": {},
     "output_type": "display_data"
    }
   ],
   "source": [
    "Map11.addLayer(componentesm,vizParamstess, 'Tesseled cap')\n",
    "Map11"
   ]
  },
  {
   "cell_type": "markdown",
   "id": "b466df41",
   "metadata": {},
   "source": [
    "### Combinación de bandas"
   ]
  },
  {
   "cell_type": "code",
   "execution_count": 164,
   "id": "2dd4089f",
   "metadata": {
    "ExecuteTime": {
     "end_time": "2022-03-28T16:41:04.683020Z",
     "start_time": "2022-03-28T16:41:04.680908Z"
    }
   },
   "outputs": [],
   "source": [
    "img_final_m = img5m.select('B1','B2','B3','B4','B5','B6','B7','NDVI','NDWI','NDGI','SAVI','NDSI','NDBI','EVI')\n",
    "img_final_m = img_final_m.addBands(componentesm) "
   ]
  },
  {
   "cell_type": "markdown",
   "id": "1e872319",
   "metadata": {},
   "source": [
    "## Clasificación"
   ]
  },
  {
   "cell_type": "code",
   "execution_count": 165,
   "id": "8093616d",
   "metadata": {
    "ExecuteTime": {
     "end_time": "2022-03-28T16:41:12.262578Z",
     "start_time": "2022-03-28T16:41:04.684497Z"
    }
   },
   "outputs": [],
   "source": [
    "test1 = os.path.join(work_dir,'roi_2.shp')\n",
    "test1 = geemap.shp_to_ee(test1)\n",
    "Map13.addLayer(test1, {}, 'Áreas de entrenamiento')"
   ]
  },
  {
   "cell_type": "code",
   "execution_count": 166,
   "id": "c266e87a",
   "metadata": {
    "ExecuteTime": {
     "end_time": "2022-03-28T16:41:12.268586Z",
     "start_time": "2022-03-28T16:41:12.263518Z"
    }
   },
   "outputs": [
    {
     "data": {
      "application/vnd.jupyter.widget-view+json": {
       "model_id": "78afab0f645b469ea7d07e6da79f8f80",
       "version_major": 2,
       "version_minor": 0
      },
      "text/plain": [
       "Map(center=[-45, -70], controls=(WidgetControl(options=['position', 'transparent_bg'], widget=HBox(children=(T…"
      ]
     },
     "metadata": {},
     "output_type": "display_data"
    }
   ],
   "source": [
    "Map13"
   ]
  },
  {
   "cell_type": "code",
   "execution_count": 167,
   "id": "613b1401",
   "metadata": {
    "ExecuteTime": {
     "end_time": "2022-03-28T16:41:12.272598Z",
     "start_time": "2022-03-28T16:41:12.270122Z"
    }
   },
   "outputs": [],
   "source": [
    "data_QM = img_final.sampleRegions(**{\n",
    "    'collection': test1,\n",
    "    'properties': ['C_ID'],\n",
    "    'scale': 30,\n",
    "    'tileScale': 2,\n",
    "})"
   ]
  },
  {
   "cell_type": "code",
   "execution_count": 168,
   "id": "35ec1522",
   "metadata": {
    "ExecuteTime": {
     "end_time": "2022-03-28T16:41:12.275190Z",
     "start_time": "2022-03-28T16:41:12.273395Z"
    }
   },
   "outputs": [],
   "source": [
    "data_Med = img_final_m.sampleRegions(**{\n",
    "    'collection': test1,\n",
    "    'properties': ['C_ID'],\n",
    "    'scale': 30,\n",
    "    'tileScale': 2,\n",
    "})"
   ]
  },
  {
   "cell_type": "code",
   "execution_count": 169,
   "id": "0be21169",
   "metadata": {
    "ExecuteTime": {
     "end_time": "2022-03-28T16:41:12.278044Z",
     "start_time": "2022-03-28T16:41:12.276448Z"
    }
   },
   "outputs": [],
   "source": [
    "# print(data_QM.size().getInfo())"
   ]
  },
  {
   "cell_type": "code",
   "execution_count": 170,
   "id": "0cdba8cd",
   "metadata": {
    "ExecuteTime": {
     "end_time": "2022-03-28T16:42:43.756764Z",
     "start_time": "2022-03-28T16:41:12.279314Z"
    }
   },
   "outputs": [
    {
     "name": "stdout",
     "output_type": "stream",
     "text": [
      "{'type': 'Feature', 'geometry': None, 'id': '0_0', 'properties': {'B1': 0.1711932271718979, 'B2': 0.15885013341903687, 'B3': 0.1303716003894806, 'B4': 0.13158801198005676, 'B5': 0.23759543895721436, 'B6': 0.2164154201745987, 'B7': 0.17856329679489136, 'C_ID': 23, 'EVI': 0.3171036278422523, 'NDBI': -0.04665090888738632, 'NDGI': -0.004643508233129978, 'NDSI': -0.24811719357967377, 'NDVI': 0.28714025020599365, 'NDWI': -0.2913952171802521, 'SAVI': 0.1829431293178317, 'brightness': 0.42311360823214056, 'fifth': 0.06315547140985725, 'fourth': -0.08169369956403968, 'greenness': 0.009820421887934201, 'sixth': -0.03373689006417989, 'wetness': -0.06155617924481632}}\n"
     ]
    }
   ],
   "source": [
    "print(data_QM.first().getInfo())"
   ]
  },
  {
   "cell_type": "code",
   "execution_count": 171,
   "id": "c1abe14b",
   "metadata": {
    "ExecuteTime": {
     "end_time": "2022-03-28T16:42:43.759935Z",
     "start_time": "2022-03-28T16:42:43.757775Z"
    }
   },
   "outputs": [],
   "source": [
    "tablas = ee.batch.Export.table.toDrive(**{\n",
    "  'collection': data_QM,\n",
    "  'description': 'TM_summer_QM',\n",
    "  'fileFormat': 'CSV'\n",
    "})\n",
    "\n",
    "tablas2 = ee.batch.Export.table.toDrive(**{\n",
    "  'collection': data_Med,\n",
    "  'description': 'TM_summer_Med',\n",
    "  'fileFormat': 'CSV'\n",
    "})\n"
   ]
  },
  {
   "cell_type": "code",
   "execution_count": 172,
   "id": "ed9ca5d9",
   "metadata": {
    "ExecuteTime": {
     "end_time": "2022-03-28T16:42:43.762648Z",
     "start_time": "2022-03-28T16:42:43.761216Z"
    }
   },
   "outputs": [],
   "source": [
    "# tablas.start()\n",
    "# tablas2.start()"
   ]
  },
  {
   "cell_type": "markdown",
   "id": "24490993",
   "metadata": {},
   "source": [
    "### Matrix Correlation "
   ]
  },
  {
   "cell_type": "code",
   "execution_count": 175,
   "id": "0a4283a1",
   "metadata": {
    "ExecuteTime": {
     "end_time": "2022-03-28T16:46:18.585644Z",
     "start_time": "2022-03-28T16:46:18.583643Z"
    }
   },
   "outputs": [],
   "source": [
    "work_dir = os.path.expanduser('../Data/')\n",
    "data_QM_csv = os.path.join(work_dir, 'TM_summer_QM.csv')"
   ]
  },
  {
   "cell_type": "code",
   "execution_count": 178,
   "id": "c756fdb8",
   "metadata": {
    "ExecuteTime": {
     "end_time": "2022-03-28T16:46:51.629235Z",
     "start_time": "2022-03-28T16:46:51.583852Z"
    }
   },
   "outputs": [],
   "source": [
    "data_QM_df= pd.read_csv(data_QM_csv, sep=';')"
   ]
  },
  {
   "cell_type": "code",
   "execution_count": 180,
   "id": "69758571",
   "metadata": {
    "ExecuteTime": {
     "end_time": "2022-03-28T16:47:14.887032Z",
     "start_time": "2022-03-28T16:47:14.848200Z"
    }
   },
   "outputs": [
    {
     "data": {
      "text/html": [
       "<div>\n",
       "<style scoped>\n",
       "    .dataframe tbody tr th:only-of-type {\n",
       "        vertical-align: middle;\n",
       "    }\n",
       "\n",
       "    .dataframe tbody tr th {\n",
       "        vertical-align: top;\n",
       "    }\n",
       "\n",
       "    .dataframe thead th {\n",
       "        text-align: right;\n",
       "    }\n",
       "</style>\n",
       "<table border=\"1\" class=\"dataframe\">\n",
       "  <thead>\n",
       "    <tr style=\"text-align: right;\">\n",
       "      <th></th>\n",
       "      <th>C_ID</th>\n",
       "      <th>B1</th>\n",
       "      <th>B2</th>\n",
       "      <th>B3</th>\n",
       "      <th>B4</th>\n",
       "      <th>B5</th>\n",
       "      <th>B6</th>\n",
       "      <th>B7</th>\n",
       "      <th>EVI</th>\n",
       "      <th>NDBI</th>\n",
       "      <th>...</th>\n",
       "      <th>NDSI</th>\n",
       "      <th>NDVI</th>\n",
       "      <th>NDWI</th>\n",
       "      <th>SAVI</th>\n",
       "      <th>brightness</th>\n",
       "      <th>fifth</th>\n",
       "      <th>fourth</th>\n",
       "      <th>greenness</th>\n",
       "      <th>sixth</th>\n",
       "      <th>wetness</th>\n",
       "    </tr>\n",
       "  </thead>\n",
       "  <tbody>\n",
       "    <tr>\n",
       "      <th>count</th>\n",
       "      <td>25398.000000</td>\n",
       "      <td>2.539800e+04</td>\n",
       "      <td>2.539800e+04</td>\n",
       "      <td>2.539800e+04</td>\n",
       "      <td>2.539800e+04</td>\n",
       "      <td>2.539800e+04</td>\n",
       "      <td>25398.000000</td>\n",
       "      <td>25398.000000</td>\n",
       "      <td>2.539800e+04</td>\n",
       "      <td>25398.000000</td>\n",
       "      <td>...</td>\n",
       "      <td>25398.000000</td>\n",
       "      <td>25398.000000</td>\n",
       "      <td>25398.000000</td>\n",
       "      <td>2.539800e+04</td>\n",
       "      <td>2.539800e+04</td>\n",
       "      <td>2.539800e+04</td>\n",
       "      <td>25398.000000</td>\n",
       "      <td>2.539800e+04</td>\n",
       "      <td>2.539800e+04</td>\n",
       "      <td>2.539800e+04</td>\n",
       "    </tr>\n",
       "    <tr>\n",
       "      <th>mean</th>\n",
       "      <td>17.135129</td>\n",
       "      <td>1.284531e+04</td>\n",
       "      <td>1.563889e+04</td>\n",
       "      <td>1.474138e+04</td>\n",
       "      <td>1.918324e+04</td>\n",
       "      <td>1.477284e+04</td>\n",
       "      <td>27.279328</td>\n",
       "      <td>925.830445</td>\n",
       "      <td>2.507203e+14</td>\n",
       "      <td>0.625717</td>\n",
       "      <td>...</td>\n",
       "      <td>-1.350483</td>\n",
       "      <td>-1.001065</td>\n",
       "      <td>0.806927</td>\n",
       "      <td>8.261910e+07</td>\n",
       "      <td>3.696555e+14</td>\n",
       "      <td>-4.544833e+08</td>\n",
       "      <td>-0.080431</td>\n",
       "      <td>-5.818860e+08</td>\n",
       "      <td>-2.842744e+07</td>\n",
       "      <td>7.377760e+12</td>\n",
       "    </tr>\n",
       "    <tr>\n",
       "      <th>std</th>\n",
       "      <td>15.701254</td>\n",
       "      <td>3.809699e+05</td>\n",
       "      <td>4.253536e+05</td>\n",
       "      <td>4.132846e+05</td>\n",
       "      <td>4.787432e+05</td>\n",
       "      <td>4.158603e+05</td>\n",
       "      <td>460.376837</td>\n",
       "      <td>2306.142827</td>\n",
       "      <td>4.262508e+15</td>\n",
       "      <td>197.072734</td>\n",
       "      <td>...</td>\n",
       "      <td>124.851917</td>\n",
       "      <td>241.664005</td>\n",
       "      <td>101.741826</td>\n",
       "      <td>6.861713e+10</td>\n",
       "      <td>2.125141e+15</td>\n",
       "      <td>9.293234e+10</td>\n",
       "      <td>0.060272</td>\n",
       "      <td>6.774576e+10</td>\n",
       "      <td>3.203420e+09</td>\n",
       "      <td>2.926752e+14</td>\n",
       "    </tr>\n",
       "    <tr>\n",
       "      <th>min</th>\n",
       "      <td>1.000000</td>\n",
       "      <td>8.567417e-02</td>\n",
       "      <td>6.435764e-02</td>\n",
       "      <td>3.599651e-02</td>\n",
       "      <td>1.895644e-02</td>\n",
       "      <td>1.747665e-03</td>\n",
       "      <td>-6830.000000</td>\n",
       "      <td>-8830.000000</td>\n",
       "      <td>-7.107745e+16</td>\n",
       "      <td>-8440.000000</td>\n",
       "      <td>...</td>\n",
       "      <td>-8520.000000</td>\n",
       "      <td>-11300.000000</td>\n",
       "      <td>-3950.000000</td>\n",
       "      <td>-3.540000e+12</td>\n",
       "      <td>4.646128e-02</td>\n",
       "      <td>-4.060000e+12</td>\n",
       "      <td>-0.555704</td>\n",
       "      <td>-4.400000e+12</td>\n",
       "      <td>-3.610000e+11</td>\n",
       "      <td>-4.430000e+12</td>\n",
       "    </tr>\n",
       "    <tr>\n",
       "      <th>25%</th>\n",
       "      <td>5.000000</td>\n",
       "      <td>1.103374e-01</td>\n",
       "      <td>8.534696e-02</td>\n",
       "      <td>6.358406e-02</td>\n",
       "      <td>3.683014e-02</td>\n",
       "      <td>1.579460e-02</td>\n",
       "      <td>0.001891</td>\n",
       "      <td>0.021656</td>\n",
       "      <td>-3.555014e-01</td>\n",
       "      <td>-0.772702</td>\n",
       "      <td>...</td>\n",
       "      <td>-0.232646</td>\n",
       "      <td>-0.598372</td>\n",
       "      <td>-0.552801</td>\n",
       "      <td>-1.190492e-01</td>\n",
       "      <td>1.222421e-01</td>\n",
       "      <td>-3.003202e-02</td>\n",
       "      <td>-0.079854</td>\n",
       "      <td>-1.023404e-01</td>\n",
       "      <td>-6.456603e-02</td>\n",
       "      <td>3.074901e-02</td>\n",
       "    </tr>\n",
       "    <tr>\n",
       "      <th>50%</th>\n",
       "      <td>9.000000</td>\n",
       "      <td>1.412835e-01</td>\n",
       "      <td>1.232640e-01</td>\n",
       "      <td>1.014405e-01</td>\n",
       "      <td>6.362331e-02</td>\n",
       "      <td>1.610242e-01</td>\n",
       "      <td>0.051792</td>\n",
       "      <td>0.062477</td>\n",
       "      <td>6.550696e-02</td>\n",
       "      <td>-0.598878</td>\n",
       "      <td>...</td>\n",
       "      <td>0.349446</td>\n",
       "      <td>-0.001746</td>\n",
       "      <td>0.011167</td>\n",
       "      <td>-1.286849e-03</td>\n",
       "      <td>2.278017e-01</td>\n",
       "      <td>5.151238e-03</td>\n",
       "      <td>-0.062529</td>\n",
       "      <td>-4.615741e-02</td>\n",
       "      <td>-3.727913e-02</td>\n",
       "      <td>5.717862e-02</td>\n",
       "    </tr>\n",
       "    <tr>\n",
       "      <th>75%</th>\n",
       "      <td>31.000000</td>\n",
       "      <td>1.726962e-01</td>\n",
       "      <td>1.700213e-01</td>\n",
       "      <td>1.572161e-01</td>\n",
       "      <td>1.255348e-01</td>\n",
       "      <td>2.883047e-01</td>\n",
       "      <td>0.130126</td>\n",
       "      <td>0.377068</td>\n",
       "      <td>5.687728e-01</td>\n",
       "      <td>-0.355998</td>\n",
       "      <td>...</td>\n",
       "      <td>0.961682</td>\n",
       "      <td>0.677103</td>\n",
       "      <td>0.755526</td>\n",
       "      <td>3.403709e-01</td>\n",
       "      <td>3.655410e-01</td>\n",
       "      <td>3.370881e-02</td>\n",
       "      <td>-0.052063</td>\n",
       "      <td>9.266327e-02</td>\n",
       "      <td>-1.892059e-02</td>\n",
       "      <td>8.629109e-02</td>\n",
       "    </tr>\n",
       "    <tr>\n",
       "      <th>max</th>\n",
       "      <td>60.000000</td>\n",
       "      <td>1.462188e+07</td>\n",
       "      <td>1.588496e+07</td>\n",
       "      <td>1.587377e+07</td>\n",
       "      <td>1.659528e+07</td>\n",
       "      <td>1.617296e+07</td>\n",
       "      <td>9730.000000</td>\n",
       "      <td>9760.000000</td>\n",
       "      <td>7.632614e+16</td>\n",
       "      <td>7750.000000</td>\n",
       "      <td>...</td>\n",
       "      <td>4000.000000</td>\n",
       "      <td>9420.000000</td>\n",
       "      <td>8930.000000</td>\n",
       "      <td>3.490000e+12</td>\n",
       "      <td>2.724305e+16</td>\n",
       "      <td>4.090000e+12</td>\n",
       "      <td>-0.015330</td>\n",
       "      <td>3.080000e+12</td>\n",
       "      <td>-1.274769e-03</td>\n",
       "      <td>1.476473e+16</td>\n",
       "    </tr>\n",
       "  </tbody>\n",
       "</table>\n",
       "<p>8 rows × 21 columns</p>\n",
       "</div>"
      ],
      "text/plain": [
       "               C_ID            B1            B2            B3            B4  \\\n",
       "count  25398.000000  2.539800e+04  2.539800e+04  2.539800e+04  2.539800e+04   \n",
       "mean      17.135129  1.284531e+04  1.563889e+04  1.474138e+04  1.918324e+04   \n",
       "std       15.701254  3.809699e+05  4.253536e+05  4.132846e+05  4.787432e+05   \n",
       "min        1.000000  8.567417e-02  6.435764e-02  3.599651e-02  1.895644e-02   \n",
       "25%        5.000000  1.103374e-01  8.534696e-02  6.358406e-02  3.683014e-02   \n",
       "50%        9.000000  1.412835e-01  1.232640e-01  1.014405e-01  6.362331e-02   \n",
       "75%       31.000000  1.726962e-01  1.700213e-01  1.572161e-01  1.255348e-01   \n",
       "max       60.000000  1.462188e+07  1.588496e+07  1.587377e+07  1.659528e+07   \n",
       "\n",
       "                 B5            B6            B7           EVI          NDBI  \\\n",
       "count  2.539800e+04  25398.000000  25398.000000  2.539800e+04  25398.000000   \n",
       "mean   1.477284e+04     27.279328    925.830445  2.507203e+14      0.625717   \n",
       "std    4.158603e+05    460.376837   2306.142827  4.262508e+15    197.072734   \n",
       "min    1.747665e-03  -6830.000000  -8830.000000 -7.107745e+16  -8440.000000   \n",
       "25%    1.579460e-02      0.001891      0.021656 -3.555014e-01     -0.772702   \n",
       "50%    1.610242e-01      0.051792      0.062477  6.550696e-02     -0.598878   \n",
       "75%    2.883047e-01      0.130126      0.377068  5.687728e-01     -0.355998   \n",
       "max    1.617296e+07   9730.000000   9760.000000  7.632614e+16   7750.000000   \n",
       "\n",
       "       ...          NDSI          NDVI          NDWI          SAVI  \\\n",
       "count  ...  25398.000000  25398.000000  25398.000000  2.539800e+04   \n",
       "mean   ...     -1.350483     -1.001065      0.806927  8.261910e+07   \n",
       "std    ...    124.851917    241.664005    101.741826  6.861713e+10   \n",
       "min    ...  -8520.000000 -11300.000000  -3950.000000 -3.540000e+12   \n",
       "25%    ...     -0.232646     -0.598372     -0.552801 -1.190492e-01   \n",
       "50%    ...      0.349446     -0.001746      0.011167 -1.286849e-03   \n",
       "75%    ...      0.961682      0.677103      0.755526  3.403709e-01   \n",
       "max    ...   4000.000000   9420.000000   8930.000000  3.490000e+12   \n",
       "\n",
       "         brightness         fifth        fourth     greenness         sixth  \\\n",
       "count  2.539800e+04  2.539800e+04  25398.000000  2.539800e+04  2.539800e+04   \n",
       "mean   3.696555e+14 -4.544833e+08     -0.080431 -5.818860e+08 -2.842744e+07   \n",
       "std    2.125141e+15  9.293234e+10      0.060272  6.774576e+10  3.203420e+09   \n",
       "min    4.646128e-02 -4.060000e+12     -0.555704 -4.400000e+12 -3.610000e+11   \n",
       "25%    1.222421e-01 -3.003202e-02     -0.079854 -1.023404e-01 -6.456603e-02   \n",
       "50%    2.278017e-01  5.151238e-03     -0.062529 -4.615741e-02 -3.727913e-02   \n",
       "75%    3.655410e-01  3.370881e-02     -0.052063  9.266327e-02 -1.892059e-02   \n",
       "max    2.724305e+16  4.090000e+12     -0.015330  3.080000e+12 -1.274769e-03   \n",
       "\n",
       "            wetness  \n",
       "count  2.539800e+04  \n",
       "mean   7.377760e+12  \n",
       "std    2.926752e+14  \n",
       "min   -4.430000e+12  \n",
       "25%    3.074901e-02  \n",
       "50%    5.717862e-02  \n",
       "75%    8.629109e-02  \n",
       "max    1.476473e+16  \n",
       "\n",
       "[8 rows x 21 columns]"
      ]
     },
     "execution_count": 180,
     "metadata": {},
     "output_type": "execute_result"
    }
   ],
   "source": [
    "data_QM_df.describe()"
   ]
  },
  {
   "cell_type": "code",
   "execution_count": 181,
   "id": "0d2d176a",
   "metadata": {
    "ExecuteTime": {
     "end_time": "2022-03-28T16:49:28.331429Z",
     "start_time": "2022-03-28T16:49:28.303586Z"
    }
   },
   "outputs": [],
   "source": [
    "corr_bands = data_QM_df.corr().round(2)"
   ]
  },
  {
   "cell_type": "code",
   "execution_count": 186,
   "id": "30c38a38",
   "metadata": {
    "ExecuteTime": {
     "end_time": "2022-03-28T16:52:45.160721Z",
     "start_time": "2022-03-28T16:52:44.271747Z"
    }
   },
   "outputs": [
    {
     "data": {
      "image/png": "[encoded data removed]",
      "text/plain": [
       "<Figure size 1440x1080 with 2 Axes>"
      ]
     },
     "metadata": {
      "needs_background": "light"
     },
     "output_type": "display_data"
    }
   ],
   "source": [
    "plt.figure(figsize=(20,15))\n",
    "plot= sns.heatmap(corr_bands, annot=True)"
   ]
  },
  {
   "cell_type": "code",
   "execution_count": null,
   "id": "4523b465",
   "metadata": {},
   "outputs": [],
   "source": [
    "data_med_csv = os.path.join(work_dir, 'TM_summer_Med.csv')\n",
    "data_QM_df= pd.read_csv(data_QM_csv, sep=';')"
   ]
  },
  {
   "cell_type": "code",
   "execution_count": null,
   "id": "71a3713f",
   "metadata": {},
   "outputs": [],
   "source": []
  },
  {
   "cell_type": "code",
   "execution_count": null,
   "id": "7f38aeb5",
   "metadata": {},
   "outputs": [],
   "source": []
  },
  {
   "cell_type": "markdown",
   "id": "65efc69f",
   "metadata": {},
   "source": [
    "### Muestras y datos de validación"
   ]
  },
  {
   "cell_type": "code",
   "execution_count": null,
   "id": "9f4082a9",
   "metadata": {
    "ExecuteTime": {
     "end_time": "2022-03-28T16:38:29.070587Z",
     "start_time": "2022-03-28T16:38:29.067707Z"
    }
   },
   "outputs": [],
   "source": [
    "# Guardamos las bandas\n",
    "\n",
    "# Esta propiedad guarda las clases de landcover\n",
    "# label = 'b1'\n",
    "label = 'IDH'\n",
    "label1 = 'ID'\n",
    "label_train ='C_ID'\n",
    "# Overlay the points on the imagery to get training.\n",
    "# sample = landsat.select(bands).sampleRegions(**{\n",
    "#   'collection': points,\n",
    "#   'properties': [label],\n",
    "#   'scale': 30\n",
    "# })\n",
    "\n",
    "# # Adds a column of deterministic pseudorandom numbers. \n",
    "# sample = sample.randomColumn()\n",
    "\n",
    "# split = 0.7 \n",
    "\n",
    "# training = sample.filter(ee.Filter.lt('random', split))\n",
    "# validation = sample.filter(ee.Filter.gte('random', split))\n",
    "bands = ['B1',\n",
    " 'B2',\n",
    " 'B3',\n",
    " 'B4',\n",
    " 'B5',\n",
    " 'B6',\n",
    " 'B7',\n",
    " 'NDVI',\n",
    " 'NDWI',\n",
    " 'NDGI',\n",
    " 'SAVI',\n",
    " 'NDSI',\n",
    " 'EVI',\n",
    " 'brightness',\n",
    " 'greenness',\n",
    " 'wetness',\n",
    " 'fourth',\n",
    " 'fifth',\n",
    " 'sixth'\n",
    "]\n",
    "bands2 = ['B1',\n",
    " 'B2',\n",
    " 'B3',\n",
    " 'B4',\n",
    " 'B5',\n",
    " 'B6',\n",
    " 'B7',\n",
    " 'NDVI',\n",
    " 'NDWI',\n",
    " 'NDGI',\n",
    " 'SAVI',\n",
    " 'NDSI',\n",
    "]\n",
    "bands1 = ['B1',\n",
    " 'B2',\n",
    " 'B3',\n",
    " 'B4',\n",
    " 'B5',\n",
    " 'B6',\n",
    " 'B7',\n",
    " 'B8',\n",
    " 'B9',\n",
    " 'B10',\n",
    " 'B11']"
   ]
  },
  {
   "cell_type": "markdown",
   "id": "bb2b3b9b",
   "metadata": {},
   "source": [
    "### Entrenando el modelo"
   ]
  },
  {
   "cell_type": "code",
   "execution_count": null,
   "id": "d2eab14d",
   "metadata": {
    "ExecuteTime": {
     "end_time": "2022-03-28T16:38:29.147309Z",
     "start_time": "2022-03-28T16:38:29.143333Z"
    }
   },
   "outputs": [],
   "source": [
    "classifier_QM = ee.Classifier.smileRandomForest(100).train(data_QM,label_train,bands)"
   ]
  },
  {
   "cell_type": "code",
   "execution_count": null,
   "id": "9a0dbf8e",
   "metadata": {
    "ExecuteTime": {
     "end_time": "2022-03-28T16:38:29.148151Z",
     "start_time": "2022-03-28T16:38:29.148143Z"
    }
   },
   "outputs": [],
   "source": [
    "classifier_Med = ee.Classifier.smileRandomForest(100).train(data_Med,label_train,bands)"
   ]
  },
  {
   "cell_type": "code",
   "execution_count": null,
   "id": "effbf7b9",
   "metadata": {
    "ExecuteTime": {
     "end_time": "2022-03-28T16:38:29.154762Z",
     "start_time": "2022-03-28T16:38:29.151110Z"
    }
   },
   "outputs": [],
   "source": [
    "result_QM = img_final.select(bands).classify(classifier_QM)"
   ]
  },
  {
   "cell_type": "code",
   "execution_count": null,
   "id": "dccc1b73",
   "metadata": {
    "ExecuteTime": {
     "end_time": "2022-03-28T16:38:29.155922Z",
     "start_time": "2022-03-28T16:38:29.155911Z"
    }
   },
   "outputs": [],
   "source": [
    "result_Med = img_final_m.select(bands).classify(classifier_Med)"
   ]
  },
  {
   "cell_type": "code",
   "execution_count": null,
   "id": "54f1677d",
   "metadata": {
    "ExecuteTime": {
     "end_time": "2022-03-28T16:38:29.160233Z",
     "start_time": "2022-03-28T16:38:29.156795Z"
    }
   },
   "outputs": [],
   "source": [
    "explained_QM = ee.Classifier.explain(classifier_QM)"
   ]
  },
  {
   "cell_type": "code",
   "execution_count": null,
   "id": "89147e20",
   "metadata": {
    "ExecuteTime": {
     "end_time": "2022-03-28T16:38:29.161038Z",
     "start_time": "2022-03-28T16:38:29.161030Z"
    }
   },
   "outputs": [],
   "source": [
    "explained_QM.getInfo()"
   ]
  },
  {
   "cell_type": "code",
   "execution_count": null,
   "id": "f0f87683",
   "metadata": {
    "ExecuteTime": {
     "end_time": "2022-03-28T16:38:29.167254Z",
     "start_time": "2022-03-28T16:38:29.163867Z"
    }
   },
   "outputs": [],
   "source": [
    "explained_Med = ee.Classifier.explain(classifier_Med)"
   ]
  },
  {
   "cell_type": "code",
   "execution_count": null,
   "id": "9a52ddb4",
   "metadata": {
    "ExecuteTime": {
     "end_time": "2022-03-28T16:38:29.168138Z",
     "start_time": "2022-03-28T16:38:29.168129Z"
    }
   },
   "outputs": [],
   "source": [
    "explained_Med.getInfo()"
   ]
  },
  {
   "cell_type": "markdown",
   "id": "7df7206f",
   "metadata": {},
   "source": [
    "### Categorizando"
   ]
  },
  {
   "cell_type": "code",
   "execution_count": null,
   "id": "997c3cbf",
   "metadata": {
    "ExecuteTime": {
     "end_time": "2022-03-28T16:38:29.242487Z",
     "start_time": "2022-03-28T16:38:29.239330Z"
    }
   },
   "outputs": [],
   "source": [
    "class_values2 = [1,2,3,4,5,6,7,8,9,10,11,12,13,14,15,16,17,19,20,23,30,31,32,33,34,35,36,39,40,43,45,47,48,57,58,60]\n",
    "\n",
    "class_palette2 = ['d1fbff', # 1 Hielo\n",
    " 'bfdadd', #2 lengua glaciar\n",
    " 'b9bfbf', #3 glaciar cubierto\n",
    " 'fe40fe', #4 nieve\n",
    " '8ac1ff', #5 fiordo glaciar\n",
    " '0c407b', #6 mar\n",
    " '2e8da0', #7 lago continental\n",
    " '16b2d1', #8 lago glaciar\n",
    " '27e1d8', #9 río\n",
    " 'eeb514', #10 suelo desnudo\n",
    " '927012', #11 cárcavas erosión \n",
    " 'e98c0f', #12 suelo río\n",
    " 'f7e8bd', #13 suelo duna/arenal\n",
    " '5b5b5b', #14 caminos\n",
    " 'e57104', #15 suelo desnudo / poca vegetación\n",
    " '5d1412', #16 tuberas / musgos\n",
    " '5d1412', #17 mallín                 \n",
    " '161163', #19 áreas inundables\n",
    " 'fff300', #20 plantación adulto\n",
    " 'ff0000', #23 ciudad urbano\n",
    " 'dee842', #30 praderas pastoreo             \n",
    " 'ced118', #31 estepa abierta\n",
    " '7a7c0f', #32 estepa cerrada\n",
    " 'c39700', #33 palizales\n",
    " 'a1ff8a', #34 preaderas\n",
    " '138665', #35 matorrales densos\n",
    " '1bbd8e', #36 matorrales abiertos\n",
    " '195a09', #39 primario adulto\n",
    " '27c41d', #40 secundario adulto\n",
    " 'b2ff00', #43 renoval inicial\n",
    " 'f36605', #45 degradado\n",
    " '7729db', #47 Primario adulto caduco\n",
    " '9e60ec', #48 Secundario adulto caduco\n",
    " '7000ff', #57 Mixto Primario\n",
    " 'c598ff', #58 Mixto secundario\n",
    " '00ff87', #60 Coníferas nativas\n",
    "]"
   ]
  },
  {
   "cell_type": "code",
   "execution_count": null,
   "id": "d1ed6e92",
   "metadata": {
    "ExecuteTime": {
     "end_time": "2022-03-28T16:38:29.247468Z",
     "start_time": "2022-03-28T16:38:29.243853Z"
    }
   },
   "outputs": [],
   "source": [
    "landcover_QM = result_QM.set('classification_class_values', class_values2)\n",
    "landcover_QM = landcover_QM.set('classification_class_palette',class_palette2)"
   ]
  },
  {
   "cell_type": "code",
   "execution_count": null,
   "id": "40c97470",
   "metadata": {
    "ExecuteTime": {
     "end_time": "2022-03-28T16:38:29.248296Z",
     "start_time": "2022-03-28T16:38:29.248289Z"
    }
   },
   "outputs": [],
   "source": [
    "landcover_Med = result_Med.set('classification_class_values', class_values2)\n",
    "landcover_Med = landcover_Med.set('classification_class_palette',class_palette2)"
   ]
  },
  {
   "cell_type": "code",
   "execution_count": null,
   "id": "11e0ee3e",
   "metadata": {
    "ExecuteTime": {
     "end_time": "2022-03-28T16:38:29.253245Z",
     "start_time": "2022-03-28T16:38:29.249393Z"
    }
   },
   "outputs": [],
   "source": [
    "Map14.addLayer(landcover_QM,{}, 'Land cover RF-QM' )\n",
    "Map14.addLayer(landcover_Med,{}, 'Land cover RF-Mediana')"
   ]
  },
  {
   "cell_type": "code",
   "execution_count": null,
   "id": "882a5f91",
   "metadata": {
    "ExecuteTime": {
     "end_time": "2022-03-28T16:38:29.254145Z",
     "start_time": "2022-03-28T16:38:29.254137Z"
    }
   },
   "outputs": [],
   "source": [
    "type(landcover_QM)"
   ]
  },
  {
   "cell_type": "markdown",
   "id": "d3ac6dae",
   "metadata": {},
   "source": [
    "#### Mapas"
   ]
  },
  {
   "cell_type": "code",
   "execution_count": null,
   "id": "5065e0ff",
   "metadata": {
    "ExecuteTime": {
     "end_time": "2022-03-28T16:38:29.337922Z",
     "start_time": "2022-03-28T16:38:29.333824Z"
    }
   },
   "outputs": [],
   "source": [
    "NDVI_mosaico=img5.select('NDVI')"
   ]
  },
  {
   "cell_type": "code",
   "execution_count": null,
   "id": "6c63b15a",
   "metadata": {
    "ExecuteTime": {
     "end_time": "2022-03-28T16:38:29.338773Z",
     "start_time": "2022-03-28T16:38:29.338764Z"
    }
   },
   "outputs": [],
   "source": [
    "vizNDVI =['#FF5733','#0cf5f5','#d89000','#039001','#003804']"
   ]
  },
  {
   "cell_type": "code",
   "execution_count": null,
   "id": "e5d42f45",
   "metadata": {
    "ExecuteTime": {
     "end_time": "2022-03-28T16:38:29.344641Z",
     "start_time": "2022-03-28T16:38:29.341318Z"
    }
   },
   "outputs": [],
   "source": [
    "Map16.addLayer(NDVI_mosaico, {'palette':vizNDVI} ,'NDVI Mosaico 2021' )\n",
    "Map16"
   ]
  },
  {
   "cell_type": "code",
   "execution_count": null,
   "id": "53d31ef4",
   "metadata": {
    "ExecuteTime": {
     "end_time": "2022-03-28T16:38:29.345472Z",
     "start_time": "2022-03-28T16:38:29.345464Z"
    }
   },
   "outputs": [],
   "source": [
    "legend_dict = {\n",
    "    '01 Hielo': 'd1fbff',\n",
    "    '02 lengua glaciar': 'bfdadd',\n",
    "    '03 glaciar cubierto': 'b9bfbf',\n",
    "    '04 nieve': 'fe40fe',\n",
    "    '05 fiordo glaciar': '8ac1ff',\n",
    "    '06 mar': '0c407b',\n",
    "    '07 lago continental': '2e8da0',\n",
    "    '08 lago glaciar': '16b2d1',\n",
    "    '09 río': '27e1d8',\n",
    "    '10 suelo desnudo': 'eeb514',\n",
    "    '11 cárcavas erosión': '927012',\n",
    "    '12 suelo río': 'e98c0f',\n",
    "    '13 suelo duna/arenal': 'f7e8bd',\n",
    "    '14 caminos': '5b5b5b',\n",
    "    '15 suelo denudo': 'e57104',\n",
    "    '16 tuberas / musgos': '5d1412',\n",
    "    '17 mallín': '5d1412',\n",
    "    '19 áreas inundables':'161163', \n",
    "    '20 plantación adulto': 'fff300',\n",
    "    '23 ciudad urbano': 'ff0000',\n",
    "    '28 frutales':'d4e794',\n",
    "    '30 praderas pastoreo':'dee842', \n",
    "    '31 estepa abierta': 'ced118',\n",
    "    '32 estepa cerrada': '7a7c0f',\n",
    "    '33 palizales': 'c39700',\n",
    "    '34 preaderas': 'a1ff8a',\n",
    "    '35 matorrales densos': '138665',\n",
    "    '36 matorrales abiertos': '1bbd8e',\n",
    "    '39 primario adulto': '195a09',\n",
    "    '40 secundario adulto': '27c41d',\n",
    "    '43 renoval inicial': 'b2ff00',\n",
    "    '45 degradado': 'f36605',\n",
    "    '47 Primario adulto caduco':'7729db',\n",
    "    '48 Secundario adulto caduco': '9e60ec',\n",
    "    '56 sombra': '000000',\n",
    "    '57 Mixto Primario': '7000ff', \n",
    "    '58 Mixto secundario':'c598ff',\n",
    "    '60 Coníferas nativas': '00ff87',\n",
    "}\n",
    "\n",
    "Map14.add_legend(legend_title=\"Random Forest Test\", legend_dict=legend_dict)\n",
    "Map14.addLayer(img5,vizParams, 'Mosaico 2021' )\n",
    "Map14.addLayer(componentes,vizParamstess, 'Tesseled cap')\n",
    "Map14"
   ]
  },
  {
   "cell_type": "markdown",
   "id": "69b97f23",
   "metadata": {},
   "source": [
    "#### Comparación"
   ]
  },
  {
   "cell_type": "code",
   "execution_count": null,
   "id": "a66648b3",
   "metadata": {
    "ExecuteTime": {
     "end_time": "2022-03-28T16:38:29.424440Z",
     "start_time": "2022-03-28T16:38:29.420650Z"
    }
   },
   "outputs": [],
   "source": [
    "comp1= [img5, img5m]\n",
    "labels = [\n",
    "    'Mosaico QM',\n",
    "    'Mosaico Med']\n",
    "vis_params3=  [\n",
    "     vizParams, \n",
    "    vizParams]"
   ]
  },
  {
   "cell_type": "code",
   "execution_count": null,
   "id": "0a240656",
   "metadata": {
    "ExecuteTime": {
     "end_time": "2022-03-28T16:38:29.425253Z",
     "start_time": "2022-03-28T16:38:29.425245Z"
    }
   },
   "outputs": [],
   "source": [
    "geemap.linked_maps(rows=1, cols=2, height=\"900px\", center=[-45, -75], zoom=4, \n",
    "                   ee_objects=comp1, vis_params=vis_params3, labels=labels, label_position=\"topright\")"
   ]
  },
  {
   "cell_type": "code",
   "execution_count": null,
   "id": "96a55fc7",
   "metadata": {
    "ExecuteTime": {
     "end_time": "2022-03-28T16:38:29.431582Z",
     "start_time": "2022-03-28T16:38:29.428041Z"
    }
   },
   "outputs": [],
   "source": [
    "comp2= [landcover_QM,landcover_Med]\n",
    "labels = [\n",
    "    'Landcover QM',\n",
    "    'Landcover Med']\n",
    "vis_params4=  [\n",
    "     {}, \n",
    "     {}]"
   ]
  },
  {
   "cell_type": "code",
   "execution_count": null,
   "id": "1c07ad91",
   "metadata": {
    "ExecuteTime": {
     "end_time": "2022-03-28T16:38:29.432483Z",
     "start_time": "2022-03-28T16:38:29.432474Z"
    }
   },
   "outputs": [],
   "source": [
    "geemap.linked_maps(rows=1, cols=2, height=\"900px\", center=[-45, -75], zoom=4, \n",
    "                   ee_objects=comp2, vis_params=vis_params4, labels=labels, label_position=\"topright\")"
   ]
  },
  {
   "cell_type": "markdown",
   "id": "e80b449e",
   "metadata": {},
   "source": [
    "### Exportando"
   ]
  },
  {
   "cell_type": "code",
   "execution_count": null,
   "id": "f61a3d7d",
   "metadata": {
    "ExecuteTime": {
     "end_time": "2022-03-28T16:38:29.515235Z",
     "start_time": "2022-03-28T16:38:29.511451Z"
    }
   },
   "outputs": [],
   "source": [
    "transf=ee.Array([30, 0, 214185, 0, -30, -4825185])"
   ]
  },
  {
   "cell_type": "code",
   "execution_count": null,
   "id": "4c4da7ae",
   "metadata": {
    "ExecuteTime": {
     "end_time": "2022-03-28T16:38:29.516131Z",
     "start_time": "2022-03-28T16:38:29.516123Z"
    }
   },
   "outputs": [],
   "source": [
    "transf.getInfo()"
   ]
  },
  {
   "cell_type": "code",
   "execution_count": null,
   "id": "cceda41f",
   "metadata": {
    "ExecuteTime": {
     "end_time": "2022-03-28T16:38:29.523000Z",
     "start_time": "2022-03-28T16:38:29.518905Z"
    }
   },
   "outputs": [],
   "source": [
    "img5_B1 = img5.select(\"B1\")\n",
    "img5_B2 = img5.select(\"B2\")\n",
    "img5_B3 = img5.select(\"B3\")\n",
    "img5_B4 = img5.select(\"B4\")\n",
    "img5_B5 = img5.select(\"B5\")\n",
    "img5_B6 = img5.select(\"B6\")\n",
    "img5_B7 = img5.select(\"B7\")"
   ]
  },
  {
   "cell_type": "code",
   "execution_count": null,
   "id": "6e762547",
   "metadata": {
    "ExecuteTime": {
     "end_time": "2022-03-28T16:38:29.523889Z",
     "start_time": "2022-03-28T16:38:29.523880Z"
    }
   },
   "outputs": [],
   "source": [
    "img5_B1m = img5m.select(\"B1\")\n",
    "img5_B2m = img5m.select(\"B2\")\n",
    "img5_B3m = img5m.select(\"B3\")\n",
    "img5_B4m = img5m.select(\"B4\")\n",
    "img5_B5m = img5m.select(\"B5\")\n",
    "img5_B6m = img5m.select(\"B6\")\n",
    "img5_B7m = img5m.select(\"B7\")"
   ]
  },
  {
   "cell_type": "code",
   "execution_count": null,
   "id": "5bf824d7",
   "metadata": {
    "ExecuteTime": {
     "end_time": "2022-03-28T16:38:29.532094Z",
     "start_time": "2022-03-28T16:38:29.524957Z"
    }
   },
   "outputs": [],
   "source": [
    "task1 = ee.batch.Export.image.toDrive(**{\n",
    "    'image': img5_B1,\n",
    "    'description':'B1',\n",
    "    'folder':'exp2021_19s_full',\n",
    "    'region': geometry_exp.bounds(),\n",
    "    'scale':30,\n",
    "    'crsTransform':[30, 0, 214185, 0, -30, -4825185], \n",
    "    'crs':'EPSG:32719',\n",
    "    'maxPixels':1e13\n",
    "})\n",
    "task2 = ee.batch.Export.image.toDrive(**{\n",
    "    'image': img5_B2,\n",
    "    'description':'B2',\n",
    "    'folder':'exp2021_19s_full',\n",
    "    'region': geometry_exp.bounds(),\n",
    "    'scale':30,\n",
    "    'crsTransform':[30, 0, 214185, 0, -30, -4825185], \n",
    "    'crs':'EPSG:32719',\n",
    "    'maxPixels':1e13\n",
    "})\n",
    "task3 = ee.batch.Export.image.toDrive(**{\n",
    "    'image': img5_B3,\n",
    "    'description':'B3',\n",
    "    'folder':'exp2021_19s_full',\n",
    "    'region': geometry_exp.bounds(),\n",
    "    'scale':30,\n",
    "    'crsTransform':[30, 0, 214185, 0, -30, -4825185], \n",
    "    'crs':'EPSG:32719',\n",
    "    'maxPixels':1e13\n",
    "})\n",
    "task4 = ee.batch.Export.image.toDrive(**{\n",
    "    'image': img5_B4,\n",
    "    'description':'B4',\n",
    "    'folder':'exp2021_19s_full',\n",
    "    'region': geometry_exp.bounds(),\n",
    "    'scale':30,\n",
    "    'crsTransform':[30, 0, 214185, 0, -30, -4825185], \n",
    "    'crs':'EPSG:32719',\n",
    "    'maxPixels':1e13\n",
    "})\n",
    "task5 = ee.batch.Export.image.toDrive(**{\n",
    "    'image': img5_B5,\n",
    "    'description':'B5',\n",
    "    'folder':'exp2021_19s_full',\n",
    "    'region': geometry_exp.bounds(),\n",
    "    'scale':30,\n",
    "    'crsTransform':[30, 0, 214185, 0, -30, -4825185], \n",
    "    'crs':'EPSG:32719',\n",
    "    'maxPixels':1e13\n",
    "})\n",
    "task6 = ee.batch.Export.image.toDrive(**{\n",
    "    'image': img5_B6,\n",
    "    'description':'B6',\n",
    "    'folder':'exp2021_19s_full',\n",
    "    'region': geometry_exp.bounds(),\n",
    "    'scale':30,\n",
    "    'crsTransform':[30, 0, 214185, 0, -30, -4825185], \n",
    "    'crs':'EPSG:32719',\n",
    "    'maxPixels':1e13\n",
    "})\n",
    "task7 = ee.batch.Export.image.toDrive(**{\n",
    "    'image': img5_B7,\n",
    "    'description':'B7',\n",
    "    'folder':'exp2021_19s_full',\n",
    "    'region': geometry_exp.bounds(),\n",
    "    'scale':30,\n",
    "    'crsTransform':[30, 0, 214185, 0, -30, -4825185], \n",
    "    'crs':'EPSG:32719',\n",
    "    'maxPixels':1e13\n",
    "})"
   ]
  },
  {
   "cell_type": "code",
   "execution_count": null,
   "id": "77e30b2b",
   "metadata": {
    "ExecuteTime": {
     "end_time": "2022-03-28T16:38:29.532932Z",
     "start_time": "2022-03-28T16:38:29.532924Z"
    }
   },
   "outputs": [],
   "source": [
    "task1m = ee.batch.Export.image.toDrive(**{\n",
    "    'image': img5_B1m,\n",
    "    'description':'B1',\n",
    "    'folder':'exp2021_19s_full_m',\n",
    "    'region': geometry_exp.bounds(),\n",
    "    'scale':30,\n",
    "    'crsTransform':[30, 0, 214185, 0, -30, -4825185], \n",
    "    'crs':'EPSG:32719',\n",
    "    'maxPixels':1e13\n",
    "})\n",
    "task2m = ee.batch.Export.image.toDrive(**{\n",
    "    'image': img5_B2m,\n",
    "    'description':'B2',\n",
    "    'folder':'exp2021_19s_full_m',\n",
    "    'region': geometry_exp.bounds(),\n",
    "    'scale':30,\n",
    "    'crsTransform':[30, 0, 214185, 0, -30, -4825185], \n",
    "    'crs':'EPSG:32719',\n",
    "    'maxPixels':1e13\n",
    "})\n",
    "task3m = ee.batch.Export.image.toDrive(**{\n",
    "    'image': img5_B3m,\n",
    "    'description':'B3',\n",
    "    'folder':'exp2021_19s_full_m',\n",
    "    'region': geometry_exp.bounds(),\n",
    "    'scale':30,\n",
    "    'crsTransform':[30, 0, 214185, 0, -30, -4825185], \n",
    "    'crs':'EPSG:32719',\n",
    "    'maxPixels':1e13\n",
    "})\n",
    "task4m = ee.batch.Export.image.toDrive(**{\n",
    "    'image': img5_B4m,\n",
    "    'description':'B4',\n",
    "    'folder':'exp2021_19s_full_m',\n",
    "    'region': geometry_exp.bounds(),\n",
    "    'scale':30,\n",
    "    'crsTransform':[30, 0, 214185, 0, -30, -4825185], \n",
    "    'crs':'EPSG:32719',\n",
    "    'maxPixels':1e13\n",
    "})\n",
    "task5m = ee.batch.Export.image.toDrive(**{\n",
    "    'image': img5_B5m,\n",
    "    'description':'B5',\n",
    "    'folder':'exp2021_19s_full_m',\n",
    "    'region': geometry_exp.bounds(),\n",
    "    'scale':30,\n",
    "    'crsTransform':[30, 0, 214185, 0, -30, -4825185], \n",
    "    'crs':'EPSG:32719',\n",
    "    'maxPixels':1e13\n",
    "})\n",
    "task6m = ee.batch.Export.image.toDrive(**{\n",
    "    'image': img5_B6m,\n",
    "    'description':'B6',\n",
    "    'folder':'exp2021_19s_full_m',\n",
    "    'region': geometry_exp.bounds(),\n",
    "    'scale':30,\n",
    "    'crsTransform':[30, 0, 214185, 0, -30, -4825185], \n",
    "    'crs':'EPSG:32719',\n",
    "    'maxPixels':1e13\n",
    "})\n",
    "task7m = ee.batch.Export.image.toDrive(**{\n",
    "    'image': img5_B7m,\n",
    "    'description':'B7',\n",
    "    'folder':'exp2021_19s_full_m',\n",
    "    'region': geometry_exp.bounds(),\n",
    "    'scale':30,\n",
    "    'crsTransform':[30, 0, 214185, 0, -30, -4825185], \n",
    "    'crs':'EPSG:32719',\n",
    "    'maxPixels':1e13\n",
    "})"
   ]
  },
  {
   "cell_type": "code",
   "execution_count": null,
   "id": "dfee8042",
   "metadata": {
    "ExecuteTime": {
     "end_time": "2022-03-28T16:38:29.533589Z",
     "start_time": "2022-03-28T16:38:29.533582Z"
    }
   },
   "outputs": [],
   "source": [
    "# task1.start()\n",
    "# task2.start()\n",
    "# task3.start()\n",
    "# task4.start()\n",
    "# task5.start()\n",
    "# task6.start()\n",
    "# task7.start()"
   ]
  },
  {
   "cell_type": "code",
   "execution_count": null,
   "id": "3bcd3268",
   "metadata": {
    "ExecuteTime": {
     "end_time": "2022-03-28T16:38:29.536345Z",
     "start_time": "2022-03-28T16:38:29.534927Z"
    }
   },
   "outputs": [],
   "source": [
    "# task1m.start()\n",
    "# task2m.start()\n",
    "# task3m.start()\n",
    "# task4m.start()\n",
    "# task5m.start()\n",
    "# task6m.start()\n",
    "# task7m.start()"
   ]
  },
  {
   "cell_type": "code",
   "execution_count": null,
   "id": "0633aa27",
   "metadata": {
    "ExecuteTime": {
     "end_time": "2022-03-28T16:38:29.541186Z",
     "start_time": "2022-03-28T16:38:29.537509Z"
    }
   },
   "outputs": [],
   "source": [
    "brillo = componentes.select('brightness')\n",
    "greenness = componentes.select('greenness')\n",
    "wetness = componentes.select('wetness')\n",
    "# ['brightness','greenness','wetness','fourth','fifth','sixth']"
   ]
  },
  {
   "cell_type": "code",
   "execution_count": null,
   "id": "ecae7a62",
   "metadata": {
    "ExecuteTime": {
     "end_time": "2022-03-28T16:38:29.542012Z",
     "start_time": "2022-03-28T16:38:29.542004Z"
    }
   },
   "outputs": [],
   "source": [
    "brillom = componentesm.select('brightness')\n",
    "greennessm = componentesm.select('greenness')\n",
    "wetnessm = componentesm.select('wetness')"
   ]
  },
  {
   "cell_type": "code",
   "execution_count": null,
   "id": "5cc31766",
   "metadata": {
    "ExecuteTime": {
     "end_time": "2022-03-28T16:38:29.548115Z",
     "start_time": "2022-03-28T16:38:29.543126Z"
    }
   },
   "outputs": [],
   "source": [
    "task8 = ee.batch.Export.image.toDrive(**{\n",
    "    'image': brillo,\n",
    "    'description':'brillo',\n",
    "    'folder':'exp2021_19s_full',\n",
    "    'region': geometry_exp.bounds(),\n",
    "    'scale':30,\n",
    "    'crsTransform':[30, 0, 214185, 0, -30, -4825185], \n",
    "    'crs':'EPSG:32719',\n",
    "    'maxPixels':1e13\n",
    "})\n",
    "task9 = ee.batch.Export.image.toDrive(**{\n",
    "    'image': greenness,\n",
    "    'description':'greenness',\n",
    "    'folder':'exp2021_19s_full',\n",
    "    'region': geometry_exp.bounds(),\n",
    "    'scale':30,\n",
    "    'crsTransform':[30, 0, 214185, 0, -30, -4825185], \n",
    "    'crs':'EPSG:32719',\n",
    "    'maxPixels':1e13\n",
    "})\n",
    "task10 = ee.batch.Export.image.toDrive(**{\n",
    "    'image': wetness,\n",
    "    'description':'wetness',\n",
    "    'folder':'exp2021_19s_full',\n",
    "    'region': geometry_exp.bounds(),\n",
    "    'scale':30,\n",
    "    'crsTransform':[30, 0, 214185, 0, -30, -4825185], \n",
    "    'crs':'EPSG:32719',\n",
    "    'maxPixels':1e13\n",
    "})"
   ]
  },
  {
   "cell_type": "code",
   "execution_count": null,
   "id": "0d024aad",
   "metadata": {
    "ExecuteTime": {
     "end_time": "2022-03-28T16:38:29.548927Z",
     "start_time": "2022-03-28T16:38:29.548919Z"
    }
   },
   "outputs": [],
   "source": [
    "task8m = ee.batch.Export.image.toDrive(**{\n",
    "    'image': brillom,\n",
    "    'description':'brillo',\n",
    "    'folder':'exp2021_19s_full_m',\n",
    "    'region': geometry_exp.bounds(),\n",
    "    'scale':30,\n",
    "    'crsTransform':[30, 0, 214185, 0, -30, -4825185], \n",
    "    'crs':'EPSG:32719',\n",
    "    'maxPixels':1e13\n",
    "})\n",
    "task9m = ee.batch.Export.image.toDrive(**{\n",
    "    'image': greennessm,\n",
    "    'description':'greenness',\n",
    "    'folder':'exp2021_19s_full_m',\n",
    "    'region': geometry_exp.bounds(),\n",
    "    'scale':30,\n",
    "    'crsTransform':[30, 0, 214185, 0, -30, -4825185], \n",
    "    'crs':'EPSG:32719',\n",
    "    'maxPixels':1e13\n",
    "})\n",
    "task10m = ee.batch.Export.image.toDrive(**{\n",
    "    'image': wetnessm,\n",
    "    'description':'wetness',\n",
    "    'folder':'exp2021_19s_full_m',\n",
    "    'region': geometry_exp.bounds(),\n",
    "    'scale':30,\n",
    "    'crsTransform':[30, 0, 214185, 0, -30, -4825185], \n",
    "    'crs':'EPSG:32719',\n",
    "    'maxPixels':1e13\n",
    "})"
   ]
  },
  {
   "cell_type": "code",
   "execution_count": null,
   "id": "056a7102",
   "metadata": {
    "ExecuteTime": {
     "end_time": "2022-03-28T16:38:29.551334Z",
     "start_time": "2022-03-28T16:38:29.549967Z"
    }
   },
   "outputs": [],
   "source": [
    "# task8.start()\n",
    "# task9.start()\n",
    "# task10.start()"
   ]
  },
  {
   "cell_type": "code",
   "execution_count": null,
   "id": "30f7d9e4",
   "metadata": {
    "ExecuteTime": {
     "end_time": "2022-03-28T16:38:29.554207Z",
     "start_time": "2022-03-28T16:38:29.552802Z"
    }
   },
   "outputs": [],
   "source": [
    "# task8m.start()\n",
    "# task9m.start()\n",
    "# task10m.start()"
   ]
  },
  {
   "cell_type": "code",
   "execution_count": null,
   "id": "21943242",
   "metadata": {
    "ExecuteTime": {
     "end_time": "2022-03-28T16:38:29.559216Z",
     "start_time": "2022-03-28T16:38:29.555252Z"
    }
   },
   "outputs": [],
   "source": [
    "taskclasqm = ee.batch.Export.image.toDrive(**{\n",
    "    'image': landcover_QM,\n",
    "    'description':'landcover_2021_QM',\n",
    "    'folder':'Landcover 2021',\n",
    "    'region': geometry_exp.bounds(),\n",
    "    'scale':30,\n",
    "    'crsTransform':[30, 0, 214185, 0, -30, -4825185], \n",
    "    'crs':'EPSG:32719',\n",
    "    'maxPixels':1e13\n",
    "})"
   ]
  },
  {
   "cell_type": "code",
   "execution_count": null,
   "id": "c892658b",
   "metadata": {
    "ExecuteTime": {
     "end_time": "2022-03-28T16:38:29.560030Z",
     "start_time": "2022-03-28T16:38:29.560022Z"
    }
   },
   "outputs": [],
   "source": [
    "taskclasm = ee.batch.Export.image.toDrive(**{\n",
    "    'image': landcover_Med,\n",
    "    'description':'landcover_2021_Med',\n",
    "    'folder':'Landcover 2021',\n",
    "    'region': geometry_exp.bounds(),\n",
    "    'scale':30,\n",
    "    'crsTransform':[30, 0, 214185, 0, -30, -4825185], \n",
    "    'crs':'EPSG:32719',\n",
    "    'maxPixels':1e13\n",
    "})"
   ]
  },
  {
   "cell_type": "code",
   "execution_count": null,
   "id": "9af412b7",
   "metadata": {
    "ExecuteTime": {
     "end_time": "2022-03-28T16:38:29.562403Z",
     "start_time": "2022-03-28T16:38:29.560986Z"
    }
   },
   "outputs": [],
   "source": [
    "# taskclasqm.start()\n",
    "# taskclasm.start()"
   ]
  },
  {
   "cell_type": "markdown",
   "id": "5b569226",
   "metadata": {},
   "source": [
    "## Test "
   ]
  },
  {
   "cell_type": "markdown",
   "id": "9b16d3bf",
   "metadata": {},
   "source": [
    "### Texturas"
   ]
  },
  {
   "cell_type": "code",
   "execution_count": null,
   "id": "979f4f02",
   "metadata": {
    "ExecuteTime": {
     "end_time": "2022-03-28T16:38:29.743039Z",
     "start_time": "2022-03-28T16:38:29.739222Z"
    }
   },
   "outputs": [],
   "source": [
    "text_qm = img_final.select('B1','B2','B3','B4','B5','B6','B7') "
   ]
  },
  {
   "cell_type": "code",
   "execution_count": null,
   "id": "ad15b2b2",
   "metadata": {
    "ExecuteTime": {
     "end_time": "2022-03-28T16:38:29.743870Z",
     "start_time": "2022-03-28T16:38:29.743862Z"
    }
   },
   "outputs": [],
   "source": [
    "text_med = img_final_m.select('B1','B2','B3','B4','B5','B6','B7') "
   ]
  },
  {
   "cell_type": "code",
   "execution_count": null,
   "id": "c26b7619",
   "metadata": {
    "ExecuteTime": {
     "end_time": "2022-03-28T16:38:29.750294Z",
     "start_time": "2022-03-28T16:38:29.746660Z"
    }
   },
   "outputs": [],
   "source": [
    "text_qm_array = text_qm.toArray()\n",
    "text_qm_array = text_qm_array.toArray(1)"
   ]
  },
  {
   "cell_type": "code",
   "execution_count": null,
   "id": "5ce3faba",
   "metadata": {
    "ExecuteTime": {
     "end_time": "2022-03-28T16:38:29.751106Z",
     "start_time": "2022-03-28T16:38:29.751098Z"
    }
   },
   "outputs": [],
   "source": [
    "text_med_array = text_med.toArray()\n",
    "text_med_array = text_med_array.toArray(1)"
   ]
  },
  {
   "cell_type": "code",
   "execution_count": null,
   "id": "01a5e0b7",
   "metadata": {
    "ExecuteTime": {
     "end_time": "2022-03-28T16:38:29.756660Z",
     "start_time": "2022-03-28T16:38:29.752267Z"
    }
   },
   "outputs": [],
   "source": [
    "coef100 = ee.Array([\n",
    "    [100,0,0,0,0,0,0],\n",
    "    [0,100,0,0,0,0,0],\n",
    "    [0,0,100,0,0,0,0],\n",
    "    [0,0,0,100,0,0,0],\n",
    "    [0,0,0,0,100,0,0],\n",
    "    [0,0,0,0,0,100,0],\n",
    "    [0,0,0,0,0,0,100],\n",
    "    ])"
   ]
  },
  {
   "cell_type": "code",
   "execution_count": null,
   "id": "0ea3ba21",
   "metadata": {
    "ExecuteTime": {
     "end_time": "2022-03-28T16:38:29.757501Z",
     "start_time": "2022-03-28T16:38:29.757492Z"
    }
   },
   "outputs": [],
   "source": [
    "factor_qm = ee.Image(coef100)\\\n",
    "                .matrixMultiply(text_qm_array) \\\n",
    "                .arrayProject([0])\\\n",
    "                .arrayFlatten(\n",
    "                [['B1','B2','B3','B4','B5','B6','B7']])"
   ]
  },
  {
   "cell_type": "code",
   "execution_count": null,
   "id": "052d4cd3",
   "metadata": {
    "ExecuteTime": {
     "end_time": "2022-03-28T16:38:29.762501Z",
     "start_time": "2022-03-28T16:38:29.758704Z"
    }
   },
   "outputs": [],
   "source": [
    "factor_med = ee.Image(coef100)\\\n",
    "                .matrixMultiply(text_med_array) \\\n",
    "                .arrayProject([0])\\\n",
    "                .arrayFlatten(\n",
    "                [['B1','B2','B3','B4','B5','B6','B7']])"
   ]
  },
  {
   "cell_type": "code",
   "execution_count": null,
   "id": "bcd29373",
   "metadata": {
    "ExecuteTime": {
     "end_time": "2022-03-28T16:38:29.763280Z",
     "start_time": "2022-03-28T16:38:29.763273Z"
    }
   },
   "outputs": [],
   "source": [
    "testint_txt_qm = factor_qm.int()\n",
    "testint_txt_med = factor_med.int()"
   ]
  },
  {
   "cell_type": "code",
   "execution_count": null,
   "id": "798ea0f1",
   "metadata": {
    "ExecuteTime": {
     "end_time": "2022-03-28T16:38:29.768030Z",
     "start_time": "2022-03-28T16:38:29.764284Z"
    }
   },
   "outputs": [],
   "source": [
    "txt_qm = testint_txt_qm.glcmTexture(3)\n",
    "txt_med = testint_txt_med.glcmTexture(3)"
   ]
  },
  {
   "cell_type": "code",
   "execution_count": null,
   "id": "42a2d377",
   "metadata": {
    "ExecuteTime": {
     "end_time": "2022-03-28T16:38:29.768885Z",
     "start_time": "2022-03-28T16:38:29.768876Z"
    }
   },
   "outputs": [],
   "source": [
    "txt_qm.bandNames().getInfo()"
   ]
  },
  {
   "cell_type": "code",
   "execution_count": null,
   "id": "6f4aa106",
   "metadata": {
    "ExecuteTime": {
     "end_time": "2022-03-28T16:38:29.773618Z",
     "start_time": "2022-03-28T16:38:29.769805Z"
    }
   },
   "outputs": [],
   "source": [
    "txt_med.bandNames().getInfo()"
   ]
  },
  {
   "cell_type": "code",
   "execution_count": null,
   "id": "b4b31015",
   "metadata": {
    "ExecuteTime": {
     "end_time": "2022-03-28T16:38:29.774415Z",
     "start_time": "2022-03-28T16:38:29.774407Z"
    }
   },
   "outputs": [],
   "source": [
    "data_txt_tm_qm = txt_qm.sampleRegions(**{\n",
    "    'collection': test1,\n",
    "    'properties': ['C_ID'],\n",
    "    'scale': 30,\n",
    "    'tileScale': 2,\n",
    "})"
   ]
  },
  {
   "cell_type": "code",
   "execution_count": null,
   "id": "b1261dbe",
   "metadata": {
    "ExecuteTime": {
     "end_time": "2022-03-28T16:38:29.779605Z",
     "start_time": "2022-03-28T16:38:29.775562Z"
    }
   },
   "outputs": [],
   "source": [
    "data_txt_tm_med = txt_med.sampleRegions(**{\n",
    "    'collection': test1,\n",
    "    'properties': ['C_ID'],\n",
    "    'scale': 30,\n",
    "    'tileScale': 2,\n",
    "})"
   ]
  },
  {
   "cell_type": "code",
   "execution_count": null,
   "id": "6e74a710",
   "metadata": {
    "ExecuteTime": {
     "end_time": "2022-03-28T16:38:29.780460Z",
     "start_time": "2022-03-28T16:38:29.780452Z"
    }
   },
   "outputs": [],
   "source": [
    "tablasqm = ee.batch.Export.table.toDrive(**{\n",
    "  'collection': data_txt_tm_qm,\n",
    "  'description': 'txt_TM_QM',\n",
    "  'fileFormat': 'CSV'\n",
    "})"
   ]
  },
  {
   "cell_type": "code",
   "execution_count": null,
   "id": "8f48443e",
   "metadata": {
    "ExecuteTime": {
     "end_time": "2022-03-28T16:38:29.784956Z",
     "start_time": "2022-03-28T16:38:29.781327Z"
    }
   },
   "outputs": [],
   "source": [
    "tablasmed = ee.batch.Export.table.toDrive(**{\n",
    "  'collection': data_txt_tm_med,\n",
    "  'description': 'txt_TM_MED',\n",
    "  'fileFormat': 'CSV'\n",
    "})"
   ]
  },
  {
   "cell_type": "code",
   "execution_count": null,
   "id": "984ff9d3",
   "metadata": {
    "ExecuteTime": {
     "end_time": "2022-03-28T16:38:29.785741Z",
     "start_time": "2022-03-28T16:38:29.785733Z"
    }
   },
   "outputs": [],
   "source": [
    "# tablasqm.start()\n",
    "# tablasmed.start()"
   ]
  },
  {
   "cell_type": "markdown",
   "id": "89d4bbca",
   "metadata": {},
   "source": [
    "#### NDVI"
   ]
  },
  {
   "cell_type": "code",
   "execution_count": null,
   "id": "d12bffc6",
   "metadata": {
    "ExecuteTime": {
     "end_time": "2022-03-28T16:38:29.890945Z",
     "start_time": "2022-03-28T16:38:29.887005Z"
    }
   },
   "outputs": [],
   "source": [
    "ndvi_txt_array = img5.select('NDVI')\n",
    "ndvi_txt_array = ndvi_txt_array.toArray()\n",
    "ndvi_txt_array = ndvi_txt_array.toArray(1)"
   ]
  },
  {
   "cell_type": "code",
   "execution_count": null,
   "id": "d59fba50",
   "metadata": {
    "ExecuteTime": {
     "end_time": "2022-03-28T16:38:29.891817Z",
     "start_time": "2022-03-28T16:38:29.891809Z"
    }
   },
   "outputs": [],
   "source": [
    "coef2 = ee.Array([[100]])"
   ]
  },
  {
   "cell_type": "code",
   "execution_count": null,
   "id": "92102da8",
   "metadata": {
    "ExecuteTime": {
     "end_time": "2022-03-28T16:38:29.898125Z",
     "start_time": "2022-03-28T16:38:29.894421Z"
    }
   },
   "outputs": [],
   "source": [
    "factor = ee.Image(coef2)\\\n",
    "                .matrixMultiply(ndvi_txt_array) \\\n",
    "                .arrayProject([0])\\\n",
    "                .arrayFlatten(\n",
    "                [['NDVI']])"
   ]
  },
  {
   "cell_type": "code",
   "execution_count": null,
   "id": "a7a75374",
   "metadata": {
    "ExecuteTime": {
     "end_time": "2022-03-28T16:38:29.898918Z",
     "start_time": "2022-03-28T16:38:29.898911Z"
    }
   },
   "outputs": [],
   "source": [
    "factor.bandTypes().getInfo()"
   ]
  },
  {
   "cell_type": "code",
   "execution_count": null,
   "id": "244834a0",
   "metadata": {
    "ExecuteTime": {
     "end_time": "2022-03-28T16:38:29.903307Z",
     "start_time": "2022-03-28T16:38:29.900008Z"
    }
   },
   "outputs": [],
   "source": [
    "testimg_txt = factor.int()"
   ]
  },
  {
   "cell_type": "code",
   "execution_count": null,
   "id": "6f845908",
   "metadata": {
    "ExecuteTime": {
     "end_time": "2022-03-28T16:38:29.904077Z",
     "start_time": "2022-03-28T16:38:29.904068Z"
    }
   },
   "outputs": [],
   "source": [
    "testimg_txt.bandTypes().getInfo()"
   ]
  },
  {
   "cell_type": "code",
   "execution_count": null,
   "id": "7c334e9f",
   "metadata": {
    "ExecuteTime": {
     "end_time": "2022-03-28T16:38:29.908820Z",
     "start_time": "2022-03-28T16:38:29.905249Z"
    }
   },
   "outputs": [],
   "source": [
    "texturas = testimg_txt.glcmTexture(3)"
   ]
  },
  {
   "cell_type": "code",
   "execution_count": null,
   "id": "4c5d1482",
   "metadata": {
    "ExecuteTime": {
     "end_time": "2022-03-28T16:38:29.909635Z",
     "start_time": "2022-03-28T16:38:29.909627Z"
    }
   },
   "outputs": [],
   "source": [
    "texturas.bandNames().getInfo()"
   ]
  },
  {
   "cell_type": "code",
   "execution_count": null,
   "id": "3e531601",
   "metadata": {
    "ExecuteTime": {
     "end_time": "2022-03-28T16:38:29.915895Z",
     "start_time": "2022-03-28T16:38:29.912118Z"
    }
   },
   "outputs": [],
   "source": [
    "texturas_ndvi = texturas\n",
    "texturas_ndvi = texturas_ndvi.toArray()\n",
    "texturas_ndvi = texturas_ndvi.toArray(1)"
   ]
  },
  {
   "cell_type": "code",
   "execution_count": null,
   "id": "3615617c",
   "metadata": {
    "ExecuteTime": {
     "end_time": "2022-03-28T16:38:29.916665Z",
     "start_time": "2022-03-28T16:38:29.916657Z"
    }
   },
   "outputs": [],
   "source": [
    "coef3 = ee.Array([\n",
    "    [1,0,0,0,0,0,0,0,0,0,0,0,0,0,0,0,0,0],\n",
    "    [0,0.01,0,0,0,0,0,0,0,0,0,0,0,0,0,0,0,0],\n",
    "    [0,0,1,0,0,0,0,0,0,0,0,0,0,0,0,0,0,0],\n",
    "    [0,0,0,1,0,0,0,0,0,0,0,0,0,0,0,0,0,0],\n",
    "    [0,0,0,0,1,0,0,0,0,0,0,0,0,0,0,0,0,0],\n",
    "    [0,0,0,0,0,0.01,0,0,0,0,0,0,0,0,0,0,0,0],\n",
    "    [0,0,0,0,0,0,1,0,0,0,0,0,0,0,0,0,0,0],\n",
    "    [0,0,0,0,0,0,0,1,0,0,0,0,0,0,0,0,0,0],\n",
    "    [0,0,0,0,0,0,0,0,1,0,0,0,0,0,0,0,0,0],\n",
    "    [0,0,0,0,0,0,0,0,0,1,0,0,0,0,0,0,0,0],\n",
    "    [0,0,0,0,0,0,0,0,0,0,1,0,0,0,0,0,0,0],\n",
    "    [0,0,0,0,0,0,0,0,0,0,0,1,0,0,0,0,0,0],\n",
    "    [0,0,0,0,0,0,0,0,0,0,0,0,1,0,0,0,0,0],\n",
    "    [0,0,0,0,0,0,0,0,0,0,0,0,0,1,0,0,0,0],\n",
    "    [0,0,0,0,0,0,0,0,0,0,0,0,0,0,1,0,0,0],\n",
    "    [0,0,0,0,0,0,0,0,0,0,0,0,0,0,0,1,0,0],\n",
    "    [0,0,0,0,0,0,0,0,0,0,0,0,0,0,0,0,1,0],\n",
    "    [0,0,0,0,0,0,0,0,0,0,0,0,0,0,0,0,0,1],\n",
    "    ])"
   ]
  },
  {
   "cell_type": "code",
   "execution_count": null,
   "id": "c9b0b2e9",
   "metadata": {
    "ExecuteTime": {
     "end_time": "2022-03-28T16:38:29.921954Z",
     "start_time": "2022-03-28T16:38:29.917663Z"
    }
   },
   "outputs": [],
   "source": [
    "factor2 = ee.Image(coef3)\\\n",
    "                .matrixMultiply(texturas_ndvi) \\\n",
    "                .arrayProject([0])\\\n",
    "                .arrayFlatten(\n",
    "                [['NDVI_asm',\n",
    " 'NDVI_contrast',\n",
    " 'NDVI_corr',\n",
    " 'NDVI_var',\n",
    " 'NDVI_idm',\n",
    " 'NDVI_savg',\n",
    " 'NDVI_svar',\n",
    " 'NDVI_sent',\n",
    " 'NDVI_ent',\n",
    " 'NDVI_dvar',\n",
    " 'NDVI_dent',\n",
    " 'NDVI_imcorr1',\n",
    " 'NDVI_imcorr2',\n",
    " 'NDVI_maxcorr',\n",
    " 'NDVI_diss',\n",
    " 'NDVI_inertia',\n",
    " 'NDVI_shade',\n",
    " 'NDVI_prom']])"
   ]
  },
  {
   "cell_type": "code",
   "execution_count": null,
   "id": "2c1590bd",
   "metadata": {
    "ExecuteTime": {
     "end_time": "2022-03-28T16:38:29.922751Z",
     "start_time": "2022-03-28T16:38:29.922743Z"
    }
   },
   "outputs": [],
   "source": [
    "Map4.addLayer(factor2.select('NDVI_diss'), {} ,'correlacion' )\n",
    "Map4"
   ]
  },
  {
   "cell_type": "code",
   "execution_count": null,
   "id": "54a1b4d5",
   "metadata": {
    "ExecuteTime": {
     "end_time": "2022-03-28T16:38:29.928978Z",
     "start_time": "2022-03-28T16:38:29.923968Z"
    }
   },
   "outputs": [],
   "source": [
    "tasktxt1 = ee.batch.Export.image.toDrive(**{\n",
    "    'image': factor2.select('NDVI_savg'),\n",
    "    'description':'NDVI_savg',\n",
    "    'folder':'exp2021_19s_txt',\n",
    "    'region': geometry_exp.bounds(),\n",
    "    'scale':30,\n",
    "    'crsTransform':[30, 0, 214185, 0, -30, -4825185], \n",
    "    'crs':'EPSG:32719',\n",
    "    'maxPixels':1e13\n",
    "})"
   ]
  },
  {
   "cell_type": "code",
   "execution_count": null,
   "id": "b2798dd1",
   "metadata": {
    "ExecuteTime": {
     "end_time": "2022-03-28T16:38:29.929802Z",
     "start_time": "2022-03-28T16:38:29.929793Z"
    }
   },
   "outputs": [],
   "source": [
    "# tasktxt1.start()"
   ]
  },
  {
   "cell_type": "code",
   "execution_count": null,
   "id": "7c5833d1",
   "metadata": {
    "ExecuteTime": {
     "end_time": "2022-03-28T16:38:29.930685Z",
     "start_time": "2022-03-28T16:38:29.930675Z"
    }
   },
   "outputs": [],
   "source": [
    "texturas_NDVI = factor2.select('NDVI_savg','NDVI_var','NDVI_contrast','NDVI_diss','NDVI_ent','NDVI_asm','NDVI_corr')"
   ]
  },
  {
   "cell_type": "code",
   "execution_count": null,
   "id": "73ba3471",
   "metadata": {
    "ExecuteTime": {
     "end_time": "2022-03-28T16:38:29.937973Z",
     "start_time": "2022-03-28T16:38:29.933805Z"
    }
   },
   "outputs": [],
   "source": [
    "data_txt_ndvi = texturas_NDVI.sampleRegions(**{\n",
    "    'collection': test1,\n",
    "    'properties': ['C_ID'],\n",
    "    'scale': 30,\n",
    "    'tileScale': 2,\n",
    "})"
   ]
  },
  {
   "cell_type": "code",
   "execution_count": null,
   "id": "41b40a54",
   "metadata": {
    "ExecuteTime": {
     "end_time": "2022-03-28T16:38:29.938785Z",
     "start_time": "2022-03-28T16:38:29.938777Z"
    }
   },
   "outputs": [],
   "source": [
    "tablas3 = ee.batch.Export.table.toDrive(**{\n",
    "  'collection': data_txt_ndvi,\n",
    "  'description': 'txt_ndvi',\n",
    "  'fileFormat': 'CSV'\n",
    "})"
   ]
  },
  {
   "cell_type": "code",
   "execution_count": null,
   "id": "6a4ae5fe",
   "metadata": {
    "ExecuteTime": {
     "end_time": "2022-03-28T16:38:29.939476Z",
     "start_time": "2022-03-28T16:38:29.939466Z"
    }
   },
   "outputs": [],
   "source": [
    "# tablas3.start()"
   ]
  },
  {
   "cell_type": "markdown",
   "id": "97e92404",
   "metadata": {},
   "source": [
    "#### EVI"
   ]
  },
  {
   "cell_type": "code",
   "execution_count": null,
   "id": "f7990b77",
   "metadata": {
    "ExecuteTime": {
     "end_time": "2022-03-28T16:38:30.059138Z",
     "start_time": "2022-03-28T16:38:30.055408Z"
    }
   },
   "outputs": [],
   "source": [
    "EVI_txt_array = img5.select('EVI')\n",
    "EVI_txt_array = ndvi_txt_array.toArray()\n",
    "EVI_txt_array = ndvi_txt_array.toArray(1)"
   ]
  },
  {
   "cell_type": "code",
   "execution_count": null,
   "id": "69b3dada",
   "metadata": {
    "ExecuteTime": {
     "end_time": "2022-03-28T16:38:30.059862Z",
     "start_time": "2022-03-28T16:38:30.059855Z"
    }
   },
   "outputs": [],
   "source": [
    "coef2 = ee.Array([[100]])"
   ]
  },
  {
   "cell_type": "code",
   "execution_count": null,
   "id": "7b9da650",
   "metadata": {
    "ExecuteTime": {
     "end_time": "2022-03-28T16:38:30.066260Z",
     "start_time": "2022-03-28T16:38:30.062655Z"
    }
   },
   "outputs": [],
   "source": [
    "factor_evi = ee.Image(coef2)\\\n",
    "                .matrixMultiply(EVI_txt_array) \\\n",
    "                .arrayProject([0])\\\n",
    "                .arrayFlatten(\n",
    "                [['EVI']])"
   ]
  },
  {
   "cell_type": "code",
   "execution_count": null,
   "id": "95ca18ac",
   "metadata": {
    "ExecuteTime": {
     "end_time": "2022-03-28T16:38:30.067272Z",
     "start_time": "2022-03-28T16:38:30.067261Z"
    }
   },
   "outputs": [],
   "source": [
    "factor_evi.bandTypes().getInfo()"
   ]
  },
  {
   "cell_type": "code",
   "execution_count": null,
   "id": "c9c13d37",
   "metadata": {
    "ExecuteTime": {
     "end_time": "2022-03-28T16:38:30.072438Z",
     "start_time": "2022-03-28T16:38:30.068374Z"
    }
   },
   "outputs": [],
   "source": [
    "factor_evi_txt = factor_evi.int()"
   ]
  },
  {
   "cell_type": "code",
   "execution_count": null,
   "id": "636f6699",
   "metadata": {
    "ExecuteTime": {
     "end_time": "2022-03-28T16:38:30.073356Z",
     "start_time": "2022-03-28T16:38:30.073348Z"
    }
   },
   "outputs": [],
   "source": [
    "factor_evi_txt.bandTypes().getInfo()"
   ]
  },
  {
   "cell_type": "code",
   "execution_count": null,
   "id": "06c58d6a",
   "metadata": {
    "ExecuteTime": {
     "end_time": "2022-03-28T16:38:30.078433Z",
     "start_time": "2022-03-28T16:38:30.074440Z"
    }
   },
   "outputs": [],
   "source": [
    "txt_evi = factor_evi_txt.glcmTexture(3)"
   ]
  },
  {
   "cell_type": "code",
   "execution_count": null,
   "id": "95317ced",
   "metadata": {
    "ExecuteTime": {
     "end_time": "2022-03-28T16:38:30.079214Z",
     "start_time": "2022-03-28T16:38:30.079206Z"
    }
   },
   "outputs": [],
   "source": [
    "txt_evi.bandNames().getInfo()"
   ]
  },
  {
   "cell_type": "code",
   "execution_count": null,
   "id": "82042902",
   "metadata": {
    "ExecuteTime": {
     "end_time": "2022-03-28T16:38:30.083900Z",
     "start_time": "2022-03-28T16:38:30.080234Z"
    }
   },
   "outputs": [],
   "source": [
    "texturas_evi = txt_evi\n",
    "texturas_evi = texturas_evi.toArray()\n",
    "texturas_evi = texturas_evi.toArray(1)"
   ]
  },
  {
   "cell_type": "code",
   "execution_count": null,
   "id": "e7c55d44",
   "metadata": {
    "ExecuteTime": {
     "end_time": "2022-03-28T16:38:30.084677Z",
     "start_time": "2022-03-28T16:38:30.084669Z"
    }
   },
   "outputs": [],
   "source": [
    "coef3 = ee.Array([\n",
    "    [1,0,0,0,0,0,0,0,0,0,0,0,0,0,0,0,0,0],\n",
    "    [0,0.01,0,0,0,0,0,0,0,0,0,0,0,0,0,0,0,0],\n",
    "    [0,0,1,0,0,0,0,0,0,0,0,0,0,0,0,0,0,0],\n",
    "    [0,0,0,1,0,0,0,0,0,0,0,0,0,0,0,0,0,0],\n",
    "    [0,0,0,0,1,0,0,0,0,0,0,0,0,0,0,0,0,0],\n",
    "    [0,0,0,0,0,0.01,0,0,0,0,0,0,0,0,0,0,0,0],\n",
    "    [0,0,0,0,0,0,1,0,0,0,0,0,0,0,0,0,0,0],\n",
    "    [0,0,0,0,0,0,0,1,0,0,0,0,0,0,0,0,0,0],\n",
    "    [0,0,0,0,0,0,0,0,1,0,0,0,0,0,0,0,0,0],\n",
    "    [0,0,0,0,0,0,0,0,0,1,0,0,0,0,0,0,0,0],\n",
    "    [0,0,0,0,0,0,0,0,0,0,1,0,0,0,0,0,0,0],\n",
    "    [0,0,0,0,0,0,0,0,0,0,0,1,0,0,0,0,0,0],\n",
    "    [0,0,0,0,0,0,0,0,0,0,0,0,1,0,0,0,0,0],\n",
    "    [0,0,0,0,0,0,0,0,0,0,0,0,0,1,0,0,0,0],\n",
    "    [0,0,0,0,0,0,0,0,0,0,0,0,0,0,1,0,0,0],\n",
    "    [0,0,0,0,0,0,0,0,0,0,0,0,0,0,0,1,0,0],\n",
    "    [0,0,0,0,0,0,0,0,0,0,0,0,0,0,0,0,1,0],\n",
    "    [0,0,0,0,0,0,0,0,0,0,0,0,0,0,0,0,0,1]\n",
    "    ])"
   ]
  },
  {
   "cell_type": "code",
   "execution_count": null,
   "id": "082923f8",
   "metadata": {
    "ExecuteTime": {
     "end_time": "2022-03-28T16:38:30.091519Z",
     "start_time": "2022-03-28T16:38:30.087342Z"
    }
   },
   "outputs": [],
   "source": [
    "factor3 = ee.Image(coef3)\\\n",
    "                .matrixMultiply(texturas_evi) \\\n",
    "                .arrayProject([0])\\\n",
    "                .arrayFlatten(\n",
    "                [['EVI_asm',\n",
    " 'EVI_contrast',\n",
    " 'EVI_corr',\n",
    " 'EVI_var',\n",
    " 'EVI_idm',\n",
    " 'EVI_savg',\n",
    " 'EVI_svar',\n",
    " 'EVI_sent',\n",
    " 'EVI_ent',\n",
    " 'EVI_dvar',\n",
    " 'EVI_dent',\n",
    " 'EVI_imcorr1',\n",
    " 'EVI_imcorr2',\n",
    " 'EVI_maxcorr',\n",
    " 'EVI_diss',\n",
    " 'EVI_inertia',\n",
    " 'EVI_shade',\n",
    " 'EVI_prom']])"
   ]
  },
  {
   "cell_type": "code",
   "execution_count": null,
   "id": "2cb59bdc",
   "metadata": {
    "ExecuteTime": {
     "end_time": "2022-03-28T16:38:30.092346Z",
     "start_time": "2022-03-28T16:38:30.092338Z"
    }
   },
   "outputs": [],
   "source": [
    "Map4.addLayer(factor3.select('EVI_corr'), {} ,'correlacion' )\n",
    "Map4"
   ]
  },
  {
   "cell_type": "code",
   "execution_count": null,
   "id": "01eda23e",
   "metadata": {
    "ExecuteTime": {
     "end_time": "2022-03-28T16:38:30.096755Z",
     "start_time": "2022-03-28T16:38:30.093250Z"
    }
   },
   "outputs": [],
   "source": [
    "texturas_EVI = factor3.select('EVI_savg','EVI_var','EVI_contrast','EVI_diss','EVI_ent','EVI_asm','EVI_corr')"
   ]
  },
  {
   "cell_type": "code",
   "execution_count": null,
   "id": "7b72d0dd",
   "metadata": {
    "ExecuteTime": {
     "end_time": "2022-03-28T16:38:30.097558Z",
     "start_time": "2022-03-28T16:38:30.097550Z"
    }
   },
   "outputs": [],
   "source": [
    "data_txt_evi = texturas_EVI.sampleRegions(**{\n",
    "    'collection': test1,\n",
    "    'properties': ['C_ID'],\n",
    "    'scale': 30,\n",
    "    'tileScale': 2,\n",
    "})"
   ]
  },
  {
   "cell_type": "code",
   "execution_count": null,
   "id": "e11c753f",
   "metadata": {
    "ExecuteTime": {
     "end_time": "2022-03-28T16:38:30.101969Z",
     "start_time": "2022-03-28T16:38:30.098536Z"
    }
   },
   "outputs": [],
   "source": [
    "tablas4 = ee.batch.Export.table.toDrive(**{\n",
    "  'collection': data_txt_evi,\n",
    "  'description': 'txt_evi',\n",
    "  'fileFormat': 'CSV'\n",
    "})"
   ]
  },
  {
   "cell_type": "code",
   "execution_count": null,
   "id": "bb2d81cd",
   "metadata": {
    "ExecuteTime": {
     "end_time": "2022-03-28T16:38:30.102736Z",
     "start_time": "2022-03-28T16:38:30.102728Z"
    }
   },
   "outputs": [],
   "source": [
    "# tablas4.start()"
   ]
  },
  {
   "cell_type": "markdown",
   "id": "b47c8c2d",
   "metadata": {},
   "source": [
    "### DEM"
   ]
  },
  {
   "cell_type": "code",
   "execution_count": null,
   "id": "1e589fd2",
   "metadata": {
    "ExecuteTime": {
     "end_time": "2022-03-28T16:38:30.236944Z",
     "start_time": "2022-03-28T16:38:30.233174Z"
    }
   },
   "outputs": [],
   "source": [
    "dem = ee.Image('USGS/SRTMGL1_003').clip(patagonia_grande)"
   ]
  },
  {
   "cell_type": "code",
   "execution_count": null,
   "id": "68a1da78",
   "metadata": {
    "ExecuteTime": {
     "end_time": "2022-03-28T16:38:30.237785Z",
     "start_time": "2022-03-28T16:38:30.237777Z"
    }
   },
   "outputs": [],
   "source": [
    "elevation = dem.select('elevation')"
   ]
  },
  {
   "cell_type": "code",
   "execution_count": null,
   "id": "a40d4496",
   "metadata": {
    "ExecuteTime": {
     "end_time": "2022-03-28T16:38:30.244028Z",
     "start_time": "2022-03-28T16:38:30.240546Z"
    }
   },
   "outputs": [],
   "source": [
    "slope = ee.Terrain.slope(elevation)"
   ]
  },
  {
   "cell_type": "code",
   "execution_count": null,
   "id": "10b15563",
   "metadata": {
    "ExecuteTime": {
     "end_time": "2022-03-28T16:38:30.244815Z",
     "start_time": "2022-03-28T16:38:30.244808Z"
    }
   },
   "outputs": [],
   "source": [
    "aspect = ee.Terrain.aspect(dem)"
   ]
  },
  {
   "cell_type": "code",
   "execution_count": null,
   "id": "5250d642",
   "metadata": {
    "ExecuteTime": {
     "end_time": "2022-03-28T16:38:30.249095Z",
     "start_time": "2022-03-28T16:38:30.245699Z"
    }
   },
   "outputs": [],
   "source": [
    "Map5.addLayer(aspect, {} ,'slope' )\n",
    "Map5"
   ]
  },
  {
   "cell_type": "code",
   "execution_count": null,
   "id": "ca110a09",
   "metadata": {
    "ExecuteTime": {
     "end_time": "2022-03-28T16:38:30.249823Z",
     "start_time": "2022-03-28T16:38:30.249816Z"
    }
   },
   "outputs": [],
   "source": [
    "dem_data = elevation.addBands([slope,aspect])"
   ]
  },
  {
   "cell_type": "code",
   "execution_count": null,
   "id": "95aed35b",
   "metadata": {
    "ExecuteTime": {
     "end_time": "2022-03-28T16:38:30.257074Z",
     "start_time": "2022-03-28T16:38:30.253659Z"
    }
   },
   "outputs": [],
   "source": [
    "dem_data.bandNames().getInfo()"
   ]
  },
  {
   "cell_type": "code",
   "execution_count": null,
   "id": "d509a962",
   "metadata": {
    "ExecuteTime": {
     "end_time": "2022-03-28T16:38:30.262263Z",
     "start_time": "2022-03-28T16:38:30.258127Z"
    }
   },
   "outputs": [],
   "source": [
    "data_dem = dem_data.sampleRegions(**{\n",
    "    'collection': test1,\n",
    "    'properties': ['C_ID'],\n",
    "    'scale': 30,\n",
    "    'tileScale': 2,\n",
    "})"
   ]
  },
  {
   "cell_type": "code",
   "execution_count": null,
   "id": "2ab0aca5",
   "metadata": {
    "ExecuteTime": {
     "end_time": "2022-03-28T16:38:30.263083Z",
     "start_time": "2022-03-28T16:38:30.263074Z"
    }
   },
   "outputs": [],
   "source": [
    "tablasdem = ee.batch.Export.table.toDrive(**{\n",
    "  'collection': data_dem,\n",
    "  'description': 'txt_dem',\n",
    "  'fileFormat': 'CSV'\n",
    "})"
   ]
  },
  {
   "cell_type": "code",
   "execution_count": null,
   "id": "5f8d4c10",
   "metadata": {
    "ExecuteTime": {
     "end_time": "2022-03-28T16:38:30.265665Z",
     "start_time": "2022-03-28T16:38:30.264248Z"
    }
   },
   "outputs": [],
   "source": [
    "# tablasdem.start()"
   ]
  },
  {
   "cell_type": "markdown",
   "id": "5bf4e2ba",
   "metadata": {},
   "source": [
    "### Serie de NDVI"
   ]
  },
  {
   "cell_type": "markdown",
   "id": "71b14f16",
   "metadata": {},
   "source": [
    "#### Índices Primavera"
   ]
  },
  {
   "cell_type": "code",
   "execution_count": null,
   "id": "76a2991a",
   "metadata": {
    "ExecuteTime": {
     "end_time": "2022-03-28T16:38:30.540541Z",
     "start_time": "2022-03-28T16:38:30.536440Z"
    }
   },
   "outputs": [],
   "source": [
    "start_date = '2021-09-30'\n",
    "end_date = '2022-03-31'\n",
    "\n",
    "l8_2021 = ee.ImageCollection('LANDSAT/LC08/C01/T1_TOA') \\\n",
    "    .filterBounds(patagonia_grande) \\\n",
    "    .filterDate(start_date, end_date)  "
   ]
  },
  {
   "cell_type": "markdown",
   "id": "4d8b0521",
   "metadata": {},
   "source": [
    "#### Índices Invierno"
   ]
  },
  {
   "cell_type": "markdown",
   "id": "aa35ddce",
   "metadata": {},
   "source": [
    "##### Colección"
   ]
  },
  {
   "cell_type": "code",
   "execution_count": null,
   "id": "03a5af16",
   "metadata": {
    "ExecuteTime": {
     "end_time": "2022-03-28T16:38:30.813090Z",
     "start_time": "2022-03-28T16:38:30.807858Z"
    }
   },
   "outputs": [],
   "source": [
    "filterwinter = ee.Filter.Or(\n",
    "    ee.Filter.date('2021-06-30','2021-09-01'),\n",
    "    ee.Filter.date('2020-06-30','2020-09-01'),\n",
    "    ee.Filter.date('2019-06-30','2019-09-01'),\n",
    "    ee.Filter.date('2018-06-30','2018-09-01'),\n",
    "    ee.Filter.date('2017-06-30','2017-09-01')\n",
    ")"
   ]
  },
  {
   "cell_type": "code",
   "execution_count": null,
   "id": "f7454d39",
   "metadata": {
    "ExecuteTime": {
     "end_time": "2022-03-28T16:38:30.814037Z",
     "start_time": "2022-03-28T16:38:30.814028Z"
    }
   },
   "outputs": [],
   "source": [
    "coleccion2022_2017_invierno = ee.ImageCollection('LANDSAT/LC08/C01/T1_TOA') \\\n",
    "    .filterDate('2017-06-30', '2022-09-01') \\\n",
    "    .filter(filterwinter) \\\n",
    "    .filterBounds(patagonia_grande)"
   ]
  },
  {
   "cell_type": "code",
   "execution_count": null,
   "id": "b4a898bb",
   "metadata": {
    "ExecuteTime": {
     "end_time": "2022-03-28T16:38:30.818781Z",
     "start_time": "2022-03-28T16:38:30.815084Z"
    }
   },
   "outputs": [],
   "source": [
    "l8_winter= coleccion2022_2017_invierno.map(addNDVI).map(addNDWI).map(addNDGI).map(addSAVI).map(addNDSI).map(addNDBI).map(addEVI).map(addDate).map(addCloud)"
   ]
  },
  {
   "cell_type": "code",
   "execution_count": null,
   "id": "21f952d1",
   "metadata": {
    "ExecuteTime": {
     "end_time": "2022-03-28T16:38:30.819642Z",
     "start_time": "2022-03-28T16:38:30.819634Z"
    }
   },
   "outputs": [],
   "source": [
    "Tier1_winter_sn = l8_winter.map(Cloud10)\n",
    "Tier2_winter_sn = l8_winter.map(Cloud20)\n",
    "Tier3_winter_sn = l8_winter.map(Cloud30)\n",
    "Tier4_winter_sn = l8_winter.map(Cloud40)\n",
    "QM_NDVI_winterT1_sn = Tier1_winter_sn.qualityMosaic('NDVI')\n",
    "QM_NDVI_winterT2_sn = Tier2_winter_sn.qualityMosaic('NDVI')\n",
    "QM_NDVI_winterT3_sn = Tier3_winter_sn.qualityMosaic('NDVI')\n",
    "QM_NDVI_winterT4_sn = Tier4_winter_sn.qualityMosaic('NDVI')\n",
    "Med_NDVI_winterT1_sn = (Tier1_winter_sn.median()).select('NDVI')\n",
    "Med_NDVI_winterT2_sn = (Tier2_winter_sn.median()).select('NDVI')\n",
    "Med_NDVI_winterT3_sn = (Tier3_winter_sn.median()).select('NDVI')\n",
    "Med_NDVI_winterT4_sn = (Tier4_winter_sn.median()).select('NDVI')\n",
    "QM_NDWI_winterT1_sn = Tier1_winter_sn.qualityMosaic('NDWI')\n",
    "cloudest_winter = l8_winter.qualityMosaic('nube')"
   ]
  },
  {
   "cell_type": "code",
   "execution_count": null,
   "id": "361ddf5c",
   "metadata": {
    "ExecuteTime": {
     "end_time": "2022-03-28T16:38:30.824759Z",
     "start_time": "2022-03-28T16:38:30.820854Z"
    }
   },
   "outputs": [],
   "source": [
    "NDVI_2021_landsatw = cloudest_winter.set('SENSOR_ID', 'OLI_TIRS')\n",
    "cloud_2021w = ee.Algorithms.Landsat.simpleCloudScore(NDVI_2021_landsatw)\n",
    "cloud_2021w = cloud_2021w.select('cloud')\n",
    "palette_nubes = ['#1a9850', '#d73027']\n",
    "resultados= [cloud_2021w, cloudest_winter]\n",
    "vis_params2=  [\n",
    "    {'palette':palette_nubes}, \n",
    "    vizParams]\n",
    "labels = [\n",
    "    'Nubes 2021',\n",
    "    'QM NDVI 2021']"
   ]
  },
  {
   "cell_type": "code",
   "execution_count": null,
   "id": "3f9873ae",
   "metadata": {
    "ExecuteTime": {
     "end_time": "2022-03-28T16:38:30.825552Z",
     "start_time": "2022-03-28T16:38:30.825544Z"
    }
   },
   "outputs": [],
   "source": [
    "geemap.linked_maps(rows=1, cols=2, height=\"400px\", center=[-45, -75], zoom=4, \n",
    "                   ee_objects=resultados, vis_params=vis_params2, labels=labels, label_position=\"topright\")"
   ]
  },
  {
   "cell_type": "code",
   "execution_count": null,
   "id": "4a5662ac",
   "metadata": {
    "ExecuteTime": {
     "end_time": "2022-03-28T16:38:30.828410Z",
     "start_time": "2022-03-28T16:38:30.826659Z"
    }
   },
   "outputs": [],
   "source": [
    "def llenado(image):\n",
    "    return image.where(cloud_2021w.gt(10),QM_NDVI_winterT1_sn)"
   ]
  },
  {
   "cell_type": "code",
   "execution_count": null,
   "id": "26d3e67f",
   "metadata": {
    "ExecuteTime": {
     "end_time": "2022-03-28T16:38:30.832750Z",
     "start_time": "2022-03-28T16:38:30.829386Z"
    }
   },
   "outputs": [],
   "source": [
    "img1w = llenado(cloudest_winter)"
   ]
  },
  {
   "cell_type": "code",
   "execution_count": null,
   "id": "f1de3817",
   "metadata": {
    "ExecuteTime": {
     "end_time": "2022-03-28T16:38:30.833605Z",
     "start_time": "2022-03-28T16:38:30.833597Z"
    }
   },
   "outputs": [],
   "source": [
    "img1_landsatw = img1w.set('SENSOR_ID', 'OLI_TIRS')\n",
    "cloud_img1w = ee.Algorithms.Landsat.simpleCloudScore(img1_landsatw)\n",
    "cloud_img1w = cloud_img1w.select('cloud')\n",
    "resultados= [cloud_img1w, img1_landsatw]\n",
    "vis_params2=  [\n",
    "    {'palette':palette_nubes}, \n",
    "    vizParams]\n",
    "labels = [\n",
    "    'Nubes Mosaico 1',\n",
    "    'Mosaico 1']\n"
   ]
  },
  {
   "cell_type": "code",
   "execution_count": null,
   "id": "08b220cc",
   "metadata": {
    "ExecuteTime": {
     "end_time": "2022-03-28T16:38:30.839385Z",
     "start_time": "2022-03-28T16:38:30.835773Z"
    }
   },
   "outputs": [],
   "source": [
    "geemap.linked_maps(rows=1, cols=2, height=\"400px\", center=[-45, -75], zoom=4, \n",
    "                   ee_objects=resultados, vis_params=vis_params2, labels=labels, label_position=\"topright\")"
   ]
  },
  {
   "cell_type": "code",
   "execution_count": null,
   "id": "3b1d6328",
   "metadata": {
    "ExecuteTime": {
     "end_time": "2022-03-28T16:38:30.840173Z",
     "start_time": "2022-03-28T16:38:30.840166Z"
    }
   },
   "outputs": [],
   "source": [
    "def llenado2(image):\n",
    "    return image.where(cloud_img1w.gt(10), QM_NDVI_winterT2_sn)"
   ]
  },
  {
   "cell_type": "code",
   "execution_count": null,
   "id": "3ba29597",
   "metadata": {
    "ExecuteTime": {
     "end_time": "2022-03-28T16:38:30.844639Z",
     "start_time": "2022-03-28T16:38:30.841266Z"
    }
   },
   "outputs": [],
   "source": [
    "img2w = llenado2(img1w)"
   ]
  },
  {
   "cell_type": "code",
   "execution_count": null,
   "id": "d56fc7ca",
   "metadata": {
    "ExecuteTime": {
     "end_time": "2022-03-28T16:38:30.845424Z",
     "start_time": "2022-03-28T16:38:30.845416Z"
    }
   },
   "outputs": [],
   "source": [
    "img2_landsatw = img2w.set('SENSOR_ID', 'OLI_TIRS')\n",
    "cloud_img2w = ee.Algorithms.Landsat.simpleCloudScore(img2_landsatw)\n",
    "cloud_img2w = cloud_img2w.select('cloud')\n",
    "resultados= [cloud_img2w, img2_landsatw]\n",
    "vis_params2=  [\n",
    "    {'palette':palette_nubes}, \n",
    "    vizParams]\n",
    "labels = [\n",
    "    'Nubes Mosaico 2',\n",
    "    'Mosaico 2']"
   ]
  },
  {
   "cell_type": "code",
   "execution_count": null,
   "id": "88cb46ab",
   "metadata": {
    "ExecuteTime": {
     "end_time": "2022-03-28T16:38:30.851892Z",
     "start_time": "2022-03-28T16:38:30.848089Z"
    }
   },
   "outputs": [],
   "source": [
    "geemap.linked_maps(rows=1, cols=2, height=\"400px\", center=[-45, -75], zoom=4, \n",
    "                   ee_objects=resultados, vis_params=vis_params2, labels=labels, label_position=\"topright\")"
   ]
  },
  {
   "cell_type": "code",
   "execution_count": null,
   "id": "3356de7b",
   "metadata": {
    "ExecuteTime": {
     "end_time": "2022-03-28T16:38:30.852745Z",
     "start_time": "2022-03-28T16:38:30.852737Z"
    }
   },
   "outputs": [],
   "source": [
    "def llenado3(image):\n",
    "    return image.where(cloud_img2w.gt(10), QM_NDVI_winterT3_sn)"
   ]
  },
  {
   "cell_type": "code",
   "execution_count": null,
   "id": "0e7cd55e",
   "metadata": {
    "ExecuteTime": {
     "end_time": "2022-03-28T16:38:30.857201Z",
     "start_time": "2022-03-28T16:38:30.853902Z"
    }
   },
   "outputs": [],
   "source": [
    "img3w = llenado3(img2w)"
   ]
  },
  {
   "cell_type": "code",
   "execution_count": null,
   "id": "c4f76970",
   "metadata": {
    "ExecuteTime": {
     "end_time": "2022-03-28T16:38:30.858063Z",
     "start_time": "2022-03-28T16:38:30.858054Z"
    }
   },
   "outputs": [],
   "source": [
    "img3_landsatw = img3w.set('SENSOR_ID', 'OLI_TIRS')\n",
    "cloud_img3w = ee.Algorithms.Landsat.simpleCloudScore(img3_landsatw)\n",
    "cloud_img3w = cloud_img3w.select('cloud')\n",
    "resultados= [cloud_img3w, img3_landsatw]\n",
    "vis_params2=  [\n",
    "    {'palette':palette_nubes}, \n",
    "    vizParams]\n",
    "labels = [\n",
    "    'Nubes Mosaico 3',\n",
    "    'Mosaico 3']"
   ]
  },
  {
   "cell_type": "code",
   "execution_count": null,
   "id": "d2cb75bb",
   "metadata": {
    "ExecuteTime": {
     "end_time": "2022-03-28T16:38:30.864895Z",
     "start_time": "2022-03-28T16:38:30.860974Z"
    }
   },
   "outputs": [],
   "source": [
    "geemap.linked_maps(rows=1, cols=2, height=\"400px\", center=[-45, -75], zoom=4, \n",
    "                   ee_objects=resultados, vis_params=vis_params2, labels=labels, label_position=\"topright\")"
   ]
  },
  {
   "cell_type": "code",
   "execution_count": null,
   "id": "6f60bb99",
   "metadata": {
    "ExecuteTime": {
     "end_time": "2022-03-28T16:38:30.865702Z",
     "start_time": "2022-03-28T16:38:30.865694Z"
    }
   },
   "outputs": [],
   "source": [
    "def llenado4(image):\n",
    "    return image.where(cloud_img3w.gt(10), QM_NDVI_winterT4_sn)"
   ]
  },
  {
   "cell_type": "code",
   "execution_count": null,
   "id": "8dffa730",
   "metadata": {
    "ExecuteTime": {
     "end_time": "2022-03-28T16:38:30.870089Z",
     "start_time": "2022-03-28T16:38:30.866762Z"
    }
   },
   "outputs": [],
   "source": [
    "img4w = llenado4(img3w)"
   ]
  },
  {
   "cell_type": "code",
   "execution_count": null,
   "id": "2691a284",
   "metadata": {
    "ExecuteTime": {
     "end_time": "2022-03-28T16:38:30.870901Z",
     "start_time": "2022-03-28T16:38:30.870893Z"
    }
   },
   "outputs": [],
   "source": [
    "img4_landsatw = img4w.set('SENSOR_ID', 'OLI_TIRS')\n",
    "cloud_img4w = ee.Algorithms.Landsat.simpleCloudScore(img4_landsatw)\n",
    "cloud_img4w = cloud_img4w.select('cloud')\n",
    "resultados= [cloud_img4w, img4_landsatw]\n",
    "vis_params2=  [\n",
    "    {'palette':palette_nubes}, \n",
    "    vizParams]\n",
    "labels = [\n",
    "    'Nubes Mosaico 4',\n",
    "    'Mosaico 4']"
   ]
  },
  {
   "cell_type": "code",
   "execution_count": null,
   "id": "3f75eab5",
   "metadata": {
    "ExecuteTime": {
     "end_time": "2022-03-28T16:38:30.875657Z",
     "start_time": "2022-03-28T16:38:30.871876Z"
    }
   },
   "outputs": [],
   "source": [
    "geemap.linked_maps(rows=1, cols=2, height=\"400px\", center=[-45, -75], zoom=4, \n",
    "                   ee_objects=resultados, vis_params=vis_params2, labels=labels, label_position=\"topright\")"
   ]
  },
  {
   "cell_type": "code",
   "execution_count": null,
   "id": "aecc9229",
   "metadata": {
    "ExecuteTime": {
     "end_time": "2022-03-28T16:38:30.876458Z",
     "start_time": "2022-03-28T16:38:30.876451Z"
    }
   },
   "outputs": [],
   "source": [
    "hansenImage = ee.Image('UMD/hansen/global_forest_change_2015')\n",
    "datamask = hansenImage.select('datamask')"
   ]
  },
  {
   "cell_type": "code",
   "execution_count": null,
   "id": "6d468e38",
   "metadata": {
    "ExecuteTime": {
     "end_time": "2022-03-28T16:38:30.881176Z",
     "start_time": "2022-03-28T16:38:30.879212Z"
    }
   },
   "outputs": [],
   "source": [
    "def llenado5(image):\n",
    "    return image.where(datamask.eq(2), QM_NDWI_winterT1_sn)"
   ]
  },
  {
   "cell_type": "code",
   "execution_count": null,
   "id": "2b037646",
   "metadata": {
    "ExecuteTime": {
     "end_time": "2022-03-28T16:38:30.885495Z",
     "start_time": "2022-03-28T16:38:30.882087Z"
    }
   },
   "outputs": [],
   "source": [
    "img5w = llenado5(img4w)"
   ]
  },
  {
   "cell_type": "code",
   "execution_count": null,
   "id": "7effd1b3",
   "metadata": {
    "ExecuteTime": {
     "end_time": "2022-03-28T16:38:30.886410Z",
     "start_time": "2022-03-28T16:38:30.886402Z"
    }
   },
   "outputs": [],
   "source": [
    "img5_landsatw = img5w.set('SENSOR_ID', 'OLI_TIRS')"
   ]
  },
  {
   "cell_type": "code",
   "execution_count": null,
   "id": "a224b476",
   "metadata": {
    "ExecuteTime": {
     "end_time": "2022-03-28T16:38:30.891485Z",
     "start_time": "2022-03-28T16:38:30.887324Z"
    }
   },
   "outputs": [],
   "source": [
    "resultados= [img4w, img5w]\n",
    "labels = [\n",
    "    'Mosaico 4',\n",
    "    'Mosaico 5']\n",
    "vis_params3=  [\n",
    "     vizParams, \n",
    "    vizParams]"
   ]
  },
  {
   "cell_type": "code",
   "execution_count": null,
   "id": "fd208aef",
   "metadata": {
    "ExecuteTime": {
     "end_time": "2022-03-28T16:38:30.892342Z",
     "start_time": "2022-03-28T16:38:30.892333Z"
    }
   },
   "outputs": [],
   "source": [
    "geemap.linked_maps(rows=1, cols=2, height=\"400px\", center=[-45, -75], zoom=4, \n",
    "                   ee_objects=resultados, vis_params=vis_params3, labels=labels, label_position=\"topright\")"
   ]
  },
  {
   "cell_type": "code",
   "execution_count": null,
   "id": "d3604139",
   "metadata": {
    "ExecuteTime": {
     "end_time": "2022-03-28T16:38:30.897261Z",
     "start_time": "2022-03-28T16:38:30.893568Z"
    }
   },
   "outputs": [],
   "source": [
    "img5_winter_NDVI = img5w.select('NDVI').rename('NDVI_winter')\n",
    "img5_winter_EVI = img5w.select('EVI').rename('EVI_winter')"
   ]
  },
  {
   "cell_type": "markdown",
   "id": "1a2e8c62",
   "metadata": {},
   "source": [
    "#### Índices Otoño"
   ]
  },
  {
   "cell_type": "markdown",
   "id": "ffa9f047",
   "metadata": {},
   "source": [
    "## Clasificación de Bandas"
   ]
  },
  {
   "cell_type": "code",
   "execution_count": null,
   "id": "828ab2bb",
   "metadata": {
    "ExecuteTime": {
     "end_time": "2022-03-28T16:38:31.219676Z",
     "start_time": "2022-03-28T16:38:31.215879Z"
    }
   },
   "outputs": [],
   "source": [
    "img_bandas_totales = img_final.addBands([dem_data,img5_winter_EVI])\n",
    "img_bandas_totales_M = img_final_m.addBands([dem_data,img5_winter_EVI])"
   ]
  },
  {
   "cell_type": "code",
   "execution_count": null,
   "id": "035c5970",
   "metadata": {
    "ExecuteTime": {
     "end_time": "2022-03-28T16:38:31.220724Z",
     "start_time": "2022-03-28T16:38:31.220714Z"
    }
   },
   "outputs": [],
   "source": [
    "img_bandas_totales.bandNames().getInfo()"
   ]
  },
  {
   "cell_type": "markdown",
   "id": "1ecd65dd",
   "metadata": {},
   "source": [
    "### Bandas Andrés"
   ]
  },
  {
   "cell_type": "code",
   "execution_count": null,
   "id": "9cadec75",
   "metadata": {
    "ExecuteTime": {
     "end_time": "2022-03-28T16:38:31.385330Z",
     "start_time": "2022-03-28T16:38:31.383677Z"
    }
   },
   "outputs": [],
   "source": [
    "bands = ['B4',\n",
    " 'B5',\n",
    " 'NDWI',\n",
    " 'NDBI',\n",
    " 'EVI',\n",
    " 'EVI_winter',\n",
    " 'elevation',\n",
    " 'slope'\n",
    "]"
   ]
  },
  {
   "cell_type": "code",
   "execution_count": null,
   "id": "1e63447d",
   "metadata": {
    "ExecuteTime": {
     "end_time": "2022-03-28T16:38:31.390276Z",
     "start_time": "2022-03-28T16:38:31.386611Z"
    }
   },
   "outputs": [],
   "source": [
    "img_bandas_totales_8b =img_bandas_totales.select(bands)\n",
    "img_bandas_totales_8bM = img_bandas_totales_M.select(bands)"
   ]
  },
  {
   "cell_type": "code",
   "execution_count": null,
   "id": "6e87ca3c",
   "metadata": {
    "ExecuteTime": {
     "end_time": "2022-03-28T16:38:31.391090Z",
     "start_time": "2022-03-28T16:38:31.391083Z"
    }
   },
   "outputs": [],
   "source": [
    "img_bandas_totales_8b.bandNames().getInfo()"
   ]
  },
  {
   "cell_type": "code",
   "execution_count": null,
   "id": "21b9d819",
   "metadata": {
    "ExecuteTime": {
     "end_time": "2022-03-28T16:38:31.397526Z",
     "start_time": "2022-03-28T16:38:31.393730Z"
    }
   },
   "outputs": [],
   "source": [
    "data_QM_8b = img_bandas_totales_8b.sampleRegions(**{\n",
    "    'collection': test1,\n",
    "    'properties': ['C_ID'],\n",
    "    'scale': 30,\n",
    "    'tileScale': 2,\n",
    "})"
   ]
  },
  {
   "cell_type": "code",
   "execution_count": null,
   "id": "a2678afe",
   "metadata": {
    "ExecuteTime": {
     "end_time": "2022-03-28T16:38:31.398270Z",
     "start_time": "2022-03-28T16:38:31.398263Z"
    }
   },
   "outputs": [],
   "source": [
    "data_MED_8b = img_bandas_totales_8bM.sampleRegions(**{\n",
    "    'collection': test1,\n",
    "    'properties': ['C_ID'],\n",
    "    'scale': 30,\n",
    "    'tileScale': 2,\n",
    "})"
   ]
  },
  {
   "cell_type": "code",
   "execution_count": null,
   "id": "4c44ecae",
   "metadata": {
    "ExecuteTime": {
     "end_time": "2022-03-28T16:38:31.404534Z",
     "start_time": "2022-03-28T16:38:31.400125Z"
    }
   },
   "outputs": [],
   "source": [
    "classifier_QM_8b = ee.Classifier.smileRandomForest(100).train(data_QM_8b,label_train,bands)\n",
    "classifier_MED_8b = ee.Classifier.smileRandomForest(100).train(data_MED_8b,label_train,bands)"
   ]
  },
  {
   "cell_type": "code",
   "execution_count": null,
   "id": "75cead68",
   "metadata": {
    "ExecuteTime": {
     "end_time": "2022-03-28T16:38:31.405359Z",
     "start_time": "2022-03-28T16:38:31.405351Z"
    }
   },
   "outputs": [],
   "source": [
    "result_QM_8b = img_bandas_totales_8b.select(bands).classify(classifier_QM_8b)\n",
    "result_MED_8b = img_bandas_totales_8bM.select(bands).classify(classifier_MED_8b)"
   ]
  },
  {
   "cell_type": "code",
   "execution_count": null,
   "id": "23e40830",
   "metadata": {
    "ExecuteTime": {
     "end_time": "2022-03-28T16:38:31.409718Z",
     "start_time": "2022-03-28T16:38:31.406375Z"
    }
   },
   "outputs": [],
   "source": [
    "landcover_QM_8b = result_QM_8b.set('classification_class_values', class_values2)\n",
    "landcover_QM_8b = landcover_QM_8b.set('classification_class_palette',class_palette2)"
   ]
  },
  {
   "cell_type": "code",
   "execution_count": null,
   "id": "52d0d610",
   "metadata": {
    "ExecuteTime": {
     "end_time": "2022-03-28T16:38:31.410627Z",
     "start_time": "2022-03-28T16:38:31.410619Z"
    }
   },
   "outputs": [],
   "source": [
    "landcover_MED_8b = result_MED_8b.set('classification_class_values', class_values2)\n",
    "landcover_MED_8b = landcover_MED_8b.set('classification_class_palette',class_palette2)"
   ]
  },
  {
   "cell_type": "code",
   "execution_count": null,
   "id": "42631e51",
   "metadata": {
    "ExecuteTime": {
     "end_time": "2022-03-28T16:38:31.416640Z",
     "start_time": "2022-03-28T16:38:31.412930Z"
    }
   },
   "outputs": [],
   "source": [
    "Map8.addLayer(landcover_QM_8b,{}, 'Land cover RF-QM 8 bandas' )\n",
    "Map8.addLayer(landcover_MED_8b,{}, 'Land cover RF-Mediana 8 bandas')"
   ]
  },
  {
   "cell_type": "code",
   "execution_count": null,
   "id": "99dde860",
   "metadata": {
    "ExecuteTime": {
     "end_time": "2022-03-28T16:38:31.417443Z",
     "start_time": "2022-03-28T16:38:31.417435Z"
    }
   },
   "outputs": [],
   "source": [
    "legend_dict = {\n",
    "    '01 Hielo': 'd1fbff',\n",
    "    '02 lengua glaciar': 'bfdadd',\n",
    "    '03 glaciar cubierto': 'b9bfbf',\n",
    "    '04 nieve': 'fe40fe',\n",
    "    '05 fiordo glaciar': '8ac1ff',\n",
    "    '06 mar': '0c407b',\n",
    "    '07 lago continental': '2e8da0',\n",
    "    '08 lago glaciar': '16b2d1',\n",
    "    '09 río': '27e1d8',\n",
    "    '10 suelo desnudo': 'eeb514',\n",
    "    '11 cárcavas erosión': '927012',\n",
    "    '12 suelo río': 'e98c0f',\n",
    "    '13 suelo duna/arenal': 'f7e8bd',\n",
    "    '14 caminos': '5b5b5b',\n",
    "    '15 suelo denudo': 'e57104',\n",
    "    '16 tuberas / musgos': '5d1412',\n",
    "    '17 mallín': '5d1412',\n",
    "    '19 áreas inundables':'161163', \n",
    "    '20 plantación adulto': 'fff300',\n",
    "    '23 ciudad urbano': 'ff0000',\n",
    "    '28 frutales':'d4e794',\n",
    "    '30 praderas pastoreo':'dee842', \n",
    "    '31 estepa abierta': 'ced118',\n",
    "    '32 estepa cerrada': '7a7c0f',\n",
    "    '33 palizales': 'c39700',\n",
    "    '34 preaderas': 'a1ff8a',\n",
    "    '35 matorrales densos': '138665',\n",
    "    '36 matorrales abiertos': '1bbd8e',\n",
    "    '39 primario adulto': '195a09',\n",
    "    '40 secundario adulto': '27c41d',\n",
    "    '43 renoval inicial': 'b2ff00',\n",
    "    '45 degradado': 'f36605',\n",
    "    '47 Primario adulto caduco':'7729db',\n",
    "    '48 Secundario adulto caduco': '9e60ec',\n",
    "    '56 sombra': '000000',\n",
    "    '57 Mixto Primario': '7000ff', \n",
    "    '58 Mixto secundario':'c598ff',\n",
    "    '60 Coníferas nativas': '00ff87',\n",
    "}\n",
    "Map8.add_legend(legend_title=\"Random Forest Test\", legend_dict=legend_dict)\n",
    "Map8"
   ]
  },
  {
   "cell_type": "code",
   "execution_count": null,
   "id": "35a6b800",
   "metadata": {
    "ExecuteTime": {
     "end_time": "2022-03-28T16:38:31.421926Z",
     "start_time": "2022-03-28T16:38:31.418373Z"
    }
   },
   "outputs": [],
   "source": [
    "comp2= [landcover_QM_8b,landcover_MED_8b]\n",
    "labels = [\n",
    "    'Landcover QM',\n",
    "    'Landcover Med']\n",
    "vis_params4=  [\n",
    "     {}, \n",
    "     {}]"
   ]
  },
  {
   "cell_type": "code",
   "execution_count": null,
   "id": "ebe16ca9",
   "metadata": {
    "ExecuteTime": {
     "end_time": "2022-03-28T16:38:31.422746Z",
     "start_time": "2022-03-28T16:38:31.422738Z"
    }
   },
   "outputs": [],
   "source": [
    "geemap.linked_maps(rows=1, cols=2, height=\"900px\", center=[-45, -75], zoom=4, \n",
    "                   ee_objects=comp2, vis_params=vis_params4, labels=labels, label_position=\"topright\")"
   ]
  },
  {
   "cell_type": "code",
   "execution_count": null,
   "id": "c7b25c13",
   "metadata": {
    "ExecuteTime": {
     "end_time": "2022-03-28T16:38:31.428866Z",
     "start_time": "2022-03-28T16:38:31.425366Z"
    }
   },
   "outputs": [],
   "source": [
    "explained_QM_8b = ee.Classifier.explain(classifier_QM_8b)\n",
    "explained_QM_8b.getInfo()"
   ]
  },
  {
   "cell_type": "code",
   "execution_count": null,
   "id": "89fd8dab",
   "metadata": {
    "ExecuteTime": {
     "end_time": "2022-03-28T16:38:31.429649Z",
     "start_time": "2022-03-28T16:38:31.429641Z"
    }
   },
   "outputs": [],
   "source": [
    "explained_MED_8b = ee.Classifier.explain(classifier_MED_8b)\n",
    "explained_MED_8b.getInfo()"
   ]
  },
  {
   "cell_type": "markdown",
   "id": "bc26a220",
   "metadata": {},
   "source": [
    "### Bandas Paper"
   ]
  },
  {
   "cell_type": "code",
   "execution_count": null,
   "id": "9f1dd06c",
   "metadata": {
    "ExecuteTime": {
     "end_time": "2022-03-28T16:38:31.610294Z",
     "start_time": "2022-03-28T16:38:31.605961Z"
    }
   },
   "outputs": [],
   "source": [
    "img_bandas_totales = img_final.addBands([dem_data,img5_winter_EVI,img5_winter_NDVI,texturas_NDVI,texturas_EVI])\n",
    "img_bandas_totales_M = img_final_m.addBands([dem_data,img5_winter_EVI,img5_winter_NDVI,texturas_NDVI,texturas_EVI])"
   ]
  },
  {
   "cell_type": "code",
   "execution_count": null,
   "id": "7dfa0dea",
   "metadata": {
    "ExecuteTime": {
     "end_time": "2022-03-28T16:38:31.611110Z",
     "start_time": "2022-03-28T16:38:31.611102Z"
    }
   },
   "outputs": [],
   "source": [
    "img_bandas_totales.bandNames().getInfo()"
   ]
  },
  {
   "cell_type": "code",
   "execution_count": null,
   "id": "3ac1b294",
   "metadata": {
    "ExecuteTime": {
     "end_time": "2022-03-28T16:38:31.615292Z",
     "start_time": "2022-03-28T16:38:31.612255Z"
    }
   },
   "outputs": [],
   "source": [
    "bandsT = ['B1',\n",
    " 'B2',\n",
    " 'B3',\n",
    " 'B4',\n",
    " 'B5',\n",
    " 'B6',\n",
    " 'B7',\n",
    " 'NDVI',\n",
    " 'NDWI',\n",
    " 'NDGI',\n",
    " 'SAVI',\n",
    " 'NDSI',\n",
    " 'EVI',\n",
    " 'brightness',\n",
    " 'greenness',\n",
    " 'wetness',\n",
    " 'fourth',\n",
    " 'fifth',\n",
    " 'sixth',\n",
    " 'elevation',\n",
    " 'slope',\n",
    " 'aspect',\n",
    " 'NDVI_winter',\n",
    " 'EVI_winter',\n",
    " 'NDVI_savg',\n",
    " 'NDVI_var',\n",
    " 'NDVI_contrast',\n",
    " 'NDVI_diss',\n",
    " 'NDVI_ent',\n",
    " 'NDVI_asm',\n",
    " 'NDVI_corr',\n",
    " 'EVI_savg',\n",
    " 'EVI_var',\n",
    " 'EVI_contrast',\n",
    " 'EVI_diss',\n",
    " 'EVI_ent',\n",
    " 'EVI_asm',\n",
    " 'EVI_corr'        \n",
    "]"
   ]
  },
  {
   "cell_type": "code",
   "execution_count": null,
   "id": "e2b60e0d",
   "metadata": {
    "ExecuteTime": {
     "end_time": "2022-03-28T16:38:31.619865Z",
     "start_time": "2022-03-28T16:38:31.616210Z"
    }
   },
   "outputs": [],
   "source": [
    "data_QM_T = img_bandas_totales.sampleRegions(**{\n",
    "    'collection': test1,\n",
    "    'properties': ['C_ID'],\n",
    "    'scale': 30,\n",
    "    'tileScale': 2,\n",
    "})"
   ]
  },
  {
   "cell_type": "code",
   "execution_count": null,
   "id": "13d99f1f",
   "metadata": {
    "ExecuteTime": {
     "end_time": "2022-03-28T16:38:31.620700Z",
     "start_time": "2022-03-28T16:38:31.620691Z"
    }
   },
   "outputs": [],
   "source": [
    "data_Med_T = img_bandas_totales_M.sampleRegions(**{\n",
    "    'collection': test1,\n",
    "    'properties': ['C_ID'],\n",
    "    'scale': 30,\n",
    "    'tileScale': 2,\n",
    "})"
   ]
  },
  {
   "cell_type": "code",
   "execution_count": null,
   "id": "ea540303",
   "metadata": {
    "ExecuteTime": {
     "end_time": "2022-03-28T16:38:31.625876Z",
     "start_time": "2022-03-28T16:38:31.621733Z"
    }
   },
   "outputs": [],
   "source": [
    "classifier_QM_T = ee.Classifier.smileRandomForest(100).train(data_QM_T,label_train,bandsT)\n",
    "classifier_MED_T = ee.Classifier.smileRandomForest(100).train(data_Med_T,label_train,bandsT)"
   ]
  },
  {
   "cell_type": "code",
   "execution_count": null,
   "id": "003ad950",
   "metadata": {
    "ExecuteTime": {
     "end_time": "2022-03-28T16:38:31.626700Z",
     "start_time": "2022-03-28T16:38:31.626691Z"
    }
   },
   "outputs": [],
   "source": [
    "result_QM_T = img_bandas_totales.select(bandsT).classify(classifier_QM_T)\n",
    "result_MED_T = img_bandas_totales_M.select(bandsT).classify(classifier_MED_T)"
   ]
  },
  {
   "cell_type": "code",
   "execution_count": null,
   "id": "169df8a9",
   "metadata": {
    "ExecuteTime": {
     "end_time": "2022-03-28T16:38:31.631906Z",
     "start_time": "2022-03-28T16:38:31.628377Z"
    }
   },
   "outputs": [],
   "source": [
    "landcover_QM_T = result_QM_T.set('classification_class_values', class_values2)\n",
    "landcover_QM_T = landcover_QM_T.set('classification_class_palette',class_palette2)"
   ]
  },
  {
   "cell_type": "code",
   "execution_count": null,
   "id": "32f13b18",
   "metadata": {
    "ExecuteTime": {
     "end_time": "2022-03-28T16:38:31.632753Z",
     "start_time": "2022-03-28T16:38:31.632745Z"
    }
   },
   "outputs": [],
   "source": [
    "landcover_Med_T = result_MED_T.set('classification_class_values', class_values2)\n",
    "landcover_Med_T = landcover_Med_T.set('classification_class_palette',class_palette2)"
   ]
  },
  {
   "cell_type": "code",
   "execution_count": null,
   "id": "b0bfa564",
   "metadata": {
    "ExecuteTime": {
     "end_time": "2022-03-28T16:38:31.638840Z",
     "start_time": "2022-03-28T16:38:31.635528Z"
    }
   },
   "outputs": [],
   "source": [
    "Map7.addLayer(landcover_QM_T,{}, 'Land cover RF-QM paper' )\n",
    "Map7.addLayer(landcover_Med_T,{}, 'Land cover RF-Mediana paper')"
   ]
  },
  {
   "cell_type": "code",
   "execution_count": null,
   "id": "dca6e469",
   "metadata": {
    "ExecuteTime": {
     "end_time": "2022-03-28T16:38:31.639730Z",
     "start_time": "2022-03-28T16:38:31.639722Z"
    }
   },
   "outputs": [],
   "source": [
    "legend_dict = {\n",
    "    '01 Hielo': 'd1fbff',\n",
    "    '02 lengua glaciar': 'bfdadd',\n",
    "    '03 glaciar cubierto': 'b9bfbf',\n",
    "    '04 nieve': 'fe40fe',\n",
    "    '05 fiordo glaciar': '8ac1ff',\n",
    "    '06 mar': '0c407b',\n",
    "    '07 lago continental': '2e8da0',\n",
    "    '08 lago glaciar': '16b2d1',\n",
    "    '09 río': '27e1d8',\n",
    "    '10 suelo desnudo': 'eeb514',\n",
    "    '11 cárcavas erosión': '927012',\n",
    "    '12 suelo río': 'e98c0f',\n",
    "    '13 suelo duna/arenal': 'f7e8bd',\n",
    "    '14 caminos': '5b5b5b',\n",
    "    '15 suelo denudo': 'e57104',\n",
    "    '16 tuberas / musgos': '5d1412',\n",
    "    '17 mallín': '5d1412',\n",
    "    '19 áreas inundables':'161163', \n",
    "    '20 plantación adulto': 'fff300',\n",
    "    '23 ciudad urbano': 'ff0000',\n",
    "    '28 frutales':'d4e794',\n",
    "    '30 praderas pastoreo':'dee842', \n",
    "    '31 estepa abierta': 'ced118',\n",
    "    '32 estepa cerrada': '7a7c0f',\n",
    "    '33 palizales': 'c39700',\n",
    "    '34 preaderas': 'a1ff8a',\n",
    "    '35 matorrales densos': '138665',\n",
    "    '36 matorrales abiertos': '1bbd8e',\n",
    "    '39 primario adulto': '195a09',\n",
    "    '40 secundario adulto': '27c41d',\n",
    "    '43 renoval inicial': 'b2ff00',\n",
    "    '45 degradado': 'f36605',\n",
    "    '47 Primario adulto caduco':'7729db',\n",
    "    '48 Secundario adulto caduco': '9e60ec',\n",
    "    '56 sombra': '000000',\n",
    "    '57 Mixto Primario': '7000ff', \n",
    "    '58 Mixto secundario':'c598ff',\n",
    "    '60 Coníferas nativas': '00ff87',\n",
    "}\n",
    "Map7.add_legend(legend_title=\"Random Forest Test\", legend_dict=legend_dict)\n",
    "Map7"
   ]
  },
  {
   "cell_type": "code",
   "execution_count": null,
   "id": "3a53302f",
   "metadata": {
    "ExecuteTime": {
     "end_time": "2022-03-28T16:38:31.644160Z",
     "start_time": "2022-03-28T16:38:31.640640Z"
    }
   },
   "outputs": [],
   "source": [
    "compT= [landcover_QM_T,landcover_Med_T]\n",
    "labels = [\n",
    "    'Landcover QM',\n",
    "    'Landcover Med']\n",
    "vis_params4=  [\n",
    "     {}, \n",
    "     {}]"
   ]
  },
  {
   "cell_type": "code",
   "execution_count": null,
   "id": "518378b0",
   "metadata": {
    "ExecuteTime": {
     "end_time": "2022-03-28T16:38:31.644892Z",
     "start_time": "2022-03-28T16:38:31.644885Z"
    }
   },
   "outputs": [],
   "source": [
    "geemap.linked_maps(rows=1, cols=2, height=\"900px\", center=[-45, -75], zoom=4, \n",
    "                   ee_objects=compT, vis_params=vis_params4, labels=labels, label_position=\"topright\")"
   ]
  },
  {
   "cell_type": "code",
   "execution_count": null,
   "id": "164975d4",
   "metadata": {
    "ExecuteTime": {
     "end_time": "2022-03-28T16:38:31.651124Z",
     "start_time": "2022-03-28T16:38:31.647694Z"
    }
   },
   "outputs": [],
   "source": [
    "explained_QM_T = ee.Classifier.explain(classifier_QM_T)\n",
    "explained_QM_T.getInfo()"
   ]
  },
  {
   "cell_type": "code",
   "execution_count": null,
   "id": "ead3076c",
   "metadata": {
    "ExecuteTime": {
     "end_time": "2022-03-28T16:38:31.651927Z",
     "start_time": "2022-03-28T16:38:31.651919Z"
    }
   },
   "outputs": [],
   "source": [
    "explained_Med_T = ee.Classifier.explain(classifier_MED_T)\n",
    "explained_Med_T.getInfo()"
   ]
  },
  {
   "cell_type": "markdown",
   "id": "50ccc3fd",
   "metadata": {},
   "source": [
    "## Comparación"
   ]
  },
  {
   "cell_type": "code",
   "execution_count": null,
   "id": "2e3d6d69",
   "metadata": {
    "ExecuteTime": {
     "end_time": "2022-03-28T16:38:31.846575Z",
     "start_time": "2022-03-28T16:38:31.842293Z"
    }
   },
   "outputs": [],
   "source": [
    "mapas = [landcover_QM_8b,landcover_MED_8b,landcover_QM_T,landcover_Med_T]\n",
    "labels = [\n",
    "    'Landcover QM 8B',\n",
    "    'Landcover Med 8B',\n",
    "    'Landcover QM T',\n",
    "    'Landcover Med T']\n",
    "vis_params4=  [\n",
    "    {}, \n",
    "    {},\n",
    "    {}, \n",
    "    {}\n",
    "]\n",
    "## comparación de mapas"
   ]
  },
  {
   "cell_type": "code",
   "execution_count": null,
   "id": "099eaa39",
   "metadata": {
    "ExecuteTime": {
     "end_time": "2022-03-28T16:38:31.847459Z",
     "start_time": "2022-03-28T16:38:31.847451Z"
    },
    "scrolled": false
   },
   "outputs": [],
   "source": [
    "geemap.linked_maps(rows=2, cols=2, height=\"600px\", center=[-45, -75], zoom=4, \n",
    "                   ee_objects=mapas, vis_params=vis_params4, labels=labels, label_position=\"topright\")"
   ]
  },
  {
   "cell_type": "markdown",
   "id": "d8e0a35c",
   "metadata": {},
   "source": [
    "## Map de probabilidad"
   ]
  },
  {
   "cell_type": "code",
   "execution_count": null,
   "id": "d2054477",
   "metadata": {
    "ExecuteTime": {
     "end_time": "2022-03-28T16:38:32.041598Z",
     "start_time": "2022-03-28T16:38:32.038672Z"
    }
   },
   "outputs": [],
   "source": [
    "# Guardamos las bandas\n",
    "\n",
    "# Esta propiedad guarda las clases de landcover\n",
    "# label = 'b1'\n",
    "label = 'IDH'\n",
    "label1 = 'ID'\n",
    "label_train ='C_ID'\n",
    "# Overlay the points on the imagery to get training.\n",
    "# sample = landsat.select(bands).sampleRegions(**{\n",
    "#   'collection': points,\n",
    "#   'properties': [label],\n",
    "#   'scale': 30\n",
    "# })\n",
    "\n",
    "# # Adds a column of deterministic pseudorandom numbers. \n",
    "# sample = sample.randomColumn()\n",
    "\n",
    "# split = 0.7 \n",
    "\n",
    "# training = sample.filter(ee.Filter.lt('random', split))\n",
    "# validation = sample.filter(ee.Filter.gte('random', split))\n",
    "bands = ['B1',\n",
    " 'B2',\n",
    " 'B3',\n",
    " 'B4',\n",
    " 'B5',\n",
    " 'B6',\n",
    " 'B7',\n",
    " 'NDVI',\n",
    " 'NDWI',\n",
    " 'NDGI',\n",
    " 'SAVI',\n",
    " 'NDSI',\n",
    " 'EVI',\n",
    " 'brightness',\n",
    " 'greenness',\n",
    " 'wetness',\n",
    " 'fourth',\n",
    " 'fifth',\n",
    " 'sixth'\n",
    "]\n",
    "bands2 = ['B1',\n",
    " 'B2',\n",
    " 'B3',\n",
    " 'B4',\n",
    " 'B5',\n",
    " 'B6',\n",
    " 'B7',\n",
    " 'NDVI',\n",
    " 'NDWI',\n",
    " 'NDGI',\n",
    " 'SAVI',\n",
    " 'NDSI',\n",
    "]\n",
    "bands1 = ['B1',\n",
    " 'B2',\n",
    " 'B3',\n",
    " 'B4',\n",
    " 'B5',\n",
    " 'B6',\n",
    " 'B7',\n",
    " 'B8',\n",
    " 'B9',\n",
    " 'B10',\n",
    " 'B11']"
   ]
  },
  {
   "cell_type": "code",
   "execution_count": null,
   "id": "f42b7bf8",
   "metadata": {},
   "outputs": [],
   "source": []
  },
  {
   "cell_type": "code",
   "execution_count": null,
   "id": "54a55396",
   "metadata": {
    "ExecuteTime": {
     "end_time": "2022-03-28T16:38:32.047963Z",
     "start_time": "2022-03-28T16:38:32.044160Z"
    }
   },
   "outputs": [],
   "source": [
    "classifier_QM_P = ee.Classifier.smileRandomForest(100).setOutputMode('MULTIPROBABILITY').train(data_QM,label_train,bands)"
   ]
  },
  {
   "cell_type": "code",
   "execution_count": null,
   "id": "7b18f6fc",
   "metadata": {
    "ExecuteTime": {
     "end_time": "2022-03-28T16:38:32.048882Z",
     "start_time": "2022-03-28T16:38:32.048874Z"
    }
   },
   "outputs": [],
   "source": [
    "prob= img_final.select(bands).classify(classifier_QM_P).multiply(100)"
   ]
  },
  {
   "cell_type": "code",
   "execution_count": null,
   "id": "0fb392cd",
   "metadata": {
    "ExecuteTime": {
     "end_time": "2022-03-28T16:38:32.054763Z",
     "start_time": "2022-03-28T16:38:32.051662Z"
    }
   },
   "outputs": [],
   "source": [
    "Map16.addLayer(prob)\n",
    "Map16"
   ]
  }
 ],
 "metadata": {
  "kernelspec": {
   "display_name": "Python 3 (ipykernel)",
   "language": "python",
   "name": "python3"
  },
  "language_info": {
   "codemirror_mode": {
    "name": "ipython",
    "version": 3
   },
   "file_extension": ".py",
   "mimetype": "text/x-python",
   "name": "python",
   "nbconvert_exporter": "python",
   "pygments_lexer": "ipython3",
   "version": "3.8.12"
  },
  "toc": {
   "base_numbering": 1,
   "nav_menu": {},
   "number_sections": true,
   "sideBar": true,
   "skip_h1_title": false,
   "title_cell": "Table of Contents",
   "title_sidebar": "Contents",
   "toc_cell": false,
   "toc_position": {
    "height": "calc(100% - 180px)",
    "left": "10px",
    "top": "150px",
    "width": "384px"
   },
   "toc_section_display": true,
   "toc_window_display": true
  },
  "varInspector": {
   "cols": {
    "lenName": 16,
    "lenType": 16,
    "lenVar": 40
   },
   "kernels_config": {
    "python": {
     "delete_cmd_postfix": "",
     "delete_cmd_prefix": "del ",
     "library": "var_list.py",
     "varRefreshCmd": "print(var_dic_list())"
    },
    "r": {
     "delete_cmd_postfix": ") ",
     "delete_cmd_prefix": "rm(",
     "library": "var_list.r",
     "varRefreshCmd": "cat(var_dic_list()) "
    }
   },
   "types_to_exclude": [
    "module",
    "function",
    "builtin_function_or_method",
    "instance",
    "_Feature"
   ],
   "window_display": false
  }
 },
 "nbformat": 4,
 "nbformat_minor": 5
}
