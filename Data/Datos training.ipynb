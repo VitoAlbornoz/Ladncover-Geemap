{
 "cells": [
  {
   "cell_type": "code",
   "execution_count": 1,
   "id": "6a9abd0e",
   "metadata": {
    "ExecuteTime": {
     "end_time": "2022-08-24T17:43:04.917954Z",
     "start_time": "2022-08-24T17:43:04.016417Z"
    }
   },
   "outputs": [],
   "source": [
    "# Libraries to help with reading and manipulating data\n",
    "\n",
    "import pandas as pd\n",
    "\n",
    "import numpy as np\n",
    "\n",
    "import matplotlib.pyplot as plt\n",
    "\n",
    "# Libraries to help with data visualization\n",
    "\n",
    "import seaborn as sns\n",
    "\n",
    "import matplotlib.pyplot as plt\n",
    "%matplotlib inline\n",
    "\n",
    "# Library to extract datetime features\n",
    "import datetime as dt"
   ]
  },
  {
   "cell_type": "code",
   "execution_count": 2,
   "id": "a76fd408",
   "metadata": {
    "ExecuteTime": {
     "end_time": "2022-08-24T17:43:06.937244Z",
     "start_time": "2022-08-24T17:43:04.919744Z"
    }
   },
   "outputs": [
    {
     "name": "stdout",
     "output_type": "stream",
     "text": [
      "Requirement already satisfied: openpyxl in /home/paysen/anaconda3/envs/gee/lib/python3.8/site-packages (3.0.10)\r\n",
      "Requirement already satisfied: et-xmlfile in /home/paysen/anaconda3/envs/gee/lib/python3.8/site-packages (from openpyxl) (1.1.0)\r\n"
     ]
    }
   ],
   "source": [
    "# !pip install openpyxl"
   ]
  },
  {
   "cell_type": "code",
   "execution_count": 3,
   "id": "cadd002a",
   "metadata": {
    "ExecuteTime": {
     "end_time": "2022-08-24T17:43:07.687544Z",
     "start_time": "2022-08-24T17:43:06.939307Z"
    }
   },
   "outputs": [],
   "source": [
    "data = pd.read_excel('BD_training_v1.xlsx')\n",
    "df = data.copy()"
   ]
  },
  {
   "cell_type": "code",
   "execution_count": 4,
   "id": "047284ae",
   "metadata": {
    "ExecuteTime": {
     "end_time": "2022-08-24T17:45:51.018641Z",
     "start_time": "2022-08-24T17:45:51.012069Z"
    }
   },
   "outputs": [
    {
     "name": "stdout",
     "output_type": "stream",
     "text": [
      "9     141\n",
      "39     74\n",
      "10     70\n",
      "48     69\n",
      "13     59\n",
      "5      57\n",
      "12     53\n",
      "20     49\n",
      "7      46\n",
      "49     43\n",
      "35     40\n",
      "31     37\n",
      "16     37\n",
      "2      36\n",
      "40     34\n",
      "6      34\n",
      "47     32\n",
      "32     31\n",
      "8      30\n",
      "34     28\n",
      "4      27\n",
      "33     22\n",
      "60     19\n",
      "36     17\n",
      "1      16\n",
      "15     14\n",
      "3      14\n",
      "30     12\n",
      "23      6\n",
      "Name: C_ID, dtype: int64\n",
      "--------------------------------------------------\n"
     ]
    }
   ],
   "source": [
    "\n",
    "\n",
    "# Making a list of all categorical variables  \n",
    "cat_col = ['C_ID']\n",
    "\n",
    "# Printing number of count of each unique value in each column\n",
    "\n",
    "for column in cat_col:\n",
    "    print(df[column].value_counts())\n",
    "    \n",
    "    print('-' * 50)\n",
    "\n"
   ]
  },
  {
   "cell_type": "code",
   "execution_count": null,
   "id": "d86c54a6",
   "metadata": {},
   "outputs": [],
   "source": []
  }
 ],
 "metadata": {
  "kernelspec": {
   "display_name": "Python 3 (ipykernel)",
   "language": "python",
   "name": "python3"
  },
  "language_info": {
   "codemirror_mode": {
    "name": "ipython",
    "version": 3
   },
   "file_extension": ".py",
   "mimetype": "text/x-python",
   "name": "python",
   "nbconvert_exporter": "python",
   "pygments_lexer": "ipython3",
   "version": "3.8.13"
  },
  "toc": {
   "base_numbering": 1,
   "nav_menu": {},
   "number_sections": true,
   "sideBar": true,
   "skip_h1_title": false,
   "title_cell": "Table of Contents",
   "title_sidebar": "Contents",
   "toc_cell": false,
   "toc_position": {},
   "toc_section_display": true,
   "toc_window_display": false
  },
  "varInspector": {
   "cols": {
    "lenName": 16,
    "lenType": 16,
    "lenVar": 40
   },
   "kernels_config": {
    "python": {
     "delete_cmd_postfix": "",
     "delete_cmd_prefix": "del ",
     "library": "var_list.py",
     "varRefreshCmd": "print(var_dic_list())"
    },
    "r": {
     "delete_cmd_postfix": ") ",
     "delete_cmd_prefix": "rm(",
     "library": "var_list.r",
     "varRefreshCmd": "cat(var_dic_list()) "
    }
   },
   "types_to_exclude": [
    "module",
    "function",
    "builtin_function_or_method",
    "instance",
    "_Feature"
   ],
   "window_display": false
  }
 },
 "nbformat": 4,
 "nbformat_minor": 5
}
